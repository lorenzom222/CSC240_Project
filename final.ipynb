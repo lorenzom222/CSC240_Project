{
 "cells": [
  {
   "cell_type": "code",
   "execution_count": 42,
   "metadata": {},
   "outputs": [],
   "source": [
    "import pandas as pd\n",
    "import numpy as np\n",
    "import matplotlib.pyplot as plt\n",
    "\n",
    "from sklearn.cluster import KMeans\n",
    "from sklearn.mixture import GaussianMixture\n",
    "from sklearn.preprocessing import StandardScaler\n",
    "from sklearn.exceptions import ConvergenceWarning\n",
    "\n",
    "\n",
    "from plotly.subplots import make_subplots\n",
    "import plotly.graph_objs as go\n",
    "import plotly.express as px\n",
    "\n",
    "import warnings\n",
    "\n",
    "import seaborn as sns\n",
    "\n",
    "\n"
   ]
  },
  {
   "cell_type": "code",
   "execution_count": 43,
   "metadata": {},
   "outputs": [],
   "source": [
    "data_t = pd.read_csv('prison_2010.txt', delimiter='\\t', skiprows=2)\n",
    "data_t = data_t.drop(range(53,58))\n",
    "\n",
    "for col in data_t.columns:\n",
    "   if not (data_t[col].apply(lambda x: isinstance(x, str))).all():\n",
    "       continue\n",
    "   \n",
    "   if (data_t[col].apply(lambda x: isinstance(x, str)).all() & data_t[col].str.contains(',')).any():\n",
    "        try:\n",
    "            data_t[col] = data_t[col].replace('[\\$,]', '', regex=True).astype(float)\n",
    "        except AttributeError as err:\n",
    "            print([col])\n",
    "            break   \n",
    "data_t = data_t.iloc[1:, :]"
   ]
  },
  {
   "cell_type": "code",
   "execution_count": 44,
   "metadata": {},
   "outputs": [],
   "source": [
    "def processData(data, flag=False):\n",
    "    df = data.iloc[:, 2:]\n",
    "    # Create a boolean mask of NaN values\n",
    "    nan_mask = df.isnull()\n",
    "\n",
    "    # Check for any NaN values in each row\n",
    "    nan_in_row = nan_mask.any(axis=1)\n",
    "\n",
    "    # Check for any NaN values in each column\n",
    "    nan_in_col = nan_mask.any(axis=0)\n",
    "    rows_with_nans = df[nan_in_row]\n",
    "    cols_with_nans = df.loc[:, nan_in_col]\n",
    "    if flag:\n",
    "        print(\"Features Containing NaN:\", cols_with_nans)\n",
    "    \n",
    "    # Drop columns with NaN values and filter out columns containing \"Population\"\n",
    "    # df = df.drop(columns=cols_with_nans).filter(regex='^(?!.*(Population)).*')\n",
    "    df = df.drop(columns=cols_with_nans)\n",
    "\n",
    "\n",
    "\n",
    "    # Add Percentages to DataFrame\n",
    "    percent_men = getPercentage(df)[0]\n",
    "    percent_women= getPercentage(df)[1]\n",
    "    percent_both= getPercentage(df)[2]\n",
    "    \n",
    "    df = pd.concat([df, percent_men, percent_women, percent_both], axis=1)\n",
    "    \n",
    "    # Standardize the numerical features\n",
    "    num_cols = df.select_dtypes(include=['int64', 'float64']).columns\n",
    "    scaler = StandardScaler()\n",
    "    df_std = pd.DataFrame(scaler.fit_transform(df[num_cols]), columns=num_cols, index=df.index)\n",
    "    df[df_std.columns] = df_std\n",
    "\n",
    "    \n",
    "    return df\n",
    "\n",
    "def getX(df):\n",
    "       X = df.iloc[:, 2:]\n",
    "       return X\n",
    "\n",
    "def runKmeans(data, X, n):\n",
    "    kmeans = KMeans(n_clusters=n, init = 'k-means++', n_init=10)\n",
    "    kmeans.fit(X)\n",
    "    cluster_data = data.copy() \n",
    "    cluster_data['Cluster'] = kmeans.labels_\n",
    "    return cluster_data\n",
    "\n",
    "def runGaussian(data, X, n):\n",
    "    X = X.filter(regex='^(?!.*(Total)).*')\n",
    "    cluster_data = data.copy()\n",
    "\n",
    "    # Fit a Gaussian Mixture Model with 4 clusters\n",
    "    gmm = GaussianMixture(n_components=n)\n",
    "    gmm.fit(X)\n",
    "\n",
    "    # Get cluster predictions for each row\n",
    "    clusters = gmm.predict(X)\n",
    "\n",
    "    # Get probability scores for each row\n",
    "    probs = gmm.predict_proba(X)\n",
    "\n",
    "    # Add cluster and probability columns to original dataframe\n",
    "    cluster_data['Cluster'] = clusters\n",
    "    cluster_data['Probability'] = probs.max(axis=1)\n",
    "\n",
    "    # Print the\n",
    "    return cluster_data\n",
    "\n",
    "\n",
    "def createBarChart(cluster_data, x_axis=\"Geography\", y_axis=\"empty\"): \n",
    "    fig = px.bar(cluster_data, x=x_axis, y=y_axis, color='Cluster')\n",
    "    fig.show()\n",
    "\n",
    "def stateClusterGraph(cluster_data):\n",
    "    state_abbreviations = {\n",
    "    'Alabama': 'AL',\n",
    "    'Alaska': 'AK',\n",
    "    'Arizona': 'AZ',\n",
    "    'Arkansas': 'AR',\n",
    "    'California': 'CA',\n",
    "    'Colorado': 'CO',\n",
    "    'Connecticut': 'CT',\n",
    "    'Delaware': 'DE',\n",
    "    'Florida': 'FL',\n",
    "    'Georgia': 'GA',\n",
    "    'Hawaii': 'HI',\n",
    "    'Idaho': 'ID',\n",
    "    'Illinois': 'IL',\n",
    "    'Indiana': 'IN',\n",
    "    'Iowa': 'IA',\n",
    "    'Kansas': 'KS',\n",
    "    'Kentucky': 'KY',\n",
    "    'Louisiana': 'LA',\n",
    "    'Maine': 'ME',\n",
    "    'Maryland': 'MD',\n",
    "    'Massachusetts': 'MA',\n",
    "    'Michigan': 'MI',\n",
    "    'Minnesota': 'MN',\n",
    "    'Mississippi': 'MS',\n",
    "    'Missouri': 'MO',\n",
    "    'Montana': 'MT',\n",
    "    'Nebraska': 'NE',\n",
    "    'Nevada': 'NV',\n",
    "    'New Hampshire': 'NH',\n",
    "    'New Jersey': 'NJ',\n",
    "    'New Mexico': 'NM',\n",
    "    'New York': 'NY',\n",
    "    'North Carolina': 'NC',\n",
    "    'North Dakota': 'ND',\n",
    "    'Ohio': 'OH',\n",
    "    'Oklahoma': 'OK',\n",
    "    'Oregon': 'OR',\n",
    "    'Pennsylvania': 'PA',\n",
    "    'Rhode Island': 'RI',\n",
    "    'South Carolina': 'SC',\n",
    "    'South Dakota': 'SD',\n",
    "    'Tennessee': 'TN',\n",
    "    'Texas': 'TX',\n",
    "    'Utah': 'UT',\n",
    "    'Vermont': 'VT',\n",
    "    'Virginia': 'VA',\n",
    "    'Washington': 'WA',\n",
    "    'West Virginia': 'WV',\n",
    "    'Wisconsin': 'WI',\n",
    "    'Wyoming': 'WY'\n",
    "    }\n",
    "    cluster_data['State Abbreviation'] = cluster_data['Geography'].map(state_abbreviations)\n",
    "\n",
    "\n",
    "    # Create a choropleth map\n",
    "    fig = px.choropleth(cluster_data, locations='State Abbreviation', locationmode='USA-states', color='Cluster', scope='usa', title='Clusters by State')\n",
    "\n",
    "    # fig.show()\n",
    "    return fig\n",
    "\n",
    "\n",
    "def elbow_method(df, n):\n",
    "    # Create a new DataFrame with only the columns you want to use for clustering\n",
    "    X = df.iloc[:,1:6]\n",
    "\n",
    "    # Perform K-means clustering for different values of K\n",
    "    inertias = []\n",
    "    for k in range(1, n):\n",
    "        kmeans = KMeans(n_clusters=k, init = 'k-means++' , random_state=42, n_init=10).fit(X)\n",
    "        inertia = kmeans.inertia_\n",
    "        inertias.append(inertia)\n",
    "\n",
    "    # Plot the elbow curve to choose the optimal value of K\n",
    "    plt.plot(range(1, n), inertias, 'bx-')\n",
    "    plt.xlabel('Number of clusters (K)')\n",
    "    plt.ylabel('Inertia')\n",
    "    plt.title('Elbow Method For Optimal K')\n",
    "    plt.show()\n",
    "\n",
    "    # create dataframe for elbow plot data\n",
    "    elbow_data = pd.DataFrame({\n",
    "        'K': range(1, n),\n",
    "        'Inertia': inertias\n",
    "    })\n",
    "    elbow_data = elbow_data.set_index('K')\n",
    "\n",
    "    # print(elbow_data)\n",
    "\n",
    "    # Calculate the slope and second derivative of the inertia curve\n",
    "    slopes = [inertias[i+1] - inertias[i] for i in range(len(inertias)-1)]\n",
    "    second_derivatives = [slopes[i+1] - slopes[i] for i in range(len(slopes)-1)]\n",
    "\n",
    "    # Find the index of the maximum second derivative\n",
    "    max_index = second_derivatives.index(max(second_derivatives))\n",
    "\n",
    "    # The optimal value of K is one more than the index of the maximum second derivative\n",
    "    best_k = max_index + 2\n",
    "    # print(best_k)\n",
    "\n",
    "    # return df, elbow_data, inertias, best_k\n",
    "\n",
    "\n",
    "def correlationMap(df):\n",
    "    # Select only the numeric columns\n",
    "    numeric_columns = df.select_dtypes(include=['int64', 'float64'])\n",
    "    \n",
    "    # Calculate the correlation matrix\n",
    "    corr_matrix = numeric_columns.corr()\n",
    "    \n",
    "    # Set the upper triangle to NaN\n",
    "    corr_matrix = corr_matrix.where(np.tril(np.ones(corr_matrix.shape)).astype(np.bool))\n",
    "    np.fill_diagonal(corr_matrix.values, np.nan)\n",
    "\n",
    "    \n",
    "    # Create a heatmap using seaborn\n",
    "    plt.figure(figsize=(10, 7))\n",
    "    sns.heatmap(corr_matrix, annot=False, cmap='coolwarm')\n",
    "    plt.title('Correlation of Numeric Features')\n",
    "    plt.show()\n",
    "\n",
    "def visualizing_results_2d(df, n):\n",
    "    # Create a new DataFrame with only the columns you want to use for clustering\n",
    "    X = df[['Incarceration rate', 'Female incarceration rate', 'Male incarceration rate']]\n",
    "\n",
    "    # Create a KMeans instance with k = 3\n",
    "    kmeans = KMeans(n_clusters=n, init = 'k-means++', n_init=10)\n",
    "    # Fit the model to the data\n",
    "    kmeans.fit(X)\n",
    "    # Get the cluster assignments for each data point\n",
    "    df['Cluster'] = kmeans.labels_\n",
    "\n",
    "    # Get the cluster centroids\n",
    "    centroids = kmeans.cluster_centers_\n",
    "\n",
    "    # Create an empty figure\n",
    "    fig = make_subplots(rows=3, cols=1, subplot_titles=(\n",
    "        \"IR by FIR\", \"IR by MIR\", \"FIR by MIR\"))\n",
    "\n",
    "    # Add a scatter plot of the data points to the first subplot\n",
    "    fig.add_trace(\n",
    "        go.Scatter(\n",
    "            x=df['Incarceration rate'],\n",
    "            y=df['Female incarceration rate'],\n",
    "            mode='markers',\n",
    "            marker=dict(\n",
    "                color=df['Cluster']\n",
    "            ),\n",
    "            showlegend=False\n",
    "        ),\n",
    "        row=1,\n",
    "        col=1\n",
    "    )\n",
    "\n",
    "    # Add a scatter plot of the centroids to the first subplot\n",
    "    fig.add_trace(\n",
    "        go.Scatter(\n",
    "            x=centroids[:, 1],\n",
    "            y=centroids[:, 0],\n",
    "            mode='markers',\n",
    "            marker=dict(\n",
    "                size=10,\n",
    "                color='red',\n",
    "                symbol='star',\n",
    "                line=dict(\n",
    "                    width=1,\n",
    "                    color='black'\n",
    "                )\n",
    "            ),\n",
    "            name='Centroids'\n",
    "        ),\n",
    "        row=1,\n",
    "        col=1\n",
    "    )\n",
    "\n",
    "    # Add a scatter plot of word_id by counts to the second subplot\n",
    "    fig.add_trace(\n",
    "        go.Scatter(\n",
    "            x=df['Incarceration rate'],\n",
    "            y=df['Male incarceration rate'],\n",
    "            mode='markers',\n",
    "            marker=dict(\n",
    "                color=df['Cluster']\n",
    "            ),\n",
    "            showlegend=False\n",
    "        ),\n",
    "        row=2,\n",
    "        col=1\n",
    "    )\n",
    "\n",
    "    # Add a scatter plot of doc_id by counts to the third subplot\n",
    "    fig.add_trace(\n",
    "        go.Scatter(\n",
    "            x=df['Female incarceration rate'],\n",
    "            y=df['Male incarceration rate'],\n",
    "            mode='markers',\n",
    "            marker=dict(\n",
    "                color=df['Cluster']\n",
    "            ),\n",
    "            showlegend=False\n",
    "        ),\n",
    "        row=3,\n",
    "        col=1\n",
    "    )\n",
    "\n",
    "    # Update the layout of the figure\n",
    "    fig.update_layout(\n",
    "        height=900,\n",
    "        xaxis=dict(\n",
    "            title='Incarceration rate'\n",
    "        ),\n",
    "        xaxis2=dict(\n",
    "            title='Incarceration rate'\n",
    "        ),\n",
    "        xaxis3=dict(\n",
    "            title='Female incarceration rate'\n",
    "        ),\n",
    "        yaxis=dict(\n",
    "            title='Female incarceration rate'\n",
    "        ),\n",
    "        yaxis2=dict(\n",
    "            title='Male incarceration rate'\n",
    "        ),\n",
    "        yaxis3=dict(\n",
    "            title='Male incarceration rate'\n",
    "        ),\n",
    "        title='Clusters'\n",
    "    )\n",
    "\n",
    "    # Show the figure\n",
    "    fig.show()\n",
    "\n",
    "def getCorrectionalPopulation(df):\n",
    "    # Use filter and regex pattern to separate columns into their own dataframes\n",
    "\n",
    "    # filter columns based on gender\n",
    "    male_cols = df.filter(regex='(Total Men|: Men$)').columns.tolist()\n",
    "    female_cols = df.filter(regex='(Total Women|: Women$)').columns.tolist()\n",
    "    both_cols = df.filter(regex='(: In Correctional Facilities for Adults|: in Correctional Facilities for Adults$)').columns.tolist()\n",
    "\n",
    "\n",
    "    df_male = df[male_cols]\n",
    "    df_female = df[female_cols]\n",
    "    df_both = df[both_cols]\n",
    "\n",
    "\n",
    "    drop_men_women = [col for col in df_both.columns if 'Men' in col or 'Women' in col]\n",
    "    df_both = df_both.drop(drop_men_women, axis=1)\n",
    "\n",
    "    return df_male, df_female, df_both\n",
    "\n",
    "def getPercentage(df):\n",
    "    corr_men = getCorrectionalPopulation(df)[0]\n",
    "    corr_women = getCorrectionalPopulation(df)[1]\n",
    "    corr_both = getCorrectionalPopulation(df)[2]\n",
    "    percent_men = corr_men.div(df['Total Population: Male'], axis=0)*100\n",
    "    percent_men.columns = ['Percent ' + col for col in percent_men.columns]\n",
    "\n",
    "    percent_women = corr_women.div(df['Total Population: Female'], axis=0)*100\n",
    "    percent_women.columns = ['Percent ' + col for col in percent_women.columns]\n",
    "\n",
    "    percent_both = corr_both.div(df['Total Population'], axis=0)*100\n",
    "    percent_both.columns = ['Percent ' + col for col in percent_both.columns]\n",
    "    return percent_men, percent_women, percent_both\n",
    "\n",
    "def getPopulation(df):\n",
    "    # Use filter and regex pattern to separate columns into their own dataframes\n",
    "\n",
    "    # filter columns based on gender\n",
    "    male_cols = df.filter(regex=': Male$').columns.tolist()\n",
    "    female_cols = df.filter(regex=': Female$').columns.tolist() \n",
    "    both_cols = df.filter(regex=': in Correctional Facilities for Adults$').columns.tolist()\n",
    "\n",
    "    # create dataframes for male, female, and both\n",
    "    df_male = df[male_cols]\n",
    "    df_female = df[female_cols]\n",
    "    df_both = df[both_cols]\n"
   ]
  },
  {
   "attachments": {},
   "cell_type": "markdown",
   "metadata": {},
   "source": [
    "## Raw Data\n",
    "- After loading it data into data\\_t we can then process and clean the data by calling processData() on it"
   ]
  },
  {
   "cell_type": "code",
   "execution_count": 45,
   "metadata": {},
   "outputs": [],
   "source": [
    "df  = processData(data_t)"
   ]
  },
  {
   "cell_type": "code",
   "execution_count": 46,
   "metadata": {},
   "outputs": [],
   "source": [
    "# correlationMap(processData(data_t))"
   ]
  },
  {
   "cell_type": "code",
   "execution_count": 47,
   "metadata": {},
   "outputs": [
    {
     "data": {
      "image/png": "[encoded data removed]",
      "text/plain": [
       "<Figure size 640x480 with 1 Axes>"
      ]
     },
     "metadata": {},
     "output_type": "display_data"
    }
   ],
   "source": [
    "elbow_method(df, 20) ## Used to determine best k for K-means"
   ]
  },
  {
   "cell_type": "code",
   "execution_count": 48,
   "metadata": {},
   "outputs": [],
   "source": [
    "n=4"
   ]
  },
  {
   "cell_type": "code",
   "execution_count": 49,
   "metadata": {},
   "outputs": [
    {
     "data": {
      "application/vnd.plotly.v1+json": {
       "config": {
        "plotlyServerURL": "https://plot.ly"
       },
       "data": [
        {
         "marker": {
          "color": [
           3,
           0,
           1,
           3,
           0,
           3,
           0,
           0,
           0,
           3,
           1,
           0,
           3,
           0,
           3,
           2,
           0,
           1,
           1,
           2,
           0,
           2,
           0,
           2,
           1,
           0,
           0,
           2,
           3,
           2,
           2,
           3,
           2,
           0,
           2,
           0,
           1,
           0,
           0,
           2,
           3,
           3,
           3,
           1,
           2,
           2,
           3,
           2,
           1,
           0,
           0,
           2
          ]
         },
         "mode": "markers",
         "showlegend": false,
         "type": "scatter",
         "x": [
          0.7799545658657986,
          -0.3944782573443258,
          1.5656960988320028,
          0.880261995606165,
          0.06526412896568728,
          0.5542628489499739,
          -0.46552935341041873,
          0.18646893990196348,
          -0.3317861137565968,
          0.8844414718453469,
          1.6367471948980956,
          -1.0673739318526176,
          0.1906484161411454,
          -0.5240420207589659,
          0.30767375083823967,
          -0.9879638833081609,
          -0.181324969146047,
          1.147748474913809,
          2.7610263032380367,
          -1.6525006053380888,
          -0.2356581602554122,
          -1.2512708863766229,
          -0.2022223503419567,
          -1.2052966477456217,
          1.9920026752285604,
          0.10705889135750665,
          -0.5658367831507852,
          -0.9712459783514331,
          0.2575200359680564,
          -1.2763477438117146,
          -0.6954005465654253,
          0.8008519470617083,
          -0.7789900713490641,
          -0.13953020675422764,
          -1.2638093150941687,
          -0.03922277701386115,
          1.6994393384858248,
          -0.3902987811051439,
          0.3954427518610603,
          -1.30978355372517,
          0.9095183292804386,
          0.42887856177451583,
          0.27423794092478415,
          1.615849813702186,
          -0.9001948822853402,
          -1.7486285588392734,
          0.5960576113417934,
          -0.8291437862192473,
          0.9262362342371664,
          -0.026684348296315337,
          -0.17296601666768313,
          -1.3557577923561714
         ],
         "xaxis": "x",
         "y": [
          1.4529922487359943,
          0.8553568942702785,
          1.36244143745331,
          0.6199247849352996,
          -0.21314267886539523,
          0.29394186431763636,
          0.221501215291489,
          -0.7202272220484268,
          0.2758317020610995,
          0.6742552717049101,
          0.9640178678094995,
          0.5474841359091521,
          1.0364585168356468,
          -0.7745577088180373,
          0.07661991723919426,
          -0.6115662485092058,
          -0.5210154372265215,
          1.615983709044826,
          1.1994499771444784,
          -1.4084133877968268,
          -0.9194390068703321,
          -1.4446337123099005,
          -1.5532946858491217,
          -0.6840068975353532,
          0.7285857584745206,
          -0.14070202983924784,
          0.11284024175226794,
          -0.6658967352788163,
          0.4026028378568574,
          -1.1005406294357005,
          -1.0099898181530162,
          1.0545686790921838,
          -1.3540829010272164,
          -0.6840068975353532,
          -0.7564475465615005,
          -0.1588121920957847,
          1.7065345203275102,
          -0.35802397691768995,
          -0.37613413917422683,
          -1.6619556593883427,
          -0.1950325166088584,
          0.9459077055529627,
          0.6561451094483732,
          1.3443312751967733,
          -0.14070202983924784,
          -1.4627438745664374,
          0.2758317020610995,
          -0.6115662485092058,
          2.539601984128205,
          -0.35802397691768995,
          0.8734670565268153,
          -1.9517182554929322
         ],
         "yaxis": "y"
        },
        {
         "marker": {
          "color": "red",
          "line": {
           "color": "black",
           "width": 1
          },
          "size": 10,
          "symbol": "star"
         },
         "mode": "markers",
         "name": "Centroids",
         "type": "scatter",
         "x": [
          -0.21616103924148466,
          1.4326183161973902,
          -1.0617331388859788,
          0.6078513434309416
         ],
         "xaxis": "x",
         "y": [
          -0.22126218654267438,
          1.6680932666919601,
          -1.1590238750975361,
          0.5720256229664972
         ],
         "yaxis": "y"
        },
        {
         "marker": {
          "color": [
           3,
           0,
           1,
           3,
           0,
           3,
           0,
           0,
           0,
           3,
           1,
           0,
           3,
           0,
           3,
           2,
           0,
           1,
           1,
           2,
           0,
           2,
           0,
           2,
           1,
           0,
           0,
           2,
           3,
           2,
           2,
           3,
           2,
           0,
           2,
           0,
           1,
           0,
           0,
           2,
           3,
           3,
           3,
           1,
           2,
           2,
           3,
           2,
           1,
           0,
           0,
           2
          ]
         },
         "mode": "markers",
         "showlegend": false,
         "type": "scatter",
         "x": [
          0.7799545658657986,
          -0.3944782573443258,
          1.5656960988320028,
          0.880261995606165,
          0.06526412896568728,
          0.5542628489499739,
          -0.46552935341041873,
          0.18646893990196348,
          -0.3317861137565968,
          0.8844414718453469,
          1.6367471948980956,
          -1.0673739318526176,
          0.1906484161411454,
          -0.5240420207589659,
          0.30767375083823967,
          -0.9879638833081609,
          -0.181324969146047,
          1.147748474913809,
          2.7610263032380367,
          -1.6525006053380888,
          -0.2356581602554122,
          -1.2512708863766229,
          -0.2022223503419567,
          -1.2052966477456217,
          1.9920026752285604,
          0.10705889135750665,
          -0.5658367831507852,
          -0.9712459783514331,
          0.2575200359680564,
          -1.2763477438117146,
          -0.6954005465654253,
          0.8008519470617083,
          -0.7789900713490641,
          -0.13953020675422764,
          -1.2638093150941687,
          -0.03922277701386115,
          1.6994393384858248,
          -0.3902987811051439,
          0.3954427518610603,
          -1.30978355372517,
          0.9095183292804386,
          0.42887856177451583,
          0.27423794092478415,
          1.615849813702186,
          -0.9001948822853402,
          -1.7486285588392734,
          0.5960576113417934,
          -0.8291437862192473,
          0.9262362342371664,
          -0.026684348296315337,
          -0.17296601666768313,
          -1.3557577923561714
         ],
         "xaxis": "x2",
         "y": [
          0.7037743401080894,
          -0.6369453119167311,
          1.4974445020090699,
          0.8876188408874125,
          0.07601263012991255,
          0.5109618149005064,
          -0.5136349760281607,
          0.3428113568706377,
          -0.30961242028525315,
          0.9033128836368669,
          1.6969830455378476,
          -1.2534969913595833,
          0.031172507988614213,
          -0.4620688355656675,
          0.32935932022824815,
          -1.0091183256895073,
          -0.14818798057657914,
          1.0490432805960865,
          2.8830042761751886,
          -1.614459974597035,
          -0.09662184011408606,
          -1.150364710434597,
          -0.015909620259749045,
          -1.2378029486101287,
          2.1364162425225715,
          0.14551481944892497,
          -0.666091391308575,
          -0.9822142524047283,
          0.1612088621983794,
          -1.2557389974666482,
          -0.6077992325248871,
          0.7284364072858034,
          -0.6414293241308608,
          -0.04057168743746313,
          -1.314031156250336,
          -0.004699589724424459,
          1.6117868134693807,
          -0.39480865235372004,
          0.5109618149005064,
          -1.1884788142547007,
          1.0557692989172813,
          0.3046972530505341,
          0.2396790759456515,
          1.5579786668998228,
          -0.9934242829400529,
          -1.719834261629086,
          0.6230621202537523,
          -0.8432098737667034,
          0.6791122729303752,
          -0.0069415958314893765,
          -0.37014658517600596,
          -1.1884788142547007
         ],
         "yaxis": "y2"
        },
        {
         "marker": {
          "color": [
           3,
           0,
           1,
           3,
           0,
           3,
           0,
           0,
           0,
           3,
           1,
           0,
           3,
           0,
           3,
           2,
           0,
           1,
           1,
           2,
           0,
           2,
           0,
           2,
           1,
           0,
           0,
           2,
           3,
           2,
           2,
           3,
           2,
           0,
           2,
           0,
           1,
           0,
           0,
           2,
           3,
           3,
           3,
           1,
           2,
           2,
           3,
           2,
           1,
           0,
           0,
           2
          ]
         },
         "mode": "markers",
         "showlegend": false,
         "type": "scatter",
         "x": [
          1.4529922487359943,
          0.8553568942702785,
          1.36244143745331,
          0.6199247849352996,
          -0.21314267886539523,
          0.29394186431763636,
          0.221501215291489,
          -0.7202272220484268,
          0.2758317020610995,
          0.6742552717049101,
          0.9640178678094995,
          0.5474841359091521,
          1.0364585168356468,
          -0.7745577088180373,
          0.07661991723919426,
          -0.6115662485092058,
          -0.5210154372265215,
          1.615983709044826,
          1.1994499771444784,
          -1.4084133877968268,
          -0.9194390068703321,
          -1.4446337123099005,
          -1.5532946858491217,
          -0.6840068975353532,
          0.7285857584745206,
          -0.14070202983924784,
          0.11284024175226794,
          -0.6658967352788163,
          0.4026028378568574,
          -1.1005406294357005,
          -1.0099898181530162,
          1.0545686790921838,
          -1.3540829010272164,
          -0.6840068975353532,
          -0.7564475465615005,
          -0.1588121920957847,
          1.7065345203275102,
          -0.35802397691768995,
          -0.37613413917422683,
          -1.6619556593883427,
          -0.1950325166088584,
          0.9459077055529627,
          0.6561451094483732,
          1.3443312751967733,
          -0.14070202983924784,
          -1.4627438745664374,
          0.2758317020610995,
          -0.6115662485092058,
          2.539601984128205,
          -0.35802397691768995,
          0.8734670565268153,
          -1.9517182554929322
         ],
         "xaxis": "x3",
         "y": [
          0.7037743401080894,
          -0.6369453119167311,
          1.4974445020090699,
          0.8876188408874125,
          0.07601263012991255,
          0.5109618149005064,
          -0.5136349760281607,
          0.3428113568706377,
          -0.30961242028525315,
          0.9033128836368669,
          1.6969830455378476,
          -1.2534969913595833,
          0.031172507988614213,
          -0.4620688355656675,
          0.32935932022824815,
          -1.0091183256895073,
          -0.14818798057657914,
          1.0490432805960865,
          2.8830042761751886,
          -1.614459974597035,
          -0.09662184011408606,
          -1.150364710434597,
          -0.015909620259749045,
          -1.2378029486101287,
          2.1364162425225715,
          0.14551481944892497,
          -0.666091391308575,
          -0.9822142524047283,
          0.1612088621983794,
          -1.2557389974666482,
          -0.6077992325248871,
          0.7284364072858034,
          -0.6414293241308608,
          -0.04057168743746313,
          -1.314031156250336,
          -0.004699589724424459,
          1.6117868134693807,
          -0.39480865235372004,
          0.5109618149005064,
          -1.1884788142547007,
          1.0557692989172813,
          0.3046972530505341,
          0.2396790759456515,
          1.5579786668998228,
          -0.9934242829400529,
          -1.719834261629086,
          0.6230621202537523,
          -0.8432098737667034,
          0.6791122729303752,
          -0.0069415958314893765,
          -0.37014658517600596,
          -1.1884788142547007
         ],
         "yaxis": "y3"
        }
       ],
       "layout": {
        "annotations": [
         {
          "font": {
           "size": 16
          },
          "showarrow": false,
          "text": "IR by FIR",
          "x": 0.5,
          "xanchor": "center",
          "xref": "paper",
          "y": 1,
          "yanchor": "bottom",
          "yref": "paper"
         },
         {
          "font": {
           "size": 16
          },
          "showarrow": false,
          "text": "IR by MIR",
          "x": 0.5,
          "xanchor": "center",
          "xref": "paper",
          "y": 0.6111111111111112,
          "yanchor": "bottom",
          "yref": "paper"
         },
         {
          "font": {
           "size": 16
          },
          "showarrow": false,
          "text": "FIR by MIR",
          "x": 0.5,
          "xanchor": "center",
          "xref": "paper",
          "y": 0.22222222222222224,
          "yanchor": "bottom",
          "yref": "paper"
         }
        ],
        "height": 900,
        "template": {
         "data": {
          "bar": [
           {
            "error_x": {
             "color": "#2a3f5f"
            },
            "error_y": {
             "color": "#2a3f5f"
            },
            "marker": {
             "line": {
              "color": "#E5ECF6",
              "width": 0.5
             },
             "pattern": {
              "fillmode": "overlay",
              "size": 10,
              "solidity": 0.2
             }
            },
            "type": "bar"
           }
          ],
          "barpolar": [
           {
            "marker": {
             "line": {
              "color": "#E5ECF6",
              "width": 0.5
             },
             "pattern": {
              "fillmode": "overlay",
              "size": 10,
              "solidity": 0.2
             }
            },
            "type": "barpolar"
           }
          ],
          "carpet": [
           {
            "aaxis": {
             "endlinecolor": "#2a3f5f",
             "gridcolor": "white",
             "linecolor": "white",
             "minorgridcolor": "white",
             "startlinecolor": "#2a3f5f"
            },
            "baxis": {
             "endlinecolor": "#2a3f5f",
             "gridcolor": "white",
             "linecolor": "white",
             "minorgridcolor": "white",
             "startlinecolor": "#2a3f5f"
            },
            "type": "carpet"
           }
          ],
          "choropleth": [
           {
            "colorbar": {
             "outlinewidth": 0,
             "ticks": ""
            },
            "type": "choropleth"
           }
          ],
          "contour": [
           {
            "colorbar": {
             "outlinewidth": 0,
             "ticks": ""
            },
            "colorscale": [
             [
              0,
              "#0d0887"
             ],
             [
              0.1111111111111111,
              "#46039f"
             ],
             [
              0.2222222222222222,
              "#7201a8"
             ],
             [
              0.3333333333333333,
              "#9c179e"
             ],
             [
              0.4444444444444444,
              "#bd3786"
             ],
             [
              0.5555555555555556,
              "#d8576b"
             ],
             [
              0.6666666666666666,
              "#ed7953"
             ],
             [
              0.7777777777777778,
              "#fb9f3a"
             ],
             [
              0.8888888888888888,
              "#fdca26"
             ],
             [
              1,
              "#f0f921"
             ]
            ],
            "type": "contour"
           }
          ],
          "contourcarpet": [
           {
            "colorbar": {
             "outlinewidth": 0,
             "ticks": ""
            },
            "type": "contourcarpet"
           }
          ],
          "heatmap": [
           {
            "colorbar": {
             "outlinewidth": 0,
             "ticks": ""
            },
            "colorscale": [
             [
              0,
              "#0d0887"
             ],
             [
              0.1111111111111111,
              "#46039f"
             ],
             [
              0.2222222222222222,
              "#7201a8"
             ],
             [
              0.3333333333333333,
              "#9c179e"
             ],
             [
              0.4444444444444444,
              "#bd3786"
             ],
             [
              0.5555555555555556,
              "#d8576b"
             ],
             [
              0.6666666666666666,
              "#ed7953"
             ],
             [
              0.7777777777777778,
              "#fb9f3a"
             ],
             [
              0.8888888888888888,
              "#fdca26"
             ],
             [
              1,
              "#f0f921"
             ]
            ],
            "type": "heatmap"
           }
          ],
          "heatmapgl": [
           {
            "colorbar": {
             "outlinewidth": 0,
             "ticks": ""
            },
            "colorscale": [
             [
              0,
              "#0d0887"
             ],
             [
              0.1111111111111111,
              "#46039f"
             ],
             [
              0.2222222222222222,
              "#7201a8"
             ],
             [
              0.3333333333333333,
              "#9c179e"
             ],
             [
              0.4444444444444444,
              "#bd3786"
             ],
             [
              0.5555555555555556,
              "#d8576b"
             ],
             [
              0.6666666666666666,
              "#ed7953"
             ],
             [
              0.7777777777777778,
              "#fb9f3a"
             ],
             [
              0.8888888888888888,
              "#fdca26"
             ],
             [
              1,
              "#f0f921"
             ]
            ],
            "type": "heatmapgl"
           }
          ],
          "histogram": [
           {
            "marker": {
             "pattern": {
              "fillmode": "overlay",
              "size": 10,
              "solidity": 0.2
             }
            },
            "type": "histogram"
           }
          ],
          "histogram2d": [
           {
            "colorbar": {
             "outlinewidth": 0,
             "ticks": ""
            },
            "colorscale": [
             [
              0,
              "#0d0887"
             ],
             [
              0.1111111111111111,
              "#46039f"
             ],
             [
              0.2222222222222222,
              "#7201a8"
             ],
             [
              0.3333333333333333,
              "#9c179e"
             ],
             [
              0.4444444444444444,
              "#bd3786"
             ],
             [
              0.5555555555555556,
              "#d8576b"
             ],
             [
              0.6666666666666666,
              "#ed7953"
             ],
             [
              0.7777777777777778,
              "#fb9f3a"
             ],
             [
              0.8888888888888888,
              "#fdca26"
             ],
             [
              1,
              "#f0f921"
             ]
            ],
            "type": "histogram2d"
           }
          ],
          "histogram2dcontour": [
           {
            "colorbar": {
             "outlinewidth": 0,
             "ticks": ""
            },
            "colorscale": [
             [
              0,
              "#0d0887"
             ],
             [
              0.1111111111111111,
              "#46039f"
             ],
             [
              0.2222222222222222,
              "#7201a8"
             ],
             [
              0.3333333333333333,
              "#9c179e"
             ],
             [
              0.4444444444444444,
              "#bd3786"
             ],
             [
              0.5555555555555556,
              "#d8576b"
             ],
             [
              0.6666666666666666,
              "#ed7953"
             ],
             [
              0.7777777777777778,
              "#fb9f3a"
             ],
             [
              0.8888888888888888,
              "#fdca26"
             ],
             [
              1,
              "#f0f921"
             ]
            ],
            "type": "histogram2dcontour"
           }
          ],
          "mesh3d": [
           {
            "colorbar": {
             "outlinewidth": 0,
             "ticks": ""
            },
            "type": "mesh3d"
           }
          ],
          "parcoords": [
           {
            "line": {
             "colorbar": {
              "outlinewidth": 0,
              "ticks": ""
             }
            },
            "type": "parcoords"
           }
          ],
          "pie": [
           {
            "automargin": true,
            "type": "pie"
           }
          ],
          "scatter": [
           {
            "fillpattern": {
             "fillmode": "overlay",
             "size": 10,
             "solidity": 0.2
            },
            "type": "scatter"
           }
          ],
          "scatter3d": [
           {
            "line": {
             "colorbar": {
              "outlinewidth": 0,
              "ticks": ""
             }
            },
            "marker": {
             "colorbar": {
              "outlinewidth": 0,
              "ticks": ""
             }
            },
            "type": "scatter3d"
           }
          ],
          "scattercarpet": [
           {
            "marker": {
             "colorbar": {
              "outlinewidth": 0,
              "ticks": ""
             }
            },
            "type": "scattercarpet"
           }
          ],
          "scattergeo": [
           {
            "marker": {
             "colorbar": {
              "outlinewidth": 0,
              "ticks": ""
             }
            },
            "type": "scattergeo"
           }
          ],
          "scattergl": [
           {
            "marker": {
             "colorbar": {
              "outlinewidth": 0,
              "ticks": ""
             }
            },
            "type": "scattergl"
           }
          ],
          "scattermapbox": [
           {
            "marker": {
             "colorbar": {
              "outlinewidth": 0,
              "ticks": ""
             }
            },
            "type": "scattermapbox"
           }
          ],
          "scatterpolar": [
           {
            "marker": {
             "colorbar": {
              "outlinewidth": 0,
              "ticks": ""
             }
            },
            "type": "scatterpolar"
           }
          ],
          "scatterpolargl": [
           {
            "marker": {
             "colorbar": {
              "outlinewidth": 0,
              "ticks": ""
             }
            },
            "type": "scatterpolargl"
           }
          ],
          "scatterternary": [
           {
            "marker": {
             "colorbar": {
              "outlinewidth": 0,
              "ticks": ""
             }
            },
            "type": "scatterternary"
           }
          ],
          "surface": [
           {
            "colorbar": {
             "outlinewidth": 0,
             "ticks": ""
            },
            "colorscale": [
             [
              0,
              "#0d0887"
             ],
             [
              0.1111111111111111,
              "#46039f"
             ],
             [
              0.2222222222222222,
              "#7201a8"
             ],
             [
              0.3333333333333333,
              "#9c179e"
             ],
             [
              0.4444444444444444,
              "#bd3786"
             ],
             [
              0.5555555555555556,
              "#d8576b"
             ],
             [
              0.6666666666666666,
              "#ed7953"
             ],
             [
              0.7777777777777778,
              "#fb9f3a"
             ],
             [
              0.8888888888888888,
              "#fdca26"
             ],
             [
              1,
              "#f0f921"
             ]
            ],
            "type": "surface"
           }
          ],
          "table": [
           {
            "cells": {
             "fill": {
              "color": "#EBF0F8"
             },
             "line": {
              "color": "white"
             }
            },
            "header": {
             "fill": {
              "color": "#C8D4E3"
             },
             "line": {
              "color": "white"
             }
            },
            "type": "table"
           }
          ]
         },
         "layout": {
          "annotationdefaults": {
           "arrowcolor": "#2a3f5f",
           "arrowhead": 0,
           "arrowwidth": 1
          },
          "autotypenumbers": "strict",
          "coloraxis": {
           "colorbar": {
            "outlinewidth": 0,
            "ticks": ""
           }
          },
          "colorscale": {
           "diverging": [
            [
             0,
             "#8e0152"
            ],
            [
             0.1,
             "#c51b7d"
            ],
            [
             0.2,
             "#de77ae"
            ],
            [
             0.3,
             "#f1b6da"
            ],
            [
             0.4,
             "#fde0ef"
            ],
            [
             0.5,
             "#f7f7f7"
            ],
            [
             0.6,
             "#e6f5d0"
            ],
            [
             0.7,
             "#b8e186"
            ],
            [
             0.8,
             "#7fbc41"
            ],
            [
             0.9,
             "#4d9221"
            ],
            [
             1,
             "#276419"
            ]
           ],
           "sequential": [
            [
             0,
             "#0d0887"
            ],
            [
             0.1111111111111111,
             "#46039f"
            ],
            [
             0.2222222222222222,
             "#7201a8"
            ],
            [
             0.3333333333333333,
             "#9c179e"
            ],
            [
             0.4444444444444444,
             "#bd3786"
            ],
            [
             0.5555555555555556,
             "#d8576b"
            ],
            [
             0.6666666666666666,
             "#ed7953"
            ],
            [
             0.7777777777777778,
             "#fb9f3a"
            ],
            [
             0.8888888888888888,
             "#fdca26"
            ],
            [
             1,
             "#f0f921"
            ]
           ],
           "sequentialminus": [
            [
             0,
             "#0d0887"
            ],
            [
             0.1111111111111111,
             "#46039f"
            ],
            [
             0.2222222222222222,
             "#7201a8"
            ],
            [
             0.3333333333333333,
             "#9c179e"
            ],
            [
             0.4444444444444444,
             "#bd3786"
            ],
            [
             0.5555555555555556,
             "#d8576b"
            ],
            [
             0.6666666666666666,
             "#ed7953"
            ],
            [
             0.7777777777777778,
             "#fb9f3a"
            ],
            [
             0.8888888888888888,
             "#fdca26"
            ],
            [
             1,
             "#f0f921"
            ]
           ]
          },
          "colorway": [
           "#636efa",
           "#EF553B",
           "#00cc96",
           "#ab63fa",
           "#FFA15A",
           "#19d3f3",
           "#FF6692",
           "#B6E880",
           "#FF97FF",
           "#FECB52"
          ],
          "font": {
           "color": "#2a3f5f"
          },
          "geo": {
           "bgcolor": "white",
           "lakecolor": "white",
           "landcolor": "#E5ECF6",
           "showlakes": true,
           "showland": true,
           "subunitcolor": "white"
          },
          "hoverlabel": {
           "align": "left"
          },
          "hovermode": "closest",
          "mapbox": {
           "style": "light"
          },
          "paper_bgcolor": "white",
          "plot_bgcolor": "#E5ECF6",
          "polar": {
           "angularaxis": {
            "gridcolor": "white",
            "linecolor": "white",
            "ticks": ""
           },
           "bgcolor": "#E5ECF6",
           "radialaxis": {
            "gridcolor": "white",
            "linecolor": "white",
            "ticks": ""
           }
          },
          "scene": {
           "xaxis": {
            "backgroundcolor": "#E5ECF6",
            "gridcolor": "white",
            "gridwidth": 2,
            "linecolor": "white",
            "showbackground": true,
            "ticks": "",
            "zerolinecolor": "white"
           },
           "yaxis": {
            "backgroundcolor": "#E5ECF6",
            "gridcolor": "white",
            "gridwidth": 2,
            "linecolor": "white",
            "showbackground": true,
            "ticks": "",
            "zerolinecolor": "white"
           },
           "zaxis": {
            "backgroundcolor": "#E5ECF6",
            "gridcolor": "white",
            "gridwidth": 2,
            "linecolor": "white",
            "showbackground": true,
            "ticks": "",
            "zerolinecolor": "white"
           }
          },
          "shapedefaults": {
           "line": {
            "color": "#2a3f5f"
           }
          },
          "ternary": {
           "aaxis": {
            "gridcolor": "white",
            "linecolor": "white",
            "ticks": ""
           },
           "baxis": {
            "gridcolor": "white",
            "linecolor": "white",
            "ticks": ""
           },
           "bgcolor": "#E5ECF6",
           "caxis": {
            "gridcolor": "white",
            "linecolor": "white",
            "ticks": ""
           }
          },
          "title": {
           "x": 0.05
          },
          "xaxis": {
           "automargin": true,
           "gridcolor": "white",
           "linecolor": "white",
           "ticks": "",
           "title": {
            "standoff": 15
           },
           "zerolinecolor": "white",
           "zerolinewidth": 2
          },
          "yaxis": {
           "automargin": true,
           "gridcolor": "white",
           "linecolor": "white",
           "ticks": "",
           "title": {
            "standoff": 15
           },
           "zerolinecolor": "white",
           "zerolinewidth": 2
          }
         }
        },
        "title": {
         "text": "Clusters"
        },
        "xaxis": {
         "anchor": "y",
         "domain": [
          0,
          1
         ],
         "title": {
          "text": "Incarceration rate"
         }
        },
        "xaxis2": {
         "anchor": "y2",
         "domain": [
          0,
          1
         ],
         "title": {
          "text": "Incarceration rate"
         }
        },
        "xaxis3": {
         "anchor": "y3",
         "domain": [
          0,
          1
         ],
         "title": {
          "text": "Female incarceration rate"
         }
        },
        "yaxis": {
         "anchor": "x",
         "domain": [
          0.7777777777777778,
          1
         ],
         "title": {
          "text": "Female incarceration rate"
         }
        },
        "yaxis2": {
         "anchor": "x2",
         "domain": [
          0.3888888888888889,
          0.6111111111111112
         ],
         "title": {
          "text": "Male incarceration rate"
         }
        },
        "yaxis3": {
         "anchor": "x3",
         "domain": [
          0,
          0.22222222222222224
         ],
         "title": {
          "text": "Male incarceration rate"
         }
        }
       }
      }
     },
     "metadata": {},
     "output_type": "display_data"
    }
   ],
   "source": [
    "visualizing_results_2d(processData(data_t),n)"
   ]
  },
  {
   "attachments": {},
   "cell_type": "markdown",
   "metadata": {},
   "source": [
    "## Plotting by Specific Features"
   ]
  },
  {
   "attachments": {},
   "cell_type": "markdown",
   "metadata": {},
   "source": [
    "### Step 1: Define the dataframes for each comparision (total, male, female)\n",
    "- regex is used to include or exclude words we arent interested in for that word\n",
    "```\n",
    "regex='^(?!.*(Word|Another|Something)).*'\n",
    "\n",
    "```\n",
    "- In this case, regex will find colunm names that contain the phrases: \"Word\" or \"Another\" or \"Something\" (| = or)\n",
    "- The carrort ^ symbol means to exclude, such as in $rate\\_df\\_total$\n",
    "  - [Mm] is used to identify words that contain M or m in the colunms to exclude \"M\"ale and Fe\"m\"ale from the total dataframe\n",
    "- Without the carrort, filter will focus on the words we specifies such as \"Male\" and \"Female\""
   ]
  },
  {
   "cell_type": "code",
   "execution_count": 50,
   "metadata": {},
   "outputs": [],
   "source": [
    "# Data frames that onyl consider Incarceration rates\n",
    "rate_df_whole =processData(data_t).filter(regex='^(?!.*(Correctional|Percent|Population)).*') \n",
    "rate_df_total = rate_df_whole.filter(regex='^(?!.*([Mm]ale)).*') # Total rates\n",
    "rate_df_male = rate_df_whole.filter(regex='.*(Geography|Male).*') # Male rates\n",
    "rate_df_female = rate_df_whole.filter(regex='.*(Geography|[Fem]ale).*') # Female rates"
   ]
  },
  {
   "attachments": {},
   "cell_type": "markdown",
   "metadata": {},
   "source": [
    "### Step 2: Run K-means, get Feature and get n clusters\n",
    "- runKmeans takes in 3 arguements: dataframe, feature variables (not the obsevations such as the states in our case), and the number of clusters we wish to use\n",
    "### Step 3: Plots\n",
    "- stateClusterGraph takes in the dataframe the runKmeans method (just includes cluster assigments) and plots them to states\n",
    "#### Multiple Plots\n",
    "- We can store the cluster data from the runKmeans method to different variables such as below \n",
    "- then Plot them on subplots as below\n",
    "\n",
    "#### Single Plots\n",
    "- Just calling stateClusterGraph with the cluster data passed as an argument and not defining it into a variable\n",
    "- A plot will produce on its own\n"
   ]
  },
  {
   "cell_type": "code",
   "execution_count": 51,
   "metadata": {},
   "outputs": [],
   "source": [
    "# Get graphs with State abbrevations assigned for each\n",
    "total_rate_fig = stateClusterGraph(runKmeans(rate_df_total, getX(rate_df_total), n)) \n",
    "male_rate_fig= stateClusterGraph(runKmeans(rate_df_male, getX(rate_df_male), n))\n",
    "female_rate_fig = stateClusterGraph(runKmeans(rate_df_female, getX(rate_df_female), n))"
   ]
  },
  {
   "cell_type": "code",
   "execution_count": 52,
   "metadata": {},
   "outputs": [
    {
     "data": {
      "application/vnd.plotly.v1+json": {
       "config": {
        "plotlyServerURL": "https://plot.ly"
       },
       "data": [
        {
         "coloraxis": "coloraxis",
         "geo": "geo",
         "hovertemplate": "State Abbreviation=%{location}<br>Cluster=%{z}<extra></extra>",
         "locationmode": "USA-states",
         "locations": [
          "AL",
          "AK",
          "AZ",
          "AR",
          "CA",
          "CO",
          "CT",
          "DE",
          null,
          "FL",
          "GA",
          "HI",
          "ID",
          "IL",
          "IN",
          "IA",
          "KS",
          "KY",
          "LA",
          "ME",
          "MD",
          "MA",
          "MI",
          "MN",
          "MS",
          "MO",
          "MT",
          "NE",
          "NV",
          "NH",
          "NJ",
          "NM",
          "NY",
          "NC",
          "ND",
          "OH",
          "OK",
          "OR",
          "PA",
          "RI",
          "SC",
          "SD",
          "TN",
          "TX",
          "UT",
          "VT",
          "VA",
          "WA",
          "WV",
          "WI",
          "WY",
          null
         ],
         "name": "",
         "type": "choropleth",
         "z": [
          0,
          0,
          1,
          3,
          0,
          3,
          2,
          0,
          2,
          3,
          3,
          0,
          3,
          2,
          0,
          2,
          0,
          3,
          3,
          2,
          2,
          2,
          0,
          2,
          1,
          0,
          0,
          2,
          3,
          2,
          2,
          3,
          2,
          0,
          2,
          0,
          3,
          0,
          0,
          2,
          0,
          1,
          0,
          3,
          0,
          2,
          0,
          0,
          1,
          0,
          0,
          0
         ]
        },
        {
         "coloraxis": "coloraxis",
         "geo": "geo2",
         "hovertemplate": "State Abbreviation=%{location}<br>Cluster=%{z}<extra></extra>",
         "locationmode": "USA-states",
         "locations": [
          "AL",
          "AK",
          "AZ",
          "AR",
          "CA",
          "CO",
          "CT",
          "DE",
          null,
          "FL",
          "GA",
          "HI",
          "ID",
          "IL",
          "IN",
          "IA",
          "KS",
          "KY",
          "LA",
          "ME",
          "MD",
          "MA",
          "MI",
          "MN",
          "MS",
          "MO",
          "MT",
          "NE",
          "NV",
          "NH",
          "NJ",
          "NM",
          "NY",
          "NC",
          "ND",
          "OH",
          "OK",
          "OR",
          "PA",
          "RI",
          "SC",
          "SD",
          "TN",
          "TX",
          "UT",
          "VT",
          "VA",
          "WA",
          "WV",
          "WI",
          "WY",
          null
         ],
         "name": "",
         "type": "choropleth",
         "z": [
          1,
          1,
          2,
          0,
          0,
          0,
          1,
          1,
          1,
          0,
          0,
          1,
          0,
          1,
          0,
          1,
          0,
          0,
          0,
          1,
          1,
          1,
          1,
          1,
          2,
          1,
          0,
          1,
          0,
          1,
          1,
          0,
          1,
          1,
          1,
          1,
          0,
          0,
          0,
          1,
          1,
          0,
          1,
          0,
          1,
          1,
          1,
          1,
          3,
          0,
          0,
          1
         ]
        },
        {
         "coloraxis": "coloraxis",
         "geo": "geo3",
         "hovertemplate": "State Abbreviation=%{location}<br>Cluster=%{z}<extra></extra>",
         "locationmode": "USA-states",
         "locations": [
          "AL",
          "AK",
          "AZ",
          "AR",
          "CA",
          "CO",
          "CT",
          "DE",
          null,
          "FL",
          "GA",
          "HI",
          "ID",
          "IL",
          "IN",
          "IA",
          "KS",
          "KY",
          "LA",
          "ME",
          "MD",
          "MA",
          "MI",
          "MN",
          "MS",
          "MO",
          "MT",
          "NE",
          "NV",
          "NH",
          "NJ",
          "NM",
          "NY",
          "NC",
          "ND",
          "OH",
          "OK",
          "OR",
          "PA",
          "RI",
          "SC",
          "SD",
          "TN",
          "TX",
          "UT",
          "VT",
          "VA",
          "WA",
          "WV",
          "WI",
          "WY",
          null
         ],
         "name": "",
         "type": "choropleth",
         "z": [
          3,
          2,
          3,
          3,
          0,
          2,
          2,
          0,
          0,
          3,
          3,
          3,
          3,
          0,
          0,
          2,
          0,
          3,
          3,
          0,
          0,
          0,
          0,
          2,
          3,
          0,
          2,
          2,
          3,
          2,
          0,
          3,
          0,
          0,
          2,
          0,
          3,
          0,
          0,
          0,
          0,
          2,
          3,
          3,
          2,
          0,
          0,
          0,
          1,
          2,
          2,
          0
         ]
        }
       ],
       "layout": {
        "annotations": [
         {
          "font": {
           "size": 16
          },
          "showarrow": false,
          "text": "Total Rate",
          "x": 0.14444444444444446,
          "xanchor": "center",
          "xref": "paper",
          "y": 1,
          "yanchor": "bottom",
          "yref": "paper"
         },
         {
          "font": {
           "size": 16
          },
          "showarrow": false,
          "text": "Male Rate",
          "x": 0.5,
          "xanchor": "center",
          "xref": "paper",
          "y": 1,
          "yanchor": "bottom",
          "yref": "paper"
         },
         {
          "font": {
           "size": 16
          },
          "showarrow": false,
          "text": "Female Rate",
          "x": 0.8555555555555556,
          "xanchor": "center",
          "xref": "paper",
          "y": 1,
          "yanchor": "bottom",
          "yref": "paper"
         }
        ],
        "geo": {
         "domain": {
          "x": [
           0,
           0.2888888888888889
          ],
          "y": [
           0,
           1
          ]
         },
         "scope": "usa"
        },
        "geo2": {
         "domain": {
          "x": [
           0.35555555555555557,
           0.6444444444444445
          ],
          "y": [
           0,
           1
          ]
         },
         "scope": "usa"
        },
        "geo3": {
         "domain": {
          "x": [
           0.7111111111111111,
           1
          ],
          "y": [
           0,
           1
          ]
         },
         "scope": "usa"
        },
        "template": {
         "data": {
          "bar": [
           {
            "error_x": {
             "color": "#2a3f5f"
            },
            "error_y": {
             "color": "#2a3f5f"
            },
            "marker": {
             "line": {
              "color": "#E5ECF6",
              "width": 0.5
             },
             "pattern": {
              "fillmode": "overlay",
              "size": 10,
              "solidity": 0.2
             }
            },
            "type": "bar"
           }
          ],
          "barpolar": [
           {
            "marker": {
             "line": {
              "color": "#E5ECF6",
              "width": 0.5
             },
             "pattern": {
              "fillmode": "overlay",
              "size": 10,
              "solidity": 0.2
             }
            },
            "type": "barpolar"
           }
          ],
          "carpet": [
           {
            "aaxis": {
             "endlinecolor": "#2a3f5f",
             "gridcolor": "white",
             "linecolor": "white",
             "minorgridcolor": "white",
             "startlinecolor": "#2a3f5f"
            },
            "baxis": {
             "endlinecolor": "#2a3f5f",
             "gridcolor": "white",
             "linecolor": "white",
             "minorgridcolor": "white",
             "startlinecolor": "#2a3f5f"
            },
            "type": "carpet"
           }
          ],
          "choropleth": [
           {
            "colorbar": {
             "outlinewidth": 0,
             "ticks": ""
            },
            "type": "choropleth"
           }
          ],
          "contour": [
           {
            "colorbar": {
             "outlinewidth": 0,
             "ticks": ""
            },
            "colorscale": [
             [
              0,
              "#0d0887"
             ],
             [
              0.1111111111111111,
              "#46039f"
             ],
             [
              0.2222222222222222,
              "#7201a8"
             ],
             [
              0.3333333333333333,
              "#9c179e"
             ],
             [
              0.4444444444444444,
              "#bd3786"
             ],
             [
              0.5555555555555556,
              "#d8576b"
             ],
             [
              0.6666666666666666,
              "#ed7953"
             ],
             [
              0.7777777777777778,
              "#fb9f3a"
             ],
             [
              0.8888888888888888,
              "#fdca26"
             ],
             [
              1,
              "#f0f921"
             ]
            ],
            "type": "contour"
           }
          ],
          "contourcarpet": [
           {
            "colorbar": {
             "outlinewidth": 0,
             "ticks": ""
            },
            "type": "contourcarpet"
           }
          ],
          "heatmap": [
           {
            "colorbar": {
             "outlinewidth": 0,
             "ticks": ""
            },
            "colorscale": [
             [
              0,
              "#0d0887"
             ],
             [
              0.1111111111111111,
              "#46039f"
             ],
             [
              0.2222222222222222,
              "#7201a8"
             ],
             [
              0.3333333333333333,
              "#9c179e"
             ],
             [
              0.4444444444444444,
              "#bd3786"
             ],
             [
              0.5555555555555556,
              "#d8576b"
             ],
             [
              0.6666666666666666,
              "#ed7953"
             ],
             [
              0.7777777777777778,
              "#fb9f3a"
             ],
             [
              0.8888888888888888,
              "#fdca26"
             ],
             [
              1,
              "#f0f921"
             ]
            ],
            "type": "heatmap"
           }
          ],
          "heatmapgl": [
           {
            "colorbar": {
             "outlinewidth": 0,
             "ticks": ""
            },
            "colorscale": [
             [
              0,
              "#0d0887"
             ],
             [
              0.1111111111111111,
              "#46039f"
             ],
             [
              0.2222222222222222,
              "#7201a8"
             ],
             [
              0.3333333333333333,
              "#9c179e"
             ],
             [
              0.4444444444444444,
              "#bd3786"
             ],
             [
              0.5555555555555556,
              "#d8576b"
             ],
             [
              0.6666666666666666,
              "#ed7953"
             ],
             [
              0.7777777777777778,
              "#fb9f3a"
             ],
             [
              0.8888888888888888,
              "#fdca26"
             ],
             [
              1,
              "#f0f921"
             ]
            ],
            "type": "heatmapgl"
           }
          ],
          "histogram": [
           {
            "marker": {
             "pattern": {
              "fillmode": "overlay",
              "size": 10,
              "solidity": 0.2
             }
            },
            "type": "histogram"
           }
          ],
          "histogram2d": [
           {
            "colorbar": {
             "outlinewidth": 0,
             "ticks": ""
            },
            "colorscale": [
             [
              0,
              "#0d0887"
             ],
             [
              0.1111111111111111,
              "#46039f"
             ],
             [
              0.2222222222222222,
              "#7201a8"
             ],
             [
              0.3333333333333333,
              "#9c179e"
             ],
             [
              0.4444444444444444,
              "#bd3786"
             ],
             [
              0.5555555555555556,
              "#d8576b"
             ],
             [
              0.6666666666666666,
              "#ed7953"
             ],
             [
              0.7777777777777778,
              "#fb9f3a"
             ],
             [
              0.8888888888888888,
              "#fdca26"
             ],
             [
              1,
              "#f0f921"
             ]
            ],
            "type": "histogram2d"
           }
          ],
          "histogram2dcontour": [
           {
            "colorbar": {
             "outlinewidth": 0,
             "ticks": ""
            },
            "colorscale": [
             [
              0,
              "#0d0887"
             ],
             [
              0.1111111111111111,
              "#46039f"
             ],
             [
              0.2222222222222222,
              "#7201a8"
             ],
             [
              0.3333333333333333,
              "#9c179e"
             ],
             [
              0.4444444444444444,
              "#bd3786"
             ],
             [
              0.5555555555555556,
              "#d8576b"
             ],
             [
              0.6666666666666666,
              "#ed7953"
             ],
             [
              0.7777777777777778,
              "#fb9f3a"
             ],
             [
              0.8888888888888888,
              "#fdca26"
             ],
             [
              1,
              "#f0f921"
             ]
            ],
            "type": "histogram2dcontour"
           }
          ],
          "mesh3d": [
           {
            "colorbar": {
             "outlinewidth": 0,
             "ticks": ""
            },
            "type": "mesh3d"
           }
          ],
          "parcoords": [
           {
            "line": {
             "colorbar": {
              "outlinewidth": 0,
              "ticks": ""
             }
            },
            "type": "parcoords"
           }
          ],
          "pie": [
           {
            "automargin": true,
            "type": "pie"
           }
          ],
          "scatter": [
           {
            "fillpattern": {
             "fillmode": "overlay",
             "size": 10,
             "solidity": 0.2
            },
            "type": "scatter"
           }
          ],
          "scatter3d": [
           {
            "line": {
             "colorbar": {
              "outlinewidth": 0,
              "ticks": ""
             }
            },
            "marker": {
             "colorbar": {
              "outlinewidth": 0,
              "ticks": ""
             }
            },
            "type": "scatter3d"
           }
          ],
          "scattercarpet": [
           {
            "marker": {
             "colorbar": {
              "outlinewidth": 0,
              "ticks": ""
             }
            },
            "type": "scattercarpet"
           }
          ],
          "scattergeo": [
           {
            "marker": {
             "colorbar": {
              "outlinewidth": 0,
              "ticks": ""
             }
            },
            "type": "scattergeo"
           }
          ],
          "scattergl": [
           {
            "marker": {
             "colorbar": {
              "outlinewidth": 0,
              "ticks": ""
             }
            },
            "type": "scattergl"
           }
          ],
          "scattermapbox": [
           {
            "marker": {
             "colorbar": {
              "outlinewidth": 0,
              "ticks": ""
             }
            },
            "type": "scattermapbox"
           }
          ],
          "scatterpolar": [
           {
            "marker": {
             "colorbar": {
              "outlinewidth": 0,
              "ticks": ""
             }
            },
            "type": "scatterpolar"
           }
          ],
          "scatterpolargl": [
           {
            "marker": {
             "colorbar": {
              "outlinewidth": 0,
              "ticks": ""
             }
            },
            "type": "scatterpolargl"
           }
          ],
          "scatterternary": [
           {
            "marker": {
             "colorbar": {
              "outlinewidth": 0,
              "ticks": ""
             }
            },
            "type": "scatterternary"
           }
          ],
          "surface": [
           {
            "colorbar": {
             "outlinewidth": 0,
             "ticks": ""
            },
            "colorscale": [
             [
              0,
              "#0d0887"
             ],
             [
              0.1111111111111111,
              "#46039f"
             ],
             [
              0.2222222222222222,
              "#7201a8"
             ],
             [
              0.3333333333333333,
              "#9c179e"
             ],
             [
              0.4444444444444444,
              "#bd3786"
             ],
             [
              0.5555555555555556,
              "#d8576b"
             ],
             [
              0.6666666666666666,
              "#ed7953"
             ],
             [
              0.7777777777777778,
              "#fb9f3a"
             ],
             [
              0.8888888888888888,
              "#fdca26"
             ],
             [
              1,
              "#f0f921"
             ]
            ],
            "type": "surface"
           }
          ],
          "table": [
           {
            "cells": {
             "fill": {
              "color": "#EBF0F8"
             },
             "line": {
              "color": "white"
             }
            },
            "header": {
             "fill": {
              "color": "#C8D4E3"
             },
             "line": {
              "color": "white"
             }
            },
            "type": "table"
           }
          ]
         },
         "layout": {
          "annotationdefaults": {
           "arrowcolor": "#2a3f5f",
           "arrowhead": 0,
           "arrowwidth": 1
          },
          "autotypenumbers": "strict",
          "coloraxis": {
           "colorbar": {
            "outlinewidth": 0,
            "ticks": ""
           }
          },
          "colorscale": {
           "diverging": [
            [
             0,
             "#8e0152"
            ],
            [
             0.1,
             "#c51b7d"
            ],
            [
             0.2,
             "#de77ae"
            ],
            [
             0.3,
             "#f1b6da"
            ],
            [
             0.4,
             "#fde0ef"
            ],
            [
             0.5,
             "#f7f7f7"
            ],
            [
             0.6,
             "#e6f5d0"
            ],
            [
             0.7,
             "#b8e186"
            ],
            [
             0.8,
             "#7fbc41"
            ],
            [
             0.9,
             "#4d9221"
            ],
            [
             1,
             "#276419"
            ]
           ],
           "sequential": [
            [
             0,
             "#0d0887"
            ],
            [
             0.1111111111111111,
             "#46039f"
            ],
            [
             0.2222222222222222,
             "#7201a8"
            ],
            [
             0.3333333333333333,
             "#9c179e"
            ],
            [
             0.4444444444444444,
             "#bd3786"
            ],
            [
             0.5555555555555556,
             "#d8576b"
            ],
            [
             0.6666666666666666,
             "#ed7953"
            ],
            [
             0.7777777777777778,
             "#fb9f3a"
            ],
            [
             0.8888888888888888,
             "#fdca26"
            ],
            [
             1,
             "#f0f921"
            ]
           ],
           "sequentialminus": [
            [
             0,
             "#0d0887"
            ],
            [
             0.1111111111111111,
             "#46039f"
            ],
            [
             0.2222222222222222,
             "#7201a8"
            ],
            [
             0.3333333333333333,
             "#9c179e"
            ],
            [
             0.4444444444444444,
             "#bd3786"
            ],
            [
             0.5555555555555556,
             "#d8576b"
            ],
            [
             0.6666666666666666,
             "#ed7953"
            ],
            [
             0.7777777777777778,
             "#fb9f3a"
            ],
            [
             0.8888888888888888,
             "#fdca26"
            ],
            [
             1,
             "#f0f921"
            ]
           ]
          },
          "colorway": [
           "#636efa",
           "#EF553B",
           "#00cc96",
           "#ab63fa",
           "#FFA15A",
           "#19d3f3",
           "#FF6692",
           "#B6E880",
           "#FF97FF",
           "#FECB52"
          ],
          "font": {
           "color": "#2a3f5f"
          },
          "geo": {
           "bgcolor": "white",
           "lakecolor": "white",
           "landcolor": "#E5ECF6",
           "showlakes": true,
           "showland": true,
           "subunitcolor": "white"
          },
          "hoverlabel": {
           "align": "left"
          },
          "hovermode": "closest",
          "mapbox": {
           "style": "light"
          },
          "paper_bgcolor": "white",
          "plot_bgcolor": "#E5ECF6",
          "polar": {
           "angularaxis": {
            "gridcolor": "white",
            "linecolor": "white",
            "ticks": ""
           },
           "bgcolor": "#E5ECF6",
           "radialaxis": {
            "gridcolor": "white",
            "linecolor": "white",
            "ticks": ""
           }
          },
          "scene": {
           "xaxis": {
            "backgroundcolor": "#E5ECF6",
            "gridcolor": "white",
            "gridwidth": 2,
            "linecolor": "white",
            "showbackground": true,
            "ticks": "",
            "zerolinecolor": "white"
           },
           "yaxis": {
            "backgroundcolor": "#E5ECF6",
            "gridcolor": "white",
            "gridwidth": 2,
            "linecolor": "white",
            "showbackground": true,
            "ticks": "",
            "zerolinecolor": "white"
           },
           "zaxis": {
            "backgroundcolor": "#E5ECF6",
            "gridcolor": "white",
            "gridwidth": 2,
            "linecolor": "white",
            "showbackground": true,
            "ticks": "",
            "zerolinecolor": "white"
           }
          },
          "shapedefaults": {
           "line": {
            "color": "#2a3f5f"
           }
          },
          "ternary": {
           "aaxis": {
            "gridcolor": "white",
            "linecolor": "white",
            "ticks": ""
           },
           "baxis": {
            "gridcolor": "white",
            "linecolor": "white",
            "ticks": ""
           },
           "bgcolor": "#E5ECF6",
           "caxis": {
            "gridcolor": "white",
            "linecolor": "white",
            "ticks": ""
           }
          },
          "title": {
           "x": 0.05
          },
          "xaxis": {
           "automargin": true,
           "gridcolor": "white",
           "linecolor": "white",
           "ticks": "",
           "title": {
            "standoff": 15
           },
           "zerolinecolor": "white",
           "zerolinewidth": 2
          },
          "yaxis": {
           "automargin": true,
           "gridcolor": "white",
           "linecolor": "white",
           "ticks": "",
           "title": {
            "standoff": 15
           },
           "zerolinecolor": "white",
           "zerolinewidth": 2
          }
         }
        },
        "title": {
         "text": "Clusters by State"
        }
       }
      }
     },
     "metadata": {},
     "output_type": "display_data"
    }
   ],
   "source": [
    "# Make 3 subplots for \n",
    "# Create a 1x3 grid of subplots with titles and a geo subplot type\n",
    "fig = make_subplots(\n",
    "    rows=1,\n",
    "    cols=3,\n",
    "    subplot_titles=('Total Rate', 'Male Rate', 'Female Rate'),\n",
    "    specs=[[{'type': 'choropleth'}, {'type': 'choropleth'}, {'type': 'choropleth'}]]\n",
    ")\n",
    "\n",
    "# Add your figures as subplots\n",
    "fig.add_trace(total_rate_fig.data[0], row=1, col=1)\n",
    "fig.add_trace(male_rate_fig.data[0], row=1, col=2)\n",
    "fig.add_trace(female_rate_fig.data[0], row=1, col=3)\n",
    "\n",
    "# Update the geo attribute of each subplot to set the scope to 'usa'\n",
    "fig.update_geos(scope='usa')\n",
    "\n",
    "# Update the layout to show the subplots\n",
    "fig.update_layout(title='Clusters by State')\n",
    "\n",
    "fig.show()"
   ]
  },
  {
   "cell_type": "code",
   "execution_count": 53,
   "metadata": {},
   "outputs": [
    {
     "data": {
      "application/vnd.plotly.v1+json": {
       "config": {
        "plotlyServerURL": "https://plot.ly"
       },
       "data": [
        {
         "coloraxis": "coloraxis",
         "geo": "geo",
         "hovertemplate": "State Abbreviation=%{location}<br>Cluster=%{z}<extra></extra>",
         "locationmode": "USA-states",
         "locations": [
          "AL",
          "AK",
          "AZ",
          "AR",
          "CA",
          "CO",
          "CT",
          "DE",
          null,
          "FL",
          "GA",
          "HI",
          "ID",
          "IL",
          "IN",
          "IA",
          "KS",
          "KY",
          "LA",
          "ME",
          "MD",
          "MA",
          "MI",
          "MN",
          "MS",
          "MO",
          "MT",
          "NE",
          "NV",
          "NH",
          "NJ",
          "NM",
          "NY",
          "NC",
          "ND",
          "OH",
          "OK",
          "OR",
          "PA",
          "RI",
          "SC",
          "SD",
          "TN",
          "TX",
          "UT",
          "VT",
          "VA",
          "WA",
          "WV",
          "WI",
          "WY",
          null
         ],
         "name": "",
         "type": "choropleth",
         "z": [
          1,
          1,
          3,
          2,
          1,
          2,
          0,
          1,
          0,
          2,
          2,
          1,
          2,
          0,
          1,
          0,
          1,
          2,
          2,
          0,
          0,
          0,
          1,
          0,
          3,
          1,
          1,
          0,
          2,
          0,
          0,
          2,
          0,
          1,
          0,
          1,
          2,
          1,
          1,
          0,
          1,
          3,
          1,
          2,
          1,
          0,
          1,
          1,
          3,
          1,
          1,
          1
         ]
        }
       ],
       "layout": {
        "coloraxis": {
         "colorbar": {
          "title": {
           "text": "Cluster"
          }
         },
         "colorscale": [
          [
           0,
           "#0d0887"
          ],
          [
           0.1111111111111111,
           "#46039f"
          ],
          [
           0.2222222222222222,
           "#7201a8"
          ],
          [
           0.3333333333333333,
           "#9c179e"
          ],
          [
           0.4444444444444444,
           "#bd3786"
          ],
          [
           0.5555555555555556,
           "#d8576b"
          ],
          [
           0.6666666666666666,
           "#ed7953"
          ],
          [
           0.7777777777777778,
           "#fb9f3a"
          ],
          [
           0.8888888888888888,
           "#fdca26"
          ],
          [
           1,
           "#f0f921"
          ]
         ]
        },
        "geo": {
         "center": {},
         "domain": {
          "x": [
           0,
           1
          ],
          "y": [
           0,
           1
          ]
         },
         "scope": "usa"
        },
        "legend": {
         "tracegroupgap": 0
        },
        "template": {
         "data": {
          "bar": [
           {
            "error_x": {
             "color": "#2a3f5f"
            },
            "error_y": {
             "color": "#2a3f5f"
            },
            "marker": {
             "line": {
              "color": "#E5ECF6",
              "width": 0.5
             },
             "pattern": {
              "fillmode": "overlay",
              "size": 10,
              "solidity": 0.2
             }
            },
            "type": "bar"
           }
          ],
          "barpolar": [
           {
            "marker": {
             "line": {
              "color": "#E5ECF6",
              "width": 0.5
             },
             "pattern": {
              "fillmode": "overlay",
              "size": 10,
              "solidity": 0.2
             }
            },
            "type": "barpolar"
           }
          ],
          "carpet": [
           {
            "aaxis": {
             "endlinecolor": "#2a3f5f",
             "gridcolor": "white",
             "linecolor": "white",
             "minorgridcolor": "white",
             "startlinecolor": "#2a3f5f"
            },
            "baxis": {
             "endlinecolor": "#2a3f5f",
             "gridcolor": "white",
             "linecolor": "white",
             "minorgridcolor": "white",
             "startlinecolor": "#2a3f5f"
            },
            "type": "carpet"
           }
          ],
          "choropleth": [
           {
            "colorbar": {
             "outlinewidth": 0,
             "ticks": ""
            },
            "type": "choropleth"
           }
          ],
          "contour": [
           {
            "colorbar": {
             "outlinewidth": 0,
             "ticks": ""
            },
            "colorscale": [
             [
              0,
              "#0d0887"
             ],
             [
              0.1111111111111111,
              "#46039f"
             ],
             [
              0.2222222222222222,
              "#7201a8"
             ],
             [
              0.3333333333333333,
              "#9c179e"
             ],
             [
              0.4444444444444444,
              "#bd3786"
             ],
             [
              0.5555555555555556,
              "#d8576b"
             ],
             [
              0.6666666666666666,
              "#ed7953"
             ],
             [
              0.7777777777777778,
              "#fb9f3a"
             ],
             [
              0.8888888888888888,
              "#fdca26"
             ],
             [
              1,
              "#f0f921"
             ]
            ],
            "type": "contour"
           }
          ],
          "contourcarpet": [
           {
            "colorbar": {
             "outlinewidth": 0,
             "ticks": ""
            },
            "type": "contourcarpet"
           }
          ],
          "heatmap": [
           {
            "colorbar": {
             "outlinewidth": 0,
             "ticks": ""
            },
            "colorscale": [
             [
              0,
              "#0d0887"
             ],
             [
              0.1111111111111111,
              "#46039f"
             ],
             [
              0.2222222222222222,
              "#7201a8"
             ],
             [
              0.3333333333333333,
              "#9c179e"
             ],
             [
              0.4444444444444444,
              "#bd3786"
             ],
             [
              0.5555555555555556,
              "#d8576b"
             ],
             [
              0.6666666666666666,
              "#ed7953"
             ],
             [
              0.7777777777777778,
              "#fb9f3a"
             ],
             [
              0.8888888888888888,
              "#fdca26"
             ],
             [
              1,
              "#f0f921"
             ]
            ],
            "type": "heatmap"
           }
          ],
          "heatmapgl": [
           {
            "colorbar": {
             "outlinewidth": 0,
             "ticks": ""
            },
            "colorscale": [
             [
              0,
              "#0d0887"
             ],
             [
              0.1111111111111111,
              "#46039f"
             ],
             [
              0.2222222222222222,
              "#7201a8"
             ],
             [
              0.3333333333333333,
              "#9c179e"
             ],
             [
              0.4444444444444444,
              "#bd3786"
             ],
             [
              0.5555555555555556,
              "#d8576b"
             ],
             [
              0.6666666666666666,
              "#ed7953"
             ],
             [
              0.7777777777777778,
              "#fb9f3a"
             ],
             [
              0.8888888888888888,
              "#fdca26"
             ],
             [
              1,
              "#f0f921"
             ]
            ],
            "type": "heatmapgl"
           }
          ],
          "histogram": [
           {
            "marker": {
             "pattern": {
              "fillmode": "overlay",
              "size": 10,
              "solidity": 0.2
             }
            },
            "type": "histogram"
           }
          ],
          "histogram2d": [
           {
            "colorbar": {
             "outlinewidth": 0,
             "ticks": ""
            },
            "colorscale": [
             [
              0,
              "#0d0887"
             ],
             [
              0.1111111111111111,
              "#46039f"
             ],
             [
              0.2222222222222222,
              "#7201a8"
             ],
             [
              0.3333333333333333,
              "#9c179e"
             ],
             [
              0.4444444444444444,
              "#bd3786"
             ],
             [
              0.5555555555555556,
              "#d8576b"
             ],
             [
              0.6666666666666666,
              "#ed7953"
             ],
             [
              0.7777777777777778,
              "#fb9f3a"
             ],
             [
              0.8888888888888888,
              "#fdca26"
             ],
             [
              1,
              "#f0f921"
             ]
            ],
            "type": "histogram2d"
           }
          ],
          "histogram2dcontour": [
           {
            "colorbar": {
             "outlinewidth": 0,
             "ticks": ""
            },
            "colorscale": [
             [
              0,
              "#0d0887"
             ],
             [
              0.1111111111111111,
              "#46039f"
             ],
             [
              0.2222222222222222,
              "#7201a8"
             ],
             [
              0.3333333333333333,
              "#9c179e"
             ],
             [
              0.4444444444444444,
              "#bd3786"
             ],
             [
              0.5555555555555556,
              "#d8576b"
             ],
             [
              0.6666666666666666,
              "#ed7953"
             ],
             [
              0.7777777777777778,
              "#fb9f3a"
             ],
             [
              0.8888888888888888,
              "#fdca26"
             ],
             [
              1,
              "#f0f921"
             ]
            ],
            "type": "histogram2dcontour"
           }
          ],
          "mesh3d": [
           {
            "colorbar": {
             "outlinewidth": 0,
             "ticks": ""
            },
            "type": "mesh3d"
           }
          ],
          "parcoords": [
           {
            "line": {
             "colorbar": {
              "outlinewidth": 0,
              "ticks": ""
             }
            },
            "type": "parcoords"
           }
          ],
          "pie": [
           {
            "automargin": true,
            "type": "pie"
           }
          ],
          "scatter": [
           {
            "fillpattern": {
             "fillmode": "overlay",
             "size": 10,
             "solidity": 0.2
            },
            "type": "scatter"
           }
          ],
          "scatter3d": [
           {
            "line": {
             "colorbar": {
              "outlinewidth": 0,
              "ticks": ""
             }
            },
            "marker": {
             "colorbar": {
              "outlinewidth": 0,
              "ticks": ""
             }
            },
            "type": "scatter3d"
           }
          ],
          "scattercarpet": [
           {
            "marker": {
             "colorbar": {
              "outlinewidth": 0,
              "ticks": ""
             }
            },
            "type": "scattercarpet"
           }
          ],
          "scattergeo": [
           {
            "marker": {
             "colorbar": {
              "outlinewidth": 0,
              "ticks": ""
             }
            },
            "type": "scattergeo"
           }
          ],
          "scattergl": [
           {
            "marker": {
             "colorbar": {
              "outlinewidth": 0,
              "ticks": ""
             }
            },
            "type": "scattergl"
           }
          ],
          "scattermapbox": [
           {
            "marker": {
             "colorbar": {
              "outlinewidth": 0,
              "ticks": ""
             }
            },
            "type": "scattermapbox"
           }
          ],
          "scatterpolar": [
           {
            "marker": {
             "colorbar": {
              "outlinewidth": 0,
              "ticks": ""
             }
            },
            "type": "scatterpolar"
           }
          ],
          "scatterpolargl": [
           {
            "marker": {
             "colorbar": {
              "outlinewidth": 0,
              "ticks": ""
             }
            },
            "type": "scatterpolargl"
           }
          ],
          "scatterternary": [
           {
            "marker": {
             "colorbar": {
              "outlinewidth": 0,
              "ticks": ""
             }
            },
            "type": "scatterternary"
           }
          ],
          "surface": [
           {
            "colorbar": {
             "outlinewidth": 0,
             "ticks": ""
            },
            "colorscale": [
             [
              0,
              "#0d0887"
             ],
             [
              0.1111111111111111,
              "#46039f"
             ],
             [
              0.2222222222222222,
              "#7201a8"
             ],
             [
              0.3333333333333333,
              "#9c179e"
             ],
             [
              0.4444444444444444,
              "#bd3786"
             ],
             [
              0.5555555555555556,
              "#d8576b"
             ],
             [
              0.6666666666666666,
              "#ed7953"
             ],
             [
              0.7777777777777778,
              "#fb9f3a"
             ],
             [
              0.8888888888888888,
              "#fdca26"
             ],
             [
              1,
              "#f0f921"
             ]
            ],
            "type": "surface"
           }
          ],
          "table": [
           {
            "cells": {
             "fill": {
              "color": "#EBF0F8"
             },
             "line": {
              "color": "white"
             }
            },
            "header": {
             "fill": {
              "color": "#C8D4E3"
             },
             "line": {
              "color": "white"
             }
            },
            "type": "table"
           }
          ]
         },
         "layout": {
          "annotationdefaults": {
           "arrowcolor": "#2a3f5f",
           "arrowhead": 0,
           "arrowwidth": 1
          },
          "autotypenumbers": "strict",
          "coloraxis": {
           "colorbar": {
            "outlinewidth": 0,
            "ticks": ""
           }
          },
          "colorscale": {
           "diverging": [
            [
             0,
             "#8e0152"
            ],
            [
             0.1,
             "#c51b7d"
            ],
            [
             0.2,
             "#de77ae"
            ],
            [
             0.3,
             "#f1b6da"
            ],
            [
             0.4,
             "#fde0ef"
            ],
            [
             0.5,
             "#f7f7f7"
            ],
            [
             0.6,
             "#e6f5d0"
            ],
            [
             0.7,
             "#b8e186"
            ],
            [
             0.8,
             "#7fbc41"
            ],
            [
             0.9,
             "#4d9221"
            ],
            [
             1,
             "#276419"
            ]
           ],
           "sequential": [
            [
             0,
             "#0d0887"
            ],
            [
             0.1111111111111111,
             "#46039f"
            ],
            [
             0.2222222222222222,
             "#7201a8"
            ],
            [
             0.3333333333333333,
             "#9c179e"
            ],
            [
             0.4444444444444444,
             "#bd3786"
            ],
            [
             0.5555555555555556,
             "#d8576b"
            ],
            [
             0.6666666666666666,
             "#ed7953"
            ],
            [
             0.7777777777777778,
             "#fb9f3a"
            ],
            [
             0.8888888888888888,
             "#fdca26"
            ],
            [
             1,
             "#f0f921"
            ]
           ],
           "sequentialminus": [
            [
             0,
             "#0d0887"
            ],
            [
             0.1111111111111111,
             "#46039f"
            ],
            [
             0.2222222222222222,
             "#7201a8"
            ],
            [
             0.3333333333333333,
             "#9c179e"
            ],
            [
             0.4444444444444444,
             "#bd3786"
            ],
            [
             0.5555555555555556,
             "#d8576b"
            ],
            [
             0.6666666666666666,
             "#ed7953"
            ],
            [
             0.7777777777777778,
             "#fb9f3a"
            ],
            [
             0.8888888888888888,
             "#fdca26"
            ],
            [
             1,
             "#f0f921"
            ]
           ]
          },
          "colorway": [
           "#636efa",
           "#EF553B",
           "#00cc96",
           "#ab63fa",
           "#FFA15A",
           "#19d3f3",
           "#FF6692",
           "#B6E880",
           "#FF97FF",
           "#FECB52"
          ],
          "font": {
           "color": "#2a3f5f"
          },
          "geo": {
           "bgcolor": "white",
           "lakecolor": "white",
           "landcolor": "#E5ECF6",
           "showlakes": true,
           "showland": true,
           "subunitcolor": "white"
          },
          "hoverlabel": {
           "align": "left"
          },
          "hovermode": "closest",
          "mapbox": {
           "style": "light"
          },
          "paper_bgcolor": "white",
          "plot_bgcolor": "#E5ECF6",
          "polar": {
           "angularaxis": {
            "gridcolor": "white",
            "linecolor": "white",
            "ticks": ""
           },
           "bgcolor": "#E5ECF6",
           "radialaxis": {
            "gridcolor": "white",
            "linecolor": "white",
            "ticks": ""
           }
          },
          "scene": {
           "xaxis": {
            "backgroundcolor": "#E5ECF6",
            "gridcolor": "white",
            "gridwidth": 2,
            "linecolor": "white",
            "showbackground": true,
            "ticks": "",
            "zerolinecolor": "white"
           },
           "yaxis": {
            "backgroundcolor": "#E5ECF6",
            "gridcolor": "white",
            "gridwidth": 2,
            "linecolor": "white",
            "showbackground": true,
            "ticks": "",
            "zerolinecolor": "white"
           },
           "zaxis": {
            "backgroundcolor": "#E5ECF6",
            "gridcolor": "white",
            "gridwidth": 2,
            "linecolor": "white",
            "showbackground": true,
            "ticks": "",
            "zerolinecolor": "white"
           }
          },
          "shapedefaults": {
           "line": {
            "color": "#2a3f5f"
           }
          },
          "ternary": {
           "aaxis": {
            "gridcolor": "white",
            "linecolor": "white",
            "ticks": ""
           },
           "baxis": {
            "gridcolor": "white",
            "linecolor": "white",
            "ticks": ""
           },
           "bgcolor": "#E5ECF6",
           "caxis": {
            "gridcolor": "white",
            "linecolor": "white",
            "ticks": ""
           }
          },
          "title": {
           "x": 0.05
          },
          "xaxis": {
           "automargin": true,
           "gridcolor": "white",
           "linecolor": "white",
           "ticks": "",
           "title": {
            "standoff": 15
           },
           "zerolinecolor": "white",
           "zerolinewidth": 2
          },
          "yaxis": {
           "automargin": true,
           "gridcolor": "white",
           "linecolor": "white",
           "ticks": "",
           "title": {
            "standoff": 15
           },
           "zerolinecolor": "white",
           "zerolinewidth": 2
          }
         }
        },
        "title": {
         "text": "Clusters by State"
        }
       }
      }
     },
     "metadata": {},
     "output_type": "display_data"
    }
   ],
   "source": [
    "full  = processData(data_t)\n",
    "stateClusterGraph(runKmeans(full, getX(full), n))"
   ]
  },
  {
   "cell_type": "code",
   "execution_count": 54,
   "metadata": {},
   "outputs": [
    {
     "data": {
      "application/vnd.plotly.v1+json": {
       "config": {
        "plotlyServerURL": "https://plot.ly"
       },
       "data": [
        {
         "alignmentgroup": "True",
         "hovertemplate": "Geography=%{x}<br>Total : In Correctional Facilities for Adults=%{y}<br>Cluster=%{marker.color}<extra></extra>",
         "legendgroup": "",
         "marker": {
          "color": [
           0,
           0,
           3,
           3,
           0,
           1,
           2,
           0,
           2,
           1,
           1,
           0,
           1,
           2,
           0,
           2,
           0,
           1,
           1,
           2,
           2,
           2,
           0,
           2,
           3,
           0,
           0,
           2,
           1,
           2,
           2,
           1,
           2,
           0,
           2,
           0,
           1,
           0,
           0,
           2,
           0,
           3,
           0,
           1,
           0,
           2,
           0,
           0,
           3,
           0,
           0,
           0
          ],
          "coloraxis": "coloraxis",
          "pattern": {
           "shape": ""
          }
         },
         "name": "",
         "offsetgroup": "",
         "orientation": "v",
         "showlegend": false,
         "textposition": "auto",
         "type": "bar",
         "x": [
          "Alabama",
          "Alaska",
          "Arizona",
          "Arkansas",
          "California",
          "Colorado",
          "Connecticut",
          "Delaware",
          "District of Columbia",
          "Florida",
          "Georgia",
          "Hawaii",
          "Idaho",
          "Illinois",
          "Indiana",
          "Iowa",
          "Kansas",
          "Kentucky",
          "Louisiana",
          "Maine",
          "Maryland",
          "Massachusetts",
          "Michigan",
          "Minnesota",
          "Mississippi",
          "Missouri",
          "Montana",
          "Nebraska",
          "Nevada",
          "New Hampshire",
          "New Jersey",
          "New Mexico",
          "New York",
          "North Carolina",
          "North Dakota",
          "Ohio",
          "Oklahoma",
          "Oregon",
          "Pennsylvania",
          "Rhode Island",
          "South Carolina",
          "South Dakota",
          "Tennessee",
          "Texas",
          "Utah",
          "Vermont",
          "Virginia",
          "Washington",
          "West Virginia",
          "Wisconsin",
          "Wyoming",
          "Puerto Rico"
         ],
         "xaxis": "x",
         "y": [
          -0.04660723933019975,
          -0.730722463764818,
          0.4329254147388919,
          -0.3297998982997367,
          3.9425583950665737,
          -0.05725775793229823,
          -0.43532338434522383,
          -0.6875091422018689,
          -0.7406505993660785,
          2.272557078257531,
          1.1032227489523527,
          -0.7016974852439687,
          -0.5983781934830898,
          0.49384638114289525,
          0.0896082629303781,
          -0.5609809812089388,
          -0.4742579758262864,
          -0.04521804125166516,
          0.31236154416313705,
          -0.7386316314919416,
          -0.14844471980730842,
          -0.3541756939177569,
          0.33494064359958586,
          -0.42974806939003835,
          -0.17528402668459658,
          -0.032585600057524,
          -0.7083841586619819,
          -0.6577617806801815,
          -0.43975029555548734,
          -0.7173305942877446,
          0.016573489281553184,
          -0.477240121034874,
          0.939038058710612,
          0.32182661373821936,
          -0.7606920969790708,
          0.6089460726097474,
          -0.05694287303449706,
          -0.39620356645368987,
          0.9986624402413163,
          -0.7367793673872288,
          -0.0446438393792042,
          -0.689861517614854,
          0.06032396743486906,
          4.123969141482144,
          -0.5727243356328179,
          -0.7773254286393916,
          0.40071454195793665,
          -0.2158671332188536,
          -0.5000600148049354,
          -0.10569446427053744,
          -0.7409099163407383,
          -0.5666303867283128
         ],
         "yaxis": "y"
        }
       ],
       "layout": {
        "barmode": "relative",
        "coloraxis": {
         "colorbar": {
          "title": {
           "text": "Cluster"
          }
         },
         "colorscale": [
          [
           0,
           "#0d0887"
          ],
          [
           0.1111111111111111,
           "#46039f"
          ],
          [
           0.2222222222222222,
           "#7201a8"
          ],
          [
           0.3333333333333333,
           "#9c179e"
          ],
          [
           0.4444444444444444,
           "#bd3786"
          ],
          [
           0.5555555555555556,
           "#d8576b"
          ],
          [
           0.6666666666666666,
           "#ed7953"
          ],
          [
           0.7777777777777778,
           "#fb9f3a"
          ],
          [
           0.8888888888888888,
           "#fdca26"
          ],
          [
           1,
           "#f0f921"
          ]
         ]
        },
        "legend": {
         "tracegroupgap": 0
        },
        "margin": {
         "t": 60
        },
        "template": {
         "data": {
          "bar": [
           {
            "error_x": {
             "color": "#2a3f5f"
            },
            "error_y": {
             "color": "#2a3f5f"
            },
            "marker": {
             "line": {
              "color": "#E5ECF6",
              "width": 0.5
             },
             "pattern": {
              "fillmode": "overlay",
              "size": 10,
              "solidity": 0.2
             }
            },
            "type": "bar"
           }
          ],
          "barpolar": [
           {
            "marker": {
             "line": {
              "color": "#E5ECF6",
              "width": 0.5
             },
             "pattern": {
              "fillmode": "overlay",
              "size": 10,
              "solidity": 0.2
             }
            },
            "type": "barpolar"
           }
          ],
          "carpet": [
           {
            "aaxis": {
             "endlinecolor": "#2a3f5f",
             "gridcolor": "white",
             "linecolor": "white",
             "minorgridcolor": "white",
             "startlinecolor": "#2a3f5f"
            },
            "baxis": {
             "endlinecolor": "#2a3f5f",
             "gridcolor": "white",
             "linecolor": "white",
             "minorgridcolor": "white",
             "startlinecolor": "#2a3f5f"
            },
            "type": "carpet"
           }
          ],
          "choropleth": [
           {
            "colorbar": {
             "outlinewidth": 0,
             "ticks": ""
            },
            "type": "choropleth"
           }
          ],
          "contour": [
           {
            "colorbar": {
             "outlinewidth": 0,
             "ticks": ""
            },
            "colorscale": [
             [
              0,
              "#0d0887"
             ],
             [
              0.1111111111111111,
              "#46039f"
             ],
             [
              0.2222222222222222,
              "#7201a8"
             ],
             [
              0.3333333333333333,
              "#9c179e"
             ],
             [
              0.4444444444444444,
              "#bd3786"
             ],
             [
              0.5555555555555556,
              "#d8576b"
             ],
             [
              0.6666666666666666,
              "#ed7953"
             ],
             [
              0.7777777777777778,
              "#fb9f3a"
             ],
             [
              0.8888888888888888,
              "#fdca26"
             ],
             [
              1,
              "#f0f921"
             ]
            ],
            "type": "contour"
           }
          ],
          "contourcarpet": [
           {
            "colorbar": {
             "outlinewidth": 0,
             "ticks": ""
            },
            "type": "contourcarpet"
           }
          ],
          "heatmap": [
           {
            "colorbar": {
             "outlinewidth": 0,
             "ticks": ""
            },
            "colorscale": [
             [
              0,
              "#0d0887"
             ],
             [
              0.1111111111111111,
              "#46039f"
             ],
             [
              0.2222222222222222,
              "#7201a8"
             ],
             [
              0.3333333333333333,
              "#9c179e"
             ],
             [
              0.4444444444444444,
              "#bd3786"
             ],
             [
              0.5555555555555556,
              "#d8576b"
             ],
             [
              0.6666666666666666,
              "#ed7953"
             ],
             [
              0.7777777777777778,
              "#fb9f3a"
             ],
             [
              0.8888888888888888,
              "#fdca26"
             ],
             [
              1,
              "#f0f921"
             ]
            ],
            "type": "heatmap"
           }
          ],
          "heatmapgl": [
           {
            "colorbar": {
             "outlinewidth": 0,
             "ticks": ""
            },
            "colorscale": [
             [
              0,
              "#0d0887"
             ],
             [
              0.1111111111111111,
              "#46039f"
             ],
             [
              0.2222222222222222,
              "#7201a8"
             ],
             [
              0.3333333333333333,
              "#9c179e"
             ],
             [
              0.4444444444444444,
              "#bd3786"
             ],
             [
              0.5555555555555556,
              "#d8576b"
             ],
             [
              0.6666666666666666,
              "#ed7953"
             ],
             [
              0.7777777777777778,
              "#fb9f3a"
             ],
             [
              0.8888888888888888,
              "#fdca26"
             ],
             [
              1,
              "#f0f921"
             ]
            ],
            "type": "heatmapgl"
           }
          ],
          "histogram": [
           {
            "marker": {
             "pattern": {
              "fillmode": "overlay",
              "size": 10,
              "solidity": 0.2
             }
            },
            "type": "histogram"
           }
          ],
          "histogram2d": [
           {
            "colorbar": {
             "outlinewidth": 0,
             "ticks": ""
            },
            "colorscale": [
             [
              0,
              "#0d0887"
             ],
             [
              0.1111111111111111,
              "#46039f"
             ],
             [
              0.2222222222222222,
              "#7201a8"
             ],
             [
              0.3333333333333333,
              "#9c179e"
             ],
             [
              0.4444444444444444,
              "#bd3786"
             ],
             [
              0.5555555555555556,
              "#d8576b"
             ],
             [
              0.6666666666666666,
              "#ed7953"
             ],
             [
              0.7777777777777778,
              "#fb9f3a"
             ],
             [
              0.8888888888888888,
              "#fdca26"
             ],
             [
              1,
              "#f0f921"
             ]
            ],
            "type": "histogram2d"
           }
          ],
          "histogram2dcontour": [
           {
            "colorbar": {
             "outlinewidth": 0,
             "ticks": ""
            },
            "colorscale": [
             [
              0,
              "#0d0887"
             ],
             [
              0.1111111111111111,
              "#46039f"
             ],
             [
              0.2222222222222222,
              "#7201a8"
             ],
             [
              0.3333333333333333,
              "#9c179e"
             ],
             [
              0.4444444444444444,
              "#bd3786"
             ],
             [
              0.5555555555555556,
              "#d8576b"
             ],
             [
              0.6666666666666666,
              "#ed7953"
             ],
             [
              0.7777777777777778,
              "#fb9f3a"
             ],
             [
              0.8888888888888888,
              "#fdca26"
             ],
             [
              1,
              "#f0f921"
             ]
            ],
            "type": "histogram2dcontour"
           }
          ],
          "mesh3d": [
           {
            "colorbar": {
             "outlinewidth": 0,
             "ticks": ""
            },
            "type": "mesh3d"
           }
          ],
          "parcoords": [
           {
            "line": {
             "colorbar": {
              "outlinewidth": 0,
              "ticks": ""
             }
            },
            "type": "parcoords"
           }
          ],
          "pie": [
           {
            "automargin": true,
            "type": "pie"
           }
          ],
          "scatter": [
           {
            "fillpattern": {
             "fillmode": "overlay",
             "size": 10,
             "solidity": 0.2
            },
            "type": "scatter"
           }
          ],
          "scatter3d": [
           {
            "line": {
             "colorbar": {
              "outlinewidth": 0,
              "ticks": ""
             }
            },
            "marker": {
             "colorbar": {
              "outlinewidth": 0,
              "ticks": ""
             }
            },
            "type": "scatter3d"
           }
          ],
          "scattercarpet": [
           {
            "marker": {
             "colorbar": {
              "outlinewidth": 0,
              "ticks": ""
             }
            },
            "type": "scattercarpet"
           }
          ],
          "scattergeo": [
           {
            "marker": {
             "colorbar": {
              "outlinewidth": 0,
              "ticks": ""
             }
            },
            "type": "scattergeo"
           }
          ],
          "scattergl": [
           {
            "marker": {
             "colorbar": {
              "outlinewidth": 0,
              "ticks": ""
             }
            },
            "type": "scattergl"
           }
          ],
          "scattermapbox": [
           {
            "marker": {
             "colorbar": {
              "outlinewidth": 0,
              "ticks": ""
             }
            },
            "type": "scattermapbox"
           }
          ],
          "scatterpolar": [
           {
            "marker": {
             "colorbar": {
              "outlinewidth": 0,
              "ticks": ""
             }
            },
            "type": "scatterpolar"
           }
          ],
          "scatterpolargl": [
           {
            "marker": {
             "colorbar": {
              "outlinewidth": 0,
              "ticks": ""
             }
            },
            "type": "scatterpolargl"
           }
          ],
          "scatterternary": [
           {
            "marker": {
             "colorbar": {
              "outlinewidth": 0,
              "ticks": ""
             }
            },
            "type": "scatterternary"
           }
          ],
          "surface": [
           {
            "colorbar": {
             "outlinewidth": 0,
             "ticks": ""
            },
            "colorscale": [
             [
              0,
              "#0d0887"
             ],
             [
              0.1111111111111111,
              "#46039f"
             ],
             [
              0.2222222222222222,
              "#7201a8"
             ],
             [
              0.3333333333333333,
              "#9c179e"
             ],
             [
              0.4444444444444444,
              "#bd3786"
             ],
             [
              0.5555555555555556,
              "#d8576b"
             ],
             [
              0.6666666666666666,
              "#ed7953"
             ],
             [
              0.7777777777777778,
              "#fb9f3a"
             ],
             [
              0.8888888888888888,
              "#fdca26"
             ],
             [
              1,
              "#f0f921"
             ]
            ],
            "type": "surface"
           }
          ],
          "table": [
           {
            "cells": {
             "fill": {
              "color": "#EBF0F8"
             },
             "line": {
              "color": "white"
             }
            },
            "header": {
             "fill": {
              "color": "#C8D4E3"
             },
             "line": {
              "color": "white"
             }
            },
            "type": "table"
           }
          ]
         },
         "layout": {
          "annotationdefaults": {
           "arrowcolor": "#2a3f5f",
           "arrowhead": 0,
           "arrowwidth": 1
          },
          "autotypenumbers": "strict",
          "coloraxis": {
           "colorbar": {
            "outlinewidth": 0,
            "ticks": ""
           }
          },
          "colorscale": {
           "diverging": [
            [
             0,
             "#8e0152"
            ],
            [
             0.1,
             "#c51b7d"
            ],
            [
             0.2,
             "#de77ae"
            ],
            [
             0.3,
             "#f1b6da"
            ],
            [
             0.4,
             "#fde0ef"
            ],
            [
             0.5,
             "#f7f7f7"
            ],
            [
             0.6,
             "#e6f5d0"
            ],
            [
             0.7,
             "#b8e186"
            ],
            [
             0.8,
             "#7fbc41"
            ],
            [
             0.9,
             "#4d9221"
            ],
            [
             1,
             "#276419"
            ]
           ],
           "sequential": [
            [
             0,
             "#0d0887"
            ],
            [
             0.1111111111111111,
             "#46039f"
            ],
            [
             0.2222222222222222,
             "#7201a8"
            ],
            [
             0.3333333333333333,
             "#9c179e"
            ],
            [
             0.4444444444444444,
             "#bd3786"
            ],
            [
             0.5555555555555556,
             "#d8576b"
            ],
            [
             0.6666666666666666,
             "#ed7953"
            ],
            [
             0.7777777777777778,
             "#fb9f3a"
            ],
            [
             0.8888888888888888,
             "#fdca26"
            ],
            [
             1,
             "#f0f921"
            ]
           ],
           "sequentialminus": [
            [
             0,
             "#0d0887"
            ],
            [
             0.1111111111111111,
             "#46039f"
            ],
            [
             0.2222222222222222,
             "#7201a8"
            ],
            [
             0.3333333333333333,
             "#9c179e"
            ],
            [
             0.4444444444444444,
             "#bd3786"
            ],
            [
             0.5555555555555556,
             "#d8576b"
            ],
            [
             0.6666666666666666,
             "#ed7953"
            ],
            [
             0.7777777777777778,
             "#fb9f3a"
            ],
            [
             0.8888888888888888,
             "#fdca26"
            ],
            [
             1,
             "#f0f921"
            ]
           ]
          },
          "colorway": [
           "#636efa",
           "#EF553B",
           "#00cc96",
           "#ab63fa",
           "#FFA15A",
           "#19d3f3",
           "#FF6692",
           "#B6E880",
           "#FF97FF",
           "#FECB52"
          ],
          "font": {
           "color": "#2a3f5f"
          },
          "geo": {
           "bgcolor": "white",
           "lakecolor": "white",
           "landcolor": "#E5ECF6",
           "showlakes": true,
           "showland": true,
           "subunitcolor": "white"
          },
          "hoverlabel": {
           "align": "left"
          },
          "hovermode": "closest",
          "mapbox": {
           "style": "light"
          },
          "paper_bgcolor": "white",
          "plot_bgcolor": "#E5ECF6",
          "polar": {
           "angularaxis": {
            "gridcolor": "white",
            "linecolor": "white",
            "ticks": ""
           },
           "bgcolor": "#E5ECF6",
           "radialaxis": {
            "gridcolor": "white",
            "linecolor": "white",
            "ticks": ""
           }
          },
          "scene": {
           "xaxis": {
            "backgroundcolor": "#E5ECF6",
            "gridcolor": "white",
            "gridwidth": 2,
            "linecolor": "white",
            "showbackground": true,
            "ticks": "",
            "zerolinecolor": "white"
           },
           "yaxis": {
            "backgroundcolor": "#E5ECF6",
            "gridcolor": "white",
            "gridwidth": 2,
            "linecolor": "white",
            "showbackground": true,
            "ticks": "",
            "zerolinecolor": "white"
           },
           "zaxis": {
            "backgroundcolor": "#E5ECF6",
            "gridcolor": "white",
            "gridwidth": 2,
            "linecolor": "white",
            "showbackground": true,
            "ticks": "",
            "zerolinecolor": "white"
           }
          },
          "shapedefaults": {
           "line": {
            "color": "#2a3f5f"
           }
          },
          "ternary": {
           "aaxis": {
            "gridcolor": "white",
            "linecolor": "white",
            "ticks": ""
           },
           "baxis": {
            "gridcolor": "white",
            "linecolor": "white",
            "ticks": ""
           },
           "bgcolor": "#E5ECF6",
           "caxis": {
            "gridcolor": "white",
            "linecolor": "white",
            "ticks": ""
           }
          },
          "title": {
           "x": 0.05
          },
          "xaxis": {
           "automargin": true,
           "gridcolor": "white",
           "linecolor": "white",
           "ticks": "",
           "title": {
            "standoff": 15
           },
           "zerolinecolor": "white",
           "zerolinewidth": 2
          },
          "yaxis": {
           "automargin": true,
           "gridcolor": "white",
           "linecolor": "white",
           "ticks": "",
           "title": {
            "standoff": 15
           },
           "zerolinecolor": "white",
           "zerolinewidth": 2
          }
         }
        },
        "xaxis": {
         "anchor": "y",
         "domain": [
          0,
          1
         ],
         "title": {
          "text": "Geography"
         }
        },
        "yaxis": {
         "anchor": "x",
         "domain": [
          0,
          1
         ],
         "title": {
          "text": "Total : In Correctional Facilities for Adults"
         }
        }
       }
      }
     },
     "metadata": {},
     "output_type": "display_data"
    }
   ],
   "source": [
    "createBarChart(runKmeans(full, getX(full), n), x_axis=\"Geography\", y_axis='Total : In Correctional Facilities for Adults')\n"
   ]
  },
  {
   "cell_type": "code",
   "execution_count": 55,
   "metadata": {},
   "outputs": [
    {
     "data": {
      "text/html": [
       "<div>\n",
       "<style scoped>\n",
       "    .dataframe tbody tr th:only-of-type {\n",
       "        vertical-align: middle;\n",
       "    }\n",
       "\n",
       "    .dataframe tbody tr th {\n",
       "        vertical-align: top;\n",
       "    }\n",
       "\n",
       "    .dataframe thead th {\n",
       "        text-align: right;\n",
       "    }\n",
       "</style>\n",
       "<table border=\"1\" class=\"dataframe\">\n",
       "  <thead>\n",
       "    <tr style=\"text-align: right;\">\n",
       "      <th></th>\n",
       "      <th>Geography</th>\n",
       "      <th>Total : In Correctional Facilities for Adults</th>\n",
       "      <th>White alone : in Correctional Facilities for Adults</th>\n",
       "      <th>Black or African American alone : in Correctional Facilities for Adults</th>\n",
       "      <th>American Indian and Alaska Native alone : in Correctional Facilities for Adults</th>\n",
       "      <th>Asian alone : in Correctional Facilities for Adults</th>\n",
       "      <th>Native Hawaiian and other Pacific Islander alone : in Correctional Facilities for Adults</th>\n",
       "      <th>Some other race alone : in Correctional Facilities for Adults</th>\n",
       "      <th>Two or more races : in Correctional Facilities for Adults</th>\n",
       "      <th>Hispanic or Latino : in Correctional Facilities for Adults</th>\n",
       "      <th>...</th>\n",
       "      <th>Percent Total : In Correctional Facilities for Adults</th>\n",
       "      <th>Percent White alone : in Correctional Facilities for Adults</th>\n",
       "      <th>Percent Black or African American alone : in Correctional Facilities for Adults</th>\n",
       "      <th>Percent American Indian and Alaska Native alone : in Correctional Facilities for Adults</th>\n",
       "      <th>Percent Asian alone : in Correctional Facilities for Adults</th>\n",
       "      <th>Percent Native Hawaiian and other Pacific Islander alone : in Correctional Facilities for Adults</th>\n",
       "      <th>Percent Some other race alone : in Correctional Facilities for Adults</th>\n",
       "      <th>Percent Two or more races : in Correctional Facilities for Adults</th>\n",
       "      <th>Percent Hispanic or Latino : in Correctional Facilities for Adults</th>\n",
       "      <th>Percent White alone, not Hispanic or Latino : in Correctional Facilities for Adults</th>\n",
       "    </tr>\n",
       "  </thead>\n",
       "  <tbody>\n",
       "    <tr>\n",
       "      <th>1</th>\n",
       "      <td>Alabama</td>\n",
       "      <td>-0.046607</td>\n",
       "      <td>-0.142180</td>\n",
       "      <td>0.242536</td>\n",
       "      <td>-0.567108</td>\n",
       "      <td>-0.394687</td>\n",
       "      <td>-0.297112</td>\n",
       "      <td>-0.338043</td>\n",
       "      <td>-0.266801</td>\n",
       "      <td>-0.359694</td>\n",
       "      <td>...</td>\n",
       "      <td>0.778557</td>\n",
       "      <td>0.116720</td>\n",
       "      <td>1.196984</td>\n",
       "      <td>-0.497613</td>\n",
       "      <td>-0.362543</td>\n",
       "      <td>-0.184697</td>\n",
       "      <td>-0.624849</td>\n",
       "      <td>-0.374025</td>\n",
       "      <td>-0.673932</td>\n",
       "      <td>0.452954</td>\n",
       "    </tr>\n",
       "    <tr>\n",
       "      <th>2</th>\n",
       "      <td>Alaska</td>\n",
       "      <td>-0.730722</td>\n",
       "      <td>-0.728050</td>\n",
       "      <td>-0.808617</td>\n",
       "      <td>0.717104</td>\n",
       "      <td>-0.413876</td>\n",
       "      <td>-0.175232</td>\n",
       "      <td>-0.372633</td>\n",
       "      <td>-0.132105</td>\n",
       "      <td>-0.421320</td>\n",
       "      <td>...</td>\n",
       "      <td>-0.393883</td>\n",
       "      <td>-0.759681</td>\n",
       "      <td>-1.028199</td>\n",
       "      <td>3.889943</td>\n",
       "      <td>0.049236</td>\n",
       "      <td>0.099612</td>\n",
       "      <td>-0.674099</td>\n",
       "      <td>4.931315</td>\n",
       "      <td>-0.626035</td>\n",
       "      <td>-0.521721</td>\n",
       "    </tr>\n",
       "    <tr>\n",
       "      <th>3</th>\n",
       "      <td>Arizona</td>\n",
       "      <td>0.432925</td>\n",
       "      <td>0.493162</td>\n",
       "      <td>-0.433127</td>\n",
       "      <td>5.182977</td>\n",
       "      <td>1.189169</td>\n",
       "      <td>2.680262</td>\n",
       "      <td>1.359909</td>\n",
       "      <td>2.033800</td>\n",
       "      <td>0.989995</td>\n",
       "      <td>...</td>\n",
       "      <td>1.566222</td>\n",
       "      <td>1.369571</td>\n",
       "      <td>-0.575191</td>\n",
       "      <td>1.579874</td>\n",
       "      <td>0.994442</td>\n",
       "      <td>0.542049</td>\n",
       "      <td>4.601887</td>\n",
       "      <td>1.792646</td>\n",
       "      <td>3.162997</td>\n",
       "      <td>0.481669</td>\n",
       "    </tr>\n",
       "    <tr>\n",
       "      <th>4</th>\n",
       "      <td>Arkansas</td>\n",
       "      <td>-0.329800</td>\n",
       "      <td>-0.295128</td>\n",
       "      <td>-0.301858</td>\n",
       "      <td>-0.491000</td>\n",
       "      <td>-0.309073</td>\n",
       "      <td>-0.276799</td>\n",
       "      <td>-0.301128</td>\n",
       "      <td>-0.408680</td>\n",
       "      <td>-0.345101</td>\n",
       "      <td>...</td>\n",
       "      <td>0.880933</td>\n",
       "      <td>0.780596</td>\n",
       "      <td>0.712382</td>\n",
       "      <td>-0.415384</td>\n",
       "      <td>-0.136074</td>\n",
       "      <td>-0.171999</td>\n",
       "      <td>-0.271594</td>\n",
       "      <td>-0.237207</td>\n",
       "      <td>-0.396694</td>\n",
       "      <td>1.097369</td>\n",
       "    </tr>\n",
       "    <tr>\n",
       "      <th>5</th>\n",
       "      <td>California</td>\n",
       "      <td>3.942558</td>\n",
       "      <td>3.880568</td>\n",
       "      <td>2.511116</td>\n",
       "      <td>2.521824</td>\n",
       "      <td>6.283193</td>\n",
       "      <td>2.273992</td>\n",
       "      <td>5.696049</td>\n",
       "      <td>5.345515</td>\n",
       "      <td>5.121527</td>\n",
       "      <td>...</td>\n",
       "      <td>0.066503</td>\n",
       "      <td>-0.087059</td>\n",
       "      <td>-0.262475</td>\n",
       "      <td>-0.334935</td>\n",
       "      <td>0.551467</td>\n",
       "      <td>-0.079390</td>\n",
       "      <td>2.447333</td>\n",
       "      <td>-0.011218</td>\n",
       "      <td>1.798686</td>\n",
       "      <td>-0.924720</td>\n",
       "    </tr>\n",
       "    <tr>\n",
       "      <th>6</th>\n",
       "      <td>Colorado</td>\n",
       "      <td>-0.057258</td>\n",
       "      <td>0.237743</td>\n",
       "      <td>-0.471527</td>\n",
       "      <td>0.800210</td>\n",
       "      <td>0.083570</td>\n",
       "      <td>-0.163624</td>\n",
       "      <td>-0.127081</td>\n",
       "      <td>0.324064</td>\n",
       "      <td>0.261083</td>\n",
       "      <td>...</td>\n",
       "      <td>0.552753</td>\n",
       "      <td>1.440971</td>\n",
       "      <td>-0.478093</td>\n",
       "      <td>0.131166</td>\n",
       "      <td>0.162876</td>\n",
       "      <td>-0.143385</td>\n",
       "      <td>0.198959</td>\n",
       "      <td>0.356482</td>\n",
       "      <td>1.597301</td>\n",
       "      <td>0.436373</td>\n",
       "    </tr>\n",
       "    <tr>\n",
       "      <th>7</th>\n",
       "      <td>Connecticut</td>\n",
       "      <td>-0.435323</td>\n",
       "      <td>-0.536433</td>\n",
       "      <td>-0.431118</td>\n",
       "      <td>-0.561860</td>\n",
       "      <td>-0.294312</td>\n",
       "      <td>-0.163624</td>\n",
       "      <td>0.204197</td>\n",
       "      <td>-0.329659</td>\n",
       "      <td>-0.133714</td>\n",
       "      <td>...</td>\n",
       "      <td>-0.465060</td>\n",
       "      <td>-1.123388</td>\n",
       "      <td>-0.043367</td>\n",
       "      <td>-0.482754</td>\n",
       "      <td>-0.172825</td>\n",
       "      <td>-0.125407</td>\n",
       "      <td>2.437310</td>\n",
       "      <td>-0.249085</td>\n",
       "      <td>0.594211</td>\n",
       "      <td>-1.003000</td>\n",
       "    </tr>\n",
       "    <tr>\n",
       "      <th>8</th>\n",
       "      <td>Delaware</td>\n",
       "      <td>-0.687509</td>\n",
       "      <td>-0.701335</td>\n",
       "      <td>-0.639618</td>\n",
       "      <td>-0.631844</td>\n",
       "      <td>-0.467016</td>\n",
       "      <td>-0.294210</td>\n",
       "      <td>-0.370309</td>\n",
       "      <td>-0.744521</td>\n",
       "      <td>-0.424627</td>\n",
       "      <td>...</td>\n",
       "      <td>0.186976</td>\n",
       "      <td>-0.551093</td>\n",
       "      <td>0.987194</td>\n",
       "      <td>-0.518012</td>\n",
       "      <td>-0.387369</td>\n",
       "      <td>-0.167352</td>\n",
       "      <td>-0.645914</td>\n",
       "      <td>-0.771358</td>\n",
       "      <td>-0.764604</td>\n",
       "      <td>-0.232386</td>\n",
       "    </tr>\n",
       "    <tr>\n",
       "      <th>9</th>\n",
       "      <td>District of Columbia</td>\n",
       "      <td>-0.740651</td>\n",
       "      <td>-0.784974</td>\n",
       "      <td>-0.673284</td>\n",
       "      <td>-0.618722</td>\n",
       "      <td>-0.446350</td>\n",
       "      <td>-0.302916</td>\n",
       "      <td>-0.363063</td>\n",
       "      <td>-0.602642</td>\n",
       "      <td>-0.419168</td>\n",
       "      <td>...</td>\n",
       "      <td>-0.330457</td>\n",
       "      <td>-2.266538</td>\n",
       "      <td>1.472125</td>\n",
       "      <td>-0.460769</td>\n",
       "      <td>-0.159756</td>\n",
       "      <td>-0.180010</td>\n",
       "      <td>-0.338767</td>\n",
       "      <td>0.919432</td>\n",
       "      <td>-0.499098</td>\n",
       "      <td>-2.207822</td>\n",
       "    </tr>\n",
       "    <tr>\n",
       "      <th>10</th>\n",
       "      <td>Florida</td>\n",
       "      <td>2.272557</td>\n",
       "      <td>2.295312</td>\n",
       "      <td>2.806172</td>\n",
       "      <td>-0.268800</td>\n",
       "      <td>0.180993</td>\n",
       "      <td>-0.201349</td>\n",
       "      <td>-0.048602</td>\n",
       "      <td>1.561467</td>\n",
       "      <td>0.746324</td>\n",
       "      <td>...</td>\n",
       "      <td>0.885585</td>\n",
       "      <td>0.659619</td>\n",
       "      <td>0.870586</td>\n",
       "      <td>-0.486142</td>\n",
       "      <td>-0.265006</td>\n",
       "      <td>-0.178864</td>\n",
       "      <td>-0.438882</td>\n",
       "      <td>-0.269886</td>\n",
       "      <td>0.199971</td>\n",
       "      <td>0.472555</td>\n",
       "    </tr>\n",
       "    <tr>\n",
       "      <th>11</th>\n",
       "      <td>Georgia</td>\n",
       "      <td>1.103223</td>\n",
       "      <td>0.621087</td>\n",
       "      <td>2.017078</td>\n",
       "      <td>-0.474379</td>\n",
       "      <td>0.079142</td>\n",
       "      <td>-0.186839</td>\n",
       "      <td>0.051615</td>\n",
       "      <td>0.550352</td>\n",
       "      <td>0.055417</td>\n",
       "      <td>...</td>\n",
       "      <td>1.638721</td>\n",
       "      <td>0.306854</td>\n",
       "      <td>1.966369</td>\n",
       "      <td>-0.492618</td>\n",
       "      <td>-0.139531</td>\n",
       "      <td>-0.168361</td>\n",
       "      <td>0.091652</td>\n",
       "      <td>-0.184059</td>\n",
       "      <td>-0.026807</td>\n",
       "      <td>0.434399</td>\n",
       "    </tr>\n",
       "    <tr>\n",
       "      <th>12</th>\n",
       "      <td>Hawaii</td>\n",
       "      <td>-0.701697</td>\n",
       "      <td>-0.742020</td>\n",
       "      <td>-0.811917</td>\n",
       "      <td>-0.614348</td>\n",
       "      <td>1.304305</td>\n",
       "      <td>6.040690</td>\n",
       "      <td>-0.352535</td>\n",
       "      <td>0.034917</td>\n",
       "      <td>-0.407935</td>\n",
       "      <td>...</td>\n",
       "      <td>-1.067168</td>\n",
       "      <td>-1.789753</td>\n",
       "      <td>-1.156887</td>\n",
       "      <td>-0.492793</td>\n",
       "      <td>6.848968</td>\n",
       "      <td>7.098896</td>\n",
       "      <td>-0.434041</td>\n",
       "      <td>2.856827</td>\n",
       "      <td>-0.604715</td>\n",
       "      <td>-1.612371</td>\n",
       "    </tr>\n",
       "    <tr>\n",
       "      <th>13</th>\n",
       "      <td>Idaho</td>\n",
       "      <td>-0.598378</td>\n",
       "      <td>-0.440768</td>\n",
       "      <td>-0.807278</td>\n",
       "      <td>-0.307292</td>\n",
       "      <td>-0.434541</td>\n",
       "      <td>-0.244878</td>\n",
       "      <td>-0.302358</td>\n",
       "      <td>-0.432027</td>\n",
       "      <td>-0.339747</td>\n",
       "      <td>...</td>\n",
       "      <td>0.189647</td>\n",
       "      <td>1.815300</td>\n",
       "      <td>-1.135742</td>\n",
       "      <td>-0.043690</td>\n",
       "      <td>-0.303176</td>\n",
       "      <td>-0.126827</td>\n",
       "      <td>0.154262</td>\n",
       "      <td>0.394265</td>\n",
       "      <td>0.153386</td>\n",
       "      <td>1.943542</td>\n",
       "    </tr>\n",
       "    <tr>\n",
       "      <th>14</th>\n",
       "      <td>Illinois</td>\n",
       "      <td>0.493846</td>\n",
       "      <td>0.136174</td>\n",
       "      <td>1.058506</td>\n",
       "      <td>-0.322163</td>\n",
       "      <td>-0.111275</td>\n",
       "      <td>-0.265191</td>\n",
       "      <td>0.176853</td>\n",
       "      <td>-0.024349</td>\n",
       "      <td>0.064813</td>\n",
       "      <td>...</td>\n",
       "      <td>-0.522842</td>\n",
       "      <td>-1.108555</td>\n",
       "      <td>0.362723</td>\n",
       "      <td>-0.474648</td>\n",
       "      <td>-0.300963</td>\n",
       "      <td>-0.182596</td>\n",
       "      <td>0.070498</td>\n",
       "      <td>-0.696493</td>\n",
       "      <td>-0.242501</td>\n",
       "      <td>-1.071260</td>\n",
       "    </tr>\n",
       "    <tr>\n",
       "      <th>15</th>\n",
       "      <td>Indiana</td>\n",
       "      <td>0.089608</td>\n",
       "      <td>0.311805</td>\n",
       "      <td>-0.033056</td>\n",
       "      <td>-0.493625</td>\n",
       "      <td>-0.365165</td>\n",
       "      <td>-0.268093</td>\n",
       "      <td>-0.275151</td>\n",
       "      <td>-0.385333</td>\n",
       "      <td>-0.275811</td>\n",
       "      <td>...</td>\n",
       "      <td>0.309412</td>\n",
       "      <td>0.776371</td>\n",
       "      <td>0.090751</td>\n",
       "      <td>-0.480255</td>\n",
       "      <td>-0.362952</td>\n",
       "      <td>-0.178455</td>\n",
       "      <td>-0.474554</td>\n",
       "      <td>-0.679827</td>\n",
       "      <td>-0.510272</td>\n",
       "      <td>1.089877</td>\n",
       "    </tr>\n",
       "    <tr>\n",
       "      <th>16</th>\n",
       "      <td>Iowa</td>\n",
       "      <td>-0.560981</td>\n",
       "      <td>-0.448797</td>\n",
       "      <td>-0.674957</td>\n",
       "      <td>-0.419267</td>\n",
       "      <td>-0.344499</td>\n",
       "      <td>-0.268093</td>\n",
       "      <td>-0.356774</td>\n",
       "      <td>-0.525416</td>\n",
       "      <td>-0.379536</td>\n",
       "      <td>...</td>\n",
       "      <td>-0.989581</td>\n",
       "      <td>-0.330910</td>\n",
       "      <td>-0.711854</td>\n",
       "      <td>-0.365754</td>\n",
       "      <td>-0.214822</td>\n",
       "      <td>-0.168201</td>\n",
       "      <td>-0.655757</td>\n",
       "      <td>-0.523229</td>\n",
       "      <td>-0.630232</td>\n",
       "      <td>-0.108284</td>\n",
       "    </tr>\n",
       "    <tr>\n",
       "      <th>17</th>\n",
       "      <td>Kansas</td>\n",
       "      <td>-0.474258</td>\n",
       "      <td>-0.384276</td>\n",
       "      <td>-0.557700</td>\n",
       "      <td>-0.344033</td>\n",
       "      <td>-0.247077</td>\n",
       "      <td>-0.285505</td>\n",
       "      <td>-0.328609</td>\n",
       "      <td>-0.370965</td>\n",
       "      <td>-0.297753</td>\n",
       "      <td>...</td>\n",
       "      <td>-0.180360</td>\n",
       "      <td>0.251394</td>\n",
       "      <td>-0.226110</td>\n",
       "      <td>-0.293376</td>\n",
       "      <td>-0.007759</td>\n",
       "      <td>-0.176422</td>\n",
       "      <td>-0.451282</td>\n",
       "      <td>-0.132409</td>\n",
       "      <td>-0.076952</td>\n",
       "      <td>0.197726</td>\n",
       "    </tr>\n",
       "    <tr>\n",
       "      <th>18</th>\n",
       "      <td>Kentucky</td>\n",
       "      <td>-0.045218</td>\n",
       "      <td>0.209624</td>\n",
       "      <td>-0.250307</td>\n",
       "      <td>-0.416642</td>\n",
       "      <td>-0.309073</td>\n",
       "      <td>-0.265191</td>\n",
       "      <td>-0.310151</td>\n",
       "      <td>0.029529</td>\n",
       "      <td>-0.318750</td>\n",
       "      <td>...</td>\n",
       "      <td>1.149987</td>\n",
       "      <td>1.942970</td>\n",
       "      <td>0.201340</td>\n",
       "      <td>-0.413759</td>\n",
       "      <td>-0.242563</td>\n",
       "      <td>-0.172920</td>\n",
       "      <td>-0.481172</td>\n",
       "      <td>0.143126</td>\n",
       "      <td>-0.469917</td>\n",
       "      <td>2.407462</td>\n",
       "    </tr>\n",
       "    <tr>\n",
       "      <th>19</th>\n",
       "      <td>Louisiana</td>\n",
       "      <td>0.312362</td>\n",
       "      <td>-0.076579</td>\n",
       "      <td>1.071513</td>\n",
       "      <td>-0.506747</td>\n",
       "      <td>-0.304644</td>\n",
       "      <td>-0.276799</td>\n",
       "      <td>-0.327378</td>\n",
       "      <td>-0.252433</td>\n",
       "      <td>-0.321742</td>\n",
       "      <td>...</td>\n",
       "      <td>2.760430</td>\n",
       "      <td>0.537548</td>\n",
       "      <td>3.331057</td>\n",
       "      <td>-0.464892</td>\n",
       "      <td>-0.246451</td>\n",
       "      <td>-0.177544</td>\n",
       "      <td>-0.569513</td>\n",
       "      <td>-0.314774</td>\n",
       "      <td>-0.503226</td>\n",
       "      <td>0.822609</td>\n",
       "    </tr>\n",
       "    <tr>\n",
       "      <th>20</th>\n",
       "      <td>Maine</td>\n",
       "      <td>-0.738632</td>\n",
       "      <td>-0.673323</td>\n",
       "      <td>-0.810817</td>\n",
       "      <td>-0.581105</td>\n",
       "      <td>-0.449302</td>\n",
       "      <td>-0.300014</td>\n",
       "      <td>-0.373864</td>\n",
       "      <td>-0.744521</td>\n",
       "      <td>-0.430612</td>\n",
       "      <td>...</td>\n",
       "      <td>-1.652680</td>\n",
       "      <td>-0.777172</td>\n",
       "      <td>-1.145779</td>\n",
       "      <td>-0.433829</td>\n",
       "      <td>-0.336773</td>\n",
       "      <td>-0.180718</td>\n",
       "      <td>-0.743976</td>\n",
       "      <td>-0.872733</td>\n",
       "      <td>-0.912205</td>\n",
       "      <td>-0.432394</td>\n",
       "    </tr>\n",
       "    <tr>\n",
       "      <th>21</th>\n",
       "      <td>Maryland</td>\n",
       "      <td>-0.148445</td>\n",
       "      <td>-0.405699</td>\n",
       "      <td>0.333874</td>\n",
       "      <td>-0.602100</td>\n",
       "      <td>-0.323834</td>\n",
       "      <td>-0.282603</td>\n",
       "      <td>-0.334625</td>\n",
       "      <td>-0.494885</td>\n",
       "      <td>-0.358487</td>\n",
       "      <td>...</td>\n",
       "      <td>-0.237231</td>\n",
       "      <td>-1.212524</td>\n",
       "      <td>0.950329</td>\n",
       "      <td>-0.517512</td>\n",
       "      <td>-0.311007</td>\n",
       "      <td>-0.181262</td>\n",
       "      <td>-0.640642</td>\n",
       "      <td>-0.753751</td>\n",
       "      <td>-0.719765</td>\n",
       "      <td>-1.025509</td>\n",
       "    </tr>\n",
       "    <tr>\n",
       "      <th>22</th>\n",
       "      <td>Massachusetts</td>\n",
       "      <td>-0.354176</td>\n",
       "      <td>-0.209041</td>\n",
       "      <td>-0.514231</td>\n",
       "      <td>-0.475254</td>\n",
       "      <td>-0.148178</td>\n",
       "      <td>-0.259387</td>\n",
       "      <td>-0.216360</td>\n",
       "      <td>-0.442803</td>\n",
       "      <td>-0.131299</td>\n",
       "      <td>...</td>\n",
       "      <td>-1.250457</td>\n",
       "      <td>-0.786772</td>\n",
       "      <td>-0.726618</td>\n",
       "      <td>-0.474249</td>\n",
       "      <td>-0.179106</td>\n",
       "      <td>-0.176467</td>\n",
       "      <td>-0.299543</td>\n",
       "      <td>-0.740976</td>\n",
       "      <td>-0.106010</td>\n",
       "      <td>-0.925420</td>\n",
       "    </tr>\n",
       "    <tr>\n",
       "      <th>23</th>\n",
       "      <td>Michigan</td>\n",
       "      <td>0.334941</td>\n",
       "      <td>0.292255</td>\n",
       "      <td>0.617692</td>\n",
       "      <td>-0.139329</td>\n",
       "      <td>-0.168843</td>\n",
       "      <td>-0.285505</td>\n",
       "      <td>-0.342691</td>\n",
       "      <td>-0.130309</td>\n",
       "      <td>-0.300588</td>\n",
       "      <td>...</td>\n",
       "      <td>-0.203598</td>\n",
       "      <td>-0.389248</td>\n",
       "      <td>0.353000</td>\n",
       "      <td>-0.414780</td>\n",
       "      <td>-0.285813</td>\n",
       "      <td>-0.184332</td>\n",
       "      <td>-0.716769</td>\n",
       "      <td>-0.650760</td>\n",
       "      <td>-0.712315</td>\n",
       "      <td>-0.122541</td>\n",
       "    </tr>\n",
       "    <tr>\n",
       "      <th>24</th>\n",
       "      <td>Minnesota</td>\n",
       "      <td>-0.429748</td>\n",
       "      <td>-0.384852</td>\n",
       "      <td>-0.518870</td>\n",
       "      <td>0.771341</td>\n",
       "      <td>0.176564</td>\n",
       "      <td>-0.250682</td>\n",
       "      <td>-0.335308</td>\n",
       "      <td>-0.223698</td>\n",
       "      <td>-0.308566</td>\n",
       "      <td>...</td>\n",
       "      <td>-1.206219</td>\n",
       "      <td>-1.022738</td>\n",
       "      <td>-0.615358</td>\n",
       "      <td>0.084216</td>\n",
       "      <td>0.228347</td>\n",
       "      <td>-0.171306</td>\n",
       "      <td>-0.630434</td>\n",
       "      <td>-0.391248</td>\n",
       "      <td>-0.523980</td>\n",
       "      <td>-0.946734</td>\n",
       "    </tr>\n",
       "    <tr>\n",
       "      <th>25</th>\n",
       "      <td>Mississippi</td>\n",
       "      <td>-0.175284</td>\n",
       "      <td>-0.335670</td>\n",
       "      <td>0.109881</td>\n",
       "      <td>-0.501498</td>\n",
       "      <td>-0.211650</td>\n",
       "      <td>-0.259387</td>\n",
       "      <td>-0.247123</td>\n",
       "      <td>0.315084</td>\n",
       "      <td>-0.226153</td>\n",
       "      <td>...</td>\n",
       "      <td>1.992085</td>\n",
       "      <td>0.460775</td>\n",
       "      <td>2.197348</td>\n",
       "      <td>-0.425600</td>\n",
       "      <td>0.041388</td>\n",
       "      <td>-0.163104</td>\n",
       "      <td>0.080395</td>\n",
       "      <td>1.337862</td>\n",
       "      <td>0.335758</td>\n",
       "      <td>0.363258</td>\n",
       "    </tr>\n",
       "    <tr>\n",
       "      <th>26</th>\n",
       "      <td>Missouri</td>\n",
       "      <td>-0.032586</td>\n",
       "      <td>0.105174</td>\n",
       "      <td>-0.051993</td>\n",
       "      <td>-0.472630</td>\n",
       "      <td>-0.415352</td>\n",
       "      <td>-0.207153</td>\n",
       "      <td>-0.340777</td>\n",
       "      <td>-0.372761</td>\n",
       "      <td>-0.361899</td>\n",
       "      <td>...</td>\n",
       "      <td>0.106783</td>\n",
       "      <td>0.383099</td>\n",
       "      <td>0.166262</td>\n",
       "      <td>-0.467886</td>\n",
       "      <td>-0.401604</td>\n",
       "      <td>-0.161812</td>\n",
       "      <td>-0.666195</td>\n",
       "      <td>-0.632731</td>\n",
       "      <td>-0.739051</td>\n",
       "      <td>0.778216</td>\n",
       "    </tr>\n",
       "    <tr>\n",
       "      <th>27</th>\n",
       "      <td>Montana</td>\n",
       "      <td>-0.708384</td>\n",
       "      <td>-0.657301</td>\n",
       "      <td>-0.815551</td>\n",
       "      <td>0.406548</td>\n",
       "      <td>-0.459635</td>\n",
       "      <td>-0.305818</td>\n",
       "      <td>-0.356090</td>\n",
       "      <td>-0.678071</td>\n",
       "      <td>-0.419326</td>\n",
       "      <td>...</td>\n",
       "      <td>-0.566252</td>\n",
       "      <td>0.125241</td>\n",
       "      <td>-1.165216</td>\n",
       "      <td>1.914460</td>\n",
       "      <td>-0.352553</td>\n",
       "      <td>-0.187541</td>\n",
       "      <td>-0.373800</td>\n",
       "      <td>-0.362557</td>\n",
       "      <td>-0.683700</td>\n",
       "      <td>0.545172</td>\n",
       "    </tr>\n",
       "    <tr>\n",
       "      <th>28</th>\n",
       "      <td>Nebraska</td>\n",
       "      <td>-0.657762</td>\n",
       "      <td>-0.598865</td>\n",
       "      <td>-0.725887</td>\n",
       "      <td>-0.351032</td>\n",
       "      <td>-0.403543</td>\n",
       "      <td>-0.300014</td>\n",
       "      <td>-0.350211</td>\n",
       "      <td>-0.645744</td>\n",
       "      <td>-0.358802</td>\n",
       "      <td>...</td>\n",
       "      <td>-0.969118</td>\n",
       "      <td>-0.462584</td>\n",
       "      <td>-0.662991</td>\n",
       "      <td>-0.168351</td>\n",
       "      <td>-0.230849</td>\n",
       "      <td>-0.182578</td>\n",
       "      <td>-0.498311</td>\n",
       "      <td>-0.577895</td>\n",
       "      <td>-0.197928</td>\n",
       "      <td>-0.542453</td>\n",
       "    </tr>\n",
       "    <tr>\n",
       "      <th>29</th>\n",
       "      <td>Nevada</td>\n",
       "      <td>-0.439750</td>\n",
       "      <td>-0.360441</td>\n",
       "      <td>-0.550145</td>\n",
       "      <td>-0.265301</td>\n",
       "      <td>0.129329</td>\n",
       "      <td>-0.178134</td>\n",
       "      <td>-0.251498</td>\n",
       "      <td>-0.196759</td>\n",
       "      <td>-0.196757</td>\n",
       "      <td>...</td>\n",
       "      <td>0.256563</td>\n",
       "      <td>0.576809</td>\n",
       "      <td>-0.138098</td>\n",
       "      <td>-0.212313</td>\n",
       "      <td>0.795068</td>\n",
       "      <td>-0.113700</td>\n",
       "      <td>0.133730</td>\n",
       "      <td>0.341800</td>\n",
       "      <td>0.665564</td>\n",
       "      <td>0.207777</td>\n",
       "    </tr>\n",
       "    <tr>\n",
       "      <th>30</th>\n",
       "      <td>New Hampshire</td>\n",
       "      <td>-0.717331</td>\n",
       "      <td>-0.638650</td>\n",
       "      <td>-0.806417</td>\n",
       "      <td>-0.605600</td>\n",
       "      <td>-0.443398</td>\n",
       "      <td>-0.300014</td>\n",
       "      <td>-0.363473</td>\n",
       "      <td>-0.667296</td>\n",
       "      <td>-0.415861</td>\n",
       "      <td>...</td>\n",
       "      <td>-1.277100</td>\n",
       "      <td>-0.254630</td>\n",
       "      <td>-1.108331</td>\n",
       "      <td>-0.476093</td>\n",
       "      <td>-0.310644</td>\n",
       "      <td>-0.180656</td>\n",
       "      <td>-0.587104</td>\n",
       "      <td>-0.488493</td>\n",
       "      <td>-0.704282</td>\n",
       "      <td>0.062802</td>\n",
       "    </tr>\n",
       "    <tr>\n",
       "      <th>31</th>\n",
       "      <td>New Jersey</td>\n",
       "      <td>0.016573</td>\n",
       "      <td>-0.196043</td>\n",
       "      <td>0.324453</td>\n",
       "      <td>-0.452509</td>\n",
       "      <td>0.067333</td>\n",
       "      <td>-0.166526</td>\n",
       "      <td>-0.031238</td>\n",
       "      <td>0.561128</td>\n",
       "      <td>0.062818</td>\n",
       "      <td>...</td>\n",
       "      <td>-0.697046</td>\n",
       "      <td>-1.196025</td>\n",
       "      <td>0.185979</td>\n",
       "      <td>-0.482881</td>\n",
       "      <td>-0.114298</td>\n",
       "      <td>-0.162798</td>\n",
       "      <td>-0.005909</td>\n",
       "      <td>-0.084358</td>\n",
       "      <td>0.084133</td>\n",
       "      <td>-1.333448</td>\n",
       "    </tr>\n",
       "    <tr>\n",
       "      <th>32</th>\n",
       "      <td>New Mexico</td>\n",
       "      <td>-0.477240</td>\n",
       "      <td>-0.338298</td>\n",
       "      <td>-0.769691</td>\n",
       "      <td>1.120388</td>\n",
       "      <td>-0.394687</td>\n",
       "      <td>-0.285505</td>\n",
       "      <td>-0.139796</td>\n",
       "      <td>-0.299128</td>\n",
       "      <td>0.052740</td>\n",
       "      <td>...</td>\n",
       "      <td>0.800962</td>\n",
       "      <td>1.742598</td>\n",
       "      <td>-0.961295</td>\n",
       "      <td>1.447612</td>\n",
       "      <td>-0.232855</td>\n",
       "      <td>-0.172135</td>\n",
       "      <td>1.495418</td>\n",
       "      <td>0.461948</td>\n",
       "      <td>3.416218</td>\n",
       "      <td>-0.272298</td>\n",
       "    </tr>\n",
       "    <tr>\n",
       "      <th>33</th>\n",
       "      <td>New York</td>\n",
       "      <td>0.939038</td>\n",
       "      <td>0.419316</td>\n",
       "      <td>1.578224</td>\n",
       "      <td>0.014636</td>\n",
       "      <td>0.666630</td>\n",
       "      <td>-0.154918</td>\n",
       "      <td>0.765031</td>\n",
       "      <td>0.067244</td>\n",
       "      <td>0.644594</td>\n",
       "      <td>...</td>\n",
       "      <td>-0.777304</td>\n",
       "      <td>-1.297950</td>\n",
       "      <td>0.114106</td>\n",
       "      <td>-0.453576</td>\n",
       "      <td>-0.131082</td>\n",
       "      <td>-0.175380</td>\n",
       "      <td>0.383352</td>\n",
       "      <td>-0.796690</td>\n",
       "      <td>0.068158</td>\n",
       "      <td>-1.352983</td>\n",
       "    </tr>\n",
       "    <tr>\n",
       "      <th>34</th>\n",
       "      <td>North Carolina</td>\n",
       "      <td>0.321827</td>\n",
       "      <td>0.085515</td>\n",
       "      <td>0.783965</td>\n",
       "      <td>0.303321</td>\n",
       "      <td>-0.154082</td>\n",
       "      <td>-0.253584</td>\n",
       "      <td>-0.200500</td>\n",
       "      <td>-0.148269</td>\n",
       "      <td>-0.230825</td>\n",
       "      <td>...</td>\n",
       "      <td>-0.139458</td>\n",
       "      <td>-0.729461</td>\n",
       "      <td>0.602096</td>\n",
       "      <td>-0.302867</td>\n",
       "      <td>-0.270795</td>\n",
       "      <td>-0.178986</td>\n",
       "      <td>-0.418612</td>\n",
       "      <td>-0.647209</td>\n",
       "      <td>-0.567706</td>\n",
       "      <td>-0.541460</td>\n",
       "    </tr>\n",
       "    <tr>\n",
       "      <th>35</th>\n",
       "      <td>North Dakota</td>\n",
       "      <td>-0.760692</td>\n",
       "      <td>-0.737087</td>\n",
       "      <td>-0.816125</td>\n",
       "      <td>-0.002860</td>\n",
       "      <td>-0.474396</td>\n",
       "      <td>-0.291309</td>\n",
       "      <td>-0.368805</td>\n",
       "      <td>-0.731950</td>\n",
       "      <td>-0.426937</td>\n",
       "      <td>...</td>\n",
       "      <td>-1.264149</td>\n",
       "      <td>-0.920839</td>\n",
       "      <td>-1.138421</td>\n",
       "      <td>1.655118</td>\n",
       "      <td>-0.423990</td>\n",
       "      <td>-0.153850</td>\n",
       "      <td>-0.555048</td>\n",
       "      <td>-0.544716</td>\n",
       "      <td>-0.761822</td>\n",
       "      <td>-0.644898</td>\n",
       "    </tr>\n",
       "    <tr>\n",
       "      <th>36</th>\n",
       "      <td>Ohio</td>\n",
       "      <td>0.608946</td>\n",
       "      <td>0.707246</td>\n",
       "      <td>0.743413</td>\n",
       "      <td>-0.481378</td>\n",
       "      <td>-0.093562</td>\n",
       "      <td>-0.268093</td>\n",
       "      <td>-0.228392</td>\n",
       "      <td>0.113939</td>\n",
       "      <td>-0.234762</td>\n",
       "      <td>...</td>\n",
       "      <td>-0.041104</td>\n",
       "      <td>0.000543</td>\n",
       "      <td>0.243773</td>\n",
       "      <td>-0.500267</td>\n",
       "      <td>-0.274481</td>\n",
       "      <td>-0.182434</td>\n",
       "      <td>-0.530064</td>\n",
       "      <td>-0.574873</td>\n",
       "      <td>-0.642536</td>\n",
       "      <td>0.326908</td>\n",
       "    </tr>\n",
       "    <tr>\n",
       "      <th>37</th>\n",
       "      <td>Oklahoma</td>\n",
       "      <td>-0.056943</td>\n",
       "      <td>0.072805</td>\n",
       "      <td>-0.320508</td>\n",
       "      <td>2.338990</td>\n",
       "      <td>-0.227887</td>\n",
       "      <td>-0.201349</td>\n",
       "      <td>-0.171652</td>\n",
       "      <td>0.738926</td>\n",
       "      <td>-0.107782</td>\n",
       "      <td>...</td>\n",
       "      <td>1.700224</td>\n",
       "      <td>1.937594</td>\n",
       "      <td>0.222736</td>\n",
       "      <td>1.308128</td>\n",
       "      <td>-0.087688</td>\n",
       "      <td>-0.144049</td>\n",
       "      <td>0.298474</td>\n",
       "      <td>1.568019</td>\n",
       "      <td>0.648641</td>\n",
       "      <td>1.763454</td>\n",
       "    </tr>\n",
       "    <tr>\n",
       "      <th>38</th>\n",
       "      <td>Oregon</td>\n",
       "      <td>-0.396204</td>\n",
       "      <td>-0.166339</td>\n",
       "      <td>-0.717136</td>\n",
       "      <td>-0.026480</td>\n",
       "      <td>0.026002</td>\n",
       "      <td>-0.131703</td>\n",
       "      <td>-0.224427</td>\n",
       "      <td>-0.133901</td>\n",
       "      <td>-0.243318</td>\n",
       "      <td>...</td>\n",
       "      <td>-0.391948</td>\n",
       "      <td>0.643666</td>\n",
       "      <td>-0.940934</td>\n",
       "      <td>-0.161965</td>\n",
       "      <td>0.274100</td>\n",
       "      <td>-0.116562</td>\n",
       "      <td>0.002790</td>\n",
       "      <td>0.027929</td>\n",
       "      <td>-0.039961</td>\n",
       "      <td>0.750260</td>\n",
       "    </tr>\n",
       "    <tr>\n",
       "      <th>39</th>\n",
       "      <td>Pennsylvania</td>\n",
       "      <td>0.998662</td>\n",
       "      <td>0.697489</td>\n",
       "      <td>1.317361</td>\n",
       "      <td>-0.395647</td>\n",
       "      <td>0.304985</td>\n",
       "      <td>-0.239074</td>\n",
       "      <td>0.935934</td>\n",
       "      <td>0.859254</td>\n",
       "      <td>0.319927</td>\n",
       "      <td>...</td>\n",
       "      <td>0.397058</td>\n",
       "      <td>-0.243890</td>\n",
       "      <td>0.601980</td>\n",
       "      <td>-0.487489</td>\n",
       "      <td>-0.116611</td>\n",
       "      <td>-0.179335</td>\n",
       "      <td>1.264044</td>\n",
       "      <td>-0.239200</td>\n",
       "      <td>0.136652</td>\n",
       "      <td>-0.022469</td>\n",
       "    </tr>\n",
       "    <tr>\n",
       "      <th>40</th>\n",
       "      <td>Rhode Island</td>\n",
       "      <td>-0.736779</td>\n",
       "      <td>-0.720921</td>\n",
       "      <td>-0.768352</td>\n",
       "      <td>-0.613473</td>\n",
       "      <td>-0.410924</td>\n",
       "      <td>-0.305818</td>\n",
       "      <td>-0.300034</td>\n",
       "      <td>-0.731950</td>\n",
       "      <td>-0.386465</td>\n",
       "      <td>...</td>\n",
       "      <td>-1.309649</td>\n",
       "      <td>-1.195818</td>\n",
       "      <td>-0.678993</td>\n",
       "      <td>-0.479530</td>\n",
       "      <td>-0.100976</td>\n",
       "      <td>-0.187541</td>\n",
       "      <td>0.657521</td>\n",
       "      <td>-0.739475</td>\n",
       "      <td>-0.122373</td>\n",
       "      <td>-1.095869</td>\n",
       "    </tr>\n",
       "    <tr>\n",
       "      <th>41</th>\n",
       "      <td>South Carolina</td>\n",
       "      <td>-0.044644</td>\n",
       "      <td>-0.285227</td>\n",
       "      <td>0.393172</td>\n",
       "      <td>-0.458633</td>\n",
       "      <td>-0.345975</td>\n",
       "      <td>-0.253584</td>\n",
       "      <td>-0.230853</td>\n",
       "      <td>-0.315291</td>\n",
       "      <td>-0.285680</td>\n",
       "      <td>...</td>\n",
       "      <td>0.907914</td>\n",
       "      <td>-0.391198</td>\n",
       "      <td>1.634854</td>\n",
       "      <td>-0.442096</td>\n",
       "      <td>-0.300541</td>\n",
       "      <td>-0.169904</td>\n",
       "      <td>-0.160004</td>\n",
       "      <td>-0.418651</td>\n",
       "      <td>-0.367999</td>\n",
       "      <td>-0.204888</td>\n",
       "    </tr>\n",
       "    <tr>\n",
       "      <th>42</th>\n",
       "      <td>South Dakota</td>\n",
       "      <td>-0.689862</td>\n",
       "      <td>-0.659101</td>\n",
       "      <td>-0.799770</td>\n",
       "      <td>0.977795</td>\n",
       "      <td>-0.430113</td>\n",
       "      <td>-0.285505</td>\n",
       "      <td>-0.359098</td>\n",
       "      <td>-0.566723</td>\n",
       "      <td>-0.414234</td>\n",
       "      <td>...</td>\n",
       "      <td>0.430105</td>\n",
       "      <td>0.648030</td>\n",
       "      <td>-0.936551</td>\n",
       "      <td>4.067932</td>\n",
       "      <td>-0.127078</td>\n",
       "      <td>-0.148576</td>\n",
       "      <td>-0.358595</td>\n",
       "      <td>0.684123</td>\n",
       "      <td>-0.507854</td>\n",
       "      <td>1.004980</td>\n",
       "    </tr>\n",
       "    <tr>\n",
       "      <th>43</th>\n",
       "      <td>Tennessee</td>\n",
       "      <td>0.060324</td>\n",
       "      <td>0.109242</td>\n",
       "      <td>0.163488</td>\n",
       "      <td>-0.520744</td>\n",
       "      <td>-0.326786</td>\n",
       "      <td>-0.291309</td>\n",
       "      <td>-0.291147</td>\n",
       "      <td>-0.268597</td>\n",
       "      <td>-0.343789</td>\n",
       "      <td>...</td>\n",
       "      <td>0.272972</td>\n",
       "      <td>0.233085</td>\n",
       "      <td>0.458663</td>\n",
       "      <td>-0.489052</td>\n",
       "      <td>-0.327107</td>\n",
       "      <td>-0.183971</td>\n",
       "      <td>-0.517803</td>\n",
       "      <td>-0.551162</td>\n",
       "      <td>-0.698798</td>\n",
       "      <td>0.621430</td>\n",
       "    </tr>\n",
       "    <tr>\n",
       "      <th>44</th>\n",
       "      <td>Texas</td>\n",
       "      <td>4.123969</td>\n",
       "      <td>4.559187</td>\n",
       "      <td>3.226088</td>\n",
       "      <td>0.234212</td>\n",
       "      <td>1.968550</td>\n",
       "      <td>-0.102683</td>\n",
       "      <td>3.493593</td>\n",
       "      <td>2.581562</td>\n",
       "      <td>4.369728</td>\n",
       "      <td>...</td>\n",
       "      <td>1.614576</td>\n",
       "      <td>1.595051</td>\n",
       "      <td>0.520383</td>\n",
       "      <td>-0.451215</td>\n",
       "      <td>0.082033</td>\n",
       "      <td>-0.174925</td>\n",
       "      <td>2.266991</td>\n",
       "      <td>-0.210938</td>\n",
       "      <td>2.574780</td>\n",
       "      <td>0.362814</td>\n",
       "    </tr>\n",
       "    <tr>\n",
       "      <th>45</th>\n",
       "      <td>Utah</td>\n",
       "      <td>-0.572724</td>\n",
       "      <td>-0.434179</td>\n",
       "      <td>-0.784563</td>\n",
       "      <td>-0.211063</td>\n",
       "      <td>-0.360736</td>\n",
       "      <td>0.059824</td>\n",
       "      <td>-0.248490</td>\n",
       "      <td>-0.309903</td>\n",
       "      <td>-0.278173</td>\n",
       "      <td>...</td>\n",
       "      <td>-0.899381</td>\n",
       "      <td>-0.007270</td>\n",
       "      <td>-1.091745</td>\n",
       "      <td>-0.174123</td>\n",
       "      <td>-0.222452</td>\n",
       "      <td>0.019069</td>\n",
       "      <td>0.134261</td>\n",
       "      <td>0.042313</td>\n",
       "      <td>0.082816</td>\n",
       "      <td>-0.044731</td>\n",
       "    </tr>\n",
       "    <tr>\n",
       "      <th>46</th>\n",
       "      <td>Vermont</td>\n",
       "      <td>-0.777325</td>\n",
       "      <td>-0.743820</td>\n",
       "      <td>-0.815886</td>\n",
       "      <td>-0.611723</td>\n",
       "      <td>-0.471444</td>\n",
       "      <td>-0.305818</td>\n",
       "      <td>-0.374821</td>\n",
       "      <td>-0.683459</td>\n",
       "      <td>-0.429929</td>\n",
       "      <td>...</td>\n",
       "      <td>-1.748226</td>\n",
       "      <td>-1.009608</td>\n",
       "      <td>-1.126489</td>\n",
       "      <td>-0.437551</td>\n",
       "      <td>-0.394932</td>\n",
       "      <td>-0.187541</td>\n",
       "      <td>-0.728471</td>\n",
       "      <td>0.000745</td>\n",
       "      <td>-0.835321</td>\n",
       "      <td>-0.722273</td>\n",
       "    </tr>\n",
       "    <tr>\n",
       "      <th>47</th>\n",
       "      <td>Virginia</td>\n",
       "      <td>0.400715</td>\n",
       "      <td>0.151116</td>\n",
       "      <td>0.970037</td>\n",
       "      <td>-0.470005</td>\n",
       "      <td>-0.059612</td>\n",
       "      <td>-0.166526</td>\n",
       "      <td>-0.286225</td>\n",
       "      <td>-0.214719</td>\n",
       "      <td>-0.274656</td>\n",
       "      <td>...</td>\n",
       "      <td>0.595257</td>\n",
       "      <td>-0.231793</td>\n",
       "      <td>1.210299</td>\n",
       "      <td>-0.483140</td>\n",
       "      <td>-0.168532</td>\n",
       "      <td>-0.160352</td>\n",
       "      <td>-0.560829</td>\n",
       "      <td>-0.617529</td>\n",
       "      <td>-0.593391</td>\n",
       "      <td>0.011179</td>\n",
       "    </tr>\n",
       "    <tr>\n",
       "      <th>48</th>\n",
       "      <td>Washington</td>\n",
       "      <td>-0.215867</td>\n",
       "      <td>0.023983</td>\n",
       "      <td>-0.551292</td>\n",
       "      <td>0.657617</td>\n",
       "      <td>0.287272</td>\n",
       "      <td>0.419663</td>\n",
       "      <td>-0.281576</td>\n",
       "      <td>0.316880</td>\n",
       "      <td>-0.196705</td>\n",
       "      <td>...</td>\n",
       "      <td>-0.827368</td>\n",
       "      <td>-0.164861</td>\n",
       "      <td>-0.800500</td>\n",
       "      <td>-0.085091</td>\n",
       "      <td>0.174584</td>\n",
       "      <td>-0.019050</td>\n",
       "      <td>-0.504608</td>\n",
       "      <td>-0.013700</td>\n",
       "      <td>-0.308646</td>\n",
       "      <td>-0.126812</td>\n",
       "    </tr>\n",
       "    <tr>\n",
       "      <th>49</th>\n",
       "      <td>West Virginia</td>\n",
       "      <td>-0.500060</td>\n",
       "      <td>-0.389317</td>\n",
       "      <td>-0.600500</td>\n",
       "      <td>-0.552237</td>\n",
       "      <td>-0.409448</td>\n",
       "      <td>-0.265191</td>\n",
       "      <td>-0.323413</td>\n",
       "      <td>-0.469742</td>\n",
       "      <td>-0.380639</td>\n",
       "      <td>...</td>\n",
       "      <td>0.924891</td>\n",
       "      <td>1.684863</td>\n",
       "      <td>0.069341</td>\n",
       "      <td>-0.425374</td>\n",
       "      <td>-0.251924</td>\n",
       "      <td>-0.153300</td>\n",
       "      <td>-0.215681</td>\n",
       "      <td>0.033882</td>\n",
       "      <td>-0.427137</td>\n",
       "      <td>2.164865</td>\n",
       "    </tr>\n",
       "    <tr>\n",
       "      <th>50</th>\n",
       "      <td>Wisconsin</td>\n",
       "      <td>-0.105694</td>\n",
       "      <td>-0.033445</td>\n",
       "      <td>-0.133528</td>\n",
       "      <td>0.612127</td>\n",
       "      <td>-0.193937</td>\n",
       "      <td>-0.050449</td>\n",
       "      <td>-0.319859</td>\n",
       "      <td>-0.353006</td>\n",
       "      <td>-0.325469</td>\n",
       "      <td>...</td>\n",
       "      <td>-0.028433</td>\n",
       "      <td>0.067068</td>\n",
       "      <td>0.084098</td>\n",
       "      <td>-0.022183</td>\n",
       "      <td>-0.181359</td>\n",
       "      <td>-0.117412</td>\n",
       "      <td>-0.586964</td>\n",
       "      <td>-0.586119</td>\n",
       "      <td>-0.608564</td>\n",
       "      <td>0.346888</td>\n",
       "    </tr>\n",
       "    <tr>\n",
       "      <th>51</th>\n",
       "      <td>Wyoming</td>\n",
       "      <td>-0.740910</td>\n",
       "      <td>-0.687869</td>\n",
       "      <td>-0.815503</td>\n",
       "      <td>-0.380775</td>\n",
       "      <td>-0.465539</td>\n",
       "      <td>-0.288407</td>\n",
       "      <td>-0.360328</td>\n",
       "      <td>-0.640357</td>\n",
       "      <td>-0.406518</td>\n",
       "      <td>...</td>\n",
       "      <td>-0.173219</td>\n",
       "      <td>1.065648</td>\n",
       "      <td>-1.106337</td>\n",
       "      <td>0.523004</td>\n",
       "      <td>-0.329267</td>\n",
       "      <td>-0.139295</td>\n",
       "      <td>-0.212422</td>\n",
       "      <td>0.618741</td>\n",
       "      <td>-0.052160</td>\n",
       "      <td>1.202935</td>\n",
       "    </tr>\n",
       "    <tr>\n",
       "      <th>52</th>\n",
       "      <td>Puerto Rico</td>\n",
       "      <td>-0.566630</td>\n",
       "      <td>-0.472776</td>\n",
       "      <td>-0.687439</td>\n",
       "      <td>-0.449885</td>\n",
       "      <td>-0.462587</td>\n",
       "      <td>-0.302916</td>\n",
       "      <td>-0.256693</td>\n",
       "      <td>-0.494885</td>\n",
       "      <td>0.230165</td>\n",
       "      <td>...</td>\n",
       "      <td>-1.355823</td>\n",
       "      <td>-0.850624</td>\n",
       "      <td>-0.845185</td>\n",
       "      <td>-0.415048</td>\n",
       "      <td>-0.436402</td>\n",
       "      <td>-0.186325</td>\n",
       "      <td>-0.146672</td>\n",
       "      <td>-0.572121</td>\n",
       "      <td>2.339217</td>\n",
       "      <td>-2.310726</td>\n",
       "    </tr>\n",
       "  </tbody>\n",
       "</table>\n",
       "<p>52 rows × 121 columns</p>\n",
       "</div>"
      ],
      "text/plain": [
       "               Geography  Total : In Correctional Facilities for Adults  \\\n",
       "1                Alabama                                      -0.046607   \n",
       "2                 Alaska                                      -0.730722   \n",
       "3                Arizona                                       0.432925   \n",
       "4               Arkansas                                      -0.329800   \n",
       "5             California                                       3.942558   \n",
       "6               Colorado                                      -0.057258   \n",
       "7            Connecticut                                      -0.435323   \n",
       "8               Delaware                                      -0.687509   \n",
       "9   District of Columbia                                      -0.740651   \n",
       "10               Florida                                       2.272557   \n",
       "11               Georgia                                       1.103223   \n",
       "12                Hawaii                                      -0.701697   \n",
       "13                 Idaho                                      -0.598378   \n",
       "14              Illinois                                       0.493846   \n",
       "15               Indiana                                       0.089608   \n",
       "16                  Iowa                                      -0.560981   \n",
       "17                Kansas                                      -0.474258   \n",
       "18              Kentucky                                      -0.045218   \n",
       "19             Louisiana                                       0.312362   \n",
       "20                 Maine                                      -0.738632   \n",
       "21              Maryland                                      -0.148445   \n",
       "22         Massachusetts                                      -0.354176   \n",
       "23              Michigan                                       0.334941   \n",
       "24             Minnesota                                      -0.429748   \n",
       "25           Mississippi                                      -0.175284   \n",
       "26              Missouri                                      -0.032586   \n",
       "27               Montana                                      -0.708384   \n",
       "28              Nebraska                                      -0.657762   \n",
       "29                Nevada                                      -0.439750   \n",
       "30         New Hampshire                                      -0.717331   \n",
       "31            New Jersey                                       0.016573   \n",
       "32            New Mexico                                      -0.477240   \n",
       "33              New York                                       0.939038   \n",
       "34        North Carolina                                       0.321827   \n",
       "35          North Dakota                                      -0.760692   \n",
       "36                  Ohio                                       0.608946   \n",
       "37              Oklahoma                                      -0.056943   \n",
       "38                Oregon                                      -0.396204   \n",
       "39          Pennsylvania                                       0.998662   \n",
       "40          Rhode Island                                      -0.736779   \n",
       "41        South Carolina                                      -0.044644   \n",
       "42          South Dakota                                      -0.689862   \n",
       "43             Tennessee                                       0.060324   \n",
       "44                 Texas                                       4.123969   \n",
       "45                  Utah                                      -0.572724   \n",
       "46               Vermont                                      -0.777325   \n",
       "47              Virginia                                       0.400715   \n",
       "48            Washington                                      -0.215867   \n",
       "49         West Virginia                                      -0.500060   \n",
       "50             Wisconsin                                      -0.105694   \n",
       "51               Wyoming                                      -0.740910   \n",
       "52           Puerto Rico                                      -0.566630   \n",
       "\n",
       "    White alone : in Correctional Facilities for Adults  \\\n",
       "1                                           -0.142180     \n",
       "2                                           -0.728050     \n",
       "3                                            0.493162     \n",
       "4                                           -0.295128     \n",
       "5                                            3.880568     \n",
       "6                                            0.237743     \n",
       "7                                           -0.536433     \n",
       "8                                           -0.701335     \n",
       "9                                           -0.784974     \n",
       "10                                           2.295312     \n",
       "11                                           0.621087     \n",
       "12                                          -0.742020     \n",
       "13                                          -0.440768     \n",
       "14                                           0.136174     \n",
       "15                                           0.311805     \n",
       "16                                          -0.448797     \n",
       "17                                          -0.384276     \n",
       "18                                           0.209624     \n",
       "19                                          -0.076579     \n",
       "20                                          -0.673323     \n",
       "21                                          -0.405699     \n",
       "22                                          -0.209041     \n",
       "23                                           0.292255     \n",
       "24                                          -0.384852     \n",
       "25                                          -0.335670     \n",
       "26                                           0.105174     \n",
       "27                                          -0.657301     \n",
       "28                                          -0.598865     \n",
       "29                                          -0.360441     \n",
       "30                                          -0.638650     \n",
       "31                                          -0.196043     \n",
       "32                                          -0.338298     \n",
       "33                                           0.419316     \n",
       "34                                           0.085515     \n",
       "35                                          -0.737087     \n",
       "36                                           0.707246     \n",
       "37                                           0.072805     \n",
       "38                                          -0.166339     \n",
       "39                                           0.697489     \n",
       "40                                          -0.720921     \n",
       "41                                          -0.285227     \n",
       "42                                          -0.659101     \n",
       "43                                           0.109242     \n",
       "44                                           4.559187     \n",
       "45                                          -0.434179     \n",
       "46                                          -0.743820     \n",
       "47                                           0.151116     \n",
       "48                                           0.023983     \n",
       "49                                          -0.389317     \n",
       "50                                          -0.033445     \n",
       "51                                          -0.687869     \n",
       "52                                          -0.472776     \n",
       "\n",
       "    Black or African American alone : in Correctional Facilities for Adults  \\\n",
       "1                                            0.242536                         \n",
       "2                                           -0.808617                         \n",
       "3                                           -0.433127                         \n",
       "4                                           -0.301858                         \n",
       "5                                            2.511116                         \n",
       "6                                           -0.471527                         \n",
       "7                                           -0.431118                         \n",
       "8                                           -0.639618                         \n",
       "9                                           -0.673284                         \n",
       "10                                           2.806172                         \n",
       "11                                           2.017078                         \n",
       "12                                          -0.811917                         \n",
       "13                                          -0.807278                         \n",
       "14                                           1.058506                         \n",
       "15                                          -0.033056                         \n",
       "16                                          -0.674957                         \n",
       "17                                          -0.557700                         \n",
       "18                                          -0.250307                         \n",
       "19                                           1.071513                         \n",
       "20                                          -0.810817                         \n",
       "21                                           0.333874                         \n",
       "22                                          -0.514231                         \n",
       "23                                           0.617692                         \n",
       "24                                          -0.518870                         \n",
       "25                                           0.109881                         \n",
       "26                                          -0.051993                         \n",
       "27                                          -0.815551                         \n",
       "28                                          -0.725887                         \n",
       "29                                          -0.550145                         \n",
       "30                                          -0.806417                         \n",
       "31                                           0.324453                         \n",
       "32                                          -0.769691                         \n",
       "33                                           1.578224                         \n",
       "34                                           0.783965                         \n",
       "35                                          -0.816125                         \n",
       "36                                           0.743413                         \n",
       "37                                          -0.320508                         \n",
       "38                                          -0.717136                         \n",
       "39                                           1.317361                         \n",
       "40                                          -0.768352                         \n",
       "41                                           0.393172                         \n",
       "42                                          -0.799770                         \n",
       "43                                           0.163488                         \n",
       "44                                           3.226088                         \n",
       "45                                          -0.784563                         \n",
       "46                                          -0.815886                         \n",
       "47                                           0.970037                         \n",
       "48                                          -0.551292                         \n",
       "49                                          -0.600500                         \n",
       "50                                          -0.133528                         \n",
       "51                                          -0.815503                         \n",
       "52                                          -0.687439                         \n",
       "\n",
       "    American Indian and Alaska Native alone : in Correctional Facilities for Adults  \\\n",
       "1                                           -0.567108                                 \n",
       "2                                            0.717104                                 \n",
       "3                                            5.182977                                 \n",
       "4                                           -0.491000                                 \n",
       "5                                            2.521824                                 \n",
       "6                                            0.800210                                 \n",
       "7                                           -0.561860                                 \n",
       "8                                           -0.631844                                 \n",
       "9                                           -0.618722                                 \n",
       "10                                          -0.268800                                 \n",
       "11                                          -0.474379                                 \n",
       "12                                          -0.614348                                 \n",
       "13                                          -0.307292                                 \n",
       "14                                          -0.322163                                 \n",
       "15                                          -0.493625                                 \n",
       "16                                          -0.419267                                 \n",
       "17                                          -0.344033                                 \n",
       "18                                          -0.416642                                 \n",
       "19                                          -0.506747                                 \n",
       "20                                          -0.581105                                 \n",
       "21                                          -0.602100                                 \n",
       "22                                          -0.475254                                 \n",
       "23                                          -0.139329                                 \n",
       "24                                           0.771341                                 \n",
       "25                                          -0.501498                                 \n",
       "26                                          -0.472630                                 \n",
       "27                                           0.406548                                 \n",
       "28                                          -0.351032                                 \n",
       "29                                          -0.265301                                 \n",
       "30                                          -0.605600                                 \n",
       "31                                          -0.452509                                 \n",
       "32                                           1.120388                                 \n",
       "33                                           0.014636                                 \n",
       "34                                           0.303321                                 \n",
       "35                                          -0.002860                                 \n",
       "36                                          -0.481378                                 \n",
       "37                                           2.338990                                 \n",
       "38                                          -0.026480                                 \n",
       "39                                          -0.395647                                 \n",
       "40                                          -0.613473                                 \n",
       "41                                          -0.458633                                 \n",
       "42                                           0.977795                                 \n",
       "43                                          -0.520744                                 \n",
       "44                                           0.234212                                 \n",
       "45                                          -0.211063                                 \n",
       "46                                          -0.611723                                 \n",
       "47                                          -0.470005                                 \n",
       "48                                           0.657617                                 \n",
       "49                                          -0.552237                                 \n",
       "50                                           0.612127                                 \n",
       "51                                          -0.380775                                 \n",
       "52                                          -0.449885                                 \n",
       "\n",
       "    Asian alone : in Correctional Facilities for Adults  \\\n",
       "1                                           -0.394687     \n",
       "2                                           -0.413876     \n",
       "3                                            1.189169     \n",
       "4                                           -0.309073     \n",
       "5                                            6.283193     \n",
       "6                                            0.083570     \n",
       "7                                           -0.294312     \n",
       "8                                           -0.467016     \n",
       "9                                           -0.446350     \n",
       "10                                           0.180993     \n",
       "11                                           0.079142     \n",
       "12                                           1.304305     \n",
       "13                                          -0.434541     \n",
       "14                                          -0.111275     \n",
       "15                                          -0.365165     \n",
       "16                                          -0.344499     \n",
       "17                                          -0.247077     \n",
       "18                                          -0.309073     \n",
       "19                                          -0.304644     \n",
       "20                                          -0.449302     \n",
       "21                                          -0.323834     \n",
       "22                                          -0.148178     \n",
       "23                                          -0.168843     \n",
       "24                                           0.176564     \n",
       "25                                          -0.211650     \n",
       "26                                          -0.415352     \n",
       "27                                          -0.459635     \n",
       "28                                          -0.403543     \n",
       "29                                           0.129329     \n",
       "30                                          -0.443398     \n",
       "31                                           0.067333     \n",
       "32                                          -0.394687     \n",
       "33                                           0.666630     \n",
       "34                                          -0.154082     \n",
       "35                                          -0.474396     \n",
       "36                                          -0.093562     \n",
       "37                                          -0.227887     \n",
       "38                                           0.026002     \n",
       "39                                           0.304985     \n",
       "40                                          -0.410924     \n",
       "41                                          -0.345975     \n",
       "42                                          -0.430113     \n",
       "43                                          -0.326786     \n",
       "44                                           1.968550     \n",
       "45                                          -0.360736     \n",
       "46                                          -0.471444     \n",
       "47                                          -0.059612     \n",
       "48                                           0.287272     \n",
       "49                                          -0.409448     \n",
       "50                                          -0.193937     \n",
       "51                                          -0.465539     \n",
       "52                                          -0.462587     \n",
       "\n",
       "    Native Hawaiian and other Pacific Islander alone : in Correctional Facilities for Adults  \\\n",
       "1                                           -0.297112                                          \n",
       "2                                           -0.175232                                          \n",
       "3                                            2.680262                                          \n",
       "4                                           -0.276799                                          \n",
       "5                                            2.273992                                          \n",
       "6                                           -0.163624                                          \n",
       "7                                           -0.163624                                          \n",
       "8                                           -0.294210                                          \n",
       "9                                           -0.302916                                          \n",
       "10                                          -0.201349                                          \n",
       "11                                          -0.186839                                          \n",
       "12                                           6.040690                                          \n",
       "13                                          -0.244878                                          \n",
       "14                                          -0.265191                                          \n",
       "15                                          -0.268093                                          \n",
       "16                                          -0.268093                                          \n",
       "17                                          -0.285505                                          \n",
       "18                                          -0.265191                                          \n",
       "19                                          -0.276799                                          \n",
       "20                                          -0.300014                                          \n",
       "21                                          -0.282603                                          \n",
       "22                                          -0.259387                                          \n",
       "23                                          -0.285505                                          \n",
       "24                                          -0.250682                                          \n",
       "25                                          -0.259387                                          \n",
       "26                                          -0.207153                                          \n",
       "27                                          -0.305818                                          \n",
       "28                                          -0.300014                                          \n",
       "29                                          -0.178134                                          \n",
       "30                                          -0.300014                                          \n",
       "31                                          -0.166526                                          \n",
       "32                                          -0.285505                                          \n",
       "33                                          -0.154918                                          \n",
       "34                                          -0.253584                                          \n",
       "35                                          -0.291309                                          \n",
       "36                                          -0.268093                                          \n",
       "37                                          -0.201349                                          \n",
       "38                                          -0.131703                                          \n",
       "39                                          -0.239074                                          \n",
       "40                                          -0.305818                                          \n",
       "41                                          -0.253584                                          \n",
       "42                                          -0.285505                                          \n",
       "43                                          -0.291309                                          \n",
       "44                                          -0.102683                                          \n",
       "45                                           0.059824                                          \n",
       "46                                          -0.305818                                          \n",
       "47                                          -0.166526                                          \n",
       "48                                           0.419663                                          \n",
       "49                                          -0.265191                                          \n",
       "50                                          -0.050449                                          \n",
       "51                                          -0.288407                                          \n",
       "52                                          -0.302916                                          \n",
       "\n",
       "    Some other race alone : in Correctional Facilities for Adults  \\\n",
       "1                                           -0.338043               \n",
       "2                                           -0.372633               \n",
       "3                                            1.359909               \n",
       "4                                           -0.301128               \n",
       "5                                            5.696049               \n",
       "6                                           -0.127081               \n",
       "7                                            0.204197               \n",
       "8                                           -0.370309               \n",
       "9                                           -0.363063               \n",
       "10                                          -0.048602               \n",
       "11                                           0.051615               \n",
       "12                                          -0.352535               \n",
       "13                                          -0.302358               \n",
       "14                                           0.176853               \n",
       "15                                          -0.275151               \n",
       "16                                          -0.356774               \n",
       "17                                          -0.328609               \n",
       "18                                          -0.310151               \n",
       "19                                          -0.327378               \n",
       "20                                          -0.373864               \n",
       "21                                          -0.334625               \n",
       "22                                          -0.216360               \n",
       "23                                          -0.342691               \n",
       "24                                          -0.335308               \n",
       "25                                          -0.247123               \n",
       "26                                          -0.340777               \n",
       "27                                          -0.356090               \n",
       "28                                          -0.350211               \n",
       "29                                          -0.251498               \n",
       "30                                          -0.363473               \n",
       "31                                          -0.031238               \n",
       "32                                          -0.139796               \n",
       "33                                           0.765031               \n",
       "34                                          -0.200500               \n",
       "35                                          -0.368805               \n",
       "36                                          -0.228392               \n",
       "37                                          -0.171652               \n",
       "38                                          -0.224427               \n",
       "39                                           0.935934               \n",
       "40                                          -0.300034               \n",
       "41                                          -0.230853               \n",
       "42                                          -0.359098               \n",
       "43                                          -0.291147               \n",
       "44                                           3.493593               \n",
       "45                                          -0.248490               \n",
       "46                                          -0.374821               \n",
       "47                                          -0.286225               \n",
       "48                                          -0.281576               \n",
       "49                                          -0.323413               \n",
       "50                                          -0.319859               \n",
       "51                                          -0.360328               \n",
       "52                                          -0.256693               \n",
       "\n",
       "    Two or more races : in Correctional Facilities for Adults  \\\n",
       "1                                           -0.266801           \n",
       "2                                           -0.132105           \n",
       "3                                            2.033800           \n",
       "4                                           -0.408680           \n",
       "5                                            5.345515           \n",
       "6                                            0.324064           \n",
       "7                                           -0.329659           \n",
       "8                                           -0.744521           \n",
       "9                                           -0.602642           \n",
       "10                                           1.561467           \n",
       "11                                           0.550352           \n",
       "12                                           0.034917           \n",
       "13                                          -0.432027           \n",
       "14                                          -0.024349           \n",
       "15                                          -0.385333           \n",
       "16                                          -0.525416           \n",
       "17                                          -0.370965           \n",
       "18                                           0.029529           \n",
       "19                                          -0.252433           \n",
       "20                                          -0.744521           \n",
       "21                                          -0.494885           \n",
       "22                                          -0.442803           \n",
       "23                                          -0.130309           \n",
       "24                                          -0.223698           \n",
       "25                                           0.315084           \n",
       "26                                          -0.372761           \n",
       "27                                          -0.678071           \n",
       "28                                          -0.645744           \n",
       "29                                          -0.196759           \n",
       "30                                          -0.667296           \n",
       "31                                           0.561128           \n",
       "32                                          -0.299128           \n",
       "33                                           0.067244           \n",
       "34                                          -0.148269           \n",
       "35                                          -0.731950           \n",
       "36                                           0.113939           \n",
       "37                                           0.738926           \n",
       "38                                          -0.133901           \n",
       "39                                           0.859254           \n",
       "40                                          -0.731950           \n",
       "41                                          -0.315291           \n",
       "42                                          -0.566723           \n",
       "43                                          -0.268597           \n",
       "44                                           2.581562           \n",
       "45                                          -0.309903           \n",
       "46                                          -0.683459           \n",
       "47                                          -0.214719           \n",
       "48                                           0.316880           \n",
       "49                                          -0.469742           \n",
       "50                                          -0.353006           \n",
       "51                                          -0.640357           \n",
       "52                                          -0.494885           \n",
       "\n",
       "    Hispanic or Latino : in Correctional Facilities for Adults  ...  \\\n",
       "1                                           -0.359694           ...   \n",
       "2                                           -0.421320           ...   \n",
       "3                                            0.989995           ...   \n",
       "4                                           -0.345101           ...   \n",
       "5                                            5.121527           ...   \n",
       "6                                            0.261083           ...   \n",
       "7                                           -0.133714           ...   \n",
       "8                                           -0.424627           ...   \n",
       "9                                           -0.419168           ...   \n",
       "10                                           0.746324           ...   \n",
       "11                                           0.055417           ...   \n",
       "12                                          -0.407935           ...   \n",
       "13                                          -0.339747           ...   \n",
       "14                                           0.064813           ...   \n",
       "15                                          -0.275811           ...   \n",
       "16                                          -0.379536           ...   \n",
       "17                                          -0.297753           ...   \n",
       "18                                          -0.318750           ...   \n",
       "19                                          -0.321742           ...   \n",
       "20                                          -0.430612           ...   \n",
       "21                                          -0.358487           ...   \n",
       "22                                          -0.131299           ...   \n",
       "23                                          -0.300588           ...   \n",
       "24                                          -0.308566           ...   \n",
       "25                                          -0.226153           ...   \n",
       "26                                          -0.361899           ...   \n",
       "27                                          -0.419326           ...   \n",
       "28                                          -0.358802           ...   \n",
       "29                                          -0.196757           ...   \n",
       "30                                          -0.415861           ...   \n",
       "31                                           0.062818           ...   \n",
       "32                                           0.052740           ...   \n",
       "33                                           0.644594           ...   \n",
       "34                                          -0.230825           ...   \n",
       "35                                          -0.426937           ...   \n",
       "36                                          -0.234762           ...   \n",
       "37                                          -0.107782           ...   \n",
       "38                                          -0.243318           ...   \n",
       "39                                           0.319927           ...   \n",
       "40                                          -0.386465           ...   \n",
       "41                                          -0.285680           ...   \n",
       "42                                          -0.414234           ...   \n",
       "43                                          -0.343789           ...   \n",
       "44                                           4.369728           ...   \n",
       "45                                          -0.278173           ...   \n",
       "46                                          -0.429929           ...   \n",
       "47                                          -0.274656           ...   \n",
       "48                                          -0.196705           ...   \n",
       "49                                          -0.380639           ...   \n",
       "50                                          -0.325469           ...   \n",
       "51                                          -0.406518           ...   \n",
       "52                                           0.230165           ...   \n",
       "\n",
       "    Percent Total : In Correctional Facilities for Adults  \\\n",
       "1                                            0.778557       \n",
       "2                                           -0.393883       \n",
       "3                                            1.566222       \n",
       "4                                            0.880933       \n",
       "5                                            0.066503       \n",
       "6                                            0.552753       \n",
       "7                                           -0.465060       \n",
       "8                                            0.186976       \n",
       "9                                           -0.330457       \n",
       "10                                           0.885585       \n",
       "11                                           1.638721       \n",
       "12                                          -1.067168       \n",
       "13                                           0.189647       \n",
       "14                                          -0.522842       \n",
       "15                                           0.309412       \n",
       "16                                          -0.989581       \n",
       "17                                          -0.180360       \n",
       "18                                           1.149987       \n",
       "19                                           2.760430       \n",
       "20                                          -1.652680       \n",
       "21                                          -0.237231       \n",
       "22                                          -1.250457       \n",
       "23                                          -0.203598       \n",
       "24                                          -1.206219       \n",
       "25                                           1.992085       \n",
       "26                                           0.106783       \n",
       "27                                          -0.566252       \n",
       "28                                          -0.969118       \n",
       "29                                           0.256563       \n",
       "30                                          -1.277100       \n",
       "31                                          -0.697046       \n",
       "32                                           0.800962       \n",
       "33                                          -0.777304       \n",
       "34                                          -0.139458       \n",
       "35                                          -1.264149       \n",
       "36                                          -0.041104       \n",
       "37                                           1.700224       \n",
       "38                                          -0.391948       \n",
       "39                                           0.397058       \n",
       "40                                          -1.309649       \n",
       "41                                           0.907914       \n",
       "42                                           0.430105       \n",
       "43                                           0.272972       \n",
       "44                                           1.614576       \n",
       "45                                          -0.899381       \n",
       "46                                          -1.748226       \n",
       "47                                           0.595257       \n",
       "48                                          -0.827368       \n",
       "49                                           0.924891       \n",
       "50                                          -0.028433       \n",
       "51                                          -0.173219       \n",
       "52                                          -1.355823       \n",
       "\n",
       "    Percent White alone : in Correctional Facilities for Adults  \\\n",
       "1                                            0.116720             \n",
       "2                                           -0.759681             \n",
       "3                                            1.369571             \n",
       "4                                            0.780596             \n",
       "5                                           -0.087059             \n",
       "6                                            1.440971             \n",
       "7                                           -1.123388             \n",
       "8                                           -0.551093             \n",
       "9                                           -2.266538             \n",
       "10                                           0.659619             \n",
       "11                                           0.306854             \n",
       "12                                          -1.789753             \n",
       "13                                           1.815300             \n",
       "14                                          -1.108555             \n",
       "15                                           0.776371             \n",
       "16                                          -0.330910             \n",
       "17                                           0.251394             \n",
       "18                                           1.942970             \n",
       "19                                           0.537548             \n",
       "20                                          -0.777172             \n",
       "21                                          -1.212524             \n",
       "22                                          -0.786772             \n",
       "23                                          -0.389248             \n",
       "24                                          -1.022738             \n",
       "25                                           0.460775             \n",
       "26                                           0.383099             \n",
       "27                                           0.125241             \n",
       "28                                          -0.462584             \n",
       "29                                           0.576809             \n",
       "30                                          -0.254630             \n",
       "31                                          -1.196025             \n",
       "32                                           1.742598             \n",
       "33                                          -1.297950             \n",
       "34                                          -0.729461             \n",
       "35                                          -0.920839             \n",
       "36                                           0.000543             \n",
       "37                                           1.937594             \n",
       "38                                           0.643666             \n",
       "39                                          -0.243890             \n",
       "40                                          -1.195818             \n",
       "41                                          -0.391198             \n",
       "42                                           0.648030             \n",
       "43                                           0.233085             \n",
       "44                                           1.595051             \n",
       "45                                          -0.007270             \n",
       "46                                          -1.009608             \n",
       "47                                          -0.231793             \n",
       "48                                          -0.164861             \n",
       "49                                           1.684863             \n",
       "50                                           0.067068             \n",
       "51                                           1.065648             \n",
       "52                                          -0.850624             \n",
       "\n",
       "    Percent Black or African American alone : in Correctional Facilities for Adults  \\\n",
       "1                                            1.196984                                 \n",
       "2                                           -1.028199                                 \n",
       "3                                           -0.575191                                 \n",
       "4                                            0.712382                                 \n",
       "5                                           -0.262475                                 \n",
       "6                                           -0.478093                                 \n",
       "7                                           -0.043367                                 \n",
       "8                                            0.987194                                 \n",
       "9                                            1.472125                                 \n",
       "10                                           0.870586                                 \n",
       "11                                           1.966369                                 \n",
       "12                                          -1.156887                                 \n",
       "13                                          -1.135742                                 \n",
       "14                                           0.362723                                 \n",
       "15                                           0.090751                                 \n",
       "16                                          -0.711854                                 \n",
       "17                                          -0.226110                                 \n",
       "18                                           0.201340                                 \n",
       "19                                           3.331057                                 \n",
       "20                                          -1.145779                                 \n",
       "21                                           0.950329                                 \n",
       "22                                          -0.726618                                 \n",
       "23                                           0.353000                                 \n",
       "24                                          -0.615358                                 \n",
       "25                                           2.197348                                 \n",
       "26                                           0.166262                                 \n",
       "27                                          -1.165216                                 \n",
       "28                                          -0.662991                                 \n",
       "29                                          -0.138098                                 \n",
       "30                                          -1.108331                                 \n",
       "31                                           0.185979                                 \n",
       "32                                          -0.961295                                 \n",
       "33                                           0.114106                                 \n",
       "34                                           0.602096                                 \n",
       "35                                          -1.138421                                 \n",
       "36                                           0.243773                                 \n",
       "37                                           0.222736                                 \n",
       "38                                          -0.940934                                 \n",
       "39                                           0.601980                                 \n",
       "40                                          -0.678993                                 \n",
       "41                                           1.634854                                 \n",
       "42                                          -0.936551                                 \n",
       "43                                           0.458663                                 \n",
       "44                                           0.520383                                 \n",
       "45                                          -1.091745                                 \n",
       "46                                          -1.126489                                 \n",
       "47                                           1.210299                                 \n",
       "48                                          -0.800500                                 \n",
       "49                                           0.069341                                 \n",
       "50                                           0.084098                                 \n",
       "51                                          -1.106337                                 \n",
       "52                                          -0.845185                                 \n",
       "\n",
       "    Percent American Indian and Alaska Native alone : in Correctional Facilities for Adults  \\\n",
       "1                                           -0.497613                                         \n",
       "2                                            3.889943                                         \n",
       "3                                            1.579874                                         \n",
       "4                                           -0.415384                                         \n",
       "5                                           -0.334935                                         \n",
       "6                                            0.131166                                         \n",
       "7                                           -0.482754                                         \n",
       "8                                           -0.518012                                         \n",
       "9                                           -0.460769                                         \n",
       "10                                          -0.486142                                         \n",
       "11                                          -0.492618                                         \n",
       "12                                          -0.492793                                         \n",
       "13                                          -0.043690                                         \n",
       "14                                          -0.474648                                         \n",
       "15                                          -0.480255                                         \n",
       "16                                          -0.365754                                         \n",
       "17                                          -0.293376                                         \n",
       "18                                          -0.413759                                         \n",
       "19                                          -0.464892                                         \n",
       "20                                          -0.433829                                         \n",
       "21                                          -0.517512                                         \n",
       "22                                          -0.474249                                         \n",
       "23                                          -0.414780                                         \n",
       "24                                           0.084216                                         \n",
       "25                                          -0.425600                                         \n",
       "26                                          -0.467886                                         \n",
       "27                                           1.914460                                         \n",
       "28                                          -0.168351                                         \n",
       "29                                          -0.212313                                         \n",
       "30                                          -0.476093                                         \n",
       "31                                          -0.482881                                         \n",
       "32                                           1.447612                                         \n",
       "33                                          -0.453576                                         \n",
       "34                                          -0.302867                                         \n",
       "35                                           1.655118                                         \n",
       "36                                          -0.500267                                         \n",
       "37                                           1.308128                                         \n",
       "38                                          -0.161965                                         \n",
       "39                                          -0.487489                                         \n",
       "40                                          -0.479530                                         \n",
       "41                                          -0.442096                                         \n",
       "42                                           4.067932                                         \n",
       "43                                          -0.489052                                         \n",
       "44                                          -0.451215                                         \n",
       "45                                          -0.174123                                         \n",
       "46                                          -0.437551                                         \n",
       "47                                          -0.483140                                         \n",
       "48                                          -0.085091                                         \n",
       "49                                          -0.425374                                         \n",
       "50                                          -0.022183                                         \n",
       "51                                           0.523004                                         \n",
       "52                                          -0.415048                                         \n",
       "\n",
       "    Percent Asian alone : in Correctional Facilities for Adults  \\\n",
       "1                                           -0.362543             \n",
       "2                                            0.049236             \n",
       "3                                            0.994442             \n",
       "4                                           -0.136074             \n",
       "5                                            0.551467             \n",
       "6                                            0.162876             \n",
       "7                                           -0.172825             \n",
       "8                                           -0.387369             \n",
       "9                                           -0.159756             \n",
       "10                                          -0.265006             \n",
       "11                                          -0.139531             \n",
       "12                                           6.848968             \n",
       "13                                          -0.303176             \n",
       "14                                          -0.300963             \n",
       "15                                          -0.362952             \n",
       "16                                          -0.214822             \n",
       "17                                          -0.007759             \n",
       "18                                          -0.242563             \n",
       "19                                          -0.246451             \n",
       "20                                          -0.336773             \n",
       "21                                          -0.311007             \n",
       "22                                          -0.179106             \n",
       "23                                          -0.285813             \n",
       "24                                           0.228347             \n",
       "25                                           0.041388             \n",
       "26                                          -0.401604             \n",
       "27                                          -0.352553             \n",
       "28                                          -0.230849             \n",
       "29                                           0.795068             \n",
       "30                                          -0.310644             \n",
       "31                                          -0.114298             \n",
       "32                                          -0.232855             \n",
       "33                                          -0.131082             \n",
       "34                                          -0.270795             \n",
       "35                                          -0.423990             \n",
       "36                                          -0.274481             \n",
       "37                                          -0.087688             \n",
       "38                                           0.274100             \n",
       "39                                          -0.116611             \n",
       "40                                          -0.100976             \n",
       "41                                          -0.300541             \n",
       "42                                          -0.127078             \n",
       "43                                          -0.327107             \n",
       "44                                           0.082033             \n",
       "45                                          -0.222452             \n",
       "46                                          -0.394932             \n",
       "47                                          -0.168532             \n",
       "48                                           0.174584             \n",
       "49                                          -0.251924             \n",
       "50                                          -0.181359             \n",
       "51                                          -0.329267             \n",
       "52                                          -0.436402             \n",
       "\n",
       "    Percent Native Hawaiian and other Pacific Islander alone : in Correctional Facilities for Adults  \\\n",
       "1                                           -0.184697                                                  \n",
       "2                                            0.099612                                                  \n",
       "3                                            0.542049                                                  \n",
       "4                                           -0.171999                                                  \n",
       "5                                           -0.079390                                                  \n",
       "6                                           -0.143385                                                  \n",
       "7                                           -0.125407                                                  \n",
       "8                                           -0.167352                                                  \n",
       "9                                           -0.180010                                                  \n",
       "10                                          -0.178864                                                  \n",
       "11                                          -0.168361                                                  \n",
       "12                                           7.098896                                                  \n",
       "13                                          -0.126827                                                  \n",
       "14                                          -0.182596                                                  \n",
       "15                                          -0.178455                                                  \n",
       "16                                          -0.168201                                                  \n",
       "17                                          -0.176422                                                  \n",
       "18                                          -0.172920                                                  \n",
       "19                                          -0.177544                                                  \n",
       "20                                          -0.180718                                                  \n",
       "21                                          -0.181262                                                  \n",
       "22                                          -0.176467                                                  \n",
       "23                                          -0.184332                                                  \n",
       "24                                          -0.171306                                                  \n",
       "25                                          -0.163104                                                  \n",
       "26                                          -0.161812                                                  \n",
       "27                                          -0.187541                                                  \n",
       "28                                          -0.182578                                                  \n",
       "29                                          -0.113700                                                  \n",
       "30                                          -0.180656                                                  \n",
       "31                                          -0.162798                                                  \n",
       "32                                          -0.172135                                                  \n",
       "33                                          -0.175380                                                  \n",
       "34                                          -0.178986                                                  \n",
       "35                                          -0.153850                                                  \n",
       "36                                          -0.182434                                                  \n",
       "37                                          -0.144049                                                  \n",
       "38                                          -0.116562                                                  \n",
       "39                                          -0.179335                                                  \n",
       "40                                          -0.187541                                                  \n",
       "41                                          -0.169904                                                  \n",
       "42                                          -0.148576                                                  \n",
       "43                                          -0.183971                                                  \n",
       "44                                          -0.174925                                                  \n",
       "45                                           0.019069                                                  \n",
       "46                                          -0.187541                                                  \n",
       "47                                          -0.160352                                                  \n",
       "48                                          -0.019050                                                  \n",
       "49                                          -0.153300                                                  \n",
       "50                                          -0.117412                                                  \n",
       "51                                          -0.139295                                                  \n",
       "52                                          -0.186325                                                  \n",
       "\n",
       "    Percent Some other race alone : in Correctional Facilities for Adults  \\\n",
       "1                                           -0.624849                       \n",
       "2                                           -0.674099                       \n",
       "3                                            4.601887                       \n",
       "4                                           -0.271594                       \n",
       "5                                            2.447333                       \n",
       "6                                            0.198959                       \n",
       "7                                            2.437310                       \n",
       "8                                           -0.645914                       \n",
       "9                                           -0.338767                       \n",
       "10                                          -0.438882                       \n",
       "11                                           0.091652                       \n",
       "12                                          -0.434041                       \n",
       "13                                           0.154262                       \n",
       "14                                           0.070498                       \n",
       "15                                          -0.474554                       \n",
       "16                                          -0.655757                       \n",
       "17                                          -0.451282                       \n",
       "18                                          -0.481172                       \n",
       "19                                          -0.569513                       \n",
       "20                                          -0.743976                       \n",
       "21                                          -0.640642                       \n",
       "22                                          -0.299543                       \n",
       "23                                          -0.716769                       \n",
       "24                                          -0.630434                       \n",
       "25                                           0.080395                       \n",
       "26                                          -0.666195                       \n",
       "27                                          -0.373800                       \n",
       "28                                          -0.498311                       \n",
       "29                                           0.133730                       \n",
       "30                                          -0.587104                       \n",
       "31                                          -0.005909                       \n",
       "32                                           1.495418                       \n",
       "33                                           0.383352                       \n",
       "34                                          -0.418612                       \n",
       "35                                          -0.555048                       \n",
       "36                                          -0.530064                       \n",
       "37                                           0.298474                       \n",
       "38                                           0.002790                       \n",
       "39                                           1.264044                       \n",
       "40                                           0.657521                       \n",
       "41                                          -0.160004                       \n",
       "42                                          -0.358595                       \n",
       "43                                          -0.517803                       \n",
       "44                                           2.266991                       \n",
       "45                                           0.134261                       \n",
       "46                                          -0.728471                       \n",
       "47                                          -0.560829                       \n",
       "48                                          -0.504608                       \n",
       "49                                          -0.215681                       \n",
       "50                                          -0.586964                       \n",
       "51                                          -0.212422                       \n",
       "52                                          -0.146672                       \n",
       "\n",
       "    Percent Two or more races : in Correctional Facilities for Adults  \\\n",
       "1                                           -0.374025                   \n",
       "2                                            4.931315                   \n",
       "3                                            1.792646                   \n",
       "4                                           -0.237207                   \n",
       "5                                           -0.011218                   \n",
       "6                                            0.356482                   \n",
       "7                                           -0.249085                   \n",
       "8                                           -0.771358                   \n",
       "9                                            0.919432                   \n",
       "10                                          -0.269886                   \n",
       "11                                          -0.184059                   \n",
       "12                                           2.856827                   \n",
       "13                                           0.394265                   \n",
       "14                                          -0.696493                   \n",
       "15                                          -0.679827                   \n",
       "16                                          -0.523229                   \n",
       "17                                          -0.132409                   \n",
       "18                                           0.143126                   \n",
       "19                                          -0.314774                   \n",
       "20                                          -0.872733                   \n",
       "21                                          -0.753751                   \n",
       "22                                          -0.740976                   \n",
       "23                                          -0.650760                   \n",
       "24                                          -0.391248                   \n",
       "25                                           1.337862                   \n",
       "26                                          -0.632731                   \n",
       "27                                          -0.362557                   \n",
       "28                                          -0.577895                   \n",
       "29                                           0.341800                   \n",
       "30                                          -0.488493                   \n",
       "31                                          -0.084358                   \n",
       "32                                           0.461948                   \n",
       "33                                          -0.796690                   \n",
       "34                                          -0.647209                   \n",
       "35                                          -0.544716                   \n",
       "36                                          -0.574873                   \n",
       "37                                           1.568019                   \n",
       "38                                           0.027929                   \n",
       "39                                          -0.239200                   \n",
       "40                                          -0.739475                   \n",
       "41                                          -0.418651                   \n",
       "42                                           0.684123                   \n",
       "43                                          -0.551162                   \n",
       "44                                          -0.210938                   \n",
       "45                                           0.042313                   \n",
       "46                                           0.000745                   \n",
       "47                                          -0.617529                   \n",
       "48                                          -0.013700                   \n",
       "49                                           0.033882                   \n",
       "50                                          -0.586119                   \n",
       "51                                           0.618741                   \n",
       "52                                          -0.572121                   \n",
       "\n",
       "    Percent Hispanic or Latino : in Correctional Facilities for Adults  \\\n",
       "1                                           -0.673932                    \n",
       "2                                           -0.626035                    \n",
       "3                                            3.162997                    \n",
       "4                                           -0.396694                    \n",
       "5                                            1.798686                    \n",
       "6                                            1.597301                    \n",
       "7                                            0.594211                    \n",
       "8                                           -0.764604                    \n",
       "9                                           -0.499098                    \n",
       "10                                           0.199971                    \n",
       "11                                          -0.026807                    \n",
       "12                                          -0.604715                    \n",
       "13                                           0.153386                    \n",
       "14                                          -0.242501                    \n",
       "15                                          -0.510272                    \n",
       "16                                          -0.630232                    \n",
       "17                                          -0.076952                    \n",
       "18                                          -0.469917                    \n",
       "19                                          -0.503226                    \n",
       "20                                          -0.912205                    \n",
       "21                                          -0.719765                    \n",
       "22                                          -0.106010                    \n",
       "23                                          -0.712315                    \n",
       "24                                          -0.523980                    \n",
       "25                                           0.335758                    \n",
       "26                                          -0.739051                    \n",
       "27                                          -0.683700                    \n",
       "28                                          -0.197928                    \n",
       "29                                           0.665564                    \n",
       "30                                          -0.704282                    \n",
       "31                                           0.084133                    \n",
       "32                                           3.416218                    \n",
       "33                                           0.068158                    \n",
       "34                                          -0.567706                    \n",
       "35                                          -0.761822                    \n",
       "36                                          -0.642536                    \n",
       "37                                           0.648641                    \n",
       "38                                          -0.039961                    \n",
       "39                                           0.136652                    \n",
       "40                                          -0.122373                    \n",
       "41                                          -0.367999                    \n",
       "42                                          -0.507854                    \n",
       "43                                          -0.698798                    \n",
       "44                                           2.574780                    \n",
       "45                                           0.082816                    \n",
       "46                                          -0.835321                    \n",
       "47                                          -0.593391                    \n",
       "48                                          -0.308646                    \n",
       "49                                          -0.427137                    \n",
       "50                                          -0.608564                    \n",
       "51                                          -0.052160                    \n",
       "52                                           2.339217                    \n",
       "\n",
       "    Percent White alone, not Hispanic or Latino : in Correctional Facilities for Adults  \n",
       "1                                            0.452954                                    \n",
       "2                                           -0.521721                                    \n",
       "3                                            0.481669                                    \n",
       "4                                            1.097369                                    \n",
       "5                                           -0.924720                                    \n",
       "6                                            0.436373                                    \n",
       "7                                           -1.003000                                    \n",
       "8                                           -0.232386                                    \n",
       "9                                           -2.207822                                    \n",
       "10                                           0.472555                                    \n",
       "11                                           0.434399                                    \n",
       "12                                          -1.612371                                    \n",
       "13                                           1.943542                                    \n",
       "14                                          -1.071260                                    \n",
       "15                                           1.089877                                    \n",
       "16                                          -0.108284                                    \n",
       "17                                           0.197726                                    \n",
       "18                                           2.407462                                    \n",
       "19                                           0.822609                                    \n",
       "20                                          -0.432394                                    \n",
       "21                                          -1.025509                                    \n",
       "22                                          -0.925420                                    \n",
       "23                                          -0.122541                                    \n",
       "24                                          -0.946734                                    \n",
       "25                                           0.363258                                    \n",
       "26                                           0.778216                                    \n",
       "27                                           0.545172                                    \n",
       "28                                          -0.542453                                    \n",
       "29                                           0.207777                                    \n",
       "30                                           0.062802                                    \n",
       "31                                          -1.333448                                    \n",
       "32                                          -0.272298                                    \n",
       "33                                          -1.352983                                    \n",
       "34                                          -0.541460                                    \n",
       "35                                          -0.644898                                    \n",
       "36                                           0.326908                                    \n",
       "37                                           1.763454                                    \n",
       "38                                           0.750260                                    \n",
       "39                                          -0.022469                                    \n",
       "40                                          -1.095869                                    \n",
       "41                                          -0.204888                                    \n",
       "42                                           1.004980                                    \n",
       "43                                           0.621430                                    \n",
       "44                                           0.362814                                    \n",
       "45                                          -0.044731                                    \n",
       "46                                          -0.722273                                    \n",
       "47                                           0.011179                                    \n",
       "48                                          -0.126812                                    \n",
       "49                                           2.164865                                    \n",
       "50                                           0.346888                                    \n",
       "51                                           1.202935                                    \n",
       "52                                          -2.310726                                    \n",
       "\n",
       "[52 rows x 121 columns]"
      ]
     },
     "execution_count": 55,
     "metadata": {},
     "output_type": "execute_result"
    }
   ],
   "source": [
    "df"
   ]
  },
  {
   "cell_type": "code",
   "execution_count": 56,
   "metadata": {},
   "outputs": [],
   "source": [
    "# Data frames that onyl consider Incarceration percents\n",
    "percent_df_whole =df.filter(regex='.*(Geography|Percent).*') \n",
    "percent_df_total = percent_df_whole.filter(regex='^(?!.*([Mm]en)).*') # Total percents\n",
    "percent_df_male = percent_df_whole.filter(regex='.*(Geography|Men).*') # Male percents\n",
    "percent_df_female = percent_df_whole.filter(regex='.*(Geography|[Wo]men).*') # Female percents"
   ]
  },
  {
   "cell_type": "code",
   "execution_count": 57,
   "metadata": {},
   "outputs": [
    {
     "data": {
      "text/plain": [
       "Index(['Geography',\n",
       "       'Percent Total Men : In Correctional Facilities for Adults',\n",
       "       'Percent White alone: in Correctional Facilities for Adults : Men',\n",
       "       'Percent Black or African American alone: in Correctional Facilities for Adults : Men',\n",
       "       'Percent American Indian and Alaska Native alone: in Correctional Facilities for Adults : Men',\n",
       "       'Percent Asian alone: in Correctional Facilities for Adults : Men',\n",
       "       'Percent Native Hawaiian and other Pacific Islander alone: in Correctional Facilities for Adults : Men',\n",
       "       'Percent Some other race alone: in Correctional Facilities for Adults : Men',\n",
       "       'Percent Two or more races: in Correctional Facilities for Adults : Men',\n",
       "       'Percent Hispanic or Latino: in Correctional Facilities for Adults : Men',\n",
       "       'Percent White alone, not Hispanic or Latino: in Correctional Facilities for Adults : Men',\n",
       "       'Percent Total Women : In Correctional Facilities for Adults',\n",
       "       'Percent White alone: in Correctional Facilities for Adults : Women',\n",
       "       'Percent Black or African American alone: in Correctional Facilities for Adults : Women',\n",
       "       'Percent American Indian and Alaska Native alone: in Correctional Facilities for Adults : Women',\n",
       "       'Percent Asian alone: in Correctional Facilities for Adults : Women',\n",
       "       'Percent Native Hawaiian and other Pacific Islander alone: in Correctional Facilities for Adults : Women',\n",
       "       'Percent Some other race alone: in Correctional Facilities for Adults : Women',\n",
       "       'Percent Two or more races: in Correctional Facilities for Adults : Women',\n",
       "       'Percent Hispanic or Latino: in Correctional Facilities for Adults : Women',\n",
       "       'Percent White alone, not Hispanic or Latino: in Correctional Facilities for Adults : Women',\n",
       "       'Percent Total : In Correctional Facilities for Adults',\n",
       "       'Percent White alone : in Correctional Facilities for Adults',\n",
       "       'Percent Black or African American alone : in Correctional Facilities for Adults',\n",
       "       'Percent American Indian and Alaska Native alone : in Correctional Facilities for Adults',\n",
       "       'Percent Asian alone : in Correctional Facilities for Adults',\n",
       "       'Percent Native Hawaiian and other Pacific Islander alone : in Correctional Facilities for Adults',\n",
       "       'Percent Some other race alone : in Correctional Facilities for Adults',\n",
       "       'Percent Two or more races : in Correctional Facilities for Adults',\n",
       "       'Percent Hispanic or Latino : in Correctional Facilities for Adults',\n",
       "       'Percent White alone, not Hispanic or Latino : in Correctional Facilities for Adults'],\n",
       "      dtype='object')"
      ]
     },
     "execution_count": 57,
     "metadata": {},
     "output_type": "execute_result"
    }
   ],
   "source": [
    "percent_df_whole.columns"
   ]
  },
  {
   "cell_type": "code",
   "execution_count": 58,
   "metadata": {},
   "outputs": [
    {
     "data": {
      "text/plain": [
       "Index(['Geography', 'Percent Total : In Correctional Facilities for Adults',\n",
       "       'Percent White alone : in Correctional Facilities for Adults',\n",
       "       'Percent Black or African American alone : in Correctional Facilities for Adults',\n",
       "       'Percent American Indian and Alaska Native alone : in Correctional Facilities for Adults',\n",
       "       'Percent Asian alone : in Correctional Facilities for Adults',\n",
       "       'Percent Native Hawaiian and other Pacific Islander alone : in Correctional Facilities for Adults',\n",
       "       'Percent Some other race alone : in Correctional Facilities for Adults',\n",
       "       'Percent Two or more races : in Correctional Facilities for Adults',\n",
       "       'Percent Hispanic or Latino : in Correctional Facilities for Adults',\n",
       "       'Percent White alone, not Hispanic or Latino : in Correctional Facilities for Adults'],\n",
       "      dtype='object')"
      ]
     },
     "execution_count": 58,
     "metadata": {},
     "output_type": "execute_result"
    }
   ],
   "source": [
    "percent_df_total.columns"
   ]
  },
  {
   "cell_type": "code",
   "execution_count": 81,
   "metadata": {},
   "outputs": [
    {
     "data": {
      "application/vnd.plotly.v1+json": {
       "config": {
        "plotlyServerURL": "https://plot.ly"
       },
       "data": [
        {
         "coloraxis": "coloraxis",
         "geo": "geo",
         "hovertemplate": "State Abbreviation=%{location}<br>Cluster=%{z}<extra></extra>",
         "locationmode": "USA-states",
         "locations": [
          "AL",
          "AK",
          "AZ",
          "AR",
          "CA",
          "CO",
          "CT",
          "DE",
          null,
          "FL",
          "GA",
          "HI",
          "ID",
          "IL",
          "IN",
          "IA",
          "KS",
          "KY",
          "LA",
          "ME",
          "MD",
          "MA",
          "MI",
          "MN",
          "MS",
          "MO",
          "MT",
          "NE",
          "NV",
          "NH",
          "NJ",
          "NM",
          "NY",
          "NC",
          "ND",
          "OH",
          "OK",
          "OR",
          "PA",
          "RI",
          "SC",
          "SD",
          "TN",
          "TX",
          "UT",
          "VT",
          "VA",
          "WA",
          "WV",
          "WI",
          "WY",
          null
         ],
         "name": "",
         "type": "choropleth",
         "z": [
          1,
          0,
          2,
          1,
          2,
          0,
          2,
          1,
          1,
          1,
          1,
          3,
          0,
          1,
          1,
          1,
          1,
          0,
          1,
          1,
          1,
          1,
          1,
          1,
          1,
          1,
          0,
          1,
          1,
          1,
          1,
          2,
          1,
          1,
          1,
          1,
          0,
          0,
          1,
          1,
          1,
          0,
          1,
          2,
          1,
          1,
          1,
          1,
          0,
          1,
          0,
          2
         ]
        }
       ],
       "layout": {
        "coloraxis": {
         "colorbar": {
          "title": {
           "text": "Cluster"
          }
         },
         "colorscale": [
          [
           0,
           "#0d0887"
          ],
          [
           0.1111111111111111,
           "#46039f"
          ],
          [
           0.2222222222222222,
           "#7201a8"
          ],
          [
           0.3333333333333333,
           "#9c179e"
          ],
          [
           0.4444444444444444,
           "#bd3786"
          ],
          [
           0.5555555555555556,
           "#d8576b"
          ],
          [
           0.6666666666666666,
           "#ed7953"
          ],
          [
           0.7777777777777778,
           "#fb9f3a"
          ],
          [
           0.8888888888888888,
           "#fdca26"
          ],
          [
           1,
           "#f0f921"
          ]
         ]
        },
        "geo": {
         "center": {},
         "domain": {
          "x": [
           0,
           1
          ],
          "y": [
           0,
           1
          ]
         },
         "scope": "usa"
        },
        "legend": {
         "tracegroupgap": 0
        },
        "template": {
         "data": {
          "bar": [
           {
            "error_x": {
             "color": "#2a3f5f"
            },
            "error_y": {
             "color": "#2a3f5f"
            },
            "marker": {
             "line": {
              "color": "#E5ECF6",
              "width": 0.5
             },
             "pattern": {
              "fillmode": "overlay",
              "size": 10,
              "solidity": 0.2
             }
            },
            "type": "bar"
           }
          ],
          "barpolar": [
           {
            "marker": {
             "line": {
              "color": "#E5ECF6",
              "width": 0.5
             },
             "pattern": {
              "fillmode": "overlay",
              "size": 10,
              "solidity": 0.2
             }
            },
            "type": "barpolar"
           }
          ],
          "carpet": [
           {
            "aaxis": {
             "endlinecolor": "#2a3f5f",
             "gridcolor": "white",
             "linecolor": "white",
             "minorgridcolor": "white",
             "startlinecolor": "#2a3f5f"
            },
            "baxis": {
             "endlinecolor": "#2a3f5f",
             "gridcolor": "white",
             "linecolor": "white",
             "minorgridcolor": "white",
             "startlinecolor": "#2a3f5f"
            },
            "type": "carpet"
           }
          ],
          "choropleth": [
           {
            "colorbar": {
             "outlinewidth": 0,
             "ticks": ""
            },
            "type": "choropleth"
           }
          ],
          "contour": [
           {
            "colorbar": {
             "outlinewidth": 0,
             "ticks": ""
            },
            "colorscale": [
             [
              0,
              "#0d0887"
             ],
             [
              0.1111111111111111,
              "#46039f"
             ],
             [
              0.2222222222222222,
              "#7201a8"
             ],
             [
              0.3333333333333333,
              "#9c179e"
             ],
             [
              0.4444444444444444,
              "#bd3786"
             ],
             [
              0.5555555555555556,
              "#d8576b"
             ],
             [
              0.6666666666666666,
              "#ed7953"
             ],
             [
              0.7777777777777778,
              "#fb9f3a"
             ],
             [
              0.8888888888888888,
              "#fdca26"
             ],
             [
              1,
              "#f0f921"
             ]
            ],
            "type": "contour"
           }
          ],
          "contourcarpet": [
           {
            "colorbar": {
             "outlinewidth": 0,
             "ticks": ""
            },
            "type": "contourcarpet"
           }
          ],
          "heatmap": [
           {
            "colorbar": {
             "outlinewidth": 0,
             "ticks": ""
            },
            "colorscale": [
             [
              0,
              "#0d0887"
             ],
             [
              0.1111111111111111,
              "#46039f"
             ],
             [
              0.2222222222222222,
              "#7201a8"
             ],
             [
              0.3333333333333333,
              "#9c179e"
             ],
             [
              0.4444444444444444,
              "#bd3786"
             ],
             [
              0.5555555555555556,
              "#d8576b"
             ],
             [
              0.6666666666666666,
              "#ed7953"
             ],
             [
              0.7777777777777778,
              "#fb9f3a"
             ],
             [
              0.8888888888888888,
              "#fdca26"
             ],
             [
              1,
              "#f0f921"
             ]
            ],
            "type": "heatmap"
           }
          ],
          "heatmapgl": [
           {
            "colorbar": {
             "outlinewidth": 0,
             "ticks": ""
            },
            "colorscale": [
             [
              0,
              "#0d0887"
             ],
             [
              0.1111111111111111,
              "#46039f"
             ],
             [
              0.2222222222222222,
              "#7201a8"
             ],
             [
              0.3333333333333333,
              "#9c179e"
             ],
             [
              0.4444444444444444,
              "#bd3786"
             ],
             [
              0.5555555555555556,
              "#d8576b"
             ],
             [
              0.6666666666666666,
              "#ed7953"
             ],
             [
              0.7777777777777778,
              "#fb9f3a"
             ],
             [
              0.8888888888888888,
              "#fdca26"
             ],
             [
              1,
              "#f0f921"
             ]
            ],
            "type": "heatmapgl"
           }
          ],
          "histogram": [
           {
            "marker": {
             "pattern": {
              "fillmode": "overlay",
              "size": 10,
              "solidity": 0.2
             }
            },
            "type": "histogram"
           }
          ],
          "histogram2d": [
           {
            "colorbar": {
             "outlinewidth": 0,
             "ticks": ""
            },
            "colorscale": [
             [
              0,
              "#0d0887"
             ],
             [
              0.1111111111111111,
              "#46039f"
             ],
             [
              0.2222222222222222,
              "#7201a8"
             ],
             [
              0.3333333333333333,
              "#9c179e"
             ],
             [
              0.4444444444444444,
              "#bd3786"
             ],
             [
              0.5555555555555556,
              "#d8576b"
             ],
             [
              0.6666666666666666,
              "#ed7953"
             ],
             [
              0.7777777777777778,
              "#fb9f3a"
             ],
             [
              0.8888888888888888,
              "#fdca26"
             ],
             [
              1,
              "#f0f921"
             ]
            ],
            "type": "histogram2d"
           }
          ],
          "histogram2dcontour": [
           {
            "colorbar": {
             "outlinewidth": 0,
             "ticks": ""
            },
            "colorscale": [
             [
              0,
              "#0d0887"
             ],
             [
              0.1111111111111111,
              "#46039f"
             ],
             [
              0.2222222222222222,
              "#7201a8"
             ],
             [
              0.3333333333333333,
              "#9c179e"
             ],
             [
              0.4444444444444444,
              "#bd3786"
             ],
             [
              0.5555555555555556,
              "#d8576b"
             ],
             [
              0.6666666666666666,
              "#ed7953"
             ],
             [
              0.7777777777777778,
              "#fb9f3a"
             ],
             [
              0.8888888888888888,
              "#fdca26"
             ],
             [
              1,
              "#f0f921"
             ]
            ],
            "type": "histogram2dcontour"
           }
          ],
          "mesh3d": [
           {
            "colorbar": {
             "outlinewidth": 0,
             "ticks": ""
            },
            "type": "mesh3d"
           }
          ],
          "parcoords": [
           {
            "line": {
             "colorbar": {
              "outlinewidth": 0,
              "ticks": ""
             }
            },
            "type": "parcoords"
           }
          ],
          "pie": [
           {
            "automargin": true,
            "type": "pie"
           }
          ],
          "scatter": [
           {
            "fillpattern": {
             "fillmode": "overlay",
             "size": 10,
             "solidity": 0.2
            },
            "type": "scatter"
           }
          ],
          "scatter3d": [
           {
            "line": {
             "colorbar": {
              "outlinewidth": 0,
              "ticks": ""
             }
            },
            "marker": {
             "colorbar": {
              "outlinewidth": 0,
              "ticks": ""
             }
            },
            "type": "scatter3d"
           }
          ],
          "scattercarpet": [
           {
            "marker": {
             "colorbar": {
              "outlinewidth": 0,
              "ticks": ""
             }
            },
            "type": "scattercarpet"
           }
          ],
          "scattergeo": [
           {
            "marker": {
             "colorbar": {
              "outlinewidth": 0,
              "ticks": ""
             }
            },
            "type": "scattergeo"
           }
          ],
          "scattergl": [
           {
            "marker": {
             "colorbar": {
              "outlinewidth": 0,
              "ticks": ""
             }
            },
            "type": "scattergl"
           }
          ],
          "scattermapbox": [
           {
            "marker": {
             "colorbar": {
              "outlinewidth": 0,
              "ticks": ""
             }
            },
            "type": "scattermapbox"
           }
          ],
          "scatterpolar": [
           {
            "marker": {
             "colorbar": {
              "outlinewidth": 0,
              "ticks": ""
             }
            },
            "type": "scatterpolar"
           }
          ],
          "scatterpolargl": [
           {
            "marker": {
             "colorbar": {
              "outlinewidth": 0,
              "ticks": ""
             }
            },
            "type": "scatterpolargl"
           }
          ],
          "scatterternary": [
           {
            "marker": {
             "colorbar": {
              "outlinewidth": 0,
              "ticks": ""
             }
            },
            "type": "scatterternary"
           }
          ],
          "surface": [
           {
            "colorbar": {
             "outlinewidth": 0,
             "ticks": ""
            },
            "colorscale": [
             [
              0,
              "#0d0887"
             ],
             [
              0.1111111111111111,
              "#46039f"
             ],
             [
              0.2222222222222222,
              "#7201a8"
             ],
             [
              0.3333333333333333,
              "#9c179e"
             ],
             [
              0.4444444444444444,
              "#bd3786"
             ],
             [
              0.5555555555555556,
              "#d8576b"
             ],
             [
              0.6666666666666666,
              "#ed7953"
             ],
             [
              0.7777777777777778,
              "#fb9f3a"
             ],
             [
              0.8888888888888888,
              "#fdca26"
             ],
             [
              1,
              "#f0f921"
             ]
            ],
            "type": "surface"
           }
          ],
          "table": [
           {
            "cells": {
             "fill": {
              "color": "#EBF0F8"
             },
             "line": {
              "color": "white"
             }
            },
            "header": {
             "fill": {
              "color": "#C8D4E3"
             },
             "line": {
              "color": "white"
             }
            },
            "type": "table"
           }
          ]
         },
         "layout": {
          "annotationdefaults": {
           "arrowcolor": "#2a3f5f",
           "arrowhead": 0,
           "arrowwidth": 1
          },
          "autotypenumbers": "strict",
          "coloraxis": {
           "colorbar": {
            "outlinewidth": 0,
            "ticks": ""
           }
          },
          "colorscale": {
           "diverging": [
            [
             0,
             "#8e0152"
            ],
            [
             0.1,
             "#c51b7d"
            ],
            [
             0.2,
             "#de77ae"
            ],
            [
             0.3,
             "#f1b6da"
            ],
            [
             0.4,
             "#fde0ef"
            ],
            [
             0.5,
             "#f7f7f7"
            ],
            [
             0.6,
             "#e6f5d0"
            ],
            [
             0.7,
             "#b8e186"
            ],
            [
             0.8,
             "#7fbc41"
            ],
            [
             0.9,
             "#4d9221"
            ],
            [
             1,
             "#276419"
            ]
           ],
           "sequential": [
            [
             0,
             "#0d0887"
            ],
            [
             0.1111111111111111,
             "#46039f"
            ],
            [
             0.2222222222222222,
             "#7201a8"
            ],
            [
             0.3333333333333333,
             "#9c179e"
            ],
            [
             0.4444444444444444,
             "#bd3786"
            ],
            [
             0.5555555555555556,
             "#d8576b"
            ],
            [
             0.6666666666666666,
             "#ed7953"
            ],
            [
             0.7777777777777778,
             "#fb9f3a"
            ],
            [
             0.8888888888888888,
             "#fdca26"
            ],
            [
             1,
             "#f0f921"
            ]
           ],
           "sequentialminus": [
            [
             0,
             "#0d0887"
            ],
            [
             0.1111111111111111,
             "#46039f"
            ],
            [
             0.2222222222222222,
             "#7201a8"
            ],
            [
             0.3333333333333333,
             "#9c179e"
            ],
            [
             0.4444444444444444,
             "#bd3786"
            ],
            [
             0.5555555555555556,
             "#d8576b"
            ],
            [
             0.6666666666666666,
             "#ed7953"
            ],
            [
             0.7777777777777778,
             "#fb9f3a"
            ],
            [
             0.8888888888888888,
             "#fdca26"
            ],
            [
             1,
             "#f0f921"
            ]
           ]
          },
          "colorway": [
           "#636efa",
           "#EF553B",
           "#00cc96",
           "#ab63fa",
           "#FFA15A",
           "#19d3f3",
           "#FF6692",
           "#B6E880",
           "#FF97FF",
           "#FECB52"
          ],
          "font": {
           "color": "#2a3f5f"
          },
          "geo": {
           "bgcolor": "white",
           "lakecolor": "white",
           "landcolor": "#E5ECF6",
           "showlakes": true,
           "showland": true,
           "subunitcolor": "white"
          },
          "hoverlabel": {
           "align": "left"
          },
          "hovermode": "closest",
          "mapbox": {
           "style": "light"
          },
          "paper_bgcolor": "white",
          "plot_bgcolor": "#E5ECF6",
          "polar": {
           "angularaxis": {
            "gridcolor": "white",
            "linecolor": "white",
            "ticks": ""
           },
           "bgcolor": "#E5ECF6",
           "radialaxis": {
            "gridcolor": "white",
            "linecolor": "white",
            "ticks": ""
           }
          },
          "scene": {
           "xaxis": {
            "backgroundcolor": "#E5ECF6",
            "gridcolor": "white",
            "gridwidth": 2,
            "linecolor": "white",
            "showbackground": true,
            "ticks": "",
            "zerolinecolor": "white"
           },
           "yaxis": {
            "backgroundcolor": "#E5ECF6",
            "gridcolor": "white",
            "gridwidth": 2,
            "linecolor": "white",
            "showbackground": true,
            "ticks": "",
            "zerolinecolor": "white"
           },
           "zaxis": {
            "backgroundcolor": "#E5ECF6",
            "gridcolor": "white",
            "gridwidth": 2,
            "linecolor": "white",
            "showbackground": true,
            "ticks": "",
            "zerolinecolor": "white"
           }
          },
          "shapedefaults": {
           "line": {
            "color": "#2a3f5f"
           }
          },
          "ternary": {
           "aaxis": {
            "gridcolor": "white",
            "linecolor": "white",
            "ticks": ""
           },
           "baxis": {
            "gridcolor": "white",
            "linecolor": "white",
            "ticks": ""
           },
           "bgcolor": "#E5ECF6",
           "caxis": {
            "gridcolor": "white",
            "linecolor": "white",
            "ticks": ""
           }
          },
          "title": {
           "x": 0.05
          },
          "xaxis": {
           "automargin": true,
           "gridcolor": "white",
           "linecolor": "white",
           "ticks": "",
           "title": {
            "standoff": 15
           },
           "zerolinecolor": "white",
           "zerolinewidth": 2
          },
          "yaxis": {
           "automargin": true,
           "gridcolor": "white",
           "linecolor": "white",
           "ticks": "",
           "title": {
            "standoff": 15
           },
           "zerolinecolor": "white",
           "zerolinewidth": 2
          }
         }
        },
        "title": {
         "text": "Clusters by State"
        }
       }
      }
     },
     "metadata": {},
     "output_type": "display_data"
    }
   ],
   "source": [
    "stateClusterGraph(runKmeans(percent_df_total, getX(percent_df_total), n))"
   ]
  },
  {
   "cell_type": "code",
   "execution_count": 68,
   "metadata": {},
   "outputs": [
    {
     "data": {
      "application/vnd.plotly.v1+json": {
       "config": {
        "plotlyServerURL": "https://plot.ly"
       },
       "data": [
        {
         "alignmentgroup": "True",
         "hovertemplate": "Geography=%{x}<br>Percent Total : In Correctional Facilities for Adults=%{y}<br>Cluster=%{marker.color}<extra></extra>",
         "legendgroup": "",
         "marker": {
          "color": [
           1,
           2,
           3,
           1,
           3,
           2,
           3,
           1,
           0,
           1,
           1,
           0,
           2,
           1,
           1,
           1,
           1,
           1,
           1,
           1,
           1,
           1,
           1,
           0,
           1,
           1,
           2,
           1,
           1,
           1,
           0,
           3,
           0,
           1,
           0,
           1,
           2,
           1,
           1,
           1,
           1,
           2,
           1,
           3,
           0,
           1,
           1,
           0,
           1,
           1,
           2,
           0
          ],
          "coloraxis": "coloraxis",
          "pattern": {
           "shape": ""
          }
         },
         "name": "",
         "offsetgroup": "",
         "orientation": "v",
         "showlegend": false,
         "textposition": "auto",
         "type": "bar",
         "x": [
          "Alabama",
          "Alaska",
          "Arizona",
          "Arkansas",
          "California",
          "Colorado",
          "Connecticut",
          "Delaware",
          "District of Columbia",
          "Florida",
          "Georgia",
          "Hawaii",
          "Idaho",
          "Illinois",
          "Indiana",
          "Iowa",
          "Kansas",
          "Kentucky",
          "Louisiana",
          "Maine",
          "Maryland",
          "Massachusetts",
          "Michigan",
          "Minnesota",
          "Mississippi",
          "Missouri",
          "Montana",
          "Nebraska",
          "Nevada",
          "New Hampshire",
          "New Jersey",
          "New Mexico",
          "New York",
          "North Carolina",
          "North Dakota",
          "Ohio",
          "Oklahoma",
          "Oregon",
          "Pennsylvania",
          "Rhode Island",
          "South Carolina",
          "South Dakota",
          "Tennessee",
          "Texas",
          "Utah",
          "Vermont",
          "Virginia",
          "Washington",
          "West Virginia",
          "Wisconsin",
          "Wyoming",
          "Puerto Rico"
         ],
         "xaxis": "x",
         "y": [
          0.778556947795166,
          -0.39388256081484146,
          1.5662222846781328,
          0.8809333508543334,
          0.06650319560003523,
          0.5527527525898283,
          -0.4650599055282172,
          0.18697566633059076,
          -0.3304566376750914,
          0.8855847160102251,
          1.6387206974724084,
          -1.0671677799647814,
          0.18964668074670502,
          -0.522842488748042,
          0.3094116980608634,
          -0.9895807357712079,
          -0.1803604715918853,
          1.1499867296319142,
          2.7604300777571966,
          -1.6526797990838338,
          -0.2372309935283469,
          -1.2504572749158345,
          -0.20359838438283756,
          -1.2062190808750362,
          1.9920846259444693,
          0.1067828664443625,
          -0.566251692850097,
          -0.9691178388338885,
          0.25656299971372915,
          -1.2771001599425982,
          -0.6970459764163837,
          0.8009617283978282,
          -0.7773038876843404,
          -0.13945755664924026,
          -1.2641491854174836,
          -0.04110417065335814,
          1.7002239352901947,
          -0.3919484750883032,
          0.3970584604695515,
          -1.3096491386090274,
          0.9079142920226926,
          0.4301046843736791,
          0.27297245940343484,
          1.6145757872779882,
          -0.899381184551583,
          -1.7482256982539646,
          0.5952566273824574,
          -0.8273675183826326,
          0.9248909068645718,
          -0.02843281612227174,
          -0.173219479662766,
          -1.3558232791144857
         ],
         "yaxis": "y"
        }
       ],
       "layout": {
        "barmode": "relative",
        "coloraxis": {
         "colorbar": {
          "title": {
           "text": "Cluster"
          }
         },
         "colorscale": [
          [
           0,
           "#0d0887"
          ],
          [
           0.1111111111111111,
           "#46039f"
          ],
          [
           0.2222222222222222,
           "#7201a8"
          ],
          [
           0.3333333333333333,
           "#9c179e"
          ],
          [
           0.4444444444444444,
           "#bd3786"
          ],
          [
           0.5555555555555556,
           "#d8576b"
          ],
          [
           0.6666666666666666,
           "#ed7953"
          ],
          [
           0.7777777777777778,
           "#fb9f3a"
          ],
          [
           0.8888888888888888,
           "#fdca26"
          ],
          [
           1,
           "#f0f921"
          ]
         ]
        },
        "legend": {
         "tracegroupgap": 0
        },
        "margin": {
         "t": 60
        },
        "template": {
         "data": {
          "bar": [
           {
            "error_x": {
             "color": "#2a3f5f"
            },
            "error_y": {
             "color": "#2a3f5f"
            },
            "marker": {
             "line": {
              "color": "#E5ECF6",
              "width": 0.5
             },
             "pattern": {
              "fillmode": "overlay",
              "size": 10,
              "solidity": 0.2
             }
            },
            "type": "bar"
           }
          ],
          "barpolar": [
           {
            "marker": {
             "line": {
              "color": "#E5ECF6",
              "width": 0.5
             },
             "pattern": {
              "fillmode": "overlay",
              "size": 10,
              "solidity": 0.2
             }
            },
            "type": "barpolar"
           }
          ],
          "carpet": [
           {
            "aaxis": {
             "endlinecolor": "#2a3f5f",
             "gridcolor": "white",
             "linecolor": "white",
             "minorgridcolor": "white",
             "startlinecolor": "#2a3f5f"
            },
            "baxis": {
             "endlinecolor": "#2a3f5f",
             "gridcolor": "white",
             "linecolor": "white",
             "minorgridcolor": "white",
             "startlinecolor": "#2a3f5f"
            },
            "type": "carpet"
           }
          ],
          "choropleth": [
           {
            "colorbar": {
             "outlinewidth": 0,
             "ticks": ""
            },
            "type": "choropleth"
           }
          ],
          "contour": [
           {
            "colorbar": {
             "outlinewidth": 0,
             "ticks": ""
            },
            "colorscale": [
             [
              0,
              "#0d0887"
             ],
             [
              0.1111111111111111,
              "#46039f"
             ],
             [
              0.2222222222222222,
              "#7201a8"
             ],
             [
              0.3333333333333333,
              "#9c179e"
             ],
             [
              0.4444444444444444,
              "#bd3786"
             ],
             [
              0.5555555555555556,
              "#d8576b"
             ],
             [
              0.6666666666666666,
              "#ed7953"
             ],
             [
              0.7777777777777778,
              "#fb9f3a"
             ],
             [
              0.8888888888888888,
              "#fdca26"
             ],
             [
              1,
              "#f0f921"
             ]
            ],
            "type": "contour"
           }
          ],
          "contourcarpet": [
           {
            "colorbar": {
             "outlinewidth": 0,
             "ticks": ""
            },
            "type": "contourcarpet"
           }
          ],
          "heatmap": [
           {
            "colorbar": {
             "outlinewidth": 0,
             "ticks": ""
            },
            "colorscale": [
             [
              0,
              "#0d0887"
             ],
             [
              0.1111111111111111,
              "#46039f"
             ],
             [
              0.2222222222222222,
              "#7201a8"
             ],
             [
              0.3333333333333333,
              "#9c179e"
             ],
             [
              0.4444444444444444,
              "#bd3786"
             ],
             [
              0.5555555555555556,
              "#d8576b"
             ],
             [
              0.6666666666666666,
              "#ed7953"
             ],
             [
              0.7777777777777778,
              "#fb9f3a"
             ],
             [
              0.8888888888888888,
              "#fdca26"
             ],
             [
              1,
              "#f0f921"
             ]
            ],
            "type": "heatmap"
           }
          ],
          "heatmapgl": [
           {
            "colorbar": {
             "outlinewidth": 0,
             "ticks": ""
            },
            "colorscale": [
             [
              0,
              "#0d0887"
             ],
             [
              0.1111111111111111,
              "#46039f"
             ],
             [
              0.2222222222222222,
              "#7201a8"
             ],
             [
              0.3333333333333333,
              "#9c179e"
             ],
             [
              0.4444444444444444,
              "#bd3786"
             ],
             [
              0.5555555555555556,
              "#d8576b"
             ],
             [
              0.6666666666666666,
              "#ed7953"
             ],
             [
              0.7777777777777778,
              "#fb9f3a"
             ],
             [
              0.8888888888888888,
              "#fdca26"
             ],
             [
              1,
              "#f0f921"
             ]
            ],
            "type": "heatmapgl"
           }
          ],
          "histogram": [
           {
            "marker": {
             "pattern": {
              "fillmode": "overlay",
              "size": 10,
              "solidity": 0.2
             }
            },
            "type": "histogram"
           }
          ],
          "histogram2d": [
           {
            "colorbar": {
             "outlinewidth": 0,
             "ticks": ""
            },
            "colorscale": [
             [
              0,
              "#0d0887"
             ],
             [
              0.1111111111111111,
              "#46039f"
             ],
             [
              0.2222222222222222,
              "#7201a8"
             ],
             [
              0.3333333333333333,
              "#9c179e"
             ],
             [
              0.4444444444444444,
              "#bd3786"
             ],
             [
              0.5555555555555556,
              "#d8576b"
             ],
             [
              0.6666666666666666,
              "#ed7953"
             ],
             [
              0.7777777777777778,
              "#fb9f3a"
             ],
             [
              0.8888888888888888,
              "#fdca26"
             ],
             [
              1,
              "#f0f921"
             ]
            ],
            "type": "histogram2d"
           }
          ],
          "histogram2dcontour": [
           {
            "colorbar": {
             "outlinewidth": 0,
             "ticks": ""
            },
            "colorscale": [
             [
              0,
              "#0d0887"
             ],
             [
              0.1111111111111111,
              "#46039f"
             ],
             [
              0.2222222222222222,
              "#7201a8"
             ],
             [
              0.3333333333333333,
              "#9c179e"
             ],
             [
              0.4444444444444444,
              "#bd3786"
             ],
             [
              0.5555555555555556,
              "#d8576b"
             ],
             [
              0.6666666666666666,
              "#ed7953"
             ],
             [
              0.7777777777777778,
              "#fb9f3a"
             ],
             [
              0.8888888888888888,
              "#fdca26"
             ],
             [
              1,
              "#f0f921"
             ]
            ],
            "type": "histogram2dcontour"
           }
          ],
          "mesh3d": [
           {
            "colorbar": {
             "outlinewidth": 0,
             "ticks": ""
            },
            "type": "mesh3d"
           }
          ],
          "parcoords": [
           {
            "line": {
             "colorbar": {
              "outlinewidth": 0,
              "ticks": ""
             }
            },
            "type": "parcoords"
           }
          ],
          "pie": [
           {
            "automargin": true,
            "type": "pie"
           }
          ],
          "scatter": [
           {
            "fillpattern": {
             "fillmode": "overlay",
             "size": 10,
             "solidity": 0.2
            },
            "type": "scatter"
           }
          ],
          "scatter3d": [
           {
            "line": {
             "colorbar": {
              "outlinewidth": 0,
              "ticks": ""
             }
            },
            "marker": {
             "colorbar": {
              "outlinewidth": 0,
              "ticks": ""
             }
            },
            "type": "scatter3d"
           }
          ],
          "scattercarpet": [
           {
            "marker": {
             "colorbar": {
              "outlinewidth": 0,
              "ticks": ""
             }
            },
            "type": "scattercarpet"
           }
          ],
          "scattergeo": [
           {
            "marker": {
             "colorbar": {
              "outlinewidth": 0,
              "ticks": ""
             }
            },
            "type": "scattergeo"
           }
          ],
          "scattergl": [
           {
            "marker": {
             "colorbar": {
              "outlinewidth": 0,
              "ticks": ""
             }
            },
            "type": "scattergl"
           }
          ],
          "scattermapbox": [
           {
            "marker": {
             "colorbar": {
              "outlinewidth": 0,
              "ticks": ""
             }
            },
            "type": "scattermapbox"
           }
          ],
          "scatterpolar": [
           {
            "marker": {
             "colorbar": {
              "outlinewidth": 0,
              "ticks": ""
             }
            },
            "type": "scatterpolar"
           }
          ],
          "scatterpolargl": [
           {
            "marker": {
             "colorbar": {
              "outlinewidth": 0,
              "ticks": ""
             }
            },
            "type": "scatterpolargl"
           }
          ],
          "scatterternary": [
           {
            "marker": {
             "colorbar": {
              "outlinewidth": 0,
              "ticks": ""
             }
            },
            "type": "scatterternary"
           }
          ],
          "surface": [
           {
            "colorbar": {
             "outlinewidth": 0,
             "ticks": ""
            },
            "colorscale": [
             [
              0,
              "#0d0887"
             ],
             [
              0.1111111111111111,
              "#46039f"
             ],
             [
              0.2222222222222222,
              "#7201a8"
             ],
             [
              0.3333333333333333,
              "#9c179e"
             ],
             [
              0.4444444444444444,
              "#bd3786"
             ],
             [
              0.5555555555555556,
              "#d8576b"
             ],
             [
              0.6666666666666666,
              "#ed7953"
             ],
             [
              0.7777777777777778,
              "#fb9f3a"
             ],
             [
              0.8888888888888888,
              "#fdca26"
             ],
             [
              1,
              "#f0f921"
             ]
            ],
            "type": "surface"
           }
          ],
          "table": [
           {
            "cells": {
             "fill": {
              "color": "#EBF0F8"
             },
             "line": {
              "color": "white"
             }
            },
            "header": {
             "fill": {
              "color": "#C8D4E3"
             },
             "line": {
              "color": "white"
             }
            },
            "type": "table"
           }
          ]
         },
         "layout": {
          "annotationdefaults": {
           "arrowcolor": "#2a3f5f",
           "arrowhead": 0,
           "arrowwidth": 1
          },
          "autotypenumbers": "strict",
          "coloraxis": {
           "colorbar": {
            "outlinewidth": 0,
            "ticks": ""
           }
          },
          "colorscale": {
           "diverging": [
            [
             0,
             "#8e0152"
            ],
            [
             0.1,
             "#c51b7d"
            ],
            [
             0.2,
             "#de77ae"
            ],
            [
             0.3,
             "#f1b6da"
            ],
            [
             0.4,
             "#fde0ef"
            ],
            [
             0.5,
             "#f7f7f7"
            ],
            [
             0.6,
             "#e6f5d0"
            ],
            [
             0.7,
             "#b8e186"
            ],
            [
             0.8,
             "#7fbc41"
            ],
            [
             0.9,
             "#4d9221"
            ],
            [
             1,
             "#276419"
            ]
           ],
           "sequential": [
            [
             0,
             "#0d0887"
            ],
            [
             0.1111111111111111,
             "#46039f"
            ],
            [
             0.2222222222222222,
             "#7201a8"
            ],
            [
             0.3333333333333333,
             "#9c179e"
            ],
            [
             0.4444444444444444,
             "#bd3786"
            ],
            [
             0.5555555555555556,
             "#d8576b"
            ],
            [
             0.6666666666666666,
             "#ed7953"
            ],
            [
             0.7777777777777778,
             "#fb9f3a"
            ],
            [
             0.8888888888888888,
             "#fdca26"
            ],
            [
             1,
             "#f0f921"
            ]
           ],
           "sequentialminus": [
            [
             0,
             "#0d0887"
            ],
            [
             0.1111111111111111,
             "#46039f"
            ],
            [
             0.2222222222222222,
             "#7201a8"
            ],
            [
             0.3333333333333333,
             "#9c179e"
            ],
            [
             0.4444444444444444,
             "#bd3786"
            ],
            [
             0.5555555555555556,
             "#d8576b"
            ],
            [
             0.6666666666666666,
             "#ed7953"
            ],
            [
             0.7777777777777778,
             "#fb9f3a"
            ],
            [
             0.8888888888888888,
             "#fdca26"
            ],
            [
             1,
             "#f0f921"
            ]
           ]
          },
          "colorway": [
           "#636efa",
           "#EF553B",
           "#00cc96",
           "#ab63fa",
           "#FFA15A",
           "#19d3f3",
           "#FF6692",
           "#B6E880",
           "#FF97FF",
           "#FECB52"
          ],
          "font": {
           "color": "#2a3f5f"
          },
          "geo": {
           "bgcolor": "white",
           "lakecolor": "white",
           "landcolor": "#E5ECF6",
           "showlakes": true,
           "showland": true,
           "subunitcolor": "white"
          },
          "hoverlabel": {
           "align": "left"
          },
          "hovermode": "closest",
          "mapbox": {
           "style": "light"
          },
          "paper_bgcolor": "white",
          "plot_bgcolor": "#E5ECF6",
          "polar": {
           "angularaxis": {
            "gridcolor": "white",
            "linecolor": "white",
            "ticks": ""
           },
           "bgcolor": "#E5ECF6",
           "radialaxis": {
            "gridcolor": "white",
            "linecolor": "white",
            "ticks": ""
           }
          },
          "scene": {
           "xaxis": {
            "backgroundcolor": "#E5ECF6",
            "gridcolor": "white",
            "gridwidth": 2,
            "linecolor": "white",
            "showbackground": true,
            "ticks": "",
            "zerolinecolor": "white"
           },
           "yaxis": {
            "backgroundcolor": "#E5ECF6",
            "gridcolor": "white",
            "gridwidth": 2,
            "linecolor": "white",
            "showbackground": true,
            "ticks": "",
            "zerolinecolor": "white"
           },
           "zaxis": {
            "backgroundcolor": "#E5ECF6",
            "gridcolor": "white",
            "gridwidth": 2,
            "linecolor": "white",
            "showbackground": true,
            "ticks": "",
            "zerolinecolor": "white"
           }
          },
          "shapedefaults": {
           "line": {
            "color": "#2a3f5f"
           }
          },
          "ternary": {
           "aaxis": {
            "gridcolor": "white",
            "linecolor": "white",
            "ticks": ""
           },
           "baxis": {
            "gridcolor": "white",
            "linecolor": "white",
            "ticks": ""
           },
           "bgcolor": "#E5ECF6",
           "caxis": {
            "gridcolor": "white",
            "linecolor": "white",
            "ticks": ""
           }
          },
          "title": {
           "x": 0.05
          },
          "xaxis": {
           "automargin": true,
           "gridcolor": "white",
           "linecolor": "white",
           "ticks": "",
           "title": {
            "standoff": 15
           },
           "zerolinecolor": "white",
           "zerolinewidth": 2
          },
          "yaxis": {
           "automargin": true,
           "gridcolor": "white",
           "linecolor": "white",
           "ticks": "",
           "title": {
            "standoff": 15
           },
           "zerolinecolor": "white",
           "zerolinewidth": 2
          }
         }
        },
        "xaxis": {
         "anchor": "y",
         "domain": [
          0,
          1
         ],
         "title": {
          "text": "Geography"
         }
        },
        "yaxis": {
         "anchor": "x",
         "domain": [
          0,
          1
         ],
         "title": {
          "text": "Percent Total : In Correctional Facilities for Adults"
         }
        }
       }
      }
     },
     "metadata": {},
     "output_type": "display_data"
    }
   ],
   "source": [
    "createBarChart(runGaussian(percent_df_total, getX(percent_df_total), n), x_axis=\"Geography\", y_axis='Percent Total : In Correctional Facilities for Adults')\n"
   ]
  },
  {
   "cell_type": "code",
   "execution_count": 82,
   "metadata": {},
   "outputs": [
    {
     "data": {
      "application/vnd.plotly.v1+json": {
       "config": {
        "plotlyServerURL": "https://plot.ly"
       },
       "data": [
        {
         "coloraxis": "coloraxis",
         "geo": "geo",
         "hovertemplate": "State Abbreviation=%{location}<br>Cluster=%{z}<extra></extra>",
         "locationmode": "USA-states",
         "locations": [
          "AL",
          "AK",
          "AZ",
          "AR",
          "CA",
          "CO",
          "CT",
          "DE",
          null,
          "FL",
          "GA",
          "HI",
          "ID",
          "IL",
          "IN",
          "IA",
          "KS",
          "KY",
          "LA",
          "ME",
          "MD",
          "MA",
          "MI",
          "MN",
          "MS",
          "MO",
          "MT",
          "NE",
          "NV",
          "NH",
          "NJ",
          "NM",
          "NY",
          "NC",
          "ND",
          "OH",
          "OK",
          "OR",
          "PA",
          "RI",
          "SC",
          "SD",
          "TN",
          "TX",
          "UT",
          "VT",
          "VA",
          "WA",
          "WV",
          "WI",
          "WY",
          null
         ],
         "name": "",
         "type": "choropleth",
         "z": [
          1,
          2,
          0,
          1,
          0,
          1,
          0,
          1,
          2,
          1,
          1,
          3,
          1,
          1,
          1,
          1,
          1,
          1,
          1,
          1,
          1,
          1,
          1,
          2,
          1,
          1,
          2,
          1,
          1,
          1,
          2,
          0,
          2,
          1,
          2,
          1,
          1,
          1,
          1,
          1,
          1,
          2,
          1,
          0,
          2,
          2,
          1,
          2,
          1,
          2,
          1,
          0
         ]
        }
       ],
       "layout": {
        "coloraxis": {
         "colorbar": {
          "title": {
           "text": "Cluster"
          }
         },
         "colorscale": [
          [
           0,
           "#0d0887"
          ],
          [
           0.1111111111111111,
           "#46039f"
          ],
          [
           0.2222222222222222,
           "#7201a8"
          ],
          [
           0.3333333333333333,
           "#9c179e"
          ],
          [
           0.4444444444444444,
           "#bd3786"
          ],
          [
           0.5555555555555556,
           "#d8576b"
          ],
          [
           0.6666666666666666,
           "#ed7953"
          ],
          [
           0.7777777777777778,
           "#fb9f3a"
          ],
          [
           0.8888888888888888,
           "#fdca26"
          ],
          [
           1,
           "#f0f921"
          ]
         ]
        },
        "geo": {
         "center": {},
         "domain": {
          "x": [
           0,
           1
          ],
          "y": [
           0,
           1
          ]
         },
         "scope": "usa"
        },
        "legend": {
         "tracegroupgap": 0
        },
        "template": {
         "data": {
          "bar": [
           {
            "error_x": {
             "color": "#2a3f5f"
            },
            "error_y": {
             "color": "#2a3f5f"
            },
            "marker": {
             "line": {
              "color": "#E5ECF6",
              "width": 0.5
             },
             "pattern": {
              "fillmode": "overlay",
              "size": 10,
              "solidity": 0.2
             }
            },
            "type": "bar"
           }
          ],
          "barpolar": [
           {
            "marker": {
             "line": {
              "color": "#E5ECF6",
              "width": 0.5
             },
             "pattern": {
              "fillmode": "overlay",
              "size": 10,
              "solidity": 0.2
             }
            },
            "type": "barpolar"
           }
          ],
          "carpet": [
           {
            "aaxis": {
             "endlinecolor": "#2a3f5f",
             "gridcolor": "white",
             "linecolor": "white",
             "minorgridcolor": "white",
             "startlinecolor": "#2a3f5f"
            },
            "baxis": {
             "endlinecolor": "#2a3f5f",
             "gridcolor": "white",
             "linecolor": "white",
             "minorgridcolor": "white",
             "startlinecolor": "#2a3f5f"
            },
            "type": "carpet"
           }
          ],
          "choropleth": [
           {
            "colorbar": {
             "outlinewidth": 0,
             "ticks": ""
            },
            "type": "choropleth"
           }
          ],
          "contour": [
           {
            "colorbar": {
             "outlinewidth": 0,
             "ticks": ""
            },
            "colorscale": [
             [
              0,
              "#0d0887"
             ],
             [
              0.1111111111111111,
              "#46039f"
             ],
             [
              0.2222222222222222,
              "#7201a8"
             ],
             [
              0.3333333333333333,
              "#9c179e"
             ],
             [
              0.4444444444444444,
              "#bd3786"
             ],
             [
              0.5555555555555556,
              "#d8576b"
             ],
             [
              0.6666666666666666,
              "#ed7953"
             ],
             [
              0.7777777777777778,
              "#fb9f3a"
             ],
             [
              0.8888888888888888,
              "#fdca26"
             ],
             [
              1,
              "#f0f921"
             ]
            ],
            "type": "contour"
           }
          ],
          "contourcarpet": [
           {
            "colorbar": {
             "outlinewidth": 0,
             "ticks": ""
            },
            "type": "contourcarpet"
           }
          ],
          "heatmap": [
           {
            "colorbar": {
             "outlinewidth": 0,
             "ticks": ""
            },
            "colorscale": [
             [
              0,
              "#0d0887"
             ],
             [
              0.1111111111111111,
              "#46039f"
             ],
             [
              0.2222222222222222,
              "#7201a8"
             ],
             [
              0.3333333333333333,
              "#9c179e"
             ],
             [
              0.4444444444444444,
              "#bd3786"
             ],
             [
              0.5555555555555556,
              "#d8576b"
             ],
             [
              0.6666666666666666,
              "#ed7953"
             ],
             [
              0.7777777777777778,
              "#fb9f3a"
             ],
             [
              0.8888888888888888,
              "#fdca26"
             ],
             [
              1,
              "#f0f921"
             ]
            ],
            "type": "heatmap"
           }
          ],
          "heatmapgl": [
           {
            "colorbar": {
             "outlinewidth": 0,
             "ticks": ""
            },
            "colorscale": [
             [
              0,
              "#0d0887"
             ],
             [
              0.1111111111111111,
              "#46039f"
             ],
             [
              0.2222222222222222,
              "#7201a8"
             ],
             [
              0.3333333333333333,
              "#9c179e"
             ],
             [
              0.4444444444444444,
              "#bd3786"
             ],
             [
              0.5555555555555556,
              "#d8576b"
             ],
             [
              0.6666666666666666,
              "#ed7953"
             ],
             [
              0.7777777777777778,
              "#fb9f3a"
             ],
             [
              0.8888888888888888,
              "#fdca26"
             ],
             [
              1,
              "#f0f921"
             ]
            ],
            "type": "heatmapgl"
           }
          ],
          "histogram": [
           {
            "marker": {
             "pattern": {
              "fillmode": "overlay",
              "size": 10,
              "solidity": 0.2
             }
            },
            "type": "histogram"
           }
          ],
          "histogram2d": [
           {
            "colorbar": {
             "outlinewidth": 0,
             "ticks": ""
            },
            "colorscale": [
             [
              0,
              "#0d0887"
             ],
             [
              0.1111111111111111,
              "#46039f"
             ],
             [
              0.2222222222222222,
              "#7201a8"
             ],
             [
              0.3333333333333333,
              "#9c179e"
             ],
             [
              0.4444444444444444,
              "#bd3786"
             ],
             [
              0.5555555555555556,
              "#d8576b"
             ],
             [
              0.6666666666666666,
              "#ed7953"
             ],
             [
              0.7777777777777778,
              "#fb9f3a"
             ],
             [
              0.8888888888888888,
              "#fdca26"
             ],
             [
              1,
              "#f0f921"
             ]
            ],
            "type": "histogram2d"
           }
          ],
          "histogram2dcontour": [
           {
            "colorbar": {
             "outlinewidth": 0,
             "ticks": ""
            },
            "colorscale": [
             [
              0,
              "#0d0887"
             ],
             [
              0.1111111111111111,
              "#46039f"
             ],
             [
              0.2222222222222222,
              "#7201a8"
             ],
             [
              0.3333333333333333,
              "#9c179e"
             ],
             [
              0.4444444444444444,
              "#bd3786"
             ],
             [
              0.5555555555555556,
              "#d8576b"
             ],
             [
              0.6666666666666666,
              "#ed7953"
             ],
             [
              0.7777777777777778,
              "#fb9f3a"
             ],
             [
              0.8888888888888888,
              "#fdca26"
             ],
             [
              1,
              "#f0f921"
             ]
            ],
            "type": "histogram2dcontour"
           }
          ],
          "mesh3d": [
           {
            "colorbar": {
             "outlinewidth": 0,
             "ticks": ""
            },
            "type": "mesh3d"
           }
          ],
          "parcoords": [
           {
            "line": {
             "colorbar": {
              "outlinewidth": 0,
              "ticks": ""
             }
            },
            "type": "parcoords"
           }
          ],
          "pie": [
           {
            "automargin": true,
            "type": "pie"
           }
          ],
          "scatter": [
           {
            "fillpattern": {
             "fillmode": "overlay",
             "size": 10,
             "solidity": 0.2
            },
            "type": "scatter"
           }
          ],
          "scatter3d": [
           {
            "line": {
             "colorbar": {
              "outlinewidth": 0,
              "ticks": ""
             }
            },
            "marker": {
             "colorbar": {
              "outlinewidth": 0,
              "ticks": ""
             }
            },
            "type": "scatter3d"
           }
          ],
          "scattercarpet": [
           {
            "marker": {
             "colorbar": {
              "outlinewidth": 0,
              "ticks": ""
             }
            },
            "type": "scattercarpet"
           }
          ],
          "scattergeo": [
           {
            "marker": {
             "colorbar": {
              "outlinewidth": 0,
              "ticks": ""
             }
            },
            "type": "scattergeo"
           }
          ],
          "scattergl": [
           {
            "marker": {
             "colorbar": {
              "outlinewidth": 0,
              "ticks": ""
             }
            },
            "type": "scattergl"
           }
          ],
          "scattermapbox": [
           {
            "marker": {
             "colorbar": {
              "outlinewidth": 0,
              "ticks": ""
             }
            },
            "type": "scattermapbox"
           }
          ],
          "scatterpolar": [
           {
            "marker": {
             "colorbar": {
              "outlinewidth": 0,
              "ticks": ""
             }
            },
            "type": "scatterpolar"
           }
          ],
          "scatterpolargl": [
           {
            "marker": {
             "colorbar": {
              "outlinewidth": 0,
              "ticks": ""
             }
            },
            "type": "scatterpolargl"
           }
          ],
          "scatterternary": [
           {
            "marker": {
             "colorbar": {
              "outlinewidth": 0,
              "ticks": ""
             }
            },
            "type": "scatterternary"
           }
          ],
          "surface": [
           {
            "colorbar": {
             "outlinewidth": 0,
             "ticks": ""
            },
            "colorscale": [
             [
              0,
              "#0d0887"
             ],
             [
              0.1111111111111111,
              "#46039f"
             ],
             [
              0.2222222222222222,
              "#7201a8"
             ],
             [
              0.3333333333333333,
              "#9c179e"
             ],
             [
              0.4444444444444444,
              "#bd3786"
             ],
             [
              0.5555555555555556,
              "#d8576b"
             ],
             [
              0.6666666666666666,
              "#ed7953"
             ],
             [
              0.7777777777777778,
              "#fb9f3a"
             ],
             [
              0.8888888888888888,
              "#fdca26"
             ],
             [
              1,
              "#f0f921"
             ]
            ],
            "type": "surface"
           }
          ],
          "table": [
           {
            "cells": {
             "fill": {
              "color": "#EBF0F8"
             },
             "line": {
              "color": "white"
             }
            },
            "header": {
             "fill": {
              "color": "#C8D4E3"
             },
             "line": {
              "color": "white"
             }
            },
            "type": "table"
           }
          ]
         },
         "layout": {
          "annotationdefaults": {
           "arrowcolor": "#2a3f5f",
           "arrowhead": 0,
           "arrowwidth": 1
          },
          "autotypenumbers": "strict",
          "coloraxis": {
           "colorbar": {
            "outlinewidth": 0,
            "ticks": ""
           }
          },
          "colorscale": {
           "diverging": [
            [
             0,
             "#8e0152"
            ],
            [
             0.1,
             "#c51b7d"
            ],
            [
             0.2,
             "#de77ae"
            ],
            [
             0.3,
             "#f1b6da"
            ],
            [
             0.4,
             "#fde0ef"
            ],
            [
             0.5,
             "#f7f7f7"
            ],
            [
             0.6,
             "#e6f5d0"
            ],
            [
             0.7,
             "#b8e186"
            ],
            [
             0.8,
             "#7fbc41"
            ],
            [
             0.9,
             "#4d9221"
            ],
            [
             1,
             "#276419"
            ]
           ],
           "sequential": [
            [
             0,
             "#0d0887"
            ],
            [
             0.1111111111111111,
             "#46039f"
            ],
            [
             0.2222222222222222,
             "#7201a8"
            ],
            [
             0.3333333333333333,
             "#9c179e"
            ],
            [
             0.4444444444444444,
             "#bd3786"
            ],
            [
             0.5555555555555556,
             "#d8576b"
            ],
            [
             0.6666666666666666,
             "#ed7953"
            ],
            [
             0.7777777777777778,
             "#fb9f3a"
            ],
            [
             0.8888888888888888,
             "#fdca26"
            ],
            [
             1,
             "#f0f921"
            ]
           ],
           "sequentialminus": [
            [
             0,
             "#0d0887"
            ],
            [
             0.1111111111111111,
             "#46039f"
            ],
            [
             0.2222222222222222,
             "#7201a8"
            ],
            [
             0.3333333333333333,
             "#9c179e"
            ],
            [
             0.4444444444444444,
             "#bd3786"
            ],
            [
             0.5555555555555556,
             "#d8576b"
            ],
            [
             0.6666666666666666,
             "#ed7953"
            ],
            [
             0.7777777777777778,
             "#fb9f3a"
            ],
            [
             0.8888888888888888,
             "#fdca26"
            ],
            [
             1,
             "#f0f921"
            ]
           ]
          },
          "colorway": [
           "#636efa",
           "#EF553B",
           "#00cc96",
           "#ab63fa",
           "#FFA15A",
           "#19d3f3",
           "#FF6692",
           "#B6E880",
           "#FF97FF",
           "#FECB52"
          ],
          "font": {
           "color": "#2a3f5f"
          },
          "geo": {
           "bgcolor": "white",
           "lakecolor": "white",
           "landcolor": "#E5ECF6",
           "showlakes": true,
           "showland": true,
           "subunitcolor": "white"
          },
          "hoverlabel": {
           "align": "left"
          },
          "hovermode": "closest",
          "mapbox": {
           "style": "light"
          },
          "paper_bgcolor": "white",
          "plot_bgcolor": "#E5ECF6",
          "polar": {
           "angularaxis": {
            "gridcolor": "white",
            "linecolor": "white",
            "ticks": ""
           },
           "bgcolor": "#E5ECF6",
           "radialaxis": {
            "gridcolor": "white",
            "linecolor": "white",
            "ticks": ""
           }
          },
          "scene": {
           "xaxis": {
            "backgroundcolor": "#E5ECF6",
            "gridcolor": "white",
            "gridwidth": 2,
            "linecolor": "white",
            "showbackground": true,
            "ticks": "",
            "zerolinecolor": "white"
           },
           "yaxis": {
            "backgroundcolor": "#E5ECF6",
            "gridcolor": "white",
            "gridwidth": 2,
            "linecolor": "white",
            "showbackground": true,
            "ticks": "",
            "zerolinecolor": "white"
           },
           "zaxis": {
            "backgroundcolor": "#E5ECF6",
            "gridcolor": "white",
            "gridwidth": 2,
            "linecolor": "white",
            "showbackground": true,
            "ticks": "",
            "zerolinecolor": "white"
           }
          },
          "shapedefaults": {
           "line": {
            "color": "#2a3f5f"
           }
          },
          "ternary": {
           "aaxis": {
            "gridcolor": "white",
            "linecolor": "white",
            "ticks": ""
           },
           "baxis": {
            "gridcolor": "white",
            "linecolor": "white",
            "ticks": ""
           },
           "bgcolor": "#E5ECF6",
           "caxis": {
            "gridcolor": "white",
            "linecolor": "white",
            "ticks": ""
           }
          },
          "title": {
           "x": 0.05
          },
          "xaxis": {
           "automargin": true,
           "gridcolor": "white",
           "linecolor": "white",
           "ticks": "",
           "title": {
            "standoff": 15
           },
           "zerolinecolor": "white",
           "zerolinewidth": 2
          },
          "yaxis": {
           "automargin": true,
           "gridcolor": "white",
           "linecolor": "white",
           "ticks": "",
           "title": {
            "standoff": 15
           },
           "zerolinecolor": "white",
           "zerolinewidth": 2
          }
         }
        },
        "title": {
         "text": "Clusters by State"
        }
       }
      }
     },
     "metadata": {},
     "output_type": "display_data"
    }
   ],
   "source": [
    "stateClusterGraph(runGaussian(percent_df_total, getX(percent_df_total), n))"
   ]
  },
  {
   "cell_type": "code",
   "execution_count": null,
   "metadata": {},
   "outputs": [],
   "source": [
    "from sklearn.decomposition import PCA\n",
    "\n",
    "# Project the data onto two dimensions using PCA\n",
    "pca = PCA(n_components=2)\n",
    "X_pca = pca.fit_transform(X)\n",
    "\n",
    "# Create a scatter plot of the projected data\n",
    "fig = px.scatter(x=X_pca[:, 0], y=X_pca[:, 1], color=labels)\n",
    "\n",
    "# Add axis labels and a title\n",
    "fig.update_layout(\n",
    "    xaxis_title='PCA 1',\n",
    "    yaxis_title='PCA 2',\n",
    "    title='Gaussian Clustering Results'\n",
    ")\n",
    "\n",
    "# Show the plot\n",
    "fig.show()"
   ]
  }
 ],
 "metadata": {
  "kernelspec": {
   "display_name": "machinelearning",
   "language": "python",
   "name": "python3"
  },
  "language_info": {
   "codemirror_mode": {
    "name": "ipython",
    "version": 3
   },
   "file_extension": ".py",
   "mimetype": "text/x-python",
   "name": "python",
   "nbconvert_exporter": "python",
   "pygments_lexer": "ipython3",
   "version": "3.11.0"
  },
  "orig_nbformat": 4
 },
 "nbformat": 4,
 "nbformat_minor": 2
}
