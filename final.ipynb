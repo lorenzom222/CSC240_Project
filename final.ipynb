{
 "cells": [
  {
   "cell_type": "code",
   "execution_count": 409,
   "metadata": {},
   "outputs": [],
   "source": [
    "import pandas as pd\n",
    "import numpy as np\n",
    "import matplotlib.pyplot as plt\n",
    "\n",
    "from sklearn.cluster import KMeans\n",
    "from sklearn.preprocessing import StandardScaler\n",
    "from sklearn.exceptions import ConvergenceWarning\n",
    "\n",
    "\n",
    "from plotly.subplots import make_subplots\n",
    "import plotly.graph_objs as go\n",
    "import plotly.express as px\n",
    "\n",
    "import warnings\n",
    "\n",
    "import seaborn as sns\n",
    "\n",
    "\n"
   ]
  },
  {
   "cell_type": "code",
   "execution_count": 410,
   "metadata": {},
   "outputs": [],
   "source": [
    "data_t = pd.read_csv('prison_2010.txt', delimiter='\\t', skiprows=2)\n",
    "data_t = data_t.drop(range(53,58))\n",
    "\n",
    "for col in data_t.columns:\n",
    "   if not (data_t[col].apply(lambda x: isinstance(x, str))).all():\n",
    "       continue\n",
    "   \n",
    "   if (data_t[col].apply(lambda x: isinstance(x, str)).all() & data_t[col].str.contains(',')).any():\n",
    "        try:\n",
    "            data_t[col] = data_t[col].replace('[\\$,]', '', regex=True).astype(float)\n",
    "        except AttributeError as err:\n",
    "            print([col])\n",
    "            break   \n",
    "data_t = data_t.iloc[1:, :]"
   ]
  },
  {
   "cell_type": "code",
   "execution_count": 411,
   "metadata": {},
   "outputs": [],
   "source": [
    "def processData(data, flag=False):\n",
    "    df = data.iloc[:, 2:]\n",
    "    # Create a boolean mask of NaN values\n",
    "    nan_mask = df.isnull()\n",
    "\n",
    "    # Check for any NaN values in each row\n",
    "    nan_in_row = nan_mask.any(axis=1)\n",
    "\n",
    "    # Check for any NaN values in each column\n",
    "    nan_in_col = nan_mask.any(axis=0)\n",
    "    rows_with_nans = df[nan_in_row]\n",
    "    cols_with_nans = df.loc[:, nan_in_col]\n",
    "    if flag:\n",
    "        print(\"Features Containing NaN:\", cols_with_nans)\n",
    "    \n",
    "    # Drop columns with NaN values and filter out columns containing \"Population\"\n",
    "    df = df.drop(columns=cols_with_nans).filter(regex='^(?!.*(Population)).*')\n",
    "    \n",
    "    # Standardize the numerical features\n",
    "    num_cols = df.select_dtypes(include=['int64', 'float64']).columns\n",
    "    scaler = StandardScaler()\n",
    "    df_std = pd.DataFrame(scaler.fit_transform(df[num_cols]), columns=num_cols, index=df.index)\n",
    "    df[df_std.columns] = df_std\n",
    "    \n",
    "    return df\n",
    "\n",
    "def getX(df):\n",
    "       X = df.iloc[:, 2:]\n",
    "       return X\n",
    "\n",
    "def runKmeans(data, X, n):\n",
    "    kmeans = KMeans(n_clusters=n, init = 'k-means++', n_init=10)\n",
    "    kmeans.fit(X)\n",
    "    cluster_data = data.copy() \n",
    "    cluster_data['Cluster'] = kmeans.labels_\n",
    "    return cluster_data\n",
    "\n",
    "\n",
    "def createBarChart(cluster_data, x_axis=\"Geography\", y_axis=\"empty\"): \n",
    "    fig = px.bar(cluster_data, x=x_axis, y=y_axis, color='Cluster')\n",
    "    fig.show()\n",
    "\n",
    "def stateClusterGraph(cluster_data):\n",
    "    state_abbreviations = {\n",
    "    'Alabama': 'AL',\n",
    "    'Alaska': 'AK',\n",
    "    'Arizona': 'AZ',\n",
    "    'Arkansas': 'AR',\n",
    "    'California': 'CA',\n",
    "    'Colorado': 'CO',\n",
    "    'Connecticut': 'CT',\n",
    "    'Delaware': 'DE',\n",
    "    'Florida': 'FL',\n",
    "    'Georgia': 'GA',\n",
    "    'Hawaii': 'HI',\n",
    "    'Idaho': 'ID',\n",
    "    'Illinois': 'IL',\n",
    "    'Indiana': 'IN',\n",
    "    'Iowa': 'IA',\n",
    "    'Kansas': 'KS',\n",
    "    'Kentucky': 'KY',\n",
    "    'Louisiana': 'LA',\n",
    "    'Maine': 'ME',\n",
    "    'Maryland': 'MD',\n",
    "    'Massachusetts': 'MA',\n",
    "    'Michigan': 'MI',\n",
    "    'Minnesota': 'MN',\n",
    "    'Mississippi': 'MS',\n",
    "    'Missouri': 'MO',\n",
    "    'Montana': 'MT',\n",
    "    'Nebraska': 'NE',\n",
    "    'Nevada': 'NV',\n",
    "    'New Hampshire': 'NH',\n",
    "    'New Jersey': 'NJ',\n",
    "    'New Mexico': 'NM',\n",
    "    'New York': 'NY',\n",
    "    'North Carolina': 'NC',\n",
    "    'North Dakota': 'ND',\n",
    "    'Ohio': 'OH',\n",
    "    'Oklahoma': 'OK',\n",
    "    'Oregon': 'OR',\n",
    "    'Pennsylvania': 'PA',\n",
    "    'Rhode Island': 'RI',\n",
    "    'South Carolina': 'SC',\n",
    "    'South Dakota': 'SD',\n",
    "    'Tennessee': 'TN',\n",
    "    'Texas': 'TX',\n",
    "    'Utah': 'UT',\n",
    "    'Vermont': 'VT',\n",
    "    'Virginia': 'VA',\n",
    "    'Washington': 'WA',\n",
    "    'West Virginia': 'WV',\n",
    "    'Wisconsin': 'WI',\n",
    "    'Wyoming': 'WY'\n",
    "    }\n",
    "    cluster_data['State Abbreviation'] = cluster_data['Geography'].map(state_abbreviations)\n",
    "\n",
    "\n",
    "    # Create a choropleth map\n",
    "    fig = px.choropleth(cluster_data, locations='State Abbreviation', locationmode='USA-states', color='Cluster', scope='usa', title='Clusters by State')\n",
    "\n",
    "    # fig.show()\n",
    "    return fig\n",
    "\n",
    "\n",
    "def elbow_method(df, n):\n",
    "    # Create a new DataFrame with only the columns you want to use for clustering\n",
    "    X = df.iloc[:,1:6]\n",
    "\n",
    "    # Perform K-means clustering for different values of K\n",
    "    inertias = []\n",
    "    for k in range(1, n):\n",
    "        kmeans = KMeans(n_clusters=k, init = 'k-means++' , random_state=42, n_init=10).fit(X)\n",
    "        inertia = kmeans.inertia_\n",
    "        inertias.append(inertia)\n",
    "\n",
    "    # Plot the elbow curve to choose the optimal value of K\n",
    "    plt.plot(range(1, n), inertias, 'bx-')\n",
    "    plt.xlabel('Number of clusters (K)')\n",
    "    plt.ylabel('Inertia')\n",
    "    plt.title('Elbow Method For Optimal K')\n",
    "    plt.show()\n",
    "\n",
    "    # create dataframe for elbow plot data\n",
    "    elbow_data = pd.DataFrame({\n",
    "        'K': range(1, n),\n",
    "        'Inertia': inertias\n",
    "    })\n",
    "    elbow_data = elbow_data.set_index('K')\n",
    "\n",
    "    # print(elbow_data)\n",
    "\n",
    "    # Calculate the slope and second derivative of the inertia curve\n",
    "    slopes = [inertias[i+1] - inertias[i] for i in range(len(inertias)-1)]\n",
    "    second_derivatives = [slopes[i+1] - slopes[i] for i in range(len(slopes)-1)]\n",
    "\n",
    "    # Find the index of the maximum second derivative\n",
    "    max_index = second_derivatives.index(max(second_derivatives))\n",
    "\n",
    "    # The optimal value of K is one more than the index of the maximum second derivative\n",
    "    best_k = max_index + 2\n",
    "    # print(best_k)\n",
    "\n",
    "    # return df, elbow_data, inertias, best_k\n",
    "\n",
    "\n",
    "def correlationMap(df):\n",
    "    # Select only the numeric columns\n",
    "    numeric_columns = df.select_dtypes(include=['int64', 'float64'])\n",
    "    \n",
    "    # Calculate the correlation matrix\n",
    "    corr_matrix = numeric_columns.corr()\n",
    "    \n",
    "    # Set the upper triangle to NaN\n",
    "    corr_matrix = corr_matrix.where(np.tril(np.ones(corr_matrix.shape)).astype(np.bool))\n",
    "    np.fill_diagonal(corr_matrix.values, np.nan)\n",
    "\n",
    "    \n",
    "    # Create a heatmap using seaborn\n",
    "    plt.figure(figsize=(10, 7))\n",
    "    sns.heatmap(corr_matrix, annot=False, cmap='coolwarm')\n",
    "    plt.title('Correlation of Numeric Features')\n",
    "    plt.show()\n"
   ]
  },
  {
   "cell_type": "code",
   "execution_count": 412,
   "metadata": {},
   "outputs": [
    {
     "data": {
      "text/html": [
       "<div>\n",
       "<style scoped>\n",
       "    .dataframe tbody tr th:only-of-type {\n",
       "        vertical-align: middle;\n",
       "    }\n",
       "\n",
       "    .dataframe tbody tr th {\n",
       "        vertical-align: top;\n",
       "    }\n",
       "\n",
       "    .dataframe thead th {\n",
       "        text-align: right;\n",
       "    }\n",
       "</style>\n",
       "<table border=\"1\" class=\"dataframe\">\n",
       "  <thead>\n",
       "    <tr style=\"text-align: right;\">\n",
       "      <th></th>\n",
       "      <th>Geography</th>\n",
       "      <th>Total : In Correctional Facilities for Adults</th>\n",
       "      <th>White alone : in Correctional Facilities for Adults</th>\n",
       "      <th>Black or African American alone : in Correctional Facilities for Adults</th>\n",
       "      <th>American Indian and Alaska Native alone : in Correctional Facilities for Adults</th>\n",
       "      <th>Asian alone : in Correctional Facilities for Adults</th>\n",
       "      <th>Native Hawaiian and other Pacific Islander alone : in Correctional Facilities for Adults</th>\n",
       "      <th>Some other race alone : in Correctional Facilities for Adults</th>\n",
       "      <th>Two or more races : in Correctional Facilities for Adults</th>\n",
       "      <th>Hispanic or Latino : in Correctional Facilities for Adults</th>\n",
       "      <th>...</th>\n",
       "      <th>Female incarceration rate</th>\n",
       "      <th>Female incarceration rate: White alone</th>\n",
       "      <th>Female incarceration rate: Black or African American alone</th>\n",
       "      <th>Female incarceration rate: American Indian and Alaska Native alone</th>\n",
       "      <th>Female incarceration rate: Asian alone</th>\n",
       "      <th>Female incarceration rate: Native Hawaiian and other Pacific Islander alone</th>\n",
       "      <th>Female incarceration rate: Some other race alone</th>\n",
       "      <th>Female incarceration rate: Two or more races</th>\n",
       "      <th>Female incarceration rate: Hispanic or Latino</th>\n",
       "      <th>Female incarceration rate: White alone, not Hispanic or Latino</th>\n",
       "    </tr>\n",
       "  </thead>\n",
       "  <tbody>\n",
       "    <tr>\n",
       "      <th>1</th>\n",
       "      <td>Alabama</td>\n",
       "      <td>-0.046607</td>\n",
       "      <td>-0.142180</td>\n",
       "      <td>0.242536</td>\n",
       "      <td>-0.567108</td>\n",
       "      <td>-0.394687</td>\n",
       "      <td>-0.297112</td>\n",
       "      <td>-0.338043</td>\n",
       "      <td>-0.266801</td>\n",
       "      <td>-0.359694</td>\n",
       "      <td>...</td>\n",
       "      <td>1.452992</td>\n",
       "      <td>1.683750</td>\n",
       "      <td>-0.404747</td>\n",
       "      <td>-0.921355</td>\n",
       "      <td>-0.290556</td>\n",
       "      <td>-0.368844</td>\n",
       "      <td>-0.244581</td>\n",
       "      <td>1.623662</td>\n",
       "      <td>1.287841</td>\n",
       "      <td>1.438526</td>\n",
       "    </tr>\n",
       "    <tr>\n",
       "      <th>2</th>\n",
       "      <td>Alaska</td>\n",
       "      <td>-0.730722</td>\n",
       "      <td>-0.728050</td>\n",
       "      <td>-0.808617</td>\n",
       "      <td>0.717104</td>\n",
       "      <td>-0.413876</td>\n",
       "      <td>-0.175232</td>\n",
       "      <td>-0.372633</td>\n",
       "      <td>-0.132105</td>\n",
       "      <td>-0.421320</td>\n",
       "      <td>...</td>\n",
       "      <td>0.855357</td>\n",
       "      <td>0.265390</td>\n",
       "      <td>-0.553864</td>\n",
       "      <td>0.458064</td>\n",
       "      <td>-0.870181</td>\n",
       "      <td>-0.214631</td>\n",
       "      <td>-0.250028</td>\n",
       "      <td>2.764198</td>\n",
       "      <td>0.467418</td>\n",
       "      <td>0.079857</td>\n",
       "    </tr>\n",
       "    <tr>\n",
       "      <th>3</th>\n",
       "      <td>Arizona</td>\n",
       "      <td>0.432925</td>\n",
       "      <td>0.493162</td>\n",
       "      <td>-0.433127</td>\n",
       "      <td>5.182977</td>\n",
       "      <td>1.189169</td>\n",
       "      <td>2.680262</td>\n",
       "      <td>1.359909</td>\n",
       "      <td>2.033800</td>\n",
       "      <td>0.989995</td>\n",
       "      <td>...</td>\n",
       "      <td>1.362441</td>\n",
       "      <td>1.070405</td>\n",
       "      <td>0.578717</td>\n",
       "      <td>0.632520</td>\n",
       "      <td>2.105230</td>\n",
       "      <td>-0.329715</td>\n",
       "      <td>0.991837</td>\n",
       "      <td>0.991744</td>\n",
       "      <td>0.609074</td>\n",
       "      <td>0.807032</td>\n",
       "    </tr>\n",
       "    <tr>\n",
       "      <th>4</th>\n",
       "      <td>Arkansas</td>\n",
       "      <td>-0.329800</td>\n",
       "      <td>-0.295128</td>\n",
       "      <td>-0.301858</td>\n",
       "      <td>-0.491000</td>\n",
       "      <td>-0.309073</td>\n",
       "      <td>-0.276799</td>\n",
       "      <td>-0.301128</td>\n",
       "      <td>-0.408680</td>\n",
       "      <td>-0.345101</td>\n",
       "      <td>...</td>\n",
       "      <td>0.619925</td>\n",
       "      <td>0.802066</td>\n",
       "      <td>-0.401196</td>\n",
       "      <td>-0.170789</td>\n",
       "      <td>0.173145</td>\n",
       "      <td>-0.368844</td>\n",
       "      <td>-0.326283</td>\n",
       "      <td>0.513952</td>\n",
       "      <td>-0.353004</td>\n",
       "      <td>0.807032</td>\n",
       "    </tr>\n",
       "    <tr>\n",
       "      <th>5</th>\n",
       "      <td>California</td>\n",
       "      <td>3.942558</td>\n",
       "      <td>3.880568</td>\n",
       "      <td>2.511116</td>\n",
       "      <td>2.521824</td>\n",
       "      <td>6.283193</td>\n",
       "      <td>2.273992</td>\n",
       "      <td>5.696049</td>\n",
       "      <td>5.345515</td>\n",
       "      <td>5.121527</td>\n",
       "      <td>...</td>\n",
       "      <td>-0.213143</td>\n",
       "      <td>0.016218</td>\n",
       "      <td>0.280482</td>\n",
       "      <td>-0.061247</td>\n",
       "      <td>-0.367839</td>\n",
       "      <td>-0.113358</td>\n",
       "      <td>-0.026710</td>\n",
       "      <td>-0.287505</td>\n",
       "      <td>-0.217251</td>\n",
       "      <td>-0.188050</td>\n",
       "    </tr>\n",
       "    <tr>\n",
       "      <th>6</th>\n",
       "      <td>Colorado</td>\n",
       "      <td>-0.057258</td>\n",
       "      <td>0.237743</td>\n",
       "      <td>-0.471527</td>\n",
       "      <td>0.800210</td>\n",
       "      <td>0.083570</td>\n",
       "      <td>-0.163624</td>\n",
       "      <td>-0.127081</td>\n",
       "      <td>0.324064</td>\n",
       "      <td>0.261083</td>\n",
       "      <td>...</td>\n",
       "      <td>0.293942</td>\n",
       "      <td>0.457060</td>\n",
       "      <td>0.631973</td>\n",
       "      <td>0.839432</td>\n",
       "      <td>0.327711</td>\n",
       "      <td>0.031648</td>\n",
       "      <td>-0.113859</td>\n",
       "      <td>0.066986</td>\n",
       "      <td>0.414297</td>\n",
       "      <td>-0.092369</td>\n",
       "    </tr>\n",
       "    <tr>\n",
       "      <th>7</th>\n",
       "      <td>Connecticut</td>\n",
       "      <td>-0.435323</td>\n",
       "      <td>-0.536433</td>\n",
       "      <td>-0.431118</td>\n",
       "      <td>-0.561860</td>\n",
       "      <td>-0.294312</td>\n",
       "      <td>-0.163624</td>\n",
       "      <td>0.204197</td>\n",
       "      <td>-0.329659</td>\n",
       "      <td>-0.133714</td>\n",
       "      <td>...</td>\n",
       "      <td>0.221501</td>\n",
       "      <td>-0.367122</td>\n",
       "      <td>0.166869</td>\n",
       "      <td>0.559492</td>\n",
       "      <td>1.564246</td>\n",
       "      <td>0.793503</td>\n",
       "      <td>1.449366</td>\n",
       "      <td>1.469536</td>\n",
       "      <td>1.116673</td>\n",
       "      <td>-0.723863</td>\n",
       "    </tr>\n",
       "    <tr>\n",
       "      <th>8</th>\n",
       "      <td>Delaware</td>\n",
       "      <td>-0.687509</td>\n",
       "      <td>-0.701335</td>\n",
       "      <td>-0.639618</td>\n",
       "      <td>-0.631844</td>\n",
       "      <td>-0.467016</td>\n",
       "      <td>-0.294210</td>\n",
       "      <td>-0.370309</td>\n",
       "      <td>-0.744521</td>\n",
       "      <td>-0.424627</td>\n",
       "      <td>...</td>\n",
       "      <td>-0.720227</td>\n",
       "      <td>-0.692962</td>\n",
       "      <td>-0.727834</td>\n",
       "      <td>-1.128268</td>\n",
       "      <td>-0.483764</td>\n",
       "      <td>1.746397</td>\n",
       "      <td>-0.527813</td>\n",
       "      <td>-0.934836</td>\n",
       "      <td>-0.825190</td>\n",
       "      <td>-0.628182</td>\n",
       "    </tr>\n",
       "    <tr>\n",
       "      <th>9</th>\n",
       "      <td>District of Columbia</td>\n",
       "      <td>-0.740651</td>\n",
       "      <td>-0.784974</td>\n",
       "      <td>-0.673284</td>\n",
       "      <td>-0.618722</td>\n",
       "      <td>-0.446350</td>\n",
       "      <td>-0.302916</td>\n",
       "      <td>-0.363063</td>\n",
       "      <td>-0.602642</td>\n",
       "      <td>-0.419168</td>\n",
       "      <td>...</td>\n",
       "      <td>0.275832</td>\n",
       "      <td>-1.363808</td>\n",
       "      <td>-0.518360</td>\n",
       "      <td>-0.552158</td>\n",
       "      <td>0.018578</td>\n",
       "      <td>-0.532263</td>\n",
       "      <td>-0.375304</td>\n",
       "      <td>2.132279</td>\n",
       "      <td>-0.282176</td>\n",
       "      <td>-1.546719</td>\n",
       "    </tr>\n",
       "    <tr>\n",
       "      <th>10</th>\n",
       "      <td>Florida</td>\n",
       "      <td>2.272557</td>\n",
       "      <td>2.295312</td>\n",
       "      <td>2.806172</td>\n",
       "      <td>-0.268800</td>\n",
       "      <td>0.180993</td>\n",
       "      <td>-0.201349</td>\n",
       "      <td>-0.048602</td>\n",
       "      <td>1.561467</td>\n",
       "      <td>0.746324</td>\n",
       "      <td>...</td>\n",
       "      <td>0.674255</td>\n",
       "      <td>0.629563</td>\n",
       "      <td>-0.142016</td>\n",
       "      <td>-0.604900</td>\n",
       "      <td>-0.329198</td>\n",
       "      <td>-0.338922</td>\n",
       "      <td>-0.162880</td>\n",
       "      <td>-0.179617</td>\n",
       "      <td>-0.358906</td>\n",
       "      <td>0.979257</td>\n",
       "    </tr>\n",
       "    <tr>\n",
       "      <th>11</th>\n",
       "      <td>Georgia</td>\n",
       "      <td>1.103223</td>\n",
       "      <td>0.621087</td>\n",
       "      <td>2.017078</td>\n",
       "      <td>-0.474379</td>\n",
       "      <td>0.079142</td>\n",
       "      <td>-0.186839</td>\n",
       "      <td>0.051615</td>\n",
       "      <td>0.550352</td>\n",
       "      <td>0.055417</td>\n",
       "      <td>...</td>\n",
       "      <td>0.964018</td>\n",
       "      <td>1.070405</td>\n",
       "      <td>-0.422499</td>\n",
       "      <td>-0.828041</td>\n",
       "      <td>-0.561048</td>\n",
       "      <td>-0.458609</td>\n",
       "      <td>-0.358963</td>\n",
       "      <td>-0.518695</td>\n",
       "      <td>-0.394320</td>\n",
       "      <td>1.132347</td>\n",
       "    </tr>\n",
       "    <tr>\n",
       "      <th>12</th>\n",
       "      <td>Hawaii</td>\n",
       "      <td>-0.701697</td>\n",
       "      <td>-0.742020</td>\n",
       "      <td>-0.811917</td>\n",
       "      <td>-0.614348</td>\n",
       "      <td>1.304305</td>\n",
       "      <td>6.040690</td>\n",
       "      <td>-0.352535</td>\n",
       "      <td>0.034917</td>\n",
       "      <td>-0.407935</td>\n",
       "      <td>...</td>\n",
       "      <td>0.547484</td>\n",
       "      <td>1.396244</td>\n",
       "      <td>-0.166869</td>\n",
       "      <td>0.348522</td>\n",
       "      <td>1.448321</td>\n",
       "      <td>0.984542</td>\n",
       "      <td>0.430819</td>\n",
       "      <td>-0.087141</td>\n",
       "      <td>0.136888</td>\n",
       "      <td>1.342845</td>\n",
       "    </tr>\n",
       "    <tr>\n",
       "      <th>13</th>\n",
       "      <td>Idaho</td>\n",
       "      <td>-0.598378</td>\n",
       "      <td>-0.440768</td>\n",
       "      <td>-0.807278</td>\n",
       "      <td>-0.307292</td>\n",
       "      <td>-0.434541</td>\n",
       "      <td>-0.244878</td>\n",
       "      <td>-0.302358</td>\n",
       "      <td>-0.432027</td>\n",
       "      <td>-0.339747</td>\n",
       "      <td>...</td>\n",
       "      <td>1.036459</td>\n",
       "      <td>1.415411</td>\n",
       "      <td>1.366908</td>\n",
       "      <td>0.940860</td>\n",
       "      <td>-0.174631</td>\n",
       "      <td>0.330866</td>\n",
       "      <td>0.349117</td>\n",
       "      <td>0.745142</td>\n",
       "      <td>0.520539</td>\n",
       "      <td>1.247164</td>\n",
       "    </tr>\n",
       "    <tr>\n",
       "      <th>14</th>\n",
       "      <td>Illinois</td>\n",
       "      <td>0.493846</td>\n",
       "      <td>0.136174</td>\n",
       "      <td>1.058506</td>\n",
       "      <td>-0.322163</td>\n",
       "      <td>-0.111275</td>\n",
       "      <td>-0.265191</td>\n",
       "      <td>0.176853</td>\n",
       "      <td>-0.024349</td>\n",
       "      <td>0.064813</td>\n",
       "      <td>...</td>\n",
       "      <td>-0.774558</td>\n",
       "      <td>-0.942133</td>\n",
       "      <td>-0.386995</td>\n",
       "      <td>-0.316845</td>\n",
       "      <td>-0.715615</td>\n",
       "      <td>-0.297492</td>\n",
       "      <td>-0.435218</td>\n",
       "      <td>-0.919423</td>\n",
       "      <td>-0.589097</td>\n",
       "      <td>-0.972633</td>\n",
       "    </tr>\n",
       "    <tr>\n",
       "      <th>15</th>\n",
       "      <td>Indiana</td>\n",
       "      <td>0.089608</td>\n",
       "      <td>0.311805</td>\n",
       "      <td>-0.033056</td>\n",
       "      <td>-0.493625</td>\n",
       "      <td>-0.365165</td>\n",
       "      <td>-0.268093</td>\n",
       "      <td>-0.275151</td>\n",
       "      <td>-0.385333</td>\n",
       "      <td>-0.275811</td>\n",
       "      <td>...</td>\n",
       "      <td>0.076620</td>\n",
       "      <td>0.227056</td>\n",
       "      <td>-0.273382</td>\n",
       "      <td>-0.787470</td>\n",
       "      <td>-0.754256</td>\n",
       "      <td>-0.532263</td>\n",
       "      <td>-0.157433</td>\n",
       "      <td>-0.503282</td>\n",
       "      <td>-0.412027</td>\n",
       "      <td>0.232946</td>\n",
       "    </tr>\n",
       "    <tr>\n",
       "      <th>16</th>\n",
       "      <td>Iowa</td>\n",
       "      <td>-0.560981</td>\n",
       "      <td>-0.448797</td>\n",
       "      <td>-0.674957</td>\n",
       "      <td>-0.419267</td>\n",
       "      <td>-0.344499</td>\n",
       "      <td>-0.268093</td>\n",
       "      <td>-0.356774</td>\n",
       "      <td>-0.525416</td>\n",
       "      <td>-0.379536</td>\n",
       "      <td>...</td>\n",
       "      <td>-0.611566</td>\n",
       "      <td>-0.539626</td>\n",
       "      <td>0.820145</td>\n",
       "      <td>1.216744</td>\n",
       "      <td>0.057219</td>\n",
       "      <td>0.185860</td>\n",
       "      <td>-0.375304</td>\n",
       "      <td>-0.195029</td>\n",
       "      <td>-0.293981</td>\n",
       "      <td>-0.589910</td>\n",
       "    </tr>\n",
       "    <tr>\n",
       "      <th>17</th>\n",
       "      <td>Kansas</td>\n",
       "      <td>-0.474258</td>\n",
       "      <td>-0.384276</td>\n",
       "      <td>-0.557700</td>\n",
       "      <td>-0.344033</td>\n",
       "      <td>-0.247077</td>\n",
       "      <td>-0.285505</td>\n",
       "      <td>-0.328609</td>\n",
       "      <td>-0.370965</td>\n",
       "      <td>-0.297753</td>\n",
       "      <td>...</td>\n",
       "      <td>-0.521015</td>\n",
       "      <td>-0.501291</td>\n",
       "      <td>0.195273</td>\n",
       "      <td>-0.288445</td>\n",
       "      <td>0.830053</td>\n",
       "      <td>-0.532263</td>\n",
       "      <td>-0.478792</td>\n",
       "      <td>-0.302918</td>\n",
       "      <td>-0.217251</td>\n",
       "      <td>-0.609046</td>\n",
       "    </tr>\n",
       "    <tr>\n",
       "      <th>18</th>\n",
       "      <td>Kentucky</td>\n",
       "      <td>-0.045218</td>\n",
       "      <td>0.209624</td>\n",
       "      <td>-0.250307</td>\n",
       "      <td>-0.416642</td>\n",
       "      <td>-0.309073</td>\n",
       "      <td>-0.265191</td>\n",
       "      <td>-0.310151</td>\n",
       "      <td>0.029529</td>\n",
       "      <td>-0.318750</td>\n",
       "      <td>...</td>\n",
       "      <td>1.615984</td>\n",
       "      <td>1.875420</td>\n",
       "      <td>0.166869</td>\n",
       "      <td>-0.406101</td>\n",
       "      <td>-0.058706</td>\n",
       "      <td>0.054665</td>\n",
       "      <td>-0.097518</td>\n",
       "      <td>0.683491</td>\n",
       "      <td>0.036549</td>\n",
       "      <td>1.859522</td>\n",
       "    </tr>\n",
       "    <tr>\n",
       "      <th>19</th>\n",
       "      <td>Louisiana</td>\n",
       "      <td>0.312362</td>\n",
       "      <td>-0.076579</td>\n",
       "      <td>1.071513</td>\n",
       "      <td>-0.506747</td>\n",
       "      <td>-0.304644</td>\n",
       "      <td>-0.276799</td>\n",
       "      <td>-0.327378</td>\n",
       "      <td>-0.252433</td>\n",
       "      <td>-0.321742</td>\n",
       "      <td>...</td>\n",
       "      <td>1.199450</td>\n",
       "      <td>0.821233</td>\n",
       "      <td>-0.284033</td>\n",
       "      <td>-0.795584</td>\n",
       "      <td>0.057219</td>\n",
       "      <td>-0.532263</td>\n",
       "      <td>-0.239134</td>\n",
       "      <td>0.282763</td>\n",
       "      <td>-0.146423</td>\n",
       "      <td>0.826168</td>\n",
       "    </tr>\n",
       "    <tr>\n",
       "      <th>20</th>\n",
       "      <td>Maine</td>\n",
       "      <td>-0.738632</td>\n",
       "      <td>-0.673323</td>\n",
       "      <td>-0.810817</td>\n",
       "      <td>-0.581105</td>\n",
       "      <td>-0.449302</td>\n",
       "      <td>-0.300014</td>\n",
       "      <td>-0.373864</td>\n",
       "      <td>-0.744521</td>\n",
       "      <td>-0.430612</td>\n",
       "      <td>...</td>\n",
       "      <td>-1.408413</td>\n",
       "      <td>-1.114636</td>\n",
       "      <td>-0.827246</td>\n",
       "      <td>-0.479130</td>\n",
       "      <td>-0.754256</td>\n",
       "      <td>-0.532263</td>\n",
       "      <td>-0.565941</td>\n",
       "      <td>-0.873185</td>\n",
       "      <td>-0.648120</td>\n",
       "      <td>-1.125723</td>\n",
       "    </tr>\n",
       "    <tr>\n",
       "      <th>21</th>\n",
       "      <td>Maryland</td>\n",
       "      <td>-0.148445</td>\n",
       "      <td>-0.405699</td>\n",
       "      <td>0.333874</td>\n",
       "      <td>-0.602100</td>\n",
       "      <td>-0.323834</td>\n",
       "      <td>-0.282603</td>\n",
       "      <td>-0.334625</td>\n",
       "      <td>-0.494885</td>\n",
       "      <td>-0.358487</td>\n",
       "      <td>...</td>\n",
       "      <td>-0.919439</td>\n",
       "      <td>-0.903799</td>\n",
       "      <td>-0.855649</td>\n",
       "      <td>-1.164782</td>\n",
       "      <td>-0.986106</td>\n",
       "      <td>-0.532263</td>\n",
       "      <td>-0.451559</td>\n",
       "      <td>-0.981074</td>\n",
       "      <td>-0.707143</td>\n",
       "      <td>-0.876952</td>\n",
       "    </tr>\n",
       "    <tr>\n",
       "      <th>22</th>\n",
       "      <td>Massachusetts</td>\n",
       "      <td>-0.354176</td>\n",
       "      <td>-0.209041</td>\n",
       "      <td>-0.514231</td>\n",
       "      <td>-0.475254</td>\n",
       "      <td>-0.148178</td>\n",
       "      <td>-0.259387</td>\n",
       "      <td>-0.216360</td>\n",
       "      <td>-0.442803</td>\n",
       "      <td>-0.131299</td>\n",
       "      <td>...</td>\n",
       "      <td>-1.444634</td>\n",
       "      <td>-1.210471</td>\n",
       "      <td>-0.841447</td>\n",
       "      <td>-0.840213</td>\n",
       "      <td>-0.870181</td>\n",
       "      <td>1.967358</td>\n",
       "      <td>-0.342623</td>\n",
       "      <td>-0.981074</td>\n",
       "      <td>-0.335297</td>\n",
       "      <td>-1.336221</td>\n",
       "    </tr>\n",
       "    <tr>\n",
       "      <th>23</th>\n",
       "      <td>Michigan</td>\n",
       "      <td>0.334941</td>\n",
       "      <td>0.292255</td>\n",
       "      <td>0.617692</td>\n",
       "      <td>-0.139329</td>\n",
       "      <td>-0.168843</td>\n",
       "      <td>-0.285505</td>\n",
       "      <td>-0.342691</td>\n",
       "      <td>-0.130309</td>\n",
       "      <td>-0.300588</td>\n",
       "      <td>...</td>\n",
       "      <td>-1.553295</td>\n",
       "      <td>-1.382975</td>\n",
       "      <td>-1.036720</td>\n",
       "      <td>-0.815870</td>\n",
       "      <td>-0.483764</td>\n",
       "      <td>-0.357335</td>\n",
       "      <td>-0.418878</td>\n",
       "      <td>-0.734472</td>\n",
       "      <td>-0.553683</td>\n",
       "      <td>-1.412765</td>\n",
       "    </tr>\n",
       "    <tr>\n",
       "      <th>24</th>\n",
       "      <td>Minnesota</td>\n",
       "      <td>-0.429748</td>\n",
       "      <td>-0.384852</td>\n",
       "      <td>-0.518870</td>\n",
       "      <td>0.771341</td>\n",
       "      <td>0.176564</td>\n",
       "      <td>-0.250682</td>\n",
       "      <td>-0.335308</td>\n",
       "      <td>-0.223698</td>\n",
       "      <td>-0.308566</td>\n",
       "      <td>...</td>\n",
       "      <td>-0.684007</td>\n",
       "      <td>-0.884632</td>\n",
       "      <td>-0.053256</td>\n",
       "      <td>2.750333</td>\n",
       "      <td>0.907337</td>\n",
       "      <td>0.109905</td>\n",
       "      <td>0.191161</td>\n",
       "      <td>1.068807</td>\n",
       "      <td>1.028139</td>\n",
       "      <td>-1.068314</td>\n",
       "    </tr>\n",
       "    <tr>\n",
       "      <th>25</th>\n",
       "      <td>Mississippi</td>\n",
       "      <td>-0.175284</td>\n",
       "      <td>-0.335670</td>\n",
       "      <td>0.109881</td>\n",
       "      <td>-0.501498</td>\n",
       "      <td>-0.211650</td>\n",
       "      <td>-0.259387</td>\n",
       "      <td>-0.247123</td>\n",
       "      <td>0.315084</td>\n",
       "      <td>-0.226153</td>\n",
       "      <td>...</td>\n",
       "      <td>0.728586</td>\n",
       "      <td>0.936236</td>\n",
       "      <td>-0.635524</td>\n",
       "      <td>-0.523758</td>\n",
       "      <td>0.714128</td>\n",
       "      <td>-0.532263</td>\n",
       "      <td>-0.348070</td>\n",
       "      <td>-0.318330</td>\n",
       "      <td>-0.199544</td>\n",
       "      <td>0.921849</td>\n",
       "    </tr>\n",
       "    <tr>\n",
       "      <th>26</th>\n",
       "      <td>Missouri</td>\n",
       "      <td>-0.032586</td>\n",
       "      <td>0.105174</td>\n",
       "      <td>-0.051993</td>\n",
       "      <td>-0.472630</td>\n",
       "      <td>-0.415352</td>\n",
       "      <td>-0.207153</td>\n",
       "      <td>-0.340777</td>\n",
       "      <td>-0.372761</td>\n",
       "      <td>-0.361899</td>\n",
       "      <td>...</td>\n",
       "      <td>-0.140702</td>\n",
       "      <td>0.016218</td>\n",
       "      <td>-0.475755</td>\n",
       "      <td>-0.487244</td>\n",
       "      <td>-0.522406</td>\n",
       "      <td>-0.239950</td>\n",
       "      <td>-0.288155</td>\n",
       "      <td>-0.765297</td>\n",
       "      <td>-0.140521</td>\n",
       "      <td>-0.015824</td>\n",
       "    </tr>\n",
       "    <tr>\n",
       "      <th>27</th>\n",
       "      <td>Montana</td>\n",
       "      <td>-0.708384</td>\n",
       "      <td>-0.657301</td>\n",
       "      <td>-0.815551</td>\n",
       "      <td>0.406548</td>\n",
       "      <td>-0.459635</td>\n",
       "      <td>-0.305818</td>\n",
       "      <td>-0.356090</td>\n",
       "      <td>-0.678071</td>\n",
       "      <td>-0.419326</td>\n",
       "      <td>...</td>\n",
       "      <td>0.112840</td>\n",
       "      <td>-0.367122</td>\n",
       "      <td>1.693546</td>\n",
       "      <td>1.731998</td>\n",
       "      <td>-0.213272</td>\n",
       "      <td>-0.532263</td>\n",
       "      <td>1.024517</td>\n",
       "      <td>0.298175</td>\n",
       "      <td>0.142791</td>\n",
       "      <td>-0.379412</td>\n",
       "    </tr>\n",
       "    <tr>\n",
       "      <th>28</th>\n",
       "      <td>Nebraska</td>\n",
       "      <td>-0.657762</td>\n",
       "      <td>-0.598865</td>\n",
       "      <td>-0.725887</td>\n",
       "      <td>-0.351032</td>\n",
       "      <td>-0.403543</td>\n",
       "      <td>-0.300014</td>\n",
       "      <td>-0.350211</td>\n",
       "      <td>-0.645744</td>\n",
       "      <td>-0.358802</td>\n",
       "      <td>...</td>\n",
       "      <td>-0.665897</td>\n",
       "      <td>-0.692962</td>\n",
       "      <td>0.209474</td>\n",
       "      <td>0.754233</td>\n",
       "      <td>-0.097347</td>\n",
       "      <td>-0.157089</td>\n",
       "      <td>-0.255475</td>\n",
       "      <td>0.020748</td>\n",
       "      <td>0.071963</td>\n",
       "      <td>-0.857816</td>\n",
       "    </tr>\n",
       "    <tr>\n",
       "      <th>29</th>\n",
       "      <td>Nevada</td>\n",
       "      <td>-0.439750</td>\n",
       "      <td>-0.360441</td>\n",
       "      <td>-0.550145</td>\n",
       "      <td>-0.265301</td>\n",
       "      <td>0.129329</td>\n",
       "      <td>-0.178134</td>\n",
       "      <td>-0.251498</td>\n",
       "      <td>-0.196759</td>\n",
       "      <td>-0.196757</td>\n",
       "      <td>...</td>\n",
       "      <td>0.402603</td>\n",
       "      <td>0.821233</td>\n",
       "      <td>0.351491</td>\n",
       "      <td>-0.045018</td>\n",
       "      <td>0.598203</td>\n",
       "      <td>-0.424084</td>\n",
       "      <td>-0.435218</td>\n",
       "      <td>-0.164204</td>\n",
       "      <td>-0.447441</td>\n",
       "      <td>1.017530</td>\n",
       "    </tr>\n",
       "    <tr>\n",
       "      <th>30</th>\n",
       "      <td>New Hampshire</td>\n",
       "      <td>-0.717331</td>\n",
       "      <td>-0.638650</td>\n",
       "      <td>-0.806417</td>\n",
       "      <td>-0.605600</td>\n",
       "      <td>-0.443398</td>\n",
       "      <td>-0.300014</td>\n",
       "      <td>-0.363473</td>\n",
       "      <td>-0.667296</td>\n",
       "      <td>-0.415861</td>\n",
       "      <td>...</td>\n",
       "      <td>-1.100541</td>\n",
       "      <td>-0.827131</td>\n",
       "      <td>-0.365692</td>\n",
       "      <td>1.618398</td>\n",
       "      <td>-0.483764</td>\n",
       "      <td>-0.532263</td>\n",
       "      <td>0.180267</td>\n",
       "      <td>-0.025490</td>\n",
       "      <td>-0.217251</td>\n",
       "      <td>-0.838680</td>\n",
       "    </tr>\n",
       "    <tr>\n",
       "      <th>31</th>\n",
       "      <td>New Jersey</td>\n",
       "      <td>0.016573</td>\n",
       "      <td>-0.196043</td>\n",
       "      <td>0.324453</td>\n",
       "      <td>-0.452509</td>\n",
       "      <td>0.067333</td>\n",
       "      <td>-0.166526</td>\n",
       "      <td>-0.031238</td>\n",
       "      <td>0.561128</td>\n",
       "      <td>0.062818</td>\n",
       "      <td>...</td>\n",
       "      <td>-1.009990</td>\n",
       "      <td>-1.037968</td>\n",
       "      <td>-0.575167</td>\n",
       "      <td>-1.002497</td>\n",
       "      <td>-0.870181</td>\n",
       "      <td>0.549525</td>\n",
       "      <td>-0.315389</td>\n",
       "      <td>-0.410806</td>\n",
       "      <td>-0.488757</td>\n",
       "      <td>-1.068314</td>\n",
       "    </tr>\n",
       "    <tr>\n",
       "      <th>32</th>\n",
       "      <td>New Mexico</td>\n",
       "      <td>-0.477240</td>\n",
       "      <td>-0.338298</td>\n",
       "      <td>-0.769691</td>\n",
       "      <td>1.120388</td>\n",
       "      <td>-0.394687</td>\n",
       "      <td>-0.285505</td>\n",
       "      <td>-0.139796</td>\n",
       "      <td>-0.299128</td>\n",
       "      <td>0.052740</td>\n",
       "      <td>...</td>\n",
       "      <td>1.054569</td>\n",
       "      <td>1.472912</td>\n",
       "      <td>0.852099</td>\n",
       "      <td>-0.077475</td>\n",
       "      <td>-0.522406</td>\n",
       "      <td>-0.260665</td>\n",
       "      <td>0.087672</td>\n",
       "      <td>-0.549520</td>\n",
       "      <td>0.172302</td>\n",
       "      <td>1.189755</td>\n",
       "    </tr>\n",
       "    <tr>\n",
       "      <th>33</th>\n",
       "      <td>New York</td>\n",
       "      <td>0.939038</td>\n",
       "      <td>0.419316</td>\n",
       "      <td>1.578224</td>\n",
       "      <td>0.014636</td>\n",
       "      <td>0.666630</td>\n",
       "      <td>-0.154918</td>\n",
       "      <td>0.765031</td>\n",
       "      <td>0.067244</td>\n",
       "      <td>0.644594</td>\n",
       "      <td>...</td>\n",
       "      <td>-1.354083</td>\n",
       "      <td>-1.306307</td>\n",
       "      <td>-0.816595</td>\n",
       "      <td>-0.998440</td>\n",
       "      <td>-0.908823</td>\n",
       "      <td>-0.426385</td>\n",
       "      <td>-0.364410</td>\n",
       "      <td>-1.104375</td>\n",
       "      <td>-0.577292</td>\n",
       "      <td>-1.355357</td>\n",
       "    </tr>\n",
       "    <tr>\n",
       "      <th>34</th>\n",
       "      <td>North Carolina</td>\n",
       "      <td>0.321827</td>\n",
       "      <td>0.085515</td>\n",
       "      <td>0.783965</td>\n",
       "      <td>0.303321</td>\n",
       "      <td>-0.154082</td>\n",
       "      <td>-0.253584</td>\n",
       "      <td>-0.200500</td>\n",
       "      <td>-0.148269</td>\n",
       "      <td>-0.230825</td>\n",
       "      <td>...</td>\n",
       "      <td>-0.684007</td>\n",
       "      <td>-0.635461</td>\n",
       "      <td>-0.742036</td>\n",
       "      <td>-0.775299</td>\n",
       "      <td>-0.638331</td>\n",
       "      <td>-0.242251</td>\n",
       "      <td>-0.473346</td>\n",
       "      <td>-1.088962</td>\n",
       "      <td>-0.671729</td>\n",
       "      <td>-0.628182</td>\n",
       "    </tr>\n",
       "    <tr>\n",
       "      <th>35</th>\n",
       "      <td>North Dakota</td>\n",
       "      <td>-0.760692</td>\n",
       "      <td>-0.737087</td>\n",
       "      <td>-0.816125</td>\n",
       "      <td>-0.002860</td>\n",
       "      <td>-0.474396</td>\n",
       "      <td>-0.291309</td>\n",
       "      <td>-0.368805</td>\n",
       "      <td>-0.731950</td>\n",
       "      <td>-0.426937</td>\n",
       "      <td>...</td>\n",
       "      <td>-0.756448</td>\n",
       "      <td>-1.172137</td>\n",
       "      <td>-0.330188</td>\n",
       "      <td>1.439885</td>\n",
       "      <td>-0.135989</td>\n",
       "      <td>5.606307</td>\n",
       "      <td>-0.206454</td>\n",
       "      <td>0.251937</td>\n",
       "      <td>-0.205446</td>\n",
       "      <td>-1.183131</td>\n",
       "    </tr>\n",
       "    <tr>\n",
       "      <th>36</th>\n",
       "      <td>Ohio</td>\n",
       "      <td>0.608946</td>\n",
       "      <td>0.707246</td>\n",
       "      <td>0.743413</td>\n",
       "      <td>-0.481378</td>\n",
       "      <td>-0.093562</td>\n",
       "      <td>-0.268093</td>\n",
       "      <td>-0.228392</td>\n",
       "      <td>0.113939</td>\n",
       "      <td>-0.234762</td>\n",
       "      <td>...</td>\n",
       "      <td>-0.158812</td>\n",
       "      <td>-0.137118</td>\n",
       "      <td>-0.372793</td>\n",
       "      <td>-0.998440</td>\n",
       "      <td>0.057219</td>\n",
       "      <td>-0.532263</td>\n",
       "      <td>-0.173773</td>\n",
       "      <td>-0.564933</td>\n",
       "      <td>-0.199544</td>\n",
       "      <td>-0.149777</td>\n",
       "    </tr>\n",
       "    <tr>\n",
       "      <th>37</th>\n",
       "      <td>Oklahoma</td>\n",
       "      <td>-0.056943</td>\n",
       "      <td>0.072805</td>\n",
       "      <td>-0.320508</td>\n",
       "      <td>2.338990</td>\n",
       "      <td>-0.227887</td>\n",
       "      <td>-0.201349</td>\n",
       "      <td>-0.171652</td>\n",
       "      <td>0.738926</td>\n",
       "      <td>-0.107782</td>\n",
       "      <td>...</td>\n",
       "      <td>1.706535</td>\n",
       "      <td>1.587914</td>\n",
       "      <td>0.834347</td>\n",
       "      <td>-0.032847</td>\n",
       "      <td>0.636845</td>\n",
       "      <td>-0.101849</td>\n",
       "      <td>-0.021263</td>\n",
       "      <td>0.837618</td>\n",
       "      <td>0.048354</td>\n",
       "      <td>1.572479</td>\n",
       "    </tr>\n",
       "    <tr>\n",
       "      <th>38</th>\n",
       "      <td>Oregon</td>\n",
       "      <td>-0.396204</td>\n",
       "      <td>-0.166339</td>\n",
       "      <td>-0.717136</td>\n",
       "      <td>-0.026480</td>\n",
       "      <td>0.026002</td>\n",
       "      <td>-0.131703</td>\n",
       "      <td>-0.224427</td>\n",
       "      <td>-0.133901</td>\n",
       "      <td>-0.243318</td>\n",
       "      <td>...</td>\n",
       "      <td>-0.358024</td>\n",
       "      <td>0.035385</td>\n",
       "      <td>0.280482</td>\n",
       "      <td>0.032067</td>\n",
       "      <td>0.520920</td>\n",
       "      <td>-0.426385</td>\n",
       "      <td>-0.375304</td>\n",
       "      <td>-0.518695</td>\n",
       "      <td>-0.376613</td>\n",
       "      <td>-0.015824</td>\n",
       "    </tr>\n",
       "    <tr>\n",
       "      <th>39</th>\n",
       "      <td>Pennsylvania</td>\n",
       "      <td>0.998662</td>\n",
       "      <td>0.697489</td>\n",
       "      <td>1.317361</td>\n",
       "      <td>-0.395647</td>\n",
       "      <td>0.304985</td>\n",
       "      <td>-0.239074</td>\n",
       "      <td>0.935934</td>\n",
       "      <td>0.859254</td>\n",
       "      <td>0.319927</td>\n",
       "      <td>...</td>\n",
       "      <td>-0.376134</td>\n",
       "      <td>-0.520459</td>\n",
       "      <td>-0.177521</td>\n",
       "      <td>-0.775299</td>\n",
       "      <td>-0.715615</td>\n",
       "      <td>-0.279078</td>\n",
       "      <td>0.501627</td>\n",
       "      <td>-0.626583</td>\n",
       "      <td>-0.010670</td>\n",
       "      <td>-0.570773</td>\n",
       "    </tr>\n",
       "    <tr>\n",
       "      <th>40</th>\n",
       "      <td>Rhode Island</td>\n",
       "      <td>-0.736779</td>\n",
       "      <td>-0.720921</td>\n",
       "      <td>-0.768352</td>\n",
       "      <td>-0.613473</td>\n",
       "      <td>-0.410924</td>\n",
       "      <td>-0.305818</td>\n",
       "      <td>-0.300034</td>\n",
       "      <td>-0.731950</td>\n",
       "      <td>-0.386465</td>\n",
       "      <td>...</td>\n",
       "      <td>-1.661956</td>\n",
       "      <td>-1.497977</td>\n",
       "      <td>-0.798842</td>\n",
       "      <td>-0.795584</td>\n",
       "      <td>-0.792898</td>\n",
       "      <td>-0.532263</td>\n",
       "      <td>-0.277262</td>\n",
       "      <td>-0.965661</td>\n",
       "      <td>-0.618608</td>\n",
       "      <td>-1.508446</td>\n",
       "    </tr>\n",
       "    <tr>\n",
       "      <th>41</th>\n",
       "      <td>South Carolina</td>\n",
       "      <td>-0.044644</td>\n",
       "      <td>-0.285227</td>\n",
       "      <td>0.393172</td>\n",
       "      <td>-0.458633</td>\n",
       "      <td>-0.345975</td>\n",
       "      <td>-0.253584</td>\n",
       "      <td>-0.230853</td>\n",
       "      <td>-0.315291</td>\n",
       "      <td>-0.285680</td>\n",
       "      <td>...</td>\n",
       "      <td>-0.195033</td>\n",
       "      <td>-0.232953</td>\n",
       "      <td>-0.685229</td>\n",
       "      <td>-0.856441</td>\n",
       "      <td>-0.406481</td>\n",
       "      <td>-0.348128</td>\n",
       "      <td>-0.348070</td>\n",
       "      <td>-1.150613</td>\n",
       "      <td>-0.524171</td>\n",
       "      <td>-0.226322</td>\n",
       "    </tr>\n",
       "    <tr>\n",
       "      <th>42</th>\n",
       "      <td>South Dakota</td>\n",
       "      <td>-0.689862</td>\n",
       "      <td>-0.659101</td>\n",
       "      <td>-0.799770</td>\n",
       "      <td>0.977795</td>\n",
       "      <td>-0.430113</td>\n",
       "      <td>-0.285505</td>\n",
       "      <td>-0.359098</td>\n",
       "      <td>-0.566723</td>\n",
       "      <td>-0.414234</td>\n",
       "      <td>...</td>\n",
       "      <td>0.945908</td>\n",
       "      <td>-0.137118</td>\n",
       "      <td>0.507709</td>\n",
       "      <td>2.515021</td>\n",
       "      <td>-0.290556</td>\n",
       "      <td>-0.532263</td>\n",
       "      <td>0.474393</td>\n",
       "      <td>0.467714</td>\n",
       "      <td>0.125084</td>\n",
       "      <td>-0.168914</td>\n",
       "    </tr>\n",
       "    <tr>\n",
       "      <th>43</th>\n",
       "      <td>Tennessee</td>\n",
       "      <td>0.060324</td>\n",
       "      <td>0.109242</td>\n",
       "      <td>0.163488</td>\n",
       "      <td>-0.520744</td>\n",
       "      <td>-0.326786</td>\n",
       "      <td>-0.291309</td>\n",
       "      <td>-0.291147</td>\n",
       "      <td>-0.268597</td>\n",
       "      <td>-0.343789</td>\n",
       "      <td>...</td>\n",
       "      <td>0.656145</td>\n",
       "      <td>0.897902</td>\n",
       "      <td>-0.443801</td>\n",
       "      <td>-0.487244</td>\n",
       "      <td>-0.367839</td>\n",
       "      <td>-0.401067</td>\n",
       "      <td>-0.391644</td>\n",
       "      <td>-0.703646</td>\n",
       "      <td>-0.518269</td>\n",
       "      <td>0.921849</td>\n",
       "    </tr>\n",
       "    <tr>\n",
       "      <th>44</th>\n",
       "      <td>Texas</td>\n",
       "      <td>4.123969</td>\n",
       "      <td>4.559187</td>\n",
       "      <td>3.226088</td>\n",
       "      <td>0.234212</td>\n",
       "      <td>1.968550</td>\n",
       "      <td>-0.102683</td>\n",
       "      <td>3.493593</td>\n",
       "      <td>2.581562</td>\n",
       "      <td>4.369728</td>\n",
       "      <td>...</td>\n",
       "      <td>1.344331</td>\n",
       "      <td>1.453745</td>\n",
       "      <td>0.365692</td>\n",
       "      <td>-0.450730</td>\n",
       "      <td>-0.097347</td>\n",
       "      <td>-0.382654</td>\n",
       "      <td>0.027758</td>\n",
       "      <td>-0.364568</td>\n",
       "      <td>-0.016572</td>\n",
       "      <td>1.687296</td>\n",
       "    </tr>\n",
       "    <tr>\n",
       "      <th>45</th>\n",
       "      <td>Utah</td>\n",
       "      <td>-0.572724</td>\n",
       "      <td>-0.434179</td>\n",
       "      <td>-0.784563</td>\n",
       "      <td>-0.211063</td>\n",
       "      <td>-0.360736</td>\n",
       "      <td>0.059824</td>\n",
       "      <td>-0.248490</td>\n",
       "      <td>-0.309903</td>\n",
       "      <td>-0.278173</td>\n",
       "      <td>...</td>\n",
       "      <td>-0.140702</td>\n",
       "      <td>0.188721</td>\n",
       "      <td>0.259180</td>\n",
       "      <td>0.190294</td>\n",
       "      <td>-0.599689</td>\n",
       "      <td>-0.219235</td>\n",
       "      <td>0.000524</td>\n",
       "      <td>0.390651</td>\n",
       "      <td>0.272642</td>\n",
       "      <td>-0.054097</td>\n",
       "    </tr>\n",
       "    <tr>\n",
       "      <th>46</th>\n",
       "      <td>Vermont</td>\n",
       "      <td>-0.777325</td>\n",
       "      <td>-0.743820</td>\n",
       "      <td>-0.815886</td>\n",
       "      <td>-0.611723</td>\n",
       "      <td>-0.471444</td>\n",
       "      <td>-0.305818</td>\n",
       "      <td>-0.374821</td>\n",
       "      <td>-0.683459</td>\n",
       "      <td>-0.429929</td>\n",
       "      <td>...</td>\n",
       "      <td>-1.462744</td>\n",
       "      <td>-1.248806</td>\n",
       "      <td>0.458003</td>\n",
       "      <td>-0.568386</td>\n",
       "      <td>1.332396</td>\n",
       "      <td>-0.532263</td>\n",
       "      <td>-0.565941</td>\n",
       "      <td>0.375239</td>\n",
       "      <td>0.296251</td>\n",
       "      <td>-1.297948</td>\n",
       "    </tr>\n",
       "    <tr>\n",
       "      <th>47</th>\n",
       "      <td>Virginia</td>\n",
       "      <td>0.400715</td>\n",
       "      <td>0.151116</td>\n",
       "      <td>0.970037</td>\n",
       "      <td>-0.470005</td>\n",
       "      <td>-0.059612</td>\n",
       "      <td>-0.166526</td>\n",
       "      <td>-0.286225</td>\n",
       "      <td>-0.214719</td>\n",
       "      <td>-0.274656</td>\n",
       "      <td>...</td>\n",
       "      <td>0.275832</td>\n",
       "      <td>0.169554</td>\n",
       "      <td>-0.230777</td>\n",
       "      <td>-1.067411</td>\n",
       "      <td>-0.908823</td>\n",
       "      <td>-0.302095</td>\n",
       "      <td>-0.418878</td>\n",
       "      <td>-1.011899</td>\n",
       "      <td>-0.612706</td>\n",
       "      <td>0.232946</td>\n",
       "    </tr>\n",
       "    <tr>\n",
       "      <th>48</th>\n",
       "      <td>Washington</td>\n",
       "      <td>-0.215867</td>\n",
       "      <td>0.023983</td>\n",
       "      <td>-0.551292</td>\n",
       "      <td>0.657617</td>\n",
       "      <td>0.287272</td>\n",
       "      <td>0.419663</td>\n",
       "      <td>-0.281576</td>\n",
       "      <td>0.316880</td>\n",
       "      <td>-0.196705</td>\n",
       "      <td>...</td>\n",
       "      <td>-0.611566</td>\n",
       "      <td>-0.347955</td>\n",
       "      <td>-0.074559</td>\n",
       "      <td>0.393150</td>\n",
       "      <td>-0.135989</td>\n",
       "      <td>-0.394162</td>\n",
       "      <td>-0.277262</td>\n",
       "      <td>-0.472457</td>\n",
       "      <td>-0.229055</td>\n",
       "      <td>-0.455956</td>\n",
       "    </tr>\n",
       "    <tr>\n",
       "      <th>49</th>\n",
       "      <td>West Virginia</td>\n",
       "      <td>-0.500060</td>\n",
       "      <td>-0.389317</td>\n",
       "      <td>-0.600500</td>\n",
       "      <td>-0.552237</td>\n",
       "      <td>-0.409448</td>\n",
       "      <td>-0.265191</td>\n",
       "      <td>-0.323413</td>\n",
       "      <td>-0.469742</td>\n",
       "      <td>-0.380639</td>\n",
       "      <td>...</td>\n",
       "      <td>2.539602</td>\n",
       "      <td>1.932921</td>\n",
       "      <td>5.730363</td>\n",
       "      <td>1.439885</td>\n",
       "      <td>5.196566</td>\n",
       "      <td>1.714173</td>\n",
       "      <td>6.493079</td>\n",
       "      <td>2.764198</td>\n",
       "      <td>6.281202</td>\n",
       "      <td>1.802113</td>\n",
       "    </tr>\n",
       "    <tr>\n",
       "      <th>50</th>\n",
       "      <td>Wisconsin</td>\n",
       "      <td>-0.105694</td>\n",
       "      <td>-0.033445</td>\n",
       "      <td>-0.133528</td>\n",
       "      <td>0.612127</td>\n",
       "      <td>-0.193937</td>\n",
       "      <td>-0.050449</td>\n",
       "      <td>-0.319859</td>\n",
       "      <td>-0.353006</td>\n",
       "      <td>-0.325469</td>\n",
       "      <td>...</td>\n",
       "      <td>-0.358024</td>\n",
       "      <td>-0.462957</td>\n",
       "      <td>0.220125</td>\n",
       "      <td>1.589999</td>\n",
       "      <td>-0.213272</td>\n",
       "      <td>1.362017</td>\n",
       "      <td>-0.391644</td>\n",
       "      <td>-0.688234</td>\n",
       "      <td>-0.512367</td>\n",
       "      <td>-0.475093</td>\n",
       "    </tr>\n",
       "    <tr>\n",
       "      <th>51</th>\n",
       "      <td>Wyoming</td>\n",
       "      <td>-0.740910</td>\n",
       "      <td>-0.687869</td>\n",
       "      <td>-0.815503</td>\n",
       "      <td>-0.380775</td>\n",
       "      <td>-0.465539</td>\n",
       "      <td>-0.288407</td>\n",
       "      <td>-0.360328</td>\n",
       "      <td>-0.640357</td>\n",
       "      <td>-0.406518</td>\n",
       "      <td>...</td>\n",
       "      <td>0.873467</td>\n",
       "      <td>0.993737</td>\n",
       "      <td>-0.209474</td>\n",
       "      <td>1.853711</td>\n",
       "      <td>0.289070</td>\n",
       "      <td>-0.532263</td>\n",
       "      <td>0.223841</td>\n",
       "      <td>2.471358</td>\n",
       "      <td>0.603172</td>\n",
       "      <td>0.845304</td>\n",
       "    </tr>\n",
       "    <tr>\n",
       "      <th>52</th>\n",
       "      <td>Puerto Rico</td>\n",
       "      <td>-0.566630</td>\n",
       "      <td>-0.472776</td>\n",
       "      <td>-0.687439</td>\n",
       "      <td>-0.449885</td>\n",
       "      <td>-0.462587</td>\n",
       "      <td>-0.302916</td>\n",
       "      <td>-0.256693</td>\n",
       "      <td>-0.494885</td>\n",
       "      <td>0.230165</td>\n",
       "      <td>...</td>\n",
       "      <td>-1.951718</td>\n",
       "      <td>-1.708814</td>\n",
       "      <td>-1.139682</td>\n",
       "      <td>-1.201296</td>\n",
       "      <td>-0.213272</td>\n",
       "      <td>-0.532263</td>\n",
       "      <td>-0.549600</td>\n",
       "      <td>-1.227676</td>\n",
       "      <td>-0.730752</td>\n",
       "      <td>1.476798</td>\n",
       "    </tr>\n",
       "  </tbody>\n",
       "</table>\n",
       "<p>52 rows × 61 columns</p>\n",
       "</div>"
      ],
      "text/plain": [
       "               Geography  Total : In Correctional Facilities for Adults  \\\n",
       "1                Alabama                                      -0.046607   \n",
       "2                 Alaska                                      -0.730722   \n",
       "3                Arizona                                       0.432925   \n",
       "4               Arkansas                                      -0.329800   \n",
       "5             California                                       3.942558   \n",
       "6               Colorado                                      -0.057258   \n",
       "7            Connecticut                                      -0.435323   \n",
       "8               Delaware                                      -0.687509   \n",
       "9   District of Columbia                                      -0.740651   \n",
       "10               Florida                                       2.272557   \n",
       "11               Georgia                                       1.103223   \n",
       "12                Hawaii                                      -0.701697   \n",
       "13                 Idaho                                      -0.598378   \n",
       "14              Illinois                                       0.493846   \n",
       "15               Indiana                                       0.089608   \n",
       "16                  Iowa                                      -0.560981   \n",
       "17                Kansas                                      -0.474258   \n",
       "18              Kentucky                                      -0.045218   \n",
       "19             Louisiana                                       0.312362   \n",
       "20                 Maine                                      -0.738632   \n",
       "21              Maryland                                      -0.148445   \n",
       "22         Massachusetts                                      -0.354176   \n",
       "23              Michigan                                       0.334941   \n",
       "24             Minnesota                                      -0.429748   \n",
       "25           Mississippi                                      -0.175284   \n",
       "26              Missouri                                      -0.032586   \n",
       "27               Montana                                      -0.708384   \n",
       "28              Nebraska                                      -0.657762   \n",
       "29                Nevada                                      -0.439750   \n",
       "30         New Hampshire                                      -0.717331   \n",
       "31            New Jersey                                       0.016573   \n",
       "32            New Mexico                                      -0.477240   \n",
       "33              New York                                       0.939038   \n",
       "34        North Carolina                                       0.321827   \n",
       "35          North Dakota                                      -0.760692   \n",
       "36                  Ohio                                       0.608946   \n",
       "37              Oklahoma                                      -0.056943   \n",
       "38                Oregon                                      -0.396204   \n",
       "39          Pennsylvania                                       0.998662   \n",
       "40          Rhode Island                                      -0.736779   \n",
       "41        South Carolina                                      -0.044644   \n",
       "42          South Dakota                                      -0.689862   \n",
       "43             Tennessee                                       0.060324   \n",
       "44                 Texas                                       4.123969   \n",
       "45                  Utah                                      -0.572724   \n",
       "46               Vermont                                      -0.777325   \n",
       "47              Virginia                                       0.400715   \n",
       "48            Washington                                      -0.215867   \n",
       "49         West Virginia                                      -0.500060   \n",
       "50             Wisconsin                                      -0.105694   \n",
       "51               Wyoming                                      -0.740910   \n",
       "52           Puerto Rico                                      -0.566630   \n",
       "\n",
       "    White alone : in Correctional Facilities for Adults  \\\n",
       "1                                           -0.142180     \n",
       "2                                           -0.728050     \n",
       "3                                            0.493162     \n",
       "4                                           -0.295128     \n",
       "5                                            3.880568     \n",
       "6                                            0.237743     \n",
       "7                                           -0.536433     \n",
       "8                                           -0.701335     \n",
       "9                                           -0.784974     \n",
       "10                                           2.295312     \n",
       "11                                           0.621087     \n",
       "12                                          -0.742020     \n",
       "13                                          -0.440768     \n",
       "14                                           0.136174     \n",
       "15                                           0.311805     \n",
       "16                                          -0.448797     \n",
       "17                                          -0.384276     \n",
       "18                                           0.209624     \n",
       "19                                          -0.076579     \n",
       "20                                          -0.673323     \n",
       "21                                          -0.405699     \n",
       "22                                          -0.209041     \n",
       "23                                           0.292255     \n",
       "24                                          -0.384852     \n",
       "25                                          -0.335670     \n",
       "26                                           0.105174     \n",
       "27                                          -0.657301     \n",
       "28                                          -0.598865     \n",
       "29                                          -0.360441     \n",
       "30                                          -0.638650     \n",
       "31                                          -0.196043     \n",
       "32                                          -0.338298     \n",
       "33                                           0.419316     \n",
       "34                                           0.085515     \n",
       "35                                          -0.737087     \n",
       "36                                           0.707246     \n",
       "37                                           0.072805     \n",
       "38                                          -0.166339     \n",
       "39                                           0.697489     \n",
       "40                                          -0.720921     \n",
       "41                                          -0.285227     \n",
       "42                                          -0.659101     \n",
       "43                                           0.109242     \n",
       "44                                           4.559187     \n",
       "45                                          -0.434179     \n",
       "46                                          -0.743820     \n",
       "47                                           0.151116     \n",
       "48                                           0.023983     \n",
       "49                                          -0.389317     \n",
       "50                                          -0.033445     \n",
       "51                                          -0.687869     \n",
       "52                                          -0.472776     \n",
       "\n",
       "    Black or African American alone : in Correctional Facilities for Adults  \\\n",
       "1                                            0.242536                         \n",
       "2                                           -0.808617                         \n",
       "3                                           -0.433127                         \n",
       "4                                           -0.301858                         \n",
       "5                                            2.511116                         \n",
       "6                                           -0.471527                         \n",
       "7                                           -0.431118                         \n",
       "8                                           -0.639618                         \n",
       "9                                           -0.673284                         \n",
       "10                                           2.806172                         \n",
       "11                                           2.017078                         \n",
       "12                                          -0.811917                         \n",
       "13                                          -0.807278                         \n",
       "14                                           1.058506                         \n",
       "15                                          -0.033056                         \n",
       "16                                          -0.674957                         \n",
       "17                                          -0.557700                         \n",
       "18                                          -0.250307                         \n",
       "19                                           1.071513                         \n",
       "20                                          -0.810817                         \n",
       "21                                           0.333874                         \n",
       "22                                          -0.514231                         \n",
       "23                                           0.617692                         \n",
       "24                                          -0.518870                         \n",
       "25                                           0.109881                         \n",
       "26                                          -0.051993                         \n",
       "27                                          -0.815551                         \n",
       "28                                          -0.725887                         \n",
       "29                                          -0.550145                         \n",
       "30                                          -0.806417                         \n",
       "31                                           0.324453                         \n",
       "32                                          -0.769691                         \n",
       "33                                           1.578224                         \n",
       "34                                           0.783965                         \n",
       "35                                          -0.816125                         \n",
       "36                                           0.743413                         \n",
       "37                                          -0.320508                         \n",
       "38                                          -0.717136                         \n",
       "39                                           1.317361                         \n",
       "40                                          -0.768352                         \n",
       "41                                           0.393172                         \n",
       "42                                          -0.799770                         \n",
       "43                                           0.163488                         \n",
       "44                                           3.226088                         \n",
       "45                                          -0.784563                         \n",
       "46                                          -0.815886                         \n",
       "47                                           0.970037                         \n",
       "48                                          -0.551292                         \n",
       "49                                          -0.600500                         \n",
       "50                                          -0.133528                         \n",
       "51                                          -0.815503                         \n",
       "52                                          -0.687439                         \n",
       "\n",
       "    American Indian and Alaska Native alone : in Correctional Facilities for Adults  \\\n",
       "1                                           -0.567108                                 \n",
       "2                                            0.717104                                 \n",
       "3                                            5.182977                                 \n",
       "4                                           -0.491000                                 \n",
       "5                                            2.521824                                 \n",
       "6                                            0.800210                                 \n",
       "7                                           -0.561860                                 \n",
       "8                                           -0.631844                                 \n",
       "9                                           -0.618722                                 \n",
       "10                                          -0.268800                                 \n",
       "11                                          -0.474379                                 \n",
       "12                                          -0.614348                                 \n",
       "13                                          -0.307292                                 \n",
       "14                                          -0.322163                                 \n",
       "15                                          -0.493625                                 \n",
       "16                                          -0.419267                                 \n",
       "17                                          -0.344033                                 \n",
       "18                                          -0.416642                                 \n",
       "19                                          -0.506747                                 \n",
       "20                                          -0.581105                                 \n",
       "21                                          -0.602100                                 \n",
       "22                                          -0.475254                                 \n",
       "23                                          -0.139329                                 \n",
       "24                                           0.771341                                 \n",
       "25                                          -0.501498                                 \n",
       "26                                          -0.472630                                 \n",
       "27                                           0.406548                                 \n",
       "28                                          -0.351032                                 \n",
       "29                                          -0.265301                                 \n",
       "30                                          -0.605600                                 \n",
       "31                                          -0.452509                                 \n",
       "32                                           1.120388                                 \n",
       "33                                           0.014636                                 \n",
       "34                                           0.303321                                 \n",
       "35                                          -0.002860                                 \n",
       "36                                          -0.481378                                 \n",
       "37                                           2.338990                                 \n",
       "38                                          -0.026480                                 \n",
       "39                                          -0.395647                                 \n",
       "40                                          -0.613473                                 \n",
       "41                                          -0.458633                                 \n",
       "42                                           0.977795                                 \n",
       "43                                          -0.520744                                 \n",
       "44                                           0.234212                                 \n",
       "45                                          -0.211063                                 \n",
       "46                                          -0.611723                                 \n",
       "47                                          -0.470005                                 \n",
       "48                                           0.657617                                 \n",
       "49                                          -0.552237                                 \n",
       "50                                           0.612127                                 \n",
       "51                                          -0.380775                                 \n",
       "52                                          -0.449885                                 \n",
       "\n",
       "    Asian alone : in Correctional Facilities for Adults  \\\n",
       "1                                           -0.394687     \n",
       "2                                           -0.413876     \n",
       "3                                            1.189169     \n",
       "4                                           -0.309073     \n",
       "5                                            6.283193     \n",
       "6                                            0.083570     \n",
       "7                                           -0.294312     \n",
       "8                                           -0.467016     \n",
       "9                                           -0.446350     \n",
       "10                                           0.180993     \n",
       "11                                           0.079142     \n",
       "12                                           1.304305     \n",
       "13                                          -0.434541     \n",
       "14                                          -0.111275     \n",
       "15                                          -0.365165     \n",
       "16                                          -0.344499     \n",
       "17                                          -0.247077     \n",
       "18                                          -0.309073     \n",
       "19                                          -0.304644     \n",
       "20                                          -0.449302     \n",
       "21                                          -0.323834     \n",
       "22                                          -0.148178     \n",
       "23                                          -0.168843     \n",
       "24                                           0.176564     \n",
       "25                                          -0.211650     \n",
       "26                                          -0.415352     \n",
       "27                                          -0.459635     \n",
       "28                                          -0.403543     \n",
       "29                                           0.129329     \n",
       "30                                          -0.443398     \n",
       "31                                           0.067333     \n",
       "32                                          -0.394687     \n",
       "33                                           0.666630     \n",
       "34                                          -0.154082     \n",
       "35                                          -0.474396     \n",
       "36                                          -0.093562     \n",
       "37                                          -0.227887     \n",
       "38                                           0.026002     \n",
       "39                                           0.304985     \n",
       "40                                          -0.410924     \n",
       "41                                          -0.345975     \n",
       "42                                          -0.430113     \n",
       "43                                          -0.326786     \n",
       "44                                           1.968550     \n",
       "45                                          -0.360736     \n",
       "46                                          -0.471444     \n",
       "47                                          -0.059612     \n",
       "48                                           0.287272     \n",
       "49                                          -0.409448     \n",
       "50                                          -0.193937     \n",
       "51                                          -0.465539     \n",
       "52                                          -0.462587     \n",
       "\n",
       "    Native Hawaiian and other Pacific Islander alone : in Correctional Facilities for Adults  \\\n",
       "1                                           -0.297112                                          \n",
       "2                                           -0.175232                                          \n",
       "3                                            2.680262                                          \n",
       "4                                           -0.276799                                          \n",
       "5                                            2.273992                                          \n",
       "6                                           -0.163624                                          \n",
       "7                                           -0.163624                                          \n",
       "8                                           -0.294210                                          \n",
       "9                                           -0.302916                                          \n",
       "10                                          -0.201349                                          \n",
       "11                                          -0.186839                                          \n",
       "12                                           6.040690                                          \n",
       "13                                          -0.244878                                          \n",
       "14                                          -0.265191                                          \n",
       "15                                          -0.268093                                          \n",
       "16                                          -0.268093                                          \n",
       "17                                          -0.285505                                          \n",
       "18                                          -0.265191                                          \n",
       "19                                          -0.276799                                          \n",
       "20                                          -0.300014                                          \n",
       "21                                          -0.282603                                          \n",
       "22                                          -0.259387                                          \n",
       "23                                          -0.285505                                          \n",
       "24                                          -0.250682                                          \n",
       "25                                          -0.259387                                          \n",
       "26                                          -0.207153                                          \n",
       "27                                          -0.305818                                          \n",
       "28                                          -0.300014                                          \n",
       "29                                          -0.178134                                          \n",
       "30                                          -0.300014                                          \n",
       "31                                          -0.166526                                          \n",
       "32                                          -0.285505                                          \n",
       "33                                          -0.154918                                          \n",
       "34                                          -0.253584                                          \n",
       "35                                          -0.291309                                          \n",
       "36                                          -0.268093                                          \n",
       "37                                          -0.201349                                          \n",
       "38                                          -0.131703                                          \n",
       "39                                          -0.239074                                          \n",
       "40                                          -0.305818                                          \n",
       "41                                          -0.253584                                          \n",
       "42                                          -0.285505                                          \n",
       "43                                          -0.291309                                          \n",
       "44                                          -0.102683                                          \n",
       "45                                           0.059824                                          \n",
       "46                                          -0.305818                                          \n",
       "47                                          -0.166526                                          \n",
       "48                                           0.419663                                          \n",
       "49                                          -0.265191                                          \n",
       "50                                          -0.050449                                          \n",
       "51                                          -0.288407                                          \n",
       "52                                          -0.302916                                          \n",
       "\n",
       "    Some other race alone : in Correctional Facilities for Adults  \\\n",
       "1                                           -0.338043               \n",
       "2                                           -0.372633               \n",
       "3                                            1.359909               \n",
       "4                                           -0.301128               \n",
       "5                                            5.696049               \n",
       "6                                           -0.127081               \n",
       "7                                            0.204197               \n",
       "8                                           -0.370309               \n",
       "9                                           -0.363063               \n",
       "10                                          -0.048602               \n",
       "11                                           0.051615               \n",
       "12                                          -0.352535               \n",
       "13                                          -0.302358               \n",
       "14                                           0.176853               \n",
       "15                                          -0.275151               \n",
       "16                                          -0.356774               \n",
       "17                                          -0.328609               \n",
       "18                                          -0.310151               \n",
       "19                                          -0.327378               \n",
       "20                                          -0.373864               \n",
       "21                                          -0.334625               \n",
       "22                                          -0.216360               \n",
       "23                                          -0.342691               \n",
       "24                                          -0.335308               \n",
       "25                                          -0.247123               \n",
       "26                                          -0.340777               \n",
       "27                                          -0.356090               \n",
       "28                                          -0.350211               \n",
       "29                                          -0.251498               \n",
       "30                                          -0.363473               \n",
       "31                                          -0.031238               \n",
       "32                                          -0.139796               \n",
       "33                                           0.765031               \n",
       "34                                          -0.200500               \n",
       "35                                          -0.368805               \n",
       "36                                          -0.228392               \n",
       "37                                          -0.171652               \n",
       "38                                          -0.224427               \n",
       "39                                           0.935934               \n",
       "40                                          -0.300034               \n",
       "41                                          -0.230853               \n",
       "42                                          -0.359098               \n",
       "43                                          -0.291147               \n",
       "44                                           3.493593               \n",
       "45                                          -0.248490               \n",
       "46                                          -0.374821               \n",
       "47                                          -0.286225               \n",
       "48                                          -0.281576               \n",
       "49                                          -0.323413               \n",
       "50                                          -0.319859               \n",
       "51                                          -0.360328               \n",
       "52                                          -0.256693               \n",
       "\n",
       "    Two or more races : in Correctional Facilities for Adults  \\\n",
       "1                                           -0.266801           \n",
       "2                                           -0.132105           \n",
       "3                                            2.033800           \n",
       "4                                           -0.408680           \n",
       "5                                            5.345515           \n",
       "6                                            0.324064           \n",
       "7                                           -0.329659           \n",
       "8                                           -0.744521           \n",
       "9                                           -0.602642           \n",
       "10                                           1.561467           \n",
       "11                                           0.550352           \n",
       "12                                           0.034917           \n",
       "13                                          -0.432027           \n",
       "14                                          -0.024349           \n",
       "15                                          -0.385333           \n",
       "16                                          -0.525416           \n",
       "17                                          -0.370965           \n",
       "18                                           0.029529           \n",
       "19                                          -0.252433           \n",
       "20                                          -0.744521           \n",
       "21                                          -0.494885           \n",
       "22                                          -0.442803           \n",
       "23                                          -0.130309           \n",
       "24                                          -0.223698           \n",
       "25                                           0.315084           \n",
       "26                                          -0.372761           \n",
       "27                                          -0.678071           \n",
       "28                                          -0.645744           \n",
       "29                                          -0.196759           \n",
       "30                                          -0.667296           \n",
       "31                                           0.561128           \n",
       "32                                          -0.299128           \n",
       "33                                           0.067244           \n",
       "34                                          -0.148269           \n",
       "35                                          -0.731950           \n",
       "36                                           0.113939           \n",
       "37                                           0.738926           \n",
       "38                                          -0.133901           \n",
       "39                                           0.859254           \n",
       "40                                          -0.731950           \n",
       "41                                          -0.315291           \n",
       "42                                          -0.566723           \n",
       "43                                          -0.268597           \n",
       "44                                           2.581562           \n",
       "45                                          -0.309903           \n",
       "46                                          -0.683459           \n",
       "47                                          -0.214719           \n",
       "48                                           0.316880           \n",
       "49                                          -0.469742           \n",
       "50                                          -0.353006           \n",
       "51                                          -0.640357           \n",
       "52                                          -0.494885           \n",
       "\n",
       "    Hispanic or Latino : in Correctional Facilities for Adults  ...  \\\n",
       "1                                           -0.359694           ...   \n",
       "2                                           -0.421320           ...   \n",
       "3                                            0.989995           ...   \n",
       "4                                           -0.345101           ...   \n",
       "5                                            5.121527           ...   \n",
       "6                                            0.261083           ...   \n",
       "7                                           -0.133714           ...   \n",
       "8                                           -0.424627           ...   \n",
       "9                                           -0.419168           ...   \n",
       "10                                           0.746324           ...   \n",
       "11                                           0.055417           ...   \n",
       "12                                          -0.407935           ...   \n",
       "13                                          -0.339747           ...   \n",
       "14                                           0.064813           ...   \n",
       "15                                          -0.275811           ...   \n",
       "16                                          -0.379536           ...   \n",
       "17                                          -0.297753           ...   \n",
       "18                                          -0.318750           ...   \n",
       "19                                          -0.321742           ...   \n",
       "20                                          -0.430612           ...   \n",
       "21                                          -0.358487           ...   \n",
       "22                                          -0.131299           ...   \n",
       "23                                          -0.300588           ...   \n",
       "24                                          -0.308566           ...   \n",
       "25                                          -0.226153           ...   \n",
       "26                                          -0.361899           ...   \n",
       "27                                          -0.419326           ...   \n",
       "28                                          -0.358802           ...   \n",
       "29                                          -0.196757           ...   \n",
       "30                                          -0.415861           ...   \n",
       "31                                           0.062818           ...   \n",
       "32                                           0.052740           ...   \n",
       "33                                           0.644594           ...   \n",
       "34                                          -0.230825           ...   \n",
       "35                                          -0.426937           ...   \n",
       "36                                          -0.234762           ...   \n",
       "37                                          -0.107782           ...   \n",
       "38                                          -0.243318           ...   \n",
       "39                                           0.319927           ...   \n",
       "40                                          -0.386465           ...   \n",
       "41                                          -0.285680           ...   \n",
       "42                                          -0.414234           ...   \n",
       "43                                          -0.343789           ...   \n",
       "44                                           4.369728           ...   \n",
       "45                                          -0.278173           ...   \n",
       "46                                          -0.429929           ...   \n",
       "47                                          -0.274656           ...   \n",
       "48                                          -0.196705           ...   \n",
       "49                                          -0.380639           ...   \n",
       "50                                          -0.325469           ...   \n",
       "51                                          -0.406518           ...   \n",
       "52                                           0.230165           ...   \n",
       "\n",
       "    Female incarceration rate  Female incarceration rate: White alone  \\\n",
       "1                    1.452992                                1.683750   \n",
       "2                    0.855357                                0.265390   \n",
       "3                    1.362441                                1.070405   \n",
       "4                    0.619925                                0.802066   \n",
       "5                   -0.213143                                0.016218   \n",
       "6                    0.293942                                0.457060   \n",
       "7                    0.221501                               -0.367122   \n",
       "8                   -0.720227                               -0.692962   \n",
       "9                    0.275832                               -1.363808   \n",
       "10                   0.674255                                0.629563   \n",
       "11                   0.964018                                1.070405   \n",
       "12                   0.547484                                1.396244   \n",
       "13                   1.036459                                1.415411   \n",
       "14                  -0.774558                               -0.942133   \n",
       "15                   0.076620                                0.227056   \n",
       "16                  -0.611566                               -0.539626   \n",
       "17                  -0.521015                               -0.501291   \n",
       "18                   1.615984                                1.875420   \n",
       "19                   1.199450                                0.821233   \n",
       "20                  -1.408413                               -1.114636   \n",
       "21                  -0.919439                               -0.903799   \n",
       "22                  -1.444634                               -1.210471   \n",
       "23                  -1.553295                               -1.382975   \n",
       "24                  -0.684007                               -0.884632   \n",
       "25                   0.728586                                0.936236   \n",
       "26                  -0.140702                                0.016218   \n",
       "27                   0.112840                               -0.367122   \n",
       "28                  -0.665897                               -0.692962   \n",
       "29                   0.402603                                0.821233   \n",
       "30                  -1.100541                               -0.827131   \n",
       "31                  -1.009990                               -1.037968   \n",
       "32                   1.054569                                1.472912   \n",
       "33                  -1.354083                               -1.306307   \n",
       "34                  -0.684007                               -0.635461   \n",
       "35                  -0.756448                               -1.172137   \n",
       "36                  -0.158812                               -0.137118   \n",
       "37                   1.706535                                1.587914   \n",
       "38                  -0.358024                                0.035385   \n",
       "39                  -0.376134                               -0.520459   \n",
       "40                  -1.661956                               -1.497977   \n",
       "41                  -0.195033                               -0.232953   \n",
       "42                   0.945908                               -0.137118   \n",
       "43                   0.656145                                0.897902   \n",
       "44                   1.344331                                1.453745   \n",
       "45                  -0.140702                                0.188721   \n",
       "46                  -1.462744                               -1.248806   \n",
       "47                   0.275832                                0.169554   \n",
       "48                  -0.611566                               -0.347955   \n",
       "49                   2.539602                                1.932921   \n",
       "50                  -0.358024                               -0.462957   \n",
       "51                   0.873467                                0.993737   \n",
       "52                  -1.951718                               -1.708814   \n",
       "\n",
       "   Female incarceration rate: Black or African American alone  \\\n",
       "1                                           -0.404747           \n",
       "2                                           -0.553864           \n",
       "3                                            0.578717           \n",
       "4                                           -0.401196           \n",
       "5                                            0.280482           \n",
       "6                                            0.631973           \n",
       "7                                            0.166869           \n",
       "8                                           -0.727834           \n",
       "9                                           -0.518360           \n",
       "10                                          -0.142016           \n",
       "11                                          -0.422499           \n",
       "12                                          -0.166869           \n",
       "13                                           1.366908           \n",
       "14                                          -0.386995           \n",
       "15                                          -0.273382           \n",
       "16                                           0.820145           \n",
       "17                                           0.195273           \n",
       "18                                           0.166869           \n",
       "19                                          -0.284033           \n",
       "20                                          -0.827246           \n",
       "21                                          -0.855649           \n",
       "22                                          -0.841447           \n",
       "23                                          -1.036720           \n",
       "24                                          -0.053256           \n",
       "25                                          -0.635524           \n",
       "26                                          -0.475755           \n",
       "27                                           1.693546           \n",
       "28                                           0.209474           \n",
       "29                                           0.351491           \n",
       "30                                          -0.365692           \n",
       "31                                          -0.575167           \n",
       "32                                           0.852099           \n",
       "33                                          -0.816595           \n",
       "34                                          -0.742036           \n",
       "35                                          -0.330188           \n",
       "36                                          -0.372793           \n",
       "37                                           0.834347           \n",
       "38                                           0.280482           \n",
       "39                                          -0.177521           \n",
       "40                                          -0.798842           \n",
       "41                                          -0.685229           \n",
       "42                                           0.507709           \n",
       "43                                          -0.443801           \n",
       "44                                           0.365692           \n",
       "45                                           0.259180           \n",
       "46                                           0.458003           \n",
       "47                                          -0.230777           \n",
       "48                                          -0.074559           \n",
       "49                                           5.730363           \n",
       "50                                           0.220125           \n",
       "51                                          -0.209474           \n",
       "52                                          -1.139682           \n",
       "\n",
       "    Female incarceration rate: American Indian and Alaska Native alone  \\\n",
       "1                                           -0.921355                    \n",
       "2                                            0.458064                    \n",
       "3                                            0.632520                    \n",
       "4                                           -0.170789                    \n",
       "5                                           -0.061247                    \n",
       "6                                            0.839432                    \n",
       "7                                            0.559492                    \n",
       "8                                           -1.128268                    \n",
       "9                                           -0.552158                    \n",
       "10                                          -0.604900                    \n",
       "11                                          -0.828041                    \n",
       "12                                           0.348522                    \n",
       "13                                           0.940860                    \n",
       "14                                          -0.316845                    \n",
       "15                                          -0.787470                    \n",
       "16                                           1.216744                    \n",
       "17                                          -0.288445                    \n",
       "18                                          -0.406101                    \n",
       "19                                          -0.795584                    \n",
       "20                                          -0.479130                    \n",
       "21                                          -1.164782                    \n",
       "22                                          -0.840213                    \n",
       "23                                          -0.815870                    \n",
       "24                                           2.750333                    \n",
       "25                                          -0.523758                    \n",
       "26                                          -0.487244                    \n",
       "27                                           1.731998                    \n",
       "28                                           0.754233                    \n",
       "29                                          -0.045018                    \n",
       "30                                           1.618398                    \n",
       "31                                          -1.002497                    \n",
       "32                                          -0.077475                    \n",
       "33                                          -0.998440                    \n",
       "34                                          -0.775299                    \n",
       "35                                           1.439885                    \n",
       "36                                          -0.998440                    \n",
       "37                                          -0.032847                    \n",
       "38                                           0.032067                    \n",
       "39                                          -0.775299                    \n",
       "40                                          -0.795584                    \n",
       "41                                          -0.856441                    \n",
       "42                                           2.515021                    \n",
       "43                                          -0.487244                    \n",
       "44                                          -0.450730                    \n",
       "45                                           0.190294                    \n",
       "46                                          -0.568386                    \n",
       "47                                          -1.067411                    \n",
       "48                                           0.393150                    \n",
       "49                                           1.439885                    \n",
       "50                                           1.589999                    \n",
       "51                                           1.853711                    \n",
       "52                                          -1.201296                    \n",
       "\n",
       "    Female incarceration rate: Asian alone  \\\n",
       "1                                -0.290556   \n",
       "2                                -0.870181   \n",
       "3                                 2.105230   \n",
       "4                                 0.173145   \n",
       "5                                -0.367839   \n",
       "6                                 0.327711   \n",
       "7                                 1.564246   \n",
       "8                                -0.483764   \n",
       "9                                 0.018578   \n",
       "10                               -0.329198   \n",
       "11                               -0.561048   \n",
       "12                                1.448321   \n",
       "13                               -0.174631   \n",
       "14                               -0.715615   \n",
       "15                               -0.754256   \n",
       "16                                0.057219   \n",
       "17                                0.830053   \n",
       "18                               -0.058706   \n",
       "19                                0.057219   \n",
       "20                               -0.754256   \n",
       "21                               -0.986106   \n",
       "22                               -0.870181   \n",
       "23                               -0.483764   \n",
       "24                                0.907337   \n",
       "25                                0.714128   \n",
       "26                               -0.522406   \n",
       "27                               -0.213272   \n",
       "28                               -0.097347   \n",
       "29                                0.598203   \n",
       "30                               -0.483764   \n",
       "31                               -0.870181   \n",
       "32                               -0.522406   \n",
       "33                               -0.908823   \n",
       "34                               -0.638331   \n",
       "35                               -0.135989   \n",
       "36                                0.057219   \n",
       "37                                0.636845   \n",
       "38                                0.520920   \n",
       "39                               -0.715615   \n",
       "40                               -0.792898   \n",
       "41                               -0.406481   \n",
       "42                               -0.290556   \n",
       "43                               -0.367839   \n",
       "44                               -0.097347   \n",
       "45                               -0.599689   \n",
       "46                                1.332396   \n",
       "47                               -0.908823   \n",
       "48                               -0.135989   \n",
       "49                                5.196566   \n",
       "50                               -0.213272   \n",
       "51                                0.289070   \n",
       "52                               -0.213272   \n",
       "\n",
       "   Female incarceration rate: Native Hawaiian and other Pacific Islander alone  \\\n",
       "1                                           -0.368844                            \n",
       "2                                           -0.214631                            \n",
       "3                                           -0.329715                            \n",
       "4                                           -0.368844                            \n",
       "5                                           -0.113358                            \n",
       "6                                            0.031648                            \n",
       "7                                            0.793503                            \n",
       "8                                            1.746397                            \n",
       "9                                           -0.532263                            \n",
       "10                                          -0.338922                            \n",
       "11                                          -0.458609                            \n",
       "12                                           0.984542                            \n",
       "13                                           0.330866                            \n",
       "14                                          -0.297492                            \n",
       "15                                          -0.532263                            \n",
       "16                                           0.185860                            \n",
       "17                                          -0.532263                            \n",
       "18                                           0.054665                            \n",
       "19                                          -0.532263                            \n",
       "20                                          -0.532263                            \n",
       "21                                          -0.532263                            \n",
       "22                                           1.967358                            \n",
       "23                                          -0.357335                            \n",
       "24                                           0.109905                            \n",
       "25                                          -0.532263                            \n",
       "26                                          -0.239950                            \n",
       "27                                          -0.532263                            \n",
       "28                                          -0.157089                            \n",
       "29                                          -0.424084                            \n",
       "30                                          -0.532263                            \n",
       "31                                           0.549525                            \n",
       "32                                          -0.260665                            \n",
       "33                                          -0.426385                            \n",
       "34                                          -0.242251                            \n",
       "35                                           5.606307                            \n",
       "36                                          -0.532263                            \n",
       "37                                          -0.101849                            \n",
       "38                                          -0.426385                            \n",
       "39                                          -0.279078                            \n",
       "40                                          -0.532263                            \n",
       "41                                          -0.348128                            \n",
       "42                                          -0.532263                            \n",
       "43                                          -0.401067                            \n",
       "44                                          -0.382654                            \n",
       "45                                          -0.219235                            \n",
       "46                                          -0.532263                            \n",
       "47                                          -0.302095                            \n",
       "48                                          -0.394162                            \n",
       "49                                           1.714173                            \n",
       "50                                           1.362017                            \n",
       "51                                          -0.532263                            \n",
       "52                                          -0.532263                            \n",
       "\n",
       "    Female incarceration rate: Some other race alone  \\\n",
       "1                                          -0.244581   \n",
       "2                                          -0.250028   \n",
       "3                                           0.991837   \n",
       "4                                          -0.326283   \n",
       "5                                          -0.026710   \n",
       "6                                          -0.113859   \n",
       "7                                           1.449366   \n",
       "8                                          -0.527813   \n",
       "9                                          -0.375304   \n",
       "10                                         -0.162880   \n",
       "11                                         -0.358963   \n",
       "12                                          0.430819   \n",
       "13                                          0.349117   \n",
       "14                                         -0.435218   \n",
       "15                                         -0.157433   \n",
       "16                                         -0.375304   \n",
       "17                                         -0.478792   \n",
       "18                                         -0.097518   \n",
       "19                                         -0.239134   \n",
       "20                                         -0.565941   \n",
       "21                                         -0.451559   \n",
       "22                                         -0.342623   \n",
       "23                                         -0.418878   \n",
       "24                                          0.191161   \n",
       "25                                         -0.348070   \n",
       "26                                         -0.288155   \n",
       "27                                          1.024517   \n",
       "28                                         -0.255475   \n",
       "29                                         -0.435218   \n",
       "30                                          0.180267   \n",
       "31                                         -0.315389   \n",
       "32                                          0.087672   \n",
       "33                                         -0.364410   \n",
       "34                                         -0.473346   \n",
       "35                                         -0.206454   \n",
       "36                                         -0.173773   \n",
       "37                                         -0.021263   \n",
       "38                                         -0.375304   \n",
       "39                                          0.501627   \n",
       "40                                         -0.277262   \n",
       "41                                         -0.348070   \n",
       "42                                          0.474393   \n",
       "43                                         -0.391644   \n",
       "44                                          0.027758   \n",
       "45                                          0.000524   \n",
       "46                                         -0.565941   \n",
       "47                                         -0.418878   \n",
       "48                                         -0.277262   \n",
       "49                                          6.493079   \n",
       "50                                         -0.391644   \n",
       "51                                          0.223841   \n",
       "52                                         -0.549600   \n",
       "\n",
       "    Female incarceration rate: Two or more races  \\\n",
       "1                                       1.623662   \n",
       "2                                       2.764198   \n",
       "3                                       0.991744   \n",
       "4                                       0.513952   \n",
       "5                                      -0.287505   \n",
       "6                                       0.066986   \n",
       "7                                       1.469536   \n",
       "8                                      -0.934836   \n",
       "9                                       2.132279   \n",
       "10                                     -0.179617   \n",
       "11                                     -0.518695   \n",
       "12                                     -0.087141   \n",
       "13                                      0.745142   \n",
       "14                                     -0.919423   \n",
       "15                                     -0.503282   \n",
       "16                                     -0.195029   \n",
       "17                                     -0.302918   \n",
       "18                                      0.683491   \n",
       "19                                      0.282763   \n",
       "20                                     -0.873185   \n",
       "21                                     -0.981074   \n",
       "22                                     -0.981074   \n",
       "23                                     -0.734472   \n",
       "24                                      1.068807   \n",
       "25                                     -0.318330   \n",
       "26                                     -0.765297   \n",
       "27                                      0.298175   \n",
       "28                                      0.020748   \n",
       "29                                     -0.164204   \n",
       "30                                     -0.025490   \n",
       "31                                     -0.410806   \n",
       "32                                     -0.549520   \n",
       "33                                     -1.104375   \n",
       "34                                     -1.088962   \n",
       "35                                      0.251937   \n",
       "36                                     -0.564933   \n",
       "37                                      0.837618   \n",
       "38                                     -0.518695   \n",
       "39                                     -0.626583   \n",
       "40                                     -0.965661   \n",
       "41                                     -1.150613   \n",
       "42                                      0.467714   \n",
       "43                                     -0.703646   \n",
       "44                                     -0.364568   \n",
       "45                                      0.390651   \n",
       "46                                      0.375239   \n",
       "47                                     -1.011899   \n",
       "48                                     -0.472457   \n",
       "49                                      2.764198   \n",
       "50                                     -0.688234   \n",
       "51                                      2.471358   \n",
       "52                                     -1.227676   \n",
       "\n",
       "    Female incarceration rate: Hispanic or Latino  \\\n",
       "1                                        1.287841   \n",
       "2                                        0.467418   \n",
       "3                                        0.609074   \n",
       "4                                       -0.353004   \n",
       "5                                       -0.217251   \n",
       "6                                        0.414297   \n",
       "7                                        1.116673   \n",
       "8                                       -0.825190   \n",
       "9                                       -0.282176   \n",
       "10                                      -0.358906   \n",
       "11                                      -0.394320   \n",
       "12                                       0.136888   \n",
       "13                                       0.520539   \n",
       "14                                      -0.589097   \n",
       "15                                      -0.412027   \n",
       "16                                      -0.293981   \n",
       "17                                      -0.217251   \n",
       "18                                       0.036549   \n",
       "19                                      -0.146423   \n",
       "20                                      -0.648120   \n",
       "21                                      -0.707143   \n",
       "22                                      -0.335297   \n",
       "23                                      -0.553683   \n",
       "24                                       1.028139   \n",
       "25                                      -0.199544   \n",
       "26                                      -0.140521   \n",
       "27                                       0.142791   \n",
       "28                                       0.071963   \n",
       "29                                      -0.447441   \n",
       "30                                      -0.217251   \n",
       "31                                      -0.488757   \n",
       "32                                       0.172302   \n",
       "33                                      -0.577292   \n",
       "34                                      -0.671729   \n",
       "35                                      -0.205446   \n",
       "36                                      -0.199544   \n",
       "37                                       0.048354   \n",
       "38                                      -0.376613   \n",
       "39                                      -0.010670   \n",
       "40                                      -0.618608   \n",
       "41                                      -0.524171   \n",
       "42                                       0.125084   \n",
       "43                                      -0.518269   \n",
       "44                                      -0.016572   \n",
       "45                                       0.272642   \n",
       "46                                       0.296251   \n",
       "47                                      -0.612706   \n",
       "48                                      -0.229055   \n",
       "49                                       6.281202   \n",
       "50                                      -0.512367   \n",
       "51                                       0.603172   \n",
       "52                                      -0.730752   \n",
       "\n",
       "    Female incarceration rate: White alone, not Hispanic or Latino  \n",
       "1                                            1.438526               \n",
       "2                                            0.079857               \n",
       "3                                            0.807032               \n",
       "4                                            0.807032               \n",
       "5                                           -0.188050               \n",
       "6                                           -0.092369               \n",
       "7                                           -0.723863               \n",
       "8                                           -0.628182               \n",
       "9                                           -1.546719               \n",
       "10                                           0.979257               \n",
       "11                                           1.132347               \n",
       "12                                           1.342845               \n",
       "13                                           1.247164               \n",
       "14                                          -0.972633               \n",
       "15                                           0.232946               \n",
       "16                                          -0.589910               \n",
       "17                                          -0.609046               \n",
       "18                                           1.859522               \n",
       "19                                           0.826168               \n",
       "20                                          -1.125723               \n",
       "21                                          -0.876952               \n",
       "22                                          -1.336221               \n",
       "23                                          -1.412765               \n",
       "24                                          -1.068314               \n",
       "25                                           0.921849               \n",
       "26                                          -0.015824               \n",
       "27                                          -0.379412               \n",
       "28                                          -0.857816               \n",
       "29                                           1.017530               \n",
       "30                                          -0.838680               \n",
       "31                                          -1.068314               \n",
       "32                                           1.189755               \n",
       "33                                          -1.355357               \n",
       "34                                          -0.628182               \n",
       "35                                          -1.183131               \n",
       "36                                          -0.149777               \n",
       "37                                           1.572479               \n",
       "38                                          -0.015824               \n",
       "39                                          -0.570773               \n",
       "40                                          -1.508446               \n",
       "41                                          -0.226322               \n",
       "42                                          -0.168914               \n",
       "43                                           0.921849               \n",
       "44                                           1.687296               \n",
       "45                                          -0.054097               \n",
       "46                                          -1.297948               \n",
       "47                                           0.232946               \n",
       "48                                          -0.455956               \n",
       "49                                           1.802113               \n",
       "50                                          -0.475093               \n",
       "51                                           0.845304               \n",
       "52                                           1.476798               \n",
       "\n",
       "[52 rows x 61 columns]"
      ]
     },
     "execution_count": 412,
     "metadata": {},
     "output_type": "execute_result"
    }
   ],
   "source": [
    "processData(data_t)"
   ]
  },
  {
   "cell_type": "code",
   "execution_count": 413,
   "metadata": {},
   "outputs": [
    {
     "name": "stderr",
     "output_type": "stream",
     "text": [
      "/var/folders/yn/4nkcf4bx0tl9zps6_x1krghm0000gn/T/ipykernel_46979/3387723368.py:155: DeprecationWarning:\n",
      "\n",
      "`np.bool` is a deprecated alias for the builtin `bool`. To silence this warning, use `bool` by itself. Doing this will not modify any behavior and is safe. If you specifically wanted the numpy scalar type, use `np.bool_` here.\n",
      "Deprecated in NumPy 1.20; for more details and guidance: https://numpy.org/devdocs/release/1.20.0-notes.html#deprecations\n",
      "\n"
     ]
    },
    {
     "data": {
      "image/png": "[encoded data removed]",
      "text/plain": [
       "<Figure size 1000x700 with 2 Axes>"
      ]
     },
     "metadata": {},
     "output_type": "display_data"
    }
   ],
   "source": [
    "correlationMap(processData(data_t))"
   ]
  },
  {
   "cell_type": "code",
   "execution_count": 414,
   "metadata": {},
   "outputs": [],
   "source": [
    "# Data frames that onyl consider Incarceration rates\n",
    "rate_df_whole =processData(data_t).filter(regex='^(?!.*(Correctional)).*') \n",
    "rate_df_total = rate_df_whole.filter(regex='^(?!.*([Mm]ale)).*') # Total rates\n",
    "rate_df_male = rate_df_whole.filter(regex='.*(Geography|Male).*') # Male rates\n",
    "rate_df_female = rate_df_whole.filter(regex='.*(Geography|[Fem]ale).*') # Female rates\n",
    "\n"
   ]
  },
  {
   "cell_type": "code",
   "execution_count": 415,
   "metadata": {},
   "outputs": [
    {
     "data": {
      "image/png": "[encoded data removed]",
      "text/plain": [
       "<Figure size 640x480 with 1 Axes>"
      ]
     },
     "metadata": {},
     "output_type": "display_data"
    }
   ],
   "source": [
    "elbow_method(rate_df_whole, 20) ## Used to determine best k for K-means"
   ]
  },
  {
   "cell_type": "code",
   "execution_count": 416,
   "metadata": {},
   "outputs": [],
   "source": [
    "n=4"
   ]
  },
  {
   "cell_type": "code",
   "execution_count": 417,
   "metadata": {},
   "outputs": [],
   "source": [
    "# Get graphs with State abbrevations assigned for each\n",
    "total_rate_fig = stateClusterGraph(runKmeans(rate_df_total, getX(rate_df_total), n)) \n",
    "male_rate_fig= stateClusterGraph(runKmeans(rate_df_male, getX(rate_df_male), n))\n",
    "female_rate_fig = stateClusterGraph(runKmeans(rate_df_female, getX(rate_df_female), n))"
   ]
  },
  {
   "cell_type": "code",
   "execution_count": 418,
   "metadata": {},
   "outputs": [
    {
     "data": {
      "application/vnd.plotly.v1+json": {
       "config": {
        "plotlyServerURL": "https://plot.ly"
       },
       "data": [
        {
         "coloraxis": "coloraxis",
         "geo": "geo",
         "hovertemplate": "State Abbreviation=%{location}<br>Cluster=%{z}<extra></extra>",
         "locationmode": "USA-states",
         "locations": [
          "AL",
          "AK",
          "AZ",
          "AR",
          "CA",
          "CO",
          "CT",
          "DE",
          null,
          "FL",
          "GA",
          "HI",
          "ID",
          "IL",
          "IN",
          "IA",
          "KS",
          "KY",
          "LA",
          "ME",
          "MD",
          "MA",
          "MI",
          "MN",
          "MS",
          "MO",
          "MT",
          "NE",
          "NV",
          "NH",
          "NJ",
          "NM",
          "NY",
          "NC",
          "ND",
          "OH",
          "OK",
          "OR",
          "PA",
          "RI",
          "SC",
          "SD",
          "TN",
          "TX",
          "UT",
          "VT",
          "VA",
          "WA",
          "WV",
          "WI",
          "WY",
          null
         ],
         "name": "",
         "type": "choropleth",
         "z": [
          0,
          0,
          3,
          2,
          0,
          2,
          1,
          0,
          1,
          2,
          2,
          0,
          2,
          1,
          0,
          1,
          0,
          2,
          2,
          1,
          1,
          1,
          0,
          1,
          3,
          0,
          0,
          1,
          2,
          1,
          1,
          2,
          1,
          0,
          1,
          0,
          2,
          0,
          0,
          1,
          0,
          3,
          0,
          2,
          0,
          1,
          0,
          0,
          3,
          0,
          0,
          0
         ]
        },
        {
         "coloraxis": "coloraxis",
         "geo": "geo2",
         "hovertemplate": "State Abbreviation=%{location}<br>Cluster=%{z}<extra></extra>",
         "locationmode": "USA-states",
         "locations": [
          "AL",
          "AK",
          "AZ",
          "AR",
          "CA",
          "CO",
          "CT",
          "DE",
          null,
          "FL",
          "GA",
          "HI",
          "ID",
          "IL",
          "IN",
          "IA",
          "KS",
          "KY",
          "LA",
          "ME",
          "MD",
          "MA",
          "MI",
          "MN",
          "MS",
          "MO",
          "MT",
          "NE",
          "NV",
          "NH",
          "NJ",
          "NM",
          "NY",
          "NC",
          "ND",
          "OH",
          "OK",
          "OR",
          "PA",
          "RI",
          "SC",
          "SD",
          "TN",
          "TX",
          "UT",
          "VT",
          "VA",
          "WA",
          "WV",
          "WI",
          "WY",
          null
         ],
         "name": "",
         "type": "choropleth",
         "z": [
          1,
          1,
          0,
          3,
          3,
          3,
          1,
          1,
          1,
          3,
          3,
          1,
          3,
          1,
          3,
          1,
          3,
          3,
          3,
          1,
          1,
          1,
          1,
          1,
          2,
          1,
          3,
          1,
          3,
          1,
          1,
          3,
          1,
          1,
          1,
          1,
          3,
          3,
          3,
          1,
          1,
          0,
          1,
          3,
          1,
          1,
          1,
          1,
          0,
          0,
          3,
          1
         ]
        },
        {
         "coloraxis": "coloraxis",
         "geo": "geo3",
         "hovertemplate": "State Abbreviation=%{location}<br>Cluster=%{z}<extra></extra>",
         "locationmode": "USA-states",
         "locations": [
          "AL",
          "AK",
          "AZ",
          "AR",
          "CA",
          "CO",
          "CT",
          "DE",
          null,
          "FL",
          "GA",
          "HI",
          "ID",
          "IL",
          "IN",
          "IA",
          "KS",
          "KY",
          "LA",
          "ME",
          "MD",
          "MA",
          "MI",
          "MN",
          "MS",
          "MO",
          "MT",
          "NE",
          "NV",
          "NH",
          "NJ",
          "NM",
          "NY",
          "NC",
          "ND",
          "OH",
          "OK",
          "OR",
          "PA",
          "RI",
          "SC",
          "SD",
          "TN",
          "TX",
          "UT",
          "VT",
          "VA",
          "WA",
          "WV",
          "WI",
          "WY",
          null
         ],
         "name": "",
         "type": "choropleth",
         "z": [
          3,
          3,
          3,
          3,
          0,
          2,
          2,
          0,
          0,
          3,
          3,
          3,
          3,
          0,
          0,
          2,
          0,
          3,
          3,
          0,
          0,
          0,
          0,
          2,
          3,
          0,
          2,
          2,
          3,
          2,
          0,
          3,
          0,
          0,
          2,
          0,
          3,
          0,
          0,
          0,
          0,
          2,
          3,
          3,
          3,
          0,
          0,
          0,
          1,
          2,
          3,
          0
         ]
        }
       ],
       "layout": {
        "annotations": [
         {
          "font": {
           "size": 16
          },
          "showarrow": false,
          "text": "Total Rate",
          "x": 0.14444444444444446,
          "xanchor": "center",
          "xref": "paper",
          "y": 1,
          "yanchor": "bottom",
          "yref": "paper"
         },
         {
          "font": {
           "size": 16
          },
          "showarrow": false,
          "text": "Male Rate",
          "x": 0.5,
          "xanchor": "center",
          "xref": "paper",
          "y": 1,
          "yanchor": "bottom",
          "yref": "paper"
         },
         {
          "font": {
           "size": 16
          },
          "showarrow": false,
          "text": "Female Rate",
          "x": 0.8555555555555556,
          "xanchor": "center",
          "xref": "paper",
          "y": 1,
          "yanchor": "bottom",
          "yref": "paper"
         }
        ],
        "geo": {
         "domain": {
          "x": [
           0,
           0.2888888888888889
          ],
          "y": [
           0,
           1
          ]
         },
         "scope": "usa"
        },
        "geo2": {
         "domain": {
          "x": [
           0.35555555555555557,
           0.6444444444444445
          ],
          "y": [
           0,
           1
          ]
         },
         "scope": "usa"
        },
        "geo3": {
         "domain": {
          "x": [
           0.7111111111111111,
           1
          ],
          "y": [
           0,
           1
          ]
         },
         "scope": "usa"
        },
        "template": {
         "data": {
          "bar": [
           {
            "error_x": {
             "color": "#2a3f5f"
            },
            "error_y": {
             "color": "#2a3f5f"
            },
            "marker": {
             "line": {
              "color": "#E5ECF6",
              "width": 0.5
             },
             "pattern": {
              "fillmode": "overlay",
              "size": 10,
              "solidity": 0.2
             }
            },
            "type": "bar"
           }
          ],
          "barpolar": [
           {
            "marker": {
             "line": {
              "color": "#E5ECF6",
              "width": 0.5
             },
             "pattern": {
              "fillmode": "overlay",
              "size": 10,
              "solidity": 0.2
             }
            },
            "type": "barpolar"
           }
          ],
          "carpet": [
           {
            "aaxis": {
             "endlinecolor": "#2a3f5f",
             "gridcolor": "white",
             "linecolor": "white",
             "minorgridcolor": "white",
             "startlinecolor": "#2a3f5f"
            },
            "baxis": {
             "endlinecolor": "#2a3f5f",
             "gridcolor": "white",
             "linecolor": "white",
             "minorgridcolor": "white",
             "startlinecolor": "#2a3f5f"
            },
            "type": "carpet"
           }
          ],
          "choropleth": [
           {
            "colorbar": {
             "outlinewidth": 0,
             "ticks": ""
            },
            "type": "choropleth"
           }
          ],
          "contour": [
           {
            "colorbar": {
             "outlinewidth": 0,
             "ticks": ""
            },
            "colorscale": [
             [
              0,
              "#0d0887"
             ],
             [
              0.1111111111111111,
              "#46039f"
             ],
             [
              0.2222222222222222,
              "#7201a8"
             ],
             [
              0.3333333333333333,
              "#9c179e"
             ],
             [
              0.4444444444444444,
              "#bd3786"
             ],
             [
              0.5555555555555556,
              "#d8576b"
             ],
             [
              0.6666666666666666,
              "#ed7953"
             ],
             [
              0.7777777777777778,
              "#fb9f3a"
             ],
             [
              0.8888888888888888,
              "#fdca26"
             ],
             [
              1,
              "#f0f921"
             ]
            ],
            "type": "contour"
           }
          ],
          "contourcarpet": [
           {
            "colorbar": {
             "outlinewidth": 0,
             "ticks": ""
            },
            "type": "contourcarpet"
           }
          ],
          "heatmap": [
           {
            "colorbar": {
             "outlinewidth": 0,
             "ticks": ""
            },
            "colorscale": [
             [
              0,
              "#0d0887"
             ],
             [
              0.1111111111111111,
              "#46039f"
             ],
             [
              0.2222222222222222,
              "#7201a8"
             ],
             [
              0.3333333333333333,
              "#9c179e"
             ],
             [
              0.4444444444444444,
              "#bd3786"
             ],
             [
              0.5555555555555556,
              "#d8576b"
             ],
             [
              0.6666666666666666,
              "#ed7953"
             ],
             [
              0.7777777777777778,
              "#fb9f3a"
             ],
             [
              0.8888888888888888,
              "#fdca26"
             ],
             [
              1,
              "#f0f921"
             ]
            ],
            "type": "heatmap"
           }
          ],
          "heatmapgl": [
           {
            "colorbar": {
             "outlinewidth": 0,
             "ticks": ""
            },
            "colorscale": [
             [
              0,
              "#0d0887"
             ],
             [
              0.1111111111111111,
              "#46039f"
             ],
             [
              0.2222222222222222,
              "#7201a8"
             ],
             [
              0.3333333333333333,
              "#9c179e"
             ],
             [
              0.4444444444444444,
              "#bd3786"
             ],
             [
              0.5555555555555556,
              "#d8576b"
             ],
             [
              0.6666666666666666,
              "#ed7953"
             ],
             [
              0.7777777777777778,
              "#fb9f3a"
             ],
             [
              0.8888888888888888,
              "#fdca26"
             ],
             [
              1,
              "#f0f921"
             ]
            ],
            "type": "heatmapgl"
           }
          ],
          "histogram": [
           {
            "marker": {
             "pattern": {
              "fillmode": "overlay",
              "size": 10,
              "solidity": 0.2
             }
            },
            "type": "histogram"
           }
          ],
          "histogram2d": [
           {
            "colorbar": {
             "outlinewidth": 0,
             "ticks": ""
            },
            "colorscale": [
             [
              0,
              "#0d0887"
             ],
             [
              0.1111111111111111,
              "#46039f"
             ],
             [
              0.2222222222222222,
              "#7201a8"
             ],
             [
              0.3333333333333333,
              "#9c179e"
             ],
             [
              0.4444444444444444,
              "#bd3786"
             ],
             [
              0.5555555555555556,
              "#d8576b"
             ],
             [
              0.6666666666666666,
              "#ed7953"
             ],
             [
              0.7777777777777778,
              "#fb9f3a"
             ],
             [
              0.8888888888888888,
              "#fdca26"
             ],
             [
              1,
              "#f0f921"
             ]
            ],
            "type": "histogram2d"
           }
          ],
          "histogram2dcontour": [
           {
            "colorbar": {
             "outlinewidth": 0,
             "ticks": ""
            },
            "colorscale": [
             [
              0,
              "#0d0887"
             ],
             [
              0.1111111111111111,
              "#46039f"
             ],
             [
              0.2222222222222222,
              "#7201a8"
             ],
             [
              0.3333333333333333,
              "#9c179e"
             ],
             [
              0.4444444444444444,
              "#bd3786"
             ],
             [
              0.5555555555555556,
              "#d8576b"
             ],
             [
              0.6666666666666666,
              "#ed7953"
             ],
             [
              0.7777777777777778,
              "#fb9f3a"
             ],
             [
              0.8888888888888888,
              "#fdca26"
             ],
             [
              1,
              "#f0f921"
             ]
            ],
            "type": "histogram2dcontour"
           }
          ],
          "mesh3d": [
           {
            "colorbar": {
             "outlinewidth": 0,
             "ticks": ""
            },
            "type": "mesh3d"
           }
          ],
          "parcoords": [
           {
            "line": {
             "colorbar": {
              "outlinewidth": 0,
              "ticks": ""
             }
            },
            "type": "parcoords"
           }
          ],
          "pie": [
           {
            "automargin": true,
            "type": "pie"
           }
          ],
          "scatter": [
           {
            "fillpattern": {
             "fillmode": "overlay",
             "size": 10,
             "solidity": 0.2
            },
            "type": "scatter"
           }
          ],
          "scatter3d": [
           {
            "line": {
             "colorbar": {
              "outlinewidth": 0,
              "ticks": ""
             }
            },
            "marker": {
             "colorbar": {
              "outlinewidth": 0,
              "ticks": ""
             }
            },
            "type": "scatter3d"
           }
          ],
          "scattercarpet": [
           {
            "marker": {
             "colorbar": {
              "outlinewidth": 0,
              "ticks": ""
             }
            },
            "type": "scattercarpet"
           }
          ],
          "scattergeo": [
           {
            "marker": {
             "colorbar": {
              "outlinewidth": 0,
              "ticks": ""
             }
            },
            "type": "scattergeo"
           }
          ],
          "scattergl": [
           {
            "marker": {
             "colorbar": {
              "outlinewidth": 0,
              "ticks": ""
             }
            },
            "type": "scattergl"
           }
          ],
          "scattermapbox": [
           {
            "marker": {
             "colorbar": {
              "outlinewidth": 0,
              "ticks": ""
             }
            },
            "type": "scattermapbox"
           }
          ],
          "scatterpolar": [
           {
            "marker": {
             "colorbar": {
              "outlinewidth": 0,
              "ticks": ""
             }
            },
            "type": "scatterpolar"
           }
          ],
          "scatterpolargl": [
           {
            "marker": {
             "colorbar": {
              "outlinewidth": 0,
              "ticks": ""
             }
            },
            "type": "scatterpolargl"
           }
          ],
          "scatterternary": [
           {
            "marker": {
             "colorbar": {
              "outlinewidth": 0,
              "ticks": ""
             }
            },
            "type": "scatterternary"
           }
          ],
          "surface": [
           {
            "colorbar": {
             "outlinewidth": 0,
             "ticks": ""
            },
            "colorscale": [
             [
              0,
              "#0d0887"
             ],
             [
              0.1111111111111111,
              "#46039f"
             ],
             [
              0.2222222222222222,
              "#7201a8"
             ],
             [
              0.3333333333333333,
              "#9c179e"
             ],
             [
              0.4444444444444444,
              "#bd3786"
             ],
             [
              0.5555555555555556,
              "#d8576b"
             ],
             [
              0.6666666666666666,
              "#ed7953"
             ],
             [
              0.7777777777777778,
              "#fb9f3a"
             ],
             [
              0.8888888888888888,
              "#fdca26"
             ],
             [
              1,
              "#f0f921"
             ]
            ],
            "type": "surface"
           }
          ],
          "table": [
           {
            "cells": {
             "fill": {
              "color": "#EBF0F8"
             },
             "line": {
              "color": "white"
             }
            },
            "header": {
             "fill": {
              "color": "#C8D4E3"
             },
             "line": {
              "color": "white"
             }
            },
            "type": "table"
           }
          ]
         },
         "layout": {
          "annotationdefaults": {
           "arrowcolor": "#2a3f5f",
           "arrowhead": 0,
           "arrowwidth": 1
          },
          "autotypenumbers": "strict",
          "coloraxis": {
           "colorbar": {
            "outlinewidth": 0,
            "ticks": ""
           }
          },
          "colorscale": {
           "diverging": [
            [
             0,
             "#8e0152"
            ],
            [
             0.1,
             "#c51b7d"
            ],
            [
             0.2,
             "#de77ae"
            ],
            [
             0.3,
             "#f1b6da"
            ],
            [
             0.4,
             "#fde0ef"
            ],
            [
             0.5,
             "#f7f7f7"
            ],
            [
             0.6,
             "#e6f5d0"
            ],
            [
             0.7,
             "#b8e186"
            ],
            [
             0.8,
             "#7fbc41"
            ],
            [
             0.9,
             "#4d9221"
            ],
            [
             1,
             "#276419"
            ]
           ],
           "sequential": [
            [
             0,
             "#0d0887"
            ],
            [
             0.1111111111111111,
             "#46039f"
            ],
            [
             0.2222222222222222,
             "#7201a8"
            ],
            [
             0.3333333333333333,
             "#9c179e"
            ],
            [
             0.4444444444444444,
             "#bd3786"
            ],
            [
             0.5555555555555556,
             "#d8576b"
            ],
            [
             0.6666666666666666,
             "#ed7953"
            ],
            [
             0.7777777777777778,
             "#fb9f3a"
            ],
            [
             0.8888888888888888,
             "#fdca26"
            ],
            [
             1,
             "#f0f921"
            ]
           ],
           "sequentialminus": [
            [
             0,
             "#0d0887"
            ],
            [
             0.1111111111111111,
             "#46039f"
            ],
            [
             0.2222222222222222,
             "#7201a8"
            ],
            [
             0.3333333333333333,
             "#9c179e"
            ],
            [
             0.4444444444444444,
             "#bd3786"
            ],
            [
             0.5555555555555556,
             "#d8576b"
            ],
            [
             0.6666666666666666,
             "#ed7953"
            ],
            [
             0.7777777777777778,
             "#fb9f3a"
            ],
            [
             0.8888888888888888,
             "#fdca26"
            ],
            [
             1,
             "#f0f921"
            ]
           ]
          },
          "colorway": [
           "#636efa",
           "#EF553B",
           "#00cc96",
           "#ab63fa",
           "#FFA15A",
           "#19d3f3",
           "#FF6692",
           "#B6E880",
           "#FF97FF",
           "#FECB52"
          ],
          "font": {
           "color": "#2a3f5f"
          },
          "geo": {
           "bgcolor": "white",
           "lakecolor": "white",
           "landcolor": "#E5ECF6",
           "showlakes": true,
           "showland": true,
           "subunitcolor": "white"
          },
          "hoverlabel": {
           "align": "left"
          },
          "hovermode": "closest",
          "mapbox": {
           "style": "light"
          },
          "paper_bgcolor": "white",
          "plot_bgcolor": "#E5ECF6",
          "polar": {
           "angularaxis": {
            "gridcolor": "white",
            "linecolor": "white",
            "ticks": ""
           },
           "bgcolor": "#E5ECF6",
           "radialaxis": {
            "gridcolor": "white",
            "linecolor": "white",
            "ticks": ""
           }
          },
          "scene": {
           "xaxis": {
            "backgroundcolor": "#E5ECF6",
            "gridcolor": "white",
            "gridwidth": 2,
            "linecolor": "white",
            "showbackground": true,
            "ticks": "",
            "zerolinecolor": "white"
           },
           "yaxis": {
            "backgroundcolor": "#E5ECF6",
            "gridcolor": "white",
            "gridwidth": 2,
            "linecolor": "white",
            "showbackground": true,
            "ticks": "",
            "zerolinecolor": "white"
           },
           "zaxis": {
            "backgroundcolor": "#E5ECF6",
            "gridcolor": "white",
            "gridwidth": 2,
            "linecolor": "white",
            "showbackground": true,
            "ticks": "",
            "zerolinecolor": "white"
           }
          },
          "shapedefaults": {
           "line": {
            "color": "#2a3f5f"
           }
          },
          "ternary": {
           "aaxis": {
            "gridcolor": "white",
            "linecolor": "white",
            "ticks": ""
           },
           "baxis": {
            "gridcolor": "white",
            "linecolor": "white",
            "ticks": ""
           },
           "bgcolor": "#E5ECF6",
           "caxis": {
            "gridcolor": "white",
            "linecolor": "white",
            "ticks": ""
           }
          },
          "title": {
           "x": 0.05
          },
          "xaxis": {
           "automargin": true,
           "gridcolor": "white",
           "linecolor": "white",
           "ticks": "",
           "title": {
            "standoff": 15
           },
           "zerolinecolor": "white",
           "zerolinewidth": 2
          },
          "yaxis": {
           "automargin": true,
           "gridcolor": "white",
           "linecolor": "white",
           "ticks": "",
           "title": {
            "standoff": 15
           },
           "zerolinecolor": "white",
           "zerolinewidth": 2
          }
         }
        },
        "title": {
         "text": "Clusters by State"
        }
       }
      }
     },
     "metadata": {},
     "output_type": "display_data"
    }
   ],
   "source": [
    "# Make 3 subplots for \n",
    "# Create a 1x3 grid of subplots with titles and a geo subplot type\n",
    "fig = make_subplots(\n",
    "    rows=1,\n",
    "    cols=3,\n",
    "    subplot_titles=('Total Rate', 'Male Rate', 'Female Rate'),\n",
    "    specs=[[{'type': 'choropleth'}, {'type': 'choropleth'}, {'type': 'choropleth'}]]\n",
    ")\n",
    "\n",
    "# Add your figures as subplots\n",
    "fig.add_trace(total_rate_fig.data[0], row=1, col=1)\n",
    "fig.add_trace(male_rate_fig.data[0], row=1, col=2)\n",
    "fig.add_trace(female_rate_fig.data[0], row=1, col=3)\n",
    "\n",
    "# Update the geo attribute of each subplot to set the scope to 'usa'\n",
    "fig.update_geos(scope='usa')\n",
    "\n",
    "# Update the layout to show the subplots\n",
    "fig.update_layout(title='Clusters by State')\n",
    "\n",
    "fig.show()"
   ]
  },
  {
   "cell_type": "code",
   "execution_count": 419,
   "metadata": {},
   "outputs": [
    {
     "data": {
      "application/vnd.plotly.v1+json": {
       "config": {
        "plotlyServerURL": "https://plot.ly"
       },
       "data": [
        {
         "coloraxis": "coloraxis",
         "geo": "geo",
         "hovertemplate": "State Abbreviation=%{location}<br>Cluster=%{z}<extra></extra>",
         "locationmode": "USA-states",
         "locations": [
          "AL",
          "AK",
          "AZ",
          "AR",
          "CA",
          "CO",
          "CT",
          "DE",
          null,
          "FL",
          "GA",
          "HI",
          "ID",
          "IL",
          "IN",
          "IA",
          "KS",
          "KY",
          "LA",
          "ME",
          "MD",
          "MA",
          "MI",
          "MN",
          "MS",
          "MO",
          "MT",
          "NE",
          "NV",
          "NH",
          "NJ",
          "NM",
          "NY",
          "NC",
          "ND",
          "OH",
          "OK",
          "OR",
          "PA",
          "RI",
          "SC",
          "SD",
          "TN",
          "TX",
          "UT",
          "VT",
          "VA",
          "WA",
          "WV",
          "WI",
          "WY",
          null
         ],
         "name": "",
         "type": "choropleth",
         "z": [
          2,
          2,
          3,
          1,
          2,
          1,
          0,
          2,
          0,
          1,
          1,
          2,
          1,
          0,
          2,
          0,
          2,
          1,
          1,
          0,
          0,
          0,
          2,
          0,
          3,
          2,
          2,
          0,
          1,
          0,
          0,
          1,
          0,
          2,
          0,
          2,
          1,
          2,
          2,
          0,
          2,
          3,
          2,
          1,
          2,
          0,
          2,
          2,
          3,
          2,
          2,
          2
         ]
        }
       ],
       "layout": {
        "coloraxis": {
         "colorbar": {
          "title": {
           "text": "Cluster"
          }
         },
         "colorscale": [
          [
           0,
           "#0d0887"
          ],
          [
           0.1111111111111111,
           "#46039f"
          ],
          [
           0.2222222222222222,
           "#7201a8"
          ],
          [
           0.3333333333333333,
           "#9c179e"
          ],
          [
           0.4444444444444444,
           "#bd3786"
          ],
          [
           0.5555555555555556,
           "#d8576b"
          ],
          [
           0.6666666666666666,
           "#ed7953"
          ],
          [
           0.7777777777777778,
           "#fb9f3a"
          ],
          [
           0.8888888888888888,
           "#fdca26"
          ],
          [
           1,
           "#f0f921"
          ]
         ]
        },
        "geo": {
         "center": {},
         "domain": {
          "x": [
           0,
           1
          ],
          "y": [
           0,
           1
          ]
         },
         "scope": "usa"
        },
        "legend": {
         "tracegroupgap": 0
        },
        "template": {
         "data": {
          "bar": [
           {
            "error_x": {
             "color": "#2a3f5f"
            },
            "error_y": {
             "color": "#2a3f5f"
            },
            "marker": {
             "line": {
              "color": "#E5ECF6",
              "width": 0.5
             },
             "pattern": {
              "fillmode": "overlay",
              "size": 10,
              "solidity": 0.2
             }
            },
            "type": "bar"
           }
          ],
          "barpolar": [
           {
            "marker": {
             "line": {
              "color": "#E5ECF6",
              "width": 0.5
             },
             "pattern": {
              "fillmode": "overlay",
              "size": 10,
              "solidity": 0.2
             }
            },
            "type": "barpolar"
           }
          ],
          "carpet": [
           {
            "aaxis": {
             "endlinecolor": "#2a3f5f",
             "gridcolor": "white",
             "linecolor": "white",
             "minorgridcolor": "white",
             "startlinecolor": "#2a3f5f"
            },
            "baxis": {
             "endlinecolor": "#2a3f5f",
             "gridcolor": "white",
             "linecolor": "white",
             "minorgridcolor": "white",
             "startlinecolor": "#2a3f5f"
            },
            "type": "carpet"
           }
          ],
          "choropleth": [
           {
            "colorbar": {
             "outlinewidth": 0,
             "ticks": ""
            },
            "type": "choropleth"
           }
          ],
          "contour": [
           {
            "colorbar": {
             "outlinewidth": 0,
             "ticks": ""
            },
            "colorscale": [
             [
              0,
              "#0d0887"
             ],
             [
              0.1111111111111111,
              "#46039f"
             ],
             [
              0.2222222222222222,
              "#7201a8"
             ],
             [
              0.3333333333333333,
              "#9c179e"
             ],
             [
              0.4444444444444444,
              "#bd3786"
             ],
             [
              0.5555555555555556,
              "#d8576b"
             ],
             [
              0.6666666666666666,
              "#ed7953"
             ],
             [
              0.7777777777777778,
              "#fb9f3a"
             ],
             [
              0.8888888888888888,
              "#fdca26"
             ],
             [
              1,
              "#f0f921"
             ]
            ],
            "type": "contour"
           }
          ],
          "contourcarpet": [
           {
            "colorbar": {
             "outlinewidth": 0,
             "ticks": ""
            },
            "type": "contourcarpet"
           }
          ],
          "heatmap": [
           {
            "colorbar": {
             "outlinewidth": 0,
             "ticks": ""
            },
            "colorscale": [
             [
              0,
              "#0d0887"
             ],
             [
              0.1111111111111111,
              "#46039f"
             ],
             [
              0.2222222222222222,
              "#7201a8"
             ],
             [
              0.3333333333333333,
              "#9c179e"
             ],
             [
              0.4444444444444444,
              "#bd3786"
             ],
             [
              0.5555555555555556,
              "#d8576b"
             ],
             [
              0.6666666666666666,
              "#ed7953"
             ],
             [
              0.7777777777777778,
              "#fb9f3a"
             ],
             [
              0.8888888888888888,
              "#fdca26"
             ],
             [
              1,
              "#f0f921"
             ]
            ],
            "type": "heatmap"
           }
          ],
          "heatmapgl": [
           {
            "colorbar": {
             "outlinewidth": 0,
             "ticks": ""
            },
            "colorscale": [
             [
              0,
              "#0d0887"
             ],
             [
              0.1111111111111111,
              "#46039f"
             ],
             [
              0.2222222222222222,
              "#7201a8"
             ],
             [
              0.3333333333333333,
              "#9c179e"
             ],
             [
              0.4444444444444444,
              "#bd3786"
             ],
             [
              0.5555555555555556,
              "#d8576b"
             ],
             [
              0.6666666666666666,
              "#ed7953"
             ],
             [
              0.7777777777777778,
              "#fb9f3a"
             ],
             [
              0.8888888888888888,
              "#fdca26"
             ],
             [
              1,
              "#f0f921"
             ]
            ],
            "type": "heatmapgl"
           }
          ],
          "histogram": [
           {
            "marker": {
             "pattern": {
              "fillmode": "overlay",
              "size": 10,
              "solidity": 0.2
             }
            },
            "type": "histogram"
           }
          ],
          "histogram2d": [
           {
            "colorbar": {
             "outlinewidth": 0,
             "ticks": ""
            },
            "colorscale": [
             [
              0,
              "#0d0887"
             ],
             [
              0.1111111111111111,
              "#46039f"
             ],
             [
              0.2222222222222222,
              "#7201a8"
             ],
             [
              0.3333333333333333,
              "#9c179e"
             ],
             [
              0.4444444444444444,
              "#bd3786"
             ],
             [
              0.5555555555555556,
              "#d8576b"
             ],
             [
              0.6666666666666666,
              "#ed7953"
             ],
             [
              0.7777777777777778,
              "#fb9f3a"
             ],
             [
              0.8888888888888888,
              "#fdca26"
             ],
             [
              1,
              "#f0f921"
             ]
            ],
            "type": "histogram2d"
           }
          ],
          "histogram2dcontour": [
           {
            "colorbar": {
             "outlinewidth": 0,
             "ticks": ""
            },
            "colorscale": [
             [
              0,
              "#0d0887"
             ],
             [
              0.1111111111111111,
              "#46039f"
             ],
             [
              0.2222222222222222,
              "#7201a8"
             ],
             [
              0.3333333333333333,
              "#9c179e"
             ],
             [
              0.4444444444444444,
              "#bd3786"
             ],
             [
              0.5555555555555556,
              "#d8576b"
             ],
             [
              0.6666666666666666,
              "#ed7953"
             ],
             [
              0.7777777777777778,
              "#fb9f3a"
             ],
             [
              0.8888888888888888,
              "#fdca26"
             ],
             [
              1,
              "#f0f921"
             ]
            ],
            "type": "histogram2dcontour"
           }
          ],
          "mesh3d": [
           {
            "colorbar": {
             "outlinewidth": 0,
             "ticks": ""
            },
            "type": "mesh3d"
           }
          ],
          "parcoords": [
           {
            "line": {
             "colorbar": {
              "outlinewidth": 0,
              "ticks": ""
             }
            },
            "type": "parcoords"
           }
          ],
          "pie": [
           {
            "automargin": true,
            "type": "pie"
           }
          ],
          "scatter": [
           {
            "fillpattern": {
             "fillmode": "overlay",
             "size": 10,
             "solidity": 0.2
            },
            "type": "scatter"
           }
          ],
          "scatter3d": [
           {
            "line": {
             "colorbar": {
              "outlinewidth": 0,
              "ticks": ""
             }
            },
            "marker": {
             "colorbar": {
              "outlinewidth": 0,
              "ticks": ""
             }
            },
            "type": "scatter3d"
           }
          ],
          "scattercarpet": [
           {
            "marker": {
             "colorbar": {
              "outlinewidth": 0,
              "ticks": ""
             }
            },
            "type": "scattercarpet"
           }
          ],
          "scattergeo": [
           {
            "marker": {
             "colorbar": {
              "outlinewidth": 0,
              "ticks": ""
             }
            },
            "type": "scattergeo"
           }
          ],
          "scattergl": [
           {
            "marker": {
             "colorbar": {
              "outlinewidth": 0,
              "ticks": ""
             }
            },
            "type": "scattergl"
           }
          ],
          "scattermapbox": [
           {
            "marker": {
             "colorbar": {
              "outlinewidth": 0,
              "ticks": ""
             }
            },
            "type": "scattermapbox"
           }
          ],
          "scatterpolar": [
           {
            "marker": {
             "colorbar": {
              "outlinewidth": 0,
              "ticks": ""
             }
            },
            "type": "scatterpolar"
           }
          ],
          "scatterpolargl": [
           {
            "marker": {
             "colorbar": {
              "outlinewidth": 0,
              "ticks": ""
             }
            },
            "type": "scatterpolargl"
           }
          ],
          "scatterternary": [
           {
            "marker": {
             "colorbar": {
              "outlinewidth": 0,
              "ticks": ""
             }
            },
            "type": "scatterternary"
           }
          ],
          "surface": [
           {
            "colorbar": {
             "outlinewidth": 0,
             "ticks": ""
            },
            "colorscale": [
             [
              0,
              "#0d0887"
             ],
             [
              0.1111111111111111,
              "#46039f"
             ],
             [
              0.2222222222222222,
              "#7201a8"
             ],
             [
              0.3333333333333333,
              "#9c179e"
             ],
             [
              0.4444444444444444,
              "#bd3786"
             ],
             [
              0.5555555555555556,
              "#d8576b"
             ],
             [
              0.6666666666666666,
              "#ed7953"
             ],
             [
              0.7777777777777778,
              "#fb9f3a"
             ],
             [
              0.8888888888888888,
              "#fdca26"
             ],
             [
              1,
              "#f0f921"
             ]
            ],
            "type": "surface"
           }
          ],
          "table": [
           {
            "cells": {
             "fill": {
              "color": "#EBF0F8"
             },
             "line": {
              "color": "white"
             }
            },
            "header": {
             "fill": {
              "color": "#C8D4E3"
             },
             "line": {
              "color": "white"
             }
            },
            "type": "table"
           }
          ]
         },
         "layout": {
          "annotationdefaults": {
           "arrowcolor": "#2a3f5f",
           "arrowhead": 0,
           "arrowwidth": 1
          },
          "autotypenumbers": "strict",
          "coloraxis": {
           "colorbar": {
            "outlinewidth": 0,
            "ticks": ""
           }
          },
          "colorscale": {
           "diverging": [
            [
             0,
             "#8e0152"
            ],
            [
             0.1,
             "#c51b7d"
            ],
            [
             0.2,
             "#de77ae"
            ],
            [
             0.3,
             "#f1b6da"
            ],
            [
             0.4,
             "#fde0ef"
            ],
            [
             0.5,
             "#f7f7f7"
            ],
            [
             0.6,
             "#e6f5d0"
            ],
            [
             0.7,
             "#b8e186"
            ],
            [
             0.8,
             "#7fbc41"
            ],
            [
             0.9,
             "#4d9221"
            ],
            [
             1,
             "#276419"
            ]
           ],
           "sequential": [
            [
             0,
             "#0d0887"
            ],
            [
             0.1111111111111111,
             "#46039f"
            ],
            [
             0.2222222222222222,
             "#7201a8"
            ],
            [
             0.3333333333333333,
             "#9c179e"
            ],
            [
             0.4444444444444444,
             "#bd3786"
            ],
            [
             0.5555555555555556,
             "#d8576b"
            ],
            [
             0.6666666666666666,
             "#ed7953"
            ],
            [
             0.7777777777777778,
             "#fb9f3a"
            ],
            [
             0.8888888888888888,
             "#fdca26"
            ],
            [
             1,
             "#f0f921"
            ]
           ],
           "sequentialminus": [
            [
             0,
             "#0d0887"
            ],
            [
             0.1111111111111111,
             "#46039f"
            ],
            [
             0.2222222222222222,
             "#7201a8"
            ],
            [
             0.3333333333333333,
             "#9c179e"
            ],
            [
             0.4444444444444444,
             "#bd3786"
            ],
            [
             0.5555555555555556,
             "#d8576b"
            ],
            [
             0.6666666666666666,
             "#ed7953"
            ],
            [
             0.7777777777777778,
             "#fb9f3a"
            ],
            [
             0.8888888888888888,
             "#fdca26"
            ],
            [
             1,
             "#f0f921"
            ]
           ]
          },
          "colorway": [
           "#636efa",
           "#EF553B",
           "#00cc96",
           "#ab63fa",
           "#FFA15A",
           "#19d3f3",
           "#FF6692",
           "#B6E880",
           "#FF97FF",
           "#FECB52"
          ],
          "font": {
           "color": "#2a3f5f"
          },
          "geo": {
           "bgcolor": "white",
           "lakecolor": "white",
           "landcolor": "#E5ECF6",
           "showlakes": true,
           "showland": true,
           "subunitcolor": "white"
          },
          "hoverlabel": {
           "align": "left"
          },
          "hovermode": "closest",
          "mapbox": {
           "style": "light"
          },
          "paper_bgcolor": "white",
          "plot_bgcolor": "#E5ECF6",
          "polar": {
           "angularaxis": {
            "gridcolor": "white",
            "linecolor": "white",
            "ticks": ""
           },
           "bgcolor": "#E5ECF6",
           "radialaxis": {
            "gridcolor": "white",
            "linecolor": "white",
            "ticks": ""
           }
          },
          "scene": {
           "xaxis": {
            "backgroundcolor": "#E5ECF6",
            "gridcolor": "white",
            "gridwidth": 2,
            "linecolor": "white",
            "showbackground": true,
            "ticks": "",
            "zerolinecolor": "white"
           },
           "yaxis": {
            "backgroundcolor": "#E5ECF6",
            "gridcolor": "white",
            "gridwidth": 2,
            "linecolor": "white",
            "showbackground": true,
            "ticks": "",
            "zerolinecolor": "white"
           },
           "zaxis": {
            "backgroundcolor": "#E5ECF6",
            "gridcolor": "white",
            "gridwidth": 2,
            "linecolor": "white",
            "showbackground": true,
            "ticks": "",
            "zerolinecolor": "white"
           }
          },
          "shapedefaults": {
           "line": {
            "color": "#2a3f5f"
           }
          },
          "ternary": {
           "aaxis": {
            "gridcolor": "white",
            "linecolor": "white",
            "ticks": ""
           },
           "baxis": {
            "gridcolor": "white",
            "linecolor": "white",
            "ticks": ""
           },
           "bgcolor": "#E5ECF6",
           "caxis": {
            "gridcolor": "white",
            "linecolor": "white",
            "ticks": ""
           }
          },
          "title": {
           "x": 0.05
          },
          "xaxis": {
           "automargin": true,
           "gridcolor": "white",
           "linecolor": "white",
           "ticks": "",
           "title": {
            "standoff": 15
           },
           "zerolinecolor": "white",
           "zerolinewidth": 2
          },
          "yaxis": {
           "automargin": true,
           "gridcolor": "white",
           "linecolor": "white",
           "ticks": "",
           "title": {
            "standoff": 15
           },
           "zerolinecolor": "white",
           "zerolinewidth": 2
          }
         }
        },
        "title": {
         "text": "Clusters by State"
        }
       }
      }
     },
     "metadata": {},
     "output_type": "display_data"
    }
   ],
   "source": [
    "full  = processData(data_t)\n",
    "stateClusterGraph(runKmeans(full, getX(full), n))"
   ]
  },
  {
   "cell_type": "code",
   "execution_count": 420,
   "metadata": {},
   "outputs": [
    {
     "data": {
      "application/vnd.plotly.v1+json": {
       "config": {
        "plotlyServerURL": "https://plot.ly"
       },
       "data": [
        {
         "alignmentgroup": "True",
         "hovertemplate": "Geography=%{x}<br>Total : In Correctional Facilities for Adults=%{y}<br>Cluster=%{marker.color}<extra></extra>",
         "legendgroup": "",
         "marker": {
          "color": [
           1,
           1,
           3,
           0,
           1,
           0,
           2,
           1,
           2,
           0,
           0,
           1,
           0,
           2,
           1,
           2,
           1,
           0,
           0,
           2,
           2,
           2,
           1,
           2,
           3,
           1,
           1,
           2,
           0,
           2,
           2,
           0,
           2,
           1,
           2,
           1,
           0,
           1,
           1,
           2,
           1,
           3,
           1,
           0,
           1,
           2,
           1,
           1,
           3,
           1,
           1,
           1
          ],
          "coloraxis": "coloraxis",
          "pattern": {
           "shape": ""
          }
         },
         "name": "",
         "offsetgroup": "",
         "orientation": "v",
         "showlegend": false,
         "textposition": "auto",
         "type": "bar",
         "x": [
          "Alabama",
          "Alaska",
          "Arizona",
          "Arkansas",
          "California",
          "Colorado",
          "Connecticut",
          "Delaware",
          "District of Columbia",
          "Florida",
          "Georgia",
          "Hawaii",
          "Idaho",
          "Illinois",
          "Indiana",
          "Iowa",
          "Kansas",
          "Kentucky",
          "Louisiana",
          "Maine",
          "Maryland",
          "Massachusetts",
          "Michigan",
          "Minnesota",
          "Mississippi",
          "Missouri",
          "Montana",
          "Nebraska",
          "Nevada",
          "New Hampshire",
          "New Jersey",
          "New Mexico",
          "New York",
          "North Carolina",
          "North Dakota",
          "Ohio",
          "Oklahoma",
          "Oregon",
          "Pennsylvania",
          "Rhode Island",
          "South Carolina",
          "South Dakota",
          "Tennessee",
          "Texas",
          "Utah",
          "Vermont",
          "Virginia",
          "Washington",
          "West Virginia",
          "Wisconsin",
          "Wyoming",
          "Puerto Rico"
         ],
         "xaxis": "x",
         "y": [
          -0.04660723933019975,
          -0.730722463764818,
          0.4329254147388919,
          -0.3297998982997367,
          3.9425583950665737,
          -0.05725775793229823,
          -0.43532338434522383,
          -0.6875091422018689,
          -0.7406505993660785,
          2.272557078257531,
          1.1032227489523527,
          -0.7016974852439687,
          -0.5983781934830898,
          0.49384638114289525,
          0.0896082629303781,
          -0.5609809812089388,
          -0.4742579758262864,
          -0.04521804125166516,
          0.31236154416313705,
          -0.7386316314919416,
          -0.14844471980730842,
          -0.3541756939177569,
          0.33494064359958586,
          -0.42974806939003835,
          -0.17528402668459658,
          -0.032585600057524,
          -0.7083841586619819,
          -0.6577617806801815,
          -0.43975029555548734,
          -0.7173305942877446,
          0.016573489281553184,
          -0.477240121034874,
          0.939038058710612,
          0.32182661373821936,
          -0.7606920969790708,
          0.6089460726097474,
          -0.05694287303449706,
          -0.39620356645368987,
          0.9986624402413163,
          -0.7367793673872288,
          -0.0446438393792042,
          -0.689861517614854,
          0.06032396743486906,
          4.123969141482144,
          -0.5727243356328179,
          -0.7773254286393916,
          0.40071454195793665,
          -0.2158671332188536,
          -0.5000600148049354,
          -0.10569446427053744,
          -0.7409099163407383,
          -0.5666303867283128
         ],
         "yaxis": "y"
        }
       ],
       "layout": {
        "barmode": "relative",
        "coloraxis": {
         "colorbar": {
          "title": {
           "text": "Cluster"
          }
         },
         "colorscale": [
          [
           0,
           "#0d0887"
          ],
          [
           0.1111111111111111,
           "#46039f"
          ],
          [
           0.2222222222222222,
           "#7201a8"
          ],
          [
           0.3333333333333333,
           "#9c179e"
          ],
          [
           0.4444444444444444,
           "#bd3786"
          ],
          [
           0.5555555555555556,
           "#d8576b"
          ],
          [
           0.6666666666666666,
           "#ed7953"
          ],
          [
           0.7777777777777778,
           "#fb9f3a"
          ],
          [
           0.8888888888888888,
           "#fdca26"
          ],
          [
           1,
           "#f0f921"
          ]
         ]
        },
        "legend": {
         "tracegroupgap": 0
        },
        "margin": {
         "t": 60
        },
        "template": {
         "data": {
          "bar": [
           {
            "error_x": {
             "color": "#2a3f5f"
            },
            "error_y": {
             "color": "#2a3f5f"
            },
            "marker": {
             "line": {
              "color": "#E5ECF6",
              "width": 0.5
             },
             "pattern": {
              "fillmode": "overlay",
              "size": 10,
              "solidity": 0.2
             }
            },
            "type": "bar"
           }
          ],
          "barpolar": [
           {
            "marker": {
             "line": {
              "color": "#E5ECF6",
              "width": 0.5
             },
             "pattern": {
              "fillmode": "overlay",
              "size": 10,
              "solidity": 0.2
             }
            },
            "type": "barpolar"
           }
          ],
          "carpet": [
           {
            "aaxis": {
             "endlinecolor": "#2a3f5f",
             "gridcolor": "white",
             "linecolor": "white",
             "minorgridcolor": "white",
             "startlinecolor": "#2a3f5f"
            },
            "baxis": {
             "endlinecolor": "#2a3f5f",
             "gridcolor": "white",
             "linecolor": "white",
             "minorgridcolor": "white",
             "startlinecolor": "#2a3f5f"
            },
            "type": "carpet"
           }
          ],
          "choropleth": [
           {
            "colorbar": {
             "outlinewidth": 0,
             "ticks": ""
            },
            "type": "choropleth"
           }
          ],
          "contour": [
           {
            "colorbar": {
             "outlinewidth": 0,
             "ticks": ""
            },
            "colorscale": [
             [
              0,
              "#0d0887"
             ],
             [
              0.1111111111111111,
              "#46039f"
             ],
             [
              0.2222222222222222,
              "#7201a8"
             ],
             [
              0.3333333333333333,
              "#9c179e"
             ],
             [
              0.4444444444444444,
              "#bd3786"
             ],
             [
              0.5555555555555556,
              "#d8576b"
             ],
             [
              0.6666666666666666,
              "#ed7953"
             ],
             [
              0.7777777777777778,
              "#fb9f3a"
             ],
             [
              0.8888888888888888,
              "#fdca26"
             ],
             [
              1,
              "#f0f921"
             ]
            ],
            "type": "contour"
           }
          ],
          "contourcarpet": [
           {
            "colorbar": {
             "outlinewidth": 0,
             "ticks": ""
            },
            "type": "contourcarpet"
           }
          ],
          "heatmap": [
           {
            "colorbar": {
             "outlinewidth": 0,
             "ticks": ""
            },
            "colorscale": [
             [
              0,
              "#0d0887"
             ],
             [
              0.1111111111111111,
              "#46039f"
             ],
             [
              0.2222222222222222,
              "#7201a8"
             ],
             [
              0.3333333333333333,
              "#9c179e"
             ],
             [
              0.4444444444444444,
              "#bd3786"
             ],
             [
              0.5555555555555556,
              "#d8576b"
             ],
             [
              0.6666666666666666,
              "#ed7953"
             ],
             [
              0.7777777777777778,
              "#fb9f3a"
             ],
             [
              0.8888888888888888,
              "#fdca26"
             ],
             [
              1,
              "#f0f921"
             ]
            ],
            "type": "heatmap"
           }
          ],
          "heatmapgl": [
           {
            "colorbar": {
             "outlinewidth": 0,
             "ticks": ""
            },
            "colorscale": [
             [
              0,
              "#0d0887"
             ],
             [
              0.1111111111111111,
              "#46039f"
             ],
             [
              0.2222222222222222,
              "#7201a8"
             ],
             [
              0.3333333333333333,
              "#9c179e"
             ],
             [
              0.4444444444444444,
              "#bd3786"
             ],
             [
              0.5555555555555556,
              "#d8576b"
             ],
             [
              0.6666666666666666,
              "#ed7953"
             ],
             [
              0.7777777777777778,
              "#fb9f3a"
             ],
             [
              0.8888888888888888,
              "#fdca26"
             ],
             [
              1,
              "#f0f921"
             ]
            ],
            "type": "heatmapgl"
           }
          ],
          "histogram": [
           {
            "marker": {
             "pattern": {
              "fillmode": "overlay",
              "size": 10,
              "solidity": 0.2
             }
            },
            "type": "histogram"
           }
          ],
          "histogram2d": [
           {
            "colorbar": {
             "outlinewidth": 0,
             "ticks": ""
            },
            "colorscale": [
             [
              0,
              "#0d0887"
             ],
             [
              0.1111111111111111,
              "#46039f"
             ],
             [
              0.2222222222222222,
              "#7201a8"
             ],
             [
              0.3333333333333333,
              "#9c179e"
             ],
             [
              0.4444444444444444,
              "#bd3786"
             ],
             [
              0.5555555555555556,
              "#d8576b"
             ],
             [
              0.6666666666666666,
              "#ed7953"
             ],
             [
              0.7777777777777778,
              "#fb9f3a"
             ],
             [
              0.8888888888888888,
              "#fdca26"
             ],
             [
              1,
              "#f0f921"
             ]
            ],
            "type": "histogram2d"
           }
          ],
          "histogram2dcontour": [
           {
            "colorbar": {
             "outlinewidth": 0,
             "ticks": ""
            },
            "colorscale": [
             [
              0,
              "#0d0887"
             ],
             [
              0.1111111111111111,
              "#46039f"
             ],
             [
              0.2222222222222222,
              "#7201a8"
             ],
             [
              0.3333333333333333,
              "#9c179e"
             ],
             [
              0.4444444444444444,
              "#bd3786"
             ],
             [
              0.5555555555555556,
              "#d8576b"
             ],
             [
              0.6666666666666666,
              "#ed7953"
             ],
             [
              0.7777777777777778,
              "#fb9f3a"
             ],
             [
              0.8888888888888888,
              "#fdca26"
             ],
             [
              1,
              "#f0f921"
             ]
            ],
            "type": "histogram2dcontour"
           }
          ],
          "mesh3d": [
           {
            "colorbar": {
             "outlinewidth": 0,
             "ticks": ""
            },
            "type": "mesh3d"
           }
          ],
          "parcoords": [
           {
            "line": {
             "colorbar": {
              "outlinewidth": 0,
              "ticks": ""
             }
            },
            "type": "parcoords"
           }
          ],
          "pie": [
           {
            "automargin": true,
            "type": "pie"
           }
          ],
          "scatter": [
           {
            "fillpattern": {
             "fillmode": "overlay",
             "size": 10,
             "solidity": 0.2
            },
            "type": "scatter"
           }
          ],
          "scatter3d": [
           {
            "line": {
             "colorbar": {
              "outlinewidth": 0,
              "ticks": ""
             }
            },
            "marker": {
             "colorbar": {
              "outlinewidth": 0,
              "ticks": ""
             }
            },
            "type": "scatter3d"
           }
          ],
          "scattercarpet": [
           {
            "marker": {
             "colorbar": {
              "outlinewidth": 0,
              "ticks": ""
             }
            },
            "type": "scattercarpet"
           }
          ],
          "scattergeo": [
           {
            "marker": {
             "colorbar": {
              "outlinewidth": 0,
              "ticks": ""
             }
            },
            "type": "scattergeo"
           }
          ],
          "scattergl": [
           {
            "marker": {
             "colorbar": {
              "outlinewidth": 0,
              "ticks": ""
             }
            },
            "type": "scattergl"
           }
          ],
          "scattermapbox": [
           {
            "marker": {
             "colorbar": {
              "outlinewidth": 0,
              "ticks": ""
             }
            },
            "type": "scattermapbox"
           }
          ],
          "scatterpolar": [
           {
            "marker": {
             "colorbar": {
              "outlinewidth": 0,
              "ticks": ""
             }
            },
            "type": "scatterpolar"
           }
          ],
          "scatterpolargl": [
           {
            "marker": {
             "colorbar": {
              "outlinewidth": 0,
              "ticks": ""
             }
            },
            "type": "scatterpolargl"
           }
          ],
          "scatterternary": [
           {
            "marker": {
             "colorbar": {
              "outlinewidth": 0,
              "ticks": ""
             }
            },
            "type": "scatterternary"
           }
          ],
          "surface": [
           {
            "colorbar": {
             "outlinewidth": 0,
             "ticks": ""
            },
            "colorscale": [
             [
              0,
              "#0d0887"
             ],
             [
              0.1111111111111111,
              "#46039f"
             ],
             [
              0.2222222222222222,
              "#7201a8"
             ],
             [
              0.3333333333333333,
              "#9c179e"
             ],
             [
              0.4444444444444444,
              "#bd3786"
             ],
             [
              0.5555555555555556,
              "#d8576b"
             ],
             [
              0.6666666666666666,
              "#ed7953"
             ],
             [
              0.7777777777777778,
              "#fb9f3a"
             ],
             [
              0.8888888888888888,
              "#fdca26"
             ],
             [
              1,
              "#f0f921"
             ]
            ],
            "type": "surface"
           }
          ],
          "table": [
           {
            "cells": {
             "fill": {
              "color": "#EBF0F8"
             },
             "line": {
              "color": "white"
             }
            },
            "header": {
             "fill": {
              "color": "#C8D4E3"
             },
             "line": {
              "color": "white"
             }
            },
            "type": "table"
           }
          ]
         },
         "layout": {
          "annotationdefaults": {
           "arrowcolor": "#2a3f5f",
           "arrowhead": 0,
           "arrowwidth": 1
          },
          "autotypenumbers": "strict",
          "coloraxis": {
           "colorbar": {
            "outlinewidth": 0,
            "ticks": ""
           }
          },
          "colorscale": {
           "diverging": [
            [
             0,
             "#8e0152"
            ],
            [
             0.1,
             "#c51b7d"
            ],
            [
             0.2,
             "#de77ae"
            ],
            [
             0.3,
             "#f1b6da"
            ],
            [
             0.4,
             "#fde0ef"
            ],
            [
             0.5,
             "#f7f7f7"
            ],
            [
             0.6,
             "#e6f5d0"
            ],
            [
             0.7,
             "#b8e186"
            ],
            [
             0.8,
             "#7fbc41"
            ],
            [
             0.9,
             "#4d9221"
            ],
            [
             1,
             "#276419"
            ]
           ],
           "sequential": [
            [
             0,
             "#0d0887"
            ],
            [
             0.1111111111111111,
             "#46039f"
            ],
            [
             0.2222222222222222,
             "#7201a8"
            ],
            [
             0.3333333333333333,
             "#9c179e"
            ],
            [
             0.4444444444444444,
             "#bd3786"
            ],
            [
             0.5555555555555556,
             "#d8576b"
            ],
            [
             0.6666666666666666,
             "#ed7953"
            ],
            [
             0.7777777777777778,
             "#fb9f3a"
            ],
            [
             0.8888888888888888,
             "#fdca26"
            ],
            [
             1,
             "#f0f921"
            ]
           ],
           "sequentialminus": [
            [
             0,
             "#0d0887"
            ],
            [
             0.1111111111111111,
             "#46039f"
            ],
            [
             0.2222222222222222,
             "#7201a8"
            ],
            [
             0.3333333333333333,
             "#9c179e"
            ],
            [
             0.4444444444444444,
             "#bd3786"
            ],
            [
             0.5555555555555556,
             "#d8576b"
            ],
            [
             0.6666666666666666,
             "#ed7953"
            ],
            [
             0.7777777777777778,
             "#fb9f3a"
            ],
            [
             0.8888888888888888,
             "#fdca26"
            ],
            [
             1,
             "#f0f921"
            ]
           ]
          },
          "colorway": [
           "#636efa",
           "#EF553B",
           "#00cc96",
           "#ab63fa",
           "#FFA15A",
           "#19d3f3",
           "#FF6692",
           "#B6E880",
           "#FF97FF",
           "#FECB52"
          ],
          "font": {
           "color": "#2a3f5f"
          },
          "geo": {
           "bgcolor": "white",
           "lakecolor": "white",
           "landcolor": "#E5ECF6",
           "showlakes": true,
           "showland": true,
           "subunitcolor": "white"
          },
          "hoverlabel": {
           "align": "left"
          },
          "hovermode": "closest",
          "mapbox": {
           "style": "light"
          },
          "paper_bgcolor": "white",
          "plot_bgcolor": "#E5ECF6",
          "polar": {
           "angularaxis": {
            "gridcolor": "white",
            "linecolor": "white",
            "ticks": ""
           },
           "bgcolor": "#E5ECF6",
           "radialaxis": {
            "gridcolor": "white",
            "linecolor": "white",
            "ticks": ""
           }
          },
          "scene": {
           "xaxis": {
            "backgroundcolor": "#E5ECF6",
            "gridcolor": "white",
            "gridwidth": 2,
            "linecolor": "white",
            "showbackground": true,
            "ticks": "",
            "zerolinecolor": "white"
           },
           "yaxis": {
            "backgroundcolor": "#E5ECF6",
            "gridcolor": "white",
            "gridwidth": 2,
            "linecolor": "white",
            "showbackground": true,
            "ticks": "",
            "zerolinecolor": "white"
           },
           "zaxis": {
            "backgroundcolor": "#E5ECF6",
            "gridcolor": "white",
            "gridwidth": 2,
            "linecolor": "white",
            "showbackground": true,
            "ticks": "",
            "zerolinecolor": "white"
           }
          },
          "shapedefaults": {
           "line": {
            "color": "#2a3f5f"
           }
          },
          "ternary": {
           "aaxis": {
            "gridcolor": "white",
            "linecolor": "white",
            "ticks": ""
           },
           "baxis": {
            "gridcolor": "white",
            "linecolor": "white",
            "ticks": ""
           },
           "bgcolor": "#E5ECF6",
           "caxis": {
            "gridcolor": "white",
            "linecolor": "white",
            "ticks": ""
           }
          },
          "title": {
           "x": 0.05
          },
          "xaxis": {
           "automargin": true,
           "gridcolor": "white",
           "linecolor": "white",
           "ticks": "",
           "title": {
            "standoff": 15
           },
           "zerolinecolor": "white",
           "zerolinewidth": 2
          },
          "yaxis": {
           "automargin": true,
           "gridcolor": "white",
           "linecolor": "white",
           "ticks": "",
           "title": {
            "standoff": 15
           },
           "zerolinecolor": "white",
           "zerolinewidth": 2
          }
         }
        },
        "xaxis": {
         "anchor": "y",
         "domain": [
          0,
          1
         ],
         "title": {
          "text": "Geography"
         }
        },
        "yaxis": {
         "anchor": "x",
         "domain": [
          0,
          1
         ],
         "title": {
          "text": "Total : In Correctional Facilities for Adults"
         }
        }
       }
      }
     },
     "metadata": {},
     "output_type": "display_data"
    }
   ],
   "source": [
    "createBarChart(runKmeans(full, getX(full), n), x_axis=\"Geography\", y_axis='Total : In Correctional Facilities for Adults')\n"
   ]
  }
 ],
 "metadata": {
  "kernelspec": {
   "display_name": "machinelearning",
   "language": "python",
   "name": "python3"
  },
  "language_info": {
   "codemirror_mode": {
    "name": "ipython",
    "version": 3
   },
   "file_extension": ".py",
   "mimetype": "text/x-python",
   "name": "python",
   "nbconvert_exporter": "python",
   "pygments_lexer": "ipython3",
   "version": "3.11.0"
  },
  "orig_nbformat": 4
 },
 "nbformat": 4,
 "nbformat_minor": 2
}
