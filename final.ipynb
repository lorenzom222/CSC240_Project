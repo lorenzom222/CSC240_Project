{
 "cells": [
  {
   "cell_type": "code",
   "execution_count": 419,
   "metadata": {},
   "outputs": [],
   "source": [
    "import pandas as pd\n",
    "import numpy as np\n",
    "from sklearn.cluster import KMeans\n",
    "from sklearn.preprocessing import StandardScaler\n",
    "import matplotlib.pyplot as plt\n",
    "\n",
    "import plotly.express as px\n",
    "import plotly.graph_objs as go"
   ]
  },
  {
   "cell_type": "code",
   "execution_count": 420,
   "metadata": {},
   "outputs": [],
   "source": [
    "data_t = pd.read_csv('prison_2010.txt', delimiter='\\t', skiprows=2)\n",
    "data_t = data_t.drop(range(53,58))\n",
    "\n",
    "for col in data_t.columns:\n",
    "   if not (data_t[col].apply(lambda x: isinstance(x, str))).all():\n",
    "       continue\n",
    "   \n",
    "   if (data_t[col].apply(lambda x: isinstance(x, str)).all() & data_t[col].str.contains(',')).any():\n",
    "        try:\n",
    "            data_t[col] = data_t[col].replace('[\\$,]', '', regex=True).astype(float)\n",
    "        except AttributeError as err:\n",
    "            print([col])\n",
    "            break   \n",
    "data_t = data_t.iloc[1:, :]"
   ]
  },
  {
   "cell_type": "code",
   "execution_count": 421,
   "metadata": {},
   "outputs": [],
   "source": [
    "def processData(data, flag=False):\n",
    "    df = data.iloc[:, 2:]\n",
    "    # Create a boolean mask of NaN values\n",
    "    nan_mask = df.isnull()\n",
    "\n",
    "    # Check for any NaN values in each row\n",
    "    nan_in_row = nan_mask.any(axis=1)\n",
    "\n",
    "    # Check for any NaN values in each column\n",
    "    nan_in_col = nan_mask.any(axis=0)\n",
    "    rows_with_nans = df[nan_in_row]\n",
    "    cols_with_nans = df.loc[:, nan_in_col]\n",
    "    if flag:\n",
    "        print(\"Features Containing NaN:\", cols_with_nans)\n",
    "    df= df.drop(columns=cols_with_nans).filter(regex='^(?!.*(Population)).*') \n",
    "    return df\n",
    "\n",
    "def getX(df):\n",
    "       X = df.iloc[:, 2:]\n",
    "       return X\n",
    "\n",
    "def runKmeans(data, X, n):\n",
    "    kmeans = KMeans(n_clusters=n)\n",
    "    kmeans.fit(X)\n",
    "    cluster_data = data.copy() \n",
    "    cluster_data['Cluster'] = kmeans.labels_\n",
    "    return cluster_data\n",
    "\n",
    "\n",
    "def createBarChart(cluster_data, x_axis=\"Geography\", y_axis=\"empty\"): \n",
    "    fig = px.bar(cluster_data, x=x_axis, y=y_axis, color='Cluster')\n",
    "    fig.show()\n",
    "\n",
    "def stateClusterGraph(cluster_data):\n",
    "    state_abbreviations = {\n",
    "    'Alabama': 'AL',\n",
    "    'Alaska': 'AK',\n",
    "    'Arizona': 'AZ',\n",
    "    'Arkansas': 'AR',\n",
    "    'California': 'CA',\n",
    "    'Colorado': 'CO',\n",
    "    'Connecticut': 'CT',\n",
    "    'Delaware': 'DE',\n",
    "    'Florida': 'FL',\n",
    "    'Georgia': 'GA',\n",
    "    'Hawaii': 'HI',\n",
    "    'Idaho': 'ID',\n",
    "    'Illinois': 'IL',\n",
    "    'Indiana': 'IN',\n",
    "    'Iowa': 'IA',\n",
    "    'Kansas': 'KS',\n",
    "    'Kentucky': 'KY',\n",
    "    'Louisiana': 'LA',\n",
    "    'Maine': 'ME',\n",
    "    'Maryland': 'MD',\n",
    "    'Massachusetts': 'MA',\n",
    "    'Michigan': 'MI',\n",
    "    'Minnesota': 'MN',\n",
    "    'Mississippi': 'MS',\n",
    "    'Missouri': 'MO',\n",
    "    'Montana': 'MT',\n",
    "    'Nebraska': 'NE',\n",
    "    'Nevada': 'NV',\n",
    "    'New Hampshire': 'NH',\n",
    "    'New Jersey': 'NJ',\n",
    "    'New Mexico': 'NM',\n",
    "    'New York': 'NY',\n",
    "    'North Carolina': 'NC',\n",
    "    'North Dakota': 'ND',\n",
    "    'Ohio': 'OH',\n",
    "    'Oklahoma': 'OK',\n",
    "    'Oregon': 'OR',\n",
    "    'Pennsylvania': 'PA',\n",
    "    'Rhode Island': 'RI',\n",
    "    'South Carolina': 'SC',\n",
    "    'South Dakota': 'SD',\n",
    "    'Tennessee': 'TN',\n",
    "    'Texas': 'TX',\n",
    "    'Utah': 'UT',\n",
    "    'Vermont': 'VT',\n",
    "    'Virginia': 'VA',\n",
    "    'Washington': 'WA',\n",
    "    'West Virginia': 'WV',\n",
    "    'Wisconsin': 'WI',\n",
    "    'Wyoming': 'WY'\n",
    "    }\n",
    "    cluster_data['State Abbreviation'] = cluster_data['Geography'].map(state_abbreviations)\n",
    "\n",
    "\n",
    "    # Create a choropleth map\n",
    "    fig = px.choropleth(cluster_data, locations='State Abbreviation', locationmode='USA-states', color='Cluster', scope='usa', title='Clusters by State')\n",
    "\n",
    "    # fig.show()\n",
    "    return fig\n",
    "\n",
    "\n",
    "import matplotlib.pyplot as plt\n",
    "import pandas as pd\n",
    "from sklearn.cluster import KMeans\n",
    "\n",
    "def elbow_method(df, n):\n",
    "    # Create a new DataFrame with only the columns you want to use for clustering\n",
    "    X = df.iloc[:,1:6]\n",
    "\n",
    "    # Perform K-means clustering for different values of K\n",
    "    inertias = []\n",
    "    for k in range(1, n):\n",
    "        kmeans = KMeans(n_clusters=k, random_state=42).fit(X)\n",
    "        inertia = kmeans.inertia_\n",
    "        inertias.append(inertia)\n",
    "\n",
    "    # Plot the elbow curve to choose the optimal value of K\n",
    "    plt.plot(range(1, n), inertias, 'bx-')\n",
    "    plt.xlabel('Number of clusters (K)')\n",
    "    plt.ylabel('Inertia')\n",
    "    plt.title('Elbow Method For Optimal K')\n",
    "    plt.show()\n",
    "\n",
    "    # create dataframe for elbow plot data\n",
    "    elbow_data = pd.DataFrame({\n",
    "        'K': range(1, n),\n",
    "        'Inertia': inertias\n",
    "    })\n",
    "    elbow_data = elbow_data.set_index('K')\n",
    "\n",
    "    # print(elbow_data)\n",
    "\n",
    "    # Calculate the slope and second derivative of the inertia curve\n",
    "    slopes = [inertias[i+1] - inertias[i] for i in range(len(inertias)-1)]\n",
    "    second_derivatives = [slopes[i+1] - slopes[i] for i in range(len(slopes)-1)]\n",
    "\n",
    "    # Find the index of the maximum second derivative\n",
    "    max_index = second_derivatives.index(max(second_derivatives))\n",
    "\n",
    "    # The optimal value of K is one more than the index of the maximum second derivative\n",
    "    best_k = max_index + 2\n",
    "    print(best_k)\n",
    "\n",
    "    return df, elbow_data, inertias, best_k\n",
    "\n"
   ]
  },
  {
   "cell_type": "code",
   "execution_count": 422,
   "metadata": {},
   "outputs": [
    {
     "name": "stdout",
     "output_type": "stream",
     "text": [
      "Index(['GEOID', 'GEOID2', 'Geography',\n",
      "       'Total : In Correctional Facilities for Adults',\n",
      "       'White alone : in Correctional Facilities for Adults',\n",
      "       'Black or African American alone : in Correctional Facilities for Adults',\n",
      "       'American Indian and Alaska Native alone : in Correctional Facilities for Adults',\n",
      "       'Asian alone : in Correctional Facilities for Adults',\n",
      "       'Native Hawaiian and other Pacific Islander alone : in Correctional Facilities for Adults',\n",
      "       'Some other race alone : in Correctional Facilities for Adults',\n",
      "       'Two or more races : in Correctional Facilities for Adults',\n",
      "       'Hispanic or Latino : in Correctional Facilities for Adults',\n",
      "       'White alone, not Hispanic or Latino : in Correctional Facilities for Adults',\n",
      "       'Unnamed: 13', 'Total Population', 'Total Population: White alone',\n",
      "       'Total Population: Black or African American alone',\n",
      "       'Total Population: American Indian and Alaska Native alone',\n",
      "       'Total Population: Asian alone',\n",
      "       'Total Population: Native Hawaiian and other Pacific Islander alone',\n",
      "       'Total Population: Some other race alone',\n",
      "       'Total Population: Two or more races',\n",
      "       'Total Population: Hispanic or Latino',\n",
      "       'Total Population: White alone, not Hispanic or Latino', 'Unnamed: 24',\n",
      "       'Incarceration rate', 'Incarceration rate: White alone',\n",
      "       'Incarceration rate: Black or African American alone',\n",
      "       'Incarceration rate: American Indian and Alaska Native alone',\n",
      "       'Incarceration rate: Asian alone',\n",
      "       'Incarceration rate: Native Hawaiian and other Pacific Islander alone',\n",
      "       'Incarceration rate: Some other race alone',\n",
      "       'Incarceration rate: Two or more races',\n",
      "       'Incarceration rate: Hispanic or Latino',\n",
      "       'Incarceration rate: White alone, not Hispanic or Latino',\n",
      "       'Total Men : In Correctional Facilities for Adults',\n",
      "       'White alone: in Correctional Facilities for Adults : Men',\n",
      "       'Black or African American alone: in Correctional Facilities for Adults : Men',\n",
      "       'American Indian and Alaska Native alone: in Correctional Facilities for Adults : Men',\n",
      "       'Asian alone: in Correctional Facilities for Adults : Men',\n",
      "       'Native Hawaiian and other Pacific Islander alone: in Correctional Facilities for Adults : Men',\n",
      "       'Some other race alone: in Correctional Facilities for Adults : Men',\n",
      "       'Two or more races: in Correctional Facilities for Adults : Men',\n",
      "       'Hispanic or Latino: in Correctional Facilities for Adults : Men',\n",
      "       'White alone, not Hispanic or Latino: in Correctional Facilities for Adults : Men',\n",
      "       'Unnamed: 45', 'Total Population: Male',\n",
      "       'Total Population: White alone: Male',\n",
      "       'Total Population: Black or African American alone: Male',\n",
      "       'Total Population: American Indian and Alaska Native alone: Male',\n",
      "       'Total Population: Asian alone: Male',\n",
      "       'Total Population: Native Hawaiian and other Pacific Islander alone: Male',\n",
      "       'Total Population: Some other race alone: Male',\n",
      "       'Total Population: Two or more races: Male',\n",
      "       'Total Population: Hispanic or Latino: Male',\n",
      "       'Total Population: White alone, not Hispanic or Latino: Male',\n",
      "       'Unnamed: 56', 'Male incarceration rate',\n",
      "       'Male incarceration rate: White alone',\n",
      "       'Male incarceration rate: Black or African American alone',\n",
      "       'Male incarceration rate: American Indian and Alaska Native alone',\n",
      "       'Male incarceration rate: Asian alone',\n",
      "       'Male incarceration rate: Native Hawaiian and other Pacific Islander alone',\n",
      "       'Male incarceration rate: Some other race alone',\n",
      "       'Male incarceration rate: Two or more races',\n",
      "       'Male incarceration rate: Hispanic or Latino',\n",
      "       'Male incarceration rate: White alone, not Hispanic or Latino',\n",
      "       'Total Women : In Correctional Facilities for Adults',\n",
      "       'White alone: in Correctional Facilities for Adults : Women',\n",
      "       'Black or African American alone: in Correctional Facilities for Adults : Women',\n",
      "       'American Indian and Alaska Native alone: in Correctional Facilities for Adults : Women',\n",
      "       'Asian alone: in Correctional Facilities for Adults : Women',\n",
      "       'Native Hawaiian and other Pacific Islander alone: in Correctional Facilities for Adults : Women',\n",
      "       'Some other race alone: in Correctional Facilities for Adults : Women',\n",
      "       'Two or more races: in Correctional Facilities for Adults : Women',\n",
      "       'Hispanic or Latino: in Correctional Facilities for Adults : Women',\n",
      "       'White alone, not Hispanic or Latino: in Correctional Facilities for Adults : Women',\n",
      "       'Unnamed: 77', 'Total Population: Female',\n",
      "       'Total Population: White alone: Female',\n",
      "       'Total Population: Black or African American alone: Female',\n",
      "       'Total Population: American Indian and Alaska Native alone: Female',\n",
      "       'Total Population: Asian alone: Female',\n",
      "       'Total Population: Native Hawaiian and other Pacific Islander alone: Female',\n",
      "       'Total Population: Some other race alone: Female',\n",
      "       'Total Population: Two or more races: Female',\n",
      "       'Total Population: Hispanic or Latino: Female',\n",
      "       'Total Population: White alone, not Hispanic or Latino: Female',\n",
      "       'Unnamed: 88', 'Female incarceration rate',\n",
      "       'Female incarceration rate: White alone',\n",
      "       'Female incarceration rate: Black or African American alone',\n",
      "       'Female incarceration rate: American Indian and Alaska Native alone',\n",
      "       'Female incarceration rate: Asian alone',\n",
      "       'Female incarceration rate: Native Hawaiian and other Pacific Islander alone',\n",
      "       'Female incarceration rate: Some other race alone',\n",
      "       'Female incarceration rate: Two or more races',\n",
      "       'Female incarceration rate: Hispanic or Latino',\n",
      "       'Female incarceration rate: White alone, not Hispanic or Latino'],\n",
      "      dtype='object')\n"
     ]
    }
   ],
   "source": [
    "print(data_t.columns)"
   ]
  },
  {
   "cell_type": "code",
   "execution_count": 433,
   "metadata": {},
   "outputs": [
    {
     "data": {
      "text/plain": [
       "1    NaN\n",
       "2    NaN\n",
       "3    NaN\n",
       "4    NaN\n",
       "5    NaN\n",
       "6    NaN\n",
       "7    NaN\n",
       "8    NaN\n",
       "9    NaN\n",
       "10   NaN\n",
       "11   NaN\n",
       "12   NaN\n",
       "13   NaN\n",
       "14   NaN\n",
       "15   NaN\n",
       "16   NaN\n",
       "17   NaN\n",
       "18   NaN\n",
       "19   NaN\n",
       "20   NaN\n",
       "21   NaN\n",
       "22   NaN\n",
       "23   NaN\n",
       "24   NaN\n",
       "25   NaN\n",
       "26   NaN\n",
       "27   NaN\n",
       "28   NaN\n",
       "29   NaN\n",
       "30   NaN\n",
       "31   NaN\n",
       "32   NaN\n",
       "33   NaN\n",
       "34   NaN\n",
       "35   NaN\n",
       "36   NaN\n",
       "37   NaN\n",
       "38   NaN\n",
       "39   NaN\n",
       "40   NaN\n",
       "41   NaN\n",
       "42   NaN\n",
       "43   NaN\n",
       "44   NaN\n",
       "45   NaN\n",
       "46   NaN\n",
       "47   NaN\n",
       "48   NaN\n",
       "49   NaN\n",
       "50   NaN\n",
       "51   NaN\n",
       "52   NaN\n",
       "Name: Unnamed: 13, dtype: float64"
      ]
     },
     "execution_count": 433,
     "metadata": {},
     "output_type": "execute_result"
    }
   ],
   "source": [
    "data_t['Unnamed: 13']"
   ]
  },
  {
   "cell_type": "code",
   "execution_count": 423,
   "metadata": {},
   "outputs": [],
   "source": [
    "# Data frames that onyl consider Incarceration rates\n",
    "rate_df_whole =processData(data_t).filter(regex='^(?!.*(Correctional)).*') \n",
    "rate_df_total = rate_df_whole.filter(regex='^(?!.*([Mm]ale)).*') # Total rates\n",
    "rate_df_male = rate_df_whole.filter(regex='.*(Geography|Male).*') # Male rates\n",
    "rate_df_female = rate_df_whole.filter(regex='.*(Geography|[Fem]ale).*') # Female rates\n",
    "\n"
   ]
  },
  {
   "cell_type": "code",
   "execution_count": 424,
   "metadata": {},
   "outputs": [
    {
     "name": "stderr",
     "output_type": "stream",
     "text": [
      "/Users/lorenzomendoza/opt/anaconda3/envs/machinelearning/lib/python3.11/site-packages/sklearn/cluster/_kmeans.py:870: FutureWarning:\n",
      "\n",
      "The default value of `n_init` will change from 10 to 'auto' in 1.4. Set the value of `n_init` explicitly to suppress the warning\n",
      "\n",
      "/Users/lorenzomendoza/opt/anaconda3/envs/machinelearning/lib/python3.11/site-packages/sklearn/cluster/_kmeans.py:870: FutureWarning:\n",
      "\n",
      "The default value of `n_init` will change from 10 to 'auto' in 1.4. Set the value of `n_init` explicitly to suppress the warning\n",
      "\n",
      "/Users/lorenzomendoza/opt/anaconda3/envs/machinelearning/lib/python3.11/site-packages/sklearn/cluster/_kmeans.py:870: FutureWarning:\n",
      "\n",
      "The default value of `n_init` will change from 10 to 'auto' in 1.4. Set the value of `n_init` explicitly to suppress the warning\n",
      "\n",
      "/Users/lorenzomendoza/opt/anaconda3/envs/machinelearning/lib/python3.11/site-packages/sklearn/cluster/_kmeans.py:870: FutureWarning:\n",
      "\n",
      "The default value of `n_init` will change from 10 to 'auto' in 1.4. Set the value of `n_init` explicitly to suppress the warning\n",
      "\n",
      "/Users/lorenzomendoza/opt/anaconda3/envs/machinelearning/lib/python3.11/site-packages/sklearn/cluster/_kmeans.py:870: FutureWarning:\n",
      "\n",
      "The default value of `n_init` will change from 10 to 'auto' in 1.4. Set the value of `n_init` explicitly to suppress the warning\n",
      "\n",
      "/Users/lorenzomendoza/opt/anaconda3/envs/machinelearning/lib/python3.11/site-packages/sklearn/cluster/_kmeans.py:870: FutureWarning:\n",
      "\n",
      "The default value of `n_init` will change from 10 to 'auto' in 1.4. Set the value of `n_init` explicitly to suppress the warning\n",
      "\n",
      "/Users/lorenzomendoza/opt/anaconda3/envs/machinelearning/lib/python3.11/site-packages/sklearn/cluster/_kmeans.py:870: FutureWarning:\n",
      "\n",
      "The default value of `n_init` will change from 10 to 'auto' in 1.4. Set the value of `n_init` explicitly to suppress the warning\n",
      "\n",
      "/Users/lorenzomendoza/opt/anaconda3/envs/machinelearning/lib/python3.11/site-packages/sklearn/cluster/_kmeans.py:870: FutureWarning:\n",
      "\n",
      "The default value of `n_init` will change from 10 to 'auto' in 1.4. Set the value of `n_init` explicitly to suppress the warning\n",
      "\n",
      "/Users/lorenzomendoza/opt/anaconda3/envs/machinelearning/lib/python3.11/site-packages/sklearn/cluster/_kmeans.py:870: FutureWarning:\n",
      "\n",
      "The default value of `n_init` will change from 10 to 'auto' in 1.4. Set the value of `n_init` explicitly to suppress the warning\n",
      "\n",
      "/Users/lorenzomendoza/opt/anaconda3/envs/machinelearning/lib/python3.11/site-packages/sklearn/cluster/_kmeans.py:870: FutureWarning:\n",
      "\n",
      "The default value of `n_init` will change from 10 to 'auto' in 1.4. Set the value of `n_init` explicitly to suppress the warning\n",
      "\n",
      "/Users/lorenzomendoza/opt/anaconda3/envs/machinelearning/lib/python3.11/site-packages/sklearn/cluster/_kmeans.py:870: FutureWarning:\n",
      "\n",
      "The default value of `n_init` will change from 10 to 'auto' in 1.4. Set the value of `n_init` explicitly to suppress the warning\n",
      "\n",
      "/Users/lorenzomendoza/opt/anaconda3/envs/machinelearning/lib/python3.11/site-packages/sklearn/cluster/_kmeans.py:870: FutureWarning:\n",
      "\n",
      "The default value of `n_init` will change from 10 to 'auto' in 1.4. Set the value of `n_init` explicitly to suppress the warning\n",
      "\n",
      "/Users/lorenzomendoza/opt/anaconda3/envs/machinelearning/lib/python3.11/site-packages/sklearn/cluster/_kmeans.py:870: FutureWarning:\n",
      "\n",
      "The default value of `n_init` will change from 10 to 'auto' in 1.4. Set the value of `n_init` explicitly to suppress the warning\n",
      "\n",
      "/Users/lorenzomendoza/opt/anaconda3/envs/machinelearning/lib/python3.11/site-packages/sklearn/cluster/_kmeans.py:870: FutureWarning:\n",
      "\n",
      "The default value of `n_init` will change from 10 to 'auto' in 1.4. Set the value of `n_init` explicitly to suppress the warning\n",
      "\n",
      "/Users/lorenzomendoza/opt/anaconda3/envs/machinelearning/lib/python3.11/site-packages/sklearn/cluster/_kmeans.py:870: FutureWarning:\n",
      "\n",
      "The default value of `n_init` will change from 10 to 'auto' in 1.4. Set the value of `n_init` explicitly to suppress the warning\n",
      "\n",
      "/Users/lorenzomendoza/opt/anaconda3/envs/machinelearning/lib/python3.11/site-packages/sklearn/cluster/_kmeans.py:870: FutureWarning:\n",
      "\n",
      "The default value of `n_init` will change from 10 to 'auto' in 1.4. Set the value of `n_init` explicitly to suppress the warning\n",
      "\n",
      "/Users/lorenzomendoza/opt/anaconda3/envs/machinelearning/lib/python3.11/site-packages/sklearn/cluster/_kmeans.py:870: FutureWarning:\n",
      "\n",
      "The default value of `n_init` will change from 10 to 'auto' in 1.4. Set the value of `n_init` explicitly to suppress the warning\n",
      "\n",
      "/Users/lorenzomendoza/opt/anaconda3/envs/machinelearning/lib/python3.11/site-packages/sklearn/cluster/_kmeans.py:870: FutureWarning:\n",
      "\n",
      "The default value of `n_init` will change from 10 to 'auto' in 1.4. Set the value of `n_init` explicitly to suppress the warning\n",
      "\n",
      "/Users/lorenzomendoza/opt/anaconda3/envs/machinelearning/lib/python3.11/site-packages/sklearn/cluster/_kmeans.py:870: FutureWarning:\n",
      "\n",
      "The default value of `n_init` will change from 10 to 'auto' in 1.4. Set the value of `n_init` explicitly to suppress the warning\n",
      "\n"
     ]
    },
    {
     "data": {
      "image/png": "[encoded data removed]",
      "text/plain": [
       "<Figure size 640x480 with 1 Axes>"
      ]
     },
     "metadata": {},
     "output_type": "display_data"
    },
    {
     "name": "stdout",
     "output_type": "stream",
     "text": [
      "2\n"
     ]
    },
    {
     "data": {
      "text/plain": [
       "(               Geography  Incarceration rate Incarceration rate: White alone  \\\n",
       " 1                Alabama               859.0                             551   \n",
       " 2                 Alaska               578.0                             377   \n",
       " 3                Arizona              1047.0                             765   \n",
       " 4               Arkansas               883.0                             615   \n",
       " 5             California               688.0                             605   \n",
       " 6               Colorado               805.0                             700   \n",
       " 7            Connecticut               561.0                             256   \n",
       " 8               Delaware               717.0                             408   \n",
       " 9   District of Columbia               593.0                              88   \n",
       " 10               Florida               884.0                             608   \n",
       " 11               Georgia              1064.0                             678   \n",
       " 12                Hawaii               417.0                             415   \n",
       " 13                 Idaho               718.0                             699   \n",
       " 14              Illinois               547.0                             281   \n",
       " 15               Indiana               746.0                             561   \n",
       " 16                  Iowa               436.0                             343   \n",
       " 17                Kansas               629.0                             474   \n",
       " 18              Kentucky               947.0                             730   \n",
       " 19             Louisiana              1333.0                             701   \n",
       " 20                 Maine               277.0                             261   \n",
       " 21              Maryland               616.0                             320   \n",
       " 22         Massachusetts               373.0                             308   \n",
       " 23              Michigan               624.0                             386   \n",
       " 24             Minnesota               384.0                             250   \n",
       " 25           Mississippi              1149.0                             723   \n",
       " 26              Missouri               698.0                             503   \n",
       " 27               Montana               537.0                             424   \n",
       " 28              Nebraska               440.0                             342   \n",
       " 29                Nevada               734.0                             671   \n",
       " 30         New Hampshire               367.0                             345   \n",
       " 31            New Jersey               506.0                             275   \n",
       " 32            New Mexico               864.0                             896   \n",
       " 33              New York               486.0                             264   \n",
       " 34        North Carolina               639.0                             373   \n",
       " 35          North Dakota               370.0                             253   \n",
       " 36                  Ohio               663.0                             437   \n",
       " 37              Oklahoma              1079.0                             888   \n",
       " 38                Oregon               579.0                             543   \n",
       " 39          Pennsylvania               767.0                             398   \n",
       " 40          Rhode Island               359.0                             231   \n",
       " 41        South Carolina               890.0                             460   \n",
       " 42          South Dakota               775.0                             529   \n",
       " 43             Tennessee               738.0                             509   \n",
       " 44                 Texas              1059.0                             840   \n",
       " 45                  Utah               457.0                             418   \n",
       " 46               Vermont               254.0                             226   \n",
       " 47              Virginia               815.0                             478   \n",
       " 48            Washington               474.0                             436   \n",
       " 49         West Virginia               894.0                             643   \n",
       " 50             Wisconsin               666.0                             430   \n",
       " 51               Wyoming               631.0                             567   \n",
       " 52           Puerto Rico               348.0                             314   \n",
       " \n",
       "     Incarceration rate: Black or African American alone  \\\n",
       " 1                                              1780.0     \n",
       " 2                                              1247.0     \n",
       " 3                                              3144.0     \n",
       " 4                                              2420.0     \n",
       " 5                                              3032.0     \n",
       " 6                                              3638.0     \n",
       " 7                                              2259.0     \n",
       " 8                                              1994.0     \n",
       " 9                                              1023.0     \n",
       " 10                                             2529.0     \n",
       " 11                                             2013.0     \n",
       " 12                                             1032.0     \n",
       " 13                                             3242.0     \n",
       " 14                                             2107.0     \n",
       " 15                                             2791.0     \n",
       " 16                                             3461.0     \n",
       " 17                                             3299.0     \n",
       " 18                                             3545.0     \n",
       " 19                                             2727.0     \n",
       " 20                                             1553.0     \n",
       " 21                                             1422.0     \n",
       " 22                                             1484.0     \n",
       " 23                                             2151.0     \n",
       " 24                                             2314.0     \n",
       " 25                                             1775.0     \n",
       " 26                                             2324.0     \n",
       " 27                                             3601.0     \n",
       " 28                                             2437.0     \n",
       " 29                                             2605.0     \n",
       " 30                                             2235.0     \n",
       " 31                                             1991.0     \n",
       " 32                                             2595.0     \n",
       " 33                                             1633.0     \n",
       " 34                                             1640.0     \n",
       " 35                                             1671.0     \n",
       " 36                                             2326.0     \n",
       " 37                                             3781.0     \n",
       " 38                                             3183.0     \n",
       " 39                                             3248.0     \n",
       " 40                                             1881.0     \n",
       " 41                                             1970.0     \n",
       " 42                                             4654.0     \n",
       " 43                                             1950.0     \n",
       " 44                                             2841.0     \n",
       " 45                                             2708.0     \n",
       " 46                                             2199.0     \n",
       " 47                                             2416.0     \n",
       " 48                                             2363.0     \n",
       " 49                                             7354.0     \n",
       " 50                                             4011.0     \n",
       " 51                                             3075.0     \n",
       " 52                                              612.0     \n",
       " \n",
       "     Incarceration rate: American Indian and Alaska Native alone  \\\n",
       " 1                                               284.0             \n",
       " 2                                              1476.0             \n",
       " 3                                              2244.0             \n",
       " 4                                               751.0             \n",
       " 5                                               995.0             \n",
       " 6                                              2933.0             \n",
       " 7                                               764.0             \n",
       " 8                                               144.0             \n",
       " 9                                              1010.0             \n",
       " 10                                              589.0             \n",
       " 11                                              579.0             \n",
       " 12                                              624.0             \n",
       " 13                                             1758.0             \n",
       " 14                                              819.0             \n",
       " 15                                              888.0             \n",
       " 16                                             2246.0             \n",
       " 17                                             1190.0             \n",
       " 18                                             2490.0             \n",
       " 19                                              487.0             \n",
       " 20                                              747.0             \n",
       " 21                                              196.0             \n",
       " 22                                              981.0             \n",
       " 23                                              918.0             \n",
       " 24                                             2643.0             \n",
       " 25                                             1031.0             \n",
       " 26                                              687.0             \n",
       " 27                                             1907.0             \n",
       " 28                                             1775.0             \n",
       " 29                                             1326.0             \n",
       " 30                                             1143.0             \n",
       " 31                                              727.0             \n",
       " 32                                             1040.0             \n",
       " 33                                              697.0             \n",
       " 34                                              880.0             \n",
       " 35                                             1981.0             \n",
       " 36                                              704.0             \n",
       " 37                                             1058.0             \n",
       " 38                                             1312.0             \n",
       " 39                                             1028.0             \n",
       " 40                                              446.0             \n",
       " 41                                             1045.0             \n",
       " 42                                             2570.0             \n",
       " 43                                              665.0             \n",
       " 44                                              583.0             \n",
       " 45                                             1479.0             \n",
       " 46                                             1314.0             \n",
       " 47                                              654.0             \n",
       " 48                                             1425.0             \n",
       " 49                                             2561.0             \n",
       " 50                                             2619.0             \n",
       " 51                                             2197.0             \n",
       " 52                                             1079.0             \n",
       " \n",
       "    Incarceration rate: Asian alone  \\\n",
       " 1                              106   \n",
       " 2                              115   \n",
       " 3                              640   \n",
       " 4                              319   \n",
       " 5                               94   \n",
       " 6                              274   \n",
       " 7                               92   \n",
       " 8                               28   \n",
       " 9                              104   \n",
       " 10                              98   \n",
       " 11                             120   \n",
       " 12                             230   \n",
       " 13                             157   \n",
       " 14                              42   \n",
       " 15                              75   \n",
       " 16                             171   \n",
       " 17                             232   \n",
       " 18                             235   \n",
       " 19                             168   \n",
       " 20                             147   \n",
       " 21                              33   \n",
       " 22                              64   \n",
       " 23                              88   \n",
       " 24                             207   \n",
       " 25                             703   \n",
       " 26                              44   \n",
       " 27                             208   \n",
       " 28                             158   \n",
       " 29                             211   \n",
       " 30                              84   \n",
       " 31                              51   \n",
       " 32                             202   \n",
       " 33                              55   \n",
       " 34                             105   \n",
       " 35                              43   \n",
       " 36                             136   \n",
       " 37                             261   \n",
       " 38                             242   \n",
       " 39                             152   \n",
       " 40                             151   \n",
       " 41                             152   \n",
       " 42                             434   \n",
       " 43                             113   \n",
       " 44                             172   \n",
       " 45                             145   \n",
       " 46                              63   \n",
       " 47                              65   \n",
       " 48                             108   \n",
       " 49                             379   \n",
       " 50                             149   \n",
       " 51                             203   \n",
       " 52                             161   \n",
       " \n",
       "     Incarceration rate: Native Hawaiian and other Pacific Islander alone  \\\n",
       " 1                                                98.0                      \n",
       " 2                                               607.0                      \n",
       " 3                                              8136.0                      \n",
       " 4                                               171.0                      \n",
       " 5                                               616.0                      \n",
       " 6                                               740.0                      \n",
       " 7                                              3431.0                      \n",
       " 8                                              1000.0                      \n",
       " 9                                               331.0                      \n",
       " 10                                              293.0                      \n",
       " 11                                              603.0                      \n",
       " 12                                             1615.0                      \n",
       " 13                                              906.0                      \n",
       " 14                                              346.0                      \n",
       " 15                                              554.0                      \n",
       " 16                                              649.0                      \n",
       " 17                                              313.0                      \n",
       " 18                                              560.0                      \n",
       " 19                                              509.0                      \n",
       " 20                                              585.0                      \n",
       " 21                                              253.0                      \n",
       " 22                                              720.0                      \n",
       " 23                                              269.0                      \n",
       " 24                                              881.0                      \n",
       " 25                                             1348.0                      \n",
       " 26                                              543.0                      \n",
       " 27                                                0.0                      \n",
       " 28                                              156.0                      \n",
       " 29                                              261.0                      \n",
       " 30                                              521.0                      \n",
       " 31                                             1577.0                      \n",
       " 32                                              387.0                      \n",
       " 33                                              593.0                      \n",
       " 34                                              273.0                      \n",
       " 35                                             1563.0                      \n",
       " 36                                              320.0                      \n",
       " 37                                              824.0                      \n",
       " 38                                              448.0                      \n",
       " 39                                              630.0                      \n",
       " 40                                                0.0                      \n",
       " 41                                              665.0                      \n",
       " 42                                             1777.0                      \n",
       " 43                                              137.0                      \n",
       " 44                                              323.0                      \n",
       " 45                                              513.0                      \n",
       " 46                                                0.0                      \n",
       " 47                                              803.0                      \n",
       " 48                                              618.0                      \n",
       " 49                                             3271.0                      \n",
       " 50                                             4817.0                      \n",
       " 51                                             1405.0                      \n",
       " 52                                              270.0                      \n",
       " \n",
       "     Incarceration rate: Some other race alone  \\\n",
       " 1                                       291.0   \n",
       " 2                                       261.0   \n",
       " 3                                      1667.0   \n",
       " 4                                       554.0   \n",
       " 5                                       703.0   \n",
       " 6                                       501.0   \n",
       " 7                                      2140.0   \n",
       " 8                                       151.0   \n",
       " 9                                       406.0   \n",
       " 10                                      352.0   \n",
       " 11                                      805.0   \n",
       " 12                                     1036.0   \n",
       " 13                                      683.0   \n",
       " 14                                      470.0   \n",
       " 15                                      428.0   \n",
       " 16                                      258.0   \n",
       " 17                                      319.0   \n",
       " 18                                      875.0   \n",
       " 19                                      520.0   \n",
       " 20                                      469.0   \n",
       " 21                                      148.0   \n",
       " 22                                      384.0   \n",
       " 23                                      169.0   \n",
       " 24                                      293.0   \n",
       " 25                                     2482.0   \n",
       " 26                                      326.0   \n",
       " 27                                     2510.0   \n",
       " 28                                      244.0   \n",
       " 29                                      282.0   \n",
       " 30                                      796.0   \n",
       " 31                                      451.0   \n",
       " 32                                      561.0   \n",
       " 33                                      579.0   \n",
       " 34                                      311.0   \n",
       " 35                                     1624.0   \n",
       " 36                                      834.0   \n",
       " 37                                      971.0   \n",
       " 38                                      544.0   \n",
       " 39                                     3190.0   \n",
       " 40                                      880.0   \n",
       " 41                                      940.0   \n",
       " 42                                     1712.0   \n",
       " 43                                      440.0   \n",
       " 44                                     1077.0   \n",
       " 45                                      562.0   \n",
       " 46                                      618.0   \n",
       " 47                                      260.0   \n",
       " 48                                      199.0   \n",
       " 49                                     6357.0   \n",
       " 50                                      305.0   \n",
       " 51                                      698.0   \n",
       " 52                                      303.0   \n",
       " \n",
       "     Incarceration rate: Two or more races  \\\n",
       " 1                                   407.0   \n",
       " 2                                   704.0   \n",
       " 3                                   720.0   \n",
       " 4                                   370.0   \n",
       " 5                                   188.0   \n",
       " 6                                   359.0   \n",
       " 7                                   275.0   \n",
       " 8                                   101.0   \n",
       " 9                                   595.0   \n",
       " 10                                  277.0   \n",
       " 11                                  359.0   \n",
       " 12                                  143.0   \n",
       " 13                                  509.0   \n",
       " 14                                  147.0   \n",
       " 15                                  175.0   \n",
       " 16                                  274.0   \n",
       " 17                                  270.0   \n",
       " 18                                  605.0   \n",
       " 19                                  409.0   \n",
       " 20                                  115.0   \n",
       " 21                                   99.0   \n",
       " 22                                  112.0   \n",
       " 23                                  159.0   \n",
       " 24                                  251.0   \n",
       " 25                                 1800.0   \n",
       " 26                                  185.0   \n",
       " 27                                  244.0   \n",
       " 28                                  200.0   \n",
       " 29                                  261.0   \n",
       " 30                                  313.0   \n",
       " 31                                  313.0   \n",
       " 32                                  353.0   \n",
       " 33                                   81.0   \n",
       " 34                                  173.0   \n",
       " 35                                  262.0   \n",
       " 36                                  211.0   \n",
       " 37                                  384.0   \n",
       " 38                                  251.0   \n",
       " 39                                  386.0   \n",
       " 40                                   89.0   \n",
       " 41                                  329.0   \n",
       " 42                                  712.0   \n",
       " 43                                  263.0   \n",
       " 44                                  276.0   \n",
       " 45                                  352.0   \n",
       " 46                                  539.0   \n",
       " 47                                  137.0   \n",
       " 48                                  197.0   \n",
       " 49                                  652.0   \n",
       " 50                                  232.0   \n",
       " 51                                  663.0   \n",
       " 52                                  133.0   \n",
       " \n",
       "     Incarceration rate: Hispanic or Latino  ... Female incarceration rate  \\\n",
       " 1                                    765.0  ...                     211.0   \n",
       " 2                                    627.0  ...                     178.0   \n",
       " 3                                   1432.0  ...                     206.0   \n",
       " 4                                    913.0  ...                     165.0   \n",
       " 5                                    755.0  ...                     119.0   \n",
       " 6                                   1275.0  ...                     147.0   \n",
       " 7                                   1195.0  ...                     143.0   \n",
       " 8                                    250.0  ...                      91.0   \n",
       " 9                                    524.0  ...                     146.0   \n",
       " 10                                   532.0  ...                     168.0   \n",
       " 11                                  1093.0  ...                     184.0   \n",
       " 12                                   415.0  ...                     161.0   \n",
       " 13                                  1023.0  ...                     188.0   \n",
       " 14                                   469.0  ...                      88.0   \n",
       " 15                                   774.0  ...                     135.0   \n",
       " 16                                   688.0  ...                      97.0   \n",
       " 17                                   867.0  ...                     102.0   \n",
       " 18                                  1656.0  ...                     220.0   \n",
       " 19                                  1113.0  ...                     197.0   \n",
       " 20                                   407.0  ...                      53.0   \n",
       " 21                                   307.0  ...                      80.0   \n",
       " 22                                   919.0  ...                      51.0   \n",
       " 23                                   583.0  ...                      45.0   \n",
       " 24                                   957.0  ...                      93.0   \n",
       " 25                                  4865.0  ...                     171.0   \n",
       " 26                                   649.0  ...                     123.0   \n",
       " 27                                   994.0  ...                     137.0   \n",
       " 28                                   858.0  ...                      94.0   \n",
       " 29                                   631.0  ...                     153.0   \n",
       " 30                                   954.0  ...                      70.0   \n",
       " 31                                   609.0  ...                      75.0   \n",
       " 32                                   973.0  ...                     189.0   \n",
       " 33                                   601.0  ...                      56.0   \n",
       " 34                                   484.0  ...                      93.0   \n",
       " 35                                  1032.0  ...                      89.0   \n",
       " 36                                  1071.0  ...                     122.0   \n",
       " 37                                  1873.0  ...                     225.0   \n",
       " 38                                   808.0  ...                     111.0   \n",
       " 39                                  1996.0  ...                     110.0   \n",
       " 40                                   696.0  ...                      39.0   \n",
       " 41                                  1201.0  ...                     120.0   \n",
       " 42                                  1723.0  ...                     183.0   \n",
       " 43                                   594.0  ...                     167.0   \n",
       " 44                                   967.0  ...                     205.0   \n",
       " 45                                   830.0  ...                     123.0   \n",
       " 46                                   891.0  ...                      50.0   \n",
       " 47                                   481.0  ...                     146.0   \n",
       " 48                                   599.0  ...                      97.0   \n",
       " 49                                  4585.0  ...                     271.0   \n",
       " 50                                   617.0  ...                     111.0   \n",
       " 51                                  1051.0  ...                     179.0   \n",
       " 52                                   343.0  ...                      23.0   \n",
       " \n",
       "     Female incarceration rate: White alone  \\\n",
       " 1                                    198.0   \n",
       " 2                                    124.0   \n",
       " 3                                    166.0   \n",
       " 4                                    152.0   \n",
       " 5                                    111.0   \n",
       " 6                                    134.0   \n",
       " 7                                     91.0   \n",
       " 8                                     74.0   \n",
       " 9                                     39.0   \n",
       " 10                                   143.0   \n",
       " 11                                   166.0   \n",
       " 12                                   183.0   \n",
       " 13                                   184.0   \n",
       " 14                                    61.0   \n",
       " 15                                   122.0   \n",
       " 16                                    82.0   \n",
       " 17                                    84.0   \n",
       " 18                                   208.0   \n",
       " 19                                   153.0   \n",
       " 20                                    52.0   \n",
       " 21                                    63.0   \n",
       " 22                                    47.0   \n",
       " 23                                    38.0   \n",
       " 24                                    64.0   \n",
       " 25                                   159.0   \n",
       " 26                                   111.0   \n",
       " 27                                    91.0   \n",
       " 28                                    74.0   \n",
       " 29                                   153.0   \n",
       " 30                                    67.0   \n",
       " 31                                    56.0   \n",
       " 32                                   187.0   \n",
       " 33                                    42.0   \n",
       " 34                                    77.0   \n",
       " 35                                    49.0   \n",
       " 36                                   103.0   \n",
       " 37                                   193.0   \n",
       " 38                                   112.0   \n",
       " 39                                    83.0   \n",
       " 40                                    32.0   \n",
       " 41                                    98.0   \n",
       " 42                                   103.0   \n",
       " 43                                   157.0   \n",
       " 44                                   186.0   \n",
       " 45                                   120.0   \n",
       " 46                                    45.0   \n",
       " 47                                   119.0   \n",
       " 48                                    92.0   \n",
       " 49                                   211.0   \n",
       " 50                                    86.0   \n",
       " 51                                   162.0   \n",
       " 52                                    21.0   \n",
       " \n",
       "     Female incarceration rate: Black or African American alone  \\\n",
       " 1                                               264.0            \n",
       " 2                                               222.0            \n",
       " 3                                               541.0            \n",
       " 4                                               265.0            \n",
       " 5                                               457.0            \n",
       " 6                                               556.0            \n",
       " 7                                               425.0            \n",
       " 8                                               173.0            \n",
       " 9                                               232.0            \n",
       " 10                                              338.0            \n",
       " 11                                              259.0            \n",
       " 12                                              331.0            \n",
       " 13                                              763.0            \n",
       " 14                                              269.0            \n",
       " 15                                              301.0            \n",
       " 16                                              609.0            \n",
       " 17                                              433.0            \n",
       " 18                                              425.0            \n",
       " 19                                              298.0            \n",
       " 20                                              145.0            \n",
       " 21                                              137.0            \n",
       " 22                                              141.0            \n",
       " 23                                               86.0            \n",
       " 24                                              363.0            \n",
       " 25                                              199.0            \n",
       " 26                                              244.0            \n",
       " 27                                              855.0            \n",
       " 28                                              437.0            \n",
       " 29                                              477.0            \n",
       " 30                                              275.0            \n",
       " 31                                              216.0            \n",
       " 32                                              618.0            \n",
       " 33                                              148.0            \n",
       " 34                                              169.0            \n",
       " 35                                              285.0            \n",
       " 36                                              273.0            \n",
       " 37                                              613.0            \n",
       " 38                                              457.0            \n",
       " 39                                              328.0            \n",
       " 40                                              153.0            \n",
       " 41                                              185.0            \n",
       " 42                                              521.0            \n",
       " 43                                              253.0            \n",
       " 44                                              481.0            \n",
       " 45                                              451.0            \n",
       " 46                                              507.0            \n",
       " 47                                              313.0            \n",
       " 48                                              357.0            \n",
       " 49                                             1992.0            \n",
       " 50                                              440.0            \n",
       " 51                                              319.0            \n",
       " 52                                               57.0            \n",
       " \n",
       "     Female incarceration rate: American Indian and Alaska Native alone  \\\n",
       " 1                                                99.0                    \n",
       " 2                                               439.0                    \n",
       " 3                                               482.0                    \n",
       " 4                                               284.0                    \n",
       " 5                                               311.0                    \n",
       " 6                                               533.0                    \n",
       " 7                                               464.0                    \n",
       " 8                                                48.0                    \n",
       " 9                                               190.0                    \n",
       " 10                                              177.0                    \n",
       " 11                                              122.0                    \n",
       " 12                                              412.0                    \n",
       " 13                                              558.0                    \n",
       " 14                                              248.0                    \n",
       " 15                                              132.0                    \n",
       " 16                                              626.0                    \n",
       " 17                                              255.0                    \n",
       " 18                                              226.0                    \n",
       " 19                                              130.0                    \n",
       " 20                                              208.0                    \n",
       " 21                                               39.0                    \n",
       " 22                                              119.0                    \n",
       " 23                                              125.0                    \n",
       " 24                                             1004.0                    \n",
       " 25                                              197.0                    \n",
       " 26                                              206.0                    \n",
       " 27                                              753.0                    \n",
       " 28                                              512.0                    \n",
       " 29                                              315.0                    \n",
       " 30                                              725.0                    \n",
       " 31                                               79.0                    \n",
       " 32                                              307.0                    \n",
       " 33                                               80.0                    \n",
       " 34                                              135.0                    \n",
       " 35                                              681.0                    \n",
       " 36                                               80.0                    \n",
       " 37                                              318.0                    \n",
       " 38                                              334.0                    \n",
       " 39                                              135.0                    \n",
       " 40                                              130.0                    \n",
       " 41                                              115.0                    \n",
       " 42                                              946.0                    \n",
       " 43                                              206.0                    \n",
       " 44                                              215.0                    \n",
       " 45                                              373.0                    \n",
       " 46                                              186.0                    \n",
       " 47                                               63.0                    \n",
       " 48                                              423.0                    \n",
       " 49                                              681.0                    \n",
       " 50                                              718.0                    \n",
       " 51                                              783.0                    \n",
       " 52                                               30.0                    \n",
       " \n",
       "     Female incarceration rate: Asian alone  \\\n",
       " 1                                     25.0   \n",
       " 2                                     10.0   \n",
       " 3                                     87.0   \n",
       " 4                                     37.0   \n",
       " 5                                     23.0   \n",
       " 6                                     41.0   \n",
       " 7                                     73.0   \n",
       " 8                                     20.0   \n",
       " 9                                     33.0   \n",
       " 10                                    24.0   \n",
       " 11                                    18.0   \n",
       " 12                                    70.0   \n",
       " 13                                    28.0   \n",
       " 14                                    14.0   \n",
       " 15                                    13.0   \n",
       " 16                                    34.0   \n",
       " 17                                    54.0   \n",
       " 18                                    31.0   \n",
       " 19                                    34.0   \n",
       " 20                                    13.0   \n",
       " 21                                     7.0   \n",
       " 22                                    10.0   \n",
       " 23                                    20.0   \n",
       " 24                                    56.0   \n",
       " 25                                    51.0   \n",
       " 26                                    19.0   \n",
       " 27                                    27.0   \n",
       " 28                                    30.0   \n",
       " 29                                    48.0   \n",
       " 30                                    20.0   \n",
       " 31                                    10.0   \n",
       " 32                                    19.0   \n",
       " 33                                     9.0   \n",
       " 34                                    16.0   \n",
       " 35                                    29.0   \n",
       " 36                                    34.0   \n",
       " 37                                    49.0   \n",
       " 38                                    46.0   \n",
       " 39                                    14.0   \n",
       " 40                                    12.0   \n",
       " 41                                    22.0   \n",
       " 42                                    25.0   \n",
       " 43                                    23.0   \n",
       " 44                                    30.0   \n",
       " 45                                    17.0   \n",
       " 46                                    67.0   \n",
       " 47                                     9.0   \n",
       " 48                                    29.0   \n",
       " 49                                   167.0   \n",
       " 50                                    27.0   \n",
       " 51                                    40.0   \n",
       " 52                                    27.0   \n",
       " \n",
       "     Female incarceration rate: Native Hawaiian and other Pacific Islander alone  \\\n",
       " 1                                                71.0                             \n",
       " 2                                               138.0                             \n",
       " 3                                                88.0                             \n",
       " 4                                                71.0                             \n",
       " 5                                               182.0                             \n",
       " 6                                               245.0                             \n",
       " 7                                               576.0                             \n",
       " 8                                               990.0                             \n",
       " 9                                                 0.0                             \n",
       " 10                                               84.0                             \n",
       " 11                                               32.0                             \n",
       " 12                                              659.0                             \n",
       " 13                                              375.0                             \n",
       " 14                                              102.0                             \n",
       " 15                                                0.0                             \n",
       " 16                                              312.0                             \n",
       " 17                                                0.0                             \n",
       " 18                                              255.0                             \n",
       " 19                                                0.0                             \n",
       " 20                                                0.0                             \n",
       " 21                                                0.0                             \n",
       " 22                                             1086.0                             \n",
       " 23                                               76.0                             \n",
       " 24                                              279.0                             \n",
       " 25                                                0.0                             \n",
       " 26                                              127.0                             \n",
       " 27                                                0.0                             \n",
       " 28                                              163.0                             \n",
       " 29                                               47.0                             \n",
       " 30                                                0.0                             \n",
       " 31                                              470.0                             \n",
       " 32                                              118.0                             \n",
       " 33                                               46.0                             \n",
       " 34                                              126.0                             \n",
       " 35                                             2667.0                             \n",
       " 36                                                0.0                             \n",
       " 37                                              187.0                             \n",
       " 38                                               46.0                             \n",
       " 39                                              110.0                             \n",
       " 40                                                0.0                             \n",
       " 41                                               80.0                             \n",
       " 42                                                0.0                             \n",
       " 43                                               57.0                             \n",
       " 44                                               65.0                             \n",
       " 45                                              136.0                             \n",
       " 46                                                0.0                             \n",
       " 47                                              100.0                             \n",
       " 48                                               60.0                             \n",
       " 49                                              976.0                             \n",
       " 50                                              823.0                             \n",
       " 51                                                0.0                             \n",
       " 52                                                0.0                             \n",
       " \n",
       "     Female incarceration rate: Some other race alone  \\\n",
       " 1                                               59.0   \n",
       " 2                                               58.0   \n",
       " 3                                              286.0   \n",
       " 4                                               44.0   \n",
       " 5                                               99.0   \n",
       " 6                                               83.0   \n",
       " 7                                              370.0   \n",
       " 8                                                7.0   \n",
       " 9                                               35.0   \n",
       " 10                                              74.0   \n",
       " 11                                              38.0   \n",
       " 12                                             183.0   \n",
       " 13                                             168.0   \n",
       " 14                                              24.0   \n",
       " 15                                              75.0   \n",
       " 16                                              35.0   \n",
       " 17                                              16.0   \n",
       " 18                                              86.0   \n",
       " 19                                              60.0   \n",
       " 20                                               0.0   \n",
       " 21                                              21.0   \n",
       " 22                                              41.0   \n",
       " 23                                              27.0   \n",
       " 24                                             139.0   \n",
       " 25                                              40.0   \n",
       " 26                                              51.0   \n",
       " 27                                             292.0   \n",
       " 28                                              57.0   \n",
       " 29                                              24.0   \n",
       " 30                                             137.0   \n",
       " 31                                              46.0   \n",
       " 32                                             120.0   \n",
       " 33                                              37.0   \n",
       " 34                                              17.0   \n",
       " 35                                              66.0   \n",
       " 36                                              72.0   \n",
       " 37                                             100.0   \n",
       " 38                                              35.0   \n",
       " 39                                             196.0   \n",
       " 40                                              53.0   \n",
       " 41                                              40.0   \n",
       " 42                                             191.0   \n",
       " 43                                              32.0   \n",
       " 44                                             109.0   \n",
       " 45                                             104.0   \n",
       " 46                                               0.0   \n",
       " 47                                              27.0   \n",
       " 48                                              53.0   \n",
       " 49                                            1296.0   \n",
       " 50                                              32.0   \n",
       " 51                                             145.0   \n",
       " 52                                               3.0   \n",
       " \n",
       "     Female incarceration rate: Two or more races  \\\n",
       " 1                                          190.0   \n",
       " 2                                          264.0   \n",
       " 3                                          149.0   \n",
       " 4                                          118.0   \n",
       " 5                                           66.0   \n",
       " 6                                           89.0   \n",
       " 7                                          180.0   \n",
       " 8                                           24.0   \n",
       " 9                                          223.0   \n",
       " 10                                          73.0   \n",
       " 11                                          51.0   \n",
       " 12                                          79.0   \n",
       " 13                                         133.0   \n",
       " 14                                          25.0   \n",
       " 15                                          52.0   \n",
       " 16                                          72.0   \n",
       " 17                                          65.0   \n",
       " 18                                         129.0   \n",
       " 19                                         103.0   \n",
       " 20                                          28.0   \n",
       " 21                                          21.0   \n",
       " 22                                          21.0   \n",
       " 23                                          37.0   \n",
       " 24                                         154.0   \n",
       " 25                                          64.0   \n",
       " 26                                          35.0   \n",
       " 27                                         104.0   \n",
       " 28                                          86.0   \n",
       " 29                                          74.0   \n",
       " 30                                          83.0   \n",
       " 31                                          58.0   \n",
       " 32                                          49.0   \n",
       " 33                                          13.0   \n",
       " 34                                          14.0   \n",
       " 35                                         101.0   \n",
       " 36                                          48.0   \n",
       " 37                                         139.0   \n",
       " 38                                          51.0   \n",
       " 39                                          44.0   \n",
       " 40                                          22.0   \n",
       " 41                                          10.0   \n",
       " 42                                         115.0   \n",
       " 43                                          39.0   \n",
       " 44                                          61.0   \n",
       " 45                                         110.0   \n",
       " 46                                         109.0   \n",
       " 47                                          19.0   \n",
       " 48                                          54.0   \n",
       " 49                                         264.0   \n",
       " 50                                          40.0   \n",
       " 51                                         245.0   \n",
       " 52                                           5.0   \n",
       " \n",
       "     Female incarceration rate: Hispanic or Latino  \\\n",
       " 1                                           364.0   \n",
       " 2                                           225.0   \n",
       " 3                                           249.0   \n",
       " 4                                            86.0   \n",
       " 5                                           109.0   \n",
       " 6                                           216.0   \n",
       " 7                                           335.0   \n",
       " 8                                             6.0   \n",
       " 9                                            98.0   \n",
       " 10                                           85.0   \n",
       " 11                                           79.0   \n",
       " 12                                          169.0   \n",
       " 13                                          234.0   \n",
       " 14                                           46.0   \n",
       " 15                                           76.0   \n",
       " 16                                           96.0   \n",
       " 17                                          109.0   \n",
       " 18                                          152.0   \n",
       " 19                                          121.0   \n",
       " 20                                           36.0   \n",
       " 21                                           26.0   \n",
       " 22                                           89.0   \n",
       " 23                                           52.0   \n",
       " 24                                          320.0   \n",
       " 25                                          112.0   \n",
       " 26                                          122.0   \n",
       " 27                                          170.0   \n",
       " 28                                          158.0   \n",
       " 29                                           70.0   \n",
       " 30                                          109.0   \n",
       " 31                                           63.0   \n",
       " 32                                          175.0   \n",
       " 33                                           48.0   \n",
       " 34                                           32.0   \n",
       " 35                                          111.0   \n",
       " 36                                          112.0   \n",
       " 37                                          154.0   \n",
       " 38                                           82.0   \n",
       " 39                                          144.0   \n",
       " 40                                           41.0   \n",
       " 41                                           57.0   \n",
       " 42                                          167.0   \n",
       " 43                                           58.0   \n",
       " 44                                          143.0   \n",
       " 45                                          192.0   \n",
       " 46                                          196.0   \n",
       " 47                                           42.0   \n",
       " 48                                          107.0   \n",
       " 49                                         1210.0   \n",
       " 50                                           59.0   \n",
       " 51                                          248.0   \n",
       " 52                                           22.0   \n",
       " \n",
       "     Female incarceration rate: White alone, not Hispanic or Latino  \n",
       " 1                                               186.0               \n",
       " 2                                               115.0               \n",
       " 3                                               153.0               \n",
       " 4                                               153.0               \n",
       " 5                                               101.0               \n",
       " 6                                               106.0               \n",
       " 7                                                73.0               \n",
       " 8                                                78.0               \n",
       " 9                                                30.0               \n",
       " 10                                              162.0               \n",
       " 11                                              170.0               \n",
       " 12                                              181.0               \n",
       " 13                                              176.0               \n",
       " 14                                               60.0               \n",
       " 15                                              123.0               \n",
       " 16                                               80.0               \n",
       " 17                                               79.0               \n",
       " 18                                              208.0               \n",
       " 19                                              154.0               \n",
       " 20                                               52.0               \n",
       " 21                                               65.0               \n",
       " 22                                               41.0               \n",
       " 23                                               37.0               \n",
       " 24                                               55.0               \n",
       " 25                                              159.0               \n",
       " 26                                              110.0               \n",
       " 27                                               91.0               \n",
       " 28                                               66.0               \n",
       " 29                                              164.0               \n",
       " 30                                               67.0               \n",
       " 31                                               55.0               \n",
       " 32                                              173.0               \n",
       " 33                                               40.0               \n",
       " 34                                               78.0               \n",
       " 35                                               49.0               \n",
       " 36                                              103.0               \n",
       " 37                                              193.0               \n",
       " 38                                              110.0               \n",
       " 39                                               81.0               \n",
       " 40                                               32.0               \n",
       " 41                                               99.0               \n",
       " 42                                              102.0               \n",
       " 43                                              159.0               \n",
       " 44                                              199.0               \n",
       " 45                                              108.0               \n",
       " 46                                               43.0               \n",
       " 47                                              123.0               \n",
       " 48                                               87.0               \n",
       " 49                                              205.0               \n",
       " 50                                               86.0               \n",
       " 51                                              155.0               \n",
       " 52                                              188.0               \n",
       " \n",
       " [52 rows x 31 columns],\n",
       "          Inertia\n",
       " K               \n",
       " 1   9.000198e+07\n",
       " 2   4.595962e+07\n",
       " 3   3.134881e+07\n",
       " 4   2.199814e+07\n",
       " 5   1.779327e+07\n",
       " 6   1.399241e+07\n",
       " 7   1.242441e+07\n",
       " 8   1.099427e+07\n",
       " 9   9.630674e+06\n",
       " 10  8.692738e+06\n",
       " 11  7.475097e+06\n",
       " 12  7.069113e+06\n",
       " 13  6.338203e+06\n",
       " 14  5.896683e+06\n",
       " 15  5.173642e+06\n",
       " 16  4.640521e+06\n",
       " 17  4.300747e+06\n",
       " 18  3.732530e+06\n",
       " 19  3.692733e+06,\n",
       " [90001984.96153845,\n",
       "  45959624.04684684,\n",
       "  31348805.656370655,\n",
       "  21998144.125120774,\n",
       "  17793274.861111112,\n",
       "  13992406.3625,\n",
       "  12424409.918706296,\n",
       "  10994272.908333335,\n",
       "  9630673.694444444,\n",
       "  8692738.134188034,\n",
       "  7475097.478571428,\n",
       "  7069113.466666666,\n",
       "  6338202.577777777,\n",
       "  5896682.966666667,\n",
       "  5173642.075,\n",
       "  4640521.1404761905,\n",
       "  4300747.208333333,\n",
       "  3732530.0023809522,\n",
       "  3692733.0722222226],\n",
       " 2)"
      ]
     },
     "execution_count": 424,
     "metadata": {},
     "output_type": "execute_result"
    }
   ],
   "source": [
    "elbow_method(rate_df_whole, 20) ## Used to determine best k for K-means"
   ]
  },
  {
   "cell_type": "code",
   "execution_count": 425,
   "metadata": {},
   "outputs": [],
   "source": [
    "n=4"
   ]
  },
  {
   "cell_type": "code",
   "execution_count": 426,
   "metadata": {},
   "outputs": [
    {
     "name": "stderr",
     "output_type": "stream",
     "text": [
      "/Users/lorenzomendoza/opt/anaconda3/envs/machinelearning/lib/python3.11/site-packages/sklearn/cluster/_kmeans.py:870: FutureWarning:\n",
      "\n",
      "The default value of `n_init` will change from 10 to 'auto' in 1.4. Set the value of `n_init` explicitly to suppress the warning\n",
      "\n",
      "/Users/lorenzomendoza/opt/anaconda3/envs/machinelearning/lib/python3.11/site-packages/sklearn/cluster/_kmeans.py:870: FutureWarning:\n",
      "\n",
      "The default value of `n_init` will change from 10 to 'auto' in 1.4. Set the value of `n_init` explicitly to suppress the warning\n",
      "\n",
      "/Users/lorenzomendoza/opt/anaconda3/envs/machinelearning/lib/python3.11/site-packages/sklearn/cluster/_kmeans.py:870: FutureWarning:\n",
      "\n",
      "The default value of `n_init` will change from 10 to 'auto' in 1.4. Set the value of `n_init` explicitly to suppress the warning\n",
      "\n"
     ]
    }
   ],
   "source": [
    "# Get graphs with State abbrevations assigned for each\n",
    "total_rate_fig = stateClusterGraph(runKmeans(rate_df_total, getX(rate_df_total), n)) \n",
    "male_rate_fig= stateClusterGraph(runKmeans(rate_df_male, getX(rate_df_male), n))\n",
    "female_rate_fig = stateClusterGraph(runKmeans(rate_df_female, getX(rate_df_female), n))"
   ]
  },
  {
   "cell_type": "code",
   "execution_count": 427,
   "metadata": {},
   "outputs": [
    {
     "data": {
      "application/vnd.plotly.v1+json": {
       "config": {
        "plotlyServerURL": "https://plot.ly"
       },
       "data": [
        {
         "coloraxis": "coloraxis",
         "geo": "geo",
         "hovertemplate": "State Abbreviation=%{location}<br>Cluster=%{z}<extra></extra>",
         "locationmode": "USA-states",
         "locations": [
          "AL",
          "AK",
          "AZ",
          "AR",
          "CA",
          "CO",
          "CT",
          "DE",
          null,
          "FL",
          "GA",
          "HI",
          "ID",
          "IL",
          "IN",
          "IA",
          "KS",
          "KY",
          "LA",
          "ME",
          "MD",
          "MA",
          "MI",
          "MN",
          "MS",
          "MO",
          "MT",
          "NE",
          "NV",
          "NH",
          "NJ",
          "NM",
          "NY",
          "NC",
          "ND",
          "OH",
          "OK",
          "OR",
          "PA",
          "RI",
          "SC",
          "SD",
          "TN",
          "TX",
          "UT",
          "VT",
          "VA",
          "WA",
          "WV",
          "WI",
          "WY",
          null
         ],
         "name": "",
         "type": "choropleth",
         "z": [
          0,
          0,
          2,
          0,
          0,
          1,
          1,
          0,
          0,
          0,
          0,
          0,
          1,
          0,
          0,
          1,
          0,
          1,
          0,
          0,
          0,
          0,
          0,
          1,
          1,
          0,
          1,
          0,
          0,
          0,
          0,
          0,
          0,
          0,
          1,
          0,
          1,
          0,
          1,
          0,
          0,
          1,
          0,
          0,
          0,
          0,
          0,
          0,
          3,
          2,
          1,
          0
         ]
        },
        {
         "coloraxis": "coloraxis",
         "geo": "geo2",
         "hovertemplate": "State Abbreviation=%{location}<br>Cluster=%{z}<extra></extra>",
         "locationmode": "USA-states",
         "locations": [
          "AL",
          "AK",
          "AZ",
          "AR",
          "CA",
          "CO",
          "CT",
          "DE",
          null,
          "FL",
          "GA",
          "HI",
          "ID",
          "IL",
          "IN",
          "IA",
          "KS",
          "KY",
          "LA",
          "ME",
          "MD",
          "MA",
          "MI",
          "MN",
          "MS",
          "MO",
          "MT",
          "NE",
          "NV",
          "NH",
          "NJ",
          "NM",
          "NY",
          "NC",
          "ND",
          "OH",
          "OK",
          "OR",
          "PA",
          "RI",
          "SC",
          "SD",
          "TN",
          "TX",
          "UT",
          "VT",
          "VA",
          "WA",
          "WV",
          "WI",
          "WY",
          null
         ],
         "name": "",
         "type": "choropleth",
         "z": [
          1,
          1,
          2,
          1,
          1,
          0,
          0,
          1,
          1,
          1,
          1,
          1,
          1,
          1,
          1,
          1,
          1,
          0,
          1,
          1,
          1,
          1,
          1,
          1,
          0,
          1,
          0,
          1,
          1,
          1,
          1,
          1,
          1,
          1,
          1,
          1,
          0,
          1,
          0,
          1,
          1,
          0,
          1,
          1,
          1,
          1,
          1,
          1,
          3,
          2,
          0,
          1
         ]
        },
        {
         "coloraxis": "coloraxis",
         "geo": "geo3",
         "hovertemplate": "State Abbreviation=%{location}<br>Cluster=%{z}<extra></extra>",
         "locationmode": "USA-states",
         "locations": [
          "AL",
          "AK",
          "AZ",
          "AR",
          "CA",
          "CO",
          "CT",
          "DE",
          null,
          "FL",
          "GA",
          "HI",
          "ID",
          "IL",
          "IN",
          "IA",
          "KS",
          "KY",
          "LA",
          "ME",
          "MD",
          "MA",
          "MI",
          "MN",
          "MS",
          "MO",
          "MT",
          "NE",
          "NV",
          "NH",
          "NJ",
          "NM",
          "NY",
          "NC",
          "ND",
          "OH",
          "OK",
          "OR",
          "PA",
          "RI",
          "SC",
          "SD",
          "TN",
          "TX",
          "UT",
          "VT",
          "VA",
          "WA",
          "WV",
          "WI",
          "WY",
          null
         ],
         "name": "",
         "type": "choropleth",
         "z": [
          0,
          0,
          3,
          0,
          0,
          3,
          3,
          0,
          0,
          0,
          0,
          3,
          3,
          0,
          0,
          3,
          0,
          0,
          0,
          0,
          0,
          0,
          0,
          3,
          0,
          0,
          3,
          3,
          0,
          3,
          0,
          3,
          0,
          0,
          2,
          0,
          3,
          0,
          0,
          0,
          0,
          3,
          0,
          0,
          3,
          0,
          0,
          0,
          1,
          3,
          3,
          0
         ]
        }
       ],
       "layout": {
        "annotations": [
         {
          "font": {
           "size": 16
          },
          "showarrow": false,
          "text": "Total Rate",
          "x": 0.14444444444444446,
          "xanchor": "center",
          "xref": "paper",
          "y": 1,
          "yanchor": "bottom",
          "yref": "paper"
         },
         {
          "font": {
           "size": 16
          },
          "showarrow": false,
          "text": "Male Rate",
          "x": 0.5,
          "xanchor": "center",
          "xref": "paper",
          "y": 1,
          "yanchor": "bottom",
          "yref": "paper"
         },
         {
          "font": {
           "size": 16
          },
          "showarrow": false,
          "text": "Female Rate",
          "x": 0.8555555555555556,
          "xanchor": "center",
          "xref": "paper",
          "y": 1,
          "yanchor": "bottom",
          "yref": "paper"
         }
        ],
        "geo": {
         "domain": {
          "x": [
           0,
           0.2888888888888889
          ],
          "y": [
           0,
           1
          ]
         },
         "scope": "usa"
        },
        "geo2": {
         "domain": {
          "x": [
           0.35555555555555557,
           0.6444444444444445
          ],
          "y": [
           0,
           1
          ]
         },
         "scope": "usa"
        },
        "geo3": {
         "domain": {
          "x": [
           0.7111111111111111,
           1
          ],
          "y": [
           0,
           1
          ]
         },
         "scope": "usa"
        },
        "template": {
         "data": {
          "bar": [
           {
            "error_x": {
             "color": "#2a3f5f"
            },
            "error_y": {
             "color": "#2a3f5f"
            },
            "marker": {
             "line": {
              "color": "#E5ECF6",
              "width": 0.5
             },
             "pattern": {
              "fillmode": "overlay",
              "size": 10,
              "solidity": 0.2
             }
            },
            "type": "bar"
           }
          ],
          "barpolar": [
           {
            "marker": {
             "line": {
              "color": "#E5ECF6",
              "width": 0.5
             },
             "pattern": {
              "fillmode": "overlay",
              "size": 10,
              "solidity": 0.2
             }
            },
            "type": "barpolar"
           }
          ],
          "carpet": [
           {
            "aaxis": {
             "endlinecolor": "#2a3f5f",
             "gridcolor": "white",
             "linecolor": "white",
             "minorgridcolor": "white",
             "startlinecolor": "#2a3f5f"
            },
            "baxis": {
             "endlinecolor": "#2a3f5f",
             "gridcolor": "white",
             "linecolor": "white",
             "minorgridcolor": "white",
             "startlinecolor": "#2a3f5f"
            },
            "type": "carpet"
           }
          ],
          "choropleth": [
           {
            "colorbar": {
             "outlinewidth": 0,
             "ticks": ""
            },
            "type": "choropleth"
           }
          ],
          "contour": [
           {
            "colorbar": {
             "outlinewidth": 0,
             "ticks": ""
            },
            "colorscale": [
             [
              0,
              "#0d0887"
             ],
             [
              0.1111111111111111,
              "#46039f"
             ],
             [
              0.2222222222222222,
              "#7201a8"
             ],
             [
              0.3333333333333333,
              "#9c179e"
             ],
             [
              0.4444444444444444,
              "#bd3786"
             ],
             [
              0.5555555555555556,
              "#d8576b"
             ],
             [
              0.6666666666666666,
              "#ed7953"
             ],
             [
              0.7777777777777778,
              "#fb9f3a"
             ],
             [
              0.8888888888888888,
              "#fdca26"
             ],
             [
              1,
              "#f0f921"
             ]
            ],
            "type": "contour"
           }
          ],
          "contourcarpet": [
           {
            "colorbar": {
             "outlinewidth": 0,
             "ticks": ""
            },
            "type": "contourcarpet"
           }
          ],
          "heatmap": [
           {
            "colorbar": {
             "outlinewidth": 0,
             "ticks": ""
            },
            "colorscale": [
             [
              0,
              "#0d0887"
             ],
             [
              0.1111111111111111,
              "#46039f"
             ],
             [
              0.2222222222222222,
              "#7201a8"
             ],
             [
              0.3333333333333333,
              "#9c179e"
             ],
             [
              0.4444444444444444,
              "#bd3786"
             ],
             [
              0.5555555555555556,
              "#d8576b"
             ],
             [
              0.6666666666666666,
              "#ed7953"
             ],
             [
              0.7777777777777778,
              "#fb9f3a"
             ],
             [
              0.8888888888888888,
              "#fdca26"
             ],
             [
              1,
              "#f0f921"
             ]
            ],
            "type": "heatmap"
           }
          ],
          "heatmapgl": [
           {
            "colorbar": {
             "outlinewidth": 0,
             "ticks": ""
            },
            "colorscale": [
             [
              0,
              "#0d0887"
             ],
             [
              0.1111111111111111,
              "#46039f"
             ],
             [
              0.2222222222222222,
              "#7201a8"
             ],
             [
              0.3333333333333333,
              "#9c179e"
             ],
             [
              0.4444444444444444,
              "#bd3786"
             ],
             [
              0.5555555555555556,
              "#d8576b"
             ],
             [
              0.6666666666666666,
              "#ed7953"
             ],
             [
              0.7777777777777778,
              "#fb9f3a"
             ],
             [
              0.8888888888888888,
              "#fdca26"
             ],
             [
              1,
              "#f0f921"
             ]
            ],
            "type": "heatmapgl"
           }
          ],
          "histogram": [
           {
            "marker": {
             "pattern": {
              "fillmode": "overlay",
              "size": 10,
              "solidity": 0.2
             }
            },
            "type": "histogram"
           }
          ],
          "histogram2d": [
           {
            "colorbar": {
             "outlinewidth": 0,
             "ticks": ""
            },
            "colorscale": [
             [
              0,
              "#0d0887"
             ],
             [
              0.1111111111111111,
              "#46039f"
             ],
             [
              0.2222222222222222,
              "#7201a8"
             ],
             [
              0.3333333333333333,
              "#9c179e"
             ],
             [
              0.4444444444444444,
              "#bd3786"
             ],
             [
              0.5555555555555556,
              "#d8576b"
             ],
             [
              0.6666666666666666,
              "#ed7953"
             ],
             [
              0.7777777777777778,
              "#fb9f3a"
             ],
             [
              0.8888888888888888,
              "#fdca26"
             ],
             [
              1,
              "#f0f921"
             ]
            ],
            "type": "histogram2d"
           }
          ],
          "histogram2dcontour": [
           {
            "colorbar": {
             "outlinewidth": 0,
             "ticks": ""
            },
            "colorscale": [
             [
              0,
              "#0d0887"
             ],
             [
              0.1111111111111111,
              "#46039f"
             ],
             [
              0.2222222222222222,
              "#7201a8"
             ],
             [
              0.3333333333333333,
              "#9c179e"
             ],
             [
              0.4444444444444444,
              "#bd3786"
             ],
             [
              0.5555555555555556,
              "#d8576b"
             ],
             [
              0.6666666666666666,
              "#ed7953"
             ],
             [
              0.7777777777777778,
              "#fb9f3a"
             ],
             [
              0.8888888888888888,
              "#fdca26"
             ],
             [
              1,
              "#f0f921"
             ]
            ],
            "type": "histogram2dcontour"
           }
          ],
          "mesh3d": [
           {
            "colorbar": {
             "outlinewidth": 0,
             "ticks": ""
            },
            "type": "mesh3d"
           }
          ],
          "parcoords": [
           {
            "line": {
             "colorbar": {
              "outlinewidth": 0,
              "ticks": ""
             }
            },
            "type": "parcoords"
           }
          ],
          "pie": [
           {
            "automargin": true,
            "type": "pie"
           }
          ],
          "scatter": [
           {
            "fillpattern": {
             "fillmode": "overlay",
             "size": 10,
             "solidity": 0.2
            },
            "type": "scatter"
           }
          ],
          "scatter3d": [
           {
            "line": {
             "colorbar": {
              "outlinewidth": 0,
              "ticks": ""
             }
            },
            "marker": {
             "colorbar": {
              "outlinewidth": 0,
              "ticks": ""
             }
            },
            "type": "scatter3d"
           }
          ],
          "scattercarpet": [
           {
            "marker": {
             "colorbar": {
              "outlinewidth": 0,
              "ticks": ""
             }
            },
            "type": "scattercarpet"
           }
          ],
          "scattergeo": [
           {
            "marker": {
             "colorbar": {
              "outlinewidth": 0,
              "ticks": ""
             }
            },
            "type": "scattergeo"
           }
          ],
          "scattergl": [
           {
            "marker": {
             "colorbar": {
              "outlinewidth": 0,
              "ticks": ""
             }
            },
            "type": "scattergl"
           }
          ],
          "scattermapbox": [
           {
            "marker": {
             "colorbar": {
              "outlinewidth": 0,
              "ticks": ""
             }
            },
            "type": "scattermapbox"
           }
          ],
          "scatterpolar": [
           {
            "marker": {
             "colorbar": {
              "outlinewidth": 0,
              "ticks": ""
             }
            },
            "type": "scatterpolar"
           }
          ],
          "scatterpolargl": [
           {
            "marker": {
             "colorbar": {
              "outlinewidth": 0,
              "ticks": ""
             }
            },
            "type": "scatterpolargl"
           }
          ],
          "scatterternary": [
           {
            "marker": {
             "colorbar": {
              "outlinewidth": 0,
              "ticks": ""
             }
            },
            "type": "scatterternary"
           }
          ],
          "surface": [
           {
            "colorbar": {
             "outlinewidth": 0,
             "ticks": ""
            },
            "colorscale": [
             [
              0,
              "#0d0887"
             ],
             [
              0.1111111111111111,
              "#46039f"
             ],
             [
              0.2222222222222222,
              "#7201a8"
             ],
             [
              0.3333333333333333,
              "#9c179e"
             ],
             [
              0.4444444444444444,
              "#bd3786"
             ],
             [
              0.5555555555555556,
              "#d8576b"
             ],
             [
              0.6666666666666666,
              "#ed7953"
             ],
             [
              0.7777777777777778,
              "#fb9f3a"
             ],
             [
              0.8888888888888888,
              "#fdca26"
             ],
             [
              1,
              "#f0f921"
             ]
            ],
            "type": "surface"
           }
          ],
          "table": [
           {
            "cells": {
             "fill": {
              "color": "#EBF0F8"
             },
             "line": {
              "color": "white"
             }
            },
            "header": {
             "fill": {
              "color": "#C8D4E3"
             },
             "line": {
              "color": "white"
             }
            },
            "type": "table"
           }
          ]
         },
         "layout": {
          "annotationdefaults": {
           "arrowcolor": "#2a3f5f",
           "arrowhead": 0,
           "arrowwidth": 1
          },
          "autotypenumbers": "strict",
          "coloraxis": {
           "colorbar": {
            "outlinewidth": 0,
            "ticks": ""
           }
          },
          "colorscale": {
           "diverging": [
            [
             0,
             "#8e0152"
            ],
            [
             0.1,
             "#c51b7d"
            ],
            [
             0.2,
             "#de77ae"
            ],
            [
             0.3,
             "#f1b6da"
            ],
            [
             0.4,
             "#fde0ef"
            ],
            [
             0.5,
             "#f7f7f7"
            ],
            [
             0.6,
             "#e6f5d0"
            ],
            [
             0.7,
             "#b8e186"
            ],
            [
             0.8,
             "#7fbc41"
            ],
            [
             0.9,
             "#4d9221"
            ],
            [
             1,
             "#276419"
            ]
           ],
           "sequential": [
            [
             0,
             "#0d0887"
            ],
            [
             0.1111111111111111,
             "#46039f"
            ],
            [
             0.2222222222222222,
             "#7201a8"
            ],
            [
             0.3333333333333333,
             "#9c179e"
            ],
            [
             0.4444444444444444,
             "#bd3786"
            ],
            [
             0.5555555555555556,
             "#d8576b"
            ],
            [
             0.6666666666666666,
             "#ed7953"
            ],
            [
             0.7777777777777778,
             "#fb9f3a"
            ],
            [
             0.8888888888888888,
             "#fdca26"
            ],
            [
             1,
             "#f0f921"
            ]
           ],
           "sequentialminus": [
            [
             0,
             "#0d0887"
            ],
            [
             0.1111111111111111,
             "#46039f"
            ],
            [
             0.2222222222222222,
             "#7201a8"
            ],
            [
             0.3333333333333333,
             "#9c179e"
            ],
            [
             0.4444444444444444,
             "#bd3786"
            ],
            [
             0.5555555555555556,
             "#d8576b"
            ],
            [
             0.6666666666666666,
             "#ed7953"
            ],
            [
             0.7777777777777778,
             "#fb9f3a"
            ],
            [
             0.8888888888888888,
             "#fdca26"
            ],
            [
             1,
             "#f0f921"
            ]
           ]
          },
          "colorway": [
           "#636efa",
           "#EF553B",
           "#00cc96",
           "#ab63fa",
           "#FFA15A",
           "#19d3f3",
           "#FF6692",
           "#B6E880",
           "#FF97FF",
           "#FECB52"
          ],
          "font": {
           "color": "#2a3f5f"
          },
          "geo": {
           "bgcolor": "white",
           "lakecolor": "white",
           "landcolor": "#E5ECF6",
           "showlakes": true,
           "showland": true,
           "subunitcolor": "white"
          },
          "hoverlabel": {
           "align": "left"
          },
          "hovermode": "closest",
          "mapbox": {
           "style": "light"
          },
          "paper_bgcolor": "white",
          "plot_bgcolor": "#E5ECF6",
          "polar": {
           "angularaxis": {
            "gridcolor": "white",
            "linecolor": "white",
            "ticks": ""
           },
           "bgcolor": "#E5ECF6",
           "radialaxis": {
            "gridcolor": "white",
            "linecolor": "white",
            "ticks": ""
           }
          },
          "scene": {
           "xaxis": {
            "backgroundcolor": "#E5ECF6",
            "gridcolor": "white",
            "gridwidth": 2,
            "linecolor": "white",
            "showbackground": true,
            "ticks": "",
            "zerolinecolor": "white"
           },
           "yaxis": {
            "backgroundcolor": "#E5ECF6",
            "gridcolor": "white",
            "gridwidth": 2,
            "linecolor": "white",
            "showbackground": true,
            "ticks": "",
            "zerolinecolor": "white"
           },
           "zaxis": {
            "backgroundcolor": "#E5ECF6",
            "gridcolor": "white",
            "gridwidth": 2,
            "linecolor": "white",
            "showbackground": true,
            "ticks": "",
            "zerolinecolor": "white"
           }
          },
          "shapedefaults": {
           "line": {
            "color": "#2a3f5f"
           }
          },
          "ternary": {
           "aaxis": {
            "gridcolor": "white",
            "linecolor": "white",
            "ticks": ""
           },
           "baxis": {
            "gridcolor": "white",
            "linecolor": "white",
            "ticks": ""
           },
           "bgcolor": "#E5ECF6",
           "caxis": {
            "gridcolor": "white",
            "linecolor": "white",
            "ticks": ""
           }
          },
          "title": {
           "x": 0.05
          },
          "xaxis": {
           "automargin": true,
           "gridcolor": "white",
           "linecolor": "white",
           "ticks": "",
           "title": {
            "standoff": 15
           },
           "zerolinecolor": "white",
           "zerolinewidth": 2
          },
          "yaxis": {
           "automargin": true,
           "gridcolor": "white",
           "linecolor": "white",
           "ticks": "",
           "title": {
            "standoff": 15
           },
           "zerolinecolor": "white",
           "zerolinewidth": 2
          }
         }
        },
        "title": {
         "text": "Clusters by State"
        }
       }
      }
     },
     "metadata": {},
     "output_type": "display_data"
    }
   ],
   "source": [
    "# Make 3 subplots for \n",
    "from plotly.subplots import make_subplots\n",
    "import plotly.graph_objs as go\n",
    "\n",
    "# Create a 1x3 grid of subplots with titles and a geo subplot type\n",
    "fig = make_subplots(\n",
    "    rows=1,\n",
    "    cols=3,\n",
    "    subplot_titles=('Total Rate', 'Male Rate', 'Female Rate'),\n",
    "    specs=[[{'type': 'choropleth'}, {'type': 'choropleth'}, {'type': 'choropleth'}]]\n",
    ")\n",
    "\n",
    "# Add your figures as subplots\n",
    "fig.add_trace(total_rate_fig.data[0], row=1, col=1)\n",
    "fig.add_trace(male_rate_fig.data[0], row=1, col=2)\n",
    "fig.add_trace(female_rate_fig.data[0], row=1, col=3)\n",
    "\n",
    "# Update the geo attribute of each subplot to set the scope to 'usa'\n",
    "fig.update_geos(scope='usa')\n",
    "\n",
    "# Update the layout to show the subplots\n",
    "fig.update_layout(title='Clusters by State')\n",
    "\n",
    "fig.show()"
   ]
  },
  {
   "cell_type": "code",
   "execution_count": 431,
   "metadata": {},
   "outputs": [
    {
     "name": "stderr",
     "output_type": "stream",
     "text": [
      "/Users/lorenzomendoza/opt/anaconda3/envs/machinelearning/lib/python3.11/site-packages/sklearn/cluster/_kmeans.py:870: FutureWarning:\n",
      "\n",
      "The default value of `n_init` will change from 10 to 'auto' in 1.4. Set the value of `n_init` explicitly to suppress the warning\n",
      "\n"
     ]
    },
    {
     "data": {
      "application/vnd.plotly.v1+json": {
       "config": {
        "plotlyServerURL": "https://plot.ly"
       },
       "data": [
        {
         "coloraxis": "coloraxis",
         "geo": "geo",
         "hovertemplate": "State Abbreviation=%{location}<br>Cluster=%{z}<extra></extra>",
         "locationmode": "USA-states",
         "locations": [
          "AL",
          "AK",
          "AZ",
          "AR",
          "CA",
          "CO",
          "CT",
          "DE",
          null,
          "FL",
          "GA",
          "HI",
          "ID",
          "IL",
          "IN",
          "IA",
          "KS",
          "KY",
          "LA",
          "ME",
          "MD",
          "MA",
          "MI",
          "MN",
          "MS",
          "MO",
          "MT",
          "NE",
          "NV",
          "NH",
          "NJ",
          "NM",
          "NY",
          "NC",
          "ND",
          "OH",
          "OK",
          "OR",
          "PA",
          "RI",
          "SC",
          "SD",
          "TN",
          "TX",
          "UT",
          "VT",
          "VA",
          "WA",
          "WV",
          "WI",
          "WY",
          null
         ],
         "name": "",
         "type": "choropleth",
         "z": [
          3,
          0,
          3,
          0,
          1,
          3,
          0,
          0,
          0,
          2,
          2,
          0,
          0,
          3,
          3,
          0,
          0,
          3,
          3,
          0,
          3,
          0,
          3,
          0,
          3,
          3,
          0,
          0,
          0,
          0,
          3,
          0,
          2,
          3,
          0,
          3,
          3,
          0,
          2,
          0,
          3,
          0,
          3,
          1,
          0,
          0,
          3,
          3,
          0,
          3,
          0,
          0
         ]
        }
       ],
       "layout": {
        "coloraxis": {
         "colorbar": {
          "title": {
           "text": "Cluster"
          }
         },
         "colorscale": [
          [
           0,
           "#0d0887"
          ],
          [
           0.1111111111111111,
           "#46039f"
          ],
          [
           0.2222222222222222,
           "#7201a8"
          ],
          [
           0.3333333333333333,
           "#9c179e"
          ],
          [
           0.4444444444444444,
           "#bd3786"
          ],
          [
           0.5555555555555556,
           "#d8576b"
          ],
          [
           0.6666666666666666,
           "#ed7953"
          ],
          [
           0.7777777777777778,
           "#fb9f3a"
          ],
          [
           0.8888888888888888,
           "#fdca26"
          ],
          [
           1,
           "#f0f921"
          ]
         ]
        },
        "geo": {
         "center": {},
         "domain": {
          "x": [
           0,
           1
          ],
          "y": [
           0,
           1
          ]
         },
         "scope": "usa"
        },
        "legend": {
         "tracegroupgap": 0
        },
        "template": {
         "data": {
          "bar": [
           {
            "error_x": {
             "color": "#2a3f5f"
            },
            "error_y": {
             "color": "#2a3f5f"
            },
            "marker": {
             "line": {
              "color": "#E5ECF6",
              "width": 0.5
             },
             "pattern": {
              "fillmode": "overlay",
              "size": 10,
              "solidity": 0.2
             }
            },
            "type": "bar"
           }
          ],
          "barpolar": [
           {
            "marker": {
             "line": {
              "color": "#E5ECF6",
              "width": 0.5
             },
             "pattern": {
              "fillmode": "overlay",
              "size": 10,
              "solidity": 0.2
             }
            },
            "type": "barpolar"
           }
          ],
          "carpet": [
           {
            "aaxis": {
             "endlinecolor": "#2a3f5f",
             "gridcolor": "white",
             "linecolor": "white",
             "minorgridcolor": "white",
             "startlinecolor": "#2a3f5f"
            },
            "baxis": {
             "endlinecolor": "#2a3f5f",
             "gridcolor": "white",
             "linecolor": "white",
             "minorgridcolor": "white",
             "startlinecolor": "#2a3f5f"
            },
            "type": "carpet"
           }
          ],
          "choropleth": [
           {
            "colorbar": {
             "outlinewidth": 0,
             "ticks": ""
            },
            "type": "choropleth"
           }
          ],
          "contour": [
           {
            "colorbar": {
             "outlinewidth": 0,
             "ticks": ""
            },
            "colorscale": [
             [
              0,
              "#0d0887"
             ],
             [
              0.1111111111111111,
              "#46039f"
             ],
             [
              0.2222222222222222,
              "#7201a8"
             ],
             [
              0.3333333333333333,
              "#9c179e"
             ],
             [
              0.4444444444444444,
              "#bd3786"
             ],
             [
              0.5555555555555556,
              "#d8576b"
             ],
             [
              0.6666666666666666,
              "#ed7953"
             ],
             [
              0.7777777777777778,
              "#fb9f3a"
             ],
             [
              0.8888888888888888,
              "#fdca26"
             ],
             [
              1,
              "#f0f921"
             ]
            ],
            "type": "contour"
           }
          ],
          "contourcarpet": [
           {
            "colorbar": {
             "outlinewidth": 0,
             "ticks": ""
            },
            "type": "contourcarpet"
           }
          ],
          "heatmap": [
           {
            "colorbar": {
             "outlinewidth": 0,
             "ticks": ""
            },
            "colorscale": [
             [
              0,
              "#0d0887"
             ],
             [
              0.1111111111111111,
              "#46039f"
             ],
             [
              0.2222222222222222,
              "#7201a8"
             ],
             [
              0.3333333333333333,
              "#9c179e"
             ],
             [
              0.4444444444444444,
              "#bd3786"
             ],
             [
              0.5555555555555556,
              "#d8576b"
             ],
             [
              0.6666666666666666,
              "#ed7953"
             ],
             [
              0.7777777777777778,
              "#fb9f3a"
             ],
             [
              0.8888888888888888,
              "#fdca26"
             ],
             [
              1,
              "#f0f921"
             ]
            ],
            "type": "heatmap"
           }
          ],
          "heatmapgl": [
           {
            "colorbar": {
             "outlinewidth": 0,
             "ticks": ""
            },
            "colorscale": [
             [
              0,
              "#0d0887"
             ],
             [
              0.1111111111111111,
              "#46039f"
             ],
             [
              0.2222222222222222,
              "#7201a8"
             ],
             [
              0.3333333333333333,
              "#9c179e"
             ],
             [
              0.4444444444444444,
              "#bd3786"
             ],
             [
              0.5555555555555556,
              "#d8576b"
             ],
             [
              0.6666666666666666,
              "#ed7953"
             ],
             [
              0.7777777777777778,
              "#fb9f3a"
             ],
             [
              0.8888888888888888,
              "#fdca26"
             ],
             [
              1,
              "#f0f921"
             ]
            ],
            "type": "heatmapgl"
           }
          ],
          "histogram": [
           {
            "marker": {
             "pattern": {
              "fillmode": "overlay",
              "size": 10,
              "solidity": 0.2
             }
            },
            "type": "histogram"
           }
          ],
          "histogram2d": [
           {
            "colorbar": {
             "outlinewidth": 0,
             "ticks": ""
            },
            "colorscale": [
             [
              0,
              "#0d0887"
             ],
             [
              0.1111111111111111,
              "#46039f"
             ],
             [
              0.2222222222222222,
              "#7201a8"
             ],
             [
              0.3333333333333333,
              "#9c179e"
             ],
             [
              0.4444444444444444,
              "#bd3786"
             ],
             [
              0.5555555555555556,
              "#d8576b"
             ],
             [
              0.6666666666666666,
              "#ed7953"
             ],
             [
              0.7777777777777778,
              "#fb9f3a"
             ],
             [
              0.8888888888888888,
              "#fdca26"
             ],
             [
              1,
              "#f0f921"
             ]
            ],
            "type": "histogram2d"
           }
          ],
          "histogram2dcontour": [
           {
            "colorbar": {
             "outlinewidth": 0,
             "ticks": ""
            },
            "colorscale": [
             [
              0,
              "#0d0887"
             ],
             [
              0.1111111111111111,
              "#46039f"
             ],
             [
              0.2222222222222222,
              "#7201a8"
             ],
             [
              0.3333333333333333,
              "#9c179e"
             ],
             [
              0.4444444444444444,
              "#bd3786"
             ],
             [
              0.5555555555555556,
              "#d8576b"
             ],
             [
              0.6666666666666666,
              "#ed7953"
             ],
             [
              0.7777777777777778,
              "#fb9f3a"
             ],
             [
              0.8888888888888888,
              "#fdca26"
             ],
             [
              1,
              "#f0f921"
             ]
            ],
            "type": "histogram2dcontour"
           }
          ],
          "mesh3d": [
           {
            "colorbar": {
             "outlinewidth": 0,
             "ticks": ""
            },
            "type": "mesh3d"
           }
          ],
          "parcoords": [
           {
            "line": {
             "colorbar": {
              "outlinewidth": 0,
              "ticks": ""
             }
            },
            "type": "parcoords"
           }
          ],
          "pie": [
           {
            "automargin": true,
            "type": "pie"
           }
          ],
          "scatter": [
           {
            "fillpattern": {
             "fillmode": "overlay",
             "size": 10,
             "solidity": 0.2
            },
            "type": "scatter"
           }
          ],
          "scatter3d": [
           {
            "line": {
             "colorbar": {
              "outlinewidth": 0,
              "ticks": ""
             }
            },
            "marker": {
             "colorbar": {
              "outlinewidth": 0,
              "ticks": ""
             }
            },
            "type": "scatter3d"
           }
          ],
          "scattercarpet": [
           {
            "marker": {
             "colorbar": {
              "outlinewidth": 0,
              "ticks": ""
             }
            },
            "type": "scattercarpet"
           }
          ],
          "scattergeo": [
           {
            "marker": {
             "colorbar": {
              "outlinewidth": 0,
              "ticks": ""
             }
            },
            "type": "scattergeo"
           }
          ],
          "scattergl": [
           {
            "marker": {
             "colorbar": {
              "outlinewidth": 0,
              "ticks": ""
             }
            },
            "type": "scattergl"
           }
          ],
          "scattermapbox": [
           {
            "marker": {
             "colorbar": {
              "outlinewidth": 0,
              "ticks": ""
             }
            },
            "type": "scattermapbox"
           }
          ],
          "scatterpolar": [
           {
            "marker": {
             "colorbar": {
              "outlinewidth": 0,
              "ticks": ""
             }
            },
            "type": "scatterpolar"
           }
          ],
          "scatterpolargl": [
           {
            "marker": {
             "colorbar": {
              "outlinewidth": 0,
              "ticks": ""
             }
            },
            "type": "scatterpolargl"
           }
          ],
          "scatterternary": [
           {
            "marker": {
             "colorbar": {
              "outlinewidth": 0,
              "ticks": ""
             }
            },
            "type": "scatterternary"
           }
          ],
          "surface": [
           {
            "colorbar": {
             "outlinewidth": 0,
             "ticks": ""
            },
            "colorscale": [
             [
              0,
              "#0d0887"
             ],
             [
              0.1111111111111111,
              "#46039f"
             ],
             [
              0.2222222222222222,
              "#7201a8"
             ],
             [
              0.3333333333333333,
              "#9c179e"
             ],
             [
              0.4444444444444444,
              "#bd3786"
             ],
             [
              0.5555555555555556,
              "#d8576b"
             ],
             [
              0.6666666666666666,
              "#ed7953"
             ],
             [
              0.7777777777777778,
              "#fb9f3a"
             ],
             [
              0.8888888888888888,
              "#fdca26"
             ],
             [
              1,
              "#f0f921"
             ]
            ],
            "type": "surface"
           }
          ],
          "table": [
           {
            "cells": {
             "fill": {
              "color": "#EBF0F8"
             },
             "line": {
              "color": "white"
             }
            },
            "header": {
             "fill": {
              "color": "#C8D4E3"
             },
             "line": {
              "color": "white"
             }
            },
            "type": "table"
           }
          ]
         },
         "layout": {
          "annotationdefaults": {
           "arrowcolor": "#2a3f5f",
           "arrowhead": 0,
           "arrowwidth": 1
          },
          "autotypenumbers": "strict",
          "coloraxis": {
           "colorbar": {
            "outlinewidth": 0,
            "ticks": ""
           }
          },
          "colorscale": {
           "diverging": [
            [
             0,
             "#8e0152"
            ],
            [
             0.1,
             "#c51b7d"
            ],
            [
             0.2,
             "#de77ae"
            ],
            [
             0.3,
             "#f1b6da"
            ],
            [
             0.4,
             "#fde0ef"
            ],
            [
             0.5,
             "#f7f7f7"
            ],
            [
             0.6,
             "#e6f5d0"
            ],
            [
             0.7,
             "#b8e186"
            ],
            [
             0.8,
             "#7fbc41"
            ],
            [
             0.9,
             "#4d9221"
            ],
            [
             1,
             "#276419"
            ]
           ],
           "sequential": [
            [
             0,
             "#0d0887"
            ],
            [
             0.1111111111111111,
             "#46039f"
            ],
            [
             0.2222222222222222,
             "#7201a8"
            ],
            [
             0.3333333333333333,
             "#9c179e"
            ],
            [
             0.4444444444444444,
             "#bd3786"
            ],
            [
             0.5555555555555556,
             "#d8576b"
            ],
            [
             0.6666666666666666,
             "#ed7953"
            ],
            [
             0.7777777777777778,
             "#fb9f3a"
            ],
            [
             0.8888888888888888,
             "#fdca26"
            ],
            [
             1,
             "#f0f921"
            ]
           ],
           "sequentialminus": [
            [
             0,
             "#0d0887"
            ],
            [
             0.1111111111111111,
             "#46039f"
            ],
            [
             0.2222222222222222,
             "#7201a8"
            ],
            [
             0.3333333333333333,
             "#9c179e"
            ],
            [
             0.4444444444444444,
             "#bd3786"
            ],
            [
             0.5555555555555556,
             "#d8576b"
            ],
            [
             0.6666666666666666,
             "#ed7953"
            ],
            [
             0.7777777777777778,
             "#fb9f3a"
            ],
            [
             0.8888888888888888,
             "#fdca26"
            ],
            [
             1,
             "#f0f921"
            ]
           ]
          },
          "colorway": [
           "#636efa",
           "#EF553B",
           "#00cc96",
           "#ab63fa",
           "#FFA15A",
           "#19d3f3",
           "#FF6692",
           "#B6E880",
           "#FF97FF",
           "#FECB52"
          ],
          "font": {
           "color": "#2a3f5f"
          },
          "geo": {
           "bgcolor": "white",
           "lakecolor": "white",
           "landcolor": "#E5ECF6",
           "showlakes": true,
           "showland": true,
           "subunitcolor": "white"
          },
          "hoverlabel": {
           "align": "left"
          },
          "hovermode": "closest",
          "mapbox": {
           "style": "light"
          },
          "paper_bgcolor": "white",
          "plot_bgcolor": "#E5ECF6",
          "polar": {
           "angularaxis": {
            "gridcolor": "white",
            "linecolor": "white",
            "ticks": ""
           },
           "bgcolor": "#E5ECF6",
           "radialaxis": {
            "gridcolor": "white",
            "linecolor": "white",
            "ticks": ""
           }
          },
          "scene": {
           "xaxis": {
            "backgroundcolor": "#E5ECF6",
            "gridcolor": "white",
            "gridwidth": 2,
            "linecolor": "white",
            "showbackground": true,
            "ticks": "",
            "zerolinecolor": "white"
           },
           "yaxis": {
            "backgroundcolor": "#E5ECF6",
            "gridcolor": "white",
            "gridwidth": 2,
            "linecolor": "white",
            "showbackground": true,
            "ticks": "",
            "zerolinecolor": "white"
           },
           "zaxis": {
            "backgroundcolor": "#E5ECF6",
            "gridcolor": "white",
            "gridwidth": 2,
            "linecolor": "white",
            "showbackground": true,
            "ticks": "",
            "zerolinecolor": "white"
           }
          },
          "shapedefaults": {
           "line": {
            "color": "#2a3f5f"
           }
          },
          "ternary": {
           "aaxis": {
            "gridcolor": "white",
            "linecolor": "white",
            "ticks": ""
           },
           "baxis": {
            "gridcolor": "white",
            "linecolor": "white",
            "ticks": ""
           },
           "bgcolor": "#E5ECF6",
           "caxis": {
            "gridcolor": "white",
            "linecolor": "white",
            "ticks": ""
           }
          },
          "title": {
           "x": 0.05
          },
          "xaxis": {
           "automargin": true,
           "gridcolor": "white",
           "linecolor": "white",
           "ticks": "",
           "title": {
            "standoff": 15
           },
           "zerolinecolor": "white",
           "zerolinewidth": 2
          },
          "yaxis": {
           "automargin": true,
           "gridcolor": "white",
           "linecolor": "white",
           "ticks": "",
           "title": {
            "standoff": 15
           },
           "zerolinecolor": "white",
           "zerolinewidth": 2
          }
         }
        },
        "title": {
         "text": "Clusters by State"
        }
       }
      }
     },
     "metadata": {},
     "output_type": "display_data"
    }
   ],
   "source": [
    "full  = processData(data_t)\n",
    "stateClusterGraph(runKmeans(full, getX(full), 4))"
   ]
  },
  {
   "cell_type": "code",
   "execution_count": 441,
   "metadata": {},
   "outputs": [
    {
     "name": "stderr",
     "output_type": "stream",
     "text": [
      "/Users/lorenzomendoza/opt/anaconda3/envs/machinelearning/lib/python3.11/site-packages/sklearn/cluster/_kmeans.py:870: FutureWarning:\n",
      "\n",
      "The default value of `n_init` will change from 10 to 'auto' in 1.4. Set the value of `n_init` explicitly to suppress the warning\n",
      "\n"
     ]
    },
    {
     "data": {
      "application/vnd.plotly.v1+json": {
       "config": {
        "plotlyServerURL": "https://plot.ly"
       },
       "data": [
        {
         "alignmentgroup": "True",
         "hovertemplate": "Geography=%{x}<br>Total : In Correctional Facilities for Adults=%{y}<br>Cluster=%{marker.color}<extra></extra>",
         "legendgroup": "",
         "marker": {
          "color": [
           3,
           0,
           3,
           0,
           1,
           3,
           0,
           0,
           0,
           2,
           2,
           0,
           0,
           3,
           3,
           0,
           0,
           3,
           3,
           0,
           3,
           0,
           3,
           0,
           3,
           3,
           0,
           0,
           0,
           0,
           3,
           0,
           2,
           3,
           0,
           3,
           3,
           0,
           2,
           0,
           3,
           0,
           3,
           1,
           0,
           0,
           3,
           3,
           0,
           3,
           0,
           0
          ],
          "coloraxis": "coloraxis",
          "pattern": {
           "shape": ""
          }
         },
         "name": "",
         "offsetgroup": "",
         "orientation": "v",
         "showlegend": false,
         "textposition": "auto",
         "type": "bar",
         "x": [
          "Alabama",
          "Alaska",
          "Arizona",
          "Arkansas",
          "California",
          "Colorado",
          "Connecticut",
          "Delaware",
          "District of Columbia",
          "Florida",
          "Georgia",
          "Hawaii",
          "Idaho",
          "Illinois",
          "Indiana",
          "Iowa",
          "Kansas",
          "Kentucky",
          "Louisiana",
          "Maine",
          "Maryland",
          "Massachusetts",
          "Michigan",
          "Minnesota",
          "Mississippi",
          "Missouri",
          "Montana",
          "Nebraska",
          "Nevada",
          "New Hampshire",
          "New Jersey",
          "New Mexico",
          "New York",
          "North Carolina",
          "North Dakota",
          "Ohio",
          "Oklahoma",
          "Oregon",
          "Pennsylvania",
          "Rhode Island",
          "South Carolina",
          "South Dakota",
          "Tennessee",
          "Texas",
          "Utah",
          "Vermont",
          "Virginia",
          "Washington",
          "West Virginia",
          "Wisconsin",
          "Wyoming",
          "Puerto Rico"
         ],
         "xaxis": "x",
         "y": [
          41040,
          4106,
          66929,
          25751,
          256407,
          40465,
          20054,
          6439,
          3570,
          166247,
          103117,
          5673,
          11251,
          70218,
          48394,
          13270,
          17952,
          41115,
          60420,
          3679,
          35542,
          24435,
          61639,
          20355,
          34093,
          41797,
          5312,
          8045,
          19815,
          4829,
          44451,
          17791,
          94253,
          60931,
          2488,
          76432,
          40482,
          22166,
          97472,
          3779,
          41146,
          6312,
          46813,
          266201,
          12636,
          1590,
          65190,
          31902,
          16559,
          37850,
          3556,
          12965
         ],
         "yaxis": "y"
        }
       ],
       "layout": {
        "barmode": "relative",
        "coloraxis": {
         "colorbar": {
          "title": {
           "text": "Cluster"
          }
         },
         "colorscale": [
          [
           0,
           "#0d0887"
          ],
          [
           0.1111111111111111,
           "#46039f"
          ],
          [
           0.2222222222222222,
           "#7201a8"
          ],
          [
           0.3333333333333333,
           "#9c179e"
          ],
          [
           0.4444444444444444,
           "#bd3786"
          ],
          [
           0.5555555555555556,
           "#d8576b"
          ],
          [
           0.6666666666666666,
           "#ed7953"
          ],
          [
           0.7777777777777778,
           "#fb9f3a"
          ],
          [
           0.8888888888888888,
           "#fdca26"
          ],
          [
           1,
           "#f0f921"
          ]
         ]
        },
        "legend": {
         "tracegroupgap": 0
        },
        "margin": {
         "t": 60
        },
        "template": {
         "data": {
          "bar": [
           {
            "error_x": {
             "color": "#2a3f5f"
            },
            "error_y": {
             "color": "#2a3f5f"
            },
            "marker": {
             "line": {
              "color": "#E5ECF6",
              "width": 0.5
             },
             "pattern": {
              "fillmode": "overlay",
              "size": 10,
              "solidity": 0.2
             }
            },
            "type": "bar"
           }
          ],
          "barpolar": [
           {
            "marker": {
             "line": {
              "color": "#E5ECF6",
              "width": 0.5
             },
             "pattern": {
              "fillmode": "overlay",
              "size": 10,
              "solidity": 0.2
             }
            },
            "type": "barpolar"
           }
          ],
          "carpet": [
           {
            "aaxis": {
             "endlinecolor": "#2a3f5f",
             "gridcolor": "white",
             "linecolor": "white",
             "minorgridcolor": "white",
             "startlinecolor": "#2a3f5f"
            },
            "baxis": {
             "endlinecolor": "#2a3f5f",
             "gridcolor": "white",
             "linecolor": "white",
             "minorgridcolor": "white",
             "startlinecolor": "#2a3f5f"
            },
            "type": "carpet"
           }
          ],
          "choropleth": [
           {
            "colorbar": {
             "outlinewidth": 0,
             "ticks": ""
            },
            "type": "choropleth"
           }
          ],
          "contour": [
           {
            "colorbar": {
             "outlinewidth": 0,
             "ticks": ""
            },
            "colorscale": [
             [
              0,
              "#0d0887"
             ],
             [
              0.1111111111111111,
              "#46039f"
             ],
             [
              0.2222222222222222,
              "#7201a8"
             ],
             [
              0.3333333333333333,
              "#9c179e"
             ],
             [
              0.4444444444444444,
              "#bd3786"
             ],
             [
              0.5555555555555556,
              "#d8576b"
             ],
             [
              0.6666666666666666,
              "#ed7953"
             ],
             [
              0.7777777777777778,
              "#fb9f3a"
             ],
             [
              0.8888888888888888,
              "#fdca26"
             ],
             [
              1,
              "#f0f921"
             ]
            ],
            "type": "contour"
           }
          ],
          "contourcarpet": [
           {
            "colorbar": {
             "outlinewidth": 0,
             "ticks": ""
            },
            "type": "contourcarpet"
           }
          ],
          "heatmap": [
           {
            "colorbar": {
             "outlinewidth": 0,
             "ticks": ""
            },
            "colorscale": [
             [
              0,
              "#0d0887"
             ],
             [
              0.1111111111111111,
              "#46039f"
             ],
             [
              0.2222222222222222,
              "#7201a8"
             ],
             [
              0.3333333333333333,
              "#9c179e"
             ],
             [
              0.4444444444444444,
              "#bd3786"
             ],
             [
              0.5555555555555556,
              "#d8576b"
             ],
             [
              0.6666666666666666,
              "#ed7953"
             ],
             [
              0.7777777777777778,
              "#fb9f3a"
             ],
             [
              0.8888888888888888,
              "#fdca26"
             ],
             [
              1,
              "#f0f921"
             ]
            ],
            "type": "heatmap"
           }
          ],
          "heatmapgl": [
           {
            "colorbar": {
             "outlinewidth": 0,
             "ticks": ""
            },
            "colorscale": [
             [
              0,
              "#0d0887"
             ],
             [
              0.1111111111111111,
              "#46039f"
             ],
             [
              0.2222222222222222,
              "#7201a8"
             ],
             [
              0.3333333333333333,
              "#9c179e"
             ],
             [
              0.4444444444444444,
              "#bd3786"
             ],
             [
              0.5555555555555556,
              "#d8576b"
             ],
             [
              0.6666666666666666,
              "#ed7953"
             ],
             [
              0.7777777777777778,
              "#fb9f3a"
             ],
             [
              0.8888888888888888,
              "#fdca26"
             ],
             [
              1,
              "#f0f921"
             ]
            ],
            "type": "heatmapgl"
           }
          ],
          "histogram": [
           {
            "marker": {
             "pattern": {
              "fillmode": "overlay",
              "size": 10,
              "solidity": 0.2
             }
            },
            "type": "histogram"
           }
          ],
          "histogram2d": [
           {
            "colorbar": {
             "outlinewidth": 0,
             "ticks": ""
            },
            "colorscale": [
             [
              0,
              "#0d0887"
             ],
             [
              0.1111111111111111,
              "#46039f"
             ],
             [
              0.2222222222222222,
              "#7201a8"
             ],
             [
              0.3333333333333333,
              "#9c179e"
             ],
             [
              0.4444444444444444,
              "#bd3786"
             ],
             [
              0.5555555555555556,
              "#d8576b"
             ],
             [
              0.6666666666666666,
              "#ed7953"
             ],
             [
              0.7777777777777778,
              "#fb9f3a"
             ],
             [
              0.8888888888888888,
              "#fdca26"
             ],
             [
              1,
              "#f0f921"
             ]
            ],
            "type": "histogram2d"
           }
          ],
          "histogram2dcontour": [
           {
            "colorbar": {
             "outlinewidth": 0,
             "ticks": ""
            },
            "colorscale": [
             [
              0,
              "#0d0887"
             ],
             [
              0.1111111111111111,
              "#46039f"
             ],
             [
              0.2222222222222222,
              "#7201a8"
             ],
             [
              0.3333333333333333,
              "#9c179e"
             ],
             [
              0.4444444444444444,
              "#bd3786"
             ],
             [
              0.5555555555555556,
              "#d8576b"
             ],
             [
              0.6666666666666666,
              "#ed7953"
             ],
             [
              0.7777777777777778,
              "#fb9f3a"
             ],
             [
              0.8888888888888888,
              "#fdca26"
             ],
             [
              1,
              "#f0f921"
             ]
            ],
            "type": "histogram2dcontour"
           }
          ],
          "mesh3d": [
           {
            "colorbar": {
             "outlinewidth": 0,
             "ticks": ""
            },
            "type": "mesh3d"
           }
          ],
          "parcoords": [
           {
            "line": {
             "colorbar": {
              "outlinewidth": 0,
              "ticks": ""
             }
            },
            "type": "parcoords"
           }
          ],
          "pie": [
           {
            "automargin": true,
            "type": "pie"
           }
          ],
          "scatter": [
           {
            "fillpattern": {
             "fillmode": "overlay",
             "size": 10,
             "solidity": 0.2
            },
            "type": "scatter"
           }
          ],
          "scatter3d": [
           {
            "line": {
             "colorbar": {
              "outlinewidth": 0,
              "ticks": ""
             }
            },
            "marker": {
             "colorbar": {
              "outlinewidth": 0,
              "ticks": ""
             }
            },
            "type": "scatter3d"
           }
          ],
          "scattercarpet": [
           {
            "marker": {
             "colorbar": {
              "outlinewidth": 0,
              "ticks": ""
             }
            },
            "type": "scattercarpet"
           }
          ],
          "scattergeo": [
           {
            "marker": {
             "colorbar": {
              "outlinewidth": 0,
              "ticks": ""
             }
            },
            "type": "scattergeo"
           }
          ],
          "scattergl": [
           {
            "marker": {
             "colorbar": {
              "outlinewidth": 0,
              "ticks": ""
             }
            },
            "type": "scattergl"
           }
          ],
          "scattermapbox": [
           {
            "marker": {
             "colorbar": {
              "outlinewidth": 0,
              "ticks": ""
             }
            },
            "type": "scattermapbox"
           }
          ],
          "scatterpolar": [
           {
            "marker": {
             "colorbar": {
              "outlinewidth": 0,
              "ticks": ""
             }
            },
            "type": "scatterpolar"
           }
          ],
          "scatterpolargl": [
           {
            "marker": {
             "colorbar": {
              "outlinewidth": 0,
              "ticks": ""
             }
            },
            "type": "scatterpolargl"
           }
          ],
          "scatterternary": [
           {
            "marker": {
             "colorbar": {
              "outlinewidth": 0,
              "ticks": ""
             }
            },
            "type": "scatterternary"
           }
          ],
          "surface": [
           {
            "colorbar": {
             "outlinewidth": 0,
             "ticks": ""
            },
            "colorscale": [
             [
              0,
              "#0d0887"
             ],
             [
              0.1111111111111111,
              "#46039f"
             ],
             [
              0.2222222222222222,
              "#7201a8"
             ],
             [
              0.3333333333333333,
              "#9c179e"
             ],
             [
              0.4444444444444444,
              "#bd3786"
             ],
             [
              0.5555555555555556,
              "#d8576b"
             ],
             [
              0.6666666666666666,
              "#ed7953"
             ],
             [
              0.7777777777777778,
              "#fb9f3a"
             ],
             [
              0.8888888888888888,
              "#fdca26"
             ],
             [
              1,
              "#f0f921"
             ]
            ],
            "type": "surface"
           }
          ],
          "table": [
           {
            "cells": {
             "fill": {
              "color": "#EBF0F8"
             },
             "line": {
              "color": "white"
             }
            },
            "header": {
             "fill": {
              "color": "#C8D4E3"
             },
             "line": {
              "color": "white"
             }
            },
            "type": "table"
           }
          ]
         },
         "layout": {
          "annotationdefaults": {
           "arrowcolor": "#2a3f5f",
           "arrowhead": 0,
           "arrowwidth": 1
          },
          "autotypenumbers": "strict",
          "coloraxis": {
           "colorbar": {
            "outlinewidth": 0,
            "ticks": ""
           }
          },
          "colorscale": {
           "diverging": [
            [
             0,
             "#8e0152"
            ],
            [
             0.1,
             "#c51b7d"
            ],
            [
             0.2,
             "#de77ae"
            ],
            [
             0.3,
             "#f1b6da"
            ],
            [
             0.4,
             "#fde0ef"
            ],
            [
             0.5,
             "#f7f7f7"
            ],
            [
             0.6,
             "#e6f5d0"
            ],
            [
             0.7,
             "#b8e186"
            ],
            [
             0.8,
             "#7fbc41"
            ],
            [
             0.9,
             "#4d9221"
            ],
            [
             1,
             "#276419"
            ]
           ],
           "sequential": [
            [
             0,
             "#0d0887"
            ],
            [
             0.1111111111111111,
             "#46039f"
            ],
            [
             0.2222222222222222,
             "#7201a8"
            ],
            [
             0.3333333333333333,
             "#9c179e"
            ],
            [
             0.4444444444444444,
             "#bd3786"
            ],
            [
             0.5555555555555556,
             "#d8576b"
            ],
            [
             0.6666666666666666,
             "#ed7953"
            ],
            [
             0.7777777777777778,
             "#fb9f3a"
            ],
            [
             0.8888888888888888,
             "#fdca26"
            ],
            [
             1,
             "#f0f921"
            ]
           ],
           "sequentialminus": [
            [
             0,
             "#0d0887"
            ],
            [
             0.1111111111111111,
             "#46039f"
            ],
            [
             0.2222222222222222,
             "#7201a8"
            ],
            [
             0.3333333333333333,
             "#9c179e"
            ],
            [
             0.4444444444444444,
             "#bd3786"
            ],
            [
             0.5555555555555556,
             "#d8576b"
            ],
            [
             0.6666666666666666,
             "#ed7953"
            ],
            [
             0.7777777777777778,
             "#fb9f3a"
            ],
            [
             0.8888888888888888,
             "#fdca26"
            ],
            [
             1,
             "#f0f921"
            ]
           ]
          },
          "colorway": [
           "#636efa",
           "#EF553B",
           "#00cc96",
           "#ab63fa",
           "#FFA15A",
           "#19d3f3",
           "#FF6692",
           "#B6E880",
           "#FF97FF",
           "#FECB52"
          ],
          "font": {
           "color": "#2a3f5f"
          },
          "geo": {
           "bgcolor": "white",
           "lakecolor": "white",
           "landcolor": "#E5ECF6",
           "showlakes": true,
           "showland": true,
           "subunitcolor": "white"
          },
          "hoverlabel": {
           "align": "left"
          },
          "hovermode": "closest",
          "mapbox": {
           "style": "light"
          },
          "paper_bgcolor": "white",
          "plot_bgcolor": "#E5ECF6",
          "polar": {
           "angularaxis": {
            "gridcolor": "white",
            "linecolor": "white",
            "ticks": ""
           },
           "bgcolor": "#E5ECF6",
           "radialaxis": {
            "gridcolor": "white",
            "linecolor": "white",
            "ticks": ""
           }
          },
          "scene": {
           "xaxis": {
            "backgroundcolor": "#E5ECF6",
            "gridcolor": "white",
            "gridwidth": 2,
            "linecolor": "white",
            "showbackground": true,
            "ticks": "",
            "zerolinecolor": "white"
           },
           "yaxis": {
            "backgroundcolor": "#E5ECF6",
            "gridcolor": "white",
            "gridwidth": 2,
            "linecolor": "white",
            "showbackground": true,
            "ticks": "",
            "zerolinecolor": "white"
           },
           "zaxis": {
            "backgroundcolor": "#E5ECF6",
            "gridcolor": "white",
            "gridwidth": 2,
            "linecolor": "white",
            "showbackground": true,
            "ticks": "",
            "zerolinecolor": "white"
           }
          },
          "shapedefaults": {
           "line": {
            "color": "#2a3f5f"
           }
          },
          "ternary": {
           "aaxis": {
            "gridcolor": "white",
            "linecolor": "white",
            "ticks": ""
           },
           "baxis": {
            "gridcolor": "white",
            "linecolor": "white",
            "ticks": ""
           },
           "bgcolor": "#E5ECF6",
           "caxis": {
            "gridcolor": "white",
            "linecolor": "white",
            "ticks": ""
           }
          },
          "title": {
           "x": 0.05
          },
          "xaxis": {
           "automargin": true,
           "gridcolor": "white",
           "linecolor": "white",
           "ticks": "",
           "title": {
            "standoff": 15
           },
           "zerolinecolor": "white",
           "zerolinewidth": 2
          },
          "yaxis": {
           "automargin": true,
           "gridcolor": "white",
           "linecolor": "white",
           "ticks": "",
           "title": {
            "standoff": 15
           },
           "zerolinecolor": "white",
           "zerolinewidth": 2
          }
         }
        },
        "xaxis": {
         "anchor": "y",
         "domain": [
          0,
          1
         ],
         "title": {
          "text": "Geography"
         }
        },
        "yaxis": {
         "anchor": "x",
         "domain": [
          0,
          1
         ],
         "title": {
          "text": "Total : In Correctional Facilities for Adults"
         }
        }
       }
      }
     },
     "metadata": {},
     "output_type": "display_data"
    }
   ],
   "source": [
    "createBarChart(runKmeans(full, getX(full), 4), x_axis=\"Geography\", y_axis='Total : In Correctional Facilities for Adults')\n"
   ]
  }
 ],
 "metadata": {
  "kernelspec": {
   "display_name": "machinelearning",
   "language": "python",
   "name": "python3"
  },
  "language_info": {
   "codemirror_mode": {
    "name": "ipython",
    "version": 3
   },
   "file_extension": ".py",
   "mimetype": "text/x-python",
   "name": "python",
   "nbconvert_exporter": "python",
   "pygments_lexer": "ipython3",
   "version": "3.11.0"
  },
  "orig_nbformat": 4
 },
 "nbformat": 4,
 "nbformat_minor": 2
}
