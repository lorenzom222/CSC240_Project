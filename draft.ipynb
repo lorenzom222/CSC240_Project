{
 "cells": [
  {
   "cell_type": "code",
   "execution_count": 77,
   "metadata": {},
   "outputs": [],
   "source": [
    "import pandas as pd\n",
    "import numpy as np\n",
    "from sklearn.cluster import KMeans\n",
    "from sklearn.preprocessing import StandardScaler\n",
    "import matplotlib.pyplot as plt"
   ]
  },
  {
   "cell_type": "code",
   "execution_count": 78,
   "metadata": {},
   "outputs": [],
   "source": [
    "# load data into pandas DataFrame\n",
    "data = pd.read_csv('male_incarceration_rates.tsv', delimiter='\\t')\n",
    "\n",
    "# select columns of interest\n",
    "columns = ['Geography','Male incarceration rate', 'Male incarceration rate: White alone', 'Male incarceration rate: Black or African American alone', 'Male incarceration rate: American Indian and Alaska Native alone', 'Male incarceration rate: Asian alone']\n",
    "data = data[columns]\n",
    "\n",
    "\n"
   ]
  },
  {
   "cell_type": "code",
   "execution_count": 79,
   "metadata": {},
   "outputs": [
    {
     "data": {
      "text/html": [
       "<div>\n",
       "<style scoped>\n",
       "    .dataframe tbody tr th:only-of-type {\n",
       "        vertical-align: middle;\n",
       "    }\n",
       "\n",
       "    .dataframe tbody tr th {\n",
       "        vertical-align: top;\n",
       "    }\n",
       "\n",
       "    .dataframe thead th {\n",
       "        text-align: right;\n",
       "    }\n",
       "</style>\n",
       "<table border=\"1\" class=\"dataframe\">\n",
       "  <thead>\n",
       "    <tr style=\"text-align: right;\">\n",
       "      <th></th>\n",
       "      <th>Geography</th>\n",
       "      <th>Male incarceration rate</th>\n",
       "      <th>Male incarceration rate: White alone</th>\n",
       "      <th>Male incarceration rate: Black or African American alone</th>\n",
       "      <th>Male incarceration rate: American Indian and Alaska Native alone</th>\n",
       "      <th>Male incarceration rate: Asian alone</th>\n",
       "    </tr>\n",
       "  </thead>\n",
       "  <tbody>\n",
       "    <tr>\n",
       "      <th>0</th>\n",
       "      <td>United States</td>\n",
       "      <td>1,350</td>\n",
       "      <td>916</td>\n",
       "      <td>4,490</td>\n",
       "      <td>2,223</td>\n",
       "      <td>215</td>\n",
       "    </tr>\n",
       "    <tr>\n",
       "      <th>1</th>\n",
       "      <td>Alabama</td>\n",
       "      <td>1,545</td>\n",
       "      <td>918</td>\n",
       "      <td>3,521</td>\n",
       "      <td>470</td>\n",
       "      <td>197</td>\n",
       "    </tr>\n",
       "    <tr>\n",
       "      <th>2</th>\n",
       "      <td>Alaska</td>\n",
       "      <td>947</td>\n",
       "      <td>602</td>\n",
       "      <td>2,070</td>\n",
       "      <td>2,492</td>\n",
       "      <td>236</td>\n",
       "    </tr>\n",
       "    <tr>\n",
       "      <th>3</th>\n",
       "      <td>Arizona</td>\n",
       "      <td>1,899</td>\n",
       "      <td>1,377</td>\n",
       "      <td>5,505</td>\n",
       "      <td>4,078</td>\n",
       "      <td>1,275</td>\n",
       "    </tr>\n",
       "    <tr>\n",
       "      <th>4</th>\n",
       "      <td>Arkansas</td>\n",
       "      <td>1,627</td>\n",
       "      <td>1,093</td>\n",
       "      <td>4,801</td>\n",
       "      <td>1,229</td>\n",
       "      <td>637</td>\n",
       "    </tr>\n",
       "    <tr>\n",
       "      <th>5</th>\n",
       "      <td>California</td>\n",
       "      <td>1,265</td>\n",
       "      <td>1,100</td>\n",
       "      <td>5,666</td>\n",
       "      <td>1,665</td>\n",
       "      <td>174</td>\n",
       "    </tr>\n",
       "    <tr>\n",
       "      <th>6</th>\n",
       "      <td>Colorado</td>\n",
       "      <td>1,459</td>\n",
       "      <td>1,264</td>\n",
       "      <td>6,382</td>\n",
       "      <td>5,259</td>\n",
       "      <td>554</td>\n",
       "    </tr>\n",
       "    <tr>\n",
       "      <th>7</th>\n",
       "      <td>Connecticut</td>\n",
       "      <td>1,002</td>\n",
       "      <td>431</td>\n",
       "      <td>4,274</td>\n",
       "      <td>1,063</td>\n",
       "      <td>113</td>\n",
       "    </tr>\n",
       "    <tr>\n",
       "      <th>8</th>\n",
       "      <td>Delaware</td>\n",
       "      <td>1,384</td>\n",
       "      <td>762</td>\n",
       "      <td>4,028</td>\n",
       "      <td>238</td>\n",
       "      <td>36</td>\n",
       "    </tr>\n",
       "    <tr>\n",
       "      <th>9</th>\n",
       "      <td>District of Columbia</td>\n",
       "      <td>1,093</td>\n",
       "      <td>138</td>\n",
       "      <td>1,974</td>\n",
       "      <td>1,846</td>\n",
       "      <td>204</td>\n",
       "    </tr>\n",
       "    <tr>\n",
       "      <th>10</th>\n",
       "      <td>Florida</td>\n",
       "      <td>1,634</td>\n",
       "      <td>1,092</td>\n",
       "      <td>4,893</td>\n",
       "      <td>974</td>\n",
       "      <td>185</td>\n",
       "    </tr>\n",
       "    <tr>\n",
       "      <th>11</th>\n",
       "      <td>Georgia</td>\n",
       "      <td>1,988</td>\n",
       "      <td>1,203</td>\n",
       "      <td>4,006</td>\n",
       "      <td>1,008</td>\n",
       "      <td>229</td>\n",
       "    </tr>\n",
       "    <tr>\n",
       "      <th>12</th>\n",
       "      <td>Hawaii</td>\n",
       "      <td>672</td>\n",
       "      <td>614</td>\n",
       "      <td>1,462</td>\n",
       "      <td>810</td>\n",
       "      <td>412</td>\n",
       "    </tr>\n",
       "    <tr>\n",
       "      <th>13</th>\n",
       "      <td>Idaho</td>\n",
       "      <td>1,245</td>\n",
       "      <td>1,216</td>\n",
       "      <td>4,995</td>\n",
       "      <td>2,967</td>\n",
       "      <td>319</td>\n",
       "    </tr>\n",
       "    <tr>\n",
       "      <th>14</th>\n",
       "      <td>Illinois</td>\n",
       "      <td>1,025</td>\n",
       "      <td>508</td>\n",
       "      <td>4,196</td>\n",
       "      <td>1,361</td>\n",
       "      <td>73</td>\n",
       "    </tr>\n",
       "    <tr>\n",
       "      <th>15</th>\n",
       "      <td>Indiana</td>\n",
       "      <td>1,378</td>\n",
       "      <td>1,014</td>\n",
       "      <td>5,495</td>\n",
       "      <td>1,622</td>\n",
       "      <td>141</td>\n",
       "    </tr>\n",
       "    <tr>\n",
       "      <th>16</th>\n",
       "      <td>Iowa</td>\n",
       "      <td>781</td>\n",
       "      <td>612</td>\n",
       "      <td>6,001</td>\n",
       "      <td>3,894</td>\n",
       "      <td>311</td>\n",
       "    </tr>\n",
       "    <tr>\n",
       "      <th>17</th>\n",
       "      <td>Kansas</td>\n",
       "      <td>1,165</td>\n",
       "      <td>874</td>\n",
       "      <td>6,036</td>\n",
       "      <td>2,135</td>\n",
       "      <td>425</td>\n",
       "    </tr>\n",
       "    <tr>\n",
       "      <th>18</th>\n",
       "      <td>Kentucky</td>\n",
       "      <td>1,699</td>\n",
       "      <td>1,273</td>\n",
       "      <td>6,733</td>\n",
       "      <td>4,590</td>\n",
       "      <td>468</td>\n",
       "    </tr>\n",
       "    <tr>\n",
       "      <th>19</th>\n",
       "      <td>Louisiana</td>\n",
       "      <td>2,517</td>\n",
       "      <td>1,262</td>\n",
       "      <td>5,406</td>\n",
       "      <td>846</td>\n",
       "      <td>305</td>\n",
       "    </tr>\n",
       "    <tr>\n",
       "      <th>20</th>\n",
       "      <td>Maine</td>\n",
       "      <td>511</td>\n",
       "      <td>481</td>\n",
       "      <td>2,655</td>\n",
       "      <td>1,297</td>\n",
       "      <td>322</td>\n",
       "    </tr>\n",
       "    <tr>\n",
       "      <th>21</th>\n",
       "      <td>Maryland</td>\n",
       "      <td>1,188</td>\n",
       "      <td>587</td>\n",
       "      <td>2,901</td>\n",
       "      <td>352</td>\n",
       "      <td>62</td>\n",
       "    </tr>\n",
       "    <tr>\n",
       "      <th>22</th>\n",
       "      <td>Massachusetts</td>\n",
       "      <td>718</td>\n",
       "      <td>587</td>\n",
       "      <td>2,923</td>\n",
       "      <td>1,815</td>\n",
       "      <td>123</td>\n",
       "    </tr>\n",
       "    <tr>\n",
       "      <th>23</th>\n",
       "      <td>Michigan</td>\n",
       "      <td>1,224</td>\n",
       "      <td>744</td>\n",
       "      <td>4,432</td>\n",
       "      <td>1,714</td>\n",
       "      <td>162</td>\n",
       "    </tr>\n",
       "    <tr>\n",
       "      <th>24</th>\n",
       "      <td>Minnesota</td>\n",
       "      <td>679</td>\n",
       "      <td>440</td>\n",
       "      <td>4,192</td>\n",
       "      <td>4,306</td>\n",
       "      <td>368</td>\n",
       "    </tr>\n",
       "    <tr>\n",
       "      <th>25</th>\n",
       "      <td>Mississippi</td>\n",
       "      <td>2,184</td>\n",
       "      <td>1,304</td>\n",
       "      <td>3,547</td>\n",
       "      <td>1,890</td>\n",
       "      <td>1,440</td>\n",
       "    </tr>\n",
       "    <tr>\n",
       "      <th>26</th>\n",
       "      <td>Missouri</td>\n",
       "      <td>1,296</td>\n",
       "      <td>908</td>\n",
       "      <td>4,625</td>\n",
       "      <td>1,161</td>\n",
       "      <td>72</td>\n",
       "    </tr>\n",
       "    <tr>\n",
       "      <th>27</th>\n",
       "      <td>Montana</td>\n",
       "      <td>934</td>\n",
       "      <td>753</td>\n",
       "      <td>5,071</td>\n",
       "      <td>3,084</td>\n",
       "      <td>482</td>\n",
       "    </tr>\n",
       "    <tr>\n",
       "      <th>28</th>\n",
       "      <td>Nebraska</td>\n",
       "      <td>793</td>\n",
       "      <td>615</td>\n",
       "      <td>4,371</td>\n",
       "      <td>3,085</td>\n",
       "      <td>298</td>\n",
       "    </tr>\n",
       "    <tr>\n",
       "      <th>29</th>\n",
       "      <td>Nevada</td>\n",
       "      <td>1,303</td>\n",
       "      <td>1,171</td>\n",
       "      <td>4,678</td>\n",
       "      <td>2,354</td>\n",
       "      <td>410</td>\n",
       "    </tr>\n",
       "    <tr>\n",
       "      <th>30</th>\n",
       "      <td>New Hampshire</td>\n",
       "      <td>671</td>\n",
       "      <td>632</td>\n",
       "      <td>3,750</td>\n",
       "      <td>1,531</td>\n",
       "      <td>156</td>\n",
       "    </tr>\n",
       "    <tr>\n",
       "      <th>31</th>\n",
       "      <td>New Jersey</td>\n",
       "      <td>960</td>\n",
       "      <td>504</td>\n",
       "      <td>3,995</td>\n",
       "      <td>1,332</td>\n",
       "      <td>94</td>\n",
       "    </tr>\n",
       "    <tr>\n",
       "      <th>32</th>\n",
       "      <td>New Mexico</td>\n",
       "      <td>1,556</td>\n",
       "      <td>1,627</td>\n",
       "      <td>4,201</td>\n",
       "      <td>1,821</td>\n",
       "      <td>424</td>\n",
       "    </tr>\n",
       "    <tr>\n",
       "      <th>33</th>\n",
       "      <td>New York</td>\n",
       "      <td>945</td>\n",
       "      <td>497</td>\n",
       "      <td>3,361</td>\n",
       "      <td>1,316</td>\n",
       "      <td>104</td>\n",
       "    </tr>\n",
       "    <tr>\n",
       "      <th>34</th>\n",
       "      <td>North Carolina</td>\n",
       "      <td>1,213</td>\n",
       "      <td>682</td>\n",
       "      <td>3,311</td>\n",
       "      <td>1,659</td>\n",
       "      <td>203</td>\n",
       "    </tr>\n",
       "    <tr>\n",
       "      <th>35</th>\n",
       "      <td>North Dakota</td>\n",
       "      <td>645</td>\n",
       "      <td>454</td>\n",
       "      <td>2,580</td>\n",
       "      <td>3,331</td>\n",
       "      <td>59</td>\n",
       "    </tr>\n",
       "    <tr>\n",
       "      <th>36</th>\n",
       "      <td>Ohio</td>\n",
       "      <td>1,229</td>\n",
       "      <td>784</td>\n",
       "      <td>4,584</td>\n",
       "      <td>1,311</td>\n",
       "      <td>247</td>\n",
       "    </tr>\n",
       "    <tr>\n",
       "      <th>37</th>\n",
       "      <td>Oklahoma</td>\n",
       "      <td>1,950</td>\n",
       "      <td>1,603</td>\n",
       "      <td>6,976</td>\n",
       "      <td>1,817</td>\n",
       "      <td>498</td>\n",
       "    </tr>\n",
       "    <tr>\n",
       "      <th>38</th>\n",
       "      <td>Oregon</td>\n",
       "      <td>1,055</td>\n",
       "      <td>986</td>\n",
       "      <td>5,490</td>\n",
       "      <td>2,269</td>\n",
       "      <td>475</td>\n",
       "    </tr>\n",
       "    <tr>\n",
       "      <th>39</th>\n",
       "      <td>Pennsylvania</td>\n",
       "      <td>1,459</td>\n",
       "      <td>728</td>\n",
       "      <td>6,442</td>\n",
       "      <td>1,911</td>\n",
       "      <td>301</td>\n",
       "    </tr>\n",
       "    <tr>\n",
       "      <th>40</th>\n",
       "      <td>Rhode Island</td>\n",
       "      <td>701</td>\n",
       "      <td>447</td>\n",
       "      <td>3,601</td>\n",
       "      <td>772</td>\n",
       "      <td>308</td>\n",
       "    </tr>\n",
       "    <tr>\n",
       "      <th>41</th>\n",
       "      <td>South Carolina</td>\n",
       "      <td>1,702</td>\n",
       "      <td>836</td>\n",
       "      <td>3,990</td>\n",
       "      <td>1,941</td>\n",
       "      <td>302</td>\n",
       "    </tr>\n",
       "    <tr>\n",
       "      <th>42</th>\n",
       "      <td>South Dakota</td>\n",
       "      <td>1,367</td>\n",
       "      <td>957</td>\n",
       "      <td>7,353</td>\n",
       "      <td>4,245</td>\n",
       "      <td>888</td>\n",
       "    </tr>\n",
       "    <tr>\n",
       "      <th>43</th>\n",
       "      <td>Tennessee</td>\n",
       "      <td>1,338</td>\n",
       "      <td>877</td>\n",
       "      <td>3,857</td>\n",
       "      <td>1,097</td>\n",
       "      <td>215</td>\n",
       "    </tr>\n",
       "    <tr>\n",
       "      <th>44</th>\n",
       "      <td>Texas</td>\n",
       "      <td>1,926</td>\n",
       "      <td>1,506</td>\n",
       "      <td>5,371</td>\n",
       "      <td>940</td>\n",
       "      <td>321</td>\n",
       "    </tr>\n",
       "    <tr>\n",
       "      <th>45</th>\n",
       "      <td>Utah</td>\n",
       "      <td>788</td>\n",
       "      <td>715</td>\n",
       "      <td>4,368</td>\n",
       "      <td>2,604</td>\n",
       "      <td>292</td>\n",
       "    </tr>\n",
       "    <tr>\n",
       "      <th>46</th>\n",
       "      <td>Vermont</td>\n",
       "      <td>464</td>\n",
       "      <td>413</td>\n",
       "      <td>3,526</td>\n",
       "      <td>2,387</td>\n",
       "      <td>57</td>\n",
       "    </tr>\n",
       "    <tr>\n",
       "      <th>47</th>\n",
       "      <td>Virginia</td>\n",
       "      <td>1,509</td>\n",
       "      <td>845</td>\n",
       "      <td>4,721</td>\n",
       "      <td>1,223</td>\n",
       "      <td>126</td>\n",
       "    </tr>\n",
       "    <tr>\n",
       "      <th>48</th>\n",
       "      <td>Washington</td>\n",
       "      <td>855</td>\n",
       "      <td>784</td>\n",
       "      <td>4,073</td>\n",
       "      <td>2,420</td>\n",
       "      <td>200</td>\n",
       "    </tr>\n",
       "    <tr>\n",
       "      <th>49</th>\n",
       "      <td>West Virginia</td>\n",
       "      <td>1,534</td>\n",
       "      <td>1,091</td>\n",
       "      <td>11,957</td>\n",
       "      <td>4,195</td>\n",
       "      <td>620</td>\n",
       "    </tr>\n",
       "    <tr>\n",
       "      <th>50</th>\n",
       "      <td>Wisconsin</td>\n",
       "      <td>1,228</td>\n",
       "      <td>780</td>\n",
       "      <td>7,708</td>\n",
       "      <td>4,527</td>\n",
       "      <td>278</td>\n",
       "    </tr>\n",
       "    <tr>\n",
       "      <th>51</th>\n",
       "      <td>Wyoming</td>\n",
       "      <td>1,066</td>\n",
       "      <td>959</td>\n",
       "      <td>4,885</td>\n",
       "      <td>3,599</td>\n",
       "      <td>416</td>\n",
       "    </tr>\n",
       "    <tr>\n",
       "      <th>52</th>\n",
       "      <td>Puerto Rico</td>\n",
       "      <td>701</td>\n",
       "      <td>640</td>\n",
       "      <td>1,162</td>\n",
       "      <td>2,158</td>\n",
       "      <td>325</td>\n",
       "    </tr>\n",
       "  </tbody>\n",
       "</table>\n",
       "</div>"
      ],
      "text/plain": [
       "               Geography Male incarceration rate  \\\n",
       "0          United States                   1,350   \n",
       "1                Alabama                   1,545   \n",
       "2                 Alaska                     947   \n",
       "3                Arizona                   1,899   \n",
       "4               Arkansas                   1,627   \n",
       "5             California                   1,265   \n",
       "6               Colorado                   1,459   \n",
       "7            Connecticut                   1,002   \n",
       "8               Delaware                   1,384   \n",
       "9   District of Columbia                   1,093   \n",
       "10               Florida                   1,634   \n",
       "11               Georgia                   1,988   \n",
       "12                Hawaii                     672   \n",
       "13                 Idaho                   1,245   \n",
       "14              Illinois                   1,025   \n",
       "15               Indiana                   1,378   \n",
       "16                  Iowa                     781   \n",
       "17                Kansas                   1,165   \n",
       "18              Kentucky                   1,699   \n",
       "19             Louisiana                   2,517   \n",
       "20                 Maine                     511   \n",
       "21              Maryland                   1,188   \n",
       "22         Massachusetts                     718   \n",
       "23              Michigan                   1,224   \n",
       "24             Minnesota                     679   \n",
       "25           Mississippi                   2,184   \n",
       "26              Missouri                   1,296   \n",
       "27               Montana                     934   \n",
       "28              Nebraska                     793   \n",
       "29                Nevada                   1,303   \n",
       "30         New Hampshire                     671   \n",
       "31            New Jersey                     960   \n",
       "32            New Mexico                   1,556   \n",
       "33              New York                     945   \n",
       "34        North Carolina                   1,213   \n",
       "35          North Dakota                     645   \n",
       "36                  Ohio                   1,229   \n",
       "37              Oklahoma                   1,950   \n",
       "38                Oregon                   1,055   \n",
       "39          Pennsylvania                   1,459   \n",
       "40          Rhode Island                     701   \n",
       "41        South Carolina                   1,702   \n",
       "42          South Dakota                   1,367   \n",
       "43             Tennessee                   1,338   \n",
       "44                 Texas                   1,926   \n",
       "45                  Utah                     788   \n",
       "46               Vermont                     464   \n",
       "47              Virginia                   1,509   \n",
       "48            Washington                     855   \n",
       "49         West Virginia                   1,534   \n",
       "50             Wisconsin                   1,228   \n",
       "51               Wyoming                   1,066   \n",
       "52           Puerto Rico                     701   \n",
       "\n",
       "   Male incarceration rate: White alone  \\\n",
       "0                                   916   \n",
       "1                                   918   \n",
       "2                                   602   \n",
       "3                                 1,377   \n",
       "4                                 1,093   \n",
       "5                                 1,100   \n",
       "6                                 1,264   \n",
       "7                                   431   \n",
       "8                                   762   \n",
       "9                                   138   \n",
       "10                                1,092   \n",
       "11                                1,203   \n",
       "12                                  614   \n",
       "13                                1,216   \n",
       "14                                  508   \n",
       "15                                1,014   \n",
       "16                                  612   \n",
       "17                                  874   \n",
       "18                                1,273   \n",
       "19                                1,262   \n",
       "20                                  481   \n",
       "21                                  587   \n",
       "22                                  587   \n",
       "23                                  744   \n",
       "24                                  440   \n",
       "25                                1,304   \n",
       "26                                  908   \n",
       "27                                  753   \n",
       "28                                  615   \n",
       "29                                1,171   \n",
       "30                                  632   \n",
       "31                                  504   \n",
       "32                                1,627   \n",
       "33                                  497   \n",
       "34                                  682   \n",
       "35                                  454   \n",
       "36                                  784   \n",
       "37                                1,603   \n",
       "38                                  986   \n",
       "39                                  728   \n",
       "40                                  447   \n",
       "41                                  836   \n",
       "42                                  957   \n",
       "43                                  877   \n",
       "44                                1,506   \n",
       "45                                  715   \n",
       "46                                  413   \n",
       "47                                  845   \n",
       "48                                  784   \n",
       "49                                1,091   \n",
       "50                                  780   \n",
       "51                                  959   \n",
       "52                                  640   \n",
       "\n",
       "   Male incarceration rate: Black or African American alone  \\\n",
       "0                                               4,490         \n",
       "1                                               3,521         \n",
       "2                                               2,070         \n",
       "3                                               5,505         \n",
       "4                                               4,801         \n",
       "5                                               5,666         \n",
       "6                                               6,382         \n",
       "7                                               4,274         \n",
       "8                                               4,028         \n",
       "9                                               1,974         \n",
       "10                                              4,893         \n",
       "11                                              4,006         \n",
       "12                                              1,462         \n",
       "13                                              4,995         \n",
       "14                                              4,196         \n",
       "15                                              5,495         \n",
       "16                                              6,001         \n",
       "17                                              6,036         \n",
       "18                                              6,733         \n",
       "19                                              5,406         \n",
       "20                                              2,655         \n",
       "21                                              2,901         \n",
       "22                                              2,923         \n",
       "23                                              4,432         \n",
       "24                                              4,192         \n",
       "25                                              3,547         \n",
       "26                                              4,625         \n",
       "27                                              5,071         \n",
       "28                                              4,371         \n",
       "29                                              4,678         \n",
       "30                                              3,750         \n",
       "31                                              3,995         \n",
       "32                                              4,201         \n",
       "33                                              3,361         \n",
       "34                                              3,311         \n",
       "35                                              2,580         \n",
       "36                                              4,584         \n",
       "37                                              6,976         \n",
       "38                                              5,490         \n",
       "39                                              6,442         \n",
       "40                                              3,601         \n",
       "41                                              3,990         \n",
       "42                                              7,353         \n",
       "43                                              3,857         \n",
       "44                                              5,371         \n",
       "45                                              4,368         \n",
       "46                                              3,526         \n",
       "47                                              4,721         \n",
       "48                                              4,073         \n",
       "49                                             11,957         \n",
       "50                                              7,708         \n",
       "51                                              4,885         \n",
       "52                                              1,162         \n",
       "\n",
       "   Male incarceration rate: American Indian and Alaska Native alone  \\\n",
       "0                                               2,223                 \n",
       "1                                                 470                 \n",
       "2                                               2,492                 \n",
       "3                                               4,078                 \n",
       "4                                               1,229                 \n",
       "5                                               1,665                 \n",
       "6                                               5,259                 \n",
       "7                                               1,063                 \n",
       "8                                                 238                 \n",
       "9                                               1,846                 \n",
       "10                                                974                 \n",
       "11                                              1,008                 \n",
       "12                                                810                 \n",
       "13                                              2,967                 \n",
       "14                                              1,361                 \n",
       "15                                              1,622                 \n",
       "16                                              3,894                 \n",
       "17                                              2,135                 \n",
       "18                                              4,590                 \n",
       "19                                                846                 \n",
       "20                                              1,297                 \n",
       "21                                                352                 \n",
       "22                                              1,815                 \n",
       "23                                              1,714                 \n",
       "24                                              4,306                 \n",
       "25                                              1,890                 \n",
       "26                                              1,161                 \n",
       "27                                              3,084                 \n",
       "28                                              3,085                 \n",
       "29                                              2,354                 \n",
       "30                                              1,531                 \n",
       "31                                              1,332                 \n",
       "32                                              1,821                 \n",
       "33                                              1,316                 \n",
       "34                                              1,659                 \n",
       "35                                              3,331                 \n",
       "36                                              1,311                 \n",
       "37                                              1,817                 \n",
       "38                                              2,269                 \n",
       "39                                              1,911                 \n",
       "40                                                772                 \n",
       "41                                              1,941                 \n",
       "42                                              4,245                 \n",
       "43                                              1,097                 \n",
       "44                                                940                 \n",
       "45                                              2,604                 \n",
       "46                                              2,387                 \n",
       "47                                              1,223                 \n",
       "48                                              2,420                 \n",
       "49                                              4,195                 \n",
       "50                                              4,527                 \n",
       "51                                              3,599                 \n",
       "52                                              2,158                 \n",
       "\n",
       "   Male incarceration rate: Asian alone  \n",
       "0                                   215  \n",
       "1                                   197  \n",
       "2                                   236  \n",
       "3                                 1,275  \n",
       "4                                   637  \n",
       "5                                   174  \n",
       "6                                   554  \n",
       "7                                   113  \n",
       "8                                    36  \n",
       "9                                   204  \n",
       "10                                  185  \n",
       "11                                  229  \n",
       "12                                  412  \n",
       "13                                  319  \n",
       "14                                   73  \n",
       "15                                  141  \n",
       "16                                  311  \n",
       "17                                  425  \n",
       "18                                  468  \n",
       "19                                  305  \n",
       "20                                  322  \n",
       "21                                   62  \n",
       "22                                  123  \n",
       "23                                  162  \n",
       "24                                  368  \n",
       "25                                1,440  \n",
       "26                                   72  \n",
       "27                                  482  \n",
       "28                                  298  \n",
       "29                                  410  \n",
       "30                                  156  \n",
       "31                                   94  \n",
       "32                                  424  \n",
       "33                                  104  \n",
       "34                                  203  \n",
       "35                                   59  \n",
       "36                                  247  \n",
       "37                                  498  \n",
       "38                                  475  \n",
       "39                                  301  \n",
       "40                                  308  \n",
       "41                                  302  \n",
       "42                                  888  \n",
       "43                                  215  \n",
       "44                                  321  \n",
       "45                                  292  \n",
       "46                                   57  \n",
       "47                                  126  \n",
       "48                                  200  \n",
       "49                                  620  \n",
       "50                                  278  \n",
       "51                                  416  \n",
       "52                                  325  "
      ]
     },
     "execution_count": 79,
     "metadata": {},
     "output_type": "execute_result"
    }
   ],
   "source": [
    "data"
   ]
  },
  {
   "cell_type": "code",
   "execution_count": 80,
   "metadata": {},
   "outputs": [],
   "source": [
    "for col in columns:\n",
    "    if col == 'Geography':\n",
    "        continue\n",
    "    data[col] = data[col].str.replace(',', '').astype(float)"
   ]
  },
  {
   "cell_type": "code",
   "execution_count": 81,
   "metadata": {},
   "outputs": [
    {
     "data": {
      "text/html": [
       "<div>\n",
       "<style scoped>\n",
       "    .dataframe tbody tr th:only-of-type {\n",
       "        vertical-align: middle;\n",
       "    }\n",
       "\n",
       "    .dataframe tbody tr th {\n",
       "        vertical-align: top;\n",
       "    }\n",
       "\n",
       "    .dataframe thead th {\n",
       "        text-align: right;\n",
       "    }\n",
       "</style>\n",
       "<table border=\"1\" class=\"dataframe\">\n",
       "  <thead>\n",
       "    <tr style=\"text-align: right;\">\n",
       "      <th></th>\n",
       "      <th>Geography</th>\n",
       "      <th>Male incarceration rate</th>\n",
       "      <th>Male incarceration rate: White alone</th>\n",
       "      <th>Male incarceration rate: Black or African American alone</th>\n",
       "      <th>Male incarceration rate: American Indian and Alaska Native alone</th>\n",
       "      <th>Male incarceration rate: Asian alone</th>\n",
       "    </tr>\n",
       "  </thead>\n",
       "  <tbody>\n",
       "    <tr>\n",
       "      <th>0</th>\n",
       "      <td>United States</td>\n",
       "      <td>1350.0</td>\n",
       "      <td>916.0</td>\n",
       "      <td>4490.0</td>\n",
       "      <td>2223.0</td>\n",
       "      <td>215.0</td>\n",
       "    </tr>\n",
       "    <tr>\n",
       "      <th>1</th>\n",
       "      <td>Alabama</td>\n",
       "      <td>1545.0</td>\n",
       "      <td>918.0</td>\n",
       "      <td>3521.0</td>\n",
       "      <td>470.0</td>\n",
       "      <td>197.0</td>\n",
       "    </tr>\n",
       "    <tr>\n",
       "      <th>2</th>\n",
       "      <td>Alaska</td>\n",
       "      <td>947.0</td>\n",
       "      <td>602.0</td>\n",
       "      <td>2070.0</td>\n",
       "      <td>2492.0</td>\n",
       "      <td>236.0</td>\n",
       "    </tr>\n",
       "    <tr>\n",
       "      <th>3</th>\n",
       "      <td>Arizona</td>\n",
       "      <td>1899.0</td>\n",
       "      <td>1377.0</td>\n",
       "      <td>5505.0</td>\n",
       "      <td>4078.0</td>\n",
       "      <td>1275.0</td>\n",
       "    </tr>\n",
       "    <tr>\n",
       "      <th>4</th>\n",
       "      <td>Arkansas</td>\n",
       "      <td>1627.0</td>\n",
       "      <td>1093.0</td>\n",
       "      <td>4801.0</td>\n",
       "      <td>1229.0</td>\n",
       "      <td>637.0</td>\n",
       "    </tr>\n",
       "    <tr>\n",
       "      <th>5</th>\n",
       "      <td>California</td>\n",
       "      <td>1265.0</td>\n",
       "      <td>1100.0</td>\n",
       "      <td>5666.0</td>\n",
       "      <td>1665.0</td>\n",
       "      <td>174.0</td>\n",
       "    </tr>\n",
       "    <tr>\n",
       "      <th>6</th>\n",
       "      <td>Colorado</td>\n",
       "      <td>1459.0</td>\n",
       "      <td>1264.0</td>\n",
       "      <td>6382.0</td>\n",
       "      <td>5259.0</td>\n",
       "      <td>554.0</td>\n",
       "    </tr>\n",
       "    <tr>\n",
       "      <th>7</th>\n",
       "      <td>Connecticut</td>\n",
       "      <td>1002.0</td>\n",
       "      <td>431.0</td>\n",
       "      <td>4274.0</td>\n",
       "      <td>1063.0</td>\n",
       "      <td>113.0</td>\n",
       "    </tr>\n",
       "    <tr>\n",
       "      <th>8</th>\n",
       "      <td>Delaware</td>\n",
       "      <td>1384.0</td>\n",
       "      <td>762.0</td>\n",
       "      <td>4028.0</td>\n",
       "      <td>238.0</td>\n",
       "      <td>36.0</td>\n",
       "    </tr>\n",
       "    <tr>\n",
       "      <th>9</th>\n",
       "      <td>District of Columbia</td>\n",
       "      <td>1093.0</td>\n",
       "      <td>138.0</td>\n",
       "      <td>1974.0</td>\n",
       "      <td>1846.0</td>\n",
       "      <td>204.0</td>\n",
       "    </tr>\n",
       "    <tr>\n",
       "      <th>10</th>\n",
       "      <td>Florida</td>\n",
       "      <td>1634.0</td>\n",
       "      <td>1092.0</td>\n",
       "      <td>4893.0</td>\n",
       "      <td>974.0</td>\n",
       "      <td>185.0</td>\n",
       "    </tr>\n",
       "    <tr>\n",
       "      <th>11</th>\n",
       "      <td>Georgia</td>\n",
       "      <td>1988.0</td>\n",
       "      <td>1203.0</td>\n",
       "      <td>4006.0</td>\n",
       "      <td>1008.0</td>\n",
       "      <td>229.0</td>\n",
       "    </tr>\n",
       "    <tr>\n",
       "      <th>12</th>\n",
       "      <td>Hawaii</td>\n",
       "      <td>672.0</td>\n",
       "      <td>614.0</td>\n",
       "      <td>1462.0</td>\n",
       "      <td>810.0</td>\n",
       "      <td>412.0</td>\n",
       "    </tr>\n",
       "    <tr>\n",
       "      <th>13</th>\n",
       "      <td>Idaho</td>\n",
       "      <td>1245.0</td>\n",
       "      <td>1216.0</td>\n",
       "      <td>4995.0</td>\n",
       "      <td>2967.0</td>\n",
       "      <td>319.0</td>\n",
       "    </tr>\n",
       "    <tr>\n",
       "      <th>14</th>\n",
       "      <td>Illinois</td>\n",
       "      <td>1025.0</td>\n",
       "      <td>508.0</td>\n",
       "      <td>4196.0</td>\n",
       "      <td>1361.0</td>\n",
       "      <td>73.0</td>\n",
       "    </tr>\n",
       "    <tr>\n",
       "      <th>15</th>\n",
       "      <td>Indiana</td>\n",
       "      <td>1378.0</td>\n",
       "      <td>1014.0</td>\n",
       "      <td>5495.0</td>\n",
       "      <td>1622.0</td>\n",
       "      <td>141.0</td>\n",
       "    </tr>\n",
       "    <tr>\n",
       "      <th>16</th>\n",
       "      <td>Iowa</td>\n",
       "      <td>781.0</td>\n",
       "      <td>612.0</td>\n",
       "      <td>6001.0</td>\n",
       "      <td>3894.0</td>\n",
       "      <td>311.0</td>\n",
       "    </tr>\n",
       "    <tr>\n",
       "      <th>17</th>\n",
       "      <td>Kansas</td>\n",
       "      <td>1165.0</td>\n",
       "      <td>874.0</td>\n",
       "      <td>6036.0</td>\n",
       "      <td>2135.0</td>\n",
       "      <td>425.0</td>\n",
       "    </tr>\n",
       "    <tr>\n",
       "      <th>18</th>\n",
       "      <td>Kentucky</td>\n",
       "      <td>1699.0</td>\n",
       "      <td>1273.0</td>\n",
       "      <td>6733.0</td>\n",
       "      <td>4590.0</td>\n",
       "      <td>468.0</td>\n",
       "    </tr>\n",
       "    <tr>\n",
       "      <th>19</th>\n",
       "      <td>Louisiana</td>\n",
       "      <td>2517.0</td>\n",
       "      <td>1262.0</td>\n",
       "      <td>5406.0</td>\n",
       "      <td>846.0</td>\n",
       "      <td>305.0</td>\n",
       "    </tr>\n",
       "    <tr>\n",
       "      <th>20</th>\n",
       "      <td>Maine</td>\n",
       "      <td>511.0</td>\n",
       "      <td>481.0</td>\n",
       "      <td>2655.0</td>\n",
       "      <td>1297.0</td>\n",
       "      <td>322.0</td>\n",
       "    </tr>\n",
       "    <tr>\n",
       "      <th>21</th>\n",
       "      <td>Maryland</td>\n",
       "      <td>1188.0</td>\n",
       "      <td>587.0</td>\n",
       "      <td>2901.0</td>\n",
       "      <td>352.0</td>\n",
       "      <td>62.0</td>\n",
       "    </tr>\n",
       "    <tr>\n",
       "      <th>22</th>\n",
       "      <td>Massachusetts</td>\n",
       "      <td>718.0</td>\n",
       "      <td>587.0</td>\n",
       "      <td>2923.0</td>\n",
       "      <td>1815.0</td>\n",
       "      <td>123.0</td>\n",
       "    </tr>\n",
       "    <tr>\n",
       "      <th>23</th>\n",
       "      <td>Michigan</td>\n",
       "      <td>1224.0</td>\n",
       "      <td>744.0</td>\n",
       "      <td>4432.0</td>\n",
       "      <td>1714.0</td>\n",
       "      <td>162.0</td>\n",
       "    </tr>\n",
       "    <tr>\n",
       "      <th>24</th>\n",
       "      <td>Minnesota</td>\n",
       "      <td>679.0</td>\n",
       "      <td>440.0</td>\n",
       "      <td>4192.0</td>\n",
       "      <td>4306.0</td>\n",
       "      <td>368.0</td>\n",
       "    </tr>\n",
       "    <tr>\n",
       "      <th>25</th>\n",
       "      <td>Mississippi</td>\n",
       "      <td>2184.0</td>\n",
       "      <td>1304.0</td>\n",
       "      <td>3547.0</td>\n",
       "      <td>1890.0</td>\n",
       "      <td>1440.0</td>\n",
       "    </tr>\n",
       "    <tr>\n",
       "      <th>26</th>\n",
       "      <td>Missouri</td>\n",
       "      <td>1296.0</td>\n",
       "      <td>908.0</td>\n",
       "      <td>4625.0</td>\n",
       "      <td>1161.0</td>\n",
       "      <td>72.0</td>\n",
       "    </tr>\n",
       "    <tr>\n",
       "      <th>27</th>\n",
       "      <td>Montana</td>\n",
       "      <td>934.0</td>\n",
       "      <td>753.0</td>\n",
       "      <td>5071.0</td>\n",
       "      <td>3084.0</td>\n",
       "      <td>482.0</td>\n",
       "    </tr>\n",
       "    <tr>\n",
       "      <th>28</th>\n",
       "      <td>Nebraska</td>\n",
       "      <td>793.0</td>\n",
       "      <td>615.0</td>\n",
       "      <td>4371.0</td>\n",
       "      <td>3085.0</td>\n",
       "      <td>298.0</td>\n",
       "    </tr>\n",
       "    <tr>\n",
       "      <th>29</th>\n",
       "      <td>Nevada</td>\n",
       "      <td>1303.0</td>\n",
       "      <td>1171.0</td>\n",
       "      <td>4678.0</td>\n",
       "      <td>2354.0</td>\n",
       "      <td>410.0</td>\n",
       "    </tr>\n",
       "    <tr>\n",
       "      <th>30</th>\n",
       "      <td>New Hampshire</td>\n",
       "      <td>671.0</td>\n",
       "      <td>632.0</td>\n",
       "      <td>3750.0</td>\n",
       "      <td>1531.0</td>\n",
       "      <td>156.0</td>\n",
       "    </tr>\n",
       "    <tr>\n",
       "      <th>31</th>\n",
       "      <td>New Jersey</td>\n",
       "      <td>960.0</td>\n",
       "      <td>504.0</td>\n",
       "      <td>3995.0</td>\n",
       "      <td>1332.0</td>\n",
       "      <td>94.0</td>\n",
       "    </tr>\n",
       "    <tr>\n",
       "      <th>32</th>\n",
       "      <td>New Mexico</td>\n",
       "      <td>1556.0</td>\n",
       "      <td>1627.0</td>\n",
       "      <td>4201.0</td>\n",
       "      <td>1821.0</td>\n",
       "      <td>424.0</td>\n",
       "    </tr>\n",
       "    <tr>\n",
       "      <th>33</th>\n",
       "      <td>New York</td>\n",
       "      <td>945.0</td>\n",
       "      <td>497.0</td>\n",
       "      <td>3361.0</td>\n",
       "      <td>1316.0</td>\n",
       "      <td>104.0</td>\n",
       "    </tr>\n",
       "    <tr>\n",
       "      <th>34</th>\n",
       "      <td>North Carolina</td>\n",
       "      <td>1213.0</td>\n",
       "      <td>682.0</td>\n",
       "      <td>3311.0</td>\n",
       "      <td>1659.0</td>\n",
       "      <td>203.0</td>\n",
       "    </tr>\n",
       "    <tr>\n",
       "      <th>35</th>\n",
       "      <td>North Dakota</td>\n",
       "      <td>645.0</td>\n",
       "      <td>454.0</td>\n",
       "      <td>2580.0</td>\n",
       "      <td>3331.0</td>\n",
       "      <td>59.0</td>\n",
       "    </tr>\n",
       "    <tr>\n",
       "      <th>36</th>\n",
       "      <td>Ohio</td>\n",
       "      <td>1229.0</td>\n",
       "      <td>784.0</td>\n",
       "      <td>4584.0</td>\n",
       "      <td>1311.0</td>\n",
       "      <td>247.0</td>\n",
       "    </tr>\n",
       "    <tr>\n",
       "      <th>37</th>\n",
       "      <td>Oklahoma</td>\n",
       "      <td>1950.0</td>\n",
       "      <td>1603.0</td>\n",
       "      <td>6976.0</td>\n",
       "      <td>1817.0</td>\n",
       "      <td>498.0</td>\n",
       "    </tr>\n",
       "    <tr>\n",
       "      <th>38</th>\n",
       "      <td>Oregon</td>\n",
       "      <td>1055.0</td>\n",
       "      <td>986.0</td>\n",
       "      <td>5490.0</td>\n",
       "      <td>2269.0</td>\n",
       "      <td>475.0</td>\n",
       "    </tr>\n",
       "    <tr>\n",
       "      <th>39</th>\n",
       "      <td>Pennsylvania</td>\n",
       "      <td>1459.0</td>\n",
       "      <td>728.0</td>\n",
       "      <td>6442.0</td>\n",
       "      <td>1911.0</td>\n",
       "      <td>301.0</td>\n",
       "    </tr>\n",
       "    <tr>\n",
       "      <th>40</th>\n",
       "      <td>Rhode Island</td>\n",
       "      <td>701.0</td>\n",
       "      <td>447.0</td>\n",
       "      <td>3601.0</td>\n",
       "      <td>772.0</td>\n",
       "      <td>308.0</td>\n",
       "    </tr>\n",
       "    <tr>\n",
       "      <th>41</th>\n",
       "      <td>South Carolina</td>\n",
       "      <td>1702.0</td>\n",
       "      <td>836.0</td>\n",
       "      <td>3990.0</td>\n",
       "      <td>1941.0</td>\n",
       "      <td>302.0</td>\n",
       "    </tr>\n",
       "    <tr>\n",
       "      <th>42</th>\n",
       "      <td>South Dakota</td>\n",
       "      <td>1367.0</td>\n",
       "      <td>957.0</td>\n",
       "      <td>7353.0</td>\n",
       "      <td>4245.0</td>\n",
       "      <td>888.0</td>\n",
       "    </tr>\n",
       "    <tr>\n",
       "      <th>43</th>\n",
       "      <td>Tennessee</td>\n",
       "      <td>1338.0</td>\n",
       "      <td>877.0</td>\n",
       "      <td>3857.0</td>\n",
       "      <td>1097.0</td>\n",
       "      <td>215.0</td>\n",
       "    </tr>\n",
       "    <tr>\n",
       "      <th>44</th>\n",
       "      <td>Texas</td>\n",
       "      <td>1926.0</td>\n",
       "      <td>1506.0</td>\n",
       "      <td>5371.0</td>\n",
       "      <td>940.0</td>\n",
       "      <td>321.0</td>\n",
       "    </tr>\n",
       "    <tr>\n",
       "      <th>45</th>\n",
       "      <td>Utah</td>\n",
       "      <td>788.0</td>\n",
       "      <td>715.0</td>\n",
       "      <td>4368.0</td>\n",
       "      <td>2604.0</td>\n",
       "      <td>292.0</td>\n",
       "    </tr>\n",
       "    <tr>\n",
       "      <th>46</th>\n",
       "      <td>Vermont</td>\n",
       "      <td>464.0</td>\n",
       "      <td>413.0</td>\n",
       "      <td>3526.0</td>\n",
       "      <td>2387.0</td>\n",
       "      <td>57.0</td>\n",
       "    </tr>\n",
       "    <tr>\n",
       "      <th>47</th>\n",
       "      <td>Virginia</td>\n",
       "      <td>1509.0</td>\n",
       "      <td>845.0</td>\n",
       "      <td>4721.0</td>\n",
       "      <td>1223.0</td>\n",
       "      <td>126.0</td>\n",
       "    </tr>\n",
       "    <tr>\n",
       "      <th>48</th>\n",
       "      <td>Washington</td>\n",
       "      <td>855.0</td>\n",
       "      <td>784.0</td>\n",
       "      <td>4073.0</td>\n",
       "      <td>2420.0</td>\n",
       "      <td>200.0</td>\n",
       "    </tr>\n",
       "    <tr>\n",
       "      <th>49</th>\n",
       "      <td>West Virginia</td>\n",
       "      <td>1534.0</td>\n",
       "      <td>1091.0</td>\n",
       "      <td>11957.0</td>\n",
       "      <td>4195.0</td>\n",
       "      <td>620.0</td>\n",
       "    </tr>\n",
       "    <tr>\n",
       "      <th>50</th>\n",
       "      <td>Wisconsin</td>\n",
       "      <td>1228.0</td>\n",
       "      <td>780.0</td>\n",
       "      <td>7708.0</td>\n",
       "      <td>4527.0</td>\n",
       "      <td>278.0</td>\n",
       "    </tr>\n",
       "    <tr>\n",
       "      <th>51</th>\n",
       "      <td>Wyoming</td>\n",
       "      <td>1066.0</td>\n",
       "      <td>959.0</td>\n",
       "      <td>4885.0</td>\n",
       "      <td>3599.0</td>\n",
       "      <td>416.0</td>\n",
       "    </tr>\n",
       "    <tr>\n",
       "      <th>52</th>\n",
       "      <td>Puerto Rico</td>\n",
       "      <td>701.0</td>\n",
       "      <td>640.0</td>\n",
       "      <td>1162.0</td>\n",
       "      <td>2158.0</td>\n",
       "      <td>325.0</td>\n",
       "    </tr>\n",
       "  </tbody>\n",
       "</table>\n",
       "</div>"
      ],
      "text/plain": [
       "               Geography  Male incarceration rate  \\\n",
       "0          United States                   1350.0   \n",
       "1                Alabama                   1545.0   \n",
       "2                 Alaska                    947.0   \n",
       "3                Arizona                   1899.0   \n",
       "4               Arkansas                   1627.0   \n",
       "5             California                   1265.0   \n",
       "6               Colorado                   1459.0   \n",
       "7            Connecticut                   1002.0   \n",
       "8               Delaware                   1384.0   \n",
       "9   District of Columbia                   1093.0   \n",
       "10               Florida                   1634.0   \n",
       "11               Georgia                   1988.0   \n",
       "12                Hawaii                    672.0   \n",
       "13                 Idaho                   1245.0   \n",
       "14              Illinois                   1025.0   \n",
       "15               Indiana                   1378.0   \n",
       "16                  Iowa                    781.0   \n",
       "17                Kansas                   1165.0   \n",
       "18              Kentucky                   1699.0   \n",
       "19             Louisiana                   2517.0   \n",
       "20                 Maine                    511.0   \n",
       "21              Maryland                   1188.0   \n",
       "22         Massachusetts                    718.0   \n",
       "23              Michigan                   1224.0   \n",
       "24             Minnesota                    679.0   \n",
       "25           Mississippi                   2184.0   \n",
       "26              Missouri                   1296.0   \n",
       "27               Montana                    934.0   \n",
       "28              Nebraska                    793.0   \n",
       "29                Nevada                   1303.0   \n",
       "30         New Hampshire                    671.0   \n",
       "31            New Jersey                    960.0   \n",
       "32            New Mexico                   1556.0   \n",
       "33              New York                    945.0   \n",
       "34        North Carolina                   1213.0   \n",
       "35          North Dakota                    645.0   \n",
       "36                  Ohio                   1229.0   \n",
       "37              Oklahoma                   1950.0   \n",
       "38                Oregon                   1055.0   \n",
       "39          Pennsylvania                   1459.0   \n",
       "40          Rhode Island                    701.0   \n",
       "41        South Carolina                   1702.0   \n",
       "42          South Dakota                   1367.0   \n",
       "43             Tennessee                   1338.0   \n",
       "44                 Texas                   1926.0   \n",
       "45                  Utah                    788.0   \n",
       "46               Vermont                    464.0   \n",
       "47              Virginia                   1509.0   \n",
       "48            Washington                    855.0   \n",
       "49         West Virginia                   1534.0   \n",
       "50             Wisconsin                   1228.0   \n",
       "51               Wyoming                   1066.0   \n",
       "52           Puerto Rico                    701.0   \n",
       "\n",
       "    Male incarceration rate: White alone  \\\n",
       "0                                  916.0   \n",
       "1                                  918.0   \n",
       "2                                  602.0   \n",
       "3                                 1377.0   \n",
       "4                                 1093.0   \n",
       "5                                 1100.0   \n",
       "6                                 1264.0   \n",
       "7                                  431.0   \n",
       "8                                  762.0   \n",
       "9                                  138.0   \n",
       "10                                1092.0   \n",
       "11                                1203.0   \n",
       "12                                 614.0   \n",
       "13                                1216.0   \n",
       "14                                 508.0   \n",
       "15                                1014.0   \n",
       "16                                 612.0   \n",
       "17                                 874.0   \n",
       "18                                1273.0   \n",
       "19                                1262.0   \n",
       "20                                 481.0   \n",
       "21                                 587.0   \n",
       "22                                 587.0   \n",
       "23                                 744.0   \n",
       "24                                 440.0   \n",
       "25                                1304.0   \n",
       "26                                 908.0   \n",
       "27                                 753.0   \n",
       "28                                 615.0   \n",
       "29                                1171.0   \n",
       "30                                 632.0   \n",
       "31                                 504.0   \n",
       "32                                1627.0   \n",
       "33                                 497.0   \n",
       "34                                 682.0   \n",
       "35                                 454.0   \n",
       "36                                 784.0   \n",
       "37                                1603.0   \n",
       "38                                 986.0   \n",
       "39                                 728.0   \n",
       "40                                 447.0   \n",
       "41                                 836.0   \n",
       "42                                 957.0   \n",
       "43                                 877.0   \n",
       "44                                1506.0   \n",
       "45                                 715.0   \n",
       "46                                 413.0   \n",
       "47                                 845.0   \n",
       "48                                 784.0   \n",
       "49                                1091.0   \n",
       "50                                 780.0   \n",
       "51                                 959.0   \n",
       "52                                 640.0   \n",
       "\n",
       "    Male incarceration rate: Black or African American alone  \\\n",
       "0                                              4490.0          \n",
       "1                                              3521.0          \n",
       "2                                              2070.0          \n",
       "3                                              5505.0          \n",
       "4                                              4801.0          \n",
       "5                                              5666.0          \n",
       "6                                              6382.0          \n",
       "7                                              4274.0          \n",
       "8                                              4028.0          \n",
       "9                                              1974.0          \n",
       "10                                             4893.0          \n",
       "11                                             4006.0          \n",
       "12                                             1462.0          \n",
       "13                                             4995.0          \n",
       "14                                             4196.0          \n",
       "15                                             5495.0          \n",
       "16                                             6001.0          \n",
       "17                                             6036.0          \n",
       "18                                             6733.0          \n",
       "19                                             5406.0          \n",
       "20                                             2655.0          \n",
       "21                                             2901.0          \n",
       "22                                             2923.0          \n",
       "23                                             4432.0          \n",
       "24                                             4192.0          \n",
       "25                                             3547.0          \n",
       "26                                             4625.0          \n",
       "27                                             5071.0          \n",
       "28                                             4371.0          \n",
       "29                                             4678.0          \n",
       "30                                             3750.0          \n",
       "31                                             3995.0          \n",
       "32                                             4201.0          \n",
       "33                                             3361.0          \n",
       "34                                             3311.0          \n",
       "35                                             2580.0          \n",
       "36                                             4584.0          \n",
       "37                                             6976.0          \n",
       "38                                             5490.0          \n",
       "39                                             6442.0          \n",
       "40                                             3601.0          \n",
       "41                                             3990.0          \n",
       "42                                             7353.0          \n",
       "43                                             3857.0          \n",
       "44                                             5371.0          \n",
       "45                                             4368.0          \n",
       "46                                             3526.0          \n",
       "47                                             4721.0          \n",
       "48                                             4073.0          \n",
       "49                                            11957.0          \n",
       "50                                             7708.0          \n",
       "51                                             4885.0          \n",
       "52                                             1162.0          \n",
       "\n",
       "    Male incarceration rate: American Indian and Alaska Native alone  \\\n",
       "0                                              2223.0                  \n",
       "1                                               470.0                  \n",
       "2                                              2492.0                  \n",
       "3                                              4078.0                  \n",
       "4                                              1229.0                  \n",
       "5                                              1665.0                  \n",
       "6                                              5259.0                  \n",
       "7                                              1063.0                  \n",
       "8                                               238.0                  \n",
       "9                                              1846.0                  \n",
       "10                                              974.0                  \n",
       "11                                             1008.0                  \n",
       "12                                              810.0                  \n",
       "13                                             2967.0                  \n",
       "14                                             1361.0                  \n",
       "15                                             1622.0                  \n",
       "16                                             3894.0                  \n",
       "17                                             2135.0                  \n",
       "18                                             4590.0                  \n",
       "19                                              846.0                  \n",
       "20                                             1297.0                  \n",
       "21                                              352.0                  \n",
       "22                                             1815.0                  \n",
       "23                                             1714.0                  \n",
       "24                                             4306.0                  \n",
       "25                                             1890.0                  \n",
       "26                                             1161.0                  \n",
       "27                                             3084.0                  \n",
       "28                                             3085.0                  \n",
       "29                                             2354.0                  \n",
       "30                                             1531.0                  \n",
       "31                                             1332.0                  \n",
       "32                                             1821.0                  \n",
       "33                                             1316.0                  \n",
       "34                                             1659.0                  \n",
       "35                                             3331.0                  \n",
       "36                                             1311.0                  \n",
       "37                                             1817.0                  \n",
       "38                                             2269.0                  \n",
       "39                                             1911.0                  \n",
       "40                                              772.0                  \n",
       "41                                             1941.0                  \n",
       "42                                             4245.0                  \n",
       "43                                             1097.0                  \n",
       "44                                              940.0                  \n",
       "45                                             2604.0                  \n",
       "46                                             2387.0                  \n",
       "47                                             1223.0                  \n",
       "48                                             2420.0                  \n",
       "49                                             4195.0                  \n",
       "50                                             4527.0                  \n",
       "51                                             3599.0                  \n",
       "52                                             2158.0                  \n",
       "\n",
       "    Male incarceration rate: Asian alone  \n",
       "0                                  215.0  \n",
       "1                                  197.0  \n",
       "2                                  236.0  \n",
       "3                                 1275.0  \n",
       "4                                  637.0  \n",
       "5                                  174.0  \n",
       "6                                  554.0  \n",
       "7                                  113.0  \n",
       "8                                   36.0  \n",
       "9                                  204.0  \n",
       "10                                 185.0  \n",
       "11                                 229.0  \n",
       "12                                 412.0  \n",
       "13                                 319.0  \n",
       "14                                  73.0  \n",
       "15                                 141.0  \n",
       "16                                 311.0  \n",
       "17                                 425.0  \n",
       "18                                 468.0  \n",
       "19                                 305.0  \n",
       "20                                 322.0  \n",
       "21                                  62.0  \n",
       "22                                 123.0  \n",
       "23                                 162.0  \n",
       "24                                 368.0  \n",
       "25                                1440.0  \n",
       "26                                  72.0  \n",
       "27                                 482.0  \n",
       "28                                 298.0  \n",
       "29                                 410.0  \n",
       "30                                 156.0  \n",
       "31                                  94.0  \n",
       "32                                 424.0  \n",
       "33                                 104.0  \n",
       "34                                 203.0  \n",
       "35                                  59.0  \n",
       "36                                 247.0  \n",
       "37                                 498.0  \n",
       "38                                 475.0  \n",
       "39                                 301.0  \n",
       "40                                 308.0  \n",
       "41                                 302.0  \n",
       "42                                 888.0  \n",
       "43                                 215.0  \n",
       "44                                 321.0  \n",
       "45                                 292.0  \n",
       "46                                  57.0  \n",
       "47                                 126.0  \n",
       "48                                 200.0  \n",
       "49                                 620.0  \n",
       "50                                 278.0  \n",
       "51                                 416.0  \n",
       "52                                 325.0  "
      ]
     },
     "execution_count": 81,
     "metadata": {},
     "output_type": "execute_result"
    }
   ],
   "source": [
    "data"
   ]
  },
  {
   "cell_type": "code",
   "execution_count": 82,
   "metadata": {},
   "outputs": [],
   "source": [
    "import plotly.express as px\n",
    "import plotly.graph_objs as go\n",
    "from sklearn.cluster import KMeans\n",
    "\n",
    "def visualizing_results(df):\n",
    "    # Create a new DataFrame with only the columns you want to use for clustering\n",
    "    X = df.iloc[:,1:6]\n",
    "\n",
    "    # Create a KMeans instance with k = 3\n",
    "    kmeans = KMeans(n_clusters=3)\n",
    "\n",
    "    # Fit the model to the data\n",
    "    kmeans.fit(X)\n",
    "    df['Cluster'] = kmeans.labels_\n",
    "\n",
    "    # Get the cluster assignments for each data point\n",
    "    centroids = kmeans.cluster_centers_\n",
    "    print(centroids)\n",
    "\n",
    "    # Create a 3D scatter plot\n",
    "    fig = px.scatter_3d(df, x='Male incarceration rate', y='Male incarceration rate: White alone', z='Male incarceration rate: Black or African American alone', color='Cluster')\n",
    "\n",
    "    # Add the centroids as red markers\n",
    "    fig.add_trace(\n",
    "        go.Scatter3d(\n",
    "            x=centroids[:, 0],\n",
    "            y=centroids[:, 1],\n",
    "            z=centroids[:, 2],\n",
    "            mode='markers',\n",
    "            marker=dict(\n",
    "                size=10,\n",
    "                color='red'\n",
    "            ),\n",
    "            name='Centroids'\n",
    "        )\n",
    "    )\n",
    "\n",
    "    fig.show()"
   ]
  },
  {
   "cell_type": "code",
   "execution_count": 83,
   "metadata": {},
   "outputs": [],
   "source": [
    "# visualizing_results(data)"
   ]
  },
  {
   "cell_type": "code",
   "execution_count": 98,
   "metadata": {},
   "outputs": [
    {
     "name": "stderr",
     "output_type": "stream",
     "text": [
      "/Users/lorenzomendoza/opt/anaconda3/envs/machinelearning/lib/python3.11/site-packages/sklearn/cluster/_kmeans.py:870: FutureWarning:\n",
      "\n",
      "The default value of `n_init` will change from 10 to 'auto' in 1.4. Set the value of `n_init` explicitly to suppress the warning\n",
      "\n"
     ]
    },
    {
     "data": {
      "application/vnd.plotly.v1+json": {
       "config": {
        "plotlyServerURL": "https://plot.ly"
       },
       "data": [
        {
         "alignmentgroup": "True",
         "hovertemplate": "Geography=%{x}<br>Male incarceration rate=%{y}<br>Cluster=%{marker.color}<extra></extra>",
         "legendgroup": "",
         "marker": {
          "color": [
           0,
           1,
           3,
           4,
           1,
           0,
           4,
           1,
           1,
           3,
           1,
           1,
           3,
           0,
           1,
           0,
           4,
           0,
           4,
           1,
           3,
           3,
           3,
           1,
           0,
           1,
           1,
           0,
           0,
           0,
           1,
           1,
           1,
           3,
           3,
           3,
           1,
           0,
           0,
           0,
           1,
           1,
           4,
           1,
           1,
           0,
           3,
           1,
           0,
           2,
           4,
           0,
           3
          ],
          "coloraxis": "coloraxis",
          "pattern": {
           "shape": ""
          }
         },
         "name": "",
         "offsetgroup": "",
         "orientation": "v",
         "showlegend": false,
         "textposition": "auto",
         "type": "bar",
         "x": [
          "United States",
          "Alabama",
          "Alaska",
          "Arizona",
          "Arkansas",
          "California",
          "Colorado",
          "Connecticut",
          "Delaware",
          "District of Columbia",
          "Florida",
          "Georgia",
          "Hawaii",
          "Idaho",
          "Illinois",
          "Indiana",
          "Iowa",
          "Kansas",
          "Kentucky",
          "Louisiana",
          "Maine",
          "Maryland",
          "Massachusetts",
          "Michigan",
          "Minnesota",
          "Mississippi",
          "Missouri",
          "Montana",
          "Nebraska",
          "Nevada",
          "New Hampshire",
          "New Jersey",
          "New Mexico",
          "New York",
          "North Carolina",
          "North Dakota",
          "Ohio",
          "Oklahoma",
          "Oregon",
          "Pennsylvania",
          "Rhode Island",
          "South Carolina",
          "South Dakota",
          "Tennessee",
          "Texas",
          "Utah",
          "Vermont",
          "Virginia",
          "Washington",
          "West Virginia",
          "Wisconsin",
          "Wyoming",
          "Puerto Rico"
         ],
         "xaxis": "x",
         "y": [
          1350,
          1545,
          947,
          1899,
          1627,
          1265,
          1459,
          1002,
          1384,
          1093,
          1634,
          1988,
          672,
          1245,
          1025,
          1378,
          781,
          1165,
          1699,
          2517,
          511,
          1188,
          718,
          1224,
          679,
          2184,
          1296,
          934,
          793,
          1303,
          671,
          960,
          1556,
          945,
          1213,
          645,
          1229,
          1950,
          1055,
          1459,
          701,
          1702,
          1367,
          1338,
          1926,
          788,
          464,
          1509,
          855,
          1534,
          1228,
          1066,
          701
         ],
         "yaxis": "y"
        }
       ],
       "layout": {
        "barmode": "relative",
        "coloraxis": {
         "colorbar": {
          "title": {
           "text": "Cluster"
          }
         },
         "colorscale": [
          [
           0,
           "#0d0887"
          ],
          [
           0.1111111111111111,
           "#46039f"
          ],
          [
           0.2222222222222222,
           "#7201a8"
          ],
          [
           0.3333333333333333,
           "#9c179e"
          ],
          [
           0.4444444444444444,
           "#bd3786"
          ],
          [
           0.5555555555555556,
           "#d8576b"
          ],
          [
           0.6666666666666666,
           "#ed7953"
          ],
          [
           0.7777777777777778,
           "#fb9f3a"
          ],
          [
           0.8888888888888888,
           "#fdca26"
          ],
          [
           1,
           "#f0f921"
          ]
         ]
        },
        "legend": {
         "tracegroupgap": 0
        },
        "template": {
         "data": {
          "bar": [
           {
            "error_x": {
             "color": "#2a3f5f"
            },
            "error_y": {
             "color": "#2a3f5f"
            },
            "marker": {
             "line": {
              "color": "#E5ECF6",
              "width": 0.5
             },
             "pattern": {
              "fillmode": "overlay",
              "size": 10,
              "solidity": 0.2
             }
            },
            "type": "bar"
           }
          ],
          "barpolar": [
           {
            "marker": {
             "line": {
              "color": "#E5ECF6",
              "width": 0.5
             },
             "pattern": {
              "fillmode": "overlay",
              "size": 10,
              "solidity": 0.2
             }
            },
            "type": "barpolar"
           }
          ],
          "carpet": [
           {
            "aaxis": {
             "endlinecolor": "#2a3f5f",
             "gridcolor": "white",
             "linecolor": "white",
             "minorgridcolor": "white",
             "startlinecolor": "#2a3f5f"
            },
            "baxis": {
             "endlinecolor": "#2a3f5f",
             "gridcolor": "white",
             "linecolor": "white",
             "minorgridcolor": "white",
             "startlinecolor": "#2a3f5f"
            },
            "type": "carpet"
           }
          ],
          "choropleth": [
           {
            "colorbar": {
             "outlinewidth": 0,
             "ticks": ""
            },
            "type": "choropleth"
           }
          ],
          "contour": [
           {
            "colorbar": {
             "outlinewidth": 0,
             "ticks": ""
            },
            "colorscale": [
             [
              0,
              "#0d0887"
             ],
             [
              0.1111111111111111,
              "#46039f"
             ],
             [
              0.2222222222222222,
              "#7201a8"
             ],
             [
              0.3333333333333333,
              "#9c179e"
             ],
             [
              0.4444444444444444,
              "#bd3786"
             ],
             [
              0.5555555555555556,
              "#d8576b"
             ],
             [
              0.6666666666666666,
              "#ed7953"
             ],
             [
              0.7777777777777778,
              "#fb9f3a"
             ],
             [
              0.8888888888888888,
              "#fdca26"
             ],
             [
              1,
              "#f0f921"
             ]
            ],
            "type": "contour"
           }
          ],
          "contourcarpet": [
           {
            "colorbar": {
             "outlinewidth": 0,
             "ticks": ""
            },
            "type": "contourcarpet"
           }
          ],
          "heatmap": [
           {
            "colorbar": {
             "outlinewidth": 0,
             "ticks": ""
            },
            "colorscale": [
             [
              0,
              "#0d0887"
             ],
             [
              0.1111111111111111,
              "#46039f"
             ],
             [
              0.2222222222222222,
              "#7201a8"
             ],
             [
              0.3333333333333333,
              "#9c179e"
             ],
             [
              0.4444444444444444,
              "#bd3786"
             ],
             [
              0.5555555555555556,
              "#d8576b"
             ],
             [
              0.6666666666666666,
              "#ed7953"
             ],
             [
              0.7777777777777778,
              "#fb9f3a"
             ],
             [
              0.8888888888888888,
              "#fdca26"
             ],
             [
              1,
              "#f0f921"
             ]
            ],
            "type": "heatmap"
           }
          ],
          "heatmapgl": [
           {
            "colorbar": {
             "outlinewidth": 0,
             "ticks": ""
            },
            "colorscale": [
             [
              0,
              "#0d0887"
             ],
             [
              0.1111111111111111,
              "#46039f"
             ],
             [
              0.2222222222222222,
              "#7201a8"
             ],
             [
              0.3333333333333333,
              "#9c179e"
             ],
             [
              0.4444444444444444,
              "#bd3786"
             ],
             [
              0.5555555555555556,
              "#d8576b"
             ],
             [
              0.6666666666666666,
              "#ed7953"
             ],
             [
              0.7777777777777778,
              "#fb9f3a"
             ],
             [
              0.8888888888888888,
              "#fdca26"
             ],
             [
              1,
              "#f0f921"
             ]
            ],
            "type": "heatmapgl"
           }
          ],
          "histogram": [
           {
            "marker": {
             "pattern": {
              "fillmode": "overlay",
              "size": 10,
              "solidity": 0.2
             }
            },
            "type": "histogram"
           }
          ],
          "histogram2d": [
           {
            "colorbar": {
             "outlinewidth": 0,
             "ticks": ""
            },
            "colorscale": [
             [
              0,
              "#0d0887"
             ],
             [
              0.1111111111111111,
              "#46039f"
             ],
             [
              0.2222222222222222,
              "#7201a8"
             ],
             [
              0.3333333333333333,
              "#9c179e"
             ],
             [
              0.4444444444444444,
              "#bd3786"
             ],
             [
              0.5555555555555556,
              "#d8576b"
             ],
             [
              0.6666666666666666,
              "#ed7953"
             ],
             [
              0.7777777777777778,
              "#fb9f3a"
             ],
             [
              0.8888888888888888,
              "#fdca26"
             ],
             [
              1,
              "#f0f921"
             ]
            ],
            "type": "histogram2d"
           }
          ],
          "histogram2dcontour": [
           {
            "colorbar": {
             "outlinewidth": 0,
             "ticks": ""
            },
            "colorscale": [
             [
              0,
              "#0d0887"
             ],
             [
              0.1111111111111111,
              "#46039f"
             ],
             [
              0.2222222222222222,
              "#7201a8"
             ],
             [
              0.3333333333333333,
              "#9c179e"
             ],
             [
              0.4444444444444444,
              "#bd3786"
             ],
             [
              0.5555555555555556,
              "#d8576b"
             ],
             [
              0.6666666666666666,
              "#ed7953"
             ],
             [
              0.7777777777777778,
              "#fb9f3a"
             ],
             [
              0.8888888888888888,
              "#fdca26"
             ],
             [
              1,
              "#f0f921"
             ]
            ],
            "type": "histogram2dcontour"
           }
          ],
          "mesh3d": [
           {
            "colorbar": {
             "outlinewidth": 0,
             "ticks": ""
            },
            "type": "mesh3d"
           }
          ],
          "parcoords": [
           {
            "line": {
             "colorbar": {
              "outlinewidth": 0,
              "ticks": ""
             }
            },
            "type": "parcoords"
           }
          ],
          "pie": [
           {
            "automargin": true,
            "type": "pie"
           }
          ],
          "scatter": [
           {
            "fillpattern": {
             "fillmode": "overlay",
             "size": 10,
             "solidity": 0.2
            },
            "type": "scatter"
           }
          ],
          "scatter3d": [
           {
            "line": {
             "colorbar": {
              "outlinewidth": 0,
              "ticks": ""
             }
            },
            "marker": {
             "colorbar": {
              "outlinewidth": 0,
              "ticks": ""
             }
            },
            "type": "scatter3d"
           }
          ],
          "scattercarpet": [
           {
            "marker": {
             "colorbar": {
              "outlinewidth": 0,
              "ticks": ""
             }
            },
            "type": "scattercarpet"
           }
          ],
          "scattergeo": [
           {
            "marker": {
             "colorbar": {
              "outlinewidth": 0,
              "ticks": ""
             }
            },
            "type": "scattergeo"
           }
          ],
          "scattergl": [
           {
            "marker": {
             "colorbar": {
              "outlinewidth": 0,
              "ticks": ""
             }
            },
            "type": "scattergl"
           }
          ],
          "scattermapbox": [
           {
            "marker": {
             "colorbar": {
              "outlinewidth": 0,
              "ticks": ""
             }
            },
            "type": "scattermapbox"
           }
          ],
          "scatterpolar": [
           {
            "marker": {
             "colorbar": {
              "outlinewidth": 0,
              "ticks": ""
             }
            },
            "type": "scatterpolar"
           }
          ],
          "scatterpolargl": [
           {
            "marker": {
             "colorbar": {
              "outlinewidth": 0,
              "ticks": ""
             }
            },
            "type": "scatterpolargl"
           }
          ],
          "scatterternary": [
           {
            "marker": {
             "colorbar": {
              "outlinewidth": 0,
              "ticks": ""
             }
            },
            "type": "scatterternary"
           }
          ],
          "surface": [
           {
            "colorbar": {
             "outlinewidth": 0,
             "ticks": ""
            },
            "colorscale": [
             [
              0,
              "#0d0887"
             ],
             [
              0.1111111111111111,
              "#46039f"
             ],
             [
              0.2222222222222222,
              "#7201a8"
             ],
             [
              0.3333333333333333,
              "#9c179e"
             ],
             [
              0.4444444444444444,
              "#bd3786"
             ],
             [
              0.5555555555555556,
              "#d8576b"
             ],
             [
              0.6666666666666666,
              "#ed7953"
             ],
             [
              0.7777777777777778,
              "#fb9f3a"
             ],
             [
              0.8888888888888888,
              "#fdca26"
             ],
             [
              1,
              "#f0f921"
             ]
            ],
            "type": "surface"
           }
          ],
          "table": [
           {
            "cells": {
             "fill": {
              "color": "#EBF0F8"
             },
             "line": {
              "color": "white"
             }
            },
            "header": {
             "fill": {
              "color": "#C8D4E3"
             },
             "line": {
              "color": "white"
             }
            },
            "type": "table"
           }
          ]
         },
         "layout": {
          "annotationdefaults": {
           "arrowcolor": "#2a3f5f",
           "arrowhead": 0,
           "arrowwidth": 1
          },
          "autotypenumbers": "strict",
          "coloraxis": {
           "colorbar": {
            "outlinewidth": 0,
            "ticks": ""
           }
          },
          "colorscale": {
           "diverging": [
            [
             0,
             "#8e0152"
            ],
            [
             0.1,
             "#c51b7d"
            ],
            [
             0.2,
             "#de77ae"
            ],
            [
             0.3,
             "#f1b6da"
            ],
            [
             0.4,
             "#fde0ef"
            ],
            [
             0.5,
             "#f7f7f7"
            ],
            [
             0.6,
             "#e6f5d0"
            ],
            [
             0.7,
             "#b8e186"
            ],
            [
             0.8,
             "#7fbc41"
            ],
            [
             0.9,
             "#4d9221"
            ],
            [
             1,
             "#276419"
            ]
           ],
           "sequential": [
            [
             0,
             "#0d0887"
            ],
            [
             0.1111111111111111,
             "#46039f"
            ],
            [
             0.2222222222222222,
             "#7201a8"
            ],
            [
             0.3333333333333333,
             "#9c179e"
            ],
            [
             0.4444444444444444,
             "#bd3786"
            ],
            [
             0.5555555555555556,
             "#d8576b"
            ],
            [
             0.6666666666666666,
             "#ed7953"
            ],
            [
             0.7777777777777778,
             "#fb9f3a"
            ],
            [
             0.8888888888888888,
             "#fdca26"
            ],
            [
             1,
             "#f0f921"
            ]
           ],
           "sequentialminus": [
            [
             0,
             "#0d0887"
            ],
            [
             0.1111111111111111,
             "#46039f"
            ],
            [
             0.2222222222222222,
             "#7201a8"
            ],
            [
             0.3333333333333333,
             "#9c179e"
            ],
            [
             0.4444444444444444,
             "#bd3786"
            ],
            [
             0.5555555555555556,
             "#d8576b"
            ],
            [
             0.6666666666666666,
             "#ed7953"
            ],
            [
             0.7777777777777778,
             "#fb9f3a"
            ],
            [
             0.8888888888888888,
             "#fdca26"
            ],
            [
             1,
             "#f0f921"
            ]
           ]
          },
          "colorway": [
           "#636efa",
           "#EF553B",
           "#00cc96",
           "#ab63fa",
           "#FFA15A",
           "#19d3f3",
           "#FF6692",
           "#B6E880",
           "#FF97FF",
           "#FECB52"
          ],
          "font": {
           "color": "#2a3f5f"
          },
          "geo": {
           "bgcolor": "white",
           "lakecolor": "white",
           "landcolor": "#E5ECF6",
           "showlakes": true,
           "showland": true,
           "subunitcolor": "white"
          },
          "hoverlabel": {
           "align": "left"
          },
          "hovermode": "closest",
          "mapbox": {
           "style": "light"
          },
          "paper_bgcolor": "white",
          "plot_bgcolor": "#E5ECF6",
          "polar": {
           "angularaxis": {
            "gridcolor": "white",
            "linecolor": "white",
            "ticks": ""
           },
           "bgcolor": "#E5ECF6",
           "radialaxis": {
            "gridcolor": "white",
            "linecolor": "white",
            "ticks": ""
           }
          },
          "scene": {
           "xaxis": {
            "backgroundcolor": "#E5ECF6",
            "gridcolor": "white",
            "gridwidth": 2,
            "linecolor": "white",
            "showbackground": true,
            "ticks": "",
            "zerolinecolor": "white"
           },
           "yaxis": {
            "backgroundcolor": "#E5ECF6",
            "gridcolor": "white",
            "gridwidth": 2,
            "linecolor": "white",
            "showbackground": true,
            "ticks": "",
            "zerolinecolor": "white"
           },
           "zaxis": {
            "backgroundcolor": "#E5ECF6",
            "gridcolor": "white",
            "gridwidth": 2,
            "linecolor": "white",
            "showbackground": true,
            "ticks": "",
            "zerolinecolor": "white"
           }
          },
          "shapedefaults": {
           "line": {
            "color": "#2a3f5f"
           }
          },
          "ternary": {
           "aaxis": {
            "gridcolor": "white",
            "linecolor": "white",
            "ticks": ""
           },
           "baxis": {
            "gridcolor": "white",
            "linecolor": "white",
            "ticks": ""
           },
           "bgcolor": "#E5ECF6",
           "caxis": {
            "gridcolor": "white",
            "linecolor": "white",
            "ticks": ""
           }
          },
          "title": {
           "x": 0.05
          },
          "xaxis": {
           "automargin": true,
           "gridcolor": "white",
           "linecolor": "white",
           "ticks": "",
           "title": {
            "standoff": 15
           },
           "zerolinecolor": "white",
           "zerolinewidth": 2
          },
          "yaxis": {
           "automargin": true,
           "gridcolor": "white",
           "linecolor": "white",
           "ticks": "",
           "title": {
            "standoff": 15
           },
           "zerolinecolor": "white",
           "zerolinewidth": 2
          }
         }
        },
        "title": {
         "text": "Average Male Incarceration Rate by State and Cluster"
        },
        "xaxis": {
         "anchor": "y",
         "domain": [
          0,
          1
         ],
         "title": {
          "text": "Geography"
         }
        },
        "yaxis": {
         "anchor": "x",
         "domain": [
          0,
          1
         ],
         "title": {
          "text": "Male incarceration rate"
         }
        }
       }
      }
     },
     "metadata": {},
     "output_type": "display_data"
    }
   ],
   "source": [
    "import plotly.express as px\n",
    "X = data.iloc[:,1:6]\n",
    "\n",
    "# Create a KMeans instance with k = 3\n",
    "kmeans = KMeans(n_clusters=5)\n",
    "\n",
    "# Fit the model to the data\n",
    "kmeans.fit(X)\n",
    "data['Cluster'] = kmeans.labels_\n",
    "\n",
    "# Calculate the mean male incarceration rate for each state\n",
    "data['Mean Male Incarceration Rate'] = data.iloc[:,1:6].mean(axis=1)\n",
    "\n",
    "# Create a bar chart\n",
    "fig = px.bar(data, x='Geography', y='Male incarceration rate', color='Cluster', title='Average Male Incarceration Rate by State and Cluster')\n",
    "\n",
    "fig.show()"
   ]
  },
  {
   "cell_type": "code",
   "execution_count": 99,
   "metadata": {},
   "outputs": [
    {
     "data": {
      "application/vnd.plotly.v1+json": {
       "config": {
        "plotlyServerURL": "https://plot.ly"
       },
       "data": [
        {
         "hovertemplate": "Male incarceration rate: White alone=%{x}<br>Male incarceration rate: Black or African American alone=%{y}<br>Cluster=%{marker.color}<extra></extra>",
         "legendgroup": "",
         "marker": {
          "color": [
           0,
           1,
           3,
           4,
           1,
           0,
           4,
           1,
           1,
           3,
           1,
           1,
           3,
           0,
           1,
           0,
           4,
           0,
           4,
           1,
           3,
           3,
           3,
           1,
           0,
           1,
           1,
           0,
           0,
           0,
           1,
           1,
           1,
           3,
           3,
           3,
           1,
           0,
           0,
           0,
           1,
           1,
           4,
           1,
           1,
           0,
           3,
           1,
           0,
           2,
           4,
           0,
           3
          ],
          "coloraxis": "coloraxis",
          "symbol": "circle"
         },
         "mode": "markers",
         "name": "",
         "orientation": "v",
         "showlegend": false,
         "type": "scatter",
         "x": [
          916,
          918,
          602,
          1377,
          1093,
          1100,
          1264,
          431,
          762,
          138,
          1092,
          1203,
          614,
          1216,
          508,
          1014,
          612,
          874,
          1273,
          1262,
          481,
          587,
          587,
          744,
          440,
          1304,
          908,
          753,
          615,
          1171,
          632,
          504,
          1627,
          497,
          682,
          454,
          784,
          1603,
          986,
          728,
          447,
          836,
          957,
          877,
          1506,
          715,
          413,
          845,
          784,
          1091,
          780,
          959,
          640
         ],
         "xaxis": "x",
         "y": [
          4490,
          3521,
          2070,
          5505,
          4801,
          5666,
          6382,
          4274,
          4028,
          1974,
          4893,
          4006,
          1462,
          4995,
          4196,
          5495,
          6001,
          6036,
          6733,
          5406,
          2655,
          2901,
          2923,
          4432,
          4192,
          3547,
          4625,
          5071,
          4371,
          4678,
          3750,
          3995,
          4201,
          3361,
          3311,
          2580,
          4584,
          6976,
          5490,
          6442,
          3601,
          3990,
          7353,
          3857,
          5371,
          4368,
          3526,
          4721,
          4073,
          11957,
          7708,
          4885,
          1162
         ],
         "yaxis": "y"
        }
       ],
       "layout": {
        "coloraxis": {
         "colorbar": {
          "title": {
           "text": "Cluster"
          }
         },
         "colorscale": [
          [
           0,
           "#0d0887"
          ],
          [
           0.1111111111111111,
           "#46039f"
          ],
          [
           0.2222222222222222,
           "#7201a8"
          ],
          [
           0.3333333333333333,
           "#9c179e"
          ],
          [
           0.4444444444444444,
           "#bd3786"
          ],
          [
           0.5555555555555556,
           "#d8576b"
          ],
          [
           0.6666666666666666,
           "#ed7953"
          ],
          [
           0.7777777777777778,
           "#fb9f3a"
          ],
          [
           0.8888888888888888,
           "#fdca26"
          ],
          [
           1,
           "#f0f921"
          ]
         ]
        },
        "legend": {
         "tracegroupgap": 0
        },
        "template": {
         "data": {
          "bar": [
           {
            "error_x": {
             "color": "#2a3f5f"
            },
            "error_y": {
             "color": "#2a3f5f"
            },
            "marker": {
             "line": {
              "color": "#E5ECF6",
              "width": 0.5
             },
             "pattern": {
              "fillmode": "overlay",
              "size": 10,
              "solidity": 0.2
             }
            },
            "type": "bar"
           }
          ],
          "barpolar": [
           {
            "marker": {
             "line": {
              "color": "#E5ECF6",
              "width": 0.5
             },
             "pattern": {
              "fillmode": "overlay",
              "size": 10,
              "solidity": 0.2
             }
            },
            "type": "barpolar"
           }
          ],
          "carpet": [
           {
            "aaxis": {
             "endlinecolor": "#2a3f5f",
             "gridcolor": "white",
             "linecolor": "white",
             "minorgridcolor": "white",
             "startlinecolor": "#2a3f5f"
            },
            "baxis": {
             "endlinecolor": "#2a3f5f",
             "gridcolor": "white",
             "linecolor": "white",
             "minorgridcolor": "white",
             "startlinecolor": "#2a3f5f"
            },
            "type": "carpet"
           }
          ],
          "choropleth": [
           {
            "colorbar": {
             "outlinewidth": 0,
             "ticks": ""
            },
            "type": "choropleth"
           }
          ],
          "contour": [
           {
            "colorbar": {
             "outlinewidth": 0,
             "ticks": ""
            },
            "colorscale": [
             [
              0,
              "#0d0887"
             ],
             [
              0.1111111111111111,
              "#46039f"
             ],
             [
              0.2222222222222222,
              "#7201a8"
             ],
             [
              0.3333333333333333,
              "#9c179e"
             ],
             [
              0.4444444444444444,
              "#bd3786"
             ],
             [
              0.5555555555555556,
              "#d8576b"
             ],
             [
              0.6666666666666666,
              "#ed7953"
             ],
             [
              0.7777777777777778,
              "#fb9f3a"
             ],
             [
              0.8888888888888888,
              "#fdca26"
             ],
             [
              1,
              "#f0f921"
             ]
            ],
            "type": "contour"
           }
          ],
          "contourcarpet": [
           {
            "colorbar": {
             "outlinewidth": 0,
             "ticks": ""
            },
            "type": "contourcarpet"
           }
          ],
          "heatmap": [
           {
            "colorbar": {
             "outlinewidth": 0,
             "ticks": ""
            },
            "colorscale": [
             [
              0,
              "#0d0887"
             ],
             [
              0.1111111111111111,
              "#46039f"
             ],
             [
              0.2222222222222222,
              "#7201a8"
             ],
             [
              0.3333333333333333,
              "#9c179e"
             ],
             [
              0.4444444444444444,
              "#bd3786"
             ],
             [
              0.5555555555555556,
              "#d8576b"
             ],
             [
              0.6666666666666666,
              "#ed7953"
             ],
             [
              0.7777777777777778,
              "#fb9f3a"
             ],
             [
              0.8888888888888888,
              "#fdca26"
             ],
             [
              1,
              "#f0f921"
             ]
            ],
            "type": "heatmap"
           }
          ],
          "heatmapgl": [
           {
            "colorbar": {
             "outlinewidth": 0,
             "ticks": ""
            },
            "colorscale": [
             [
              0,
              "#0d0887"
             ],
             [
              0.1111111111111111,
              "#46039f"
             ],
             [
              0.2222222222222222,
              "#7201a8"
             ],
             [
              0.3333333333333333,
              "#9c179e"
             ],
             [
              0.4444444444444444,
              "#bd3786"
             ],
             [
              0.5555555555555556,
              "#d8576b"
             ],
             [
              0.6666666666666666,
              "#ed7953"
             ],
             [
              0.7777777777777778,
              "#fb9f3a"
             ],
             [
              0.8888888888888888,
              "#fdca26"
             ],
             [
              1,
              "#f0f921"
             ]
            ],
            "type": "heatmapgl"
           }
          ],
          "histogram": [
           {
            "marker": {
             "pattern": {
              "fillmode": "overlay",
              "size": 10,
              "solidity": 0.2
             }
            },
            "type": "histogram"
           }
          ],
          "histogram2d": [
           {
            "colorbar": {
             "outlinewidth": 0,
             "ticks": ""
            },
            "colorscale": [
             [
              0,
              "#0d0887"
             ],
             [
              0.1111111111111111,
              "#46039f"
             ],
             [
              0.2222222222222222,
              "#7201a8"
             ],
             [
              0.3333333333333333,
              "#9c179e"
             ],
             [
              0.4444444444444444,
              "#bd3786"
             ],
             [
              0.5555555555555556,
              "#d8576b"
             ],
             [
              0.6666666666666666,
              "#ed7953"
             ],
             [
              0.7777777777777778,
              "#fb9f3a"
             ],
             [
              0.8888888888888888,
              "#fdca26"
             ],
             [
              1,
              "#f0f921"
             ]
            ],
            "type": "histogram2d"
           }
          ],
          "histogram2dcontour": [
           {
            "colorbar": {
             "outlinewidth": 0,
             "ticks": ""
            },
            "colorscale": [
             [
              0,
              "#0d0887"
             ],
             [
              0.1111111111111111,
              "#46039f"
             ],
             [
              0.2222222222222222,
              "#7201a8"
             ],
             [
              0.3333333333333333,
              "#9c179e"
             ],
             [
              0.4444444444444444,
              "#bd3786"
             ],
             [
              0.5555555555555556,
              "#d8576b"
             ],
             [
              0.6666666666666666,
              "#ed7953"
             ],
             [
              0.7777777777777778,
              "#fb9f3a"
             ],
             [
              0.8888888888888888,
              "#fdca26"
             ],
             [
              1,
              "#f0f921"
             ]
            ],
            "type": "histogram2dcontour"
           }
          ],
          "mesh3d": [
           {
            "colorbar": {
             "outlinewidth": 0,
             "ticks": ""
            },
            "type": "mesh3d"
           }
          ],
          "parcoords": [
           {
            "line": {
             "colorbar": {
              "outlinewidth": 0,
              "ticks": ""
             }
            },
            "type": "parcoords"
           }
          ],
          "pie": [
           {
            "automargin": true,
            "type": "pie"
           }
          ],
          "scatter": [
           {
            "fillpattern": {
             "fillmode": "overlay",
             "size": 10,
             "solidity": 0.2
            },
            "type": "scatter"
           }
          ],
          "scatter3d": [
           {
            "line": {
             "colorbar": {
              "outlinewidth": 0,
              "ticks": ""
             }
            },
            "marker": {
             "colorbar": {
              "outlinewidth": 0,
              "ticks": ""
             }
            },
            "type": "scatter3d"
           }
          ],
          "scattercarpet": [
           {
            "marker": {
             "colorbar": {
              "outlinewidth": 0,
              "ticks": ""
             }
            },
            "type": "scattercarpet"
           }
          ],
          "scattergeo": [
           {
            "marker": {
             "colorbar": {
              "outlinewidth": 0,
              "ticks": ""
             }
            },
            "type": "scattergeo"
           }
          ],
          "scattergl": [
           {
            "marker": {
             "colorbar": {
              "outlinewidth": 0,
              "ticks": ""
             }
            },
            "type": "scattergl"
           }
          ],
          "scattermapbox": [
           {
            "marker": {
             "colorbar": {
              "outlinewidth": 0,
              "ticks": ""
             }
            },
            "type": "scattermapbox"
           }
          ],
          "scatterpolar": [
           {
            "marker": {
             "colorbar": {
              "outlinewidth": 0,
              "ticks": ""
             }
            },
            "type": "scatterpolar"
           }
          ],
          "scatterpolargl": [
           {
            "marker": {
             "colorbar": {
              "outlinewidth": 0,
              "ticks": ""
             }
            },
            "type": "scatterpolargl"
           }
          ],
          "scatterternary": [
           {
            "marker": {
             "colorbar": {
              "outlinewidth": 0,
              "ticks": ""
             }
            },
            "type": "scatterternary"
           }
          ],
          "surface": [
           {
            "colorbar": {
             "outlinewidth": 0,
             "ticks": ""
            },
            "colorscale": [
             [
              0,
              "#0d0887"
             ],
             [
              0.1111111111111111,
              "#46039f"
             ],
             [
              0.2222222222222222,
              "#7201a8"
             ],
             [
              0.3333333333333333,
              "#9c179e"
             ],
             [
              0.4444444444444444,
              "#bd3786"
             ],
             [
              0.5555555555555556,
              "#d8576b"
             ],
             [
              0.6666666666666666,
              "#ed7953"
             ],
             [
              0.7777777777777778,
              "#fb9f3a"
             ],
             [
              0.8888888888888888,
              "#fdca26"
             ],
             [
              1,
              "#f0f921"
             ]
            ],
            "type": "surface"
           }
          ],
          "table": [
           {
            "cells": {
             "fill": {
              "color": "#EBF0F8"
             },
             "line": {
              "color": "white"
             }
            },
            "header": {
             "fill": {
              "color": "#C8D4E3"
             },
             "line": {
              "color": "white"
             }
            },
            "type": "table"
           }
          ]
         },
         "layout": {
          "annotationdefaults": {
           "arrowcolor": "#2a3f5f",
           "arrowhead": 0,
           "arrowwidth": 1
          },
          "autotypenumbers": "strict",
          "coloraxis": {
           "colorbar": {
            "outlinewidth": 0,
            "ticks": ""
           }
          },
          "colorscale": {
           "diverging": [
            [
             0,
             "#8e0152"
            ],
            [
             0.1,
             "#c51b7d"
            ],
            [
             0.2,
             "#de77ae"
            ],
            [
             0.3,
             "#f1b6da"
            ],
            [
             0.4,
             "#fde0ef"
            ],
            [
             0.5,
             "#f7f7f7"
            ],
            [
             0.6,
             "#e6f5d0"
            ],
            [
             0.7,
             "#b8e186"
            ],
            [
             0.8,
             "#7fbc41"
            ],
            [
             0.9,
             "#4d9221"
            ],
            [
             1,
             "#276419"
            ]
           ],
           "sequential": [
            [
             0,
             "#0d0887"
            ],
            [
             0.1111111111111111,
             "#46039f"
            ],
            [
             0.2222222222222222,
             "#7201a8"
            ],
            [
             0.3333333333333333,
             "#9c179e"
            ],
            [
             0.4444444444444444,
             "#bd3786"
            ],
            [
             0.5555555555555556,
             "#d8576b"
            ],
            [
             0.6666666666666666,
             "#ed7953"
            ],
            [
             0.7777777777777778,
             "#fb9f3a"
            ],
            [
             0.8888888888888888,
             "#fdca26"
            ],
            [
             1,
             "#f0f921"
            ]
           ],
           "sequentialminus": [
            [
             0,
             "#0d0887"
            ],
            [
             0.1111111111111111,
             "#46039f"
            ],
            [
             0.2222222222222222,
             "#7201a8"
            ],
            [
             0.3333333333333333,
             "#9c179e"
            ],
            [
             0.4444444444444444,
             "#bd3786"
            ],
            [
             0.5555555555555556,
             "#d8576b"
            ],
            [
             0.6666666666666666,
             "#ed7953"
            ],
            [
             0.7777777777777778,
             "#fb9f3a"
            ],
            [
             0.8888888888888888,
             "#fdca26"
            ],
            [
             1,
             "#f0f921"
            ]
           ]
          },
          "colorway": [
           "#636efa",
           "#EF553B",
           "#00cc96",
           "#ab63fa",
           "#FFA15A",
           "#19d3f3",
           "#FF6692",
           "#B6E880",
           "#FF97FF",
           "#FECB52"
          ],
          "font": {
           "color": "#2a3f5f"
          },
          "geo": {
           "bgcolor": "white",
           "lakecolor": "white",
           "landcolor": "#E5ECF6",
           "showlakes": true,
           "showland": true,
           "subunitcolor": "white"
          },
          "hoverlabel": {
           "align": "left"
          },
          "hovermode": "closest",
          "mapbox": {
           "style": "light"
          },
          "paper_bgcolor": "white",
          "plot_bgcolor": "#E5ECF6",
          "polar": {
           "angularaxis": {
            "gridcolor": "white",
            "linecolor": "white",
            "ticks": ""
           },
           "bgcolor": "#E5ECF6",
           "radialaxis": {
            "gridcolor": "white",
            "linecolor": "white",
            "ticks": ""
           }
          },
          "scene": {
           "xaxis": {
            "backgroundcolor": "#E5ECF6",
            "gridcolor": "white",
            "gridwidth": 2,
            "linecolor": "white",
            "showbackground": true,
            "ticks": "",
            "zerolinecolor": "white"
           },
           "yaxis": {
            "backgroundcolor": "#E5ECF6",
            "gridcolor": "white",
            "gridwidth": 2,
            "linecolor": "white",
            "showbackground": true,
            "ticks": "",
            "zerolinecolor": "white"
           },
           "zaxis": {
            "backgroundcolor": "#E5ECF6",
            "gridcolor": "white",
            "gridwidth": 2,
            "linecolor": "white",
            "showbackground": true,
            "ticks": "",
            "zerolinecolor": "white"
           }
          },
          "shapedefaults": {
           "line": {
            "color": "#2a3f5f"
           }
          },
          "ternary": {
           "aaxis": {
            "gridcolor": "white",
            "linecolor": "white",
            "ticks": ""
           },
           "baxis": {
            "gridcolor": "white",
            "linecolor": "white",
            "ticks": ""
           },
           "bgcolor": "#E5ECF6",
           "caxis": {
            "gridcolor": "white",
            "linecolor": "white",
            "ticks": ""
           }
          },
          "title": {
           "x": 0.05
          },
          "xaxis": {
           "automargin": true,
           "gridcolor": "white",
           "linecolor": "white",
           "ticks": "",
           "title": {
            "standoff": 15
           },
           "zerolinecolor": "white",
           "zerolinewidth": 2
          },
          "yaxis": {
           "automargin": true,
           "gridcolor": "white",
           "linecolor": "white",
           "ticks": "",
           "title": {
            "standoff": 15
           },
           "zerolinecolor": "white",
           "zerolinewidth": 2
          }
         }
        },
        "title": {
         "text": "Male Incarceration Rates by Race and Cluster"
        },
        "xaxis": {
         "anchor": "y",
         "domain": [
          0,
          1
         ],
         "title": {
          "text": "Male incarceration rate: White alone"
         }
        },
        "yaxis": {
         "anchor": "x",
         "domain": [
          0,
          1
         ],
         "title": {
          "text": "Male incarceration rate: Black or African American alone"
         }
        }
       }
      }
     },
     "metadata": {},
     "output_type": "display_data"
    }
   ],
   "source": [
    "# Create a scatter plot\n",
    "fig = px.scatter(data, x='Male incarceration rate: White alone', y='Male incarceration rate: Black or African American alone', color='Cluster', title='Male Incarceration Rates by Race and Cluster')\n",
    "\n",
    "fig.show()"
   ]
  },
  {
   "cell_type": "code",
   "execution_count": 100,
   "metadata": {},
   "outputs": [],
   "source": [
    "state_abbreviations = {\n",
    "    'Alabama': 'AL',\n",
    "    'Alaska': 'AK',\n",
    "    'Arizona': 'AZ',\n",
    "    'Arkansas': 'AR',\n",
    "    'California': 'CA',\n",
    "    'Colorado': 'CO',\n",
    "    'Connecticut': 'CT',\n",
    "    'Delaware': 'DE',\n",
    "    'Florida': 'FL',\n",
    "    'Georgia': 'GA',\n",
    "    'Hawaii': 'HI',\n",
    "    'Idaho': 'ID',\n",
    "    'Illinois': 'IL',\n",
    "    'Indiana': 'IN',\n",
    "    'Iowa': 'IA',\n",
    "    'Kansas': 'KS',\n",
    "    'Kentucky': 'KY',\n",
    "    'Louisiana': 'LA',\n",
    "    'Maine': 'ME',\n",
    "    'Maryland': 'MD',\n",
    "    'Massachusetts': 'MA',\n",
    "    'Michigan': 'MI',\n",
    "    'Minnesota': 'MN',\n",
    "    'Mississippi': 'MS',\n",
    "    'Missouri': 'MO',\n",
    "    'Montana': 'MT',\n",
    "    'Nebraska': 'NE',\n",
    "    'Nevada': 'NV',\n",
    "    'New Hampshire': 'NH',\n",
    "    'New Jersey': 'NJ',\n",
    "    'New Mexico': 'NM',\n",
    "    'New York': 'NY',\n",
    "    'North Carolina': 'NC',\n",
    "    'North Dakota': 'ND',\n",
    "    'Ohio': 'OH',\n",
    "    'Oklahoma': 'OK',\n",
    "    'Oregon': 'OR',\n",
    "    'Pennsylvania': 'PA',\n",
    "    'Rhode Island': 'RI',\n",
    "    'South Carolina': 'SC',\n",
    "    'South Dakota': 'SD',\n",
    "    'Tennessee': 'TN',\n",
    "    'Texas': 'TX',\n",
    "    'Utah': 'UT',\n",
    "    'Vermont': 'VT',\n",
    "    'Virginia': 'VA',\n",
    "    'Washington': 'WA',\n",
    "    'West Virginia': 'WV',\n",
    "    'Wisconsin': 'WI',\n",
    "    'Wyoming': 'WY'\n",
    "}\n",
    "data['State Abbreviation'] = data['Geography'].map(state_abbreviations)\n"
   ]
  },
  {
   "cell_type": "code",
   "execution_count": 101,
   "metadata": {},
   "outputs": [
    {
     "data": {
      "application/vnd.plotly.v1+json": {
       "config": {
        "plotlyServerURL": "https://plot.ly"
       },
       "data": [
        {
         "coloraxis": "coloraxis",
         "geo": "geo",
         "hovertemplate": "State Abbreviation=%{location}<br>Cluster=%{z}<extra></extra>",
         "locationmode": "USA-states",
         "locations": [
          null,
          "AL",
          "AK",
          "AZ",
          "AR",
          "CA",
          "CO",
          "CT",
          "DE",
          null,
          "FL",
          "GA",
          "HI",
          "ID",
          "IL",
          "IN",
          "IA",
          "KS",
          "KY",
          "LA",
          "ME",
          "MD",
          "MA",
          "MI",
          "MN",
          "MS",
          "MO",
          "MT",
          "NE",
          "NV",
          "NH",
          "NJ",
          "NM",
          "NY",
          "NC",
          "ND",
          "OH",
          "OK",
          "OR",
          "PA",
          "RI",
          "SC",
          "SD",
          "TN",
          "TX",
          "UT",
          "VT",
          "VA",
          "WA",
          "WV",
          "WI",
          "WY",
          null
         ],
         "name": "",
         "type": "choropleth",
         "z": [
          0,
          1,
          3,
          4,
          1,
          0,
          4,
          1,
          1,
          3,
          1,
          1,
          3,
          0,
          1,
          0,
          4,
          0,
          4,
          1,
          3,
          3,
          3,
          1,
          0,
          1,
          1,
          0,
          0,
          0,
          1,
          1,
          1,
          3,
          3,
          3,
          1,
          0,
          0,
          0,
          1,
          1,
          4,
          1,
          1,
          0,
          3,
          1,
          0,
          2,
          4,
          0,
          3
         ]
        }
       ],
       "layout": {
        "coloraxis": {
         "colorbar": {
          "title": {
           "text": "Cluster"
          }
         },
         "colorscale": [
          [
           0,
           "#0d0887"
          ],
          [
           0.1111111111111111,
           "#46039f"
          ],
          [
           0.2222222222222222,
           "#7201a8"
          ],
          [
           0.3333333333333333,
           "#9c179e"
          ],
          [
           0.4444444444444444,
           "#bd3786"
          ],
          [
           0.5555555555555556,
           "#d8576b"
          ],
          [
           0.6666666666666666,
           "#ed7953"
          ],
          [
           0.7777777777777778,
           "#fb9f3a"
          ],
          [
           0.8888888888888888,
           "#fdca26"
          ],
          [
           1,
           "#f0f921"
          ]
         ]
        },
        "geo": {
         "center": {},
         "domain": {
          "x": [
           0,
           1
          ],
          "y": [
           0,
           1
          ]
         },
         "scope": "usa"
        },
        "legend": {
         "tracegroupgap": 0
        },
        "template": {
         "data": {
          "bar": [
           {
            "error_x": {
             "color": "#2a3f5f"
            },
            "error_y": {
             "color": "#2a3f5f"
            },
            "marker": {
             "line": {
              "color": "#E5ECF6",
              "width": 0.5
             },
             "pattern": {
              "fillmode": "overlay",
              "size": 10,
              "solidity": 0.2
             }
            },
            "type": "bar"
           }
          ],
          "barpolar": [
           {
            "marker": {
             "line": {
              "color": "#E5ECF6",
              "width": 0.5
             },
             "pattern": {
              "fillmode": "overlay",
              "size": 10,
              "solidity": 0.2
             }
            },
            "type": "barpolar"
           }
          ],
          "carpet": [
           {
            "aaxis": {
             "endlinecolor": "#2a3f5f",
             "gridcolor": "white",
             "linecolor": "white",
             "minorgridcolor": "white",
             "startlinecolor": "#2a3f5f"
            },
            "baxis": {
             "endlinecolor": "#2a3f5f",
             "gridcolor": "white",
             "linecolor": "white",
             "minorgridcolor": "white",
             "startlinecolor": "#2a3f5f"
            },
            "type": "carpet"
           }
          ],
          "choropleth": [
           {
            "colorbar": {
             "outlinewidth": 0,
             "ticks": ""
            },
            "type": "choropleth"
           }
          ],
          "contour": [
           {
            "colorbar": {
             "outlinewidth": 0,
             "ticks": ""
            },
            "colorscale": [
             [
              0,
              "#0d0887"
             ],
             [
              0.1111111111111111,
              "#46039f"
             ],
             [
              0.2222222222222222,
              "#7201a8"
             ],
             [
              0.3333333333333333,
              "#9c179e"
             ],
             [
              0.4444444444444444,
              "#bd3786"
             ],
             [
              0.5555555555555556,
              "#d8576b"
             ],
             [
              0.6666666666666666,
              "#ed7953"
             ],
             [
              0.7777777777777778,
              "#fb9f3a"
             ],
             [
              0.8888888888888888,
              "#fdca26"
             ],
             [
              1,
              "#f0f921"
             ]
            ],
            "type": "contour"
           }
          ],
          "contourcarpet": [
           {
            "colorbar": {
             "outlinewidth": 0,
             "ticks": ""
            },
            "type": "contourcarpet"
           }
          ],
          "heatmap": [
           {
            "colorbar": {
             "outlinewidth": 0,
             "ticks": ""
            },
            "colorscale": [
             [
              0,
              "#0d0887"
             ],
             [
              0.1111111111111111,
              "#46039f"
             ],
             [
              0.2222222222222222,
              "#7201a8"
             ],
             [
              0.3333333333333333,
              "#9c179e"
             ],
             [
              0.4444444444444444,
              "#bd3786"
             ],
             [
              0.5555555555555556,
              "#d8576b"
             ],
             [
              0.6666666666666666,
              "#ed7953"
             ],
             [
              0.7777777777777778,
              "#fb9f3a"
             ],
             [
              0.8888888888888888,
              "#fdca26"
             ],
             [
              1,
              "#f0f921"
             ]
            ],
            "type": "heatmap"
           }
          ],
          "heatmapgl": [
           {
            "colorbar": {
             "outlinewidth": 0,
             "ticks": ""
            },
            "colorscale": [
             [
              0,
              "#0d0887"
             ],
             [
              0.1111111111111111,
              "#46039f"
             ],
             [
              0.2222222222222222,
              "#7201a8"
             ],
             [
              0.3333333333333333,
              "#9c179e"
             ],
             [
              0.4444444444444444,
              "#bd3786"
             ],
             [
              0.5555555555555556,
              "#d8576b"
             ],
             [
              0.6666666666666666,
              "#ed7953"
             ],
             [
              0.7777777777777778,
              "#fb9f3a"
             ],
             [
              0.8888888888888888,
              "#fdca26"
             ],
             [
              1,
              "#f0f921"
             ]
            ],
            "type": "heatmapgl"
           }
          ],
          "histogram": [
           {
            "marker": {
             "pattern": {
              "fillmode": "overlay",
              "size": 10,
              "solidity": 0.2
             }
            },
            "type": "histogram"
           }
          ],
          "histogram2d": [
           {
            "colorbar": {
             "outlinewidth": 0,
             "ticks": ""
            },
            "colorscale": [
             [
              0,
              "#0d0887"
             ],
             [
              0.1111111111111111,
              "#46039f"
             ],
             [
              0.2222222222222222,
              "#7201a8"
             ],
             [
              0.3333333333333333,
              "#9c179e"
             ],
             [
              0.4444444444444444,
              "#bd3786"
             ],
             [
              0.5555555555555556,
              "#d8576b"
             ],
             [
              0.6666666666666666,
              "#ed7953"
             ],
             [
              0.7777777777777778,
              "#fb9f3a"
             ],
             [
              0.8888888888888888,
              "#fdca26"
             ],
             [
              1,
              "#f0f921"
             ]
            ],
            "type": "histogram2d"
           }
          ],
          "histogram2dcontour": [
           {
            "colorbar": {
             "outlinewidth": 0,
             "ticks": ""
            },
            "colorscale": [
             [
              0,
              "#0d0887"
             ],
             [
              0.1111111111111111,
              "#46039f"
             ],
             [
              0.2222222222222222,
              "#7201a8"
             ],
             [
              0.3333333333333333,
              "#9c179e"
             ],
             [
              0.4444444444444444,
              "#bd3786"
             ],
             [
              0.5555555555555556,
              "#d8576b"
             ],
             [
              0.6666666666666666,
              "#ed7953"
             ],
             [
              0.7777777777777778,
              "#fb9f3a"
             ],
             [
              0.8888888888888888,
              "#fdca26"
             ],
             [
              1,
              "#f0f921"
             ]
            ],
            "type": "histogram2dcontour"
           }
          ],
          "mesh3d": [
           {
            "colorbar": {
             "outlinewidth": 0,
             "ticks": ""
            },
            "type": "mesh3d"
           }
          ],
          "parcoords": [
           {
            "line": {
             "colorbar": {
              "outlinewidth": 0,
              "ticks": ""
             }
            },
            "type": "parcoords"
           }
          ],
          "pie": [
           {
            "automargin": true,
            "type": "pie"
           }
          ],
          "scatter": [
           {
            "fillpattern": {
             "fillmode": "overlay",
             "size": 10,
             "solidity": 0.2
            },
            "type": "scatter"
           }
          ],
          "scatter3d": [
           {
            "line": {
             "colorbar": {
              "outlinewidth": 0,
              "ticks": ""
             }
            },
            "marker": {
             "colorbar": {
              "outlinewidth": 0,
              "ticks": ""
             }
            },
            "type": "scatter3d"
           }
          ],
          "scattercarpet": [
           {
            "marker": {
             "colorbar": {
              "outlinewidth": 0,
              "ticks": ""
             }
            },
            "type": "scattercarpet"
           }
          ],
          "scattergeo": [
           {
            "marker": {
             "colorbar": {
              "outlinewidth": 0,
              "ticks": ""
             }
            },
            "type": "scattergeo"
           }
          ],
          "scattergl": [
           {
            "marker": {
             "colorbar": {
              "outlinewidth": 0,
              "ticks": ""
             }
            },
            "type": "scattergl"
           }
          ],
          "scattermapbox": [
           {
            "marker": {
             "colorbar": {
              "outlinewidth": 0,
              "ticks": ""
             }
            },
            "type": "scattermapbox"
           }
          ],
          "scatterpolar": [
           {
            "marker": {
             "colorbar": {
              "outlinewidth": 0,
              "ticks": ""
             }
            },
            "type": "scatterpolar"
           }
          ],
          "scatterpolargl": [
           {
            "marker": {
             "colorbar": {
              "outlinewidth": 0,
              "ticks": ""
             }
            },
            "type": "scatterpolargl"
           }
          ],
          "scatterternary": [
           {
            "marker": {
             "colorbar": {
              "outlinewidth": 0,
              "ticks": ""
             }
            },
            "type": "scatterternary"
           }
          ],
          "surface": [
           {
            "colorbar": {
             "outlinewidth": 0,
             "ticks": ""
            },
            "colorscale": [
             [
              0,
              "#0d0887"
             ],
             [
              0.1111111111111111,
              "#46039f"
             ],
             [
              0.2222222222222222,
              "#7201a8"
             ],
             [
              0.3333333333333333,
              "#9c179e"
             ],
             [
              0.4444444444444444,
              "#bd3786"
             ],
             [
              0.5555555555555556,
              "#d8576b"
             ],
             [
              0.6666666666666666,
              "#ed7953"
             ],
             [
              0.7777777777777778,
              "#fb9f3a"
             ],
             [
              0.8888888888888888,
              "#fdca26"
             ],
             [
              1,
              "#f0f921"
             ]
            ],
            "type": "surface"
           }
          ],
          "table": [
           {
            "cells": {
             "fill": {
              "color": "#EBF0F8"
             },
             "line": {
              "color": "white"
             }
            },
            "header": {
             "fill": {
              "color": "#C8D4E3"
             },
             "line": {
              "color": "white"
             }
            },
            "type": "table"
           }
          ]
         },
         "layout": {
          "annotationdefaults": {
           "arrowcolor": "#2a3f5f",
           "arrowhead": 0,
           "arrowwidth": 1
          },
          "autotypenumbers": "strict",
          "coloraxis": {
           "colorbar": {
            "outlinewidth": 0,
            "ticks": ""
           }
          },
          "colorscale": {
           "diverging": [
            [
             0,
             "#8e0152"
            ],
            [
             0.1,
             "#c51b7d"
            ],
            [
             0.2,
             "#de77ae"
            ],
            [
             0.3,
             "#f1b6da"
            ],
            [
             0.4,
             "#fde0ef"
            ],
            [
             0.5,
             "#f7f7f7"
            ],
            [
             0.6,
             "#e6f5d0"
            ],
            [
             0.7,
             "#b8e186"
            ],
            [
             0.8,
             "#7fbc41"
            ],
            [
             0.9,
             "#4d9221"
            ],
            [
             1,
             "#276419"
            ]
           ],
           "sequential": [
            [
             0,
             "#0d0887"
            ],
            [
             0.1111111111111111,
             "#46039f"
            ],
            [
             0.2222222222222222,
             "#7201a8"
            ],
            [
             0.3333333333333333,
             "#9c179e"
            ],
            [
             0.4444444444444444,
             "#bd3786"
            ],
            [
             0.5555555555555556,
             "#d8576b"
            ],
            [
             0.6666666666666666,
             "#ed7953"
            ],
            [
             0.7777777777777778,
             "#fb9f3a"
            ],
            [
             0.8888888888888888,
             "#fdca26"
            ],
            [
             1,
             "#f0f921"
            ]
           ],
           "sequentialminus": [
            [
             0,
             "#0d0887"
            ],
            [
             0.1111111111111111,
             "#46039f"
            ],
            [
             0.2222222222222222,
             "#7201a8"
            ],
            [
             0.3333333333333333,
             "#9c179e"
            ],
            [
             0.4444444444444444,
             "#bd3786"
            ],
            [
             0.5555555555555556,
             "#d8576b"
            ],
            [
             0.6666666666666666,
             "#ed7953"
            ],
            [
             0.7777777777777778,
             "#fb9f3a"
            ],
            [
             0.8888888888888888,
             "#fdca26"
            ],
            [
             1,
             "#f0f921"
            ]
           ]
          },
          "colorway": [
           "#636efa",
           "#EF553B",
           "#00cc96",
           "#ab63fa",
           "#FFA15A",
           "#19d3f3",
           "#FF6692",
           "#B6E880",
           "#FF97FF",
           "#FECB52"
          ],
          "font": {
           "color": "#2a3f5f"
          },
          "geo": {
           "bgcolor": "white",
           "lakecolor": "white",
           "landcolor": "#E5ECF6",
           "showlakes": true,
           "showland": true,
           "subunitcolor": "white"
          },
          "hoverlabel": {
           "align": "left"
          },
          "hovermode": "closest",
          "mapbox": {
           "style": "light"
          },
          "paper_bgcolor": "white",
          "plot_bgcolor": "#E5ECF6",
          "polar": {
           "angularaxis": {
            "gridcolor": "white",
            "linecolor": "white",
            "ticks": ""
           },
           "bgcolor": "#E5ECF6",
           "radialaxis": {
            "gridcolor": "white",
            "linecolor": "white",
            "ticks": ""
           }
          },
          "scene": {
           "xaxis": {
            "backgroundcolor": "#E5ECF6",
            "gridcolor": "white",
            "gridwidth": 2,
            "linecolor": "white",
            "showbackground": true,
            "ticks": "",
            "zerolinecolor": "white"
           },
           "yaxis": {
            "backgroundcolor": "#E5ECF6",
            "gridcolor": "white",
            "gridwidth": 2,
            "linecolor": "white",
            "showbackground": true,
            "ticks": "",
            "zerolinecolor": "white"
           },
           "zaxis": {
            "backgroundcolor": "#E5ECF6",
            "gridcolor": "white",
            "gridwidth": 2,
            "linecolor": "white",
            "showbackground": true,
            "ticks": "",
            "zerolinecolor": "white"
           }
          },
          "shapedefaults": {
           "line": {
            "color": "#2a3f5f"
           }
          },
          "ternary": {
           "aaxis": {
            "gridcolor": "white",
            "linecolor": "white",
            "ticks": ""
           },
           "baxis": {
            "gridcolor": "white",
            "linecolor": "white",
            "ticks": ""
           },
           "bgcolor": "#E5ECF6",
           "caxis": {
            "gridcolor": "white",
            "linecolor": "white",
            "ticks": ""
           }
          },
          "title": {
           "x": 0.05
          },
          "xaxis": {
           "automargin": true,
           "gridcolor": "white",
           "linecolor": "white",
           "ticks": "",
           "title": {
            "standoff": 15
           },
           "zerolinecolor": "white",
           "zerolinewidth": 2
          },
          "yaxis": {
           "automargin": true,
           "gridcolor": "white",
           "linecolor": "white",
           "ticks": "",
           "title": {
            "standoff": 15
           },
           "zerolinecolor": "white",
           "zerolinewidth": 2
          }
         }
        },
        "title": {
         "text": "Clusters by State"
        }
       }
      }
     },
     "metadata": {},
     "output_type": "display_data"
    }
   ],
   "source": [
    "# Create a choropleth map\n",
    "fig = px.choropleth(data, locations='State Abbreviation', locationmode='USA-states', color='Cluster', scope='usa', title='Clusters by State')\n",
    "\n",
    "fig.show()"
   ]
  },
  {
   "cell_type": "code",
   "execution_count": 102,
   "metadata": {},
   "outputs": [
    {
     "data": {
      "application/vnd.plotly.v1+json": {
       "config": {
        "plotlyServerURL": "https://plot.ly"
       },
       "data": [
        {
         "hovertemplate": "Male incarceration rate: White alone=%{x}<br>Male incarceration rate: Black or African American alone=%{y}<extra></extra>",
         "legendgroup": "",
         "marker": {
          "color": "#636efa",
          "symbol": "circle"
         },
         "mode": "markers",
         "name": "",
         "orientation": "v",
         "showlegend": false,
         "type": "scatter",
         "x": [
          916,
          918,
          602,
          1377,
          1093,
          1100,
          1264,
          431,
          762,
          138,
          1092,
          1203,
          614,
          1216,
          508,
          1014,
          612,
          874,
          1273,
          1262,
          481,
          587,
          587,
          744,
          440,
          1304,
          908,
          753,
          615,
          1171,
          632,
          504,
          1627,
          497,
          682,
          454,
          784,
          1603,
          986,
          728,
          447,
          836,
          957,
          877,
          1506,
          715,
          413,
          845,
          784,
          1091,
          780,
          959,
          640
         ],
         "xaxis": "x",
         "y": [
          4490,
          3521,
          2070,
          5505,
          4801,
          5666,
          6382,
          4274,
          4028,
          1974,
          4893,
          4006,
          1462,
          4995,
          4196,
          5495,
          6001,
          6036,
          6733,
          5406,
          2655,
          2901,
          2923,
          4432,
          4192,
          3547,
          4625,
          5071,
          4371,
          4678,
          3750,
          3995,
          4201,
          3361,
          3311,
          2580,
          4584,
          6976,
          5490,
          6442,
          3601,
          3990,
          7353,
          3857,
          5371,
          4368,
          3526,
          4721,
          4073,
          11957,
          7708,
          4885,
          1162
         ],
         "yaxis": "y"
        },
        {
         "hovertemplate": "<b>OLS trendline</b><br>Male incarceration rate: Black or African American alone = 2.57741 * Male incarceration rate: White alone + 2378.8<br>R<sup>2</sup>=0.240910<br><br>Male incarceration rate: White alone=%{x}<br>Male incarceration rate: Black or African American alone=%{y} <b>(trend)</b><extra></extra>",
         "legendgroup": "",
         "marker": {
          "color": "#636efa",
          "symbol": "circle"
         },
         "mode": "lines",
         "name": "",
         "showlegend": false,
         "type": "scatter",
         "x": [
          138,
          413,
          431,
          440,
          447,
          454,
          481,
          497,
          504,
          508,
          587,
          587,
          602,
          612,
          614,
          615,
          632,
          640,
          682,
          715,
          728,
          744,
          753,
          762,
          780,
          784,
          784,
          836,
          845,
          874,
          877,
          908,
          916,
          918,
          957,
          959,
          986,
          1014,
          1091,
          1092,
          1093,
          1100,
          1171,
          1203,
          1216,
          1262,
          1264,
          1273,
          1304,
          1377,
          1506,
          1603,
          1627
         ],
         "xaxis": "x",
         "y": [
          2734.485766584101,
          3443.2737680629534,
          3489.6671645233873,
          3512.8638627536043,
          3530.905739154884,
          3548.9476155561642,
          3618.5377102468146,
          3659.776284878312,
          3677.8181612795915,
          3688.127804937466,
          3891.743267180482,
          3891.743267180482,
          3930.40443089751,
          3956.1785400421954,
          3961.3333618711326,
          3963.9107727856012,
          4007.7267583315665,
          4028.346045647315,
          4136.597304054994,
          4221.651864232456,
          4255.158206120548,
          4296.396780752045,
          4319.593478982262,
          4342.790177212479,
          4389.183573672913,
          4399.493217330787,
          4399.493217330787,
          4533.518584883152,
          4556.715283113368,
          4631.460199632957,
          4639.192432376362,
          4719.092170724887,
          4739.711458040636,
          4744.866279869573,
          4845.385305533847,
          4850.540127362784,
          4920.130222053434,
          4992.297727658554,
          5190.758368072633,
          5193.335778987102,
          5195.91318990157,
          5213.955066302849,
          5396.951241230117,
          5479.428390493111,
          5512.934732381202,
          5631.4956344467555,
          5636.650456275693,
          5659.847154505909,
          5739.746892854435,
          5927.89788961064,
          6260.383897577083,
          6510.392756280533,
          6572.250618227778
         ],
         "yaxis": "y"
        }
       ],
       "layout": {
        "legend": {
         "tracegroupgap": 0
        },
        "template": {
         "data": {
          "bar": [
           {
            "error_x": {
             "color": "#2a3f5f"
            },
            "error_y": {
             "color": "#2a3f5f"
            },
            "marker": {
             "line": {
              "color": "#E5ECF6",
              "width": 0.5
             },
             "pattern": {
              "fillmode": "overlay",
              "size": 10,
              "solidity": 0.2
             }
            },
            "type": "bar"
           }
          ],
          "barpolar": [
           {
            "marker": {
             "line": {
              "color": "#E5ECF6",
              "width": 0.5
             },
             "pattern": {
              "fillmode": "overlay",
              "size": 10,
              "solidity": 0.2
             }
            },
            "type": "barpolar"
           }
          ],
          "carpet": [
           {
            "aaxis": {
             "endlinecolor": "#2a3f5f",
             "gridcolor": "white",
             "linecolor": "white",
             "minorgridcolor": "white",
             "startlinecolor": "#2a3f5f"
            },
            "baxis": {
             "endlinecolor": "#2a3f5f",
             "gridcolor": "white",
             "linecolor": "white",
             "minorgridcolor": "white",
             "startlinecolor": "#2a3f5f"
            },
            "type": "carpet"
           }
          ],
          "choropleth": [
           {
            "colorbar": {
             "outlinewidth": 0,
             "ticks": ""
            },
            "type": "choropleth"
           }
          ],
          "contour": [
           {
            "colorbar": {
             "outlinewidth": 0,
             "ticks": ""
            },
            "colorscale": [
             [
              0,
              "#0d0887"
             ],
             [
              0.1111111111111111,
              "#46039f"
             ],
             [
              0.2222222222222222,
              "#7201a8"
             ],
             [
              0.3333333333333333,
              "#9c179e"
             ],
             [
              0.4444444444444444,
              "#bd3786"
             ],
             [
              0.5555555555555556,
              "#d8576b"
             ],
             [
              0.6666666666666666,
              "#ed7953"
             ],
             [
              0.7777777777777778,
              "#fb9f3a"
             ],
             [
              0.8888888888888888,
              "#fdca26"
             ],
             [
              1,
              "#f0f921"
             ]
            ],
            "type": "contour"
           }
          ],
          "contourcarpet": [
           {
            "colorbar": {
             "outlinewidth": 0,
             "ticks": ""
            },
            "type": "contourcarpet"
           }
          ],
          "heatmap": [
           {
            "colorbar": {
             "outlinewidth": 0,
             "ticks": ""
            },
            "colorscale": [
             [
              0,
              "#0d0887"
             ],
             [
              0.1111111111111111,
              "#46039f"
             ],
             [
              0.2222222222222222,
              "#7201a8"
             ],
             [
              0.3333333333333333,
              "#9c179e"
             ],
             [
              0.4444444444444444,
              "#bd3786"
             ],
             [
              0.5555555555555556,
              "#d8576b"
             ],
             [
              0.6666666666666666,
              "#ed7953"
             ],
             [
              0.7777777777777778,
              "#fb9f3a"
             ],
             [
              0.8888888888888888,
              "#fdca26"
             ],
             [
              1,
              "#f0f921"
             ]
            ],
            "type": "heatmap"
           }
          ],
          "heatmapgl": [
           {
            "colorbar": {
             "outlinewidth": 0,
             "ticks": ""
            },
            "colorscale": [
             [
              0,
              "#0d0887"
             ],
             [
              0.1111111111111111,
              "#46039f"
             ],
             [
              0.2222222222222222,
              "#7201a8"
             ],
             [
              0.3333333333333333,
              "#9c179e"
             ],
             [
              0.4444444444444444,
              "#bd3786"
             ],
             [
              0.5555555555555556,
              "#d8576b"
             ],
             [
              0.6666666666666666,
              "#ed7953"
             ],
             [
              0.7777777777777778,
              "#fb9f3a"
             ],
             [
              0.8888888888888888,
              "#fdca26"
             ],
             [
              1,
              "#f0f921"
             ]
            ],
            "type": "heatmapgl"
           }
          ],
          "histogram": [
           {
            "marker": {
             "pattern": {
              "fillmode": "overlay",
              "size": 10,
              "solidity": 0.2
             }
            },
            "type": "histogram"
           }
          ],
          "histogram2d": [
           {
            "colorbar": {
             "outlinewidth": 0,
             "ticks": ""
            },
            "colorscale": [
             [
              0,
              "#0d0887"
             ],
             [
              0.1111111111111111,
              "#46039f"
             ],
             [
              0.2222222222222222,
              "#7201a8"
             ],
             [
              0.3333333333333333,
              "#9c179e"
             ],
             [
              0.4444444444444444,
              "#bd3786"
             ],
             [
              0.5555555555555556,
              "#d8576b"
             ],
             [
              0.6666666666666666,
              "#ed7953"
             ],
             [
              0.7777777777777778,
              "#fb9f3a"
             ],
             [
              0.8888888888888888,
              "#fdca26"
             ],
             [
              1,
              "#f0f921"
             ]
            ],
            "type": "histogram2d"
           }
          ],
          "histogram2dcontour": [
           {
            "colorbar": {
             "outlinewidth": 0,
             "ticks": ""
            },
            "colorscale": [
             [
              0,
              "#0d0887"
             ],
             [
              0.1111111111111111,
              "#46039f"
             ],
             [
              0.2222222222222222,
              "#7201a8"
             ],
             [
              0.3333333333333333,
              "#9c179e"
             ],
             [
              0.4444444444444444,
              "#bd3786"
             ],
             [
              0.5555555555555556,
              "#d8576b"
             ],
             [
              0.6666666666666666,
              "#ed7953"
             ],
             [
              0.7777777777777778,
              "#fb9f3a"
             ],
             [
              0.8888888888888888,
              "#fdca26"
             ],
             [
              1,
              "#f0f921"
             ]
            ],
            "type": "histogram2dcontour"
           }
          ],
          "mesh3d": [
           {
            "colorbar": {
             "outlinewidth": 0,
             "ticks": ""
            },
            "type": "mesh3d"
           }
          ],
          "parcoords": [
           {
            "line": {
             "colorbar": {
              "outlinewidth": 0,
              "ticks": ""
             }
            },
            "type": "parcoords"
           }
          ],
          "pie": [
           {
            "automargin": true,
            "type": "pie"
           }
          ],
          "scatter": [
           {
            "fillpattern": {
             "fillmode": "overlay",
             "size": 10,
             "solidity": 0.2
            },
            "type": "scatter"
           }
          ],
          "scatter3d": [
           {
            "line": {
             "colorbar": {
              "outlinewidth": 0,
              "ticks": ""
             }
            },
            "marker": {
             "colorbar": {
              "outlinewidth": 0,
              "ticks": ""
             }
            },
            "type": "scatter3d"
           }
          ],
          "scattercarpet": [
           {
            "marker": {
             "colorbar": {
              "outlinewidth": 0,
              "ticks": ""
             }
            },
            "type": "scattercarpet"
           }
          ],
          "scattergeo": [
           {
            "marker": {
             "colorbar": {
              "outlinewidth": 0,
              "ticks": ""
             }
            },
            "type": "scattergeo"
           }
          ],
          "scattergl": [
           {
            "marker": {
             "colorbar": {
              "outlinewidth": 0,
              "ticks": ""
             }
            },
            "type": "scattergl"
           }
          ],
          "scattermapbox": [
           {
            "marker": {
             "colorbar": {
              "outlinewidth": 0,
              "ticks": ""
             }
            },
            "type": "scattermapbox"
           }
          ],
          "scatterpolar": [
           {
            "marker": {
             "colorbar": {
              "outlinewidth": 0,
              "ticks": ""
             }
            },
            "type": "scatterpolar"
           }
          ],
          "scatterpolargl": [
           {
            "marker": {
             "colorbar": {
              "outlinewidth": 0,
              "ticks": ""
             }
            },
            "type": "scatterpolargl"
           }
          ],
          "scatterternary": [
           {
            "marker": {
             "colorbar": {
              "outlinewidth": 0,
              "ticks": ""
             }
            },
            "type": "scatterternary"
           }
          ],
          "surface": [
           {
            "colorbar": {
             "outlinewidth": 0,
             "ticks": ""
            },
            "colorscale": [
             [
              0,
              "#0d0887"
             ],
             [
              0.1111111111111111,
              "#46039f"
             ],
             [
              0.2222222222222222,
              "#7201a8"
             ],
             [
              0.3333333333333333,
              "#9c179e"
             ],
             [
              0.4444444444444444,
              "#bd3786"
             ],
             [
              0.5555555555555556,
              "#d8576b"
             ],
             [
              0.6666666666666666,
              "#ed7953"
             ],
             [
              0.7777777777777778,
              "#fb9f3a"
             ],
             [
              0.8888888888888888,
              "#fdca26"
             ],
             [
              1,
              "#f0f921"
             ]
            ],
            "type": "surface"
           }
          ],
          "table": [
           {
            "cells": {
             "fill": {
              "color": "#EBF0F8"
             },
             "line": {
              "color": "white"
             }
            },
            "header": {
             "fill": {
              "color": "#C8D4E3"
             },
             "line": {
              "color": "white"
             }
            },
            "type": "table"
           }
          ]
         },
         "layout": {
          "annotationdefaults": {
           "arrowcolor": "#2a3f5f",
           "arrowhead": 0,
           "arrowwidth": 1
          },
          "autotypenumbers": "strict",
          "coloraxis": {
           "colorbar": {
            "outlinewidth": 0,
            "ticks": ""
           }
          },
          "colorscale": {
           "diverging": [
            [
             0,
             "#8e0152"
            ],
            [
             0.1,
             "#c51b7d"
            ],
            [
             0.2,
             "#de77ae"
            ],
            [
             0.3,
             "#f1b6da"
            ],
            [
             0.4,
             "#fde0ef"
            ],
            [
             0.5,
             "#f7f7f7"
            ],
            [
             0.6,
             "#e6f5d0"
            ],
            [
             0.7,
             "#b8e186"
            ],
            [
             0.8,
             "#7fbc41"
            ],
            [
             0.9,
             "#4d9221"
            ],
            [
             1,
             "#276419"
            ]
           ],
           "sequential": [
            [
             0,
             "#0d0887"
            ],
            [
             0.1111111111111111,
             "#46039f"
            ],
            [
             0.2222222222222222,
             "#7201a8"
            ],
            [
             0.3333333333333333,
             "#9c179e"
            ],
            [
             0.4444444444444444,
             "#bd3786"
            ],
            [
             0.5555555555555556,
             "#d8576b"
            ],
            [
             0.6666666666666666,
             "#ed7953"
            ],
            [
             0.7777777777777778,
             "#fb9f3a"
            ],
            [
             0.8888888888888888,
             "#fdca26"
            ],
            [
             1,
             "#f0f921"
            ]
           ],
           "sequentialminus": [
            [
             0,
             "#0d0887"
            ],
            [
             0.1111111111111111,
             "#46039f"
            ],
            [
             0.2222222222222222,
             "#7201a8"
            ],
            [
             0.3333333333333333,
             "#9c179e"
            ],
            [
             0.4444444444444444,
             "#bd3786"
            ],
            [
             0.5555555555555556,
             "#d8576b"
            ],
            [
             0.6666666666666666,
             "#ed7953"
            ],
            [
             0.7777777777777778,
             "#fb9f3a"
            ],
            [
             0.8888888888888888,
             "#fdca26"
            ],
            [
             1,
             "#f0f921"
            ]
           ]
          },
          "colorway": [
           "#636efa",
           "#EF553B",
           "#00cc96",
           "#ab63fa",
           "#FFA15A",
           "#19d3f3",
           "#FF6692",
           "#B6E880",
           "#FF97FF",
           "#FECB52"
          ],
          "font": {
           "color": "#2a3f5f"
          },
          "geo": {
           "bgcolor": "white",
           "lakecolor": "white",
           "landcolor": "#E5ECF6",
           "showlakes": true,
           "showland": true,
           "subunitcolor": "white"
          },
          "hoverlabel": {
           "align": "left"
          },
          "hovermode": "closest",
          "mapbox": {
           "style": "light"
          },
          "paper_bgcolor": "white",
          "plot_bgcolor": "#E5ECF6",
          "polar": {
           "angularaxis": {
            "gridcolor": "white",
            "linecolor": "white",
            "ticks": ""
           },
           "bgcolor": "#E5ECF6",
           "radialaxis": {
            "gridcolor": "white",
            "linecolor": "white",
            "ticks": ""
           }
          },
          "scene": {
           "xaxis": {
            "backgroundcolor": "#E5ECF6",
            "gridcolor": "white",
            "gridwidth": 2,
            "linecolor": "white",
            "showbackground": true,
            "ticks": "",
            "zerolinecolor": "white"
           },
           "yaxis": {
            "backgroundcolor": "#E5ECF6",
            "gridcolor": "white",
            "gridwidth": 2,
            "linecolor": "white",
            "showbackground": true,
            "ticks": "",
            "zerolinecolor": "white"
           },
           "zaxis": {
            "backgroundcolor": "#E5ECF6",
            "gridcolor": "white",
            "gridwidth": 2,
            "linecolor": "white",
            "showbackground": true,
            "ticks": "",
            "zerolinecolor": "white"
           }
          },
          "shapedefaults": {
           "line": {
            "color": "#2a3f5f"
           }
          },
          "ternary": {
           "aaxis": {
            "gridcolor": "white",
            "linecolor": "white",
            "ticks": ""
           },
           "baxis": {
            "gridcolor": "white",
            "linecolor": "white",
            "ticks": ""
           },
           "bgcolor": "#E5ECF6",
           "caxis": {
            "gridcolor": "white",
            "linecolor": "white",
            "ticks": ""
           }
          },
          "title": {
           "x": 0.05
          },
          "xaxis": {
           "automargin": true,
           "gridcolor": "white",
           "linecolor": "white",
           "ticks": "",
           "title": {
            "standoff": 15
           },
           "zerolinecolor": "white",
           "zerolinewidth": 2
          },
          "yaxis": {
           "automargin": true,
           "gridcolor": "white",
           "linecolor": "white",
           "ticks": "",
           "title": {
            "standoff": 15
           },
           "zerolinecolor": "white",
           "zerolinewidth": 2
          }
         }
        },
        "title": {
         "text": "Male Incarceration Rates by Race"
        },
        "xaxis": {
         "anchor": "y",
         "domain": [
          0,
          1
         ],
         "title": {
          "text": "Male incarceration rate: White alone"
         }
        },
        "yaxis": {
         "anchor": "x",
         "domain": [
          0,
          1
         ],
         "title": {
          "text": "Male incarceration rate: Black or African American alone"
         }
        }
       }
      }
     },
     "metadata": {},
     "output_type": "display_data"
    }
   ],
   "source": [
    "import plotly.express as px\n",
    "import statsmodels.api as sm\n",
    "\n",
    "# Create a new DataFrame with only the columns you want to use for the regression\n",
    "X = data[['Male incarceration rate: White alone']]\n",
    "y = data['Male incarceration rate: Black or African American alone']\n",
    "\n",
    "# Add a constant term to the independent variable\n",
    "X = sm.add_constant(X)\n",
    "\n",
    "# Fit a linear regression model\n",
    "model = sm.OLS(y, X).fit()\n",
    "\n",
    "# Create a scatter plot with the regression line\n",
    "fig = px.scatter(data, x='Male incarceration rate: White alone', y='Male incarceration rate: Black or African American alone', trendline='ols', title='Male Incarceration Rates by Race')\n",
    "\n",
    "fig.show()"
   ]
  },
  {
   "cell_type": "code",
   "execution_count": 103,
   "metadata": {},
   "outputs": [
    {
     "name": "stdout",
     "output_type": "stream",
     "text": [
      "                                               OLS Regression Results                                               \n",
      "====================================================================================================================\n",
      "Dep. Variable:     Male incarceration rate: Black or African American alone   R-squared:                       0.241\n",
      "Model:                                                                  OLS   Adj. R-squared:                  0.226\n",
      "Method:                                                       Least Squares   F-statistic:                     16.19\n",
      "Date:                                                      Mon, 03 Apr 2023   Prob (F-statistic):           0.000190\n",
      "Time:                                                              11:25:28   Log-Likelihood:                -462.85\n",
      "No. Observations:                                                        53   AIC:                             929.7\n",
      "Df Residuals:                                                            51   BIC:                             933.6\n",
      "Df Model:                                                                 1                                         \n",
      "Covariance Type:                                                  nonrobust                                         \n",
      "========================================================================================================\n",
      "                                           coef    std err          t      P>|t|      [0.025      0.975]\n",
      "--------------------------------------------------------------------------------------------------------\n",
      "const                                 2378.8031    585.481      4.063      0.000    1203.400    3554.206\n",
      "Male incarceration rate: White alone     2.5774      0.641      4.023      0.000       1.291       3.864\n",
      "==============================================================================\n",
      "Omnibus:                       34.426   Durbin-Watson:                   1.329\n",
      "Prob(Omnibus):                  0.000   Jarque-Bera (JB):              111.907\n",
      "Skew:                           1.707   Prob(JB):                     5.01e-25\n",
      "Kurtosis:                       9.247   Cond. No.                     2.55e+03\n",
      "==============================================================================\n",
      "\n",
      "Notes:\n",
      "[1] Standard Errors assume that the covariance matrix of the errors is correctly specified.\n",
      "[2] The condition number is large, 2.55e+03. This might indicate that there are\n",
      "strong multicollinearity or other numerical problems.\n"
     ]
    }
   ],
   "source": [
    "# Print the model summary\n",
    "print(model.summary())"
   ]
  },
  {
   "attachments": {},
   "cell_type": "markdown",
   "metadata": {},
   "source": [
    "This output shows the results of a linear regression analysis that models the relationship between the male incarceration rates for Black and White individuals in each state. The dependent variable is the male incarceration rate for Black individuals, and the independent variable is the male incarceration rate for White individuals.\n",
    "\n",
    "The R-squared value of 0.241 indicates that about 24.1% of the variance in the male incarceration rate for Black individuals can be explained by the male incarceration rate for White individuals. The Adj. R-squared value adjusts the R-squared value for the number of independent variables in the model and is slightly lower at 0.226.\n",
    "\n",
    "The coef column shows the coefficients of the regression model. The intercept (const) is 2378.8031, and the slope for the Male incarceration rate: White alone variable is 2.5774. This means that for every unit increase in the male incarceration rate for White individuals, we would expect an increase of 2.5774 units in the male incarceration rate for Black individuals, on average.\n",
    "\n",
    "The P>|t| column shows the p-values for the coefficients. In this case, both coefficients are statistically significant at the 0.05 level, indicating that there is a statistically significant relationship between the male incarceration rates for Black and White individuals."
   ]
  },
  {
   "cell_type": "code",
   "execution_count": 88,
   "metadata": {},
   "outputs": [],
   "source": [
    "import matplotlib.pyplot as plt\n",
    "import pandas as pd\n",
    "from sklearn.cluster import KMeans\n",
    "\n",
    "def elbow_method(df, n):\n",
    "    # Create a new DataFrame with only the columns you want to use for clustering\n",
    "    X = df.iloc[:,1:6]\n",
    "\n",
    "    # Perform K-means clustering for different values of K\n",
    "    inertias = []\n",
    "    for k in range(1, n):\n",
    "        kmeans = KMeans(n_clusters=k, random_state=42).fit(X)\n",
    "        inertia = kmeans.inertia_\n",
    "        inertias.append(inertia)\n",
    "\n",
    "    # Plot the elbow curve to choose the optimal value of K\n",
    "    plt.plot(range(1, n), inertias, 'bx-')\n",
    "    plt.xlabel('Number of clusters (K)')\n",
    "    plt.ylabel('Inertia')\n",
    "    plt.title('Elbow Method For Optimal K')\n",
    "    plt.show()\n",
    "\n",
    "    # create dataframe for elbow plot data\n",
    "    elbow_data = pd.DataFrame({\n",
    "        'K': range(1, n),\n",
    "        'Inertia': inertias\n",
    "    })\n",
    "    elbow_data = elbow_data.set_index('K')\n",
    "\n",
    "    # print(elbow_data)\n",
    "\n",
    "    # Calculate the slope and second derivative of the inertia curve\n",
    "    slopes = [inertias[i+1] - inertias[i] for i in range(len(inertias)-1)]\n",
    "    second_derivatives = [slopes[i+1] - slopes[i] for i in range(len(slopes)-1)]\n",
    "\n",
    "    # Find the index of the maximum second derivative\n",
    "    max_index = second_derivatives.index(max(second_derivatives))\n",
    "\n",
    "    # The optimal value of K is one more than the index of the maximum second derivative\n",
    "    best_k = max_index + 2\n",
    "    print(best_k)\n",
    "\n",
    "    return df, elbow_data, inertias, best_k"
   ]
  },
  {
   "cell_type": "code",
   "execution_count": 89,
   "metadata": {},
   "outputs": [
    {
     "name": "stderr",
     "output_type": "stream",
     "text": [
      "/Users/lorenzomendoza/opt/anaconda3/envs/machinelearning/lib/python3.11/site-packages/sklearn/cluster/_kmeans.py:870: FutureWarning:\n",
      "\n",
      "The default value of `n_init` will change from 10 to 'auto' in 1.4. Set the value of `n_init` explicitly to suppress the warning\n",
      "\n",
      "/Users/lorenzomendoza/opt/anaconda3/envs/machinelearning/lib/python3.11/site-packages/sklearn/cluster/_kmeans.py:870: FutureWarning:\n",
      "\n",
      "The default value of `n_init` will change from 10 to 'auto' in 1.4. Set the value of `n_init` explicitly to suppress the warning\n",
      "\n",
      "/Users/lorenzomendoza/opt/anaconda3/envs/machinelearning/lib/python3.11/site-packages/sklearn/cluster/_kmeans.py:870: FutureWarning:\n",
      "\n",
      "The default value of `n_init` will change from 10 to 'auto' in 1.4. Set the value of `n_init` explicitly to suppress the warning\n",
      "\n",
      "/Users/lorenzomendoza/opt/anaconda3/envs/machinelearning/lib/python3.11/site-packages/sklearn/cluster/_kmeans.py:870: FutureWarning:\n",
      "\n",
      "The default value of `n_init` will change from 10 to 'auto' in 1.4. Set the value of `n_init` explicitly to suppress the warning\n",
      "\n",
      "/Users/lorenzomendoza/opt/anaconda3/envs/machinelearning/lib/python3.11/site-packages/sklearn/cluster/_kmeans.py:870: FutureWarning:\n",
      "\n",
      "The default value of `n_init` will change from 10 to 'auto' in 1.4. Set the value of `n_init` explicitly to suppress the warning\n",
      "\n",
      "/Users/lorenzomendoza/opt/anaconda3/envs/machinelearning/lib/python3.11/site-packages/sklearn/cluster/_kmeans.py:870: FutureWarning:\n",
      "\n",
      "The default value of `n_init` will change from 10 to 'auto' in 1.4. Set the value of `n_init` explicitly to suppress the warning\n",
      "\n",
      "/Users/lorenzomendoza/opt/anaconda3/envs/machinelearning/lib/python3.11/site-packages/sklearn/cluster/_kmeans.py:870: FutureWarning:\n",
      "\n",
      "The default value of `n_init` will change from 10 to 'auto' in 1.4. Set the value of `n_init` explicitly to suppress the warning\n",
      "\n",
      "/Users/lorenzomendoza/opt/anaconda3/envs/machinelearning/lib/python3.11/site-packages/sklearn/cluster/_kmeans.py:870: FutureWarning:\n",
      "\n",
      "The default value of `n_init` will change from 10 to 'auto' in 1.4. Set the value of `n_init` explicitly to suppress the warning\n",
      "\n",
      "/Users/lorenzomendoza/opt/anaconda3/envs/machinelearning/lib/python3.11/site-packages/sklearn/cluster/_kmeans.py:870: FutureWarning:\n",
      "\n",
      "The default value of `n_init` will change from 10 to 'auto' in 1.4. Set the value of `n_init` explicitly to suppress the warning\n",
      "\n",
      "/Users/lorenzomendoza/opt/anaconda3/envs/machinelearning/lib/python3.11/site-packages/sklearn/cluster/_kmeans.py:870: FutureWarning:\n",
      "\n",
      "The default value of `n_init` will change from 10 to 'auto' in 1.4. Set the value of `n_init` explicitly to suppress the warning\n",
      "\n",
      "/Users/lorenzomendoza/opt/anaconda3/envs/machinelearning/lib/python3.11/site-packages/sklearn/cluster/_kmeans.py:870: FutureWarning:\n",
      "\n",
      "The default value of `n_init` will change from 10 to 'auto' in 1.4. Set the value of `n_init` explicitly to suppress the warning\n",
      "\n",
      "/Users/lorenzomendoza/opt/anaconda3/envs/machinelearning/lib/python3.11/site-packages/sklearn/cluster/_kmeans.py:870: FutureWarning:\n",
      "\n",
      "The default value of `n_init` will change from 10 to 'auto' in 1.4. Set the value of `n_init` explicitly to suppress the warning\n",
      "\n",
      "/Users/lorenzomendoza/opt/anaconda3/envs/machinelearning/lib/python3.11/site-packages/sklearn/cluster/_kmeans.py:870: FutureWarning:\n",
      "\n",
      "The default value of `n_init` will change from 10 to 'auto' in 1.4. Set the value of `n_init` explicitly to suppress the warning\n",
      "\n",
      "/Users/lorenzomendoza/opt/anaconda3/envs/machinelearning/lib/python3.11/site-packages/sklearn/cluster/_kmeans.py:870: FutureWarning:\n",
      "\n",
      "The default value of `n_init` will change from 10 to 'auto' in 1.4. Set the value of `n_init` explicitly to suppress the warning\n",
      "\n",
      "/Users/lorenzomendoza/opt/anaconda3/envs/machinelearning/lib/python3.11/site-packages/sklearn/cluster/_kmeans.py:870: FutureWarning:\n",
      "\n",
      "The default value of `n_init` will change from 10 to 'auto' in 1.4. Set the value of `n_init` explicitly to suppress the warning\n",
      "\n",
      "/Users/lorenzomendoza/opt/anaconda3/envs/machinelearning/lib/python3.11/site-packages/sklearn/cluster/_kmeans.py:870: FutureWarning:\n",
      "\n",
      "The default value of `n_init` will change from 10 to 'auto' in 1.4. Set the value of `n_init` explicitly to suppress the warning\n",
      "\n",
      "/Users/lorenzomendoza/opt/anaconda3/envs/machinelearning/lib/python3.11/site-packages/sklearn/cluster/_kmeans.py:870: FutureWarning:\n",
      "\n",
      "The default value of `n_init` will change from 10 to 'auto' in 1.4. Set the value of `n_init` explicitly to suppress the warning\n",
      "\n",
      "/Users/lorenzomendoza/opt/anaconda3/envs/machinelearning/lib/python3.11/site-packages/sklearn/cluster/_kmeans.py:870: FutureWarning:\n",
      "\n",
      "The default value of `n_init` will change from 10 to 'auto' in 1.4. Set the value of `n_init` explicitly to suppress the warning\n",
      "\n",
      "/Users/lorenzomendoza/opt/anaconda3/envs/machinelearning/lib/python3.11/site-packages/sklearn/cluster/_kmeans.py:870: FutureWarning:\n",
      "\n",
      "The default value of `n_init` will change from 10 to 'auto' in 1.4. Set the value of `n_init` explicitly to suppress the warning\n",
      "\n"
     ]
    },
    {
     "data": {
      "image/png": "[encoded data removed]",
      "text/plain": [
       "<Figure size 640x480 with 1 Axes>"
      ]
     },
     "metadata": {},
     "output_type": "display_data"
    },
    {
     "name": "stdout",
     "output_type": "stream",
     "text": [
      "2\n"
     ]
    },
    {
     "data": {
      "text/plain": [
       "(               Geography  Male incarceration rate  \\\n",
       " 0          United States                   1350.0   \n",
       " 1                Alabama                   1545.0   \n",
       " 2                 Alaska                    947.0   \n",
       " 3                Arizona                   1899.0   \n",
       " 4               Arkansas                   1627.0   \n",
       " 5             California                   1265.0   \n",
       " 6               Colorado                   1459.0   \n",
       " 7            Connecticut                   1002.0   \n",
       " 8               Delaware                   1384.0   \n",
       " 9   District of Columbia                   1093.0   \n",
       " 10               Florida                   1634.0   \n",
       " 11               Georgia                   1988.0   \n",
       " 12                Hawaii                    672.0   \n",
       " 13                 Idaho                   1245.0   \n",
       " 14              Illinois                   1025.0   \n",
       " 15               Indiana                   1378.0   \n",
       " 16                  Iowa                    781.0   \n",
       " 17                Kansas                   1165.0   \n",
       " 18              Kentucky                   1699.0   \n",
       " 19             Louisiana                   2517.0   \n",
       " 20                 Maine                    511.0   \n",
       " 21              Maryland                   1188.0   \n",
       " 22         Massachusetts                    718.0   \n",
       " 23              Michigan                   1224.0   \n",
       " 24             Minnesota                    679.0   \n",
       " 25           Mississippi                   2184.0   \n",
       " 26              Missouri                   1296.0   \n",
       " 27               Montana                    934.0   \n",
       " 28              Nebraska                    793.0   \n",
       " 29                Nevada                   1303.0   \n",
       " 30         New Hampshire                    671.0   \n",
       " 31            New Jersey                    960.0   \n",
       " 32            New Mexico                   1556.0   \n",
       " 33              New York                    945.0   \n",
       " 34        North Carolina                   1213.0   \n",
       " 35          North Dakota                    645.0   \n",
       " 36                  Ohio                   1229.0   \n",
       " 37              Oklahoma                   1950.0   \n",
       " 38                Oregon                   1055.0   \n",
       " 39          Pennsylvania                   1459.0   \n",
       " 40          Rhode Island                    701.0   \n",
       " 41        South Carolina                   1702.0   \n",
       " 42          South Dakota                   1367.0   \n",
       " 43             Tennessee                   1338.0   \n",
       " 44                 Texas                   1926.0   \n",
       " 45                  Utah                    788.0   \n",
       " 46               Vermont                    464.0   \n",
       " 47              Virginia                   1509.0   \n",
       " 48            Washington                    855.0   \n",
       " 49         West Virginia                   1534.0   \n",
       " 50             Wisconsin                   1228.0   \n",
       " 51               Wyoming                   1066.0   \n",
       " 52           Puerto Rico                    701.0   \n",
       " \n",
       "     Male incarceration rate: White alone  \\\n",
       " 0                                  916.0   \n",
       " 1                                  918.0   \n",
       " 2                                  602.0   \n",
       " 3                                 1377.0   \n",
       " 4                                 1093.0   \n",
       " 5                                 1100.0   \n",
       " 6                                 1264.0   \n",
       " 7                                  431.0   \n",
       " 8                                  762.0   \n",
       " 9                                  138.0   \n",
       " 10                                1092.0   \n",
       " 11                                1203.0   \n",
       " 12                                 614.0   \n",
       " 13                                1216.0   \n",
       " 14                                 508.0   \n",
       " 15                                1014.0   \n",
       " 16                                 612.0   \n",
       " 17                                 874.0   \n",
       " 18                                1273.0   \n",
       " 19                                1262.0   \n",
       " 20                                 481.0   \n",
       " 21                                 587.0   \n",
       " 22                                 587.0   \n",
       " 23                                 744.0   \n",
       " 24                                 440.0   \n",
       " 25                                1304.0   \n",
       " 26                                 908.0   \n",
       " 27                                 753.0   \n",
       " 28                                 615.0   \n",
       " 29                                1171.0   \n",
       " 30                                 632.0   \n",
       " 31                                 504.0   \n",
       " 32                                1627.0   \n",
       " 33                                 497.0   \n",
       " 34                                 682.0   \n",
       " 35                                 454.0   \n",
       " 36                                 784.0   \n",
       " 37                                1603.0   \n",
       " 38                                 986.0   \n",
       " 39                                 728.0   \n",
       " 40                                 447.0   \n",
       " 41                                 836.0   \n",
       " 42                                 957.0   \n",
       " 43                                 877.0   \n",
       " 44                                1506.0   \n",
       " 45                                 715.0   \n",
       " 46                                 413.0   \n",
       " 47                                 845.0   \n",
       " 48                                 784.0   \n",
       " 49                                1091.0   \n",
       " 50                                 780.0   \n",
       " 51                                 959.0   \n",
       " 52                                 640.0   \n",
       " \n",
       "     Male incarceration rate: Black or African American alone  \\\n",
       " 0                                              4490.0          \n",
       " 1                                              3521.0          \n",
       " 2                                              2070.0          \n",
       " 3                                              5505.0          \n",
       " 4                                              4801.0          \n",
       " 5                                              5666.0          \n",
       " 6                                              6382.0          \n",
       " 7                                              4274.0          \n",
       " 8                                              4028.0          \n",
       " 9                                              1974.0          \n",
       " 10                                             4893.0          \n",
       " 11                                             4006.0          \n",
       " 12                                             1462.0          \n",
       " 13                                             4995.0          \n",
       " 14                                             4196.0          \n",
       " 15                                             5495.0          \n",
       " 16                                             6001.0          \n",
       " 17                                             6036.0          \n",
       " 18                                             6733.0          \n",
       " 19                                             5406.0          \n",
       " 20                                             2655.0          \n",
       " 21                                             2901.0          \n",
       " 22                                             2923.0          \n",
       " 23                                             4432.0          \n",
       " 24                                             4192.0          \n",
       " 25                                             3547.0          \n",
       " 26                                             4625.0          \n",
       " 27                                             5071.0          \n",
       " 28                                             4371.0          \n",
       " 29                                             4678.0          \n",
       " 30                                             3750.0          \n",
       " 31                                             3995.0          \n",
       " 32                                             4201.0          \n",
       " 33                                             3361.0          \n",
       " 34                                             3311.0          \n",
       " 35                                             2580.0          \n",
       " 36                                             4584.0          \n",
       " 37                                             6976.0          \n",
       " 38                                             5490.0          \n",
       " 39                                             6442.0          \n",
       " 40                                             3601.0          \n",
       " 41                                             3990.0          \n",
       " 42                                             7353.0          \n",
       " 43                                             3857.0          \n",
       " 44                                             5371.0          \n",
       " 45                                             4368.0          \n",
       " 46                                             3526.0          \n",
       " 47                                             4721.0          \n",
       " 48                                             4073.0          \n",
       " 49                                            11957.0          \n",
       " 50                                             7708.0          \n",
       " 51                                             4885.0          \n",
       " 52                                             1162.0          \n",
       " \n",
       "     Male incarceration rate: American Indian and Alaska Native alone  \\\n",
       " 0                                              2223.0                  \n",
       " 1                                               470.0                  \n",
       " 2                                              2492.0                  \n",
       " 3                                              4078.0                  \n",
       " 4                                              1229.0                  \n",
       " 5                                              1665.0                  \n",
       " 6                                              5259.0                  \n",
       " 7                                              1063.0                  \n",
       " 8                                               238.0                  \n",
       " 9                                              1846.0                  \n",
       " 10                                              974.0                  \n",
       " 11                                             1008.0                  \n",
       " 12                                              810.0                  \n",
       " 13                                             2967.0                  \n",
       " 14                                             1361.0                  \n",
       " 15                                             1622.0                  \n",
       " 16                                             3894.0                  \n",
       " 17                                             2135.0                  \n",
       " 18                                             4590.0                  \n",
       " 19                                              846.0                  \n",
       " 20                                             1297.0                  \n",
       " 21                                              352.0                  \n",
       " 22                                             1815.0                  \n",
       " 23                                             1714.0                  \n",
       " 24                                             4306.0                  \n",
       " 25                                             1890.0                  \n",
       " 26                                             1161.0                  \n",
       " 27                                             3084.0                  \n",
       " 28                                             3085.0                  \n",
       " 29                                             2354.0                  \n",
       " 30                                             1531.0                  \n",
       " 31                                             1332.0                  \n",
       " 32                                             1821.0                  \n",
       " 33                                             1316.0                  \n",
       " 34                                             1659.0                  \n",
       " 35                                             3331.0                  \n",
       " 36                                             1311.0                  \n",
       " 37                                             1817.0                  \n",
       " 38                                             2269.0                  \n",
       " 39                                             1911.0                  \n",
       " 40                                              772.0                  \n",
       " 41                                             1941.0                  \n",
       " 42                                             4245.0                  \n",
       " 43                                             1097.0                  \n",
       " 44                                              940.0                  \n",
       " 45                                             2604.0                  \n",
       " 46                                             2387.0                  \n",
       " 47                                             1223.0                  \n",
       " 48                                             2420.0                  \n",
       " 49                                             4195.0                  \n",
       " 50                                             4527.0                  \n",
       " 51                                             3599.0                  \n",
       " 52                                             2158.0                  \n",
       " \n",
       "     Male incarceration rate: Asian alone  Cluster  \\\n",
       " 0                                  215.0        1   \n",
       " 1                                  197.0        4   \n",
       " 2                                  236.0        0   \n",
       " 3                                 1275.0        3   \n",
       " 4                                  637.0        4   \n",
       " 5                                  174.0        1   \n",
       " 6                                  554.0        3   \n",
       " 7                                  113.0        4   \n",
       " 8                                   36.0        4   \n",
       " 9                                  204.0        0   \n",
       " 10                                 185.0        4   \n",
       " 11                                 229.0        4   \n",
       " 12                                 412.0        0   \n",
       " 13                                 319.0        1   \n",
       " 14                                  73.0        4   \n",
       " 15                                 141.0        1   \n",
       " 16                                 311.0        3   \n",
       " 17                                 425.0        1   \n",
       " 18                                 468.0        3   \n",
       " 19                                 305.0        4   \n",
       " 20                                 322.0        0   \n",
       " 21                                  62.0        0   \n",
       " 22                                 123.0        0   \n",
       " 23                                 162.0        4   \n",
       " 24                                 368.0        1   \n",
       " 25                                1440.0        4   \n",
       " 26                                  72.0        4   \n",
       " 27                                 482.0        1   \n",
       " 28                                 298.0        1   \n",
       " 29                                 410.0        1   \n",
       " 30                                 156.0        0   \n",
       " 31                                  94.0        4   \n",
       " 32                                 424.0        4   \n",
       " 33                                 104.0        0   \n",
       " 34                                 203.0        0   \n",
       " 35                                  59.0        0   \n",
       " 36                                 247.0        4   \n",
       " 37                                 498.0        1   \n",
       " 38                                 475.0        1   \n",
       " 39                                 301.0        1   \n",
       " 40                                 308.0        0   \n",
       " 41                                 302.0        4   \n",
       " 42                                 888.0        3   \n",
       " 43                                 215.0        4   \n",
       " 44                                 321.0        4   \n",
       " 45                                 292.0        1   \n",
       " 46                                  57.0        0   \n",
       " 47                                 126.0        4   \n",
       " 48                                 200.0        1   \n",
       " 49                                 620.0        2   \n",
       " 50                                 278.0        3   \n",
       " 51                                 416.0        1   \n",
       " 52                                 325.0        0   \n",
       " \n",
       "     Mean Male Incarceration Rate State Abbreviation  \n",
       " 0                         1838.8                NaN  \n",
       " 1                         1330.2                 AL  \n",
       " 2                         1269.4                 AK  \n",
       " 3                         2826.8                 AZ  \n",
       " 4                         1877.4                 AR  \n",
       " 5                         1974.0                 CA  \n",
       " 6                         2983.6                 CO  \n",
       " 7                         1376.6                 CT  \n",
       " 8                         1289.6                 DE  \n",
       " 9                         1051.0                NaN  \n",
       " 10                        1755.6                 FL  \n",
       " 11                        1686.8                 GA  \n",
       " 12                         794.0                 HI  \n",
       " 13                        2148.4                 ID  \n",
       " 14                        1432.6                 IL  \n",
       " 15                        1930.0                 IN  \n",
       " 16                        2319.8                 IA  \n",
       " 17                        2127.0                 KS  \n",
       " 18                        2952.6                 KY  \n",
       " 19                        2067.2                 LA  \n",
       " 20                        1053.2                 ME  \n",
       " 21                        1018.0                 MD  \n",
       " 22                        1233.2                 MA  \n",
       " 23                        1655.2                 MI  \n",
       " 24                        1997.0                 MN  \n",
       " 25                        2073.0                 MS  \n",
       " 26                        1612.4                 MO  \n",
       " 27                        2064.8                 MT  \n",
       " 28                        1832.4                 NE  \n",
       " 29                        1983.2                 NV  \n",
       " 30                        1348.0                 NH  \n",
       " 31                        1377.0                 NJ  \n",
       " 32                        1925.8                 NM  \n",
       " 33                        1244.6                 NY  \n",
       " 34                        1413.6                 NC  \n",
       " 35                        1413.8                 ND  \n",
       " 36                        1631.0                 OH  \n",
       " 37                        2568.8                 OK  \n",
       " 38                        2055.0                 OR  \n",
       " 39                        2168.2                 PA  \n",
       " 40                        1165.8                 RI  \n",
       " 41                        1754.2                 SC  \n",
       " 42                        2962.0                 SD  \n",
       " 43                        1476.8                 TN  \n",
       " 44                        2012.8                 TX  \n",
       " 45                        1753.4                 UT  \n",
       " 46                        1369.4                 VT  \n",
       " 47                        1684.8                 VA  \n",
       " 48                        1666.4                 WA  \n",
       " 49                        3879.4                 WV  \n",
       " 50                        2904.2                 WI  \n",
       " 51                        2185.0                 WY  \n",
       " 52                         997.2                NaN  ,\n",
       "          Inertia\n",
       " K               \n",
       " 1   2.543752e+08\n",
       " 2   1.435510e+08\n",
       " 3   1.044039e+08\n",
       " 4   7.855810e+07\n",
       " 5   5.955128e+07\n",
       " 6   4.505138e+07\n",
       " 7   3.868445e+07\n",
       " 8   3.424725e+07\n",
       " 9   3.146252e+07\n",
       " 10  2.900942e+07\n",
       " 11  2.634828e+07\n",
       " 12  2.347578e+07\n",
       " 13  2.250919e+07\n",
       " 14  1.983451e+07\n",
       " 15  1.847308e+07\n",
       " 16  1.686380e+07\n",
       " 17  1.498631e+07\n",
       " 18  1.330321e+07\n",
       " 19  1.186483e+07,\n",
       " [254375232.03773588,\n",
       "  143551040.17543858,\n",
       "  104403878.7504762,\n",
       "  78558098.76948053,\n",
       "  59551284.89202899,\n",
       "  45051381.00827068,\n",
       "  38684454.81536797,\n",
       "  34247253.22330447,\n",
       "  31462522.74632034,\n",
       "  29009420.012987006,\n",
       "  26348281.035714284,\n",
       "  23475780.035714284,\n",
       "  22509192.333333336,\n",
       "  19834514.266666666,\n",
       "  18473081.158333335,\n",
       "  16863797.757142857,\n",
       "  14986309.220238095,\n",
       "  13303210.092857143,\n",
       "  11864828.85],\n",
       " 2)"
      ]
     },
     "execution_count": 89,
     "metadata": {},
     "output_type": "execute_result"
    }
   ],
   "source": [
    "elbow_method(data, 20)"
   ]
  },
  {
   "cell_type": "code",
   "execution_count": 90,
   "metadata": {},
   "outputs": [
    {
     "data": {
      "text/html": [
       "<div>\n",
       "<style scoped>\n",
       "    .dataframe tbody tr th:only-of-type {\n",
       "        vertical-align: middle;\n",
       "    }\n",
       "\n",
       "    .dataframe tbody tr th {\n",
       "        vertical-align: top;\n",
       "    }\n",
       "\n",
       "    .dataframe thead th {\n",
       "        text-align: right;\n",
       "    }\n",
       "</style>\n",
       "<table border=\"1\" class=\"dataframe\">\n",
       "  <thead>\n",
       "    <tr style=\"text-align: right;\">\n",
       "      <th></th>\n",
       "      <th>Male incarceration rate</th>\n",
       "      <th>Male incarceration rate: White alone</th>\n",
       "      <th>Male incarceration rate: Black or African American alone</th>\n",
       "      <th>Male incarceration rate: American Indian and Alaska Native alone</th>\n",
       "      <th>Male incarceration rate: Asian alone</th>\n",
       "      <th>Cluster</th>\n",
       "      <th>Mean Male Incarceration Rate</th>\n",
       "      <th>State Abbreviation</th>\n",
       "    </tr>\n",
       "  </thead>\n",
       "  <tbody>\n",
       "    <tr>\n",
       "      <th>0</th>\n",
       "      <td>1350.0</td>\n",
       "      <td>916.0</td>\n",
       "      <td>4490.0</td>\n",
       "      <td>2223.0</td>\n",
       "      <td>215.0</td>\n",
       "      <td>1</td>\n",
       "      <td>1838.8</td>\n",
       "      <td>NaN</td>\n",
       "    </tr>\n",
       "    <tr>\n",
       "      <th>1</th>\n",
       "      <td>1545.0</td>\n",
       "      <td>918.0</td>\n",
       "      <td>3521.0</td>\n",
       "      <td>470.0</td>\n",
       "      <td>197.0</td>\n",
       "      <td>4</td>\n",
       "      <td>1330.2</td>\n",
       "      <td>AL</td>\n",
       "    </tr>\n",
       "    <tr>\n",
       "      <th>2</th>\n",
       "      <td>947.0</td>\n",
       "      <td>602.0</td>\n",
       "      <td>2070.0</td>\n",
       "      <td>2492.0</td>\n",
       "      <td>236.0</td>\n",
       "      <td>0</td>\n",
       "      <td>1269.4</td>\n",
       "      <td>AK</td>\n",
       "    </tr>\n",
       "    <tr>\n",
       "      <th>3</th>\n",
       "      <td>1899.0</td>\n",
       "      <td>1377.0</td>\n",
       "      <td>5505.0</td>\n",
       "      <td>4078.0</td>\n",
       "      <td>1275.0</td>\n",
       "      <td>3</td>\n",
       "      <td>2826.8</td>\n",
       "      <td>AZ</td>\n",
       "    </tr>\n",
       "    <tr>\n",
       "      <th>4</th>\n",
       "      <td>1627.0</td>\n",
       "      <td>1093.0</td>\n",
       "      <td>4801.0</td>\n",
       "      <td>1229.0</td>\n",
       "      <td>637.0</td>\n",
       "      <td>4</td>\n",
       "      <td>1877.4</td>\n",
       "      <td>AR</td>\n",
       "    </tr>\n",
       "    <tr>\n",
       "      <th>5</th>\n",
       "      <td>1265.0</td>\n",
       "      <td>1100.0</td>\n",
       "      <td>5666.0</td>\n",
       "      <td>1665.0</td>\n",
       "      <td>174.0</td>\n",
       "      <td>1</td>\n",
       "      <td>1974.0</td>\n",
       "      <td>CA</td>\n",
       "    </tr>\n",
       "    <tr>\n",
       "      <th>6</th>\n",
       "      <td>1459.0</td>\n",
       "      <td>1264.0</td>\n",
       "      <td>6382.0</td>\n",
       "      <td>5259.0</td>\n",
       "      <td>554.0</td>\n",
       "      <td>3</td>\n",
       "      <td>2983.6</td>\n",
       "      <td>CO</td>\n",
       "    </tr>\n",
       "    <tr>\n",
       "      <th>7</th>\n",
       "      <td>1002.0</td>\n",
       "      <td>431.0</td>\n",
       "      <td>4274.0</td>\n",
       "      <td>1063.0</td>\n",
       "      <td>113.0</td>\n",
       "      <td>4</td>\n",
       "      <td>1376.6</td>\n",
       "      <td>CT</td>\n",
       "    </tr>\n",
       "    <tr>\n",
       "      <th>8</th>\n",
       "      <td>1384.0</td>\n",
       "      <td>762.0</td>\n",
       "      <td>4028.0</td>\n",
       "      <td>238.0</td>\n",
       "      <td>36.0</td>\n",
       "      <td>4</td>\n",
       "      <td>1289.6</td>\n",
       "      <td>DE</td>\n",
       "    </tr>\n",
       "    <tr>\n",
       "      <th>9</th>\n",
       "      <td>1093.0</td>\n",
       "      <td>138.0</td>\n",
       "      <td>1974.0</td>\n",
       "      <td>1846.0</td>\n",
       "      <td>204.0</td>\n",
       "      <td>0</td>\n",
       "      <td>1051.0</td>\n",
       "      <td>NaN</td>\n",
       "    </tr>\n",
       "    <tr>\n",
       "      <th>10</th>\n",
       "      <td>1634.0</td>\n",
       "      <td>1092.0</td>\n",
       "      <td>4893.0</td>\n",
       "      <td>974.0</td>\n",
       "      <td>185.0</td>\n",
       "      <td>4</td>\n",
       "      <td>1755.6</td>\n",
       "      <td>FL</td>\n",
       "    </tr>\n",
       "    <tr>\n",
       "      <th>11</th>\n",
       "      <td>1988.0</td>\n",
       "      <td>1203.0</td>\n",
       "      <td>4006.0</td>\n",
       "      <td>1008.0</td>\n",
       "      <td>229.0</td>\n",
       "      <td>4</td>\n",
       "      <td>1686.8</td>\n",
       "      <td>GA</td>\n",
       "    </tr>\n",
       "    <tr>\n",
       "      <th>12</th>\n",
       "      <td>672.0</td>\n",
       "      <td>614.0</td>\n",
       "      <td>1462.0</td>\n",
       "      <td>810.0</td>\n",
       "      <td>412.0</td>\n",
       "      <td>0</td>\n",
       "      <td>794.0</td>\n",
       "      <td>HI</td>\n",
       "    </tr>\n",
       "    <tr>\n",
       "      <th>13</th>\n",
       "      <td>1245.0</td>\n",
       "      <td>1216.0</td>\n",
       "      <td>4995.0</td>\n",
       "      <td>2967.0</td>\n",
       "      <td>319.0</td>\n",
       "      <td>1</td>\n",
       "      <td>2148.4</td>\n",
       "      <td>ID</td>\n",
       "    </tr>\n",
       "    <tr>\n",
       "      <th>14</th>\n",
       "      <td>1025.0</td>\n",
       "      <td>508.0</td>\n",
       "      <td>4196.0</td>\n",
       "      <td>1361.0</td>\n",
       "      <td>73.0</td>\n",
       "      <td>4</td>\n",
       "      <td>1432.6</td>\n",
       "      <td>IL</td>\n",
       "    </tr>\n",
       "    <tr>\n",
       "      <th>15</th>\n",
       "      <td>1378.0</td>\n",
       "      <td>1014.0</td>\n",
       "      <td>5495.0</td>\n",
       "      <td>1622.0</td>\n",
       "      <td>141.0</td>\n",
       "      <td>1</td>\n",
       "      <td>1930.0</td>\n",
       "      <td>IN</td>\n",
       "    </tr>\n",
       "    <tr>\n",
       "      <th>16</th>\n",
       "      <td>781.0</td>\n",
       "      <td>612.0</td>\n",
       "      <td>6001.0</td>\n",
       "      <td>3894.0</td>\n",
       "      <td>311.0</td>\n",
       "      <td>3</td>\n",
       "      <td>2319.8</td>\n",
       "      <td>IA</td>\n",
       "    </tr>\n",
       "    <tr>\n",
       "      <th>17</th>\n",
       "      <td>1165.0</td>\n",
       "      <td>874.0</td>\n",
       "      <td>6036.0</td>\n",
       "      <td>2135.0</td>\n",
       "      <td>425.0</td>\n",
       "      <td>1</td>\n",
       "      <td>2127.0</td>\n",
       "      <td>KS</td>\n",
       "    </tr>\n",
       "    <tr>\n",
       "      <th>18</th>\n",
       "      <td>1699.0</td>\n",
       "      <td>1273.0</td>\n",
       "      <td>6733.0</td>\n",
       "      <td>4590.0</td>\n",
       "      <td>468.0</td>\n",
       "      <td>3</td>\n",
       "      <td>2952.6</td>\n",
       "      <td>KY</td>\n",
       "    </tr>\n",
       "    <tr>\n",
       "      <th>19</th>\n",
       "      <td>2517.0</td>\n",
       "      <td>1262.0</td>\n",
       "      <td>5406.0</td>\n",
       "      <td>846.0</td>\n",
       "      <td>305.0</td>\n",
       "      <td>4</td>\n",
       "      <td>2067.2</td>\n",
       "      <td>LA</td>\n",
       "    </tr>\n",
       "    <tr>\n",
       "      <th>20</th>\n",
       "      <td>511.0</td>\n",
       "      <td>481.0</td>\n",
       "      <td>2655.0</td>\n",
       "      <td>1297.0</td>\n",
       "      <td>322.0</td>\n",
       "      <td>0</td>\n",
       "      <td>1053.2</td>\n",
       "      <td>ME</td>\n",
       "    </tr>\n",
       "    <tr>\n",
       "      <th>21</th>\n",
       "      <td>1188.0</td>\n",
       "      <td>587.0</td>\n",
       "      <td>2901.0</td>\n",
       "      <td>352.0</td>\n",
       "      <td>62.0</td>\n",
       "      <td>0</td>\n",
       "      <td>1018.0</td>\n",
       "      <td>MD</td>\n",
       "    </tr>\n",
       "    <tr>\n",
       "      <th>22</th>\n",
       "      <td>718.0</td>\n",
       "      <td>587.0</td>\n",
       "      <td>2923.0</td>\n",
       "      <td>1815.0</td>\n",
       "      <td>123.0</td>\n",
       "      <td>0</td>\n",
       "      <td>1233.2</td>\n",
       "      <td>MA</td>\n",
       "    </tr>\n",
       "    <tr>\n",
       "      <th>23</th>\n",
       "      <td>1224.0</td>\n",
       "      <td>744.0</td>\n",
       "      <td>4432.0</td>\n",
       "      <td>1714.0</td>\n",
       "      <td>162.0</td>\n",
       "      <td>4</td>\n",
       "      <td>1655.2</td>\n",
       "      <td>MI</td>\n",
       "    </tr>\n",
       "    <tr>\n",
       "      <th>24</th>\n",
       "      <td>679.0</td>\n",
       "      <td>440.0</td>\n",
       "      <td>4192.0</td>\n",
       "      <td>4306.0</td>\n",
       "      <td>368.0</td>\n",
       "      <td>1</td>\n",
       "      <td>1997.0</td>\n",
       "      <td>MN</td>\n",
       "    </tr>\n",
       "    <tr>\n",
       "      <th>25</th>\n",
       "      <td>2184.0</td>\n",
       "      <td>1304.0</td>\n",
       "      <td>3547.0</td>\n",
       "      <td>1890.0</td>\n",
       "      <td>1440.0</td>\n",
       "      <td>4</td>\n",
       "      <td>2073.0</td>\n",
       "      <td>MS</td>\n",
       "    </tr>\n",
       "    <tr>\n",
       "      <th>26</th>\n",
       "      <td>1296.0</td>\n",
       "      <td>908.0</td>\n",
       "      <td>4625.0</td>\n",
       "      <td>1161.0</td>\n",
       "      <td>72.0</td>\n",
       "      <td>4</td>\n",
       "      <td>1612.4</td>\n",
       "      <td>MO</td>\n",
       "    </tr>\n",
       "    <tr>\n",
       "      <th>27</th>\n",
       "      <td>934.0</td>\n",
       "      <td>753.0</td>\n",
       "      <td>5071.0</td>\n",
       "      <td>3084.0</td>\n",
       "      <td>482.0</td>\n",
       "      <td>1</td>\n",
       "      <td>2064.8</td>\n",
       "      <td>MT</td>\n",
       "    </tr>\n",
       "    <tr>\n",
       "      <th>28</th>\n",
       "      <td>793.0</td>\n",
       "      <td>615.0</td>\n",
       "      <td>4371.0</td>\n",
       "      <td>3085.0</td>\n",
       "      <td>298.0</td>\n",
       "      <td>1</td>\n",
       "      <td>1832.4</td>\n",
       "      <td>NE</td>\n",
       "    </tr>\n",
       "    <tr>\n",
       "      <th>29</th>\n",
       "      <td>1303.0</td>\n",
       "      <td>1171.0</td>\n",
       "      <td>4678.0</td>\n",
       "      <td>2354.0</td>\n",
       "      <td>410.0</td>\n",
       "      <td>1</td>\n",
       "      <td>1983.2</td>\n",
       "      <td>NV</td>\n",
       "    </tr>\n",
       "    <tr>\n",
       "      <th>30</th>\n",
       "      <td>671.0</td>\n",
       "      <td>632.0</td>\n",
       "      <td>3750.0</td>\n",
       "      <td>1531.0</td>\n",
       "      <td>156.0</td>\n",
       "      <td>0</td>\n",
       "      <td>1348.0</td>\n",
       "      <td>NH</td>\n",
       "    </tr>\n",
       "    <tr>\n",
       "      <th>31</th>\n",
       "      <td>960.0</td>\n",
       "      <td>504.0</td>\n",
       "      <td>3995.0</td>\n",
       "      <td>1332.0</td>\n",
       "      <td>94.0</td>\n",
       "      <td>4</td>\n",
       "      <td>1377.0</td>\n",
       "      <td>NJ</td>\n",
       "    </tr>\n",
       "    <tr>\n",
       "      <th>32</th>\n",
       "      <td>1556.0</td>\n",
       "      <td>1627.0</td>\n",
       "      <td>4201.0</td>\n",
       "      <td>1821.0</td>\n",
       "      <td>424.0</td>\n",
       "      <td>4</td>\n",
       "      <td>1925.8</td>\n",
       "      <td>NM</td>\n",
       "    </tr>\n",
       "    <tr>\n",
       "      <th>33</th>\n",
       "      <td>945.0</td>\n",
       "      <td>497.0</td>\n",
       "      <td>3361.0</td>\n",
       "      <td>1316.0</td>\n",
       "      <td>104.0</td>\n",
       "      <td>0</td>\n",
       "      <td>1244.6</td>\n",
       "      <td>NY</td>\n",
       "    </tr>\n",
       "    <tr>\n",
       "      <th>34</th>\n",
       "      <td>1213.0</td>\n",
       "      <td>682.0</td>\n",
       "      <td>3311.0</td>\n",
       "      <td>1659.0</td>\n",
       "      <td>203.0</td>\n",
       "      <td>0</td>\n",
       "      <td>1413.6</td>\n",
       "      <td>NC</td>\n",
       "    </tr>\n",
       "    <tr>\n",
       "      <th>35</th>\n",
       "      <td>645.0</td>\n",
       "      <td>454.0</td>\n",
       "      <td>2580.0</td>\n",
       "      <td>3331.0</td>\n",
       "      <td>59.0</td>\n",
       "      <td>0</td>\n",
       "      <td>1413.8</td>\n",
       "      <td>ND</td>\n",
       "    </tr>\n",
       "    <tr>\n",
       "      <th>36</th>\n",
       "      <td>1229.0</td>\n",
       "      <td>784.0</td>\n",
       "      <td>4584.0</td>\n",
       "      <td>1311.0</td>\n",
       "      <td>247.0</td>\n",
       "      <td>4</td>\n",
       "      <td>1631.0</td>\n",
       "      <td>OH</td>\n",
       "    </tr>\n",
       "    <tr>\n",
       "      <th>37</th>\n",
       "      <td>1950.0</td>\n",
       "      <td>1603.0</td>\n",
       "      <td>6976.0</td>\n",
       "      <td>1817.0</td>\n",
       "      <td>498.0</td>\n",
       "      <td>1</td>\n",
       "      <td>2568.8</td>\n",
       "      <td>OK</td>\n",
       "    </tr>\n",
       "    <tr>\n",
       "      <th>38</th>\n",
       "      <td>1055.0</td>\n",
       "      <td>986.0</td>\n",
       "      <td>5490.0</td>\n",
       "      <td>2269.0</td>\n",
       "      <td>475.0</td>\n",
       "      <td>1</td>\n",
       "      <td>2055.0</td>\n",
       "      <td>OR</td>\n",
       "    </tr>\n",
       "    <tr>\n",
       "      <th>39</th>\n",
       "      <td>1459.0</td>\n",
       "      <td>728.0</td>\n",
       "      <td>6442.0</td>\n",
       "      <td>1911.0</td>\n",
       "      <td>301.0</td>\n",
       "      <td>1</td>\n",
       "      <td>2168.2</td>\n",
       "      <td>PA</td>\n",
       "    </tr>\n",
       "    <tr>\n",
       "      <th>40</th>\n",
       "      <td>701.0</td>\n",
       "      <td>447.0</td>\n",
       "      <td>3601.0</td>\n",
       "      <td>772.0</td>\n",
       "      <td>308.0</td>\n",
       "      <td>0</td>\n",
       "      <td>1165.8</td>\n",
       "      <td>RI</td>\n",
       "    </tr>\n",
       "    <tr>\n",
       "      <th>41</th>\n",
       "      <td>1702.0</td>\n",
       "      <td>836.0</td>\n",
       "      <td>3990.0</td>\n",
       "      <td>1941.0</td>\n",
       "      <td>302.0</td>\n",
       "      <td>4</td>\n",
       "      <td>1754.2</td>\n",
       "      <td>SC</td>\n",
       "    </tr>\n",
       "    <tr>\n",
       "      <th>42</th>\n",
       "      <td>1367.0</td>\n",
       "      <td>957.0</td>\n",
       "      <td>7353.0</td>\n",
       "      <td>4245.0</td>\n",
       "      <td>888.0</td>\n",
       "      <td>3</td>\n",
       "      <td>2962.0</td>\n",
       "      <td>SD</td>\n",
       "    </tr>\n",
       "    <tr>\n",
       "      <th>43</th>\n",
       "      <td>1338.0</td>\n",
       "      <td>877.0</td>\n",
       "      <td>3857.0</td>\n",
       "      <td>1097.0</td>\n",
       "      <td>215.0</td>\n",
       "      <td>4</td>\n",
       "      <td>1476.8</td>\n",
       "      <td>TN</td>\n",
       "    </tr>\n",
       "    <tr>\n",
       "      <th>44</th>\n",
       "      <td>1926.0</td>\n",
       "      <td>1506.0</td>\n",
       "      <td>5371.0</td>\n",
       "      <td>940.0</td>\n",
       "      <td>321.0</td>\n",
       "      <td>4</td>\n",
       "      <td>2012.8</td>\n",
       "      <td>TX</td>\n",
       "    </tr>\n",
       "    <tr>\n",
       "      <th>45</th>\n",
       "      <td>788.0</td>\n",
       "      <td>715.0</td>\n",
       "      <td>4368.0</td>\n",
       "      <td>2604.0</td>\n",
       "      <td>292.0</td>\n",
       "      <td>1</td>\n",
       "      <td>1753.4</td>\n",
       "      <td>UT</td>\n",
       "    </tr>\n",
       "    <tr>\n",
       "      <th>46</th>\n",
       "      <td>464.0</td>\n",
       "      <td>413.0</td>\n",
       "      <td>3526.0</td>\n",
       "      <td>2387.0</td>\n",
       "      <td>57.0</td>\n",
       "      <td>0</td>\n",
       "      <td>1369.4</td>\n",
       "      <td>VT</td>\n",
       "    </tr>\n",
       "    <tr>\n",
       "      <th>47</th>\n",
       "      <td>1509.0</td>\n",
       "      <td>845.0</td>\n",
       "      <td>4721.0</td>\n",
       "      <td>1223.0</td>\n",
       "      <td>126.0</td>\n",
       "      <td>4</td>\n",
       "      <td>1684.8</td>\n",
       "      <td>VA</td>\n",
       "    </tr>\n",
       "    <tr>\n",
       "      <th>48</th>\n",
       "      <td>855.0</td>\n",
       "      <td>784.0</td>\n",
       "      <td>4073.0</td>\n",
       "      <td>2420.0</td>\n",
       "      <td>200.0</td>\n",
       "      <td>1</td>\n",
       "      <td>1666.4</td>\n",
       "      <td>WA</td>\n",
       "    </tr>\n",
       "    <tr>\n",
       "      <th>49</th>\n",
       "      <td>1534.0</td>\n",
       "      <td>1091.0</td>\n",
       "      <td>11957.0</td>\n",
       "      <td>4195.0</td>\n",
       "      <td>620.0</td>\n",
       "      <td>2</td>\n",
       "      <td>3879.4</td>\n",
       "      <td>WV</td>\n",
       "    </tr>\n",
       "    <tr>\n",
       "      <th>50</th>\n",
       "      <td>1228.0</td>\n",
       "      <td>780.0</td>\n",
       "      <td>7708.0</td>\n",
       "      <td>4527.0</td>\n",
       "      <td>278.0</td>\n",
       "      <td>3</td>\n",
       "      <td>2904.2</td>\n",
       "      <td>WI</td>\n",
       "    </tr>\n",
       "    <tr>\n",
       "      <th>51</th>\n",
       "      <td>1066.0</td>\n",
       "      <td>959.0</td>\n",
       "      <td>4885.0</td>\n",
       "      <td>3599.0</td>\n",
       "      <td>416.0</td>\n",
       "      <td>1</td>\n",
       "      <td>2185.0</td>\n",
       "      <td>WY</td>\n",
       "    </tr>\n",
       "    <tr>\n",
       "      <th>52</th>\n",
       "      <td>701.0</td>\n",
       "      <td>640.0</td>\n",
       "      <td>1162.0</td>\n",
       "      <td>2158.0</td>\n",
       "      <td>325.0</td>\n",
       "      <td>0</td>\n",
       "      <td>997.2</td>\n",
       "      <td>NaN</td>\n",
       "    </tr>\n",
       "  </tbody>\n",
       "</table>\n",
       "</div>"
      ],
      "text/plain": [
       "    Male incarceration rate  Male incarceration rate: White alone  \\\n",
       "0                    1350.0                                 916.0   \n",
       "1                    1545.0                                 918.0   \n",
       "2                     947.0                                 602.0   \n",
       "3                    1899.0                                1377.0   \n",
       "4                    1627.0                                1093.0   \n",
       "5                    1265.0                                1100.0   \n",
       "6                    1459.0                                1264.0   \n",
       "7                    1002.0                                 431.0   \n",
       "8                    1384.0                                 762.0   \n",
       "9                    1093.0                                 138.0   \n",
       "10                   1634.0                                1092.0   \n",
       "11                   1988.0                                1203.0   \n",
       "12                    672.0                                 614.0   \n",
       "13                   1245.0                                1216.0   \n",
       "14                   1025.0                                 508.0   \n",
       "15                   1378.0                                1014.0   \n",
       "16                    781.0                                 612.0   \n",
       "17                   1165.0                                 874.0   \n",
       "18                   1699.0                                1273.0   \n",
       "19                   2517.0                                1262.0   \n",
       "20                    511.0                                 481.0   \n",
       "21                   1188.0                                 587.0   \n",
       "22                    718.0                                 587.0   \n",
       "23                   1224.0                                 744.0   \n",
       "24                    679.0                                 440.0   \n",
       "25                   2184.0                                1304.0   \n",
       "26                   1296.0                                 908.0   \n",
       "27                    934.0                                 753.0   \n",
       "28                    793.0                                 615.0   \n",
       "29                   1303.0                                1171.0   \n",
       "30                    671.0                                 632.0   \n",
       "31                    960.0                                 504.0   \n",
       "32                   1556.0                                1627.0   \n",
       "33                    945.0                                 497.0   \n",
       "34                   1213.0                                 682.0   \n",
       "35                    645.0                                 454.0   \n",
       "36                   1229.0                                 784.0   \n",
       "37                   1950.0                                1603.0   \n",
       "38                   1055.0                                 986.0   \n",
       "39                   1459.0                                 728.0   \n",
       "40                    701.0                                 447.0   \n",
       "41                   1702.0                                 836.0   \n",
       "42                   1367.0                                 957.0   \n",
       "43                   1338.0                                 877.0   \n",
       "44                   1926.0                                1506.0   \n",
       "45                    788.0                                 715.0   \n",
       "46                    464.0                                 413.0   \n",
       "47                   1509.0                                 845.0   \n",
       "48                    855.0                                 784.0   \n",
       "49                   1534.0                                1091.0   \n",
       "50                   1228.0                                 780.0   \n",
       "51                   1066.0                                 959.0   \n",
       "52                    701.0                                 640.0   \n",
       "\n",
       "    Male incarceration rate: Black or African American alone  \\\n",
       "0                                              4490.0          \n",
       "1                                              3521.0          \n",
       "2                                              2070.0          \n",
       "3                                              5505.0          \n",
       "4                                              4801.0          \n",
       "5                                              5666.0          \n",
       "6                                              6382.0          \n",
       "7                                              4274.0          \n",
       "8                                              4028.0          \n",
       "9                                              1974.0          \n",
       "10                                             4893.0          \n",
       "11                                             4006.0          \n",
       "12                                             1462.0          \n",
       "13                                             4995.0          \n",
       "14                                             4196.0          \n",
       "15                                             5495.0          \n",
       "16                                             6001.0          \n",
       "17                                             6036.0          \n",
       "18                                             6733.0          \n",
       "19                                             5406.0          \n",
       "20                                             2655.0          \n",
       "21                                             2901.0          \n",
       "22                                             2923.0          \n",
       "23                                             4432.0          \n",
       "24                                             4192.0          \n",
       "25                                             3547.0          \n",
       "26                                             4625.0          \n",
       "27                                             5071.0          \n",
       "28                                             4371.0          \n",
       "29                                             4678.0          \n",
       "30                                             3750.0          \n",
       "31                                             3995.0          \n",
       "32                                             4201.0          \n",
       "33                                             3361.0          \n",
       "34                                             3311.0          \n",
       "35                                             2580.0          \n",
       "36                                             4584.0          \n",
       "37                                             6976.0          \n",
       "38                                             5490.0          \n",
       "39                                             6442.0          \n",
       "40                                             3601.0          \n",
       "41                                             3990.0          \n",
       "42                                             7353.0          \n",
       "43                                             3857.0          \n",
       "44                                             5371.0          \n",
       "45                                             4368.0          \n",
       "46                                             3526.0          \n",
       "47                                             4721.0          \n",
       "48                                             4073.0          \n",
       "49                                            11957.0          \n",
       "50                                             7708.0          \n",
       "51                                             4885.0          \n",
       "52                                             1162.0          \n",
       "\n",
       "    Male incarceration rate: American Indian and Alaska Native alone  \\\n",
       "0                                              2223.0                  \n",
       "1                                               470.0                  \n",
       "2                                              2492.0                  \n",
       "3                                              4078.0                  \n",
       "4                                              1229.0                  \n",
       "5                                              1665.0                  \n",
       "6                                              5259.0                  \n",
       "7                                              1063.0                  \n",
       "8                                               238.0                  \n",
       "9                                              1846.0                  \n",
       "10                                              974.0                  \n",
       "11                                             1008.0                  \n",
       "12                                              810.0                  \n",
       "13                                             2967.0                  \n",
       "14                                             1361.0                  \n",
       "15                                             1622.0                  \n",
       "16                                             3894.0                  \n",
       "17                                             2135.0                  \n",
       "18                                             4590.0                  \n",
       "19                                              846.0                  \n",
       "20                                             1297.0                  \n",
       "21                                              352.0                  \n",
       "22                                             1815.0                  \n",
       "23                                             1714.0                  \n",
       "24                                             4306.0                  \n",
       "25                                             1890.0                  \n",
       "26                                             1161.0                  \n",
       "27                                             3084.0                  \n",
       "28                                             3085.0                  \n",
       "29                                             2354.0                  \n",
       "30                                             1531.0                  \n",
       "31                                             1332.0                  \n",
       "32                                             1821.0                  \n",
       "33                                             1316.0                  \n",
       "34                                             1659.0                  \n",
       "35                                             3331.0                  \n",
       "36                                             1311.0                  \n",
       "37                                             1817.0                  \n",
       "38                                             2269.0                  \n",
       "39                                             1911.0                  \n",
       "40                                              772.0                  \n",
       "41                                             1941.0                  \n",
       "42                                             4245.0                  \n",
       "43                                             1097.0                  \n",
       "44                                              940.0                  \n",
       "45                                             2604.0                  \n",
       "46                                             2387.0                  \n",
       "47                                             1223.0                  \n",
       "48                                             2420.0                  \n",
       "49                                             4195.0                  \n",
       "50                                             4527.0                  \n",
       "51                                             3599.0                  \n",
       "52                                             2158.0                  \n",
       "\n",
       "    Male incarceration rate: Asian alone  Cluster  \\\n",
       "0                                  215.0        1   \n",
       "1                                  197.0        4   \n",
       "2                                  236.0        0   \n",
       "3                                 1275.0        3   \n",
       "4                                  637.0        4   \n",
       "5                                  174.0        1   \n",
       "6                                  554.0        3   \n",
       "7                                  113.0        4   \n",
       "8                                   36.0        4   \n",
       "9                                  204.0        0   \n",
       "10                                 185.0        4   \n",
       "11                                 229.0        4   \n",
       "12                                 412.0        0   \n",
       "13                                 319.0        1   \n",
       "14                                  73.0        4   \n",
       "15                                 141.0        1   \n",
       "16                                 311.0        3   \n",
       "17                                 425.0        1   \n",
       "18                                 468.0        3   \n",
       "19                                 305.0        4   \n",
       "20                                 322.0        0   \n",
       "21                                  62.0        0   \n",
       "22                                 123.0        0   \n",
       "23                                 162.0        4   \n",
       "24                                 368.0        1   \n",
       "25                                1440.0        4   \n",
       "26                                  72.0        4   \n",
       "27                                 482.0        1   \n",
       "28                                 298.0        1   \n",
       "29                                 410.0        1   \n",
       "30                                 156.0        0   \n",
       "31                                  94.0        4   \n",
       "32                                 424.0        4   \n",
       "33                                 104.0        0   \n",
       "34                                 203.0        0   \n",
       "35                                  59.0        0   \n",
       "36                                 247.0        4   \n",
       "37                                 498.0        1   \n",
       "38                                 475.0        1   \n",
       "39                                 301.0        1   \n",
       "40                                 308.0        0   \n",
       "41                                 302.0        4   \n",
       "42                                 888.0        3   \n",
       "43                                 215.0        4   \n",
       "44                                 321.0        4   \n",
       "45                                 292.0        1   \n",
       "46                                  57.0        0   \n",
       "47                                 126.0        4   \n",
       "48                                 200.0        1   \n",
       "49                                 620.0        2   \n",
       "50                                 278.0        3   \n",
       "51                                 416.0        1   \n",
       "52                                 325.0        0   \n",
       "\n",
       "    Mean Male Incarceration Rate State Abbreviation  \n",
       "0                         1838.8                NaN  \n",
       "1                         1330.2                 AL  \n",
       "2                         1269.4                 AK  \n",
       "3                         2826.8                 AZ  \n",
       "4                         1877.4                 AR  \n",
       "5                         1974.0                 CA  \n",
       "6                         2983.6                 CO  \n",
       "7                         1376.6                 CT  \n",
       "8                         1289.6                 DE  \n",
       "9                         1051.0                NaN  \n",
       "10                        1755.6                 FL  \n",
       "11                        1686.8                 GA  \n",
       "12                         794.0                 HI  \n",
       "13                        2148.4                 ID  \n",
       "14                        1432.6                 IL  \n",
       "15                        1930.0                 IN  \n",
       "16                        2319.8                 IA  \n",
       "17                        2127.0                 KS  \n",
       "18                        2952.6                 KY  \n",
       "19                        2067.2                 LA  \n",
       "20                        1053.2                 ME  \n",
       "21                        1018.0                 MD  \n",
       "22                        1233.2                 MA  \n",
       "23                        1655.2                 MI  \n",
       "24                        1997.0                 MN  \n",
       "25                        2073.0                 MS  \n",
       "26                        1612.4                 MO  \n",
       "27                        2064.8                 MT  \n",
       "28                        1832.4                 NE  \n",
       "29                        1983.2                 NV  \n",
       "30                        1348.0                 NH  \n",
       "31                        1377.0                 NJ  \n",
       "32                        1925.8                 NM  \n",
       "33                        1244.6                 NY  \n",
       "34                        1413.6                 NC  \n",
       "35                        1413.8                 ND  \n",
       "36                        1631.0                 OH  \n",
       "37                        2568.8                 OK  \n",
       "38                        2055.0                 OR  \n",
       "39                        2168.2                 PA  \n",
       "40                        1165.8                 RI  \n",
       "41                        1754.2                 SC  \n",
       "42                        2962.0                 SD  \n",
       "43                        1476.8                 TN  \n",
       "44                        2012.8                 TX  \n",
       "45                        1753.4                 UT  \n",
       "46                        1369.4                 VT  \n",
       "47                        1684.8                 VA  \n",
       "48                        1666.4                 WA  \n",
       "49                        3879.4                 WV  \n",
       "50                        2904.2                 WI  \n",
       "51                        2185.0                 WY  \n",
       "52                         997.2                NaN  "
      ]
     },
     "execution_count": 90,
     "metadata": {},
     "output_type": "execute_result"
    }
   ],
   "source": [
    "X = data.iloc[:, 1:]\n",
    "X"
   ]
  },
  {
   "cell_type": "code",
   "execution_count": 91,
   "metadata": {},
   "outputs": [
    {
     "ename": "ValueError",
     "evalue": "could not convert string to float: 'AL'",
     "output_type": "error",
     "traceback": [
      "\u001b[0;31m---------------------------------------------------------------------------\u001b[0m",
      "\u001b[0;31mValueError\u001b[0m                                Traceback (most recent call last)",
      "Cell \u001b[0;32mIn[91], line 3\u001b[0m\n\u001b[1;32m      1\u001b[0m \u001b[39m# standardize the data\u001b[39;00m\n\u001b[1;32m      2\u001b[0m scaler \u001b[39m=\u001b[39m StandardScaler()\n\u001b[0;32m----> 3\u001b[0m data_std \u001b[39m=\u001b[39m scaler\u001b[39m.\u001b[39;49mfit_transform(X)\n",
      "File \u001b[0;32m~/opt/anaconda3/envs/machinelearning/lib/python3.11/site-packages/sklearn/utils/_set_output.py:142\u001b[0m, in \u001b[0;36m_wrap_method_output.<locals>.wrapped\u001b[0;34m(self, X, *args, **kwargs)\u001b[0m\n\u001b[1;32m    140\u001b[0m \u001b[39m@wraps\u001b[39m(f)\n\u001b[1;32m    141\u001b[0m \u001b[39mdef\u001b[39;00m \u001b[39mwrapped\u001b[39m(\u001b[39mself\u001b[39m, X, \u001b[39m*\u001b[39margs, \u001b[39m*\u001b[39m\u001b[39m*\u001b[39mkwargs):\n\u001b[0;32m--> 142\u001b[0m     data_to_wrap \u001b[39m=\u001b[39m f(\u001b[39mself\u001b[39;49m, X, \u001b[39m*\u001b[39;49margs, \u001b[39m*\u001b[39;49m\u001b[39m*\u001b[39;49mkwargs)\n\u001b[1;32m    143\u001b[0m     \u001b[39mif\u001b[39;00m \u001b[39misinstance\u001b[39m(data_to_wrap, \u001b[39mtuple\u001b[39m):\n\u001b[1;32m    144\u001b[0m         \u001b[39m# only wrap the first output for cross decomposition\u001b[39;00m\n\u001b[1;32m    145\u001b[0m         \u001b[39mreturn\u001b[39;00m (\n\u001b[1;32m    146\u001b[0m             _wrap_data_with_container(method, data_to_wrap[\u001b[39m0\u001b[39m], X, \u001b[39mself\u001b[39m),\n\u001b[1;32m    147\u001b[0m             \u001b[39m*\u001b[39mdata_to_wrap[\u001b[39m1\u001b[39m:],\n\u001b[1;32m    148\u001b[0m         )\n",
      "File \u001b[0;32m~/opt/anaconda3/envs/machinelearning/lib/python3.11/site-packages/sklearn/base.py:859\u001b[0m, in \u001b[0;36mTransformerMixin.fit_transform\u001b[0;34m(self, X, y, **fit_params)\u001b[0m\n\u001b[1;32m    855\u001b[0m \u001b[39m# non-optimized default implementation; override when a better\u001b[39;00m\n\u001b[1;32m    856\u001b[0m \u001b[39m# method is possible for a given clustering algorithm\u001b[39;00m\n\u001b[1;32m    857\u001b[0m \u001b[39mif\u001b[39;00m y \u001b[39mis\u001b[39;00m \u001b[39mNone\u001b[39;00m:\n\u001b[1;32m    858\u001b[0m     \u001b[39m# fit method of arity 1 (unsupervised transformation)\u001b[39;00m\n\u001b[0;32m--> 859\u001b[0m     \u001b[39mreturn\u001b[39;00m \u001b[39mself\u001b[39;49m\u001b[39m.\u001b[39;49mfit(X, \u001b[39m*\u001b[39;49m\u001b[39m*\u001b[39;49mfit_params)\u001b[39m.\u001b[39mtransform(X)\n\u001b[1;32m    860\u001b[0m \u001b[39melse\u001b[39;00m:\n\u001b[1;32m    861\u001b[0m     \u001b[39m# fit method of arity 2 (supervised transformation)\u001b[39;00m\n\u001b[1;32m    862\u001b[0m     \u001b[39mreturn\u001b[39;00m \u001b[39mself\u001b[39m\u001b[39m.\u001b[39mfit(X, y, \u001b[39m*\u001b[39m\u001b[39m*\u001b[39mfit_params)\u001b[39m.\u001b[39mtransform(X)\n",
      "File \u001b[0;32m~/opt/anaconda3/envs/machinelearning/lib/python3.11/site-packages/sklearn/preprocessing/_data.py:824\u001b[0m, in \u001b[0;36mStandardScaler.fit\u001b[0;34m(self, X, y, sample_weight)\u001b[0m\n\u001b[1;32m    822\u001b[0m \u001b[39m# Reset internal state before fitting\u001b[39;00m\n\u001b[1;32m    823\u001b[0m \u001b[39mself\u001b[39m\u001b[39m.\u001b[39m_reset()\n\u001b[0;32m--> 824\u001b[0m \u001b[39mreturn\u001b[39;00m \u001b[39mself\u001b[39;49m\u001b[39m.\u001b[39;49mpartial_fit(X, y, sample_weight)\n",
      "File \u001b[0;32m~/opt/anaconda3/envs/machinelearning/lib/python3.11/site-packages/sklearn/preprocessing/_data.py:861\u001b[0m, in \u001b[0;36mStandardScaler.partial_fit\u001b[0;34m(self, X, y, sample_weight)\u001b[0m\n\u001b[1;32m    858\u001b[0m \u001b[39mself\u001b[39m\u001b[39m.\u001b[39m_validate_params()\n\u001b[1;32m    860\u001b[0m first_call \u001b[39m=\u001b[39m \u001b[39mnot\u001b[39;00m \u001b[39mhasattr\u001b[39m(\u001b[39mself\u001b[39m, \u001b[39m\"\u001b[39m\u001b[39mn_samples_seen_\u001b[39m\u001b[39m\"\u001b[39m)\n\u001b[0;32m--> 861\u001b[0m X \u001b[39m=\u001b[39m \u001b[39mself\u001b[39;49m\u001b[39m.\u001b[39;49m_validate_data(\n\u001b[1;32m    862\u001b[0m     X,\n\u001b[1;32m    863\u001b[0m     accept_sparse\u001b[39m=\u001b[39;49m(\u001b[39m\"\u001b[39;49m\u001b[39mcsr\u001b[39;49m\u001b[39m\"\u001b[39;49m, \u001b[39m\"\u001b[39;49m\u001b[39mcsc\u001b[39;49m\u001b[39m\"\u001b[39;49m),\n\u001b[1;32m    864\u001b[0m     dtype\u001b[39m=\u001b[39;49mFLOAT_DTYPES,\n\u001b[1;32m    865\u001b[0m     force_all_finite\u001b[39m=\u001b[39;49m\u001b[39m\"\u001b[39;49m\u001b[39mallow-nan\u001b[39;49m\u001b[39m\"\u001b[39;49m,\n\u001b[1;32m    866\u001b[0m     reset\u001b[39m=\u001b[39;49mfirst_call,\n\u001b[1;32m    867\u001b[0m )\n\u001b[1;32m    868\u001b[0m n_features \u001b[39m=\u001b[39m X\u001b[39m.\u001b[39mshape[\u001b[39m1\u001b[39m]\n\u001b[1;32m    870\u001b[0m \u001b[39mif\u001b[39;00m sample_weight \u001b[39mis\u001b[39;00m \u001b[39mnot\u001b[39;00m \u001b[39mNone\u001b[39;00m:\n",
      "File \u001b[0;32m~/opt/anaconda3/envs/machinelearning/lib/python3.11/site-packages/sklearn/base.py:546\u001b[0m, in \u001b[0;36mBaseEstimator._validate_data\u001b[0;34m(self, X, y, reset, validate_separately, **check_params)\u001b[0m\n\u001b[1;32m    544\u001b[0m     \u001b[39mraise\u001b[39;00m \u001b[39mValueError\u001b[39;00m(\u001b[39m\"\u001b[39m\u001b[39mValidation should be done on X, y or both.\u001b[39m\u001b[39m\"\u001b[39m)\n\u001b[1;32m    545\u001b[0m \u001b[39melif\u001b[39;00m \u001b[39mnot\u001b[39;00m no_val_X \u001b[39mand\u001b[39;00m no_val_y:\n\u001b[0;32m--> 546\u001b[0m     X \u001b[39m=\u001b[39m check_array(X, input_name\u001b[39m=\u001b[39;49m\u001b[39m\"\u001b[39;49m\u001b[39mX\u001b[39;49m\u001b[39m\"\u001b[39;49m, \u001b[39m*\u001b[39;49m\u001b[39m*\u001b[39;49mcheck_params)\n\u001b[1;32m    547\u001b[0m     out \u001b[39m=\u001b[39m X\n\u001b[1;32m    548\u001b[0m \u001b[39melif\u001b[39;00m no_val_X \u001b[39mand\u001b[39;00m \u001b[39mnot\u001b[39;00m no_val_y:\n",
      "File \u001b[0;32m~/opt/anaconda3/envs/machinelearning/lib/python3.11/site-packages/sklearn/utils/validation.py:879\u001b[0m, in \u001b[0;36mcheck_array\u001b[0;34m(array, accept_sparse, accept_large_sparse, dtype, order, copy, force_all_finite, ensure_2d, allow_nd, ensure_min_samples, ensure_min_features, estimator, input_name)\u001b[0m\n\u001b[1;32m    877\u001b[0m         array \u001b[39m=\u001b[39m xp\u001b[39m.\u001b[39mastype(array, dtype, copy\u001b[39m=\u001b[39m\u001b[39mFalse\u001b[39;00m)\n\u001b[1;32m    878\u001b[0m     \u001b[39melse\u001b[39;00m:\n\u001b[0;32m--> 879\u001b[0m         array \u001b[39m=\u001b[39m _asarray_with_order(array, order\u001b[39m=\u001b[39;49morder, dtype\u001b[39m=\u001b[39;49mdtype, xp\u001b[39m=\u001b[39;49mxp)\n\u001b[1;32m    880\u001b[0m \u001b[39mexcept\u001b[39;00m ComplexWarning \u001b[39mas\u001b[39;00m complex_warning:\n\u001b[1;32m    881\u001b[0m     \u001b[39mraise\u001b[39;00m \u001b[39mValueError\u001b[39;00m(\n\u001b[1;32m    882\u001b[0m         \u001b[39m\"\u001b[39m\u001b[39mComplex data not supported\u001b[39m\u001b[39m\\n\u001b[39;00m\u001b[39m{}\u001b[39;00m\u001b[39m\\n\u001b[39;00m\u001b[39m\"\u001b[39m\u001b[39m.\u001b[39mformat(array)\n\u001b[1;32m    883\u001b[0m     ) \u001b[39mfrom\u001b[39;00m \u001b[39mcomplex_warning\u001b[39;00m\n",
      "File \u001b[0;32m~/opt/anaconda3/envs/machinelearning/lib/python3.11/site-packages/sklearn/utils/_array_api.py:185\u001b[0m, in \u001b[0;36m_asarray_with_order\u001b[0;34m(array, dtype, order, copy, xp)\u001b[0m\n\u001b[1;32m    182\u001b[0m     xp, _ \u001b[39m=\u001b[39m get_namespace(array)\n\u001b[1;32m    183\u001b[0m \u001b[39mif\u001b[39;00m xp\u001b[39m.\u001b[39m\u001b[39m__name__\u001b[39m \u001b[39min\u001b[39;00m {\u001b[39m\"\u001b[39m\u001b[39mnumpy\u001b[39m\u001b[39m\"\u001b[39m, \u001b[39m\"\u001b[39m\u001b[39mnumpy.array_api\u001b[39m\u001b[39m\"\u001b[39m}:\n\u001b[1;32m    184\u001b[0m     \u001b[39m# Use NumPy API to support order\u001b[39;00m\n\u001b[0;32m--> 185\u001b[0m     array \u001b[39m=\u001b[39m numpy\u001b[39m.\u001b[39masarray(array, order\u001b[39m=\u001b[39morder, dtype\u001b[39m=\u001b[39mdtype)\n\u001b[1;32m    186\u001b[0m     \u001b[39mreturn\u001b[39;00m xp\u001b[39m.\u001b[39masarray(array, copy\u001b[39m=\u001b[39mcopy)\n\u001b[1;32m    187\u001b[0m \u001b[39melse\u001b[39;00m:\n",
      "File \u001b[0;32m~/opt/anaconda3/envs/machinelearning/lib/python3.11/site-packages/pandas/core/generic.py:2070\u001b[0m, in \u001b[0;36mNDFrame.__array__\u001b[0;34m(self, dtype)\u001b[0m\n\u001b[1;32m   2069\u001b[0m \u001b[39mdef\u001b[39;00m \u001b[39m__array__\u001b[39m(\u001b[39mself\u001b[39m, dtype: npt\u001b[39m.\u001b[39mDTypeLike \u001b[39m|\u001b[39m \u001b[39mNone\u001b[39;00m \u001b[39m=\u001b[39m \u001b[39mNone\u001b[39;00m) \u001b[39m-\u001b[39m\u001b[39m>\u001b[39m np\u001b[39m.\u001b[39mndarray:\n\u001b[0;32m-> 2070\u001b[0m     \u001b[39mreturn\u001b[39;00m np\u001b[39m.\u001b[39masarray(\u001b[39mself\u001b[39m\u001b[39m.\u001b[39m_values, dtype\u001b[39m=\u001b[39mdtype)\n",
      "\u001b[0;31mValueError\u001b[0m: could not convert string to float: 'AL'"
     ]
    }
   ],
   "source": [
    "# standardize the data\n",
    "scaler = StandardScaler()\n",
    "data_std = scaler.fit_transform(X)"
   ]
  },
  {
   "cell_type": "code",
   "execution_count": null,
   "metadata": {},
   "outputs": [
    {
     "name": "stderr",
     "output_type": "stream",
     "text": [
      "/Users/lorenzomendoza/opt/anaconda3/envs/machinelearning/lib/python3.11/site-packages/sklearn/cluster/_kmeans.py:870: FutureWarning:\n",
      "\n",
      "The default value of `n_init` will change from 10 to 'auto' in 1.4. Set the value of `n_init` explicitly to suppress the warning\n",
      "\n",
      "/var/folders/yn/4nkcf4bx0tl9zps6_x1krghm0000gn/T/ipykernel_18024/1034170305.py:15: FutureWarning:\n",
      "\n",
      "The default value of numeric_only in DataFrameGroupBy.mean is deprecated. In a future version, numeric_only will default to False. Either specify numeric_only or select only columns which should be valid for the function.\n",
      "\n"
     ]
    }
   ],
   "source": [
    "# # replace any missing values with the mean of the column\n",
    "# data = data.fillna(data.mean())\n",
    "\n",
    "# # standardize the data\n",
    "# scaler = StandardScaler()\n",
    "# data_std = scaler.fit_transform(X[columns])\n",
    "\n",
    "# perform K-means clustering\n",
    "kmeans = KMeans(n_clusters=3, random_state=0).fit(data_std)\n",
    "\n",
    "# add cluster labels to the DataFrame\n",
    "data['Cluster'] = kmeans.labels_\n",
    "\n",
    "# calculate the mean incarceration rate for each cluster\n",
    "means = data.groupby('Cluster')[columns].mean()\n",
    "\n",
    "\n"
   ]
  },
  {
   "cell_type": "code",
   "execution_count": null,
   "metadata": {},
   "outputs": [
    {
     "name": "stdout",
     "output_type": "stream",
     "text": [
      "       Geography  Male incarceration rate  \\\n",
      "0  United States                   1350.0   \n",
      "1        Alabama                   1545.0   \n",
      "2         Alaska                    947.0   \n",
      "3        Arizona                   1899.0   \n",
      "4       Arkansas                   1627.0   \n",
      "\n",
      "   Male incarceration rate: White alone  \\\n",
      "0                                 916.0   \n",
      "1                                 918.0   \n",
      "2                                 602.0   \n",
      "3                                1377.0   \n",
      "4                                1093.0   \n",
      "\n",
      "   Male incarceration rate: Black or African American alone  \\\n",
      "0                                             4490.0          \n",
      "1                                             3521.0          \n",
      "2                                             2070.0          \n",
      "3                                             5505.0          \n",
      "4                                             4801.0          \n",
      "\n",
      "   Male incarceration rate: American Indian and Alaska Native alone  \\\n",
      "0                                             2223.0                  \n",
      "1                                              470.0                  \n",
      "2                                             2492.0                  \n",
      "3                                             4078.0                  \n",
      "4                                             1229.0                  \n",
      "\n",
      "   Male incarceration rate: Asian alone  Cluster  \n",
      "0                                 215.0        0  \n",
      "1                                 197.0        1  \n",
      "2                                 236.0        1  \n",
      "3                                1275.0        2  \n",
      "4                                 637.0        0  \n"
     ]
    }
   ],
   "source": [
    "print(data.head())"
   ]
  },
  {
   "cell_type": "code",
   "execution_count": null,
   "metadata": {},
   "outputs": [],
   "source": []
  },
  {
   "cell_type": "code",
   "execution_count": null,
   "metadata": {},
   "outputs": [],
   "source": []
  },
  {
   "cell_type": "code",
   "execution_count": null,
   "metadata": {},
   "outputs": [
    {
     "data": {
      "image/png": "[encoded data removed]",
      "text/plain": [
       "<Figure size 640x480 with 1 Axes>"
      ]
     },
     "metadata": {},
     "output_type": "display_data"
    }
   ],
   "source": [
    "# plot the results\n",
    "means.plot(kind='bar')\n",
    "plt.xlabel('Cluster')\n",
    "plt.ylabel('Male incarceration rate')\n",
    "plt.xticks(rotation=0)\n",
    "plt.show()"
   ]
  },
  {
   "cell_type": "code",
   "execution_count": null,
   "metadata": {},
   "outputs": [
    {
     "ename": "AttributeError",
     "evalue": "'float' object has no attribute 'replace'",
     "output_type": "error",
     "traceback": [
      "\u001b[0;31m---------------------------------------------------------------------------\u001b[0m",
      "\u001b[0;31mAttributeError\u001b[0m                            Traceback (most recent call last)",
      "Cell \u001b[0;32mIn[35], line 6\u001b[0m\n\u001b[1;32m      3\u001b[0m data \u001b[39m=\u001b[39m data[columns]\n\u001b[1;32m      5\u001b[0m \u001b[39m# convert string values to floats\u001b[39;00m\n\u001b[0;32m----> 6\u001b[0m data \u001b[39m=\u001b[39m data\u001b[39m.\u001b[39;49mapplymap(\u001b[39mlambda\u001b[39;49;00m x: \u001b[39mfloat\u001b[39;49m(x\u001b[39m.\u001b[39;49mreplace(\u001b[39m'\u001b[39;49m\u001b[39m,\u001b[39;49m\u001b[39m'\u001b[39;49m, \u001b[39m'\u001b[39;49m\u001b[39m'\u001b[39;49m)))\n\u001b[1;32m      8\u001b[0m \u001b[39m# standardize the data\u001b[39;00m\n\u001b[1;32m      9\u001b[0m data \u001b[39m=\u001b[39m (data \u001b[39m-\u001b[39m data\u001b[39m.\u001b[39mmean()) \u001b[39m/\u001b[39m data\u001b[39m.\u001b[39mstd()\n",
      "File \u001b[0;32m~/opt/anaconda3/envs/machinelearning/lib/python3.11/site-packages/pandas/core/frame.py:9653\u001b[0m, in \u001b[0;36mDataFrame.applymap\u001b[0;34m(self, func, na_action, **kwargs)\u001b[0m\n\u001b[1;32m   9650\u001b[0m         \u001b[39mreturn\u001b[39;00m lib\u001b[39m.\u001b[39mmap_infer(x, func, ignore_na\u001b[39m=\u001b[39mignore_na)\n\u001b[1;32m   9651\u001b[0m     \u001b[39mreturn\u001b[39;00m lib\u001b[39m.\u001b[39mmap_infer(x\u001b[39m.\u001b[39mastype(\u001b[39mobject\u001b[39m)\u001b[39m.\u001b[39m_values, func, ignore_na\u001b[39m=\u001b[39mignore_na)\n\u001b[0;32m-> 9653\u001b[0m \u001b[39mreturn\u001b[39;00m \u001b[39mself\u001b[39;49m\u001b[39m.\u001b[39;49mapply(infer)\u001b[39m.\u001b[39m__finalize__(\u001b[39mself\u001b[39m, \u001b[39m\"\u001b[39m\u001b[39mapplymap\u001b[39m\u001b[39m\"\u001b[39m)\n",
      "File \u001b[0;32m~/opt/anaconda3/envs/machinelearning/lib/python3.11/site-packages/pandas/core/frame.py:9568\u001b[0m, in \u001b[0;36mDataFrame.apply\u001b[0;34m(self, func, axis, raw, result_type, args, **kwargs)\u001b[0m\n\u001b[1;32m   9557\u001b[0m \u001b[39mfrom\u001b[39;00m \u001b[39mpandas\u001b[39;00m\u001b[39m.\u001b[39;00m\u001b[39mcore\u001b[39;00m\u001b[39m.\u001b[39;00m\u001b[39mapply\u001b[39;00m \u001b[39mimport\u001b[39;00m frame_apply\n\u001b[1;32m   9559\u001b[0m op \u001b[39m=\u001b[39m frame_apply(\n\u001b[1;32m   9560\u001b[0m     \u001b[39mself\u001b[39m,\n\u001b[1;32m   9561\u001b[0m     func\u001b[39m=\u001b[39mfunc,\n\u001b[0;32m   (...)\u001b[0m\n\u001b[1;32m   9566\u001b[0m     kwargs\u001b[39m=\u001b[39mkwargs,\n\u001b[1;32m   9567\u001b[0m )\n\u001b[0;32m-> 9568\u001b[0m \u001b[39mreturn\u001b[39;00m op\u001b[39m.\u001b[39;49mapply()\u001b[39m.\u001b[39m__finalize__(\u001b[39mself\u001b[39m, method\u001b[39m=\u001b[39m\u001b[39m\"\u001b[39m\u001b[39mapply\u001b[39m\u001b[39m\"\u001b[39m)\n",
      "File \u001b[0;32m~/opt/anaconda3/envs/machinelearning/lib/python3.11/site-packages/pandas/core/apply.py:764\u001b[0m, in \u001b[0;36mFrameApply.apply\u001b[0;34m(self)\u001b[0m\n\u001b[1;32m    761\u001b[0m \u001b[39melif\u001b[39;00m \u001b[39mself\u001b[39m\u001b[39m.\u001b[39mraw:\n\u001b[1;32m    762\u001b[0m     \u001b[39mreturn\u001b[39;00m \u001b[39mself\u001b[39m\u001b[39m.\u001b[39mapply_raw()\n\u001b[0;32m--> 764\u001b[0m \u001b[39mreturn\u001b[39;00m \u001b[39mself\u001b[39;49m\u001b[39m.\u001b[39;49mapply_standard()\n",
      "File \u001b[0;32m~/opt/anaconda3/envs/machinelearning/lib/python3.11/site-packages/pandas/core/apply.py:891\u001b[0m, in \u001b[0;36mFrameApply.apply_standard\u001b[0;34m(self)\u001b[0m\n\u001b[1;32m    890\u001b[0m \u001b[39mdef\u001b[39;00m \u001b[39mapply_standard\u001b[39m(\u001b[39mself\u001b[39m):\n\u001b[0;32m--> 891\u001b[0m     results, res_index \u001b[39m=\u001b[39m \u001b[39mself\u001b[39;49m\u001b[39m.\u001b[39;49mapply_series_generator()\n\u001b[1;32m    893\u001b[0m     \u001b[39m# wrap results\u001b[39;00m\n\u001b[1;32m    894\u001b[0m     \u001b[39mreturn\u001b[39;00m \u001b[39mself\u001b[39m\u001b[39m.\u001b[39mwrap_results(results, res_index)\n",
      "File \u001b[0;32m~/opt/anaconda3/envs/machinelearning/lib/python3.11/site-packages/pandas/core/apply.py:907\u001b[0m, in \u001b[0;36mFrameApply.apply_series_generator\u001b[0;34m(self)\u001b[0m\n\u001b[1;32m    904\u001b[0m \u001b[39mwith\u001b[39;00m option_context(\u001b[39m\"\u001b[39m\u001b[39mmode.chained_assignment\u001b[39m\u001b[39m\"\u001b[39m, \u001b[39mNone\u001b[39;00m):\n\u001b[1;32m    905\u001b[0m     \u001b[39mfor\u001b[39;00m i, v \u001b[39min\u001b[39;00m \u001b[39menumerate\u001b[39m(series_gen):\n\u001b[1;32m    906\u001b[0m         \u001b[39m# ignore SettingWithCopy here in case the user mutates\u001b[39;00m\n\u001b[0;32m--> 907\u001b[0m         results[i] \u001b[39m=\u001b[39m \u001b[39mself\u001b[39;49m\u001b[39m.\u001b[39;49mf(v)\n\u001b[1;32m    908\u001b[0m         \u001b[39mif\u001b[39;00m \u001b[39misinstance\u001b[39m(results[i], ABCSeries):\n\u001b[1;32m    909\u001b[0m             \u001b[39m# If we have a view on v, we need to make a copy because\u001b[39;00m\n\u001b[1;32m    910\u001b[0m             \u001b[39m#  series_generator will swap out the underlying data\u001b[39;00m\n\u001b[1;32m    911\u001b[0m             results[i] \u001b[39m=\u001b[39m results[i]\u001b[39m.\u001b[39mcopy(deep\u001b[39m=\u001b[39m\u001b[39mFalse\u001b[39;00m)\n",
      "File \u001b[0;32m~/opt/anaconda3/envs/machinelearning/lib/python3.11/site-packages/pandas/core/frame.py:9651\u001b[0m, in \u001b[0;36mDataFrame.applymap.<locals>.infer\u001b[0;34m(x)\u001b[0m\n\u001b[1;32m   9649\u001b[0m \u001b[39mif\u001b[39;00m x\u001b[39m.\u001b[39mempty:\n\u001b[1;32m   9650\u001b[0m     \u001b[39mreturn\u001b[39;00m lib\u001b[39m.\u001b[39mmap_infer(x, func, ignore_na\u001b[39m=\u001b[39mignore_na)\n\u001b[0;32m-> 9651\u001b[0m \u001b[39mreturn\u001b[39;00m lib\u001b[39m.\u001b[39;49mmap_infer(x\u001b[39m.\u001b[39;49mastype(\u001b[39mobject\u001b[39;49m)\u001b[39m.\u001b[39;49m_values, func, ignore_na\u001b[39m=\u001b[39;49mignore_na)\n",
      "File \u001b[0;32m~/opt/anaconda3/envs/machinelearning/lib/python3.11/site-packages/pandas/_libs/lib.pyx:2924\u001b[0m, in \u001b[0;36mpandas._libs.lib.map_infer\u001b[0;34m()\u001b[0m\n",
      "Cell \u001b[0;32mIn[35], line 6\u001b[0m, in \u001b[0;36m<lambda>\u001b[0;34m(x)\u001b[0m\n\u001b[1;32m      3\u001b[0m data \u001b[39m=\u001b[39m data[columns]\n\u001b[1;32m      5\u001b[0m \u001b[39m# convert string values to floats\u001b[39;00m\n\u001b[0;32m----> 6\u001b[0m data \u001b[39m=\u001b[39m data\u001b[39m.\u001b[39mapplymap(\u001b[39mlambda\u001b[39;00m x: \u001b[39mfloat\u001b[39m(x\u001b[39m.\u001b[39;49mreplace(\u001b[39m'\u001b[39m\u001b[39m,\u001b[39m\u001b[39m'\u001b[39m, \u001b[39m'\u001b[39m\u001b[39m'\u001b[39m)))\n\u001b[1;32m      8\u001b[0m \u001b[39m# standardize the data\u001b[39;00m\n\u001b[1;32m      9\u001b[0m data \u001b[39m=\u001b[39m (data \u001b[39m-\u001b[39m data\u001b[39m.\u001b[39mmean()) \u001b[39m/\u001b[39m data\u001b[39m.\u001b[39mstd()\n",
      "\u001b[0;31mAttributeError\u001b[0m: 'float' object has no attribute 'replace'"
     ]
    }
   ],
   "source": [
    "\n",
    "# select columns of interest\n",
    "columns = ['Male incarceration rate', 'Male incarceration rate: White alone', 'Male incarceration rate: Black or African American alone', 'Male incarceration rate: American Indian and Alaska Native alone', 'Male incarceration rate: Asian alone']\n",
    "data = data[columns]\n",
    "\n",
    "# convert string values to floats\n",
    "data = data.applymap(lambda x: float(x.replace(',', '')))\n",
    "\n",
    "# standardize the data\n",
    "data = (data - data.mean()) / data.std()\n",
    "\n",
    "# perform K-means clustering\n",
    "kmeans = KMeans(n_clusters=4, random_state=0).fit(data)\n",
    "\n",
    "# add cluster labels to the data\n",
    "data['cluster'] = kmeans.labels_\n",
    "\n"
   ]
  },
  {
   "cell_type": "code",
   "execution_count": null,
   "metadata": {},
   "outputs": [],
   "source": []
  },
  {
   "cell_type": "code",
   "execution_count": null,
   "metadata": {},
   "outputs": [],
   "source": []
  },
  {
   "cell_type": "code",
   "execution_count": null,
   "metadata": {},
   "outputs": [
    {
     "name": "stderr",
     "output_type": "stream",
     "text": [
      "/Users/lorenzomendoza/opt/anaconda3/envs/machinelearning/lib/python3.11/site-packages/sklearn/cluster/_kmeans.py:870: FutureWarning: The default value of `n_init` will change from 10 to 'auto' in 1.4. Set the value of `n_init` explicitly to suppress the warning\n",
      "  warnings.warn(\n",
      "/Users/lorenzomendoza/opt/anaconda3/envs/machinelearning/lib/python3.11/site-packages/sklearn/base.py:420: UserWarning: X does not have valid feature names, but PCA was fitted with feature names\n",
      "  warnings.warn(\n"
     ]
    },
    {
     "data": {
      "image/png": "[encoded data removed]",
      "text/plain": [
       "<Figure size 640x480 with 1 Axes>"
      ]
     },
     "metadata": {},
     "output_type": "display_data"
    }
   ],
   "source": [
    "import numpy as np\n",
    "import pandas as pd\n",
    "import matplotlib.pyplot as plt\n",
    "from sklearn.cluster import KMeans\n",
    "from sklearn.preprocessing import StandardScaler\n",
    "from sklearn.decomposition import PCA\n",
    "from matplotlib.patches import Ellipse\n",
    "# load data into pandas DataFrame\n",
    "data = pd.read_csv('male_incarceration_rates.tsv', delimiter='\\t')\n",
    "\n",
    "# select columns of interest\n",
    "columns = ['Geography', 'Male incarceration rate', 'Male incarceration rate: White alone', 'Male incarceration rate: Black or African American alone', 'Male incarceration rate: American Indian and Alaska Native alone', 'Male incarceration rate: Asian alone']\n",
    "data = data[columns]\n",
    "# replace commas with empty string and convert to integer\n",
    "data['Male incarceration rate'] = data['Male incarceration rate'].str.replace(',', '').astype(int)\n",
    "data['Male incarceration rate: White alone'] = data['Male incarceration rate: White alone'].str.replace(',', '').astype(int)\n",
    "data['Male incarceration rate: Black or African American alone'] = data['Male incarceration rate: Black or African American alone'].str.replace(',', '').astype(int)\n",
    "data['Male incarceration rate: American Indian and Alaska Native alone'] = data['Male incarceration rate: American Indian and Alaska Native alone'].str.replace(',', '').astype(int)\n",
    "data['Male incarceration rate: Asian alone'] = data['Male incarceration rate: Asian alone'].str.replace(',', '').astype(int)\n",
    "\n",
    "\n",
    "\n",
    "# drop the \"Geography\" column before fitting KMeans\n",
    "X = data.drop('Geography', axis=1)\n",
    "# convert string values to floats\n",
    "# # standardize the data\n",
    "# data = (data - data.mean()) / data.std()\n",
    "\n",
    "# apply KMeans clustering\n",
    "kmeans = KMeans(n_clusters=4)\n",
    "kmeans.fit(X)\n",
    "\n",
    "# apply PCA\n",
    "pca = PCA(n_components=2)\n",
    "principal_components = pca.fit_transform(X)\n",
    "# create scatter plot with colored clusters and labels\n",
    "fig, ax = plt.subplots()\n",
    "scatter = ax.scatter(principal_components[:, 0], principal_components[:, 1], c=kmeans.labels_, cmap='viridis')\n",
    "for i, txt in enumerate(X.index):\n",
    "    ax.text(principal_components[i, 0], principal_components[i, 1], txt, fontsize=8)\n",
    "\n",
    "# add cluster centers as red circles\n",
    "cluster_centers = pca.transform(kmeans.cluster_centers_)\n",
    "for i in range(kmeans.n_clusters):\n",
    "    ax.scatter(cluster_centers[i, 0], cluster_centers[i, 1], s=200, c='red', marker='o', alpha=0.75)\n",
    "\n",
    "# add legend\n",
    "legend1 = ax.legend(*scatter.legend_elements(),\n",
    "                    loc=\"lower left\", title=\"Clusters\")\n",
    "ax.add_artist(legend1)\n",
    "\n",
    "# add axis labels\n",
    "ax.set_xlabel('Male Incarceration Rate Principal Component 1')\n",
    "ax.set_ylabel('Male Incarceration Rate Principal Component 2')\n",
    "\n",
    "plt.show()\n",
    "\n"
   ]
  },
  {
   "cell_type": "code",
   "execution_count": null,
   "metadata": {},
   "outputs": [
    {
     "name": "stderr",
     "output_type": "stream",
     "text": [
      "/Users/lorenzomendoza/opt/anaconda3/envs/machinelearning/lib/python3.11/site-packages/sklearn/cluster/_kmeans.py:870: FutureWarning: The default value of `n_init` will change from 10 to 'auto' in 1.4. Set the value of `n_init` explicitly to suppress the warning\n",
      "  warnings.warn(\n"
     ]
    },
    {
     "data": {
      "image/png": "[encoded data removed]",
      "text/plain": [
       "<Figure size 640x480 with 1 Axes>"
      ]
     },
     "metadata": {},
     "output_type": "display_data"
    }
   ],
   "source": [
    "import numpy as np\n",
    "import pandas as pd\n",
    "import matplotlib.pyplot as plt\n",
    "from sklearn.cluster import KMeans\n",
    "from sklearn.preprocessing import StandardScaler\n",
    "from matplotlib.patches import Ellipse\n",
    "# load data into pandas DataFrame\n",
    "data = pd.read_csv('male_incarceration_rates.tsv', delimiter='\\t')\n",
    "\n",
    "# select columns of interest\n",
    "columns = ['Geography', 'Male incarceration rate', 'Male incarceration rate: White alone', 'Male incarceration rate: Black or African American alone', 'Male incarceration rate: American Indian and Alaska Native alone', 'Male incarceration rate: Asian alone']\n",
    "data = data[columns]\n",
    "# replace commas with empty string and convert to integer\n",
    "data['Male incarceration rate'] = data['Male incarceration rate'].str.replace(',', '').astype(int)\n",
    "data['Male incarceration rate: White alone'] = data['Male incarceration rate: White alone'].str.replace(',', '').astype(int)\n",
    "data['Male incarceration rate: Black or African American alone'] = data['Male incarceration rate: Black or African American alone'].str.replace(',', '').astype(int)\n",
    "data['Male incarceration rate: American Indian and Alaska Native alone'] = data['Male incarceration rate: American Indian and Alaska Native alone'].str.replace(',', '').astype(int)\n",
    "data['Male incarceration rate: Asian alone'] = data['Male incarceration rate: Asian alone'].str.replace(',', '').astype(int)\n",
    "\n",
    "\n",
    "\n",
    "# drop the \"Geography\" column before fitting KMeans\n",
    "# convert string values to floats\n",
    "# # standardize the data\n",
    "# data = (data - data.mean()) / data.std()\n",
    "\n",
    "\n",
    "X = data.drop('Geography', axis=1)\n",
    "\n",
    "# apply KMeans clustering\n",
    "kmeans = KMeans(n_clusters=4)\n",
    "kmeans.fit(X)\n",
    "\n",
    "# create scatter plot with colored clusters and labels\n",
    "fig, ax = plt.subplots()\n",
    "for i in range(kmeans.n_clusters):\n",
    "    ax.scatter(X.iloc[kmeans.labels_==i, 0], X.iloc[kmeans.labels_==i, 1], label=f'Cluster {i}', alpha=0.75)\n",
    "\n",
    "# add legend\n",
    "ax.legend()\n",
    "\n",
    "# add axis labels\n",
    "ax.set_xlabel('Male incarceration rate')\n",
    "ax.set_ylabel('Male incarceration rate for each race')\n",
    "\n",
    "# show plot\n",
    "plt.show()\n",
    "\n"
   ]
  },
  {
   "cell_type": "code",
   "execution_count": null,
   "metadata": {},
   "outputs": [
    {
     "data": {
      "text/html": [
       "<div>\n",
       "<style scoped>\n",
       "    .dataframe tbody tr th:only-of-type {\n",
       "        vertical-align: middle;\n",
       "    }\n",
       "\n",
       "    .dataframe tbody tr th {\n",
       "        vertical-align: top;\n",
       "    }\n",
       "\n",
       "    .dataframe thead th {\n",
       "        text-align: right;\n",
       "    }\n",
       "</style>\n",
       "<table border=\"1\" class=\"dataframe\">\n",
       "  <thead>\n",
       "    <tr style=\"text-align: right;\">\n",
       "      <th></th>\n",
       "      <th>Geography</th>\n",
       "      <th>Male incarceration rate</th>\n",
       "      <th>Male incarceration rate: White alone</th>\n",
       "      <th>Male incarceration rate: Black or African American alone</th>\n",
       "      <th>Male incarceration rate: American Indian and Alaska Native alone</th>\n",
       "      <th>Male incarceration rate: Asian alone</th>\n",
       "      <th>cluster</th>\n",
       "    </tr>\n",
       "  </thead>\n",
       "  <tbody>\n",
       "    <tr>\n",
       "      <th>26</th>\n",
       "      <td>Missouri</td>\n",
       "      <td>1296</td>\n",
       "      <td>908</td>\n",
       "      <td>4625</td>\n",
       "      <td>1161</td>\n",
       "      <td>72</td>\n",
       "      <td>0</td>\n",
       "    </tr>\n",
       "    <tr>\n",
       "      <th>41</th>\n",
       "      <td>South Carolina</td>\n",
       "      <td>1702</td>\n",
       "      <td>836</td>\n",
       "      <td>3990</td>\n",
       "      <td>1941</td>\n",
       "      <td>302</td>\n",
       "      <td>0</td>\n",
       "    </tr>\n",
       "    <tr>\n",
       "      <th>48</th>\n",
       "      <td>Washington</td>\n",
       "      <td>855</td>\n",
       "      <td>784</td>\n",
       "      <td>4073</td>\n",
       "      <td>2420</td>\n",
       "      <td>200</td>\n",
       "      <td>0</td>\n",
       "    </tr>\n",
       "    <tr>\n",
       "      <th>43</th>\n",
       "      <td>Tennessee</td>\n",
       "      <td>1338</td>\n",
       "      <td>877</td>\n",
       "      <td>3857</td>\n",
       "      <td>1097</td>\n",
       "      <td>215</td>\n",
       "      <td>0</td>\n",
       "    </tr>\n",
       "    <tr>\n",
       "      <th>36</th>\n",
       "      <td>Ohio</td>\n",
       "      <td>1229</td>\n",
       "      <td>784</td>\n",
       "      <td>4584</td>\n",
       "      <td>1311</td>\n",
       "      <td>247</td>\n",
       "      <td>0</td>\n",
       "    </tr>\n",
       "    <tr>\n",
       "      <th>44</th>\n",
       "      <td>Texas</td>\n",
       "      <td>1926</td>\n",
       "      <td>1506</td>\n",
       "      <td>5371</td>\n",
       "      <td>940</td>\n",
       "      <td>321</td>\n",
       "      <td>0</td>\n",
       "    </tr>\n",
       "    <tr>\n",
       "      <th>45</th>\n",
       "      <td>Utah</td>\n",
       "      <td>788</td>\n",
       "      <td>715</td>\n",
       "      <td>4368</td>\n",
       "      <td>2604</td>\n",
       "      <td>292</td>\n",
       "      <td>0</td>\n",
       "    </tr>\n",
       "    <tr>\n",
       "      <th>47</th>\n",
       "      <td>Virginia</td>\n",
       "      <td>1509</td>\n",
       "      <td>845</td>\n",
       "      <td>4721</td>\n",
       "      <td>1223</td>\n",
       "      <td>126</td>\n",
       "      <td>0</td>\n",
       "    </tr>\n",
       "    <tr>\n",
       "      <th>0</th>\n",
       "      <td>United States</td>\n",
       "      <td>1350</td>\n",
       "      <td>916</td>\n",
       "      <td>4490</td>\n",
       "      <td>2223</td>\n",
       "      <td>215</td>\n",
       "      <td>0</td>\n",
       "    </tr>\n",
       "    <tr>\n",
       "      <th>32</th>\n",
       "      <td>New Mexico</td>\n",
       "      <td>1556</td>\n",
       "      <td>1627</td>\n",
       "      <td>4201</td>\n",
       "      <td>1821</td>\n",
       "      <td>424</td>\n",
       "      <td>0</td>\n",
       "    </tr>\n",
       "    <tr>\n",
       "      <th>31</th>\n",
       "      <td>New Jersey</td>\n",
       "      <td>960</td>\n",
       "      <td>504</td>\n",
       "      <td>3995</td>\n",
       "      <td>1332</td>\n",
       "      <td>94</td>\n",
       "      <td>0</td>\n",
       "    </tr>\n",
       "    <tr>\n",
       "      <th>29</th>\n",
       "      <td>Nevada</td>\n",
       "      <td>1303</td>\n",
       "      <td>1171</td>\n",
       "      <td>4678</td>\n",
       "      <td>2354</td>\n",
       "      <td>410</td>\n",
       "      <td>0</td>\n",
       "    </tr>\n",
       "    <tr>\n",
       "      <th>25</th>\n",
       "      <td>Mississippi</td>\n",
       "      <td>2184</td>\n",
       "      <td>1304</td>\n",
       "      <td>3547</td>\n",
       "      <td>1890</td>\n",
       "      <td>1440</td>\n",
       "      <td>0</td>\n",
       "    </tr>\n",
       "    <tr>\n",
       "      <th>23</th>\n",
       "      <td>Michigan</td>\n",
       "      <td>1224</td>\n",
       "      <td>744</td>\n",
       "      <td>4432</td>\n",
       "      <td>1714</td>\n",
       "      <td>162</td>\n",
       "      <td>0</td>\n",
       "    </tr>\n",
       "    <tr>\n",
       "      <th>19</th>\n",
       "      <td>Louisiana</td>\n",
       "      <td>2517</td>\n",
       "      <td>1262</td>\n",
       "      <td>5406</td>\n",
       "      <td>846</td>\n",
       "      <td>305</td>\n",
       "      <td>0</td>\n",
       "    </tr>\n",
       "    <tr>\n",
       "      <th>15</th>\n",
       "      <td>Indiana</td>\n",
       "      <td>1378</td>\n",
       "      <td>1014</td>\n",
       "      <td>5495</td>\n",
       "      <td>1622</td>\n",
       "      <td>141</td>\n",
       "      <td>0</td>\n",
       "    </tr>\n",
       "    <tr>\n",
       "      <th>14</th>\n",
       "      <td>Illinois</td>\n",
       "      <td>1025</td>\n",
       "      <td>508</td>\n",
       "      <td>4196</td>\n",
       "      <td>1361</td>\n",
       "      <td>73</td>\n",
       "      <td>0</td>\n",
       "    </tr>\n",
       "    <tr>\n",
       "      <th>11</th>\n",
       "      <td>Georgia</td>\n",
       "      <td>1988</td>\n",
       "      <td>1203</td>\n",
       "      <td>4006</td>\n",
       "      <td>1008</td>\n",
       "      <td>229</td>\n",
       "      <td>0</td>\n",
       "    </tr>\n",
       "    <tr>\n",
       "      <th>10</th>\n",
       "      <td>Florida</td>\n",
       "      <td>1634</td>\n",
       "      <td>1092</td>\n",
       "      <td>4893</td>\n",
       "      <td>974</td>\n",
       "      <td>185</td>\n",
       "      <td>0</td>\n",
       "    </tr>\n",
       "    <tr>\n",
       "      <th>8</th>\n",
       "      <td>Delaware</td>\n",
       "      <td>1384</td>\n",
       "      <td>762</td>\n",
       "      <td>4028</td>\n",
       "      <td>238</td>\n",
       "      <td>36</td>\n",
       "      <td>0</td>\n",
       "    </tr>\n",
       "    <tr>\n",
       "      <th>7</th>\n",
       "      <td>Connecticut</td>\n",
       "      <td>1002</td>\n",
       "      <td>431</td>\n",
       "      <td>4274</td>\n",
       "      <td>1063</td>\n",
       "      <td>113</td>\n",
       "      <td>0</td>\n",
       "    </tr>\n",
       "    <tr>\n",
       "      <th>5</th>\n",
       "      <td>California</td>\n",
       "      <td>1265</td>\n",
       "      <td>1100</td>\n",
       "      <td>5666</td>\n",
       "      <td>1665</td>\n",
       "      <td>174</td>\n",
       "      <td>0</td>\n",
       "    </tr>\n",
       "    <tr>\n",
       "      <th>1</th>\n",
       "      <td>Alabama</td>\n",
       "      <td>1545</td>\n",
       "      <td>918</td>\n",
       "      <td>3521</td>\n",
       "      <td>470</td>\n",
       "      <td>197</td>\n",
       "      <td>0</td>\n",
       "    </tr>\n",
       "    <tr>\n",
       "      <th>4</th>\n",
       "      <td>Arkansas</td>\n",
       "      <td>1627</td>\n",
       "      <td>1093</td>\n",
       "      <td>4801</td>\n",
       "      <td>1229</td>\n",
       "      <td>637</td>\n",
       "      <td>0</td>\n",
       "    </tr>\n",
       "    <tr>\n",
       "      <th>49</th>\n",
       "      <td>West Virginia</td>\n",
       "      <td>1534</td>\n",
       "      <td>1091</td>\n",
       "      <td>11957</td>\n",
       "      <td>4195</td>\n",
       "      <td>620</td>\n",
       "      <td>1</td>\n",
       "    </tr>\n",
       "    <tr>\n",
       "      <th>13</th>\n",
       "      <td>Idaho</td>\n",
       "      <td>1245</td>\n",
       "      <td>1216</td>\n",
       "      <td>4995</td>\n",
       "      <td>2967</td>\n",
       "      <td>319</td>\n",
       "      <td>2</td>\n",
       "    </tr>\n",
       "    <tr>\n",
       "      <th>16</th>\n",
       "      <td>Iowa</td>\n",
       "      <td>781</td>\n",
       "      <td>612</td>\n",
       "      <td>6001</td>\n",
       "      <td>3894</td>\n",
       "      <td>311</td>\n",
       "      <td>2</td>\n",
       "    </tr>\n",
       "    <tr>\n",
       "      <th>6</th>\n",
       "      <td>Colorado</td>\n",
       "      <td>1459</td>\n",
       "      <td>1264</td>\n",
       "      <td>6382</td>\n",
       "      <td>5259</td>\n",
       "      <td>554</td>\n",
       "      <td>2</td>\n",
       "    </tr>\n",
       "    <tr>\n",
       "      <th>17</th>\n",
       "      <td>Kansas</td>\n",
       "      <td>1165</td>\n",
       "      <td>874</td>\n",
       "      <td>6036</td>\n",
       "      <td>2135</td>\n",
       "      <td>425</td>\n",
       "      <td>2</td>\n",
       "    </tr>\n",
       "    <tr>\n",
       "      <th>42</th>\n",
       "      <td>South Dakota</td>\n",
       "      <td>1367</td>\n",
       "      <td>957</td>\n",
       "      <td>7353</td>\n",
       "      <td>4245</td>\n",
       "      <td>888</td>\n",
       "      <td>2</td>\n",
       "    </tr>\n",
       "    <tr>\n",
       "      <th>3</th>\n",
       "      <td>Arizona</td>\n",
       "      <td>1899</td>\n",
       "      <td>1377</td>\n",
       "      <td>5505</td>\n",
       "      <td>4078</td>\n",
       "      <td>1275</td>\n",
       "      <td>2</td>\n",
       "    </tr>\n",
       "    <tr>\n",
       "      <th>37</th>\n",
       "      <td>Oklahoma</td>\n",
       "      <td>1950</td>\n",
       "      <td>1603</td>\n",
       "      <td>6976</td>\n",
       "      <td>1817</td>\n",
       "      <td>498</td>\n",
       "      <td>2</td>\n",
       "    </tr>\n",
       "    <tr>\n",
       "      <th>51</th>\n",
       "      <td>Wyoming</td>\n",
       "      <td>1066</td>\n",
       "      <td>959</td>\n",
       "      <td>4885</td>\n",
       "      <td>3599</td>\n",
       "      <td>416</td>\n",
       "      <td>2</td>\n",
       "    </tr>\n",
       "    <tr>\n",
       "      <th>38</th>\n",
       "      <td>Oregon</td>\n",
       "      <td>1055</td>\n",
       "      <td>986</td>\n",
       "      <td>5490</td>\n",
       "      <td>2269</td>\n",
       "      <td>475</td>\n",
       "      <td>2</td>\n",
       "    </tr>\n",
       "    <tr>\n",
       "      <th>28</th>\n",
       "      <td>Nebraska</td>\n",
       "      <td>793</td>\n",
       "      <td>615</td>\n",
       "      <td>4371</td>\n",
       "      <td>3085</td>\n",
       "      <td>298</td>\n",
       "      <td>2</td>\n",
       "    </tr>\n",
       "    <tr>\n",
       "      <th>27</th>\n",
       "      <td>Montana</td>\n",
       "      <td>934</td>\n",
       "      <td>753</td>\n",
       "      <td>5071</td>\n",
       "      <td>3084</td>\n",
       "      <td>482</td>\n",
       "      <td>2</td>\n",
       "    </tr>\n",
       "    <tr>\n",
       "      <th>50</th>\n",
       "      <td>Wisconsin</td>\n",
       "      <td>1228</td>\n",
       "      <td>780</td>\n",
       "      <td>7708</td>\n",
       "      <td>4527</td>\n",
       "      <td>278</td>\n",
       "      <td>2</td>\n",
       "    </tr>\n",
       "    <tr>\n",
       "      <th>24</th>\n",
       "      <td>Minnesota</td>\n",
       "      <td>679</td>\n",
       "      <td>440</td>\n",
       "      <td>4192</td>\n",
       "      <td>4306</td>\n",
       "      <td>368</td>\n",
       "      <td>2</td>\n",
       "    </tr>\n",
       "    <tr>\n",
       "      <th>18</th>\n",
       "      <td>Kentucky</td>\n",
       "      <td>1699</td>\n",
       "      <td>1273</td>\n",
       "      <td>6733</td>\n",
       "      <td>4590</td>\n",
       "      <td>468</td>\n",
       "      <td>2</td>\n",
       "    </tr>\n",
       "    <tr>\n",
       "      <th>39</th>\n",
       "      <td>Pennsylvania</td>\n",
       "      <td>1459</td>\n",
       "      <td>728</td>\n",
       "      <td>6442</td>\n",
       "      <td>1911</td>\n",
       "      <td>301</td>\n",
       "      <td>2</td>\n",
       "    </tr>\n",
       "    <tr>\n",
       "      <th>30</th>\n",
       "      <td>New Hampshire</td>\n",
       "      <td>671</td>\n",
       "      <td>632</td>\n",
       "      <td>3750</td>\n",
       "      <td>1531</td>\n",
       "      <td>156</td>\n",
       "      <td>3</td>\n",
       "    </tr>\n",
       "    <tr>\n",
       "      <th>46</th>\n",
       "      <td>Vermont</td>\n",
       "      <td>464</td>\n",
       "      <td>413</td>\n",
       "      <td>3526</td>\n",
       "      <td>2387</td>\n",
       "      <td>57</td>\n",
       "      <td>3</td>\n",
       "    </tr>\n",
       "    <tr>\n",
       "      <th>34</th>\n",
       "      <td>North Carolina</td>\n",
       "      <td>1213</td>\n",
       "      <td>682</td>\n",
       "      <td>3311</td>\n",
       "      <td>1659</td>\n",
       "      <td>203</td>\n",
       "      <td>3</td>\n",
       "    </tr>\n",
       "    <tr>\n",
       "      <th>33</th>\n",
       "      <td>New York</td>\n",
       "      <td>945</td>\n",
       "      <td>497</td>\n",
       "      <td>3361</td>\n",
       "      <td>1316</td>\n",
       "      <td>104</td>\n",
       "      <td>3</td>\n",
       "    </tr>\n",
       "    <tr>\n",
       "      <th>40</th>\n",
       "      <td>Rhode Island</td>\n",
       "      <td>701</td>\n",
       "      <td>447</td>\n",
       "      <td>3601</td>\n",
       "      <td>772</td>\n",
       "      <td>308</td>\n",
       "      <td>3</td>\n",
       "    </tr>\n",
       "    <tr>\n",
       "      <th>2</th>\n",
       "      <td>Alaska</td>\n",
       "      <td>947</td>\n",
       "      <td>602</td>\n",
       "      <td>2070</td>\n",
       "      <td>2492</td>\n",
       "      <td>236</td>\n",
       "      <td>3</td>\n",
       "    </tr>\n",
       "    <tr>\n",
       "      <th>21</th>\n",
       "      <td>Maryland</td>\n",
       "      <td>1188</td>\n",
       "      <td>587</td>\n",
       "      <td>2901</td>\n",
       "      <td>352</td>\n",
       "      <td>62</td>\n",
       "      <td>3</td>\n",
       "    </tr>\n",
       "    <tr>\n",
       "      <th>20</th>\n",
       "      <td>Maine</td>\n",
       "      <td>511</td>\n",
       "      <td>481</td>\n",
       "      <td>2655</td>\n",
       "      <td>1297</td>\n",
       "      <td>322</td>\n",
       "      <td>3</td>\n",
       "    </tr>\n",
       "    <tr>\n",
       "      <th>12</th>\n",
       "      <td>Hawaii</td>\n",
       "      <td>672</td>\n",
       "      <td>614</td>\n",
       "      <td>1462</td>\n",
       "      <td>810</td>\n",
       "      <td>412</td>\n",
       "      <td>3</td>\n",
       "    </tr>\n",
       "    <tr>\n",
       "      <th>35</th>\n",
       "      <td>North Dakota</td>\n",
       "      <td>645</td>\n",
       "      <td>454</td>\n",
       "      <td>2580</td>\n",
       "      <td>3331</td>\n",
       "      <td>59</td>\n",
       "      <td>3</td>\n",
       "    </tr>\n",
       "    <tr>\n",
       "      <th>9</th>\n",
       "      <td>District of Columbia</td>\n",
       "      <td>1093</td>\n",
       "      <td>138</td>\n",
       "      <td>1974</td>\n",
       "      <td>1846</td>\n",
       "      <td>204</td>\n",
       "      <td>3</td>\n",
       "    </tr>\n",
       "    <tr>\n",
       "      <th>22</th>\n",
       "      <td>Massachusetts</td>\n",
       "      <td>718</td>\n",
       "      <td>587</td>\n",
       "      <td>2923</td>\n",
       "      <td>1815</td>\n",
       "      <td>123</td>\n",
       "      <td>3</td>\n",
       "    </tr>\n",
       "    <tr>\n",
       "      <th>52</th>\n",
       "      <td>Puerto Rico</td>\n",
       "      <td>701</td>\n",
       "      <td>640</td>\n",
       "      <td>1162</td>\n",
       "      <td>2158</td>\n",
       "      <td>325</td>\n",
       "      <td>3</td>\n",
       "    </tr>\n",
       "  </tbody>\n",
       "</table>\n",
       "</div>"
      ],
      "text/plain": [
       "               Geography  Male incarceration rate  \\\n",
       "26              Missouri                     1296   \n",
       "41        South Carolina                     1702   \n",
       "48            Washington                      855   \n",
       "43             Tennessee                     1338   \n",
       "36                  Ohio                     1229   \n",
       "44                 Texas                     1926   \n",
       "45                  Utah                      788   \n",
       "47              Virginia                     1509   \n",
       "0          United States                     1350   \n",
       "32            New Mexico                     1556   \n",
       "31            New Jersey                      960   \n",
       "29                Nevada                     1303   \n",
       "25           Mississippi                     2184   \n",
       "23              Michigan                     1224   \n",
       "19             Louisiana                     2517   \n",
       "15               Indiana                     1378   \n",
       "14              Illinois                     1025   \n",
       "11               Georgia                     1988   \n",
       "10               Florida                     1634   \n",
       "8               Delaware                     1384   \n",
       "7            Connecticut                     1002   \n",
       "5             California                     1265   \n",
       "1                Alabama                     1545   \n",
       "4               Arkansas                     1627   \n",
       "49         West Virginia                     1534   \n",
       "13                 Idaho                     1245   \n",
       "16                  Iowa                      781   \n",
       "6               Colorado                     1459   \n",
       "17                Kansas                     1165   \n",
       "42          South Dakota                     1367   \n",
       "3                Arizona                     1899   \n",
       "37              Oklahoma                     1950   \n",
       "51               Wyoming                     1066   \n",
       "38                Oregon                     1055   \n",
       "28              Nebraska                      793   \n",
       "27               Montana                      934   \n",
       "50             Wisconsin                     1228   \n",
       "24             Minnesota                      679   \n",
       "18              Kentucky                     1699   \n",
       "39          Pennsylvania                     1459   \n",
       "30         New Hampshire                      671   \n",
       "46               Vermont                      464   \n",
       "34        North Carolina                     1213   \n",
       "33              New York                      945   \n",
       "40          Rhode Island                      701   \n",
       "2                 Alaska                      947   \n",
       "21              Maryland                     1188   \n",
       "20                 Maine                      511   \n",
       "12                Hawaii                      672   \n",
       "35          North Dakota                      645   \n",
       "9   District of Columbia                     1093   \n",
       "22         Massachusetts                      718   \n",
       "52           Puerto Rico                      701   \n",
       "\n",
       "    Male incarceration rate: White alone  \\\n",
       "26                                   908   \n",
       "41                                   836   \n",
       "48                                   784   \n",
       "43                                   877   \n",
       "36                                   784   \n",
       "44                                  1506   \n",
       "45                                   715   \n",
       "47                                   845   \n",
       "0                                    916   \n",
       "32                                  1627   \n",
       "31                                   504   \n",
       "29                                  1171   \n",
       "25                                  1304   \n",
       "23                                   744   \n",
       "19                                  1262   \n",
       "15                                  1014   \n",
       "14                                   508   \n",
       "11                                  1203   \n",
       "10                                  1092   \n",
       "8                                    762   \n",
       "7                                    431   \n",
       "5                                   1100   \n",
       "1                                    918   \n",
       "4                                   1093   \n",
       "49                                  1091   \n",
       "13                                  1216   \n",
       "16                                   612   \n",
       "6                                   1264   \n",
       "17                                   874   \n",
       "42                                   957   \n",
       "3                                   1377   \n",
       "37                                  1603   \n",
       "51                                   959   \n",
       "38                                   986   \n",
       "28                                   615   \n",
       "27                                   753   \n",
       "50                                   780   \n",
       "24                                   440   \n",
       "18                                  1273   \n",
       "39                                   728   \n",
       "30                                   632   \n",
       "46                                   413   \n",
       "34                                   682   \n",
       "33                                   497   \n",
       "40                                   447   \n",
       "2                                    602   \n",
       "21                                   587   \n",
       "20                                   481   \n",
       "12                                   614   \n",
       "35                                   454   \n",
       "9                                    138   \n",
       "22                                   587   \n",
       "52                                   640   \n",
       "\n",
       "    Male incarceration rate: Black or African American alone  \\\n",
       "26                                               4625          \n",
       "41                                               3990          \n",
       "48                                               4073          \n",
       "43                                               3857          \n",
       "36                                               4584          \n",
       "44                                               5371          \n",
       "45                                               4368          \n",
       "47                                               4721          \n",
       "0                                                4490          \n",
       "32                                               4201          \n",
       "31                                               3995          \n",
       "29                                               4678          \n",
       "25                                               3547          \n",
       "23                                               4432          \n",
       "19                                               5406          \n",
       "15                                               5495          \n",
       "14                                               4196          \n",
       "11                                               4006          \n",
       "10                                               4893          \n",
       "8                                                4028          \n",
       "7                                                4274          \n",
       "5                                                5666          \n",
       "1                                                3521          \n",
       "4                                                4801          \n",
       "49                                              11957          \n",
       "13                                               4995          \n",
       "16                                               6001          \n",
       "6                                                6382          \n",
       "17                                               6036          \n",
       "42                                               7353          \n",
       "3                                                5505          \n",
       "37                                               6976          \n",
       "51                                               4885          \n",
       "38                                               5490          \n",
       "28                                               4371          \n",
       "27                                               5071          \n",
       "50                                               7708          \n",
       "24                                               4192          \n",
       "18                                               6733          \n",
       "39                                               6442          \n",
       "30                                               3750          \n",
       "46                                               3526          \n",
       "34                                               3311          \n",
       "33                                               3361          \n",
       "40                                               3601          \n",
       "2                                                2070          \n",
       "21                                               2901          \n",
       "20                                               2655          \n",
       "12                                               1462          \n",
       "35                                               2580          \n",
       "9                                                1974          \n",
       "22                                               2923          \n",
       "52                                               1162          \n",
       "\n",
       "    Male incarceration rate: American Indian and Alaska Native alone  \\\n",
       "26                                               1161                  \n",
       "41                                               1941                  \n",
       "48                                               2420                  \n",
       "43                                               1097                  \n",
       "36                                               1311                  \n",
       "44                                                940                  \n",
       "45                                               2604                  \n",
       "47                                               1223                  \n",
       "0                                                2223                  \n",
       "32                                               1821                  \n",
       "31                                               1332                  \n",
       "29                                               2354                  \n",
       "25                                               1890                  \n",
       "23                                               1714                  \n",
       "19                                                846                  \n",
       "15                                               1622                  \n",
       "14                                               1361                  \n",
       "11                                               1008                  \n",
       "10                                                974                  \n",
       "8                                                 238                  \n",
       "7                                                1063                  \n",
       "5                                                1665                  \n",
       "1                                                 470                  \n",
       "4                                                1229                  \n",
       "49                                               4195                  \n",
       "13                                               2967                  \n",
       "16                                               3894                  \n",
       "6                                                5259                  \n",
       "17                                               2135                  \n",
       "42                                               4245                  \n",
       "3                                                4078                  \n",
       "37                                               1817                  \n",
       "51                                               3599                  \n",
       "38                                               2269                  \n",
       "28                                               3085                  \n",
       "27                                               3084                  \n",
       "50                                               4527                  \n",
       "24                                               4306                  \n",
       "18                                               4590                  \n",
       "39                                               1911                  \n",
       "30                                               1531                  \n",
       "46                                               2387                  \n",
       "34                                               1659                  \n",
       "33                                               1316                  \n",
       "40                                                772                  \n",
       "2                                                2492                  \n",
       "21                                                352                  \n",
       "20                                               1297                  \n",
       "12                                                810                  \n",
       "35                                               3331                  \n",
       "9                                                1846                  \n",
       "22                                               1815                  \n",
       "52                                               2158                  \n",
       "\n",
       "    Male incarceration rate: Asian alone  cluster  \n",
       "26                                    72        0  \n",
       "41                                   302        0  \n",
       "48                                   200        0  \n",
       "43                                   215        0  \n",
       "36                                   247        0  \n",
       "44                                   321        0  \n",
       "45                                   292        0  \n",
       "47                                   126        0  \n",
       "0                                    215        0  \n",
       "32                                   424        0  \n",
       "31                                    94        0  \n",
       "29                                   410        0  \n",
       "25                                  1440        0  \n",
       "23                                   162        0  \n",
       "19                                   305        0  \n",
       "15                                   141        0  \n",
       "14                                    73        0  \n",
       "11                                   229        0  \n",
       "10                                   185        0  \n",
       "8                                     36        0  \n",
       "7                                    113        0  \n",
       "5                                    174        0  \n",
       "1                                    197        0  \n",
       "4                                    637        0  \n",
       "49                                   620        1  \n",
       "13                                   319        2  \n",
       "16                                   311        2  \n",
       "6                                    554        2  \n",
       "17                                   425        2  \n",
       "42                                   888        2  \n",
       "3                                   1275        2  \n",
       "37                                   498        2  \n",
       "51                                   416        2  \n",
       "38                                   475        2  \n",
       "28                                   298        2  \n",
       "27                                   482        2  \n",
       "50                                   278        2  \n",
       "24                                   368        2  \n",
       "18                                   468        2  \n",
       "39                                   301        2  \n",
       "30                                   156        3  \n",
       "46                                    57        3  \n",
       "34                                   203        3  \n",
       "33                                   104        3  \n",
       "40                                   308        3  \n",
       "2                                    236        3  \n",
       "21                                    62        3  \n",
       "20                                   322        3  \n",
       "12                                   412        3  \n",
       "35                                    59        3  \n",
       "9                                    204        3  \n",
       "22                                   123        3  \n",
       "52                                   325        3  "
      ]
     },
     "execution_count": 23,
     "metadata": {},
     "output_type": "execute_result"
    }
   ],
   "source": [
    "data = data.sort_values(by='cluster', ascending=True)\n",
    "\n",
    "(data)"
   ]
  },
  {
   "attachments": {},
   "cell_type": "markdown",
   "metadata": {},
   "source": [
    "The clusters represent groups of regions that have similar male incarceration rates. Each region is assigned to a cluster based on the similarity of its male incarceration rates to the average male incarceration rates of the cluster. This means that regions in the same cluster have similar male incarceration rates, while regions in different clusters have different male incarceration rates."
   ]
  },
  {
   "cell_type": "code",
   "execution_count": null,
   "metadata": {},
   "outputs": [
    {
     "name": "stdout",
     "output_type": "stream",
     "text": [
      "         Male incarceration rate  Male incarceration rate: White alone  \\\n",
      "cluster                                                                  \n",
      "0                    1441.041667                            954.333333   \n",
      "1                    1534.000000                           1091.000000   \n",
      "2                    1251.933333                            962.466667   \n",
      "3                     805.307692                            521.076923   \n",
      "\n",
      "         Male incarceration rate: Black or African American alone  \\\n",
      "cluster                                                             \n",
      "0                                              4467.416667          \n",
      "1                                             11957.000000          \n",
      "2                                              5876.000000          \n",
      "3                                              2713.538462          \n",
      "\n",
      "         Male incarceration rate: American Indian and Alaska Native alone  \\\n",
      "cluster                                                                     \n",
      "0                                              1437.791667                  \n",
      "1                                              4195.000000                  \n",
      "2                                              3451.066667                  \n",
      "3                                              1674.307692                  \n",
      "\n",
      "         Male incarceration rate: Asian alone  \n",
      "cluster                                        \n",
      "0                                  275.416667  \n",
      "1                                  620.000000  \n",
      "2                                  490.400000  \n",
      "3                                  197.769231  \n"
     ]
    },
    {
     "name": "stderr",
     "output_type": "stream",
     "text": [
      "/var/folders/yn/4nkcf4bx0tl9zps6_x1krghm0000gn/T/ipykernel_63077/976828816.py:5: FutureWarning: The default value of numeric_only in DataFrameGroupBy.mean is deprecated. In a future version, numeric_only will default to False. Either specify numeric_only or select only columns which should be valid for the function.\n",
      "  cluster_means = clustered_data.groupby('cluster').mean()\n"
     ]
    }
   ],
   "source": [
    "# create a new DataFrame with the cluster assignments\n",
    "clustered_data = data.assign(cluster=kmeans.labels_)\n",
    "\n",
    "# calculate the mean values of the features for each cluster\n",
    "cluster_means = clustered_data.groupby('cluster').mean()\n",
    "\n",
    "# display the result\n",
    "print(cluster_means)"
   ]
  },
  {
   "attachments": {},
   "cell_type": "markdown",
   "metadata": {},
   "source": [
    "-    Cluster 0 has a relatively low overall male incarceration rate (1441), and the lowest rates for Black and Asian men compared to the other clusters. The rate for American Indian and Alaska Native men is the second highest among all clusters, after cluster 1.\n",
    "-    Cluster 1 has the highest overall male incarceration rate (1534), and the highest rates for Black and American Indian and Alaska Native men compared to the other clusters. The rate for White men is also the highest among all clusters.\n",
    "-    Cluster 2 has a moderately high overall male incarceration rate (1251), and the second highest rate for Black men compared to cluster 1. The rate for American Indian and Alaska Native men is also high in this cluster.\n",
    "-    Cluster 3 has the lowest overall male incarceration rate (805), and the lowest rates for White, Black, and American Indian and Alaska Native men compared to the other clusters. The rate for Asian men is also the lowest among all clusters.\n",
    "\n",
    "These interpretations should be taken with caution and further analysis is needed to understand the factors that contribute to these differences in male incarceration rates across races and clusters."
   ]
  },
  {
   "attachments": {},
   "cell_type": "markdown",
   "metadata": {},
   "source": [
    "-     Cluster 0 has a relatively low overall male incarceration rate (1388), and also the lowest rates for white and Asian men compared to the other clusters. However, the rate for Black men is the highest among all clusters (4769).\n",
    "-     Cluster 1 also has a relatively low overall male incarceration rate (1272), but higher rates for white and Asian men compared to cluster 0. The rate for Black men is even higher than in cluster 0 (6094).\n",
    "-     Cluster 2 has the lowest overall male incarceration rate (858), and also the lowest rates for white and Black men. The rate for Asian men is the lowest among all clusters (197).\n",
    "-     Cluster 3 has the highest overall male incarceration rate (1534), and the highest rates for all races. The rate for Black men is the highest among all clusters by a large margin (11957)."
   ]
  },
  {
   "cell_type": "code",
   "execution_count": null,
   "metadata": {},
   "outputs": [
    {
     "name": "stderr",
     "output_type": "stream",
     "text": [
      "/Users/lorenzomendoza/opt/anaconda3/envs/machinelearning/lib/python3.11/site-packages/sklearn/cluster/_kmeans.py:870: FutureWarning: The default value of `n_init` will change from 10 to 'auto' in 1.4. Set the value of `n_init` explicitly to suppress the warning\n",
      "  warnings.warn(\n"
     ]
    },
    {
     "name": "stdout",
     "output_type": "stream",
     "text": [
      "0     0\n",
      "1     0\n",
      "2     3\n",
      "3     2\n",
      "4     0\n",
      "5     0\n",
      "6     2\n",
      "7     0\n",
      "8     0\n",
      "9     3\n",
      "10    0\n",
      "11    0\n",
      "12    3\n",
      "13    2\n",
      "14    0\n",
      "15    0\n",
      "16    2\n",
      "17    2\n",
      "18    2\n",
      "19    0\n",
      "20    3\n",
      "21    3\n",
      "22    3\n",
      "23    0\n",
      "24    2\n",
      "25    0\n",
      "26    0\n",
      "27    2\n",
      "28    2\n",
      "29    0\n",
      "30    3\n",
      "31    0\n",
      "32    0\n",
      "33    3\n",
      "34    3\n",
      "35    3\n",
      "36    0\n",
      "37    2\n",
      "38    2\n",
      "39    2\n",
      "40    3\n",
      "41    0\n",
      "42    2\n",
      "43    0\n",
      "44    0\n",
      "45    0\n",
      "46    3\n",
      "47    0\n",
      "48    0\n",
      "49    1\n",
      "50    2\n",
      "51    2\n",
      "52    3\n",
      "Name: cluster, dtype: int32\n",
      "       Geography  Male incarceration rate  \\\n",
      "0  United States                     1350   \n",
      "1        Alabama                     1545   \n",
      "2         Alaska                      947   \n",
      "3        Arizona                     1899   \n",
      "4       Arkansas                     1627   \n",
      "\n",
      "   Male incarceration rate: White alone  \\\n",
      "0                                   916   \n",
      "1                                   918   \n",
      "2                                   602   \n",
      "3                                  1377   \n",
      "4                                  1093   \n",
      "\n",
      "   Male incarceration rate: Black or African American alone  \\\n",
      "0                                               4490          \n",
      "1                                               3521          \n",
      "2                                               2070          \n",
      "3                                               5505          \n",
      "4                                               4801          \n",
      "\n",
      "   Male incarceration rate: American Indian and Alaska Native alone  \\\n",
      "0                                               2223                  \n",
      "1                                                470                  \n",
      "2                                               2492                  \n",
      "3                                               4078                  \n",
      "4                                               1229                  \n",
      "\n",
      "   Male incarceration rate: Asian alone  cluster  \n",
      "0                                   215        0  \n",
      "1                                   197        0  \n",
      "2                                   236        3  \n",
      "3                                  1275        2  \n",
      "4                                   637        0  \n"
     ]
    }
   ],
   "source": [
    "data['cluster'] = kmeans.fit_predict(X)\n",
    "print(data['cluster'])\n",
    "print(data.head())\n"
   ]
  },
  {
   "attachments": {},
   "cell_type": "markdown",
   "metadata": {},
   "source": [
    "In this code, after performing PCA to reduce the dimensionality of the data, the two principal components that capture the most variance in the data are selected and plotted on the scatter plot. The horizontal axis is labeled as \"PC1\", and the vertical axis is labeled as \"PC2\".\n",
    "\n",
    "PCA transforms the original variables into a new set of variables (the principal components) that are linear combinations of the original variables. The first principal component (PC1) is the linear combination that captures the most variance in the data, and the second principal component (PC2) captures the second most variance, and so on. By plotting the data on the two principal components with the most variance, we can visualize the data in two dimensions and capture the majority of the information in the original data.\n",
    "\n",
    "Therefore, the \"PC1\" and \"PC2\" axes represent the two principal components that capture the most variance in the data after performing PCA. They are not the original variables in the dataset, but rather, they are new variables that are created based on the original variables."
   ]
  },
  {
   "attachments": {},
   "cell_type": "markdown",
   "metadata": {},
   "source": [
    "The lines ax.set_xlabel('PC1') and ax.set_ylabel('PC2') add x-axis and y-axis labels to the scatter plot. In this case, PC1 and PC2 refer to the first and second principal components, respectively, that were generated through PCA. PC1 and PC2 are new variables that were created by combining the original variables (in this case, the different male incarceration rates for different races) in a way that captures the maximum amount of variation in the data. Adding the labels helps the reader understand what the x- and y-axes represent and how to interpret the plot"
   ]
  },
  {
   "cell_type": "code",
   "execution_count": null,
   "metadata": {},
   "outputs": [
    {
     "name": "stderr",
     "output_type": "stream",
     "text": [
      "/Users/lorenzomendoza/opt/anaconda3/envs/machinelearning/lib/python3.11/site-packages/sklearn/base.py:420: UserWarning: X does not have valid feature names, but PCA was fitted with feature names\n",
      "  warnings.warn(\n"
     ]
    },
    {
     "ename": "ValueError",
     "evalue": "X has 5 features, but PCA is expecting 6 features as input.",
     "output_type": "error",
     "traceback": [
      "\u001b[0;31m---------------------------------------------------------------------------\u001b[0m",
      "\u001b[0;31mValueError\u001b[0m                                Traceback (most recent call last)",
      "Cell \u001b[0;32mIn[25], line 7\u001b[0m\n\u001b[1;32m      4\u001b[0m plt\u001b[39m.\u001b[39mscatter(principal_components[:, \u001b[39m0\u001b[39m], principal_components[:, \u001b[39m1\u001b[39m], c\u001b[39m=\u001b[39mdata[\u001b[39m'\u001b[39m\u001b[39mcluster\u001b[39m\u001b[39m'\u001b[39m], cmap\u001b[39m=\u001b[39m\u001b[39m'\u001b[39m\u001b[39mviridis\u001b[39m\u001b[39m'\u001b[39m)\n\u001b[1;32m      6\u001b[0m \u001b[39m# add cluster centers as red circles\u001b[39;00m\n\u001b[0;32m----> 7\u001b[0m cluster_centers \u001b[39m=\u001b[39m pca\u001b[39m.\u001b[39;49mtransform(kmeans\u001b[39m.\u001b[39;49mcluster_centers_)\n\u001b[1;32m      8\u001b[0m \u001b[39mfor\u001b[39;00m i \u001b[39min\u001b[39;00m \u001b[39mrange\u001b[39m(kmeans\u001b[39m.\u001b[39mn_clusters):\n\u001b[1;32m      9\u001b[0m     plt\u001b[39m.\u001b[39mscatter(cluster_centers[i, \u001b[39m0\u001b[39m], cluster_centers[i, \u001b[39m1\u001b[39m], s\u001b[39m=\u001b[39m\u001b[39m200\u001b[39m, c\u001b[39m=\u001b[39m\u001b[39m'\u001b[39m\u001b[39mred\u001b[39m\u001b[39m'\u001b[39m, marker\u001b[39m=\u001b[39m\u001b[39m'\u001b[39m\u001b[39mo\u001b[39m\u001b[39m'\u001b[39m, alpha\u001b[39m=\u001b[39m\u001b[39m0.75\u001b[39m)\n",
      "File \u001b[0;32m~/opt/anaconda3/envs/machinelearning/lib/python3.11/site-packages/sklearn/utils/_set_output.py:142\u001b[0m, in \u001b[0;36m_wrap_method_output.<locals>.wrapped\u001b[0;34m(self, X, *args, **kwargs)\u001b[0m\n\u001b[1;32m    140\u001b[0m \u001b[39m@wraps\u001b[39m(f)\n\u001b[1;32m    141\u001b[0m \u001b[39mdef\u001b[39;00m \u001b[39mwrapped\u001b[39m(\u001b[39mself\u001b[39m, X, \u001b[39m*\u001b[39margs, \u001b[39m*\u001b[39m\u001b[39m*\u001b[39mkwargs):\n\u001b[0;32m--> 142\u001b[0m     data_to_wrap \u001b[39m=\u001b[39m f(\u001b[39mself\u001b[39;49m, X, \u001b[39m*\u001b[39;49margs, \u001b[39m*\u001b[39;49m\u001b[39m*\u001b[39;49mkwargs)\n\u001b[1;32m    143\u001b[0m     \u001b[39mif\u001b[39;00m \u001b[39misinstance\u001b[39m(data_to_wrap, \u001b[39mtuple\u001b[39m):\n\u001b[1;32m    144\u001b[0m         \u001b[39m# only wrap the first output for cross decomposition\u001b[39;00m\n\u001b[1;32m    145\u001b[0m         \u001b[39mreturn\u001b[39;00m (\n\u001b[1;32m    146\u001b[0m             _wrap_data_with_container(method, data_to_wrap[\u001b[39m0\u001b[39m], X, \u001b[39mself\u001b[39m),\n\u001b[1;32m    147\u001b[0m             \u001b[39m*\u001b[39mdata_to_wrap[\u001b[39m1\u001b[39m:],\n\u001b[1;32m    148\u001b[0m         )\n",
      "File \u001b[0;32m~/opt/anaconda3/envs/machinelearning/lib/python3.11/site-packages/sklearn/decomposition/_base.py:120\u001b[0m, in \u001b[0;36m_BasePCA.transform\u001b[0;34m(self, X)\u001b[0m\n\u001b[1;32m    101\u001b[0m \u001b[39m\u001b[39m\u001b[39m\"\"\"Apply dimensionality reduction to X.\u001b[39;00m\n\u001b[1;32m    102\u001b[0m \n\u001b[1;32m    103\u001b[0m \u001b[39mX is projected on the first principal components previously extracted\u001b[39;00m\n\u001b[0;32m   (...)\u001b[0m\n\u001b[1;32m    116\u001b[0m \u001b[39m    is the number of samples and `n_components` is the number of the components.\u001b[39;00m\n\u001b[1;32m    117\u001b[0m \u001b[39m\"\"\"\u001b[39;00m\n\u001b[1;32m    118\u001b[0m check_is_fitted(\u001b[39mself\u001b[39m)\n\u001b[0;32m--> 120\u001b[0m X \u001b[39m=\u001b[39m \u001b[39mself\u001b[39;49m\u001b[39m.\u001b[39;49m_validate_data(X, dtype\u001b[39m=\u001b[39;49m[np\u001b[39m.\u001b[39;49mfloat64, np\u001b[39m.\u001b[39;49mfloat32], reset\u001b[39m=\u001b[39;49m\u001b[39mFalse\u001b[39;49;00m)\n\u001b[1;32m    121\u001b[0m \u001b[39mif\u001b[39;00m \u001b[39mself\u001b[39m\u001b[39m.\u001b[39mmean_ \u001b[39mis\u001b[39;00m \u001b[39mnot\u001b[39;00m \u001b[39mNone\u001b[39;00m:\n\u001b[1;32m    122\u001b[0m     X \u001b[39m=\u001b[39m X \u001b[39m-\u001b[39m \u001b[39mself\u001b[39m\u001b[39m.\u001b[39mmean_\n",
      "File \u001b[0;32m~/opt/anaconda3/envs/machinelearning/lib/python3.11/site-packages/sklearn/base.py:569\u001b[0m, in \u001b[0;36mBaseEstimator._validate_data\u001b[0;34m(self, X, y, reset, validate_separately, **check_params)\u001b[0m\n\u001b[1;32m    566\u001b[0m     out \u001b[39m=\u001b[39m X, y\n\u001b[1;32m    568\u001b[0m \u001b[39mif\u001b[39;00m \u001b[39mnot\u001b[39;00m no_val_X \u001b[39mand\u001b[39;00m check_params\u001b[39m.\u001b[39mget(\u001b[39m\"\u001b[39m\u001b[39mensure_2d\u001b[39m\u001b[39m\"\u001b[39m, \u001b[39mTrue\u001b[39;00m):\n\u001b[0;32m--> 569\u001b[0m     \u001b[39mself\u001b[39;49m\u001b[39m.\u001b[39;49m_check_n_features(X, reset\u001b[39m=\u001b[39;49mreset)\n\u001b[1;32m    571\u001b[0m \u001b[39mreturn\u001b[39;00m out\n",
      "File \u001b[0;32m~/opt/anaconda3/envs/machinelearning/lib/python3.11/site-packages/sklearn/base.py:370\u001b[0m, in \u001b[0;36mBaseEstimator._check_n_features\u001b[0;34m(self, X, reset)\u001b[0m\n\u001b[1;32m    367\u001b[0m     \u001b[39mreturn\u001b[39;00m\n\u001b[1;32m    369\u001b[0m \u001b[39mif\u001b[39;00m n_features \u001b[39m!=\u001b[39m \u001b[39mself\u001b[39m\u001b[39m.\u001b[39mn_features_in_:\n\u001b[0;32m--> 370\u001b[0m     \u001b[39mraise\u001b[39;00m \u001b[39mValueError\u001b[39;00m(\n\u001b[1;32m    371\u001b[0m         \u001b[39mf\u001b[39m\u001b[39m\"\u001b[39m\u001b[39mX has \u001b[39m\u001b[39m{\u001b[39;00mn_features\u001b[39m}\u001b[39;00m\u001b[39m features, but \u001b[39m\u001b[39m{\u001b[39;00m\u001b[39mself\u001b[39m\u001b[39m.\u001b[39m\u001b[39m__class__\u001b[39m\u001b[39m.\u001b[39m\u001b[39m__name__\u001b[39m\u001b[39m}\u001b[39;00m\u001b[39m \u001b[39m\u001b[39m\"\u001b[39m\n\u001b[1;32m    372\u001b[0m         \u001b[39mf\u001b[39m\u001b[39m\"\u001b[39m\u001b[39mis expecting \u001b[39m\u001b[39m{\u001b[39;00m\u001b[39mself\u001b[39m\u001b[39m.\u001b[39mn_features_in_\u001b[39m}\u001b[39;00m\u001b[39m features as input.\u001b[39m\u001b[39m\"\u001b[39m\n\u001b[1;32m    373\u001b[0m     )\n",
      "\u001b[0;31mValueError\u001b[0m: X has 5 features, but PCA is expecting 6 features as input."
     ]
    },
    {
     "data": {
      "image/png": "[encoded data removed]",
      "text/plain": [
       "<Figure size 640x480 with 1 Axes>"
      ]
     },
     "metadata": {},
     "output_type": "display_data"
    }
   ],
   "source": [
    "# create a scatter plot of the first two principal components with cluster colors\n",
    "pca = PCA(n_components=2)\n",
    "principal_components = pca.fit_transform(data)\n",
    "plt.scatter(principal_components[:, 0], principal_components[:, 1], c=data['cluster'], cmap='viridis')\n",
    "\n",
    "# add cluster centers as red circles\n",
    "cluster_centers = pca.transform(kmeans.cluster_centers_)\n",
    "for i in range(kmeans.n_clusters):\n",
    "    plt.scatter(cluster_centers[i, 0], cluster_centers[i, 1], s=200, c='red', marker='o', alpha=0.75)\n",
    "\n",
    "# add cluster ellipses\n",
    "for i in range(kmeans.n_clusters):\n",
    "    cov_matrix = np.cov(principal_components[data['cluster'] == i].T)\n",
    "    lambda_, v = np.linalg.eig(cov_matrix)\n",
    "    lambda_ = np.sqrt(lambda_)\n",
    "    ellipse = Ellipse(xy=cluster_centers[i], width=lambda_[0]*2, height=lambda_[1]*2, angle=np.rad2deg(np.arccos(v[0, 0])), edgecolor='red', fc='None', lw=2)\n",
    "    plt.gca().add_patch(ellipse)\n",
    "\n",
    "# add axis labels and title\n",
    "plt.xlabel('Principal Component 1')\n",
    "plt.ylabel('Principal Component 2')\n",
    "plt.title('K-Means Clustering of Male Incarceration Rates by Race/Ethnicity')\n",
    "\n",
    "# show the plot\n",
    "plt.show()\n"
   ]
  },
  {
   "cell_type": "code",
   "execution_count": null,
   "metadata": {},
   "outputs": [
    {
     "name": "stderr",
     "output_type": "stream",
     "text": [
      "/Users/lorenzomendoza/opt/anaconda3/envs/machinelearning/lib/python3.11/site-packages/sklearn/cluster/_kmeans.py:870: FutureWarning: The default value of `n_init` will change from 10 to 'auto' in 1.4. Set the value of `n_init` explicitly to suppress the warning\n",
      "  warnings.warn(\n"
     ]
    }
   ],
   "source": [
    "from sklearn.cluster import KMeans\n",
    "\n",
    "# load data into pandas DataFrame\n",
    "data = pd.read_csv('male_incarceration_rates.tsv', delimiter='\\t')\n",
    "\n",
    "# select columns of interest\n",
    "columns = ['Geography', 'Male incarceration rate', 'Male incarceration rate: White alone', 'Male incarceration rate: Black or African American alone', 'Male incarceration rate: American Indian and Alaska Native alone', 'Male incarceration rate: Asian alone']\n",
    "data = data[columns]\n",
    "# replace commas with empty string and convert to integer\n",
    "data['Male incarceration rate'] = data['Male incarceration rate'].str.replace(',', '').astype(int)\n",
    "data['Male incarceration rate: White alone'] = data['Male incarceration rate: White alone'].str.replace(',', '').astype(int)\n",
    "data['Male incarceration rate: Black or African American alone'] = data['Male incarceration rate: Black or African American alone'].str.replace(',', '').astype(int)\n",
    "data['Male incarceration rate: American Indian and Alaska Native alone'] = data['Male incarceration rate: American Indian and Alaska Native alone'].str.replace(',', '').astype(int)\n",
    "data['Male incarceration rate: Asian alone'] = data['Male incarceration rate: Asian alone'].str.replace(',', '').astype(int)\n",
    "\n",
    "\n",
    "# one-hot encode the geography column\n",
    "data = pd.get_dummies(data, columns=['Geography'])\n",
    "\n",
    "# create a new DataFrame with only the numeric columns\n",
    "numeric_data = data.select_dtypes(include=[np.number])\n",
    "\n",
    "# fit the k-means clustering algorithm to the numeric data\n",
    "kmeans = KMeans(n_clusters=3)\n",
    "kmeans.fit(numeric_data)\n",
    "\n",
    "# add the cluster labels to the original DataFrame\n",
    "data['cluster'] = kmeans.labels_"
   ]
  },
  {
   "cell_type": "code",
   "execution_count": null,
   "metadata": {},
   "outputs": [
    {
     "data": {
      "text/html": [
       "<div>\n",
       "<style scoped>\n",
       "    .dataframe tbody tr th:only-of-type {\n",
       "        vertical-align: middle;\n",
       "    }\n",
       "\n",
       "    .dataframe tbody tr th {\n",
       "        vertical-align: top;\n",
       "    }\n",
       "\n",
       "    .dataframe thead th {\n",
       "        text-align: right;\n",
       "    }\n",
       "</style>\n",
       "<table border=\"1\" class=\"dataframe\">\n",
       "  <thead>\n",
       "    <tr style=\"text-align: right;\">\n",
       "      <th></th>\n",
       "      <th>Male incarceration rate</th>\n",
       "      <th>Male incarceration rate: White alone</th>\n",
       "      <th>Male incarceration rate: Black or African American alone</th>\n",
       "      <th>Male incarceration rate: American Indian and Alaska Native alone</th>\n",
       "      <th>Male incarceration rate: Asian alone</th>\n",
       "      <th>Geography_Alabama</th>\n",
       "      <th>Geography_Alaska</th>\n",
       "      <th>Geography_Arizona</th>\n",
       "      <th>Geography_Arkansas</th>\n",
       "      <th>Geography_California</th>\n",
       "      <th>...</th>\n",
       "      <th>Geography_Texas</th>\n",
       "      <th>Geography_United States</th>\n",
       "      <th>Geography_Utah</th>\n",
       "      <th>Geography_Vermont</th>\n",
       "      <th>Geography_Virginia</th>\n",
       "      <th>Geography_Washington</th>\n",
       "      <th>Geography_West Virginia</th>\n",
       "      <th>Geography_Wisconsin</th>\n",
       "      <th>Geography_Wyoming</th>\n",
       "      <th>cluster</th>\n",
       "    </tr>\n",
       "  </thead>\n",
       "  <tbody>\n",
       "    <tr>\n",
       "      <th>0</th>\n",
       "      <td>1350</td>\n",
       "      <td>916</td>\n",
       "      <td>4490</td>\n",
       "      <td>2223</td>\n",
       "      <td>215</td>\n",
       "      <td>0</td>\n",
       "      <td>0</td>\n",
       "      <td>0</td>\n",
       "      <td>0</td>\n",
       "      <td>0</td>\n",
       "      <td>...</td>\n",
       "      <td>0</td>\n",
       "      <td>1</td>\n",
       "      <td>0</td>\n",
       "      <td>0</td>\n",
       "      <td>0</td>\n",
       "      <td>0</td>\n",
       "      <td>0</td>\n",
       "      <td>0</td>\n",
       "      <td>0</td>\n",
       "      <td>2</td>\n",
       "    </tr>\n",
       "    <tr>\n",
       "      <th>1</th>\n",
       "      <td>1545</td>\n",
       "      <td>918</td>\n",
       "      <td>3521</td>\n",
       "      <td>470</td>\n",
       "      <td>197</td>\n",
       "      <td>1</td>\n",
       "      <td>0</td>\n",
       "      <td>0</td>\n",
       "      <td>0</td>\n",
       "      <td>0</td>\n",
       "      <td>...</td>\n",
       "      <td>0</td>\n",
       "      <td>0</td>\n",
       "      <td>0</td>\n",
       "      <td>0</td>\n",
       "      <td>0</td>\n",
       "      <td>0</td>\n",
       "      <td>0</td>\n",
       "      <td>0</td>\n",
       "      <td>0</td>\n",
       "      <td>0</td>\n",
       "    </tr>\n",
       "    <tr>\n",
       "      <th>2</th>\n",
       "      <td>947</td>\n",
       "      <td>602</td>\n",
       "      <td>2070</td>\n",
       "      <td>2492</td>\n",
       "      <td>236</td>\n",
       "      <td>0</td>\n",
       "      <td>1</td>\n",
       "      <td>0</td>\n",
       "      <td>0</td>\n",
       "      <td>0</td>\n",
       "      <td>...</td>\n",
       "      <td>0</td>\n",
       "      <td>0</td>\n",
       "      <td>0</td>\n",
       "      <td>0</td>\n",
       "      <td>0</td>\n",
       "      <td>0</td>\n",
       "      <td>0</td>\n",
       "      <td>0</td>\n",
       "      <td>0</td>\n",
       "      <td>0</td>\n",
       "    </tr>\n",
       "    <tr>\n",
       "      <th>3</th>\n",
       "      <td>1899</td>\n",
       "      <td>1377</td>\n",
       "      <td>5505</td>\n",
       "      <td>4078</td>\n",
       "      <td>1275</td>\n",
       "      <td>0</td>\n",
       "      <td>0</td>\n",
       "      <td>1</td>\n",
       "      <td>0</td>\n",
       "      <td>0</td>\n",
       "      <td>...</td>\n",
       "      <td>0</td>\n",
       "      <td>0</td>\n",
       "      <td>0</td>\n",
       "      <td>0</td>\n",
       "      <td>0</td>\n",
       "      <td>0</td>\n",
       "      <td>0</td>\n",
       "      <td>0</td>\n",
       "      <td>0</td>\n",
       "      <td>1</td>\n",
       "    </tr>\n",
       "    <tr>\n",
       "      <th>4</th>\n",
       "      <td>1627</td>\n",
       "      <td>1093</td>\n",
       "      <td>4801</td>\n",
       "      <td>1229</td>\n",
       "      <td>637</td>\n",
       "      <td>0</td>\n",
       "      <td>0</td>\n",
       "      <td>0</td>\n",
       "      <td>1</td>\n",
       "      <td>0</td>\n",
       "      <td>...</td>\n",
       "      <td>0</td>\n",
       "      <td>0</td>\n",
       "      <td>0</td>\n",
       "      <td>0</td>\n",
       "      <td>0</td>\n",
       "      <td>0</td>\n",
       "      <td>0</td>\n",
       "      <td>0</td>\n",
       "      <td>0</td>\n",
       "      <td>2</td>\n",
       "    </tr>\n",
       "    <tr>\n",
       "      <th>5</th>\n",
       "      <td>1265</td>\n",
       "      <td>1100</td>\n",
       "      <td>5666</td>\n",
       "      <td>1665</td>\n",
       "      <td>174</td>\n",
       "      <td>0</td>\n",
       "      <td>0</td>\n",
       "      <td>0</td>\n",
       "      <td>0</td>\n",
       "      <td>1</td>\n",
       "      <td>...</td>\n",
       "      <td>0</td>\n",
       "      <td>0</td>\n",
       "      <td>0</td>\n",
       "      <td>0</td>\n",
       "      <td>0</td>\n",
       "      <td>0</td>\n",
       "      <td>0</td>\n",
       "      <td>0</td>\n",
       "      <td>0</td>\n",
       "      <td>2</td>\n",
       "    </tr>\n",
       "    <tr>\n",
       "      <th>6</th>\n",
       "      <td>1459</td>\n",
       "      <td>1264</td>\n",
       "      <td>6382</td>\n",
       "      <td>5259</td>\n",
       "      <td>554</td>\n",
       "      <td>0</td>\n",
       "      <td>0</td>\n",
       "      <td>0</td>\n",
       "      <td>0</td>\n",
       "      <td>0</td>\n",
       "      <td>...</td>\n",
       "      <td>0</td>\n",
       "      <td>0</td>\n",
       "      <td>0</td>\n",
       "      <td>0</td>\n",
       "      <td>0</td>\n",
       "      <td>0</td>\n",
       "      <td>0</td>\n",
       "      <td>0</td>\n",
       "      <td>0</td>\n",
       "      <td>1</td>\n",
       "    </tr>\n",
       "    <tr>\n",
       "      <th>7</th>\n",
       "      <td>1002</td>\n",
       "      <td>431</td>\n",
       "      <td>4274</td>\n",
       "      <td>1063</td>\n",
       "      <td>113</td>\n",
       "      <td>0</td>\n",
       "      <td>0</td>\n",
       "      <td>0</td>\n",
       "      <td>0</td>\n",
       "      <td>0</td>\n",
       "      <td>...</td>\n",
       "      <td>0</td>\n",
       "      <td>0</td>\n",
       "      <td>0</td>\n",
       "      <td>0</td>\n",
       "      <td>0</td>\n",
       "      <td>0</td>\n",
       "      <td>0</td>\n",
       "      <td>0</td>\n",
       "      <td>0</td>\n",
       "      <td>0</td>\n",
       "    </tr>\n",
       "    <tr>\n",
       "      <th>8</th>\n",
       "      <td>1384</td>\n",
       "      <td>762</td>\n",
       "      <td>4028</td>\n",
       "      <td>238</td>\n",
       "      <td>36</td>\n",
       "      <td>0</td>\n",
       "      <td>0</td>\n",
       "      <td>0</td>\n",
       "      <td>0</td>\n",
       "      <td>0</td>\n",
       "      <td>...</td>\n",
       "      <td>0</td>\n",
       "      <td>0</td>\n",
       "      <td>0</td>\n",
       "      <td>0</td>\n",
       "      <td>0</td>\n",
       "      <td>0</td>\n",
       "      <td>0</td>\n",
       "      <td>0</td>\n",
       "      <td>0</td>\n",
       "      <td>0</td>\n",
       "    </tr>\n",
       "    <tr>\n",
       "      <th>9</th>\n",
       "      <td>1093</td>\n",
       "      <td>138</td>\n",
       "      <td>1974</td>\n",
       "      <td>1846</td>\n",
       "      <td>204</td>\n",
       "      <td>0</td>\n",
       "      <td>0</td>\n",
       "      <td>0</td>\n",
       "      <td>0</td>\n",
       "      <td>0</td>\n",
       "      <td>...</td>\n",
       "      <td>0</td>\n",
       "      <td>0</td>\n",
       "      <td>0</td>\n",
       "      <td>0</td>\n",
       "      <td>0</td>\n",
       "      <td>0</td>\n",
       "      <td>0</td>\n",
       "      <td>0</td>\n",
       "      <td>0</td>\n",
       "      <td>0</td>\n",
       "    </tr>\n",
       "    <tr>\n",
       "      <th>10</th>\n",
       "      <td>1634</td>\n",
       "      <td>1092</td>\n",
       "      <td>4893</td>\n",
       "      <td>974</td>\n",
       "      <td>185</td>\n",
       "      <td>0</td>\n",
       "      <td>0</td>\n",
       "      <td>0</td>\n",
       "      <td>0</td>\n",
       "      <td>0</td>\n",
       "      <td>...</td>\n",
       "      <td>0</td>\n",
       "      <td>0</td>\n",
       "      <td>0</td>\n",
       "      <td>0</td>\n",
       "      <td>0</td>\n",
       "      <td>0</td>\n",
       "      <td>0</td>\n",
       "      <td>0</td>\n",
       "      <td>0</td>\n",
       "      <td>2</td>\n",
       "    </tr>\n",
       "    <tr>\n",
       "      <th>11</th>\n",
       "      <td>1988</td>\n",
       "      <td>1203</td>\n",
       "      <td>4006</td>\n",
       "      <td>1008</td>\n",
       "      <td>229</td>\n",
       "      <td>0</td>\n",
       "      <td>0</td>\n",
       "      <td>0</td>\n",
       "      <td>0</td>\n",
       "      <td>0</td>\n",
       "      <td>...</td>\n",
       "      <td>0</td>\n",
       "      <td>0</td>\n",
       "      <td>0</td>\n",
       "      <td>0</td>\n",
       "      <td>0</td>\n",
       "      <td>0</td>\n",
       "      <td>0</td>\n",
       "      <td>0</td>\n",
       "      <td>0</td>\n",
       "      <td>0</td>\n",
       "    </tr>\n",
       "    <tr>\n",
       "      <th>12</th>\n",
       "      <td>672</td>\n",
       "      <td>614</td>\n",
       "      <td>1462</td>\n",
       "      <td>810</td>\n",
       "      <td>412</td>\n",
       "      <td>0</td>\n",
       "      <td>0</td>\n",
       "      <td>0</td>\n",
       "      <td>0</td>\n",
       "      <td>0</td>\n",
       "      <td>...</td>\n",
       "      <td>0</td>\n",
       "      <td>0</td>\n",
       "      <td>0</td>\n",
       "      <td>0</td>\n",
       "      <td>0</td>\n",
       "      <td>0</td>\n",
       "      <td>0</td>\n",
       "      <td>0</td>\n",
       "      <td>0</td>\n",
       "      <td>0</td>\n",
       "    </tr>\n",
       "    <tr>\n",
       "      <th>13</th>\n",
       "      <td>1245</td>\n",
       "      <td>1216</td>\n",
       "      <td>4995</td>\n",
       "      <td>2967</td>\n",
       "      <td>319</td>\n",
       "      <td>0</td>\n",
       "      <td>0</td>\n",
       "      <td>0</td>\n",
       "      <td>0</td>\n",
       "      <td>0</td>\n",
       "      <td>...</td>\n",
       "      <td>0</td>\n",
       "      <td>0</td>\n",
       "      <td>0</td>\n",
       "      <td>0</td>\n",
       "      <td>0</td>\n",
       "      <td>0</td>\n",
       "      <td>0</td>\n",
       "      <td>0</td>\n",
       "      <td>0</td>\n",
       "      <td>2</td>\n",
       "    </tr>\n",
       "    <tr>\n",
       "      <th>14</th>\n",
       "      <td>1025</td>\n",
       "      <td>508</td>\n",
       "      <td>4196</td>\n",
       "      <td>1361</td>\n",
       "      <td>73</td>\n",
       "      <td>0</td>\n",
       "      <td>0</td>\n",
       "      <td>0</td>\n",
       "      <td>0</td>\n",
       "      <td>0</td>\n",
       "      <td>...</td>\n",
       "      <td>0</td>\n",
       "      <td>0</td>\n",
       "      <td>0</td>\n",
       "      <td>0</td>\n",
       "      <td>0</td>\n",
       "      <td>0</td>\n",
       "      <td>0</td>\n",
       "      <td>0</td>\n",
       "      <td>0</td>\n",
       "      <td>0</td>\n",
       "    </tr>\n",
       "    <tr>\n",
       "      <th>15</th>\n",
       "      <td>1378</td>\n",
       "      <td>1014</td>\n",
       "      <td>5495</td>\n",
       "      <td>1622</td>\n",
       "      <td>141</td>\n",
       "      <td>0</td>\n",
       "      <td>0</td>\n",
       "      <td>0</td>\n",
       "      <td>0</td>\n",
       "      <td>0</td>\n",
       "      <td>...</td>\n",
       "      <td>0</td>\n",
       "      <td>0</td>\n",
       "      <td>0</td>\n",
       "      <td>0</td>\n",
       "      <td>0</td>\n",
       "      <td>0</td>\n",
       "      <td>0</td>\n",
       "      <td>0</td>\n",
       "      <td>0</td>\n",
       "      <td>2</td>\n",
       "    </tr>\n",
       "    <tr>\n",
       "      <th>16</th>\n",
       "      <td>781</td>\n",
       "      <td>612</td>\n",
       "      <td>6001</td>\n",
       "      <td>3894</td>\n",
       "      <td>311</td>\n",
       "      <td>0</td>\n",
       "      <td>0</td>\n",
       "      <td>0</td>\n",
       "      <td>0</td>\n",
       "      <td>0</td>\n",
       "      <td>...</td>\n",
       "      <td>0</td>\n",
       "      <td>0</td>\n",
       "      <td>0</td>\n",
       "      <td>0</td>\n",
       "      <td>0</td>\n",
       "      <td>0</td>\n",
       "      <td>0</td>\n",
       "      <td>0</td>\n",
       "      <td>0</td>\n",
       "      <td>1</td>\n",
       "    </tr>\n",
       "    <tr>\n",
       "      <th>17</th>\n",
       "      <td>1165</td>\n",
       "      <td>874</td>\n",
       "      <td>6036</td>\n",
       "      <td>2135</td>\n",
       "      <td>425</td>\n",
       "      <td>0</td>\n",
       "      <td>0</td>\n",
       "      <td>0</td>\n",
       "      <td>0</td>\n",
       "      <td>0</td>\n",
       "      <td>...</td>\n",
       "      <td>0</td>\n",
       "      <td>0</td>\n",
       "      <td>0</td>\n",
       "      <td>0</td>\n",
       "      <td>0</td>\n",
       "      <td>0</td>\n",
       "      <td>0</td>\n",
       "      <td>0</td>\n",
       "      <td>0</td>\n",
       "      <td>2</td>\n",
       "    </tr>\n",
       "    <tr>\n",
       "      <th>18</th>\n",
       "      <td>1699</td>\n",
       "      <td>1273</td>\n",
       "      <td>6733</td>\n",
       "      <td>4590</td>\n",
       "      <td>468</td>\n",
       "      <td>0</td>\n",
       "      <td>0</td>\n",
       "      <td>0</td>\n",
       "      <td>0</td>\n",
       "      <td>0</td>\n",
       "      <td>...</td>\n",
       "      <td>0</td>\n",
       "      <td>0</td>\n",
       "      <td>0</td>\n",
       "      <td>0</td>\n",
       "      <td>0</td>\n",
       "      <td>0</td>\n",
       "      <td>0</td>\n",
       "      <td>0</td>\n",
       "      <td>0</td>\n",
       "      <td>1</td>\n",
       "    </tr>\n",
       "    <tr>\n",
       "      <th>19</th>\n",
       "      <td>2517</td>\n",
       "      <td>1262</td>\n",
       "      <td>5406</td>\n",
       "      <td>846</td>\n",
       "      <td>305</td>\n",
       "      <td>0</td>\n",
       "      <td>0</td>\n",
       "      <td>0</td>\n",
       "      <td>0</td>\n",
       "      <td>0</td>\n",
       "      <td>...</td>\n",
       "      <td>0</td>\n",
       "      <td>0</td>\n",
       "      <td>0</td>\n",
       "      <td>0</td>\n",
       "      <td>0</td>\n",
       "      <td>0</td>\n",
       "      <td>0</td>\n",
       "      <td>0</td>\n",
       "      <td>0</td>\n",
       "      <td>2</td>\n",
       "    </tr>\n",
       "    <tr>\n",
       "      <th>20</th>\n",
       "      <td>511</td>\n",
       "      <td>481</td>\n",
       "      <td>2655</td>\n",
       "      <td>1297</td>\n",
       "      <td>322</td>\n",
       "      <td>0</td>\n",
       "      <td>0</td>\n",
       "      <td>0</td>\n",
       "      <td>0</td>\n",
       "      <td>0</td>\n",
       "      <td>...</td>\n",
       "      <td>0</td>\n",
       "      <td>0</td>\n",
       "      <td>0</td>\n",
       "      <td>0</td>\n",
       "      <td>0</td>\n",
       "      <td>0</td>\n",
       "      <td>0</td>\n",
       "      <td>0</td>\n",
       "      <td>0</td>\n",
       "      <td>0</td>\n",
       "    </tr>\n",
       "    <tr>\n",
       "      <th>21</th>\n",
       "      <td>1188</td>\n",
       "      <td>587</td>\n",
       "      <td>2901</td>\n",
       "      <td>352</td>\n",
       "      <td>62</td>\n",
       "      <td>0</td>\n",
       "      <td>0</td>\n",
       "      <td>0</td>\n",
       "      <td>0</td>\n",
       "      <td>0</td>\n",
       "      <td>...</td>\n",
       "      <td>0</td>\n",
       "      <td>0</td>\n",
       "      <td>0</td>\n",
       "      <td>0</td>\n",
       "      <td>0</td>\n",
       "      <td>0</td>\n",
       "      <td>0</td>\n",
       "      <td>0</td>\n",
       "      <td>0</td>\n",
       "      <td>0</td>\n",
       "    </tr>\n",
       "    <tr>\n",
       "      <th>22</th>\n",
       "      <td>718</td>\n",
       "      <td>587</td>\n",
       "      <td>2923</td>\n",
       "      <td>1815</td>\n",
       "      <td>123</td>\n",
       "      <td>0</td>\n",
       "      <td>0</td>\n",
       "      <td>0</td>\n",
       "      <td>0</td>\n",
       "      <td>0</td>\n",
       "      <td>...</td>\n",
       "      <td>0</td>\n",
       "      <td>0</td>\n",
       "      <td>0</td>\n",
       "      <td>0</td>\n",
       "      <td>0</td>\n",
       "      <td>0</td>\n",
       "      <td>0</td>\n",
       "      <td>0</td>\n",
       "      <td>0</td>\n",
       "      <td>0</td>\n",
       "    </tr>\n",
       "    <tr>\n",
       "      <th>23</th>\n",
       "      <td>1224</td>\n",
       "      <td>744</td>\n",
       "      <td>4432</td>\n",
       "      <td>1714</td>\n",
       "      <td>162</td>\n",
       "      <td>0</td>\n",
       "      <td>0</td>\n",
       "      <td>0</td>\n",
       "      <td>0</td>\n",
       "      <td>0</td>\n",
       "      <td>...</td>\n",
       "      <td>0</td>\n",
       "      <td>0</td>\n",
       "      <td>0</td>\n",
       "      <td>0</td>\n",
       "      <td>0</td>\n",
       "      <td>0</td>\n",
       "      <td>0</td>\n",
       "      <td>0</td>\n",
       "      <td>0</td>\n",
       "      <td>2</td>\n",
       "    </tr>\n",
       "    <tr>\n",
       "      <th>24</th>\n",
       "      <td>679</td>\n",
       "      <td>440</td>\n",
       "      <td>4192</td>\n",
       "      <td>4306</td>\n",
       "      <td>368</td>\n",
       "      <td>0</td>\n",
       "      <td>0</td>\n",
       "      <td>0</td>\n",
       "      <td>0</td>\n",
       "      <td>0</td>\n",
       "      <td>...</td>\n",
       "      <td>0</td>\n",
       "      <td>0</td>\n",
       "      <td>0</td>\n",
       "      <td>0</td>\n",
       "      <td>0</td>\n",
       "      <td>0</td>\n",
       "      <td>0</td>\n",
       "      <td>0</td>\n",
       "      <td>0</td>\n",
       "      <td>2</td>\n",
       "    </tr>\n",
       "    <tr>\n",
       "      <th>25</th>\n",
       "      <td>2184</td>\n",
       "      <td>1304</td>\n",
       "      <td>3547</td>\n",
       "      <td>1890</td>\n",
       "      <td>1440</td>\n",
       "      <td>0</td>\n",
       "      <td>0</td>\n",
       "      <td>0</td>\n",
       "      <td>0</td>\n",
       "      <td>0</td>\n",
       "      <td>...</td>\n",
       "      <td>0</td>\n",
       "      <td>0</td>\n",
       "      <td>0</td>\n",
       "      <td>0</td>\n",
       "      <td>0</td>\n",
       "      <td>0</td>\n",
       "      <td>0</td>\n",
       "      <td>0</td>\n",
       "      <td>0</td>\n",
       "      <td>0</td>\n",
       "    </tr>\n",
       "    <tr>\n",
       "      <th>26</th>\n",
       "      <td>1296</td>\n",
       "      <td>908</td>\n",
       "      <td>4625</td>\n",
       "      <td>1161</td>\n",
       "      <td>72</td>\n",
       "      <td>0</td>\n",
       "      <td>0</td>\n",
       "      <td>0</td>\n",
       "      <td>0</td>\n",
       "      <td>0</td>\n",
       "      <td>...</td>\n",
       "      <td>0</td>\n",
       "      <td>0</td>\n",
       "      <td>0</td>\n",
       "      <td>0</td>\n",
       "      <td>0</td>\n",
       "      <td>0</td>\n",
       "      <td>0</td>\n",
       "      <td>0</td>\n",
       "      <td>0</td>\n",
       "      <td>2</td>\n",
       "    </tr>\n",
       "    <tr>\n",
       "      <th>27</th>\n",
       "      <td>934</td>\n",
       "      <td>753</td>\n",
       "      <td>5071</td>\n",
       "      <td>3084</td>\n",
       "      <td>482</td>\n",
       "      <td>0</td>\n",
       "      <td>0</td>\n",
       "      <td>0</td>\n",
       "      <td>0</td>\n",
       "      <td>0</td>\n",
       "      <td>...</td>\n",
       "      <td>0</td>\n",
       "      <td>0</td>\n",
       "      <td>0</td>\n",
       "      <td>0</td>\n",
       "      <td>0</td>\n",
       "      <td>0</td>\n",
       "      <td>0</td>\n",
       "      <td>0</td>\n",
       "      <td>0</td>\n",
       "      <td>2</td>\n",
       "    </tr>\n",
       "    <tr>\n",
       "      <th>28</th>\n",
       "      <td>793</td>\n",
       "      <td>615</td>\n",
       "      <td>4371</td>\n",
       "      <td>3085</td>\n",
       "      <td>298</td>\n",
       "      <td>0</td>\n",
       "      <td>0</td>\n",
       "      <td>0</td>\n",
       "      <td>0</td>\n",
       "      <td>0</td>\n",
       "      <td>...</td>\n",
       "      <td>0</td>\n",
       "      <td>0</td>\n",
       "      <td>0</td>\n",
       "      <td>0</td>\n",
       "      <td>0</td>\n",
       "      <td>0</td>\n",
       "      <td>0</td>\n",
       "      <td>0</td>\n",
       "      <td>0</td>\n",
       "      <td>2</td>\n",
       "    </tr>\n",
       "    <tr>\n",
       "      <th>29</th>\n",
       "      <td>1303</td>\n",
       "      <td>1171</td>\n",
       "      <td>4678</td>\n",
       "      <td>2354</td>\n",
       "      <td>410</td>\n",
       "      <td>0</td>\n",
       "      <td>0</td>\n",
       "      <td>0</td>\n",
       "      <td>0</td>\n",
       "      <td>0</td>\n",
       "      <td>...</td>\n",
       "      <td>0</td>\n",
       "      <td>0</td>\n",
       "      <td>0</td>\n",
       "      <td>0</td>\n",
       "      <td>0</td>\n",
       "      <td>0</td>\n",
       "      <td>0</td>\n",
       "      <td>0</td>\n",
       "      <td>0</td>\n",
       "      <td>2</td>\n",
       "    </tr>\n",
       "    <tr>\n",
       "      <th>30</th>\n",
       "      <td>671</td>\n",
       "      <td>632</td>\n",
       "      <td>3750</td>\n",
       "      <td>1531</td>\n",
       "      <td>156</td>\n",
       "      <td>0</td>\n",
       "      <td>0</td>\n",
       "      <td>0</td>\n",
       "      <td>0</td>\n",
       "      <td>0</td>\n",
       "      <td>...</td>\n",
       "      <td>0</td>\n",
       "      <td>0</td>\n",
       "      <td>0</td>\n",
       "      <td>0</td>\n",
       "      <td>0</td>\n",
       "      <td>0</td>\n",
       "      <td>0</td>\n",
       "      <td>0</td>\n",
       "      <td>0</td>\n",
       "      <td>0</td>\n",
       "    </tr>\n",
       "    <tr>\n",
       "      <th>31</th>\n",
       "      <td>960</td>\n",
       "      <td>504</td>\n",
       "      <td>3995</td>\n",
       "      <td>1332</td>\n",
       "      <td>94</td>\n",
       "      <td>0</td>\n",
       "      <td>0</td>\n",
       "      <td>0</td>\n",
       "      <td>0</td>\n",
       "      <td>0</td>\n",
       "      <td>...</td>\n",
       "      <td>0</td>\n",
       "      <td>0</td>\n",
       "      <td>0</td>\n",
       "      <td>0</td>\n",
       "      <td>0</td>\n",
       "      <td>0</td>\n",
       "      <td>0</td>\n",
       "      <td>0</td>\n",
       "      <td>0</td>\n",
       "      <td>0</td>\n",
       "    </tr>\n",
       "    <tr>\n",
       "      <th>32</th>\n",
       "      <td>1556</td>\n",
       "      <td>1627</td>\n",
       "      <td>4201</td>\n",
       "      <td>1821</td>\n",
       "      <td>424</td>\n",
       "      <td>0</td>\n",
       "      <td>0</td>\n",
       "      <td>0</td>\n",
       "      <td>0</td>\n",
       "      <td>0</td>\n",
       "      <td>...</td>\n",
       "      <td>0</td>\n",
       "      <td>0</td>\n",
       "      <td>0</td>\n",
       "      <td>0</td>\n",
       "      <td>0</td>\n",
       "      <td>0</td>\n",
       "      <td>0</td>\n",
       "      <td>0</td>\n",
       "      <td>0</td>\n",
       "      <td>2</td>\n",
       "    </tr>\n",
       "    <tr>\n",
       "      <th>33</th>\n",
       "      <td>945</td>\n",
       "      <td>497</td>\n",
       "      <td>3361</td>\n",
       "      <td>1316</td>\n",
       "      <td>104</td>\n",
       "      <td>0</td>\n",
       "      <td>0</td>\n",
       "      <td>0</td>\n",
       "      <td>0</td>\n",
       "      <td>0</td>\n",
       "      <td>...</td>\n",
       "      <td>0</td>\n",
       "      <td>0</td>\n",
       "      <td>0</td>\n",
       "      <td>0</td>\n",
       "      <td>0</td>\n",
       "      <td>0</td>\n",
       "      <td>0</td>\n",
       "      <td>0</td>\n",
       "      <td>0</td>\n",
       "      <td>0</td>\n",
       "    </tr>\n",
       "    <tr>\n",
       "      <th>34</th>\n",
       "      <td>1213</td>\n",
       "      <td>682</td>\n",
       "      <td>3311</td>\n",
       "      <td>1659</td>\n",
       "      <td>203</td>\n",
       "      <td>0</td>\n",
       "      <td>0</td>\n",
       "      <td>0</td>\n",
       "      <td>0</td>\n",
       "      <td>0</td>\n",
       "      <td>...</td>\n",
       "      <td>0</td>\n",
       "      <td>0</td>\n",
       "      <td>0</td>\n",
       "      <td>0</td>\n",
       "      <td>0</td>\n",
       "      <td>0</td>\n",
       "      <td>0</td>\n",
       "      <td>0</td>\n",
       "      <td>0</td>\n",
       "      <td>0</td>\n",
       "    </tr>\n",
       "    <tr>\n",
       "      <th>35</th>\n",
       "      <td>645</td>\n",
       "      <td>454</td>\n",
       "      <td>2580</td>\n",
       "      <td>3331</td>\n",
       "      <td>59</td>\n",
       "      <td>0</td>\n",
       "      <td>0</td>\n",
       "      <td>0</td>\n",
       "      <td>0</td>\n",
       "      <td>0</td>\n",
       "      <td>...</td>\n",
       "      <td>0</td>\n",
       "      <td>0</td>\n",
       "      <td>0</td>\n",
       "      <td>0</td>\n",
       "      <td>0</td>\n",
       "      <td>0</td>\n",
       "      <td>0</td>\n",
       "      <td>0</td>\n",
       "      <td>0</td>\n",
       "      <td>0</td>\n",
       "    </tr>\n",
       "    <tr>\n",
       "      <th>36</th>\n",
       "      <td>1229</td>\n",
       "      <td>784</td>\n",
       "      <td>4584</td>\n",
       "      <td>1311</td>\n",
       "      <td>247</td>\n",
       "      <td>0</td>\n",
       "      <td>0</td>\n",
       "      <td>0</td>\n",
       "      <td>0</td>\n",
       "      <td>0</td>\n",
       "      <td>...</td>\n",
       "      <td>0</td>\n",
       "      <td>0</td>\n",
       "      <td>0</td>\n",
       "      <td>0</td>\n",
       "      <td>0</td>\n",
       "      <td>0</td>\n",
       "      <td>0</td>\n",
       "      <td>0</td>\n",
       "      <td>0</td>\n",
       "      <td>2</td>\n",
       "    </tr>\n",
       "    <tr>\n",
       "      <th>37</th>\n",
       "      <td>1950</td>\n",
       "      <td>1603</td>\n",
       "      <td>6976</td>\n",
       "      <td>1817</td>\n",
       "      <td>498</td>\n",
       "      <td>0</td>\n",
       "      <td>0</td>\n",
       "      <td>0</td>\n",
       "      <td>0</td>\n",
       "      <td>0</td>\n",
       "      <td>...</td>\n",
       "      <td>0</td>\n",
       "      <td>0</td>\n",
       "      <td>0</td>\n",
       "      <td>0</td>\n",
       "      <td>0</td>\n",
       "      <td>0</td>\n",
       "      <td>0</td>\n",
       "      <td>0</td>\n",
       "      <td>0</td>\n",
       "      <td>2</td>\n",
       "    </tr>\n",
       "    <tr>\n",
       "      <th>38</th>\n",
       "      <td>1055</td>\n",
       "      <td>986</td>\n",
       "      <td>5490</td>\n",
       "      <td>2269</td>\n",
       "      <td>475</td>\n",
       "      <td>0</td>\n",
       "      <td>0</td>\n",
       "      <td>0</td>\n",
       "      <td>0</td>\n",
       "      <td>0</td>\n",
       "      <td>...</td>\n",
       "      <td>0</td>\n",
       "      <td>0</td>\n",
       "      <td>0</td>\n",
       "      <td>0</td>\n",
       "      <td>0</td>\n",
       "      <td>0</td>\n",
       "      <td>0</td>\n",
       "      <td>0</td>\n",
       "      <td>0</td>\n",
       "      <td>2</td>\n",
       "    </tr>\n",
       "    <tr>\n",
       "      <th>39</th>\n",
       "      <td>1459</td>\n",
       "      <td>728</td>\n",
       "      <td>6442</td>\n",
       "      <td>1911</td>\n",
       "      <td>301</td>\n",
       "      <td>0</td>\n",
       "      <td>0</td>\n",
       "      <td>0</td>\n",
       "      <td>0</td>\n",
       "      <td>0</td>\n",
       "      <td>...</td>\n",
       "      <td>0</td>\n",
       "      <td>0</td>\n",
       "      <td>0</td>\n",
       "      <td>0</td>\n",
       "      <td>0</td>\n",
       "      <td>0</td>\n",
       "      <td>0</td>\n",
       "      <td>0</td>\n",
       "      <td>0</td>\n",
       "      <td>2</td>\n",
       "    </tr>\n",
       "    <tr>\n",
       "      <th>40</th>\n",
       "      <td>701</td>\n",
       "      <td>447</td>\n",
       "      <td>3601</td>\n",
       "      <td>772</td>\n",
       "      <td>308</td>\n",
       "      <td>0</td>\n",
       "      <td>0</td>\n",
       "      <td>0</td>\n",
       "      <td>0</td>\n",
       "      <td>0</td>\n",
       "      <td>...</td>\n",
       "      <td>0</td>\n",
       "      <td>0</td>\n",
       "      <td>0</td>\n",
       "      <td>0</td>\n",
       "      <td>0</td>\n",
       "      <td>0</td>\n",
       "      <td>0</td>\n",
       "      <td>0</td>\n",
       "      <td>0</td>\n",
       "      <td>0</td>\n",
       "    </tr>\n",
       "    <tr>\n",
       "      <th>41</th>\n",
       "      <td>1702</td>\n",
       "      <td>836</td>\n",
       "      <td>3990</td>\n",
       "      <td>1941</td>\n",
       "      <td>302</td>\n",
       "      <td>0</td>\n",
       "      <td>0</td>\n",
       "      <td>0</td>\n",
       "      <td>0</td>\n",
       "      <td>0</td>\n",
       "      <td>...</td>\n",
       "      <td>0</td>\n",
       "      <td>0</td>\n",
       "      <td>0</td>\n",
       "      <td>0</td>\n",
       "      <td>0</td>\n",
       "      <td>0</td>\n",
       "      <td>0</td>\n",
       "      <td>0</td>\n",
       "      <td>0</td>\n",
       "      <td>2</td>\n",
       "    </tr>\n",
       "    <tr>\n",
       "      <th>42</th>\n",
       "      <td>1367</td>\n",
       "      <td>957</td>\n",
       "      <td>7353</td>\n",
       "      <td>4245</td>\n",
       "      <td>888</td>\n",
       "      <td>0</td>\n",
       "      <td>0</td>\n",
       "      <td>0</td>\n",
       "      <td>0</td>\n",
       "      <td>0</td>\n",
       "      <td>...</td>\n",
       "      <td>0</td>\n",
       "      <td>0</td>\n",
       "      <td>0</td>\n",
       "      <td>0</td>\n",
       "      <td>0</td>\n",
       "      <td>0</td>\n",
       "      <td>0</td>\n",
       "      <td>0</td>\n",
       "      <td>0</td>\n",
       "      <td>1</td>\n",
       "    </tr>\n",
       "    <tr>\n",
       "      <th>43</th>\n",
       "      <td>1338</td>\n",
       "      <td>877</td>\n",
       "      <td>3857</td>\n",
       "      <td>1097</td>\n",
       "      <td>215</td>\n",
       "      <td>0</td>\n",
       "      <td>0</td>\n",
       "      <td>0</td>\n",
       "      <td>0</td>\n",
       "      <td>0</td>\n",
       "      <td>...</td>\n",
       "      <td>0</td>\n",
       "      <td>0</td>\n",
       "      <td>0</td>\n",
       "      <td>0</td>\n",
       "      <td>0</td>\n",
       "      <td>0</td>\n",
       "      <td>0</td>\n",
       "      <td>0</td>\n",
       "      <td>0</td>\n",
       "      <td>0</td>\n",
       "    </tr>\n",
       "    <tr>\n",
       "      <th>44</th>\n",
       "      <td>1926</td>\n",
       "      <td>1506</td>\n",
       "      <td>5371</td>\n",
       "      <td>940</td>\n",
       "      <td>321</td>\n",
       "      <td>0</td>\n",
       "      <td>0</td>\n",
       "      <td>0</td>\n",
       "      <td>0</td>\n",
       "      <td>0</td>\n",
       "      <td>...</td>\n",
       "      <td>1</td>\n",
       "      <td>0</td>\n",
       "      <td>0</td>\n",
       "      <td>0</td>\n",
       "      <td>0</td>\n",
       "      <td>0</td>\n",
       "      <td>0</td>\n",
       "      <td>0</td>\n",
       "      <td>0</td>\n",
       "      <td>2</td>\n",
       "    </tr>\n",
       "    <tr>\n",
       "      <th>45</th>\n",
       "      <td>788</td>\n",
       "      <td>715</td>\n",
       "      <td>4368</td>\n",
       "      <td>2604</td>\n",
       "      <td>292</td>\n",
       "      <td>0</td>\n",
       "      <td>0</td>\n",
       "      <td>0</td>\n",
       "      <td>0</td>\n",
       "      <td>0</td>\n",
       "      <td>...</td>\n",
       "      <td>0</td>\n",
       "      <td>0</td>\n",
       "      <td>1</td>\n",
       "      <td>0</td>\n",
       "      <td>0</td>\n",
       "      <td>0</td>\n",
       "      <td>0</td>\n",
       "      <td>0</td>\n",
       "      <td>0</td>\n",
       "      <td>2</td>\n",
       "    </tr>\n",
       "    <tr>\n",
       "      <th>46</th>\n",
       "      <td>464</td>\n",
       "      <td>413</td>\n",
       "      <td>3526</td>\n",
       "      <td>2387</td>\n",
       "      <td>57</td>\n",
       "      <td>0</td>\n",
       "      <td>0</td>\n",
       "      <td>0</td>\n",
       "      <td>0</td>\n",
       "      <td>0</td>\n",
       "      <td>...</td>\n",
       "      <td>0</td>\n",
       "      <td>0</td>\n",
       "      <td>0</td>\n",
       "      <td>1</td>\n",
       "      <td>0</td>\n",
       "      <td>0</td>\n",
       "      <td>0</td>\n",
       "      <td>0</td>\n",
       "      <td>0</td>\n",
       "      <td>0</td>\n",
       "    </tr>\n",
       "    <tr>\n",
       "      <th>47</th>\n",
       "      <td>1509</td>\n",
       "      <td>845</td>\n",
       "      <td>4721</td>\n",
       "      <td>1223</td>\n",
       "      <td>126</td>\n",
       "      <td>0</td>\n",
       "      <td>0</td>\n",
       "      <td>0</td>\n",
       "      <td>0</td>\n",
       "      <td>0</td>\n",
       "      <td>...</td>\n",
       "      <td>0</td>\n",
       "      <td>0</td>\n",
       "      <td>0</td>\n",
       "      <td>0</td>\n",
       "      <td>1</td>\n",
       "      <td>0</td>\n",
       "      <td>0</td>\n",
       "      <td>0</td>\n",
       "      <td>0</td>\n",
       "      <td>2</td>\n",
       "    </tr>\n",
       "    <tr>\n",
       "      <th>48</th>\n",
       "      <td>855</td>\n",
       "      <td>784</td>\n",
       "      <td>4073</td>\n",
       "      <td>2420</td>\n",
       "      <td>200</td>\n",
       "      <td>0</td>\n",
       "      <td>0</td>\n",
       "      <td>0</td>\n",
       "      <td>0</td>\n",
       "      <td>0</td>\n",
       "      <td>...</td>\n",
       "      <td>0</td>\n",
       "      <td>0</td>\n",
       "      <td>0</td>\n",
       "      <td>0</td>\n",
       "      <td>0</td>\n",
       "      <td>1</td>\n",
       "      <td>0</td>\n",
       "      <td>0</td>\n",
       "      <td>0</td>\n",
       "      <td>2</td>\n",
       "    </tr>\n",
       "    <tr>\n",
       "      <th>49</th>\n",
       "      <td>1534</td>\n",
       "      <td>1091</td>\n",
       "      <td>11957</td>\n",
       "      <td>4195</td>\n",
       "      <td>620</td>\n",
       "      <td>0</td>\n",
       "      <td>0</td>\n",
       "      <td>0</td>\n",
       "      <td>0</td>\n",
       "      <td>0</td>\n",
       "      <td>...</td>\n",
       "      <td>0</td>\n",
       "      <td>0</td>\n",
       "      <td>0</td>\n",
       "      <td>0</td>\n",
       "      <td>0</td>\n",
       "      <td>0</td>\n",
       "      <td>1</td>\n",
       "      <td>0</td>\n",
       "      <td>0</td>\n",
       "      <td>1</td>\n",
       "    </tr>\n",
       "    <tr>\n",
       "      <th>50</th>\n",
       "      <td>1228</td>\n",
       "      <td>780</td>\n",
       "      <td>7708</td>\n",
       "      <td>4527</td>\n",
       "      <td>278</td>\n",
       "      <td>0</td>\n",
       "      <td>0</td>\n",
       "      <td>0</td>\n",
       "      <td>0</td>\n",
       "      <td>0</td>\n",
       "      <td>...</td>\n",
       "      <td>0</td>\n",
       "      <td>0</td>\n",
       "      <td>0</td>\n",
       "      <td>0</td>\n",
       "      <td>0</td>\n",
       "      <td>0</td>\n",
       "      <td>0</td>\n",
       "      <td>1</td>\n",
       "      <td>0</td>\n",
       "      <td>1</td>\n",
       "    </tr>\n",
       "    <tr>\n",
       "      <th>51</th>\n",
       "      <td>1066</td>\n",
       "      <td>959</td>\n",
       "      <td>4885</td>\n",
       "      <td>3599</td>\n",
       "      <td>416</td>\n",
       "      <td>0</td>\n",
       "      <td>0</td>\n",
       "      <td>0</td>\n",
       "      <td>0</td>\n",
       "      <td>0</td>\n",
       "      <td>...</td>\n",
       "      <td>0</td>\n",
       "      <td>0</td>\n",
       "      <td>0</td>\n",
       "      <td>0</td>\n",
       "      <td>0</td>\n",
       "      <td>0</td>\n",
       "      <td>0</td>\n",
       "      <td>0</td>\n",
       "      <td>1</td>\n",
       "      <td>2</td>\n",
       "    </tr>\n",
       "    <tr>\n",
       "      <th>52</th>\n",
       "      <td>701</td>\n",
       "      <td>640</td>\n",
       "      <td>1162</td>\n",
       "      <td>2158</td>\n",
       "      <td>325</td>\n",
       "      <td>0</td>\n",
       "      <td>0</td>\n",
       "      <td>0</td>\n",
       "      <td>0</td>\n",
       "      <td>0</td>\n",
       "      <td>...</td>\n",
       "      <td>0</td>\n",
       "      <td>0</td>\n",
       "      <td>0</td>\n",
       "      <td>0</td>\n",
       "      <td>0</td>\n",
       "      <td>0</td>\n",
       "      <td>0</td>\n",
       "      <td>0</td>\n",
       "      <td>0</td>\n",
       "      <td>0</td>\n",
       "    </tr>\n",
       "  </tbody>\n",
       "</table>\n",
       "<p>53 rows × 59 columns</p>\n",
       "</div>"
      ],
      "text/plain": [
       "    Male incarceration rate  Male incarceration rate: White alone  \\\n",
       "0                      1350                                   916   \n",
       "1                      1545                                   918   \n",
       "2                       947                                   602   \n",
       "3                      1899                                  1377   \n",
       "4                      1627                                  1093   \n",
       "5                      1265                                  1100   \n",
       "6                      1459                                  1264   \n",
       "7                      1002                                   431   \n",
       "8                      1384                                   762   \n",
       "9                      1093                                   138   \n",
       "10                     1634                                  1092   \n",
       "11                     1988                                  1203   \n",
       "12                      672                                   614   \n",
       "13                     1245                                  1216   \n",
       "14                     1025                                   508   \n",
       "15                     1378                                  1014   \n",
       "16                      781                                   612   \n",
       "17                     1165                                   874   \n",
       "18                     1699                                  1273   \n",
       "19                     2517                                  1262   \n",
       "20                      511                                   481   \n",
       "21                     1188                                   587   \n",
       "22                      718                                   587   \n",
       "23                     1224                                   744   \n",
       "24                      679                                   440   \n",
       "25                     2184                                  1304   \n",
       "26                     1296                                   908   \n",
       "27                      934                                   753   \n",
       "28                      793                                   615   \n",
       "29                     1303                                  1171   \n",
       "30                      671                                   632   \n",
       "31                      960                                   504   \n",
       "32                     1556                                  1627   \n",
       "33                      945                                   497   \n",
       "34                     1213                                   682   \n",
       "35                      645                                   454   \n",
       "36                     1229                                   784   \n",
       "37                     1950                                  1603   \n",
       "38                     1055                                   986   \n",
       "39                     1459                                   728   \n",
       "40                      701                                   447   \n",
       "41                     1702                                   836   \n",
       "42                     1367                                   957   \n",
       "43                     1338                                   877   \n",
       "44                     1926                                  1506   \n",
       "45                      788                                   715   \n",
       "46                      464                                   413   \n",
       "47                     1509                                   845   \n",
       "48                      855                                   784   \n",
       "49                     1534                                  1091   \n",
       "50                     1228                                   780   \n",
       "51                     1066                                   959   \n",
       "52                      701                                   640   \n",
       "\n",
       "    Male incarceration rate: Black or African American alone  \\\n",
       "0                                                4490          \n",
       "1                                                3521          \n",
       "2                                                2070          \n",
       "3                                                5505          \n",
       "4                                                4801          \n",
       "5                                                5666          \n",
       "6                                                6382          \n",
       "7                                                4274          \n",
       "8                                                4028          \n",
       "9                                                1974          \n",
       "10                                               4893          \n",
       "11                                               4006          \n",
       "12                                               1462          \n",
       "13                                               4995          \n",
       "14                                               4196          \n",
       "15                                               5495          \n",
       "16                                               6001          \n",
       "17                                               6036          \n",
       "18                                               6733          \n",
       "19                                               5406          \n",
       "20                                               2655          \n",
       "21                                               2901          \n",
       "22                                               2923          \n",
       "23                                               4432          \n",
       "24                                               4192          \n",
       "25                                               3547          \n",
       "26                                               4625          \n",
       "27                                               5071          \n",
       "28                                               4371          \n",
       "29                                               4678          \n",
       "30                                               3750          \n",
       "31                                               3995          \n",
       "32                                               4201          \n",
       "33                                               3361          \n",
       "34                                               3311          \n",
       "35                                               2580          \n",
       "36                                               4584          \n",
       "37                                               6976          \n",
       "38                                               5490          \n",
       "39                                               6442          \n",
       "40                                               3601          \n",
       "41                                               3990          \n",
       "42                                               7353          \n",
       "43                                               3857          \n",
       "44                                               5371          \n",
       "45                                               4368          \n",
       "46                                               3526          \n",
       "47                                               4721          \n",
       "48                                               4073          \n",
       "49                                              11957          \n",
       "50                                               7708          \n",
       "51                                               4885          \n",
       "52                                               1162          \n",
       "\n",
       "    Male incarceration rate: American Indian and Alaska Native alone  \\\n",
       "0                                                2223                  \n",
       "1                                                 470                  \n",
       "2                                                2492                  \n",
       "3                                                4078                  \n",
       "4                                                1229                  \n",
       "5                                                1665                  \n",
       "6                                                5259                  \n",
       "7                                                1063                  \n",
       "8                                                 238                  \n",
       "9                                                1846                  \n",
       "10                                                974                  \n",
       "11                                               1008                  \n",
       "12                                                810                  \n",
       "13                                               2967                  \n",
       "14                                               1361                  \n",
       "15                                               1622                  \n",
       "16                                               3894                  \n",
       "17                                               2135                  \n",
       "18                                               4590                  \n",
       "19                                                846                  \n",
       "20                                               1297                  \n",
       "21                                                352                  \n",
       "22                                               1815                  \n",
       "23                                               1714                  \n",
       "24                                               4306                  \n",
       "25                                               1890                  \n",
       "26                                               1161                  \n",
       "27                                               3084                  \n",
       "28                                               3085                  \n",
       "29                                               2354                  \n",
       "30                                               1531                  \n",
       "31                                               1332                  \n",
       "32                                               1821                  \n",
       "33                                               1316                  \n",
       "34                                               1659                  \n",
       "35                                               3331                  \n",
       "36                                               1311                  \n",
       "37                                               1817                  \n",
       "38                                               2269                  \n",
       "39                                               1911                  \n",
       "40                                                772                  \n",
       "41                                               1941                  \n",
       "42                                               4245                  \n",
       "43                                               1097                  \n",
       "44                                                940                  \n",
       "45                                               2604                  \n",
       "46                                               2387                  \n",
       "47                                               1223                  \n",
       "48                                               2420                  \n",
       "49                                               4195                  \n",
       "50                                               4527                  \n",
       "51                                               3599                  \n",
       "52                                               2158                  \n",
       "\n",
       "    Male incarceration rate: Asian alone  Geography_Alabama  Geography_Alaska  \\\n",
       "0                                    215                  0                 0   \n",
       "1                                    197                  1                 0   \n",
       "2                                    236                  0                 1   \n",
       "3                                   1275                  0                 0   \n",
       "4                                    637                  0                 0   \n",
       "5                                    174                  0                 0   \n",
       "6                                    554                  0                 0   \n",
       "7                                    113                  0                 0   \n",
       "8                                     36                  0                 0   \n",
       "9                                    204                  0                 0   \n",
       "10                                   185                  0                 0   \n",
       "11                                   229                  0                 0   \n",
       "12                                   412                  0                 0   \n",
       "13                                   319                  0                 0   \n",
       "14                                    73                  0                 0   \n",
       "15                                   141                  0                 0   \n",
       "16                                   311                  0                 0   \n",
       "17                                   425                  0                 0   \n",
       "18                                   468                  0                 0   \n",
       "19                                   305                  0                 0   \n",
       "20                                   322                  0                 0   \n",
       "21                                    62                  0                 0   \n",
       "22                                   123                  0                 0   \n",
       "23                                   162                  0                 0   \n",
       "24                                   368                  0                 0   \n",
       "25                                  1440                  0                 0   \n",
       "26                                    72                  0                 0   \n",
       "27                                   482                  0                 0   \n",
       "28                                   298                  0                 0   \n",
       "29                                   410                  0                 0   \n",
       "30                                   156                  0                 0   \n",
       "31                                    94                  0                 0   \n",
       "32                                   424                  0                 0   \n",
       "33                                   104                  0                 0   \n",
       "34                                   203                  0                 0   \n",
       "35                                    59                  0                 0   \n",
       "36                                   247                  0                 0   \n",
       "37                                   498                  0                 0   \n",
       "38                                   475                  0                 0   \n",
       "39                                   301                  0                 0   \n",
       "40                                   308                  0                 0   \n",
       "41                                   302                  0                 0   \n",
       "42                                   888                  0                 0   \n",
       "43                                   215                  0                 0   \n",
       "44                                   321                  0                 0   \n",
       "45                                   292                  0                 0   \n",
       "46                                    57                  0                 0   \n",
       "47                                   126                  0                 0   \n",
       "48                                   200                  0                 0   \n",
       "49                                   620                  0                 0   \n",
       "50                                   278                  0                 0   \n",
       "51                                   416                  0                 0   \n",
       "52                                   325                  0                 0   \n",
       "\n",
       "    Geography_Arizona  Geography_Arkansas  Geography_California  ...  \\\n",
       "0                   0                   0                     0  ...   \n",
       "1                   0                   0                     0  ...   \n",
       "2                   0                   0                     0  ...   \n",
       "3                   1                   0                     0  ...   \n",
       "4                   0                   1                     0  ...   \n",
       "5                   0                   0                     1  ...   \n",
       "6                   0                   0                     0  ...   \n",
       "7                   0                   0                     0  ...   \n",
       "8                   0                   0                     0  ...   \n",
       "9                   0                   0                     0  ...   \n",
       "10                  0                   0                     0  ...   \n",
       "11                  0                   0                     0  ...   \n",
       "12                  0                   0                     0  ...   \n",
       "13                  0                   0                     0  ...   \n",
       "14                  0                   0                     0  ...   \n",
       "15                  0                   0                     0  ...   \n",
       "16                  0                   0                     0  ...   \n",
       "17                  0                   0                     0  ...   \n",
       "18                  0                   0                     0  ...   \n",
       "19                  0                   0                     0  ...   \n",
       "20                  0                   0                     0  ...   \n",
       "21                  0                   0                     0  ...   \n",
       "22                  0                   0                     0  ...   \n",
       "23                  0                   0                     0  ...   \n",
       "24                  0                   0                     0  ...   \n",
       "25                  0                   0                     0  ...   \n",
       "26                  0                   0                     0  ...   \n",
       "27                  0                   0                     0  ...   \n",
       "28                  0                   0                     0  ...   \n",
       "29                  0                   0                     0  ...   \n",
       "30                  0                   0                     0  ...   \n",
       "31                  0                   0                     0  ...   \n",
       "32                  0                   0                     0  ...   \n",
       "33                  0                   0                     0  ...   \n",
       "34                  0                   0                     0  ...   \n",
       "35                  0                   0                     0  ...   \n",
       "36                  0                   0                     0  ...   \n",
       "37                  0                   0                     0  ...   \n",
       "38                  0                   0                     0  ...   \n",
       "39                  0                   0                     0  ...   \n",
       "40                  0                   0                     0  ...   \n",
       "41                  0                   0                     0  ...   \n",
       "42                  0                   0                     0  ...   \n",
       "43                  0                   0                     0  ...   \n",
       "44                  0                   0                     0  ...   \n",
       "45                  0                   0                     0  ...   \n",
       "46                  0                   0                     0  ...   \n",
       "47                  0                   0                     0  ...   \n",
       "48                  0                   0                     0  ...   \n",
       "49                  0                   0                     0  ...   \n",
       "50                  0                   0                     0  ...   \n",
       "51                  0                   0                     0  ...   \n",
       "52                  0                   0                     0  ...   \n",
       "\n",
       "    Geography_Texas  Geography_United States  Geography_Utah  \\\n",
       "0                 0                        1               0   \n",
       "1                 0                        0               0   \n",
       "2                 0                        0               0   \n",
       "3                 0                        0               0   \n",
       "4                 0                        0               0   \n",
       "5                 0                        0               0   \n",
       "6                 0                        0               0   \n",
       "7                 0                        0               0   \n",
       "8                 0                        0               0   \n",
       "9                 0                        0               0   \n",
       "10                0                        0               0   \n",
       "11                0                        0               0   \n",
       "12                0                        0               0   \n",
       "13                0                        0               0   \n",
       "14                0                        0               0   \n",
       "15                0                        0               0   \n",
       "16                0                        0               0   \n",
       "17                0                        0               0   \n",
       "18                0                        0               0   \n",
       "19                0                        0               0   \n",
       "20                0                        0               0   \n",
       "21                0                        0               0   \n",
       "22                0                        0               0   \n",
       "23                0                        0               0   \n",
       "24                0                        0               0   \n",
       "25                0                        0               0   \n",
       "26                0                        0               0   \n",
       "27                0                        0               0   \n",
       "28                0                        0               0   \n",
       "29                0                        0               0   \n",
       "30                0                        0               0   \n",
       "31                0                        0               0   \n",
       "32                0                        0               0   \n",
       "33                0                        0               0   \n",
       "34                0                        0               0   \n",
       "35                0                        0               0   \n",
       "36                0                        0               0   \n",
       "37                0                        0               0   \n",
       "38                0                        0               0   \n",
       "39                0                        0               0   \n",
       "40                0                        0               0   \n",
       "41                0                        0               0   \n",
       "42                0                        0               0   \n",
       "43                0                        0               0   \n",
       "44                1                        0               0   \n",
       "45                0                        0               1   \n",
       "46                0                        0               0   \n",
       "47                0                        0               0   \n",
       "48                0                        0               0   \n",
       "49                0                        0               0   \n",
       "50                0                        0               0   \n",
       "51                0                        0               0   \n",
       "52                0                        0               0   \n",
       "\n",
       "    Geography_Vermont  Geography_Virginia  Geography_Washington  \\\n",
       "0                   0                   0                     0   \n",
       "1                   0                   0                     0   \n",
       "2                   0                   0                     0   \n",
       "3                   0                   0                     0   \n",
       "4                   0                   0                     0   \n",
       "5                   0                   0                     0   \n",
       "6                   0                   0                     0   \n",
       "7                   0                   0                     0   \n",
       "8                   0                   0                     0   \n",
       "9                   0                   0                     0   \n",
       "10                  0                   0                     0   \n",
       "11                  0                   0                     0   \n",
       "12                  0                   0                     0   \n",
       "13                  0                   0                     0   \n",
       "14                  0                   0                     0   \n",
       "15                  0                   0                     0   \n",
       "16                  0                   0                     0   \n",
       "17                  0                   0                     0   \n",
       "18                  0                   0                     0   \n",
       "19                  0                   0                     0   \n",
       "20                  0                   0                     0   \n",
       "21                  0                   0                     0   \n",
       "22                  0                   0                     0   \n",
       "23                  0                   0                     0   \n",
       "24                  0                   0                     0   \n",
       "25                  0                   0                     0   \n",
       "26                  0                   0                     0   \n",
       "27                  0                   0                     0   \n",
       "28                  0                   0                     0   \n",
       "29                  0                   0                     0   \n",
       "30                  0                   0                     0   \n",
       "31                  0                   0                     0   \n",
       "32                  0                   0                     0   \n",
       "33                  0                   0                     0   \n",
       "34                  0                   0                     0   \n",
       "35                  0                   0                     0   \n",
       "36                  0                   0                     0   \n",
       "37                  0                   0                     0   \n",
       "38                  0                   0                     0   \n",
       "39                  0                   0                     0   \n",
       "40                  0                   0                     0   \n",
       "41                  0                   0                     0   \n",
       "42                  0                   0                     0   \n",
       "43                  0                   0                     0   \n",
       "44                  0                   0                     0   \n",
       "45                  0                   0                     0   \n",
       "46                  1                   0                     0   \n",
       "47                  0                   1                     0   \n",
       "48                  0                   0                     1   \n",
       "49                  0                   0                     0   \n",
       "50                  0                   0                     0   \n",
       "51                  0                   0                     0   \n",
       "52                  0                   0                     0   \n",
       "\n",
       "    Geography_West Virginia  Geography_Wisconsin  Geography_Wyoming  cluster  \n",
       "0                         0                    0                  0        2  \n",
       "1                         0                    0                  0        0  \n",
       "2                         0                    0                  0        0  \n",
       "3                         0                    0                  0        1  \n",
       "4                         0                    0                  0        2  \n",
       "5                         0                    0                  0        2  \n",
       "6                         0                    0                  0        1  \n",
       "7                         0                    0                  0        0  \n",
       "8                         0                    0                  0        0  \n",
       "9                         0                    0                  0        0  \n",
       "10                        0                    0                  0        2  \n",
       "11                        0                    0                  0        0  \n",
       "12                        0                    0                  0        0  \n",
       "13                        0                    0                  0        2  \n",
       "14                        0                    0                  0        0  \n",
       "15                        0                    0                  0        2  \n",
       "16                        0                    0                  0        1  \n",
       "17                        0                    0                  0        2  \n",
       "18                        0                    0                  0        1  \n",
       "19                        0                    0                  0        2  \n",
       "20                        0                    0                  0        0  \n",
       "21                        0                    0                  0        0  \n",
       "22                        0                    0                  0        0  \n",
       "23                        0                    0                  0        2  \n",
       "24                        0                    0                  0        2  \n",
       "25                        0                    0                  0        0  \n",
       "26                        0                    0                  0        2  \n",
       "27                        0                    0                  0        2  \n",
       "28                        0                    0                  0        2  \n",
       "29                        0                    0                  0        2  \n",
       "30                        0                    0                  0        0  \n",
       "31                        0                    0                  0        0  \n",
       "32                        0                    0                  0        2  \n",
       "33                        0                    0                  0        0  \n",
       "34                        0                    0                  0        0  \n",
       "35                        0                    0                  0        0  \n",
       "36                        0                    0                  0        2  \n",
       "37                        0                    0                  0        2  \n",
       "38                        0                    0                  0        2  \n",
       "39                        0                    0                  0        2  \n",
       "40                        0                    0                  0        0  \n",
       "41                        0                    0                  0        2  \n",
       "42                        0                    0                  0        1  \n",
       "43                        0                    0                  0        0  \n",
       "44                        0                    0                  0        2  \n",
       "45                        0                    0                  0        2  \n",
       "46                        0                    0                  0        0  \n",
       "47                        0                    0                  0        2  \n",
       "48                        0                    0                  0        2  \n",
       "49                        1                    0                  0        1  \n",
       "50                        0                    1                  0        1  \n",
       "51                        0                    0                  1        2  \n",
       "52                        0                    0                  0        0  \n",
       "\n",
       "[53 rows x 59 columns]"
      ]
     },
     "execution_count": 44,
     "metadata": {},
     "output_type": "execute_result"
    }
   ],
   "source": [
    "data"
   ]
  },
  {
   "cell_type": "code",
   "execution_count": null,
   "metadata": {},
   "outputs": [
    {
     "data": {
      "image/png": "[encoded data removed]",
      "text/plain": [
       "<Figure size 640x480 with 1 Axes>"
      ]
     },
     "metadata": {},
     "output_type": "display_data"
    }
   ],
   "source": [
    "import matplotlib.pyplot as plt\n",
    "\n",
    "# create a scatter plot of the data\n",
    "plt.scatter(data['Male incarceration rate'], data['Male incarceration rate: White alone'], c=data['cluster'])\n",
    "\n",
    "# add axis labels\n",
    "plt.xlabel('Male incarceration rate')\n",
    "plt.ylabel('Male incarceration rate: White alone')\n",
    "\n",
    "# show the plot\n",
    "plt.show()"
   ]
  },
  {
   "cell_type": "code",
   "execution_count": null,
   "metadata": {},
   "outputs": [
    {
     "data": {
      "image/png": "[encoded data removed]",
      "text/plain": [
       "<Figure size 640x480 with 1 Axes>"
      ]
     },
     "metadata": {},
     "output_type": "display_data"
    }
   ],
   "source": [
    "# create a scatter plot of the data\n",
    "plt.scatter(data['Male incarceration rate'], data['Male incarceration rate: Black or African American alone'], c=data['cluster'])\n",
    "\n",
    "# add axis labels\n",
    "plt.xlabel('Male incarceration rate')\n",
    "plt.ylabel('Male incarceration rate: White alone')\n",
    "\n",
    "# show the plot\n",
    "plt.show()"
   ]
  },
  {
   "cell_type": "code",
   "execution_count": null,
   "metadata": {},
   "outputs": [],
   "source": [
    "from sklearn.ensemble import RandomForestRegressor\n",
    "from sklearn.model_selection import train_test_split\n",
    "\n",
    "# load data into pandas DataFrame\n",
    "data = pd.read_csv('male_incarceration_rates.tsv', delimiter='\\t')\n",
    "\n",
    "# select columns of interest\n",
    "columns = ['Geography', 'Male incarceration rate', 'Male incarceration rate: White alone', 'Male incarceration rate: Black or African American alone', 'Male incarceration rate: American Indian and Alaska Native alone', 'Male incarceration rate: Asian alone']\n",
    "data = data[columns]\n",
    "data  = data.drop('Geography', axis=1)\n",
    "\n",
    "# replace commas with empty string and convert to integer\n",
    "data['Male incarceration rate'] = data['Male incarceration rate'].str.replace(',', '').astype(int)\n",
    "data['Male incarceration rate: White alone'] = data['Male incarceration rate: White alone'].str.replace(',', '').astype(int)\n",
    "data['Male incarceration rate: Black or African American alone'] = data['Male incarceration rate: Black or African American alone'].str.replace(',', '').astype(int)\n",
    "data['Male incarceration rate: American Indian and Alaska Native alone'] = data['Male incarceration rate: American Indian and Alaska Native alone'].str.replace(',', '').astype(int)\n",
    "data['Male incarceration rate: Asian alone'] = data['Male incarceration rate: Asian alone'].str.replace(',', '').astype(int)\n",
    "\n",
    "# define target variable (y) and predictor variables (X)\n",
    "y = data['Male incarceration rate: Asian alone']\n",
    "X = data.drop('Male incarceration rate', axis=1)\n",
    "\n",
    "# split the dataset into training and test sets\n",
    "X_train, X_test, y_train, y_test = train_test_split(X, y, test_size=0.2)\n",
    "\n",
    "# create a Random Forest Regressor model\n",
    "model = RandomForestRegressor()\n",
    "\n",
    "# fit the model to the training set\n",
    "model.fit(X_train, y_train)\n",
    "\n",
    "# make predictions on the test set\n",
    "y_pred = model.predict(X_test)\n"
   ]
  },
  {
   "cell_type": "code",
   "execution_count": null,
   "metadata": {},
   "outputs": [
    {
     "data": {
      "text/plain": [
       "array([ 66.11, 549.15, 430.44, 207.26, 123.24, 204.47, 317.49, 197.14,\n",
       "       194.2 , 453.18, 314.88])"
      ]
     },
     "execution_count": 60,
     "metadata": {},
     "output_type": "execute_result"
    }
   ],
   "source": [
    "y_pred"
   ]
  },
  {
   "cell_type": "code",
   "execution_count": null,
   "metadata": {},
   "outputs": [
    {
     "data": {
      "image/png": "[encoded data removed]",
      "text/plain": [
       "<Figure size 640x480 with 1 Axes>"
      ]
     },
     "metadata": {},
     "output_type": "display_data"
    }
   ],
   "source": [
    "import matplotlib.pyplot as plt\n",
    "\n",
    "# plot true values vs predicted values\n",
    "plt.scatter(y_test, y_pred)\n",
    "plt.xlabel('True Values')\n",
    "plt.ylabel('Predictions')\n",
    "plt.show()"
   ]
  }
 ],
 "metadata": {
  "kernelspec": {
   "display_name": "machinelearning",
   "language": "python",
   "name": "python3"
  },
  "language_info": {
   "codemirror_mode": {
    "name": "ipython",
    "version": 3
   },
   "file_extension": ".py",
   "mimetype": "text/x-python",
   "name": "python",
   "nbconvert_exporter": "python",
   "pygments_lexer": "ipython3",
   "version": "3.11.0"
  },
  "orig_nbformat": 4
 },
 "nbformat": 4,
 "nbformat_minor": 2
}
