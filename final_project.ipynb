{
 "cells": [
  {
   "cell_type": "code",
   "execution_count": 140,
   "metadata": {},
   "outputs": [],
   "source": [
    "import pandas as pd\n",
    "import numpy as np\n",
    "import matplotlib.pyplot as plt\n",
    "\n",
    "from sklearn.cluster import KMeans\n",
    "from sklearn.mixture import GaussianMixture\n",
    "from sklearn.preprocessing import StandardScaler\n",
    "from sklearn.exceptions import ConvergenceWarning\n",
    "from sklearn.model_selection import cross_val_score\n",
    "\n",
    "\n",
    "\n",
    "from plotly.subplots import make_subplots\n",
    "import plotly.graph_objs as go\n",
    "import plotly.express as px\n",
    "\n",
    "import warnings\n",
    "\n",
    "import seaborn as sns\n",
    "\n",
    "\n"
   ]
  },
  {
   "cell_type": "code",
   "execution_count": 141,
   "metadata": {},
   "outputs": [],
   "source": [
    "\n",
    "\n",
    "# for col in data_t.columns:\n",
    "#    if not (data_t[col].apply(lambda x: isinstance(x, str))).all():\n",
    "#        continue\n",
    "   \n",
    "#    if (data_t[col].apply(lambda x: isinstance(x, str)).all() & data_t[col].str.contains(',')).any():\n",
    "#         try:\n",
    "#             data_t[col] = data_t[col].replace('[\\$,]', '', regex=True).astype(float)\n",
    "#         except AttributeError as err:\n",
    "#             print([col])\n",
    "#             break   \n",
    "# data_t = data_t.iloc[1:, :]"
   ]
  },
  {
   "cell_type": "code",
   "execution_count": null,
   "metadata": {},
   "outputs": [],
   "source": [
    "\n",
    "    "
   ]
  },
  {
   "cell_type": "code",
   "execution_count": 142,
   "metadata": {},
   "outputs": [],
   "source": [
    "def processData(flag=False):\n",
    "    data_t = pd.read_csv('prison_2010_excel.txt', delimiter='\\t', skiprows=2)\n",
    "    data_t = data_t.drop((53))\n",
    "    data_t = data_t.drop((0))\n",
    "\n",
    "    df = data_t.iloc[:, 2:]\n",
    "    df.iloc[:, 1:] = df.iloc[:, 1:].astype(float)\n",
    "\n",
    "    # Create a boolean mask of NaN values\n",
    "    nan_mask = df.isnull()\n",
    "\n",
    "    # Check for any NaN values in each row\n",
    "    nan_in_row = nan_mask.any(axis=1)\n",
    "\n",
    "    # Check for any NaN values in each column\n",
    "    nan_in_col = nan_mask.any(axis=0)\n",
    "    rows_with_nans = df[nan_in_row]\n",
    "    cols_with_nans = df.loc[:, nan_in_col]\n",
    "    if flag:\n",
    "        print(\"Features Containing NaN:\", cols_with_nans)\n",
    "    \n",
    "    # df = df.drop(columns=cols_with_nans).filter(regex='^(?!.*(Population)).*')\n",
    "    df = df.drop(columns=cols_with_nans)\n",
    "\n",
    "\n",
    "    # Add Percentages to DataFrame\n",
    "    percent_men = getPercentage(df)[0]\n",
    "    percent_women= getPercentage(df)[1]\n",
    "    percent_both= getPercentage(df)[2]\n",
    "    \n",
    "    \n",
    "    # Standardize the numerical features\n",
    "    num_cols = df.select_dtypes(include=['int64', 'float64']).columns\n",
    "    scaler = StandardScaler()\n",
    "    df_std = pd.DataFrame(scaler.fit_transform(df[num_cols]), columns=num_cols, index=df.index)\n",
    "    df[df_std.columns] = df_std\n",
    "    df = pd.concat([df, percent_men, percent_women, percent_both], axis=1)\n",
    "\n",
    "\n",
    "    \n",
    "    return df\n",
    "def abbreviate_column_name(col_name):\n",
    "    abbreviation = ''.join([word[0] for word in col_name.split() if word[0].isalpha()])\n",
    "    return abbreviation.upper()\n",
    "\n",
    "\n",
    "def getX(df):\n",
    "       X = df.iloc[:, 2:]\n",
    "       return X\n",
    "def getY(df):\n",
    "    y = df.iloc[:, 1] # select only the first column\n",
    "    return y\n",
    "\n",
    "\n",
    "def runKmeans(data, X, n):\n",
    "    kmeans = KMeans(n_clusters=n, init = 'k-means++', n_init=10)\n",
    "    kmeans.fit(X)\n",
    "    cluster_data = data.copy() \n",
    "    cluster_data['Cluster'] = kmeans.labels_\n",
    "    return cluster_data, kmeans\n",
    "\n",
    "def runGaussian(data, X, n):\n",
    "    X = X.filter(regex='^(?!.*(Total)).*')\n",
    "    cluster_data = data.copy()\n",
    "\n",
    "    # Fit a Gaussian Mixture Model with 4 clusters\n",
    "    gmm = GaussianMixture(n_components=n)\n",
    "    gmm.fit(X)\n",
    "\n",
    "    # Get cluster predictions for each row\n",
    "    clusters = gmm.predict(X)\n",
    "\n",
    "    # Get probability scores for each row\n",
    "    probs = gmm.predict_proba(X)\n",
    "\n",
    "    # Add cluster and probability columns to original dataframe\n",
    "    cluster_data['Cluster'] = clusters\n",
    "    cluster_data['Probability'] = probs.max(axis=1)\n",
    "\n",
    "    # Print the\n",
    "    return cluster_data\n",
    "\n",
    "\n",
    "# def createBarChart(cluster_data, x_axis=\"Geography\", y_axis=\"empty\"): \n",
    "#     fig = px.bar(cluster_data, x=x_axis, y=y_axis, color='Cluster')\n",
    "#     fig.show()\n",
    "def createBarChart(cluster_data, x_axis=\"Geography\", y_axis=\"empty\"): \n",
    "    return px.bar(cluster_data, x=x_axis, y=y_axis, color='Cluster')\n",
    "    \n",
    "\n",
    "def stateClusterGraph(cluster_data):\n",
    "    state_abbreviations = {\n",
    "    'Alabama': 'AL',\n",
    "    'Alaska': 'AK',\n",
    "    'Arizona': 'AZ',\n",
    "    'Arkansas': 'AR',\n",
    "    'California': 'CA',\n",
    "    'Colorado': 'CO',\n",
    "    'Connecticut': 'CT',\n",
    "    'Delaware': 'DE',\n",
    "    'Florida': 'FL',\n",
    "    'Georgia': 'GA',\n",
    "    'Hawaii': 'HI',\n",
    "    'Idaho': 'ID',\n",
    "    'Illinois': 'IL',\n",
    "    'Indiana': 'IN',\n",
    "    'Iowa': 'IA',\n",
    "    'Kansas': 'KS',\n",
    "    'Kentucky': 'KY',\n",
    "    'Louisiana': 'LA',\n",
    "    'Maine': 'ME',\n",
    "    'Maryland': 'MD',\n",
    "    'Massachusetts': 'MA',\n",
    "    'Michigan': 'MI',\n",
    "    'Minnesota': 'MN',\n",
    "    'Mississippi': 'MS',\n",
    "    'Missouri': 'MO',\n",
    "    'Montana': 'MT',\n",
    "    'Nebraska': 'NE',\n",
    "    'Nevada': 'NV',\n",
    "    'New Hampshire': 'NH',\n",
    "    'New Jersey': 'NJ',\n",
    "    'New Mexico': 'NM',\n",
    "    'New York': 'NY',\n",
    "    'North Carolina': 'NC',\n",
    "    'North Dakota': 'ND',\n",
    "    'Ohio': 'OH',\n",
    "    'Oklahoma': 'OK',\n",
    "    'Oregon': 'OR',\n",
    "    'Pennsylvania': 'PA',\n",
    "    'Rhode Island': 'RI',\n",
    "    'South Carolina': 'SC',\n",
    "    'South Dakota': 'SD',\n",
    "    'Tennessee': 'TN',\n",
    "    'Texas': 'TX',\n",
    "    'Utah': 'UT',\n",
    "    'Vermont': 'VT',\n",
    "    'Virginia': 'VA',\n",
    "    'Washington': 'WA',\n",
    "    'West Virginia': 'WV',\n",
    "    'Wisconsin': 'WI',\n",
    "    'Wyoming': 'WY'\n",
    "    }\n",
    "    cluster_data['State Abbreviation'] = cluster_data['Geography'].map(state_abbreviations)\n",
    "\n",
    "\n",
    "    # Create a choropleth map\n",
    "    fig = px.choropleth(cluster_data, locations='State Abbreviation', locationmode='USA-states', color='Cluster', scope='usa', title='Clusters by State')\n",
    "\n",
    "    # fig.show()\n",
    "    return fig\n",
    "\n",
    "\n",
    "def elbow_method(df, n):\n",
    "    # Create a new DataFrame with only the columns you want to use for clustering\n",
    "    X = df.iloc[:,1:6]\n",
    "\n",
    "    # Perform K-means clustering for different values of K\n",
    "    inertias = []\n",
    "    for k in range(1, n):\n",
    "        kmeans = KMeans(n_clusters=k, init = 'k-means++' , random_state=42, n_init=10).fit(X)\n",
    "        inertia = kmeans.inertia_\n",
    "        inertias.append(inertia)\n",
    "\n",
    "    # Plot the elbow curve to choose the optimal value of K\n",
    "    plt.plot(range(1, n), inertias, 'bx-')\n",
    "    plt.xlabel('Number of clusters (K)')\n",
    "    plt.ylabel('Inertia')\n",
    "    plt.title('Elbow Method For Optimal K')\n",
    "    plt.show()\n",
    "\n",
    "    # create dataframe for elbow plot data\n",
    "    elbow_data = pd.DataFrame({\n",
    "        'K': range(1, n),\n",
    "        'Inertia': inertias\n",
    "    })\n",
    "    elbow_data = elbow_data.set_index('K')\n",
    "\n",
    "    # print(elbow_data)\n",
    "\n",
    "    # Calculate the slope and second derivative of the inertia curve\n",
    "    slopes = [inertias[i+1] - inertias[i] for i in range(len(inertias)-1)]\n",
    "    second_derivatives = [slopes[i+1] - slopes[i] for i in range(len(slopes)-1)]\n",
    "\n",
    "    # Find the index of the maximum second derivative\n",
    "    max_index = second_derivatives.index(max(second_derivatives))\n",
    "\n",
    "    # The optimal value of K is one more than the index of the maximum second derivative\n",
    "    best_k = max_index + 2\n",
    "    # print(best_k)\n",
    "\n",
    "    # return df, elbow_data, inertias, best_k\n",
    "\n",
    "\n",
    "def correlationMap(df):\n",
    "    # Select only the numeric columns\n",
    "    numeric_columns = df.select_dtypes(include=['int64', 'float64'])\n",
    "    \n",
    "    # Calculate the correlation matrix\n",
    "    corr_matrix = numeric_columns.corr()\n",
    "    \n",
    "    # Set the upper triangle to NaN\n",
    "    corr_matrix = corr_matrix.where(np.tril(np.ones(corr_matrix.shape)).astype(np.bool))\n",
    "    np.fill_diagonal(corr_matrix.values, np.nan)\n",
    "    # Rename columns and index using abbreviated column names\n",
    "    corr_matrix.columns = [abbreviate_column_name(col) for col in corr_matrix.columns]\n",
    "    corr_matrix.index = [abbreviate_column_name(col) for col in corr_matrix.index]\n",
    "    \n",
    "\n",
    "    \n",
    "    # Create a heatmap using seaborn\n",
    "    plt.figure(figsize=(10, 7))\n",
    "    plt.xticks(rotation=90)\n",
    "    plt.yticks(rotation=0)\n",
    "\n",
    "    sns.heatmap(corr_matrix, annot=False, cmap='coolwarm')\n",
    "    plt.title('Correlation of Numeric Features')\n",
    "    plt.show()\n",
    "\n",
    "def visualizing_results_2d(df,n,col1, col2, col3):\n",
    "    # Create a new DataFrame with only the columns you want to use for clustering\n",
    "    X = df[[col1, col2, col3]]\n",
    "    # Create a KMeans instance with k = n\n",
    "    kmeans = KMeans(n_clusters=n, init='k-means++', n_init=10)\n",
    "    # Fit the model to the data\n",
    "    kmeans.fit(X)\n",
    "    # Get the cluster assignments for each data point\n",
    "    df['Cluster'] = kmeans.labels_\n",
    "    # Get the cluster centroids\n",
    "    centroids = kmeans.cluster_centers_\n",
    "    # Create an empty figure\n",
    "    # Abbreviate column names\n",
    "\n",
    "\n",
    "    \n",
    "    col1_abbrev = abbreviate_column_name(col1)\n",
    "    col2_abbrev = abbreviate_column_name(col2)\n",
    "    col3_abbrev = abbreviate_column_name(col3)\n",
    "    \n",
    "    # Create an empty figure\n",
    "    fig = make_subplots(rows=3, cols=1, subplot_titles=(\n",
    "        f\"{col1_abbrev} by {col2_abbrev}\", f\"{col1_abbrev} by {col3_abbrev}\", f\"{col2_abbrev} by {col3_abbrev}\"))\n",
    "    # Add a scatter plot of the data points to the first subplot\n",
    "    fig.add_trace(\n",
    "        go.Scatter(\n",
    "            x=df[col1],\n",
    "            y=df[col2],\n",
    "            mode='markers',\n",
    "            marker=dict(\n",
    "                color=df['Cluster']\n",
    "            ),\n",
    "            showlegend=False\n",
    "        ),\n",
    "        row=1,\n",
    "        col=1\n",
    "    )\n",
    "    # Add a scatter plot of the centroids to the first subplot\n",
    "    fig.add_trace(\n",
    "        go.Scatter(\n",
    "            x=centroids[:, 0],\n",
    "            y=centroids[:, 1],\n",
    "            mode='markers',\n",
    "            marker=dict(\n",
    "                size=10,\n",
    "                color='red',\n",
    "                symbol='star',\n",
    "                line=dict(\n",
    "                    width=1,\n",
    "                    color='black'\n",
    "                )\n",
    "            ),\n",
    "            name='Centroids'\n",
    "        ),\n",
    "        row=1,\n",
    "        col=1\n",
    "    )\n",
    "    # Add a scatter plot of word_id by counts to the second subplot\n",
    "    fig.add_trace(\n",
    "        go.Scatter(\n",
    "            x=df[col1],\n",
    "            y=df[col3],\n",
    "            mode='markers',\n",
    "            marker=dict(\n",
    "                color=df['Cluster']\n",
    "            ),\n",
    "            showlegend=False\n",
    "        ),\n",
    "        row=2,\n",
    "        col=1\n",
    "    )\n",
    "    # Add a scatter plot of the centroids to the second subplot\n",
    "    fig.add_trace(\n",
    "        go.Scatter(\n",
    "            x=centroids[:, 0],\n",
    "            y=centroids[:, 2],\n",
    "            mode='markers',\n",
    "            marker=dict(\n",
    "                size=10,\n",
    "                color='red',\n",
    "                symbol='star',\n",
    "                line=dict(\n",
    "                    width=1,\n",
    "                    color='black'\n",
    "                )\n",
    "            ),\n",
    "            name='Centroids'\n",
    "        ),\n",
    "        row=2,\n",
    "        col=1\n",
    "    )\n",
    "     # Add a scatter plot of word_id by counts to the third subplot\n",
    "    fig.add_trace(\n",
    "        go.Scatter(\n",
    "            x=df[col2],\n",
    "            y=df[col3],\n",
    "            mode='markers',\n",
    "            marker=dict(\n",
    "                color=df['Cluster']\n",
    "            ),\n",
    "            showlegend=False\n",
    "        ),\n",
    "        row=3,\n",
    "        col=1\n",
    "    )\n",
    "    # Add a scatter plot of the centroids to the third subplot\n",
    "    fig.add_trace(\n",
    "        go.Scatter(\n",
    "            x=centroids[:, 1],\n",
    "            y=centroids[:, 2],\n",
    "            mode='markers',\n",
    "            marker=dict(\n",
    "                size=10,\n",
    "                color='red',\n",
    "                symbol='star',\n",
    "                line=dict(\n",
    "                    width=1,\n",
    "                    color='black'\n",
    "                )\n",
    "            ),\n",
    "            name='Centroids'\n",
    "        ),\n",
    "        row=3,\n",
    "        col=1\n",
    "    )\n",
    "    # Update the layout of the figure\n",
    "    fig.update_layout(\n",
    "        height=900,\n",
    "        width = 900,\n",
    "        title=f'Clusters of {col1}, {col2} and {col3}'\n",
    "    )\n",
    "    # Show the figure\n",
    "    fig.show()\n",
    "def visualizing_results_3d(df, n, col1, col2, col3):\n",
    "    # Create a new DataFrame with only the columns you want to use for clustering\n",
    "    X = df[[col1, col2, col3]]\n",
    "    # Create a KMeans instance with k = n\n",
    "    kmeans = KMeans(n_clusters=n, init='k-means++', n_init=10)\n",
    "    # Fit the model to the data\n",
    "    kmeans.fit(X)\n",
    "    # Get the cluster assignments for each data point\n",
    "    df['Cluster'] = kmeans.labels_\n",
    "    # Get the cluster centroids\n",
    "    centroids = kmeans.cluster_centers_\n",
    "    # Create an empty figure\n",
    "    fig = make_subplots(rows=1, cols=1, specs=[[{'type': 'scatter3d'}]])\n",
    "    # Add a 3D scatter plot of the data points\n",
    "    fig.add_trace(\n",
    "        go.Scatter3d(\n",
    "            x=df[col1],\n",
    "            y=df[col2],\n",
    "            z=df[col3],\n",
    "            mode='markers',\n",
    "            marker=dict(color=df['Cluster']),\n",
    "            showlegend=False\n",
    "        )\n",
    "    )\n",
    "    # Add a scatter plot of the centroids\n",
    "    fig.add_trace(\n",
    "        go.Scatter3d(\n",
    "            x=centroids[:, 0],\n",
    "            y=centroids[:, 1],\n",
    "            z=centroids[:, 2],\n",
    "            mode='markers',\n",
    "            marker=dict(size=10, color='red', symbol='circle', line=dict(width=1, color='black')),\n",
    "            name='Centroids'\n",
    "        )\n",
    "    )\n",
    "    # Update the layout of the figure\n",
    "    fig.update_layout(\n",
    "        height=800,\n",
    "        margin=dict(l=0, r=0, b=0, t=0),\n",
    "        scene=dict(\n",
    "            xaxis=dict(title=col1),\n",
    "            yaxis=dict(title=col2),\n",
    "            zaxis=dict(title=col3)\n",
    "        ),\n",
    "        title='Clusters'\n",
    "    )\n",
    "    # Show the figure\n",
    "    fig.show()\n",
    "\n",
    "\n",
    "def getCorrectionalPopulation(df):\n",
    "    # Use filter and regex pattern to separate columns into their own dataframes\n",
    "\n",
    "    # filter columns based on gender\n",
    "    male_cols = df.filter(regex='(Total Men|: Men$)').columns.tolist()\n",
    "    female_cols = df.filter(regex='(Total Women|: Women$)').columns.tolist()\n",
    "    both_cols = df.filter(regex='(: In Correctional Facilities for Adults|: in Correctional Facilities for Adults$)').columns.tolist()\n",
    "\n",
    "\n",
    "    df_male = df[male_cols]\n",
    "    df_female = df[female_cols]\n",
    "    df_both = df[both_cols]\n",
    "\n",
    "\n",
    "    drop_men_women = [col for col in df_both.columns if 'Men' in col or 'Women' in col]\n",
    "    df_both = df_both.drop(drop_men_women, axis=1)\n",
    "\n",
    "    return df_male, df_female, df_both\n",
    "\n",
    "\n",
    "def getPercentage(df):\n",
    "    corr_men = getCorrectionalPopulation(df)[0]\n",
    "    corr_women = getCorrectionalPopulation(df)[1]\n",
    "    corr_both = getCorrectionalPopulation(df)[2]\n",
    "    \n",
    "    pop_men = getPopulation(df)[0]\n",
    "    pop_men.columns = corr_men.columns\n",
    "    pop_women = getPopulation(df)[1]\n",
    "    pop_women.columns = corr_women.columns\n",
    "    pop_both = getPopulation(df)[2]\n",
    "    pop_both.columns = corr_both.columns\n",
    "\n",
    "    \n",
    "\n",
    "    percent_men = corr_men.div(pop_men, axis=0)*100\n",
    "    percent_men.columns = ['Percent ' + col for col in percent_men.columns]\n",
    "\n",
    "    percent_women = corr_women.div(pop_women, axis=0)*100\n",
    "    percent_women.columns = ['Percent ' + col for col in percent_women.columns]\n",
    "\n",
    "    percent_both = corr_both.div(pop_both, axis=0)*100\n",
    "    percent_both.columns = ['Percent ' + col for col in percent_both.columns]\n",
    "    return percent_men, percent_women, percent_both\n",
    "\n",
    "def getPopulation(df):\n",
    "    # Use filter and regex pattern to separate columns into their own dataframes\n",
    "\n",
    "    # filter columns based on gender\n",
    "    male_cols = df.filter(regex=': Male$').columns.tolist()\n",
    "    female_cols = df.filter(regex=': Female$').columns.tolist() \n",
    "    both_cols = df.filter(regex='Total Population(?!.*(Male|Female)).*').columns.tolist()\n",
    "\n",
    "    # create dataframes for male, female, and both\n",
    "    df_male = df[male_cols]\n",
    "    df_female = df[female_cols]\n",
    "    df_both = df[both_cols]\n",
    "    return df_male, df_female, df_both\n",
    "\n"
   ]
  },
  {
   "attachments": {},
   "cell_type": "markdown",
   "metadata": {},
   "source": [
    "## Raw Data\n",
    "- After loading it data into data\\_t we can then process and clean the data by calling processData() on it"
   ]
  },
  {
   "cell_type": "code",
   "execution_count": 143,
   "metadata": {},
   "outputs": [
    {
     "name": "stdout",
     "output_type": "stream",
     "text": [
      "['Geography', 'Total : In Correctional Facilities for Adults', 'White alone : in Correctional Facilities for Adults', 'Black or African American alone : in Correctional Facilities for Adults', 'American Indian and Alaska Native alone : in Correctional Facilities for Adults', 'Asian alone : in Correctional Facilities for Adults', 'Native Hawaiian and other Pacific Islander alone : in Correctional Facilities for Adults', 'Some other race alone : in Correctional Facilities for Adults', 'Two or more races : in Correctional Facilities for Adults', 'Hispanic or Latino : in Correctional Facilities for Adults', 'White alone, not Hispanic or Latino : in Correctional Facilities for Adults', 'Total Population', 'Total Population: White alone', 'Total Population: Black or African American alone', 'Total Population: American Indian and Alaska Native alone', 'Total Population: Asian alone', 'Total Population: Native Hawaiian and other Pacific Islander alone', 'Total Population: Some other race alone', 'Total Population: Two or more races', 'Total Population: Hispanic or Latino', 'Total Population: White alone, not Hispanic or Latino', 'Incarceration rate', 'Incarceration rate: White alone', 'Incarceration rate: Black or African American alone', 'Incarceration rate: American Indian and Alaska Native alone', 'Incarceration rate: Asian alone', 'Incarceration rate: Native Hawaiian and other Pacific Islander alone', 'Incarceration rate: Some other race alone', 'Incarceration rate: Two or more races', 'Incarceration rate: Hispanic or Latino', 'Incarceration rate: White alone, not Hispanic or Latino', 'Total Men : In Correctional Facilities for Adults', 'White alone: in Correctional Facilities for Adults : Men', 'Black or African American alone: in Correctional Facilities for Adults : Men', 'American Indian and Alaska Native alone: in Correctional Facilities for Adults : Men', 'Asian alone: in Correctional Facilities for Adults : Men', 'Native Hawaiian and other Pacific Islander alone: in Correctional Facilities for Adults : Men', 'Some other race alone: in Correctional Facilities for Adults : Men', 'Two or more races: in Correctional Facilities for Adults : Men', 'Hispanic or Latino: in Correctional Facilities for Adults : Men', 'White alone, not Hispanic or Latino: in Correctional Facilities for Adults : Men', 'Total Population: Male', 'Total Population: White alone: Male', 'Total Population: Black or African American alone: Male', 'Total Population: American Indian and Alaska Native alone: Male', 'Total Population: Asian alone: Male', 'Total Population: Native Hawaiian and other Pacific Islander alone: Male', 'Total Population: Some other race alone: Male', 'Total Population: Two or more races: Male', 'Total Population: Hispanic or Latino: Male', 'Total Population: White alone, not Hispanic or Latino: Male', 'Male incarceration rate', 'Male incarceration rate: White alone', 'Male incarceration rate: Black or African American alone', 'Male incarceration rate: American Indian and Alaska Native alone', 'Male incarceration rate: Asian alone', 'Male incarceration rate: Native Hawaiian and other Pacific Islander alone', 'Male incarceration rate: Some other race alone', 'Male incarceration rate: Two or more races', 'Male incarceration rate: Hispanic or Latino', 'Male incarceration rate: White alone, not Hispanic or Latino', 'Total Women : In Correctional Facilities for Adults', 'White alone: in Correctional Facilities for Adults : Women', 'Black or African American alone: in Correctional Facilities for Adults : Women', 'American Indian and Alaska Native alone: in Correctional Facilities for Adults : Women', 'Asian alone: in Correctional Facilities for Adults : Women', 'Native Hawaiian and other Pacific Islander alone: in Correctional Facilities for Adults : Women', 'Some other race alone: in Correctional Facilities for Adults : Women', 'Two or more races: in Correctional Facilities for Adults : Women', 'Hispanic or Latino: in Correctional Facilities for Adults : Women', 'White alone, not Hispanic or Latino: in Correctional Facilities for Adults : Women', 'Total Population: Female', 'Total Population: White alone: Female', 'Total Population: Black or African American alone: Female', 'Total Population: American Indian and Alaska Native alone: Female', 'Total Population: Asian alone: Female', 'Total Population: Native Hawaiian and other Pacific Islander alone: Female', 'Total Population: Some other race alone: Female', 'Total Population: Two or more races: Female', 'Total Population: Hispanic or Latino: Female', 'Total Population: White alone, not Hispanic or Latino: Female', 'Female incarceration rate', 'Female incarceration rate: White alone', 'Female incarceration rate: Black or African American alone', 'Female incarceration rate: American Indian and Alaska Native alone', 'Female incarceration rate: Asian alone', 'Female incarceration rate: Native Hawaiian and other Pacific Islander alone', 'Female incarceration rate: Some other race alone', 'Female incarceration rate: Two or more races', 'Female incarceration rate: Hispanic or Latino', 'Female incarceration rate: White alone, not Hispanic or Latino', 'Percent Total Men : In Correctional Facilities for Adults', 'Percent White alone: in Correctional Facilities for Adults : Men', 'Percent Black or African American alone: in Correctional Facilities for Adults : Men', 'Percent American Indian and Alaska Native alone: in Correctional Facilities for Adults : Men', 'Percent Asian alone: in Correctional Facilities for Adults : Men', 'Percent Native Hawaiian and other Pacific Islander alone: in Correctional Facilities for Adults : Men', 'Percent Some other race alone: in Correctional Facilities for Adults : Men', 'Percent Two or more races: in Correctional Facilities for Adults : Men', 'Percent Hispanic or Latino: in Correctional Facilities for Adults : Men', 'Percent White alone, not Hispanic or Latino: in Correctional Facilities for Adults : Men', 'Percent Total Women : In Correctional Facilities for Adults', 'Percent White alone: in Correctional Facilities for Adults : Women', 'Percent Black or African American alone: in Correctional Facilities for Adults : Women', 'Percent American Indian and Alaska Native alone: in Correctional Facilities for Adults : Women', 'Percent Asian alone: in Correctional Facilities for Adults : Women', 'Percent Native Hawaiian and other Pacific Islander alone: in Correctional Facilities for Adults : Women', 'Percent Some other race alone: in Correctional Facilities for Adults : Women', 'Percent Two or more races: in Correctional Facilities for Adults : Women', 'Percent Hispanic or Latino: in Correctional Facilities for Adults : Women', 'Percent White alone, not Hispanic or Latino: in Correctional Facilities for Adults : Women', 'Percent Total : In Correctional Facilities for Adults', 'Percent White alone : in Correctional Facilities for Adults', 'Percent Black or African American alone : in Correctional Facilities for Adults', 'Percent American Indian and Alaska Native alone : in Correctional Facilities for Adults', 'Percent Asian alone : in Correctional Facilities for Adults', 'Percent Native Hawaiian and other Pacific Islander alone : in Correctional Facilities for Adults', 'Percent Some other race alone : in Correctional Facilities for Adults', 'Percent Two or more races : in Correctional Facilities for Adults', 'Percent Hispanic or Latino : in Correctional Facilities for Adults', 'Percent White alone, not Hispanic or Latino : in Correctional Facilities for Adults']\n"
     ]
    },
    {
     "name": "stderr",
     "output_type": "stream",
     "text": [
      "/var/folders/yn/4nkcf4bx0tl9zps6_x1krghm0000gn/T/ipykernel_84786/2548935044.py:7: DeprecationWarning:\n",
      "\n",
      "In a future version, `df.iloc[:, i] = newvals` will attempt to set the values inplace instead of always setting a new array. To retain the old behavior, use either `df[df.columns[i]] = newvals` or, if columns are non-unique, `df.isetitem(i, newvals)`\n",
      "\n"
     ]
    }
   ],
   "source": [
    "df  = processData()\n",
    "print(list(df.columns))"
   ]
  },
  {
   "cell_type": "code",
   "execution_count": 144,
   "metadata": {},
   "outputs": [
    {
     "name": "stderr",
     "output_type": "stream",
     "text": [
      "/var/folders/yn/4nkcf4bx0tl9zps6_x1krghm0000gn/T/ipykernel_84786/2548935044.py:203: DeprecationWarning:\n",
      "\n",
      "`np.bool` is a deprecated alias for the builtin `bool`. To silence this warning, use `bool` by itself. Doing this will not modify any behavior and is safe. If you specifically wanted the numpy scalar type, use `np.bool_` here.\n",
      "Deprecated in NumPy 1.20; for more details and guidance: https://numpy.org/devdocs/release/1.20.0-notes.html#deprecations\n",
      "\n"
     ]
    },
    {
     "data": {
      "image/png": "[encoded data removed]",
      "text/plain": [
       "<Figure size 1000x700 with 2 Axes>"
      ]
     },
     "metadata": {},
     "output_type": "display_data"
    }
   ],
   "source": [
    "correlationMap(df)"
   ]
  },
  {
   "cell_type": "code",
   "execution_count": 145,
   "metadata": {},
   "outputs": [
    {
     "data": {
      "image/png": "[encoded data removed]",
      "text/plain": [
       "<Figure size 640x480 with 1 Axes>"
      ]
     },
     "metadata": {},
     "output_type": "display_data"
    }
   ],
   "source": [
    "elbow_method(df, 20) ## Used to determine best k for K-means"
   ]
  },
  {
   "cell_type": "code",
   "execution_count": 146,
   "metadata": {},
   "outputs": [],
   "source": [
    "n=4"
   ]
  },
  {
   "cell_type": "code",
   "execution_count": 147,
   "metadata": {},
   "outputs": [
    {
     "data": {
      "application/vnd.plotly.v1+json": {
       "config": {
        "plotlyServerURL": "https://plot.ly"
       },
       "data": [
        {
         "alignmentgroup": "True",
         "hovertemplate": "Geography=%{x}<br>Total : In Correctional Facilities for Adults=%{y}<br>Cluster=%{marker.color}<extra></extra>",
         "legendgroup": "",
         "marker": {
          "color": [
           2,
           0,
           1,
           0,
           3,
           0,
           0,
           0,
           0,
           2,
           2,
           0,
           0,
           2,
           2,
           0,
           0,
           0,
           2,
           0,
           2,
           2,
           2,
           0,
           0,
           2,
           0,
           0,
           0,
           0,
           2,
           0,
           2,
           2,
           0,
           2,
           0,
           0,
           2,
           0,
           2,
           0,
           2,
           3,
           0,
           0,
           2,
           0,
           1,
           1,
           0,
           0
          ],
          "coloraxis": "coloraxis",
          "pattern": {
           "shape": ""
          }
         },
         "name": "",
         "offsetgroup": "",
         "orientation": "v",
         "showlegend": false,
         "textposition": "auto",
         "type": "bar",
         "x": [
          "Alabama",
          "Alaska",
          "Arizona",
          "Arkansas",
          "California",
          "Colorado",
          "Connecticut",
          "Delaware",
          "District of Columbia",
          "Florida",
          "Georgia",
          "Hawaii",
          "Idaho",
          "Illinois",
          "Indiana",
          "Iowa",
          "Kansas",
          "Kentucky",
          "Louisiana",
          "Maine",
          "Maryland",
          "Massachusetts",
          "Michigan",
          "Minnesota",
          "Mississippi",
          "Missouri",
          "Montana",
          "Nebraska",
          "Nevada",
          "New Hampshire",
          "New Jersey",
          "New Mexico",
          "New York",
          "North Carolina",
          "North Dakota",
          "Ohio",
          "Oklahoma",
          "Oregon",
          "Pennsylvania",
          "Rhode Island",
          "South Carolina",
          "South Dakota",
          "Tennessee",
          "Texas",
          "Utah",
          "Vermont",
          "Virginia",
          "Washington",
          "West Virginia",
          "Wisconsin",
          "Wyoming",
          "Puerto Rico"
         ],
         "xaxis": "x",
         "y": [
          -0.04660723933019975,
          -0.730722463764818,
          0.4329254147388919,
          -0.3297998982997367,
          3.9425583950665737,
          -0.05725775793229823,
          -0.43532338434522383,
          -0.6875091422018689,
          -0.7406505993660785,
          2.272557078257531,
          1.1032227489523527,
          -0.7016974852439687,
          -0.5983781934830898,
          0.49384638114289525,
          0.0896082629303781,
          -0.5609809812089388,
          -0.4742579758262864,
          -0.04521804125166516,
          0.31236154416313705,
          -0.7386316314919416,
          -0.14844471980730842,
          -0.3541756939177569,
          0.33494064359958586,
          -0.42974806939003835,
          -0.17528402668459658,
          -0.032585600057524,
          -0.7083841586619819,
          -0.6577617806801815,
          -0.43975029555548734,
          -0.7173305942877446,
          0.016573489281553184,
          -0.477240121034874,
          0.939038058710612,
          0.32182661373821936,
          -0.7606920969790708,
          0.6089460726097474,
          -0.05694287303449706,
          -0.39620356645368987,
          0.9986624402413163,
          -0.7367793673872288,
          -0.0446438393792042,
          -0.689861517614854,
          0.06032396743486906,
          4.123969141482144,
          -0.5727243356328179,
          -0.7773254286393916,
          0.40071454195793665,
          -0.2158671332188536,
          -0.5000600148049354,
          -0.10569446427053744,
          -0.7409099163407383,
          -0.5666303867283128
         ],
         "yaxis": "y"
        }
       ],
       "layout": {
        "barmode": "relative",
        "coloraxis": {
         "colorbar": {
          "title": {
           "text": "Cluster"
          }
         },
         "colorscale": [
          [
           0,
           "#0d0887"
          ],
          [
           0.1111111111111111,
           "#46039f"
          ],
          [
           0.2222222222222222,
           "#7201a8"
          ],
          [
           0.3333333333333333,
           "#9c179e"
          ],
          [
           0.4444444444444444,
           "#bd3786"
          ],
          [
           0.5555555555555556,
           "#d8576b"
          ],
          [
           0.6666666666666666,
           "#ed7953"
          ],
          [
           0.7777777777777778,
           "#fb9f3a"
          ],
          [
           0.8888888888888888,
           "#fdca26"
          ],
          [
           1,
           "#f0f921"
          ]
         ]
        },
        "legend": {
         "tracegroupgap": 0
        },
        "margin": {
         "t": 60
        },
        "template": {
         "data": {
          "bar": [
           {
            "error_x": {
             "color": "#2a3f5f"
            },
            "error_y": {
             "color": "#2a3f5f"
            },
            "marker": {
             "line": {
              "color": "#E5ECF6",
              "width": 0.5
             },
             "pattern": {
              "fillmode": "overlay",
              "size": 10,
              "solidity": 0.2
             }
            },
            "type": "bar"
           }
          ],
          "barpolar": [
           {
            "marker": {
             "line": {
              "color": "#E5ECF6",
              "width": 0.5
             },
             "pattern": {
              "fillmode": "overlay",
              "size": 10,
              "solidity": 0.2
             }
            },
            "type": "barpolar"
           }
          ],
          "carpet": [
           {
            "aaxis": {
             "endlinecolor": "#2a3f5f",
             "gridcolor": "white",
             "linecolor": "white",
             "minorgridcolor": "white",
             "startlinecolor": "#2a3f5f"
            },
            "baxis": {
             "endlinecolor": "#2a3f5f",
             "gridcolor": "white",
             "linecolor": "white",
             "minorgridcolor": "white",
             "startlinecolor": "#2a3f5f"
            },
            "type": "carpet"
           }
          ],
          "choropleth": [
           {
            "colorbar": {
             "outlinewidth": 0,
             "ticks": ""
            },
            "type": "choropleth"
           }
          ],
          "contour": [
           {
            "colorbar": {
             "outlinewidth": 0,
             "ticks": ""
            },
            "colorscale": [
             [
              0,
              "#0d0887"
             ],
             [
              0.1111111111111111,
              "#46039f"
             ],
             [
              0.2222222222222222,
              "#7201a8"
             ],
             [
              0.3333333333333333,
              "#9c179e"
             ],
             [
              0.4444444444444444,
              "#bd3786"
             ],
             [
              0.5555555555555556,
              "#d8576b"
             ],
             [
              0.6666666666666666,
              "#ed7953"
             ],
             [
              0.7777777777777778,
              "#fb9f3a"
             ],
             [
              0.8888888888888888,
              "#fdca26"
             ],
             [
              1,
              "#f0f921"
             ]
            ],
            "type": "contour"
           }
          ],
          "contourcarpet": [
           {
            "colorbar": {
             "outlinewidth": 0,
             "ticks": ""
            },
            "type": "contourcarpet"
           }
          ],
          "heatmap": [
           {
            "colorbar": {
             "outlinewidth": 0,
             "ticks": ""
            },
            "colorscale": [
             [
              0,
              "#0d0887"
             ],
             [
              0.1111111111111111,
              "#46039f"
             ],
             [
              0.2222222222222222,
              "#7201a8"
             ],
             [
              0.3333333333333333,
              "#9c179e"
             ],
             [
              0.4444444444444444,
              "#bd3786"
             ],
             [
              0.5555555555555556,
              "#d8576b"
             ],
             [
              0.6666666666666666,
              "#ed7953"
             ],
             [
              0.7777777777777778,
              "#fb9f3a"
             ],
             [
              0.8888888888888888,
              "#fdca26"
             ],
             [
              1,
              "#f0f921"
             ]
            ],
            "type": "heatmap"
           }
          ],
          "heatmapgl": [
           {
            "colorbar": {
             "outlinewidth": 0,
             "ticks": ""
            },
            "colorscale": [
             [
              0,
              "#0d0887"
             ],
             [
              0.1111111111111111,
              "#46039f"
             ],
             [
              0.2222222222222222,
              "#7201a8"
             ],
             [
              0.3333333333333333,
              "#9c179e"
             ],
             [
              0.4444444444444444,
              "#bd3786"
             ],
             [
              0.5555555555555556,
              "#d8576b"
             ],
             [
              0.6666666666666666,
              "#ed7953"
             ],
             [
              0.7777777777777778,
              "#fb9f3a"
             ],
             [
              0.8888888888888888,
              "#fdca26"
             ],
             [
              1,
              "#f0f921"
             ]
            ],
            "type": "heatmapgl"
           }
          ],
          "histogram": [
           {
            "marker": {
             "pattern": {
              "fillmode": "overlay",
              "size": 10,
              "solidity": 0.2
             }
            },
            "type": "histogram"
           }
          ],
          "histogram2d": [
           {
            "colorbar": {
             "outlinewidth": 0,
             "ticks": ""
            },
            "colorscale": [
             [
              0,
              "#0d0887"
             ],
             [
              0.1111111111111111,
              "#46039f"
             ],
             [
              0.2222222222222222,
              "#7201a8"
             ],
             [
              0.3333333333333333,
              "#9c179e"
             ],
             [
              0.4444444444444444,
              "#bd3786"
             ],
             [
              0.5555555555555556,
              "#d8576b"
             ],
             [
              0.6666666666666666,
              "#ed7953"
             ],
             [
              0.7777777777777778,
              "#fb9f3a"
             ],
             [
              0.8888888888888888,
              "#fdca26"
             ],
             [
              1,
              "#f0f921"
             ]
            ],
            "type": "histogram2d"
           }
          ],
          "histogram2dcontour": [
           {
            "colorbar": {
             "outlinewidth": 0,
             "ticks": ""
            },
            "colorscale": [
             [
              0,
              "#0d0887"
             ],
             [
              0.1111111111111111,
              "#46039f"
             ],
             [
              0.2222222222222222,
              "#7201a8"
             ],
             [
              0.3333333333333333,
              "#9c179e"
             ],
             [
              0.4444444444444444,
              "#bd3786"
             ],
             [
              0.5555555555555556,
              "#d8576b"
             ],
             [
              0.6666666666666666,
              "#ed7953"
             ],
             [
              0.7777777777777778,
              "#fb9f3a"
             ],
             [
              0.8888888888888888,
              "#fdca26"
             ],
             [
              1,
              "#f0f921"
             ]
            ],
            "type": "histogram2dcontour"
           }
          ],
          "mesh3d": [
           {
            "colorbar": {
             "outlinewidth": 0,
             "ticks": ""
            },
            "type": "mesh3d"
           }
          ],
          "parcoords": [
           {
            "line": {
             "colorbar": {
              "outlinewidth": 0,
              "ticks": ""
             }
            },
            "type": "parcoords"
           }
          ],
          "pie": [
           {
            "automargin": true,
            "type": "pie"
           }
          ],
          "scatter": [
           {
            "fillpattern": {
             "fillmode": "overlay",
             "size": 10,
             "solidity": 0.2
            },
            "type": "scatter"
           }
          ],
          "scatter3d": [
           {
            "line": {
             "colorbar": {
              "outlinewidth": 0,
              "ticks": ""
             }
            },
            "marker": {
             "colorbar": {
              "outlinewidth": 0,
              "ticks": ""
             }
            },
            "type": "scatter3d"
           }
          ],
          "scattercarpet": [
           {
            "marker": {
             "colorbar": {
              "outlinewidth": 0,
              "ticks": ""
             }
            },
            "type": "scattercarpet"
           }
          ],
          "scattergeo": [
           {
            "marker": {
             "colorbar": {
              "outlinewidth": 0,
              "ticks": ""
             }
            },
            "type": "scattergeo"
           }
          ],
          "scattergl": [
           {
            "marker": {
             "colorbar": {
              "outlinewidth": 0,
              "ticks": ""
             }
            },
            "type": "scattergl"
           }
          ],
          "scattermapbox": [
           {
            "marker": {
             "colorbar": {
              "outlinewidth": 0,
              "ticks": ""
             }
            },
            "type": "scattermapbox"
           }
          ],
          "scatterpolar": [
           {
            "marker": {
             "colorbar": {
              "outlinewidth": 0,
              "ticks": ""
             }
            },
            "type": "scatterpolar"
           }
          ],
          "scatterpolargl": [
           {
            "marker": {
             "colorbar": {
              "outlinewidth": 0,
              "ticks": ""
             }
            },
            "type": "scatterpolargl"
           }
          ],
          "scatterternary": [
           {
            "marker": {
             "colorbar": {
              "outlinewidth": 0,
              "ticks": ""
             }
            },
            "type": "scatterternary"
           }
          ],
          "surface": [
           {
            "colorbar": {
             "outlinewidth": 0,
             "ticks": ""
            },
            "colorscale": [
             [
              0,
              "#0d0887"
             ],
             [
              0.1111111111111111,
              "#46039f"
             ],
             [
              0.2222222222222222,
              "#7201a8"
             ],
             [
              0.3333333333333333,
              "#9c179e"
             ],
             [
              0.4444444444444444,
              "#bd3786"
             ],
             [
              0.5555555555555556,
              "#d8576b"
             ],
             [
              0.6666666666666666,
              "#ed7953"
             ],
             [
              0.7777777777777778,
              "#fb9f3a"
             ],
             [
              0.8888888888888888,
              "#fdca26"
             ],
             [
              1,
              "#f0f921"
             ]
            ],
            "type": "surface"
           }
          ],
          "table": [
           {
            "cells": {
             "fill": {
              "color": "#EBF0F8"
             },
             "line": {
              "color": "white"
             }
            },
            "header": {
             "fill": {
              "color": "#C8D4E3"
             },
             "line": {
              "color": "white"
             }
            },
            "type": "table"
           }
          ]
         },
         "layout": {
          "annotationdefaults": {
           "arrowcolor": "#2a3f5f",
           "arrowhead": 0,
           "arrowwidth": 1
          },
          "autotypenumbers": "strict",
          "coloraxis": {
           "colorbar": {
            "outlinewidth": 0,
            "ticks": ""
           }
          },
          "colorscale": {
           "diverging": [
            [
             0,
             "#8e0152"
            ],
            [
             0.1,
             "#c51b7d"
            ],
            [
             0.2,
             "#de77ae"
            ],
            [
             0.3,
             "#f1b6da"
            ],
            [
             0.4,
             "#fde0ef"
            ],
            [
             0.5,
             "#f7f7f7"
            ],
            [
             0.6,
             "#e6f5d0"
            ],
            [
             0.7,
             "#b8e186"
            ],
            [
             0.8,
             "#7fbc41"
            ],
            [
             0.9,
             "#4d9221"
            ],
            [
             1,
             "#276419"
            ]
           ],
           "sequential": [
            [
             0,
             "#0d0887"
            ],
            [
             0.1111111111111111,
             "#46039f"
            ],
            [
             0.2222222222222222,
             "#7201a8"
            ],
            [
             0.3333333333333333,
             "#9c179e"
            ],
            [
             0.4444444444444444,
             "#bd3786"
            ],
            [
             0.5555555555555556,
             "#d8576b"
            ],
            [
             0.6666666666666666,
             "#ed7953"
            ],
            [
             0.7777777777777778,
             "#fb9f3a"
            ],
            [
             0.8888888888888888,
             "#fdca26"
            ],
            [
             1,
             "#f0f921"
            ]
           ],
           "sequentialminus": [
            [
             0,
             "#0d0887"
            ],
            [
             0.1111111111111111,
             "#46039f"
            ],
            [
             0.2222222222222222,
             "#7201a8"
            ],
            [
             0.3333333333333333,
             "#9c179e"
            ],
            [
             0.4444444444444444,
             "#bd3786"
            ],
            [
             0.5555555555555556,
             "#d8576b"
            ],
            [
             0.6666666666666666,
             "#ed7953"
            ],
            [
             0.7777777777777778,
             "#fb9f3a"
            ],
            [
             0.8888888888888888,
             "#fdca26"
            ],
            [
             1,
             "#f0f921"
            ]
           ]
          },
          "colorway": [
           "#636efa",
           "#EF553B",
           "#00cc96",
           "#ab63fa",
           "#FFA15A",
           "#19d3f3",
           "#FF6692",
           "#B6E880",
           "#FF97FF",
           "#FECB52"
          ],
          "font": {
           "color": "#2a3f5f"
          },
          "geo": {
           "bgcolor": "white",
           "lakecolor": "white",
           "landcolor": "#E5ECF6",
           "showlakes": true,
           "showland": true,
           "subunitcolor": "white"
          },
          "hoverlabel": {
           "align": "left"
          },
          "hovermode": "closest",
          "mapbox": {
           "style": "light"
          },
          "paper_bgcolor": "white",
          "plot_bgcolor": "#E5ECF6",
          "polar": {
           "angularaxis": {
            "gridcolor": "white",
            "linecolor": "white",
            "ticks": ""
           },
           "bgcolor": "#E5ECF6",
           "radialaxis": {
            "gridcolor": "white",
            "linecolor": "white",
            "ticks": ""
           }
          },
          "scene": {
           "xaxis": {
            "backgroundcolor": "#E5ECF6",
            "gridcolor": "white",
            "gridwidth": 2,
            "linecolor": "white",
            "showbackground": true,
            "ticks": "",
            "zerolinecolor": "white"
           },
           "yaxis": {
            "backgroundcolor": "#E5ECF6",
            "gridcolor": "white",
            "gridwidth": 2,
            "linecolor": "white",
            "showbackground": true,
            "ticks": "",
            "zerolinecolor": "white"
           },
           "zaxis": {
            "backgroundcolor": "#E5ECF6",
            "gridcolor": "white",
            "gridwidth": 2,
            "linecolor": "white",
            "showbackground": true,
            "ticks": "",
            "zerolinecolor": "white"
           }
          },
          "shapedefaults": {
           "line": {
            "color": "#2a3f5f"
           }
          },
          "ternary": {
           "aaxis": {
            "gridcolor": "white",
            "linecolor": "white",
            "ticks": ""
           },
           "baxis": {
            "gridcolor": "white",
            "linecolor": "white",
            "ticks": ""
           },
           "bgcolor": "#E5ECF6",
           "caxis": {
            "gridcolor": "white",
            "linecolor": "white",
            "ticks": ""
           }
          },
          "title": {
           "x": 0.05
          },
          "xaxis": {
           "automargin": true,
           "gridcolor": "white",
           "linecolor": "white",
           "ticks": "",
           "title": {
            "standoff": 15
           },
           "zerolinecolor": "white",
           "zerolinewidth": 2
          },
          "yaxis": {
           "automargin": true,
           "gridcolor": "white",
           "linecolor": "white",
           "ticks": "",
           "title": {
            "standoff": 15
           },
           "zerolinecolor": "white",
           "zerolinewidth": 2
          }
         }
        },
        "xaxis": {
         "anchor": "y",
         "domain": [
          0,
          1
         ],
         "title": {
          "text": "Geography"
         }
        },
        "yaxis": {
         "anchor": "x",
         "domain": [
          0,
          1
         ],
         "title": {
          "text": "Total : In Correctional Facilities for Adults"
         }
        }
       }
      }
     },
     "metadata": {},
     "output_type": "display_data"
    }
   ],
   "source": [
    "createBarChart(runKmeans(df, getX(df), n)[0], x_axis=\"Geography\", y_axis='Total : In Correctional Facilities for Adults')\n"
   ]
  },
  {
   "cell_type": "code",
   "execution_count": 148,
   "metadata": {},
   "outputs": [
    {
     "data": {
      "application/vnd.plotly.v1+json": {
       "config": {
        "plotlyServerURL": "https://plot.ly"
       },
       "data": [
        {
         "marker": {
          "color": [
           2,
           1,
           3,
           2,
           1,
           2,
           1,
           1,
           1,
           2,
           3,
           1,
           2,
           1,
           2,
           0,
           1,
           3,
           3,
           0,
           1,
           0,
           1,
           0,
           3,
           1,
           1,
           0,
           2,
           0,
           0,
           2,
           0,
           1,
           0,
           1,
           3,
           1,
           2,
           0,
           2,
           2,
           2,
           3,
           1,
           0,
           2,
           0,
           3,
           1,
           1,
           0
          ]
         },
         "mode": "markers",
         "showlegend": false,
         "type": "scatter3d",
         "x": [
          0.7799545658657986,
          -0.3944782573443258,
          1.5656960988320028,
          0.880261995606165,
          0.06526412896568728,
          0.5542628489499739,
          -0.46552935341041873,
          0.18646893990196348,
          -0.3317861137565968,
          0.8844414718453469,
          1.6367471948980956,
          -1.0673739318526176,
          0.1906484161411454,
          -0.5240420207589659,
          0.30767375083823967,
          -0.9879638833081609,
          -0.181324969146047,
          1.147748474913809,
          2.7610263032380367,
          -1.6525006053380888,
          -0.2356581602554122,
          -1.2512708863766229,
          -0.2022223503419567,
          -1.2052966477456217,
          1.9920026752285604,
          0.10705889135750665,
          -0.5658367831507852,
          -0.9712459783514331,
          0.2575200359680564,
          -1.2763477438117146,
          -0.6954005465654253,
          0.8008519470617083,
          -0.7789900713490641,
          -0.13953020675422764,
          -1.2638093150941687,
          -0.03922277701386115,
          1.6994393384858248,
          -0.3902987811051439,
          0.3954427518610603,
          -1.30978355372517,
          0.9095183292804386,
          0.42887856177451583,
          0.27423794092478415,
          1.615849813702186,
          -0.9001948822853402,
          -1.7486285588392734,
          0.5960576113417934,
          -0.8291437862192473,
          0.9262362342371664,
          -0.026684348296315337,
          -0.17296601666768313,
          -1.3557577923561714
         ],
         "y": [
          1.4529922487359943,
          0.8553568942702785,
          1.36244143745331,
          0.6199247849352996,
          -0.21314267886539523,
          0.29394186431763636,
          0.221501215291489,
          -0.7202272220484268,
          0.2758317020610995,
          0.6742552717049101,
          0.9640178678094995,
          0.5474841359091521,
          1.0364585168356468,
          -0.7745577088180373,
          0.07661991723919426,
          -0.6115662485092058,
          -0.5210154372265215,
          1.615983709044826,
          1.1994499771444784,
          -1.4084133877968268,
          -0.9194390068703321,
          -1.4446337123099005,
          -1.5532946858491217,
          -0.6840068975353532,
          0.7285857584745206,
          -0.14070202983924784,
          0.11284024175226794,
          -0.6658967352788163,
          0.4026028378568574,
          -1.1005406294357005,
          -1.0099898181530162,
          1.0545686790921838,
          -1.3540829010272164,
          -0.6840068975353532,
          -0.7564475465615005,
          -0.1588121920957847,
          1.7065345203275102,
          -0.35802397691768995,
          -0.37613413917422683,
          -1.6619556593883427,
          -0.1950325166088584,
          0.9459077055529627,
          0.6561451094483732,
          1.3443312751967733,
          -0.14070202983924784,
          -1.4627438745664374,
          0.2758317020610995,
          -0.6115662485092058,
          2.539601984128205,
          -0.35802397691768995,
          0.8734670565268153,
          -1.9517182554929322
         ],
         "z": [
          0.7037743401080894,
          -0.6369453119167311,
          1.4974445020090699,
          0.8876188408874125,
          0.07601263012991255,
          0.5109618149005064,
          -0.5136349760281607,
          0.3428113568706377,
          -0.30961242028525315,
          0.9033128836368669,
          1.6969830455378476,
          -1.2534969913595833,
          0.031172507988614213,
          -0.4620688355656675,
          0.32935932022824815,
          -1.0091183256895073,
          -0.14818798057657914,
          1.0490432805960865,
          2.8830042761751886,
          -1.614459974597035,
          -0.09662184011408606,
          -1.150364710434597,
          -0.015909620259749045,
          -1.2378029486101287,
          2.1364162425225715,
          0.14551481944892497,
          -0.666091391308575,
          -0.9822142524047283,
          0.1612088621983794,
          -1.2557389974666482,
          -0.6077992325248871,
          0.7284364072858034,
          -0.6414293241308608,
          -0.04057168743746313,
          -1.314031156250336,
          -0.004699589724424459,
          1.6117868134693807,
          -0.39480865235372004,
          0.5109618149005064,
          -1.1884788142547007,
          1.0557692989172813,
          0.3046972530505341,
          0.2396790759456515,
          1.5579786668998228,
          -0.9934242829400529,
          -1.719834261629086,
          0.6230621202537523,
          -0.8432098737667034,
          0.6791122729303752,
          -0.0069415958314893765,
          -0.37014658517600596,
          -1.1884788142547007
         ]
        },
        {
         "marker": {
          "color": "red",
          "line": {
           "color": "black",
           "width": 1
          },
          "size": 10,
          "symbol": "circle"
         },
         "mode": "markers",
         "name": "Centroids",
         "type": "scatter3d",
         "x": [
          -1.1789337976215513,
          -0.2932420551063633,
          0.5584423251891559,
          1.6680932666919601
         ],
         "y": [
          -1.1325816857357272,
          -0.20308147761176362,
          0.5321601524613133,
          1.4326183161973902
         ],
         "z": [
          -1.1348431296933783,
          -0.2971568308015592,
          0.5376934261770496,
          1.6389711375175429
         ]
        }
       ],
       "layout": {
        "height": 800,
        "margin": {
         "b": 0,
         "l": 0,
         "r": 0,
         "t": 0
        },
        "scene": {
         "domain": {
          "x": [
           0,
           1
          ],
          "y": [
           0,
           1
          ]
         },
         "xaxis": {
          "title": {
           "text": "Incarceration rate"
          }
         },
         "yaxis": {
          "title": {
           "text": "Female incarceration rate"
          }
         },
         "zaxis": {
          "title": {
           "text": "Male incarceration rate"
          }
         }
        },
        "template": {
         "data": {
          "bar": [
           {
            "error_x": {
             "color": "#2a3f5f"
            },
            "error_y": {
             "color": "#2a3f5f"
            },
            "marker": {
             "line": {
              "color": "#E5ECF6",
              "width": 0.5
             },
             "pattern": {
              "fillmode": "overlay",
              "size": 10,
              "solidity": 0.2
             }
            },
            "type": "bar"
           }
          ],
          "barpolar": [
           {
            "marker": {
             "line": {
              "color": "#E5ECF6",
              "width": 0.5
             },
             "pattern": {
              "fillmode": "overlay",
              "size": 10,
              "solidity": 0.2
             }
            },
            "type": "barpolar"
           }
          ],
          "carpet": [
           {
            "aaxis": {
             "endlinecolor": "#2a3f5f",
             "gridcolor": "white",
             "linecolor": "white",
             "minorgridcolor": "white",
             "startlinecolor": "#2a3f5f"
            },
            "baxis": {
             "endlinecolor": "#2a3f5f",
             "gridcolor": "white",
             "linecolor": "white",
             "minorgridcolor": "white",
             "startlinecolor": "#2a3f5f"
            },
            "type": "carpet"
           }
          ],
          "choropleth": [
           {
            "colorbar": {
             "outlinewidth": 0,
             "ticks": ""
            },
            "type": "choropleth"
           }
          ],
          "contour": [
           {
            "colorbar": {
             "outlinewidth": 0,
             "ticks": ""
            },
            "colorscale": [
             [
              0,
              "#0d0887"
             ],
             [
              0.1111111111111111,
              "#46039f"
             ],
             [
              0.2222222222222222,
              "#7201a8"
             ],
             [
              0.3333333333333333,
              "#9c179e"
             ],
             [
              0.4444444444444444,
              "#bd3786"
             ],
             [
              0.5555555555555556,
              "#d8576b"
             ],
             [
              0.6666666666666666,
              "#ed7953"
             ],
             [
              0.7777777777777778,
              "#fb9f3a"
             ],
             [
              0.8888888888888888,
              "#fdca26"
             ],
             [
              1,
              "#f0f921"
             ]
            ],
            "type": "contour"
           }
          ],
          "contourcarpet": [
           {
            "colorbar": {
             "outlinewidth": 0,
             "ticks": ""
            },
            "type": "contourcarpet"
           }
          ],
          "heatmap": [
           {
            "colorbar": {
             "outlinewidth": 0,
             "ticks": ""
            },
            "colorscale": [
             [
              0,
              "#0d0887"
             ],
             [
              0.1111111111111111,
              "#46039f"
             ],
             [
              0.2222222222222222,
              "#7201a8"
             ],
             [
              0.3333333333333333,
              "#9c179e"
             ],
             [
              0.4444444444444444,
              "#bd3786"
             ],
             [
              0.5555555555555556,
              "#d8576b"
             ],
             [
              0.6666666666666666,
              "#ed7953"
             ],
             [
              0.7777777777777778,
              "#fb9f3a"
             ],
             [
              0.8888888888888888,
              "#fdca26"
             ],
             [
              1,
              "#f0f921"
             ]
            ],
            "type": "heatmap"
           }
          ],
          "heatmapgl": [
           {
            "colorbar": {
             "outlinewidth": 0,
             "ticks": ""
            },
            "colorscale": [
             [
              0,
              "#0d0887"
             ],
             [
              0.1111111111111111,
              "#46039f"
             ],
             [
              0.2222222222222222,
              "#7201a8"
             ],
             [
              0.3333333333333333,
              "#9c179e"
             ],
             [
              0.4444444444444444,
              "#bd3786"
             ],
             [
              0.5555555555555556,
              "#d8576b"
             ],
             [
              0.6666666666666666,
              "#ed7953"
             ],
             [
              0.7777777777777778,
              "#fb9f3a"
             ],
             [
              0.8888888888888888,
              "#fdca26"
             ],
             [
              1,
              "#f0f921"
             ]
            ],
            "type": "heatmapgl"
           }
          ],
          "histogram": [
           {
            "marker": {
             "pattern": {
              "fillmode": "overlay",
              "size": 10,
              "solidity": 0.2
             }
            },
            "type": "histogram"
           }
          ],
          "histogram2d": [
           {
            "colorbar": {
             "outlinewidth": 0,
             "ticks": ""
            },
            "colorscale": [
             [
              0,
              "#0d0887"
             ],
             [
              0.1111111111111111,
              "#46039f"
             ],
             [
              0.2222222222222222,
              "#7201a8"
             ],
             [
              0.3333333333333333,
              "#9c179e"
             ],
             [
              0.4444444444444444,
              "#bd3786"
             ],
             [
              0.5555555555555556,
              "#d8576b"
             ],
             [
              0.6666666666666666,
              "#ed7953"
             ],
             [
              0.7777777777777778,
              "#fb9f3a"
             ],
             [
              0.8888888888888888,
              "#fdca26"
             ],
             [
              1,
              "#f0f921"
             ]
            ],
            "type": "histogram2d"
           }
          ],
          "histogram2dcontour": [
           {
            "colorbar": {
             "outlinewidth": 0,
             "ticks": ""
            },
            "colorscale": [
             [
              0,
              "#0d0887"
             ],
             [
              0.1111111111111111,
              "#46039f"
             ],
             [
              0.2222222222222222,
              "#7201a8"
             ],
             [
              0.3333333333333333,
              "#9c179e"
             ],
             [
              0.4444444444444444,
              "#bd3786"
             ],
             [
              0.5555555555555556,
              "#d8576b"
             ],
             [
              0.6666666666666666,
              "#ed7953"
             ],
             [
              0.7777777777777778,
              "#fb9f3a"
             ],
             [
              0.8888888888888888,
              "#fdca26"
             ],
             [
              1,
              "#f0f921"
             ]
            ],
            "type": "histogram2dcontour"
           }
          ],
          "mesh3d": [
           {
            "colorbar": {
             "outlinewidth": 0,
             "ticks": ""
            },
            "type": "mesh3d"
           }
          ],
          "parcoords": [
           {
            "line": {
             "colorbar": {
              "outlinewidth": 0,
              "ticks": ""
             }
            },
            "type": "parcoords"
           }
          ],
          "pie": [
           {
            "automargin": true,
            "type": "pie"
           }
          ],
          "scatter": [
           {
            "fillpattern": {
             "fillmode": "overlay",
             "size": 10,
             "solidity": 0.2
            },
            "type": "scatter"
           }
          ],
          "scatter3d": [
           {
            "line": {
             "colorbar": {
              "outlinewidth": 0,
              "ticks": ""
             }
            },
            "marker": {
             "colorbar": {
              "outlinewidth": 0,
              "ticks": ""
             }
            },
            "type": "scatter3d"
           }
          ],
          "scattercarpet": [
           {
            "marker": {
             "colorbar": {
              "outlinewidth": 0,
              "ticks": ""
             }
            },
            "type": "scattercarpet"
           }
          ],
          "scattergeo": [
           {
            "marker": {
             "colorbar": {
              "outlinewidth": 0,
              "ticks": ""
             }
            },
            "type": "scattergeo"
           }
          ],
          "scattergl": [
           {
            "marker": {
             "colorbar": {
              "outlinewidth": 0,
              "ticks": ""
             }
            },
            "type": "scattergl"
           }
          ],
          "scattermapbox": [
           {
            "marker": {
             "colorbar": {
              "outlinewidth": 0,
              "ticks": ""
             }
            },
            "type": "scattermapbox"
           }
          ],
          "scatterpolar": [
           {
            "marker": {
             "colorbar": {
              "outlinewidth": 0,
              "ticks": ""
             }
            },
            "type": "scatterpolar"
           }
          ],
          "scatterpolargl": [
           {
            "marker": {
             "colorbar": {
              "outlinewidth": 0,
              "ticks": ""
             }
            },
            "type": "scatterpolargl"
           }
          ],
          "scatterternary": [
           {
            "marker": {
             "colorbar": {
              "outlinewidth": 0,
              "ticks": ""
             }
            },
            "type": "scatterternary"
           }
          ],
          "surface": [
           {
            "colorbar": {
             "outlinewidth": 0,
             "ticks": ""
            },
            "colorscale": [
             [
              0,
              "#0d0887"
             ],
             [
              0.1111111111111111,
              "#46039f"
             ],
             [
              0.2222222222222222,
              "#7201a8"
             ],
             [
              0.3333333333333333,
              "#9c179e"
             ],
             [
              0.4444444444444444,
              "#bd3786"
             ],
             [
              0.5555555555555556,
              "#d8576b"
             ],
             [
              0.6666666666666666,
              "#ed7953"
             ],
             [
              0.7777777777777778,
              "#fb9f3a"
             ],
             [
              0.8888888888888888,
              "#fdca26"
             ],
             [
              1,
              "#f0f921"
             ]
            ],
            "type": "surface"
           }
          ],
          "table": [
           {
            "cells": {
             "fill": {
              "color": "#EBF0F8"
             },
             "line": {
              "color": "white"
             }
            },
            "header": {
             "fill": {
              "color": "#C8D4E3"
             },
             "line": {
              "color": "white"
             }
            },
            "type": "table"
           }
          ]
         },
         "layout": {
          "annotationdefaults": {
           "arrowcolor": "#2a3f5f",
           "arrowhead": 0,
           "arrowwidth": 1
          },
          "autotypenumbers": "strict",
          "coloraxis": {
           "colorbar": {
            "outlinewidth": 0,
            "ticks": ""
           }
          },
          "colorscale": {
           "diverging": [
            [
             0,
             "#8e0152"
            ],
            [
             0.1,
             "#c51b7d"
            ],
            [
             0.2,
             "#de77ae"
            ],
            [
             0.3,
             "#f1b6da"
            ],
            [
             0.4,
             "#fde0ef"
            ],
            [
             0.5,
             "#f7f7f7"
            ],
            [
             0.6,
             "#e6f5d0"
            ],
            [
             0.7,
             "#b8e186"
            ],
            [
             0.8,
             "#7fbc41"
            ],
            [
             0.9,
             "#4d9221"
            ],
            [
             1,
             "#276419"
            ]
           ],
           "sequential": [
            [
             0,
             "#0d0887"
            ],
            [
             0.1111111111111111,
             "#46039f"
            ],
            [
             0.2222222222222222,
             "#7201a8"
            ],
            [
             0.3333333333333333,
             "#9c179e"
            ],
            [
             0.4444444444444444,
             "#bd3786"
            ],
            [
             0.5555555555555556,
             "#d8576b"
            ],
            [
             0.6666666666666666,
             "#ed7953"
            ],
            [
             0.7777777777777778,
             "#fb9f3a"
            ],
            [
             0.8888888888888888,
             "#fdca26"
            ],
            [
             1,
             "#f0f921"
            ]
           ],
           "sequentialminus": [
            [
             0,
             "#0d0887"
            ],
            [
             0.1111111111111111,
             "#46039f"
            ],
            [
             0.2222222222222222,
             "#7201a8"
            ],
            [
             0.3333333333333333,
             "#9c179e"
            ],
            [
             0.4444444444444444,
             "#bd3786"
            ],
            [
             0.5555555555555556,
             "#d8576b"
            ],
            [
             0.6666666666666666,
             "#ed7953"
            ],
            [
             0.7777777777777778,
             "#fb9f3a"
            ],
            [
             0.8888888888888888,
             "#fdca26"
            ],
            [
             1,
             "#f0f921"
            ]
           ]
          },
          "colorway": [
           "#636efa",
           "#EF553B",
           "#00cc96",
           "#ab63fa",
           "#FFA15A",
           "#19d3f3",
           "#FF6692",
           "#B6E880",
           "#FF97FF",
           "#FECB52"
          ],
          "font": {
           "color": "#2a3f5f"
          },
          "geo": {
           "bgcolor": "white",
           "lakecolor": "white",
           "landcolor": "#E5ECF6",
           "showlakes": true,
           "showland": true,
           "subunitcolor": "white"
          },
          "hoverlabel": {
           "align": "left"
          },
          "hovermode": "closest",
          "mapbox": {
           "style": "light"
          },
          "paper_bgcolor": "white",
          "plot_bgcolor": "#E5ECF6",
          "polar": {
           "angularaxis": {
            "gridcolor": "white",
            "linecolor": "white",
            "ticks": ""
           },
           "bgcolor": "#E5ECF6",
           "radialaxis": {
            "gridcolor": "white",
            "linecolor": "white",
            "ticks": ""
           }
          },
          "scene": {
           "xaxis": {
            "backgroundcolor": "#E5ECF6",
            "gridcolor": "white",
            "gridwidth": 2,
            "linecolor": "white",
            "showbackground": true,
            "ticks": "",
            "zerolinecolor": "white"
           },
           "yaxis": {
            "backgroundcolor": "#E5ECF6",
            "gridcolor": "white",
            "gridwidth": 2,
            "linecolor": "white",
            "showbackground": true,
            "ticks": "",
            "zerolinecolor": "white"
           },
           "zaxis": {
            "backgroundcolor": "#E5ECF6",
            "gridcolor": "white",
            "gridwidth": 2,
            "linecolor": "white",
            "showbackground": true,
            "ticks": "",
            "zerolinecolor": "white"
           }
          },
          "shapedefaults": {
           "line": {
            "color": "#2a3f5f"
           }
          },
          "ternary": {
           "aaxis": {
            "gridcolor": "white",
            "linecolor": "white",
            "ticks": ""
           },
           "baxis": {
            "gridcolor": "white",
            "linecolor": "white",
            "ticks": ""
           },
           "bgcolor": "#E5ECF6",
           "caxis": {
            "gridcolor": "white",
            "linecolor": "white",
            "ticks": ""
           }
          },
          "title": {
           "x": 0.05
          },
          "xaxis": {
           "automargin": true,
           "gridcolor": "white",
           "linecolor": "white",
           "ticks": "",
           "title": {
            "standoff": 15
           },
           "zerolinecolor": "white",
           "zerolinewidth": 2
          },
          "yaxis": {
           "automargin": true,
           "gridcolor": "white",
           "linecolor": "white",
           "ticks": "",
           "title": {
            "standoff": 15
           },
           "zerolinecolor": "white",
           "zerolinewidth": 2
          }
         }
        },
        "title": {
         "text": "Clusters"
        }
       }
      }
     },
     "metadata": {},
     "output_type": "display_data"
    }
   ],
   "source": [
    "visualizing_results_3d(df,n,'Incarceration rate', 'Female incarceration rate', 'Male incarceration rate')"
   ]
  },
  {
   "cell_type": "code",
   "execution_count": 149,
   "metadata": {},
   "outputs": [
    {
     "data": {
      "application/vnd.plotly.v1+json": {
       "config": {
        "plotlyServerURL": "https://plot.ly"
       },
       "data": [
        {
         "marker": {
          "color": [
           3,
           3,
           2,
           3,
           0,
           3,
           0,
           0,
           0,
           3,
           2,
           1,
           3,
           0,
           3,
           1,
           0,
           2,
           2,
           1,
           0,
           1,
           0,
           1,
           2,
           0,
           0,
           1,
           3,
           1,
           1,
           3,
           1,
           0,
           1,
           0,
           2,
           0,
           0,
           1,
           3,
           3,
           3,
           2,
           1,
           1,
           3,
           1,
           2,
           0,
           3,
           1
          ]
         },
         "mode": "markers",
         "showlegend": false,
         "type": "scatter",
         "x": [
          0.7799545658657986,
          -0.3944782573443258,
          1.5656960988320028,
          0.880261995606165,
          0.06526412896568728,
          0.5542628489499739,
          -0.46552935341041873,
          0.18646893990196348,
          -0.3317861137565968,
          0.8844414718453469,
          1.6367471948980956,
          -1.0673739318526176,
          0.1906484161411454,
          -0.5240420207589659,
          0.30767375083823967,
          -0.9879638833081609,
          -0.181324969146047,
          1.147748474913809,
          2.7610263032380367,
          -1.6525006053380888,
          -0.2356581602554122,
          -1.2512708863766229,
          -0.2022223503419567,
          -1.2052966477456217,
          1.9920026752285604,
          0.10705889135750665,
          -0.5658367831507852,
          -0.9712459783514331,
          0.2575200359680564,
          -1.2763477438117146,
          -0.6954005465654253,
          0.8008519470617083,
          -0.7789900713490641,
          -0.13953020675422764,
          -1.2638093150941687,
          -0.03922277701386115,
          1.6994393384858248,
          -0.3902987811051439,
          0.3954427518610603,
          -1.30978355372517,
          0.9095183292804386,
          0.42887856177451583,
          0.27423794092478415,
          1.615849813702186,
          -0.9001948822853402,
          -1.7486285588392734,
          0.5960576113417934,
          -0.8291437862192473,
          0.9262362342371664,
          -0.026684348296315337,
          -0.17296601666768313,
          -1.3557577923561714
         ],
         "xaxis": "x",
         "y": [
          1.4529922487359943,
          0.8553568942702785,
          1.36244143745331,
          0.6199247849352996,
          -0.21314267886539523,
          0.29394186431763636,
          0.221501215291489,
          -0.7202272220484268,
          0.2758317020610995,
          0.6742552717049101,
          0.9640178678094995,
          0.5474841359091521,
          1.0364585168356468,
          -0.7745577088180373,
          0.07661991723919426,
          -0.6115662485092058,
          -0.5210154372265215,
          1.615983709044826,
          1.1994499771444784,
          -1.4084133877968268,
          -0.9194390068703321,
          -1.4446337123099005,
          -1.5532946858491217,
          -0.6840068975353532,
          0.7285857584745206,
          -0.14070202983924784,
          0.11284024175226794,
          -0.6658967352788163,
          0.4026028378568574,
          -1.1005406294357005,
          -1.0099898181530162,
          1.0545686790921838,
          -1.3540829010272164,
          -0.6840068975353532,
          -0.7564475465615005,
          -0.1588121920957847,
          1.7065345203275102,
          -0.35802397691768995,
          -0.37613413917422683,
          -1.6619556593883427,
          -0.1950325166088584,
          0.9459077055529627,
          0.6561451094483732,
          1.3443312751967733,
          -0.14070202983924784,
          -1.4627438745664374,
          0.2758317020610995,
          -0.6115662485092058,
          2.539601984128205,
          -0.35802397691768995,
          0.8734670565268153,
          -1.9517182554929322
         ],
         "yaxis": "y"
        },
        {
         "marker": {
          "color": "red",
          "line": {
           "color": "black",
           "width": 1
          },
          "size": 10,
          "symbol": "star"
         },
         "mode": "markers",
         "name": "Centroids",
         "type": "scatter",
         "x": [
          -0.1565267434602342,
          -1.152913878881208,
          1.6680932666919601,
          0.4497759429704255
         ],
         "xaxis": "x",
         "y": [
          -0.4111471195368647,
          -0.95445198723297,
          1.4326183161973902,
          0.6445028622834565
         ],
         "yaxis": "y"
        },
        {
         "marker": {
          "color": [
           3,
           3,
           2,
           3,
           0,
           3,
           0,
           0,
           0,
           3,
           2,
           1,
           3,
           0,
           3,
           1,
           0,
           2,
           2,
           1,
           0,
           1,
           0,
           1,
           2,
           0,
           0,
           1,
           3,
           1,
           1,
           3,
           1,
           0,
           1,
           0,
           2,
           0,
           0,
           1,
           3,
           3,
           3,
           2,
           1,
           1,
           3,
           1,
           2,
           0,
           3,
           1
          ]
         },
         "mode": "markers",
         "showlegend": false,
         "type": "scatter",
         "x": [
          0.7799545658657986,
          -0.3944782573443258,
          1.5656960988320028,
          0.880261995606165,
          0.06526412896568728,
          0.5542628489499739,
          -0.46552935341041873,
          0.18646893990196348,
          -0.3317861137565968,
          0.8844414718453469,
          1.6367471948980956,
          -1.0673739318526176,
          0.1906484161411454,
          -0.5240420207589659,
          0.30767375083823967,
          -0.9879638833081609,
          -0.181324969146047,
          1.147748474913809,
          2.7610263032380367,
          -1.6525006053380888,
          -0.2356581602554122,
          -1.2512708863766229,
          -0.2022223503419567,
          -1.2052966477456217,
          1.9920026752285604,
          0.10705889135750665,
          -0.5658367831507852,
          -0.9712459783514331,
          0.2575200359680564,
          -1.2763477438117146,
          -0.6954005465654253,
          0.8008519470617083,
          -0.7789900713490641,
          -0.13953020675422764,
          -1.2638093150941687,
          -0.03922277701386115,
          1.6994393384858248,
          -0.3902987811051439,
          0.3954427518610603,
          -1.30978355372517,
          0.9095183292804386,
          0.42887856177451583,
          0.27423794092478415,
          1.615849813702186,
          -0.9001948822853402,
          -1.7486285588392734,
          0.5960576113417934,
          -0.8291437862192473,
          0.9262362342371664,
          -0.026684348296315337,
          -0.17296601666768313,
          -1.3557577923561714
         ],
         "xaxis": "x2",
         "y": [
          0.7037743401080894,
          -0.6369453119167311,
          1.4974445020090699,
          0.8876188408874125,
          0.07601263012991255,
          0.5109618149005064,
          -0.5136349760281607,
          0.3428113568706377,
          -0.30961242028525315,
          0.9033128836368669,
          1.6969830455378476,
          -1.2534969913595833,
          0.031172507988614213,
          -0.4620688355656675,
          0.32935932022824815,
          -1.0091183256895073,
          -0.14818798057657914,
          1.0490432805960865,
          2.8830042761751886,
          -1.614459974597035,
          -0.09662184011408606,
          -1.150364710434597,
          -0.015909620259749045,
          -1.2378029486101287,
          2.1364162425225715,
          0.14551481944892497,
          -0.666091391308575,
          -0.9822142524047283,
          0.1612088621983794,
          -1.2557389974666482,
          -0.6077992325248871,
          0.7284364072858034,
          -0.6414293241308608,
          -0.04057168743746313,
          -1.314031156250336,
          -0.004699589724424459,
          1.6117868134693807,
          -0.39480865235372004,
          0.5109618149005064,
          -1.1884788142547007,
          1.0557692989172813,
          0.3046972530505341,
          0.2396790759456515,
          1.5579786668998228,
          -0.9934242829400529,
          -1.719834261629086,
          0.6230621202537523,
          -0.8432098737667034,
          0.6791122729303752,
          -0.0069415958314893765,
          -0.37014658517600596,
          -1.1884788142547007
         ],
         "yaxis": "y2"
        },
        {
         "marker": {
          "color": "red",
          "line": {
           "color": "black",
           "width": 1
          },
          "size": 10,
          "symbol": "star"
         },
         "mode": "markers",
         "name": "Centroids",
         "type": "scatter",
         "x": [
          -0.1565267434602342,
          -1.152913878881208,
          1.6680932666919601,
          0.4497759429704255
         ],
         "xaxis": "x2",
         "y": [
          -0.10558986454234577,
          -1.1333254640209036,
          1.6389711375175429,
          0.3908543448791715
         ],
         "yaxis": "y2"
        },
        {
         "marker": {
          "color": [
           3,
           3,
           2,
           3,
           0,
           3,
           0,
           0,
           0,
           3,
           2,
           1,
           3,
           0,
           3,
           1,
           0,
           2,
           2,
           1,
           0,
           1,
           0,
           1,
           2,
           0,
           0,
           1,
           3,
           1,
           1,
           3,
           1,
           0,
           1,
           0,
           2,
           0,
           0,
           1,
           3,
           3,
           3,
           2,
           1,
           1,
           3,
           1,
           2,
           0,
           3,
           1
          ]
         },
         "mode": "markers",
         "showlegend": false,
         "type": "scatter",
         "x": [
          1.4529922487359943,
          0.8553568942702785,
          1.36244143745331,
          0.6199247849352996,
          -0.21314267886539523,
          0.29394186431763636,
          0.221501215291489,
          -0.7202272220484268,
          0.2758317020610995,
          0.6742552717049101,
          0.9640178678094995,
          0.5474841359091521,
          1.0364585168356468,
          -0.7745577088180373,
          0.07661991723919426,
          -0.6115662485092058,
          -0.5210154372265215,
          1.615983709044826,
          1.1994499771444784,
          -1.4084133877968268,
          -0.9194390068703321,
          -1.4446337123099005,
          -1.5532946858491217,
          -0.6840068975353532,
          0.7285857584745206,
          -0.14070202983924784,
          0.11284024175226794,
          -0.6658967352788163,
          0.4026028378568574,
          -1.1005406294357005,
          -1.0099898181530162,
          1.0545686790921838,
          -1.3540829010272164,
          -0.6840068975353532,
          -0.7564475465615005,
          -0.1588121920957847,
          1.7065345203275102,
          -0.35802397691768995,
          -0.37613413917422683,
          -1.6619556593883427,
          -0.1950325166088584,
          0.9459077055529627,
          0.6561451094483732,
          1.3443312751967733,
          -0.14070202983924784,
          -1.4627438745664374,
          0.2758317020610995,
          -0.6115662485092058,
          2.539601984128205,
          -0.35802397691768995,
          0.8734670565268153,
          -1.9517182554929322
         ],
         "xaxis": "x3",
         "y": [
          0.7037743401080894,
          -0.6369453119167311,
          1.4974445020090699,
          0.8876188408874125,
          0.07601263012991255,
          0.5109618149005064,
          -0.5136349760281607,
          0.3428113568706377,
          -0.30961242028525315,
          0.9033128836368669,
          1.6969830455378476,
          -1.2534969913595833,
          0.031172507988614213,
          -0.4620688355656675,
          0.32935932022824815,
          -1.0091183256895073,
          -0.14818798057657914,
          1.0490432805960865,
          2.8830042761751886,
          -1.614459974597035,
          -0.09662184011408606,
          -1.150364710434597,
          -0.015909620259749045,
          -1.2378029486101287,
          2.1364162425225715,
          0.14551481944892497,
          -0.666091391308575,
          -0.9822142524047283,
          0.1612088621983794,
          -1.2557389974666482,
          -0.6077992325248871,
          0.7284364072858034,
          -0.6414293241308608,
          -0.04057168743746313,
          -1.314031156250336,
          -0.004699589724424459,
          1.6117868134693807,
          -0.39480865235372004,
          0.5109618149005064,
          -1.1884788142547007,
          1.0557692989172813,
          0.3046972530505341,
          0.2396790759456515,
          1.5579786668998228,
          -0.9934242829400529,
          -1.719834261629086,
          0.6230621202537523,
          -0.8432098737667034,
          0.6791122729303752,
          -0.0069415958314893765,
          -0.37014658517600596,
          -1.1884788142547007
         ],
         "yaxis": "y3"
        },
        {
         "marker": {
          "color": "red",
          "line": {
           "color": "black",
           "width": 1
          },
          "size": 10,
          "symbol": "star"
         },
         "mode": "markers",
         "name": "Centroids",
         "type": "scatter",
         "x": [
          -0.4111471195368647,
          -0.95445198723297,
          1.4326183161973902,
          0.6445028622834565
         ],
         "xaxis": "x3",
         "y": [
          -0.10558986454234577,
          -1.1333254640209036,
          1.6389711375175429,
          0.3908543448791715
         ],
         "yaxis": "y3"
        }
       ],
       "layout": {
        "annotations": [
         {
          "font": {
           "size": 16
          },
          "showarrow": false,
          "text": "IR by FIR",
          "x": 0.5,
          "xanchor": "center",
          "xref": "paper",
          "y": 1,
          "yanchor": "bottom",
          "yref": "paper"
         },
         {
          "font": {
           "size": 16
          },
          "showarrow": false,
          "text": "IR by MIR",
          "x": 0.5,
          "xanchor": "center",
          "xref": "paper",
          "y": 0.6111111111111112,
          "yanchor": "bottom",
          "yref": "paper"
         },
         {
          "font": {
           "size": 16
          },
          "showarrow": false,
          "text": "FIR by MIR",
          "x": 0.5,
          "xanchor": "center",
          "xref": "paper",
          "y": 0.22222222222222224,
          "yanchor": "bottom",
          "yref": "paper"
         }
        ],
        "height": 900,
        "template": {
         "data": {
          "bar": [
           {
            "error_x": {
             "color": "#2a3f5f"
            },
            "error_y": {
             "color": "#2a3f5f"
            },
            "marker": {
             "line": {
              "color": "#E5ECF6",
              "width": 0.5
             },
             "pattern": {
              "fillmode": "overlay",
              "size": 10,
              "solidity": 0.2
             }
            },
            "type": "bar"
           }
          ],
          "barpolar": [
           {
            "marker": {
             "line": {
              "color": "#E5ECF6",
              "width": 0.5
             },
             "pattern": {
              "fillmode": "overlay",
              "size": 10,
              "solidity": 0.2
             }
            },
            "type": "barpolar"
           }
          ],
          "carpet": [
           {
            "aaxis": {
             "endlinecolor": "#2a3f5f",
             "gridcolor": "white",
             "linecolor": "white",
             "minorgridcolor": "white",
             "startlinecolor": "#2a3f5f"
            },
            "baxis": {
             "endlinecolor": "#2a3f5f",
             "gridcolor": "white",
             "linecolor": "white",
             "minorgridcolor": "white",
             "startlinecolor": "#2a3f5f"
            },
            "type": "carpet"
           }
          ],
          "choropleth": [
           {
            "colorbar": {
             "outlinewidth": 0,
             "ticks": ""
            },
            "type": "choropleth"
           }
          ],
          "contour": [
           {
            "colorbar": {
             "outlinewidth": 0,
             "ticks": ""
            },
            "colorscale": [
             [
              0,
              "#0d0887"
             ],
             [
              0.1111111111111111,
              "#46039f"
             ],
             [
              0.2222222222222222,
              "#7201a8"
             ],
             [
              0.3333333333333333,
              "#9c179e"
             ],
             [
              0.4444444444444444,
              "#bd3786"
             ],
             [
              0.5555555555555556,
              "#d8576b"
             ],
             [
              0.6666666666666666,
              "#ed7953"
             ],
             [
              0.7777777777777778,
              "#fb9f3a"
             ],
             [
              0.8888888888888888,
              "#fdca26"
             ],
             [
              1,
              "#f0f921"
             ]
            ],
            "type": "contour"
           }
          ],
          "contourcarpet": [
           {
            "colorbar": {
             "outlinewidth": 0,
             "ticks": ""
            },
            "type": "contourcarpet"
           }
          ],
          "heatmap": [
           {
            "colorbar": {
             "outlinewidth": 0,
             "ticks": ""
            },
            "colorscale": [
             [
              0,
              "#0d0887"
             ],
             [
              0.1111111111111111,
              "#46039f"
             ],
             [
              0.2222222222222222,
              "#7201a8"
             ],
             [
              0.3333333333333333,
              "#9c179e"
             ],
             [
              0.4444444444444444,
              "#bd3786"
             ],
             [
              0.5555555555555556,
              "#d8576b"
             ],
             [
              0.6666666666666666,
              "#ed7953"
             ],
             [
              0.7777777777777778,
              "#fb9f3a"
             ],
             [
              0.8888888888888888,
              "#fdca26"
             ],
             [
              1,
              "#f0f921"
             ]
            ],
            "type": "heatmap"
           }
          ],
          "heatmapgl": [
           {
            "colorbar": {
             "outlinewidth": 0,
             "ticks": ""
            },
            "colorscale": [
             [
              0,
              "#0d0887"
             ],
             [
              0.1111111111111111,
              "#46039f"
             ],
             [
              0.2222222222222222,
              "#7201a8"
             ],
             [
              0.3333333333333333,
              "#9c179e"
             ],
             [
              0.4444444444444444,
              "#bd3786"
             ],
             [
              0.5555555555555556,
              "#d8576b"
             ],
             [
              0.6666666666666666,
              "#ed7953"
             ],
             [
              0.7777777777777778,
              "#fb9f3a"
             ],
             [
              0.8888888888888888,
              "#fdca26"
             ],
             [
              1,
              "#f0f921"
             ]
            ],
            "type": "heatmapgl"
           }
          ],
          "histogram": [
           {
            "marker": {
             "pattern": {
              "fillmode": "overlay",
              "size": 10,
              "solidity": 0.2
             }
            },
            "type": "histogram"
           }
          ],
          "histogram2d": [
           {
            "colorbar": {
             "outlinewidth": 0,
             "ticks": ""
            },
            "colorscale": [
             [
              0,
              "#0d0887"
             ],
             [
              0.1111111111111111,
              "#46039f"
             ],
             [
              0.2222222222222222,
              "#7201a8"
             ],
             [
              0.3333333333333333,
              "#9c179e"
             ],
             [
              0.4444444444444444,
              "#bd3786"
             ],
             [
              0.5555555555555556,
              "#d8576b"
             ],
             [
              0.6666666666666666,
              "#ed7953"
             ],
             [
              0.7777777777777778,
              "#fb9f3a"
             ],
             [
              0.8888888888888888,
              "#fdca26"
             ],
             [
              1,
              "#f0f921"
             ]
            ],
            "type": "histogram2d"
           }
          ],
          "histogram2dcontour": [
           {
            "colorbar": {
             "outlinewidth": 0,
             "ticks": ""
            },
            "colorscale": [
             [
              0,
              "#0d0887"
             ],
             [
              0.1111111111111111,
              "#46039f"
             ],
             [
              0.2222222222222222,
              "#7201a8"
             ],
             [
              0.3333333333333333,
              "#9c179e"
             ],
             [
              0.4444444444444444,
              "#bd3786"
             ],
             [
              0.5555555555555556,
              "#d8576b"
             ],
             [
              0.6666666666666666,
              "#ed7953"
             ],
             [
              0.7777777777777778,
              "#fb9f3a"
             ],
             [
              0.8888888888888888,
              "#fdca26"
             ],
             [
              1,
              "#f0f921"
             ]
            ],
            "type": "histogram2dcontour"
           }
          ],
          "mesh3d": [
           {
            "colorbar": {
             "outlinewidth": 0,
             "ticks": ""
            },
            "type": "mesh3d"
           }
          ],
          "parcoords": [
           {
            "line": {
             "colorbar": {
              "outlinewidth": 0,
              "ticks": ""
             }
            },
            "type": "parcoords"
           }
          ],
          "pie": [
           {
            "automargin": true,
            "type": "pie"
           }
          ],
          "scatter": [
           {
            "fillpattern": {
             "fillmode": "overlay",
             "size": 10,
             "solidity": 0.2
            },
            "type": "scatter"
           }
          ],
          "scatter3d": [
           {
            "line": {
             "colorbar": {
              "outlinewidth": 0,
              "ticks": ""
             }
            },
            "marker": {
             "colorbar": {
              "outlinewidth": 0,
              "ticks": ""
             }
            },
            "type": "scatter3d"
           }
          ],
          "scattercarpet": [
           {
            "marker": {
             "colorbar": {
              "outlinewidth": 0,
              "ticks": ""
             }
            },
            "type": "scattercarpet"
           }
          ],
          "scattergeo": [
           {
            "marker": {
             "colorbar": {
              "outlinewidth": 0,
              "ticks": ""
             }
            },
            "type": "scattergeo"
           }
          ],
          "scattergl": [
           {
            "marker": {
             "colorbar": {
              "outlinewidth": 0,
              "ticks": ""
             }
            },
            "type": "scattergl"
           }
          ],
          "scattermapbox": [
           {
            "marker": {
             "colorbar": {
              "outlinewidth": 0,
              "ticks": ""
             }
            },
            "type": "scattermapbox"
           }
          ],
          "scatterpolar": [
           {
            "marker": {
             "colorbar": {
              "outlinewidth": 0,
              "ticks": ""
             }
            },
            "type": "scatterpolar"
           }
          ],
          "scatterpolargl": [
           {
            "marker": {
             "colorbar": {
              "outlinewidth": 0,
              "ticks": ""
             }
            },
            "type": "scatterpolargl"
           }
          ],
          "scatterternary": [
           {
            "marker": {
             "colorbar": {
              "outlinewidth": 0,
              "ticks": ""
             }
            },
            "type": "scatterternary"
           }
          ],
          "surface": [
           {
            "colorbar": {
             "outlinewidth": 0,
             "ticks": ""
            },
            "colorscale": [
             [
              0,
              "#0d0887"
             ],
             [
              0.1111111111111111,
              "#46039f"
             ],
             [
              0.2222222222222222,
              "#7201a8"
             ],
             [
              0.3333333333333333,
              "#9c179e"
             ],
             [
              0.4444444444444444,
              "#bd3786"
             ],
             [
              0.5555555555555556,
              "#d8576b"
             ],
             [
              0.6666666666666666,
              "#ed7953"
             ],
             [
              0.7777777777777778,
              "#fb9f3a"
             ],
             [
              0.8888888888888888,
              "#fdca26"
             ],
             [
              1,
              "#f0f921"
             ]
            ],
            "type": "surface"
           }
          ],
          "table": [
           {
            "cells": {
             "fill": {
              "color": "#EBF0F8"
             },
             "line": {
              "color": "white"
             }
            },
            "header": {
             "fill": {
              "color": "#C8D4E3"
             },
             "line": {
              "color": "white"
             }
            },
            "type": "table"
           }
          ]
         },
         "layout": {
          "annotationdefaults": {
           "arrowcolor": "#2a3f5f",
           "arrowhead": 0,
           "arrowwidth": 1
          },
          "autotypenumbers": "strict",
          "coloraxis": {
           "colorbar": {
            "outlinewidth": 0,
            "ticks": ""
           }
          },
          "colorscale": {
           "diverging": [
            [
             0,
             "#8e0152"
            ],
            [
             0.1,
             "#c51b7d"
            ],
            [
             0.2,
             "#de77ae"
            ],
            [
             0.3,
             "#f1b6da"
            ],
            [
             0.4,
             "#fde0ef"
            ],
            [
             0.5,
             "#f7f7f7"
            ],
            [
             0.6,
             "#e6f5d0"
            ],
            [
             0.7,
             "#b8e186"
            ],
            [
             0.8,
             "#7fbc41"
            ],
            [
             0.9,
             "#4d9221"
            ],
            [
             1,
             "#276419"
            ]
           ],
           "sequential": [
            [
             0,
             "#0d0887"
            ],
            [
             0.1111111111111111,
             "#46039f"
            ],
            [
             0.2222222222222222,
             "#7201a8"
            ],
            [
             0.3333333333333333,
             "#9c179e"
            ],
            [
             0.4444444444444444,
             "#bd3786"
            ],
            [
             0.5555555555555556,
             "#d8576b"
            ],
            [
             0.6666666666666666,
             "#ed7953"
            ],
            [
             0.7777777777777778,
             "#fb9f3a"
            ],
            [
             0.8888888888888888,
             "#fdca26"
            ],
            [
             1,
             "#f0f921"
            ]
           ],
           "sequentialminus": [
            [
             0,
             "#0d0887"
            ],
            [
             0.1111111111111111,
             "#46039f"
            ],
            [
             0.2222222222222222,
             "#7201a8"
            ],
            [
             0.3333333333333333,
             "#9c179e"
            ],
            [
             0.4444444444444444,
             "#bd3786"
            ],
            [
             0.5555555555555556,
             "#d8576b"
            ],
            [
             0.6666666666666666,
             "#ed7953"
            ],
            [
             0.7777777777777778,
             "#fb9f3a"
            ],
            [
             0.8888888888888888,
             "#fdca26"
            ],
            [
             1,
             "#f0f921"
            ]
           ]
          },
          "colorway": [
           "#636efa",
           "#EF553B",
           "#00cc96",
           "#ab63fa",
           "#FFA15A",
           "#19d3f3",
           "#FF6692",
           "#B6E880",
           "#FF97FF",
           "#FECB52"
          ],
          "font": {
           "color": "#2a3f5f"
          },
          "geo": {
           "bgcolor": "white",
           "lakecolor": "white",
           "landcolor": "#E5ECF6",
           "showlakes": true,
           "showland": true,
           "subunitcolor": "white"
          },
          "hoverlabel": {
           "align": "left"
          },
          "hovermode": "closest",
          "mapbox": {
           "style": "light"
          },
          "paper_bgcolor": "white",
          "plot_bgcolor": "#E5ECF6",
          "polar": {
           "angularaxis": {
            "gridcolor": "white",
            "linecolor": "white",
            "ticks": ""
           },
           "bgcolor": "#E5ECF6",
           "radialaxis": {
            "gridcolor": "white",
            "linecolor": "white",
            "ticks": ""
           }
          },
          "scene": {
           "xaxis": {
            "backgroundcolor": "#E5ECF6",
            "gridcolor": "white",
            "gridwidth": 2,
            "linecolor": "white",
            "showbackground": true,
            "ticks": "",
            "zerolinecolor": "white"
           },
           "yaxis": {
            "backgroundcolor": "#E5ECF6",
            "gridcolor": "white",
            "gridwidth": 2,
            "linecolor": "white",
            "showbackground": true,
            "ticks": "",
            "zerolinecolor": "white"
           },
           "zaxis": {
            "backgroundcolor": "#E5ECF6",
            "gridcolor": "white",
            "gridwidth": 2,
            "linecolor": "white",
            "showbackground": true,
            "ticks": "",
            "zerolinecolor": "white"
           }
          },
          "shapedefaults": {
           "line": {
            "color": "#2a3f5f"
           }
          },
          "ternary": {
           "aaxis": {
            "gridcolor": "white",
            "linecolor": "white",
            "ticks": ""
           },
           "baxis": {
            "gridcolor": "white",
            "linecolor": "white",
            "ticks": ""
           },
           "bgcolor": "#E5ECF6",
           "caxis": {
            "gridcolor": "white",
            "linecolor": "white",
            "ticks": ""
           }
          },
          "title": {
           "x": 0.05
          },
          "xaxis": {
           "automargin": true,
           "gridcolor": "white",
           "linecolor": "white",
           "ticks": "",
           "title": {
            "standoff": 15
           },
           "zerolinecolor": "white",
           "zerolinewidth": 2
          },
          "yaxis": {
           "automargin": true,
           "gridcolor": "white",
           "linecolor": "white",
           "ticks": "",
           "title": {
            "standoff": 15
           },
           "zerolinecolor": "white",
           "zerolinewidth": 2
          }
         }
        },
        "title": {
         "text": "Clusters of Incarceration rate, Female incarceration rate and Male incarceration rate"
        },
        "width": 900,
        "xaxis": {
         "anchor": "y",
         "domain": [
          0,
          1
         ]
        },
        "xaxis2": {
         "anchor": "y2",
         "domain": [
          0,
          1
         ]
        },
        "xaxis3": {
         "anchor": "y3",
         "domain": [
          0,
          1
         ]
        },
        "yaxis": {
         "anchor": "x",
         "domain": [
          0.7777777777777778,
          1
         ]
        },
        "yaxis2": {
         "anchor": "x2",
         "domain": [
          0.3888888888888889,
          0.6111111111111112
         ]
        },
        "yaxis3": {
         "anchor": "x3",
         "domain": [
          0,
          0.22222222222222224
         ]
        }
       }
      }
     },
     "metadata": {},
     "output_type": "display_data"
    }
   ],
   "source": [
    "visualizing_results_2d(df,n,'Incarceration rate', 'Female incarceration rate', 'Male incarceration rate')"
   ]
  },
  {
   "cell_type": "code",
   "execution_count": 150,
   "metadata": {},
   "outputs": [
    {
     "data": {
      "application/vnd.plotly.v1+json": {
       "config": {
        "plotlyServerURL": "https://plot.ly"
       },
       "data": [
        {
         "marker": {
          "color": [
           3,
           0,
           3,
           0,
           1,
           3,
           0,
           0,
           0,
           2,
           2,
           0,
           0,
           3,
           3,
           0,
           0,
           3,
           3,
           0,
           3,
           0,
           3,
           0,
           3,
           3,
           0,
           0,
           0,
           0,
           3,
           0,
           2,
           3,
           0,
           2,
           3,
           0,
           2,
           0,
           3,
           0,
           3,
           1,
           0,
           0,
           3,
           3,
           0,
           3,
           0,
           0
          ]
         },
         "mode": "markers",
         "showlegend": false,
         "type": "scatter3d",
         "x": [
          -0.04660723933019975,
          -0.730722463764818,
          0.4329254147388919,
          -0.3297998982997367,
          3.9425583950665737,
          -0.05725775793229823,
          -0.43532338434522383,
          -0.6875091422018689,
          -0.7406505993660785,
          2.272557078257531,
          1.1032227489523527,
          -0.7016974852439687,
          -0.5983781934830898,
          0.49384638114289525,
          0.0896082629303781,
          -0.5609809812089388,
          -0.4742579758262864,
          -0.04521804125166516,
          0.31236154416313705,
          -0.7386316314919416,
          -0.14844471980730842,
          -0.3541756939177569,
          0.33494064359958586,
          -0.42974806939003835,
          -0.17528402668459658,
          -0.032585600057524,
          -0.7083841586619819,
          -0.6577617806801815,
          -0.43975029555548734,
          -0.7173305942877446,
          0.016573489281553184,
          -0.477240121034874,
          0.939038058710612,
          0.32182661373821936,
          -0.7606920969790708,
          0.6089460726097474,
          -0.05694287303449706,
          -0.39620356645368987,
          0.9986624402413163,
          -0.7367793673872288,
          -0.0446438393792042,
          -0.689861517614854,
          0.06032396743486906,
          4.123969141482144,
          -0.5727243356328179,
          -0.7773254286393916,
          0.40071454195793665,
          -0.2158671332188536,
          -0.5000600148049354,
          -0.10569446427053744,
          -0.7409099163407383,
          -0.5666303867283128
         ],
         "y": [
          -0.0770075860124048,
          -0.7351705743834983,
          0.42041894800903457,
          -0.33238345127644836,
          3.957312633291083,
          -0.05804715373119007,
          -0.4517812807383038,
          -0.6839245133144212,
          -0.7431453484760264,
          2.24753734290223,
          1.1061884885320683,
          -0.713239945629046,
          -0.6074317822228252,
          0.5054560799140535,
          0.08794003730957918,
          -0.5666017526215398,
          -0.47100618256850546,
          -0.06846318519898185,
          0.33009242512427767,
          -0.7387714290120122,
          -0.1317120950297722,
          -0.344020111431872,
          0.40133645285905667,
          -0.4429317227529729,
          -0.16599141734076667,
          -0.03278013989721078,
          -0.7119989731299536,
          -0.6602036291514422,
          -0.44488472865318385,
          -0.7176545527159812,
          0.029248141245947733,
          -0.48439241050953474,
          0.9969015333660968,
          0.34024398704308256,
          -0.7617395921509515,
          0.6023333100891013,
          -0.06950071958346893,
          -0.3992535595472132,
          1.0309570737510254,
          -0.7338278828271032,
          -0.02706352887680161,
          -0.6930588846601995,
          0.0354326599299491,
          4.0807792250450445,
          -0.5837515856827673,
          -0.7772619202953366,
          0.3988545078608719,
          -0.22384921713451636,
          -0.5212553968760166,
          -0.10109465878167331,
          -0.7440404761802898,
          -0.5517914578782733
         ],
         "z": [
          0.2577187861050076,
          -0.6727744381119208,
          0.5497417578256412,
          -0.2978965481284093,
          3.7221915938616204,
          -0.04831641443949505,
          -0.26296751395876466,
          -0.7105465332023505,
          -0.7020173504399955,
          2.480180123038675,
          1.0531666165846472,
          -0.5734703816645009,
          -0.4969108125833613,
          0.3688012377956798,
          0.10459964794272825,
          -0.4944739032226884,
          -0.49792619148364164,
          0.1876576419856623,
          0.12957796888962528,
          -0.7235433831259392,
          -0.31272108007250266,
          -0.44898492849012794,
          -0.33404403697839036,
          -0.2901796684862785,
          -0.2647951959792693,
          -0.030039594234448443,
          -0.659168360848164,
          -0.6211931899776783,
          -0.3803453148311751,
          -0.700798895759659,
          -0.11025452735659745,
          -0.39699752879577316,
          0.3440259926288388,
          0.13201487825029815,
          -0.7361340814894158,
          0.6636672704370984,
          0.06946753799302754,
          -0.3584131305851192,
          0.6577780728154723,
          -0.7525832196739577,
          -0.2193062212467089,
          -0.6451561320242949,
          0.30767542799880165,
          4.478648874570494,
          -0.45203106519096903,
          -0.7635493117969857,
          0.41185330316756735,
          -0.13218671160265338,
          -0.27921357636325056,
          -0.14965122868747568,
          -0.6959250770383132,
          -0.7042511840206123
         ]
        },
        {
         "marker": {
          "color": "red",
          "line": {
           "color": "black",
           "width": 1
          },
          "size": 10,
          "symbol": "circle"
         },
         "mode": "markers",
         "name": "Centroids",
         "type": "scatter3d",
         "x": [
          -0.5970588115131176,
          4.033263768274359,
          1.184485279754312,
          0.08076711389583065
         ],
         "y": [
          -0.6005970440263738,
          4.019045929168064,
          1.1967835497281045,
          0.08386913356363508
         ],
         "z": [
          -0.550671220049744,
          4.100420234216057,
          1.0397636151009466,
          0.0483049040713946
         ]
        }
       ],
       "layout": {
        "height": 800,
        "margin": {
         "b": 0,
         "l": 0,
         "r": 0,
         "t": 0
        },
        "scene": {
         "domain": {
          "x": [
           0,
           1
          ],
          "y": [
           0,
           1
          ]
         },
         "xaxis": {
          "title": {
           "text": "Total : In Correctional Facilities for Adults"
          }
         },
         "yaxis": {
          "title": {
           "text": "Total Men : In Correctional Facilities for Adults"
          }
         },
         "zaxis": {
          "title": {
           "text": "Total Women : In Correctional Facilities for Adults"
          }
         }
        },
        "template": {
         "data": {
          "bar": [
           {
            "error_x": {
             "color": "#2a3f5f"
            },
            "error_y": {
             "color": "#2a3f5f"
            },
            "marker": {
             "line": {
              "color": "#E5ECF6",
              "width": 0.5
             },
             "pattern": {
              "fillmode": "overlay",
              "size": 10,
              "solidity": 0.2
             }
            },
            "type": "bar"
           }
          ],
          "barpolar": [
           {
            "marker": {
             "line": {
              "color": "#E5ECF6",
              "width": 0.5
             },
             "pattern": {
              "fillmode": "overlay",
              "size": 10,
              "solidity": 0.2
             }
            },
            "type": "barpolar"
           }
          ],
          "carpet": [
           {
            "aaxis": {
             "endlinecolor": "#2a3f5f",
             "gridcolor": "white",
             "linecolor": "white",
             "minorgridcolor": "white",
             "startlinecolor": "#2a3f5f"
            },
            "baxis": {
             "endlinecolor": "#2a3f5f",
             "gridcolor": "white",
             "linecolor": "white",
             "minorgridcolor": "white",
             "startlinecolor": "#2a3f5f"
            },
            "type": "carpet"
           }
          ],
          "choropleth": [
           {
            "colorbar": {
             "outlinewidth": 0,
             "ticks": ""
            },
            "type": "choropleth"
           }
          ],
          "contour": [
           {
            "colorbar": {
             "outlinewidth": 0,
             "ticks": ""
            },
            "colorscale": [
             [
              0,
              "#0d0887"
             ],
             [
              0.1111111111111111,
              "#46039f"
             ],
             [
              0.2222222222222222,
              "#7201a8"
             ],
             [
              0.3333333333333333,
              "#9c179e"
             ],
             [
              0.4444444444444444,
              "#bd3786"
             ],
             [
              0.5555555555555556,
              "#d8576b"
             ],
             [
              0.6666666666666666,
              "#ed7953"
             ],
             [
              0.7777777777777778,
              "#fb9f3a"
             ],
             [
              0.8888888888888888,
              "#fdca26"
             ],
             [
              1,
              "#f0f921"
             ]
            ],
            "type": "contour"
           }
          ],
          "contourcarpet": [
           {
            "colorbar": {
             "outlinewidth": 0,
             "ticks": ""
            },
            "type": "contourcarpet"
           }
          ],
          "heatmap": [
           {
            "colorbar": {
             "outlinewidth": 0,
             "ticks": ""
            },
            "colorscale": [
             [
              0,
              "#0d0887"
             ],
             [
              0.1111111111111111,
              "#46039f"
             ],
             [
              0.2222222222222222,
              "#7201a8"
             ],
             [
              0.3333333333333333,
              "#9c179e"
             ],
             [
              0.4444444444444444,
              "#bd3786"
             ],
             [
              0.5555555555555556,
              "#d8576b"
             ],
             [
              0.6666666666666666,
              "#ed7953"
             ],
             [
              0.7777777777777778,
              "#fb9f3a"
             ],
             [
              0.8888888888888888,
              "#fdca26"
             ],
             [
              1,
              "#f0f921"
             ]
            ],
            "type": "heatmap"
           }
          ],
          "heatmapgl": [
           {
            "colorbar": {
             "outlinewidth": 0,
             "ticks": ""
            },
            "colorscale": [
             [
              0,
              "#0d0887"
             ],
             [
              0.1111111111111111,
              "#46039f"
             ],
             [
              0.2222222222222222,
              "#7201a8"
             ],
             [
              0.3333333333333333,
              "#9c179e"
             ],
             [
              0.4444444444444444,
              "#bd3786"
             ],
             [
              0.5555555555555556,
              "#d8576b"
             ],
             [
              0.6666666666666666,
              "#ed7953"
             ],
             [
              0.7777777777777778,
              "#fb9f3a"
             ],
             [
              0.8888888888888888,
              "#fdca26"
             ],
             [
              1,
              "#f0f921"
             ]
            ],
            "type": "heatmapgl"
           }
          ],
          "histogram": [
           {
            "marker": {
             "pattern": {
              "fillmode": "overlay",
              "size": 10,
              "solidity": 0.2
             }
            },
            "type": "histogram"
           }
          ],
          "histogram2d": [
           {
            "colorbar": {
             "outlinewidth": 0,
             "ticks": ""
            },
            "colorscale": [
             [
              0,
              "#0d0887"
             ],
             [
              0.1111111111111111,
              "#46039f"
             ],
             [
              0.2222222222222222,
              "#7201a8"
             ],
             [
              0.3333333333333333,
              "#9c179e"
             ],
             [
              0.4444444444444444,
              "#bd3786"
             ],
             [
              0.5555555555555556,
              "#d8576b"
             ],
             [
              0.6666666666666666,
              "#ed7953"
             ],
             [
              0.7777777777777778,
              "#fb9f3a"
             ],
             [
              0.8888888888888888,
              "#fdca26"
             ],
             [
              1,
              "#f0f921"
             ]
            ],
            "type": "histogram2d"
           }
          ],
          "histogram2dcontour": [
           {
            "colorbar": {
             "outlinewidth": 0,
             "ticks": ""
            },
            "colorscale": [
             [
              0,
              "#0d0887"
             ],
             [
              0.1111111111111111,
              "#46039f"
             ],
             [
              0.2222222222222222,
              "#7201a8"
             ],
             [
              0.3333333333333333,
              "#9c179e"
             ],
             [
              0.4444444444444444,
              "#bd3786"
             ],
             [
              0.5555555555555556,
              "#d8576b"
             ],
             [
              0.6666666666666666,
              "#ed7953"
             ],
             [
              0.7777777777777778,
              "#fb9f3a"
             ],
             [
              0.8888888888888888,
              "#fdca26"
             ],
             [
              1,
              "#f0f921"
             ]
            ],
            "type": "histogram2dcontour"
           }
          ],
          "mesh3d": [
           {
            "colorbar": {
             "outlinewidth": 0,
             "ticks": ""
            },
            "type": "mesh3d"
           }
          ],
          "parcoords": [
           {
            "line": {
             "colorbar": {
              "outlinewidth": 0,
              "ticks": ""
             }
            },
            "type": "parcoords"
           }
          ],
          "pie": [
           {
            "automargin": true,
            "type": "pie"
           }
          ],
          "scatter": [
           {
            "fillpattern": {
             "fillmode": "overlay",
             "size": 10,
             "solidity": 0.2
            },
            "type": "scatter"
           }
          ],
          "scatter3d": [
           {
            "line": {
             "colorbar": {
              "outlinewidth": 0,
              "ticks": ""
             }
            },
            "marker": {
             "colorbar": {
              "outlinewidth": 0,
              "ticks": ""
             }
            },
            "type": "scatter3d"
           }
          ],
          "scattercarpet": [
           {
            "marker": {
             "colorbar": {
              "outlinewidth": 0,
              "ticks": ""
             }
            },
            "type": "scattercarpet"
           }
          ],
          "scattergeo": [
           {
            "marker": {
             "colorbar": {
              "outlinewidth": 0,
              "ticks": ""
             }
            },
            "type": "scattergeo"
           }
          ],
          "scattergl": [
           {
            "marker": {
             "colorbar": {
              "outlinewidth": 0,
              "ticks": ""
             }
            },
            "type": "scattergl"
           }
          ],
          "scattermapbox": [
           {
            "marker": {
             "colorbar": {
              "outlinewidth": 0,
              "ticks": ""
             }
            },
            "type": "scattermapbox"
           }
          ],
          "scatterpolar": [
           {
            "marker": {
             "colorbar": {
              "outlinewidth": 0,
              "ticks": ""
             }
            },
            "type": "scatterpolar"
           }
          ],
          "scatterpolargl": [
           {
            "marker": {
             "colorbar": {
              "outlinewidth": 0,
              "ticks": ""
             }
            },
            "type": "scatterpolargl"
           }
          ],
          "scatterternary": [
           {
            "marker": {
             "colorbar": {
              "outlinewidth": 0,
              "ticks": ""
             }
            },
            "type": "scatterternary"
           }
          ],
          "surface": [
           {
            "colorbar": {
             "outlinewidth": 0,
             "ticks": ""
            },
            "colorscale": [
             [
              0,
              "#0d0887"
             ],
             [
              0.1111111111111111,
              "#46039f"
             ],
             [
              0.2222222222222222,
              "#7201a8"
             ],
             [
              0.3333333333333333,
              "#9c179e"
             ],
             [
              0.4444444444444444,
              "#bd3786"
             ],
             [
              0.5555555555555556,
              "#d8576b"
             ],
             [
              0.6666666666666666,
              "#ed7953"
             ],
             [
              0.7777777777777778,
              "#fb9f3a"
             ],
             [
              0.8888888888888888,
              "#fdca26"
             ],
             [
              1,
              "#f0f921"
             ]
            ],
            "type": "surface"
           }
          ],
          "table": [
           {
            "cells": {
             "fill": {
              "color": "#EBF0F8"
             },
             "line": {
              "color": "white"
             }
            },
            "header": {
             "fill": {
              "color": "#C8D4E3"
             },
             "line": {
              "color": "white"
             }
            },
            "type": "table"
           }
          ]
         },
         "layout": {
          "annotationdefaults": {
           "arrowcolor": "#2a3f5f",
           "arrowhead": 0,
           "arrowwidth": 1
          },
          "autotypenumbers": "strict",
          "coloraxis": {
           "colorbar": {
            "outlinewidth": 0,
            "ticks": ""
           }
          },
          "colorscale": {
           "diverging": [
            [
             0,
             "#8e0152"
            ],
            [
             0.1,
             "#c51b7d"
            ],
            [
             0.2,
             "#de77ae"
            ],
            [
             0.3,
             "#f1b6da"
            ],
            [
             0.4,
             "#fde0ef"
            ],
            [
             0.5,
             "#f7f7f7"
            ],
            [
             0.6,
             "#e6f5d0"
            ],
            [
             0.7,
             "#b8e186"
            ],
            [
             0.8,
             "#7fbc41"
            ],
            [
             0.9,
             "#4d9221"
            ],
            [
             1,
             "#276419"
            ]
           ],
           "sequential": [
            [
             0,
             "#0d0887"
            ],
            [
             0.1111111111111111,
             "#46039f"
            ],
            [
             0.2222222222222222,
             "#7201a8"
            ],
            [
             0.3333333333333333,
             "#9c179e"
            ],
            [
             0.4444444444444444,
             "#bd3786"
            ],
            [
             0.5555555555555556,
             "#d8576b"
            ],
            [
             0.6666666666666666,
             "#ed7953"
            ],
            [
             0.7777777777777778,
             "#fb9f3a"
            ],
            [
             0.8888888888888888,
             "#fdca26"
            ],
            [
             1,
             "#f0f921"
            ]
           ],
           "sequentialminus": [
            [
             0,
             "#0d0887"
            ],
            [
             0.1111111111111111,
             "#46039f"
            ],
            [
             0.2222222222222222,
             "#7201a8"
            ],
            [
             0.3333333333333333,
             "#9c179e"
            ],
            [
             0.4444444444444444,
             "#bd3786"
            ],
            [
             0.5555555555555556,
             "#d8576b"
            ],
            [
             0.6666666666666666,
             "#ed7953"
            ],
            [
             0.7777777777777778,
             "#fb9f3a"
            ],
            [
             0.8888888888888888,
             "#fdca26"
            ],
            [
             1,
             "#f0f921"
            ]
           ]
          },
          "colorway": [
           "#636efa",
           "#EF553B",
           "#00cc96",
           "#ab63fa",
           "#FFA15A",
           "#19d3f3",
           "#FF6692",
           "#B6E880",
           "#FF97FF",
           "#FECB52"
          ],
          "font": {
           "color": "#2a3f5f"
          },
          "geo": {
           "bgcolor": "white",
           "lakecolor": "white",
           "landcolor": "#E5ECF6",
           "showlakes": true,
           "showland": true,
           "subunitcolor": "white"
          },
          "hoverlabel": {
           "align": "left"
          },
          "hovermode": "closest",
          "mapbox": {
           "style": "light"
          },
          "paper_bgcolor": "white",
          "plot_bgcolor": "#E5ECF6",
          "polar": {
           "angularaxis": {
            "gridcolor": "white",
            "linecolor": "white",
            "ticks": ""
           },
           "bgcolor": "#E5ECF6",
           "radialaxis": {
            "gridcolor": "white",
            "linecolor": "white",
            "ticks": ""
           }
          },
          "scene": {
           "xaxis": {
            "backgroundcolor": "#E5ECF6",
            "gridcolor": "white",
            "gridwidth": 2,
            "linecolor": "white",
            "showbackground": true,
            "ticks": "",
            "zerolinecolor": "white"
           },
           "yaxis": {
            "backgroundcolor": "#E5ECF6",
            "gridcolor": "white",
            "gridwidth": 2,
            "linecolor": "white",
            "showbackground": true,
            "ticks": "",
            "zerolinecolor": "white"
           },
           "zaxis": {
            "backgroundcolor": "#E5ECF6",
            "gridcolor": "white",
            "gridwidth": 2,
            "linecolor": "white",
            "showbackground": true,
            "ticks": "",
            "zerolinecolor": "white"
           }
          },
          "shapedefaults": {
           "line": {
            "color": "#2a3f5f"
           }
          },
          "ternary": {
           "aaxis": {
            "gridcolor": "white",
            "linecolor": "white",
            "ticks": ""
           },
           "baxis": {
            "gridcolor": "white",
            "linecolor": "white",
            "ticks": ""
           },
           "bgcolor": "#E5ECF6",
           "caxis": {
            "gridcolor": "white",
            "linecolor": "white",
            "ticks": ""
           }
          },
          "title": {
           "x": 0.05
          },
          "xaxis": {
           "automargin": true,
           "gridcolor": "white",
           "linecolor": "white",
           "ticks": "",
           "title": {
            "standoff": 15
           },
           "zerolinecolor": "white",
           "zerolinewidth": 2
          },
          "yaxis": {
           "automargin": true,
           "gridcolor": "white",
           "linecolor": "white",
           "ticks": "",
           "title": {
            "standoff": 15
           },
           "zerolinecolor": "white",
           "zerolinewidth": 2
          }
         }
        },
        "title": {
         "text": "Clusters"
        }
       }
      }
     },
     "metadata": {},
     "output_type": "display_data"
    }
   ],
   "source": [
    "visualizing_results_3d(df,n,'Total : In Correctional Facilities for Adults', 'Total Men : In Correctional Facilities for Adults', 'Total Women : In Correctional Facilities for Adults')"
   ]
  },
  {
   "cell_type": "code",
   "execution_count": 151,
   "metadata": {},
   "outputs": [
    {
     "data": {
      "application/vnd.plotly.v1+json": {
       "config": {
        "plotlyServerURL": "https://plot.ly"
       },
       "data": [
        {
         "marker": {
          "color": [
           3,
           0,
           3,
           0,
           1,
           3,
           0,
           0,
           0,
           2,
           2,
           0,
           0,
           3,
           3,
           0,
           0,
           3,
           3,
           0,
           3,
           0,
           3,
           0,
           3,
           3,
           0,
           0,
           0,
           0,
           3,
           0,
           2,
           3,
           0,
           3,
           3,
           0,
           2,
           0,
           3,
           0,
           3,
           1,
           0,
           0,
           3,
           3,
           0,
           3,
           0,
           0
          ]
         },
         "mode": "markers",
         "showlegend": false,
         "type": "scatter",
         "x": [
          -0.04660723933019975,
          -0.730722463764818,
          0.4329254147388919,
          -0.3297998982997367,
          3.9425583950665737,
          -0.05725775793229823,
          -0.43532338434522383,
          -0.6875091422018689,
          -0.7406505993660785,
          2.272557078257531,
          1.1032227489523527,
          -0.7016974852439687,
          -0.5983781934830898,
          0.49384638114289525,
          0.0896082629303781,
          -0.5609809812089388,
          -0.4742579758262864,
          -0.04521804125166516,
          0.31236154416313705,
          -0.7386316314919416,
          -0.14844471980730842,
          -0.3541756939177569,
          0.33494064359958586,
          -0.42974806939003835,
          -0.17528402668459658,
          -0.032585600057524,
          -0.7083841586619819,
          -0.6577617806801815,
          -0.43975029555548734,
          -0.7173305942877446,
          0.016573489281553184,
          -0.477240121034874,
          0.939038058710612,
          0.32182661373821936,
          -0.7606920969790708,
          0.6089460726097474,
          -0.05694287303449706,
          -0.39620356645368987,
          0.9986624402413163,
          -0.7367793673872288,
          -0.0446438393792042,
          -0.689861517614854,
          0.06032396743486906,
          4.123969141482144,
          -0.5727243356328179,
          -0.7773254286393916,
          0.40071454195793665,
          -0.2158671332188536,
          -0.5000600148049354,
          -0.10569446427053744,
          -0.7409099163407383,
          -0.5666303867283128
         ],
         "xaxis": "x",
         "y": [
          -0.0770075860124048,
          -0.7351705743834983,
          0.42041894800903457,
          -0.33238345127644836,
          3.957312633291083,
          -0.05804715373119007,
          -0.4517812807383038,
          -0.6839245133144212,
          -0.7431453484760264,
          2.24753734290223,
          1.1061884885320683,
          -0.713239945629046,
          -0.6074317822228252,
          0.5054560799140535,
          0.08794003730957918,
          -0.5666017526215398,
          -0.47100618256850546,
          -0.06846318519898185,
          0.33009242512427767,
          -0.7387714290120122,
          -0.1317120950297722,
          -0.344020111431872,
          0.40133645285905667,
          -0.4429317227529729,
          -0.16599141734076667,
          -0.03278013989721078,
          -0.7119989731299536,
          -0.6602036291514422,
          -0.44488472865318385,
          -0.7176545527159812,
          0.029248141245947733,
          -0.48439241050953474,
          0.9969015333660968,
          0.34024398704308256,
          -0.7617395921509515,
          0.6023333100891013,
          -0.06950071958346893,
          -0.3992535595472132,
          1.0309570737510254,
          -0.7338278828271032,
          -0.02706352887680161,
          -0.6930588846601995,
          0.0354326599299491,
          4.0807792250450445,
          -0.5837515856827673,
          -0.7772619202953366,
          0.3988545078608719,
          -0.22384921713451636,
          -0.5212553968760166,
          -0.10109465878167331,
          -0.7440404761802898,
          -0.5517914578782733
         ],
         "yaxis": "y"
        },
        {
         "marker": {
          "color": "red",
          "line": {
           "color": "black",
           "width": 1
          },
          "size": 10,
          "symbol": "star"
         },
         "mode": "markers",
         "name": "Centroids",
         "type": "scatter",
         "x": [
          -0.5970588115131176,
          4.033263768274359,
          1.328370081540453,
          0.10717606183152653
         ],
         "xaxis": "x",
         "y": [
          -0.6005970440263738,
          4.019045929168064,
          1.345396109637855,
          0.10979234238990843
         ],
         "yaxis": "y"
        },
        {
         "marker": {
          "color": [
           3,
           0,
           3,
           0,
           1,
           3,
           0,
           0,
           0,
           2,
           2,
           0,
           0,
           3,
           3,
           0,
           0,
           3,
           3,
           0,
           3,
           0,
           3,
           0,
           3,
           3,
           0,
           0,
           0,
           0,
           3,
           0,
           2,
           3,
           0,
           3,
           3,
           0,
           2,
           0,
           3,
           0,
           3,
           1,
           0,
           0,
           3,
           3,
           0,
           3,
           0,
           0
          ]
         },
         "mode": "markers",
         "showlegend": false,
         "type": "scatter",
         "x": [
          -0.04660723933019975,
          -0.730722463764818,
          0.4329254147388919,
          -0.3297998982997367,
          3.9425583950665737,
          -0.05725775793229823,
          -0.43532338434522383,
          -0.6875091422018689,
          -0.7406505993660785,
          2.272557078257531,
          1.1032227489523527,
          -0.7016974852439687,
          -0.5983781934830898,
          0.49384638114289525,
          0.0896082629303781,
          -0.5609809812089388,
          -0.4742579758262864,
          -0.04521804125166516,
          0.31236154416313705,
          -0.7386316314919416,
          -0.14844471980730842,
          -0.3541756939177569,
          0.33494064359958586,
          -0.42974806939003835,
          -0.17528402668459658,
          -0.032585600057524,
          -0.7083841586619819,
          -0.6577617806801815,
          -0.43975029555548734,
          -0.7173305942877446,
          0.016573489281553184,
          -0.477240121034874,
          0.939038058710612,
          0.32182661373821936,
          -0.7606920969790708,
          0.6089460726097474,
          -0.05694287303449706,
          -0.39620356645368987,
          0.9986624402413163,
          -0.7367793673872288,
          -0.0446438393792042,
          -0.689861517614854,
          0.06032396743486906,
          4.123969141482144,
          -0.5727243356328179,
          -0.7773254286393916,
          0.40071454195793665,
          -0.2158671332188536,
          -0.5000600148049354,
          -0.10569446427053744,
          -0.7409099163407383,
          -0.5666303867283128
         ],
         "xaxis": "x2",
         "y": [
          0.2577187861050076,
          -0.6727744381119208,
          0.5497417578256412,
          -0.2978965481284093,
          3.7221915938616204,
          -0.04831641443949505,
          -0.26296751395876466,
          -0.7105465332023505,
          -0.7020173504399955,
          2.480180123038675,
          1.0531666165846472,
          -0.5734703816645009,
          -0.4969108125833613,
          0.3688012377956798,
          0.10459964794272825,
          -0.4944739032226884,
          -0.49792619148364164,
          0.1876576419856623,
          0.12957796888962528,
          -0.7235433831259392,
          -0.31272108007250266,
          -0.44898492849012794,
          -0.33404403697839036,
          -0.2901796684862785,
          -0.2647951959792693,
          -0.030039594234448443,
          -0.659168360848164,
          -0.6211931899776783,
          -0.3803453148311751,
          -0.700798895759659,
          -0.11025452735659745,
          -0.39699752879577316,
          0.3440259926288388,
          0.13201487825029815,
          -0.7361340814894158,
          0.6636672704370984,
          0.06946753799302754,
          -0.3584131305851192,
          0.6577780728154723,
          -0.7525832196739577,
          -0.2193062212467089,
          -0.6451561320242949,
          0.30767542799880165,
          4.478648874570494,
          -0.45203106519096903,
          -0.7635493117969857,
          0.41185330316756735,
          -0.13218671160265338,
          -0.27921357636325056,
          -0.14965122868747568,
          -0.6959250770383132,
          -0.7042511840206123
         ],
         "yaxis": "y2"
        },
        {
         "marker": {
          "color": "red",
          "line": {
           "color": "black",
           "width": 1
          },
          "size": 10,
          "symbol": "star"
         },
         "mode": "markers",
         "name": "Centroids",
         "type": "scatter",
         "x": [
          -0.5970588115131176,
          4.033263768274359,
          1.328370081540453,
          0.10717606183152653
         ],
         "xaxis": "x2",
         "y": [
          -0.550671220049744,
          4.100420234216057,
          1.1337877012669084,
          0.07907302238967981
         ],
         "yaxis": "y2"
        },
        {
         "marker": {
          "color": [
           3,
           0,
           3,
           0,
           1,
           3,
           0,
           0,
           0,
           2,
           2,
           0,
           0,
           3,
           3,
           0,
           0,
           3,
           3,
           0,
           3,
           0,
           3,
           0,
           3,
           3,
           0,
           0,
           0,
           0,
           3,
           0,
           2,
           3,
           0,
           3,
           3,
           0,
           2,
           0,
           3,
           0,
           3,
           1,
           0,
           0,
           3,
           3,
           0,
           3,
           0,
           0
          ]
         },
         "mode": "markers",
         "showlegend": false,
         "type": "scatter",
         "x": [
          -0.0770075860124048,
          -0.7351705743834983,
          0.42041894800903457,
          -0.33238345127644836,
          3.957312633291083,
          -0.05804715373119007,
          -0.4517812807383038,
          -0.6839245133144212,
          -0.7431453484760264,
          2.24753734290223,
          1.1061884885320683,
          -0.713239945629046,
          -0.6074317822228252,
          0.5054560799140535,
          0.08794003730957918,
          -0.5666017526215398,
          -0.47100618256850546,
          -0.06846318519898185,
          0.33009242512427767,
          -0.7387714290120122,
          -0.1317120950297722,
          -0.344020111431872,
          0.40133645285905667,
          -0.4429317227529729,
          -0.16599141734076667,
          -0.03278013989721078,
          -0.7119989731299536,
          -0.6602036291514422,
          -0.44488472865318385,
          -0.7176545527159812,
          0.029248141245947733,
          -0.48439241050953474,
          0.9969015333660968,
          0.34024398704308256,
          -0.7617395921509515,
          0.6023333100891013,
          -0.06950071958346893,
          -0.3992535595472132,
          1.0309570737510254,
          -0.7338278828271032,
          -0.02706352887680161,
          -0.6930588846601995,
          0.0354326599299491,
          4.0807792250450445,
          -0.5837515856827673,
          -0.7772619202953366,
          0.3988545078608719,
          -0.22384921713451636,
          -0.5212553968760166,
          -0.10109465878167331,
          -0.7440404761802898,
          -0.5517914578782733
         ],
         "xaxis": "x3",
         "y": [
          0.2577187861050076,
          -0.6727744381119208,
          0.5497417578256412,
          -0.2978965481284093,
          3.7221915938616204,
          -0.04831641443949505,
          -0.26296751395876466,
          -0.7105465332023505,
          -0.7020173504399955,
          2.480180123038675,
          1.0531666165846472,
          -0.5734703816645009,
          -0.4969108125833613,
          0.3688012377956798,
          0.10459964794272825,
          -0.4944739032226884,
          -0.49792619148364164,
          0.1876576419856623,
          0.12957796888962528,
          -0.7235433831259392,
          -0.31272108007250266,
          -0.44898492849012794,
          -0.33404403697839036,
          -0.2901796684862785,
          -0.2647951959792693,
          -0.030039594234448443,
          -0.659168360848164,
          -0.6211931899776783,
          -0.3803453148311751,
          -0.700798895759659,
          -0.11025452735659745,
          -0.39699752879577316,
          0.3440259926288388,
          0.13201487825029815,
          -0.7361340814894158,
          0.6636672704370984,
          0.06946753799302754,
          -0.3584131305851192,
          0.6577780728154723,
          -0.7525832196739577,
          -0.2193062212467089,
          -0.6451561320242949,
          0.30767542799880165,
          4.478648874570494,
          -0.45203106519096903,
          -0.7635493117969857,
          0.41185330316756735,
          -0.13218671160265338,
          -0.27921357636325056,
          -0.14965122868747568,
          -0.6959250770383132,
          -0.7042511840206123
         ],
         "yaxis": "y3"
        },
        {
         "marker": {
          "color": "red",
          "line": {
           "color": "black",
           "width": 1
          },
          "size": 10,
          "symbol": "star"
         },
         "mode": "markers",
         "name": "Centroids",
         "type": "scatter",
         "x": [
          -0.6005970440263738,
          4.019045929168064,
          1.345396109637855,
          0.10979234238990843
         ],
         "xaxis": "x3",
         "y": [
          -0.550671220049744,
          4.100420234216057,
          1.1337877012669084,
          0.07907302238967981
         ],
         "yaxis": "y3"
        }
       ],
       "layout": {
        "annotations": [
         {
          "font": {
           "size": 16
          },
          "showarrow": false,
          "text": "TICFFA by TMICFFA",
          "x": 0.5,
          "xanchor": "center",
          "xref": "paper",
          "y": 1,
          "yanchor": "bottom",
          "yref": "paper"
         },
         {
          "font": {
           "size": 16
          },
          "showarrow": false,
          "text": "TICFFA by TWICFFA",
          "x": 0.5,
          "xanchor": "center",
          "xref": "paper",
          "y": 0.6111111111111112,
          "yanchor": "bottom",
          "yref": "paper"
         },
         {
          "font": {
           "size": 16
          },
          "showarrow": false,
          "text": "TMICFFA by TWICFFA",
          "x": 0.5,
          "xanchor": "center",
          "xref": "paper",
          "y": 0.22222222222222224,
          "yanchor": "bottom",
          "yref": "paper"
         }
        ],
        "height": 900,
        "template": {
         "data": {
          "bar": [
           {
            "error_x": {
             "color": "#2a3f5f"
            },
            "error_y": {
             "color": "#2a3f5f"
            },
            "marker": {
             "line": {
              "color": "#E5ECF6",
              "width": 0.5
             },
             "pattern": {
              "fillmode": "overlay",
              "size": 10,
              "solidity": 0.2
             }
            },
            "type": "bar"
           }
          ],
          "barpolar": [
           {
            "marker": {
             "line": {
              "color": "#E5ECF6",
              "width": 0.5
             },
             "pattern": {
              "fillmode": "overlay",
              "size": 10,
              "solidity": 0.2
             }
            },
            "type": "barpolar"
           }
          ],
          "carpet": [
           {
            "aaxis": {
             "endlinecolor": "#2a3f5f",
             "gridcolor": "white",
             "linecolor": "white",
             "minorgridcolor": "white",
             "startlinecolor": "#2a3f5f"
            },
            "baxis": {
             "endlinecolor": "#2a3f5f",
             "gridcolor": "white",
             "linecolor": "white",
             "minorgridcolor": "white",
             "startlinecolor": "#2a3f5f"
            },
            "type": "carpet"
           }
          ],
          "choropleth": [
           {
            "colorbar": {
             "outlinewidth": 0,
             "ticks": ""
            },
            "type": "choropleth"
           }
          ],
          "contour": [
           {
            "colorbar": {
             "outlinewidth": 0,
             "ticks": ""
            },
            "colorscale": [
             [
              0,
              "#0d0887"
             ],
             [
              0.1111111111111111,
              "#46039f"
             ],
             [
              0.2222222222222222,
              "#7201a8"
             ],
             [
              0.3333333333333333,
              "#9c179e"
             ],
             [
              0.4444444444444444,
              "#bd3786"
             ],
             [
              0.5555555555555556,
              "#d8576b"
             ],
             [
              0.6666666666666666,
              "#ed7953"
             ],
             [
              0.7777777777777778,
              "#fb9f3a"
             ],
             [
              0.8888888888888888,
              "#fdca26"
             ],
             [
              1,
              "#f0f921"
             ]
            ],
            "type": "contour"
           }
          ],
          "contourcarpet": [
           {
            "colorbar": {
             "outlinewidth": 0,
             "ticks": ""
            },
            "type": "contourcarpet"
           }
          ],
          "heatmap": [
           {
            "colorbar": {
             "outlinewidth": 0,
             "ticks": ""
            },
            "colorscale": [
             [
              0,
              "#0d0887"
             ],
             [
              0.1111111111111111,
              "#46039f"
             ],
             [
              0.2222222222222222,
              "#7201a8"
             ],
             [
              0.3333333333333333,
              "#9c179e"
             ],
             [
              0.4444444444444444,
              "#bd3786"
             ],
             [
              0.5555555555555556,
              "#d8576b"
             ],
             [
              0.6666666666666666,
              "#ed7953"
             ],
             [
              0.7777777777777778,
              "#fb9f3a"
             ],
             [
              0.8888888888888888,
              "#fdca26"
             ],
             [
              1,
              "#f0f921"
             ]
            ],
            "type": "heatmap"
           }
          ],
          "heatmapgl": [
           {
            "colorbar": {
             "outlinewidth": 0,
             "ticks": ""
            },
            "colorscale": [
             [
              0,
              "#0d0887"
             ],
             [
              0.1111111111111111,
              "#46039f"
             ],
             [
              0.2222222222222222,
              "#7201a8"
             ],
             [
              0.3333333333333333,
              "#9c179e"
             ],
             [
              0.4444444444444444,
              "#bd3786"
             ],
             [
              0.5555555555555556,
              "#d8576b"
             ],
             [
              0.6666666666666666,
              "#ed7953"
             ],
             [
              0.7777777777777778,
              "#fb9f3a"
             ],
             [
              0.8888888888888888,
              "#fdca26"
             ],
             [
              1,
              "#f0f921"
             ]
            ],
            "type": "heatmapgl"
           }
          ],
          "histogram": [
           {
            "marker": {
             "pattern": {
              "fillmode": "overlay",
              "size": 10,
              "solidity": 0.2
             }
            },
            "type": "histogram"
           }
          ],
          "histogram2d": [
           {
            "colorbar": {
             "outlinewidth": 0,
             "ticks": ""
            },
            "colorscale": [
             [
              0,
              "#0d0887"
             ],
             [
              0.1111111111111111,
              "#46039f"
             ],
             [
              0.2222222222222222,
              "#7201a8"
             ],
             [
              0.3333333333333333,
              "#9c179e"
             ],
             [
              0.4444444444444444,
              "#bd3786"
             ],
             [
              0.5555555555555556,
              "#d8576b"
             ],
             [
              0.6666666666666666,
              "#ed7953"
             ],
             [
              0.7777777777777778,
              "#fb9f3a"
             ],
             [
              0.8888888888888888,
              "#fdca26"
             ],
             [
              1,
              "#f0f921"
             ]
            ],
            "type": "histogram2d"
           }
          ],
          "histogram2dcontour": [
           {
            "colorbar": {
             "outlinewidth": 0,
             "ticks": ""
            },
            "colorscale": [
             [
              0,
              "#0d0887"
             ],
             [
              0.1111111111111111,
              "#46039f"
             ],
             [
              0.2222222222222222,
              "#7201a8"
             ],
             [
              0.3333333333333333,
              "#9c179e"
             ],
             [
              0.4444444444444444,
              "#bd3786"
             ],
             [
              0.5555555555555556,
              "#d8576b"
             ],
             [
              0.6666666666666666,
              "#ed7953"
             ],
             [
              0.7777777777777778,
              "#fb9f3a"
             ],
             [
              0.8888888888888888,
              "#fdca26"
             ],
             [
              1,
              "#f0f921"
             ]
            ],
            "type": "histogram2dcontour"
           }
          ],
          "mesh3d": [
           {
            "colorbar": {
             "outlinewidth": 0,
             "ticks": ""
            },
            "type": "mesh3d"
           }
          ],
          "parcoords": [
           {
            "line": {
             "colorbar": {
              "outlinewidth": 0,
              "ticks": ""
             }
            },
            "type": "parcoords"
           }
          ],
          "pie": [
           {
            "automargin": true,
            "type": "pie"
           }
          ],
          "scatter": [
           {
            "fillpattern": {
             "fillmode": "overlay",
             "size": 10,
             "solidity": 0.2
            },
            "type": "scatter"
           }
          ],
          "scatter3d": [
           {
            "line": {
             "colorbar": {
              "outlinewidth": 0,
              "ticks": ""
             }
            },
            "marker": {
             "colorbar": {
              "outlinewidth": 0,
              "ticks": ""
             }
            },
            "type": "scatter3d"
           }
          ],
          "scattercarpet": [
           {
            "marker": {
             "colorbar": {
              "outlinewidth": 0,
              "ticks": ""
             }
            },
            "type": "scattercarpet"
           }
          ],
          "scattergeo": [
           {
            "marker": {
             "colorbar": {
              "outlinewidth": 0,
              "ticks": ""
             }
            },
            "type": "scattergeo"
           }
          ],
          "scattergl": [
           {
            "marker": {
             "colorbar": {
              "outlinewidth": 0,
              "ticks": ""
             }
            },
            "type": "scattergl"
           }
          ],
          "scattermapbox": [
           {
            "marker": {
             "colorbar": {
              "outlinewidth": 0,
              "ticks": ""
             }
            },
            "type": "scattermapbox"
           }
          ],
          "scatterpolar": [
           {
            "marker": {
             "colorbar": {
              "outlinewidth": 0,
              "ticks": ""
             }
            },
            "type": "scatterpolar"
           }
          ],
          "scatterpolargl": [
           {
            "marker": {
             "colorbar": {
              "outlinewidth": 0,
              "ticks": ""
             }
            },
            "type": "scatterpolargl"
           }
          ],
          "scatterternary": [
           {
            "marker": {
             "colorbar": {
              "outlinewidth": 0,
              "ticks": ""
             }
            },
            "type": "scatterternary"
           }
          ],
          "surface": [
           {
            "colorbar": {
             "outlinewidth": 0,
             "ticks": ""
            },
            "colorscale": [
             [
              0,
              "#0d0887"
             ],
             [
              0.1111111111111111,
              "#46039f"
             ],
             [
              0.2222222222222222,
              "#7201a8"
             ],
             [
              0.3333333333333333,
              "#9c179e"
             ],
             [
              0.4444444444444444,
              "#bd3786"
             ],
             [
              0.5555555555555556,
              "#d8576b"
             ],
             [
              0.6666666666666666,
              "#ed7953"
             ],
             [
              0.7777777777777778,
              "#fb9f3a"
             ],
             [
              0.8888888888888888,
              "#fdca26"
             ],
             [
              1,
              "#f0f921"
             ]
            ],
            "type": "surface"
           }
          ],
          "table": [
           {
            "cells": {
             "fill": {
              "color": "#EBF0F8"
             },
             "line": {
              "color": "white"
             }
            },
            "header": {
             "fill": {
              "color": "#C8D4E3"
             },
             "line": {
              "color": "white"
             }
            },
            "type": "table"
           }
          ]
         },
         "layout": {
          "annotationdefaults": {
           "arrowcolor": "#2a3f5f",
           "arrowhead": 0,
           "arrowwidth": 1
          },
          "autotypenumbers": "strict",
          "coloraxis": {
           "colorbar": {
            "outlinewidth": 0,
            "ticks": ""
           }
          },
          "colorscale": {
           "diverging": [
            [
             0,
             "#8e0152"
            ],
            [
             0.1,
             "#c51b7d"
            ],
            [
             0.2,
             "#de77ae"
            ],
            [
             0.3,
             "#f1b6da"
            ],
            [
             0.4,
             "#fde0ef"
            ],
            [
             0.5,
             "#f7f7f7"
            ],
            [
             0.6,
             "#e6f5d0"
            ],
            [
             0.7,
             "#b8e186"
            ],
            [
             0.8,
             "#7fbc41"
            ],
            [
             0.9,
             "#4d9221"
            ],
            [
             1,
             "#276419"
            ]
           ],
           "sequential": [
            [
             0,
             "#0d0887"
            ],
            [
             0.1111111111111111,
             "#46039f"
            ],
            [
             0.2222222222222222,
             "#7201a8"
            ],
            [
             0.3333333333333333,
             "#9c179e"
            ],
            [
             0.4444444444444444,
             "#bd3786"
            ],
            [
             0.5555555555555556,
             "#d8576b"
            ],
            [
             0.6666666666666666,
             "#ed7953"
            ],
            [
             0.7777777777777778,
             "#fb9f3a"
            ],
            [
             0.8888888888888888,
             "#fdca26"
            ],
            [
             1,
             "#f0f921"
            ]
           ],
           "sequentialminus": [
            [
             0,
             "#0d0887"
            ],
            [
             0.1111111111111111,
             "#46039f"
            ],
            [
             0.2222222222222222,
             "#7201a8"
            ],
            [
             0.3333333333333333,
             "#9c179e"
            ],
            [
             0.4444444444444444,
             "#bd3786"
            ],
            [
             0.5555555555555556,
             "#d8576b"
            ],
            [
             0.6666666666666666,
             "#ed7953"
            ],
            [
             0.7777777777777778,
             "#fb9f3a"
            ],
            [
             0.8888888888888888,
             "#fdca26"
            ],
            [
             1,
             "#f0f921"
            ]
           ]
          },
          "colorway": [
           "#636efa",
           "#EF553B",
           "#00cc96",
           "#ab63fa",
           "#FFA15A",
           "#19d3f3",
           "#FF6692",
           "#B6E880",
           "#FF97FF",
           "#FECB52"
          ],
          "font": {
           "color": "#2a3f5f"
          },
          "geo": {
           "bgcolor": "white",
           "lakecolor": "white",
           "landcolor": "#E5ECF6",
           "showlakes": true,
           "showland": true,
           "subunitcolor": "white"
          },
          "hoverlabel": {
           "align": "left"
          },
          "hovermode": "closest",
          "mapbox": {
           "style": "light"
          },
          "paper_bgcolor": "white",
          "plot_bgcolor": "#E5ECF6",
          "polar": {
           "angularaxis": {
            "gridcolor": "white",
            "linecolor": "white",
            "ticks": ""
           },
           "bgcolor": "#E5ECF6",
           "radialaxis": {
            "gridcolor": "white",
            "linecolor": "white",
            "ticks": ""
           }
          },
          "scene": {
           "xaxis": {
            "backgroundcolor": "#E5ECF6",
            "gridcolor": "white",
            "gridwidth": 2,
            "linecolor": "white",
            "showbackground": true,
            "ticks": "",
            "zerolinecolor": "white"
           },
           "yaxis": {
            "backgroundcolor": "#E5ECF6",
            "gridcolor": "white",
            "gridwidth": 2,
            "linecolor": "white",
            "showbackground": true,
            "ticks": "",
            "zerolinecolor": "white"
           },
           "zaxis": {
            "backgroundcolor": "#E5ECF6",
            "gridcolor": "white",
            "gridwidth": 2,
            "linecolor": "white",
            "showbackground": true,
            "ticks": "",
            "zerolinecolor": "white"
           }
          },
          "shapedefaults": {
           "line": {
            "color": "#2a3f5f"
           }
          },
          "ternary": {
           "aaxis": {
            "gridcolor": "white",
            "linecolor": "white",
            "ticks": ""
           },
           "baxis": {
            "gridcolor": "white",
            "linecolor": "white",
            "ticks": ""
           },
           "bgcolor": "#E5ECF6",
           "caxis": {
            "gridcolor": "white",
            "linecolor": "white",
            "ticks": ""
           }
          },
          "title": {
           "x": 0.05
          },
          "xaxis": {
           "automargin": true,
           "gridcolor": "white",
           "linecolor": "white",
           "ticks": "",
           "title": {
            "standoff": 15
           },
           "zerolinecolor": "white",
           "zerolinewidth": 2
          },
          "yaxis": {
           "automargin": true,
           "gridcolor": "white",
           "linecolor": "white",
           "ticks": "",
           "title": {
            "standoff": 15
           },
           "zerolinecolor": "white",
           "zerolinewidth": 2
          }
         }
        },
        "title": {
         "text": "Clusters of Total : In Correctional Facilities for Adults, Total Men : In Correctional Facilities for Adults and Total Women : In Correctional Facilities for Adults"
        },
        "width": 900,
        "xaxis": {
         "anchor": "y",
         "domain": [
          0,
          1
         ]
        },
        "xaxis2": {
         "anchor": "y2",
         "domain": [
          0,
          1
         ]
        },
        "xaxis3": {
         "anchor": "y3",
         "domain": [
          0,
          1
         ]
        },
        "yaxis": {
         "anchor": "x",
         "domain": [
          0.7777777777777778,
          1
         ]
        },
        "yaxis2": {
         "anchor": "x2",
         "domain": [
          0.3888888888888889,
          0.6111111111111112
         ]
        },
        "yaxis3": {
         "anchor": "x3",
         "domain": [
          0,
          0.22222222222222224
         ]
        }
       }
      }
     },
     "metadata": {},
     "output_type": "display_data"
    }
   ],
   "source": [
    "visualizing_results_2d(df,n,'Total : In Correctional Facilities for Adults', 'Total Men : In Correctional Facilities for Adults', 'Total Women : In Correctional Facilities for Adults')"
   ]
  },
  {
   "cell_type": "code",
   "execution_count": 152,
   "metadata": {},
   "outputs": [
    {
     "data": {
      "application/vnd.plotly.v1+json": {
       "config": {
        "plotlyServerURL": "https://plot.ly"
       },
       "data": [
        {
         "marker": {
          "color": [
           1,
           0,
           3,
           1,
           0,
           1,
           0,
           1,
           0,
           1,
           3,
           2,
           0,
           0,
           1,
           2,
           0,
           1,
           3,
           2,
           0,
           2,
           0,
           2,
           3,
           0,
           0,
           2,
           0,
           2,
           0,
           1,
           0,
           0,
           2,
           0,
           3,
           0,
           1,
           2,
           1,
           1,
           1,
           3,
           2,
           2,
           1,
           2,
           1,
           0,
           0,
           2
          ]
         },
         "mode": "markers",
         "showlegend": false,
         "type": "scatter3d",
         "x": [
          0.8586248278147579,
          0.578121766016972,
          1.0470716833199911,
          0.8831181123749022,
          0.6882678446283664,
          0.8046017693484206,
          0.5610927739230357,
          0.7170905656763191,
          0.5932962509327382,
          0.8842309392271072,
          1.0644167374698497,
          0.4170400521649253,
          0.7177295988343831,
          0.5472684432068506,
          0.7463830635173623,
          0.43560254796305753,
          0.6292063630035631,
          0.9474884240028557,
          1.3327827497941929,
          0.2769578450436289,
          0.6156002405451618,
          0.37318852366253497,
          0.6236467536251826,
          0.3837723949716484,
          1.14895812586337,
          0.6979046496976837,
          0.5368829055553028,
          0.44049824211360317,
          0.7337391517508834,
          0.3668142836524949,
          0.5055907179954626,
          0.863985112513288,
          0.4863892242903871,
          0.6389922775804855,
          0.36991277016790297,
          0.662523065913209,
          1.0791312249906766,
          0.5785844909286534,
          0.7673523203803003,
          0.35902702630806405,
          0.889573231425678,
          0.7752585423370754,
          0.7376650717250975,
          1.0586401313536016,
          0.4571825528196723,
          0.2540987405332238,
          0.8147707093492033,
          0.47441163261724967,
          0.8936348417749868,
          0.6655546540821448,
          0.6309148264984227,
          0.34797998491057863
         ],
         "y": [
          1.545176511558546,
          0.9466274200006493,
          1.8987834019717094,
          1.6273678313706617,
          1.2645002141179609,
          1.4592595119853435,
          1.0018889247844638,
          1.3836423038633003,
          1.09315957244689,
          1.6335640531898048,
          1.9878959758486212,
          0.6718601145259474,
          1.2450911980278205,
          1.0247802226094342,
          1.3781386992093705,
          0.7813333916764291,
          1.1646111933802832,
          1.698914073946393,
          2.5171090600065247,
          0.5110328956274536,
          1.1878519730550097,
          0.7176719210466148,
          1.2244761571200677,
          0.6786893666427063,
          2.1840220920873694,
          1.2962433317186397,
          0.9338248766275996,
          0.7926770061878239,
          1.303006124891465,
          0.6713951776579395,
          0.9597625946350127,
          1.5555016065129381,
          0.9452661881060411,
          1.2132407073351972,
          0.6452581032412965,
          1.2294403777168106,
          1.9504818853437602,
          1.0554313761272405,
          1.4589289836476471,
          0.701219512195122,
          1.7024124694847032,
          1.36702497170953,
          1.3375770647136709,
          1.9260872911769138,
          0.7881485280379049,
          0.46397539308125085,
          1.5089724025804492,
          0.8547911802435257,
          1.5339552050928977,
          1.22828089569161,
          1.065624815176891,
          0.7009412543672286
         ],
         "z": [
          0.2109737236272681,
          0.1782133451555036,
          0.20605100314222338,
          0.16526520247850643,
          0.1187492014090853,
          0.14677895535799,
          0.1430920864352518,
          0.09092970766422963,
          0.1458263123580713,
          0.16784306626487536,
          0.18364491390711915,
          0.16140005713797642,
          0.18830104645781826,
          0.0877284748643237,
          0.13463608034449837,
          0.09655170620193546,
          0.10210682265547294,
          0.21974083827228538,
          0.19696812556177834,
          0.05263119098340717,
          0.07981782754654083,
          0.05054716044153787,
          0.04517899421033672,
          0.09323327069125491,
          0.17142216837247887,
          0.12345153741674711,
          0.1367839138870173,
          0.0935823791227603,
          0.15311140780965418,
          0.07030683160539428,
          0.07483998161467316,
          0.18862346149489612,
          0.056134639141961935,
          0.09345620472512117,
          0.08866127485896846,
          0.12174079170130216,
          0.22498197293670624,
          0.11136536521638471,
          0.10993523357436469,
          0.03932616274048224,
          0.11956570703959941,
          0.1826454833959769,
          0.167097040184148,
          0.20495087262722259,
          0.12314912821467204,
          0.05038814618860913,
          0.14596172161212612,
          0.0968640522360662,
          0.27091529984841517,
          0.11111553292517662,
          0.1785009540568234,
          0.023291549393028407
         ]
        },
        {
         "marker": {
          "color": "red",
          "line": {
           "color": "black",
           "width": 1
          },
          "size": 10,
          "symbol": "circle"
         },
         "mode": "markers",
         "name": "Centroids",
         "type": "scatter3d",
         "x": [
          0.6153318946846783,
          0.8274126808190967,
          0.38126819976373727,
          1.121833442131947
         ],
         "y": [
          1.1254267454510045,
          1.5136025492046612,
          0.690691834194711,
          2.07739661773915
         ],
         "z": [
          0.11839549682038243,
          0.16577939436851283,
          0.07999483921662254,
          0.19800317609125476
         ]
        }
       ],
       "layout": {
        "height": 800,
        "margin": {
         "b": 0,
         "l": 0,
         "r": 0,
         "t": 0
        },
        "scene": {
         "domain": {
          "x": [
           0,
           1
          ],
          "y": [
           0,
           1
          ]
         },
         "xaxis": {
          "title": {
           "text": "Percent Total : In Correctional Facilities for Adults"
          }
         },
         "yaxis": {
          "title": {
           "text": "Percent Total Men : In Correctional Facilities for Adults"
          }
         },
         "zaxis": {
          "title": {
           "text": "Percent Total Women : In Correctional Facilities for Adults"
          }
         }
        },
        "template": {
         "data": {
          "bar": [
           {
            "error_x": {
             "color": "#2a3f5f"
            },
            "error_y": {
             "color": "#2a3f5f"
            },
            "marker": {
             "line": {
              "color": "#E5ECF6",
              "width": 0.5
             },
             "pattern": {
              "fillmode": "overlay",
              "size": 10,
              "solidity": 0.2
             }
            },
            "type": "bar"
           }
          ],
          "barpolar": [
           {
            "marker": {
             "line": {
              "color": "#E5ECF6",
              "width": 0.5
             },
             "pattern": {
              "fillmode": "overlay",
              "size": 10,
              "solidity": 0.2
             }
            },
            "type": "barpolar"
           }
          ],
          "carpet": [
           {
            "aaxis": {
             "endlinecolor": "#2a3f5f",
             "gridcolor": "white",
             "linecolor": "white",
             "minorgridcolor": "white",
             "startlinecolor": "#2a3f5f"
            },
            "baxis": {
             "endlinecolor": "#2a3f5f",
             "gridcolor": "white",
             "linecolor": "white",
             "minorgridcolor": "white",
             "startlinecolor": "#2a3f5f"
            },
            "type": "carpet"
           }
          ],
          "choropleth": [
           {
            "colorbar": {
             "outlinewidth": 0,
             "ticks": ""
            },
            "type": "choropleth"
           }
          ],
          "contour": [
           {
            "colorbar": {
             "outlinewidth": 0,
             "ticks": ""
            },
            "colorscale": [
             [
              0,
              "#0d0887"
             ],
             [
              0.1111111111111111,
              "#46039f"
             ],
             [
              0.2222222222222222,
              "#7201a8"
             ],
             [
              0.3333333333333333,
              "#9c179e"
             ],
             [
              0.4444444444444444,
              "#bd3786"
             ],
             [
              0.5555555555555556,
              "#d8576b"
             ],
             [
              0.6666666666666666,
              "#ed7953"
             ],
             [
              0.7777777777777778,
              "#fb9f3a"
             ],
             [
              0.8888888888888888,
              "#fdca26"
             ],
             [
              1,
              "#f0f921"
             ]
            ],
            "type": "contour"
           }
          ],
          "contourcarpet": [
           {
            "colorbar": {
             "outlinewidth": 0,
             "ticks": ""
            },
            "type": "contourcarpet"
           }
          ],
          "heatmap": [
           {
            "colorbar": {
             "outlinewidth": 0,
             "ticks": ""
            },
            "colorscale": [
             [
              0,
              "#0d0887"
             ],
             [
              0.1111111111111111,
              "#46039f"
             ],
             [
              0.2222222222222222,
              "#7201a8"
             ],
             [
              0.3333333333333333,
              "#9c179e"
             ],
             [
              0.4444444444444444,
              "#bd3786"
             ],
             [
              0.5555555555555556,
              "#d8576b"
             ],
             [
              0.6666666666666666,
              "#ed7953"
             ],
             [
              0.7777777777777778,
              "#fb9f3a"
             ],
             [
              0.8888888888888888,
              "#fdca26"
             ],
             [
              1,
              "#f0f921"
             ]
            ],
            "type": "heatmap"
           }
          ],
          "heatmapgl": [
           {
            "colorbar": {
             "outlinewidth": 0,
             "ticks": ""
            },
            "colorscale": [
             [
              0,
              "#0d0887"
             ],
             [
              0.1111111111111111,
              "#46039f"
             ],
             [
              0.2222222222222222,
              "#7201a8"
             ],
             [
              0.3333333333333333,
              "#9c179e"
             ],
             [
              0.4444444444444444,
              "#bd3786"
             ],
             [
              0.5555555555555556,
              "#d8576b"
             ],
             [
              0.6666666666666666,
              "#ed7953"
             ],
             [
              0.7777777777777778,
              "#fb9f3a"
             ],
             [
              0.8888888888888888,
              "#fdca26"
             ],
             [
              1,
              "#f0f921"
             ]
            ],
            "type": "heatmapgl"
           }
          ],
          "histogram": [
           {
            "marker": {
             "pattern": {
              "fillmode": "overlay",
              "size": 10,
              "solidity": 0.2
             }
            },
            "type": "histogram"
           }
          ],
          "histogram2d": [
           {
            "colorbar": {
             "outlinewidth": 0,
             "ticks": ""
            },
            "colorscale": [
             [
              0,
              "#0d0887"
             ],
             [
              0.1111111111111111,
              "#46039f"
             ],
             [
              0.2222222222222222,
              "#7201a8"
             ],
             [
              0.3333333333333333,
              "#9c179e"
             ],
             [
              0.4444444444444444,
              "#bd3786"
             ],
             [
              0.5555555555555556,
              "#d8576b"
             ],
             [
              0.6666666666666666,
              "#ed7953"
             ],
             [
              0.7777777777777778,
              "#fb9f3a"
             ],
             [
              0.8888888888888888,
              "#fdca26"
             ],
             [
              1,
              "#f0f921"
             ]
            ],
            "type": "histogram2d"
           }
          ],
          "histogram2dcontour": [
           {
            "colorbar": {
             "outlinewidth": 0,
             "ticks": ""
            },
            "colorscale": [
             [
              0,
              "#0d0887"
             ],
             [
              0.1111111111111111,
              "#46039f"
             ],
             [
              0.2222222222222222,
              "#7201a8"
             ],
             [
              0.3333333333333333,
              "#9c179e"
             ],
             [
              0.4444444444444444,
              "#bd3786"
             ],
             [
              0.5555555555555556,
              "#d8576b"
             ],
             [
              0.6666666666666666,
              "#ed7953"
             ],
             [
              0.7777777777777778,
              "#fb9f3a"
             ],
             [
              0.8888888888888888,
              "#fdca26"
             ],
             [
              1,
              "#f0f921"
             ]
            ],
            "type": "histogram2dcontour"
           }
          ],
          "mesh3d": [
           {
            "colorbar": {
             "outlinewidth": 0,
             "ticks": ""
            },
            "type": "mesh3d"
           }
          ],
          "parcoords": [
           {
            "line": {
             "colorbar": {
              "outlinewidth": 0,
              "ticks": ""
             }
            },
            "type": "parcoords"
           }
          ],
          "pie": [
           {
            "automargin": true,
            "type": "pie"
           }
          ],
          "scatter": [
           {
            "fillpattern": {
             "fillmode": "overlay",
             "size": 10,
             "solidity": 0.2
            },
            "type": "scatter"
           }
          ],
          "scatter3d": [
           {
            "line": {
             "colorbar": {
              "outlinewidth": 0,
              "ticks": ""
             }
            },
            "marker": {
             "colorbar": {
              "outlinewidth": 0,
              "ticks": ""
             }
            },
            "type": "scatter3d"
           }
          ],
          "scattercarpet": [
           {
            "marker": {
             "colorbar": {
              "outlinewidth": 0,
              "ticks": ""
             }
            },
            "type": "scattercarpet"
           }
          ],
          "scattergeo": [
           {
            "marker": {
             "colorbar": {
              "outlinewidth": 0,
              "ticks": ""
             }
            },
            "type": "scattergeo"
           }
          ],
          "scattergl": [
           {
            "marker": {
             "colorbar": {
              "outlinewidth": 0,
              "ticks": ""
             }
            },
            "type": "scattergl"
           }
          ],
          "scattermapbox": [
           {
            "marker": {
             "colorbar": {
              "outlinewidth": 0,
              "ticks": ""
             }
            },
            "type": "scattermapbox"
           }
          ],
          "scatterpolar": [
           {
            "marker": {
             "colorbar": {
              "outlinewidth": 0,
              "ticks": ""
             }
            },
            "type": "scatterpolar"
           }
          ],
          "scatterpolargl": [
           {
            "marker": {
             "colorbar": {
              "outlinewidth": 0,
              "ticks": ""
             }
            },
            "type": "scatterpolargl"
           }
          ],
          "scatterternary": [
           {
            "marker": {
             "colorbar": {
              "outlinewidth": 0,
              "ticks": ""
             }
            },
            "type": "scatterternary"
           }
          ],
          "surface": [
           {
            "colorbar": {
             "outlinewidth": 0,
             "ticks": ""
            },
            "colorscale": [
             [
              0,
              "#0d0887"
             ],
             [
              0.1111111111111111,
              "#46039f"
             ],
             [
              0.2222222222222222,
              "#7201a8"
             ],
             [
              0.3333333333333333,
              "#9c179e"
             ],
             [
              0.4444444444444444,
              "#bd3786"
             ],
             [
              0.5555555555555556,
              "#d8576b"
             ],
             [
              0.6666666666666666,
              "#ed7953"
             ],
             [
              0.7777777777777778,
              "#fb9f3a"
             ],
             [
              0.8888888888888888,
              "#fdca26"
             ],
             [
              1,
              "#f0f921"
             ]
            ],
            "type": "surface"
           }
          ],
          "table": [
           {
            "cells": {
             "fill": {
              "color": "#EBF0F8"
             },
             "line": {
              "color": "white"
             }
            },
            "header": {
             "fill": {
              "color": "#C8D4E3"
             },
             "line": {
              "color": "white"
             }
            },
            "type": "table"
           }
          ]
         },
         "layout": {
          "annotationdefaults": {
           "arrowcolor": "#2a3f5f",
           "arrowhead": 0,
           "arrowwidth": 1
          },
          "autotypenumbers": "strict",
          "coloraxis": {
           "colorbar": {
            "outlinewidth": 0,
            "ticks": ""
           }
          },
          "colorscale": {
           "diverging": [
            [
             0,
             "#8e0152"
            ],
            [
             0.1,
             "#c51b7d"
            ],
            [
             0.2,
             "#de77ae"
            ],
            [
             0.3,
             "#f1b6da"
            ],
            [
             0.4,
             "#fde0ef"
            ],
            [
             0.5,
             "#f7f7f7"
            ],
            [
             0.6,
             "#e6f5d0"
            ],
            [
             0.7,
             "#b8e186"
            ],
            [
             0.8,
             "#7fbc41"
            ],
            [
             0.9,
             "#4d9221"
            ],
            [
             1,
             "#276419"
            ]
           ],
           "sequential": [
            [
             0,
             "#0d0887"
            ],
            [
             0.1111111111111111,
             "#46039f"
            ],
            [
             0.2222222222222222,
             "#7201a8"
            ],
            [
             0.3333333333333333,
             "#9c179e"
            ],
            [
             0.4444444444444444,
             "#bd3786"
            ],
            [
             0.5555555555555556,
             "#d8576b"
            ],
            [
             0.6666666666666666,
             "#ed7953"
            ],
            [
             0.7777777777777778,
             "#fb9f3a"
            ],
            [
             0.8888888888888888,
             "#fdca26"
            ],
            [
             1,
             "#f0f921"
            ]
           ],
           "sequentialminus": [
            [
             0,
             "#0d0887"
            ],
            [
             0.1111111111111111,
             "#46039f"
            ],
            [
             0.2222222222222222,
             "#7201a8"
            ],
            [
             0.3333333333333333,
             "#9c179e"
            ],
            [
             0.4444444444444444,
             "#bd3786"
            ],
            [
             0.5555555555555556,
             "#d8576b"
            ],
            [
             0.6666666666666666,
             "#ed7953"
            ],
            [
             0.7777777777777778,
             "#fb9f3a"
            ],
            [
             0.8888888888888888,
             "#fdca26"
            ],
            [
             1,
             "#f0f921"
            ]
           ]
          },
          "colorway": [
           "#636efa",
           "#EF553B",
           "#00cc96",
           "#ab63fa",
           "#FFA15A",
           "#19d3f3",
           "#FF6692",
           "#B6E880",
           "#FF97FF",
           "#FECB52"
          ],
          "font": {
           "color": "#2a3f5f"
          },
          "geo": {
           "bgcolor": "white",
           "lakecolor": "white",
           "landcolor": "#E5ECF6",
           "showlakes": true,
           "showland": true,
           "subunitcolor": "white"
          },
          "hoverlabel": {
           "align": "left"
          },
          "hovermode": "closest",
          "mapbox": {
           "style": "light"
          },
          "paper_bgcolor": "white",
          "plot_bgcolor": "#E5ECF6",
          "polar": {
           "angularaxis": {
            "gridcolor": "white",
            "linecolor": "white",
            "ticks": ""
           },
           "bgcolor": "#E5ECF6",
           "radialaxis": {
            "gridcolor": "white",
            "linecolor": "white",
            "ticks": ""
           }
          },
          "scene": {
           "xaxis": {
            "backgroundcolor": "#E5ECF6",
            "gridcolor": "white",
            "gridwidth": 2,
            "linecolor": "white",
            "showbackground": true,
            "ticks": "",
            "zerolinecolor": "white"
           },
           "yaxis": {
            "backgroundcolor": "#E5ECF6",
            "gridcolor": "white",
            "gridwidth": 2,
            "linecolor": "white",
            "showbackground": true,
            "ticks": "",
            "zerolinecolor": "white"
           },
           "zaxis": {
            "backgroundcolor": "#E5ECF6",
            "gridcolor": "white",
            "gridwidth": 2,
            "linecolor": "white",
            "showbackground": true,
            "ticks": "",
            "zerolinecolor": "white"
           }
          },
          "shapedefaults": {
           "line": {
            "color": "#2a3f5f"
           }
          },
          "ternary": {
           "aaxis": {
            "gridcolor": "white",
            "linecolor": "white",
            "ticks": ""
           },
           "baxis": {
            "gridcolor": "white",
            "linecolor": "white",
            "ticks": ""
           },
           "bgcolor": "#E5ECF6",
           "caxis": {
            "gridcolor": "white",
            "linecolor": "white",
            "ticks": ""
           }
          },
          "title": {
           "x": 0.05
          },
          "xaxis": {
           "automargin": true,
           "gridcolor": "white",
           "linecolor": "white",
           "ticks": "",
           "title": {
            "standoff": 15
           },
           "zerolinecolor": "white",
           "zerolinewidth": 2
          },
          "yaxis": {
           "automargin": true,
           "gridcolor": "white",
           "linecolor": "white",
           "ticks": "",
           "title": {
            "standoff": 15
           },
           "zerolinecolor": "white",
           "zerolinewidth": 2
          }
         }
        },
        "title": {
         "text": "Clusters"
        }
       }
      }
     },
     "metadata": {},
     "output_type": "display_data"
    }
   ],
   "source": [
    "visualizing_results_3d(df,n,'Percent Total : In Correctional Facilities for Adults', 'Percent Total Men : In Correctional Facilities for Adults', 'Percent Total Women : In Correctional Facilities for Adults')"
   ]
  },
  {
   "cell_type": "code",
   "execution_count": 153,
   "metadata": {},
   "outputs": [
    {
     "data": {
      "application/vnd.plotly.v1+json": {
       "config": {
        "plotlyServerURL": "https://plot.ly"
       },
       "data": [
        {
         "marker": {
          "color": [
           1,
           0,
           3,
           1,
           0,
           1,
           0,
           1,
           0,
           1,
           3,
           2,
           0,
           0,
           1,
           2,
           0,
           1,
           3,
           2,
           0,
           2,
           0,
           2,
           3,
           0,
           0,
           2,
           0,
           2,
           0,
           1,
           0,
           0,
           2,
           0,
           3,
           0,
           1,
           2,
           1,
           1,
           1,
           3,
           2,
           2,
           1,
           2,
           1,
           0,
           0,
           2
          ]
         },
         "mode": "markers",
         "showlegend": false,
         "type": "scatter",
         "x": [
          0.8586248278147579,
          0.578121766016972,
          1.0470716833199911,
          0.8831181123749022,
          0.6882678446283664,
          0.8046017693484206,
          0.5610927739230357,
          0.7170905656763191,
          0.5932962509327382,
          0.8842309392271072,
          1.0644167374698497,
          0.4170400521649253,
          0.7177295988343831,
          0.5472684432068506,
          0.7463830635173623,
          0.43560254796305753,
          0.6292063630035631,
          0.9474884240028557,
          1.3327827497941929,
          0.2769578450436289,
          0.6156002405451618,
          0.37318852366253497,
          0.6236467536251826,
          0.3837723949716484,
          1.14895812586337,
          0.6979046496976837,
          0.5368829055553028,
          0.44049824211360317,
          0.7337391517508834,
          0.3668142836524949,
          0.5055907179954626,
          0.863985112513288,
          0.4863892242903871,
          0.6389922775804855,
          0.36991277016790297,
          0.662523065913209,
          1.0791312249906766,
          0.5785844909286534,
          0.7673523203803003,
          0.35902702630806405,
          0.889573231425678,
          0.7752585423370754,
          0.7376650717250975,
          1.0586401313536016,
          0.4571825528196723,
          0.2540987405332238,
          0.8147707093492033,
          0.47441163261724967,
          0.8936348417749868,
          0.6655546540821448,
          0.6309148264984227,
          0.34797998491057863
         ],
         "xaxis": "x",
         "y": [
          1.545176511558546,
          0.9466274200006493,
          1.8987834019717094,
          1.6273678313706617,
          1.2645002141179609,
          1.4592595119853435,
          1.0018889247844638,
          1.3836423038633003,
          1.09315957244689,
          1.6335640531898048,
          1.9878959758486212,
          0.6718601145259474,
          1.2450911980278205,
          1.0247802226094342,
          1.3781386992093705,
          0.7813333916764291,
          1.1646111933802832,
          1.698914073946393,
          2.5171090600065247,
          0.5110328956274536,
          1.1878519730550097,
          0.7176719210466148,
          1.2244761571200677,
          0.6786893666427063,
          2.1840220920873694,
          1.2962433317186397,
          0.9338248766275996,
          0.7926770061878239,
          1.303006124891465,
          0.6713951776579395,
          0.9597625946350127,
          1.5555016065129381,
          0.9452661881060411,
          1.2132407073351972,
          0.6452581032412965,
          1.2294403777168106,
          1.9504818853437602,
          1.0554313761272405,
          1.4589289836476471,
          0.701219512195122,
          1.7024124694847032,
          1.36702497170953,
          1.3375770647136709,
          1.9260872911769138,
          0.7881485280379049,
          0.46397539308125085,
          1.5089724025804492,
          0.8547911802435257,
          1.5339552050928977,
          1.22828089569161,
          1.065624815176891,
          0.7009412543672286
         ],
         "yaxis": "y"
        },
        {
         "marker": {
          "color": "red",
          "line": {
           "color": "black",
           "width": 1
          },
          "size": 10,
          "symbol": "star"
         },
         "mode": "markers",
         "name": "Centroids",
         "type": "scatter",
         "x": [
          0.6153318946846783,
          0.8274126808190967,
          0.38126819976373727,
          1.121833442131947
         ],
         "xaxis": "x",
         "y": [
          1.1254267454510045,
          1.5136025492046612,
          0.690691834194711,
          2.07739661773915
         ],
         "yaxis": "y"
        },
        {
         "marker": {
          "color": [
           1,
           0,
           3,
           1,
           0,
           1,
           0,
           1,
           0,
           1,
           3,
           2,
           0,
           0,
           1,
           2,
           0,
           1,
           3,
           2,
           0,
           2,
           0,
           2,
           3,
           0,
           0,
           2,
           0,
           2,
           0,
           1,
           0,
           0,
           2,
           0,
           3,
           0,
           1,
           2,
           1,
           1,
           1,
           3,
           2,
           2,
           1,
           2,
           1,
           0,
           0,
           2
          ]
         },
         "mode": "markers",
         "showlegend": false,
         "type": "scatter",
         "x": [
          0.8586248278147579,
          0.578121766016972,
          1.0470716833199911,
          0.8831181123749022,
          0.6882678446283664,
          0.8046017693484206,
          0.5610927739230357,
          0.7170905656763191,
          0.5932962509327382,
          0.8842309392271072,
          1.0644167374698497,
          0.4170400521649253,
          0.7177295988343831,
          0.5472684432068506,
          0.7463830635173623,
          0.43560254796305753,
          0.6292063630035631,
          0.9474884240028557,
          1.3327827497941929,
          0.2769578450436289,
          0.6156002405451618,
          0.37318852366253497,
          0.6236467536251826,
          0.3837723949716484,
          1.14895812586337,
          0.6979046496976837,
          0.5368829055553028,
          0.44049824211360317,
          0.7337391517508834,
          0.3668142836524949,
          0.5055907179954626,
          0.863985112513288,
          0.4863892242903871,
          0.6389922775804855,
          0.36991277016790297,
          0.662523065913209,
          1.0791312249906766,
          0.5785844909286534,
          0.7673523203803003,
          0.35902702630806405,
          0.889573231425678,
          0.7752585423370754,
          0.7376650717250975,
          1.0586401313536016,
          0.4571825528196723,
          0.2540987405332238,
          0.8147707093492033,
          0.47441163261724967,
          0.8936348417749868,
          0.6655546540821448,
          0.6309148264984227,
          0.34797998491057863
         ],
         "xaxis": "x2",
         "y": [
          0.2109737236272681,
          0.1782133451555036,
          0.20605100314222338,
          0.16526520247850643,
          0.1187492014090853,
          0.14677895535799,
          0.1430920864352518,
          0.09092970766422963,
          0.1458263123580713,
          0.16784306626487536,
          0.18364491390711915,
          0.16140005713797642,
          0.18830104645781826,
          0.0877284748643237,
          0.13463608034449837,
          0.09655170620193546,
          0.10210682265547294,
          0.21974083827228538,
          0.19696812556177834,
          0.05263119098340717,
          0.07981782754654083,
          0.05054716044153787,
          0.04517899421033672,
          0.09323327069125491,
          0.17142216837247887,
          0.12345153741674711,
          0.1367839138870173,
          0.0935823791227603,
          0.15311140780965418,
          0.07030683160539428,
          0.07483998161467316,
          0.18862346149489612,
          0.056134639141961935,
          0.09345620472512117,
          0.08866127485896846,
          0.12174079170130216,
          0.22498197293670624,
          0.11136536521638471,
          0.10993523357436469,
          0.03932616274048224,
          0.11956570703959941,
          0.1826454833959769,
          0.167097040184148,
          0.20495087262722259,
          0.12314912821467204,
          0.05038814618860913,
          0.14596172161212612,
          0.0968640522360662,
          0.27091529984841517,
          0.11111553292517662,
          0.1785009540568234,
          0.023291549393028407
         ],
         "yaxis": "y2"
        },
        {
         "marker": {
          "color": "red",
          "line": {
           "color": "black",
           "width": 1
          },
          "size": 10,
          "symbol": "star"
         },
         "mode": "markers",
         "name": "Centroids",
         "type": "scatter",
         "x": [
          0.6153318946846783,
          0.8274126808190967,
          0.38126819976373727,
          1.121833442131947
         ],
         "xaxis": "x2",
         "y": [
          0.11839549682038243,
          0.16577939436851283,
          0.07999483921662254,
          0.19800317609125476
         ],
         "yaxis": "y2"
        },
        {
         "marker": {
          "color": [
           1,
           0,
           3,
           1,
           0,
           1,
           0,
           1,
           0,
           1,
           3,
           2,
           0,
           0,
           1,
           2,
           0,
           1,
           3,
           2,
           0,
           2,
           0,
           2,
           3,
           0,
           0,
           2,
           0,
           2,
           0,
           1,
           0,
           0,
           2,
           0,
           3,
           0,
           1,
           2,
           1,
           1,
           1,
           3,
           2,
           2,
           1,
           2,
           1,
           0,
           0,
           2
          ]
         },
         "mode": "markers",
         "showlegend": false,
         "type": "scatter",
         "x": [
          1.545176511558546,
          0.9466274200006493,
          1.8987834019717094,
          1.6273678313706617,
          1.2645002141179609,
          1.4592595119853435,
          1.0018889247844638,
          1.3836423038633003,
          1.09315957244689,
          1.6335640531898048,
          1.9878959758486212,
          0.6718601145259474,
          1.2450911980278205,
          1.0247802226094342,
          1.3781386992093705,
          0.7813333916764291,
          1.1646111933802832,
          1.698914073946393,
          2.5171090600065247,
          0.5110328956274536,
          1.1878519730550097,
          0.7176719210466148,
          1.2244761571200677,
          0.6786893666427063,
          2.1840220920873694,
          1.2962433317186397,
          0.9338248766275996,
          0.7926770061878239,
          1.303006124891465,
          0.6713951776579395,
          0.9597625946350127,
          1.5555016065129381,
          0.9452661881060411,
          1.2132407073351972,
          0.6452581032412965,
          1.2294403777168106,
          1.9504818853437602,
          1.0554313761272405,
          1.4589289836476471,
          0.701219512195122,
          1.7024124694847032,
          1.36702497170953,
          1.3375770647136709,
          1.9260872911769138,
          0.7881485280379049,
          0.46397539308125085,
          1.5089724025804492,
          0.8547911802435257,
          1.5339552050928977,
          1.22828089569161,
          1.065624815176891,
          0.7009412543672286
         ],
         "xaxis": "x3",
         "y": [
          0.2109737236272681,
          0.1782133451555036,
          0.20605100314222338,
          0.16526520247850643,
          0.1187492014090853,
          0.14677895535799,
          0.1430920864352518,
          0.09092970766422963,
          0.1458263123580713,
          0.16784306626487536,
          0.18364491390711915,
          0.16140005713797642,
          0.18830104645781826,
          0.0877284748643237,
          0.13463608034449837,
          0.09655170620193546,
          0.10210682265547294,
          0.21974083827228538,
          0.19696812556177834,
          0.05263119098340717,
          0.07981782754654083,
          0.05054716044153787,
          0.04517899421033672,
          0.09323327069125491,
          0.17142216837247887,
          0.12345153741674711,
          0.1367839138870173,
          0.0935823791227603,
          0.15311140780965418,
          0.07030683160539428,
          0.07483998161467316,
          0.18862346149489612,
          0.056134639141961935,
          0.09345620472512117,
          0.08866127485896846,
          0.12174079170130216,
          0.22498197293670624,
          0.11136536521638471,
          0.10993523357436469,
          0.03932616274048224,
          0.11956570703959941,
          0.1826454833959769,
          0.167097040184148,
          0.20495087262722259,
          0.12314912821467204,
          0.05038814618860913,
          0.14596172161212612,
          0.0968640522360662,
          0.27091529984841517,
          0.11111553292517662,
          0.1785009540568234,
          0.023291549393028407
         ],
         "yaxis": "y3"
        },
        {
         "marker": {
          "color": "red",
          "line": {
           "color": "black",
           "width": 1
          },
          "size": 10,
          "symbol": "star"
         },
         "mode": "markers",
         "name": "Centroids",
         "type": "scatter",
         "x": [
          1.1254267454510045,
          1.5136025492046612,
          0.690691834194711,
          2.07739661773915
         ],
         "xaxis": "x3",
         "y": [
          0.11839549682038243,
          0.16577939436851283,
          0.07999483921662254,
          0.19800317609125476
         ],
         "yaxis": "y3"
        }
       ],
       "layout": {
        "annotations": [
         {
          "font": {
           "size": 16
          },
          "showarrow": false,
          "text": "PTICFFA by PTMICFFA",
          "x": 0.5,
          "xanchor": "center",
          "xref": "paper",
          "y": 1,
          "yanchor": "bottom",
          "yref": "paper"
         },
         {
          "font": {
           "size": 16
          },
          "showarrow": false,
          "text": "PTICFFA by PTWICFFA",
          "x": 0.5,
          "xanchor": "center",
          "xref": "paper",
          "y": 0.6111111111111112,
          "yanchor": "bottom",
          "yref": "paper"
         },
         {
          "font": {
           "size": 16
          },
          "showarrow": false,
          "text": "PTMICFFA by PTWICFFA",
          "x": 0.5,
          "xanchor": "center",
          "xref": "paper",
          "y": 0.22222222222222224,
          "yanchor": "bottom",
          "yref": "paper"
         }
        ],
        "height": 900,
        "template": {
         "data": {
          "bar": [
           {
            "error_x": {
             "color": "#2a3f5f"
            },
            "error_y": {
             "color": "#2a3f5f"
            },
            "marker": {
             "line": {
              "color": "#E5ECF6",
              "width": 0.5
             },
             "pattern": {
              "fillmode": "overlay",
              "size": 10,
              "solidity": 0.2
             }
            },
            "type": "bar"
           }
          ],
          "barpolar": [
           {
            "marker": {
             "line": {
              "color": "#E5ECF6",
              "width": 0.5
             },
             "pattern": {
              "fillmode": "overlay",
              "size": 10,
              "solidity": 0.2
             }
            },
            "type": "barpolar"
           }
          ],
          "carpet": [
           {
            "aaxis": {
             "endlinecolor": "#2a3f5f",
             "gridcolor": "white",
             "linecolor": "white",
             "minorgridcolor": "white",
             "startlinecolor": "#2a3f5f"
            },
            "baxis": {
             "endlinecolor": "#2a3f5f",
             "gridcolor": "white",
             "linecolor": "white",
             "minorgridcolor": "white",
             "startlinecolor": "#2a3f5f"
            },
            "type": "carpet"
           }
          ],
          "choropleth": [
           {
            "colorbar": {
             "outlinewidth": 0,
             "ticks": ""
            },
            "type": "choropleth"
           }
          ],
          "contour": [
           {
            "colorbar": {
             "outlinewidth": 0,
             "ticks": ""
            },
            "colorscale": [
             [
              0,
              "#0d0887"
             ],
             [
              0.1111111111111111,
              "#46039f"
             ],
             [
              0.2222222222222222,
              "#7201a8"
             ],
             [
              0.3333333333333333,
              "#9c179e"
             ],
             [
              0.4444444444444444,
              "#bd3786"
             ],
             [
              0.5555555555555556,
              "#d8576b"
             ],
             [
              0.6666666666666666,
              "#ed7953"
             ],
             [
              0.7777777777777778,
              "#fb9f3a"
             ],
             [
              0.8888888888888888,
              "#fdca26"
             ],
             [
              1,
              "#f0f921"
             ]
            ],
            "type": "contour"
           }
          ],
          "contourcarpet": [
           {
            "colorbar": {
             "outlinewidth": 0,
             "ticks": ""
            },
            "type": "contourcarpet"
           }
          ],
          "heatmap": [
           {
            "colorbar": {
             "outlinewidth": 0,
             "ticks": ""
            },
            "colorscale": [
             [
              0,
              "#0d0887"
             ],
             [
              0.1111111111111111,
              "#46039f"
             ],
             [
              0.2222222222222222,
              "#7201a8"
             ],
             [
              0.3333333333333333,
              "#9c179e"
             ],
             [
              0.4444444444444444,
              "#bd3786"
             ],
             [
              0.5555555555555556,
              "#d8576b"
             ],
             [
              0.6666666666666666,
              "#ed7953"
             ],
             [
              0.7777777777777778,
              "#fb9f3a"
             ],
             [
              0.8888888888888888,
              "#fdca26"
             ],
             [
              1,
              "#f0f921"
             ]
            ],
            "type": "heatmap"
           }
          ],
          "heatmapgl": [
           {
            "colorbar": {
             "outlinewidth": 0,
             "ticks": ""
            },
            "colorscale": [
             [
              0,
              "#0d0887"
             ],
             [
              0.1111111111111111,
              "#46039f"
             ],
             [
              0.2222222222222222,
              "#7201a8"
             ],
             [
              0.3333333333333333,
              "#9c179e"
             ],
             [
              0.4444444444444444,
              "#bd3786"
             ],
             [
              0.5555555555555556,
              "#d8576b"
             ],
             [
              0.6666666666666666,
              "#ed7953"
             ],
             [
              0.7777777777777778,
              "#fb9f3a"
             ],
             [
              0.8888888888888888,
              "#fdca26"
             ],
             [
              1,
              "#f0f921"
             ]
            ],
            "type": "heatmapgl"
           }
          ],
          "histogram": [
           {
            "marker": {
             "pattern": {
              "fillmode": "overlay",
              "size": 10,
              "solidity": 0.2
             }
            },
            "type": "histogram"
           }
          ],
          "histogram2d": [
           {
            "colorbar": {
             "outlinewidth": 0,
             "ticks": ""
            },
            "colorscale": [
             [
              0,
              "#0d0887"
             ],
             [
              0.1111111111111111,
              "#46039f"
             ],
             [
              0.2222222222222222,
              "#7201a8"
             ],
             [
              0.3333333333333333,
              "#9c179e"
             ],
             [
              0.4444444444444444,
              "#bd3786"
             ],
             [
              0.5555555555555556,
              "#d8576b"
             ],
             [
              0.6666666666666666,
              "#ed7953"
             ],
             [
              0.7777777777777778,
              "#fb9f3a"
             ],
             [
              0.8888888888888888,
              "#fdca26"
             ],
             [
              1,
              "#f0f921"
             ]
            ],
            "type": "histogram2d"
           }
          ],
          "histogram2dcontour": [
           {
            "colorbar": {
             "outlinewidth": 0,
             "ticks": ""
            },
            "colorscale": [
             [
              0,
              "#0d0887"
             ],
             [
              0.1111111111111111,
              "#46039f"
             ],
             [
              0.2222222222222222,
              "#7201a8"
             ],
             [
              0.3333333333333333,
              "#9c179e"
             ],
             [
              0.4444444444444444,
              "#bd3786"
             ],
             [
              0.5555555555555556,
              "#d8576b"
             ],
             [
              0.6666666666666666,
              "#ed7953"
             ],
             [
              0.7777777777777778,
              "#fb9f3a"
             ],
             [
              0.8888888888888888,
              "#fdca26"
             ],
             [
              1,
              "#f0f921"
             ]
            ],
            "type": "histogram2dcontour"
           }
          ],
          "mesh3d": [
           {
            "colorbar": {
             "outlinewidth": 0,
             "ticks": ""
            },
            "type": "mesh3d"
           }
          ],
          "parcoords": [
           {
            "line": {
             "colorbar": {
              "outlinewidth": 0,
              "ticks": ""
             }
            },
            "type": "parcoords"
           }
          ],
          "pie": [
           {
            "automargin": true,
            "type": "pie"
           }
          ],
          "scatter": [
           {
            "fillpattern": {
             "fillmode": "overlay",
             "size": 10,
             "solidity": 0.2
            },
            "type": "scatter"
           }
          ],
          "scatter3d": [
           {
            "line": {
             "colorbar": {
              "outlinewidth": 0,
              "ticks": ""
             }
            },
            "marker": {
             "colorbar": {
              "outlinewidth": 0,
              "ticks": ""
             }
            },
            "type": "scatter3d"
           }
          ],
          "scattercarpet": [
           {
            "marker": {
             "colorbar": {
              "outlinewidth": 0,
              "ticks": ""
             }
            },
            "type": "scattercarpet"
           }
          ],
          "scattergeo": [
           {
            "marker": {
             "colorbar": {
              "outlinewidth": 0,
              "ticks": ""
             }
            },
            "type": "scattergeo"
           }
          ],
          "scattergl": [
           {
            "marker": {
             "colorbar": {
              "outlinewidth": 0,
              "ticks": ""
             }
            },
            "type": "scattergl"
           }
          ],
          "scattermapbox": [
           {
            "marker": {
             "colorbar": {
              "outlinewidth": 0,
              "ticks": ""
             }
            },
            "type": "scattermapbox"
           }
          ],
          "scatterpolar": [
           {
            "marker": {
             "colorbar": {
              "outlinewidth": 0,
              "ticks": ""
             }
            },
            "type": "scatterpolar"
           }
          ],
          "scatterpolargl": [
           {
            "marker": {
             "colorbar": {
              "outlinewidth": 0,
              "ticks": ""
             }
            },
            "type": "scatterpolargl"
           }
          ],
          "scatterternary": [
           {
            "marker": {
             "colorbar": {
              "outlinewidth": 0,
              "ticks": ""
             }
            },
            "type": "scatterternary"
           }
          ],
          "surface": [
           {
            "colorbar": {
             "outlinewidth": 0,
             "ticks": ""
            },
            "colorscale": [
             [
              0,
              "#0d0887"
             ],
             [
              0.1111111111111111,
              "#46039f"
             ],
             [
              0.2222222222222222,
              "#7201a8"
             ],
             [
              0.3333333333333333,
              "#9c179e"
             ],
             [
              0.4444444444444444,
              "#bd3786"
             ],
             [
              0.5555555555555556,
              "#d8576b"
             ],
             [
              0.6666666666666666,
              "#ed7953"
             ],
             [
              0.7777777777777778,
              "#fb9f3a"
             ],
             [
              0.8888888888888888,
              "#fdca26"
             ],
             [
              1,
              "#f0f921"
             ]
            ],
            "type": "surface"
           }
          ],
          "table": [
           {
            "cells": {
             "fill": {
              "color": "#EBF0F8"
             },
             "line": {
              "color": "white"
             }
            },
            "header": {
             "fill": {
              "color": "#C8D4E3"
             },
             "line": {
              "color": "white"
             }
            },
            "type": "table"
           }
          ]
         },
         "layout": {
          "annotationdefaults": {
           "arrowcolor": "#2a3f5f",
           "arrowhead": 0,
           "arrowwidth": 1
          },
          "autotypenumbers": "strict",
          "coloraxis": {
           "colorbar": {
            "outlinewidth": 0,
            "ticks": ""
           }
          },
          "colorscale": {
           "diverging": [
            [
             0,
             "#8e0152"
            ],
            [
             0.1,
             "#c51b7d"
            ],
            [
             0.2,
             "#de77ae"
            ],
            [
             0.3,
             "#f1b6da"
            ],
            [
             0.4,
             "#fde0ef"
            ],
            [
             0.5,
             "#f7f7f7"
            ],
            [
             0.6,
             "#e6f5d0"
            ],
            [
             0.7,
             "#b8e186"
            ],
            [
             0.8,
             "#7fbc41"
            ],
            [
             0.9,
             "#4d9221"
            ],
            [
             1,
             "#276419"
            ]
           ],
           "sequential": [
            [
             0,
             "#0d0887"
            ],
            [
             0.1111111111111111,
             "#46039f"
            ],
            [
             0.2222222222222222,
             "#7201a8"
            ],
            [
             0.3333333333333333,
             "#9c179e"
            ],
            [
             0.4444444444444444,
             "#bd3786"
            ],
            [
             0.5555555555555556,
             "#d8576b"
            ],
            [
             0.6666666666666666,
             "#ed7953"
            ],
            [
             0.7777777777777778,
             "#fb9f3a"
            ],
            [
             0.8888888888888888,
             "#fdca26"
            ],
            [
             1,
             "#f0f921"
            ]
           ],
           "sequentialminus": [
            [
             0,
             "#0d0887"
            ],
            [
             0.1111111111111111,
             "#46039f"
            ],
            [
             0.2222222222222222,
             "#7201a8"
            ],
            [
             0.3333333333333333,
             "#9c179e"
            ],
            [
             0.4444444444444444,
             "#bd3786"
            ],
            [
             0.5555555555555556,
             "#d8576b"
            ],
            [
             0.6666666666666666,
             "#ed7953"
            ],
            [
             0.7777777777777778,
             "#fb9f3a"
            ],
            [
             0.8888888888888888,
             "#fdca26"
            ],
            [
             1,
             "#f0f921"
            ]
           ]
          },
          "colorway": [
           "#636efa",
           "#EF553B",
           "#00cc96",
           "#ab63fa",
           "#FFA15A",
           "#19d3f3",
           "#FF6692",
           "#B6E880",
           "#FF97FF",
           "#FECB52"
          ],
          "font": {
           "color": "#2a3f5f"
          },
          "geo": {
           "bgcolor": "white",
           "lakecolor": "white",
           "landcolor": "#E5ECF6",
           "showlakes": true,
           "showland": true,
           "subunitcolor": "white"
          },
          "hoverlabel": {
           "align": "left"
          },
          "hovermode": "closest",
          "mapbox": {
           "style": "light"
          },
          "paper_bgcolor": "white",
          "plot_bgcolor": "#E5ECF6",
          "polar": {
           "angularaxis": {
            "gridcolor": "white",
            "linecolor": "white",
            "ticks": ""
           },
           "bgcolor": "#E5ECF6",
           "radialaxis": {
            "gridcolor": "white",
            "linecolor": "white",
            "ticks": ""
           }
          },
          "scene": {
           "xaxis": {
            "backgroundcolor": "#E5ECF6",
            "gridcolor": "white",
            "gridwidth": 2,
            "linecolor": "white",
            "showbackground": true,
            "ticks": "",
            "zerolinecolor": "white"
           },
           "yaxis": {
            "backgroundcolor": "#E5ECF6",
            "gridcolor": "white",
            "gridwidth": 2,
            "linecolor": "white",
            "showbackground": true,
            "ticks": "",
            "zerolinecolor": "white"
           },
           "zaxis": {
            "backgroundcolor": "#E5ECF6",
            "gridcolor": "white",
            "gridwidth": 2,
            "linecolor": "white",
            "showbackground": true,
            "ticks": "",
            "zerolinecolor": "white"
           }
          },
          "shapedefaults": {
           "line": {
            "color": "#2a3f5f"
           }
          },
          "ternary": {
           "aaxis": {
            "gridcolor": "white",
            "linecolor": "white",
            "ticks": ""
           },
           "baxis": {
            "gridcolor": "white",
            "linecolor": "white",
            "ticks": ""
           },
           "bgcolor": "#E5ECF6",
           "caxis": {
            "gridcolor": "white",
            "linecolor": "white",
            "ticks": ""
           }
          },
          "title": {
           "x": 0.05
          },
          "xaxis": {
           "automargin": true,
           "gridcolor": "white",
           "linecolor": "white",
           "ticks": "",
           "title": {
            "standoff": 15
           },
           "zerolinecolor": "white",
           "zerolinewidth": 2
          },
          "yaxis": {
           "automargin": true,
           "gridcolor": "white",
           "linecolor": "white",
           "ticks": "",
           "title": {
            "standoff": 15
           },
           "zerolinecolor": "white",
           "zerolinewidth": 2
          }
         }
        },
        "title": {
         "text": "Clusters of Percent Total : In Correctional Facilities for Adults, Percent Total Men : In Correctional Facilities for Adults and Percent Total Women : In Correctional Facilities for Adults"
        },
        "width": 900,
        "xaxis": {
         "anchor": "y",
         "domain": [
          0,
          1
         ]
        },
        "xaxis2": {
         "anchor": "y2",
         "domain": [
          0,
          1
         ]
        },
        "xaxis3": {
         "anchor": "y3",
         "domain": [
          0,
          1
         ]
        },
        "yaxis": {
         "anchor": "x",
         "domain": [
          0.7777777777777778,
          1
         ]
        },
        "yaxis2": {
         "anchor": "x2",
         "domain": [
          0.3888888888888889,
          0.6111111111111112
         ]
        },
        "yaxis3": {
         "anchor": "x3",
         "domain": [
          0,
          0.22222222222222224
         ]
        }
       }
      }
     },
     "metadata": {},
     "output_type": "display_data"
    }
   ],
   "source": [
    "visualizing_results_2d(df,n,'Percent Total : In Correctional Facilities for Adults', 'Percent Total Men : In Correctional Facilities for Adults', 'Percent Total Women : In Correctional Facilities for Adults')"
   ]
  },
  {
   "attachments": {},
   "cell_type": "markdown",
   "metadata": {},
   "source": [
    "## Plotting by Specific Features"
   ]
  },
  {
   "attachments": {},
   "cell_type": "markdown",
   "metadata": {},
   "source": [
    "### Step 1: Define the dataframes for each comparision (total, male, female)\n",
    "- regex is used to include or exclude words we arent interested in for that word\n",
    "```\n",
    "regex='^(?!.*(Word|Another|Something)).*'\n",
    "\n",
    "```\n",
    "- In this case, regex will find colunm names that contain the phrases: \"Word\" or \"Another\" or \"Something\" (| = or)\n",
    "- The carrort ^ symbol means to exclude, such as in $rate\\_df\\_total$\n",
    "  - [Mm] is used to identify words that contain M or m in the colunms to exclude \"M\"ale and Fe\"m\"ale from the total dataframe\n",
    "- Without the carrort, filter will focus on the words we specifies such as \"Male\" and \"Female\""
   ]
  },
  {
   "cell_type": "code",
   "execution_count": 154,
   "metadata": {},
   "outputs": [],
   "source": [
    "# Data frames that onyl consider Incarceration rates\n",
    "rate_df_whole =df.filter(regex='^(?!.*(Correctional|Percent|Population)).*') \n",
    "rate_df_total = rate_df_whole.filter(regex='^(?!.*([Mm]ale)).*') # Total rates\n",
    "rate_df_male = rate_df_whole.filter(regex='.*(Geography|Male).*') # Male rates\n",
    "rate_df_female = rate_df_whole.filter(regex='.*(Geography|[Fem]ale).*') # Female rates\n",
    "\n",
    "corr_df_whole =df.filter(regex='^(?!.*(rate|Percent|Population)).*') \n",
    "corr_df_total = corr_df_whole.filter(regex='^(?!.*([Mm]en)).*') # Total rates\n",
    "corr_df_male = corr_df_whole.filter(regex='.*(Geography|Men).*') # Male rates\n",
    "corr_df_female = corr_df_whole.filter(regex='.*(Geography|[Wom]en).*') # Female rates\n",
    "\n",
    "per_df_whole=pd.DataFrame()\n",
    "per_df_whole[\"Geography\"] = df[\"Geography\"]\n",
    "per_df_whole = pd.concat([per_df_whole, df.filter(like='Percent', axis=1)], axis=1)\n",
    "per_df_total = per_df_whole.filter(regex='^(?!.*([Mm]en)).*') # Total rates\n",
    "per_df_male = per_df_whole.filter(regex='.*(Geography|Men).*') # Male rates\n",
    "per_df_female = per_df_whole.filter(regex='.*(Geography|[Wom]en).*') # Female rates"
   ]
  },
  {
   "attachments": {},
   "cell_type": "markdown",
   "metadata": {},
   "source": [
    "### Step 2: Run K-means, get Feature and get n clusters\n",
    "- runKmeans takes in 3 arguements: dataframe, feature variables (not the obsevations such as the states in our case), and the number of clusters we wish to use\n",
    "### Step 3: Plots\n",
    "- stateClusterGraph takes in the dataframe the runKmeans method (just includes cluster assigments) and plots them to states\n",
    "#### Multiple Plots\n",
    "- We can store the cluster data from the runKmeans method to different variables such as below \n",
    "- then Plot them on subplots as below\n",
    "\n",
    "#### Single Plots\n",
    "- Just calling stateClusterGraph with the cluster data passed as an argument and not defining it into a variable\n",
    "- A plot will produce on its own\n"
   ]
  },
  {
   "cell_type": "code",
   "execution_count": 155,
   "metadata": {},
   "outputs": [],
   "source": [
    "# Get graphs with State abbrevations assigned for each\n",
    "total_rate_fig = stateClusterGraph(runKmeans(rate_df_total, getX(rate_df_total), n)[0]) \n",
    "male_rate_fig= stateClusterGraph(runKmeans(rate_df_male, getX(rate_df_male), n)[0])\n",
    "female_rate_fig = stateClusterGraph(runKmeans(rate_df_female, getX(rate_df_female), n)[0])\n",
    "\n",
    "total_corr_fig = stateClusterGraph(runKmeans(corr_df_total, getX(corr_df_total), n)[0]) \n",
    "male_corr_fig= stateClusterGraph(runKmeans(corr_df_male, getX(corr_df_male), n)[0])\n",
    "female_corr_fig = stateClusterGraph(runKmeans(corr_df_female, getX(corr_df_female), n)[0])\n",
    "\n",
    "total_per_fig = stateClusterGraph(runKmeans(per_df_total, getX(per_df_total), n)[0]) \n",
    "male_per_fig= stateClusterGraph(runKmeans(per_df_male, getX(per_df_male), n)[0])\n",
    "female_per_fig = stateClusterGraph(runKmeans(per_df_female, getX(per_df_female), n)[0])"
   ]
  },
  {
   "cell_type": "code",
   "execution_count": 156,
   "metadata": {},
   "outputs": [
    {
     "data": {
      "application/vnd.plotly.v1+json": {
       "config": {
        "plotlyServerURL": "https://plot.ly"
       },
       "data": [
        {
         "coloraxis": "coloraxis",
         "geo": "geo",
         "hovertemplate": "State Abbreviation=%{location}<br>Cluster=%{z}<extra></extra>",
         "locationmode": "USA-states",
         "locations": [
          "AL",
          "AK",
          "AZ",
          "AR",
          "CA",
          "CO",
          "CT",
          "DE",
          null,
          "FL",
          "GA",
          "HI",
          "ID",
          "IL",
          "IN",
          "IA",
          "KS",
          "KY",
          "LA",
          "ME",
          "MD",
          "MA",
          "MI",
          "MN",
          "MS",
          "MO",
          "MT",
          "NE",
          "NV",
          "NH",
          "NJ",
          "NM",
          "NY",
          "NC",
          "ND",
          "OH",
          "OK",
          "OR",
          "PA",
          "RI",
          "SC",
          "SD",
          "TN",
          "TX",
          "UT",
          "VT",
          "VA",
          "WA",
          "WV",
          "WI",
          "WY",
          null
         ],
         "name": "",
         "type": "choropleth",
         "z": [
          0,
          0,
          1,
          2,
          2,
          2,
          0,
          0,
          0,
          2,
          2,
          0,
          2,
          0,
          2,
          0,
          2,
          2,
          2,
          0,
          0,
          0,
          0,
          0,
          1,
          0,
          2,
          0,
          2,
          0,
          0,
          2,
          0,
          0,
          0,
          0,
          2,
          2,
          2,
          0,
          0,
          2,
          0,
          2,
          0,
          0,
          0,
          0,
          3,
          2,
          2,
          0
         ]
        },
        {
         "coloraxis": "coloraxis",
         "geo": "geo2",
         "hovertemplate": "State Abbreviation=%{location}<br>Cluster=%{z}<extra></extra>",
         "locationmode": "USA-states",
         "locations": [
          "AL",
          "AK",
          "AZ",
          "AR",
          "CA",
          "CO",
          "CT",
          "DE",
          null,
          "FL",
          "GA",
          "HI",
          "ID",
          "IL",
          "IN",
          "IA",
          "KS",
          "KY",
          "LA",
          "ME",
          "MD",
          "MA",
          "MI",
          "MN",
          "MS",
          "MO",
          "MT",
          "NE",
          "NV",
          "NH",
          "NJ",
          "NM",
          "NY",
          "NC",
          "ND",
          "OH",
          "OK",
          "OR",
          "PA",
          "RI",
          "SC",
          "SD",
          "TN",
          "TX",
          "UT",
          "VT",
          "VA",
          "WA",
          "WV",
          "WI",
          "WY",
          null
         ],
         "name": "",
         "type": "choropleth",
         "z": [
          0,
          0,
          1,
          2,
          2,
          2,
          0,
          0,
          0,
          2,
          2,
          0,
          2,
          0,
          2,
          0,
          2,
          2,
          2,
          0,
          0,
          0,
          0,
          0,
          3,
          0,
          2,
          0,
          2,
          0,
          0,
          2,
          0,
          0,
          0,
          0,
          2,
          2,
          2,
          0,
          0,
          2,
          0,
          2,
          0,
          0,
          0,
          0,
          1,
          2,
          2,
          0
         ]
        },
        {
         "coloraxis": "coloraxis",
         "geo": "geo3",
         "hovertemplate": "State Abbreviation=%{location}<br>Cluster=%{z}<extra></extra>",
         "locationmode": "USA-states",
         "locations": [
          "AL",
          "AK",
          "AZ",
          "AR",
          "CA",
          "CO",
          "CT",
          "DE",
          null,
          "FL",
          "GA",
          "HI",
          "ID",
          "IL",
          "IN",
          "IA",
          "KS",
          "KY",
          "LA",
          "ME",
          "MD",
          "MA",
          "MI",
          "MN",
          "MS",
          "MO",
          "MT",
          "NE",
          "NV",
          "NH",
          "NJ",
          "NM",
          "NY",
          "NC",
          "ND",
          "OH",
          "OK",
          "OR",
          "PA",
          "RI",
          "SC",
          "SD",
          "TN",
          "TX",
          "UT",
          "VT",
          "VA",
          "WA",
          "WV",
          "WI",
          "WY",
          null
         ],
         "name": "",
         "type": "choropleth",
         "z": [
          0,
          3,
          0,
          0,
          2,
          3,
          3,
          2,
          2,
          0,
          0,
          0,
          0,
          2,
          2,
          3,
          2,
          0,
          0,
          2,
          2,
          2,
          2,
          3,
          0,
          2,
          3,
          3,
          0,
          3,
          2,
          0,
          2,
          2,
          3,
          2,
          0,
          2,
          2,
          2,
          2,
          3,
          0,
          0,
          3,
          2,
          2,
          2,
          1,
          3,
          3,
          2
         ]
        }
       ],
       "layout": {
        "annotations": [
         {
          "font": {
           "size": 16
          },
          "showarrow": false,
          "text": "Total Rate",
          "x": 0.14444444444444446,
          "xanchor": "center",
          "xref": "paper",
          "y": 1,
          "yanchor": "bottom",
          "yref": "paper"
         },
         {
          "font": {
           "size": 16
          },
          "showarrow": false,
          "text": "Male Rate",
          "x": 0.5,
          "xanchor": "center",
          "xref": "paper",
          "y": 1,
          "yanchor": "bottom",
          "yref": "paper"
         },
         {
          "font": {
           "size": 16
          },
          "showarrow": false,
          "text": "Female Rate",
          "x": 0.8555555555555556,
          "xanchor": "center",
          "xref": "paper",
          "y": 1,
          "yanchor": "bottom",
          "yref": "paper"
         }
        ],
        "geo": {
         "domain": {
          "x": [
           0,
           0.2888888888888889
          ],
          "y": [
           0,
           1
          ]
         },
         "scope": "usa"
        },
        "geo2": {
         "domain": {
          "x": [
           0.35555555555555557,
           0.6444444444444445
          ],
          "y": [
           0,
           1
          ]
         },
         "scope": "usa"
        },
        "geo3": {
         "domain": {
          "x": [
           0.7111111111111111,
           1
          ],
          "y": [
           0,
           1
          ]
         },
         "scope": "usa"
        },
        "template": {
         "data": {
          "bar": [
           {
            "error_x": {
             "color": "#2a3f5f"
            },
            "error_y": {
             "color": "#2a3f5f"
            },
            "marker": {
             "line": {
              "color": "#E5ECF6",
              "width": 0.5
             },
             "pattern": {
              "fillmode": "overlay",
              "size": 10,
              "solidity": 0.2
             }
            },
            "type": "bar"
           }
          ],
          "barpolar": [
           {
            "marker": {
             "line": {
              "color": "#E5ECF6",
              "width": 0.5
             },
             "pattern": {
              "fillmode": "overlay",
              "size": 10,
              "solidity": 0.2
             }
            },
            "type": "barpolar"
           }
          ],
          "carpet": [
           {
            "aaxis": {
             "endlinecolor": "#2a3f5f",
             "gridcolor": "white",
             "linecolor": "white",
             "minorgridcolor": "white",
             "startlinecolor": "#2a3f5f"
            },
            "baxis": {
             "endlinecolor": "#2a3f5f",
             "gridcolor": "white",
             "linecolor": "white",
             "minorgridcolor": "white",
             "startlinecolor": "#2a3f5f"
            },
            "type": "carpet"
           }
          ],
          "choropleth": [
           {
            "colorbar": {
             "outlinewidth": 0,
             "ticks": ""
            },
            "type": "choropleth"
           }
          ],
          "contour": [
           {
            "colorbar": {
             "outlinewidth": 0,
             "ticks": ""
            },
            "colorscale": [
             [
              0,
              "#0d0887"
             ],
             [
              0.1111111111111111,
              "#46039f"
             ],
             [
              0.2222222222222222,
              "#7201a8"
             ],
             [
              0.3333333333333333,
              "#9c179e"
             ],
             [
              0.4444444444444444,
              "#bd3786"
             ],
             [
              0.5555555555555556,
              "#d8576b"
             ],
             [
              0.6666666666666666,
              "#ed7953"
             ],
             [
              0.7777777777777778,
              "#fb9f3a"
             ],
             [
              0.8888888888888888,
              "#fdca26"
             ],
             [
              1,
              "#f0f921"
             ]
            ],
            "type": "contour"
           }
          ],
          "contourcarpet": [
           {
            "colorbar": {
             "outlinewidth": 0,
             "ticks": ""
            },
            "type": "contourcarpet"
           }
          ],
          "heatmap": [
           {
            "colorbar": {
             "outlinewidth": 0,
             "ticks": ""
            },
            "colorscale": [
             [
              0,
              "#0d0887"
             ],
             [
              0.1111111111111111,
              "#46039f"
             ],
             [
              0.2222222222222222,
              "#7201a8"
             ],
             [
              0.3333333333333333,
              "#9c179e"
             ],
             [
              0.4444444444444444,
              "#bd3786"
             ],
             [
              0.5555555555555556,
              "#d8576b"
             ],
             [
              0.6666666666666666,
              "#ed7953"
             ],
             [
              0.7777777777777778,
              "#fb9f3a"
             ],
             [
              0.8888888888888888,
              "#fdca26"
             ],
             [
              1,
              "#f0f921"
             ]
            ],
            "type": "heatmap"
           }
          ],
          "heatmapgl": [
           {
            "colorbar": {
             "outlinewidth": 0,
             "ticks": ""
            },
            "colorscale": [
             [
              0,
              "#0d0887"
             ],
             [
              0.1111111111111111,
              "#46039f"
             ],
             [
              0.2222222222222222,
              "#7201a8"
             ],
             [
              0.3333333333333333,
              "#9c179e"
             ],
             [
              0.4444444444444444,
              "#bd3786"
             ],
             [
              0.5555555555555556,
              "#d8576b"
             ],
             [
              0.6666666666666666,
              "#ed7953"
             ],
             [
              0.7777777777777778,
              "#fb9f3a"
             ],
             [
              0.8888888888888888,
              "#fdca26"
             ],
             [
              1,
              "#f0f921"
             ]
            ],
            "type": "heatmapgl"
           }
          ],
          "histogram": [
           {
            "marker": {
             "pattern": {
              "fillmode": "overlay",
              "size": 10,
              "solidity": 0.2
             }
            },
            "type": "histogram"
           }
          ],
          "histogram2d": [
           {
            "colorbar": {
             "outlinewidth": 0,
             "ticks": ""
            },
            "colorscale": [
             [
              0,
              "#0d0887"
             ],
             [
              0.1111111111111111,
              "#46039f"
             ],
             [
              0.2222222222222222,
              "#7201a8"
             ],
             [
              0.3333333333333333,
              "#9c179e"
             ],
             [
              0.4444444444444444,
              "#bd3786"
             ],
             [
              0.5555555555555556,
              "#d8576b"
             ],
             [
              0.6666666666666666,
              "#ed7953"
             ],
             [
              0.7777777777777778,
              "#fb9f3a"
             ],
             [
              0.8888888888888888,
              "#fdca26"
             ],
             [
              1,
              "#f0f921"
             ]
            ],
            "type": "histogram2d"
           }
          ],
          "histogram2dcontour": [
           {
            "colorbar": {
             "outlinewidth": 0,
             "ticks": ""
            },
            "colorscale": [
             [
              0,
              "#0d0887"
             ],
             [
              0.1111111111111111,
              "#46039f"
             ],
             [
              0.2222222222222222,
              "#7201a8"
             ],
             [
              0.3333333333333333,
              "#9c179e"
             ],
             [
              0.4444444444444444,
              "#bd3786"
             ],
             [
              0.5555555555555556,
              "#d8576b"
             ],
             [
              0.6666666666666666,
              "#ed7953"
             ],
             [
              0.7777777777777778,
              "#fb9f3a"
             ],
             [
              0.8888888888888888,
              "#fdca26"
             ],
             [
              1,
              "#f0f921"
             ]
            ],
            "type": "histogram2dcontour"
           }
          ],
          "mesh3d": [
           {
            "colorbar": {
             "outlinewidth": 0,
             "ticks": ""
            },
            "type": "mesh3d"
           }
          ],
          "parcoords": [
           {
            "line": {
             "colorbar": {
              "outlinewidth": 0,
              "ticks": ""
             }
            },
            "type": "parcoords"
           }
          ],
          "pie": [
           {
            "automargin": true,
            "type": "pie"
           }
          ],
          "scatter": [
           {
            "fillpattern": {
             "fillmode": "overlay",
             "size": 10,
             "solidity": 0.2
            },
            "type": "scatter"
           }
          ],
          "scatter3d": [
           {
            "line": {
             "colorbar": {
              "outlinewidth": 0,
              "ticks": ""
             }
            },
            "marker": {
             "colorbar": {
              "outlinewidth": 0,
              "ticks": ""
             }
            },
            "type": "scatter3d"
           }
          ],
          "scattercarpet": [
           {
            "marker": {
             "colorbar": {
              "outlinewidth": 0,
              "ticks": ""
             }
            },
            "type": "scattercarpet"
           }
          ],
          "scattergeo": [
           {
            "marker": {
             "colorbar": {
              "outlinewidth": 0,
              "ticks": ""
             }
            },
            "type": "scattergeo"
           }
          ],
          "scattergl": [
           {
            "marker": {
             "colorbar": {
              "outlinewidth": 0,
              "ticks": ""
             }
            },
            "type": "scattergl"
           }
          ],
          "scattermapbox": [
           {
            "marker": {
             "colorbar": {
              "outlinewidth": 0,
              "ticks": ""
             }
            },
            "type": "scattermapbox"
           }
          ],
          "scatterpolar": [
           {
            "marker": {
             "colorbar": {
              "outlinewidth": 0,
              "ticks": ""
             }
            },
            "type": "scatterpolar"
           }
          ],
          "scatterpolargl": [
           {
            "marker": {
             "colorbar": {
              "outlinewidth": 0,
              "ticks": ""
             }
            },
            "type": "scatterpolargl"
           }
          ],
          "scatterternary": [
           {
            "marker": {
             "colorbar": {
              "outlinewidth": 0,
              "ticks": ""
             }
            },
            "type": "scatterternary"
           }
          ],
          "surface": [
           {
            "colorbar": {
             "outlinewidth": 0,
             "ticks": ""
            },
            "colorscale": [
             [
              0,
              "#0d0887"
             ],
             [
              0.1111111111111111,
              "#46039f"
             ],
             [
              0.2222222222222222,
              "#7201a8"
             ],
             [
              0.3333333333333333,
              "#9c179e"
             ],
             [
              0.4444444444444444,
              "#bd3786"
             ],
             [
              0.5555555555555556,
              "#d8576b"
             ],
             [
              0.6666666666666666,
              "#ed7953"
             ],
             [
              0.7777777777777778,
              "#fb9f3a"
             ],
             [
              0.8888888888888888,
              "#fdca26"
             ],
             [
              1,
              "#f0f921"
             ]
            ],
            "type": "surface"
           }
          ],
          "table": [
           {
            "cells": {
             "fill": {
              "color": "#EBF0F8"
             },
             "line": {
              "color": "white"
             }
            },
            "header": {
             "fill": {
              "color": "#C8D4E3"
             },
             "line": {
              "color": "white"
             }
            },
            "type": "table"
           }
          ]
         },
         "layout": {
          "annotationdefaults": {
           "arrowcolor": "#2a3f5f",
           "arrowhead": 0,
           "arrowwidth": 1
          },
          "autotypenumbers": "strict",
          "coloraxis": {
           "colorbar": {
            "outlinewidth": 0,
            "ticks": ""
           }
          },
          "colorscale": {
           "diverging": [
            [
             0,
             "#8e0152"
            ],
            [
             0.1,
             "#c51b7d"
            ],
            [
             0.2,
             "#de77ae"
            ],
            [
             0.3,
             "#f1b6da"
            ],
            [
             0.4,
             "#fde0ef"
            ],
            [
             0.5,
             "#f7f7f7"
            ],
            [
             0.6,
             "#e6f5d0"
            ],
            [
             0.7,
             "#b8e186"
            ],
            [
             0.8,
             "#7fbc41"
            ],
            [
             0.9,
             "#4d9221"
            ],
            [
             1,
             "#276419"
            ]
           ],
           "sequential": [
            [
             0,
             "#0d0887"
            ],
            [
             0.1111111111111111,
             "#46039f"
            ],
            [
             0.2222222222222222,
             "#7201a8"
            ],
            [
             0.3333333333333333,
             "#9c179e"
            ],
            [
             0.4444444444444444,
             "#bd3786"
            ],
            [
             0.5555555555555556,
             "#d8576b"
            ],
            [
             0.6666666666666666,
             "#ed7953"
            ],
            [
             0.7777777777777778,
             "#fb9f3a"
            ],
            [
             0.8888888888888888,
             "#fdca26"
            ],
            [
             1,
             "#f0f921"
            ]
           ],
           "sequentialminus": [
            [
             0,
             "#0d0887"
            ],
            [
             0.1111111111111111,
             "#46039f"
            ],
            [
             0.2222222222222222,
             "#7201a8"
            ],
            [
             0.3333333333333333,
             "#9c179e"
            ],
            [
             0.4444444444444444,
             "#bd3786"
            ],
            [
             0.5555555555555556,
             "#d8576b"
            ],
            [
             0.6666666666666666,
             "#ed7953"
            ],
            [
             0.7777777777777778,
             "#fb9f3a"
            ],
            [
             0.8888888888888888,
             "#fdca26"
            ],
            [
             1,
             "#f0f921"
            ]
           ]
          },
          "colorway": [
           "#636efa",
           "#EF553B",
           "#00cc96",
           "#ab63fa",
           "#FFA15A",
           "#19d3f3",
           "#FF6692",
           "#B6E880",
           "#FF97FF",
           "#FECB52"
          ],
          "font": {
           "color": "#2a3f5f"
          },
          "geo": {
           "bgcolor": "white",
           "lakecolor": "white",
           "landcolor": "#E5ECF6",
           "showlakes": true,
           "showland": true,
           "subunitcolor": "white"
          },
          "hoverlabel": {
           "align": "left"
          },
          "hovermode": "closest",
          "mapbox": {
           "style": "light"
          },
          "paper_bgcolor": "white",
          "plot_bgcolor": "#E5ECF6",
          "polar": {
           "angularaxis": {
            "gridcolor": "white",
            "linecolor": "white",
            "ticks": ""
           },
           "bgcolor": "#E5ECF6",
           "radialaxis": {
            "gridcolor": "white",
            "linecolor": "white",
            "ticks": ""
           }
          },
          "scene": {
           "xaxis": {
            "backgroundcolor": "#E5ECF6",
            "gridcolor": "white",
            "gridwidth": 2,
            "linecolor": "white",
            "showbackground": true,
            "ticks": "",
            "zerolinecolor": "white"
           },
           "yaxis": {
            "backgroundcolor": "#E5ECF6",
            "gridcolor": "white",
            "gridwidth": 2,
            "linecolor": "white",
            "showbackground": true,
            "ticks": "",
            "zerolinecolor": "white"
           },
           "zaxis": {
            "backgroundcolor": "#E5ECF6",
            "gridcolor": "white",
            "gridwidth": 2,
            "linecolor": "white",
            "showbackground": true,
            "ticks": "",
            "zerolinecolor": "white"
           }
          },
          "shapedefaults": {
           "line": {
            "color": "#2a3f5f"
           }
          },
          "ternary": {
           "aaxis": {
            "gridcolor": "white",
            "linecolor": "white",
            "ticks": ""
           },
           "baxis": {
            "gridcolor": "white",
            "linecolor": "white",
            "ticks": ""
           },
           "bgcolor": "#E5ECF6",
           "caxis": {
            "gridcolor": "white",
            "linecolor": "white",
            "ticks": ""
           }
          },
          "title": {
           "x": 0.05
          },
          "xaxis": {
           "automargin": true,
           "gridcolor": "white",
           "linecolor": "white",
           "ticks": "",
           "title": {
            "standoff": 15
           },
           "zerolinecolor": "white",
           "zerolinewidth": 2
          },
          "yaxis": {
           "automargin": true,
           "gridcolor": "white",
           "linecolor": "white",
           "ticks": "",
           "title": {
            "standoff": 15
           },
           "zerolinecolor": "white",
           "zerolinewidth": 2
          }
         }
        },
        "title": {
         "text": "Clusters by State"
        }
       }
      }
     },
     "metadata": {},
     "output_type": "display_data"
    }
   ],
   "source": [
    "# Make 3 subplots for \n",
    "# Create a 1x3 grid of subplots with titles and a geo subplot type\n",
    "fig = make_subplots(\n",
    "    rows=1,\n",
    "    cols=3,\n",
    "    subplot_titles=('Total Rate', 'Male Rate', 'Female Rate'),\n",
    "    specs=[[{'type': 'choropleth'}, {'type': 'choropleth'}, {'type': 'choropleth'}]]\n",
    ")\n",
    "\n",
    "# Add your figures as subplots\n",
    "fig.add_trace(total_rate_fig.data[0], row=1, col=1)\n",
    "fig.add_trace(male_rate_fig.data[0], row=1, col=2)\n",
    "fig.add_trace(female_rate_fig.data[0], row=1, col=3)\n",
    "\n",
    "# Update the geo attribute of each subplot to set the scope to 'usa'\n",
    "fig.update_geos(scope='usa')\n",
    "\n",
    "# Update the layout to show the subplots\n",
    "fig.update_layout(title='Clusters by State')\n",
    "\n",
    "fig.show()"
   ]
  },
  {
   "cell_type": "code",
   "execution_count": 157,
   "metadata": {},
   "outputs": [
    {
     "data": {
      "application/vnd.plotly.v1+json": {
       "config": {
        "plotlyServerURL": "https://plot.ly"
       },
       "data": [
        {
         "coloraxis": "coloraxis",
         "geo": "geo",
         "hovertemplate": "State Abbreviation=%{location}<br>Cluster=%{z}<extra></extra>",
         "locationmode": "USA-states",
         "locations": [
          "AL",
          "AK",
          "AZ",
          "AR",
          "CA",
          "CO",
          "CT",
          "DE",
          null,
          "FL",
          "GA",
          "HI",
          "ID",
          "IL",
          "IN",
          "IA",
          "KS",
          "KY",
          "LA",
          "ME",
          "MD",
          "MA",
          "MI",
          "MN",
          "MS",
          "MO",
          "MT",
          "NE",
          "NV",
          "NH",
          "NJ",
          "NM",
          "NY",
          "NC",
          "ND",
          "OH",
          "OK",
          "OR",
          "PA",
          "RI",
          "SC",
          "SD",
          "TN",
          "TX",
          "UT",
          "VT",
          "VA",
          "WA",
          "WV",
          "WI",
          "WY",
          null
         ],
         "name": "",
         "type": "choropleth",
         "z": [
          2,
          0,
          1,
          2,
          2,
          2,
          0,
          0,
          0,
          2,
          2,
          0,
          2,
          0,
          2,
          0,
          2,
          2,
          2,
          0,
          0,
          0,
          0,
          0,
          1,
          0,
          2,
          0,
          2,
          0,
          0,
          2,
          0,
          0,
          0,
          0,
          2,
          2,
          0,
          0,
          0,
          2,
          0,
          2,
          0,
          0,
          0,
          0,
          3,
          0,
          2,
          0
         ]
        },
        {
         "coloraxis": "coloraxis",
         "geo": "geo2",
         "hovertemplate": "State Abbreviation=%{location}<br>Cluster=%{z}<extra></extra>",
         "locationmode": "USA-states",
         "locations": [
          "AL",
          "AK",
          "AZ",
          "AR",
          "CA",
          "CO",
          "CT",
          "DE",
          null,
          "FL",
          "GA",
          "HI",
          "ID",
          "IL",
          "IN",
          "IA",
          "KS",
          "KY",
          "LA",
          "ME",
          "MD",
          "MA",
          "MI",
          "MN",
          "MS",
          "MO",
          "MT",
          "NE",
          "NV",
          "NH",
          "NJ",
          "NM",
          "NY",
          "NC",
          "ND",
          "OH",
          "OK",
          "OR",
          "PA",
          "RI",
          "SC",
          "SD",
          "TN",
          "TX",
          "UT",
          "VT",
          "VA",
          "WA",
          "WV",
          "WI",
          "WY",
          null
         ],
         "name": "",
         "type": "choropleth",
         "z": [
          0,
          3,
          2,
          0,
          0,
          2,
          3,
          3,
          3,
          0,
          0,
          3,
          0,
          3,
          0,
          3,
          0,
          2,
          0,
          3,
          3,
          3,
          3,
          3,
          1,
          0,
          0,
          3,
          0,
          3,
          3,
          0,
          3,
          3,
          3,
          0,
          0,
          0,
          2,
          3,
          0,
          2,
          0,
          0,
          3,
          3,
          0,
          3,
          2,
          2,
          0,
          3
         ]
        },
        {
         "coloraxis": "coloraxis",
         "geo": "geo3",
         "hovertemplate": "State Abbreviation=%{location}<br>Cluster=%{z}<extra></extra>",
         "locationmode": "USA-states",
         "locations": [
          "AL",
          "AK",
          "AZ",
          "AR",
          "CA",
          "CO",
          "CT",
          "DE",
          null,
          "FL",
          "GA",
          "HI",
          "ID",
          "IL",
          "IN",
          "IA",
          "KS",
          "KY",
          "LA",
          "ME",
          "MD",
          "MA",
          "MI",
          "MN",
          "MS",
          "MO",
          "MT",
          "NE",
          "NV",
          "NH",
          "NJ",
          "NM",
          "NY",
          "NC",
          "ND",
          "OH",
          "OK",
          "OR",
          "PA",
          "RI",
          "SC",
          "SD",
          "TN",
          "TX",
          "UT",
          "VT",
          "VA",
          "WA",
          "WV",
          "WI",
          "WY",
          null
         ],
         "name": "",
         "type": "choropleth",
         "z": [
          0,
          3,
          0,
          0,
          1,
          3,
          3,
          1,
          1,
          0,
          0,
          0,
          0,
          1,
          1,
          3,
          1,
          0,
          0,
          1,
          1,
          1,
          1,
          3,
          0,
          1,
          3,
          3,
          0,
          3,
          1,
          0,
          1,
          1,
          3,
          1,
          0,
          1,
          1,
          1,
          1,
          3,
          0,
          0,
          3,
          1,
          1,
          1,
          2,
          3,
          3,
          1
         ]
        },
        {
         "alignmentgroup": "True",
         "hovertemplate": "Geography=%{x}<br>Incarceration rate=%{y}<br>Cluster=%{marker.color}<extra></extra>",
         "legendgroup": "",
         "marker": {
          "color": [
           2,
           0,
           1,
           2,
           2,
           2,
           0,
           0,
           0,
           2,
           2,
           0,
           2,
           0,
           2,
           0,
           2,
           2,
           2,
           0,
           0,
           0,
           0,
           0,
           1,
           0,
           2,
           0,
           2,
           0,
           0,
           2,
           0,
           0,
           0,
           0,
           2,
           2,
           0,
           0,
           0,
           2,
           0,
           2,
           0,
           0,
           0,
           0,
           3,
           0,
           2,
           0
          ],
          "coloraxis": "coloraxis",
          "pattern": {
           "shape": ""
          }
         },
         "name": "",
         "offsetgroup": "",
         "orientation": "v",
         "showlegend": false,
         "textposition": "auto",
         "type": "bar",
         "x": [
          "Alabama",
          "Alaska",
          "Arizona",
          "Arkansas",
          "California",
          "Colorado",
          "Connecticut",
          "Delaware",
          "District of Columbia",
          "Florida",
          "Georgia",
          "Hawaii",
          "Idaho",
          "Illinois",
          "Indiana",
          "Iowa",
          "Kansas",
          "Kentucky",
          "Louisiana",
          "Maine",
          "Maryland",
          "Massachusetts",
          "Michigan",
          "Minnesota",
          "Mississippi",
          "Missouri",
          "Montana",
          "Nebraska",
          "Nevada",
          "New Hampshire",
          "New Jersey",
          "New Mexico",
          "New York",
          "North Carolina",
          "North Dakota",
          "Ohio",
          "Oklahoma",
          "Oregon",
          "Pennsylvania",
          "Rhode Island",
          "South Carolina",
          "South Dakota",
          "Tennessee",
          "Texas",
          "Utah",
          "Vermont",
          "Virginia",
          "Washington",
          "West Virginia",
          "Wisconsin",
          "Wyoming",
          "Puerto Rico"
         ],
         "xaxis": "x",
         "y": [
          0.7799545658657986,
          -0.3944782573443258,
          1.5656960988320028,
          0.880261995606165,
          0.06526412896568728,
          0.5542628489499739,
          -0.46552935341041873,
          0.18646893990196348,
          -0.3317861137565968,
          0.8844414718453469,
          1.6367471948980956,
          -1.0673739318526176,
          0.1906484161411454,
          -0.5240420207589659,
          0.30767375083823967,
          -0.9879638833081609,
          -0.181324969146047,
          1.147748474913809,
          2.7610263032380367,
          -1.6525006053380888,
          -0.2356581602554122,
          -1.2512708863766229,
          -0.2022223503419567,
          -1.2052966477456217,
          1.9920026752285604,
          0.10705889135750665,
          -0.5658367831507852,
          -0.9712459783514331,
          0.2575200359680564,
          -1.2763477438117146,
          -0.6954005465654253,
          0.8008519470617083,
          -0.7789900713490641,
          -0.13953020675422764,
          -1.2638093150941687,
          -0.03922277701386115,
          1.6994393384858248,
          -0.3902987811051439,
          0.3954427518610603,
          -1.30978355372517,
          0.9095183292804386,
          0.42887856177451583,
          0.27423794092478415,
          1.615849813702186,
          -0.9001948822853402,
          -1.7486285588392734,
          0.5960576113417934,
          -0.8291437862192473,
          0.9262362342371664,
          -0.026684348296315337,
          -0.17296601666768313,
          -1.3557577923561714
         ],
         "yaxis": "y"
        },
        {
         "alignmentgroup": "True",
         "hovertemplate": "Geography=%{x}<br>Male incarceration rate=%{y}<br>Cluster=%{marker.color}<extra></extra>",
         "legendgroup": "",
         "marker": {
          "color": [
           0,
           3,
           2,
           0,
           0,
           2,
           3,
           3,
           3,
           0,
           0,
           3,
           0,
           3,
           0,
           3,
           0,
           2,
           0,
           3,
           3,
           3,
           3,
           3,
           1,
           0,
           0,
           3,
           0,
           3,
           3,
           0,
           3,
           3,
           3,
           0,
           0,
           0,
           2,
           3,
           0,
           2,
           0,
           0,
           3,
           3,
           0,
           3,
           2,
           2,
           0,
           3
          ],
          "coloraxis": "coloraxis",
          "pattern": {
           "shape": ""
          }
         },
         "name": "",
         "offsetgroup": "",
         "orientation": "v",
         "showlegend": false,
         "textposition": "auto",
         "type": "bar",
         "x": [
          "Alabama",
          "Alaska",
          "Arizona",
          "Arkansas",
          "California",
          "Colorado",
          "Connecticut",
          "Delaware",
          "District of Columbia",
          "Florida",
          "Georgia",
          "Hawaii",
          "Idaho",
          "Illinois",
          "Indiana",
          "Iowa",
          "Kansas",
          "Kentucky",
          "Louisiana",
          "Maine",
          "Maryland",
          "Massachusetts",
          "Michigan",
          "Minnesota",
          "Mississippi",
          "Missouri",
          "Montana",
          "Nebraska",
          "Nevada",
          "New Hampshire",
          "New Jersey",
          "New Mexico",
          "New York",
          "North Carolina",
          "North Dakota",
          "Ohio",
          "Oklahoma",
          "Oregon",
          "Pennsylvania",
          "Rhode Island",
          "South Carolina",
          "South Dakota",
          "Tennessee",
          "Texas",
          "Utah",
          "Vermont",
          "Virginia",
          "Washington",
          "West Virginia",
          "Wisconsin",
          "Wyoming",
          "Puerto Rico"
         ],
         "xaxis": "x2",
         "y": [
          0.7037743401080894,
          -0.6369453119167311,
          1.4974445020090699,
          0.8876188408874125,
          0.07601263012991255,
          0.5109618149005064,
          -0.5136349760281607,
          0.3428113568706377,
          -0.30961242028525315,
          0.9033128836368669,
          1.6969830455378476,
          -1.2534969913595833,
          0.031172507988614213,
          -0.4620688355656675,
          0.32935932022824815,
          -1.0091183256895073,
          -0.14818798057657914,
          1.0490432805960865,
          2.8830042761751886,
          -1.614459974597035,
          -0.09662184011408606,
          -1.150364710434597,
          -0.015909620259749045,
          -1.2378029486101287,
          2.1364162425225715,
          0.14551481944892497,
          -0.666091391308575,
          -0.9822142524047283,
          0.1612088621983794,
          -1.2557389974666482,
          -0.6077992325248871,
          0.7284364072858034,
          -0.6414293241308608,
          -0.04057168743746313,
          -1.314031156250336,
          -0.004699589724424459,
          1.6117868134693807,
          -0.39480865235372004,
          0.5109618149005064,
          -1.1884788142547007,
          1.0557692989172813,
          0.3046972530505341,
          0.2396790759456515,
          1.5579786668998228,
          -0.9934242829400529,
          -1.719834261629086,
          0.6230621202537523,
          -0.8432098737667034,
          0.6791122729303752,
          -0.0069415958314893765,
          -0.37014658517600596,
          -1.1884788142547007
         ],
         "yaxis": "y2"
        },
        {
         "alignmentgroup": "True",
         "hovertemplate": "Geography=%{x}<br>Female incarceration rate=%{y}<br>Cluster=%{marker.color}<extra></extra>",
         "legendgroup": "",
         "marker": {
          "color": [
           0,
           3,
           0,
           0,
           1,
           3,
           3,
           1,
           1,
           0,
           0,
           0,
           0,
           1,
           1,
           3,
           1,
           0,
           0,
           1,
           1,
           1,
           1,
           3,
           0,
           1,
           3,
           3,
           0,
           3,
           1,
           0,
           1,
           1,
           3,
           1,
           0,
           1,
           1,
           1,
           1,
           3,
           0,
           0,
           3,
           1,
           1,
           1,
           2,
           3,
           3,
           1
          ],
          "coloraxis": "coloraxis",
          "pattern": {
           "shape": ""
          }
         },
         "name": "",
         "offsetgroup": "",
         "orientation": "v",
         "showlegend": false,
         "textposition": "auto",
         "type": "bar",
         "x": [
          "Alabama",
          "Alaska",
          "Arizona",
          "Arkansas",
          "California",
          "Colorado",
          "Connecticut",
          "Delaware",
          "District of Columbia",
          "Florida",
          "Georgia",
          "Hawaii",
          "Idaho",
          "Illinois",
          "Indiana",
          "Iowa",
          "Kansas",
          "Kentucky",
          "Louisiana",
          "Maine",
          "Maryland",
          "Massachusetts",
          "Michigan",
          "Minnesota",
          "Mississippi",
          "Missouri",
          "Montana",
          "Nebraska",
          "Nevada",
          "New Hampshire",
          "New Jersey",
          "New Mexico",
          "New York",
          "North Carolina",
          "North Dakota",
          "Ohio",
          "Oklahoma",
          "Oregon",
          "Pennsylvania",
          "Rhode Island",
          "South Carolina",
          "South Dakota",
          "Tennessee",
          "Texas",
          "Utah",
          "Vermont",
          "Virginia",
          "Washington",
          "West Virginia",
          "Wisconsin",
          "Wyoming",
          "Puerto Rico"
         ],
         "xaxis": "x3",
         "y": [
          1.4529922487359943,
          0.8553568942702785,
          1.36244143745331,
          0.6199247849352996,
          -0.21314267886539523,
          0.29394186431763636,
          0.221501215291489,
          -0.7202272220484268,
          0.2758317020610995,
          0.6742552717049101,
          0.9640178678094995,
          0.5474841359091521,
          1.0364585168356468,
          -0.7745577088180373,
          0.07661991723919426,
          -0.6115662485092058,
          -0.5210154372265215,
          1.615983709044826,
          1.1994499771444784,
          -1.4084133877968268,
          -0.9194390068703321,
          -1.4446337123099005,
          -1.5532946858491217,
          -0.6840068975353532,
          0.7285857584745206,
          -0.14070202983924784,
          0.11284024175226794,
          -0.6658967352788163,
          0.4026028378568574,
          -1.1005406294357005,
          -1.0099898181530162,
          1.0545686790921838,
          -1.3540829010272164,
          -0.6840068975353532,
          -0.7564475465615005,
          -0.1588121920957847,
          1.7065345203275102,
          -0.35802397691768995,
          -0.37613413917422683,
          -1.6619556593883427,
          -0.1950325166088584,
          0.9459077055529627,
          0.6561451094483732,
          1.3443312751967733,
          -0.14070202983924784,
          -1.4627438745664374,
          0.2758317020610995,
          -0.6115662485092058,
          2.539601984128205,
          -0.35802397691768995,
          0.8734670565268153,
          -1.9517182554929322
         ],
         "yaxis": "y3"
        }
       ],
       "layout": {
        "annotations": [
         {
          "font": {
           "size": 16
          },
          "showarrow": false,
          "text": "Total Rate",
          "x": 0.14444444444444446,
          "xanchor": "center",
          "xref": "paper",
          "y": 1,
          "yanchor": "bottom",
          "yref": "paper"
         },
         {
          "font": {
           "size": 16
          },
          "showarrow": false,
          "text": "Male Rate",
          "x": 0.5,
          "xanchor": "center",
          "xref": "paper",
          "y": 1,
          "yanchor": "bottom",
          "yref": "paper"
         },
         {
          "font": {
           "size": 16
          },
          "showarrow": false,
          "text": "Female Rate",
          "x": 0.8555555555555556,
          "xanchor": "center",
          "xref": "paper",
          "y": 1,
          "yanchor": "bottom",
          "yref": "paper"
         }
        ],
        "geo": {
         "domain": {
          "x": [
           0,
           0.2888888888888889
          ],
          "y": [
           0.625,
           1
          ]
         },
         "scope": "usa"
        },
        "geo2": {
         "domain": {
          "x": [
           0.35555555555555557,
           0.6444444444444445
          ],
          "y": [
           0.625,
           1
          ]
         },
         "scope": "usa"
        },
        "geo3": {
         "domain": {
          "x": [
           0.7111111111111111,
           1
          ],
          "y": [
           0.625,
           1
          ]
         },
         "scope": "usa"
        },
        "height": 800,
        "template": {
         "data": {
          "bar": [
           {
            "error_x": {
             "color": "#2a3f5f"
            },
            "error_y": {
             "color": "#2a3f5f"
            },
            "marker": {
             "line": {
              "color": "#E5ECF6",
              "width": 0.5
             },
             "pattern": {
              "fillmode": "overlay",
              "size": 10,
              "solidity": 0.2
             }
            },
            "type": "bar"
           }
          ],
          "barpolar": [
           {
            "marker": {
             "line": {
              "color": "#E5ECF6",
              "width": 0.5
             },
             "pattern": {
              "fillmode": "overlay",
              "size": 10,
              "solidity": 0.2
             }
            },
            "type": "barpolar"
           }
          ],
          "carpet": [
           {
            "aaxis": {
             "endlinecolor": "#2a3f5f",
             "gridcolor": "white",
             "linecolor": "white",
             "minorgridcolor": "white",
             "startlinecolor": "#2a3f5f"
            },
            "baxis": {
             "endlinecolor": "#2a3f5f",
             "gridcolor": "white",
             "linecolor": "white",
             "minorgridcolor": "white",
             "startlinecolor": "#2a3f5f"
            },
            "type": "carpet"
           }
          ],
          "choropleth": [
           {
            "colorbar": {
             "outlinewidth": 0,
             "ticks": ""
            },
            "type": "choropleth"
           }
          ],
          "contour": [
           {
            "colorbar": {
             "outlinewidth": 0,
             "ticks": ""
            },
            "colorscale": [
             [
              0,
              "#0d0887"
             ],
             [
              0.1111111111111111,
              "#46039f"
             ],
             [
              0.2222222222222222,
              "#7201a8"
             ],
             [
              0.3333333333333333,
              "#9c179e"
             ],
             [
              0.4444444444444444,
              "#bd3786"
             ],
             [
              0.5555555555555556,
              "#d8576b"
             ],
             [
              0.6666666666666666,
              "#ed7953"
             ],
             [
              0.7777777777777778,
              "#fb9f3a"
             ],
             [
              0.8888888888888888,
              "#fdca26"
             ],
             [
              1,
              "#f0f921"
             ]
            ],
            "type": "contour"
           }
          ],
          "contourcarpet": [
           {
            "colorbar": {
             "outlinewidth": 0,
             "ticks": ""
            },
            "type": "contourcarpet"
           }
          ],
          "heatmap": [
           {
            "colorbar": {
             "outlinewidth": 0,
             "ticks": ""
            },
            "colorscale": [
             [
              0,
              "#0d0887"
             ],
             [
              0.1111111111111111,
              "#46039f"
             ],
             [
              0.2222222222222222,
              "#7201a8"
             ],
             [
              0.3333333333333333,
              "#9c179e"
             ],
             [
              0.4444444444444444,
              "#bd3786"
             ],
             [
              0.5555555555555556,
              "#d8576b"
             ],
             [
              0.6666666666666666,
              "#ed7953"
             ],
             [
              0.7777777777777778,
              "#fb9f3a"
             ],
             [
              0.8888888888888888,
              "#fdca26"
             ],
             [
              1,
              "#f0f921"
             ]
            ],
            "type": "heatmap"
           }
          ],
          "heatmapgl": [
           {
            "colorbar": {
             "outlinewidth": 0,
             "ticks": ""
            },
            "colorscale": [
             [
              0,
              "#0d0887"
             ],
             [
              0.1111111111111111,
              "#46039f"
             ],
             [
              0.2222222222222222,
              "#7201a8"
             ],
             [
              0.3333333333333333,
              "#9c179e"
             ],
             [
              0.4444444444444444,
              "#bd3786"
             ],
             [
              0.5555555555555556,
              "#d8576b"
             ],
             [
              0.6666666666666666,
              "#ed7953"
             ],
             [
              0.7777777777777778,
              "#fb9f3a"
             ],
             [
              0.8888888888888888,
              "#fdca26"
             ],
             [
              1,
              "#f0f921"
             ]
            ],
            "type": "heatmapgl"
           }
          ],
          "histogram": [
           {
            "marker": {
             "pattern": {
              "fillmode": "overlay",
              "size": 10,
              "solidity": 0.2
             }
            },
            "type": "histogram"
           }
          ],
          "histogram2d": [
           {
            "colorbar": {
             "outlinewidth": 0,
             "ticks": ""
            },
            "colorscale": [
             [
              0,
              "#0d0887"
             ],
             [
              0.1111111111111111,
              "#46039f"
             ],
             [
              0.2222222222222222,
              "#7201a8"
             ],
             [
              0.3333333333333333,
              "#9c179e"
             ],
             [
              0.4444444444444444,
              "#bd3786"
             ],
             [
              0.5555555555555556,
              "#d8576b"
             ],
             [
              0.6666666666666666,
              "#ed7953"
             ],
             [
              0.7777777777777778,
              "#fb9f3a"
             ],
             [
              0.8888888888888888,
              "#fdca26"
             ],
             [
              1,
              "#f0f921"
             ]
            ],
            "type": "histogram2d"
           }
          ],
          "histogram2dcontour": [
           {
            "colorbar": {
             "outlinewidth": 0,
             "ticks": ""
            },
            "colorscale": [
             [
              0,
              "#0d0887"
             ],
             [
              0.1111111111111111,
              "#46039f"
             ],
             [
              0.2222222222222222,
              "#7201a8"
             ],
             [
              0.3333333333333333,
              "#9c179e"
             ],
             [
              0.4444444444444444,
              "#bd3786"
             ],
             [
              0.5555555555555556,
              "#d8576b"
             ],
             [
              0.6666666666666666,
              "#ed7953"
             ],
             [
              0.7777777777777778,
              "#fb9f3a"
             ],
             [
              0.8888888888888888,
              "#fdca26"
             ],
             [
              1,
              "#f0f921"
             ]
            ],
            "type": "histogram2dcontour"
           }
          ],
          "mesh3d": [
           {
            "colorbar": {
             "outlinewidth": 0,
             "ticks": ""
            },
            "type": "mesh3d"
           }
          ],
          "parcoords": [
           {
            "line": {
             "colorbar": {
              "outlinewidth": 0,
              "ticks": ""
             }
            },
            "type": "parcoords"
           }
          ],
          "pie": [
           {
            "automargin": true,
            "type": "pie"
           }
          ],
          "scatter": [
           {
            "fillpattern": {
             "fillmode": "overlay",
             "size": 10,
             "solidity": 0.2
            },
            "type": "scatter"
           }
          ],
          "scatter3d": [
           {
            "line": {
             "colorbar": {
              "outlinewidth": 0,
              "ticks": ""
             }
            },
            "marker": {
             "colorbar": {
              "outlinewidth": 0,
              "ticks": ""
             }
            },
            "type": "scatter3d"
           }
          ],
          "scattercarpet": [
           {
            "marker": {
             "colorbar": {
              "outlinewidth": 0,
              "ticks": ""
             }
            },
            "type": "scattercarpet"
           }
          ],
          "scattergeo": [
           {
            "marker": {
             "colorbar": {
              "outlinewidth": 0,
              "ticks": ""
             }
            },
            "type": "scattergeo"
           }
          ],
          "scattergl": [
           {
            "marker": {
             "colorbar": {
              "outlinewidth": 0,
              "ticks": ""
             }
            },
            "type": "scattergl"
           }
          ],
          "scattermapbox": [
           {
            "marker": {
             "colorbar": {
              "outlinewidth": 0,
              "ticks": ""
             }
            },
            "type": "scattermapbox"
           }
          ],
          "scatterpolar": [
           {
            "marker": {
             "colorbar": {
              "outlinewidth": 0,
              "ticks": ""
             }
            },
            "type": "scatterpolar"
           }
          ],
          "scatterpolargl": [
           {
            "marker": {
             "colorbar": {
              "outlinewidth": 0,
              "ticks": ""
             }
            },
            "type": "scatterpolargl"
           }
          ],
          "scatterternary": [
           {
            "marker": {
             "colorbar": {
              "outlinewidth": 0,
              "ticks": ""
             }
            },
            "type": "scatterternary"
           }
          ],
          "surface": [
           {
            "colorbar": {
             "outlinewidth": 0,
             "ticks": ""
            },
            "colorscale": [
             [
              0,
              "#0d0887"
             ],
             [
              0.1111111111111111,
              "#46039f"
             ],
             [
              0.2222222222222222,
              "#7201a8"
             ],
             [
              0.3333333333333333,
              "#9c179e"
             ],
             [
              0.4444444444444444,
              "#bd3786"
             ],
             [
              0.5555555555555556,
              "#d8576b"
             ],
             [
              0.6666666666666666,
              "#ed7953"
             ],
             [
              0.7777777777777778,
              "#fb9f3a"
             ],
             [
              0.8888888888888888,
              "#fdca26"
             ],
             [
              1,
              "#f0f921"
             ]
            ],
            "type": "surface"
           }
          ],
          "table": [
           {
            "cells": {
             "fill": {
              "color": "#EBF0F8"
             },
             "line": {
              "color": "white"
             }
            },
            "header": {
             "fill": {
              "color": "#C8D4E3"
             },
             "line": {
              "color": "white"
             }
            },
            "type": "table"
           }
          ]
         },
         "layout": {
          "annotationdefaults": {
           "arrowcolor": "#2a3f5f",
           "arrowhead": 0,
           "arrowwidth": 1
          },
          "autotypenumbers": "strict",
          "coloraxis": {
           "colorbar": {
            "outlinewidth": 0,
            "ticks": ""
           }
          },
          "colorscale": {
           "diverging": [
            [
             0,
             "#8e0152"
            ],
            [
             0.1,
             "#c51b7d"
            ],
            [
             0.2,
             "#de77ae"
            ],
            [
             0.3,
             "#f1b6da"
            ],
            [
             0.4,
             "#fde0ef"
            ],
            [
             0.5,
             "#f7f7f7"
            ],
            [
             0.6,
             "#e6f5d0"
            ],
            [
             0.7,
             "#b8e186"
            ],
            [
             0.8,
             "#7fbc41"
            ],
            [
             0.9,
             "#4d9221"
            ],
            [
             1,
             "#276419"
            ]
           ],
           "sequential": [
            [
             0,
             "#0d0887"
            ],
            [
             0.1111111111111111,
             "#46039f"
            ],
            [
             0.2222222222222222,
             "#7201a8"
            ],
            [
             0.3333333333333333,
             "#9c179e"
            ],
            [
             0.4444444444444444,
             "#bd3786"
            ],
            [
             0.5555555555555556,
             "#d8576b"
            ],
            [
             0.6666666666666666,
             "#ed7953"
            ],
            [
             0.7777777777777778,
             "#fb9f3a"
            ],
            [
             0.8888888888888888,
             "#fdca26"
            ],
            [
             1,
             "#f0f921"
            ]
           ],
           "sequentialminus": [
            [
             0,
             "#0d0887"
            ],
            [
             0.1111111111111111,
             "#46039f"
            ],
            [
             0.2222222222222222,
             "#7201a8"
            ],
            [
             0.3333333333333333,
             "#9c179e"
            ],
            [
             0.4444444444444444,
             "#bd3786"
            ],
            [
             0.5555555555555556,
             "#d8576b"
            ],
            [
             0.6666666666666666,
             "#ed7953"
            ],
            [
             0.7777777777777778,
             "#fb9f3a"
            ],
            [
             0.8888888888888888,
             "#fdca26"
            ],
            [
             1,
             "#f0f921"
            ]
           ]
          },
          "colorway": [
           "#636efa",
           "#EF553B",
           "#00cc96",
           "#ab63fa",
           "#FFA15A",
           "#19d3f3",
           "#FF6692",
           "#B6E880",
           "#FF97FF",
           "#FECB52"
          ],
          "font": {
           "color": "#2a3f5f"
          },
          "geo": {
           "bgcolor": "white",
           "lakecolor": "white",
           "landcolor": "#E5ECF6",
           "showlakes": true,
           "showland": true,
           "subunitcolor": "white"
          },
          "hoverlabel": {
           "align": "left"
          },
          "hovermode": "closest",
          "mapbox": {
           "style": "light"
          },
          "paper_bgcolor": "white",
          "plot_bgcolor": "#E5ECF6",
          "polar": {
           "angularaxis": {
            "gridcolor": "white",
            "linecolor": "white",
            "ticks": ""
           },
           "bgcolor": "#E5ECF6",
           "radialaxis": {
            "gridcolor": "white",
            "linecolor": "white",
            "ticks": ""
           }
          },
          "scene": {
           "xaxis": {
            "backgroundcolor": "#E5ECF6",
            "gridcolor": "white",
            "gridwidth": 2,
            "linecolor": "white",
            "showbackground": true,
            "ticks": "",
            "zerolinecolor": "white"
           },
           "yaxis": {
            "backgroundcolor": "#E5ECF6",
            "gridcolor": "white",
            "gridwidth": 2,
            "linecolor": "white",
            "showbackground": true,
            "ticks": "",
            "zerolinecolor": "white"
           },
           "zaxis": {
            "backgroundcolor": "#E5ECF6",
            "gridcolor": "white",
            "gridwidth": 2,
            "linecolor": "white",
            "showbackground": true,
            "ticks": "",
            "zerolinecolor": "white"
           }
          },
          "shapedefaults": {
           "line": {
            "color": "#2a3f5f"
           }
          },
          "ternary": {
           "aaxis": {
            "gridcolor": "white",
            "linecolor": "white",
            "ticks": ""
           },
           "baxis": {
            "gridcolor": "white",
            "linecolor": "white",
            "ticks": ""
           },
           "bgcolor": "#E5ECF6",
           "caxis": {
            "gridcolor": "white",
            "linecolor": "white",
            "ticks": ""
           }
          },
          "title": {
           "x": 0.05
          },
          "xaxis": {
           "automargin": true,
           "gridcolor": "white",
           "linecolor": "white",
           "ticks": "",
           "title": {
            "standoff": 15
           },
           "zerolinecolor": "white",
           "zerolinewidth": 2
          },
          "yaxis": {
           "automargin": true,
           "gridcolor": "white",
           "linecolor": "white",
           "ticks": "",
           "title": {
            "standoff": 15
           },
           "zerolinecolor": "white",
           "zerolinewidth": 2
          }
         }
        },
        "title": {
         "text": "Clusters by State"
        },
        "width": 1400,
        "xaxis": {
         "anchor": "y",
         "domain": [
          0,
          0.2888888888888889
         ]
        },
        "xaxis2": {
         "anchor": "y2",
         "domain": [
          0.35555555555555557,
          0.6444444444444445
         ]
        },
        "xaxis3": {
         "anchor": "y3",
         "domain": [
          0.7111111111111111,
          1
         ]
        },
        "yaxis": {
         "anchor": "x",
         "domain": [
          0,
          0.375
         ],
         "title": {
          "text": "Incarceration Rate"
         }
        },
        "yaxis2": {
         "anchor": "x2",
         "domain": [
          0,
          0.375
         ],
         "title": {
          "text": "Male Incarceration Rate"
         }
        },
        "yaxis3": {
         "anchor": "x3",
         "domain": [
          0,
          0.375
         ],
         "title": {
          "text": "Female Incarceration Rate"
         }
        }
       }
      }
     },
     "metadata": {},
     "output_type": "display_data"
    }
   ],
   "source": [
    "# Get graphs with State abbreviations assigned for each\n",
    "\n",
    "rate_t_kmean, k_rt = runKmeans(rate_df_total, getX(rate_df_total), n)\n",
    "rate_m_kmean,k_rm  = runKmeans(rate_df_male, getX(rate_df_male), n)\n",
    "rate_f_kmean,k_rf = runKmeans(rate_df_female, getX(rate_df_female), n)\n",
    "\n",
    "\n",
    "\n",
    "\n",
    "\n",
    "total_rate_fig = stateClusterGraph(rate_t_kmean) \n",
    "male_rate_fig= stateClusterGraph(rate_m_kmean)\n",
    "female_rate_fig = stateClusterGraph(rate_f_kmean)\n",
    "\n",
    "\n",
    "\n",
    "\n",
    "# Create a 2x3 grid of subplots with titles and a geo subplot type for the top row\n",
    "fig = make_subplots(\n",
    "    rows=2,\n",
    "    cols=3,\n",
    "    subplot_titles=('Total Rate', 'Male Rate', 'Female Rate'),\n",
    "    specs=[[{'type': 'choropleth'}, {'type': 'choropleth'}, {'type': 'choropleth'}],\n",
    "           [{'type': 'xy'}, {'type': 'xy'}, {'type': 'xy'}]]\n",
    ")\n",
    "\n",
    "# Add your state cluster figures as subplots to the top row\n",
    "fig.add_trace(total_rate_fig.data[0], row=1, col=1)\n",
    "fig.add_trace(male_rate_fig.data[0], row=1, col=2)\n",
    "fig.add_trace(female_rate_fig.data[0], row=1, col=3)\n",
    "\n",
    "# Create your bar plots\n",
    "# total_bar = createBarChart(runKmeans(rate_df_total, getX(rate_df_total), n), x_axis=\"Geography\", y_axis='Incarceration rate')\n",
    "total_bar =  px.bar(rate_t_kmean, x=\"Geography\", y='Incarceration rate', color='Cluster')\n",
    "\n",
    "\n",
    "# male_bar = createBarChart(runKmeans(rate_df_male, getX(rate_df_male), n), x_axis=\"Geography\", y_axis='Male incarceration rate')\n",
    "male_bar =  px.bar(rate_m_kmean, x=\"Geography\", y='Male incarceration rate', color='Cluster')\n",
    "\n",
    "# female_bar = createBarChart(runKmeans(rate_df_female, getX(rate_df_female), n), x_axis=\"Geography\", y_axis='Female incarceration rate')\n",
    "female_bar = px.bar(rate_f_kmean, x=\"Geography\", y='Female incarceration rate', color='Cluster')\n",
    "\n",
    "fig.update_yaxes(title='Incarceration Rate', row=2, col=1)\n",
    "fig.update_yaxes(title='Male Incarceration Rate', row=2, col=2)\n",
    "fig.update_yaxes(title='Female Incarceration Rate', row=2, col=3)\n",
    "\n",
    "# Add your bar plots as subplots to the bottom row\n",
    "fig.add_trace(total_bar.data[0], row=2, col=1)\n",
    "fig.add_trace(male_bar.data[0], row=2, col=2)\n",
    "fig.add_trace(female_bar.data[0], row=2, col=3)\n",
    "\n",
    "fig.update_geos(scope='usa')\n",
    "fig.update_layout(height=800, width=1400)\n",
    "# Update the layout to show the subplots\n",
    "fig.update_layout(title='Clusters by State')\n",
    "\n",
    "fig.show()"
   ]
  },
  {
   "cell_type": "code",
   "execution_count": 158,
   "metadata": {},
   "outputs": [
    {
     "data": {
      "application/vnd.plotly.v1+json": {
       "config": {
        "plotlyServerURL": "https://plot.ly"
       },
       "data": [
        {
         "coloraxis": "coloraxis",
         "geo": "geo",
         "hovertemplate": "State Abbreviation=%{location}<br>Cluster=%{z}<extra></extra>",
         "locationmode": "USA-states",
         "locations": [
          "AL",
          "AK",
          "AZ",
          "AR",
          "CA",
          "CO",
          "CT",
          "DE",
          null,
          "FL",
          "GA",
          "HI",
          "ID",
          "IL",
          "IN",
          "IA",
          "KS",
          "KY",
          "LA",
          "ME",
          "MD",
          "MA",
          "MI",
          "MN",
          "MS",
          "MO",
          "MT",
          "NE",
          "NV",
          "NH",
          "NJ",
          "NM",
          "NY",
          "NC",
          "ND",
          "OH",
          "OK",
          "OR",
          "PA",
          "RI",
          "SC",
          "SD",
          "TN",
          "TX",
          "UT",
          "VT",
          "VA",
          "WA",
          "WV",
          "WI",
          "WY",
          null
         ],
         "name": "",
         "type": "choropleth",
         "z": [
          0,
          3,
          2,
          3,
          1,
          0,
          3,
          3,
          3,
          0,
          0,
          2,
          3,
          0,
          0,
          3,
          3,
          0,
          0,
          3,
          3,
          3,
          0,
          3,
          3,
          0,
          3,
          3,
          3,
          3,
          0,
          3,
          0,
          0,
          3,
          0,
          2,
          3,
          0,
          3,
          3,
          3,
          0,
          1,
          3,
          3,
          0,
          3,
          3,
          0,
          3,
          3
         ]
        },
        {
         "coloraxis": "coloraxis",
         "geo": "geo2",
         "hovertemplate": "State Abbreviation=%{location}<br>Cluster=%{z}<extra></extra>",
         "locationmode": "USA-states",
         "locations": [
          "AL",
          "AK",
          "AZ",
          "AR",
          "CA",
          "CO",
          "CT",
          "DE",
          null,
          "FL",
          "GA",
          "HI",
          "ID",
          "IL",
          "IN",
          "IA",
          "KS",
          "KY",
          "LA",
          "ME",
          "MD",
          "MA",
          "MI",
          "MN",
          "MS",
          "MO",
          "MT",
          "NE",
          "NV",
          "NH",
          "NJ",
          "NM",
          "NY",
          "NC",
          "ND",
          "OH",
          "OK",
          "OR",
          "PA",
          "RI",
          "SC",
          "SD",
          "TN",
          "TX",
          "UT",
          "VT",
          "VA",
          "WA",
          "WV",
          "WI",
          "WY",
          null
         ],
         "name": "",
         "type": "choropleth",
         "z": [
          0,
          0,
          2,
          0,
          1,
          0,
          0,
          0,
          0,
          3,
          3,
          0,
          0,
          3,
          0,
          0,
          0,
          0,
          3,
          0,
          0,
          0,
          3,
          0,
          0,
          0,
          0,
          0,
          0,
          0,
          0,
          0,
          3,
          3,
          0,
          3,
          0,
          0,
          3,
          0,
          0,
          0,
          0,
          1,
          0,
          0,
          3,
          0,
          0,
          0,
          0,
          0
         ]
        },
        {
         "coloraxis": "coloraxis",
         "geo": "geo3",
         "hovertemplate": "State Abbreviation=%{location}<br>Cluster=%{z}<extra></extra>",
         "locationmode": "USA-states",
         "locations": [
          "AL",
          "AK",
          "AZ",
          "AR",
          "CA",
          "CO",
          "CT",
          "DE",
          null,
          "FL",
          "GA",
          "HI",
          "ID",
          "IL",
          "IN",
          "IA",
          "KS",
          "KY",
          "LA",
          "ME",
          "MD",
          "MA",
          "MI",
          "MN",
          "MS",
          "MO",
          "MT",
          "NE",
          "NV",
          "NH",
          "NJ",
          "NM",
          "NY",
          "NC",
          "ND",
          "OH",
          "OK",
          "OR",
          "PA",
          "RI",
          "SC",
          "SD",
          "TN",
          "TX",
          "UT",
          "VT",
          "VA",
          "WA",
          "WV",
          "WI",
          "WY",
          null
         ],
         "name": "",
         "type": "choropleth",
         "z": [
          0,
          0,
          0,
          0,
          2,
          0,
          0,
          0,
          0,
          1,
          0,
          3,
          0,
          0,
          0,
          0,
          0,
          0,
          0,
          0,
          0,
          0,
          0,
          0,
          0,
          0,
          0,
          0,
          0,
          0,
          0,
          0,
          0,
          0,
          0,
          0,
          0,
          0,
          0,
          0,
          0,
          0,
          0,
          1,
          0,
          0,
          0,
          0,
          0,
          0,
          0,
          0
         ]
        },
        {
         "alignmentgroup": "True",
         "hovertemplate": "Geography=%{x}<br>Total : In Correctional Facilities for Adults=%{y}<br>Cluster=%{marker.color}<extra></extra>",
         "legendgroup": "",
         "marker": {
          "color": [
           0,
           3,
           2,
           3,
           1,
           0,
           3,
           3,
           3,
           0,
           0,
           2,
           3,
           0,
           0,
           3,
           3,
           0,
           0,
           3,
           3,
           3,
           0,
           3,
           3,
           0,
           3,
           3,
           3,
           3,
           0,
           3,
           0,
           0,
           3,
           0,
           2,
           3,
           0,
           3,
           3,
           3,
           0,
           1,
           3,
           3,
           0,
           3,
           3,
           0,
           3,
           3
          ],
          "coloraxis": "coloraxis",
          "pattern": {
           "shape": ""
          }
         },
         "name": "",
         "offsetgroup": "",
         "orientation": "v",
         "showlegend": false,
         "textposition": "auto",
         "type": "bar",
         "x": [
          "Alabama",
          "Alaska",
          "Arizona",
          "Arkansas",
          "California",
          "Colorado",
          "Connecticut",
          "Delaware",
          "District of Columbia",
          "Florida",
          "Georgia",
          "Hawaii",
          "Idaho",
          "Illinois",
          "Indiana",
          "Iowa",
          "Kansas",
          "Kentucky",
          "Louisiana",
          "Maine",
          "Maryland",
          "Massachusetts",
          "Michigan",
          "Minnesota",
          "Mississippi",
          "Missouri",
          "Montana",
          "Nebraska",
          "Nevada",
          "New Hampshire",
          "New Jersey",
          "New Mexico",
          "New York",
          "North Carolina",
          "North Dakota",
          "Ohio",
          "Oklahoma",
          "Oregon",
          "Pennsylvania",
          "Rhode Island",
          "South Carolina",
          "South Dakota",
          "Tennessee",
          "Texas",
          "Utah",
          "Vermont",
          "Virginia",
          "Washington",
          "West Virginia",
          "Wisconsin",
          "Wyoming",
          "Puerto Rico"
         ],
         "xaxis": "x",
         "y": [
          -0.04660723933019975,
          -0.730722463764818,
          0.4329254147388919,
          -0.3297998982997367,
          3.9425583950665737,
          -0.05725775793229823,
          -0.43532338434522383,
          -0.6875091422018689,
          -0.7406505993660785,
          2.272557078257531,
          1.1032227489523527,
          -0.7016974852439687,
          -0.5983781934830898,
          0.49384638114289525,
          0.0896082629303781,
          -0.5609809812089388,
          -0.4742579758262864,
          -0.04521804125166516,
          0.31236154416313705,
          -0.7386316314919416,
          -0.14844471980730842,
          -0.3541756939177569,
          0.33494064359958586,
          -0.42974806939003835,
          -0.17528402668459658,
          -0.032585600057524,
          -0.7083841586619819,
          -0.6577617806801815,
          -0.43975029555548734,
          -0.7173305942877446,
          0.016573489281553184,
          -0.477240121034874,
          0.939038058710612,
          0.32182661373821936,
          -0.7606920969790708,
          0.6089460726097474,
          -0.05694287303449706,
          -0.39620356645368987,
          0.9986624402413163,
          -0.7367793673872288,
          -0.0446438393792042,
          -0.689861517614854,
          0.06032396743486906,
          4.123969141482144,
          -0.5727243356328179,
          -0.7773254286393916,
          0.40071454195793665,
          -0.2158671332188536,
          -0.5000600148049354,
          -0.10569446427053744,
          -0.7409099163407383,
          -0.5666303867283128
         ],
         "yaxis": "y"
        },
        {
         "alignmentgroup": "True",
         "hovertemplate": "Geography=%{x}<br>Total Men : In Correctional Facilities for Adults=%{y}<br>Cluster=%{marker.color}<extra></extra>",
         "legendgroup": "",
         "marker": {
          "color": [
           0,
           0,
           2,
           0,
           1,
           0,
           0,
           0,
           0,
           3,
           3,
           0,
           0,
           3,
           0,
           0,
           0,
           0,
           3,
           0,
           0,
           0,
           3,
           0,
           0,
           0,
           0,
           0,
           0,
           0,
           0,
           0,
           3,
           3,
           0,
           3,
           0,
           0,
           3,
           0,
           0,
           0,
           0,
           1,
           0,
           0,
           3,
           0,
           0,
           0,
           0,
           0
          ],
          "coloraxis": "coloraxis",
          "pattern": {
           "shape": ""
          }
         },
         "name": "",
         "offsetgroup": "",
         "orientation": "v",
         "showlegend": false,
         "textposition": "auto",
         "type": "bar",
         "x": [
          "Alabama",
          "Alaska",
          "Arizona",
          "Arkansas",
          "California",
          "Colorado",
          "Connecticut",
          "Delaware",
          "District of Columbia",
          "Florida",
          "Georgia",
          "Hawaii",
          "Idaho",
          "Illinois",
          "Indiana",
          "Iowa",
          "Kansas",
          "Kentucky",
          "Louisiana",
          "Maine",
          "Maryland",
          "Massachusetts",
          "Michigan",
          "Minnesota",
          "Mississippi",
          "Missouri",
          "Montana",
          "Nebraska",
          "Nevada",
          "New Hampshire",
          "New Jersey",
          "New Mexico",
          "New York",
          "North Carolina",
          "North Dakota",
          "Ohio",
          "Oklahoma",
          "Oregon",
          "Pennsylvania",
          "Rhode Island",
          "South Carolina",
          "South Dakota",
          "Tennessee",
          "Texas",
          "Utah",
          "Vermont",
          "Virginia",
          "Washington",
          "West Virginia",
          "Wisconsin",
          "Wyoming",
          "Puerto Rico"
         ],
         "xaxis": "x2",
         "y": [
          -0.0770075860124048,
          -0.7351705743834983,
          0.42041894800903457,
          -0.33238345127644836,
          3.957312633291083,
          -0.05804715373119007,
          -0.4517812807383038,
          -0.6839245133144212,
          -0.7431453484760264,
          2.24753734290223,
          1.1061884885320683,
          -0.713239945629046,
          -0.6074317822228252,
          0.5054560799140535,
          0.08794003730957918,
          -0.5666017526215398,
          -0.47100618256850546,
          -0.06846318519898185,
          0.33009242512427767,
          -0.7387714290120122,
          -0.1317120950297722,
          -0.344020111431872,
          0.40133645285905667,
          -0.4429317227529729,
          -0.16599141734076667,
          -0.03278013989721078,
          -0.7119989731299536,
          -0.6602036291514422,
          -0.44488472865318385,
          -0.7176545527159812,
          0.029248141245947733,
          -0.48439241050953474,
          0.9969015333660968,
          0.34024398704308256,
          -0.7617395921509515,
          0.6023333100891013,
          -0.06950071958346893,
          -0.3992535595472132,
          1.0309570737510254,
          -0.7338278828271032,
          -0.02706352887680161,
          -0.6930588846601995,
          0.0354326599299491,
          4.0807792250450445,
          -0.5837515856827673,
          -0.7772619202953366,
          0.3988545078608719,
          -0.22384921713451636,
          -0.5212553968760166,
          -0.10109465878167331,
          -0.7440404761802898,
          -0.5517914578782733
         ],
         "yaxis": "y2"
        },
        {
         "alignmentgroup": "True",
         "hovertemplate": "Geography=%{x}<br>Total Women : In Correctional Facilities for Adults=%{y}<br>Cluster=%{marker.color}<extra></extra>",
         "legendgroup": "",
         "marker": {
          "color": [
           0,
           0,
           0,
           0,
           2,
           0,
           0,
           0,
           0,
           1,
           0,
           3,
           0,
           0,
           0,
           0,
           0,
           0,
           0,
           0,
           0,
           0,
           0,
           0,
           0,
           0,
           0,
           0,
           0,
           0,
           0,
           0,
           0,
           0,
           0,
           0,
           0,
           0,
           0,
           0,
           0,
           0,
           0,
           1,
           0,
           0,
           0,
           0,
           0,
           0,
           0,
           0
          ],
          "coloraxis": "coloraxis",
          "pattern": {
           "shape": ""
          }
         },
         "name": "",
         "offsetgroup": "",
         "orientation": "v",
         "showlegend": false,
         "textposition": "auto",
         "type": "bar",
         "x": [
          "Alabama",
          "Alaska",
          "Arizona",
          "Arkansas",
          "California",
          "Colorado",
          "Connecticut",
          "Delaware",
          "District of Columbia",
          "Florida",
          "Georgia",
          "Hawaii",
          "Idaho",
          "Illinois",
          "Indiana",
          "Iowa",
          "Kansas",
          "Kentucky",
          "Louisiana",
          "Maine",
          "Maryland",
          "Massachusetts",
          "Michigan",
          "Minnesota",
          "Mississippi",
          "Missouri",
          "Montana",
          "Nebraska",
          "Nevada",
          "New Hampshire",
          "New Jersey",
          "New Mexico",
          "New York",
          "North Carolina",
          "North Dakota",
          "Ohio",
          "Oklahoma",
          "Oregon",
          "Pennsylvania",
          "Rhode Island",
          "South Carolina",
          "South Dakota",
          "Tennessee",
          "Texas",
          "Utah",
          "Vermont",
          "Virginia",
          "Washington",
          "West Virginia",
          "Wisconsin",
          "Wyoming",
          "Puerto Rico"
         ],
         "xaxis": "x3",
         "y": [
          0.2577187861050076,
          -0.6727744381119208,
          0.5497417578256412,
          -0.2978965481284093,
          3.7221915938616204,
          -0.04831641443949505,
          -0.26296751395876466,
          -0.7105465332023505,
          -0.7020173504399955,
          2.480180123038675,
          1.0531666165846472,
          -0.5734703816645009,
          -0.4969108125833613,
          0.3688012377956798,
          0.10459964794272825,
          -0.4944739032226884,
          -0.49792619148364164,
          0.1876576419856623,
          0.12957796888962528,
          -0.7235433831259392,
          -0.31272108007250266,
          -0.44898492849012794,
          -0.33404403697839036,
          -0.2901796684862785,
          -0.2647951959792693,
          -0.030039594234448443,
          -0.659168360848164,
          -0.6211931899776783,
          -0.3803453148311751,
          -0.700798895759659,
          -0.11025452735659745,
          -0.39699752879577316,
          0.3440259926288388,
          0.13201487825029815,
          -0.7361340814894158,
          0.6636672704370984,
          0.06946753799302754,
          -0.3584131305851192,
          0.6577780728154723,
          -0.7525832196739577,
          -0.2193062212467089,
          -0.6451561320242949,
          0.30767542799880165,
          4.478648874570494,
          -0.45203106519096903,
          -0.7635493117969857,
          0.41185330316756735,
          -0.13218671160265338,
          -0.27921357636325056,
          -0.14965122868747568,
          -0.6959250770383132,
          -0.7042511840206123
         ],
         "yaxis": "y3"
        }
       ],
       "layout": {
        "annotations": [
         {
          "font": {
           "size": 16
          },
          "showarrow": false,
          "text": "Total Correctional Pop",
          "x": 0.14444444444444446,
          "xanchor": "center",
          "xref": "paper",
          "y": 1,
          "yanchor": "bottom",
          "yref": "paper"
         },
         {
          "font": {
           "size": 16
          },
          "showarrow": false,
          "text": "Male Correctional Pop",
          "x": 0.5,
          "xanchor": "center",
          "xref": "paper",
          "y": 1,
          "yanchor": "bottom",
          "yref": "paper"
         },
         {
          "font": {
           "size": 16
          },
          "showarrow": false,
          "text": "Female Correctional Pop",
          "x": 0.8555555555555556,
          "xanchor": "center",
          "xref": "paper",
          "y": 1,
          "yanchor": "bottom",
          "yref": "paper"
         }
        ],
        "geo": {
         "domain": {
          "x": [
           0,
           0.2888888888888889
          ],
          "y": [
           0.625,
           1
          ]
         },
         "scope": "usa"
        },
        "geo2": {
         "domain": {
          "x": [
           0.35555555555555557,
           0.6444444444444445
          ],
          "y": [
           0.625,
           1
          ]
         },
         "scope": "usa"
        },
        "geo3": {
         "domain": {
          "x": [
           0.7111111111111111,
           1
          ],
          "y": [
           0.625,
           1
          ]
         },
         "scope": "usa"
        },
        "height": 800,
        "template": {
         "data": {
          "bar": [
           {
            "error_x": {
             "color": "#2a3f5f"
            },
            "error_y": {
             "color": "#2a3f5f"
            },
            "marker": {
             "line": {
              "color": "#E5ECF6",
              "width": 0.5
             },
             "pattern": {
              "fillmode": "overlay",
              "size": 10,
              "solidity": 0.2
             }
            },
            "type": "bar"
           }
          ],
          "barpolar": [
           {
            "marker": {
             "line": {
              "color": "#E5ECF6",
              "width": 0.5
             },
             "pattern": {
              "fillmode": "overlay",
              "size": 10,
              "solidity": 0.2
             }
            },
            "type": "barpolar"
           }
          ],
          "carpet": [
           {
            "aaxis": {
             "endlinecolor": "#2a3f5f",
             "gridcolor": "white",
             "linecolor": "white",
             "minorgridcolor": "white",
             "startlinecolor": "#2a3f5f"
            },
            "baxis": {
             "endlinecolor": "#2a3f5f",
             "gridcolor": "white",
             "linecolor": "white",
             "minorgridcolor": "white",
             "startlinecolor": "#2a3f5f"
            },
            "type": "carpet"
           }
          ],
          "choropleth": [
           {
            "colorbar": {
             "outlinewidth": 0,
             "ticks": ""
            },
            "type": "choropleth"
           }
          ],
          "contour": [
           {
            "colorbar": {
             "outlinewidth": 0,
             "ticks": ""
            },
            "colorscale": [
             [
              0,
              "#0d0887"
             ],
             [
              0.1111111111111111,
              "#46039f"
             ],
             [
              0.2222222222222222,
              "#7201a8"
             ],
             [
              0.3333333333333333,
              "#9c179e"
             ],
             [
              0.4444444444444444,
              "#bd3786"
             ],
             [
              0.5555555555555556,
              "#d8576b"
             ],
             [
              0.6666666666666666,
              "#ed7953"
             ],
             [
              0.7777777777777778,
              "#fb9f3a"
             ],
             [
              0.8888888888888888,
              "#fdca26"
             ],
             [
              1,
              "#f0f921"
             ]
            ],
            "type": "contour"
           }
          ],
          "contourcarpet": [
           {
            "colorbar": {
             "outlinewidth": 0,
             "ticks": ""
            },
            "type": "contourcarpet"
           }
          ],
          "heatmap": [
           {
            "colorbar": {
             "outlinewidth": 0,
             "ticks": ""
            },
            "colorscale": [
             [
              0,
              "#0d0887"
             ],
             [
              0.1111111111111111,
              "#46039f"
             ],
             [
              0.2222222222222222,
              "#7201a8"
             ],
             [
              0.3333333333333333,
              "#9c179e"
             ],
             [
              0.4444444444444444,
              "#bd3786"
             ],
             [
              0.5555555555555556,
              "#d8576b"
             ],
             [
              0.6666666666666666,
              "#ed7953"
             ],
             [
              0.7777777777777778,
              "#fb9f3a"
             ],
             [
              0.8888888888888888,
              "#fdca26"
             ],
             [
              1,
              "#f0f921"
             ]
            ],
            "type": "heatmap"
           }
          ],
          "heatmapgl": [
           {
            "colorbar": {
             "outlinewidth": 0,
             "ticks": ""
            },
            "colorscale": [
             [
              0,
              "#0d0887"
             ],
             [
              0.1111111111111111,
              "#46039f"
             ],
             [
              0.2222222222222222,
              "#7201a8"
             ],
             [
              0.3333333333333333,
              "#9c179e"
             ],
             [
              0.4444444444444444,
              "#bd3786"
             ],
             [
              0.5555555555555556,
              "#d8576b"
             ],
             [
              0.6666666666666666,
              "#ed7953"
             ],
             [
              0.7777777777777778,
              "#fb9f3a"
             ],
             [
              0.8888888888888888,
              "#fdca26"
             ],
             [
              1,
              "#f0f921"
             ]
            ],
            "type": "heatmapgl"
           }
          ],
          "histogram": [
           {
            "marker": {
             "pattern": {
              "fillmode": "overlay",
              "size": 10,
              "solidity": 0.2
             }
            },
            "type": "histogram"
           }
          ],
          "histogram2d": [
           {
            "colorbar": {
             "outlinewidth": 0,
             "ticks": ""
            },
            "colorscale": [
             [
              0,
              "#0d0887"
             ],
             [
              0.1111111111111111,
              "#46039f"
             ],
             [
              0.2222222222222222,
              "#7201a8"
             ],
             [
              0.3333333333333333,
              "#9c179e"
             ],
             [
              0.4444444444444444,
              "#bd3786"
             ],
             [
              0.5555555555555556,
              "#d8576b"
             ],
             [
              0.6666666666666666,
              "#ed7953"
             ],
             [
              0.7777777777777778,
              "#fb9f3a"
             ],
             [
              0.8888888888888888,
              "#fdca26"
             ],
             [
              1,
              "#f0f921"
             ]
            ],
            "type": "histogram2d"
           }
          ],
          "histogram2dcontour": [
           {
            "colorbar": {
             "outlinewidth": 0,
             "ticks": ""
            },
            "colorscale": [
             [
              0,
              "#0d0887"
             ],
             [
              0.1111111111111111,
              "#46039f"
             ],
             [
              0.2222222222222222,
              "#7201a8"
             ],
             [
              0.3333333333333333,
              "#9c179e"
             ],
             [
              0.4444444444444444,
              "#bd3786"
             ],
             [
              0.5555555555555556,
              "#d8576b"
             ],
             [
              0.6666666666666666,
              "#ed7953"
             ],
             [
              0.7777777777777778,
              "#fb9f3a"
             ],
             [
              0.8888888888888888,
              "#fdca26"
             ],
             [
              1,
              "#f0f921"
             ]
            ],
            "type": "histogram2dcontour"
           }
          ],
          "mesh3d": [
           {
            "colorbar": {
             "outlinewidth": 0,
             "ticks": ""
            },
            "type": "mesh3d"
           }
          ],
          "parcoords": [
           {
            "line": {
             "colorbar": {
              "outlinewidth": 0,
              "ticks": ""
             }
            },
            "type": "parcoords"
           }
          ],
          "pie": [
           {
            "automargin": true,
            "type": "pie"
           }
          ],
          "scatter": [
           {
            "fillpattern": {
             "fillmode": "overlay",
             "size": 10,
             "solidity": 0.2
            },
            "type": "scatter"
           }
          ],
          "scatter3d": [
           {
            "line": {
             "colorbar": {
              "outlinewidth": 0,
              "ticks": ""
             }
            },
            "marker": {
             "colorbar": {
              "outlinewidth": 0,
              "ticks": ""
             }
            },
            "type": "scatter3d"
           }
          ],
          "scattercarpet": [
           {
            "marker": {
             "colorbar": {
              "outlinewidth": 0,
              "ticks": ""
             }
            },
            "type": "scattercarpet"
           }
          ],
          "scattergeo": [
           {
            "marker": {
             "colorbar": {
              "outlinewidth": 0,
              "ticks": ""
             }
            },
            "type": "scattergeo"
           }
          ],
          "scattergl": [
           {
            "marker": {
             "colorbar": {
              "outlinewidth": 0,
              "ticks": ""
             }
            },
            "type": "scattergl"
           }
          ],
          "scattermapbox": [
           {
            "marker": {
             "colorbar": {
              "outlinewidth": 0,
              "ticks": ""
             }
            },
            "type": "scattermapbox"
           }
          ],
          "scatterpolar": [
           {
            "marker": {
             "colorbar": {
              "outlinewidth": 0,
              "ticks": ""
             }
            },
            "type": "scatterpolar"
           }
          ],
          "scatterpolargl": [
           {
            "marker": {
             "colorbar": {
              "outlinewidth": 0,
              "ticks": ""
             }
            },
            "type": "scatterpolargl"
           }
          ],
          "scatterternary": [
           {
            "marker": {
             "colorbar": {
              "outlinewidth": 0,
              "ticks": ""
             }
            },
            "type": "scatterternary"
           }
          ],
          "surface": [
           {
            "colorbar": {
             "outlinewidth": 0,
             "ticks": ""
            },
            "colorscale": [
             [
              0,
              "#0d0887"
             ],
             [
              0.1111111111111111,
              "#46039f"
             ],
             [
              0.2222222222222222,
              "#7201a8"
             ],
             [
              0.3333333333333333,
              "#9c179e"
             ],
             [
              0.4444444444444444,
              "#bd3786"
             ],
             [
              0.5555555555555556,
              "#d8576b"
             ],
             [
              0.6666666666666666,
              "#ed7953"
             ],
             [
              0.7777777777777778,
              "#fb9f3a"
             ],
             [
              0.8888888888888888,
              "#fdca26"
             ],
             [
              1,
              "#f0f921"
             ]
            ],
            "type": "surface"
           }
          ],
          "table": [
           {
            "cells": {
             "fill": {
              "color": "#EBF0F8"
             },
             "line": {
              "color": "white"
             }
            },
            "header": {
             "fill": {
              "color": "#C8D4E3"
             },
             "line": {
              "color": "white"
             }
            },
            "type": "table"
           }
          ]
         },
         "layout": {
          "annotationdefaults": {
           "arrowcolor": "#2a3f5f",
           "arrowhead": 0,
           "arrowwidth": 1
          },
          "autotypenumbers": "strict",
          "coloraxis": {
           "colorbar": {
            "outlinewidth": 0,
            "ticks": ""
           }
          },
          "colorscale": {
           "diverging": [
            [
             0,
             "#8e0152"
            ],
            [
             0.1,
             "#c51b7d"
            ],
            [
             0.2,
             "#de77ae"
            ],
            [
             0.3,
             "#f1b6da"
            ],
            [
             0.4,
             "#fde0ef"
            ],
            [
             0.5,
             "#f7f7f7"
            ],
            [
             0.6,
             "#e6f5d0"
            ],
            [
             0.7,
             "#b8e186"
            ],
            [
             0.8,
             "#7fbc41"
            ],
            [
             0.9,
             "#4d9221"
            ],
            [
             1,
             "#276419"
            ]
           ],
           "sequential": [
            [
             0,
             "#0d0887"
            ],
            [
             0.1111111111111111,
             "#46039f"
            ],
            [
             0.2222222222222222,
             "#7201a8"
            ],
            [
             0.3333333333333333,
             "#9c179e"
            ],
            [
             0.4444444444444444,
             "#bd3786"
            ],
            [
             0.5555555555555556,
             "#d8576b"
            ],
            [
             0.6666666666666666,
             "#ed7953"
            ],
            [
             0.7777777777777778,
             "#fb9f3a"
            ],
            [
             0.8888888888888888,
             "#fdca26"
            ],
            [
             1,
             "#f0f921"
            ]
           ],
           "sequentialminus": [
            [
             0,
             "#0d0887"
            ],
            [
             0.1111111111111111,
             "#46039f"
            ],
            [
             0.2222222222222222,
             "#7201a8"
            ],
            [
             0.3333333333333333,
             "#9c179e"
            ],
            [
             0.4444444444444444,
             "#bd3786"
            ],
            [
             0.5555555555555556,
             "#d8576b"
            ],
            [
             0.6666666666666666,
             "#ed7953"
            ],
            [
             0.7777777777777778,
             "#fb9f3a"
            ],
            [
             0.8888888888888888,
             "#fdca26"
            ],
            [
             1,
             "#f0f921"
            ]
           ]
          },
          "colorway": [
           "#636efa",
           "#EF553B",
           "#00cc96",
           "#ab63fa",
           "#FFA15A",
           "#19d3f3",
           "#FF6692",
           "#B6E880",
           "#FF97FF",
           "#FECB52"
          ],
          "font": {
           "color": "#2a3f5f"
          },
          "geo": {
           "bgcolor": "white",
           "lakecolor": "white",
           "landcolor": "#E5ECF6",
           "showlakes": true,
           "showland": true,
           "subunitcolor": "white"
          },
          "hoverlabel": {
           "align": "left"
          },
          "hovermode": "closest",
          "mapbox": {
           "style": "light"
          },
          "paper_bgcolor": "white",
          "plot_bgcolor": "#E5ECF6",
          "polar": {
           "angularaxis": {
            "gridcolor": "white",
            "linecolor": "white",
            "ticks": ""
           },
           "bgcolor": "#E5ECF6",
           "radialaxis": {
            "gridcolor": "white",
            "linecolor": "white",
            "ticks": ""
           }
          },
          "scene": {
           "xaxis": {
            "backgroundcolor": "#E5ECF6",
            "gridcolor": "white",
            "gridwidth": 2,
            "linecolor": "white",
            "showbackground": true,
            "ticks": "",
            "zerolinecolor": "white"
           },
           "yaxis": {
            "backgroundcolor": "#E5ECF6",
            "gridcolor": "white",
            "gridwidth": 2,
            "linecolor": "white",
            "showbackground": true,
            "ticks": "",
            "zerolinecolor": "white"
           },
           "zaxis": {
            "backgroundcolor": "#E5ECF6",
            "gridcolor": "white",
            "gridwidth": 2,
            "linecolor": "white",
            "showbackground": true,
            "ticks": "",
            "zerolinecolor": "white"
           }
          },
          "shapedefaults": {
           "line": {
            "color": "#2a3f5f"
           }
          },
          "ternary": {
           "aaxis": {
            "gridcolor": "white",
            "linecolor": "white",
            "ticks": ""
           },
           "baxis": {
            "gridcolor": "white",
            "linecolor": "white",
            "ticks": ""
           },
           "bgcolor": "#E5ECF6",
           "caxis": {
            "gridcolor": "white",
            "linecolor": "white",
            "ticks": ""
           }
          },
          "title": {
           "x": 0.05
          },
          "xaxis": {
           "automargin": true,
           "gridcolor": "white",
           "linecolor": "white",
           "ticks": "",
           "title": {
            "standoff": 15
           },
           "zerolinecolor": "white",
           "zerolinewidth": 2
          },
          "yaxis": {
           "automargin": true,
           "gridcolor": "white",
           "linecolor": "white",
           "ticks": "",
           "title": {
            "standoff": 15
           },
           "zerolinecolor": "white",
           "zerolinewidth": 2
          }
         }
        },
        "title": {
         "text": "Clusters by State"
        },
        "width": 1400,
        "xaxis": {
         "anchor": "y",
         "domain": [
          0,
          0.2888888888888889
         ]
        },
        "xaxis2": {
         "anchor": "y2",
         "domain": [
          0.35555555555555557,
          0.6444444444444445
         ]
        },
        "xaxis3": {
         "anchor": "y3",
         "domain": [
          0.7111111111111111,
          1
         ]
        },
        "yaxis": {
         "anchor": "x",
         "domain": [
          0,
          0.375
         ],
         "title": {
          "text": "Incarceration Rate"
         }
        },
        "yaxis2": {
         "anchor": "x2",
         "domain": [
          0,
          0.375
         ],
         "title": {
          "text": "Male Incarceration Rate"
         }
        },
        "yaxis3": {
         "anchor": "x3",
         "domain": [
          0,
          0.375
         ],
         "title": {
          "text": "Female Incarceration Rate"
         }
        }
       }
      }
     },
     "metadata": {},
     "output_type": "display_data"
    }
   ],
   "source": [
    "\n",
    "corr_t_kmeans,k_ct = runKmeans(corr_df_total, getX(corr_df_total), n)\n",
    "corr_m_kmeans, k_cm = runKmeans(corr_df_male, getX(corr_df_male), n)\n",
    "corr_f_kmeans,k_cd= runKmeans(corr_df_female, getX(corr_df_female), n)\n",
    "\n",
    "total_corr_fig = stateClusterGraph(corr_t_kmeans) \n",
    "male_corr_fig= stateClusterGraph(corr_m_kmeans)\n",
    "female_corr_fig = stateClusterGraph(corr_f_kmeans)\n",
    "\n",
    "\n",
    "# Create a 2x3 grid of subplots with titles and a geo subplot type for the top row\n",
    "fig = make_subplots(\n",
    "    rows=2,\n",
    "    cols=3,\n",
    "    subplot_titles=('Total Correctional Pop', 'Male Correctional Pop', 'Female Correctional Pop'),\n",
    "    specs=[[{'type': 'choropleth'}, {'type': 'choropleth'}, {'type': 'choropleth'}],\n",
    "           [{'type': 'xy'}, {'type': 'xy'}, {'type': 'xy'}]]\n",
    ")\n",
    "\n",
    "# Add your state cluster figures as subplots to the top row\n",
    "fig.add_trace(total_corr_fig.data[0], row=1, col=1)\n",
    "fig.add_trace(male_corr_fig.data[0], row=1, col=2)\n",
    "fig.add_trace(female_corr_fig.data[0], row=1, col=3)\n",
    "\n",
    "# Create your bar plots\n",
    "# total_bar = createBarChart(runKmeans(rate_df_total, getX(rate_df_total), n), x_axis=\"Geography\", y_axis='Incarceration rate')\n",
    "total_bar =  px.bar(corr_t_kmeans, x=\"Geography\", y='Total : In Correctional Facilities for Adults', color='Cluster')\n",
    "\n",
    "\n",
    "# male_bar = createBarChart(runKmeans(rate_df_male, getX(rate_df_male), n), x_axis=\"Geography\", y_axis='Male incarceration rate')\n",
    "male_bar =  px.bar(corr_m_kmeans, x=\"Geography\", y='Total Men : In Correctional Facilities for Adults', color='Cluster')\n",
    "\n",
    "# female_bar = createBarChart(runKmeans(rate_df_female, getX(rate_df_female), n), x_axis=\"Geography\", y_axis='Female incarceration rate')\n",
    "female_bar = px.bar(corr_f_kmeans, x=\"Geography\", y='Total Women : In Correctional Facilities for Adults', color='Cluster')\n",
    "\n",
    "fig.update_yaxes(title='Incarceration Rate', row=2, col=1)\n",
    "fig.update_yaxes(title='Male Incarceration Rate', row=2, col=2)\n",
    "fig.update_yaxes(title='Female Incarceration Rate', row=2, col=3)\n",
    "\n",
    "# Add your bar plots as subplots to the bottom row\n",
    "fig.add_trace(total_bar.data[0], row=2, col=1)\n",
    "fig.add_trace(male_bar.data[0], row=2, col=2)\n",
    "fig.add_trace(female_bar.data[0], row=2, col=3)\n",
    "\n",
    "fig.update_geos(scope='usa')\n",
    "fig.update_layout(height=800, width=1400)\n",
    "# Update the layout to show the subplots\n",
    "fig.update_layout(title='Clusters by State')\n",
    "\n",
    "fig.show()"
   ]
  },
  {
   "cell_type": "code",
   "execution_count": 159,
   "metadata": {},
   "outputs": [
    {
     "data": {
      "application/vnd.plotly.v1+json": {
       "config": {
        "plotlyServerURL": "https://plot.ly"
       },
       "data": [
        {
         "coloraxis": "coloraxis",
         "geo": "geo",
         "hovertemplate": "State Abbreviation=%{location}<br>Cluster=%{z}<extra></extra>",
         "locationmode": "USA-states",
         "locations": [
          "AL",
          "AK",
          "AZ",
          "AR",
          "CA",
          "CO",
          "CT",
          "DE",
          null,
          "FL",
          "GA",
          "HI",
          "ID",
          "IL",
          "IN",
          "IA",
          "KS",
          "KY",
          "LA",
          "ME",
          "MD",
          "MA",
          "MI",
          "MN",
          "MS",
          "MO",
          "MT",
          "NE",
          "NV",
          "NH",
          "NJ",
          "NM",
          "NY",
          "NC",
          "ND",
          "OH",
          "OK",
          "OR",
          "PA",
          "RI",
          "SC",
          "SD",
          "TN",
          "TX",
          "UT",
          "VT",
          "VA",
          "WA",
          "WV",
          "WI",
          "WY",
          null
         ],
         "name": "",
         "type": "choropleth",
         "z": [
          2,
          2,
          1,
          2,
          2,
          0,
          0,
          2,
          2,
          2,
          2,
          2,
          0,
          2,
          2,
          0,
          2,
          0,
          2,
          2,
          2,
          2,
          2,
          0,
          0,
          2,
          0,
          2,
          2,
          2,
          2,
          2,
          2,
          2,
          0,
          2,
          0,
          2,
          0,
          2,
          2,
          0,
          2,
          2,
          2,
          2,
          2,
          2,
          3,
          1,
          0,
          2
         ]
        },
        {
         "coloraxis": "coloraxis",
         "geo": "geo2",
         "hovertemplate": "State Abbreviation=%{location}<br>Cluster=%{z}<extra></extra>",
         "locationmode": "USA-states",
         "locations": [
          "AL",
          "AK",
          "AZ",
          "AR",
          "CA",
          "CO",
          "CT",
          "DE",
          null,
          "FL",
          "GA",
          "HI",
          "ID",
          "IL",
          "IN",
          "IA",
          "KS",
          "KY",
          "LA",
          "ME",
          "MD",
          "MA",
          "MI",
          "MN",
          "MS",
          "MO",
          "MT",
          "NE",
          "NV",
          "NH",
          "NJ",
          "NM",
          "NY",
          "NC",
          "ND",
          "OH",
          "OK",
          "OR",
          "PA",
          "RI",
          "SC",
          "SD",
          "TN",
          "TX",
          "UT",
          "VT",
          "VA",
          "WA",
          "WV",
          "WI",
          "WY",
          null
         ],
         "name": "",
         "type": "choropleth",
         "z": [
          0,
          0,
          1,
          0,
          0,
          3,
          3,
          0,
          0,
          0,
          0,
          0,
          0,
          0,
          0,
          0,
          0,
          3,
          0,
          0,
          0,
          0,
          0,
          0,
          3,
          0,
          3,
          0,
          0,
          0,
          0,
          0,
          0,
          0,
          0,
          0,
          3,
          0,
          3,
          0,
          0,
          3,
          0,
          0,
          0,
          0,
          0,
          0,
          2,
          1,
          3,
          0
         ]
        },
        {
         "coloraxis": "coloraxis",
         "geo": "geo3",
         "hovertemplate": "State Abbreviation=%{location}<br>Cluster=%{z}<extra></extra>",
         "locationmode": "USA-states",
         "locations": [
          "AL",
          "AK",
          "AZ",
          "AR",
          "CA",
          "CO",
          "CT",
          "DE",
          null,
          "FL",
          "GA",
          "HI",
          "ID",
          "IL",
          "IN",
          "IA",
          "KS",
          "KY",
          "LA",
          "ME",
          "MD",
          "MA",
          "MI",
          "MN",
          "MS",
          "MO",
          "MT",
          "NE",
          "NV",
          "NH",
          "NJ",
          "NM",
          "NY",
          "NC",
          "ND",
          "OH",
          "OK",
          "OR",
          "PA",
          "RI",
          "SC",
          "SD",
          "TN",
          "TX",
          "UT",
          "VT",
          "VA",
          "WA",
          "WV",
          "WI",
          "WY",
          null
         ],
         "name": "",
         "type": "choropleth",
         "z": [
          2,
          0,
          0,
          2,
          2,
          0,
          0,
          2,
          2,
          2,
          2,
          0,
          0,
          2,
          2,
          0,
          2,
          2,
          2,
          2,
          2,
          2,
          2,
          0,
          2,
          2,
          0,
          0,
          2,
          0,
          2,
          0,
          2,
          2,
          1,
          2,
          0,
          2,
          2,
          2,
          2,
          0,
          2,
          2,
          0,
          2,
          2,
          2,
          3,
          0,
          0,
          2
         ]
        },
        {
         "alignmentgroup": "True",
         "hovertemplate": "Geography=%{x}<br>Percent Total : In Correctional Facilities for Adults=%{y}<br>Cluster=%{marker.color}<extra></extra>",
         "legendgroup": "",
         "marker": {
          "color": [
           2,
           2,
           1,
           2,
           2,
           0,
           0,
           2,
           2,
           2,
           2,
           2,
           0,
           2,
           2,
           0,
           2,
           0,
           2,
           2,
           2,
           2,
           2,
           0,
           0,
           2,
           0,
           2,
           2,
           2,
           2,
           2,
           2,
           2,
           0,
           2,
           0,
           2,
           0,
           2,
           2,
           0,
           2,
           2,
           2,
           2,
           2,
           2,
           3,
           1,
           0,
           2
          ],
          "coloraxis": "coloraxis",
          "pattern": {
           "shape": ""
          }
         },
         "name": "",
         "offsetgroup": "",
         "orientation": "v",
         "showlegend": false,
         "textposition": "auto",
         "type": "bar",
         "x": [
          "Alabama",
          "Alaska",
          "Arizona",
          "Arkansas",
          "California",
          "Colorado",
          "Connecticut",
          "Delaware",
          "District of Columbia",
          "Florida",
          "Georgia",
          "Hawaii",
          "Idaho",
          "Illinois",
          "Indiana",
          "Iowa",
          "Kansas",
          "Kentucky",
          "Louisiana",
          "Maine",
          "Maryland",
          "Massachusetts",
          "Michigan",
          "Minnesota",
          "Mississippi",
          "Missouri",
          "Montana",
          "Nebraska",
          "Nevada",
          "New Hampshire",
          "New Jersey",
          "New Mexico",
          "New York",
          "North Carolina",
          "North Dakota",
          "Ohio",
          "Oklahoma",
          "Oregon",
          "Pennsylvania",
          "Rhode Island",
          "South Carolina",
          "South Dakota",
          "Tennessee",
          "Texas",
          "Utah",
          "Vermont",
          "Virginia",
          "Washington",
          "West Virginia",
          "Wisconsin",
          "Wyoming",
          "Puerto Rico"
         ],
         "xaxis": "x",
         "y": [
          0.8586248278147579,
          0.578121766016972,
          1.0470716833199911,
          0.8831181123749022,
          0.6882678446283664,
          0.8046017693484206,
          0.5610927739230357,
          0.7170905656763191,
          0.5932962509327382,
          0.8842309392271072,
          1.0644167374698497,
          0.4170400521649253,
          0.7177295988343831,
          0.5472684432068506,
          0.7463830635173623,
          0.43560254796305753,
          0.6292063630035631,
          0.9474884240028557,
          1.3327827497941929,
          0.2769578450436289,
          0.6156002405451618,
          0.37318852366253497,
          0.6236467536251826,
          0.3837723949716484,
          1.14895812586337,
          0.6979046496976837,
          0.5368829055553028,
          0.44049824211360317,
          0.7337391517508834,
          0.3668142836524949,
          0.5055907179954626,
          0.863985112513288,
          0.4863892242903871,
          0.6389922775804855,
          0.36991277016790297,
          0.662523065913209,
          1.0791312249906766,
          0.5785844909286534,
          0.7673523203803003,
          0.35902702630806405,
          0.889573231425678,
          0.7752585423370754,
          0.7376650717250975,
          1.0586401313536016,
          0.4571825528196723,
          0.2540987405332238,
          0.8147707093492033,
          0.47441163261724967,
          0.8936348417749868,
          0.6655546540821448,
          0.6309148264984227,
          0.34797998491057863
         ],
         "yaxis": "y"
        },
        {
         "alignmentgroup": "True",
         "hovertemplate": "Geography=%{x}<br>Percent Total Men : In Correctional Facilities for Adults=%{y}<br>Cluster=%{marker.color}<extra></extra>",
         "legendgroup": "",
         "marker": {
          "color": [
           0,
           0,
           1,
           0,
           0,
           3,
           3,
           0,
           0,
           0,
           0,
           0,
           0,
           0,
           0,
           0,
           0,
           3,
           0,
           0,
           0,
           0,
           0,
           0,
           3,
           0,
           3,
           0,
           0,
           0,
           0,
           0,
           0,
           0,
           0,
           0,
           3,
           0,
           3,
           0,
           0,
           3,
           0,
           0,
           0,
           0,
           0,
           0,
           2,
           1,
           3,
           0
          ],
          "coloraxis": "coloraxis",
          "pattern": {
           "shape": ""
          }
         },
         "name": "",
         "offsetgroup": "",
         "orientation": "v",
         "showlegend": false,
         "textposition": "auto",
         "type": "bar",
         "x": [
          "Alabama",
          "Alaska",
          "Arizona",
          "Arkansas",
          "California",
          "Colorado",
          "Connecticut",
          "Delaware",
          "District of Columbia",
          "Florida",
          "Georgia",
          "Hawaii",
          "Idaho",
          "Illinois",
          "Indiana",
          "Iowa",
          "Kansas",
          "Kentucky",
          "Louisiana",
          "Maine",
          "Maryland",
          "Massachusetts",
          "Michigan",
          "Minnesota",
          "Mississippi",
          "Missouri",
          "Montana",
          "Nebraska",
          "Nevada",
          "New Hampshire",
          "New Jersey",
          "New Mexico",
          "New York",
          "North Carolina",
          "North Dakota",
          "Ohio",
          "Oklahoma",
          "Oregon",
          "Pennsylvania",
          "Rhode Island",
          "South Carolina",
          "South Dakota",
          "Tennessee",
          "Texas",
          "Utah",
          "Vermont",
          "Virginia",
          "Washington",
          "West Virginia",
          "Wisconsin",
          "Wyoming",
          "Puerto Rico"
         ],
         "xaxis": "x2",
         "y": [
          1.545176511558546,
          0.9466274200006493,
          1.8987834019717094,
          1.6273678313706617,
          1.2645002141179609,
          1.4592595119853435,
          1.0018889247844638,
          1.3836423038633003,
          1.09315957244689,
          1.6335640531898048,
          1.9878959758486212,
          0.6718601145259474,
          1.2450911980278205,
          1.0247802226094342,
          1.3781386992093705,
          0.7813333916764291,
          1.1646111933802832,
          1.698914073946393,
          2.5171090600065247,
          0.5110328956274536,
          1.1878519730550097,
          0.7176719210466148,
          1.2244761571200677,
          0.6786893666427063,
          2.1840220920873694,
          1.2962433317186397,
          0.9338248766275996,
          0.7926770061878239,
          1.303006124891465,
          0.6713951776579395,
          0.9597625946350127,
          1.5555016065129381,
          0.9452661881060411,
          1.2132407073351972,
          0.6452581032412965,
          1.2294403777168106,
          1.9504818853437602,
          1.0554313761272405,
          1.4589289836476471,
          0.701219512195122,
          1.7024124694847032,
          1.36702497170953,
          1.3375770647136709,
          1.9260872911769138,
          0.7881485280379049,
          0.46397539308125085,
          1.5089724025804492,
          0.8547911802435257,
          1.5339552050928977,
          1.22828089569161,
          1.065624815176891,
          0.7009412543672286
         ],
         "yaxis": "y2"
        },
        {
         "alignmentgroup": "True",
         "hovertemplate": "Geography=%{x}<br>Percent Total Women : In Correctional Facilities for Adults=%{y}<br>Cluster=%{marker.color}<extra></extra>",
         "legendgroup": "",
         "marker": {
          "color": [
           2,
           0,
           0,
           2,
           2,
           0,
           0,
           2,
           2,
           2,
           2,
           0,
           0,
           2,
           2,
           0,
           2,
           2,
           2,
           2,
           2,
           2,
           2,
           0,
           2,
           2,
           0,
           0,
           2,
           0,
           2,
           0,
           2,
           2,
           1,
           2,
           0,
           2,
           2,
           2,
           2,
           0,
           2,
           2,
           0,
           2,
           2,
           2,
           3,
           0,
           0,
           2
          ],
          "coloraxis": "coloraxis",
          "pattern": {
           "shape": ""
          }
         },
         "name": "",
         "offsetgroup": "",
         "orientation": "v",
         "showlegend": false,
         "textposition": "auto",
         "type": "bar",
         "x": [
          "Alabama",
          "Alaska",
          "Arizona",
          "Arkansas",
          "California",
          "Colorado",
          "Connecticut",
          "Delaware",
          "District of Columbia",
          "Florida",
          "Georgia",
          "Hawaii",
          "Idaho",
          "Illinois",
          "Indiana",
          "Iowa",
          "Kansas",
          "Kentucky",
          "Louisiana",
          "Maine",
          "Maryland",
          "Massachusetts",
          "Michigan",
          "Minnesota",
          "Mississippi",
          "Missouri",
          "Montana",
          "Nebraska",
          "Nevada",
          "New Hampshire",
          "New Jersey",
          "New Mexico",
          "New York",
          "North Carolina",
          "North Dakota",
          "Ohio",
          "Oklahoma",
          "Oregon",
          "Pennsylvania",
          "Rhode Island",
          "South Carolina",
          "South Dakota",
          "Tennessee",
          "Texas",
          "Utah",
          "Vermont",
          "Virginia",
          "Washington",
          "West Virginia",
          "Wisconsin",
          "Wyoming",
          "Puerto Rico"
         ],
         "xaxis": "x3",
         "y": [
          0.2109737236272681,
          0.1782133451555036,
          0.20605100314222338,
          0.16526520247850643,
          0.1187492014090853,
          0.14677895535799,
          0.1430920864352518,
          0.09092970766422963,
          0.1458263123580713,
          0.16784306626487536,
          0.18364491390711915,
          0.16140005713797642,
          0.18830104645781826,
          0.0877284748643237,
          0.13463608034449837,
          0.09655170620193546,
          0.10210682265547294,
          0.21974083827228538,
          0.19696812556177834,
          0.05263119098340717,
          0.07981782754654083,
          0.05054716044153787,
          0.04517899421033672,
          0.09323327069125491,
          0.17142216837247887,
          0.12345153741674711,
          0.1367839138870173,
          0.0935823791227603,
          0.15311140780965418,
          0.07030683160539428,
          0.07483998161467316,
          0.18862346149489612,
          0.056134639141961935,
          0.09345620472512117,
          0.08866127485896846,
          0.12174079170130216,
          0.22498197293670624,
          0.11136536521638471,
          0.10993523357436469,
          0.03932616274048224,
          0.11956570703959941,
          0.1826454833959769,
          0.167097040184148,
          0.20495087262722259,
          0.12314912821467204,
          0.05038814618860913,
          0.14596172161212612,
          0.0968640522360662,
          0.27091529984841517,
          0.11111553292517662,
          0.1785009540568234,
          0.023291549393028407
         ],
         "yaxis": "y3"
        }
       ],
       "layout": {
        "annotations": [
         {
          "font": {
           "size": 16
          },
          "showarrow": false,
          "text": "Total Percentage ",
          "x": 0.14444444444444446,
          "xanchor": "center",
          "xref": "paper",
          "y": 1,
          "yanchor": "bottom",
          "yref": "paper"
         },
         {
          "font": {
           "size": 16
          },
          "showarrow": false,
          "text": "Male Percentage",
          "x": 0.5,
          "xanchor": "center",
          "xref": "paper",
          "y": 1,
          "yanchor": "bottom",
          "yref": "paper"
         },
         {
          "font": {
           "size": 16
          },
          "showarrow": false,
          "text": "Female Percentage",
          "x": 0.8555555555555556,
          "xanchor": "center",
          "xref": "paper",
          "y": 1,
          "yanchor": "bottom",
          "yref": "paper"
         }
        ],
        "geo": {
         "domain": {
          "x": [
           0,
           0.2888888888888889
          ],
          "y": [
           0.625,
           1
          ]
         },
         "scope": "usa"
        },
        "geo2": {
         "domain": {
          "x": [
           0.35555555555555557,
           0.6444444444444445
          ],
          "y": [
           0.625,
           1
          ]
         },
         "scope": "usa"
        },
        "geo3": {
         "domain": {
          "x": [
           0.7111111111111111,
           1
          ],
          "y": [
           0.625,
           1
          ]
         },
         "scope": "usa"
        },
        "height": 800,
        "template": {
         "data": {
          "bar": [
           {
            "error_x": {
             "color": "#2a3f5f"
            },
            "error_y": {
             "color": "#2a3f5f"
            },
            "marker": {
             "line": {
              "color": "#E5ECF6",
              "width": 0.5
             },
             "pattern": {
              "fillmode": "overlay",
              "size": 10,
              "solidity": 0.2
             }
            },
            "type": "bar"
           }
          ],
          "barpolar": [
           {
            "marker": {
             "line": {
              "color": "#E5ECF6",
              "width": 0.5
             },
             "pattern": {
              "fillmode": "overlay",
              "size": 10,
              "solidity": 0.2
             }
            },
            "type": "barpolar"
           }
          ],
          "carpet": [
           {
            "aaxis": {
             "endlinecolor": "#2a3f5f",
             "gridcolor": "white",
             "linecolor": "white",
             "minorgridcolor": "white",
             "startlinecolor": "#2a3f5f"
            },
            "baxis": {
             "endlinecolor": "#2a3f5f",
             "gridcolor": "white",
             "linecolor": "white",
             "minorgridcolor": "white",
             "startlinecolor": "#2a3f5f"
            },
            "type": "carpet"
           }
          ],
          "choropleth": [
           {
            "colorbar": {
             "outlinewidth": 0,
             "ticks": ""
            },
            "type": "choropleth"
           }
          ],
          "contour": [
           {
            "colorbar": {
             "outlinewidth": 0,
             "ticks": ""
            },
            "colorscale": [
             [
              0,
              "#0d0887"
             ],
             [
              0.1111111111111111,
              "#46039f"
             ],
             [
              0.2222222222222222,
              "#7201a8"
             ],
             [
              0.3333333333333333,
              "#9c179e"
             ],
             [
              0.4444444444444444,
              "#bd3786"
             ],
             [
              0.5555555555555556,
              "#d8576b"
             ],
             [
              0.6666666666666666,
              "#ed7953"
             ],
             [
              0.7777777777777778,
              "#fb9f3a"
             ],
             [
              0.8888888888888888,
              "#fdca26"
             ],
             [
              1,
              "#f0f921"
             ]
            ],
            "type": "contour"
           }
          ],
          "contourcarpet": [
           {
            "colorbar": {
             "outlinewidth": 0,
             "ticks": ""
            },
            "type": "contourcarpet"
           }
          ],
          "heatmap": [
           {
            "colorbar": {
             "outlinewidth": 0,
             "ticks": ""
            },
            "colorscale": [
             [
              0,
              "#0d0887"
             ],
             [
              0.1111111111111111,
              "#46039f"
             ],
             [
              0.2222222222222222,
              "#7201a8"
             ],
             [
              0.3333333333333333,
              "#9c179e"
             ],
             [
              0.4444444444444444,
              "#bd3786"
             ],
             [
              0.5555555555555556,
              "#d8576b"
             ],
             [
              0.6666666666666666,
              "#ed7953"
             ],
             [
              0.7777777777777778,
              "#fb9f3a"
             ],
             [
              0.8888888888888888,
              "#fdca26"
             ],
             [
              1,
              "#f0f921"
             ]
            ],
            "type": "heatmap"
           }
          ],
          "heatmapgl": [
           {
            "colorbar": {
             "outlinewidth": 0,
             "ticks": ""
            },
            "colorscale": [
             [
              0,
              "#0d0887"
             ],
             [
              0.1111111111111111,
              "#46039f"
             ],
             [
              0.2222222222222222,
              "#7201a8"
             ],
             [
              0.3333333333333333,
              "#9c179e"
             ],
             [
              0.4444444444444444,
              "#bd3786"
             ],
             [
              0.5555555555555556,
              "#d8576b"
             ],
             [
              0.6666666666666666,
              "#ed7953"
             ],
             [
              0.7777777777777778,
              "#fb9f3a"
             ],
             [
              0.8888888888888888,
              "#fdca26"
             ],
             [
              1,
              "#f0f921"
             ]
            ],
            "type": "heatmapgl"
           }
          ],
          "histogram": [
           {
            "marker": {
             "pattern": {
              "fillmode": "overlay",
              "size": 10,
              "solidity": 0.2
             }
            },
            "type": "histogram"
           }
          ],
          "histogram2d": [
           {
            "colorbar": {
             "outlinewidth": 0,
             "ticks": ""
            },
            "colorscale": [
             [
              0,
              "#0d0887"
             ],
             [
              0.1111111111111111,
              "#46039f"
             ],
             [
              0.2222222222222222,
              "#7201a8"
             ],
             [
              0.3333333333333333,
              "#9c179e"
             ],
             [
              0.4444444444444444,
              "#bd3786"
             ],
             [
              0.5555555555555556,
              "#d8576b"
             ],
             [
              0.6666666666666666,
              "#ed7953"
             ],
             [
              0.7777777777777778,
              "#fb9f3a"
             ],
             [
              0.8888888888888888,
              "#fdca26"
             ],
             [
              1,
              "#f0f921"
             ]
            ],
            "type": "histogram2d"
           }
          ],
          "histogram2dcontour": [
           {
            "colorbar": {
             "outlinewidth": 0,
             "ticks": ""
            },
            "colorscale": [
             [
              0,
              "#0d0887"
             ],
             [
              0.1111111111111111,
              "#46039f"
             ],
             [
              0.2222222222222222,
              "#7201a8"
             ],
             [
              0.3333333333333333,
              "#9c179e"
             ],
             [
              0.4444444444444444,
              "#bd3786"
             ],
             [
              0.5555555555555556,
              "#d8576b"
             ],
             [
              0.6666666666666666,
              "#ed7953"
             ],
             [
              0.7777777777777778,
              "#fb9f3a"
             ],
             [
              0.8888888888888888,
              "#fdca26"
             ],
             [
              1,
              "#f0f921"
             ]
            ],
            "type": "histogram2dcontour"
           }
          ],
          "mesh3d": [
           {
            "colorbar": {
             "outlinewidth": 0,
             "ticks": ""
            },
            "type": "mesh3d"
           }
          ],
          "parcoords": [
           {
            "line": {
             "colorbar": {
              "outlinewidth": 0,
              "ticks": ""
             }
            },
            "type": "parcoords"
           }
          ],
          "pie": [
           {
            "automargin": true,
            "type": "pie"
           }
          ],
          "scatter": [
           {
            "fillpattern": {
             "fillmode": "overlay",
             "size": 10,
             "solidity": 0.2
            },
            "type": "scatter"
           }
          ],
          "scatter3d": [
           {
            "line": {
             "colorbar": {
              "outlinewidth": 0,
              "ticks": ""
             }
            },
            "marker": {
             "colorbar": {
              "outlinewidth": 0,
              "ticks": ""
             }
            },
            "type": "scatter3d"
           }
          ],
          "scattercarpet": [
           {
            "marker": {
             "colorbar": {
              "outlinewidth": 0,
              "ticks": ""
             }
            },
            "type": "scattercarpet"
           }
          ],
          "scattergeo": [
           {
            "marker": {
             "colorbar": {
              "outlinewidth": 0,
              "ticks": ""
             }
            },
            "type": "scattergeo"
           }
          ],
          "scattergl": [
           {
            "marker": {
             "colorbar": {
              "outlinewidth": 0,
              "ticks": ""
             }
            },
            "type": "scattergl"
           }
          ],
          "scattermapbox": [
           {
            "marker": {
             "colorbar": {
              "outlinewidth": 0,
              "ticks": ""
             }
            },
            "type": "scattermapbox"
           }
          ],
          "scatterpolar": [
           {
            "marker": {
             "colorbar": {
              "outlinewidth": 0,
              "ticks": ""
             }
            },
            "type": "scatterpolar"
           }
          ],
          "scatterpolargl": [
           {
            "marker": {
             "colorbar": {
              "outlinewidth": 0,
              "ticks": ""
             }
            },
            "type": "scatterpolargl"
           }
          ],
          "scatterternary": [
           {
            "marker": {
             "colorbar": {
              "outlinewidth": 0,
              "ticks": ""
             }
            },
            "type": "scatterternary"
           }
          ],
          "surface": [
           {
            "colorbar": {
             "outlinewidth": 0,
             "ticks": ""
            },
            "colorscale": [
             [
              0,
              "#0d0887"
             ],
             [
              0.1111111111111111,
              "#46039f"
             ],
             [
              0.2222222222222222,
              "#7201a8"
             ],
             [
              0.3333333333333333,
              "#9c179e"
             ],
             [
              0.4444444444444444,
              "#bd3786"
             ],
             [
              0.5555555555555556,
              "#d8576b"
             ],
             [
              0.6666666666666666,
              "#ed7953"
             ],
             [
              0.7777777777777778,
              "#fb9f3a"
             ],
             [
              0.8888888888888888,
              "#fdca26"
             ],
             [
              1,
              "#f0f921"
             ]
            ],
            "type": "surface"
           }
          ],
          "table": [
           {
            "cells": {
             "fill": {
              "color": "#EBF0F8"
             },
             "line": {
              "color": "white"
             }
            },
            "header": {
             "fill": {
              "color": "#C8D4E3"
             },
             "line": {
              "color": "white"
             }
            },
            "type": "table"
           }
          ]
         },
         "layout": {
          "annotationdefaults": {
           "arrowcolor": "#2a3f5f",
           "arrowhead": 0,
           "arrowwidth": 1
          },
          "autotypenumbers": "strict",
          "coloraxis": {
           "colorbar": {
            "outlinewidth": 0,
            "ticks": ""
           }
          },
          "colorscale": {
           "diverging": [
            [
             0,
             "#8e0152"
            ],
            [
             0.1,
             "#c51b7d"
            ],
            [
             0.2,
             "#de77ae"
            ],
            [
             0.3,
             "#f1b6da"
            ],
            [
             0.4,
             "#fde0ef"
            ],
            [
             0.5,
             "#f7f7f7"
            ],
            [
             0.6,
             "#e6f5d0"
            ],
            [
             0.7,
             "#b8e186"
            ],
            [
             0.8,
             "#7fbc41"
            ],
            [
             0.9,
             "#4d9221"
            ],
            [
             1,
             "#276419"
            ]
           ],
           "sequential": [
            [
             0,
             "#0d0887"
            ],
            [
             0.1111111111111111,
             "#46039f"
            ],
            [
             0.2222222222222222,
             "#7201a8"
            ],
            [
             0.3333333333333333,
             "#9c179e"
            ],
            [
             0.4444444444444444,
             "#bd3786"
            ],
            [
             0.5555555555555556,
             "#d8576b"
            ],
            [
             0.6666666666666666,
             "#ed7953"
            ],
            [
             0.7777777777777778,
             "#fb9f3a"
            ],
            [
             0.8888888888888888,
             "#fdca26"
            ],
            [
             1,
             "#f0f921"
            ]
           ],
           "sequentialminus": [
            [
             0,
             "#0d0887"
            ],
            [
             0.1111111111111111,
             "#46039f"
            ],
            [
             0.2222222222222222,
             "#7201a8"
            ],
            [
             0.3333333333333333,
             "#9c179e"
            ],
            [
             0.4444444444444444,
             "#bd3786"
            ],
            [
             0.5555555555555556,
             "#d8576b"
            ],
            [
             0.6666666666666666,
             "#ed7953"
            ],
            [
             0.7777777777777778,
             "#fb9f3a"
            ],
            [
             0.8888888888888888,
             "#fdca26"
            ],
            [
             1,
             "#f0f921"
            ]
           ]
          },
          "colorway": [
           "#636efa",
           "#EF553B",
           "#00cc96",
           "#ab63fa",
           "#FFA15A",
           "#19d3f3",
           "#FF6692",
           "#B6E880",
           "#FF97FF",
           "#FECB52"
          ],
          "font": {
           "color": "#2a3f5f"
          },
          "geo": {
           "bgcolor": "white",
           "lakecolor": "white",
           "landcolor": "#E5ECF6",
           "showlakes": true,
           "showland": true,
           "subunitcolor": "white"
          },
          "hoverlabel": {
           "align": "left"
          },
          "hovermode": "closest",
          "mapbox": {
           "style": "light"
          },
          "paper_bgcolor": "white",
          "plot_bgcolor": "#E5ECF6",
          "polar": {
           "angularaxis": {
            "gridcolor": "white",
            "linecolor": "white",
            "ticks": ""
           },
           "bgcolor": "#E5ECF6",
           "radialaxis": {
            "gridcolor": "white",
            "linecolor": "white",
            "ticks": ""
           }
          },
          "scene": {
           "xaxis": {
            "backgroundcolor": "#E5ECF6",
            "gridcolor": "white",
            "gridwidth": 2,
            "linecolor": "white",
            "showbackground": true,
            "ticks": "",
            "zerolinecolor": "white"
           },
           "yaxis": {
            "backgroundcolor": "#E5ECF6",
            "gridcolor": "white",
            "gridwidth": 2,
            "linecolor": "white",
            "showbackground": true,
            "ticks": "",
            "zerolinecolor": "white"
           },
           "zaxis": {
            "backgroundcolor": "#E5ECF6",
            "gridcolor": "white",
            "gridwidth": 2,
            "linecolor": "white",
            "showbackground": true,
            "ticks": "",
            "zerolinecolor": "white"
           }
          },
          "shapedefaults": {
           "line": {
            "color": "#2a3f5f"
           }
          },
          "ternary": {
           "aaxis": {
            "gridcolor": "white",
            "linecolor": "white",
            "ticks": ""
           },
           "baxis": {
            "gridcolor": "white",
            "linecolor": "white",
            "ticks": ""
           },
           "bgcolor": "#E5ECF6",
           "caxis": {
            "gridcolor": "white",
            "linecolor": "white",
            "ticks": ""
           }
          },
          "title": {
           "x": 0.05
          },
          "xaxis": {
           "automargin": true,
           "gridcolor": "white",
           "linecolor": "white",
           "ticks": "",
           "title": {
            "standoff": 15
           },
           "zerolinecolor": "white",
           "zerolinewidth": 2
          },
          "yaxis": {
           "automargin": true,
           "gridcolor": "white",
           "linecolor": "white",
           "ticks": "",
           "title": {
            "standoff": 15
           },
           "zerolinecolor": "white",
           "zerolinewidth": 2
          }
         }
        },
        "title": {
         "text": "Clusters by State"
        },
        "width": 1400,
        "xaxis": {
         "anchor": "y",
         "domain": [
          0,
          0.2888888888888889
         ]
        },
        "xaxis2": {
         "anchor": "y2",
         "domain": [
          0.35555555555555557,
          0.6444444444444445
         ]
        },
        "xaxis3": {
         "anchor": "y3",
         "domain": [
          0.7111111111111111,
          1
         ]
        },
        "yaxis": {
         "anchor": "x",
         "domain": [
          0,
          0.375
         ],
         "title": {
          "text": "Incarceration Rate"
         }
        },
        "yaxis2": {
         "anchor": "x2",
         "domain": [
          0,
          0.375
         ],
         "title": {
          "text": "Male Incarceration Rate"
         }
        },
        "yaxis3": {
         "anchor": "x3",
         "domain": [
          0,
          0.375
         ],
         "title": {
          "text": "Female Incarceration Rate"
         }
        }
       }
      }
     },
     "metadata": {},
     "output_type": "display_data"
    }
   ],
   "source": [
    "per_t_kmeans,k_pt = runKmeans(per_df_total, getX(per_df_total), n)\n",
    "per_m_kmeans,k_pm = runKmeans(per_df_male, getX(per_df_male), n)\n",
    "per_f_kmeans,k_pf = runKmeans(per_df_female, getX(per_df_female), n)\n",
    "\n",
    "total_per_fig = stateClusterGraph(per_t_kmeans) \n",
    "male_per_fig= stateClusterGraph(per_m_kmeans)\n",
    "female_per_fig = stateClusterGraph(per_f_kmeans)\n",
    "\n",
    "\n",
    "\n",
    "# Create a 2x3 grid of subplots with titles and a geo subplot type for the top row\n",
    "fig = make_subplots(\n",
    "    rows=2,\n",
    "    cols=3,\n",
    "    subplot_titles=('Total Percentage ', 'Male Percentage', 'Female Percentage'),\n",
    "    specs=[[{'type': 'choropleth'}, {'type': 'choropleth'}, {'type': 'choropleth'}],\n",
    "           [{'type': 'xy'}, {'type': 'xy'}, {'type': 'xy'}]]\n",
    ")\n",
    "\n",
    "# Add your state cluster figures as subplots to the top row\n",
    "fig.add_trace(total_per_fig.data[0], row=1, col=1)\n",
    "fig.add_trace(male_per_fig.data[0], row=1, col=2)\n",
    "fig.add_trace(female_per_fig.data[0], row=1, col=3)\n",
    "\n",
    "# Create your bar plots\n",
    "# total_bar = createBarChart(runKmeans(rate_df_total, getX(rate_df_total), n), x_axis=\"Geography\", y_axis='Incarceration rate')\n",
    "total_bar =  px.bar(per_t_kmeans, x=\"Geography\", y='Percent Total : In Correctional Facilities for Adults', color='Cluster')\n",
    "\n",
    "\n",
    "# male_bar = createBarChart(runKmeans(rate_df_male, getX(rate_df_male), n), x_axis=\"Geography\", y_axis='Male incarceration rate')\n",
    "male_bar =  px.bar(per_m_kmeans, x=\"Geography\", y='Percent Total Men : In Correctional Facilities for Adults', color='Cluster')\n",
    "\n",
    "# female_bar = createBarChart(runKmeans(rate_df_female, getX(rate_df_female), n), x_axis=\"Geography\", y_axis='Female incarceration rate')\n",
    "female_bar = px.bar(per_f_kmeans, x=\"Geography\", y='Percent Total Women : In Correctional Facilities for Adults', color='Cluster')\n",
    "\n",
    "fig.update_yaxes(title='Incarceration Rate', row=2, col=1)\n",
    "fig.update_yaxes(title='Male Incarceration Rate', row=2, col=2)\n",
    "fig.update_yaxes(title='Female Incarceration Rate', row=2, col=3)\n",
    "\n",
    "fig.add_trace(total_bar.data[0], row=2, col=1)\n",
    "fig.add_trace(male_bar.data[0], row=2, col=2)\n",
    "fig.add_trace(female_bar.data[0], row=2, col=3)\n",
    "\n",
    "fig.update_geos(scope='usa')\n",
    "fig.update_layout(height=800, width=1400)\n",
    "# Update the layout to show the subplots\n",
    "fig.update_layout(title='Clusters by State')\n",
    "\n",
    "fig.show()"
   ]
  },
  {
   "cell_type": "code",
   "execution_count": 160,
   "metadata": {},
   "outputs": [],
   "source": [
    "def get_expectation_values(k1, k2, k3, df1, df2, df3, n):\n",
    "    if 'Cluster' in df1.columns:\n",
    "        df1 = df1.drop('Cluster', axis=1)\n",
    "    if 'Cluster' in df2.columns:\n",
    "        df2 = df2.drop('Cluster', axis=1)\n",
    "    if 'Cluster' in df3.columns:\n",
    "        df3 = df3.drop('Cluster', axis=1)\n",
    "\n",
    "\n",
    "\n",
    "    # Calculate the expectation values for each feature in each cluster for the first data frame\n",
    "    expectation_values1 = np.zeros((n, getX(df1).shape[1]))\n",
    "    for i in range(n):\n",
    "        mask = k1.labels_ == i\n",
    "        expectation_values1[i] = np.mean(getX(df1)[mask], axis=0)\n",
    "\n",
    "    # Calculate the expectation values for each feature in each cluster for the second data frame\n",
    "    expectation_values2 = np.zeros((n, getX(df2).shape[1]))\n",
    "    for i in range(n):\n",
    "        mask = k2.labels_ == i\n",
    "        expectation_values2[i] = np.mean(getX(df2)[mask], axis=0)\n",
    "\n",
    "    # Calculate the expectation values for each feature in each cluster for the third data frame\n",
    "    expectation_values3 = np.zeros((n, getX(df3).shape[1]))\n",
    "    for i in range(n):\n",
    "        mask = k3.labels_ == i\n",
    "        expectation_values3[i] = np.mean(getX(df3)[mask], axis=0)\n",
    "\n",
    "    # Get the feature names\n",
    "    feature_names = list(getX(df1).columns)\n",
    "\n",
    "    # Create a DataFrame for the first data\n",
    "    df1_out = pd.DataFrame(expectation_values1, columns=feature_names)\n",
    "    df1_out['Cluster'] = [f'k{i}' for i in range(n)]\n",
    "\n",
    "    # Create a DataFrame for the second data\n",
    "    df2_out = pd.DataFrame(expectation_values2, columns=feature_names)\n",
    "    df2_out['Cluster'] = [f'k{i}' for i in range(n)]\n",
    "\n",
    "    # Create a DataFrame for the third data\n",
    "    df3_out = pd.DataFrame(expectation_values3, columns=feature_names)\n",
    "    df3_out['Cluster'] = [f'k{i}' for i in range(n)]\n",
    "    \n",
    "    return df1_out, df2_out, df3_out"
   ]
  },
  {
   "cell_type": "code",
   "execution_count": 161,
   "metadata": {},
   "outputs": [],
   "source": [
    "per_t_df, per_m_df, per_f_df = get_expectation_values(k_pt, k_pm, k_pf, per_df_total, per_df_male, per_df_female, n)\n",
    "rate_t_df, rate_m_df, rate_f_df = get_expectation_values(k_rt, k_rm, k_rf, rate_df_total, rate_df_male, rate_df_female, n)\n",
    "corr_t_df, corr_m_df, corr_f_df = get_expectation_values(k_ct, k_cm, k_cd,corr_df_total, rate_df_male, rate_df_female, n)"
   ]
  },
  {
   "cell_type": "code",
   "execution_count": 162,
   "metadata": {},
   "outputs": [],
   "source": [
    "import plotly.figure_factory as ff\n",
    "def heatmaps3df(df1,df2,df3, name):\n",
    "    \n",
    "\n",
    "\n",
    "    # Create a subplot with 1 row and 3 columns\n",
    "    x_labels = ['White', 'Black or African American', 'American Indian and Alaska Native', 'Asian', 'Native Hawaiian and other Pacific Islander', 'Some other race', 'Two or more race', 'Hispanic or Latino', 'White alone, not Hispanic or Latino']\n",
    "\n",
    "    fig = make_subplots(rows=1, cols=3, subplot_titles=('Total', 'Men', 'Women'))\n",
    "\n",
    "    # Create a heatmap for the first data frame\n",
    "    heatmap1 = ff.create_annotated_heatmap(\n",
    "        z=df1.set_index('Cluster').values,\n",
    "        x=x_labels,\n",
    "        y=[f'k{i}' for i in range(n)],\n",
    "        colorscale='Reds',\n",
    "        annotation_text=df1.set_index('Cluster').values,\n",
    "        hovertemplate='%{z:.2f}',\n",
    "        showscale=True\n",
    "\n",
    "    )\n",
    "\n",
    "    # Add the heatmap to the first subplot\n",
    "    for trace in heatmap1.data:\n",
    "        fig.add_trace(trace, row=1, col=1)\n",
    "\n",
    "    # Create a heatmap for the second data frame\n",
    "    heatmap2 = ff.create_annotated_heatmap(\n",
    "        z=df2.set_index('Cluster').values,\n",
    "        x=x_labels,\n",
    "        y=[f'k{i}' for i in range(n)],\n",
    "        colorscale='Reds',\n",
    "        annotation_text=df2.set_index('Cluster').applymap('{:.2f}'.format).values,\n",
    "        showscale=True\n",
    "\n",
    "    )\n",
    "\n",
    "    # Add the heatmap to the second subplot\n",
    "    for trace in heatmap2.data:\n",
    "        fig.add_trace(trace, row=1, col=2)\n",
    "\n",
    "    # Create a heatmap for the third data frame\n",
    "    heatmap3 = ff.create_annotated_heatmap(\n",
    "        z=df3.set_index('Cluster').values,\n",
    "        x=x_labels,\n",
    "        y=[f'k{i}' for i in range(n)],\n",
    "        colorscale='Reds',\n",
    "        annotation_text=df3.set_index('Cluster').applymap('{:.2f}'.format).values,\n",
    "        showscale=True\n",
    "\n",
    "    )\n",
    "\n",
    "    # Add the heatmap to the third subplot\n",
    "    for trace in heatmap3.data:\n",
    "        fig.add_trace(trace, row=1, col=3)\n",
    "    # Update the colorbar for the first heatmap\n",
    "    fig['data'][0].update(colorbar=dict(x=0.3,y=1.2, len=0.5))\n",
    "\n",
    "    # Update the colorbar for the second heatmap\n",
    "    fig['data'][1].update(colorbar=dict(x=0.65,y=1.2, len=0.5))\n",
    "\n",
    "    # Update the colorbar for the third heatmap\n",
    "    fig['data'][2].update(colorbar=dict(x=1,y=1.2, len=0.5))\n",
    "    # Update the layout of the figure\n",
    "    fig.update_layout(title=name, height=500, width=1500)\n",
    "    fig.show()"
   ]
  },
  {
   "cell_type": "code",
   "execution_count": 181,
   "metadata": {},
   "outputs": [
    {
     "data": {
      "application/vnd.plotly.v1+json": {
       "config": {
        "plotlyServerURL": "https://plot.ly"
       },
       "data": [
        {
         "colorbar": {
          "len": 0.5,
          "x": 0.3,
          "y": 1.2
         },
         "colorscale": [
          [
           0,
           "rgb(255,245,240)"
          ],
          [
           0.125,
           "rgb(254,224,210)"
          ],
          [
           0.25,
           "rgb(252,187,161)"
          ],
          [
           0.375,
           "rgb(252,146,114)"
          ],
          [
           0.5,
           "rgb(251,106,74)"
          ],
          [
           0.625,
           "rgb(239,59,44)"
          ],
          [
           0.75,
           "rgb(203,24,29)"
          ],
          [
           0.875,
           "rgb(165,15,21)"
          ],
          [
           1,
           "rgb(103,0,13)"
          ]
         ],
         "hovertemplate": "%{z:.2f}",
         "reversescale": false,
         "showscale": true,
         "type": "heatmap",
         "x": [
          "White",
          "Black or African American",
          "American Indian and Alaska Native",
          "Asian",
          "Native Hawaiian and other Pacific Islander",
          "Some other race",
          "Two or more race",
          "Hispanic or Latino",
          "White alone, not Hispanic or Latino"
         ],
         "xaxis": "x",
         "y": [
          "k0",
          "k1",
          "k2",
          "k3"
         ],
         "yaxis": "y",
         "z": [
          [
           0.5200345706247027,
           3.097044833193279,
           1.8929481874285299,
           0.24169459856654063,
           1.1318055164514609,
           1.379803631959818,
           0.51714922646963,
           1.5637230035203316,
           0.46832386565957673
          ],
          [
           0.5974756460433948,
           3.5774852137910806,
           2.431279749591178,
           0.39443079076320614,
           6.476156461843173,
           0.9864325599804096,
           0.4758185271029676,
           1.0241095739495099,
           0.5199065635941883
          ],
          [
           0.4499246090780235,
           2.1252514056345544,
           0.8793180173368612,
           0.12452260809250507,
           0.48027743582979937,
           0.4909109435864556,
           0.2579105924405665,
           0.7098413914631624,
           0.4212609335955699
          ],
          [
           0.6432802984848172,
           7.353779861859197,
           2.5613942434644836,
           0.3788489440593261,
           3.2710280373831773,
           6.357247916326197,
           0.6521258566059981,
           4.585054787138495,
           0.6200123272562124
          ]
         ]
        },
        {
         "colorbar": {
          "len": 0.5,
          "x": 0.65,
          "y": 1.2
         },
         "colorscale": [
          [
           0,
           "rgb(255,245,240)"
          ],
          [
           0.125,
           "rgb(254,224,210)"
          ],
          [
           0.25,
           "rgb(252,187,161)"
          ],
          [
           0.375,
           "rgb(252,146,114)"
          ],
          [
           0.5,
           "rgb(251,106,74)"
          ],
          [
           0.625,
           "rgb(239,59,44)"
          ],
          [
           0.75,
           "rgb(203,24,29)"
          ],
          [
           0.875,
           "rgb(165,15,21)"
          ],
          [
           1,
           "rgb(103,0,13)"
          ]
         ],
         "reversescale": false,
         "showscale": true,
         "type": "heatmap",
         "x": [
          "White",
          "Black or African American",
          "American Indian and Alaska Native",
          "Asian",
          "Native Hawaiian and other Pacific Islander",
          "Some other race",
          "Two or more race",
          "Hispanic or Latino",
          "White alone, not Hispanic or Latino"
         ],
         "xaxis": "x2",
         "y": [
          "k0",
          "k1",
          "k2",
          "k3"
         ],
         "yaxis": "y2",
         "z": [
          [
           0.7942259137614291,
           4.031780947798646,
           1.7438239414780974,
           0.2402468920821812,
           0.8312785489901291,
           0.9108656827374169,
           0.46436825241300655,
           1.308537081441108,
           0.7335566857280507
          ],
          [
           1.0784851373116937,
           6.60641705152489,
           4.302570875994444,
           0.7767952587933253,
           11.502742540783485,
           1.7700343507801066,
           0.8617719089567905,
           1.8633241464712218,
           0.9291883653793775
          ],
          [
           1.0910793177097047,
           11.957129817742839,
           4.1954590325765055,
           0.6197280082630401,
           5.381165919282512,
           9.963616008956059,
           1.0431308722349633,
           7.462562396006655,
           1.0506152980067578
          ],
          [
           1.0302808716684533,
           5.740325371846087,
           3.0507279759424035,
           0.5734015958323844,
           2.1750774622508326,
           2.9058902012323706,
           1.0911821153157515,
           3.242431733264949,
           0.9115055337733627
          ]
         ]
        },
        {
         "colorbar": {
          "len": 0.5,
          "x": 1,
          "y": 1.2
         },
         "colorscale": [
          [
           0,
           "rgb(255,245,240)"
          ],
          [
           0.125,
           "rgb(254,224,210)"
          ],
          [
           0.25,
           "rgb(252,187,161)"
          ],
          [
           0.375,
           "rgb(252,146,114)"
          ],
          [
           0.5,
           "rgb(251,106,74)"
          ],
          [
           0.625,
           "rgb(239,59,44)"
          ],
          [
           0.75,
           "rgb(203,24,29)"
          ],
          [
           0.875,
           "rgb(165,15,21)"
          ],
          [
           1,
           "rgb(103,0,13)"
          ]
         ],
         "reversescale": false,
         "showscale": true,
         "type": "heatmap",
         "x": [
          "White",
          "Black or African American",
          "American Indian and Alaska Native",
          "Asian",
          "Native Hawaiian and other Pacific Islander",
          "Some other race",
          "Two or more race",
          "Hispanic or Latino",
          "White alone, not Hispanic or Latino"
         ],
         "xaxis": "x3",
         "y": [
          "k0",
          "k1",
          "k2",
          "k3"
         ],
         "yaxis": "y3",
         "z": [
          [
           0.12423672860738966,
           0.49037505352298194,
           0.5855084629722757,
           0.03840970153569915,
           0.2410396798572219,
           0.14698074468222463,
           0.12282992160110942,
           0.19283557028056955,
           0.11650196967767033
          ],
          [
           0.04903105300023348,
           0.285442435775452,
           0.6812939219998927,
           0.028522532800912718,
           2.666666666666667,
           0.06640106241699867,
           0.10065425264217413,
           0.11144722177997134,
           0.04893986134831005
          ],
          [
           0.1018066089034565,
           0.2739446585501705,
           0.17095686382060335,
           0.02550883926511048,
           0.12979208755778576,
           0.0466591055829273,
           0.058969182696639796,
           0.09051044640895271,
           0.107005750529755
          ],
          [
           0.21117702393979534,
           1.9923870923493707,
           0.6814310051107325,
           0.16674245869334545,
           0.975609756097561,
           1.296150824823252,
           0.26422018348623855,
           1.209992193598751,
           0.20490521000793
          ]
         ]
        }
       ],
       "layout": {
        "annotations": [
         {
          "font": {
           "size": 16
          },
          "showarrow": false,
          "text": "Total",
          "x": 0.14444444444444446,
          "xanchor": "center",
          "xref": "paper",
          "y": 1,
          "yanchor": "bottom",
          "yref": "paper"
         },
         {
          "font": {
           "size": 16
          },
          "showarrow": false,
          "text": "Men",
          "x": 0.5,
          "xanchor": "center",
          "xref": "paper",
          "y": 1,
          "yanchor": "bottom",
          "yref": "paper"
         },
         {
          "font": {
           "size": 16
          },
          "showarrow": false,
          "text": "Women",
          "x": 0.8555555555555556,
          "xanchor": "center",
          "xref": "paper",
          "y": 1,
          "yanchor": "bottom",
          "yref": "paper"
         }
        ],
        "height": 500,
        "template": {
         "data": {
          "bar": [
           {
            "error_x": {
             "color": "#2a3f5f"
            },
            "error_y": {
             "color": "#2a3f5f"
            },
            "marker": {
             "line": {
              "color": "#E5ECF6",
              "width": 0.5
             },
             "pattern": {
              "fillmode": "overlay",
              "size": 10,
              "solidity": 0.2
             }
            },
            "type": "bar"
           }
          ],
          "barpolar": [
           {
            "marker": {
             "line": {
              "color": "#E5ECF6",
              "width": 0.5
             },
             "pattern": {
              "fillmode": "overlay",
              "size": 10,
              "solidity": 0.2
             }
            },
            "type": "barpolar"
           }
          ],
          "carpet": [
           {
            "aaxis": {
             "endlinecolor": "#2a3f5f",
             "gridcolor": "white",
             "linecolor": "white",
             "minorgridcolor": "white",
             "startlinecolor": "#2a3f5f"
            },
            "baxis": {
             "endlinecolor": "#2a3f5f",
             "gridcolor": "white",
             "linecolor": "white",
             "minorgridcolor": "white",
             "startlinecolor": "#2a3f5f"
            },
            "type": "carpet"
           }
          ],
          "choropleth": [
           {
            "colorbar": {
             "outlinewidth": 0,
             "ticks": ""
            },
            "type": "choropleth"
           }
          ],
          "contour": [
           {
            "colorbar": {
             "outlinewidth": 0,
             "ticks": ""
            },
            "colorscale": [
             [
              0,
              "#0d0887"
             ],
             [
              0.1111111111111111,
              "#46039f"
             ],
             [
              0.2222222222222222,
              "#7201a8"
             ],
             [
              0.3333333333333333,
              "#9c179e"
             ],
             [
              0.4444444444444444,
              "#bd3786"
             ],
             [
              0.5555555555555556,
              "#d8576b"
             ],
             [
              0.6666666666666666,
              "#ed7953"
             ],
             [
              0.7777777777777778,
              "#fb9f3a"
             ],
             [
              0.8888888888888888,
              "#fdca26"
             ],
             [
              1,
              "#f0f921"
             ]
            ],
            "type": "contour"
           }
          ],
          "contourcarpet": [
           {
            "colorbar": {
             "outlinewidth": 0,
             "ticks": ""
            },
            "type": "contourcarpet"
           }
          ],
          "heatmap": [
           {
            "colorbar": {
             "outlinewidth": 0,
             "ticks": ""
            },
            "colorscale": [
             [
              0,
              "#0d0887"
             ],
             [
              0.1111111111111111,
              "#46039f"
             ],
             [
              0.2222222222222222,
              "#7201a8"
             ],
             [
              0.3333333333333333,
              "#9c179e"
             ],
             [
              0.4444444444444444,
              "#bd3786"
             ],
             [
              0.5555555555555556,
              "#d8576b"
             ],
             [
              0.6666666666666666,
              "#ed7953"
             ],
             [
              0.7777777777777778,
              "#fb9f3a"
             ],
             [
              0.8888888888888888,
              "#fdca26"
             ],
             [
              1,
              "#f0f921"
             ]
            ],
            "type": "heatmap"
           }
          ],
          "heatmapgl": [
           {
            "colorbar": {
             "outlinewidth": 0,
             "ticks": ""
            },
            "colorscale": [
             [
              0,
              "#0d0887"
             ],
             [
              0.1111111111111111,
              "#46039f"
             ],
             [
              0.2222222222222222,
              "#7201a8"
             ],
             [
              0.3333333333333333,
              "#9c179e"
             ],
             [
              0.4444444444444444,
              "#bd3786"
             ],
             [
              0.5555555555555556,
              "#d8576b"
             ],
             [
              0.6666666666666666,
              "#ed7953"
             ],
             [
              0.7777777777777778,
              "#fb9f3a"
             ],
             [
              0.8888888888888888,
              "#fdca26"
             ],
             [
              1,
              "#f0f921"
             ]
            ],
            "type": "heatmapgl"
           }
          ],
          "histogram": [
           {
            "marker": {
             "pattern": {
              "fillmode": "overlay",
              "size": 10,
              "solidity": 0.2
             }
            },
            "type": "histogram"
           }
          ],
          "histogram2d": [
           {
            "colorbar": {
             "outlinewidth": 0,
             "ticks": ""
            },
            "colorscale": [
             [
              0,
              "#0d0887"
             ],
             [
              0.1111111111111111,
              "#46039f"
             ],
             [
              0.2222222222222222,
              "#7201a8"
             ],
             [
              0.3333333333333333,
              "#9c179e"
             ],
             [
              0.4444444444444444,
              "#bd3786"
             ],
             [
              0.5555555555555556,
              "#d8576b"
             ],
             [
              0.6666666666666666,
              "#ed7953"
             ],
             [
              0.7777777777777778,
              "#fb9f3a"
             ],
             [
              0.8888888888888888,
              "#fdca26"
             ],
             [
              1,
              "#f0f921"
             ]
            ],
            "type": "histogram2d"
           }
          ],
          "histogram2dcontour": [
           {
            "colorbar": {
             "outlinewidth": 0,
             "ticks": ""
            },
            "colorscale": [
             [
              0,
              "#0d0887"
             ],
             [
              0.1111111111111111,
              "#46039f"
             ],
             [
              0.2222222222222222,
              "#7201a8"
             ],
             [
              0.3333333333333333,
              "#9c179e"
             ],
             [
              0.4444444444444444,
              "#bd3786"
             ],
             [
              0.5555555555555556,
              "#d8576b"
             ],
             [
              0.6666666666666666,
              "#ed7953"
             ],
             [
              0.7777777777777778,
              "#fb9f3a"
             ],
             [
              0.8888888888888888,
              "#fdca26"
             ],
             [
              1,
              "#f0f921"
             ]
            ],
            "type": "histogram2dcontour"
           }
          ],
          "mesh3d": [
           {
            "colorbar": {
             "outlinewidth": 0,
             "ticks": ""
            },
            "type": "mesh3d"
           }
          ],
          "parcoords": [
           {
            "line": {
             "colorbar": {
              "outlinewidth": 0,
              "ticks": ""
             }
            },
            "type": "parcoords"
           }
          ],
          "pie": [
           {
            "automargin": true,
            "type": "pie"
           }
          ],
          "scatter": [
           {
            "fillpattern": {
             "fillmode": "overlay",
             "size": 10,
             "solidity": 0.2
            },
            "type": "scatter"
           }
          ],
          "scatter3d": [
           {
            "line": {
             "colorbar": {
              "outlinewidth": 0,
              "ticks": ""
             }
            },
            "marker": {
             "colorbar": {
              "outlinewidth": 0,
              "ticks": ""
             }
            },
            "type": "scatter3d"
           }
          ],
          "scattercarpet": [
           {
            "marker": {
             "colorbar": {
              "outlinewidth": 0,
              "ticks": ""
             }
            },
            "type": "scattercarpet"
           }
          ],
          "scattergeo": [
           {
            "marker": {
             "colorbar": {
              "outlinewidth": 0,
              "ticks": ""
             }
            },
            "type": "scattergeo"
           }
          ],
          "scattergl": [
           {
            "marker": {
             "colorbar": {
              "outlinewidth": 0,
              "ticks": ""
             }
            },
            "type": "scattergl"
           }
          ],
          "scattermapbox": [
           {
            "marker": {
             "colorbar": {
              "outlinewidth": 0,
              "ticks": ""
             }
            },
            "type": "scattermapbox"
           }
          ],
          "scatterpolar": [
           {
            "marker": {
             "colorbar": {
              "outlinewidth": 0,
              "ticks": ""
             }
            },
            "type": "scatterpolar"
           }
          ],
          "scatterpolargl": [
           {
            "marker": {
             "colorbar": {
              "outlinewidth": 0,
              "ticks": ""
             }
            },
            "type": "scatterpolargl"
           }
          ],
          "scatterternary": [
           {
            "marker": {
             "colorbar": {
              "outlinewidth": 0,
              "ticks": ""
             }
            },
            "type": "scatterternary"
           }
          ],
          "surface": [
           {
            "colorbar": {
             "outlinewidth": 0,
             "ticks": ""
            },
            "colorscale": [
             [
              0,
              "#0d0887"
             ],
             [
              0.1111111111111111,
              "#46039f"
             ],
             [
              0.2222222222222222,
              "#7201a8"
             ],
             [
              0.3333333333333333,
              "#9c179e"
             ],
             [
              0.4444444444444444,
              "#bd3786"
             ],
             [
              0.5555555555555556,
              "#d8576b"
             ],
             [
              0.6666666666666666,
              "#ed7953"
             ],
             [
              0.7777777777777778,
              "#fb9f3a"
             ],
             [
              0.8888888888888888,
              "#fdca26"
             ],
             [
              1,
              "#f0f921"
             ]
            ],
            "type": "surface"
           }
          ],
          "table": [
           {
            "cells": {
             "fill": {
              "color": "#EBF0F8"
             },
             "line": {
              "color": "white"
             }
            },
            "header": {
             "fill": {
              "color": "#C8D4E3"
             },
             "line": {
              "color": "white"
             }
            },
            "type": "table"
           }
          ]
         },
         "layout": {
          "annotationdefaults": {
           "arrowcolor": "#2a3f5f",
           "arrowhead": 0,
           "arrowwidth": 1
          },
          "autotypenumbers": "strict",
          "coloraxis": {
           "colorbar": {
            "outlinewidth": 0,
            "ticks": ""
           }
          },
          "colorscale": {
           "diverging": [
            [
             0,
             "#8e0152"
            ],
            [
             0.1,
             "#c51b7d"
            ],
            [
             0.2,
             "#de77ae"
            ],
            [
             0.3,
             "#f1b6da"
            ],
            [
             0.4,
             "#fde0ef"
            ],
            [
             0.5,
             "#f7f7f7"
            ],
            [
             0.6,
             "#e6f5d0"
            ],
            [
             0.7,
             "#b8e186"
            ],
            [
             0.8,
             "#7fbc41"
            ],
            [
             0.9,
             "#4d9221"
            ],
            [
             1,
             "#276419"
            ]
           ],
           "sequential": [
            [
             0,
             "#0d0887"
            ],
            [
             0.1111111111111111,
             "#46039f"
            ],
            [
             0.2222222222222222,
             "#7201a8"
            ],
            [
             0.3333333333333333,
             "#9c179e"
            ],
            [
             0.4444444444444444,
             "#bd3786"
            ],
            [
             0.5555555555555556,
             "#d8576b"
            ],
            [
             0.6666666666666666,
             "#ed7953"
            ],
            [
             0.7777777777777778,
             "#fb9f3a"
            ],
            [
             0.8888888888888888,
             "#fdca26"
            ],
            [
             1,
             "#f0f921"
            ]
           ],
           "sequentialminus": [
            [
             0,
             "#0d0887"
            ],
            [
             0.1111111111111111,
             "#46039f"
            ],
            [
             0.2222222222222222,
             "#7201a8"
            ],
            [
             0.3333333333333333,
             "#9c179e"
            ],
            [
             0.4444444444444444,
             "#bd3786"
            ],
            [
             0.5555555555555556,
             "#d8576b"
            ],
            [
             0.6666666666666666,
             "#ed7953"
            ],
            [
             0.7777777777777778,
             "#fb9f3a"
            ],
            [
             0.8888888888888888,
             "#fdca26"
            ],
            [
             1,
             "#f0f921"
            ]
           ]
          },
          "colorway": [
           "#636efa",
           "#EF553B",
           "#00cc96",
           "#ab63fa",
           "#FFA15A",
           "#19d3f3",
           "#FF6692",
           "#B6E880",
           "#FF97FF",
           "#FECB52"
          ],
          "font": {
           "color": "#2a3f5f"
          },
          "geo": {
           "bgcolor": "white",
           "lakecolor": "white",
           "landcolor": "#E5ECF6",
           "showlakes": true,
           "showland": true,
           "subunitcolor": "white"
          },
          "hoverlabel": {
           "align": "left"
          },
          "hovermode": "closest",
          "mapbox": {
           "style": "light"
          },
          "paper_bgcolor": "white",
          "plot_bgcolor": "#E5ECF6",
          "polar": {
           "angularaxis": {
            "gridcolor": "white",
            "linecolor": "white",
            "ticks": ""
           },
           "bgcolor": "#E5ECF6",
           "radialaxis": {
            "gridcolor": "white",
            "linecolor": "white",
            "ticks": ""
           }
          },
          "scene": {
           "xaxis": {
            "backgroundcolor": "#E5ECF6",
            "gridcolor": "white",
            "gridwidth": 2,
            "linecolor": "white",
            "showbackground": true,
            "ticks": "",
            "zerolinecolor": "white"
           },
           "yaxis": {
            "backgroundcolor": "#E5ECF6",
            "gridcolor": "white",
            "gridwidth": 2,
            "linecolor": "white",
            "showbackground": true,
            "ticks": "",
            "zerolinecolor": "white"
           },
           "zaxis": {
            "backgroundcolor": "#E5ECF6",
            "gridcolor": "white",
            "gridwidth": 2,
            "linecolor": "white",
            "showbackground": true,
            "ticks": "",
            "zerolinecolor": "white"
           }
          },
          "shapedefaults": {
           "line": {
            "color": "#2a3f5f"
           }
          },
          "ternary": {
           "aaxis": {
            "gridcolor": "white",
            "linecolor": "white",
            "ticks": ""
           },
           "baxis": {
            "gridcolor": "white",
            "linecolor": "white",
            "ticks": ""
           },
           "bgcolor": "#E5ECF6",
           "caxis": {
            "gridcolor": "white",
            "linecolor": "white",
            "ticks": ""
           }
          },
          "title": {
           "x": 0.05
          },
          "xaxis": {
           "automargin": true,
           "gridcolor": "white",
           "linecolor": "white",
           "ticks": "",
           "title": {
            "standoff": 15
           },
           "zerolinecolor": "white",
           "zerolinewidth": 2
          },
          "yaxis": {
           "automargin": true,
           "gridcolor": "white",
           "linecolor": "white",
           "ticks": "",
           "title": {
            "standoff": 15
           },
           "zerolinecolor": "white",
           "zerolinewidth": 2
          }
         }
        },
        "title": {
         "text": "Expectation Value Heatmap: Percentage"
        },
        "width": 1500,
        "xaxis": {
         "anchor": "y",
         "domain": [
          0,
          0.2888888888888889
         ]
        },
        "xaxis2": {
         "anchor": "y2",
         "domain": [
          0.35555555555555557,
          0.6444444444444445
         ]
        },
        "xaxis3": {
         "anchor": "y3",
         "domain": [
          0.7111111111111111,
          1
         ]
        },
        "yaxis": {
         "anchor": "x",
         "domain": [
          0,
          1
         ]
        },
        "yaxis2": {
         "anchor": "x2",
         "domain": [
          0,
          1
         ]
        },
        "yaxis3": {
         "anchor": "x3",
         "domain": [
          0,
          1
         ]
        }
       }
      }
     },
     "metadata": {},
     "output_type": "display_data"
    }
   ],
   "source": [
    "heatmaps3df(per_t_df,per_m_df,per_f_df, \"Expectation Value Heatmap: Percentage\")"
   ]
  },
  {
   "cell_type": "code",
   "execution_count": 183,
   "metadata": {},
   "outputs": [
    {
     "data": {
      "application/vnd.plotly.v1+json": {
       "config": {
        "plotlyServerURL": "https://plot.ly"
       },
       "data": [
        {
         "colorbar": {
          "len": 0.5,
          "x": 0.3,
          "y": 1.2
         },
         "colorscale": [
          [
           0,
           "rgb(255,245,240)"
          ],
          [
           0.125,
           "rgb(254,224,210)"
          ],
          [
           0.25,
           "rgb(252,187,161)"
          ],
          [
           0.375,
           "rgb(252,146,114)"
          ],
          [
           0.5,
           "rgb(251,106,74)"
          ],
          [
           0.625,
           "rgb(239,59,44)"
          ],
          [
           0.75,
           "rgb(203,24,29)"
          ],
          [
           0.875,
           "rgb(165,15,21)"
          ],
          [
           1,
           "rgb(103,0,13)"
          ]
         ],
         "hovertemplate": "%{z:.2f}",
         "reversescale": false,
         "showscale": true,
         "type": "heatmap",
         "x": [
          "White",
          "Black or African American",
          "American Indian and Alaska Native",
          "Asian",
          "Native Hawaiian and other Pacific Islander",
          "Some other race",
          "Two or more race",
          "Hispanic or Latino",
          "White alone, not Hispanic or Latino"
         ],
         "xaxis": "x",
         "y": [
          "k0",
          "k1",
          "k2",
          "k3"
         ],
         "yaxis": "y",
         "z": [
          [
           -0.7011131207999587,
           -0.44322122638169603,
           -0.18040085839634726,
           -0.45947291139790736,
           -0.07815349457005774,
           -0.20825547732685826,
           -0.3467867246383078,
           -0.33785258127593765,
           -0.6576322865630034
          ],
          [
           1.4333165124329967,
           -0.0616018881175614,
           0.5835442712513206,
           3.817026972355049,
           2.849692352009913,
           1.2188365228476847,
           3.4329449298504144,
           2.565161058744295,
           1.0444113867434393
          ],
          [
           0.9092275129030384,
           0.46627528950056885,
           0.12398056413547147,
           0.23973910421170014,
           -0.2687126403074559,
           -0.0870598232999558,
           0.1247563236662939,
           0.037740506600627576,
           0.8708938283250651
          ],
          [
           0.8914378539750282,
           4.560610067175205,
           1.889306490813825,
           1.5950904172048213,
           1.7507602989235662,
           5.4641279168095345,
           1.167341729788821,
           4.288185695377613,
           1.093163085226975
          ]
         ]
        },
        {
         "colorbar": {
          "len": 0.5,
          "x": 0.65,
          "y": 1.2
         },
         "colorscale": [
          [
           0,
           "rgb(255,245,240)"
          ],
          [
           0.125,
           "rgb(254,224,210)"
          ],
          [
           0.25,
           "rgb(252,187,161)"
          ],
          [
           0.375,
           "rgb(252,146,114)"
          ],
          [
           0.5,
           "rgb(251,106,74)"
          ],
          [
           0.625,
           "rgb(239,59,44)"
          ],
          [
           0.75,
           "rgb(203,24,29)"
          ],
          [
           0.875,
           "rgb(165,15,21)"
          ],
          [
           1,
           "rgb(103,0,13)"
          ]
         ],
         "reversescale": false,
         "showscale": true,
         "type": "heatmap",
         "x": [
          "White",
          "Black or African American",
          "American Indian and Alaska Native",
          "Asian",
          "Native Hawaiian and other Pacific Islander",
          "Some other race",
          "Two or more race",
          "Hispanic or Latino",
          "White alone, not Hispanic or Latino"
         ],
         "xaxis": "x2",
         "y": [
          "k0",
          "k1",
          "k2",
          "k3"
         ],
         "yaxis": "y2",
         "z": [
          [
           0.6816329496554046,
           0.19466780070972595,
           -0.34766895350339005,
           -0.04304129927426627,
           -0.2911541497793122,
           -0.1767754852468503,
           -0.10744786112970782,
           -0.11877761169551977,
           0.712080862845575
          ],
          [
           1.365616224270881,
           -0.5931373628336255,
           -0.18518014413481426,
           4.162157267874834,
           0.4176359615870603,
           1.5630631605635226,
           5.773854966508251,
           4.6348059266601265,
           0.9632148857150706
          ],
          [
           0.6504316945384068,
           1.644638792795422,
           1.641206581327466,
           1.1224604355802559,
           1.4453467563727307,
           1.2378052682889513,
           0.6580105157674632,
           1.0933273455563386,
           0.6000750886457801
          ],
          [
           -0.8796926099479666,
           -0.6524938261581991,
           -0.1740094739820112,
           -0.4832831753120451,
           -0.19220983090567909,
           -0.283278906452275,
           -0.3531966736155054,
           -0.4258159782586339,
           -0.8746712446083741
          ]
         ]
        },
        {
         "colorbar": {
          "len": 0.5,
          "x": 1,
          "y": 1.2
         },
         "colorscale": [
          [
           0,
           "rgb(255,245,240)"
          ],
          [
           0.125,
           "rgb(254,224,210)"
          ],
          [
           0.25,
           "rgb(252,187,161)"
          ],
          [
           0.375,
           "rgb(252,146,114)"
          ],
          [
           0.5,
           "rgb(251,106,74)"
          ],
          [
           0.625,
           "rgb(239,59,44)"
          ],
          [
           0.75,
           "rgb(203,24,29)"
          ],
          [
           0.875,
           "rgb(165,15,21)"
          ],
          [
           1,
           "rgb(103,0,13)"
          ]
         ],
         "reversescale": false,
         "showscale": true,
         "type": "heatmap",
         "x": [
          "White",
          "Black or African American",
          "American Indian and Alaska Native",
          "Asian",
          "Native Hawaiian and other Pacific Islander",
          "Some other race",
          "Two or more race",
          "Hispanic or Latino",
          "White alone, not Hispanic or Latino"
         ],
         "xaxis": "x3",
         "y": [
          "k0",
          "k1",
          "k2",
          "k3"
         ],
         "yaxis": "y3",
         "z": [
          [
           1.1956293283351278,
           0.10769580292514096,
           -0.22812943380200545,
           0.22209069612074503,
           -0.20864692520058836,
           -0.049223478105854174,
           0.18617678790824946,
           0.025137824704207373,
           1.183376591558428
          ],
          [
           -0.7096287332901364,
           -0.44966728225647734,
           -0.6754585801519322,
           -0.3812798550447939,
           -0.17190016823583812,
           -0.3350449395322417,
           -0.6051394243764996,
           -0.42049580368296324,
           -0.6107098100764867
          ],
          [
           1.9329209751488237,
           5.730363491906952,
           1.4398853259818996,
           5.196565596606187,
           1.7141731664990423,
           6.493078843035449,
           2.764197713912654,
           6.281202333600682,
           1.802113144665167
          ],
          [
           -0.2727615411155855,
           0.23050361200883931,
           1.3475079634263554,
           0.018577740585607825,
           0.41301804468723535,
           0.15010053367645543,
           0.6431813252402379,
           0.23177952158033516,
           -0.4235720297140305
          ]
         ]
        }
       ],
       "layout": {
        "annotations": [
         {
          "font": {
           "size": 16
          },
          "showarrow": false,
          "text": "Total",
          "x": 0.14444444444444446,
          "xanchor": "center",
          "xref": "paper",
          "y": 1,
          "yanchor": "bottom",
          "yref": "paper"
         },
         {
          "font": {
           "size": 16
          },
          "showarrow": false,
          "text": "Men",
          "x": 0.5,
          "xanchor": "center",
          "xref": "paper",
          "y": 1,
          "yanchor": "bottom",
          "yref": "paper"
         },
         {
          "font": {
           "size": 16
          },
          "showarrow": false,
          "text": "Women",
          "x": 0.8555555555555556,
          "xanchor": "center",
          "xref": "paper",
          "y": 1,
          "yanchor": "bottom",
          "yref": "paper"
         }
        ],
        "height": 500,
        "template": {
         "data": {
          "bar": [
           {
            "error_x": {
             "color": "#2a3f5f"
            },
            "error_y": {
             "color": "#2a3f5f"
            },
            "marker": {
             "line": {
              "color": "#E5ECF6",
              "width": 0.5
             },
             "pattern": {
              "fillmode": "overlay",
              "size": 10,
              "solidity": 0.2
             }
            },
            "type": "bar"
           }
          ],
          "barpolar": [
           {
            "marker": {
             "line": {
              "color": "#E5ECF6",
              "width": 0.5
             },
             "pattern": {
              "fillmode": "overlay",
              "size": 10,
              "solidity": 0.2
             }
            },
            "type": "barpolar"
           }
          ],
          "carpet": [
           {
            "aaxis": {
             "endlinecolor": "#2a3f5f",
             "gridcolor": "white",
             "linecolor": "white",
             "minorgridcolor": "white",
             "startlinecolor": "#2a3f5f"
            },
            "baxis": {
             "endlinecolor": "#2a3f5f",
             "gridcolor": "white",
             "linecolor": "white",
             "minorgridcolor": "white",
             "startlinecolor": "#2a3f5f"
            },
            "type": "carpet"
           }
          ],
          "choropleth": [
           {
            "colorbar": {
             "outlinewidth": 0,
             "ticks": ""
            },
            "type": "choropleth"
           }
          ],
          "contour": [
           {
            "colorbar": {
             "outlinewidth": 0,
             "ticks": ""
            },
            "colorscale": [
             [
              0,
              "#0d0887"
             ],
             [
              0.1111111111111111,
              "#46039f"
             ],
             [
              0.2222222222222222,
              "#7201a8"
             ],
             [
              0.3333333333333333,
              "#9c179e"
             ],
             [
              0.4444444444444444,
              "#bd3786"
             ],
             [
              0.5555555555555556,
              "#d8576b"
             ],
             [
              0.6666666666666666,
              "#ed7953"
             ],
             [
              0.7777777777777778,
              "#fb9f3a"
             ],
             [
              0.8888888888888888,
              "#fdca26"
             ],
             [
              1,
              "#f0f921"
             ]
            ],
            "type": "contour"
           }
          ],
          "contourcarpet": [
           {
            "colorbar": {
             "outlinewidth": 0,
             "ticks": ""
            },
            "type": "contourcarpet"
           }
          ],
          "heatmap": [
           {
            "colorbar": {
             "outlinewidth": 0,
             "ticks": ""
            },
            "colorscale": [
             [
              0,
              "#0d0887"
             ],
             [
              0.1111111111111111,
              "#46039f"
             ],
             [
              0.2222222222222222,
              "#7201a8"
             ],
             [
              0.3333333333333333,
              "#9c179e"
             ],
             [
              0.4444444444444444,
              "#bd3786"
             ],
             [
              0.5555555555555556,
              "#d8576b"
             ],
             [
              0.6666666666666666,
              "#ed7953"
             ],
             [
              0.7777777777777778,
              "#fb9f3a"
             ],
             [
              0.8888888888888888,
              "#fdca26"
             ],
             [
              1,
              "#f0f921"
             ]
            ],
            "type": "heatmap"
           }
          ],
          "heatmapgl": [
           {
            "colorbar": {
             "outlinewidth": 0,
             "ticks": ""
            },
            "colorscale": [
             [
              0,
              "#0d0887"
             ],
             [
              0.1111111111111111,
              "#46039f"
             ],
             [
              0.2222222222222222,
              "#7201a8"
             ],
             [
              0.3333333333333333,
              "#9c179e"
             ],
             [
              0.4444444444444444,
              "#bd3786"
             ],
             [
              0.5555555555555556,
              "#d8576b"
             ],
             [
              0.6666666666666666,
              "#ed7953"
             ],
             [
              0.7777777777777778,
              "#fb9f3a"
             ],
             [
              0.8888888888888888,
              "#fdca26"
             ],
             [
              1,
              "#f0f921"
             ]
            ],
            "type": "heatmapgl"
           }
          ],
          "histogram": [
           {
            "marker": {
             "pattern": {
              "fillmode": "overlay",
              "size": 10,
              "solidity": 0.2
             }
            },
            "type": "histogram"
           }
          ],
          "histogram2d": [
           {
            "colorbar": {
             "outlinewidth": 0,
             "ticks": ""
            },
            "colorscale": [
             [
              0,
              "#0d0887"
             ],
             [
              0.1111111111111111,
              "#46039f"
             ],
             [
              0.2222222222222222,
              "#7201a8"
             ],
             [
              0.3333333333333333,
              "#9c179e"
             ],
             [
              0.4444444444444444,
              "#bd3786"
             ],
             [
              0.5555555555555556,
              "#d8576b"
             ],
             [
              0.6666666666666666,
              "#ed7953"
             ],
             [
              0.7777777777777778,
              "#fb9f3a"
             ],
             [
              0.8888888888888888,
              "#fdca26"
             ],
             [
              1,
              "#f0f921"
             ]
            ],
            "type": "histogram2d"
           }
          ],
          "histogram2dcontour": [
           {
            "colorbar": {
             "outlinewidth": 0,
             "ticks": ""
            },
            "colorscale": [
             [
              0,
              "#0d0887"
             ],
             [
              0.1111111111111111,
              "#46039f"
             ],
             [
              0.2222222222222222,
              "#7201a8"
             ],
             [
              0.3333333333333333,
              "#9c179e"
             ],
             [
              0.4444444444444444,
              "#bd3786"
             ],
             [
              0.5555555555555556,
              "#d8576b"
             ],
             [
              0.6666666666666666,
              "#ed7953"
             ],
             [
              0.7777777777777778,
              "#fb9f3a"
             ],
             [
              0.8888888888888888,
              "#fdca26"
             ],
             [
              1,
              "#f0f921"
             ]
            ],
            "type": "histogram2dcontour"
           }
          ],
          "mesh3d": [
           {
            "colorbar": {
             "outlinewidth": 0,
             "ticks": ""
            },
            "type": "mesh3d"
           }
          ],
          "parcoords": [
           {
            "line": {
             "colorbar": {
              "outlinewidth": 0,
              "ticks": ""
             }
            },
            "type": "parcoords"
           }
          ],
          "pie": [
           {
            "automargin": true,
            "type": "pie"
           }
          ],
          "scatter": [
           {
            "fillpattern": {
             "fillmode": "overlay",
             "size": 10,
             "solidity": 0.2
            },
            "type": "scatter"
           }
          ],
          "scatter3d": [
           {
            "line": {
             "colorbar": {
              "outlinewidth": 0,
              "ticks": ""
             }
            },
            "marker": {
             "colorbar": {
              "outlinewidth": 0,
              "ticks": ""
             }
            },
            "type": "scatter3d"
           }
          ],
          "scattercarpet": [
           {
            "marker": {
             "colorbar": {
              "outlinewidth": 0,
              "ticks": ""
             }
            },
            "type": "scattercarpet"
           }
          ],
          "scattergeo": [
           {
            "marker": {
             "colorbar": {
              "outlinewidth": 0,
              "ticks": ""
             }
            },
            "type": "scattergeo"
           }
          ],
          "scattergl": [
           {
            "marker": {
             "colorbar": {
              "outlinewidth": 0,
              "ticks": ""
             }
            },
            "type": "scattergl"
           }
          ],
          "scattermapbox": [
           {
            "marker": {
             "colorbar": {
              "outlinewidth": 0,
              "ticks": ""
             }
            },
            "type": "scattermapbox"
           }
          ],
          "scatterpolar": [
           {
            "marker": {
             "colorbar": {
              "outlinewidth": 0,
              "ticks": ""
             }
            },
            "type": "scatterpolar"
           }
          ],
          "scatterpolargl": [
           {
            "marker": {
             "colorbar": {
              "outlinewidth": 0,
              "ticks": ""
             }
            },
            "type": "scatterpolargl"
           }
          ],
          "scatterternary": [
           {
            "marker": {
             "colorbar": {
              "outlinewidth": 0,
              "ticks": ""
             }
            },
            "type": "scatterternary"
           }
          ],
          "surface": [
           {
            "colorbar": {
             "outlinewidth": 0,
             "ticks": ""
            },
            "colorscale": [
             [
              0,
              "#0d0887"
             ],
             [
              0.1111111111111111,
              "#46039f"
             ],
             [
              0.2222222222222222,
              "#7201a8"
             ],
             [
              0.3333333333333333,
              "#9c179e"
             ],
             [
              0.4444444444444444,
              "#bd3786"
             ],
             [
              0.5555555555555556,
              "#d8576b"
             ],
             [
              0.6666666666666666,
              "#ed7953"
             ],
             [
              0.7777777777777778,
              "#fb9f3a"
             ],
             [
              0.8888888888888888,
              "#fdca26"
             ],
             [
              1,
              "#f0f921"
             ]
            ],
            "type": "surface"
           }
          ],
          "table": [
           {
            "cells": {
             "fill": {
              "color": "#EBF0F8"
             },
             "line": {
              "color": "white"
             }
            },
            "header": {
             "fill": {
              "color": "#C8D4E3"
             },
             "line": {
              "color": "white"
             }
            },
            "type": "table"
           }
          ]
         },
         "layout": {
          "annotationdefaults": {
           "arrowcolor": "#2a3f5f",
           "arrowhead": 0,
           "arrowwidth": 1
          },
          "autotypenumbers": "strict",
          "coloraxis": {
           "colorbar": {
            "outlinewidth": 0,
            "ticks": ""
           }
          },
          "colorscale": {
           "diverging": [
            [
             0,
             "#8e0152"
            ],
            [
             0.1,
             "#c51b7d"
            ],
            [
             0.2,
             "#de77ae"
            ],
            [
             0.3,
             "#f1b6da"
            ],
            [
             0.4,
             "#fde0ef"
            ],
            [
             0.5,
             "#f7f7f7"
            ],
            [
             0.6,
             "#e6f5d0"
            ],
            [
             0.7,
             "#b8e186"
            ],
            [
             0.8,
             "#7fbc41"
            ],
            [
             0.9,
             "#4d9221"
            ],
            [
             1,
             "#276419"
            ]
           ],
           "sequential": [
            [
             0,
             "#0d0887"
            ],
            [
             0.1111111111111111,
             "#46039f"
            ],
            [
             0.2222222222222222,
             "#7201a8"
            ],
            [
             0.3333333333333333,
             "#9c179e"
            ],
            [
             0.4444444444444444,
             "#bd3786"
            ],
            [
             0.5555555555555556,
             "#d8576b"
            ],
            [
             0.6666666666666666,
             "#ed7953"
            ],
            [
             0.7777777777777778,
             "#fb9f3a"
            ],
            [
             0.8888888888888888,
             "#fdca26"
            ],
            [
             1,
             "#f0f921"
            ]
           ],
           "sequentialminus": [
            [
             0,
             "#0d0887"
            ],
            [
             0.1111111111111111,
             "#46039f"
            ],
            [
             0.2222222222222222,
             "#7201a8"
            ],
            [
             0.3333333333333333,
             "#9c179e"
            ],
            [
             0.4444444444444444,
             "#bd3786"
            ],
            [
             0.5555555555555556,
             "#d8576b"
            ],
            [
             0.6666666666666666,
             "#ed7953"
            ],
            [
             0.7777777777777778,
             "#fb9f3a"
            ],
            [
             0.8888888888888888,
             "#fdca26"
            ],
            [
             1,
             "#f0f921"
            ]
           ]
          },
          "colorway": [
           "#636efa",
           "#EF553B",
           "#00cc96",
           "#ab63fa",
           "#FFA15A",
           "#19d3f3",
           "#FF6692",
           "#B6E880",
           "#FF97FF",
           "#FECB52"
          ],
          "font": {
           "color": "#2a3f5f"
          },
          "geo": {
           "bgcolor": "white",
           "lakecolor": "white",
           "landcolor": "#E5ECF6",
           "showlakes": true,
           "showland": true,
           "subunitcolor": "white"
          },
          "hoverlabel": {
           "align": "left"
          },
          "hovermode": "closest",
          "mapbox": {
           "style": "light"
          },
          "paper_bgcolor": "white",
          "plot_bgcolor": "#E5ECF6",
          "polar": {
           "angularaxis": {
            "gridcolor": "white",
            "linecolor": "white",
            "ticks": ""
           },
           "bgcolor": "#E5ECF6",
           "radialaxis": {
            "gridcolor": "white",
            "linecolor": "white",
            "ticks": ""
           }
          },
          "scene": {
           "xaxis": {
            "backgroundcolor": "#E5ECF6",
            "gridcolor": "white",
            "gridwidth": 2,
            "linecolor": "white",
            "showbackground": true,
            "ticks": "",
            "zerolinecolor": "white"
           },
           "yaxis": {
            "backgroundcolor": "#E5ECF6",
            "gridcolor": "white",
            "gridwidth": 2,
            "linecolor": "white",
            "showbackground": true,
            "ticks": "",
            "zerolinecolor": "white"
           },
           "zaxis": {
            "backgroundcolor": "#E5ECF6",
            "gridcolor": "white",
            "gridwidth": 2,
            "linecolor": "white",
            "showbackground": true,
            "ticks": "",
            "zerolinecolor": "white"
           }
          },
          "shapedefaults": {
           "line": {
            "color": "#2a3f5f"
           }
          },
          "ternary": {
           "aaxis": {
            "gridcolor": "white",
            "linecolor": "white",
            "ticks": ""
           },
           "baxis": {
            "gridcolor": "white",
            "linecolor": "white",
            "ticks": ""
           },
           "bgcolor": "#E5ECF6",
           "caxis": {
            "gridcolor": "white",
            "linecolor": "white",
            "ticks": ""
           }
          },
          "title": {
           "x": 0.05
          },
          "xaxis": {
           "automargin": true,
           "gridcolor": "white",
           "linecolor": "white",
           "ticks": "",
           "title": {
            "standoff": 15
           },
           "zerolinecolor": "white",
           "zerolinewidth": 2
          },
          "yaxis": {
           "automargin": true,
           "gridcolor": "white",
           "linecolor": "white",
           "ticks": "",
           "title": {
            "standoff": 15
           },
           "zerolinecolor": "white",
           "zerolinewidth": 2
          }
         }
        },
        "title": {
         "text": "Expectation Value Heatmap: Rate"
        },
        "width": 1500,
        "xaxis": {
         "anchor": "y",
         "domain": [
          0,
          0.2888888888888889
         ]
        },
        "xaxis2": {
         "anchor": "y2",
         "domain": [
          0.35555555555555557,
          0.6444444444444445
         ]
        },
        "xaxis3": {
         "anchor": "y3",
         "domain": [
          0.7111111111111111,
          1
         ]
        },
        "yaxis": {
         "anchor": "x",
         "domain": [
          0,
          1
         ]
        },
        "yaxis2": {
         "anchor": "x2",
         "domain": [
          0,
          1
         ]
        },
        "yaxis3": {
         "anchor": "x3",
         "domain": [
          0,
          1
         ]
        }
       }
      }
     },
     "metadata": {},
     "output_type": "display_data"
    }
   ],
   "source": [
    "heatmaps3df(rate_t_df,rate_m_df,rate_f_df, \"Expectation Value Heatmap: Rate\")"
   ]
  },
  {
   "cell_type": "code",
   "execution_count": 185,
   "metadata": {},
   "outputs": [
    {
     "data": {
      "application/vnd.plotly.v1+json": {
       "config": {
        "plotlyServerURL": "https://plot.ly"
       },
       "data": [
        {
         "colorbar": {
          "len": 0.5,
          "x": 0.3,
          "y": 1.2
         },
         "colorscale": [
          [
           0,
           "rgb(255,245,240)"
          ],
          [
           0.125,
           "rgb(254,224,210)"
          ],
          [
           0.25,
           "rgb(252,187,161)"
          ],
          [
           0.375,
           "rgb(252,146,114)"
          ],
          [
           0.5,
           "rgb(251,106,74)"
          ],
          [
           0.625,
           "rgb(239,59,44)"
          ],
          [
           0.75,
           "rgb(203,24,29)"
          ],
          [
           0.875,
           "rgb(165,15,21)"
          ],
          [
           1,
           "rgb(103,0,13)"
          ]
         ],
         "hovertemplate": "%{z:.2f}",
         "reversescale": false,
         "showscale": true,
         "type": "heatmap",
         "x": [
          "White",
          "Black or African American",
          "American Indian and Alaska Native",
          "Asian",
          "Native Hawaiian and other Pacific Islander",
          "Some other race",
          "Two or more race",
          "Hispanic or Latino",
          "White alone, not Hispanic or Latino"
         ],
         "xaxis": "x",
         "y": [
          "k0",
          "k1",
          "k2",
          "k3"
         ],
         "yaxis": "y",
         "z": [
          [
           0.3294916896487018,
           0.7085570177026425,
           -0.2361895279116245,
           -0.08413142737855754,
           -0.22262967165522696,
           -0.08543347492828851,
           0.09168893989957005,
           -0.06627825340115068,
           0.5746784846790084
          ],
          [
           4.2198779013938115,
           2.868602066553204,
           1.3780177395032525,
           4.125871560091268,
           1.0856544867264668,
           4.5948213320298965,
           3.9635386885837294,
           4.7456274575601665,
           3.45444469991065
          ],
          [
           -0.05868441574916269,
           -0.5218505757808506,
           2.30253947274927,
           0.7551957878762958,
           2.839867663233086,
           0.2785738527321728,
           0.9358810937834198,
           0.1580924559737951,
           -0.12934707862280245
          ],
          [
           -0.48946734376609546,
           -0.5836440939452214,
           -0.18662904809810582,
           -0.3104470617585305,
           -0.23046820252958988,
           -0.2926745404671419,
           -0.42707315781758554,
           -0.3025008179938277,
           -0.5815538237301738
          ]
         ]
        },
        {
         "colorbar": {
          "len": 0.5,
          "x": 0.65,
          "y": 1.2
         },
         "colorscale": [
          [
           0,
           "rgb(255,245,240)"
          ],
          [
           0.125,
           "rgb(254,224,210)"
          ],
          [
           0.25,
           "rgb(252,187,161)"
          ],
          [
           0.375,
           "rgb(252,146,114)"
          ],
          [
           0.5,
           "rgb(251,106,74)"
          ],
          [
           0.625,
           "rgb(239,59,44)"
          ],
          [
           0.75,
           "rgb(203,24,29)"
          ],
          [
           0.875,
           "rgb(165,15,21)"
          ],
          [
           1,
           "rgb(103,0,13)"
          ]
         ],
         "reversescale": false,
         "showscale": true,
         "type": "heatmap",
         "x": [
          "White",
          "Black or African American",
          "American Indian and Alaska Native",
          "Asian",
          "Native Hawaiian and other Pacific Islander",
          "Some other race",
          "Two or more race",
          "Hispanic or Latino",
          "White alone, not Hispanic or Latino"
         ],
         "xaxis": "x2",
         "y": [
          "k0",
          "k1",
          "k2",
          "k3"
         ],
         "yaxis": "y2",
         "z": [
          [
           -0.09720391017218549,
           -0.03491297508774011,
           0.15778697417584966,
           0.05081350019233424,
           -0.047775419090969454,
           -0.012798669056108781,
           0.06830315436493298,
           0.03504318840177962,
           -0.09533433868161237
          ],
          [
           1.3625967479692358,
           0.5401212271542161,
           -0.6674283244535063,
           -0.2925248437085562,
           -0.3114266427748226,
           0.09935941594301365,
           -0.38385822526290336,
           -0.14257221492362862,
           1.0493538555593076
          ],
          [
           1.5860379942909617,
           0.5323611505806244,
           1.61083520656697,
           3.545786158096,
           5.499526574258182,
           0.9300120475293888,
           1.3552836440429683,
           0.5898944390119514,
           1.1671357122851012
          ],
          [
           -0.052027899351420756,
           -0.025099757646719605,
           -0.6429670550518092,
           -0.49424629781799273,
           -0.30134319441607293,
           -0.06295827862271737,
           -0.3251390213749542,
           -0.1671434356834097,
           0.04521957851791646
          ]
         ]
        },
        {
         "colorbar": {
          "len": 0.5,
          "x": 1,
          "y": 1.2
         },
         "colorscale": [
          [
           0,
           "rgb(255,245,240)"
          ],
          [
           0.125,
           "rgb(254,224,210)"
          ],
          [
           0.25,
           "rgb(252,187,161)"
          ],
          [
           0.375,
           "rgb(252,146,114)"
          ],
          [
           0.5,
           "rgb(251,106,74)"
          ],
          [
           0.625,
           "rgb(239,59,44)"
          ],
          [
           0.75,
           "rgb(203,24,29)"
          ],
          [
           0.875,
           "rgb(165,15,21)"
          ],
          [
           1,
           "rgb(103,0,13)"
          ]
         ],
         "reversescale": false,
         "showscale": true,
         "type": "heatmap",
         "x": [
          "White",
          "Black or African American",
          "American Indian and Alaska Native",
          "Asian",
          "Native Hawaiian and other Pacific Islander",
          "Some other race",
          "Two or more race",
          "Hispanic or Latino",
          "White alone, not Hispanic or Latino"
         ],
         "xaxis": "x3",
         "y": [
          "k0",
          "k1",
          "k2",
          "k3"
         ],
         "yaxis": "y3",
         "z": [
          [
           -0.07282856013345201,
           -0.0070268552732749845,
           0.01600739489102961,
           -0.013623676429445583,
           -0.0031168528539341303,
           -0.005603892918137066,
           0.019142301346435558,
           0.009496679712155351,
           -0.07961142406151345
          ],
          [
           1.0416542097197894,
           0.11183794919149256,
           -0.5278149135880549,
           -0.21327246192277638,
           -0.36078770573846913,
           -0.0675609520037082,
           -0.27209237629978744,
           -0.1877391423574313,
           1.3332766843214008
          ],
          [
           0.016218253796061705,
           0.28048247575009244,
           -0.06124681554569454,
           -0.3678392635950325,
           -0.11335754071846638,
           -0.02671014381541954,
           -0.28750501635162723,
           -0.21725073668205772,
           -0.1880497890389832
          ],
          [
           1.3962442131700503,
           -0.1668693210158778,
           0.3485216879523784,
           1.448320656053977,
           0.9845418891842436,
           0.43081890789341337,
           -0.08714069567770977,
           0.13688839521345944,
           1.3428447753488246
          ]
         ]
        }
       ],
       "layout": {
        "annotations": [
         {
          "font": {
           "size": 16
          },
          "showarrow": false,
          "text": "Total",
          "x": 0.14444444444444446,
          "xanchor": "center",
          "xref": "paper",
          "y": 1,
          "yanchor": "bottom",
          "yref": "paper"
         },
         {
          "font": {
           "size": 16
          },
          "showarrow": false,
          "text": "Men",
          "x": 0.5,
          "xanchor": "center",
          "xref": "paper",
          "y": 1,
          "yanchor": "bottom",
          "yref": "paper"
         },
         {
          "font": {
           "size": 16
          },
          "showarrow": false,
          "text": "Women",
          "x": 0.8555555555555556,
          "xanchor": "center",
          "xref": "paper",
          "y": 1,
          "yanchor": "bottom",
          "yref": "paper"
         }
        ],
        "height": 500,
        "template": {
         "data": {
          "bar": [
           {
            "error_x": {
             "color": "#2a3f5f"
            },
            "error_y": {
             "color": "#2a3f5f"
            },
            "marker": {
             "line": {
              "color": "#E5ECF6",
              "width": 0.5
             },
             "pattern": {
              "fillmode": "overlay",
              "size": 10,
              "solidity": 0.2
             }
            },
            "type": "bar"
           }
          ],
          "barpolar": [
           {
            "marker": {
             "line": {
              "color": "#E5ECF6",
              "width": 0.5
             },
             "pattern": {
              "fillmode": "overlay",
              "size": 10,
              "solidity": 0.2
             }
            },
            "type": "barpolar"
           }
          ],
          "carpet": [
           {
            "aaxis": {
             "endlinecolor": "#2a3f5f",
             "gridcolor": "white",
             "linecolor": "white",
             "minorgridcolor": "white",
             "startlinecolor": "#2a3f5f"
            },
            "baxis": {
             "endlinecolor": "#2a3f5f",
             "gridcolor": "white",
             "linecolor": "white",
             "minorgridcolor": "white",
             "startlinecolor": "#2a3f5f"
            },
            "type": "carpet"
           }
          ],
          "choropleth": [
           {
            "colorbar": {
             "outlinewidth": 0,
             "ticks": ""
            },
            "type": "choropleth"
           }
          ],
          "contour": [
           {
            "colorbar": {
             "outlinewidth": 0,
             "ticks": ""
            },
            "colorscale": [
             [
              0,
              "#0d0887"
             ],
             [
              0.1111111111111111,
              "#46039f"
             ],
             [
              0.2222222222222222,
              "#7201a8"
             ],
             [
              0.3333333333333333,
              "#9c179e"
             ],
             [
              0.4444444444444444,
              "#bd3786"
             ],
             [
              0.5555555555555556,
              "#d8576b"
             ],
             [
              0.6666666666666666,
              "#ed7953"
             ],
             [
              0.7777777777777778,
              "#fb9f3a"
             ],
             [
              0.8888888888888888,
              "#fdca26"
             ],
             [
              1,
              "#f0f921"
             ]
            ],
            "type": "contour"
           }
          ],
          "contourcarpet": [
           {
            "colorbar": {
             "outlinewidth": 0,
             "ticks": ""
            },
            "type": "contourcarpet"
           }
          ],
          "heatmap": [
           {
            "colorbar": {
             "outlinewidth": 0,
             "ticks": ""
            },
            "colorscale": [
             [
              0,
              "#0d0887"
             ],
             [
              0.1111111111111111,
              "#46039f"
             ],
             [
              0.2222222222222222,
              "#7201a8"
             ],
             [
              0.3333333333333333,
              "#9c179e"
             ],
             [
              0.4444444444444444,
              "#bd3786"
             ],
             [
              0.5555555555555556,
              "#d8576b"
             ],
             [
              0.6666666666666666,
              "#ed7953"
             ],
             [
              0.7777777777777778,
              "#fb9f3a"
             ],
             [
              0.8888888888888888,
              "#fdca26"
             ],
             [
              1,
              "#f0f921"
             ]
            ],
            "type": "heatmap"
           }
          ],
          "heatmapgl": [
           {
            "colorbar": {
             "outlinewidth": 0,
             "ticks": ""
            },
            "colorscale": [
             [
              0,
              "#0d0887"
             ],
             [
              0.1111111111111111,
              "#46039f"
             ],
             [
              0.2222222222222222,
              "#7201a8"
             ],
             [
              0.3333333333333333,
              "#9c179e"
             ],
             [
              0.4444444444444444,
              "#bd3786"
             ],
             [
              0.5555555555555556,
              "#d8576b"
             ],
             [
              0.6666666666666666,
              "#ed7953"
             ],
             [
              0.7777777777777778,
              "#fb9f3a"
             ],
             [
              0.8888888888888888,
              "#fdca26"
             ],
             [
              1,
              "#f0f921"
             ]
            ],
            "type": "heatmapgl"
           }
          ],
          "histogram": [
           {
            "marker": {
             "pattern": {
              "fillmode": "overlay",
              "size": 10,
              "solidity": 0.2
             }
            },
            "type": "histogram"
           }
          ],
          "histogram2d": [
           {
            "colorbar": {
             "outlinewidth": 0,
             "ticks": ""
            },
            "colorscale": [
             [
              0,
              "#0d0887"
             ],
             [
              0.1111111111111111,
              "#46039f"
             ],
             [
              0.2222222222222222,
              "#7201a8"
             ],
             [
              0.3333333333333333,
              "#9c179e"
             ],
             [
              0.4444444444444444,
              "#bd3786"
             ],
             [
              0.5555555555555556,
              "#d8576b"
             ],
             [
              0.6666666666666666,
              "#ed7953"
             ],
             [
              0.7777777777777778,
              "#fb9f3a"
             ],
             [
              0.8888888888888888,
              "#fdca26"
             ],
             [
              1,
              "#f0f921"
             ]
            ],
            "type": "histogram2d"
           }
          ],
          "histogram2dcontour": [
           {
            "colorbar": {
             "outlinewidth": 0,
             "ticks": ""
            },
            "colorscale": [
             [
              0,
              "#0d0887"
             ],
             [
              0.1111111111111111,
              "#46039f"
             ],
             [
              0.2222222222222222,
              "#7201a8"
             ],
             [
              0.3333333333333333,
              "#9c179e"
             ],
             [
              0.4444444444444444,
              "#bd3786"
             ],
             [
              0.5555555555555556,
              "#d8576b"
             ],
             [
              0.6666666666666666,
              "#ed7953"
             ],
             [
              0.7777777777777778,
              "#fb9f3a"
             ],
             [
              0.8888888888888888,
              "#fdca26"
             ],
             [
              1,
              "#f0f921"
             ]
            ],
            "type": "histogram2dcontour"
           }
          ],
          "mesh3d": [
           {
            "colorbar": {
             "outlinewidth": 0,
             "ticks": ""
            },
            "type": "mesh3d"
           }
          ],
          "parcoords": [
           {
            "line": {
             "colorbar": {
              "outlinewidth": 0,
              "ticks": ""
             }
            },
            "type": "parcoords"
           }
          ],
          "pie": [
           {
            "automargin": true,
            "type": "pie"
           }
          ],
          "scatter": [
           {
            "fillpattern": {
             "fillmode": "overlay",
             "size": 10,
             "solidity": 0.2
            },
            "type": "scatter"
           }
          ],
          "scatter3d": [
           {
            "line": {
             "colorbar": {
              "outlinewidth": 0,
              "ticks": ""
             }
            },
            "marker": {
             "colorbar": {
              "outlinewidth": 0,
              "ticks": ""
             }
            },
            "type": "scatter3d"
           }
          ],
          "scattercarpet": [
           {
            "marker": {
             "colorbar": {
              "outlinewidth": 0,
              "ticks": ""
             }
            },
            "type": "scattercarpet"
           }
          ],
          "scattergeo": [
           {
            "marker": {
             "colorbar": {
              "outlinewidth": 0,
              "ticks": ""
             }
            },
            "type": "scattergeo"
           }
          ],
          "scattergl": [
           {
            "marker": {
             "colorbar": {
              "outlinewidth": 0,
              "ticks": ""
             }
            },
            "type": "scattergl"
           }
          ],
          "scattermapbox": [
           {
            "marker": {
             "colorbar": {
              "outlinewidth": 0,
              "ticks": ""
             }
            },
            "type": "scattermapbox"
           }
          ],
          "scatterpolar": [
           {
            "marker": {
             "colorbar": {
              "outlinewidth": 0,
              "ticks": ""
             }
            },
            "type": "scatterpolar"
           }
          ],
          "scatterpolargl": [
           {
            "marker": {
             "colorbar": {
              "outlinewidth": 0,
              "ticks": ""
             }
            },
            "type": "scatterpolargl"
           }
          ],
          "scatterternary": [
           {
            "marker": {
             "colorbar": {
              "outlinewidth": 0,
              "ticks": ""
             }
            },
            "type": "scatterternary"
           }
          ],
          "surface": [
           {
            "colorbar": {
             "outlinewidth": 0,
             "ticks": ""
            },
            "colorscale": [
             [
              0,
              "#0d0887"
             ],
             [
              0.1111111111111111,
              "#46039f"
             ],
             [
              0.2222222222222222,
              "#7201a8"
             ],
             [
              0.3333333333333333,
              "#9c179e"
             ],
             [
              0.4444444444444444,
              "#bd3786"
             ],
             [
              0.5555555555555556,
              "#d8576b"
             ],
             [
              0.6666666666666666,
              "#ed7953"
             ],
             [
              0.7777777777777778,
              "#fb9f3a"
             ],
             [
              0.8888888888888888,
              "#fdca26"
             ],
             [
              1,
              "#f0f921"
             ]
            ],
            "type": "surface"
           }
          ],
          "table": [
           {
            "cells": {
             "fill": {
              "color": "#EBF0F8"
             },
             "line": {
              "color": "white"
             }
            },
            "header": {
             "fill": {
              "color": "#C8D4E3"
             },
             "line": {
              "color": "white"
             }
            },
            "type": "table"
           }
          ]
         },
         "layout": {
          "annotationdefaults": {
           "arrowcolor": "#2a3f5f",
           "arrowhead": 0,
           "arrowwidth": 1
          },
          "autotypenumbers": "strict",
          "coloraxis": {
           "colorbar": {
            "outlinewidth": 0,
            "ticks": ""
           }
          },
          "colorscale": {
           "diverging": [
            [
             0,
             "#8e0152"
            ],
            [
             0.1,
             "#c51b7d"
            ],
            [
             0.2,
             "#de77ae"
            ],
            [
             0.3,
             "#f1b6da"
            ],
            [
             0.4,
             "#fde0ef"
            ],
            [
             0.5,
             "#f7f7f7"
            ],
            [
             0.6,
             "#e6f5d0"
            ],
            [
             0.7,
             "#b8e186"
            ],
            [
             0.8,
             "#7fbc41"
            ],
            [
             0.9,
             "#4d9221"
            ],
            [
             1,
             "#276419"
            ]
           ],
           "sequential": [
            [
             0,
             "#0d0887"
            ],
            [
             0.1111111111111111,
             "#46039f"
            ],
            [
             0.2222222222222222,
             "#7201a8"
            ],
            [
             0.3333333333333333,
             "#9c179e"
            ],
            [
             0.4444444444444444,
             "#bd3786"
            ],
            [
             0.5555555555555556,
             "#d8576b"
            ],
            [
             0.6666666666666666,
             "#ed7953"
            ],
            [
             0.7777777777777778,
             "#fb9f3a"
            ],
            [
             0.8888888888888888,
             "#fdca26"
            ],
            [
             1,
             "#f0f921"
            ]
           ],
           "sequentialminus": [
            [
             0,
             "#0d0887"
            ],
            [
             0.1111111111111111,
             "#46039f"
            ],
            [
             0.2222222222222222,
             "#7201a8"
            ],
            [
             0.3333333333333333,
             "#9c179e"
            ],
            [
             0.4444444444444444,
             "#bd3786"
            ],
            [
             0.5555555555555556,
             "#d8576b"
            ],
            [
             0.6666666666666666,
             "#ed7953"
            ],
            [
             0.7777777777777778,
             "#fb9f3a"
            ],
            [
             0.8888888888888888,
             "#fdca26"
            ],
            [
             1,
             "#f0f921"
            ]
           ]
          },
          "colorway": [
           "#636efa",
           "#EF553B",
           "#00cc96",
           "#ab63fa",
           "#FFA15A",
           "#19d3f3",
           "#FF6692",
           "#B6E880",
           "#FF97FF",
           "#FECB52"
          ],
          "font": {
           "color": "#2a3f5f"
          },
          "geo": {
           "bgcolor": "white",
           "lakecolor": "white",
           "landcolor": "#E5ECF6",
           "showlakes": true,
           "showland": true,
           "subunitcolor": "white"
          },
          "hoverlabel": {
           "align": "left"
          },
          "hovermode": "closest",
          "mapbox": {
           "style": "light"
          },
          "paper_bgcolor": "white",
          "plot_bgcolor": "#E5ECF6",
          "polar": {
           "angularaxis": {
            "gridcolor": "white",
            "linecolor": "white",
            "ticks": ""
           },
           "bgcolor": "#E5ECF6",
           "radialaxis": {
            "gridcolor": "white",
            "linecolor": "white",
            "ticks": ""
           }
          },
          "scene": {
           "xaxis": {
            "backgroundcolor": "#E5ECF6",
            "gridcolor": "white",
            "gridwidth": 2,
            "linecolor": "white",
            "showbackground": true,
            "ticks": "",
            "zerolinecolor": "white"
           },
           "yaxis": {
            "backgroundcolor": "#E5ECF6",
            "gridcolor": "white",
            "gridwidth": 2,
            "linecolor": "white",
            "showbackground": true,
            "ticks": "",
            "zerolinecolor": "white"
           },
           "zaxis": {
            "backgroundcolor": "#E5ECF6",
            "gridcolor": "white",
            "gridwidth": 2,
            "linecolor": "white",
            "showbackground": true,
            "ticks": "",
            "zerolinecolor": "white"
           }
          },
          "shapedefaults": {
           "line": {
            "color": "#2a3f5f"
           }
          },
          "ternary": {
           "aaxis": {
            "gridcolor": "white",
            "linecolor": "white",
            "ticks": ""
           },
           "baxis": {
            "gridcolor": "white",
            "linecolor": "white",
            "ticks": ""
           },
           "bgcolor": "#E5ECF6",
           "caxis": {
            "gridcolor": "white",
            "linecolor": "white",
            "ticks": ""
           }
          },
          "title": {
           "x": 0.05
          },
          "xaxis": {
           "automargin": true,
           "gridcolor": "white",
           "linecolor": "white",
           "ticks": "",
           "title": {
            "standoff": 15
           },
           "zerolinecolor": "white",
           "zerolinewidth": 2
          },
          "yaxis": {
           "automargin": true,
           "gridcolor": "white",
           "linecolor": "white",
           "ticks": "",
           "title": {
            "standoff": 15
           },
           "zerolinecolor": "white",
           "zerolinewidth": 2
          }
         }
        },
        "title": {
         "text": "Expectation Value Heatmap: Corr Pop"
        },
        "width": 1500,
        "xaxis": {
         "anchor": "y",
         "domain": [
          0,
          0.2888888888888889
         ]
        },
        "xaxis2": {
         "anchor": "y2",
         "domain": [
          0.35555555555555557,
          0.6444444444444445
         ]
        },
        "xaxis3": {
         "anchor": "y3",
         "domain": [
          0.7111111111111111,
          1
         ]
        },
        "yaxis": {
         "anchor": "x",
         "domain": [
          0,
          1
         ]
        },
        "yaxis2": {
         "anchor": "x2",
         "domain": [
          0,
          1
         ]
        },
        "yaxis3": {
         "anchor": "x3",
         "domain": [
          0,
          1
         ]
        }
       }
      }
     },
     "metadata": {},
     "output_type": "display_data"
    }
   ],
   "source": [
    "heatmaps3df(corr_t_df,corr_m_df,corr_f_df, \"Expectation Value Heatmap: Corr Pop\")"
   ]
  },
  {
   "cell_type": "code",
   "execution_count": 166,
   "metadata": {},
   "outputs": [
    {
     "data": {
      "text/html": [
       "<div>\n",
       "<style scoped>\n",
       "    .dataframe tbody tr th:only-of-type {\n",
       "        vertical-align: middle;\n",
       "    }\n",
       "\n",
       "    .dataframe tbody tr th {\n",
       "        vertical-align: top;\n",
       "    }\n",
       "\n",
       "    .dataframe thead th {\n",
       "        text-align: right;\n",
       "    }\n",
       "</style>\n",
       "<table border=\"1\" class=\"dataframe\">\n",
       "  <thead>\n",
       "    <tr style=\"text-align: right;\">\n",
       "      <th></th>\n",
       "      <th>White alone : in Correctional Facilities for Adults</th>\n",
       "      <th>Black or African American alone : in Correctional Facilities for Adults</th>\n",
       "      <th>American Indian and Alaska Native alone : in Correctional Facilities for Adults</th>\n",
       "      <th>Asian alone : in Correctional Facilities for Adults</th>\n",
       "      <th>Native Hawaiian and other Pacific Islander alone : in Correctional Facilities for Adults</th>\n",
       "      <th>Some other race alone : in Correctional Facilities for Adults</th>\n",
       "      <th>Two or more races : in Correctional Facilities for Adults</th>\n",
       "      <th>Hispanic or Latino : in Correctional Facilities for Adults</th>\n",
       "      <th>White alone, not Hispanic or Latino : in Correctional Facilities for Adults</th>\n",
       "      <th>Cluster</th>\n",
       "    </tr>\n",
       "  </thead>\n",
       "  <tbody>\n",
       "    <tr>\n",
       "      <th>0</th>\n",
       "      <td>-0.097204</td>\n",
       "      <td>-0.034913</td>\n",
       "      <td>0.157787</td>\n",
       "      <td>0.050814</td>\n",
       "      <td>-0.047775</td>\n",
       "      <td>-0.012799</td>\n",
       "      <td>0.068303</td>\n",
       "      <td>0.035043</td>\n",
       "      <td>-0.095334</td>\n",
       "      <td>k0</td>\n",
       "    </tr>\n",
       "    <tr>\n",
       "      <th>1</th>\n",
       "      <td>1.362597</td>\n",
       "      <td>0.540121</td>\n",
       "      <td>-0.667428</td>\n",
       "      <td>-0.292525</td>\n",
       "      <td>-0.311427</td>\n",
       "      <td>0.099359</td>\n",
       "      <td>-0.383858</td>\n",
       "      <td>-0.142572</td>\n",
       "      <td>1.049354</td>\n",
       "      <td>k1</td>\n",
       "    </tr>\n",
       "    <tr>\n",
       "      <th>2</th>\n",
       "      <td>1.586038</td>\n",
       "      <td>0.532361</td>\n",
       "      <td>1.610835</td>\n",
       "      <td>3.545786</td>\n",
       "      <td>5.499527</td>\n",
       "      <td>0.930012</td>\n",
       "      <td>1.355284</td>\n",
       "      <td>0.589894</td>\n",
       "      <td>1.167136</td>\n",
       "      <td>k2</td>\n",
       "    </tr>\n",
       "    <tr>\n",
       "      <th>3</th>\n",
       "      <td>-0.052028</td>\n",
       "      <td>-0.025100</td>\n",
       "      <td>-0.642967</td>\n",
       "      <td>-0.494246</td>\n",
       "      <td>-0.301343</td>\n",
       "      <td>-0.062958</td>\n",
       "      <td>-0.325139</td>\n",
       "      <td>-0.167143</td>\n",
       "      <td>0.045220</td>\n",
       "      <td>k3</td>\n",
       "    </tr>\n",
       "  </tbody>\n",
       "</table>\n",
       "</div>"
      ],
      "text/plain": [
       "   White alone : in Correctional Facilities for Adults  \\\n",
       "0                                          -0.097204     \n",
       "1                                           1.362597     \n",
       "2                                           1.586038     \n",
       "3                                          -0.052028     \n",
       "\n",
       "   Black or African American alone : in Correctional Facilities for Adults  \\\n",
       "0                                          -0.034913                         \n",
       "1                                           0.540121                         \n",
       "2                                           0.532361                         \n",
       "3                                          -0.025100                         \n",
       "\n",
       "   American Indian and Alaska Native alone : in Correctional Facilities for Adults  \\\n",
       "0                                           0.157787                                 \n",
       "1                                          -0.667428                                 \n",
       "2                                           1.610835                                 \n",
       "3                                          -0.642967                                 \n",
       "\n",
       "   Asian alone : in Correctional Facilities for Adults  \\\n",
       "0                                           0.050814     \n",
       "1                                          -0.292525     \n",
       "2                                           3.545786     \n",
       "3                                          -0.494246     \n",
       "\n",
       "   Native Hawaiian and other Pacific Islander alone : in Correctional Facilities for Adults  \\\n",
       "0                                          -0.047775                                          \n",
       "1                                          -0.311427                                          \n",
       "2                                           5.499527                                          \n",
       "3                                          -0.301343                                          \n",
       "\n",
       "   Some other race alone : in Correctional Facilities for Adults  \\\n",
       "0                                          -0.012799               \n",
       "1                                           0.099359               \n",
       "2                                           0.930012               \n",
       "3                                          -0.062958               \n",
       "\n",
       "   Two or more races : in Correctional Facilities for Adults  \\\n",
       "0                                           0.068303           \n",
       "1                                          -0.383858           \n",
       "2                                           1.355284           \n",
       "3                                          -0.325139           \n",
       "\n",
       "   Hispanic or Latino : in Correctional Facilities for Adults  \\\n",
       "0                                           0.035043            \n",
       "1                                          -0.142572            \n",
       "2                                           0.589894            \n",
       "3                                          -0.167143            \n",
       "\n",
       "   White alone, not Hispanic or Latino : in Correctional Facilities for Adults  \\\n",
       "0                                          -0.095334                             \n",
       "1                                           1.049354                             \n",
       "2                                           1.167136                             \n",
       "3                                           0.045220                             \n",
       "\n",
       "  Cluster  \n",
       "0      k0  \n",
       "1      k1  \n",
       "2      k2  \n",
       "3      k3  "
      ]
     },
     "execution_count": 166,
     "metadata": {},
     "output_type": "execute_result"
    }
   ],
   "source": [
    "corr_m_df"
   ]
  },
  {
   "cell_type": "code",
   "execution_count": 167,
   "metadata": {},
   "outputs": [
    {
     "data": {
      "text/plain": [
       "Index([], dtype='object')"
      ]
     },
     "execution_count": 167,
     "metadata": {},
     "output_type": "execute_result"
    }
   ],
   "source": [
    "def has_float_over_100(column):\n",
    "    return (column.dtype == 'float') & (column > 100).any()\n",
    "\n",
    "numeric_columns = full.select_dtypes(include=['float', 'int']).columns\n",
    "columns_with_float_over_100 = full[numeric_columns].apply(has_float_over_100)\n",
    "true_labels = columns_with_float_over_100.loc[columns_with_float_over_100].index\n",
    "true_labels\n",
    "\n",
    "\n"
   ]
  },
  {
   "cell_type": "code",
   "execution_count": 168,
   "metadata": {},
   "outputs": [],
   "source": [
    "# Data frames that onyl consider Incarceration percents\n",
    "percent_df_whole =df.filter(regex='.*(Geography|Percent).*') \n",
    "percent_df_total = percent_df_whole.filter(regex='^(?!.*([Mm]en)).*') # Total percents\n",
    "percent_df_male = percent_df_whole.filter(regex='.*(Geography|Men).*') # Male percents\n",
    "percent_df_female = percent_df_whole.filter(regex='.*(Geography|[Wo]men).*') # Female percents"
   ]
  },
  {
   "cell_type": "code",
   "execution_count": 169,
   "metadata": {},
   "outputs": [
    {
     "name": "stdout",
     "output_type": "stream",
     "text": [
      "Percent White alone : in Correctional Facilities for Adults - Component 0: mean=[0.47684552 0.67235713], cov=[[0.034722   0.03637245]\n",
      " [0.03637245 0.0572403 ]]\n",
      "Percent Black or African American alone : in Correctional Facilities for Adults - Component 0: mean=[2.52460353 0.67235713], cov=[[1.12129203 0.08826953]\n",
      " [0.08826953 0.0572403 ]]\n",
      "Percent American Indian and Alaska Native alone : in Correctional Facilities for Adults - Component 0: mean=[1.22476402 0.67235713], cov=[[ 0.50036408 -0.0121143 ]\n",
      " [-0.0121143   0.0572403 ]]\n",
      "Percent Asian alone : in Correctional Facilities for Adults - Component 0: mean=[0.16908758 0.67235713], cov=[[0.01731023 0.01442256]\n",
      " [0.01442256 0.0572403 ]]\n",
      "Percent Native Hawaiian and other Pacific Islander alone : in Correctional Facilities for Adults - Component 0: mean=[0.92743847 0.67235713], cov=[[1.7916812  0.06237894]\n",
      " [0.06237894 0.0572403 ]]\n",
      "Percent Some other race alone : in Correctional Facilities for Adults - Component 0: mean=[0.84500681 0.67235713], cov=[[1.01764534 0.05572895]\n",
      " [0.05572895 0.0572403 ]]\n",
      "Percent Two or more races : in Correctional Facilities for Adults - Component 0: mean=[0.33868239 0.67235713], cov=[[0.0720325  0.02863148]\n",
      " [0.02863148 0.0572403 ]]\n",
      "Percent Hispanic or Latino : in Correctional Facilities for Adults - Component 0: mean=[1.00992237 0.67235713], cov=[[0.69506037 0.09015936]\n",
      " [0.09015936 0.0572403 ]]\n",
      "Percent White alone, not Hispanic or Latino : in Correctional Facilities for Adults - Component 0: mean=[0.44064287 0.67235713], cov=[[0.026943   0.03053955]\n",
      " [0.03053955 0.0572403 ]]\n"
     ]
    }
   ],
   "source": [
    "def get_race_probabilities(df):\n",
    "    X = df.drop(\"Percent Total : In Correctional Facilities for Adults\", axis=1)\n",
    "    n_components = 1\n",
    "\n",
    "    race_categories = X.columns\n",
    "    for race in race_categories:\n",
    "        # Extract the data for the race category and the total\n",
    "        data = df[[race, \"Percent Total : In Correctional Facilities for Adults\"]].values\n",
    "        \n",
    "        # Fit the Gaussian mixture model with two components\n",
    "        gmm = GaussianMixture(n_components=n_components)\n",
    "        gmm.fit(data)\n",
    "        \n",
    "        # Print the mean and covariance of each component\n",
    "        for i in range(n_components):\n",
    "            print(f\"{race} - Component {i}: mean={gmm.means_[i]}, cov={gmm.covariances_[i]}\")\n",
    "X = getX(percent_df_total)\n",
    "X_copy = X.copy()\n",
    "X_copy[\"Percent Total : In Correctional Facilities for Adults\"] = percent_df_total[\"Percent Total : In Correctional Facilities for Adults\"]\n",
    "# get the predicted probabilities for each race\n",
    "race_probabilities = get_race_probabilities(X_copy)\n"
   ]
  },
  {
   "cell_type": "code",
   "execution_count": 170,
   "metadata": {},
   "outputs": [
    {
     "name": "stdout",
     "output_type": "stream",
     "text": [
      "1\n",
      "[-7.861082910410241, -13.505606554318604, -18.48829580869711, -25.30949961200573, -30.638751271152664, -44.26627764747605, -81.73219417740239, -76.04658184375606, -79.29866291394328, -80.19384214862428]\n"
     ]
    }
   ],
   "source": [
    "X = getX(percent_df_total)\n",
    "feature_names = X.columns\n",
    "\n",
    "# assuming your data is stored in a variable called 'X'\n",
    "n_components = range(1,11)# try different values for the number of components\n",
    "init_params = 'k-means++' # try different initialization methods: 'kmeans' or 'random'\n",
    "reg_covar = 1e-6 # add regularization\n",
    "max_iter = 1000 # set the maximum number of iterations\n",
    "\n",
    "# create a list to store the cross-validation scores for each value of n_components\n",
    "cv_scores = []\n",
    "\n",
    "for i in n_components:\n",
    "    # create the GaussianMixture model\n",
    "    gmm = GaussianMixture(n_components=i, init_params=init_params, reg_covar=reg_covar, max_iter=max_iter)\n",
    "\n",
    "    # compute the cross-validation score for the current value of n_components\n",
    "    scores = cross_val_score(gmm, X, cv=5) # use 5-fold cross-validation\n",
    "    cv_scores.append(scores.mean())\n",
    "\n",
    "# find the value of n_components that gives the highest cross-validation score\n",
    "best_n_components = n_components[np.argmax(cv_scores)]\n",
    "print(best_n_components)\n",
    "print(cv_scores)"
   ]
  },
  {
   "cell_type": "code",
   "execution_count": 171,
   "metadata": {},
   "outputs": [],
   "source": [
    "from sklearn.decomposition import PCA\n",
    "def pca_embeddings(df_scaled):\n",
    "    \"\"\"To reduce the dimensions of the wine dataset we use Principal Component Analysis (PCA).\n",
    "    Here we reduce it from 13 dimensions to 2.\n",
    "    :param df_scaled: scaled data\n",
    "    :return: pca result, pca for plotting graph\n",
    "    \"\"\"\n",
    "\n",
    "    pca_2 = PCA(n_components=2)\n",
    "    pca_2_result = pca_2.fit_transform(df_scaled)\n",
    "    print('Explained variation per principal component: {}'.format(\n",
    "        pca_2.explained_variance_ratio_))\n",
    "    print('Cumulative variance explained by 2 principal components: {:.2%}'.format(\n",
    "        np.sum(pca_2.explained_variance_ratio_)))\n",
    "\n",
    "    # Results from pca.components_\n",
    "    dataset_pca = pd.DataFrame(\n",
    "        abs(pca_2.components_), columns=df_scaled.columns, index=['PC_1', 'PC_2'])\n",
    "    print('\\n\\n', dataset_pca)\n",
    "\n",
    "    print(\"\\n*************** Most important features *************************\")\n",
    "    print('As per PC 1:\\n', (dataset_pca[dataset_pca > 0.3].iloc[0]).dropna())\n",
    "    print('\\n\\nAs per PC 2:\\n',\n",
    "          (dataset_pca[dataset_pca > 0.3].iloc[1]).dropna())\n",
    "    print(\"\\n******************************************************************\")\n",
    "\n",
    "    return pca_2_result, pca_2\n",
    "\n",
    "\n",
    "import numpy as np\n",
    "from scipy.spatial.distance import cdist\n",
    "import plotly.graph_objs as go\n",
    "\n",
    "def visualizing_results_sampling(pca_results, _labels, centroids_pcas):\n",
    "    \"\"\" Visualizing the clusters\n",
    "    :param pca_results: List of PCA applied data arrays\n",
    "    :param kmeans_labels: List of K Means label arrays\n",
    "    :param centroids_pcas: List of PCA format K Means centroid arrays\n",
    "    :param probs: List of prediction probabilities for each data point\n",
    "    \"\"\"\n",
    "\n",
    "    # Calculate the distance of each data point from its cluster center\n",
    "    distances = np.min(cdist(pca_results, centroids_pcas), axis=1)\n",
    "    max_distance = np.max(distances)\n",
    "\n",
    "    # Set opacity based on distance from cluster center\n",
    "    opacity = 1 - distances / max_distance\n",
    "\n",
    "    # Using Plotly for plotting\n",
    "    fig = go.Figure()\n",
    "\n",
    "    pca_result = pca_results\n",
    "    label = _labels\n",
    "    centroids_pca = centroids_pcas\n",
    "\n",
    "    # Add scatter plot for data points\n",
    "    fig.add_trace(\n",
    "        go.Scatter(\n",
    "            x=pca_result[:, 0],\n",
    "            y=pca_result[:, 1],\n",
    "            mode='markers',\n",
    "            marker=dict(\n",
    "                size=8,\n",
    "                color=\"blue\",\n",
    "                opacity=opacity,\n",
    "                \n",
    "            ),\n",
    "            name='Data Points'\n",
    "        )\n",
    "    )\n",
    "\n",
    "    # Add trace for centroids\n",
    "    fig.add_trace(\n",
    "        go.Scatter(\n",
    "            x=centroids_pca[:, 0],\n",
    "            y=centroids_pca[:, 1],\n",
    "            mode='markers',\n",
    "            marker=dict(\n",
    "                size=20,\n",
    "                symbol='x',\n",
    "                color='red'\n",
    "            ),\n",
    "            name='Centroids'\n",
    "        )\n",
    "    )\n",
    "\n",
    "    fig.update_xaxes(title_text='PCA 1')\n",
    "    fig.update_yaxes(title_text='PCA 2')\n",
    "    fig.update_layout(\n",
    "        title='Gaussian Mixture Model with Centroids',\n",
    "        showlegend=False,\n",
    "        height=400,\n",
    "        width=1000,\n",
    "        margin=dict(l=50, r=50, b=50, t=50),\n",
    "        font=dict(\n",
    "            family=\"Arial\",\n",
    "            size=12,\n",
    "            color=\"Black\"\n",
    "        )\n",
    "    )\n",
    "\n",
    "    fig.show()\n",
    "\n",
    "\n",
    "\n",
    "\n",
    "\n",
    "def visualizing_results_cluster(pca_results, _labels, centroids_pcas):\n",
    "    \"\"\" Visualizing the clusters\n",
    "    :param pca_results: List of PCA applied data arrays\n",
    "    :param kmeans_labels: List of K Means label arrays\n",
    "    :param centroids_pcas: List of PCA format K Means centroid arrays\n",
    "    :param probs: List of prediction probabilities for each data point\n",
    "    \"\"\"\n",
    "\n",
    "    fig = go.Figure()\n",
    "\n",
    "    pca_result = pca_results\n",
    "    label = _labels\n",
    "    centroids_pca = centroids_pcas\n",
    "\n",
    "    # Add scatter plot for data points\n",
    "    fig.add_trace(\n",
    "        go.Scatter(\n",
    "            x=pca_result[:, 0],\n",
    "            y=pca_result[:, 1],\n",
    "            mode='markers',\n",
    "            marker=dict(\n",
    "                size=8,\n",
    "                color=label,\n",
    "            ),\n",
    "            name='Data Points'\n",
    "        )\n",
    "    )\n",
    "\n",
    "    # Add trace for centroids\n",
    "    fig.add_trace(\n",
    "        go.Scatter(\n",
    "            x=centroids_pca[:, 0],\n",
    "            y=centroids_pca[:, 1],\n",
    "            mode='markers',\n",
    "            marker=dict(\n",
    "                size=20,\n",
    "                symbol='x',\n",
    "                color='red'\n",
    "            ),\n",
    "            name='Centroids'\n",
    "        )\n",
    "    )\n",
    "\n",
    "    fig.update_xaxes(title_text='PCA 1')\n",
    "    fig.update_yaxes(title_text='PCA 2')\n",
    "    fig.update_layout(\n",
    "        title='K-Mean Clusters with Centroids',\n",
    "        showlegend=False,\n",
    "        height=400,\n",
    "        width=1000,\n",
    "        margin=dict(l=50, r=50, b=50, t=50),\n",
    "        font=dict(\n",
    "            family=\"Arial\",\n",
    "            size=12,\n",
    "            color=\"Black\"\n",
    "        )\n",
    "    )\n",
    "\n",
    "    fig.show()\n"
   ]
  },
  {
   "cell_type": "code",
   "execution_count": 172,
   "metadata": {},
   "outputs": [],
   "source": [
    "def get_cluster_feature_expectations(gmm, X, feature_names):\n",
    "    # Get the probability of each state belonging to each cluster\n",
    "    cluster_probs = gmm.predict_proba(X)\n",
    "    # Calculate the weighted average of the feature values for each cluster\n",
    "    cluster_feature_expectations = pd.DataFrame({\"%\"+feature_name.split(\"Percent\")[1]: (X[feature_name].values[:, np.newaxis] * cluster_probs).sum(axis=0) / cluster_probs.sum(axis=0) for feature_name in feature_names})\n",
    "    return cluster_feature_expectations\n"
   ]
  },
  {
   "attachments": {},
   "cell_type": "markdown",
   "metadata": {},
   "source": [
    "The first two principal components explain 78.96% of the variance in the data related to the racial composition of correctional facilities for adults. This means that these two components capture a significant portion of the patterns in the data."
   ]
  },
  {
   "cell_type": "code",
   "execution_count": 173,
   "metadata": {},
   "outputs": [
    {
     "data": {
      "text/html": [
       "<div>\n",
       "<style scoped>\n",
       "    .dataframe tbody tr th:only-of-type {\n",
       "        vertical-align: middle;\n",
       "    }\n",
       "\n",
       "    .dataframe tbody tr th {\n",
       "        vertical-align: top;\n",
       "    }\n",
       "\n",
       "    .dataframe thead th {\n",
       "        text-align: right;\n",
       "    }\n",
       "</style>\n",
       "<table border=\"1\" class=\"dataframe\">\n",
       "  <thead>\n",
       "    <tr style=\"text-align: right;\">\n",
       "      <th></th>\n",
       "      <th>% White alone : in Correctional Facilities for Adults</th>\n",
       "      <th>% Black or African American alone : in Correctional Facilities for Adults</th>\n",
       "      <th>% American Indian and Alaska Native alone : in Correctional Facilities for Adults</th>\n",
       "      <th>% Asian alone : in Correctional Facilities for Adults</th>\n",
       "      <th>% Native Hawaiian and other Pacific Islander alone : in Correctional Facilities for Adults</th>\n",
       "      <th>% Some other race alone : in Correctional Facilities for Adults</th>\n",
       "      <th>% Two or more races : in Correctional Facilities for Adults</th>\n",
       "      <th>% Hispanic or Latino : in Correctional Facilities for Adults</th>\n",
       "      <th>% White alone, not Hispanic or Latino : in Correctional Facilities for Adults</th>\n",
       "    </tr>\n",
       "  </thead>\n",
       "  <tbody>\n",
       "    <tr>\n",
       "      <th>0</th>\n",
       "      <td>0.476846</td>\n",
       "      <td>2.524604</td>\n",
       "      <td>1.224764</td>\n",
       "      <td>0.169088</td>\n",
       "      <td>0.927438</td>\n",
       "      <td>0.845007</td>\n",
       "      <td>0.338682</td>\n",
       "      <td>1.009922</td>\n",
       "      <td>0.440643</td>\n",
       "    </tr>\n",
       "  </tbody>\n",
       "</table>\n",
       "</div>"
      ],
      "text/plain": [
       "   % White alone : in Correctional Facilities for Adults  \\\n",
       "0                                           0.476846       \n",
       "\n",
       "   % Black or African American alone : in Correctional Facilities for Adults  \\\n",
       "0                                           2.524604                           \n",
       "\n",
       "   % American Indian and Alaska Native alone : in Correctional Facilities for Adults  \\\n",
       "0                                           1.224764                                   \n",
       "\n",
       "   % Asian alone : in Correctional Facilities for Adults  \\\n",
       "0                                           0.169088       \n",
       "\n",
       "   % Native Hawaiian and other Pacific Islander alone : in Correctional Facilities for Adults  \\\n",
       "0                                           0.927438                                            \n",
       "\n",
       "   % Some other race alone : in Correctional Facilities for Adults  \\\n",
       "0                                           0.845007                 \n",
       "\n",
       "   % Two or more races : in Correctional Facilities for Adults  \\\n",
       "0                                           0.338682             \n",
       "\n",
       "   % Hispanic or Latino : in Correctional Facilities for Adults  \\\n",
       "0                                           1.009922              \n",
       "\n",
       "   % White alone, not Hispanic or Latino : in Correctional Facilities for Adults  \n",
       "0                                           0.440643                              "
      ]
     },
     "execution_count": 173,
     "metadata": {},
     "output_type": "execute_result"
    }
   ],
   "source": [
    "n_components = best_n_components\n",
    "init_params = 'k-means++' # try different initialization methods: 'kmeans' or 'random'\n",
    "reg_covar = 1e-6 # add regularization\n",
    "max_iter = 1000 # set the maximum number of iterations\n",
    "\n",
    "\n",
    "# create the GaussianMixture model\n",
    "gmm = GaussianMixture(n_components=n_components, init_params=init_params, reg_covar=reg_covar,  max_iter=max_iter)\n",
    "# gmm = GaussianMixture(n_components=n_components)\n",
    "\n",
    "gmm.fit(X)\n",
    "\n",
    "\n",
    "cluster_feature_expectations = get_cluster_feature_expectations(gmm, X, feature_names)\n",
    "cluster_feature_expectations"
   ]
  },
  {
   "cell_type": "code",
   "execution_count": 174,
   "metadata": {},
   "outputs": [
    {
     "data": {
      "text/html": [
       "<div>\n",
       "<style scoped>\n",
       "    .dataframe tbody tr th:only-of-type {\n",
       "        vertical-align: middle;\n",
       "    }\n",
       "\n",
       "    .dataframe tbody tr th {\n",
       "        vertical-align: top;\n",
       "    }\n",
       "\n",
       "    .dataframe thead th {\n",
       "        text-align: right;\n",
       "    }\n",
       "</style>\n",
       "<table border=\"1\" class=\"dataframe\">\n",
       "  <thead>\n",
       "    <tr style=\"text-align: right;\">\n",
       "      <th></th>\n",
       "      <th>Percent White alone : in Correctional Facilities for Adults</th>\n",
       "      <th>Percent Black or African American alone : in Correctional Facilities for Adults</th>\n",
       "      <th>Percent American Indian and Alaska Native alone : in Correctional Facilities for Adults</th>\n",
       "      <th>Percent Asian alone : in Correctional Facilities for Adults</th>\n",
       "      <th>Percent Native Hawaiian and other Pacific Islander alone : in Correctional Facilities for Adults</th>\n",
       "      <th>Percent Some other race alone : in Correctional Facilities for Adults</th>\n",
       "      <th>Percent Two or more races : in Correctional Facilities for Adults</th>\n",
       "      <th>Percent Hispanic or Latino : in Correctional Facilities for Adults</th>\n",
       "      <th>Percent White alone, not Hispanic or Latino : in Correctional Facilities for Adults</th>\n",
       "    </tr>\n",
       "  </thead>\n",
       "  <tbody>\n",
       "    <tr>\n",
       "      <th>1</th>\n",
       "      <td>0.551292</td>\n",
       "      <td>1.779813</td>\n",
       "      <td>0.283507</td>\n",
       "      <td>0.106353</td>\n",
       "      <td>0.098135</td>\n",
       "      <td>0.290992</td>\n",
       "      <td>0.407012</td>\n",
       "      <td>0.765078</td>\n",
       "      <td>0.534452</td>\n",
       "    </tr>\n",
       "    <tr>\n",
       "      <th>2</th>\n",
       "      <td>0.376919</td>\n",
       "      <td>1.246615</td>\n",
       "      <td>1.476099</td>\n",
       "      <td>0.115380</td>\n",
       "      <td>0.607369</td>\n",
       "      <td>0.261214</td>\n",
       "      <td>0.703614</td>\n",
       "      <td>0.626768</td>\n",
       "      <td>0.364140</td>\n",
       "    </tr>\n",
       "    <tr>\n",
       "      <th>3</th>\n",
       "      <td>0.764990</td>\n",
       "      <td>3.143532</td>\n",
       "      <td>2.243625</td>\n",
       "      <td>0.639520</td>\n",
       "      <td>8.135674</td>\n",
       "      <td>1.667419</td>\n",
       "      <td>0.719652</td>\n",
       "      <td>1.431655</td>\n",
       "      <td>0.626088</td>\n",
       "    </tr>\n",
       "    <tr>\n",
       "      <th>4</th>\n",
       "      <td>0.615037</td>\n",
       "      <td>2.419898</td>\n",
       "      <td>0.750629</td>\n",
       "      <td>0.318542</td>\n",
       "      <td>0.170561</td>\n",
       "      <td>0.554378</td>\n",
       "      <td>0.370111</td>\n",
       "      <td>0.912658</td>\n",
       "      <td>0.591451</td>\n",
       "    </tr>\n",
       "    <tr>\n",
       "      <th>5</th>\n",
       "      <td>0.604947</td>\n",
       "      <td>3.032093</td>\n",
       "      <td>0.995311</td>\n",
       "      <td>0.094240</td>\n",
       "      <td>0.615711</td>\n",
       "      <td>0.703077</td>\n",
       "      <td>0.188114</td>\n",
       "      <td>0.755253</td>\n",
       "      <td>0.452887</td>\n",
       "    </tr>\n",
       "    <tr>\n",
       "      <th>6</th>\n",
       "      <td>0.699623</td>\n",
       "      <td>3.637905</td>\n",
       "      <td>2.933405</td>\n",
       "      <td>0.274046</td>\n",
       "      <td>0.739846</td>\n",
       "      <td>0.501181</td>\n",
       "      <td>0.358932</td>\n",
       "      <td>1.275264</td>\n",
       "      <td>0.508777</td>\n",
       "    </tr>\n",
       "    <tr>\n",
       "      <th>7</th>\n",
       "      <td>0.256347</td>\n",
       "      <td>2.258926</td>\n",
       "      <td>0.764037</td>\n",
       "      <td>0.092207</td>\n",
       "      <td>3.431373</td>\n",
       "      <td>2.140417</td>\n",
       "      <td>0.275152</td>\n",
       "      <td>1.194981</td>\n",
       "      <td>0.241138</td>\n",
       "    </tr>\n",
       "    <tr>\n",
       "      <th>8</th>\n",
       "      <td>0.408492</td>\n",
       "      <td>1.993598</td>\n",
       "      <td>0.143506</td>\n",
       "      <td>0.028022</td>\n",
       "      <td>1.000000</td>\n",
       "      <td>0.150726</td>\n",
       "      <td>0.100612</td>\n",
       "      <td>0.249928</td>\n",
       "      <td>0.413974</td>\n",
       "    </tr>\n",
       "    <tr>\n",
       "      <th>9</th>\n",
       "      <td>0.088132</td>\n",
       "      <td>1.022532</td>\n",
       "      <td>1.010101</td>\n",
       "      <td>0.104483</td>\n",
       "      <td>0.331126</td>\n",
       "      <td>0.406171</td>\n",
       "      <td>0.594826</td>\n",
       "      <td>0.524210</td>\n",
       "      <td>0.050128</td>\n",
       "    </tr>\n",
       "    <tr>\n",
       "      <th>10</th>\n",
       "      <td>0.607804</td>\n",
       "      <td>2.529450</td>\n",
       "      <td>0.589157</td>\n",
       "      <td>0.098280</td>\n",
       "      <td>0.293016</td>\n",
       "      <td>0.352202</td>\n",
       "      <td>0.276780</td>\n",
       "      <td>0.532458</td>\n",
       "      <td>0.623241</td>\n",
       "    </tr>\n",
       "    <tr>\n",
       "      <th>11</th>\n",
       "      <td>0.678296</td>\n",
       "      <td>2.012551</td>\n",
       "      <td>0.578520</td>\n",
       "      <td>0.120203</td>\n",
       "      <td>0.603030</td>\n",
       "      <td>0.805406</td>\n",
       "      <td>0.359055</td>\n",
       "      <td>1.092670</td>\n",
       "      <td>0.636895</td>\n",
       "    </tr>\n",
       "    <tr>\n",
       "      <th>12</th>\n",
       "      <td>0.415034</td>\n",
       "      <td>1.031553</td>\n",
       "      <td>0.624400</td>\n",
       "      <td>0.230061</td>\n",
       "      <td>1.614952</td>\n",
       "      <td>1.036208</td>\n",
       "      <td>0.142844</td>\n",
       "      <td>0.414591</td>\n",
       "      <td>0.412164</td>\n",
       "    </tr>\n",
       "    <tr>\n",
       "      <th>13</th>\n",
       "      <td>0.699183</td>\n",
       "      <td>3.241590</td>\n",
       "      <td>1.758314</td>\n",
       "      <td>0.157323</td>\n",
       "      <td>0.906344</td>\n",
       "      <td>0.682821</td>\n",
       "      <td>0.508540</td>\n",
       "      <td>1.023303</td>\n",
       "      <td>0.654135</td>\n",
       "    </tr>\n",
       "    <tr>\n",
       "      <th>14</th>\n",
       "      <td>0.280980</td>\n",
       "      <td>2.107464</td>\n",
       "      <td>0.818870</td>\n",
       "      <td>0.042424</td>\n",
       "      <td>0.345679</td>\n",
       "      <td>0.469926</td>\n",
       "      <td>0.146561</td>\n",
       "      <td>0.468885</td>\n",
       "      <td>0.256129</td>\n",
       "    </tr>\n",
       "    <tr>\n",
       "      <th>15</th>\n",
       "      <td>0.560836</td>\n",
       "      <td>2.791357</td>\n",
       "      <td>0.888311</td>\n",
       "      <td>0.075141</td>\n",
       "      <td>0.553663</td>\n",
       "      <td>0.428125</td>\n",
       "      <td>0.175135</td>\n",
       "      <td>0.774428</td>\n",
       "      <td>0.539530</td>\n",
       "    </tr>\n",
       "    <tr>\n",
       "      <th>16</th>\n",
       "      <td>0.343009</td>\n",
       "      <td>3.460538</td>\n",
       "      <td>2.246481</td>\n",
       "      <td>0.171394</td>\n",
       "      <td>0.649026</td>\n",
       "      <td>0.258320</td>\n",
       "      <td>0.273752</td>\n",
       "      <td>0.687589</td>\n",
       "      <td>0.323014</td>\n",
       "    </tr>\n",
       "    <tr>\n",
       "      <th>17</th>\n",
       "      <td>0.473977</td>\n",
       "      <td>3.298504</td>\n",
       "      <td>1.190053</td>\n",
       "      <td>0.231693</td>\n",
       "      <td>0.312779</td>\n",
       "      <td>0.318723</td>\n",
       "      <td>0.269978</td>\n",
       "      <td>0.866545</td>\n",
       "      <td>0.416491</td>\n",
       "    </tr>\n",
       "    <tr>\n",
       "      <th>18</th>\n",
       "      <td>0.730482</td>\n",
       "      <td>3.544975</td>\n",
       "      <td>2.490119</td>\n",
       "      <td>0.235030</td>\n",
       "      <td>0.559776</td>\n",
       "      <td>0.874872</td>\n",
       "      <td>0.604989</td>\n",
       "      <td>1.656178</td>\n",
       "      <td>0.705164</td>\n",
       "    </tr>\n",
       "    <tr>\n",
       "      <th>19</th>\n",
       "      <td>0.700905</td>\n",
       "      <td>2.726942</td>\n",
       "      <td>0.487263</td>\n",
       "      <td>0.168254</td>\n",
       "      <td>0.509424</td>\n",
       "      <td>0.520028</td>\n",
       "      <td>0.408874</td>\n",
       "      <td>1.112900</td>\n",
       "      <td>0.672423</td>\n",
       "    </tr>\n",
       "    <tr>\n",
       "      <th>20</th>\n",
       "      <td>0.261271</td>\n",
       "      <td>1.553448</td>\n",
       "      <td>0.746965</td>\n",
       "      <td>0.147373</td>\n",
       "      <td>0.584795</td>\n",
       "      <td>0.469373</td>\n",
       "      <td>0.114608</td>\n",
       "      <td>0.407440</td>\n",
       "      <td>0.259348</td>\n",
       "    </tr>\n",
       "    <tr>\n",
       "      <th>21</th>\n",
       "      <td>0.319651</td>\n",
       "      <td>1.422162</td>\n",
       "      <td>0.195886</td>\n",
       "      <td>0.032931</td>\n",
       "      <td>0.253405</td>\n",
       "      <td>0.148430</td>\n",
       "      <td>0.098963</td>\n",
       "      <td>0.306609</td>\n",
       "      <td>0.308807</td>\n",
       "    </tr>\n",
       "    <tr>\n",
       "      <th>22</th>\n",
       "      <td>0.307679</td>\n",
       "      <td>1.483893</td>\n",
       "      <td>0.981432</td>\n",
       "      <td>0.064042</td>\n",
       "      <td>0.719748</td>\n",
       "      <td>0.384072</td>\n",
       "      <td>0.111626</td>\n",
       "      <td>0.919456</td>\n",
       "      <td>0.238706</td>\n",
       "    </tr>\n",
       "    <tr>\n",
       "      <th>23</th>\n",
       "      <td>0.386038</td>\n",
       "      <td>2.150587</td>\n",
       "      <td>0.917638</td>\n",
       "      <td>0.088162</td>\n",
       "      <td>0.268817</td>\n",
       "      <td>0.168674</td>\n",
       "      <td>0.158910</td>\n",
       "      <td>0.583466</td>\n",
       "      <td>0.371562</td>\n",
       "    </tr>\n",
       "    <tr>\n",
       "      <th>24</th>\n",
       "      <td>0.250151</td>\n",
       "      <td>2.313674</td>\n",
       "      <td>2.642984</td>\n",
       "      <td>0.207250</td>\n",
       "      <td>0.881262</td>\n",
       "      <td>0.293204</td>\n",
       "      <td>0.250909</td>\n",
       "      <td>0.956613</td>\n",
       "      <td>0.215521</td>\n",
       "    </tr>\n",
       "    <tr>\n",
       "      <th>25</th>\n",
       "      <td>0.722808</td>\n",
       "      <td>1.775061</td>\n",
       "      <td>1.031271</td>\n",
       "      <td>0.703131</td>\n",
       "      <td>1.347936</td>\n",
       "      <td>2.481526</td>\n",
       "      <td>1.800217</td>\n",
       "      <td>4.864938</td>\n",
       "      <td>0.597519</td>\n",
       "    </tr>\n",
       "    <tr>\n",
       "      <th>26</th>\n",
       "      <td>0.502685</td>\n",
       "      <td>2.323653</td>\n",
       "      <td>0.686733</td>\n",
       "      <td>0.043840</td>\n",
       "      <td>0.543044</td>\n",
       "      <td>0.325640</td>\n",
       "      <td>0.185410</td>\n",
       "      <td>0.648562</td>\n",
       "      <td>0.493821</td>\n",
       "    </tr>\n",
       "    <tr>\n",
       "      <th>27</th>\n",
       "      <td>0.423747</td>\n",
       "      <td>3.600695</td>\n",
       "      <td>1.907122</td>\n",
       "      <td>0.207900</td>\n",
       "      <td>0.000000</td>\n",
       "      <td>2.510460</td>\n",
       "      <td>0.244234</td>\n",
       "      <td>0.994224</td>\n",
       "      <td>0.421584</td>\n",
       "    </tr>\n",
       "    <tr>\n",
       "      <th>28</th>\n",
       "      <td>0.341612</td>\n",
       "      <td>2.437112</td>\n",
       "      <td>1.774570</td>\n",
       "      <td>0.157929</td>\n",
       "      <td>0.156372</td>\n",
       "      <td>0.243967</td>\n",
       "      <td>0.199949</td>\n",
       "      <td>0.858397</td>\n",
       "      <td>0.281046</td>\n",
       "    </tr>\n",
       "    <tr>\n",
       "      <th>29</th>\n",
       "      <td>0.671354</td>\n",
       "      <td>2.604905</td>\n",
       "      <td>1.325557</td>\n",
       "      <td>0.210811</td>\n",
       "      <td>0.260803</td>\n",
       "      <td>0.281718</td>\n",
       "      <td>0.260956</td>\n",
       "      <td>0.631402</td>\n",
       "      <td>0.603797</td>\n",
       "    </tr>\n",
       "    <tr>\n",
       "      <th>30</th>\n",
       "      <td>0.345293</td>\n",
       "      <td>2.234786</td>\n",
       "      <td>1.142857</td>\n",
       "      <td>0.084486</td>\n",
       "      <td>0.520833</td>\n",
       "      <td>0.795888</td>\n",
       "      <td>0.313348</td>\n",
       "      <td>0.953575</td>\n",
       "      <td>0.334060</td>\n",
       "    </tr>\n",
       "    <tr>\n",
       "      <th>31</th>\n",
       "      <td>0.274678</td>\n",
       "      <td>1.990661</td>\n",
       "      <td>0.726934</td>\n",
       "      <td>0.050983</td>\n",
       "      <td>1.577391</td>\n",
       "      <td>0.451295</td>\n",
       "      <td>0.312522</td>\n",
       "      <td>0.608883</td>\n",
       "      <td>0.218260</td>\n",
       "    </tr>\n",
       "    <tr>\n",
       "      <th>32</th>\n",
       "      <td>0.895675</td>\n",
       "      <td>2.594595</td>\n",
       "      <td>1.039737</td>\n",
       "      <td>0.202070</td>\n",
       "      <td>0.386740</td>\n",
       "      <td>0.561421</td>\n",
       "      <td>0.353201</td>\n",
       "      <td>0.973041</td>\n",
       "      <td>0.655425</td>\n",
       "    </tr>\n",
       "    <tr>\n",
       "      <th>33</th>\n",
       "      <td>0.264124</td>\n",
       "      <td>1.633223</td>\n",
       "      <td>0.696874</td>\n",
       "      <td>0.054638</td>\n",
       "      <td>0.593201</td>\n",
       "      <td>0.579232</td>\n",
       "      <td>0.081250</td>\n",
       "      <td>0.601477</td>\n",
       "      <td>0.217635</td>\n",
       "    </tr>\n",
       "    <tr>\n",
       "      <th>34</th>\n",
       "      <td>0.373429</td>\n",
       "      <td>1.639780</td>\n",
       "      <td>0.880354</td>\n",
       "      <td>0.105282</td>\n",
       "      <td>0.272562</td>\n",
       "      <td>0.311089</td>\n",
       "      <td>0.172649</td>\n",
       "      <td>0.484302</td>\n",
       "      <td>0.353776</td>\n",
       "    </tr>\n",
       "    <tr>\n",
       "      <th>35</th>\n",
       "      <td>0.253366</td>\n",
       "      <td>1.670854</td>\n",
       "      <td>1.981362</td>\n",
       "      <td>0.043422</td>\n",
       "      <td>1.562500</td>\n",
       "      <td>1.624394</td>\n",
       "      <td>0.261537</td>\n",
       "      <td>1.032153</td>\n",
       "      <td>0.244813</td>\n",
       "    </tr>\n",
       "    <tr>\n",
       "      <th>36</th>\n",
       "      <td>0.436598</td>\n",
       "      <td>2.326166</td>\n",
       "      <td>0.703780</td>\n",
       "      <td>0.135773</td>\n",
       "      <td>0.319725</td>\n",
       "      <td>0.833654</td>\n",
       "      <td>0.211133</td>\n",
       "      <td>1.071406</td>\n",
       "      <td>0.421753</td>\n",
       "    </tr>\n",
       "    <tr>\n",
       "      <th>37</th>\n",
       "      <td>0.887676</td>\n",
       "      <td>3.780741</td>\n",
       "      <td>1.057550</td>\n",
       "      <td>0.261233</td>\n",
       "      <td>0.823987</td>\n",
       "      <td>0.970798</td>\n",
       "      <td>0.384058</td>\n",
       "      <td>1.873153</td>\n",
       "      <td>0.766450</td>\n",
       "    </tr>\n",
       "    <tr>\n",
       "      <th>38</th>\n",
       "      <td>0.542530</td>\n",
       "      <td>3.183250</td>\n",
       "      <td>1.311956</td>\n",
       "      <td>0.242102</td>\n",
       "      <td>0.447628</td>\n",
       "      <td>0.543922</td>\n",
       "      <td>0.251452</td>\n",
       "      <td>0.808111</td>\n",
       "      <td>0.505215</td>\n",
       "    </tr>\n",
       "    <tr>\n",
       "      <th>39</th>\n",
       "      <td>0.397625</td>\n",
       "      <td>3.247975</td>\n",
       "      <td>1.028201</td>\n",
       "      <td>0.152111</td>\n",
       "      <td>0.629619</td>\n",
       "      <td>3.189549</td>\n",
       "      <td>0.385561</td>\n",
       "      <td>1.996359</td>\n",
       "      <td>0.374228</td>\n",
       "    </tr>\n",
       "    <tr>\n",
       "      <th>40</th>\n",
       "      <td>0.231424</td>\n",
       "      <td>1.880742</td>\n",
       "      <td>0.445692</td>\n",
       "      <td>0.151033</td>\n",
       "      <td>0.000000</td>\n",
       "      <td>0.879770</td>\n",
       "      <td>0.089114</td>\n",
       "      <td>0.696491</td>\n",
       "      <td>0.209410</td>\n",
       "    </tr>\n",
       "    <tr>\n",
       "      <th>41</th>\n",
       "      <td>0.460261</td>\n",
       "      <td>1.969576</td>\n",
       "      <td>1.044868</td>\n",
       "      <td>0.152411</td>\n",
       "      <td>0.665188</td>\n",
       "      <td>0.939505</td>\n",
       "      <td>0.329017</td>\n",
       "      <td>1.200771</td>\n",
       "      <td>0.427813</td>\n",
       "    </tr>\n",
       "    <tr>\n",
       "      <th>42</th>\n",
       "      <td>0.529031</td>\n",
       "      <td>4.653669</td>\n",
       "      <td>2.570422</td>\n",
       "      <td>0.433640</td>\n",
       "      <td>1.776650</td>\n",
       "      <td>1.711917</td>\n",
       "      <td>0.711682</td>\n",
       "      <td>1.722501</td>\n",
       "      <td>0.506598</td>\n",
       "    </tr>\n",
       "    <tr>\n",
       "      <th>43</th>\n",
       "      <td>0.508742</td>\n",
       "      <td>1.950034</td>\n",
       "      <td>0.665200</td>\n",
       "      <td>0.112887</td>\n",
       "      <td>0.137287</td>\n",
       "      <td>0.440280</td>\n",
       "      <td>0.262706</td>\n",
       "      <td>0.594017</td>\n",
       "      <td>0.502168</td>\n",
       "    </tr>\n",
       "    <tr>\n",
       "      <th>44</th>\n",
       "      <td>0.839661</td>\n",
       "      <td>2.841356</td>\n",
       "      <td>0.582552</td>\n",
       "      <td>0.171885</td>\n",
       "      <td>0.323236</td>\n",
       "      <td>1.077055</td>\n",
       "      <td>0.276288</td>\n",
       "      <td>0.967316</td>\n",
       "      <td>0.765038</td>\n",
       "    </tr>\n",
       "    <tr>\n",
       "      <th>45</th>\n",
       "      <td>0.418018</td>\n",
       "      <td>2.707686</td>\n",
       "      <td>1.479029</td>\n",
       "      <td>0.144705</td>\n",
       "      <td>0.513155</td>\n",
       "      <td>0.561906</td>\n",
       "      <td>0.352234</td>\n",
       "      <td>0.829659</td>\n",
       "      <td>0.366428</td>\n",
       "    </tr>\n",
       "    <tr>\n",
       "      <th>46</th>\n",
       "      <td>0.225896</td>\n",
       "      <td>2.198502</td>\n",
       "      <td>1.314001</td>\n",
       "      <td>0.062917</td>\n",
       "      <td>0.000000</td>\n",
       "      <td>0.617577</td>\n",
       "      <td>0.539384</td>\n",
       "      <td>0.890530</td>\n",
       "      <td>0.220256</td>\n",
       "    </tr>\n",
       "    <tr>\n",
       "      <th>47</th>\n",
       "      <td>0.477560</td>\n",
       "      <td>2.416142</td>\n",
       "      <td>0.653550</td>\n",
       "      <td>0.064562</td>\n",
       "      <td>0.802676</td>\n",
       "      <td>0.259952</td>\n",
       "      <td>0.136675</td>\n",
       "      <td>0.481146</td>\n",
       "      <td>0.465444</td>\n",
       "    </tr>\n",
       "    <tr>\n",
       "      <th>48</th>\n",
       "      <td>0.436305</td>\n",
       "      <td>2.362503</td>\n",
       "      <td>1.424872</td>\n",
       "      <td>0.107885</td>\n",
       "      <td>0.617665</td>\n",
       "      <td>0.198686</td>\n",
       "      <td>0.196532</td>\n",
       "      <td>0.598711</td>\n",
       "      <td>0.391650</td>\n",
       "    </tr>\n",
       "    <tr>\n",
       "      <th>49</th>\n",
       "      <td>0.643280</td>\n",
       "      <td>7.353780</td>\n",
       "      <td>2.561394</td>\n",
       "      <td>0.378849</td>\n",
       "      <td>3.271028</td>\n",
       "      <td>6.357248</td>\n",
       "      <td>0.652126</td>\n",
       "      <td>4.585055</td>\n",
       "      <td>0.620012</td>\n",
       "    </tr>\n",
       "    <tr>\n",
       "      <th>50</th>\n",
       "      <td>0.429961</td>\n",
       "      <td>4.011438</td>\n",
       "      <td>2.618934</td>\n",
       "      <td>0.149342</td>\n",
       "      <td>4.816639</td>\n",
       "      <td>0.305446</td>\n",
       "      <td>0.231985</td>\n",
       "      <td>0.616564</td>\n",
       "      <td>0.413725</td>\n",
       "    </tr>\n",
       "    <tr>\n",
       "      <th>51</th>\n",
       "      <td>0.567401</td>\n",
       "      <td>3.074979</td>\n",
       "      <td>2.197061</td>\n",
       "      <td>0.203344</td>\n",
       "      <td>1.405152</td>\n",
       "      <td>0.697988</td>\n",
       "      <td>0.663377</td>\n",
       "      <td>1.051144</td>\n",
       "      <td>0.529270</td>\n",
       "    </tr>\n",
       "    <tr>\n",
       "      <th>52</th>\n",
       "      <td>0.314148</td>\n",
       "      <td>0.611920</td>\n",
       "      <td>1.078683</td>\n",
       "      <td>0.161031</td>\n",
       "      <td>0.270270</td>\n",
       "      <td>0.302513</td>\n",
       "      <td>0.133338</td>\n",
       "      <td>0.343152</td>\n",
       "      <td>0.590069</td>\n",
       "    </tr>\n",
       "  </tbody>\n",
       "</table>\n",
       "</div>"
      ],
      "text/plain": [
       "    Percent White alone : in Correctional Facilities for Adults  \\\n",
       "1                                            0.551292             \n",
       "2                                            0.376919             \n",
       "3                                            0.764990             \n",
       "4                                            0.615037             \n",
       "5                                            0.604947             \n",
       "6                                            0.699623             \n",
       "7                                            0.256347             \n",
       "8                                            0.408492             \n",
       "9                                            0.088132             \n",
       "10                                           0.607804             \n",
       "11                                           0.678296             \n",
       "12                                           0.415034             \n",
       "13                                           0.699183             \n",
       "14                                           0.280980             \n",
       "15                                           0.560836             \n",
       "16                                           0.343009             \n",
       "17                                           0.473977             \n",
       "18                                           0.730482             \n",
       "19                                           0.700905             \n",
       "20                                           0.261271             \n",
       "21                                           0.319651             \n",
       "22                                           0.307679             \n",
       "23                                           0.386038             \n",
       "24                                           0.250151             \n",
       "25                                           0.722808             \n",
       "26                                           0.502685             \n",
       "27                                           0.423747             \n",
       "28                                           0.341612             \n",
       "29                                           0.671354             \n",
       "30                                           0.345293             \n",
       "31                                           0.274678             \n",
       "32                                           0.895675             \n",
       "33                                           0.264124             \n",
       "34                                           0.373429             \n",
       "35                                           0.253366             \n",
       "36                                           0.436598             \n",
       "37                                           0.887676             \n",
       "38                                           0.542530             \n",
       "39                                           0.397625             \n",
       "40                                           0.231424             \n",
       "41                                           0.460261             \n",
       "42                                           0.529031             \n",
       "43                                           0.508742             \n",
       "44                                           0.839661             \n",
       "45                                           0.418018             \n",
       "46                                           0.225896             \n",
       "47                                           0.477560             \n",
       "48                                           0.436305             \n",
       "49                                           0.643280             \n",
       "50                                           0.429961             \n",
       "51                                           0.567401             \n",
       "52                                           0.314148             \n",
       "\n",
       "    Percent Black or African American alone : in Correctional Facilities for Adults  \\\n",
       "1                                            1.779813                                 \n",
       "2                                            1.246615                                 \n",
       "3                                            3.143532                                 \n",
       "4                                            2.419898                                 \n",
       "5                                            3.032093                                 \n",
       "6                                            3.637905                                 \n",
       "7                                            2.258926                                 \n",
       "8                                            1.993598                                 \n",
       "9                                            1.022532                                 \n",
       "10                                           2.529450                                 \n",
       "11                                           2.012551                                 \n",
       "12                                           1.031553                                 \n",
       "13                                           3.241590                                 \n",
       "14                                           2.107464                                 \n",
       "15                                           2.791357                                 \n",
       "16                                           3.460538                                 \n",
       "17                                           3.298504                                 \n",
       "18                                           3.544975                                 \n",
       "19                                           2.726942                                 \n",
       "20                                           1.553448                                 \n",
       "21                                           1.422162                                 \n",
       "22                                           1.483893                                 \n",
       "23                                           2.150587                                 \n",
       "24                                           2.313674                                 \n",
       "25                                           1.775061                                 \n",
       "26                                           2.323653                                 \n",
       "27                                           3.600695                                 \n",
       "28                                           2.437112                                 \n",
       "29                                           2.604905                                 \n",
       "30                                           2.234786                                 \n",
       "31                                           1.990661                                 \n",
       "32                                           2.594595                                 \n",
       "33                                           1.633223                                 \n",
       "34                                           1.639780                                 \n",
       "35                                           1.670854                                 \n",
       "36                                           2.326166                                 \n",
       "37                                           3.780741                                 \n",
       "38                                           3.183250                                 \n",
       "39                                           3.247975                                 \n",
       "40                                           1.880742                                 \n",
       "41                                           1.969576                                 \n",
       "42                                           4.653669                                 \n",
       "43                                           1.950034                                 \n",
       "44                                           2.841356                                 \n",
       "45                                           2.707686                                 \n",
       "46                                           2.198502                                 \n",
       "47                                           2.416142                                 \n",
       "48                                           2.362503                                 \n",
       "49                                           7.353780                                 \n",
       "50                                           4.011438                                 \n",
       "51                                           3.074979                                 \n",
       "52                                           0.611920                                 \n",
       "\n",
       "    Percent American Indian and Alaska Native alone : in Correctional Facilities for Adults  \\\n",
       "1                                            0.283507                                         \n",
       "2                                            1.476099                                         \n",
       "3                                            2.243625                                         \n",
       "4                                            0.750629                                         \n",
       "5                                            0.995311                                         \n",
       "6                                            2.933405                                         \n",
       "7                                            0.764037                                         \n",
       "8                                            0.143506                                         \n",
       "9                                            1.010101                                         \n",
       "10                                           0.589157                                         \n",
       "11                                           0.578520                                         \n",
       "12                                           0.624400                                         \n",
       "13                                           1.758314                                         \n",
       "14                                           0.818870                                         \n",
       "15                                           0.888311                                         \n",
       "16                                           2.246481                                         \n",
       "17                                           1.190053                                         \n",
       "18                                           2.490119                                         \n",
       "19                                           0.487263                                         \n",
       "20                                           0.746965                                         \n",
       "21                                           0.195886                                         \n",
       "22                                           0.981432                                         \n",
       "23                                           0.917638                                         \n",
       "24                                           2.642984                                         \n",
       "25                                           1.031271                                         \n",
       "26                                           0.686733                                         \n",
       "27                                           1.907122                                         \n",
       "28                                           1.774570                                         \n",
       "29                                           1.325557                                         \n",
       "30                                           1.142857                                         \n",
       "31                                           0.726934                                         \n",
       "32                                           1.039737                                         \n",
       "33                                           0.696874                                         \n",
       "34                                           0.880354                                         \n",
       "35                                           1.981362                                         \n",
       "36                                           0.703780                                         \n",
       "37                                           1.057550                                         \n",
       "38                                           1.311956                                         \n",
       "39                                           1.028201                                         \n",
       "40                                           0.445692                                         \n",
       "41                                           1.044868                                         \n",
       "42                                           2.570422                                         \n",
       "43                                           0.665200                                         \n",
       "44                                           0.582552                                         \n",
       "45                                           1.479029                                         \n",
       "46                                           1.314001                                         \n",
       "47                                           0.653550                                         \n",
       "48                                           1.424872                                         \n",
       "49                                           2.561394                                         \n",
       "50                                           2.618934                                         \n",
       "51                                           2.197061                                         \n",
       "52                                           1.078683                                         \n",
       "\n",
       "    Percent Asian alone : in Correctional Facilities for Adults  \\\n",
       "1                                            0.106353             \n",
       "2                                            0.115380             \n",
       "3                                            0.639520             \n",
       "4                                            0.318542             \n",
       "5                                            0.094240             \n",
       "6                                            0.274046             \n",
       "7                                            0.092207             \n",
       "8                                            0.028022             \n",
       "9                                            0.104483             \n",
       "10                                           0.098280             \n",
       "11                                           0.120203             \n",
       "12                                           0.230061             \n",
       "13                                           0.157323             \n",
       "14                                           0.042424             \n",
       "15                                           0.075141             \n",
       "16                                           0.171394             \n",
       "17                                           0.231693             \n",
       "18                                           0.235030             \n",
       "19                                           0.168254             \n",
       "20                                           0.147373             \n",
       "21                                           0.032931             \n",
       "22                                           0.064042             \n",
       "23                                           0.088162             \n",
       "24                                           0.207250             \n",
       "25                                           0.703131             \n",
       "26                                           0.043840             \n",
       "27                                           0.207900             \n",
       "28                                           0.157929             \n",
       "29                                           0.210811             \n",
       "30                                           0.084486             \n",
       "31                                           0.050983             \n",
       "32                                           0.202070             \n",
       "33                                           0.054638             \n",
       "34                                           0.105282             \n",
       "35                                           0.043422             \n",
       "36                                           0.135773             \n",
       "37                                           0.261233             \n",
       "38                                           0.242102             \n",
       "39                                           0.152111             \n",
       "40                                           0.151033             \n",
       "41                                           0.152411             \n",
       "42                                           0.433640             \n",
       "43                                           0.112887             \n",
       "44                                           0.171885             \n",
       "45                                           0.144705             \n",
       "46                                           0.062917             \n",
       "47                                           0.064562             \n",
       "48                                           0.107885             \n",
       "49                                           0.378849             \n",
       "50                                           0.149342             \n",
       "51                                           0.203344             \n",
       "52                                           0.161031             \n",
       "\n",
       "    Percent Native Hawaiian and other Pacific Islander alone : in Correctional Facilities for Adults  \\\n",
       "1                                            0.098135                                                  \n",
       "2                                            0.607369                                                  \n",
       "3                                            8.135674                                                  \n",
       "4                                            0.170561                                                  \n",
       "5                                            0.615711                                                  \n",
       "6                                            0.739846                                                  \n",
       "7                                            3.431373                                                  \n",
       "8                                            1.000000                                                  \n",
       "9                                            0.331126                                                  \n",
       "10                                           0.293016                                                  \n",
       "11                                           0.603030                                                  \n",
       "12                                           1.614952                                                  \n",
       "13                                           0.906344                                                  \n",
       "14                                           0.345679                                                  \n",
       "15                                           0.553663                                                  \n",
       "16                                           0.649026                                                  \n",
       "17                                           0.312779                                                  \n",
       "18                                           0.559776                                                  \n",
       "19                                           0.509424                                                  \n",
       "20                                           0.584795                                                  \n",
       "21                                           0.253405                                                  \n",
       "22                                           0.719748                                                  \n",
       "23                                           0.268817                                                  \n",
       "24                                           0.881262                                                  \n",
       "25                                           1.347936                                                  \n",
       "26                                           0.543044                                                  \n",
       "27                                           0.000000                                                  \n",
       "28                                           0.156372                                                  \n",
       "29                                           0.260803                                                  \n",
       "30                                           0.520833                                                  \n",
       "31                                           1.577391                                                  \n",
       "32                                           0.386740                                                  \n",
       "33                                           0.593201                                                  \n",
       "34                                           0.272562                                                  \n",
       "35                                           1.562500                                                  \n",
       "36                                           0.319725                                                  \n",
       "37                                           0.823987                                                  \n",
       "38                                           0.447628                                                  \n",
       "39                                           0.629619                                                  \n",
       "40                                           0.000000                                                  \n",
       "41                                           0.665188                                                  \n",
       "42                                           1.776650                                                  \n",
       "43                                           0.137287                                                  \n",
       "44                                           0.323236                                                  \n",
       "45                                           0.513155                                                  \n",
       "46                                           0.000000                                                  \n",
       "47                                           0.802676                                                  \n",
       "48                                           0.617665                                                  \n",
       "49                                           3.271028                                                  \n",
       "50                                           4.816639                                                  \n",
       "51                                           1.405152                                                  \n",
       "52                                           0.270270                                                  \n",
       "\n",
       "    Percent Some other race alone : in Correctional Facilities for Adults  \\\n",
       "1                                            0.290992                       \n",
       "2                                            0.261214                       \n",
       "3                                            1.667419                       \n",
       "4                                            0.554378                       \n",
       "5                                            0.703077                       \n",
       "6                                            0.501181                       \n",
       "7                                            2.140417                       \n",
       "8                                            0.150726                       \n",
       "9                                            0.406171                       \n",
       "10                                           0.352202                       \n",
       "11                                           0.805406                       \n",
       "12                                           1.036208                       \n",
       "13                                           0.682821                       \n",
       "14                                           0.469926                       \n",
       "15                                           0.428125                       \n",
       "16                                           0.258320                       \n",
       "17                                           0.318723                       \n",
       "18                                           0.874872                       \n",
       "19                                           0.520028                       \n",
       "20                                           0.469373                       \n",
       "21                                           0.148430                       \n",
       "22                                           0.384072                       \n",
       "23                                           0.168674                       \n",
       "24                                           0.293204                       \n",
       "25                                           2.481526                       \n",
       "26                                           0.325640                       \n",
       "27                                           2.510460                       \n",
       "28                                           0.243967                       \n",
       "29                                           0.281718                       \n",
       "30                                           0.795888                       \n",
       "31                                           0.451295                       \n",
       "32                                           0.561421                       \n",
       "33                                           0.579232                       \n",
       "34                                           0.311089                       \n",
       "35                                           1.624394                       \n",
       "36                                           0.833654                       \n",
       "37                                           0.970798                       \n",
       "38                                           0.543922                       \n",
       "39                                           3.189549                       \n",
       "40                                           0.879770                       \n",
       "41                                           0.939505                       \n",
       "42                                           1.711917                       \n",
       "43                                           0.440280                       \n",
       "44                                           1.077055                       \n",
       "45                                           0.561906                       \n",
       "46                                           0.617577                       \n",
       "47                                           0.259952                       \n",
       "48                                           0.198686                       \n",
       "49                                           6.357248                       \n",
       "50                                           0.305446                       \n",
       "51                                           0.697988                       \n",
       "52                                           0.302513                       \n",
       "\n",
       "    Percent Two or more races : in Correctional Facilities for Adults  \\\n",
       "1                                            0.407012                   \n",
       "2                                            0.703614                   \n",
       "3                                            0.719652                   \n",
       "4                                            0.370111                   \n",
       "5                                            0.188114                   \n",
       "6                                            0.358932                   \n",
       "7                                            0.275152                   \n",
       "8                                            0.100612                   \n",
       "9                                            0.594826                   \n",
       "10                                           0.276780                   \n",
       "11                                           0.359055                   \n",
       "12                                           0.142844                   \n",
       "13                                           0.508540                   \n",
       "14                                           0.146561                   \n",
       "15                                           0.175135                   \n",
       "16                                           0.273752                   \n",
       "17                                           0.269978                   \n",
       "18                                           0.604989                   \n",
       "19                                           0.408874                   \n",
       "20                                           0.114608                   \n",
       "21                                           0.098963                   \n",
       "22                                           0.111626                   \n",
       "23                                           0.158910                   \n",
       "24                                           0.250909                   \n",
       "25                                           1.800217                   \n",
       "26                                           0.185410                   \n",
       "27                                           0.244234                   \n",
       "28                                           0.199949                   \n",
       "29                                           0.260956                   \n",
       "30                                           0.313348                   \n",
       "31                                           0.312522                   \n",
       "32                                           0.353201                   \n",
       "33                                           0.081250                   \n",
       "34                                           0.172649                   \n",
       "35                                           0.261537                   \n",
       "36                                           0.211133                   \n",
       "37                                           0.384058                   \n",
       "38                                           0.251452                   \n",
       "39                                           0.385561                   \n",
       "40                                           0.089114                   \n",
       "41                                           0.329017                   \n",
       "42                                           0.711682                   \n",
       "43                                           0.262706                   \n",
       "44                                           0.276288                   \n",
       "45                                           0.352234                   \n",
       "46                                           0.539384                   \n",
       "47                                           0.136675                   \n",
       "48                                           0.196532                   \n",
       "49                                           0.652126                   \n",
       "50                                           0.231985                   \n",
       "51                                           0.663377                   \n",
       "52                                           0.133338                   \n",
       "\n",
       "    Percent Hispanic or Latino : in Correctional Facilities for Adults  \\\n",
       "1                                            0.765078                    \n",
       "2                                            0.626768                    \n",
       "3                                            1.431655                    \n",
       "4                                            0.912658                    \n",
       "5                                            0.755253                    \n",
       "6                                            1.275264                    \n",
       "7                                            1.194981                    \n",
       "8                                            0.249928                    \n",
       "9                                            0.524210                    \n",
       "10                                           0.532458                    \n",
       "11                                           1.092670                    \n",
       "12                                           0.414591                    \n",
       "13                                           1.023303                    \n",
       "14                                           0.468885                    \n",
       "15                                           0.774428                    \n",
       "16                                           0.687589                    \n",
       "17                                           0.866545                    \n",
       "18                                           1.656178                    \n",
       "19                                           1.112900                    \n",
       "20                                           0.407440                    \n",
       "21                                           0.306609                    \n",
       "22                                           0.919456                    \n",
       "23                                           0.583466                    \n",
       "24                                           0.956613                    \n",
       "25                                           4.864938                    \n",
       "26                                           0.648562                    \n",
       "27                                           0.994224                    \n",
       "28                                           0.858397                    \n",
       "29                                           0.631402                    \n",
       "30                                           0.953575                    \n",
       "31                                           0.608883                    \n",
       "32                                           0.973041                    \n",
       "33                                           0.601477                    \n",
       "34                                           0.484302                    \n",
       "35                                           1.032153                    \n",
       "36                                           1.071406                    \n",
       "37                                           1.873153                    \n",
       "38                                           0.808111                    \n",
       "39                                           1.996359                    \n",
       "40                                           0.696491                    \n",
       "41                                           1.200771                    \n",
       "42                                           1.722501                    \n",
       "43                                           0.594017                    \n",
       "44                                           0.967316                    \n",
       "45                                           0.829659                    \n",
       "46                                           0.890530                    \n",
       "47                                           0.481146                    \n",
       "48                                           0.598711                    \n",
       "49                                           4.585055                    \n",
       "50                                           0.616564                    \n",
       "51                                           1.051144                    \n",
       "52                                           0.343152                    \n",
       "\n",
       "    Percent White alone, not Hispanic or Latino : in Correctional Facilities for Adults  \n",
       "1                                            0.534452                                    \n",
       "2                                            0.364140                                    \n",
       "3                                            0.626088                                    \n",
       "4                                            0.591451                                    \n",
       "5                                            0.452887                                    \n",
       "6                                            0.508777                                    \n",
       "7                                            0.241138                                    \n",
       "8                                            0.413974                                    \n",
       "9                                            0.050128                                    \n",
       "10                                           0.623241                                    \n",
       "11                                           0.636895                                    \n",
       "12                                           0.412164                                    \n",
       "13                                           0.654135                                    \n",
       "14                                           0.256129                                    \n",
       "15                                           0.539530                                    \n",
       "16                                           0.323014                                    \n",
       "17                                           0.416491                                    \n",
       "18                                           0.705164                                    \n",
       "19                                           0.672423                                    \n",
       "20                                           0.259348                                    \n",
       "21                                           0.308807                                    \n",
       "22                                           0.238706                                    \n",
       "23                                           0.371562                                    \n",
       "24                                           0.215521                                    \n",
       "25                                           0.597519                                    \n",
       "26                                           0.493821                                    \n",
       "27                                           0.421584                                    \n",
       "28                                           0.281046                                    \n",
       "29                                           0.603797                                    \n",
       "30                                           0.334060                                    \n",
       "31                                           0.218260                                    \n",
       "32                                           0.655425                                    \n",
       "33                                           0.217635                                    \n",
       "34                                           0.353776                                    \n",
       "35                                           0.244813                                    \n",
       "36                                           0.421753                                    \n",
       "37                                           0.766450                                    \n",
       "38                                           0.505215                                    \n",
       "39                                           0.374228                                    \n",
       "40                                           0.209410                                    \n",
       "41                                           0.427813                                    \n",
       "42                                           0.506598                                    \n",
       "43                                           0.502168                                    \n",
       "44                                           0.765038                                    \n",
       "45                                           0.366428                                    \n",
       "46                                           0.220256                                    \n",
       "47                                           0.465444                                    \n",
       "48                                           0.391650                                    \n",
       "49                                           0.620012                                    \n",
       "50                                           0.413725                                    \n",
       "51                                           0.529270                                    \n",
       "52                                           0.590069                                    "
      ]
     },
     "execution_count": 174,
     "metadata": {},
     "output_type": "execute_result"
    }
   ],
   "source": [
    "X"
   ]
  },
  {
   "cell_type": "code",
   "execution_count": 175,
   "metadata": {},
   "outputs": [
    {
     "data": {
      "application/vnd.plotly.v1+json": {
       "config": {
        "plotlyServerURL": "https://plot.ly"
       },
       "data": [
        {
         "marker": {
          "color": "blue",
          "opacity": 0.8,
          "size": 6
         },
         "mode": "markers",
         "type": "scatter3d",
         "x": [
          0.5512924551977563,
          0.3769194384850584,
          0.7649898084922161,
          0.6150374861539737,
          0.6049473257445463,
          0.6996230560388066,
          0.2563473656493809,
          0.4084918455199259,
          0.08813199061653512,
          0.6078036385151719,
          0.6782964488616728,
          0.41503391275672236,
          0.6991830213958311,
          0.2809800131337563,
          0.5608362689482957,
          0.3430088356861489,
          0.4739770577203933,
          0.7304824707044453,
          0.7009045932010244,
          0.2612708117419293,
          0.31965144953507946,
          0.3076785162146578,
          0.3860378925352936,
          0.250151302082067,
          0.7228082093413971,
          0.5026851416782792,
          0.423747487177401,
          0.34161178710076945,
          0.6713539241322491,
          0.34529347518304276,
          0.27467770441686923,
          0.895675471419358,
          0.2641242341441086,
          0.37342911187863287,
          0.25336568397998843,
          0.4365980927385966,
          0.887675504138582,
          0.5425302392113371,
          0.39762497443853173,
          0.23142393994881366,
          0.4602614379084967,
          0.5290309297218155,
          0.5087416608220973,
          0.8396608387784302,
          0.4180184571937669,
          0.22589603751182308,
          0.477559810251853,
          0.4363052458623938,
          0.6432802984848172,
          0.4299614835945735,
          0.5674005777667379,
          0.3141481717461329
         ],
         "y": [
          1.7798133317776317,
          1.2466147960280274,
          3.1435322461082285,
          2.4198979761944455,
          3.0320929488071706,
          3.6379047968394493,
          2.2589264027204274,
          1.9935979646949649,
          1.0225317492830808,
          2.5294496880189823,
          2.012550691677668,
          1.0315533980582525,
          3.241590214067278,
          2.107463831711507,
          2.79135673667604,
          3.4605375330910397,
          3.2985035504932565,
          3.5449751125859206,
          2.726942238893525,
          1.553447507480741,
          1.422162467990905,
          1.4838926514394633,
          2.150586776847701,
          2.3136743291109716,
          1.7750606572376717,
          2.3236528884857175,
          3.600695306679911,
          2.437111660734753,
          2.6049051805366243,
          2.234785500498836,
          1.990660892112222,
          2.5945945945945943,
          1.6332227210618777,
          1.639780379844462,
          1.670854271356784,
          2.3261662265811642,
          3.7807408047715776,
          3.1832500072248067,
          3.2479754138996535,
          1.8807423283324194,
          1.9695758218123103,
          4.653669050651513,
          1.9500338120616845,
          2.8413564514407645,
          2.7076860040290915,
          2.198502469332484,
          2.416141817804446,
          2.3625032286016614,
          7.353779861859197,
          4.011438181473933,
          3.074978938500421,
          0.6119203116806573
         ],
         "z": [
          0.7650779625219556,
          0.6267675609569671,
          1.431655241883356,
          0.9126578876646063,
          0.7552527633813694,
          1.275263866785663,
          1.1949812873235968,
          0.24992829925840945,
          0.524210487862792,
          0.5324581668760355,
          1.092669578734176,
          0.41459095347644037,
          1.023302880597609,
          0.46888455092726394,
          0.7744279676782814,
          0.6875890830385895,
          0.8665453503176221,
          1.6561775422325273,
          1.112899875363523,
          0.4074402125775022,
          0.3066089853643611,
          0.9194556236397761,
          0.5834658697674845,
          0.9566127756155648,
          4.864937838269044,
          0.6485621499505813,
          0.9942237003325749,
          0.858397299961172,
          0.6314017705488199,
          0.9535745422842197,
          0.6088825214899714,
          0.9730407812855634,
          0.6014770018162545,
          0.484302354646803,
          1.0321526694883791,
          1.0714064182883436,
          1.8731532768887404,
          0.8081108825006332,
          1.9963593919350806,
          0.6964907581034021,
          1.2007705297816549,
          1.7225010172250101,
          0.5940170792838698,
          0.9673159727261226,
          0.8296589830886868,
          0.8905299739357081,
          0.48114588691488935,
          0.5987112822344831,
          4.585054787138495,
          0.616563906015664,
          1.0511437160319324,
          0.34315180746410084
         ]
        },
        {
         "marker": {
          "color": "red",
          "size": 8,
          "symbol": "cross"
         },
         "mode": "markers",
         "name": "Centroids",
         "type": "scatter3d",
         "x": [
          0.4768455179904151
         ],
         "y": [
          2.5246035331499597
         ],
         "z": [
          1.2247640154489372
         ]
        }
       ],
       "layout": {
        "height": 800,
        "margin": {
         "b": 10,
         "l": 10,
         "r": 20,
         "t": 10
        },
        "scene": {
         "xaxis": {
          "title": {
           "text": "PWA"
          }
         },
         "yaxis": {
          "title": {
           "text": "PBA"
          }
         },
         "zaxis": {
          "title": {
           "text": "PHL"
          }
         }
        },
        "template": {
         "data": {
          "bar": [
           {
            "error_x": {
             "color": "#2a3f5f"
            },
            "error_y": {
             "color": "#2a3f5f"
            },
            "marker": {
             "line": {
              "color": "#E5ECF6",
              "width": 0.5
             },
             "pattern": {
              "fillmode": "overlay",
              "size": 10,
              "solidity": 0.2
             }
            },
            "type": "bar"
           }
          ],
          "barpolar": [
           {
            "marker": {
             "line": {
              "color": "#E5ECF6",
              "width": 0.5
             },
             "pattern": {
              "fillmode": "overlay",
              "size": 10,
              "solidity": 0.2
             }
            },
            "type": "barpolar"
           }
          ],
          "carpet": [
           {
            "aaxis": {
             "endlinecolor": "#2a3f5f",
             "gridcolor": "white",
             "linecolor": "white",
             "minorgridcolor": "white",
             "startlinecolor": "#2a3f5f"
            },
            "baxis": {
             "endlinecolor": "#2a3f5f",
             "gridcolor": "white",
             "linecolor": "white",
             "minorgridcolor": "white",
             "startlinecolor": "#2a3f5f"
            },
            "type": "carpet"
           }
          ],
          "choropleth": [
           {
            "colorbar": {
             "outlinewidth": 0,
             "ticks": ""
            },
            "type": "choropleth"
           }
          ],
          "contour": [
           {
            "colorbar": {
             "outlinewidth": 0,
             "ticks": ""
            },
            "colorscale": [
             [
              0,
              "#0d0887"
             ],
             [
              0.1111111111111111,
              "#46039f"
             ],
             [
              0.2222222222222222,
              "#7201a8"
             ],
             [
              0.3333333333333333,
              "#9c179e"
             ],
             [
              0.4444444444444444,
              "#bd3786"
             ],
             [
              0.5555555555555556,
              "#d8576b"
             ],
             [
              0.6666666666666666,
              "#ed7953"
             ],
             [
              0.7777777777777778,
              "#fb9f3a"
             ],
             [
              0.8888888888888888,
              "#fdca26"
             ],
             [
              1,
              "#f0f921"
             ]
            ],
            "type": "contour"
           }
          ],
          "contourcarpet": [
           {
            "colorbar": {
             "outlinewidth": 0,
             "ticks": ""
            },
            "type": "contourcarpet"
           }
          ],
          "heatmap": [
           {
            "colorbar": {
             "outlinewidth": 0,
             "ticks": ""
            },
            "colorscale": [
             [
              0,
              "#0d0887"
             ],
             [
              0.1111111111111111,
              "#46039f"
             ],
             [
              0.2222222222222222,
              "#7201a8"
             ],
             [
              0.3333333333333333,
              "#9c179e"
             ],
             [
              0.4444444444444444,
              "#bd3786"
             ],
             [
              0.5555555555555556,
              "#d8576b"
             ],
             [
              0.6666666666666666,
              "#ed7953"
             ],
             [
              0.7777777777777778,
              "#fb9f3a"
             ],
             [
              0.8888888888888888,
              "#fdca26"
             ],
             [
              1,
              "#f0f921"
             ]
            ],
            "type": "heatmap"
           }
          ],
          "heatmapgl": [
           {
            "colorbar": {
             "outlinewidth": 0,
             "ticks": ""
            },
            "colorscale": [
             [
              0,
              "#0d0887"
             ],
             [
              0.1111111111111111,
              "#46039f"
             ],
             [
              0.2222222222222222,
              "#7201a8"
             ],
             [
              0.3333333333333333,
              "#9c179e"
             ],
             [
              0.4444444444444444,
              "#bd3786"
             ],
             [
              0.5555555555555556,
              "#d8576b"
             ],
             [
              0.6666666666666666,
              "#ed7953"
             ],
             [
              0.7777777777777778,
              "#fb9f3a"
             ],
             [
              0.8888888888888888,
              "#fdca26"
             ],
             [
              1,
              "#f0f921"
             ]
            ],
            "type": "heatmapgl"
           }
          ],
          "histogram": [
           {
            "marker": {
             "pattern": {
              "fillmode": "overlay",
              "size": 10,
              "solidity": 0.2
             }
            },
            "type": "histogram"
           }
          ],
          "histogram2d": [
           {
            "colorbar": {
             "outlinewidth": 0,
             "ticks": ""
            },
            "colorscale": [
             [
              0,
              "#0d0887"
             ],
             [
              0.1111111111111111,
              "#46039f"
             ],
             [
              0.2222222222222222,
              "#7201a8"
             ],
             [
              0.3333333333333333,
              "#9c179e"
             ],
             [
              0.4444444444444444,
              "#bd3786"
             ],
             [
              0.5555555555555556,
              "#d8576b"
             ],
             [
              0.6666666666666666,
              "#ed7953"
             ],
             [
              0.7777777777777778,
              "#fb9f3a"
             ],
             [
              0.8888888888888888,
              "#fdca26"
             ],
             [
              1,
              "#f0f921"
             ]
            ],
            "type": "histogram2d"
           }
          ],
          "histogram2dcontour": [
           {
            "colorbar": {
             "outlinewidth": 0,
             "ticks": ""
            },
            "colorscale": [
             [
              0,
              "#0d0887"
             ],
             [
              0.1111111111111111,
              "#46039f"
             ],
             [
              0.2222222222222222,
              "#7201a8"
             ],
             [
              0.3333333333333333,
              "#9c179e"
             ],
             [
              0.4444444444444444,
              "#bd3786"
             ],
             [
              0.5555555555555556,
              "#d8576b"
             ],
             [
              0.6666666666666666,
              "#ed7953"
             ],
             [
              0.7777777777777778,
              "#fb9f3a"
             ],
             [
              0.8888888888888888,
              "#fdca26"
             ],
             [
              1,
              "#f0f921"
             ]
            ],
            "type": "histogram2dcontour"
           }
          ],
          "mesh3d": [
           {
            "colorbar": {
             "outlinewidth": 0,
             "ticks": ""
            },
            "type": "mesh3d"
           }
          ],
          "parcoords": [
           {
            "line": {
             "colorbar": {
              "outlinewidth": 0,
              "ticks": ""
             }
            },
            "type": "parcoords"
           }
          ],
          "pie": [
           {
            "automargin": true,
            "type": "pie"
           }
          ],
          "scatter": [
           {
            "fillpattern": {
             "fillmode": "overlay",
             "size": 10,
             "solidity": 0.2
            },
            "type": "scatter"
           }
          ],
          "scatter3d": [
           {
            "line": {
             "colorbar": {
              "outlinewidth": 0,
              "ticks": ""
             }
            },
            "marker": {
             "colorbar": {
              "outlinewidth": 0,
              "ticks": ""
             }
            },
            "type": "scatter3d"
           }
          ],
          "scattercarpet": [
           {
            "marker": {
             "colorbar": {
              "outlinewidth": 0,
              "ticks": ""
             }
            },
            "type": "scattercarpet"
           }
          ],
          "scattergeo": [
           {
            "marker": {
             "colorbar": {
              "outlinewidth": 0,
              "ticks": ""
             }
            },
            "type": "scattergeo"
           }
          ],
          "scattergl": [
           {
            "marker": {
             "colorbar": {
              "outlinewidth": 0,
              "ticks": ""
             }
            },
            "type": "scattergl"
           }
          ],
          "scattermapbox": [
           {
            "marker": {
             "colorbar": {
              "outlinewidth": 0,
              "ticks": ""
             }
            },
            "type": "scattermapbox"
           }
          ],
          "scatterpolar": [
           {
            "marker": {
             "colorbar": {
              "outlinewidth": 0,
              "ticks": ""
             }
            },
            "type": "scatterpolar"
           }
          ],
          "scatterpolargl": [
           {
            "marker": {
             "colorbar": {
              "outlinewidth": 0,
              "ticks": ""
             }
            },
            "type": "scatterpolargl"
           }
          ],
          "scatterternary": [
           {
            "marker": {
             "colorbar": {
              "outlinewidth": 0,
              "ticks": ""
             }
            },
            "type": "scatterternary"
           }
          ],
          "surface": [
           {
            "colorbar": {
             "outlinewidth": 0,
             "ticks": ""
            },
            "colorscale": [
             [
              0,
              "#0d0887"
             ],
             [
              0.1111111111111111,
              "#46039f"
             ],
             [
              0.2222222222222222,
              "#7201a8"
             ],
             [
              0.3333333333333333,
              "#9c179e"
             ],
             [
              0.4444444444444444,
              "#bd3786"
             ],
             [
              0.5555555555555556,
              "#d8576b"
             ],
             [
              0.6666666666666666,
              "#ed7953"
             ],
             [
              0.7777777777777778,
              "#fb9f3a"
             ],
             [
              0.8888888888888888,
              "#fdca26"
             ],
             [
              1,
              "#f0f921"
             ]
            ],
            "type": "surface"
           }
          ],
          "table": [
           {
            "cells": {
             "fill": {
              "color": "#EBF0F8"
             },
             "line": {
              "color": "white"
             }
            },
            "header": {
             "fill": {
              "color": "#C8D4E3"
             },
             "line": {
              "color": "white"
             }
            },
            "type": "table"
           }
          ]
         },
         "layout": {
          "annotationdefaults": {
           "arrowcolor": "#2a3f5f",
           "arrowhead": 0,
           "arrowwidth": 1
          },
          "autotypenumbers": "strict",
          "coloraxis": {
           "colorbar": {
            "outlinewidth": 0,
            "ticks": ""
           }
          },
          "colorscale": {
           "diverging": [
            [
             0,
             "#8e0152"
            ],
            [
             0.1,
             "#c51b7d"
            ],
            [
             0.2,
             "#de77ae"
            ],
            [
             0.3,
             "#f1b6da"
            ],
            [
             0.4,
             "#fde0ef"
            ],
            [
             0.5,
             "#f7f7f7"
            ],
            [
             0.6,
             "#e6f5d0"
            ],
            [
             0.7,
             "#b8e186"
            ],
            [
             0.8,
             "#7fbc41"
            ],
            [
             0.9,
             "#4d9221"
            ],
            [
             1,
             "#276419"
            ]
           ],
           "sequential": [
            [
             0,
             "#0d0887"
            ],
            [
             0.1111111111111111,
             "#46039f"
            ],
            [
             0.2222222222222222,
             "#7201a8"
            ],
            [
             0.3333333333333333,
             "#9c179e"
            ],
            [
             0.4444444444444444,
             "#bd3786"
            ],
            [
             0.5555555555555556,
             "#d8576b"
            ],
            [
             0.6666666666666666,
             "#ed7953"
            ],
            [
             0.7777777777777778,
             "#fb9f3a"
            ],
            [
             0.8888888888888888,
             "#fdca26"
            ],
            [
             1,
             "#f0f921"
            ]
           ],
           "sequentialminus": [
            [
             0,
             "#0d0887"
            ],
            [
             0.1111111111111111,
             "#46039f"
            ],
            [
             0.2222222222222222,
             "#7201a8"
            ],
            [
             0.3333333333333333,
             "#9c179e"
            ],
            [
             0.4444444444444444,
             "#bd3786"
            ],
            [
             0.5555555555555556,
             "#d8576b"
            ],
            [
             0.6666666666666666,
             "#ed7953"
            ],
            [
             0.7777777777777778,
             "#fb9f3a"
            ],
            [
             0.8888888888888888,
             "#fdca26"
            ],
            [
             1,
             "#f0f921"
            ]
           ]
          },
          "colorway": [
           "#636efa",
           "#EF553B",
           "#00cc96",
           "#ab63fa",
           "#FFA15A",
           "#19d3f3",
           "#FF6692",
           "#B6E880",
           "#FF97FF",
           "#FECB52"
          ],
          "font": {
           "color": "#2a3f5f"
          },
          "geo": {
           "bgcolor": "white",
           "lakecolor": "white",
           "landcolor": "#E5ECF6",
           "showlakes": true,
           "showland": true,
           "subunitcolor": "white"
          },
          "hoverlabel": {
           "align": "left"
          },
          "hovermode": "closest",
          "mapbox": {
           "style": "light"
          },
          "paper_bgcolor": "white",
          "plot_bgcolor": "#E5ECF6",
          "polar": {
           "angularaxis": {
            "gridcolor": "white",
            "linecolor": "white",
            "ticks": ""
           },
           "bgcolor": "#E5ECF6",
           "radialaxis": {
            "gridcolor": "white",
            "linecolor": "white",
            "ticks": ""
           }
          },
          "scene": {
           "xaxis": {
            "backgroundcolor": "#E5ECF6",
            "gridcolor": "white",
            "gridwidth": 2,
            "linecolor": "white",
            "showbackground": true,
            "ticks": "",
            "zerolinecolor": "white"
           },
           "yaxis": {
            "backgroundcolor": "#E5ECF6",
            "gridcolor": "white",
            "gridwidth": 2,
            "linecolor": "white",
            "showbackground": true,
            "ticks": "",
            "zerolinecolor": "white"
           },
           "zaxis": {
            "backgroundcolor": "#E5ECF6",
            "gridcolor": "white",
            "gridwidth": 2,
            "linecolor": "white",
            "showbackground": true,
            "ticks": "",
            "zerolinecolor": "white"
           }
          },
          "shapedefaults": {
           "line": {
            "color": "#2a3f5f"
           }
          },
          "ternary": {
           "aaxis": {
            "gridcolor": "white",
            "linecolor": "white",
            "ticks": ""
           },
           "baxis": {
            "gridcolor": "white",
            "linecolor": "white",
            "ticks": ""
           },
           "bgcolor": "#E5ECF6",
           "caxis": {
            "gridcolor": "white",
            "linecolor": "white",
            "ticks": ""
           }
          },
          "title": {
           "x": 0.05
          },
          "xaxis": {
           "automargin": true,
           "gridcolor": "white",
           "linecolor": "white",
           "ticks": "",
           "title": {
            "standoff": 15
           },
           "zerolinecolor": "white",
           "zerolinewidth": 2
          },
          "yaxis": {
           "automargin": true,
           "gridcolor": "white",
           "linecolor": "white",
           "ticks": "",
           "title": {
            "standoff": 15
           },
           "zerolinecolor": "white",
           "zerolinewidth": 2
          }
         }
        },
        "width": 1000
       }
      }
     },
     "metadata": {},
     "output_type": "display_data"
    }
   ],
   "source": [
    "clusters = gmm.predict(X)\n",
    "centroids = gmm.means_\n",
    "\n",
    "# create a 3D scatter plot of the data\n",
    "fig = go.Figure(data=[go.Scatter3d(\n",
    "    x=X['Percent White alone : in Correctional Facilities for Adults'],\n",
    "    y=X['Percent Black or African American alone : in Correctional Facilities for Adults'],\n",
    "    z=X['Percent Hispanic or Latino : in Correctional Facilities for Adults'],\n",
    "    mode='markers',\n",
    "    marker=dict(\n",
    "        size=6,\n",
    "        color=\"blue\",\n",
    "        opacity=0.8\n",
    "    )\n",
    ")])\n",
    "\n",
    "# add the centroids to the plot as a separate trace\n",
    "fig.add_trace(go.Scatter3d(\n",
    "    x=centroids[:, 0],\n",
    "    y=centroids[:, 1],\n",
    "    z=centroids[:, 2],\n",
    "    mode='markers',\n",
    "    marker=dict(\n",
    "        size=8,\n",
    "        color=\"red\",\n",
    "        symbol=\"cross\"\n",
    "    ),\n",
    "    name=\"Centroids\"\n",
    "))\n",
    "\n",
    "# update the layout of the plot\n",
    "fig.update_layout(\n",
    "    scene=dict(\n",
    "        xaxis_title='PWA',\n",
    "        yaxis_title='PBA',\n",
    "        zaxis_title='PHL'\n",
    "    ),\n",
    "    width=1000,\n",
    "    height=800,\n",
    "    margin=dict(r=20, b=10, l=10, t=10)\n",
    ")\n",
    "\n",
    "# show the plot\n",
    "fig.show()"
   ]
  },
  {
   "cell_type": "code",
   "execution_count": 176,
   "metadata": {},
   "outputs": [
    {
     "name": "stdout",
     "output_type": "stream",
     "text": [
      "Explained variation per principal component: [0.56099248 0.22862323]\n",
      "Cumulative variance explained by 2 principal components: 78.96%\n",
      "\n",
      "\n",
      "       Percent White alone : in Correctional Facilities for Adults  \\\n",
      "PC_1                                           0.037908             \n",
      "PC_2                                           0.030697             \n",
      "\n",
      "      Percent Black or African American alone : in Correctional Facilities for Adults  \\\n",
      "PC_1                                           0.482953                                 \n",
      "PC_2                                           0.348528                                 \n",
      "\n",
      "      Percent American Indian and Alaska Native alone : in Correctional Facilities for Adults  \\\n",
      "PC_1                                           0.250448                                         \n",
      "PC_2                                           0.002683                                         \n",
      "\n",
      "      Percent Asian alone : in Correctional Facilities for Adults  \\\n",
      "PC_1                                           0.049916             \n",
      "PC_2                                           0.001037             \n",
      "\n",
      "      Percent Native Hawaiian and other Pacific Islander alone : in Correctional Facilities for Adults  \\\n",
      "PC_1                                           0.589119                                                  \n",
      "PC_2                                           0.790379                                                  \n",
      "\n",
      "      Percent Some other race alone : in Correctional Facilities for Adults  \\\n",
      "PC_1                                           0.471127                       \n",
      "PC_2                                           0.365934                       \n",
      "\n",
      "      Percent Two or more races : in Correctional Facilities for Adults  \\\n",
      "PC_1                                           0.074075                   \n",
      "PC_2                                           0.039554                   \n",
      "\n",
      "      Percent Hispanic or Latino : in Correctional Facilities for Adults  \\\n",
      "PC_1                                           0.353251                    \n",
      "PC_2                                           0.341400                    \n",
      "\n",
      "      Percent White alone, not Hispanic or Latino : in Correctional Facilities for Adults  \n",
      "PC_1                                           0.028411                                    \n",
      "PC_2                                           0.029193                                    \n",
      "\n",
      "*************** Most important features *************************\n",
      "As per PC 1:\n",
      " Percent Black or African American alone : in Correctional Facilities for Adults                     0.482953\n",
      "Percent Native Hawaiian and other Pacific Islander alone : in Correctional Facilities for Adults    0.589119\n",
      "Percent Some other race alone : in Correctional Facilities for Adults                               0.471127\n",
      "Percent Hispanic or Latino : in Correctional Facilities for Adults                                  0.353251\n",
      "Name: PC_1, dtype: float64\n",
      "\n",
      "\n",
      "As per PC 2:\n",
      " Percent Black or African American alone : in Correctional Facilities for Adults                     0.348528\n",
      "Percent Native Hawaiian and other Pacific Islander alone : in Correctional Facilities for Adults    0.790379\n",
      "Percent Some other race alone : in Correctional Facilities for Adults                               0.365934\n",
      "Percent Hispanic or Latino : in Correctional Facilities for Adults                                  0.341400\n",
      "Name: PC_2, dtype: float64\n",
      "\n",
      "******************************************************************\n"
     ]
    },
    {
     "name": "stderr",
     "output_type": "stream",
     "text": [
      "/Users/lorenzomendoza/opt/anaconda3/envs/machinelearning/lib/python3.11/site-packages/sklearn/base.py:420: UserWarning:\n",
      "\n",
      "X does not have valid feature names, but PCA was fitted with feature names\n",
      "\n"
     ]
    },
    {
     "data": {
      "application/vnd.plotly.v1+json": {
       "config": {
        "plotlyServerURL": "https://plot.ly"
       },
       "data": [
        {
         "marker": {
          "color": "blue",
          "opacity": [
           0.8324826464941744,
           0.8532612900178502,
           0.1361677276216816,
           0.8967102281667398,
           0.9617202833240974,
           0.88863734528201,
           0.7140993394077091,
           0.8421319261773441,
           0.8161438274631156,
           0.8892847614675803,
           0.9311839372166306,
           0.8420568766637824,
           0.9436291285388816,
           0.877248136344293,
           0.9424205131432316,
           0.970512402833815,
           0.9306717488208157,
           0.8527714022094947,
           0.9360901263708957,
           0.8493146110698756,
           0.7850026236186666,
           0.8762885993824943,
           0.8666416794917239,
           0.9663405303572843,
           0.7028121872035717,
           0.9004021879730861,
           0.7731992390170762,
           0.9093840343317156,
           0.9115690350355705,
           0.9426125417405842,
           0.8766028947979861,
           0.9324922619776469,
           0.8697693175056178,
           0.8394151337458624,
           0.9150344369978949,
           0.9157780163147395,
           0.8519938646323957,
           0.9464459319325126,
           0.7300115713101428,
           0.85401252067086,
           0.95598000255634,
           0.6893266437927477,
           0.8553935854640579,
           0.915232876765144,
           0.9568590795150775,
           0.8863762580351088,
           0.9034050303203154,
           0.9173437673259569,
           0,
           0.5149678823155805,
           0.9067040219499667,
           0.7719920387657201
          ],
          "size": 8
         },
         "mode": "markers",
         "name": "Data Points",
         "type": "scatter",
         "x": [
          -1.4240792761129764,
          -1.1348213439117651,
          5.404929206177588,
          -0.7671757355912916,
          -0.16253223553481064,
          0.8039504806828399,
          1.8845232176069666,
          -1.1080917548431288,
          -1.5188987038408162,
          -0.929403127345619,
          -0.5774083650897508,
          -0.6012425864744635,
          0.4222761011605928,
          -1.0468942538586101,
          -0.46603751158187073,
          0.14050241660122811,
          -0.2983978122859625,
          0.8756096987584963,
          -0.4297388937202391,
          -1.2113481575910314,
          -1.7980751615408417,
          -0.9692398878218071,
          -1.1376045025490327,
          -0.07226921607450582,
          2.118769745132479,
          -0.8457070055665205,
          0.915707077858602,
          -0.7159936042636772,
          -0.7194627165707922,
          -0.45718168322397584,
          -0.3486214764171829,
          -0.4530056237927687,
          -1.0682893903399928,
          -1.3584769067725662,
          0.5003161839428439,
          -0.5811345330451988,
          0.9008237730235252,
          -0.15436565718481984,
          1.5754481733107784,
          -1.1820474168081276,
          -0.3582069080923817,
          2.57037473255746,
          -1.2261985347248008,
          -0.2510504751720885,
          -0.2935689041607843,
          -0.8370450391921511,
          -0.7508178465332432,
          -0.6769376373608125,
          7.952657931752578,
          2.953854368890884,
          0.7677554208323618,
          -1.8561286432988144
         ],
         "y": [
          -0.11974673318215598,
          0.5284745731678174,
          5.009511298529264,
          -0.4334846256790405,
          -0.28324838231326693,
          -0.5062094481280781,
          1.5483875209031046,
          0.7654838976114823,
          0.3913011416733672,
          -0.16831581070601395,
          -0.10610152812520338,
          1.2058462865896113,
          -0.23011364044968466,
          0.025580533846575503,
          -0.15524745199305717,
          -0.2086674996496265,
          -0.5106527932525616,
          -0.9004962805837797,
          -0.3355443822365689,
          0.43031583730806844,
          0.36203986187610954,
          0.417645345694365,
          0.0140556486937554,
          0.2779088670918847,
          -1.3923855796515505,
          0.08204604122834742,
          -1.7044505188298034,
          -0.29148500271323596,
          -0.22696067448327403,
          -0.17513107899436645,
          0.9933097409021469,
          -0.3556166826832903,
          0.30512158315198873,
          0.17703120883154688,
          0.5244893976812023,
          -0.42253058679622896,
          -0.88476516003668,
          -0.430006321035867,
          -1.680216923104706,
          -0.3922552851521313,
          -0.11276921697911739,
          -0.6462926489880118,
          -0.13538449429401708,
          -0.678179721781265,
          -0.22196833035728442,
          -0.4888393293425812,
          0.3396284298975464,
          0.19745470055009812,
          -3.0878251305218085,
          2.8976807565938505,
          0.20984266963846407,
          0.5817359205836464
         ]
        },
        {
         "marker": {
          "color": "red",
          "size": 20,
          "symbol": "x"
         },
         "mode": "markers",
         "name": "Centroids",
         "type": "scatter",
         "x": [
          0
         ],
         "y": [
          0
         ]
        }
       ],
       "layout": {
        "font": {
         "color": "Black",
         "family": "Arial",
         "size": 12
        },
        "height": 400,
        "margin": {
         "b": 50,
         "l": 50,
         "r": 50,
         "t": 50
        },
        "showlegend": false,
        "template": {
         "data": {
          "bar": [
           {
            "error_x": {
             "color": "#2a3f5f"
            },
            "error_y": {
             "color": "#2a3f5f"
            },
            "marker": {
             "line": {
              "color": "#E5ECF6",
              "width": 0.5
             },
             "pattern": {
              "fillmode": "overlay",
              "size": 10,
              "solidity": 0.2
             }
            },
            "type": "bar"
           }
          ],
          "barpolar": [
           {
            "marker": {
             "line": {
              "color": "#E5ECF6",
              "width": 0.5
             },
             "pattern": {
              "fillmode": "overlay",
              "size": 10,
              "solidity": 0.2
             }
            },
            "type": "barpolar"
           }
          ],
          "carpet": [
           {
            "aaxis": {
             "endlinecolor": "#2a3f5f",
             "gridcolor": "white",
             "linecolor": "white",
             "minorgridcolor": "white",
             "startlinecolor": "#2a3f5f"
            },
            "baxis": {
             "endlinecolor": "#2a3f5f",
             "gridcolor": "white",
             "linecolor": "white",
             "minorgridcolor": "white",
             "startlinecolor": "#2a3f5f"
            },
            "type": "carpet"
           }
          ],
          "choropleth": [
           {
            "colorbar": {
             "outlinewidth": 0,
             "ticks": ""
            },
            "type": "choropleth"
           }
          ],
          "contour": [
           {
            "colorbar": {
             "outlinewidth": 0,
             "ticks": ""
            },
            "colorscale": [
             [
              0,
              "#0d0887"
             ],
             [
              0.1111111111111111,
              "#46039f"
             ],
             [
              0.2222222222222222,
              "#7201a8"
             ],
             [
              0.3333333333333333,
              "#9c179e"
             ],
             [
              0.4444444444444444,
              "#bd3786"
             ],
             [
              0.5555555555555556,
              "#d8576b"
             ],
             [
              0.6666666666666666,
              "#ed7953"
             ],
             [
              0.7777777777777778,
              "#fb9f3a"
             ],
             [
              0.8888888888888888,
              "#fdca26"
             ],
             [
              1,
              "#f0f921"
             ]
            ],
            "type": "contour"
           }
          ],
          "contourcarpet": [
           {
            "colorbar": {
             "outlinewidth": 0,
             "ticks": ""
            },
            "type": "contourcarpet"
           }
          ],
          "heatmap": [
           {
            "colorbar": {
             "outlinewidth": 0,
             "ticks": ""
            },
            "colorscale": [
             [
              0,
              "#0d0887"
             ],
             [
              0.1111111111111111,
              "#46039f"
             ],
             [
              0.2222222222222222,
              "#7201a8"
             ],
             [
              0.3333333333333333,
              "#9c179e"
             ],
             [
              0.4444444444444444,
              "#bd3786"
             ],
             [
              0.5555555555555556,
              "#d8576b"
             ],
             [
              0.6666666666666666,
              "#ed7953"
             ],
             [
              0.7777777777777778,
              "#fb9f3a"
             ],
             [
              0.8888888888888888,
              "#fdca26"
             ],
             [
              1,
              "#f0f921"
             ]
            ],
            "type": "heatmap"
           }
          ],
          "heatmapgl": [
           {
            "colorbar": {
             "outlinewidth": 0,
             "ticks": ""
            },
            "colorscale": [
             [
              0,
              "#0d0887"
             ],
             [
              0.1111111111111111,
              "#46039f"
             ],
             [
              0.2222222222222222,
              "#7201a8"
             ],
             [
              0.3333333333333333,
              "#9c179e"
             ],
             [
              0.4444444444444444,
              "#bd3786"
             ],
             [
              0.5555555555555556,
              "#d8576b"
             ],
             [
              0.6666666666666666,
              "#ed7953"
             ],
             [
              0.7777777777777778,
              "#fb9f3a"
             ],
             [
              0.8888888888888888,
              "#fdca26"
             ],
             [
              1,
              "#f0f921"
             ]
            ],
            "type": "heatmapgl"
           }
          ],
          "histogram": [
           {
            "marker": {
             "pattern": {
              "fillmode": "overlay",
              "size": 10,
              "solidity": 0.2
             }
            },
            "type": "histogram"
           }
          ],
          "histogram2d": [
           {
            "colorbar": {
             "outlinewidth": 0,
             "ticks": ""
            },
            "colorscale": [
             [
              0,
              "#0d0887"
             ],
             [
              0.1111111111111111,
              "#46039f"
             ],
             [
              0.2222222222222222,
              "#7201a8"
             ],
             [
              0.3333333333333333,
              "#9c179e"
             ],
             [
              0.4444444444444444,
              "#bd3786"
             ],
             [
              0.5555555555555556,
              "#d8576b"
             ],
             [
              0.6666666666666666,
              "#ed7953"
             ],
             [
              0.7777777777777778,
              "#fb9f3a"
             ],
             [
              0.8888888888888888,
              "#fdca26"
             ],
             [
              1,
              "#f0f921"
             ]
            ],
            "type": "histogram2d"
           }
          ],
          "histogram2dcontour": [
           {
            "colorbar": {
             "outlinewidth": 0,
             "ticks": ""
            },
            "colorscale": [
             [
              0,
              "#0d0887"
             ],
             [
              0.1111111111111111,
              "#46039f"
             ],
             [
              0.2222222222222222,
              "#7201a8"
             ],
             [
              0.3333333333333333,
              "#9c179e"
             ],
             [
              0.4444444444444444,
              "#bd3786"
             ],
             [
              0.5555555555555556,
              "#d8576b"
             ],
             [
              0.6666666666666666,
              "#ed7953"
             ],
             [
              0.7777777777777778,
              "#fb9f3a"
             ],
             [
              0.8888888888888888,
              "#fdca26"
             ],
             [
              1,
              "#f0f921"
             ]
            ],
            "type": "histogram2dcontour"
           }
          ],
          "mesh3d": [
           {
            "colorbar": {
             "outlinewidth": 0,
             "ticks": ""
            },
            "type": "mesh3d"
           }
          ],
          "parcoords": [
           {
            "line": {
             "colorbar": {
              "outlinewidth": 0,
              "ticks": ""
             }
            },
            "type": "parcoords"
           }
          ],
          "pie": [
           {
            "automargin": true,
            "type": "pie"
           }
          ],
          "scatter": [
           {
            "fillpattern": {
             "fillmode": "overlay",
             "size": 10,
             "solidity": 0.2
            },
            "type": "scatter"
           }
          ],
          "scatter3d": [
           {
            "line": {
             "colorbar": {
              "outlinewidth": 0,
              "ticks": ""
             }
            },
            "marker": {
             "colorbar": {
              "outlinewidth": 0,
              "ticks": ""
             }
            },
            "type": "scatter3d"
           }
          ],
          "scattercarpet": [
           {
            "marker": {
             "colorbar": {
              "outlinewidth": 0,
              "ticks": ""
             }
            },
            "type": "scattercarpet"
           }
          ],
          "scattergeo": [
           {
            "marker": {
             "colorbar": {
              "outlinewidth": 0,
              "ticks": ""
             }
            },
            "type": "scattergeo"
           }
          ],
          "scattergl": [
           {
            "marker": {
             "colorbar": {
              "outlinewidth": 0,
              "ticks": ""
             }
            },
            "type": "scattergl"
           }
          ],
          "scattermapbox": [
           {
            "marker": {
             "colorbar": {
              "outlinewidth": 0,
              "ticks": ""
             }
            },
            "type": "scattermapbox"
           }
          ],
          "scatterpolar": [
           {
            "marker": {
             "colorbar": {
              "outlinewidth": 0,
              "ticks": ""
             }
            },
            "type": "scatterpolar"
           }
          ],
          "scatterpolargl": [
           {
            "marker": {
             "colorbar": {
              "outlinewidth": 0,
              "ticks": ""
             }
            },
            "type": "scatterpolargl"
           }
          ],
          "scatterternary": [
           {
            "marker": {
             "colorbar": {
              "outlinewidth": 0,
              "ticks": ""
             }
            },
            "type": "scatterternary"
           }
          ],
          "surface": [
           {
            "colorbar": {
             "outlinewidth": 0,
             "ticks": ""
            },
            "colorscale": [
             [
              0,
              "#0d0887"
             ],
             [
              0.1111111111111111,
              "#46039f"
             ],
             [
              0.2222222222222222,
              "#7201a8"
             ],
             [
              0.3333333333333333,
              "#9c179e"
             ],
             [
              0.4444444444444444,
              "#bd3786"
             ],
             [
              0.5555555555555556,
              "#d8576b"
             ],
             [
              0.6666666666666666,
              "#ed7953"
             ],
             [
              0.7777777777777778,
              "#fb9f3a"
             ],
             [
              0.8888888888888888,
              "#fdca26"
             ],
             [
              1,
              "#f0f921"
             ]
            ],
            "type": "surface"
           }
          ],
          "table": [
           {
            "cells": {
             "fill": {
              "color": "#EBF0F8"
             },
             "line": {
              "color": "white"
             }
            },
            "header": {
             "fill": {
              "color": "#C8D4E3"
             },
             "line": {
              "color": "white"
             }
            },
            "type": "table"
           }
          ]
         },
         "layout": {
          "annotationdefaults": {
           "arrowcolor": "#2a3f5f",
           "arrowhead": 0,
           "arrowwidth": 1
          },
          "autotypenumbers": "strict",
          "coloraxis": {
           "colorbar": {
            "outlinewidth": 0,
            "ticks": ""
           }
          },
          "colorscale": {
           "diverging": [
            [
             0,
             "#8e0152"
            ],
            [
             0.1,
             "#c51b7d"
            ],
            [
             0.2,
             "#de77ae"
            ],
            [
             0.3,
             "#f1b6da"
            ],
            [
             0.4,
             "#fde0ef"
            ],
            [
             0.5,
             "#f7f7f7"
            ],
            [
             0.6,
             "#e6f5d0"
            ],
            [
             0.7,
             "#b8e186"
            ],
            [
             0.8,
             "#7fbc41"
            ],
            [
             0.9,
             "#4d9221"
            ],
            [
             1,
             "#276419"
            ]
           ],
           "sequential": [
            [
             0,
             "#0d0887"
            ],
            [
             0.1111111111111111,
             "#46039f"
            ],
            [
             0.2222222222222222,
             "#7201a8"
            ],
            [
             0.3333333333333333,
             "#9c179e"
            ],
            [
             0.4444444444444444,
             "#bd3786"
            ],
            [
             0.5555555555555556,
             "#d8576b"
            ],
            [
             0.6666666666666666,
             "#ed7953"
            ],
            [
             0.7777777777777778,
             "#fb9f3a"
            ],
            [
             0.8888888888888888,
             "#fdca26"
            ],
            [
             1,
             "#f0f921"
            ]
           ],
           "sequentialminus": [
            [
             0,
             "#0d0887"
            ],
            [
             0.1111111111111111,
             "#46039f"
            ],
            [
             0.2222222222222222,
             "#7201a8"
            ],
            [
             0.3333333333333333,
             "#9c179e"
            ],
            [
             0.4444444444444444,
             "#bd3786"
            ],
            [
             0.5555555555555556,
             "#d8576b"
            ],
            [
             0.6666666666666666,
             "#ed7953"
            ],
            [
             0.7777777777777778,
             "#fb9f3a"
            ],
            [
             0.8888888888888888,
             "#fdca26"
            ],
            [
             1,
             "#f0f921"
            ]
           ]
          },
          "colorway": [
           "#636efa",
           "#EF553B",
           "#00cc96",
           "#ab63fa",
           "#FFA15A",
           "#19d3f3",
           "#FF6692",
           "#B6E880",
           "#FF97FF",
           "#FECB52"
          ],
          "font": {
           "color": "#2a3f5f"
          },
          "geo": {
           "bgcolor": "white",
           "lakecolor": "white",
           "landcolor": "#E5ECF6",
           "showlakes": true,
           "showland": true,
           "subunitcolor": "white"
          },
          "hoverlabel": {
           "align": "left"
          },
          "hovermode": "closest",
          "mapbox": {
           "style": "light"
          },
          "paper_bgcolor": "white",
          "plot_bgcolor": "#E5ECF6",
          "polar": {
           "angularaxis": {
            "gridcolor": "white",
            "linecolor": "white",
            "ticks": ""
           },
           "bgcolor": "#E5ECF6",
           "radialaxis": {
            "gridcolor": "white",
            "linecolor": "white",
            "ticks": ""
           }
          },
          "scene": {
           "xaxis": {
            "backgroundcolor": "#E5ECF6",
            "gridcolor": "white",
            "gridwidth": 2,
            "linecolor": "white",
            "showbackground": true,
            "ticks": "",
            "zerolinecolor": "white"
           },
           "yaxis": {
            "backgroundcolor": "#E5ECF6",
            "gridcolor": "white",
            "gridwidth": 2,
            "linecolor": "white",
            "showbackground": true,
            "ticks": "",
            "zerolinecolor": "white"
           },
           "zaxis": {
            "backgroundcolor": "#E5ECF6",
            "gridcolor": "white",
            "gridwidth": 2,
            "linecolor": "white",
            "showbackground": true,
            "ticks": "",
            "zerolinecolor": "white"
           }
          },
          "shapedefaults": {
           "line": {
            "color": "#2a3f5f"
           }
          },
          "ternary": {
           "aaxis": {
            "gridcolor": "white",
            "linecolor": "white",
            "ticks": ""
           },
           "baxis": {
            "gridcolor": "white",
            "linecolor": "white",
            "ticks": ""
           },
           "bgcolor": "#E5ECF6",
           "caxis": {
            "gridcolor": "white",
            "linecolor": "white",
            "ticks": ""
           }
          },
          "title": {
           "x": 0.05
          },
          "xaxis": {
           "automargin": true,
           "gridcolor": "white",
           "linecolor": "white",
           "ticks": "",
           "title": {
            "standoff": 15
           },
           "zerolinecolor": "white",
           "zerolinewidth": 2
          },
          "yaxis": {
           "automargin": true,
           "gridcolor": "white",
           "linecolor": "white",
           "ticks": "",
           "title": {
            "standoff": 15
           },
           "zerolinecolor": "white",
           "zerolinewidth": 2
          }
         }
        },
        "title": {
         "text": "Gaussian Mixture Model with Centroids"
        },
        "width": 1000,
        "xaxis": {
         "title": {
          "text": "PCA 1"
         }
        },
        "yaxis": {
         "title": {
          "text": "PCA 2"
         }
        }
       }
      }
     },
     "metadata": {},
     "output_type": "display_data"
    }
   ],
   "source": [
    "# X = getX(df)\n",
    "pca_result, pca_2_1 = pca_embeddings(X)\n",
    "gmm = GaussianMixture(n_components=1, init_params=init_params, reg_covar=reg_covar, max_iter=max_iter)\n",
    "gmm.fit(X)\n",
    "centroids = gmm.means_\n",
    "centroids_pca = pca_2_1.transform(centroids)\n",
    "# Obtain prediction probabilities\n",
    "probs = gmm.predict_proba(X)\n",
    "visualizing_results_sampling(pca_result, gmm, centroids_pca)\n"
   ]
  },
  {
   "cell_type": "code",
   "execution_count": 177,
   "metadata": {},
   "outputs": [],
   "source": [
    "def runKmeans(data, X, n):\n",
    "    kmeans = KMeans(n_clusters=n, init = 'k-means++', n_init=10)\n",
    "    kmeans.fit(X)\n",
    "    cluster_data = data.copy() \n",
    "    cluster_data['Cluster'] = kmeans.labels_\n",
    "    return cluster_data"
   ]
  },
  {
   "cell_type": "code",
   "execution_count": 178,
   "metadata": {},
   "outputs": [],
   "source": [
    "def visualizing_results(pca_result, label, centroids_pca):\n",
    "    \"\"\"\n",
    "    Visualizing the clusters\n",
    "\n",
    "    :param pca_result: PCA applied data\n",
    "    :param label: K Means labels\n",
    "    :param centroids_pca: PCA format K Means centroids\n",
    "    \"\"\"\n",
    "    # ------------------ Using Plotly for plotting-----------------------\n",
    "    fig = go.Figure()\n",
    "\n",
    "    # Add scatter plot for data points\n",
    "    fig.add_trace(\n",
    "        go.Scatter(\n",
    "            x=pca_result[:, 0],\n",
    "            y=pca_result[:, 1],\n",
    "            mode='markers',\n",
    "            marker=dict(\n",
    "                size=8,\n",
    "                color=label,\n",
    "                opacity=0.8,\n",
    "                # colorscale='Viridis'\n",
    "            ),\n",
    "            name='Data Points'\n",
    "        )\n",
    "    )\n",
    "\n",
    "    # Add trace for centroids\n",
    "    fig.add_trace(\n",
    "        go.Scatter(\n",
    "            x=centroids_pca[:, 0],\n",
    "            y=centroids_pca[:, 1],\n",
    "            mode='markers',\n",
    "            marker=dict(\n",
    "                size=20,\n",
    "                symbol='x',\n",
    "                color='red'\n",
    "            ),\n",
    "            name='Centroids'\n",
    "        )\n",
    "    )\n",
    "\n",
    "    # Update layout and show plot\n",
    "    fig.update_layout(\n",
    "        xaxis_title='PCA 1',\n",
    "        yaxis_title='PCA 2',\n",
    "        title='NIPS Clusters with Centroids',\n",
    "        showlegend=True,\n",
    "        legend=dict(\n",
    "            x=0.8,\n",
    "            y=0.95,\n",
    "            bordercolor=\"Black\",\n",
    "            borderwidth=2,\n",
    "            bgcolor=\"#E2E2E2\",\n",
    "            font=dict(\n",
    "                family=\"Arial\",\n",
    "                size=12,\n",
    "                color=\"Black\"\n",
    "            ),\n",
    "            orientation=\"h\"\n",
    "        )\n",
    "    )\n",
    "\n",
    "    fig.show()"
   ]
  },
  {
   "cell_type": "code",
   "execution_count": 179,
   "metadata": {},
   "outputs": [
    {
     "name": "stdout",
     "output_type": "stream",
     "text": [
      "Explained variation per principal component: [0.37629726 0.21730283]\n",
      "Cumulative variance explained by 2 principal components: 59.36%\n",
      "\n",
      "\n",
      "       White alone : in Correctional Facilities for Adults  \\\n",
      "PC_1                                           0.144907     \n",
      "PC_2                                           0.004093     \n",
      "\n",
      "      Black or African American alone : in Correctional Facilities for Adults  \\\n",
      "PC_1                                           0.124410                         \n",
      "PC_2                                           0.032521                         \n",
      "\n",
      "      American Indian and Alaska Native alone : in Correctional Facilities for Adults  \\\n",
      "PC_1                                           0.063277                                 \n",
      "PC_2                                           0.097603                                 \n",
      "\n",
      "      Asian alone : in Correctional Facilities for Adults  \\\n",
      "PC_1                                           0.139456     \n",
      "PC_2                                           0.011982     \n",
      "\n",
      "      Native Hawaiian and other Pacific Islander alone : in Correctional Facilities for Adults  \\\n",
      "PC_1                                           0.048301                                          \n",
      "PC_2                                           0.031249                                          \n",
      "\n",
      "      Some other race alone : in Correctional Facilities for Adults  \\\n",
      "PC_1                                           0.143144               \n",
      "PC_2                                           0.019775               \n",
      "\n",
      "      Two or more races : in Correctional Facilities for Adults  \\\n",
      "PC_1                                           0.146023           \n",
      "PC_2                                           0.036164           \n",
      "\n",
      "      Hispanic or Latino : in Correctional Facilities for Adults  \\\n",
      "PC_1                                           0.144853            \n",
      "PC_2                                           0.011963            \n",
      "\n",
      "      White alone, not Hispanic or Latino : in Correctional Facilities for Adults  \\\n",
      "PC_1                                           0.133766                             \n",
      "PC_2                                           0.001518                             \n",
      "\n",
      "      Total Population  ...  \\\n",
      "PC_1          0.148002  ...   \n",
      "PC_2          0.027766  ...   \n",
      "\n",
      "      Percent White alone : in Correctional Facilities for Adults  \\\n",
      "PC_1                                           0.009200             \n",
      "PC_2                                           0.020493             \n",
      "\n",
      "      Percent Black or African American alone : in Correctional Facilities for Adults  \\\n",
      "PC_1                                           0.008418                                 \n",
      "PC_2                                           0.167847                                 \n",
      "\n",
      "      Percent American Indian and Alaska Native alone : in Correctional Facilities for Adults  \\\n",
      "PC_1                                           0.023985                                         \n",
      "PC_2                                           0.086493                                         \n",
      "\n",
      "      Percent Asian alone : in Correctional Facilities for Adults  \\\n",
      "PC_1                                           0.001371             \n",
      "PC_2                                           0.020494             \n",
      "\n",
      "      Percent Native Hawaiian and other Pacific Islander alone : in Correctional Facilities for Adults  \\\n",
      "PC_1                                           0.004163                                                  \n",
      "PC_2                                           0.187867                                                  \n",
      "\n",
      "      Percent Some other race alone : in Correctional Facilities for Adults  \\\n",
      "PC_1                                           0.005225                       \n",
      "PC_2                                           0.153712                       \n",
      "\n",
      "      Percent Two or more races : in Correctional Facilities for Adults  \\\n",
      "PC_1                                           0.006098                   \n",
      "PC_2                                           0.031860                   \n",
      "\n",
      "      Percent Hispanic or Latino : in Correctional Facilities for Adults  \\\n",
      "PC_1                                           0.008912                    \n",
      "PC_2                                           0.130120                    \n",
      "\n",
      "      Percent White alone, not Hispanic or Latino : in Correctional Facilities for Adults  \\\n",
      "PC_1                                           0.006365                                     \n",
      "PC_2                                           0.015968                                     \n",
      "\n",
      "       Cluster  \n",
      "PC_1  0.000485  \n",
      "PC_2  0.043073  \n",
      "\n",
      "[2 rows x 120 columns]\n",
      "\n",
      "*************** Most important features *************************\n",
      "As per PC 1:\n",
      " Series([], Name: PC_1, dtype: float64)\n",
      "\n",
      "\n",
      "As per PC 2:\n",
      " Percent Native Hawaiian and other Pacific Islander alone: in Correctional Facilities for Adults : Men    0.338245\n",
      "Name: PC_2, dtype: float64\n",
      "\n",
      "******************************************************************\n"
     ]
    },
    {
     "name": "stderr",
     "output_type": "stream",
     "text": [
      "/Users/lorenzomendoza/opt/anaconda3/envs/machinelearning/lib/python3.11/site-packages/sklearn/base.py:420: UserWarning:\n",
      "\n",
      "X does not have valid feature names, but PCA was fitted with feature names\n",
      "\n"
     ]
    },
    {
     "data": {
      "application/vnd.plotly.v1+json": {
       "config": {
        "plotlyServerURL": "https://plot.ly"
       },
       "data": [
        {
         "marker": {
          "color": [
           1,
           0,
           2,
           0,
           3,
           2,
           0,
           0,
           0,
           1,
           1,
           0,
           0,
           1,
           1,
           0,
           0,
           2,
           1,
           0,
           1,
           0,
           1,
           0,
           2,
           1,
           0,
           0,
           0,
           0,
           1,
           0,
           1,
           1,
           0,
           1,
           2,
           0,
           1,
           0,
           1,
           2,
           1,
           3,
           0,
           0,
           1,
           0,
           2,
           2,
           0,
           0
          ],
          "size": 8
         },
         "mode": "markers",
         "name": "Data Points",
         "type": "scatter",
         "x": [
          -0.9642723417093892,
          -3.9163861145111767,
          5.400483969885661,
          -2.248465269778433,
          34.12589345124545,
          -0.27622673250618135,
          -2.402660500389041,
          -4.0965360089491165,
          -5.160899079703266,
          10.274681637505429,
          3.697716847633372,
          -0.46128634522703565,
          -3.3707093214833033,
          2.9128613507638925,
          -0.2561760507608129,
          -3.5658748825556534,
          -2.7909609925189063,
          -1.1541407853302965,
          -0.2923599952496437,
          -4.640842707822484,
          -1.2694663509714028,
          -1.6398794046757328,
          0.9047880329782322,
          -2.074380431941122,
          -2.3497456523912583,
          -0.7651214354196709,
          -4.2279436165184086,
          -4.197049236406953,
          -1.8244843540372218,
          -4.583451070728385,
          0.8264633525718125,
          -1.4097401059795849,
          7.309382680324558,
          1.4533452571422083,
          -5.22506987768379,
          2.4308977699525247,
          1.4057958862435684,
          -1.5876327087281779,
          3.906268304648277,
          -4.602257087742883,
          -1.5821589690270101,
          -3.944023568240604,
          -0.34670603855940496,
          20.656288900168175,
          -2.8553168083981335,
          -5.27861219544811,
          1.2113681258328566,
          0.7617603347105668,
          -3.527329560277021,
          -1.031490608694085,
          -4.6215821564971336,
          -2.736757534745772
         ],
         "y": [
          -2.3385206380332497,
          -1.5133933089590934,
          16.08544338862384,
          -0.3541551873996017,
          -0.16238675880992037,
          3.4883289849887875,
          3.1087068176607233,
          -3.9875037344685764,
          -4.163662313312728,
          -2.514453873015197,
          -1.075929981430188,
          -1.249520075671895,
          2.2243396545557554,
          -4.562256437117592,
          -1.3860100916164253,
          -0.24716839669376203,
          -0.588609297940941,
          3.995082251116407,
          0.35707557082689745,
          -4.443344828937287,
          -6.0078235202513826,
          -4.340338391556202,
          -4.08282237622507,
          0.01681719661645249,
          8.308602485139705,
          -2.5656122450870944,
          2.357632214981677,
          -1.9850093712387402,
          -0.5143646443035043,
          -1.9412790909045314,
          -3.0220338792625014,
          1.4994943764834934,
          -5.326254534510509,
          -4.226652788462732,
          -0.9153358699807,
          -2.220424132363122,
          5.97730672553868,
          -0.01628120592778283,
          2.6113264244773973,
          -4.273262229923146,
          -1.2430366567815836,
          7.392170190149773,
          -2.873876965078487,
          0.707028796204401,
          -0.8271021573778152,
          -2.7466187091427643,
          -2.7329532503286935,
          -1.7451527152973276,
          20.862774666559524,
          5.27834911763302,
          2.8598269317647365,
          -4.937156135911111
         ]
        },
        {
         "marker": {
          "color": "red",
          "size": 20,
          "symbol": "x"
         },
         "mode": "markers",
         "name": "Centroids",
         "type": "scatter",
         "x": [
          -3.150280699110368,
          1.7324418928032848,
          -0.684584631413776,
          27.39109117570682
         ],
         "y": [
          -1.1488976189153859,
          -2.541779963191742,
          8.923507226218732,
          0.2723210186972245
         ]
        }
       ],
       "layout": {
        "font": {
         "color": "Black",
         "family": "Arial",
         "size": 12
        },
        "height": 400,
        "margin": {
         "b": 50,
         "l": 50,
         "r": 50,
         "t": 50
        },
        "showlegend": false,
        "template": {
         "data": {
          "bar": [
           {
            "error_x": {
             "color": "#2a3f5f"
            },
            "error_y": {
             "color": "#2a3f5f"
            },
            "marker": {
             "line": {
              "color": "#E5ECF6",
              "width": 0.5
             },
             "pattern": {
              "fillmode": "overlay",
              "size": 10,
              "solidity": 0.2
             }
            },
            "type": "bar"
           }
          ],
          "barpolar": [
           {
            "marker": {
             "line": {
              "color": "#E5ECF6",
              "width": 0.5
             },
             "pattern": {
              "fillmode": "overlay",
              "size": 10,
              "solidity": 0.2
             }
            },
            "type": "barpolar"
           }
          ],
          "carpet": [
           {
            "aaxis": {
             "endlinecolor": "#2a3f5f",
             "gridcolor": "white",
             "linecolor": "white",
             "minorgridcolor": "white",
             "startlinecolor": "#2a3f5f"
            },
            "baxis": {
             "endlinecolor": "#2a3f5f",
             "gridcolor": "white",
             "linecolor": "white",
             "minorgridcolor": "white",
             "startlinecolor": "#2a3f5f"
            },
            "type": "carpet"
           }
          ],
          "choropleth": [
           {
            "colorbar": {
             "outlinewidth": 0,
             "ticks": ""
            },
            "type": "choropleth"
           }
          ],
          "contour": [
           {
            "colorbar": {
             "outlinewidth": 0,
             "ticks": ""
            },
            "colorscale": [
             [
              0,
              "#0d0887"
             ],
             [
              0.1111111111111111,
              "#46039f"
             ],
             [
              0.2222222222222222,
              "#7201a8"
             ],
             [
              0.3333333333333333,
              "#9c179e"
             ],
             [
              0.4444444444444444,
              "#bd3786"
             ],
             [
              0.5555555555555556,
              "#d8576b"
             ],
             [
              0.6666666666666666,
              "#ed7953"
             ],
             [
              0.7777777777777778,
              "#fb9f3a"
             ],
             [
              0.8888888888888888,
              "#fdca26"
             ],
             [
              1,
              "#f0f921"
             ]
            ],
            "type": "contour"
           }
          ],
          "contourcarpet": [
           {
            "colorbar": {
             "outlinewidth": 0,
             "ticks": ""
            },
            "type": "contourcarpet"
           }
          ],
          "heatmap": [
           {
            "colorbar": {
             "outlinewidth": 0,
             "ticks": ""
            },
            "colorscale": [
             [
              0,
              "#0d0887"
             ],
             [
              0.1111111111111111,
              "#46039f"
             ],
             [
              0.2222222222222222,
              "#7201a8"
             ],
             [
              0.3333333333333333,
              "#9c179e"
             ],
             [
              0.4444444444444444,
              "#bd3786"
             ],
             [
              0.5555555555555556,
              "#d8576b"
             ],
             [
              0.6666666666666666,
              "#ed7953"
             ],
             [
              0.7777777777777778,
              "#fb9f3a"
             ],
             [
              0.8888888888888888,
              "#fdca26"
             ],
             [
              1,
              "#f0f921"
             ]
            ],
            "type": "heatmap"
           }
          ],
          "heatmapgl": [
           {
            "colorbar": {
             "outlinewidth": 0,
             "ticks": ""
            },
            "colorscale": [
             [
              0,
              "#0d0887"
             ],
             [
              0.1111111111111111,
              "#46039f"
             ],
             [
              0.2222222222222222,
              "#7201a8"
             ],
             [
              0.3333333333333333,
              "#9c179e"
             ],
             [
              0.4444444444444444,
              "#bd3786"
             ],
             [
              0.5555555555555556,
              "#d8576b"
             ],
             [
              0.6666666666666666,
              "#ed7953"
             ],
             [
              0.7777777777777778,
              "#fb9f3a"
             ],
             [
              0.8888888888888888,
              "#fdca26"
             ],
             [
              1,
              "#f0f921"
             ]
            ],
            "type": "heatmapgl"
           }
          ],
          "histogram": [
           {
            "marker": {
             "pattern": {
              "fillmode": "overlay",
              "size": 10,
              "solidity": 0.2
             }
            },
            "type": "histogram"
           }
          ],
          "histogram2d": [
           {
            "colorbar": {
             "outlinewidth": 0,
             "ticks": ""
            },
            "colorscale": [
             [
              0,
              "#0d0887"
             ],
             [
              0.1111111111111111,
              "#46039f"
             ],
             [
              0.2222222222222222,
              "#7201a8"
             ],
             [
              0.3333333333333333,
              "#9c179e"
             ],
             [
              0.4444444444444444,
              "#bd3786"
             ],
             [
              0.5555555555555556,
              "#d8576b"
             ],
             [
              0.6666666666666666,
              "#ed7953"
             ],
             [
              0.7777777777777778,
              "#fb9f3a"
             ],
             [
              0.8888888888888888,
              "#fdca26"
             ],
             [
              1,
              "#f0f921"
             ]
            ],
            "type": "histogram2d"
           }
          ],
          "histogram2dcontour": [
           {
            "colorbar": {
             "outlinewidth": 0,
             "ticks": ""
            },
            "colorscale": [
             [
              0,
              "#0d0887"
             ],
             [
              0.1111111111111111,
              "#46039f"
             ],
             [
              0.2222222222222222,
              "#7201a8"
             ],
             [
              0.3333333333333333,
              "#9c179e"
             ],
             [
              0.4444444444444444,
              "#bd3786"
             ],
             [
              0.5555555555555556,
              "#d8576b"
             ],
             [
              0.6666666666666666,
              "#ed7953"
             ],
             [
              0.7777777777777778,
              "#fb9f3a"
             ],
             [
              0.8888888888888888,
              "#fdca26"
             ],
             [
              1,
              "#f0f921"
             ]
            ],
            "type": "histogram2dcontour"
           }
          ],
          "mesh3d": [
           {
            "colorbar": {
             "outlinewidth": 0,
             "ticks": ""
            },
            "type": "mesh3d"
           }
          ],
          "parcoords": [
           {
            "line": {
             "colorbar": {
              "outlinewidth": 0,
              "ticks": ""
             }
            },
            "type": "parcoords"
           }
          ],
          "pie": [
           {
            "automargin": true,
            "type": "pie"
           }
          ],
          "scatter": [
           {
            "fillpattern": {
             "fillmode": "overlay",
             "size": 10,
             "solidity": 0.2
            },
            "type": "scatter"
           }
          ],
          "scatter3d": [
           {
            "line": {
             "colorbar": {
              "outlinewidth": 0,
              "ticks": ""
             }
            },
            "marker": {
             "colorbar": {
              "outlinewidth": 0,
              "ticks": ""
             }
            },
            "type": "scatter3d"
           }
          ],
          "scattercarpet": [
           {
            "marker": {
             "colorbar": {
              "outlinewidth": 0,
              "ticks": ""
             }
            },
            "type": "scattercarpet"
           }
          ],
          "scattergeo": [
           {
            "marker": {
             "colorbar": {
              "outlinewidth": 0,
              "ticks": ""
             }
            },
            "type": "scattergeo"
           }
          ],
          "scattergl": [
           {
            "marker": {
             "colorbar": {
              "outlinewidth": 0,
              "ticks": ""
             }
            },
            "type": "scattergl"
           }
          ],
          "scattermapbox": [
           {
            "marker": {
             "colorbar": {
              "outlinewidth": 0,
              "ticks": ""
             }
            },
            "type": "scattermapbox"
           }
          ],
          "scatterpolar": [
           {
            "marker": {
             "colorbar": {
              "outlinewidth": 0,
              "ticks": ""
             }
            },
            "type": "scatterpolar"
           }
          ],
          "scatterpolargl": [
           {
            "marker": {
             "colorbar": {
              "outlinewidth": 0,
              "ticks": ""
             }
            },
            "type": "scatterpolargl"
           }
          ],
          "scatterternary": [
           {
            "marker": {
             "colorbar": {
              "outlinewidth": 0,
              "ticks": ""
             }
            },
            "type": "scatterternary"
           }
          ],
          "surface": [
           {
            "colorbar": {
             "outlinewidth": 0,
             "ticks": ""
            },
            "colorscale": [
             [
              0,
              "#0d0887"
             ],
             [
              0.1111111111111111,
              "#46039f"
             ],
             [
              0.2222222222222222,
              "#7201a8"
             ],
             [
              0.3333333333333333,
              "#9c179e"
             ],
             [
              0.4444444444444444,
              "#bd3786"
             ],
             [
              0.5555555555555556,
              "#d8576b"
             ],
             [
              0.6666666666666666,
              "#ed7953"
             ],
             [
              0.7777777777777778,
              "#fb9f3a"
             ],
             [
              0.8888888888888888,
              "#fdca26"
             ],
             [
              1,
              "#f0f921"
             ]
            ],
            "type": "surface"
           }
          ],
          "table": [
           {
            "cells": {
             "fill": {
              "color": "#EBF0F8"
             },
             "line": {
              "color": "white"
             }
            },
            "header": {
             "fill": {
              "color": "#C8D4E3"
             },
             "line": {
              "color": "white"
             }
            },
            "type": "table"
           }
          ]
         },
         "layout": {
          "annotationdefaults": {
           "arrowcolor": "#2a3f5f",
           "arrowhead": 0,
           "arrowwidth": 1
          },
          "autotypenumbers": "strict",
          "coloraxis": {
           "colorbar": {
            "outlinewidth": 0,
            "ticks": ""
           }
          },
          "colorscale": {
           "diverging": [
            [
             0,
             "#8e0152"
            ],
            [
             0.1,
             "#c51b7d"
            ],
            [
             0.2,
             "#de77ae"
            ],
            [
             0.3,
             "#f1b6da"
            ],
            [
             0.4,
             "#fde0ef"
            ],
            [
             0.5,
             "#f7f7f7"
            ],
            [
             0.6,
             "#e6f5d0"
            ],
            [
             0.7,
             "#b8e186"
            ],
            [
             0.8,
             "#7fbc41"
            ],
            [
             0.9,
             "#4d9221"
            ],
            [
             1,
             "#276419"
            ]
           ],
           "sequential": [
            [
             0,
             "#0d0887"
            ],
            [
             0.1111111111111111,
             "#46039f"
            ],
            [
             0.2222222222222222,
             "#7201a8"
            ],
            [
             0.3333333333333333,
             "#9c179e"
            ],
            [
             0.4444444444444444,
             "#bd3786"
            ],
            [
             0.5555555555555556,
             "#d8576b"
            ],
            [
             0.6666666666666666,
             "#ed7953"
            ],
            [
             0.7777777777777778,
             "#fb9f3a"
            ],
            [
             0.8888888888888888,
             "#fdca26"
            ],
            [
             1,
             "#f0f921"
            ]
           ],
           "sequentialminus": [
            [
             0,
             "#0d0887"
            ],
            [
             0.1111111111111111,
             "#46039f"
            ],
            [
             0.2222222222222222,
             "#7201a8"
            ],
            [
             0.3333333333333333,
             "#9c179e"
            ],
            [
             0.4444444444444444,
             "#bd3786"
            ],
            [
             0.5555555555555556,
             "#d8576b"
            ],
            [
             0.6666666666666666,
             "#ed7953"
            ],
            [
             0.7777777777777778,
             "#fb9f3a"
            ],
            [
             0.8888888888888888,
             "#fdca26"
            ],
            [
             1,
             "#f0f921"
            ]
           ]
          },
          "colorway": [
           "#636efa",
           "#EF553B",
           "#00cc96",
           "#ab63fa",
           "#FFA15A",
           "#19d3f3",
           "#FF6692",
           "#B6E880",
           "#FF97FF",
           "#FECB52"
          ],
          "font": {
           "color": "#2a3f5f"
          },
          "geo": {
           "bgcolor": "white",
           "lakecolor": "white",
           "landcolor": "#E5ECF6",
           "showlakes": true,
           "showland": true,
           "subunitcolor": "white"
          },
          "hoverlabel": {
           "align": "left"
          },
          "hovermode": "closest",
          "mapbox": {
           "style": "light"
          },
          "paper_bgcolor": "white",
          "plot_bgcolor": "#E5ECF6",
          "polar": {
           "angularaxis": {
            "gridcolor": "white",
            "linecolor": "white",
            "ticks": ""
           },
           "bgcolor": "#E5ECF6",
           "radialaxis": {
            "gridcolor": "white",
            "linecolor": "white",
            "ticks": ""
           }
          },
          "scene": {
           "xaxis": {
            "backgroundcolor": "#E5ECF6",
            "gridcolor": "white",
            "gridwidth": 2,
            "linecolor": "white",
            "showbackground": true,
            "ticks": "",
            "zerolinecolor": "white"
           },
           "yaxis": {
            "backgroundcolor": "#E5ECF6",
            "gridcolor": "white",
            "gridwidth": 2,
            "linecolor": "white",
            "showbackground": true,
            "ticks": "",
            "zerolinecolor": "white"
           },
           "zaxis": {
            "backgroundcolor": "#E5ECF6",
            "gridcolor": "white",
            "gridwidth": 2,
            "linecolor": "white",
            "showbackground": true,
            "ticks": "",
            "zerolinecolor": "white"
           }
          },
          "shapedefaults": {
           "line": {
            "color": "#2a3f5f"
           }
          },
          "ternary": {
           "aaxis": {
            "gridcolor": "white",
            "linecolor": "white",
            "ticks": ""
           },
           "baxis": {
            "gridcolor": "white",
            "linecolor": "white",
            "ticks": ""
           },
           "bgcolor": "#E5ECF6",
           "caxis": {
            "gridcolor": "white",
            "linecolor": "white",
            "ticks": ""
           }
          },
          "title": {
           "x": 0.05
          },
          "xaxis": {
           "automargin": true,
           "gridcolor": "white",
           "linecolor": "white",
           "ticks": "",
           "title": {
            "standoff": 15
           },
           "zerolinecolor": "white",
           "zerolinewidth": 2
          },
          "yaxis": {
           "automargin": true,
           "gridcolor": "white",
           "linecolor": "white",
           "ticks": "",
           "title": {
            "standoff": 15
           },
           "zerolinecolor": "white",
           "zerolinewidth": 2
          }
         }
        },
        "title": {
         "text": "K-Mean Clusters with Centroids"
        },
        "width": 1000,
        "xaxis": {
         "title": {
          "text": "PCA 1"
         }
        },
        "yaxis": {
         "title": {
          "text": "PCA 2"
         }
        }
       }
      }
     },
     "metadata": {},
     "output_type": "display_data"
    }
   ],
   "source": [
    "X = getX(df)\n",
    "pca_result, pca_2_1 = pca_embeddings(X)\n",
    "kmeans = KMeans(n_clusters=4, init = 'k-means++', n_init=10)\n",
    "kmeans.fit(X)\n",
    "centroids = kmeans.cluster_centers_\n",
    "centroids_pca = pca_2_1.transform(centroids)\n",
    "visualizing_results_cluster(pca_result, kmeans.labels_, centroids_pca)\n"
   ]
  },
  {
   "cell_type": "code",
   "execution_count": 180,
   "metadata": {},
   "outputs": [],
   "source": [
    "import plotly.graph_objs as go\n",
    "import pandas as pd\n",
    "\n",
    "def visualizing_results_3d(X, gmm, feature_names):\n",
    "    # Make predictions\n",
    "    labels = gmm.predict(X)\n",
    "    # Create a DataFrame with the data points and their predicted cluster labels\n",
    "    df = pd.DataFrame(X, columns=feature_names)\n",
    "    df['label'] = labels\n",
    "\n",
    "    # Create a 3D scatter plot\n",
    "    fig = go.Figure(data=[go.Scatter3d(\n",
    "        x=df[feature_names[0]],\n",
    "        y=df[feature_names[1]],\n",
    "        z=df[feature_names[2]],\n",
    "        mode='markers',\n",
    "        marker=dict(\n",
    "            size=5,\n",
    "            color=df['label'],\n",
    "            colorscale='Viridis',\n",
    "            opacity=0.8\n",
    "        )\n",
    "    )])\n",
    "\n",
    "    # Set the axis labels and title\n",
    "    fig.update_layout(\n",
    "        scene=dict(\n",
    "            xaxis_title=feature_names[0],\n",
    "            yaxis_title=feature_names[1],\n",
    "            zaxis_title=feature_names[2],\n",
    "            aspectratio=dict(x=1, y=1, z=0.7),\n",
    "            camera=dict(\n",
    "                eye=dict(x=1.2, y=1.2, z=1.2),\n",
    "                center=dict(x=0, y=0, z=0),\n",
    "                up=dict(x=0, y=0, z=1)\n",
    "            )\n",
    "        ),\n",
    "        title='Gaussian Mixture Model Clusters in 3D Space'\n",
    "    )\n",
    "\n",
    "    fig.show()\n"
   ]
  }
 ],
 "metadata": {
  "kernelspec": {
   "display_name": "machinelearning",
   "language": "python",
   "name": "python3"
  },
  "language_info": {
   "codemirror_mode": {
    "name": "ipython",
    "version": 3
   },
   "file_extension": ".py",
   "mimetype": "text/x-python",
   "name": "python",
   "nbconvert_exporter": "python",
   "pygments_lexer": "ipython3",
   "version": "3.11.0"
  },
  "orig_nbformat": 4
 },
 "nbformat": 4,
 "nbformat_minor": 2
}
