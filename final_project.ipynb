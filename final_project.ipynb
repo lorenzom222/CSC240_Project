{
 "cells": [
  {
   "cell_type": "code",
   "execution_count": 169,
   "metadata": {},
   "outputs": [],
   "source": [
    "import pandas as pd\n",
    "import numpy as np\n",
    "import matplotlib.pyplot as plt\n",
    "\n",
    "from sklearn.cluster import KMeans\n",
    "from sklearn.mixture import GaussianMixture\n",
    "from sklearn.preprocessing import StandardScaler\n",
    "from sklearn.exceptions import ConvergenceWarning\n",
    "from sklearn.model_selection import cross_val_score\n",
    "\n",
    "\n",
    "\n",
    "from plotly.subplots import make_subplots\n",
    "import plotly.graph_objs as go\n",
    "import plotly.express as px\n",
    "\n",
    "import warnings\n",
    "\n",
    "import seaborn as sns\n",
    "\n",
    "\n"
   ]
  },
  {
   "cell_type": "code",
   "execution_count": 170,
   "metadata": {},
   "outputs": [],
   "source": [
    "\n",
    "\n",
    "# for col in data_t.columns:\n",
    "#    if not (data_t[col].apply(lambda x: isinstance(x, str))).all():\n",
    "#        continue\n",
    "   \n",
    "#    if (data_t[col].apply(lambda x: isinstance(x, str)).all() & data_t[col].str.contains(',')).any():\n",
    "#         try:\n",
    "#             data_t[col] = data_t[col].replace('[\\$,]', '', regex=True).astype(float)\n",
    "#         except AttributeError as err:\n",
    "#             print([col])\n",
    "#             break   \n",
    "# data_t = data_t.iloc[1:, :]"
   ]
  },
  {
   "cell_type": "code",
   "execution_count": null,
   "metadata": {},
   "outputs": [],
   "source": [
    "\n",
    "    "
   ]
  },
  {
   "cell_type": "code",
   "execution_count": 171,
   "metadata": {},
   "outputs": [],
   "source": [
    "def processData(flag=False):\n",
    "    data_t = pd.read_csv('prison_2010_excel.txt', delimiter='\\t', skiprows=2)\n",
    "    data_t = data_t.drop((53))\n",
    "    data_t = data_t.drop((0))\n",
    "\n",
    "    df = data_t.iloc[:, 2:]\n",
    "    df.iloc[:, 1:] = df.iloc[:, 1:].astype(float)\n",
    "\n",
    "    # Create a boolean mask of NaN values\n",
    "    nan_mask = df.isnull()\n",
    "\n",
    "    # Check for any NaN values in each row\n",
    "    nan_in_row = nan_mask.any(axis=1)\n",
    "\n",
    "    # Check for any NaN values in each column\n",
    "    nan_in_col = nan_mask.any(axis=0)\n",
    "    rows_with_nans = df[nan_in_row]\n",
    "    cols_with_nans = df.loc[:, nan_in_col]\n",
    "    if flag:\n",
    "        print(\"Features Containing NaN:\", cols_with_nans)\n",
    "    \n",
    "    # Drop columns with NaN values and filter out columns containing \"Population\"\n",
    "    # df = df.drop(columns=cols_with_nans).filter(regex='^(?!.*(Population)).*')\n",
    "    df = df.drop(columns=cols_with_nans)\n",
    "\n",
    "\n",
    "    # Add Percentages to DataFrame\n",
    "    percent_men = getPercentage(df)[0]\n",
    "    percent_women= getPercentage(df)[1]\n",
    "    percent_both= getPercentage(df)[2]\n",
    "    \n",
    "    \n",
    "    # Standardize the numerical features\n",
    "    num_cols = df.select_dtypes(include=['int64', 'float64']).columns\n",
    "    scaler = StandardScaler()\n",
    "    df_std = pd.DataFrame(scaler.fit_transform(df[num_cols]), columns=num_cols, index=df.index)\n",
    "    df[df_std.columns] = df_std\n",
    "    df = pd.concat([df, percent_men, percent_women, percent_both], axis=1)\n",
    "\n",
    "\n",
    "    \n",
    "    return df\n",
    "\n",
    "def getX(df):\n",
    "       X = df.iloc[:, 2:]\n",
    "       return X\n",
    "\n",
    "def runKmeans(data, X, n):\n",
    "    kmeans = KMeans(n_clusters=n, init = 'k-means++', n_init=10)\n",
    "    kmeans.fit(X)\n",
    "    cluster_data = data.copy() \n",
    "    cluster_data['Cluster'] = kmeans.labels_\n",
    "    return cluster_data\n",
    "\n",
    "def runGaussian(data, X, n):\n",
    "    X = X.filter(regex='^(?!.*(Total)).*')\n",
    "    cluster_data = data.copy()\n",
    "\n",
    "    # Fit a Gaussian Mixture Model with 4 clusters\n",
    "    gmm = GaussianMixture(n_components=n)\n",
    "    gmm.fit(X)\n",
    "\n",
    "    # Get cluster predictions for each row\n",
    "    clusters = gmm.predict(X)\n",
    "\n",
    "    # Get probability scores for each row\n",
    "    probs = gmm.predict_proba(X)\n",
    "\n",
    "    # Add cluster and probability columns to original dataframe\n",
    "    cluster_data['Cluster'] = clusters\n",
    "    cluster_data['Probability'] = probs.max(axis=1)\n",
    "\n",
    "    # Print the\n",
    "    return cluster_data\n",
    "\n",
    "\n",
    "def createBarChart(cluster_data, x_axis=\"Geography\", y_axis=\"empty\"): \n",
    "    fig = px.bar(cluster_data, x=x_axis, y=y_axis, color='Cluster')\n",
    "    fig.show()\n",
    "\n",
    "def stateClusterGraph(cluster_data):\n",
    "    state_abbreviations = {\n",
    "    'Alabama': 'AL',\n",
    "    'Alaska': 'AK',\n",
    "    'Arizona': 'AZ',\n",
    "    'Arkansas': 'AR',\n",
    "    'California': 'CA',\n",
    "    'Colorado': 'CO',\n",
    "    'Connecticut': 'CT',\n",
    "    'Delaware': 'DE',\n",
    "    'Florida': 'FL',\n",
    "    'Georgia': 'GA',\n",
    "    'Hawaii': 'HI',\n",
    "    'Idaho': 'ID',\n",
    "    'Illinois': 'IL',\n",
    "    'Indiana': 'IN',\n",
    "    'Iowa': 'IA',\n",
    "    'Kansas': 'KS',\n",
    "    'Kentucky': 'KY',\n",
    "    'Louisiana': 'LA',\n",
    "    'Maine': 'ME',\n",
    "    'Maryland': 'MD',\n",
    "    'Massachusetts': 'MA',\n",
    "    'Michigan': 'MI',\n",
    "    'Minnesota': 'MN',\n",
    "    'Mississippi': 'MS',\n",
    "    'Missouri': 'MO',\n",
    "    'Montana': 'MT',\n",
    "    'Nebraska': 'NE',\n",
    "    'Nevada': 'NV',\n",
    "    'New Hampshire': 'NH',\n",
    "    'New Jersey': 'NJ',\n",
    "    'New Mexico': 'NM',\n",
    "    'New York': 'NY',\n",
    "    'North Carolina': 'NC',\n",
    "    'North Dakota': 'ND',\n",
    "    'Ohio': 'OH',\n",
    "    'Oklahoma': 'OK',\n",
    "    'Oregon': 'OR',\n",
    "    'Pennsylvania': 'PA',\n",
    "    'Rhode Island': 'RI',\n",
    "    'South Carolina': 'SC',\n",
    "    'South Dakota': 'SD',\n",
    "    'Tennessee': 'TN',\n",
    "    'Texas': 'TX',\n",
    "    'Utah': 'UT',\n",
    "    'Vermont': 'VT',\n",
    "    'Virginia': 'VA',\n",
    "    'Washington': 'WA',\n",
    "    'West Virginia': 'WV',\n",
    "    'Wisconsin': 'WI',\n",
    "    'Wyoming': 'WY'\n",
    "    }\n",
    "    cluster_data['State Abbreviation'] = cluster_data['Geography'].map(state_abbreviations)\n",
    "\n",
    "\n",
    "    # Create a choropleth map\n",
    "    fig = px.choropleth(cluster_data, locations='State Abbreviation', locationmode='USA-states', color='Cluster', scope='usa', title='Clusters by State')\n",
    "\n",
    "    # fig.show()\n",
    "    return fig\n",
    "\n",
    "\n",
    "def elbow_method(df, n):\n",
    "    # Create a new DataFrame with only the columns you want to use for clustering\n",
    "    X = df.iloc[:,1:6]\n",
    "\n",
    "    # Perform K-means clustering for different values of K\n",
    "    inertias = []\n",
    "    for k in range(1, n):\n",
    "        kmeans = KMeans(n_clusters=k, init = 'k-means++' , random_state=42, n_init=10).fit(X)\n",
    "        inertia = kmeans.inertia_\n",
    "        inertias.append(inertia)\n",
    "\n",
    "    # Plot the elbow curve to choose the optimal value of K\n",
    "    plt.plot(range(1, n), inertias, 'bx-')\n",
    "    plt.xlabel('Number of clusters (K)')\n",
    "    plt.ylabel('Inertia')\n",
    "    plt.title('Elbow Method For Optimal K')\n",
    "    plt.show()\n",
    "\n",
    "    # create dataframe for elbow plot data\n",
    "    elbow_data = pd.DataFrame({\n",
    "        'K': range(1, n),\n",
    "        'Inertia': inertias\n",
    "    })\n",
    "    elbow_data = elbow_data.set_index('K')\n",
    "\n",
    "    # print(elbow_data)\n",
    "\n",
    "    # Calculate the slope and second derivative of the inertia curve\n",
    "    slopes = [inertias[i+1] - inertias[i] for i in range(len(inertias)-1)]\n",
    "    second_derivatives = [slopes[i+1] - slopes[i] for i in range(len(slopes)-1)]\n",
    "\n",
    "    # Find the index of the maximum second derivative\n",
    "    max_index = second_derivatives.index(max(second_derivatives))\n",
    "\n",
    "    # The optimal value of K is one more than the index of the maximum second derivative\n",
    "    best_k = max_index + 2\n",
    "    # print(best_k)\n",
    "\n",
    "    # return df, elbow_data, inertias, best_k\n",
    "\n",
    "\n",
    "def correlationMap(df):\n",
    "    # Select only the numeric columns\n",
    "    numeric_columns = df.select_dtypes(include=['int64', 'float64'])\n",
    "    \n",
    "    # Calculate the correlation matrix\n",
    "    corr_matrix = numeric_columns.corr()\n",
    "    \n",
    "    # Set the upper triangle to NaN\n",
    "    corr_matrix = corr_matrix.where(np.tril(np.ones(corr_matrix.shape)).astype(np.bool))\n",
    "    np.fill_diagonal(corr_matrix.values, np.nan)\n",
    "\n",
    "    \n",
    "    # Create a heatmap using seaborn\n",
    "    plt.figure(figsize=(10, 7))\n",
    "    sns.heatmap(corr_matrix, annot=False, cmap='coolwarm')\n",
    "    plt.title('Correlation of Numeric Features')\n",
    "    plt.show()\n",
    "\n",
    "def visualizing_results_2d(df, n):\n",
    "    # Create a new DataFrame with only the columns you want to use for clustering\n",
    "    X = df[['Incarceration rate', 'Female incarceration rate', 'Male incarceration rate']]\n",
    "\n",
    "    # Create a KMeans instance with k = 3\n",
    "    kmeans = KMeans(n_clusters=n, init = 'k-means++', n_init=10)\n",
    "    # Fit the model to the data\n",
    "    kmeans.fit(X)\n",
    "    # Get the cluster assignments for each data point\n",
    "    df['Cluster'] = kmeans.labels_\n",
    "\n",
    "    # Get the cluster centroids\n",
    "    centroids = kmeans.cluster_centers_\n",
    "\n",
    "    # Create an empty figure\n",
    "    fig = make_subplots(rows=3, cols=1, subplot_titles=(\n",
    "        \"IR by FIR\", \"IR by MIR\", \"FIR by MIR\"))\n",
    "\n",
    "    # Add a scatter plot of the data points to the first subplot\n",
    "    fig.add_trace(\n",
    "        go.Scatter(\n",
    "            x=df['Incarceration rate'],\n",
    "            y=df['Female incarceration rate'],\n",
    "            mode='markers',\n",
    "            marker=dict(\n",
    "                color=df['Cluster']\n",
    "            ),\n",
    "            showlegend=False\n",
    "        ),\n",
    "        row=1,\n",
    "        col=1\n",
    "    )\n",
    "\n",
    "    # Add a scatter plot of the centroids to the first subplot\n",
    "    fig.add_trace(\n",
    "        go.Scatter(\n",
    "            x=centroids[:, 1],\n",
    "            y=centroids[:, 0],\n",
    "            mode='markers',\n",
    "            marker=dict(\n",
    "                size=10,\n",
    "                color='red',\n",
    "                symbol='star',\n",
    "                line=dict(\n",
    "                    width=1,\n",
    "                    color='black'\n",
    "                )\n",
    "            ),\n",
    "            name='Centroids'\n",
    "        ),\n",
    "        row=1,\n",
    "        col=1\n",
    "    )\n",
    "\n",
    "    # Add a scatter plot of word_id by counts to the second subplot\n",
    "    fig.add_trace(\n",
    "        go.Scatter(\n",
    "            x=df['Incarceration rate'],\n",
    "            y=df['Male incarceration rate'],\n",
    "            mode='markers',\n",
    "            marker=dict(\n",
    "                color=df['Cluster']\n",
    "            ),\n",
    "            showlegend=False\n",
    "        ),\n",
    "        row=2,\n",
    "        col=1\n",
    "    )\n",
    "\n",
    "        # Add a scatter plot of the centroids to the second subplot\n",
    "    fig.add_trace(\n",
    "        go.Scatter(\n",
    "            x=centroids[:, 1],\n",
    "            y=centroids[:, 0],\n",
    "            mode='markers',\n",
    "            marker=dict(\n",
    "                size=10,\n",
    "                color='red',\n",
    "                symbol='star',\n",
    "                line=dict(\n",
    "                    width=1,\n",
    "                    color='black'\n",
    "                )\n",
    "            ),\n",
    "            name='Centroids'\n",
    "        ),\n",
    "        row=2,\n",
    "        col=1\n",
    "    )\n",
    "\n",
    "    # Add a scatter plot of doc_id by counts to the third subplot\n",
    "    fig.add_trace(\n",
    "        go.Scatter(\n",
    "            x=df['Female incarceration rate'],\n",
    "            y=df['Male incarceration rate'],\n",
    "            mode='markers',\n",
    "            marker=dict(\n",
    "                color=df['Cluster']\n",
    "            ),\n",
    "            showlegend=False\n",
    "        ),\n",
    "        row=3,\n",
    "        col=1\n",
    "    )\n",
    "\n",
    "    # Add a scatter plot of the centroids to the second subplot\n",
    "    fig.add_trace(\n",
    "        go.Scatter(\n",
    "            x=centroids[:, 1],\n",
    "            y=centroids[:, 0],\n",
    "            mode='markers',\n",
    "            marker=dict(\n",
    "                size=10,\n",
    "                color='red',\n",
    "                symbol='star',\n",
    "                line=dict(\n",
    "                    width=1,\n",
    "                    color='black'\n",
    "                )\n",
    "            ),\n",
    "            name='Centroids'\n",
    "        ),\n",
    "        row=3,\n",
    "        col=1\n",
    "    )\n",
    "\n",
    "\n",
    "    # Update the layout of the figure\n",
    "    fig.update_layout(\n",
    "        height=900,\n",
    "        xaxis=dict(\n",
    "            title='Incarceration rate'\n",
    "        ),\n",
    "        xaxis2=dict(\n",
    "            title='Incarceration rate'\n",
    "        ),\n",
    "        xaxis3=dict(\n",
    "            title='Female incarceration rate'\n",
    "        ),\n",
    "        yaxis=dict(\n",
    "            title='Female incarceration rate'\n",
    "        ),\n",
    "        yaxis2=dict(\n",
    "            title='Male incarceration rate'\n",
    "        ),\n",
    "        yaxis3=dict(\n",
    "            title='Male incarceration rate'\n",
    "        ),\n",
    "        title='Clusters'\n",
    "    )\n",
    "\n",
    "    # Show the figure\n",
    "    fig.show()\n",
    "def visualizing_results_3d(df, n):\n",
    "    # Create a new DataFrame with only the columns you want to use for clustering\n",
    "    X = df[['Incarceration rate', 'Female incarceration rate', 'Male incarceration rate']]\n",
    "    \n",
    "    # Create a KMeans instance with k = 3\n",
    "    kmeans = KMeans(n_clusters=n, init='k-means++', n_init=10)\n",
    "    \n",
    "    # Fit the model to the data\n",
    "    kmeans.fit(X)\n",
    "    \n",
    "    # Get the cluster assignments for each data point\n",
    "    df['Cluster'] = kmeans.labels_\n",
    "    \n",
    "    # Get the cluster centroids\n",
    "    centroids = kmeans.cluster_centers_\n",
    "    \n",
    "    # Create an empty figure\n",
    "    fig = make_subplots(rows=1, cols=1, specs=[[{'type': 'scatter3d'}]])\n",
    "    \n",
    "    # Add a 3D scatter plot of the data points\n",
    "    fig.add_trace(\n",
    "        go.Scatter3d(\n",
    "            x=df['Incarceration rate'],\n",
    "            y=df['Female incarceration rate'],\n",
    "            z=df['Male incarceration rate'],\n",
    "            mode='markers',\n",
    "            marker=dict(color=df['Cluster']),\n",
    "            showlegend=False\n",
    "        )\n",
    "    )\n",
    "    \n",
    "    # Add a scatter plot of the centroids\n",
    "    fig.add_trace(\n",
    "        go.Scatter3d(\n",
    "            x=centroids[:, 0],\n",
    "            y=centroids[:, 1],\n",
    "            z=centroids[:, 2],\n",
    "            mode='markers',\n",
    "            marker=dict(size=10, color='red', symbol='circle', line=dict(width=1, color='black')),\n",
    "            name='Centroids'\n",
    "        )\n",
    "    )\n",
    "    \n",
    "    # Update the layout of the figure\n",
    "    fig.update_layout(\n",
    "        height=800,\n",
    "        margin=dict(l=0, r=0, b=0, t=0),\n",
    "        scene=dict(\n",
    "            xaxis=dict(title='Incarceration rate'),\n",
    "            yaxis=dict(title='Female incarceration rate'),\n",
    "            zaxis=dict(title='Male incarceration rate')\n",
    "        ),\n",
    "        title='Clusters'\n",
    "    )\n",
    "    \n",
    "    # Show the figure\n",
    "    fig.show()\n",
    "\n",
    "\n",
    "def getCorrectionalPopulation(df):\n",
    "    # Use filter and regex pattern to separate columns into their own dataframes\n",
    "\n",
    "    # filter columns based on gender\n",
    "    male_cols = df.filter(regex='(Total Men|: Men$)').columns.tolist()\n",
    "    female_cols = df.filter(regex='(Total Women|: Women$)').columns.tolist()\n",
    "    both_cols = df.filter(regex='(: In Correctional Facilities for Adults|: in Correctional Facilities for Adults$)').columns.tolist()\n",
    "\n",
    "\n",
    "    df_male = df[male_cols]\n",
    "    df_female = df[female_cols]\n",
    "    df_both = df[both_cols]\n",
    "\n",
    "\n",
    "    drop_men_women = [col for col in df_both.columns if 'Men' in col or 'Women' in col]\n",
    "    df_both = df_both.drop(drop_men_women, axis=1)\n",
    "\n",
    "    return df_male, df_female, df_both\n",
    "\n",
    "\n",
    "def getPercentage(df):\n",
    "    corr_men = getCorrectionalPopulation(df)[0]\n",
    "    corr_women = getCorrectionalPopulation(df)[1]\n",
    "    corr_both = getCorrectionalPopulation(df)[2]\n",
    "    \n",
    "    pop_men = getPopulation(df)[0]\n",
    "    pop_men.columns = corr_men.columns\n",
    "    pop_women = getPopulation(df)[1]\n",
    "    pop_women.columns = corr_women.columns\n",
    "    pop_both = getPopulation(df)[2]\n",
    "    pop_both.columns = corr_both.columns\n",
    "\n",
    "    \n",
    "\n",
    "    percent_men = corr_men.div(pop_men, axis=0)*100\n",
    "    percent_men.columns = ['Percent ' + col for col in percent_men.columns]\n",
    "\n",
    "    percent_women = corr_women.div(pop_women, axis=0)*100\n",
    "    percent_women.columns = ['Percent ' + col for col in percent_women.columns]\n",
    "\n",
    "    percent_both = corr_both.div(pop_both, axis=0)*100\n",
    "    percent_both.columns = ['Percent ' + col for col in percent_both.columns]\n",
    "    return percent_men, percent_women, percent_both\n",
    "\n",
    "def getPopulation(df):\n",
    "    # Use filter and regex pattern to separate columns into their own dataframes\n",
    "\n",
    "    # filter columns based on gender\n",
    "    male_cols = df.filter(regex=': Male$').columns.tolist()\n",
    "    female_cols = df.filter(regex=': Female$').columns.tolist() \n",
    "    both_cols = df.filter(regex='Total Population(?!.*(Male|Female)).*').columns.tolist()\n",
    "\n",
    "    # create dataframes for male, female, and both\n",
    "    df_male = df[male_cols]\n",
    "    df_female = df[female_cols]\n",
    "    df_both = df[both_cols]\n",
    "    return df_male, df_female, df_both\n",
    "\n"
   ]
  },
  {
   "attachments": {},
   "cell_type": "markdown",
   "metadata": {},
   "source": [
    "## Raw Data\n",
    "- After loading it data into data\\_t we can then process and clean the data by calling processData() on it"
   ]
  },
  {
   "cell_type": "code",
   "execution_count": 172,
   "metadata": {},
   "outputs": [
    {
     "name": "stdout",
     "output_type": "stream",
     "text": [
      "['Geography', 'Total : In Correctional Facilities for Adults', 'White alone : in Correctional Facilities for Adults', 'Black or African American alone : in Correctional Facilities for Adults', 'American Indian and Alaska Native alone : in Correctional Facilities for Adults', 'Asian alone : in Correctional Facilities for Adults', 'Native Hawaiian and other Pacific Islander alone : in Correctional Facilities for Adults', 'Some other race alone : in Correctional Facilities for Adults', 'Two or more races : in Correctional Facilities for Adults', 'Hispanic or Latino : in Correctional Facilities for Adults', 'White alone, not Hispanic or Latino : in Correctional Facilities for Adults', 'Total Population', 'Total Population: White alone', 'Total Population: Black or African American alone', 'Total Population: American Indian and Alaska Native alone', 'Total Population: Asian alone', 'Total Population: Native Hawaiian and other Pacific Islander alone', 'Total Population: Some other race alone', 'Total Population: Two or more races', 'Total Population: Hispanic or Latino', 'Total Population: White alone, not Hispanic or Latino', 'Incarceration rate', 'Incarceration rate: White alone', 'Incarceration rate: Black or African American alone', 'Incarceration rate: American Indian and Alaska Native alone', 'Incarceration rate: Asian alone', 'Incarceration rate: Native Hawaiian and other Pacific Islander alone', 'Incarceration rate: Some other race alone', 'Incarceration rate: Two or more races', 'Incarceration rate: Hispanic or Latino', 'Incarceration rate: White alone, not Hispanic or Latino', 'Total Men : In Correctional Facilities for Adults', 'White alone: in Correctional Facilities for Adults : Men', 'Black or African American alone: in Correctional Facilities for Adults : Men', 'American Indian and Alaska Native alone: in Correctional Facilities for Adults : Men', 'Asian alone: in Correctional Facilities for Adults : Men', 'Native Hawaiian and other Pacific Islander alone: in Correctional Facilities for Adults : Men', 'Some other race alone: in Correctional Facilities for Adults : Men', 'Two or more races: in Correctional Facilities for Adults : Men', 'Hispanic or Latino: in Correctional Facilities for Adults : Men', 'White alone, not Hispanic or Latino: in Correctional Facilities for Adults : Men', 'Total Population: Male', 'Total Population: White alone: Male', 'Total Population: Black or African American alone: Male', 'Total Population: American Indian and Alaska Native alone: Male', 'Total Population: Asian alone: Male', 'Total Population: Native Hawaiian and other Pacific Islander alone: Male', 'Total Population: Some other race alone: Male', 'Total Population: Two or more races: Male', 'Total Population: Hispanic or Latino: Male', 'Total Population: White alone, not Hispanic or Latino: Male', 'Male incarceration rate', 'Male incarceration rate: White alone', 'Male incarceration rate: Black or African American alone', 'Male incarceration rate: American Indian and Alaska Native alone', 'Male incarceration rate: Asian alone', 'Male incarceration rate: Native Hawaiian and other Pacific Islander alone', 'Male incarceration rate: Some other race alone', 'Male incarceration rate: Two or more races', 'Male incarceration rate: Hispanic or Latino', 'Male incarceration rate: White alone, not Hispanic or Latino', 'Total Women : In Correctional Facilities for Adults', 'White alone: in Correctional Facilities for Adults : Women', 'Black or African American alone: in Correctional Facilities for Adults : Women', 'American Indian and Alaska Native alone: in Correctional Facilities for Adults : Women', 'Asian alone: in Correctional Facilities for Adults : Women', 'Native Hawaiian and other Pacific Islander alone: in Correctional Facilities for Adults : Women', 'Some other race alone: in Correctional Facilities for Adults : Women', 'Two or more races: in Correctional Facilities for Adults : Women', 'Hispanic or Latino: in Correctional Facilities for Adults : Women', 'White alone, not Hispanic or Latino: in Correctional Facilities for Adults : Women', 'Total Population: Female', 'Total Population: White alone: Female', 'Total Population: Black or African American alone: Female', 'Total Population: American Indian and Alaska Native alone: Female', 'Total Population: Asian alone: Female', 'Total Population: Native Hawaiian and other Pacific Islander alone: Female', 'Total Population: Some other race alone: Female', 'Total Population: Two or more races: Female', 'Total Population: Hispanic or Latino: Female', 'Total Population: White alone, not Hispanic or Latino: Female', 'Female incarceration rate', 'Female incarceration rate: White alone', 'Female incarceration rate: Black or African American alone', 'Female incarceration rate: American Indian and Alaska Native alone', 'Female incarceration rate: Asian alone', 'Female incarceration rate: Native Hawaiian and other Pacific Islander alone', 'Female incarceration rate: Some other race alone', 'Female incarceration rate: Two or more races', 'Female incarceration rate: Hispanic or Latino', 'Female incarceration rate: White alone, not Hispanic or Latino', 'Percent Total Men : In Correctional Facilities for Adults', 'Percent White alone: in Correctional Facilities for Adults : Men', 'Percent Black or African American alone: in Correctional Facilities for Adults : Men', 'Percent American Indian and Alaska Native alone: in Correctional Facilities for Adults : Men', 'Percent Asian alone: in Correctional Facilities for Adults : Men', 'Percent Native Hawaiian and other Pacific Islander alone: in Correctional Facilities for Adults : Men', 'Percent Some other race alone: in Correctional Facilities for Adults : Men', 'Percent Two or more races: in Correctional Facilities for Adults : Men', 'Percent Hispanic or Latino: in Correctional Facilities for Adults : Men', 'Percent White alone, not Hispanic or Latino: in Correctional Facilities for Adults : Men', 'Percent Total Women : In Correctional Facilities for Adults', 'Percent White alone: in Correctional Facilities for Adults : Women', 'Percent Black or African American alone: in Correctional Facilities for Adults : Women', 'Percent American Indian and Alaska Native alone: in Correctional Facilities for Adults : Women', 'Percent Asian alone: in Correctional Facilities for Adults : Women', 'Percent Native Hawaiian and other Pacific Islander alone: in Correctional Facilities for Adults : Women', 'Percent Some other race alone: in Correctional Facilities for Adults : Women', 'Percent Two or more races: in Correctional Facilities for Adults : Women', 'Percent Hispanic or Latino: in Correctional Facilities for Adults : Women', 'Percent White alone, not Hispanic or Latino: in Correctional Facilities for Adults : Women', 'Percent Total : In Correctional Facilities for Adults', 'Percent White alone : in Correctional Facilities for Adults', 'Percent Black or African American alone : in Correctional Facilities for Adults', 'Percent American Indian and Alaska Native alone : in Correctional Facilities for Adults', 'Percent Asian alone : in Correctional Facilities for Adults', 'Percent Native Hawaiian and other Pacific Islander alone : in Correctional Facilities for Adults', 'Percent Some other race alone : in Correctional Facilities for Adults', 'Percent Two or more races : in Correctional Facilities for Adults', 'Percent Hispanic or Latino : in Correctional Facilities for Adults', 'Percent White alone, not Hispanic or Latino : in Correctional Facilities for Adults']\n"
     ]
    },
    {
     "name": "stderr",
     "output_type": "stream",
     "text": [
      "/var/folders/yn/4nkcf4bx0tl9zps6_x1krghm0000gn/T/ipykernel_65465/1805778453.py:7: DeprecationWarning:\n",
      "\n",
      "In a future version, `df.iloc[:, i] = newvals` will attempt to set the values inplace instead of always setting a new array. To retain the old behavior, use either `df[df.columns[i]] = newvals` or, if columns are non-unique, `df.isetitem(i, newvals)`\n",
      "\n"
     ]
    }
   ],
   "source": [
    "df  = processData()\n",
    "print(list(df.columns))"
   ]
  },
  {
   "cell_type": "code",
   "execution_count": 173,
   "metadata": {},
   "outputs": [
    {
     "data": {
      "image/png": "[encoded data removed]",
      "text/plain": [
       "<Figure size 640x480 with 1 Axes>"
      ]
     },
     "metadata": {},
     "output_type": "display_data"
    }
   ],
   "source": [
    "elbow_method(df, 20) ## Used to determine best k for K-means"
   ]
  },
  {
   "cell_type": "code",
   "execution_count": 174,
   "metadata": {},
   "outputs": [],
   "source": [
    "n=4"
   ]
  },
  {
   "cell_type": "code",
   "execution_count": 175,
   "metadata": {},
   "outputs": [
    {
     "data": {
      "application/vnd.plotly.v1+json": {
       "config": {
        "plotlyServerURL": "https://plot.ly"
       },
       "data": [
        {
         "marker": {
          "color": [
           0,
           2,
           3,
           0,
           2,
           0,
           2,
           2,
           2,
           0,
           3,
           1,
           0,
           2,
           2,
           1,
           2,
           0,
           3,
           1,
           2,
           1,
           2,
           1,
           3,
           2,
           2,
           1,
           2,
           1,
           1,
           0,
           1,
           2,
           1,
           2,
           3,
           2,
           2,
           1,
           0,
           0,
           0,
           3,
           1,
           1,
           0,
           1,
           0,
           2,
           2,
           1
          ]
         },
         "mode": "markers",
         "showlegend": false,
         "type": "scatter3d",
         "x": [
          0.7799545658657986,
          -0.3944782573443258,
          1.5656960988320028,
          0.880261995606165,
          0.06526412896568728,
          0.5542628489499739,
          -0.46552935341041873,
          0.18646893990196348,
          -0.3317861137565968,
          0.8844414718453469,
          1.6367471948980956,
          -1.0673739318526176,
          0.1906484161411454,
          -0.5240420207589659,
          0.30767375083823967,
          -0.9879638833081609,
          -0.181324969146047,
          1.147748474913809,
          2.7610263032380367,
          -1.6525006053380888,
          -0.2356581602554122,
          -1.2512708863766229,
          -0.2022223503419567,
          -1.2052966477456217,
          1.9920026752285604,
          0.10705889135750665,
          -0.5658367831507852,
          -0.9712459783514331,
          0.2575200359680564,
          -1.2763477438117146,
          -0.6954005465654253,
          0.8008519470617083,
          -0.7789900713490641,
          -0.13953020675422764,
          -1.2638093150941687,
          -0.03922277701386115,
          1.6994393384858248,
          -0.3902987811051439,
          0.3954427518610603,
          -1.30978355372517,
          0.9095183292804386,
          0.42887856177451583,
          0.27423794092478415,
          1.615849813702186,
          -0.9001948822853402,
          -1.7486285588392734,
          0.5960576113417934,
          -0.8291437862192473,
          0.9262362342371664,
          -0.026684348296315337,
          -0.17296601666768313,
          -1.3557577923561714
         ],
         "y": [
          1.4529922487359943,
          0.8553568942702785,
          1.36244143745331,
          0.6199247849352996,
          -0.21314267886539523,
          0.29394186431763636,
          0.221501215291489,
          -0.7202272220484268,
          0.2758317020610995,
          0.6742552717049101,
          0.9640178678094995,
          0.5474841359091521,
          1.0364585168356468,
          -0.7745577088180373,
          0.07661991723919426,
          -0.6115662485092058,
          -0.5210154372265215,
          1.615983709044826,
          1.1994499771444784,
          -1.4084133877968268,
          -0.9194390068703321,
          -1.4446337123099005,
          -1.5532946858491217,
          -0.6840068975353532,
          0.7285857584745206,
          -0.14070202983924784,
          0.11284024175226794,
          -0.6658967352788163,
          0.4026028378568574,
          -1.1005406294357005,
          -1.0099898181530162,
          1.0545686790921838,
          -1.3540829010272164,
          -0.6840068975353532,
          -0.7564475465615005,
          -0.1588121920957847,
          1.7065345203275102,
          -0.35802397691768995,
          -0.37613413917422683,
          -1.6619556593883427,
          -0.1950325166088584,
          0.9459077055529627,
          0.6561451094483732,
          1.3443312751967733,
          -0.14070202983924784,
          -1.4627438745664374,
          0.2758317020610995,
          -0.6115662485092058,
          2.539601984128205,
          -0.35802397691768995,
          0.8734670565268153,
          -1.9517182554929322
         ],
         "z": [
          0.7037743401080894,
          -0.6369453119167311,
          1.4974445020090699,
          0.8876188408874125,
          0.07601263012991255,
          0.5109618149005064,
          -0.5136349760281607,
          0.3428113568706377,
          -0.30961242028525315,
          0.9033128836368669,
          1.6969830455378476,
          -1.2534969913595833,
          0.031172507988614213,
          -0.4620688355656675,
          0.32935932022824815,
          -1.0091183256895073,
          -0.14818798057657914,
          1.0490432805960865,
          2.8830042761751886,
          -1.614459974597035,
          -0.09662184011408606,
          -1.150364710434597,
          -0.015909620259749045,
          -1.2378029486101287,
          2.1364162425225715,
          0.14551481944892497,
          -0.666091391308575,
          -0.9822142524047283,
          0.1612088621983794,
          -1.2557389974666482,
          -0.6077992325248871,
          0.7284364072858034,
          -0.6414293241308608,
          -0.04057168743746313,
          -1.314031156250336,
          -0.004699589724424459,
          1.6117868134693807,
          -0.39480865235372004,
          0.5109618149005064,
          -1.1884788142547007,
          1.0557692989172813,
          0.3046972530505341,
          0.2396790759456515,
          1.5579786668998228,
          -0.9934242829400529,
          -1.719834261629086,
          0.6230621202537523,
          -0.8432098737667034,
          0.6791122729303752,
          -0.0069415958314893765,
          -0.37014658517600596,
          -1.1884788142547007
         ]
        },
        {
         "marker": {
          "color": "red",
          "line": {
           "color": "black",
           "width": 1
          },
          "size": 10,
          "symbol": "circle"
         },
         "mode": "markers",
         "name": "Centroids",
         "type": "scatter3d",
         "x": [
          0.6977581998285538,
          -1.152913878881208,
          -0.12369219153206454,
          1.8784602373974508
         ],
         "y": [
          0.9142149216040232,
          -0.95445198723297,
          -0.20837684669262235,
          1.2175601394010154
         ],
         "z": [
          0.6430533413750811,
          -1.1333254640209036,
          -0.11054587804217345,
          1.8972689244356469
         ]
        }
       ],
       "layout": {
        "height": 800,
        "margin": {
         "b": 0,
         "l": 0,
         "r": 0,
         "t": 0
        },
        "scene": {
         "domain": {
          "x": [
           0,
           1
          ],
          "y": [
           0,
           1
          ]
         },
         "xaxis": {
          "title": {
           "text": "Incarceration rate"
          }
         },
         "yaxis": {
          "title": {
           "text": "Female incarceration rate"
          }
         },
         "zaxis": {
          "title": {
           "text": "Male incarceration rate"
          }
         }
        },
        "template": {
         "data": {
          "bar": [
           {
            "error_x": {
             "color": "#2a3f5f"
            },
            "error_y": {
             "color": "#2a3f5f"
            },
            "marker": {
             "line": {
              "color": "#E5ECF6",
              "width": 0.5
             },
             "pattern": {
              "fillmode": "overlay",
              "size": 10,
              "solidity": 0.2
             }
            },
            "type": "bar"
           }
          ],
          "barpolar": [
           {
            "marker": {
             "line": {
              "color": "#E5ECF6",
              "width": 0.5
             },
             "pattern": {
              "fillmode": "overlay",
              "size": 10,
              "solidity": 0.2
             }
            },
            "type": "barpolar"
           }
          ],
          "carpet": [
           {
            "aaxis": {
             "endlinecolor": "#2a3f5f",
             "gridcolor": "white",
             "linecolor": "white",
             "minorgridcolor": "white",
             "startlinecolor": "#2a3f5f"
            },
            "baxis": {
             "endlinecolor": "#2a3f5f",
             "gridcolor": "white",
             "linecolor": "white",
             "minorgridcolor": "white",
             "startlinecolor": "#2a3f5f"
            },
            "type": "carpet"
           }
          ],
          "choropleth": [
           {
            "colorbar": {
             "outlinewidth": 0,
             "ticks": ""
            },
            "type": "choropleth"
           }
          ],
          "contour": [
           {
            "colorbar": {
             "outlinewidth": 0,
             "ticks": ""
            },
            "colorscale": [
             [
              0,
              "#0d0887"
             ],
             [
              0.1111111111111111,
              "#46039f"
             ],
             [
              0.2222222222222222,
              "#7201a8"
             ],
             [
              0.3333333333333333,
              "#9c179e"
             ],
             [
              0.4444444444444444,
              "#bd3786"
             ],
             [
              0.5555555555555556,
              "#d8576b"
             ],
             [
              0.6666666666666666,
              "#ed7953"
             ],
             [
              0.7777777777777778,
              "#fb9f3a"
             ],
             [
              0.8888888888888888,
              "#fdca26"
             ],
             [
              1,
              "#f0f921"
             ]
            ],
            "type": "contour"
           }
          ],
          "contourcarpet": [
           {
            "colorbar": {
             "outlinewidth": 0,
             "ticks": ""
            },
            "type": "contourcarpet"
           }
          ],
          "heatmap": [
           {
            "colorbar": {
             "outlinewidth": 0,
             "ticks": ""
            },
            "colorscale": [
             [
              0,
              "#0d0887"
             ],
             [
              0.1111111111111111,
              "#46039f"
             ],
             [
              0.2222222222222222,
              "#7201a8"
             ],
             [
              0.3333333333333333,
              "#9c179e"
             ],
             [
              0.4444444444444444,
              "#bd3786"
             ],
             [
              0.5555555555555556,
              "#d8576b"
             ],
             [
              0.6666666666666666,
              "#ed7953"
             ],
             [
              0.7777777777777778,
              "#fb9f3a"
             ],
             [
              0.8888888888888888,
              "#fdca26"
             ],
             [
              1,
              "#f0f921"
             ]
            ],
            "type": "heatmap"
           }
          ],
          "heatmapgl": [
           {
            "colorbar": {
             "outlinewidth": 0,
             "ticks": ""
            },
            "colorscale": [
             [
              0,
              "#0d0887"
             ],
             [
              0.1111111111111111,
              "#46039f"
             ],
             [
              0.2222222222222222,
              "#7201a8"
             ],
             [
              0.3333333333333333,
              "#9c179e"
             ],
             [
              0.4444444444444444,
              "#bd3786"
             ],
             [
              0.5555555555555556,
              "#d8576b"
             ],
             [
              0.6666666666666666,
              "#ed7953"
             ],
             [
              0.7777777777777778,
              "#fb9f3a"
             ],
             [
              0.8888888888888888,
              "#fdca26"
             ],
             [
              1,
              "#f0f921"
             ]
            ],
            "type": "heatmapgl"
           }
          ],
          "histogram": [
           {
            "marker": {
             "pattern": {
              "fillmode": "overlay",
              "size": 10,
              "solidity": 0.2
             }
            },
            "type": "histogram"
           }
          ],
          "histogram2d": [
           {
            "colorbar": {
             "outlinewidth": 0,
             "ticks": ""
            },
            "colorscale": [
             [
              0,
              "#0d0887"
             ],
             [
              0.1111111111111111,
              "#46039f"
             ],
             [
              0.2222222222222222,
              "#7201a8"
             ],
             [
              0.3333333333333333,
              "#9c179e"
             ],
             [
              0.4444444444444444,
              "#bd3786"
             ],
             [
              0.5555555555555556,
              "#d8576b"
             ],
             [
              0.6666666666666666,
              "#ed7953"
             ],
             [
              0.7777777777777778,
              "#fb9f3a"
             ],
             [
              0.8888888888888888,
              "#fdca26"
             ],
             [
              1,
              "#f0f921"
             ]
            ],
            "type": "histogram2d"
           }
          ],
          "histogram2dcontour": [
           {
            "colorbar": {
             "outlinewidth": 0,
             "ticks": ""
            },
            "colorscale": [
             [
              0,
              "#0d0887"
             ],
             [
              0.1111111111111111,
              "#46039f"
             ],
             [
              0.2222222222222222,
              "#7201a8"
             ],
             [
              0.3333333333333333,
              "#9c179e"
             ],
             [
              0.4444444444444444,
              "#bd3786"
             ],
             [
              0.5555555555555556,
              "#d8576b"
             ],
             [
              0.6666666666666666,
              "#ed7953"
             ],
             [
              0.7777777777777778,
              "#fb9f3a"
             ],
             [
              0.8888888888888888,
              "#fdca26"
             ],
             [
              1,
              "#f0f921"
             ]
            ],
            "type": "histogram2dcontour"
           }
          ],
          "mesh3d": [
           {
            "colorbar": {
             "outlinewidth": 0,
             "ticks": ""
            },
            "type": "mesh3d"
           }
          ],
          "parcoords": [
           {
            "line": {
             "colorbar": {
              "outlinewidth": 0,
              "ticks": ""
             }
            },
            "type": "parcoords"
           }
          ],
          "pie": [
           {
            "automargin": true,
            "type": "pie"
           }
          ],
          "scatter": [
           {
            "fillpattern": {
             "fillmode": "overlay",
             "size": 10,
             "solidity": 0.2
            },
            "type": "scatter"
           }
          ],
          "scatter3d": [
           {
            "line": {
             "colorbar": {
              "outlinewidth": 0,
              "ticks": ""
             }
            },
            "marker": {
             "colorbar": {
              "outlinewidth": 0,
              "ticks": ""
             }
            },
            "type": "scatter3d"
           }
          ],
          "scattercarpet": [
           {
            "marker": {
             "colorbar": {
              "outlinewidth": 0,
              "ticks": ""
             }
            },
            "type": "scattercarpet"
           }
          ],
          "scattergeo": [
           {
            "marker": {
             "colorbar": {
              "outlinewidth": 0,
              "ticks": ""
             }
            },
            "type": "scattergeo"
           }
          ],
          "scattergl": [
           {
            "marker": {
             "colorbar": {
              "outlinewidth": 0,
              "ticks": ""
             }
            },
            "type": "scattergl"
           }
          ],
          "scattermapbox": [
           {
            "marker": {
             "colorbar": {
              "outlinewidth": 0,
              "ticks": ""
             }
            },
            "type": "scattermapbox"
           }
          ],
          "scatterpolar": [
           {
            "marker": {
             "colorbar": {
              "outlinewidth": 0,
              "ticks": ""
             }
            },
            "type": "scatterpolar"
           }
          ],
          "scatterpolargl": [
           {
            "marker": {
             "colorbar": {
              "outlinewidth": 0,
              "ticks": ""
             }
            },
            "type": "scatterpolargl"
           }
          ],
          "scatterternary": [
           {
            "marker": {
             "colorbar": {
              "outlinewidth": 0,
              "ticks": ""
             }
            },
            "type": "scatterternary"
           }
          ],
          "surface": [
           {
            "colorbar": {
             "outlinewidth": 0,
             "ticks": ""
            },
            "colorscale": [
             [
              0,
              "#0d0887"
             ],
             [
              0.1111111111111111,
              "#46039f"
             ],
             [
              0.2222222222222222,
              "#7201a8"
             ],
             [
              0.3333333333333333,
              "#9c179e"
             ],
             [
              0.4444444444444444,
              "#bd3786"
             ],
             [
              0.5555555555555556,
              "#d8576b"
             ],
             [
              0.6666666666666666,
              "#ed7953"
             ],
             [
              0.7777777777777778,
              "#fb9f3a"
             ],
             [
              0.8888888888888888,
              "#fdca26"
             ],
             [
              1,
              "#f0f921"
             ]
            ],
            "type": "surface"
           }
          ],
          "table": [
           {
            "cells": {
             "fill": {
              "color": "#EBF0F8"
             },
             "line": {
              "color": "white"
             }
            },
            "header": {
             "fill": {
              "color": "#C8D4E3"
             },
             "line": {
              "color": "white"
             }
            },
            "type": "table"
           }
          ]
         },
         "layout": {
          "annotationdefaults": {
           "arrowcolor": "#2a3f5f",
           "arrowhead": 0,
           "arrowwidth": 1
          },
          "autotypenumbers": "strict",
          "coloraxis": {
           "colorbar": {
            "outlinewidth": 0,
            "ticks": ""
           }
          },
          "colorscale": {
           "diverging": [
            [
             0,
             "#8e0152"
            ],
            [
             0.1,
             "#c51b7d"
            ],
            [
             0.2,
             "#de77ae"
            ],
            [
             0.3,
             "#f1b6da"
            ],
            [
             0.4,
             "#fde0ef"
            ],
            [
             0.5,
             "#f7f7f7"
            ],
            [
             0.6,
             "#e6f5d0"
            ],
            [
             0.7,
             "#b8e186"
            ],
            [
             0.8,
             "#7fbc41"
            ],
            [
             0.9,
             "#4d9221"
            ],
            [
             1,
             "#276419"
            ]
           ],
           "sequential": [
            [
             0,
             "#0d0887"
            ],
            [
             0.1111111111111111,
             "#46039f"
            ],
            [
             0.2222222222222222,
             "#7201a8"
            ],
            [
             0.3333333333333333,
             "#9c179e"
            ],
            [
             0.4444444444444444,
             "#bd3786"
            ],
            [
             0.5555555555555556,
             "#d8576b"
            ],
            [
             0.6666666666666666,
             "#ed7953"
            ],
            [
             0.7777777777777778,
             "#fb9f3a"
            ],
            [
             0.8888888888888888,
             "#fdca26"
            ],
            [
             1,
             "#f0f921"
            ]
           ],
           "sequentialminus": [
            [
             0,
             "#0d0887"
            ],
            [
             0.1111111111111111,
             "#46039f"
            ],
            [
             0.2222222222222222,
             "#7201a8"
            ],
            [
             0.3333333333333333,
             "#9c179e"
            ],
            [
             0.4444444444444444,
             "#bd3786"
            ],
            [
             0.5555555555555556,
             "#d8576b"
            ],
            [
             0.6666666666666666,
             "#ed7953"
            ],
            [
             0.7777777777777778,
             "#fb9f3a"
            ],
            [
             0.8888888888888888,
             "#fdca26"
            ],
            [
             1,
             "#f0f921"
            ]
           ]
          },
          "colorway": [
           "#636efa",
           "#EF553B",
           "#00cc96",
           "#ab63fa",
           "#FFA15A",
           "#19d3f3",
           "#FF6692",
           "#B6E880",
           "#FF97FF",
           "#FECB52"
          ],
          "font": {
           "color": "#2a3f5f"
          },
          "geo": {
           "bgcolor": "white",
           "lakecolor": "white",
           "landcolor": "#E5ECF6",
           "showlakes": true,
           "showland": true,
           "subunitcolor": "white"
          },
          "hoverlabel": {
           "align": "left"
          },
          "hovermode": "closest",
          "mapbox": {
           "style": "light"
          },
          "paper_bgcolor": "white",
          "plot_bgcolor": "#E5ECF6",
          "polar": {
           "angularaxis": {
            "gridcolor": "white",
            "linecolor": "white",
            "ticks": ""
           },
           "bgcolor": "#E5ECF6",
           "radialaxis": {
            "gridcolor": "white",
            "linecolor": "white",
            "ticks": ""
           }
          },
          "scene": {
           "xaxis": {
            "backgroundcolor": "#E5ECF6",
            "gridcolor": "white",
            "gridwidth": 2,
            "linecolor": "white",
            "showbackground": true,
            "ticks": "",
            "zerolinecolor": "white"
           },
           "yaxis": {
            "backgroundcolor": "#E5ECF6",
            "gridcolor": "white",
            "gridwidth": 2,
            "linecolor": "white",
            "showbackground": true,
            "ticks": "",
            "zerolinecolor": "white"
           },
           "zaxis": {
            "backgroundcolor": "#E5ECF6",
            "gridcolor": "white",
            "gridwidth": 2,
            "linecolor": "white",
            "showbackground": true,
            "ticks": "",
            "zerolinecolor": "white"
           }
          },
          "shapedefaults": {
           "line": {
            "color": "#2a3f5f"
           }
          },
          "ternary": {
           "aaxis": {
            "gridcolor": "white",
            "linecolor": "white",
            "ticks": ""
           },
           "baxis": {
            "gridcolor": "white",
            "linecolor": "white",
            "ticks": ""
           },
           "bgcolor": "#E5ECF6",
           "caxis": {
            "gridcolor": "white",
            "linecolor": "white",
            "ticks": ""
           }
          },
          "title": {
           "x": 0.05
          },
          "xaxis": {
           "automargin": true,
           "gridcolor": "white",
           "linecolor": "white",
           "ticks": "",
           "title": {
            "standoff": 15
           },
           "zerolinecolor": "white",
           "zerolinewidth": 2
          },
          "yaxis": {
           "automargin": true,
           "gridcolor": "white",
           "linecolor": "white",
           "ticks": "",
           "title": {
            "standoff": 15
           },
           "zerolinecolor": "white",
           "zerolinewidth": 2
          }
         }
        },
        "title": {
         "text": "Clusters"
        }
       }
      }
     },
     "metadata": {},
     "output_type": "display_data"
    }
   ],
   "source": [
    "visualizing_results_3d(df,n)"
   ]
  },
  {
   "cell_type": "code",
   "execution_count": 176,
   "metadata": {},
   "outputs": [
    {
     "data": {
      "application/vnd.plotly.v1+json": {
       "config": {
        "plotlyServerURL": "https://plot.ly"
       },
       "data": [
        {
         "marker": {
          "color": [
           0,
           2,
           3,
           0,
           2,
           0,
           2,
           2,
           2,
           0,
           3,
           2,
           0,
           2,
           0,
           1,
           2,
           3,
           3,
           1,
           2,
           1,
           2,
           1,
           3,
           2,
           2,
           1,
           0,
           1,
           1,
           0,
           1,
           2,
           1,
           2,
           3,
           2,
           0,
           1,
           0,
           0,
           0,
           3,
           2,
           1,
           0,
           1,
           3,
           2,
           2,
           1
          ]
         },
         "mode": "markers",
         "showlegend": false,
         "type": "scatter",
         "x": [
          0.7799545658657986,
          -0.3944782573443258,
          1.5656960988320028,
          0.880261995606165,
          0.06526412896568728,
          0.5542628489499739,
          -0.46552935341041873,
          0.18646893990196348,
          -0.3317861137565968,
          0.8844414718453469,
          1.6367471948980956,
          -1.0673739318526176,
          0.1906484161411454,
          -0.5240420207589659,
          0.30767375083823967,
          -0.9879638833081609,
          -0.181324969146047,
          1.147748474913809,
          2.7610263032380367,
          -1.6525006053380888,
          -0.2356581602554122,
          -1.2512708863766229,
          -0.2022223503419567,
          -1.2052966477456217,
          1.9920026752285604,
          0.10705889135750665,
          -0.5658367831507852,
          -0.9712459783514331,
          0.2575200359680564,
          -1.2763477438117146,
          -0.6954005465654253,
          0.8008519470617083,
          -0.7789900713490641,
          -0.13953020675422764,
          -1.2638093150941687,
          -0.03922277701386115,
          1.6994393384858248,
          -0.3902987811051439,
          0.3954427518610603,
          -1.30978355372517,
          0.9095183292804386,
          0.42887856177451583,
          0.27423794092478415,
          1.615849813702186,
          -0.9001948822853402,
          -1.7486285588392734,
          0.5960576113417934,
          -0.8291437862192473,
          0.9262362342371664,
          -0.026684348296315337,
          -0.17296601666768313,
          -1.3557577923561714
         ],
         "xaxis": "x",
         "y": [
          1.4529922487359943,
          0.8553568942702785,
          1.36244143745331,
          0.6199247849352996,
          -0.21314267886539523,
          0.29394186431763636,
          0.221501215291489,
          -0.7202272220484268,
          0.2758317020610995,
          0.6742552717049101,
          0.9640178678094995,
          0.5474841359091521,
          1.0364585168356468,
          -0.7745577088180373,
          0.07661991723919426,
          -0.6115662485092058,
          -0.5210154372265215,
          1.615983709044826,
          1.1994499771444784,
          -1.4084133877968268,
          -0.9194390068703321,
          -1.4446337123099005,
          -1.5532946858491217,
          -0.6840068975353532,
          0.7285857584745206,
          -0.14070202983924784,
          0.11284024175226794,
          -0.6658967352788163,
          0.4026028378568574,
          -1.1005406294357005,
          -1.0099898181530162,
          1.0545686790921838,
          -1.3540829010272164,
          -0.6840068975353532,
          -0.7564475465615005,
          -0.1588121920957847,
          1.7065345203275102,
          -0.35802397691768995,
          -0.37613413917422683,
          -1.6619556593883427,
          -0.1950325166088584,
          0.9459077055529627,
          0.6561451094483732,
          1.3443312751967733,
          -0.14070202983924784,
          -1.4627438745664374,
          0.2758317020610995,
          -0.6115662485092058,
          2.539601984128205,
          -0.35802397691768995,
          0.8734670565268153,
          -1.9517182554929322
         ],
         "yaxis": "y"
        },
        {
         "marker": {
          "color": "red",
          "line": {
           "color": "black",
           "width": 1
          },
          "size": 10,
          "symbol": "star"
         },
         "mode": "markers",
         "name": "Centroids",
         "type": "scatter",
         "x": [
          0.5321601524613133,
          -1.1325816857357272,
          -0.20308147761176362,
          1.4326183161973902
         ],
         "xaxis": "x",
         "y": [
          0.5584423251891559,
          -1.1789337976215513,
          -0.2932420551063633,
          1.6680932666919601
         ],
         "yaxis": "y"
        },
        {
         "marker": {
          "color": [
           0,
           2,
           3,
           0,
           2,
           0,
           2,
           2,
           2,
           0,
           3,
           2,
           0,
           2,
           0,
           1,
           2,
           3,
           3,
           1,
           2,
           1,
           2,
           1,
           3,
           2,
           2,
           1,
           0,
           1,
           1,
           0,
           1,
           2,
           1,
           2,
           3,
           2,
           0,
           1,
           0,
           0,
           0,
           3,
           2,
           1,
           0,
           1,
           3,
           2,
           2,
           1
          ]
         },
         "mode": "markers",
         "showlegend": false,
         "type": "scatter",
         "x": [
          0.7799545658657986,
          -0.3944782573443258,
          1.5656960988320028,
          0.880261995606165,
          0.06526412896568728,
          0.5542628489499739,
          -0.46552935341041873,
          0.18646893990196348,
          -0.3317861137565968,
          0.8844414718453469,
          1.6367471948980956,
          -1.0673739318526176,
          0.1906484161411454,
          -0.5240420207589659,
          0.30767375083823967,
          -0.9879638833081609,
          -0.181324969146047,
          1.147748474913809,
          2.7610263032380367,
          -1.6525006053380888,
          -0.2356581602554122,
          -1.2512708863766229,
          -0.2022223503419567,
          -1.2052966477456217,
          1.9920026752285604,
          0.10705889135750665,
          -0.5658367831507852,
          -0.9712459783514331,
          0.2575200359680564,
          -1.2763477438117146,
          -0.6954005465654253,
          0.8008519470617083,
          -0.7789900713490641,
          -0.13953020675422764,
          -1.2638093150941687,
          -0.03922277701386115,
          1.6994393384858248,
          -0.3902987811051439,
          0.3954427518610603,
          -1.30978355372517,
          0.9095183292804386,
          0.42887856177451583,
          0.27423794092478415,
          1.615849813702186,
          -0.9001948822853402,
          -1.7486285588392734,
          0.5960576113417934,
          -0.8291437862192473,
          0.9262362342371664,
          -0.026684348296315337,
          -0.17296601666768313,
          -1.3557577923561714
         ],
         "xaxis": "x2",
         "y": [
          0.7037743401080894,
          -0.6369453119167311,
          1.4974445020090699,
          0.8876188408874125,
          0.07601263012991255,
          0.5109618149005064,
          -0.5136349760281607,
          0.3428113568706377,
          -0.30961242028525315,
          0.9033128836368669,
          1.6969830455378476,
          -1.2534969913595833,
          0.031172507988614213,
          -0.4620688355656675,
          0.32935932022824815,
          -1.0091183256895073,
          -0.14818798057657914,
          1.0490432805960865,
          2.8830042761751886,
          -1.614459974597035,
          -0.09662184011408606,
          -1.150364710434597,
          -0.015909620259749045,
          -1.2378029486101287,
          2.1364162425225715,
          0.14551481944892497,
          -0.666091391308575,
          -0.9822142524047283,
          0.1612088621983794,
          -1.2557389974666482,
          -0.6077992325248871,
          0.7284364072858034,
          -0.6414293241308608,
          -0.04057168743746313,
          -1.314031156250336,
          -0.004699589724424459,
          1.6117868134693807,
          -0.39480865235372004,
          0.5109618149005064,
          -1.1884788142547007,
          1.0557692989172813,
          0.3046972530505341,
          0.2396790759456515,
          1.5579786668998228,
          -0.9934242829400529,
          -1.719834261629086,
          0.6230621202537523,
          -0.8432098737667034,
          0.6791122729303752,
          -0.0069415958314893765,
          -0.37014658517600596,
          -1.1884788142547007
         ],
         "yaxis": "y2"
        },
        {
         "marker": {
          "color": "red",
          "line": {
           "color": "black",
           "width": 1
          },
          "size": 10,
          "symbol": "star"
         },
         "mode": "markers",
         "name": "Centroids",
         "type": "scatter",
         "x": [
          0.5321601524613133,
          -1.1325816857357272,
          -0.20308147761176362,
          1.4326183161973902
         ],
         "xaxis": "x2",
         "y": [
          0.5584423251891559,
          -1.1789337976215513,
          -0.2932420551063633,
          1.6680932666919601
         ],
         "yaxis": "y2"
        },
        {
         "marker": {
          "color": [
           0,
           2,
           3,
           0,
           2,
           0,
           2,
           2,
           2,
           0,
           3,
           2,
           0,
           2,
           0,
           1,
           2,
           3,
           3,
           1,
           2,
           1,
           2,
           1,
           3,
           2,
           2,
           1,
           0,
           1,
           1,
           0,
           1,
           2,
           1,
           2,
           3,
           2,
           0,
           1,
           0,
           0,
           0,
           3,
           2,
           1,
           0,
           1,
           3,
           2,
           2,
           1
          ]
         },
         "mode": "markers",
         "showlegend": false,
         "type": "scatter",
         "x": [
          1.4529922487359943,
          0.8553568942702785,
          1.36244143745331,
          0.6199247849352996,
          -0.21314267886539523,
          0.29394186431763636,
          0.221501215291489,
          -0.7202272220484268,
          0.2758317020610995,
          0.6742552717049101,
          0.9640178678094995,
          0.5474841359091521,
          1.0364585168356468,
          -0.7745577088180373,
          0.07661991723919426,
          -0.6115662485092058,
          -0.5210154372265215,
          1.615983709044826,
          1.1994499771444784,
          -1.4084133877968268,
          -0.9194390068703321,
          -1.4446337123099005,
          -1.5532946858491217,
          -0.6840068975353532,
          0.7285857584745206,
          -0.14070202983924784,
          0.11284024175226794,
          -0.6658967352788163,
          0.4026028378568574,
          -1.1005406294357005,
          -1.0099898181530162,
          1.0545686790921838,
          -1.3540829010272164,
          -0.6840068975353532,
          -0.7564475465615005,
          -0.1588121920957847,
          1.7065345203275102,
          -0.35802397691768995,
          -0.37613413917422683,
          -1.6619556593883427,
          -0.1950325166088584,
          0.9459077055529627,
          0.6561451094483732,
          1.3443312751967733,
          -0.14070202983924784,
          -1.4627438745664374,
          0.2758317020610995,
          -0.6115662485092058,
          2.539601984128205,
          -0.35802397691768995,
          0.8734670565268153,
          -1.9517182554929322
         ],
         "xaxis": "x3",
         "y": [
          0.7037743401080894,
          -0.6369453119167311,
          1.4974445020090699,
          0.8876188408874125,
          0.07601263012991255,
          0.5109618149005064,
          -0.5136349760281607,
          0.3428113568706377,
          -0.30961242028525315,
          0.9033128836368669,
          1.6969830455378476,
          -1.2534969913595833,
          0.031172507988614213,
          -0.4620688355656675,
          0.32935932022824815,
          -1.0091183256895073,
          -0.14818798057657914,
          1.0490432805960865,
          2.8830042761751886,
          -1.614459974597035,
          -0.09662184011408606,
          -1.150364710434597,
          -0.015909620259749045,
          -1.2378029486101287,
          2.1364162425225715,
          0.14551481944892497,
          -0.666091391308575,
          -0.9822142524047283,
          0.1612088621983794,
          -1.2557389974666482,
          -0.6077992325248871,
          0.7284364072858034,
          -0.6414293241308608,
          -0.04057168743746313,
          -1.314031156250336,
          -0.004699589724424459,
          1.6117868134693807,
          -0.39480865235372004,
          0.5109618149005064,
          -1.1884788142547007,
          1.0557692989172813,
          0.3046972530505341,
          0.2396790759456515,
          1.5579786668998228,
          -0.9934242829400529,
          -1.719834261629086,
          0.6230621202537523,
          -0.8432098737667034,
          0.6791122729303752,
          -0.0069415958314893765,
          -0.37014658517600596,
          -1.1884788142547007
         ],
         "yaxis": "y3"
        },
        {
         "marker": {
          "color": "red",
          "line": {
           "color": "black",
           "width": 1
          },
          "size": 10,
          "symbol": "star"
         },
         "mode": "markers",
         "name": "Centroids",
         "type": "scatter",
         "x": [
          0.5321601524613133,
          -1.1325816857357272,
          -0.20308147761176362,
          1.4326183161973902
         ],
         "xaxis": "x3",
         "y": [
          0.5584423251891559,
          -1.1789337976215513,
          -0.2932420551063633,
          1.6680932666919601
         ],
         "yaxis": "y3"
        }
       ],
       "layout": {
        "annotations": [
         {
          "font": {
           "size": 16
          },
          "showarrow": false,
          "text": "IR by FIR",
          "x": 0.5,
          "xanchor": "center",
          "xref": "paper",
          "y": 1,
          "yanchor": "bottom",
          "yref": "paper"
         },
         {
          "font": {
           "size": 16
          },
          "showarrow": false,
          "text": "IR by MIR",
          "x": 0.5,
          "xanchor": "center",
          "xref": "paper",
          "y": 0.6111111111111112,
          "yanchor": "bottom",
          "yref": "paper"
         },
         {
          "font": {
           "size": 16
          },
          "showarrow": false,
          "text": "FIR by MIR",
          "x": 0.5,
          "xanchor": "center",
          "xref": "paper",
          "y": 0.22222222222222224,
          "yanchor": "bottom",
          "yref": "paper"
         }
        ],
        "height": 900,
        "template": {
         "data": {
          "bar": [
           {
            "error_x": {
             "color": "#2a3f5f"
            },
            "error_y": {
             "color": "#2a3f5f"
            },
            "marker": {
             "line": {
              "color": "#E5ECF6",
              "width": 0.5
             },
             "pattern": {
              "fillmode": "overlay",
              "size": 10,
              "solidity": 0.2
             }
            },
            "type": "bar"
           }
          ],
          "barpolar": [
           {
            "marker": {
             "line": {
              "color": "#E5ECF6",
              "width": 0.5
             },
             "pattern": {
              "fillmode": "overlay",
              "size": 10,
              "solidity": 0.2
             }
            },
            "type": "barpolar"
           }
          ],
          "carpet": [
           {
            "aaxis": {
             "endlinecolor": "#2a3f5f",
             "gridcolor": "white",
             "linecolor": "white",
             "minorgridcolor": "white",
             "startlinecolor": "#2a3f5f"
            },
            "baxis": {
             "endlinecolor": "#2a3f5f",
             "gridcolor": "white",
             "linecolor": "white",
             "minorgridcolor": "white",
             "startlinecolor": "#2a3f5f"
            },
            "type": "carpet"
           }
          ],
          "choropleth": [
           {
            "colorbar": {
             "outlinewidth": 0,
             "ticks": ""
            },
            "type": "choropleth"
           }
          ],
          "contour": [
           {
            "colorbar": {
             "outlinewidth": 0,
             "ticks": ""
            },
            "colorscale": [
             [
              0,
              "#0d0887"
             ],
             [
              0.1111111111111111,
              "#46039f"
             ],
             [
              0.2222222222222222,
              "#7201a8"
             ],
             [
              0.3333333333333333,
              "#9c179e"
             ],
             [
              0.4444444444444444,
              "#bd3786"
             ],
             [
              0.5555555555555556,
              "#d8576b"
             ],
             [
              0.6666666666666666,
              "#ed7953"
             ],
             [
              0.7777777777777778,
              "#fb9f3a"
             ],
             [
              0.8888888888888888,
              "#fdca26"
             ],
             [
              1,
              "#f0f921"
             ]
            ],
            "type": "contour"
           }
          ],
          "contourcarpet": [
           {
            "colorbar": {
             "outlinewidth": 0,
             "ticks": ""
            },
            "type": "contourcarpet"
           }
          ],
          "heatmap": [
           {
            "colorbar": {
             "outlinewidth": 0,
             "ticks": ""
            },
            "colorscale": [
             [
              0,
              "#0d0887"
             ],
             [
              0.1111111111111111,
              "#46039f"
             ],
             [
              0.2222222222222222,
              "#7201a8"
             ],
             [
              0.3333333333333333,
              "#9c179e"
             ],
             [
              0.4444444444444444,
              "#bd3786"
             ],
             [
              0.5555555555555556,
              "#d8576b"
             ],
             [
              0.6666666666666666,
              "#ed7953"
             ],
             [
              0.7777777777777778,
              "#fb9f3a"
             ],
             [
              0.8888888888888888,
              "#fdca26"
             ],
             [
              1,
              "#f0f921"
             ]
            ],
            "type": "heatmap"
           }
          ],
          "heatmapgl": [
           {
            "colorbar": {
             "outlinewidth": 0,
             "ticks": ""
            },
            "colorscale": [
             [
              0,
              "#0d0887"
             ],
             [
              0.1111111111111111,
              "#46039f"
             ],
             [
              0.2222222222222222,
              "#7201a8"
             ],
             [
              0.3333333333333333,
              "#9c179e"
             ],
             [
              0.4444444444444444,
              "#bd3786"
             ],
             [
              0.5555555555555556,
              "#d8576b"
             ],
             [
              0.6666666666666666,
              "#ed7953"
             ],
             [
              0.7777777777777778,
              "#fb9f3a"
             ],
             [
              0.8888888888888888,
              "#fdca26"
             ],
             [
              1,
              "#f0f921"
             ]
            ],
            "type": "heatmapgl"
           }
          ],
          "histogram": [
           {
            "marker": {
             "pattern": {
              "fillmode": "overlay",
              "size": 10,
              "solidity": 0.2
             }
            },
            "type": "histogram"
           }
          ],
          "histogram2d": [
           {
            "colorbar": {
             "outlinewidth": 0,
             "ticks": ""
            },
            "colorscale": [
             [
              0,
              "#0d0887"
             ],
             [
              0.1111111111111111,
              "#46039f"
             ],
             [
              0.2222222222222222,
              "#7201a8"
             ],
             [
              0.3333333333333333,
              "#9c179e"
             ],
             [
              0.4444444444444444,
              "#bd3786"
             ],
             [
              0.5555555555555556,
              "#d8576b"
             ],
             [
              0.6666666666666666,
              "#ed7953"
             ],
             [
              0.7777777777777778,
              "#fb9f3a"
             ],
             [
              0.8888888888888888,
              "#fdca26"
             ],
             [
              1,
              "#f0f921"
             ]
            ],
            "type": "histogram2d"
           }
          ],
          "histogram2dcontour": [
           {
            "colorbar": {
             "outlinewidth": 0,
             "ticks": ""
            },
            "colorscale": [
             [
              0,
              "#0d0887"
             ],
             [
              0.1111111111111111,
              "#46039f"
             ],
             [
              0.2222222222222222,
              "#7201a8"
             ],
             [
              0.3333333333333333,
              "#9c179e"
             ],
             [
              0.4444444444444444,
              "#bd3786"
             ],
             [
              0.5555555555555556,
              "#d8576b"
             ],
             [
              0.6666666666666666,
              "#ed7953"
             ],
             [
              0.7777777777777778,
              "#fb9f3a"
             ],
             [
              0.8888888888888888,
              "#fdca26"
             ],
             [
              1,
              "#f0f921"
             ]
            ],
            "type": "histogram2dcontour"
           }
          ],
          "mesh3d": [
           {
            "colorbar": {
             "outlinewidth": 0,
             "ticks": ""
            },
            "type": "mesh3d"
           }
          ],
          "parcoords": [
           {
            "line": {
             "colorbar": {
              "outlinewidth": 0,
              "ticks": ""
             }
            },
            "type": "parcoords"
           }
          ],
          "pie": [
           {
            "automargin": true,
            "type": "pie"
           }
          ],
          "scatter": [
           {
            "fillpattern": {
             "fillmode": "overlay",
             "size": 10,
             "solidity": 0.2
            },
            "type": "scatter"
           }
          ],
          "scatter3d": [
           {
            "line": {
             "colorbar": {
              "outlinewidth": 0,
              "ticks": ""
             }
            },
            "marker": {
             "colorbar": {
              "outlinewidth": 0,
              "ticks": ""
             }
            },
            "type": "scatter3d"
           }
          ],
          "scattercarpet": [
           {
            "marker": {
             "colorbar": {
              "outlinewidth": 0,
              "ticks": ""
             }
            },
            "type": "scattercarpet"
           }
          ],
          "scattergeo": [
           {
            "marker": {
             "colorbar": {
              "outlinewidth": 0,
              "ticks": ""
             }
            },
            "type": "scattergeo"
           }
          ],
          "scattergl": [
           {
            "marker": {
             "colorbar": {
              "outlinewidth": 0,
              "ticks": ""
             }
            },
            "type": "scattergl"
           }
          ],
          "scattermapbox": [
           {
            "marker": {
             "colorbar": {
              "outlinewidth": 0,
              "ticks": ""
             }
            },
            "type": "scattermapbox"
           }
          ],
          "scatterpolar": [
           {
            "marker": {
             "colorbar": {
              "outlinewidth": 0,
              "ticks": ""
             }
            },
            "type": "scatterpolar"
           }
          ],
          "scatterpolargl": [
           {
            "marker": {
             "colorbar": {
              "outlinewidth": 0,
              "ticks": ""
             }
            },
            "type": "scatterpolargl"
           }
          ],
          "scatterternary": [
           {
            "marker": {
             "colorbar": {
              "outlinewidth": 0,
              "ticks": ""
             }
            },
            "type": "scatterternary"
           }
          ],
          "surface": [
           {
            "colorbar": {
             "outlinewidth": 0,
             "ticks": ""
            },
            "colorscale": [
             [
              0,
              "#0d0887"
             ],
             [
              0.1111111111111111,
              "#46039f"
             ],
             [
              0.2222222222222222,
              "#7201a8"
             ],
             [
              0.3333333333333333,
              "#9c179e"
             ],
             [
              0.4444444444444444,
              "#bd3786"
             ],
             [
              0.5555555555555556,
              "#d8576b"
             ],
             [
              0.6666666666666666,
              "#ed7953"
             ],
             [
              0.7777777777777778,
              "#fb9f3a"
             ],
             [
              0.8888888888888888,
              "#fdca26"
             ],
             [
              1,
              "#f0f921"
             ]
            ],
            "type": "surface"
           }
          ],
          "table": [
           {
            "cells": {
             "fill": {
              "color": "#EBF0F8"
             },
             "line": {
              "color": "white"
             }
            },
            "header": {
             "fill": {
              "color": "#C8D4E3"
             },
             "line": {
              "color": "white"
             }
            },
            "type": "table"
           }
          ]
         },
         "layout": {
          "annotationdefaults": {
           "arrowcolor": "#2a3f5f",
           "arrowhead": 0,
           "arrowwidth": 1
          },
          "autotypenumbers": "strict",
          "coloraxis": {
           "colorbar": {
            "outlinewidth": 0,
            "ticks": ""
           }
          },
          "colorscale": {
           "diverging": [
            [
             0,
             "#8e0152"
            ],
            [
             0.1,
             "#c51b7d"
            ],
            [
             0.2,
             "#de77ae"
            ],
            [
             0.3,
             "#f1b6da"
            ],
            [
             0.4,
             "#fde0ef"
            ],
            [
             0.5,
             "#f7f7f7"
            ],
            [
             0.6,
             "#e6f5d0"
            ],
            [
             0.7,
             "#b8e186"
            ],
            [
             0.8,
             "#7fbc41"
            ],
            [
             0.9,
             "#4d9221"
            ],
            [
             1,
             "#276419"
            ]
           ],
           "sequential": [
            [
             0,
             "#0d0887"
            ],
            [
             0.1111111111111111,
             "#46039f"
            ],
            [
             0.2222222222222222,
             "#7201a8"
            ],
            [
             0.3333333333333333,
             "#9c179e"
            ],
            [
             0.4444444444444444,
             "#bd3786"
            ],
            [
             0.5555555555555556,
             "#d8576b"
            ],
            [
             0.6666666666666666,
             "#ed7953"
            ],
            [
             0.7777777777777778,
             "#fb9f3a"
            ],
            [
             0.8888888888888888,
             "#fdca26"
            ],
            [
             1,
             "#f0f921"
            ]
           ],
           "sequentialminus": [
            [
             0,
             "#0d0887"
            ],
            [
             0.1111111111111111,
             "#46039f"
            ],
            [
             0.2222222222222222,
             "#7201a8"
            ],
            [
             0.3333333333333333,
             "#9c179e"
            ],
            [
             0.4444444444444444,
             "#bd3786"
            ],
            [
             0.5555555555555556,
             "#d8576b"
            ],
            [
             0.6666666666666666,
             "#ed7953"
            ],
            [
             0.7777777777777778,
             "#fb9f3a"
            ],
            [
             0.8888888888888888,
             "#fdca26"
            ],
            [
             1,
             "#f0f921"
            ]
           ]
          },
          "colorway": [
           "#636efa",
           "#EF553B",
           "#00cc96",
           "#ab63fa",
           "#FFA15A",
           "#19d3f3",
           "#FF6692",
           "#B6E880",
           "#FF97FF",
           "#FECB52"
          ],
          "font": {
           "color": "#2a3f5f"
          },
          "geo": {
           "bgcolor": "white",
           "lakecolor": "white",
           "landcolor": "#E5ECF6",
           "showlakes": true,
           "showland": true,
           "subunitcolor": "white"
          },
          "hoverlabel": {
           "align": "left"
          },
          "hovermode": "closest",
          "mapbox": {
           "style": "light"
          },
          "paper_bgcolor": "white",
          "plot_bgcolor": "#E5ECF6",
          "polar": {
           "angularaxis": {
            "gridcolor": "white",
            "linecolor": "white",
            "ticks": ""
           },
           "bgcolor": "#E5ECF6",
           "radialaxis": {
            "gridcolor": "white",
            "linecolor": "white",
            "ticks": ""
           }
          },
          "scene": {
           "xaxis": {
            "backgroundcolor": "#E5ECF6",
            "gridcolor": "white",
            "gridwidth": 2,
            "linecolor": "white",
            "showbackground": true,
            "ticks": "",
            "zerolinecolor": "white"
           },
           "yaxis": {
            "backgroundcolor": "#E5ECF6",
            "gridcolor": "white",
            "gridwidth": 2,
            "linecolor": "white",
            "showbackground": true,
            "ticks": "",
            "zerolinecolor": "white"
           },
           "zaxis": {
            "backgroundcolor": "#E5ECF6",
            "gridcolor": "white",
            "gridwidth": 2,
            "linecolor": "white",
            "showbackground": true,
            "ticks": "",
            "zerolinecolor": "white"
           }
          },
          "shapedefaults": {
           "line": {
            "color": "#2a3f5f"
           }
          },
          "ternary": {
           "aaxis": {
            "gridcolor": "white",
            "linecolor": "white",
            "ticks": ""
           },
           "baxis": {
            "gridcolor": "white",
            "linecolor": "white",
            "ticks": ""
           },
           "bgcolor": "#E5ECF6",
           "caxis": {
            "gridcolor": "white",
            "linecolor": "white",
            "ticks": ""
           }
          },
          "title": {
           "x": 0.05
          },
          "xaxis": {
           "automargin": true,
           "gridcolor": "white",
           "linecolor": "white",
           "ticks": "",
           "title": {
            "standoff": 15
           },
           "zerolinecolor": "white",
           "zerolinewidth": 2
          },
          "yaxis": {
           "automargin": true,
           "gridcolor": "white",
           "linecolor": "white",
           "ticks": "",
           "title": {
            "standoff": 15
           },
           "zerolinecolor": "white",
           "zerolinewidth": 2
          }
         }
        },
        "title": {
         "text": "Clusters"
        },
        "xaxis": {
         "anchor": "y",
         "domain": [
          0,
          1
         ],
         "title": {
          "text": "Incarceration rate"
         }
        },
        "xaxis2": {
         "anchor": "y2",
         "domain": [
          0,
          1
         ],
         "title": {
          "text": "Incarceration rate"
         }
        },
        "xaxis3": {
         "anchor": "y3",
         "domain": [
          0,
          1
         ],
         "title": {
          "text": "Female incarceration rate"
         }
        },
        "yaxis": {
         "anchor": "x",
         "domain": [
          0.7777777777777778,
          1
         ],
         "title": {
          "text": "Female incarceration rate"
         }
        },
        "yaxis2": {
         "anchor": "x2",
         "domain": [
          0.3888888888888889,
          0.6111111111111112
         ],
         "title": {
          "text": "Male incarceration rate"
         }
        },
        "yaxis3": {
         "anchor": "x3",
         "domain": [
          0,
          0.22222222222222224
         ],
         "title": {
          "text": "Male incarceration rate"
         }
        }
       }
      }
     },
     "metadata": {},
     "output_type": "display_data"
    }
   ],
   "source": [
    "visualizing_results_2d(df,n)"
   ]
  },
  {
   "attachments": {},
   "cell_type": "markdown",
   "metadata": {},
   "source": [
    "## Plotting by Specific Features"
   ]
  },
  {
   "attachments": {},
   "cell_type": "markdown",
   "metadata": {},
   "source": [
    "### Step 1: Define the dataframes for each comparision (total, male, female)\n",
    "- regex is used to include or exclude words we arent interested in for that word\n",
    "```\n",
    "regex='^(?!.*(Word|Another|Something)).*'\n",
    "\n",
    "```\n",
    "- In this case, regex will find colunm names that contain the phrases: \"Word\" or \"Another\" or \"Something\" (| = or)\n",
    "- The carrort ^ symbol means to exclude, such as in $rate\\_df\\_total$\n",
    "  - [Mm] is used to identify words that contain M or m in the colunms to exclude \"M\"ale and Fe\"m\"ale from the total dataframe\n",
    "- Without the carrort, filter will focus on the words we specifies such as \"Male\" and \"Female\""
   ]
  },
  {
   "cell_type": "code",
   "execution_count": 177,
   "metadata": {},
   "outputs": [],
   "source": [
    "# Data frames that onyl consider Incarceration rates\n",
    "rate_df_whole =df.filter(regex='^(?!.*(Correctional|Percent|Population)).*') \n",
    "rate_df_total = rate_df_whole.filter(regex='^(?!.*([Mm]ale)).*') # Total rates\n",
    "rate_df_male = rate_df_whole.filter(regex='.*(Geography|Male).*') # Male rates\n",
    "rate_df_female = rate_df_whole.filter(regex='.*(Geography|[Fem]ale).*') # Female rates\n",
    "\n",
    "corr_df_whole =df.filter(regex='^(?!.*(rate|Percent|Population)).*') \n",
    "corr_df_total = rate_df_whole.filter(regex='^(?!.*([Mm]ale)).*') # Total rates\n",
    "corr_df_male = rate_df_whole.filter(regex='.*(Geography|Male).*') # Male rates\n",
    "corr_df_female = rate_df_whole.filter(regex='.*(Geography|[Fem]ale).*') # Female rates\n",
    "\n",
    "per_df_whole=pd.DataFrame()\n",
    "per_df_whole[\"Geography\"] = df[\"Geography\"]\n",
    "per_df_whole = pd.concat([per_df_whole, df.filter(like='Percent', axis=1)], axis=1)\n",
    "per_df_total = per_df_whole.filter(regex='^(?!.*([Mm]en)).*') # Total rates\n",
    "per_df_male = per_df_whole.filter(regex='.*(Geography|Men).*') # Male rates\n",
    "per_df_female = per_df_whole.filter(regex='.*(Geography|[Wom]en).*') # Female rates"
   ]
  },
  {
   "attachments": {},
   "cell_type": "markdown",
   "metadata": {},
   "source": [
    "### Step 2: Run K-means, get Feature and get n clusters\n",
    "- runKmeans takes in 3 arguements: dataframe, feature variables (not the obsevations such as the states in our case), and the number of clusters we wish to use\n",
    "### Step 3: Plots\n",
    "- stateClusterGraph takes in the dataframe the runKmeans method (just includes cluster assigments) and plots them to states\n",
    "#### Multiple Plots\n",
    "- We can store the cluster data from the runKmeans method to different variables such as below \n",
    "- then Plot them on subplots as below\n",
    "\n",
    "#### Single Plots\n",
    "- Just calling stateClusterGraph with the cluster data passed as an argument and not defining it into a variable\n",
    "- A plot will produce on its own\n"
   ]
  },
  {
   "cell_type": "code",
   "execution_count": 178,
   "metadata": {},
   "outputs": [],
   "source": [
    "# Get graphs with State abbrevations assigned for each\n",
    "total_rate_fig = stateClusterGraph(runKmeans(rate_df_total, getX(rate_df_total), n)) \n",
    "male_rate_fig= stateClusterGraph(runKmeans(rate_df_male, getX(rate_df_male), n))\n",
    "female_rate_fig = stateClusterGraph(runKmeans(rate_df_female, getX(rate_df_female), n))\n",
    "\n",
    "total_corr_fig = stateClusterGraph(runKmeans(corr_df_total, getX(corr_df_total), n)) \n",
    "male_corr_fig= stateClusterGraph(runKmeans(corr_df_male, getX(corr_df_male), n))\n",
    "female_corr_fig = stateClusterGraph(runKmeans(corr_df_female, getX(corr_df_female), n))\n",
    "\n",
    "total_per_fig = stateClusterGraph(runKmeans(per_df_total, getX(per_df_total), n)) \n",
    "male_per_fig= stateClusterGraph(runKmeans(per_df_male, getX(per_df_male), n))\n",
    "female_per_fig = stateClusterGraph(runKmeans(per_df_female, getX(per_df_female), n))"
   ]
  },
  {
   "cell_type": "code",
   "execution_count": 179,
   "metadata": {},
   "outputs": [
    {
     "data": {
      "application/vnd.plotly.v1+json": {
       "config": {
        "plotlyServerURL": "https://plot.ly"
       },
       "data": [
        {
         "coloraxis": "coloraxis",
         "geo": "geo",
         "hovertemplate": "State Abbreviation=%{location}<br>Cluster=%{z}<extra></extra>",
         "locationmode": "USA-states",
         "locations": [
          "AL",
          "AK",
          "AZ",
          "AR",
          "CA",
          "CO",
          "CT",
          "DE",
          null,
          "FL",
          "GA",
          "HI",
          "ID",
          "IL",
          "IN",
          "IA",
          "KS",
          "KY",
          "LA",
          "ME",
          "MD",
          "MA",
          "MI",
          "MN",
          "MS",
          "MO",
          "MT",
          "NE",
          "NV",
          "NH",
          "NJ",
          "NM",
          "NY",
          "NC",
          "ND",
          "OH",
          "OK",
          "OR",
          "PA",
          "RI",
          "SC",
          "SD",
          "TN",
          "TX",
          "UT",
          "VT",
          "VA",
          "WA",
          "WV",
          "WI",
          "WY",
          null
         ],
         "name": "",
         "type": "choropleth",
         "z": [
          1,
          1,
          3,
          0,
          0,
          0,
          1,
          1,
          1,
          0,
          0,
          1,
          0,
          1,
          0,
          1,
          0,
          0,
          0,
          1,
          1,
          1,
          1,
          1,
          2,
          1,
          0,
          1,
          0,
          1,
          1,
          0,
          1,
          1,
          1,
          1,
          0,
          0,
          0,
          1,
          1,
          0,
          1,
          0,
          1,
          1,
          1,
          1,
          3,
          0,
          0,
          1
         ]
        },
        {
         "coloraxis": "coloraxis",
         "geo": "geo2",
         "hovertemplate": "State Abbreviation=%{location}<br>Cluster=%{z}<extra></extra>",
         "locationmode": "USA-states",
         "locations": [
          "AL",
          "AK",
          "AZ",
          "AR",
          "CA",
          "CO",
          "CT",
          "DE",
          null,
          "FL",
          "GA",
          "HI",
          "ID",
          "IL",
          "IN",
          "IA",
          "KS",
          "KY",
          "LA",
          "ME",
          "MD",
          "MA",
          "MI",
          "MN",
          "MS",
          "MO",
          "MT",
          "NE",
          "NV",
          "NH",
          "NJ",
          "NM",
          "NY",
          "NC",
          "ND",
          "OH",
          "OK",
          "OR",
          "PA",
          "RI",
          "SC",
          "SD",
          "TN",
          "TX",
          "UT",
          "VT",
          "VA",
          "WA",
          "WV",
          "WI",
          "WY",
          null
         ],
         "name": "",
         "type": "choropleth",
         "z": [
          1,
          1,
          2,
          0,
          0,
          0,
          1,
          1,
          1,
          0,
          0,
          1,
          0,
          1,
          0,
          1,
          0,
          0,
          0,
          1,
          1,
          1,
          1,
          1,
          2,
          1,
          0,
          1,
          0,
          1,
          1,
          0,
          1,
          1,
          1,
          1,
          0,
          0,
          0,
          1,
          1,
          0,
          1,
          0,
          1,
          1,
          1,
          1,
          3,
          0,
          0,
          1
         ]
        },
        {
         "coloraxis": "coloraxis",
         "geo": "geo3",
         "hovertemplate": "State Abbreviation=%{location}<br>Cluster=%{z}<extra></extra>",
         "locationmode": "USA-states",
         "locations": [
          "AL",
          "AK",
          "AZ",
          "AR",
          "CA",
          "CO",
          "CT",
          "DE",
          null,
          "FL",
          "GA",
          "HI",
          "ID",
          "IL",
          "IN",
          "IA",
          "KS",
          "KY",
          "LA",
          "ME",
          "MD",
          "MA",
          "MI",
          "MN",
          "MS",
          "MO",
          "MT",
          "NE",
          "NV",
          "NH",
          "NJ",
          "NM",
          "NY",
          "NC",
          "ND",
          "OH",
          "OK",
          "OR",
          "PA",
          "RI",
          "SC",
          "SD",
          "TN",
          "TX",
          "UT",
          "VT",
          "VA",
          "WA",
          "WV",
          "WI",
          "WY",
          null
         ],
         "name": "",
         "type": "choropleth",
         "z": [
          2,
          3,
          2,
          2,
          0,
          3,
          3,
          0,
          0,
          2,
          2,
          2,
          2,
          0,
          0,
          3,
          0,
          2,
          2,
          0,
          0,
          0,
          0,
          3,
          2,
          0,
          3,
          3,
          2,
          3,
          0,
          2,
          0,
          0,
          3,
          0,
          2,
          0,
          0,
          0,
          0,
          3,
          2,
          2,
          3,
          0,
          0,
          0,
          1,
          3,
          3,
          0
         ]
        }
       ],
       "layout": {
        "annotations": [
         {
          "font": {
           "size": 16
          },
          "showarrow": false,
          "text": "Total Rate",
          "x": 0.14444444444444446,
          "xanchor": "center",
          "xref": "paper",
          "y": 1,
          "yanchor": "bottom",
          "yref": "paper"
         },
         {
          "font": {
           "size": 16
          },
          "showarrow": false,
          "text": "Male Rate",
          "x": 0.5,
          "xanchor": "center",
          "xref": "paper",
          "y": 1,
          "yanchor": "bottom",
          "yref": "paper"
         },
         {
          "font": {
           "size": 16
          },
          "showarrow": false,
          "text": "Female Rate",
          "x": 0.8555555555555556,
          "xanchor": "center",
          "xref": "paper",
          "y": 1,
          "yanchor": "bottom",
          "yref": "paper"
         }
        ],
        "geo": {
         "domain": {
          "x": [
           0,
           0.2888888888888889
          ],
          "y": [
           0,
           1
          ]
         },
         "scope": "usa"
        },
        "geo2": {
         "domain": {
          "x": [
           0.35555555555555557,
           0.6444444444444445
          ],
          "y": [
           0,
           1
          ]
         },
         "scope": "usa"
        },
        "geo3": {
         "domain": {
          "x": [
           0.7111111111111111,
           1
          ],
          "y": [
           0,
           1
          ]
         },
         "scope": "usa"
        },
        "template": {
         "data": {
          "bar": [
           {
            "error_x": {
             "color": "#2a3f5f"
            },
            "error_y": {
             "color": "#2a3f5f"
            },
            "marker": {
             "line": {
              "color": "#E5ECF6",
              "width": 0.5
             },
             "pattern": {
              "fillmode": "overlay",
              "size": 10,
              "solidity": 0.2
             }
            },
            "type": "bar"
           }
          ],
          "barpolar": [
           {
            "marker": {
             "line": {
              "color": "#E5ECF6",
              "width": 0.5
             },
             "pattern": {
              "fillmode": "overlay",
              "size": 10,
              "solidity": 0.2
             }
            },
            "type": "barpolar"
           }
          ],
          "carpet": [
           {
            "aaxis": {
             "endlinecolor": "#2a3f5f",
             "gridcolor": "white",
             "linecolor": "white",
             "minorgridcolor": "white",
             "startlinecolor": "#2a3f5f"
            },
            "baxis": {
             "endlinecolor": "#2a3f5f",
             "gridcolor": "white",
             "linecolor": "white",
             "minorgridcolor": "white",
             "startlinecolor": "#2a3f5f"
            },
            "type": "carpet"
           }
          ],
          "choropleth": [
           {
            "colorbar": {
             "outlinewidth": 0,
             "ticks": ""
            },
            "type": "choropleth"
           }
          ],
          "contour": [
           {
            "colorbar": {
             "outlinewidth": 0,
             "ticks": ""
            },
            "colorscale": [
             [
              0,
              "#0d0887"
             ],
             [
              0.1111111111111111,
              "#46039f"
             ],
             [
              0.2222222222222222,
              "#7201a8"
             ],
             [
              0.3333333333333333,
              "#9c179e"
             ],
             [
              0.4444444444444444,
              "#bd3786"
             ],
             [
              0.5555555555555556,
              "#d8576b"
             ],
             [
              0.6666666666666666,
              "#ed7953"
             ],
             [
              0.7777777777777778,
              "#fb9f3a"
             ],
             [
              0.8888888888888888,
              "#fdca26"
             ],
             [
              1,
              "#f0f921"
             ]
            ],
            "type": "contour"
           }
          ],
          "contourcarpet": [
           {
            "colorbar": {
             "outlinewidth": 0,
             "ticks": ""
            },
            "type": "contourcarpet"
           }
          ],
          "heatmap": [
           {
            "colorbar": {
             "outlinewidth": 0,
             "ticks": ""
            },
            "colorscale": [
             [
              0,
              "#0d0887"
             ],
             [
              0.1111111111111111,
              "#46039f"
             ],
             [
              0.2222222222222222,
              "#7201a8"
             ],
             [
              0.3333333333333333,
              "#9c179e"
             ],
             [
              0.4444444444444444,
              "#bd3786"
             ],
             [
              0.5555555555555556,
              "#d8576b"
             ],
             [
              0.6666666666666666,
              "#ed7953"
             ],
             [
              0.7777777777777778,
              "#fb9f3a"
             ],
             [
              0.8888888888888888,
              "#fdca26"
             ],
             [
              1,
              "#f0f921"
             ]
            ],
            "type": "heatmap"
           }
          ],
          "heatmapgl": [
           {
            "colorbar": {
             "outlinewidth": 0,
             "ticks": ""
            },
            "colorscale": [
             [
              0,
              "#0d0887"
             ],
             [
              0.1111111111111111,
              "#46039f"
             ],
             [
              0.2222222222222222,
              "#7201a8"
             ],
             [
              0.3333333333333333,
              "#9c179e"
             ],
             [
              0.4444444444444444,
              "#bd3786"
             ],
             [
              0.5555555555555556,
              "#d8576b"
             ],
             [
              0.6666666666666666,
              "#ed7953"
             ],
             [
              0.7777777777777778,
              "#fb9f3a"
             ],
             [
              0.8888888888888888,
              "#fdca26"
             ],
             [
              1,
              "#f0f921"
             ]
            ],
            "type": "heatmapgl"
           }
          ],
          "histogram": [
           {
            "marker": {
             "pattern": {
              "fillmode": "overlay",
              "size": 10,
              "solidity": 0.2
             }
            },
            "type": "histogram"
           }
          ],
          "histogram2d": [
           {
            "colorbar": {
             "outlinewidth": 0,
             "ticks": ""
            },
            "colorscale": [
             [
              0,
              "#0d0887"
             ],
             [
              0.1111111111111111,
              "#46039f"
             ],
             [
              0.2222222222222222,
              "#7201a8"
             ],
             [
              0.3333333333333333,
              "#9c179e"
             ],
             [
              0.4444444444444444,
              "#bd3786"
             ],
             [
              0.5555555555555556,
              "#d8576b"
             ],
             [
              0.6666666666666666,
              "#ed7953"
             ],
             [
              0.7777777777777778,
              "#fb9f3a"
             ],
             [
              0.8888888888888888,
              "#fdca26"
             ],
             [
              1,
              "#f0f921"
             ]
            ],
            "type": "histogram2d"
           }
          ],
          "histogram2dcontour": [
           {
            "colorbar": {
             "outlinewidth": 0,
             "ticks": ""
            },
            "colorscale": [
             [
              0,
              "#0d0887"
             ],
             [
              0.1111111111111111,
              "#46039f"
             ],
             [
              0.2222222222222222,
              "#7201a8"
             ],
             [
              0.3333333333333333,
              "#9c179e"
             ],
             [
              0.4444444444444444,
              "#bd3786"
             ],
             [
              0.5555555555555556,
              "#d8576b"
             ],
             [
              0.6666666666666666,
              "#ed7953"
             ],
             [
              0.7777777777777778,
              "#fb9f3a"
             ],
             [
              0.8888888888888888,
              "#fdca26"
             ],
             [
              1,
              "#f0f921"
             ]
            ],
            "type": "histogram2dcontour"
           }
          ],
          "mesh3d": [
           {
            "colorbar": {
             "outlinewidth": 0,
             "ticks": ""
            },
            "type": "mesh3d"
           }
          ],
          "parcoords": [
           {
            "line": {
             "colorbar": {
              "outlinewidth": 0,
              "ticks": ""
             }
            },
            "type": "parcoords"
           }
          ],
          "pie": [
           {
            "automargin": true,
            "type": "pie"
           }
          ],
          "scatter": [
           {
            "fillpattern": {
             "fillmode": "overlay",
             "size": 10,
             "solidity": 0.2
            },
            "type": "scatter"
           }
          ],
          "scatter3d": [
           {
            "line": {
             "colorbar": {
              "outlinewidth": 0,
              "ticks": ""
             }
            },
            "marker": {
             "colorbar": {
              "outlinewidth": 0,
              "ticks": ""
             }
            },
            "type": "scatter3d"
           }
          ],
          "scattercarpet": [
           {
            "marker": {
             "colorbar": {
              "outlinewidth": 0,
              "ticks": ""
             }
            },
            "type": "scattercarpet"
           }
          ],
          "scattergeo": [
           {
            "marker": {
             "colorbar": {
              "outlinewidth": 0,
              "ticks": ""
             }
            },
            "type": "scattergeo"
           }
          ],
          "scattergl": [
           {
            "marker": {
             "colorbar": {
              "outlinewidth": 0,
              "ticks": ""
             }
            },
            "type": "scattergl"
           }
          ],
          "scattermapbox": [
           {
            "marker": {
             "colorbar": {
              "outlinewidth": 0,
              "ticks": ""
             }
            },
            "type": "scattermapbox"
           }
          ],
          "scatterpolar": [
           {
            "marker": {
             "colorbar": {
              "outlinewidth": 0,
              "ticks": ""
             }
            },
            "type": "scatterpolar"
           }
          ],
          "scatterpolargl": [
           {
            "marker": {
             "colorbar": {
              "outlinewidth": 0,
              "ticks": ""
             }
            },
            "type": "scatterpolargl"
           }
          ],
          "scatterternary": [
           {
            "marker": {
             "colorbar": {
              "outlinewidth": 0,
              "ticks": ""
             }
            },
            "type": "scatterternary"
           }
          ],
          "surface": [
           {
            "colorbar": {
             "outlinewidth": 0,
             "ticks": ""
            },
            "colorscale": [
             [
              0,
              "#0d0887"
             ],
             [
              0.1111111111111111,
              "#46039f"
             ],
             [
              0.2222222222222222,
              "#7201a8"
             ],
             [
              0.3333333333333333,
              "#9c179e"
             ],
             [
              0.4444444444444444,
              "#bd3786"
             ],
             [
              0.5555555555555556,
              "#d8576b"
             ],
             [
              0.6666666666666666,
              "#ed7953"
             ],
             [
              0.7777777777777778,
              "#fb9f3a"
             ],
             [
              0.8888888888888888,
              "#fdca26"
             ],
             [
              1,
              "#f0f921"
             ]
            ],
            "type": "surface"
           }
          ],
          "table": [
           {
            "cells": {
             "fill": {
              "color": "#EBF0F8"
             },
             "line": {
              "color": "white"
             }
            },
            "header": {
             "fill": {
              "color": "#C8D4E3"
             },
             "line": {
              "color": "white"
             }
            },
            "type": "table"
           }
          ]
         },
         "layout": {
          "annotationdefaults": {
           "arrowcolor": "#2a3f5f",
           "arrowhead": 0,
           "arrowwidth": 1
          },
          "autotypenumbers": "strict",
          "coloraxis": {
           "colorbar": {
            "outlinewidth": 0,
            "ticks": ""
           }
          },
          "colorscale": {
           "diverging": [
            [
             0,
             "#8e0152"
            ],
            [
             0.1,
             "#c51b7d"
            ],
            [
             0.2,
             "#de77ae"
            ],
            [
             0.3,
             "#f1b6da"
            ],
            [
             0.4,
             "#fde0ef"
            ],
            [
             0.5,
             "#f7f7f7"
            ],
            [
             0.6,
             "#e6f5d0"
            ],
            [
             0.7,
             "#b8e186"
            ],
            [
             0.8,
             "#7fbc41"
            ],
            [
             0.9,
             "#4d9221"
            ],
            [
             1,
             "#276419"
            ]
           ],
           "sequential": [
            [
             0,
             "#0d0887"
            ],
            [
             0.1111111111111111,
             "#46039f"
            ],
            [
             0.2222222222222222,
             "#7201a8"
            ],
            [
             0.3333333333333333,
             "#9c179e"
            ],
            [
             0.4444444444444444,
             "#bd3786"
            ],
            [
             0.5555555555555556,
             "#d8576b"
            ],
            [
             0.6666666666666666,
             "#ed7953"
            ],
            [
             0.7777777777777778,
             "#fb9f3a"
            ],
            [
             0.8888888888888888,
             "#fdca26"
            ],
            [
             1,
             "#f0f921"
            ]
           ],
           "sequentialminus": [
            [
             0,
             "#0d0887"
            ],
            [
             0.1111111111111111,
             "#46039f"
            ],
            [
             0.2222222222222222,
             "#7201a8"
            ],
            [
             0.3333333333333333,
             "#9c179e"
            ],
            [
             0.4444444444444444,
             "#bd3786"
            ],
            [
             0.5555555555555556,
             "#d8576b"
            ],
            [
             0.6666666666666666,
             "#ed7953"
            ],
            [
             0.7777777777777778,
             "#fb9f3a"
            ],
            [
             0.8888888888888888,
             "#fdca26"
            ],
            [
             1,
             "#f0f921"
            ]
           ]
          },
          "colorway": [
           "#636efa",
           "#EF553B",
           "#00cc96",
           "#ab63fa",
           "#FFA15A",
           "#19d3f3",
           "#FF6692",
           "#B6E880",
           "#FF97FF",
           "#FECB52"
          ],
          "font": {
           "color": "#2a3f5f"
          },
          "geo": {
           "bgcolor": "white",
           "lakecolor": "white",
           "landcolor": "#E5ECF6",
           "showlakes": true,
           "showland": true,
           "subunitcolor": "white"
          },
          "hoverlabel": {
           "align": "left"
          },
          "hovermode": "closest",
          "mapbox": {
           "style": "light"
          },
          "paper_bgcolor": "white",
          "plot_bgcolor": "#E5ECF6",
          "polar": {
           "angularaxis": {
            "gridcolor": "white",
            "linecolor": "white",
            "ticks": ""
           },
           "bgcolor": "#E5ECF6",
           "radialaxis": {
            "gridcolor": "white",
            "linecolor": "white",
            "ticks": ""
           }
          },
          "scene": {
           "xaxis": {
            "backgroundcolor": "#E5ECF6",
            "gridcolor": "white",
            "gridwidth": 2,
            "linecolor": "white",
            "showbackground": true,
            "ticks": "",
            "zerolinecolor": "white"
           },
           "yaxis": {
            "backgroundcolor": "#E5ECF6",
            "gridcolor": "white",
            "gridwidth": 2,
            "linecolor": "white",
            "showbackground": true,
            "ticks": "",
            "zerolinecolor": "white"
           },
           "zaxis": {
            "backgroundcolor": "#E5ECF6",
            "gridcolor": "white",
            "gridwidth": 2,
            "linecolor": "white",
            "showbackground": true,
            "ticks": "",
            "zerolinecolor": "white"
           }
          },
          "shapedefaults": {
           "line": {
            "color": "#2a3f5f"
           }
          },
          "ternary": {
           "aaxis": {
            "gridcolor": "white",
            "linecolor": "white",
            "ticks": ""
           },
           "baxis": {
            "gridcolor": "white",
            "linecolor": "white",
            "ticks": ""
           },
           "bgcolor": "#E5ECF6",
           "caxis": {
            "gridcolor": "white",
            "linecolor": "white",
            "ticks": ""
           }
          },
          "title": {
           "x": 0.05
          },
          "xaxis": {
           "automargin": true,
           "gridcolor": "white",
           "linecolor": "white",
           "ticks": "",
           "title": {
            "standoff": 15
           },
           "zerolinecolor": "white",
           "zerolinewidth": 2
          },
          "yaxis": {
           "automargin": true,
           "gridcolor": "white",
           "linecolor": "white",
           "ticks": "",
           "title": {
            "standoff": 15
           },
           "zerolinecolor": "white",
           "zerolinewidth": 2
          }
         }
        },
        "title": {
         "text": "Clusters by State"
        }
       }
      }
     },
     "metadata": {},
     "output_type": "display_data"
    }
   ],
   "source": [
    "# Make 3 subplots for \n",
    "# Create a 1x3 grid of subplots with titles and a geo subplot type\n",
    "fig = make_subplots(\n",
    "    rows=1,\n",
    "    cols=3,\n",
    "    subplot_titles=('Total Rate', 'Male Rate', 'Female Rate'),\n",
    "    specs=[[{'type': 'choropleth'}, {'type': 'choropleth'}, {'type': 'choropleth'}]]\n",
    ")\n",
    "\n",
    "# Add your figures as subplots\n",
    "fig.add_trace(total_rate_fig.data[0], row=1, col=1)\n",
    "fig.add_trace(male_rate_fig.data[0], row=1, col=2)\n",
    "fig.add_trace(female_rate_fig.data[0], row=1, col=3)\n",
    "\n",
    "# Update the geo attribute of each subplot to set the scope to 'usa'\n",
    "fig.update_geos(scope='usa')\n",
    "\n",
    "# Update the layout to show the subplots\n",
    "fig.update_layout(title='Clusters by State')\n",
    "\n",
    "fig.show()"
   ]
  },
  {
   "cell_type": "code",
   "execution_count": 180,
   "metadata": {},
   "outputs": [
    {
     "data": {
      "application/vnd.plotly.v1+json": {
       "config": {
        "plotlyServerURL": "https://plot.ly"
       },
       "data": [
        {
         "coloraxis": "coloraxis",
         "geo": "geo",
         "hovertemplate": "State Abbreviation=%{location}<br>Cluster=%{z}<extra></extra>",
         "locationmode": "USA-states",
         "locations": [
          "AL",
          "AK",
          "AZ",
          "AR",
          "CA",
          "CO",
          "CT",
          "DE",
          null,
          "FL",
          "GA",
          "HI",
          "ID",
          "IL",
          "IN",
          "IA",
          "KS",
          "KY",
          "LA",
          "ME",
          "MD",
          "MA",
          "MI",
          "MN",
          "MS",
          "MO",
          "MT",
          "NE",
          "NV",
          "NH",
          "NJ",
          "NM",
          "NY",
          "NC",
          "ND",
          "OH",
          "OK",
          "OR",
          "PA",
          "RI",
          "SC",
          "SD",
          "TN",
          "TX",
          "UT",
          "VT",
          "VA",
          "WA",
          "WV",
          "WI",
          "WY",
          null
         ],
         "name": "",
         "type": "choropleth",
         "z": [
          3,
          3,
          2,
          0,
          0,
          0,
          3,
          3,
          3,
          0,
          0,
          3,
          0,
          3,
          0,
          3,
          0,
          0,
          0,
          3,
          3,
          3,
          3,
          3,
          2,
          3,
          0,
          3,
          0,
          3,
          3,
          0,
          3,
          3,
          3,
          3,
          0,
          0,
          0,
          3,
          3,
          0,
          3,
          0,
          3,
          3,
          3,
          3,
          1,
          0,
          0,
          3
         ]
        },
        {
         "coloraxis": "coloraxis",
         "geo": "geo2",
         "hovertemplate": "State Abbreviation=%{location}<br>Cluster=%{z}<extra></extra>",
         "locationmode": "USA-states",
         "locations": [
          "AL",
          "AK",
          "AZ",
          "AR",
          "CA",
          "CO",
          "CT",
          "DE",
          null,
          "FL",
          "GA",
          "HI",
          "ID",
          "IL",
          "IN",
          "IA",
          "KS",
          "KY",
          "LA",
          "ME",
          "MD",
          "MA",
          "MI",
          "MN",
          "MS",
          "MO",
          "MT",
          "NE",
          "NV",
          "NH",
          "NJ",
          "NM",
          "NY",
          "NC",
          "ND",
          "OH",
          "OK",
          "OR",
          "PA",
          "RI",
          "SC",
          "SD",
          "TN",
          "TX",
          "UT",
          "VT",
          "VA",
          "WA",
          "WV",
          "WI",
          "WY",
          null
         ],
         "name": "",
         "type": "choropleth",
         "z": [
          0,
          2,
          3,
          0,
          0,
          1,
          2,
          2,
          2,
          0,
          0,
          2,
          0,
          2,
          0,
          1,
          0,
          1,
          0,
          2,
          2,
          2,
          2,
          2,
          3,
          0,
          1,
          2,
          0,
          2,
          2,
          0,
          2,
          2,
          2,
          2,
          0,
          0,
          1,
          2,
          2,
          1,
          0,
          0,
          2,
          2,
          0,
          2,
          3,
          1,
          1,
          2
         ]
        },
        {
         "coloraxis": "coloraxis",
         "geo": "geo3",
         "hovertemplate": "State Abbreviation=%{location}<br>Cluster=%{z}<extra></extra>",
         "locationmode": "USA-states",
         "locations": [
          "AL",
          "AK",
          "AZ",
          "AR",
          "CA",
          "CO",
          "CT",
          "DE",
          null,
          "FL",
          "GA",
          "HI",
          "ID",
          "IL",
          "IN",
          "IA",
          "KS",
          "KY",
          "LA",
          "ME",
          "MD",
          "MA",
          "MI",
          "MN",
          "MS",
          "MO",
          "MT",
          "NE",
          "NV",
          "NH",
          "NJ",
          "NM",
          "NY",
          "NC",
          "ND",
          "OH",
          "OK",
          "OR",
          "PA",
          "RI",
          "SC",
          "SD",
          "TN",
          "TX",
          "UT",
          "VT",
          "VA",
          "WA",
          "WV",
          "WI",
          "WY",
          null
         ],
         "name": "",
         "type": "choropleth",
         "z": [
          3,
          0,
          3,
          3,
          1,
          0,
          0,
          1,
          1,
          3,
          3,
          3,
          3,
          1,
          1,
          0,
          1,
          3,
          3,
          1,
          1,
          1,
          1,
          0,
          3,
          1,
          0,
          0,
          3,
          0,
          1,
          3,
          1,
          1,
          0,
          1,
          3,
          1,
          1,
          1,
          1,
          0,
          3,
          3,
          0,
          1,
          1,
          1,
          2,
          0,
          0,
          1
         ]
        }
       ],
       "layout": {
        "annotations": [
         {
          "font": {
           "size": 16
          },
          "showarrow": false,
          "text": "Total Corr Pop",
          "x": 0.14444444444444446,
          "xanchor": "center",
          "xref": "paper",
          "y": 1,
          "yanchor": "bottom",
          "yref": "paper"
         },
         {
          "font": {
           "size": 16
          },
          "showarrow": false,
          "text": "Male Corr Pop",
          "x": 0.5,
          "xanchor": "center",
          "xref": "paper",
          "y": 1,
          "yanchor": "bottom",
          "yref": "paper"
         },
         {
          "font": {
           "size": 16
          },
          "showarrow": false,
          "text": "Female Corr Pop",
          "x": 0.8555555555555556,
          "xanchor": "center",
          "xref": "paper",
          "y": 1,
          "yanchor": "bottom",
          "yref": "paper"
         }
        ],
        "geo": {
         "domain": {
          "x": [
           0,
           0.2888888888888889
          ],
          "y": [
           0,
           1
          ]
         },
         "scope": "usa"
        },
        "geo2": {
         "domain": {
          "x": [
           0.35555555555555557,
           0.6444444444444445
          ],
          "y": [
           0,
           1
          ]
         },
         "scope": "usa"
        },
        "geo3": {
         "domain": {
          "x": [
           0.7111111111111111,
           1
          ],
          "y": [
           0,
           1
          ]
         },
         "scope": "usa"
        },
        "template": {
         "data": {
          "bar": [
           {
            "error_x": {
             "color": "#2a3f5f"
            },
            "error_y": {
             "color": "#2a3f5f"
            },
            "marker": {
             "line": {
              "color": "#E5ECF6",
              "width": 0.5
             },
             "pattern": {
              "fillmode": "overlay",
              "size": 10,
              "solidity": 0.2
             }
            },
            "type": "bar"
           }
          ],
          "barpolar": [
           {
            "marker": {
             "line": {
              "color": "#E5ECF6",
              "width": 0.5
             },
             "pattern": {
              "fillmode": "overlay",
              "size": 10,
              "solidity": 0.2
             }
            },
            "type": "barpolar"
           }
          ],
          "carpet": [
           {
            "aaxis": {
             "endlinecolor": "#2a3f5f",
             "gridcolor": "white",
             "linecolor": "white",
             "minorgridcolor": "white",
             "startlinecolor": "#2a3f5f"
            },
            "baxis": {
             "endlinecolor": "#2a3f5f",
             "gridcolor": "white",
             "linecolor": "white",
             "minorgridcolor": "white",
             "startlinecolor": "#2a3f5f"
            },
            "type": "carpet"
           }
          ],
          "choropleth": [
           {
            "colorbar": {
             "outlinewidth": 0,
             "ticks": ""
            },
            "type": "choropleth"
           }
          ],
          "contour": [
           {
            "colorbar": {
             "outlinewidth": 0,
             "ticks": ""
            },
            "colorscale": [
             [
              0,
              "#0d0887"
             ],
             [
              0.1111111111111111,
              "#46039f"
             ],
             [
              0.2222222222222222,
              "#7201a8"
             ],
             [
              0.3333333333333333,
              "#9c179e"
             ],
             [
              0.4444444444444444,
              "#bd3786"
             ],
             [
              0.5555555555555556,
              "#d8576b"
             ],
             [
              0.6666666666666666,
              "#ed7953"
             ],
             [
              0.7777777777777778,
              "#fb9f3a"
             ],
             [
              0.8888888888888888,
              "#fdca26"
             ],
             [
              1,
              "#f0f921"
             ]
            ],
            "type": "contour"
           }
          ],
          "contourcarpet": [
           {
            "colorbar": {
             "outlinewidth": 0,
             "ticks": ""
            },
            "type": "contourcarpet"
           }
          ],
          "heatmap": [
           {
            "colorbar": {
             "outlinewidth": 0,
             "ticks": ""
            },
            "colorscale": [
             [
              0,
              "#0d0887"
             ],
             [
              0.1111111111111111,
              "#46039f"
             ],
             [
              0.2222222222222222,
              "#7201a8"
             ],
             [
              0.3333333333333333,
              "#9c179e"
             ],
             [
              0.4444444444444444,
              "#bd3786"
             ],
             [
              0.5555555555555556,
              "#d8576b"
             ],
             [
              0.6666666666666666,
              "#ed7953"
             ],
             [
              0.7777777777777778,
              "#fb9f3a"
             ],
             [
              0.8888888888888888,
              "#fdca26"
             ],
             [
              1,
              "#f0f921"
             ]
            ],
            "type": "heatmap"
           }
          ],
          "heatmapgl": [
           {
            "colorbar": {
             "outlinewidth": 0,
             "ticks": ""
            },
            "colorscale": [
             [
              0,
              "#0d0887"
             ],
             [
              0.1111111111111111,
              "#46039f"
             ],
             [
              0.2222222222222222,
              "#7201a8"
             ],
             [
              0.3333333333333333,
              "#9c179e"
             ],
             [
              0.4444444444444444,
              "#bd3786"
             ],
             [
              0.5555555555555556,
              "#d8576b"
             ],
             [
              0.6666666666666666,
              "#ed7953"
             ],
             [
              0.7777777777777778,
              "#fb9f3a"
             ],
             [
              0.8888888888888888,
              "#fdca26"
             ],
             [
              1,
              "#f0f921"
             ]
            ],
            "type": "heatmapgl"
           }
          ],
          "histogram": [
           {
            "marker": {
             "pattern": {
              "fillmode": "overlay",
              "size": 10,
              "solidity": 0.2
             }
            },
            "type": "histogram"
           }
          ],
          "histogram2d": [
           {
            "colorbar": {
             "outlinewidth": 0,
             "ticks": ""
            },
            "colorscale": [
             [
              0,
              "#0d0887"
             ],
             [
              0.1111111111111111,
              "#46039f"
             ],
             [
              0.2222222222222222,
              "#7201a8"
             ],
             [
              0.3333333333333333,
              "#9c179e"
             ],
             [
              0.4444444444444444,
              "#bd3786"
             ],
             [
              0.5555555555555556,
              "#d8576b"
             ],
             [
              0.6666666666666666,
              "#ed7953"
             ],
             [
              0.7777777777777778,
              "#fb9f3a"
             ],
             [
              0.8888888888888888,
              "#fdca26"
             ],
             [
              1,
              "#f0f921"
             ]
            ],
            "type": "histogram2d"
           }
          ],
          "histogram2dcontour": [
           {
            "colorbar": {
             "outlinewidth": 0,
             "ticks": ""
            },
            "colorscale": [
             [
              0,
              "#0d0887"
             ],
             [
              0.1111111111111111,
              "#46039f"
             ],
             [
              0.2222222222222222,
              "#7201a8"
             ],
             [
              0.3333333333333333,
              "#9c179e"
             ],
             [
              0.4444444444444444,
              "#bd3786"
             ],
             [
              0.5555555555555556,
              "#d8576b"
             ],
             [
              0.6666666666666666,
              "#ed7953"
             ],
             [
              0.7777777777777778,
              "#fb9f3a"
             ],
             [
              0.8888888888888888,
              "#fdca26"
             ],
             [
              1,
              "#f0f921"
             ]
            ],
            "type": "histogram2dcontour"
           }
          ],
          "mesh3d": [
           {
            "colorbar": {
             "outlinewidth": 0,
             "ticks": ""
            },
            "type": "mesh3d"
           }
          ],
          "parcoords": [
           {
            "line": {
             "colorbar": {
              "outlinewidth": 0,
              "ticks": ""
             }
            },
            "type": "parcoords"
           }
          ],
          "pie": [
           {
            "automargin": true,
            "type": "pie"
           }
          ],
          "scatter": [
           {
            "fillpattern": {
             "fillmode": "overlay",
             "size": 10,
             "solidity": 0.2
            },
            "type": "scatter"
           }
          ],
          "scatter3d": [
           {
            "line": {
             "colorbar": {
              "outlinewidth": 0,
              "ticks": ""
             }
            },
            "marker": {
             "colorbar": {
              "outlinewidth": 0,
              "ticks": ""
             }
            },
            "type": "scatter3d"
           }
          ],
          "scattercarpet": [
           {
            "marker": {
             "colorbar": {
              "outlinewidth": 0,
              "ticks": ""
             }
            },
            "type": "scattercarpet"
           }
          ],
          "scattergeo": [
           {
            "marker": {
             "colorbar": {
              "outlinewidth": 0,
              "ticks": ""
             }
            },
            "type": "scattergeo"
           }
          ],
          "scattergl": [
           {
            "marker": {
             "colorbar": {
              "outlinewidth": 0,
              "ticks": ""
             }
            },
            "type": "scattergl"
           }
          ],
          "scattermapbox": [
           {
            "marker": {
             "colorbar": {
              "outlinewidth": 0,
              "ticks": ""
             }
            },
            "type": "scattermapbox"
           }
          ],
          "scatterpolar": [
           {
            "marker": {
             "colorbar": {
              "outlinewidth": 0,
              "ticks": ""
             }
            },
            "type": "scatterpolar"
           }
          ],
          "scatterpolargl": [
           {
            "marker": {
             "colorbar": {
              "outlinewidth": 0,
              "ticks": ""
             }
            },
            "type": "scatterpolargl"
           }
          ],
          "scatterternary": [
           {
            "marker": {
             "colorbar": {
              "outlinewidth": 0,
              "ticks": ""
             }
            },
            "type": "scatterternary"
           }
          ],
          "surface": [
           {
            "colorbar": {
             "outlinewidth": 0,
             "ticks": ""
            },
            "colorscale": [
             [
              0,
              "#0d0887"
             ],
             [
              0.1111111111111111,
              "#46039f"
             ],
             [
              0.2222222222222222,
              "#7201a8"
             ],
             [
              0.3333333333333333,
              "#9c179e"
             ],
             [
              0.4444444444444444,
              "#bd3786"
             ],
             [
              0.5555555555555556,
              "#d8576b"
             ],
             [
              0.6666666666666666,
              "#ed7953"
             ],
             [
              0.7777777777777778,
              "#fb9f3a"
             ],
             [
              0.8888888888888888,
              "#fdca26"
             ],
             [
              1,
              "#f0f921"
             ]
            ],
            "type": "surface"
           }
          ],
          "table": [
           {
            "cells": {
             "fill": {
              "color": "#EBF0F8"
             },
             "line": {
              "color": "white"
             }
            },
            "header": {
             "fill": {
              "color": "#C8D4E3"
             },
             "line": {
              "color": "white"
             }
            },
            "type": "table"
           }
          ]
         },
         "layout": {
          "annotationdefaults": {
           "arrowcolor": "#2a3f5f",
           "arrowhead": 0,
           "arrowwidth": 1
          },
          "autotypenumbers": "strict",
          "coloraxis": {
           "colorbar": {
            "outlinewidth": 0,
            "ticks": ""
           }
          },
          "colorscale": {
           "diverging": [
            [
             0,
             "#8e0152"
            ],
            [
             0.1,
             "#c51b7d"
            ],
            [
             0.2,
             "#de77ae"
            ],
            [
             0.3,
             "#f1b6da"
            ],
            [
             0.4,
             "#fde0ef"
            ],
            [
             0.5,
             "#f7f7f7"
            ],
            [
             0.6,
             "#e6f5d0"
            ],
            [
             0.7,
             "#b8e186"
            ],
            [
             0.8,
             "#7fbc41"
            ],
            [
             0.9,
             "#4d9221"
            ],
            [
             1,
             "#276419"
            ]
           ],
           "sequential": [
            [
             0,
             "#0d0887"
            ],
            [
             0.1111111111111111,
             "#46039f"
            ],
            [
             0.2222222222222222,
             "#7201a8"
            ],
            [
             0.3333333333333333,
             "#9c179e"
            ],
            [
             0.4444444444444444,
             "#bd3786"
            ],
            [
             0.5555555555555556,
             "#d8576b"
            ],
            [
             0.6666666666666666,
             "#ed7953"
            ],
            [
             0.7777777777777778,
             "#fb9f3a"
            ],
            [
             0.8888888888888888,
             "#fdca26"
            ],
            [
             1,
             "#f0f921"
            ]
           ],
           "sequentialminus": [
            [
             0,
             "#0d0887"
            ],
            [
             0.1111111111111111,
             "#46039f"
            ],
            [
             0.2222222222222222,
             "#7201a8"
            ],
            [
             0.3333333333333333,
             "#9c179e"
            ],
            [
             0.4444444444444444,
             "#bd3786"
            ],
            [
             0.5555555555555556,
             "#d8576b"
            ],
            [
             0.6666666666666666,
             "#ed7953"
            ],
            [
             0.7777777777777778,
             "#fb9f3a"
            ],
            [
             0.8888888888888888,
             "#fdca26"
            ],
            [
             1,
             "#f0f921"
            ]
           ]
          },
          "colorway": [
           "#636efa",
           "#EF553B",
           "#00cc96",
           "#ab63fa",
           "#FFA15A",
           "#19d3f3",
           "#FF6692",
           "#B6E880",
           "#FF97FF",
           "#FECB52"
          ],
          "font": {
           "color": "#2a3f5f"
          },
          "geo": {
           "bgcolor": "white",
           "lakecolor": "white",
           "landcolor": "#E5ECF6",
           "showlakes": true,
           "showland": true,
           "subunitcolor": "white"
          },
          "hoverlabel": {
           "align": "left"
          },
          "hovermode": "closest",
          "mapbox": {
           "style": "light"
          },
          "paper_bgcolor": "white",
          "plot_bgcolor": "#E5ECF6",
          "polar": {
           "angularaxis": {
            "gridcolor": "white",
            "linecolor": "white",
            "ticks": ""
           },
           "bgcolor": "#E5ECF6",
           "radialaxis": {
            "gridcolor": "white",
            "linecolor": "white",
            "ticks": ""
           }
          },
          "scene": {
           "xaxis": {
            "backgroundcolor": "#E5ECF6",
            "gridcolor": "white",
            "gridwidth": 2,
            "linecolor": "white",
            "showbackground": true,
            "ticks": "",
            "zerolinecolor": "white"
           },
           "yaxis": {
            "backgroundcolor": "#E5ECF6",
            "gridcolor": "white",
            "gridwidth": 2,
            "linecolor": "white",
            "showbackground": true,
            "ticks": "",
            "zerolinecolor": "white"
           },
           "zaxis": {
            "backgroundcolor": "#E5ECF6",
            "gridcolor": "white",
            "gridwidth": 2,
            "linecolor": "white",
            "showbackground": true,
            "ticks": "",
            "zerolinecolor": "white"
           }
          },
          "shapedefaults": {
           "line": {
            "color": "#2a3f5f"
           }
          },
          "ternary": {
           "aaxis": {
            "gridcolor": "white",
            "linecolor": "white",
            "ticks": ""
           },
           "baxis": {
            "gridcolor": "white",
            "linecolor": "white",
            "ticks": ""
           },
           "bgcolor": "#E5ECF6",
           "caxis": {
            "gridcolor": "white",
            "linecolor": "white",
            "ticks": ""
           }
          },
          "title": {
           "x": 0.05
          },
          "xaxis": {
           "automargin": true,
           "gridcolor": "white",
           "linecolor": "white",
           "ticks": "",
           "title": {
            "standoff": 15
           },
           "zerolinecolor": "white",
           "zerolinewidth": 2
          },
          "yaxis": {
           "automargin": true,
           "gridcolor": "white",
           "linecolor": "white",
           "ticks": "",
           "title": {
            "standoff": 15
           },
           "zerolinecolor": "white",
           "zerolinewidth": 2
          }
         }
        },
        "title": {
         "text": "Clusters by State"
        }
       }
      }
     },
     "metadata": {},
     "output_type": "display_data"
    }
   ],
   "source": [
    "# Make 3 subplots for \n",
    "# Create a 1x3 grid of subplots with titles and a geo subplot type\n",
    "fig = make_subplots(\n",
    "    rows=1,\n",
    "    cols=3,\n",
    "    subplot_titles=('Total Corr Pop', 'Male Corr Pop', 'Female Corr Pop'),\n",
    "    specs=[[{'type': 'choropleth'}, {'type': 'choropleth'}, {'type': 'choropleth'}]]\n",
    ")\n",
    "\n",
    "# Add your figures as subplots\n",
    "fig.add_trace(total_corr_fig.data[0], row=1, col=1)\n",
    "fig.add_trace(male_corr_fig.data[0], row=1, col=2)\n",
    "fig.add_trace(female_corr_fig.data[0], row=1, col=3)\n",
    "\n",
    "# Update the geo attribute of each subplot to set the scope to 'usa'\n",
    "fig.update_geos(scope='usa')\n",
    "\n",
    "# Update the layout to show the subplots\n",
    "fig.update_layout(title='Clusters by State')\n",
    "\n",
    "fig.show()"
   ]
  },
  {
   "cell_type": "code",
   "execution_count": 181,
   "metadata": {},
   "outputs": [
    {
     "data": {
      "application/vnd.plotly.v1+json": {
       "config": {
        "plotlyServerURL": "https://plot.ly"
       },
       "data": [
        {
         "coloraxis": "coloraxis",
         "geo": "geo",
         "hovertemplate": "State Abbreviation=%{location}<br>Cluster=%{z}<extra></extra>",
         "locationmode": "USA-states",
         "locations": [
          "AL",
          "AK",
          "AZ",
          "AR",
          "CA",
          "CO",
          "CT",
          "DE",
          null,
          "FL",
          "GA",
          "HI",
          "ID",
          "IL",
          "IN",
          "IA",
          "KS",
          "KY",
          "LA",
          "ME",
          "MD",
          "MA",
          "MI",
          "MN",
          "MS",
          "MO",
          "MT",
          "NE",
          "NV",
          "NH",
          "NJ",
          "NM",
          "NY",
          "NC",
          "ND",
          "OH",
          "OK",
          "OR",
          "PA",
          "RI",
          "SC",
          "SD",
          "TN",
          "TX",
          "UT",
          "VT",
          "VA",
          "WA",
          "WV",
          "WI",
          "WY",
          null
         ],
         "name": "",
         "type": "choropleth",
         "z": [
          3,
          3,
          1,
          3,
          3,
          0,
          0,
          3,
          3,
          3,
          3,
          3,
          0,
          3,
          3,
          0,
          3,
          0,
          3,
          3,
          3,
          3,
          3,
          0,
          0,
          3,
          0,
          3,
          3,
          3,
          3,
          3,
          3,
          3,
          0,
          3,
          0,
          3,
          0,
          3,
          3,
          0,
          3,
          3,
          3,
          3,
          3,
          3,
          2,
          1,
          0,
          3
         ]
        },
        {
         "coloraxis": "coloraxis",
         "geo": "geo2",
         "hovertemplate": "State Abbreviation=%{location}<br>Cluster=%{z}<extra></extra>",
         "locationmode": "USA-states",
         "locations": [
          "AL",
          "AK",
          "AZ",
          "AR",
          "CA",
          "CO",
          "CT",
          "DE",
          null,
          "FL",
          "GA",
          "HI",
          "ID",
          "IL",
          "IN",
          "IA",
          "KS",
          "KY",
          "LA",
          "ME",
          "MD",
          "MA",
          "MI",
          "MN",
          "MS",
          "MO",
          "MT",
          "NE",
          "NV",
          "NH",
          "NJ",
          "NM",
          "NY",
          "NC",
          "ND",
          "OH",
          "OK",
          "OR",
          "PA",
          "RI",
          "SC",
          "SD",
          "TN",
          "TX",
          "UT",
          "VT",
          "VA",
          "WA",
          "WV",
          "WI",
          "WY",
          null
         ],
         "name": "",
         "type": "choropleth",
         "z": [
          3,
          3,
          1,
          3,
          3,
          0,
          0,
          3,
          3,
          3,
          3,
          3,
          3,
          3,
          3,
          3,
          3,
          0,
          3,
          3,
          3,
          3,
          3,
          3,
          0,
          3,
          0,
          3,
          3,
          3,
          3,
          3,
          3,
          3,
          3,
          3,
          0,
          3,
          0,
          3,
          3,
          0,
          3,
          3,
          3,
          3,
          3,
          3,
          2,
          1,
          0,
          3
         ]
        },
        {
         "coloraxis": "coloraxis",
         "geo": "geo3",
         "hovertemplate": "State Abbreviation=%{location}<br>Cluster=%{z}<extra></extra>",
         "locationmode": "USA-states",
         "locations": [
          "AL",
          "AK",
          "AZ",
          "AR",
          "CA",
          "CO",
          "CT",
          "DE",
          null,
          "FL",
          "GA",
          "HI",
          "ID",
          "IL",
          "IN",
          "IA",
          "KS",
          "KY",
          "LA",
          "ME",
          "MD",
          "MA",
          "MI",
          "MN",
          "MS",
          "MO",
          "MT",
          "NE",
          "NV",
          "NH",
          "NJ",
          "NM",
          "NY",
          "NC",
          "ND",
          "OH",
          "OK",
          "OR",
          "PA",
          "RI",
          "SC",
          "SD",
          "TN",
          "TX",
          "UT",
          "VT",
          "VA",
          "WA",
          "WV",
          "WI",
          "WY",
          null
         ],
         "name": "",
         "type": "choropleth",
         "z": [
          0,
          3,
          3,
          0,
          0,
          3,
          3,
          0,
          0,
          0,
          0,
          3,
          3,
          0,
          0,
          3,
          0,
          0,
          0,
          0,
          0,
          0,
          0,
          3,
          0,
          0,
          3,
          3,
          0,
          3,
          0,
          3,
          0,
          0,
          1,
          0,
          3,
          0,
          0,
          0,
          0,
          3,
          0,
          0,
          3,
          0,
          0,
          0,
          2,
          3,
          3,
          0
         ]
        }
       ],
       "layout": {
        "annotations": [
         {
          "font": {
           "size": 16
          },
          "showarrow": false,
          "text": "Total Percent",
          "x": 0.14444444444444446,
          "xanchor": "center",
          "xref": "paper",
          "y": 1,
          "yanchor": "bottom",
          "yref": "paper"
         },
         {
          "font": {
           "size": 16
          },
          "showarrow": false,
          "text": "Male Percent",
          "x": 0.5,
          "xanchor": "center",
          "xref": "paper",
          "y": 1,
          "yanchor": "bottom",
          "yref": "paper"
         },
         {
          "font": {
           "size": 16
          },
          "showarrow": false,
          "text": "Female Percent",
          "x": 0.8555555555555556,
          "xanchor": "center",
          "xref": "paper",
          "y": 1,
          "yanchor": "bottom",
          "yref": "paper"
         }
        ],
        "geo": {
         "domain": {
          "x": [
           0,
           0.2888888888888889
          ],
          "y": [
           0,
           1
          ]
         },
         "scope": "usa"
        },
        "geo2": {
         "domain": {
          "x": [
           0.35555555555555557,
           0.6444444444444445
          ],
          "y": [
           0,
           1
          ]
         },
         "scope": "usa"
        },
        "geo3": {
         "domain": {
          "x": [
           0.7111111111111111,
           1
          ],
          "y": [
           0,
           1
          ]
         },
         "scope": "usa"
        },
        "template": {
         "data": {
          "bar": [
           {
            "error_x": {
             "color": "#2a3f5f"
            },
            "error_y": {
             "color": "#2a3f5f"
            },
            "marker": {
             "line": {
              "color": "#E5ECF6",
              "width": 0.5
             },
             "pattern": {
              "fillmode": "overlay",
              "size": 10,
              "solidity": 0.2
             }
            },
            "type": "bar"
           }
          ],
          "barpolar": [
           {
            "marker": {
             "line": {
              "color": "#E5ECF6",
              "width": 0.5
             },
             "pattern": {
              "fillmode": "overlay",
              "size": 10,
              "solidity": 0.2
             }
            },
            "type": "barpolar"
           }
          ],
          "carpet": [
           {
            "aaxis": {
             "endlinecolor": "#2a3f5f",
             "gridcolor": "white",
             "linecolor": "white",
             "minorgridcolor": "white",
             "startlinecolor": "#2a3f5f"
            },
            "baxis": {
             "endlinecolor": "#2a3f5f",
             "gridcolor": "white",
             "linecolor": "white",
             "minorgridcolor": "white",
             "startlinecolor": "#2a3f5f"
            },
            "type": "carpet"
           }
          ],
          "choropleth": [
           {
            "colorbar": {
             "outlinewidth": 0,
             "ticks": ""
            },
            "type": "choropleth"
           }
          ],
          "contour": [
           {
            "colorbar": {
             "outlinewidth": 0,
             "ticks": ""
            },
            "colorscale": [
             [
              0,
              "#0d0887"
             ],
             [
              0.1111111111111111,
              "#46039f"
             ],
             [
              0.2222222222222222,
              "#7201a8"
             ],
             [
              0.3333333333333333,
              "#9c179e"
             ],
             [
              0.4444444444444444,
              "#bd3786"
             ],
             [
              0.5555555555555556,
              "#d8576b"
             ],
             [
              0.6666666666666666,
              "#ed7953"
             ],
             [
              0.7777777777777778,
              "#fb9f3a"
             ],
             [
              0.8888888888888888,
              "#fdca26"
             ],
             [
              1,
              "#f0f921"
             ]
            ],
            "type": "contour"
           }
          ],
          "contourcarpet": [
           {
            "colorbar": {
             "outlinewidth": 0,
             "ticks": ""
            },
            "type": "contourcarpet"
           }
          ],
          "heatmap": [
           {
            "colorbar": {
             "outlinewidth": 0,
             "ticks": ""
            },
            "colorscale": [
             [
              0,
              "#0d0887"
             ],
             [
              0.1111111111111111,
              "#46039f"
             ],
             [
              0.2222222222222222,
              "#7201a8"
             ],
             [
              0.3333333333333333,
              "#9c179e"
             ],
             [
              0.4444444444444444,
              "#bd3786"
             ],
             [
              0.5555555555555556,
              "#d8576b"
             ],
             [
              0.6666666666666666,
              "#ed7953"
             ],
             [
              0.7777777777777778,
              "#fb9f3a"
             ],
             [
              0.8888888888888888,
              "#fdca26"
             ],
             [
              1,
              "#f0f921"
             ]
            ],
            "type": "heatmap"
           }
          ],
          "heatmapgl": [
           {
            "colorbar": {
             "outlinewidth": 0,
             "ticks": ""
            },
            "colorscale": [
             [
              0,
              "#0d0887"
             ],
             [
              0.1111111111111111,
              "#46039f"
             ],
             [
              0.2222222222222222,
              "#7201a8"
             ],
             [
              0.3333333333333333,
              "#9c179e"
             ],
             [
              0.4444444444444444,
              "#bd3786"
             ],
             [
              0.5555555555555556,
              "#d8576b"
             ],
             [
              0.6666666666666666,
              "#ed7953"
             ],
             [
              0.7777777777777778,
              "#fb9f3a"
             ],
             [
              0.8888888888888888,
              "#fdca26"
             ],
             [
              1,
              "#f0f921"
             ]
            ],
            "type": "heatmapgl"
           }
          ],
          "histogram": [
           {
            "marker": {
             "pattern": {
              "fillmode": "overlay",
              "size": 10,
              "solidity": 0.2
             }
            },
            "type": "histogram"
           }
          ],
          "histogram2d": [
           {
            "colorbar": {
             "outlinewidth": 0,
             "ticks": ""
            },
            "colorscale": [
             [
              0,
              "#0d0887"
             ],
             [
              0.1111111111111111,
              "#46039f"
             ],
             [
              0.2222222222222222,
              "#7201a8"
             ],
             [
              0.3333333333333333,
              "#9c179e"
             ],
             [
              0.4444444444444444,
              "#bd3786"
             ],
             [
              0.5555555555555556,
              "#d8576b"
             ],
             [
              0.6666666666666666,
              "#ed7953"
             ],
             [
              0.7777777777777778,
              "#fb9f3a"
             ],
             [
              0.8888888888888888,
              "#fdca26"
             ],
             [
              1,
              "#f0f921"
             ]
            ],
            "type": "histogram2d"
           }
          ],
          "histogram2dcontour": [
           {
            "colorbar": {
             "outlinewidth": 0,
             "ticks": ""
            },
            "colorscale": [
             [
              0,
              "#0d0887"
             ],
             [
              0.1111111111111111,
              "#46039f"
             ],
             [
              0.2222222222222222,
              "#7201a8"
             ],
             [
              0.3333333333333333,
              "#9c179e"
             ],
             [
              0.4444444444444444,
              "#bd3786"
             ],
             [
              0.5555555555555556,
              "#d8576b"
             ],
             [
              0.6666666666666666,
              "#ed7953"
             ],
             [
              0.7777777777777778,
              "#fb9f3a"
             ],
             [
              0.8888888888888888,
              "#fdca26"
             ],
             [
              1,
              "#f0f921"
             ]
            ],
            "type": "histogram2dcontour"
           }
          ],
          "mesh3d": [
           {
            "colorbar": {
             "outlinewidth": 0,
             "ticks": ""
            },
            "type": "mesh3d"
           }
          ],
          "parcoords": [
           {
            "line": {
             "colorbar": {
              "outlinewidth": 0,
              "ticks": ""
             }
            },
            "type": "parcoords"
           }
          ],
          "pie": [
           {
            "automargin": true,
            "type": "pie"
           }
          ],
          "scatter": [
           {
            "fillpattern": {
             "fillmode": "overlay",
             "size": 10,
             "solidity": 0.2
            },
            "type": "scatter"
           }
          ],
          "scatter3d": [
           {
            "line": {
             "colorbar": {
              "outlinewidth": 0,
              "ticks": ""
             }
            },
            "marker": {
             "colorbar": {
              "outlinewidth": 0,
              "ticks": ""
             }
            },
            "type": "scatter3d"
           }
          ],
          "scattercarpet": [
           {
            "marker": {
             "colorbar": {
              "outlinewidth": 0,
              "ticks": ""
             }
            },
            "type": "scattercarpet"
           }
          ],
          "scattergeo": [
           {
            "marker": {
             "colorbar": {
              "outlinewidth": 0,
              "ticks": ""
             }
            },
            "type": "scattergeo"
           }
          ],
          "scattergl": [
           {
            "marker": {
             "colorbar": {
              "outlinewidth": 0,
              "ticks": ""
             }
            },
            "type": "scattergl"
           }
          ],
          "scattermapbox": [
           {
            "marker": {
             "colorbar": {
              "outlinewidth": 0,
              "ticks": ""
             }
            },
            "type": "scattermapbox"
           }
          ],
          "scatterpolar": [
           {
            "marker": {
             "colorbar": {
              "outlinewidth": 0,
              "ticks": ""
             }
            },
            "type": "scatterpolar"
           }
          ],
          "scatterpolargl": [
           {
            "marker": {
             "colorbar": {
              "outlinewidth": 0,
              "ticks": ""
             }
            },
            "type": "scatterpolargl"
           }
          ],
          "scatterternary": [
           {
            "marker": {
             "colorbar": {
              "outlinewidth": 0,
              "ticks": ""
             }
            },
            "type": "scatterternary"
           }
          ],
          "surface": [
           {
            "colorbar": {
             "outlinewidth": 0,
             "ticks": ""
            },
            "colorscale": [
             [
              0,
              "#0d0887"
             ],
             [
              0.1111111111111111,
              "#46039f"
             ],
             [
              0.2222222222222222,
              "#7201a8"
             ],
             [
              0.3333333333333333,
              "#9c179e"
             ],
             [
              0.4444444444444444,
              "#bd3786"
             ],
             [
              0.5555555555555556,
              "#d8576b"
             ],
             [
              0.6666666666666666,
              "#ed7953"
             ],
             [
              0.7777777777777778,
              "#fb9f3a"
             ],
             [
              0.8888888888888888,
              "#fdca26"
             ],
             [
              1,
              "#f0f921"
             ]
            ],
            "type": "surface"
           }
          ],
          "table": [
           {
            "cells": {
             "fill": {
              "color": "#EBF0F8"
             },
             "line": {
              "color": "white"
             }
            },
            "header": {
             "fill": {
              "color": "#C8D4E3"
             },
             "line": {
              "color": "white"
             }
            },
            "type": "table"
           }
          ]
         },
         "layout": {
          "annotationdefaults": {
           "arrowcolor": "#2a3f5f",
           "arrowhead": 0,
           "arrowwidth": 1
          },
          "autotypenumbers": "strict",
          "coloraxis": {
           "colorbar": {
            "outlinewidth": 0,
            "ticks": ""
           }
          },
          "colorscale": {
           "diverging": [
            [
             0,
             "#8e0152"
            ],
            [
             0.1,
             "#c51b7d"
            ],
            [
             0.2,
             "#de77ae"
            ],
            [
             0.3,
             "#f1b6da"
            ],
            [
             0.4,
             "#fde0ef"
            ],
            [
             0.5,
             "#f7f7f7"
            ],
            [
             0.6,
             "#e6f5d0"
            ],
            [
             0.7,
             "#b8e186"
            ],
            [
             0.8,
             "#7fbc41"
            ],
            [
             0.9,
             "#4d9221"
            ],
            [
             1,
             "#276419"
            ]
           ],
           "sequential": [
            [
             0,
             "#0d0887"
            ],
            [
             0.1111111111111111,
             "#46039f"
            ],
            [
             0.2222222222222222,
             "#7201a8"
            ],
            [
             0.3333333333333333,
             "#9c179e"
            ],
            [
             0.4444444444444444,
             "#bd3786"
            ],
            [
             0.5555555555555556,
             "#d8576b"
            ],
            [
             0.6666666666666666,
             "#ed7953"
            ],
            [
             0.7777777777777778,
             "#fb9f3a"
            ],
            [
             0.8888888888888888,
             "#fdca26"
            ],
            [
             1,
             "#f0f921"
            ]
           ],
           "sequentialminus": [
            [
             0,
             "#0d0887"
            ],
            [
             0.1111111111111111,
             "#46039f"
            ],
            [
             0.2222222222222222,
             "#7201a8"
            ],
            [
             0.3333333333333333,
             "#9c179e"
            ],
            [
             0.4444444444444444,
             "#bd3786"
            ],
            [
             0.5555555555555556,
             "#d8576b"
            ],
            [
             0.6666666666666666,
             "#ed7953"
            ],
            [
             0.7777777777777778,
             "#fb9f3a"
            ],
            [
             0.8888888888888888,
             "#fdca26"
            ],
            [
             1,
             "#f0f921"
            ]
           ]
          },
          "colorway": [
           "#636efa",
           "#EF553B",
           "#00cc96",
           "#ab63fa",
           "#FFA15A",
           "#19d3f3",
           "#FF6692",
           "#B6E880",
           "#FF97FF",
           "#FECB52"
          ],
          "font": {
           "color": "#2a3f5f"
          },
          "geo": {
           "bgcolor": "white",
           "lakecolor": "white",
           "landcolor": "#E5ECF6",
           "showlakes": true,
           "showland": true,
           "subunitcolor": "white"
          },
          "hoverlabel": {
           "align": "left"
          },
          "hovermode": "closest",
          "mapbox": {
           "style": "light"
          },
          "paper_bgcolor": "white",
          "plot_bgcolor": "#E5ECF6",
          "polar": {
           "angularaxis": {
            "gridcolor": "white",
            "linecolor": "white",
            "ticks": ""
           },
           "bgcolor": "#E5ECF6",
           "radialaxis": {
            "gridcolor": "white",
            "linecolor": "white",
            "ticks": ""
           }
          },
          "scene": {
           "xaxis": {
            "backgroundcolor": "#E5ECF6",
            "gridcolor": "white",
            "gridwidth": 2,
            "linecolor": "white",
            "showbackground": true,
            "ticks": "",
            "zerolinecolor": "white"
           },
           "yaxis": {
            "backgroundcolor": "#E5ECF6",
            "gridcolor": "white",
            "gridwidth": 2,
            "linecolor": "white",
            "showbackground": true,
            "ticks": "",
            "zerolinecolor": "white"
           },
           "zaxis": {
            "backgroundcolor": "#E5ECF6",
            "gridcolor": "white",
            "gridwidth": 2,
            "linecolor": "white",
            "showbackground": true,
            "ticks": "",
            "zerolinecolor": "white"
           }
          },
          "shapedefaults": {
           "line": {
            "color": "#2a3f5f"
           }
          },
          "ternary": {
           "aaxis": {
            "gridcolor": "white",
            "linecolor": "white",
            "ticks": ""
           },
           "baxis": {
            "gridcolor": "white",
            "linecolor": "white",
            "ticks": ""
           },
           "bgcolor": "#E5ECF6",
           "caxis": {
            "gridcolor": "white",
            "linecolor": "white",
            "ticks": ""
           }
          },
          "title": {
           "x": 0.05
          },
          "xaxis": {
           "automargin": true,
           "gridcolor": "white",
           "linecolor": "white",
           "ticks": "",
           "title": {
            "standoff": 15
           },
           "zerolinecolor": "white",
           "zerolinewidth": 2
          },
          "yaxis": {
           "automargin": true,
           "gridcolor": "white",
           "linecolor": "white",
           "ticks": "",
           "title": {
            "standoff": 15
           },
           "zerolinecolor": "white",
           "zerolinewidth": 2
          }
         }
        },
        "title": {
         "text": "Clusters by State"
        }
       }
      }
     },
     "metadata": {},
     "output_type": "display_data"
    }
   ],
   "source": [
    "# Make 3 subplots for \n",
    "# Create a 1x3 grid of subplots with titles and a geo subplot type\n",
    "fig = make_subplots(\n",
    "    rows=1,\n",
    "    cols=3,\n",
    "    subplot_titles=('Total Percent', 'Male Percent', 'Female Percent'),\n",
    "    specs=[[{'type': 'choropleth'}, {'type': 'choropleth'}, {'type': 'choropleth'}]]\n",
    ")\n",
    "\n",
    "# Add your figures as subplots\n",
    "fig.add_trace(total_per_fig.data[0], row=1, col=1)\n",
    "fig.add_trace(male_per_fig.data[0], row=1, col=2)\n",
    "fig.add_trace(female_per_fig.data[0], row=1, col=3)\n",
    "\n",
    "# Update the geo attribute of each subplot to set the scope to 'usa'\n",
    "fig.update_geos(scope='usa')\n",
    "\n",
    "# Update the layout to show the subplots\n",
    "fig.update_layout(title='Clusters by State')\n",
    "\n",
    "fig.show()"
   ]
  },
  {
   "cell_type": "code",
   "execution_count": 182,
   "metadata": {},
   "outputs": [
    {
     "name": "stderr",
     "output_type": "stream",
     "text": [
      "/var/folders/yn/4nkcf4bx0tl9zps6_x1krghm0000gn/T/ipykernel_65465/1805778453.py:7: DeprecationWarning:\n",
      "\n",
      "In a future version, `df.iloc[:, i] = newvals` will attempt to set the values inplace instead of always setting a new array. To retain the old behavior, use either `df[df.columns[i]] = newvals` or, if columns are non-unique, `df.isetitem(i, newvals)`\n",
      "\n"
     ]
    },
    {
     "data": {
      "application/vnd.plotly.v1+json": {
       "config": {
        "plotlyServerURL": "https://plot.ly"
       },
       "data": [
        {
         "coloraxis": "coloraxis",
         "geo": "geo",
         "hovertemplate": "State Abbreviation=%{location}<br>Cluster=%{z}<extra></extra>",
         "locationmode": "USA-states",
         "locations": [
          "AL",
          "AK",
          "AZ",
          "AR",
          "CA",
          "CO",
          "CT",
          "DE",
          null,
          "FL",
          "GA",
          "HI",
          "ID",
          "IL",
          "IN",
          "IA",
          "KS",
          "KY",
          "LA",
          "ME",
          "MD",
          "MA",
          "MI",
          "MN",
          "MS",
          "MO",
          "MT",
          "NE",
          "NV",
          "NH",
          "NJ",
          "NM",
          "NY",
          "NC",
          "ND",
          "OH",
          "OK",
          "OR",
          "PA",
          "RI",
          "SC",
          "SD",
          "TN",
          "TX",
          "UT",
          "VT",
          "VA",
          "WA",
          "WV",
          "WI",
          "WY",
          null
         ],
         "name": "",
         "type": "choropleth",
         "z": [
          1,
          1,
          3,
          1,
          2,
          1,
          1,
          1,
          1,
          1,
          1,
          1,
          1,
          1,
          1,
          1,
          1,
          1,
          1,
          1,
          1,
          1,
          1,
          1,
          1,
          1,
          1,
          1,
          1,
          1,
          1,
          1,
          1,
          1,
          1,
          1,
          1,
          1,
          1,
          1,
          1,
          1,
          1,
          2,
          1,
          1,
          1,
          1,
          0,
          1,
          1,
          1
         ]
        }
       ],
       "layout": {
        "coloraxis": {
         "colorbar": {
          "title": {
           "text": "Cluster"
          }
         },
         "colorscale": [
          [
           0,
           "#0d0887"
          ],
          [
           0.1111111111111111,
           "#46039f"
          ],
          [
           0.2222222222222222,
           "#7201a8"
          ],
          [
           0.3333333333333333,
           "#9c179e"
          ],
          [
           0.4444444444444444,
           "#bd3786"
          ],
          [
           0.5555555555555556,
           "#d8576b"
          ],
          [
           0.6666666666666666,
           "#ed7953"
          ],
          [
           0.7777777777777778,
           "#fb9f3a"
          ],
          [
           0.8888888888888888,
           "#fdca26"
          ],
          [
           1,
           "#f0f921"
          ]
         ]
        },
        "geo": {
         "center": {},
         "domain": {
          "x": [
           0,
           1
          ],
          "y": [
           0,
           1
          ]
         },
         "scope": "usa"
        },
        "legend": {
         "tracegroupgap": 0
        },
        "template": {
         "data": {
          "bar": [
           {
            "error_x": {
             "color": "#2a3f5f"
            },
            "error_y": {
             "color": "#2a3f5f"
            },
            "marker": {
             "line": {
              "color": "#E5ECF6",
              "width": 0.5
             },
             "pattern": {
              "fillmode": "overlay",
              "size": 10,
              "solidity": 0.2
             }
            },
            "type": "bar"
           }
          ],
          "barpolar": [
           {
            "marker": {
             "line": {
              "color": "#E5ECF6",
              "width": 0.5
             },
             "pattern": {
              "fillmode": "overlay",
              "size": 10,
              "solidity": 0.2
             }
            },
            "type": "barpolar"
           }
          ],
          "carpet": [
           {
            "aaxis": {
             "endlinecolor": "#2a3f5f",
             "gridcolor": "white",
             "linecolor": "white",
             "minorgridcolor": "white",
             "startlinecolor": "#2a3f5f"
            },
            "baxis": {
             "endlinecolor": "#2a3f5f",
             "gridcolor": "white",
             "linecolor": "white",
             "minorgridcolor": "white",
             "startlinecolor": "#2a3f5f"
            },
            "type": "carpet"
           }
          ],
          "choropleth": [
           {
            "colorbar": {
             "outlinewidth": 0,
             "ticks": ""
            },
            "type": "choropleth"
           }
          ],
          "contour": [
           {
            "colorbar": {
             "outlinewidth": 0,
             "ticks": ""
            },
            "colorscale": [
             [
              0,
              "#0d0887"
             ],
             [
              0.1111111111111111,
              "#46039f"
             ],
             [
              0.2222222222222222,
              "#7201a8"
             ],
             [
              0.3333333333333333,
              "#9c179e"
             ],
             [
              0.4444444444444444,
              "#bd3786"
             ],
             [
              0.5555555555555556,
              "#d8576b"
             ],
             [
              0.6666666666666666,
              "#ed7953"
             ],
             [
              0.7777777777777778,
              "#fb9f3a"
             ],
             [
              0.8888888888888888,
              "#fdca26"
             ],
             [
              1,
              "#f0f921"
             ]
            ],
            "type": "contour"
           }
          ],
          "contourcarpet": [
           {
            "colorbar": {
             "outlinewidth": 0,
             "ticks": ""
            },
            "type": "contourcarpet"
           }
          ],
          "heatmap": [
           {
            "colorbar": {
             "outlinewidth": 0,
             "ticks": ""
            },
            "colorscale": [
             [
              0,
              "#0d0887"
             ],
             [
              0.1111111111111111,
              "#46039f"
             ],
             [
              0.2222222222222222,
              "#7201a8"
             ],
             [
              0.3333333333333333,
              "#9c179e"
             ],
             [
              0.4444444444444444,
              "#bd3786"
             ],
             [
              0.5555555555555556,
              "#d8576b"
             ],
             [
              0.6666666666666666,
              "#ed7953"
             ],
             [
              0.7777777777777778,
              "#fb9f3a"
             ],
             [
              0.8888888888888888,
              "#fdca26"
             ],
             [
              1,
              "#f0f921"
             ]
            ],
            "type": "heatmap"
           }
          ],
          "heatmapgl": [
           {
            "colorbar": {
             "outlinewidth": 0,
             "ticks": ""
            },
            "colorscale": [
             [
              0,
              "#0d0887"
             ],
             [
              0.1111111111111111,
              "#46039f"
             ],
             [
              0.2222222222222222,
              "#7201a8"
             ],
             [
              0.3333333333333333,
              "#9c179e"
             ],
             [
              0.4444444444444444,
              "#bd3786"
             ],
             [
              0.5555555555555556,
              "#d8576b"
             ],
             [
              0.6666666666666666,
              "#ed7953"
             ],
             [
              0.7777777777777778,
              "#fb9f3a"
             ],
             [
              0.8888888888888888,
              "#fdca26"
             ],
             [
              1,
              "#f0f921"
             ]
            ],
            "type": "heatmapgl"
           }
          ],
          "histogram": [
           {
            "marker": {
             "pattern": {
              "fillmode": "overlay",
              "size": 10,
              "solidity": 0.2
             }
            },
            "type": "histogram"
           }
          ],
          "histogram2d": [
           {
            "colorbar": {
             "outlinewidth": 0,
             "ticks": ""
            },
            "colorscale": [
             [
              0,
              "#0d0887"
             ],
             [
              0.1111111111111111,
              "#46039f"
             ],
             [
              0.2222222222222222,
              "#7201a8"
             ],
             [
              0.3333333333333333,
              "#9c179e"
             ],
             [
              0.4444444444444444,
              "#bd3786"
             ],
             [
              0.5555555555555556,
              "#d8576b"
             ],
             [
              0.6666666666666666,
              "#ed7953"
             ],
             [
              0.7777777777777778,
              "#fb9f3a"
             ],
             [
              0.8888888888888888,
              "#fdca26"
             ],
             [
              1,
              "#f0f921"
             ]
            ],
            "type": "histogram2d"
           }
          ],
          "histogram2dcontour": [
           {
            "colorbar": {
             "outlinewidth": 0,
             "ticks": ""
            },
            "colorscale": [
             [
              0,
              "#0d0887"
             ],
             [
              0.1111111111111111,
              "#46039f"
             ],
             [
              0.2222222222222222,
              "#7201a8"
             ],
             [
              0.3333333333333333,
              "#9c179e"
             ],
             [
              0.4444444444444444,
              "#bd3786"
             ],
             [
              0.5555555555555556,
              "#d8576b"
             ],
             [
              0.6666666666666666,
              "#ed7953"
             ],
             [
              0.7777777777777778,
              "#fb9f3a"
             ],
             [
              0.8888888888888888,
              "#fdca26"
             ],
             [
              1,
              "#f0f921"
             ]
            ],
            "type": "histogram2dcontour"
           }
          ],
          "mesh3d": [
           {
            "colorbar": {
             "outlinewidth": 0,
             "ticks": ""
            },
            "type": "mesh3d"
           }
          ],
          "parcoords": [
           {
            "line": {
             "colorbar": {
              "outlinewidth": 0,
              "ticks": ""
             }
            },
            "type": "parcoords"
           }
          ],
          "pie": [
           {
            "automargin": true,
            "type": "pie"
           }
          ],
          "scatter": [
           {
            "fillpattern": {
             "fillmode": "overlay",
             "size": 10,
             "solidity": 0.2
            },
            "type": "scatter"
           }
          ],
          "scatter3d": [
           {
            "line": {
             "colorbar": {
              "outlinewidth": 0,
              "ticks": ""
             }
            },
            "marker": {
             "colorbar": {
              "outlinewidth": 0,
              "ticks": ""
             }
            },
            "type": "scatter3d"
           }
          ],
          "scattercarpet": [
           {
            "marker": {
             "colorbar": {
              "outlinewidth": 0,
              "ticks": ""
             }
            },
            "type": "scattercarpet"
           }
          ],
          "scattergeo": [
           {
            "marker": {
             "colorbar": {
              "outlinewidth": 0,
              "ticks": ""
             }
            },
            "type": "scattergeo"
           }
          ],
          "scattergl": [
           {
            "marker": {
             "colorbar": {
              "outlinewidth": 0,
              "ticks": ""
             }
            },
            "type": "scattergl"
           }
          ],
          "scattermapbox": [
           {
            "marker": {
             "colorbar": {
              "outlinewidth": 0,
              "ticks": ""
             }
            },
            "type": "scattermapbox"
           }
          ],
          "scatterpolar": [
           {
            "marker": {
             "colorbar": {
              "outlinewidth": 0,
              "ticks": ""
             }
            },
            "type": "scatterpolar"
           }
          ],
          "scatterpolargl": [
           {
            "marker": {
             "colorbar": {
              "outlinewidth": 0,
              "ticks": ""
             }
            },
            "type": "scatterpolargl"
           }
          ],
          "scatterternary": [
           {
            "marker": {
             "colorbar": {
              "outlinewidth": 0,
              "ticks": ""
             }
            },
            "type": "scatterternary"
           }
          ],
          "surface": [
           {
            "colorbar": {
             "outlinewidth": 0,
             "ticks": ""
            },
            "colorscale": [
             [
              0,
              "#0d0887"
             ],
             [
              0.1111111111111111,
              "#46039f"
             ],
             [
              0.2222222222222222,
              "#7201a8"
             ],
             [
              0.3333333333333333,
              "#9c179e"
             ],
             [
              0.4444444444444444,
              "#bd3786"
             ],
             [
              0.5555555555555556,
              "#d8576b"
             ],
             [
              0.6666666666666666,
              "#ed7953"
             ],
             [
              0.7777777777777778,
              "#fb9f3a"
             ],
             [
              0.8888888888888888,
              "#fdca26"
             ],
             [
              1,
              "#f0f921"
             ]
            ],
            "type": "surface"
           }
          ],
          "table": [
           {
            "cells": {
             "fill": {
              "color": "#EBF0F8"
             },
             "line": {
              "color": "white"
             }
            },
            "header": {
             "fill": {
              "color": "#C8D4E3"
             },
             "line": {
              "color": "white"
             }
            },
            "type": "table"
           }
          ]
         },
         "layout": {
          "annotationdefaults": {
           "arrowcolor": "#2a3f5f",
           "arrowhead": 0,
           "arrowwidth": 1
          },
          "autotypenumbers": "strict",
          "coloraxis": {
           "colorbar": {
            "outlinewidth": 0,
            "ticks": ""
           }
          },
          "colorscale": {
           "diverging": [
            [
             0,
             "#8e0152"
            ],
            [
             0.1,
             "#c51b7d"
            ],
            [
             0.2,
             "#de77ae"
            ],
            [
             0.3,
             "#f1b6da"
            ],
            [
             0.4,
             "#fde0ef"
            ],
            [
             0.5,
             "#f7f7f7"
            ],
            [
             0.6,
             "#e6f5d0"
            ],
            [
             0.7,
             "#b8e186"
            ],
            [
             0.8,
             "#7fbc41"
            ],
            [
             0.9,
             "#4d9221"
            ],
            [
             1,
             "#276419"
            ]
           ],
           "sequential": [
            [
             0,
             "#0d0887"
            ],
            [
             0.1111111111111111,
             "#46039f"
            ],
            [
             0.2222222222222222,
             "#7201a8"
            ],
            [
             0.3333333333333333,
             "#9c179e"
            ],
            [
             0.4444444444444444,
             "#bd3786"
            ],
            [
             0.5555555555555556,
             "#d8576b"
            ],
            [
             0.6666666666666666,
             "#ed7953"
            ],
            [
             0.7777777777777778,
             "#fb9f3a"
            ],
            [
             0.8888888888888888,
             "#fdca26"
            ],
            [
             1,
             "#f0f921"
            ]
           ],
           "sequentialminus": [
            [
             0,
             "#0d0887"
            ],
            [
             0.1111111111111111,
             "#46039f"
            ],
            [
             0.2222222222222222,
             "#7201a8"
            ],
            [
             0.3333333333333333,
             "#9c179e"
            ],
            [
             0.4444444444444444,
             "#bd3786"
            ],
            [
             0.5555555555555556,
             "#d8576b"
            ],
            [
             0.6666666666666666,
             "#ed7953"
            ],
            [
             0.7777777777777778,
             "#fb9f3a"
            ],
            [
             0.8888888888888888,
             "#fdca26"
            ],
            [
             1,
             "#f0f921"
            ]
           ]
          },
          "colorway": [
           "#636efa",
           "#EF553B",
           "#00cc96",
           "#ab63fa",
           "#FFA15A",
           "#19d3f3",
           "#FF6692",
           "#B6E880",
           "#FF97FF",
           "#FECB52"
          ],
          "font": {
           "color": "#2a3f5f"
          },
          "geo": {
           "bgcolor": "white",
           "lakecolor": "white",
           "landcolor": "#E5ECF6",
           "showlakes": true,
           "showland": true,
           "subunitcolor": "white"
          },
          "hoverlabel": {
           "align": "left"
          },
          "hovermode": "closest",
          "mapbox": {
           "style": "light"
          },
          "paper_bgcolor": "white",
          "plot_bgcolor": "#E5ECF6",
          "polar": {
           "angularaxis": {
            "gridcolor": "white",
            "linecolor": "white",
            "ticks": ""
           },
           "bgcolor": "#E5ECF6",
           "radialaxis": {
            "gridcolor": "white",
            "linecolor": "white",
            "ticks": ""
           }
          },
          "scene": {
           "xaxis": {
            "backgroundcolor": "#E5ECF6",
            "gridcolor": "white",
            "gridwidth": 2,
            "linecolor": "white",
            "showbackground": true,
            "ticks": "",
            "zerolinecolor": "white"
           },
           "yaxis": {
            "backgroundcolor": "#E5ECF6",
            "gridcolor": "white",
            "gridwidth": 2,
            "linecolor": "white",
            "showbackground": true,
            "ticks": "",
            "zerolinecolor": "white"
           },
           "zaxis": {
            "backgroundcolor": "#E5ECF6",
            "gridcolor": "white",
            "gridwidth": 2,
            "linecolor": "white",
            "showbackground": true,
            "ticks": "",
            "zerolinecolor": "white"
           }
          },
          "shapedefaults": {
           "line": {
            "color": "#2a3f5f"
           }
          },
          "ternary": {
           "aaxis": {
            "gridcolor": "white",
            "linecolor": "white",
            "ticks": ""
           },
           "baxis": {
            "gridcolor": "white",
            "linecolor": "white",
            "ticks": ""
           },
           "bgcolor": "#E5ECF6",
           "caxis": {
            "gridcolor": "white",
            "linecolor": "white",
            "ticks": ""
           }
          },
          "title": {
           "x": 0.05
          },
          "xaxis": {
           "automargin": true,
           "gridcolor": "white",
           "linecolor": "white",
           "ticks": "",
           "title": {
            "standoff": 15
           },
           "zerolinecolor": "white",
           "zerolinewidth": 2
          },
          "yaxis": {
           "automargin": true,
           "gridcolor": "white",
           "linecolor": "white",
           "ticks": "",
           "title": {
            "standoff": 15
           },
           "zerolinecolor": "white",
           "zerolinewidth": 2
          }
         }
        },
        "title": {
         "text": "Clusters by State"
        }
       }
      }
     },
     "metadata": {},
     "output_type": "display_data"
    }
   ],
   "source": [
    "full  = processData()\n",
    "stateClusterGraph(runKmeans(full, getX(full), n))"
   ]
  },
  {
   "cell_type": "code",
   "execution_count": 213,
   "metadata": {},
   "outputs": [
    {
     "data": {
      "text/plain": [
       "Index([], dtype='object')"
      ]
     },
     "execution_count": 213,
     "metadata": {},
     "output_type": "execute_result"
    }
   ],
   "source": [
    "def has_float_over_100(column):\n",
    "    return (column.dtype == 'float') & (column > 100).any()\n",
    "\n",
    "numeric_columns = full.select_dtypes(include=['float', 'int']).columns\n",
    "columns_with_float_over_100 = full[numeric_columns].apply(has_float_over_100)\n",
    "true_labels = columns_with_float_over_100.loc[columns_with_float_over_100].index\n",
    "true_labels\n",
    "\n",
    "\n"
   ]
  },
  {
   "cell_type": "code",
   "execution_count": 183,
   "metadata": {},
   "outputs": [
    {
     "data": {
      "application/vnd.plotly.v1+json": {
       "config": {
        "plotlyServerURL": "https://plot.ly"
       },
       "data": [
        {
         "alignmentgroup": "True",
         "hovertemplate": "Geography=%{x}<br>Total : In Correctional Facilities for Adults=%{y}<br>Cluster=%{marker.color}<extra></extra>",
         "legendgroup": "",
         "marker": {
          "color": [
           1,
           0,
           2,
           0,
           3,
           2,
           0,
           0,
           0,
           1,
           1,
           0,
           0,
           1,
           1,
           0,
           0,
           2,
           1,
           0,
           1,
           0,
           1,
           0,
           2,
           1,
           0,
           0,
           0,
           0,
           1,
           0,
           1,
           1,
           0,
           1,
           2,
           0,
           1,
           0,
           1,
           2,
           1,
           3,
           0,
           0,
           1,
           0,
           2,
           2,
           0,
           0
          ],
          "coloraxis": "coloraxis",
          "pattern": {
           "shape": ""
          }
         },
         "name": "",
         "offsetgroup": "",
         "orientation": "v",
         "showlegend": false,
         "textposition": "auto",
         "type": "bar",
         "x": [
          "Alabama",
          "Alaska",
          "Arizona",
          "Arkansas",
          "California",
          "Colorado",
          "Connecticut",
          "Delaware",
          "District of Columbia",
          "Florida",
          "Georgia",
          "Hawaii",
          "Idaho",
          "Illinois",
          "Indiana",
          "Iowa",
          "Kansas",
          "Kentucky",
          "Louisiana",
          "Maine",
          "Maryland",
          "Massachusetts",
          "Michigan",
          "Minnesota",
          "Mississippi",
          "Missouri",
          "Montana",
          "Nebraska",
          "Nevada",
          "New Hampshire",
          "New Jersey",
          "New Mexico",
          "New York",
          "North Carolina",
          "North Dakota",
          "Ohio",
          "Oklahoma",
          "Oregon",
          "Pennsylvania",
          "Rhode Island",
          "South Carolina",
          "South Dakota",
          "Tennessee",
          "Texas",
          "Utah",
          "Vermont",
          "Virginia",
          "Washington",
          "West Virginia",
          "Wisconsin",
          "Wyoming",
          "Puerto Rico"
         ],
         "xaxis": "x",
         "y": [
          -0.04660723933019975,
          -0.730722463764818,
          0.4329254147388919,
          -0.3297998982997367,
          3.9425583950665737,
          -0.05725775793229823,
          -0.43532338434522383,
          -0.6875091422018689,
          -0.7406505993660785,
          2.272557078257531,
          1.1032227489523527,
          -0.7016974852439687,
          -0.5983781934830898,
          0.49384638114289525,
          0.0896082629303781,
          -0.5609809812089388,
          -0.4742579758262864,
          -0.04521804125166516,
          0.31236154416313705,
          -0.7386316314919416,
          -0.14844471980730842,
          -0.3541756939177569,
          0.33494064359958586,
          -0.42974806939003835,
          -0.17528402668459658,
          -0.032585600057524,
          -0.7083841586619819,
          -0.6577617806801815,
          -0.43975029555548734,
          -0.7173305942877446,
          0.016573489281553184,
          -0.477240121034874,
          0.939038058710612,
          0.32182661373821936,
          -0.7606920969790708,
          0.6089460726097474,
          -0.05694287303449706,
          -0.39620356645368987,
          0.9986624402413163,
          -0.7367793673872288,
          -0.0446438393792042,
          -0.689861517614854,
          0.06032396743486906,
          4.123969141482144,
          -0.5727243356328179,
          -0.7773254286393916,
          0.40071454195793665,
          -0.2158671332188536,
          -0.5000600148049354,
          -0.10569446427053744,
          -0.7409099163407383,
          -0.5666303867283128
         ],
         "yaxis": "y"
        }
       ],
       "layout": {
        "barmode": "relative",
        "coloraxis": {
         "colorbar": {
          "title": {
           "text": "Cluster"
          }
         },
         "colorscale": [
          [
           0,
           "#0d0887"
          ],
          [
           0.1111111111111111,
           "#46039f"
          ],
          [
           0.2222222222222222,
           "#7201a8"
          ],
          [
           0.3333333333333333,
           "#9c179e"
          ],
          [
           0.4444444444444444,
           "#bd3786"
          ],
          [
           0.5555555555555556,
           "#d8576b"
          ],
          [
           0.6666666666666666,
           "#ed7953"
          ],
          [
           0.7777777777777778,
           "#fb9f3a"
          ],
          [
           0.8888888888888888,
           "#fdca26"
          ],
          [
           1,
           "#f0f921"
          ]
         ]
        },
        "legend": {
         "tracegroupgap": 0
        },
        "margin": {
         "t": 60
        },
        "template": {
         "data": {
          "bar": [
           {
            "error_x": {
             "color": "#2a3f5f"
            },
            "error_y": {
             "color": "#2a3f5f"
            },
            "marker": {
             "line": {
              "color": "#E5ECF6",
              "width": 0.5
             },
             "pattern": {
              "fillmode": "overlay",
              "size": 10,
              "solidity": 0.2
             }
            },
            "type": "bar"
           }
          ],
          "barpolar": [
           {
            "marker": {
             "line": {
              "color": "#E5ECF6",
              "width": 0.5
             },
             "pattern": {
              "fillmode": "overlay",
              "size": 10,
              "solidity": 0.2
             }
            },
            "type": "barpolar"
           }
          ],
          "carpet": [
           {
            "aaxis": {
             "endlinecolor": "#2a3f5f",
             "gridcolor": "white",
             "linecolor": "white",
             "minorgridcolor": "white",
             "startlinecolor": "#2a3f5f"
            },
            "baxis": {
             "endlinecolor": "#2a3f5f",
             "gridcolor": "white",
             "linecolor": "white",
             "minorgridcolor": "white",
             "startlinecolor": "#2a3f5f"
            },
            "type": "carpet"
           }
          ],
          "choropleth": [
           {
            "colorbar": {
             "outlinewidth": 0,
             "ticks": ""
            },
            "type": "choropleth"
           }
          ],
          "contour": [
           {
            "colorbar": {
             "outlinewidth": 0,
             "ticks": ""
            },
            "colorscale": [
             [
              0,
              "#0d0887"
             ],
             [
              0.1111111111111111,
              "#46039f"
             ],
             [
              0.2222222222222222,
              "#7201a8"
             ],
             [
              0.3333333333333333,
              "#9c179e"
             ],
             [
              0.4444444444444444,
              "#bd3786"
             ],
             [
              0.5555555555555556,
              "#d8576b"
             ],
             [
              0.6666666666666666,
              "#ed7953"
             ],
             [
              0.7777777777777778,
              "#fb9f3a"
             ],
             [
              0.8888888888888888,
              "#fdca26"
             ],
             [
              1,
              "#f0f921"
             ]
            ],
            "type": "contour"
           }
          ],
          "contourcarpet": [
           {
            "colorbar": {
             "outlinewidth": 0,
             "ticks": ""
            },
            "type": "contourcarpet"
           }
          ],
          "heatmap": [
           {
            "colorbar": {
             "outlinewidth": 0,
             "ticks": ""
            },
            "colorscale": [
             [
              0,
              "#0d0887"
             ],
             [
              0.1111111111111111,
              "#46039f"
             ],
             [
              0.2222222222222222,
              "#7201a8"
             ],
             [
              0.3333333333333333,
              "#9c179e"
             ],
             [
              0.4444444444444444,
              "#bd3786"
             ],
             [
              0.5555555555555556,
              "#d8576b"
             ],
             [
              0.6666666666666666,
              "#ed7953"
             ],
             [
              0.7777777777777778,
              "#fb9f3a"
             ],
             [
              0.8888888888888888,
              "#fdca26"
             ],
             [
              1,
              "#f0f921"
             ]
            ],
            "type": "heatmap"
           }
          ],
          "heatmapgl": [
           {
            "colorbar": {
             "outlinewidth": 0,
             "ticks": ""
            },
            "colorscale": [
             [
              0,
              "#0d0887"
             ],
             [
              0.1111111111111111,
              "#46039f"
             ],
             [
              0.2222222222222222,
              "#7201a8"
             ],
             [
              0.3333333333333333,
              "#9c179e"
             ],
             [
              0.4444444444444444,
              "#bd3786"
             ],
             [
              0.5555555555555556,
              "#d8576b"
             ],
             [
              0.6666666666666666,
              "#ed7953"
             ],
             [
              0.7777777777777778,
              "#fb9f3a"
             ],
             [
              0.8888888888888888,
              "#fdca26"
             ],
             [
              1,
              "#f0f921"
             ]
            ],
            "type": "heatmapgl"
           }
          ],
          "histogram": [
           {
            "marker": {
             "pattern": {
              "fillmode": "overlay",
              "size": 10,
              "solidity": 0.2
             }
            },
            "type": "histogram"
           }
          ],
          "histogram2d": [
           {
            "colorbar": {
             "outlinewidth": 0,
             "ticks": ""
            },
            "colorscale": [
             [
              0,
              "#0d0887"
             ],
             [
              0.1111111111111111,
              "#46039f"
             ],
             [
              0.2222222222222222,
              "#7201a8"
             ],
             [
              0.3333333333333333,
              "#9c179e"
             ],
             [
              0.4444444444444444,
              "#bd3786"
             ],
             [
              0.5555555555555556,
              "#d8576b"
             ],
             [
              0.6666666666666666,
              "#ed7953"
             ],
             [
              0.7777777777777778,
              "#fb9f3a"
             ],
             [
              0.8888888888888888,
              "#fdca26"
             ],
             [
              1,
              "#f0f921"
             ]
            ],
            "type": "histogram2d"
           }
          ],
          "histogram2dcontour": [
           {
            "colorbar": {
             "outlinewidth": 0,
             "ticks": ""
            },
            "colorscale": [
             [
              0,
              "#0d0887"
             ],
             [
              0.1111111111111111,
              "#46039f"
             ],
             [
              0.2222222222222222,
              "#7201a8"
             ],
             [
              0.3333333333333333,
              "#9c179e"
             ],
             [
              0.4444444444444444,
              "#bd3786"
             ],
             [
              0.5555555555555556,
              "#d8576b"
             ],
             [
              0.6666666666666666,
              "#ed7953"
             ],
             [
              0.7777777777777778,
              "#fb9f3a"
             ],
             [
              0.8888888888888888,
              "#fdca26"
             ],
             [
              1,
              "#f0f921"
             ]
            ],
            "type": "histogram2dcontour"
           }
          ],
          "mesh3d": [
           {
            "colorbar": {
             "outlinewidth": 0,
             "ticks": ""
            },
            "type": "mesh3d"
           }
          ],
          "parcoords": [
           {
            "line": {
             "colorbar": {
              "outlinewidth": 0,
              "ticks": ""
             }
            },
            "type": "parcoords"
           }
          ],
          "pie": [
           {
            "automargin": true,
            "type": "pie"
           }
          ],
          "scatter": [
           {
            "fillpattern": {
             "fillmode": "overlay",
             "size": 10,
             "solidity": 0.2
            },
            "type": "scatter"
           }
          ],
          "scatter3d": [
           {
            "line": {
             "colorbar": {
              "outlinewidth": 0,
              "ticks": ""
             }
            },
            "marker": {
             "colorbar": {
              "outlinewidth": 0,
              "ticks": ""
             }
            },
            "type": "scatter3d"
           }
          ],
          "scattercarpet": [
           {
            "marker": {
             "colorbar": {
              "outlinewidth": 0,
              "ticks": ""
             }
            },
            "type": "scattercarpet"
           }
          ],
          "scattergeo": [
           {
            "marker": {
             "colorbar": {
              "outlinewidth": 0,
              "ticks": ""
             }
            },
            "type": "scattergeo"
           }
          ],
          "scattergl": [
           {
            "marker": {
             "colorbar": {
              "outlinewidth": 0,
              "ticks": ""
             }
            },
            "type": "scattergl"
           }
          ],
          "scattermapbox": [
           {
            "marker": {
             "colorbar": {
              "outlinewidth": 0,
              "ticks": ""
             }
            },
            "type": "scattermapbox"
           }
          ],
          "scatterpolar": [
           {
            "marker": {
             "colorbar": {
              "outlinewidth": 0,
              "ticks": ""
             }
            },
            "type": "scatterpolar"
           }
          ],
          "scatterpolargl": [
           {
            "marker": {
             "colorbar": {
              "outlinewidth": 0,
              "ticks": ""
             }
            },
            "type": "scatterpolargl"
           }
          ],
          "scatterternary": [
           {
            "marker": {
             "colorbar": {
              "outlinewidth": 0,
              "ticks": ""
             }
            },
            "type": "scatterternary"
           }
          ],
          "surface": [
           {
            "colorbar": {
             "outlinewidth": 0,
             "ticks": ""
            },
            "colorscale": [
             [
              0,
              "#0d0887"
             ],
             [
              0.1111111111111111,
              "#46039f"
             ],
             [
              0.2222222222222222,
              "#7201a8"
             ],
             [
              0.3333333333333333,
              "#9c179e"
             ],
             [
              0.4444444444444444,
              "#bd3786"
             ],
             [
              0.5555555555555556,
              "#d8576b"
             ],
             [
              0.6666666666666666,
              "#ed7953"
             ],
             [
              0.7777777777777778,
              "#fb9f3a"
             ],
             [
              0.8888888888888888,
              "#fdca26"
             ],
             [
              1,
              "#f0f921"
             ]
            ],
            "type": "surface"
           }
          ],
          "table": [
           {
            "cells": {
             "fill": {
              "color": "#EBF0F8"
             },
             "line": {
              "color": "white"
             }
            },
            "header": {
             "fill": {
              "color": "#C8D4E3"
             },
             "line": {
              "color": "white"
             }
            },
            "type": "table"
           }
          ]
         },
         "layout": {
          "annotationdefaults": {
           "arrowcolor": "#2a3f5f",
           "arrowhead": 0,
           "arrowwidth": 1
          },
          "autotypenumbers": "strict",
          "coloraxis": {
           "colorbar": {
            "outlinewidth": 0,
            "ticks": ""
           }
          },
          "colorscale": {
           "diverging": [
            [
             0,
             "#8e0152"
            ],
            [
             0.1,
             "#c51b7d"
            ],
            [
             0.2,
             "#de77ae"
            ],
            [
             0.3,
             "#f1b6da"
            ],
            [
             0.4,
             "#fde0ef"
            ],
            [
             0.5,
             "#f7f7f7"
            ],
            [
             0.6,
             "#e6f5d0"
            ],
            [
             0.7,
             "#b8e186"
            ],
            [
             0.8,
             "#7fbc41"
            ],
            [
             0.9,
             "#4d9221"
            ],
            [
             1,
             "#276419"
            ]
           ],
           "sequential": [
            [
             0,
             "#0d0887"
            ],
            [
             0.1111111111111111,
             "#46039f"
            ],
            [
             0.2222222222222222,
             "#7201a8"
            ],
            [
             0.3333333333333333,
             "#9c179e"
            ],
            [
             0.4444444444444444,
             "#bd3786"
            ],
            [
             0.5555555555555556,
             "#d8576b"
            ],
            [
             0.6666666666666666,
             "#ed7953"
            ],
            [
             0.7777777777777778,
             "#fb9f3a"
            ],
            [
             0.8888888888888888,
             "#fdca26"
            ],
            [
             1,
             "#f0f921"
            ]
           ],
           "sequentialminus": [
            [
             0,
             "#0d0887"
            ],
            [
             0.1111111111111111,
             "#46039f"
            ],
            [
             0.2222222222222222,
             "#7201a8"
            ],
            [
             0.3333333333333333,
             "#9c179e"
            ],
            [
             0.4444444444444444,
             "#bd3786"
            ],
            [
             0.5555555555555556,
             "#d8576b"
            ],
            [
             0.6666666666666666,
             "#ed7953"
            ],
            [
             0.7777777777777778,
             "#fb9f3a"
            ],
            [
             0.8888888888888888,
             "#fdca26"
            ],
            [
             1,
             "#f0f921"
            ]
           ]
          },
          "colorway": [
           "#636efa",
           "#EF553B",
           "#00cc96",
           "#ab63fa",
           "#FFA15A",
           "#19d3f3",
           "#FF6692",
           "#B6E880",
           "#FF97FF",
           "#FECB52"
          ],
          "font": {
           "color": "#2a3f5f"
          },
          "geo": {
           "bgcolor": "white",
           "lakecolor": "white",
           "landcolor": "#E5ECF6",
           "showlakes": true,
           "showland": true,
           "subunitcolor": "white"
          },
          "hoverlabel": {
           "align": "left"
          },
          "hovermode": "closest",
          "mapbox": {
           "style": "light"
          },
          "paper_bgcolor": "white",
          "plot_bgcolor": "#E5ECF6",
          "polar": {
           "angularaxis": {
            "gridcolor": "white",
            "linecolor": "white",
            "ticks": ""
           },
           "bgcolor": "#E5ECF6",
           "radialaxis": {
            "gridcolor": "white",
            "linecolor": "white",
            "ticks": ""
           }
          },
          "scene": {
           "xaxis": {
            "backgroundcolor": "#E5ECF6",
            "gridcolor": "white",
            "gridwidth": 2,
            "linecolor": "white",
            "showbackground": true,
            "ticks": "",
            "zerolinecolor": "white"
           },
           "yaxis": {
            "backgroundcolor": "#E5ECF6",
            "gridcolor": "white",
            "gridwidth": 2,
            "linecolor": "white",
            "showbackground": true,
            "ticks": "",
            "zerolinecolor": "white"
           },
           "zaxis": {
            "backgroundcolor": "#E5ECF6",
            "gridcolor": "white",
            "gridwidth": 2,
            "linecolor": "white",
            "showbackground": true,
            "ticks": "",
            "zerolinecolor": "white"
           }
          },
          "shapedefaults": {
           "line": {
            "color": "#2a3f5f"
           }
          },
          "ternary": {
           "aaxis": {
            "gridcolor": "white",
            "linecolor": "white",
            "ticks": ""
           },
           "baxis": {
            "gridcolor": "white",
            "linecolor": "white",
            "ticks": ""
           },
           "bgcolor": "#E5ECF6",
           "caxis": {
            "gridcolor": "white",
            "linecolor": "white",
            "ticks": ""
           }
          },
          "title": {
           "x": 0.05
          },
          "xaxis": {
           "automargin": true,
           "gridcolor": "white",
           "linecolor": "white",
           "ticks": "",
           "title": {
            "standoff": 15
           },
           "zerolinecolor": "white",
           "zerolinewidth": 2
          },
          "yaxis": {
           "automargin": true,
           "gridcolor": "white",
           "linecolor": "white",
           "ticks": "",
           "title": {
            "standoff": 15
           },
           "zerolinecolor": "white",
           "zerolinewidth": 2
          }
         }
        },
        "xaxis": {
         "anchor": "y",
         "domain": [
          0,
          1
         ],
         "title": {
          "text": "Geography"
         }
        },
        "yaxis": {
         "anchor": "x",
         "domain": [
          0,
          1
         ],
         "title": {
          "text": "Total : In Correctional Facilities for Adults"
         }
        }
       }
      }
     },
     "metadata": {},
     "output_type": "display_data"
    }
   ],
   "source": [
    "createBarChart(runKmeans(full, getX(full), n), x_axis=\"Geography\", y_axis='Total : In Correctional Facilities for Adults')\n"
   ]
  },
  {
   "cell_type": "code",
   "execution_count": 184,
   "metadata": {},
   "outputs": [],
   "source": [
    "# Data frames that onyl consider Incarceration percents\n",
    "percent_df_whole =df.filter(regex='.*(Geography|Percent).*') \n",
    "percent_df_total = percent_df_whole.filter(regex='^(?!.*([Mm]en)).*') # Total percents\n",
    "percent_df_male = percent_df_whole.filter(regex='.*(Geography|Men).*') # Male percents\n",
    "percent_df_female = percent_df_whole.filter(regex='.*(Geography|[Wo]men).*') # Female percents"
   ]
  },
  {
   "cell_type": "code",
   "execution_count": 185,
   "metadata": {},
   "outputs": [
    {
     "name": "stdout",
     "output_type": "stream",
     "text": [
      "Percent White alone : in Correctional Facilities for Adults - Component 0: mean=[0.47684552 0.67235713], cov=[[0.034722   0.03637245]\n",
      " [0.03637245 0.0572403 ]]\n",
      "Percent Black or African American alone : in Correctional Facilities for Adults - Component 0: mean=[2.52460353 0.67235713], cov=[[1.12129203 0.08826953]\n",
      " [0.08826953 0.0572403 ]]\n",
      "Percent American Indian and Alaska Native alone : in Correctional Facilities for Adults - Component 0: mean=[1.22476402 0.67235713], cov=[[ 0.50036408 -0.0121143 ]\n",
      " [-0.0121143   0.0572403 ]]\n",
      "Percent Asian alone : in Correctional Facilities for Adults - Component 0: mean=[0.16908758 0.67235713], cov=[[0.01731023 0.01442256]\n",
      " [0.01442256 0.0572403 ]]\n",
      "Percent Native Hawaiian and other Pacific Islander alone : in Correctional Facilities for Adults - Component 0: mean=[0.92743847 0.67235713], cov=[[1.7916812  0.06237894]\n",
      " [0.06237894 0.0572403 ]]\n",
      "Percent Some other race alone : in Correctional Facilities for Adults - Component 0: mean=[0.84500681 0.67235713], cov=[[1.01764534 0.05572895]\n",
      " [0.05572895 0.0572403 ]]\n",
      "Percent Two or more races : in Correctional Facilities for Adults - Component 0: mean=[0.33868239 0.67235713], cov=[[0.0720325  0.02863148]\n",
      " [0.02863148 0.0572403 ]]\n",
      "Percent Hispanic or Latino : in Correctional Facilities for Adults - Component 0: mean=[1.00992237 0.67235713], cov=[[0.69506037 0.09015936]\n",
      " [0.09015936 0.0572403 ]]\n",
      "Percent White alone, not Hispanic or Latino : in Correctional Facilities for Adults - Component 0: mean=[0.44064287 0.67235713], cov=[[0.026943   0.03053955]\n",
      " [0.03053955 0.0572403 ]]\n"
     ]
    }
   ],
   "source": [
    "def get_race_probabilities(df):\n",
    "    X = df.drop(\"Percent Total : In Correctional Facilities for Adults\", axis=1)\n",
    "    n_components = 1\n",
    "\n",
    "    race_categories = X.columns\n",
    "    for race in race_categories:\n",
    "        # Extract the data for the race category and the total\n",
    "        data = df[[race, \"Percent Total : In Correctional Facilities for Adults\"]].values\n",
    "        \n",
    "        # Fit the Gaussian mixture model with two components\n",
    "        gmm = GaussianMixture(n_components=n_components)\n",
    "        gmm.fit(data)\n",
    "        \n",
    "        # Print the mean and covariance of each component\n",
    "        for i in range(n_components):\n",
    "            print(f\"{race} - Component {i}: mean={gmm.means_[i]}, cov={gmm.covariances_[i]}\")\n",
    "X = getX(percent_df_total)\n",
    "X_copy = X.copy()\n",
    "X_copy[\"Percent Total : In Correctional Facilities for Adults\"] = percent_df_total[\"Percent Total : In Correctional Facilities for Adults\"]\n",
    "# get the predicted probabilities for each race\n",
    "race_probabilities = get_race_probabilities(X_copy)\n"
   ]
  },
  {
   "cell_type": "code",
   "execution_count": 186,
   "metadata": {},
   "outputs": [
    {
     "name": "stdout",
     "output_type": "stream",
     "text": [
      "1\n",
      "[-7.861082910410241, -13.300696903372526, -21.401683292820355, -49.79193637958001, -39.96367221464712, -74.37387800182962, -50.31441761039681, -109.89316354042539, -71.16145114942177, -3301.4424232411757]\n"
     ]
    }
   ],
   "source": [
    "X = getX(percent_df_total)\n",
    "feature_names = X.columns\n",
    "\n",
    "# assuming your data is stored in a variable called 'X'\n",
    "n_components = range(1,11)# try different values for the number of components\n",
    "init_params = 'k-means++' # try different initialization methods: 'kmeans' or 'random'\n",
    "reg_covar = 1e-6 # add regularization\n",
    "max_iter = 1000 # set the maximum number of iterations\n",
    "\n",
    "# create a list to store the cross-validation scores for each value of n_components\n",
    "cv_scores = []\n",
    "\n",
    "for i in n_components:\n",
    "    # create the GaussianMixture model\n",
    "    gmm = GaussianMixture(n_components=i, init_params=init_params, reg_covar=reg_covar, max_iter=max_iter)\n",
    "\n",
    "    # compute the cross-validation score for the current value of n_components\n",
    "    scores = cross_val_score(gmm, X, cv=5) # use 5-fold cross-validation\n",
    "    cv_scores.append(scores.mean())\n",
    "\n",
    "# find the value of n_components that gives the highest cross-validation score\n",
    "best_n_components = n_components[np.argmax(cv_scores)]\n",
    "print(best_n_components)\n",
    "print(cv_scores)"
   ]
  },
  {
   "cell_type": "code",
   "execution_count": 193,
   "metadata": {},
   "outputs": [],
   "source": [
    "from sklearn.decomposition import PCA\n",
    "def pca_embeddings(df_scaled):\n",
    "    \"\"\"To reduce the dimensions of the wine dataset we use Principal Component Analysis (PCA).\n",
    "    Here we reduce it from 13 dimensions to 2.\n",
    "    :param df_scaled: scaled data\n",
    "    :return: pca result, pca for plotting graph\n",
    "    \"\"\"\n",
    "\n",
    "    pca_2 = PCA(n_components=2)\n",
    "    pca_2_result = pca_2.fit_transform(df_scaled)\n",
    "    print('Explained variation per principal component: {}'.format(\n",
    "        pca_2.explained_variance_ratio_))\n",
    "    print('Cumulative variance explained by 2 principal components: {:.2%}'.format(\n",
    "        np.sum(pca_2.explained_variance_ratio_)))\n",
    "\n",
    "    # Results from pca.components_\n",
    "    dataset_pca = pd.DataFrame(\n",
    "        abs(pca_2.components_), columns=df_scaled.columns, index=['PC_1', 'PC_2'])\n",
    "    print('\\n\\n', dataset_pca)\n",
    "\n",
    "    print(\"\\n*************** Most important features *************************\")\n",
    "    print('As per PC 1:\\n', (dataset_pca[dataset_pca > 0.3].iloc[0]).dropna())\n",
    "    print('\\n\\nAs per PC 2:\\n',\n",
    "          (dataset_pca[dataset_pca > 0.3].iloc[1]).dropna())\n",
    "    print(\"\\n******************************************************************\")\n",
    "\n",
    "    return pca_2_result, pca_2\n",
    "\n",
    "\n",
    "import numpy as np\n",
    "from scipy.spatial.distance import cdist\n",
    "import plotly.graph_objs as go\n",
    "\n",
    "def visualizing_results_sampling(pca_results, _labels, centroids_pcas):\n",
    "    \"\"\" Visualizing the clusters\n",
    "    :param pca_results: List of PCA applied data arrays\n",
    "    :param kmeans_labels: List of K Means label arrays\n",
    "    :param centroids_pcas: List of PCA format K Means centroid arrays\n",
    "    :param probs: List of prediction probabilities for each data point\n",
    "    \"\"\"\n",
    "\n",
    "    # Calculate the distance of each data point from its cluster center\n",
    "    distances = np.min(cdist(pca_results, centroids_pcas), axis=1)\n",
    "    max_distance = np.max(distances)\n",
    "\n",
    "    # Set opacity based on distance from cluster center\n",
    "    opacity = 1 - distances / max_distance\n",
    "\n",
    "    # Using Plotly for plotting\n",
    "    fig = go.Figure()\n",
    "\n",
    "    pca_result = pca_results\n",
    "    label = _labels\n",
    "    centroids_pca = centroids_pcas\n",
    "\n",
    "    # Add scatter plot for data points\n",
    "    fig.add_trace(\n",
    "        go.Scatter(\n",
    "            x=pca_result[:, 0],\n",
    "            y=pca_result[:, 1],\n",
    "            mode='markers',\n",
    "            marker=dict(\n",
    "                size=8,\n",
    "                color=_labels,\n",
    "                opacity=opacity,\n",
    "                \n",
    "            ),\n",
    "            name='Data Points'\n",
    "        )\n",
    "    )\n",
    "\n",
    "    # Add trace for centroids\n",
    "    fig.add_trace(\n",
    "        go.Scatter(\n",
    "            x=centroids_pca[:, 0],\n",
    "            y=centroids_pca[:, 1],\n",
    "            mode='markers',\n",
    "            marker=dict(\n",
    "                size=20,\n",
    "                symbol='x',\n",
    "                color='red'\n",
    "            ),\n",
    "            name='Centroids'\n",
    "        )\n",
    "    )\n",
    "\n",
    "    fig.update_xaxes(title_text='PCA 1')\n",
    "    fig.update_yaxes(title_text='PCA 2')\n",
    "    fig.update_layout(\n",
    "        title='Gaussian Clusters with Centroids',\n",
    "        showlegend=False,\n",
    "        height=400,\n",
    "        width=1000,\n",
    "        margin=dict(l=50, r=50, b=50, t=50),\n",
    "        font=dict(\n",
    "            family=\"Arial\",\n",
    "            size=12,\n",
    "            color=\"Black\"\n",
    "        )\n",
    "    )\n",
    "\n",
    "    fig.show()\n",
    "\n",
    "\n",
    "\n",
    "\n",
    "\n",
    "def visualizing_results_cluster(pca_results, _labels, centroids_pcas):\n",
    "    \"\"\" Visualizing the clusters\n",
    "    :param pca_results: List of PCA applied data arrays\n",
    "    :param kmeans_labels: List of K Means label arrays\n",
    "    :param centroids_pcas: List of PCA format K Means centroid arrays\n",
    "    :param probs: List of prediction probabilities for each data point\n",
    "    \"\"\"\n",
    "\n",
    "    fig = go.Figure()\n",
    "\n",
    "    pca_result = pca_results\n",
    "    label = _labels\n",
    "    centroids_pca = centroids_pcas\n",
    "\n",
    "    # Add scatter plot for data points\n",
    "    fig.add_trace(\n",
    "        go.Scatter(\n",
    "            x=pca_result[:, 0],\n",
    "            y=pca_result[:, 1],\n",
    "            mode='markers',\n",
    "            marker=dict(\n",
    "                size=8,\n",
    "                color=label,\n",
    "            ),\n",
    "            name='Data Points'\n",
    "        )\n",
    "    )\n",
    "\n",
    "    # Add trace for centroids\n",
    "    fig.add_trace(\n",
    "        go.Scatter(\n",
    "            x=centroids_pca[:, 0],\n",
    "            y=centroids_pca[:, 1],\n",
    "            mode='markers',\n",
    "            marker=dict(\n",
    "                size=20,\n",
    "                symbol='x',\n",
    "                color='red'\n",
    "            ),\n",
    "            name='Centroids'\n",
    "        )\n",
    "    )\n",
    "\n",
    "    fig.update_xaxes(title_text='PCA 1')\n",
    "    fig.update_yaxes(title_text='PCA 2')\n",
    "    fig.update_layout(\n",
    "        title='Gaussian Clusters with Centroids',\n",
    "        showlegend=False,\n",
    "        height=400,\n",
    "        width=1000,\n",
    "        margin=dict(l=50, r=50, b=50, t=50),\n",
    "        font=dict(\n",
    "            family=\"Arial\",\n",
    "            size=12,\n",
    "            color=\"Black\"\n",
    "        )\n",
    "    )\n",
    "\n",
    "    fig.show()\n"
   ]
  },
  {
   "cell_type": "code",
   "execution_count": 188,
   "metadata": {},
   "outputs": [],
   "source": [
    "def get_cluster_feature_expectations(gmm, X, feature_names):\n",
    "    # Get the probability of each state belonging to each cluster\n",
    "    cluster_probs = gmm.predict_proba(X)\n",
    "    # Calculate the weighted average of the feature values for each cluster\n",
    "    cluster_feature_expectations = pd.DataFrame({\"%\"+feature_name.split(\"Percent\")[1]: (X[feature_name].values[:, np.newaxis] * cluster_probs).sum(axis=0) / cluster_probs.sum(axis=0) for feature_name in feature_names})\n",
    "    return cluster_feature_expectations\n"
   ]
  },
  {
   "attachments": {},
   "cell_type": "markdown",
   "metadata": {},
   "source": [
    "The first two principal components explain 78.96% of the variance in the data related to the racial composition of correctional facilities for adults. This means that these two components capture a significant portion of the patterns in the data."
   ]
  },
  {
   "cell_type": "code",
   "execution_count": 189,
   "metadata": {},
   "outputs": [
    {
     "data": {
      "text/html": [
       "<div>\n",
       "<style scoped>\n",
       "    .dataframe tbody tr th:only-of-type {\n",
       "        vertical-align: middle;\n",
       "    }\n",
       "\n",
       "    .dataframe tbody tr th {\n",
       "        vertical-align: top;\n",
       "    }\n",
       "\n",
       "    .dataframe thead th {\n",
       "        text-align: right;\n",
       "    }\n",
       "</style>\n",
       "<table border=\"1\" class=\"dataframe\">\n",
       "  <thead>\n",
       "    <tr style=\"text-align: right;\">\n",
       "      <th></th>\n",
       "      <th>% White alone : in Correctional Facilities for Adults</th>\n",
       "      <th>% Black or African American alone : in Correctional Facilities for Adults</th>\n",
       "      <th>% American Indian and Alaska Native alone : in Correctional Facilities for Adults</th>\n",
       "      <th>% Asian alone : in Correctional Facilities for Adults</th>\n",
       "      <th>% Native Hawaiian and other Pacific Islander alone : in Correctional Facilities for Adults</th>\n",
       "      <th>% Some other race alone : in Correctional Facilities for Adults</th>\n",
       "      <th>% Two or more races : in Correctional Facilities for Adults</th>\n",
       "      <th>% Hispanic or Latino : in Correctional Facilities for Adults</th>\n",
       "      <th>% White alone, not Hispanic or Latino : in Correctional Facilities for Adults</th>\n",
       "    </tr>\n",
       "  </thead>\n",
       "  <tbody>\n",
       "    <tr>\n",
       "      <th>0</th>\n",
       "      <td>0.476846</td>\n",
       "      <td>2.524604</td>\n",
       "      <td>1.224764</td>\n",
       "      <td>0.169088</td>\n",
       "      <td>0.927438</td>\n",
       "      <td>0.845007</td>\n",
       "      <td>0.338682</td>\n",
       "      <td>1.009922</td>\n",
       "      <td>0.440643</td>\n",
       "    </tr>\n",
       "  </tbody>\n",
       "</table>\n",
       "</div>"
      ],
      "text/plain": [
       "   % White alone : in Correctional Facilities for Adults  \\\n",
       "0                                           0.476846       \n",
       "\n",
       "   % Black or African American alone : in Correctional Facilities for Adults  \\\n",
       "0                                           2.524604                           \n",
       "\n",
       "   % American Indian and Alaska Native alone : in Correctional Facilities for Adults  \\\n",
       "0                                           1.224764                                   \n",
       "\n",
       "   % Asian alone : in Correctional Facilities for Adults  \\\n",
       "0                                           0.169088       \n",
       "\n",
       "   % Native Hawaiian and other Pacific Islander alone : in Correctional Facilities for Adults  \\\n",
       "0                                           0.927438                                            \n",
       "\n",
       "   % Some other race alone : in Correctional Facilities for Adults  \\\n",
       "0                                           0.845007                 \n",
       "\n",
       "   % Two or more races : in Correctional Facilities for Adults  \\\n",
       "0                                           0.338682             \n",
       "\n",
       "   % Hispanic or Latino : in Correctional Facilities for Adults  \\\n",
       "0                                           1.009922              \n",
       "\n",
       "   % White alone, not Hispanic or Latino : in Correctional Facilities for Adults  \n",
       "0                                           0.440643                              "
      ]
     },
     "execution_count": 189,
     "metadata": {},
     "output_type": "execute_result"
    }
   ],
   "source": [
    "n_components = best_n_components\n",
    "init_params = 'k-means++' # try different initialization methods: 'kmeans' or 'random'\n",
    "reg_covar = 1e-6 # add regularization\n",
    "max_iter = 1000 # set the maximum number of iterations\n",
    "\n",
    "\n",
    "# create the GaussianMixture model\n",
    "gmm = GaussianMixture(n_components=n_components, init_params=init_params, reg_covar=reg_covar,  max_iter=max_iter)\n",
    "# gmm = GaussianMixture(n_components=n_components)\n",
    "\n",
    "gmm.fit(X)\n",
    "\n",
    "\n",
    "cluster_feature_expectations = get_cluster_feature_expectations(gmm, X, feature_names)\n",
    "cluster_feature_expectations"
   ]
  },
  {
   "cell_type": "code",
   "execution_count": 190,
   "metadata": {},
   "outputs": [
    {
     "name": "stdout",
     "output_type": "stream",
     "text": [
      "Explained variation per principal component: [0.56099248 0.22862323]\n",
      "Cumulative variance explained by 2 principal components: 78.96%\n",
      "\n",
      "\n",
      "       Percent White alone : in Correctional Facilities for Adults  \\\n",
      "PC_1                                           0.037908             \n",
      "PC_2                                           0.030697             \n",
      "\n",
      "      Percent Black or African American alone : in Correctional Facilities for Adults  \\\n",
      "PC_1                                           0.482953                                 \n",
      "PC_2                                           0.348528                                 \n",
      "\n",
      "      Percent American Indian and Alaska Native alone : in Correctional Facilities for Adults  \\\n",
      "PC_1                                           0.250448                                         \n",
      "PC_2                                           0.002683                                         \n",
      "\n",
      "      Percent Asian alone : in Correctional Facilities for Adults  \\\n",
      "PC_1                                           0.049916             \n",
      "PC_2                                           0.001037             \n",
      "\n",
      "      Percent Native Hawaiian and other Pacific Islander alone : in Correctional Facilities for Adults  \\\n",
      "PC_1                                           0.589119                                                  \n",
      "PC_2                                           0.790379                                                  \n",
      "\n",
      "      Percent Some other race alone : in Correctional Facilities for Adults  \\\n",
      "PC_1                                           0.471127                       \n",
      "PC_2                                           0.365934                       \n",
      "\n",
      "      Percent Two or more races : in Correctional Facilities for Adults  \\\n",
      "PC_1                                           0.074075                   \n",
      "PC_2                                           0.039554                   \n",
      "\n",
      "      Percent Hispanic or Latino : in Correctional Facilities for Adults  \\\n",
      "PC_1                                           0.353251                    \n",
      "PC_2                                           0.341400                    \n",
      "\n",
      "      Percent White alone, not Hispanic or Latino : in Correctional Facilities for Adults  \n",
      "PC_1                                           0.028411                                    \n",
      "PC_2                                           0.029193                                    \n",
      "\n",
      "*************** Most important features *************************\n",
      "As per PC 1:\n",
      " Percent Black or African American alone : in Correctional Facilities for Adults                     0.482953\n",
      "Percent Native Hawaiian and other Pacific Islander alone : in Correctional Facilities for Adults    0.589119\n",
      "Percent Some other race alone : in Correctional Facilities for Adults                               0.471127\n",
      "Percent Hispanic or Latino : in Correctional Facilities for Adults                                  0.353251\n",
      "Name: PC_1, dtype: float64\n",
      "\n",
      "\n",
      "As per PC 2:\n",
      " Percent Black or African American alone : in Correctional Facilities for Adults                     0.348528\n",
      "Percent Native Hawaiian and other Pacific Islander alone : in Correctional Facilities for Adults    0.790379\n",
      "Percent Some other race alone : in Correctional Facilities for Adults                               0.365934\n",
      "Percent Hispanic or Latino : in Correctional Facilities for Adults                                  0.341400\n",
      "Name: PC_2, dtype: float64\n",
      "\n",
      "******************************************************************\n"
     ]
    },
    {
     "name": "stderr",
     "output_type": "stream",
     "text": [
      "/Users/lorenzomendoza/opt/anaconda3/envs/machinelearning/lib/python3.11/site-packages/sklearn/base.py:420: UserWarning:\n",
      "\n",
      "X does not have valid feature names, but PCA was fitted with feature names\n",
      "\n"
     ]
    },
    {
     "data": {
      "application/vnd.plotly.v1+json": {
       "config": {
        "plotlyServerURL": "https://plot.ly"
       },
       "data": [
        {
         "marker": {
          "color": "blue",
          "opacity": [
           0.8324826464941744,
           0.8532612900178502,
           0.1361677276216816,
           0.8967102281667398,
           0.9617202833240974,
           0.88863734528201,
           0.7140993394077091,
           0.8421319261773441,
           0.8161438274631156,
           0.8892847614675803,
           0.9311839372166306,
           0.8420568766637824,
           0.9436291285388816,
           0.877248136344293,
           0.9424205131432316,
           0.970512402833815,
           0.9306717488208157,
           0.8527714022094947,
           0.9360901263708957,
           0.8493146110698756,
           0.7850026236186666,
           0.8762885993824943,
           0.8666416794917239,
           0.9663405303572843,
           0.7028121872035717,
           0.9004021879730861,
           0.7731992390170762,
           0.9093840343317156,
           0.9115690350355705,
           0.9426125417405842,
           0.8766028947979861,
           0.9324922619776469,
           0.8697693175056178,
           0.8394151337458624,
           0.9150344369978949,
           0.9157780163147395,
           0.8519938646323957,
           0.9464459319325126,
           0.7300115713101428,
           0.85401252067086,
           0.95598000255634,
           0.6893266437927477,
           0.8553935854640579,
           0.915232876765144,
           0.9568590795150775,
           0.8863762580351088,
           0.9034050303203154,
           0.9173437673259569,
           0,
           0.5149678823155805,
           0.9067040219499667,
           0.7719920387657201
          ],
          "size": 8
         },
         "mode": "markers",
         "name": "Data Points",
         "type": "scatter",
         "x": [
          -1.4240792761129764,
          -1.1348213439117651,
          5.404929206177588,
          -0.7671757355912916,
          -0.16253223553481064,
          0.8039504806828399,
          1.8845232176069666,
          -1.1080917548431288,
          -1.5188987038408162,
          -0.929403127345619,
          -0.5774083650897508,
          -0.6012425864744635,
          0.4222761011605928,
          -1.0468942538586101,
          -0.46603751158187073,
          0.14050241660122811,
          -0.2983978122859625,
          0.8756096987584963,
          -0.4297388937202391,
          -1.2113481575910314,
          -1.7980751615408417,
          -0.9692398878218071,
          -1.1376045025490327,
          -0.07226921607450582,
          2.118769745132479,
          -0.8457070055665205,
          0.915707077858602,
          -0.7159936042636772,
          -0.7194627165707922,
          -0.45718168322397584,
          -0.3486214764171829,
          -0.4530056237927687,
          -1.0682893903399928,
          -1.3584769067725662,
          0.5003161839428439,
          -0.5811345330451988,
          0.9008237730235252,
          -0.15436565718481984,
          1.5754481733107784,
          -1.1820474168081276,
          -0.3582069080923817,
          2.57037473255746,
          -1.2261985347248008,
          -0.2510504751720885,
          -0.2935689041607843,
          -0.8370450391921511,
          -0.7508178465332432,
          -0.6769376373608125,
          7.952657931752578,
          2.953854368890884,
          0.7677554208323618,
          -1.8561286432988144
         ],
         "y": [
          -0.11974673318215598,
          0.5284745731678174,
          5.009511298529264,
          -0.4334846256790405,
          -0.28324838231326693,
          -0.5062094481280781,
          1.5483875209031046,
          0.7654838976114823,
          0.3913011416733672,
          -0.16831581070601395,
          -0.10610152812520338,
          1.2058462865896113,
          -0.23011364044968466,
          0.025580533846575503,
          -0.15524745199305717,
          -0.2086674996496265,
          -0.5106527932525616,
          -0.9004962805837797,
          -0.3355443822365689,
          0.43031583730806844,
          0.36203986187610954,
          0.417645345694365,
          0.0140556486937554,
          0.2779088670918847,
          -1.3923855796515505,
          0.08204604122834742,
          -1.7044505188298034,
          -0.29148500271323596,
          -0.22696067448327403,
          -0.17513107899436645,
          0.9933097409021469,
          -0.3556166826832903,
          0.30512158315198873,
          0.17703120883154688,
          0.5244893976812023,
          -0.42253058679622896,
          -0.88476516003668,
          -0.430006321035867,
          -1.680216923104706,
          -0.3922552851521313,
          -0.11276921697911739,
          -0.6462926489880118,
          -0.13538449429401708,
          -0.678179721781265,
          -0.22196833035728442,
          -0.4888393293425812,
          0.3396284298975464,
          0.19745470055009812,
          -3.0878251305218085,
          2.8976807565938505,
          0.20984266963846407,
          0.5817359205836464
         ]
        },
        {
         "marker": {
          "color": "red",
          "size": 20,
          "symbol": "x"
         },
         "mode": "markers",
         "name": "Centroids",
         "type": "scatter",
         "x": [
          0
         ],
         "y": [
          0
         ]
        }
       ],
       "layout": {
        "font": {
         "color": "Black",
         "family": "Arial",
         "size": 12
        },
        "height": 400,
        "margin": {
         "b": 50,
         "l": 50,
         "r": 50,
         "t": 50
        },
        "showlegend": false,
        "template": {
         "data": {
          "bar": [
           {
            "error_x": {
             "color": "#2a3f5f"
            },
            "error_y": {
             "color": "#2a3f5f"
            },
            "marker": {
             "line": {
              "color": "#E5ECF6",
              "width": 0.5
             },
             "pattern": {
              "fillmode": "overlay",
              "size": 10,
              "solidity": 0.2
             }
            },
            "type": "bar"
           }
          ],
          "barpolar": [
           {
            "marker": {
             "line": {
              "color": "#E5ECF6",
              "width": 0.5
             },
             "pattern": {
              "fillmode": "overlay",
              "size": 10,
              "solidity": 0.2
             }
            },
            "type": "barpolar"
           }
          ],
          "carpet": [
           {
            "aaxis": {
             "endlinecolor": "#2a3f5f",
             "gridcolor": "white",
             "linecolor": "white",
             "minorgridcolor": "white",
             "startlinecolor": "#2a3f5f"
            },
            "baxis": {
             "endlinecolor": "#2a3f5f",
             "gridcolor": "white",
             "linecolor": "white",
             "minorgridcolor": "white",
             "startlinecolor": "#2a3f5f"
            },
            "type": "carpet"
           }
          ],
          "choropleth": [
           {
            "colorbar": {
             "outlinewidth": 0,
             "ticks": ""
            },
            "type": "choropleth"
           }
          ],
          "contour": [
           {
            "colorbar": {
             "outlinewidth": 0,
             "ticks": ""
            },
            "colorscale": [
             [
              0,
              "#0d0887"
             ],
             [
              0.1111111111111111,
              "#46039f"
             ],
             [
              0.2222222222222222,
              "#7201a8"
             ],
             [
              0.3333333333333333,
              "#9c179e"
             ],
             [
              0.4444444444444444,
              "#bd3786"
             ],
             [
              0.5555555555555556,
              "#d8576b"
             ],
             [
              0.6666666666666666,
              "#ed7953"
             ],
             [
              0.7777777777777778,
              "#fb9f3a"
             ],
             [
              0.8888888888888888,
              "#fdca26"
             ],
             [
              1,
              "#f0f921"
             ]
            ],
            "type": "contour"
           }
          ],
          "contourcarpet": [
           {
            "colorbar": {
             "outlinewidth": 0,
             "ticks": ""
            },
            "type": "contourcarpet"
           }
          ],
          "heatmap": [
           {
            "colorbar": {
             "outlinewidth": 0,
             "ticks": ""
            },
            "colorscale": [
             [
              0,
              "#0d0887"
             ],
             [
              0.1111111111111111,
              "#46039f"
             ],
             [
              0.2222222222222222,
              "#7201a8"
             ],
             [
              0.3333333333333333,
              "#9c179e"
             ],
             [
              0.4444444444444444,
              "#bd3786"
             ],
             [
              0.5555555555555556,
              "#d8576b"
             ],
             [
              0.6666666666666666,
              "#ed7953"
             ],
             [
              0.7777777777777778,
              "#fb9f3a"
             ],
             [
              0.8888888888888888,
              "#fdca26"
             ],
             [
              1,
              "#f0f921"
             ]
            ],
            "type": "heatmap"
           }
          ],
          "heatmapgl": [
           {
            "colorbar": {
             "outlinewidth": 0,
             "ticks": ""
            },
            "colorscale": [
             [
              0,
              "#0d0887"
             ],
             [
              0.1111111111111111,
              "#46039f"
             ],
             [
              0.2222222222222222,
              "#7201a8"
             ],
             [
              0.3333333333333333,
              "#9c179e"
             ],
             [
              0.4444444444444444,
              "#bd3786"
             ],
             [
              0.5555555555555556,
              "#d8576b"
             ],
             [
              0.6666666666666666,
              "#ed7953"
             ],
             [
              0.7777777777777778,
              "#fb9f3a"
             ],
             [
              0.8888888888888888,
              "#fdca26"
             ],
             [
              1,
              "#f0f921"
             ]
            ],
            "type": "heatmapgl"
           }
          ],
          "histogram": [
           {
            "marker": {
             "pattern": {
              "fillmode": "overlay",
              "size": 10,
              "solidity": 0.2
             }
            },
            "type": "histogram"
           }
          ],
          "histogram2d": [
           {
            "colorbar": {
             "outlinewidth": 0,
             "ticks": ""
            },
            "colorscale": [
             [
              0,
              "#0d0887"
             ],
             [
              0.1111111111111111,
              "#46039f"
             ],
             [
              0.2222222222222222,
              "#7201a8"
             ],
             [
              0.3333333333333333,
              "#9c179e"
             ],
             [
              0.4444444444444444,
              "#bd3786"
             ],
             [
              0.5555555555555556,
              "#d8576b"
             ],
             [
              0.6666666666666666,
              "#ed7953"
             ],
             [
              0.7777777777777778,
              "#fb9f3a"
             ],
             [
              0.8888888888888888,
              "#fdca26"
             ],
             [
              1,
              "#f0f921"
             ]
            ],
            "type": "histogram2d"
           }
          ],
          "histogram2dcontour": [
           {
            "colorbar": {
             "outlinewidth": 0,
             "ticks": ""
            },
            "colorscale": [
             [
              0,
              "#0d0887"
             ],
             [
              0.1111111111111111,
              "#46039f"
             ],
             [
              0.2222222222222222,
              "#7201a8"
             ],
             [
              0.3333333333333333,
              "#9c179e"
             ],
             [
              0.4444444444444444,
              "#bd3786"
             ],
             [
              0.5555555555555556,
              "#d8576b"
             ],
             [
              0.6666666666666666,
              "#ed7953"
             ],
             [
              0.7777777777777778,
              "#fb9f3a"
             ],
             [
              0.8888888888888888,
              "#fdca26"
             ],
             [
              1,
              "#f0f921"
             ]
            ],
            "type": "histogram2dcontour"
           }
          ],
          "mesh3d": [
           {
            "colorbar": {
             "outlinewidth": 0,
             "ticks": ""
            },
            "type": "mesh3d"
           }
          ],
          "parcoords": [
           {
            "line": {
             "colorbar": {
              "outlinewidth": 0,
              "ticks": ""
             }
            },
            "type": "parcoords"
           }
          ],
          "pie": [
           {
            "automargin": true,
            "type": "pie"
           }
          ],
          "scatter": [
           {
            "fillpattern": {
             "fillmode": "overlay",
             "size": 10,
             "solidity": 0.2
            },
            "type": "scatter"
           }
          ],
          "scatter3d": [
           {
            "line": {
             "colorbar": {
              "outlinewidth": 0,
              "ticks": ""
             }
            },
            "marker": {
             "colorbar": {
              "outlinewidth": 0,
              "ticks": ""
             }
            },
            "type": "scatter3d"
           }
          ],
          "scattercarpet": [
           {
            "marker": {
             "colorbar": {
              "outlinewidth": 0,
              "ticks": ""
             }
            },
            "type": "scattercarpet"
           }
          ],
          "scattergeo": [
           {
            "marker": {
             "colorbar": {
              "outlinewidth": 0,
              "ticks": ""
             }
            },
            "type": "scattergeo"
           }
          ],
          "scattergl": [
           {
            "marker": {
             "colorbar": {
              "outlinewidth": 0,
              "ticks": ""
             }
            },
            "type": "scattergl"
           }
          ],
          "scattermapbox": [
           {
            "marker": {
             "colorbar": {
              "outlinewidth": 0,
              "ticks": ""
             }
            },
            "type": "scattermapbox"
           }
          ],
          "scatterpolar": [
           {
            "marker": {
             "colorbar": {
              "outlinewidth": 0,
              "ticks": ""
             }
            },
            "type": "scatterpolar"
           }
          ],
          "scatterpolargl": [
           {
            "marker": {
             "colorbar": {
              "outlinewidth": 0,
              "ticks": ""
             }
            },
            "type": "scatterpolargl"
           }
          ],
          "scatterternary": [
           {
            "marker": {
             "colorbar": {
              "outlinewidth": 0,
              "ticks": ""
             }
            },
            "type": "scatterternary"
           }
          ],
          "surface": [
           {
            "colorbar": {
             "outlinewidth": 0,
             "ticks": ""
            },
            "colorscale": [
             [
              0,
              "#0d0887"
             ],
             [
              0.1111111111111111,
              "#46039f"
             ],
             [
              0.2222222222222222,
              "#7201a8"
             ],
             [
              0.3333333333333333,
              "#9c179e"
             ],
             [
              0.4444444444444444,
              "#bd3786"
             ],
             [
              0.5555555555555556,
              "#d8576b"
             ],
             [
              0.6666666666666666,
              "#ed7953"
             ],
             [
              0.7777777777777778,
              "#fb9f3a"
             ],
             [
              0.8888888888888888,
              "#fdca26"
             ],
             [
              1,
              "#f0f921"
             ]
            ],
            "type": "surface"
           }
          ],
          "table": [
           {
            "cells": {
             "fill": {
              "color": "#EBF0F8"
             },
             "line": {
              "color": "white"
             }
            },
            "header": {
             "fill": {
              "color": "#C8D4E3"
             },
             "line": {
              "color": "white"
             }
            },
            "type": "table"
           }
          ]
         },
         "layout": {
          "annotationdefaults": {
           "arrowcolor": "#2a3f5f",
           "arrowhead": 0,
           "arrowwidth": 1
          },
          "autotypenumbers": "strict",
          "coloraxis": {
           "colorbar": {
            "outlinewidth": 0,
            "ticks": ""
           }
          },
          "colorscale": {
           "diverging": [
            [
             0,
             "#8e0152"
            ],
            [
             0.1,
             "#c51b7d"
            ],
            [
             0.2,
             "#de77ae"
            ],
            [
             0.3,
             "#f1b6da"
            ],
            [
             0.4,
             "#fde0ef"
            ],
            [
             0.5,
             "#f7f7f7"
            ],
            [
             0.6,
             "#e6f5d0"
            ],
            [
             0.7,
             "#b8e186"
            ],
            [
             0.8,
             "#7fbc41"
            ],
            [
             0.9,
             "#4d9221"
            ],
            [
             1,
             "#276419"
            ]
           ],
           "sequential": [
            [
             0,
             "#0d0887"
            ],
            [
             0.1111111111111111,
             "#46039f"
            ],
            [
             0.2222222222222222,
             "#7201a8"
            ],
            [
             0.3333333333333333,
             "#9c179e"
            ],
            [
             0.4444444444444444,
             "#bd3786"
            ],
            [
             0.5555555555555556,
             "#d8576b"
            ],
            [
             0.6666666666666666,
             "#ed7953"
            ],
            [
             0.7777777777777778,
             "#fb9f3a"
            ],
            [
             0.8888888888888888,
             "#fdca26"
            ],
            [
             1,
             "#f0f921"
            ]
           ],
           "sequentialminus": [
            [
             0,
             "#0d0887"
            ],
            [
             0.1111111111111111,
             "#46039f"
            ],
            [
             0.2222222222222222,
             "#7201a8"
            ],
            [
             0.3333333333333333,
             "#9c179e"
            ],
            [
             0.4444444444444444,
             "#bd3786"
            ],
            [
             0.5555555555555556,
             "#d8576b"
            ],
            [
             0.6666666666666666,
             "#ed7953"
            ],
            [
             0.7777777777777778,
             "#fb9f3a"
            ],
            [
             0.8888888888888888,
             "#fdca26"
            ],
            [
             1,
             "#f0f921"
            ]
           ]
          },
          "colorway": [
           "#636efa",
           "#EF553B",
           "#00cc96",
           "#ab63fa",
           "#FFA15A",
           "#19d3f3",
           "#FF6692",
           "#B6E880",
           "#FF97FF",
           "#FECB52"
          ],
          "font": {
           "color": "#2a3f5f"
          },
          "geo": {
           "bgcolor": "white",
           "lakecolor": "white",
           "landcolor": "#E5ECF6",
           "showlakes": true,
           "showland": true,
           "subunitcolor": "white"
          },
          "hoverlabel": {
           "align": "left"
          },
          "hovermode": "closest",
          "mapbox": {
           "style": "light"
          },
          "paper_bgcolor": "white",
          "plot_bgcolor": "#E5ECF6",
          "polar": {
           "angularaxis": {
            "gridcolor": "white",
            "linecolor": "white",
            "ticks": ""
           },
           "bgcolor": "#E5ECF6",
           "radialaxis": {
            "gridcolor": "white",
            "linecolor": "white",
            "ticks": ""
           }
          },
          "scene": {
           "xaxis": {
            "backgroundcolor": "#E5ECF6",
            "gridcolor": "white",
            "gridwidth": 2,
            "linecolor": "white",
            "showbackground": true,
            "ticks": "",
            "zerolinecolor": "white"
           },
           "yaxis": {
            "backgroundcolor": "#E5ECF6",
            "gridcolor": "white",
            "gridwidth": 2,
            "linecolor": "white",
            "showbackground": true,
            "ticks": "",
            "zerolinecolor": "white"
           },
           "zaxis": {
            "backgroundcolor": "#E5ECF6",
            "gridcolor": "white",
            "gridwidth": 2,
            "linecolor": "white",
            "showbackground": true,
            "ticks": "",
            "zerolinecolor": "white"
           }
          },
          "shapedefaults": {
           "line": {
            "color": "#2a3f5f"
           }
          },
          "ternary": {
           "aaxis": {
            "gridcolor": "white",
            "linecolor": "white",
            "ticks": ""
           },
           "baxis": {
            "gridcolor": "white",
            "linecolor": "white",
            "ticks": ""
           },
           "bgcolor": "#E5ECF6",
           "caxis": {
            "gridcolor": "white",
            "linecolor": "white",
            "ticks": ""
           }
          },
          "title": {
           "x": 0.05
          },
          "xaxis": {
           "automargin": true,
           "gridcolor": "white",
           "linecolor": "white",
           "ticks": "",
           "title": {
            "standoff": 15
           },
           "zerolinecolor": "white",
           "zerolinewidth": 2
          },
          "yaxis": {
           "automargin": true,
           "gridcolor": "white",
           "linecolor": "white",
           "ticks": "",
           "title": {
            "standoff": 15
           },
           "zerolinecolor": "white",
           "zerolinewidth": 2
          }
         }
        },
        "title": {
         "text": "Gaussian Clusters with Centroids"
        },
        "width": 1000,
        "xaxis": {
         "title": {
          "text": "PCA 1"
         }
        },
        "yaxis": {
         "title": {
          "text": "PCA 2"
         }
        }
       }
      }
     },
     "metadata": {},
     "output_type": "display_data"
    }
   ],
   "source": [
    "# X = getX(df)\n",
    "pca_result, pca_2_1 = pca_embeddings(X)\n",
    "gmm = GaussianMixture(n_components=1, init_params=init_params, reg_covar=reg_covar, max_iter=max_iter)\n",
    "gmm.fit(X)\n",
    "centroids = gmm.means_\n",
    "centroids_pca = pca_2_1.transform(centroids)\n",
    "# Obtain prediction probabilities\n",
    "probs = gmm.predict_proba(X)\n",
    "visualizing_results_sampling(pca_result, gmm, centroids_pca)\n"
   ]
  },
  {
   "cell_type": "code",
   "execution_count": 191,
   "metadata": {},
   "outputs": [],
   "source": [
    "def runKmeans(data, X, n):\n",
    "    kmeans = KMeans(n_clusters=n, init = 'k-means++', n_init=10)\n",
    "    kmeans.fit(X)\n",
    "    cluster_data = data.copy() \n",
    "    cluster_data['Cluster'] = kmeans.labels_\n",
    "    return cluster_data"
   ]
  },
  {
   "cell_type": "code",
   "execution_count": 198,
   "metadata": {},
   "outputs": [],
   "source": [
    "def visualizing_results(pca_result, label, centroids_pca):\n",
    "    \"\"\"\n",
    "    Visualizing the clusters\n",
    "\n",
    "    :param pca_result: PCA applied data\n",
    "    :param label: K Means labels\n",
    "    :param centroids_pca: PCA format K Means centroids\n",
    "    \"\"\"\n",
    "    # ------------------ Using Plotly for plotting-----------------------\n",
    "    fig = go.Figure()\n",
    "\n",
    "    # Add scatter plot for data points\n",
    "    fig.add_trace(\n",
    "        go.Scatter(\n",
    "            x=pca_result[:, 0],\n",
    "            y=pca_result[:, 1],\n",
    "            mode='markers',\n",
    "            marker=dict(\n",
    "                size=8,\n",
    "                color=label,\n",
    "                opacity=0.8,\n",
    "                # colorscale='Viridis'\n",
    "            ),\n",
    "            name='Data Points'\n",
    "        )\n",
    "    )\n",
    "\n",
    "    # Add trace for centroids\n",
    "    fig.add_trace(\n",
    "        go.Scatter(\n",
    "            x=centroids_pca[:, 0],\n",
    "            y=centroids_pca[:, 1],\n",
    "            mode='markers',\n",
    "            marker=dict(\n",
    "                size=20,\n",
    "                symbol='x',\n",
    "                color='red'\n",
    "            ),\n",
    "            name='Centroids'\n",
    "        )\n",
    "    )\n",
    "\n",
    "    # Update layout and show plot\n",
    "    fig.update_layout(\n",
    "        xaxis_title='PCA 1',\n",
    "        yaxis_title='PCA 2',\n",
    "        title='NIPS Clusters with Centroids',\n",
    "        showlegend=True,\n",
    "        legend=dict(\n",
    "            x=0.8,\n",
    "            y=0.95,\n",
    "            bordercolor=\"Black\",\n",
    "            borderwidth=2,\n",
    "            bgcolor=\"#E2E2E2\",\n",
    "            font=dict(\n",
    "                family=\"Arial\",\n",
    "                size=12,\n",
    "                color=\"Black\"\n",
    "            ),\n",
    "            orientation=\"h\"\n",
    "        )\n",
    "    )\n",
    "\n",
    "    fig.show()"
   ]
  },
  {
   "cell_type": "code",
   "execution_count": 202,
   "metadata": {},
   "outputs": [
    {
     "name": "stdout",
     "output_type": "stream",
     "text": [
      "Explained variation per principal component: [0.37659621 0.21795809]\n",
      "Cumulative variance explained by 2 principal components: 59.46%\n",
      "\n",
      "\n",
      "       White alone : in Correctional Facilities for Adults  \\\n",
      "PC_1                                           0.144861     \n",
      "PC_2                                           0.003291     \n",
      "\n",
      "      Black or African American alone : in Correctional Facilities for Adults  \\\n",
      "PC_1                                           0.124316                         \n",
      "PC_2                                           0.032980                         \n",
      "\n",
      "      American Indian and Alaska Native alone : in Correctional Facilities for Adults  \\\n",
      "PC_1                                           0.063485                                 \n",
      "PC_2                                           0.097010                                 \n",
      "\n",
      "      Asian alone : in Correctional Facilities for Adults  \\\n",
      "PC_1                                           0.139442     \n",
      "PC_2                                           0.011451     \n",
      "\n",
      "      Native Hawaiian and other Pacific Islander alone : in Correctional Facilities for Adults  \\\n",
      "PC_1                                           0.048431                                          \n",
      "PC_2                                           0.031103                                          \n",
      "\n",
      "      Some other race alone : in Correctional Facilities for Adults  \\\n",
      "PC_1                                           0.143154               \n",
      "PC_2                                           0.019186               \n",
      "\n",
      "      Two or more races : in Correctional Facilities for Adults  \\\n",
      "PC_1                                           0.146069           \n",
      "PC_2                                           0.035413           \n",
      "\n",
      "      Hispanic or Latino : in Correctional Facilities for Adults  \\\n",
      "PC_1                                           0.144839            \n",
      "PC_2                                           0.011223            \n",
      "\n",
      "      White alone, not Hispanic or Latino : in Correctional Facilities for Adults  \\\n",
      "PC_1                                           0.133711                             \n",
      "PC_2                                           0.000782                             \n",
      "\n",
      "      Total Population  ...  \\\n",
      "PC_1          0.147869  ...   \n",
      "PC_2          0.028258  ...   \n",
      "\n",
      "      Percent White alone : in Correctional Facilities for Adults  \\\n",
      "PC_1                                           0.009238             \n",
      "PC_2                                           0.020307             \n",
      "\n",
      "      Percent Black or African American alone : in Correctional Facilities for Adults  \\\n",
      "PC_1                                           0.008722                                 \n",
      "PC_2                                           0.167561                                 \n",
      "\n",
      "      Percent American Indian and Alaska Native alone : in Correctional Facilities for Adults  \\\n",
      "PC_1                                           0.023840                                         \n",
      "PC_2                                           0.086318                                         \n",
      "\n",
      "      Percent Asian alone : in Correctional Facilities for Adults  \\\n",
      "PC_1                                           0.001320             \n",
      "PC_2                                           0.020419             \n",
      "\n",
      "      Percent Native Hawaiian and other Pacific Islander alone : in Correctional Facilities for Adults  \\\n",
      "PC_1                                           0.004687                                                  \n",
      "PC_2                                           0.188032                                                  \n",
      "\n",
      "      Percent Some other race alone : in Correctional Facilities for Adults  \\\n",
      "PC_1                                           0.004844                       \n",
      "PC_2                                           0.153686                       \n",
      "\n",
      "      Percent Two or more races : in Correctional Facilities for Adults  \\\n",
      "PC_1                                           0.006001                   \n",
      "PC_2                                           0.031847                   \n",
      "\n",
      "      Percent Hispanic or Latino : in Correctional Facilities for Adults  \\\n",
      "PC_1                                           0.008557                    \n",
      "PC_2                                           0.129924                    \n",
      "\n",
      "      Percent White alone, not Hispanic or Latino : in Correctional Facilities for Adults  \\\n",
      "PC_1                                           0.006396                                     \n",
      "PC_2                                           0.015820                                     \n",
      "\n",
      "       Cluster  \n",
      "PC_1  0.026021  \n",
      "PC_2  0.069389  \n",
      "\n",
      "[2 rows x 120 columns]\n",
      "\n",
      "*************** Most important features *************************\n",
      "As per PC 1:\n",
      " Series([], Name: PC_1, dtype: float64)\n",
      "\n",
      "\n",
      "As per PC 2:\n",
      " Percent Native Hawaiian and other Pacific Islander alone: in Correctional Facilities for Adults : Men    0.338531\n",
      "Name: PC_2, dtype: float64\n",
      "\n",
      "******************************************************************\n"
     ]
    },
    {
     "name": "stderr",
     "output_type": "stream",
     "text": [
      "/Users/lorenzomendoza/opt/anaconda3/envs/machinelearning/lib/python3.11/site-packages/sklearn/base.py:420: UserWarning:\n",
      "\n",
      "X does not have valid feature names, but PCA was fitted with feature names\n",
      "\n"
     ]
    },
    {
     "data": {
      "application/vnd.plotly.v1+json": {
       "config": {
        "plotlyServerURL": "https://plot.ly"
       },
       "data": [
        {
         "marker": {
          "color": [
           3,
           2,
           0,
           2,
           1,
           0,
           2,
           2,
           2,
           3,
           3,
           2,
           2,
           3,
           3,
           2,
           2,
           0,
           3,
           2,
           3,
           2,
           3,
           2,
           0,
           3,
           2,
           2,
           2,
           2,
           3,
           2,
           3,
           3,
           2,
           3,
           0,
           2,
           3,
           2,
           3,
           0,
           3,
           1,
           2,
           2,
           3,
           2,
           0,
           0,
           2,
           2
          ],
          "size": 8
         },
         "mode": "markers",
         "name": "Data Points",
         "type": "scatter",
         "x": [
          -1.0054838680899723,
          -3.90288353278666,
          5.482373924507839,
          -2.2851429226455044,
          34.128519828091655,
          -0.3062036021976611,
          -2.3776168207016948,
          -4.0886772000951215,
          -5.152764867293726,
          10.228267834579015,
          3.736925397739896,
          -0.44537145971157693,
          -3.4020755584217044,
          2.915845812847828,
          -0.2966355381542424,
          -3.5769884765359756,
          -2.777061624109825,
          -1.1041657332579247,
          -0.2486378348146773,
          -4.659742604360197,
          -1.267563060205286,
          -1.6598142425837645,
          0.9095222906458313,
          -2.084805019238507,
          -2.2838504931847456,
          -0.756136390819631,
          -4.20703184597399,
          -4.2113781582831,
          -1.862682840497122,
          -4.59679411127223,
          0.8086849477623672,
          -1.4425931302482653,
          7.283498969970082,
          1.4580821503310393,
          -5.235577988072664,
          2.439658940501473,
          1.4615767976149443,
          -1.572869995478385,
          3.8743871542218034,
          -4.620818443118192,
          -1.6206522204490983,
          -3.962543594709485,
          -0.3901088854037255,
          20.692721091561744,
          -2.84094118885032,
          -5.2934838093711,
          1.1678723519942862,
          0.7467058065506359,
          -3.4355978233315274,
          -1.004055004101672,
          -4.598501426197762,
          -2.757391984353412
         ],
         "y": [
          -2.4263526323478755,
          -1.4049933739610982,
          16.076140035287146,
          -0.4425149220481009,
          -0.20931800675229165,
          3.3844504082971896,
          3.218649429329216,
          -3.9162634832965564,
          -4.039116171978526,
          -2.651980598170632,
          -1.0647591397883263,
          -1.2336730641505567,
          2.1801392952377525,
          -4.473966487809303,
          -1.478294030477416,
          -0.29812827472172126,
          -0.488306285202911,
          4.09962620783116,
          0.3819936883463957,
          -4.480257237851109,
          -5.900788834513678,
          -4.3897608068182326,
          -3.9899550990993133,
          -0.03802187286818839,
          8.328571186898934,
          -2.4706829289811867,
          2.459768754336684,
          -2.0307732461964427,
          -0.5612140456641564,
          -1.9830695041303805,
          -2.993001442566199,
          1.4004968981977108,
          -5.320603742797496,
          -4.136792242744176,
          -0.9539715072858224,
          -2.1383928622904684,
          5.981659203813691,
          0.07637462553530389,
          2.501461736695407,
          -4.31028337985174,
          -1.3279566514939867,
          7.302658558605004,
          -2.964495729005813,
          0.6377070200397941,
          -0.8106455716721896,
          -2.782325249444041,
          -2.8264885832177673,
          -1.8115664435960332,
          20.97143118940279,
          5.371261646307125,
          2.963223616776082,
          -4.986900048143655
         ]
        },
        {
         "marker": {
          "color": "red",
          "size": 20,
          "symbol": "x"
         },
         "mode": "markers",
         "name": "Centroids",
         "type": "scatter",
         "x": [
          -0.6440581910825292,
          27.410620459826724,
          -3.1562521377460078,
          1.7198545913327632
         ],
         "y": [
          8.939474804555388,
          0.21419450664375603,
          -1.1465252747787502,
          -2.5459444458977543
         ]
        }
       ],
       "layout": {
        "font": {
         "color": "Black",
         "family": "Arial",
         "size": 12
        },
        "height": 400,
        "margin": {
         "b": 50,
         "l": 50,
         "r": 50,
         "t": 50
        },
        "showlegend": false,
        "template": {
         "data": {
          "bar": [
           {
            "error_x": {
             "color": "#2a3f5f"
            },
            "error_y": {
             "color": "#2a3f5f"
            },
            "marker": {
             "line": {
              "color": "#E5ECF6",
              "width": 0.5
             },
             "pattern": {
              "fillmode": "overlay",
              "size": 10,
              "solidity": 0.2
             }
            },
            "type": "bar"
           }
          ],
          "barpolar": [
           {
            "marker": {
             "line": {
              "color": "#E5ECF6",
              "width": 0.5
             },
             "pattern": {
              "fillmode": "overlay",
              "size": 10,
              "solidity": 0.2
             }
            },
            "type": "barpolar"
           }
          ],
          "carpet": [
           {
            "aaxis": {
             "endlinecolor": "#2a3f5f",
             "gridcolor": "white",
             "linecolor": "white",
             "minorgridcolor": "white",
             "startlinecolor": "#2a3f5f"
            },
            "baxis": {
             "endlinecolor": "#2a3f5f",
             "gridcolor": "white",
             "linecolor": "white",
             "minorgridcolor": "white",
             "startlinecolor": "#2a3f5f"
            },
            "type": "carpet"
           }
          ],
          "choropleth": [
           {
            "colorbar": {
             "outlinewidth": 0,
             "ticks": ""
            },
            "type": "choropleth"
           }
          ],
          "contour": [
           {
            "colorbar": {
             "outlinewidth": 0,
             "ticks": ""
            },
            "colorscale": [
             [
              0,
              "#0d0887"
             ],
             [
              0.1111111111111111,
              "#46039f"
             ],
             [
              0.2222222222222222,
              "#7201a8"
             ],
             [
              0.3333333333333333,
              "#9c179e"
             ],
             [
              0.4444444444444444,
              "#bd3786"
             ],
             [
              0.5555555555555556,
              "#d8576b"
             ],
             [
              0.6666666666666666,
              "#ed7953"
             ],
             [
              0.7777777777777778,
              "#fb9f3a"
             ],
             [
              0.8888888888888888,
              "#fdca26"
             ],
             [
              1,
              "#f0f921"
             ]
            ],
            "type": "contour"
           }
          ],
          "contourcarpet": [
           {
            "colorbar": {
             "outlinewidth": 0,
             "ticks": ""
            },
            "type": "contourcarpet"
           }
          ],
          "heatmap": [
           {
            "colorbar": {
             "outlinewidth": 0,
             "ticks": ""
            },
            "colorscale": [
             [
              0,
              "#0d0887"
             ],
             [
              0.1111111111111111,
              "#46039f"
             ],
             [
              0.2222222222222222,
              "#7201a8"
             ],
             [
              0.3333333333333333,
              "#9c179e"
             ],
             [
              0.4444444444444444,
              "#bd3786"
             ],
             [
              0.5555555555555556,
              "#d8576b"
             ],
             [
              0.6666666666666666,
              "#ed7953"
             ],
             [
              0.7777777777777778,
              "#fb9f3a"
             ],
             [
              0.8888888888888888,
              "#fdca26"
             ],
             [
              1,
              "#f0f921"
             ]
            ],
            "type": "heatmap"
           }
          ],
          "heatmapgl": [
           {
            "colorbar": {
             "outlinewidth": 0,
             "ticks": ""
            },
            "colorscale": [
             [
              0,
              "#0d0887"
             ],
             [
              0.1111111111111111,
              "#46039f"
             ],
             [
              0.2222222222222222,
              "#7201a8"
             ],
             [
              0.3333333333333333,
              "#9c179e"
             ],
             [
              0.4444444444444444,
              "#bd3786"
             ],
             [
              0.5555555555555556,
              "#d8576b"
             ],
             [
              0.6666666666666666,
              "#ed7953"
             ],
             [
              0.7777777777777778,
              "#fb9f3a"
             ],
             [
              0.8888888888888888,
              "#fdca26"
             ],
             [
              1,
              "#f0f921"
             ]
            ],
            "type": "heatmapgl"
           }
          ],
          "histogram": [
           {
            "marker": {
             "pattern": {
              "fillmode": "overlay",
              "size": 10,
              "solidity": 0.2
             }
            },
            "type": "histogram"
           }
          ],
          "histogram2d": [
           {
            "colorbar": {
             "outlinewidth": 0,
             "ticks": ""
            },
            "colorscale": [
             [
              0,
              "#0d0887"
             ],
             [
              0.1111111111111111,
              "#46039f"
             ],
             [
              0.2222222222222222,
              "#7201a8"
             ],
             [
              0.3333333333333333,
              "#9c179e"
             ],
             [
              0.4444444444444444,
              "#bd3786"
             ],
             [
              0.5555555555555556,
              "#d8576b"
             ],
             [
              0.6666666666666666,
              "#ed7953"
             ],
             [
              0.7777777777777778,
              "#fb9f3a"
             ],
             [
              0.8888888888888888,
              "#fdca26"
             ],
             [
              1,
              "#f0f921"
             ]
            ],
            "type": "histogram2d"
           }
          ],
          "histogram2dcontour": [
           {
            "colorbar": {
             "outlinewidth": 0,
             "ticks": ""
            },
            "colorscale": [
             [
              0,
              "#0d0887"
             ],
             [
              0.1111111111111111,
              "#46039f"
             ],
             [
              0.2222222222222222,
              "#7201a8"
             ],
             [
              0.3333333333333333,
              "#9c179e"
             ],
             [
              0.4444444444444444,
              "#bd3786"
             ],
             [
              0.5555555555555556,
              "#d8576b"
             ],
             [
              0.6666666666666666,
              "#ed7953"
             ],
             [
              0.7777777777777778,
              "#fb9f3a"
             ],
             [
              0.8888888888888888,
              "#fdca26"
             ],
             [
              1,
              "#f0f921"
             ]
            ],
            "type": "histogram2dcontour"
           }
          ],
          "mesh3d": [
           {
            "colorbar": {
             "outlinewidth": 0,
             "ticks": ""
            },
            "type": "mesh3d"
           }
          ],
          "parcoords": [
           {
            "line": {
             "colorbar": {
              "outlinewidth": 0,
              "ticks": ""
             }
            },
            "type": "parcoords"
           }
          ],
          "pie": [
           {
            "automargin": true,
            "type": "pie"
           }
          ],
          "scatter": [
           {
            "fillpattern": {
             "fillmode": "overlay",
             "size": 10,
             "solidity": 0.2
            },
            "type": "scatter"
           }
          ],
          "scatter3d": [
           {
            "line": {
             "colorbar": {
              "outlinewidth": 0,
              "ticks": ""
             }
            },
            "marker": {
             "colorbar": {
              "outlinewidth": 0,
              "ticks": ""
             }
            },
            "type": "scatter3d"
           }
          ],
          "scattercarpet": [
           {
            "marker": {
             "colorbar": {
              "outlinewidth": 0,
              "ticks": ""
             }
            },
            "type": "scattercarpet"
           }
          ],
          "scattergeo": [
           {
            "marker": {
             "colorbar": {
              "outlinewidth": 0,
              "ticks": ""
             }
            },
            "type": "scattergeo"
           }
          ],
          "scattergl": [
           {
            "marker": {
             "colorbar": {
              "outlinewidth": 0,
              "ticks": ""
             }
            },
            "type": "scattergl"
           }
          ],
          "scattermapbox": [
           {
            "marker": {
             "colorbar": {
              "outlinewidth": 0,
              "ticks": ""
             }
            },
            "type": "scattermapbox"
           }
          ],
          "scatterpolar": [
           {
            "marker": {
             "colorbar": {
              "outlinewidth": 0,
              "ticks": ""
             }
            },
            "type": "scatterpolar"
           }
          ],
          "scatterpolargl": [
           {
            "marker": {
             "colorbar": {
              "outlinewidth": 0,
              "ticks": ""
             }
            },
            "type": "scatterpolargl"
           }
          ],
          "scatterternary": [
           {
            "marker": {
             "colorbar": {
              "outlinewidth": 0,
              "ticks": ""
             }
            },
            "type": "scatterternary"
           }
          ],
          "surface": [
           {
            "colorbar": {
             "outlinewidth": 0,
             "ticks": ""
            },
            "colorscale": [
             [
              0,
              "#0d0887"
             ],
             [
              0.1111111111111111,
              "#46039f"
             ],
             [
              0.2222222222222222,
              "#7201a8"
             ],
             [
              0.3333333333333333,
              "#9c179e"
             ],
             [
              0.4444444444444444,
              "#bd3786"
             ],
             [
              0.5555555555555556,
              "#d8576b"
             ],
             [
              0.6666666666666666,
              "#ed7953"
             ],
             [
              0.7777777777777778,
              "#fb9f3a"
             ],
             [
              0.8888888888888888,
              "#fdca26"
             ],
             [
              1,
              "#f0f921"
             ]
            ],
            "type": "surface"
           }
          ],
          "table": [
           {
            "cells": {
             "fill": {
              "color": "#EBF0F8"
             },
             "line": {
              "color": "white"
             }
            },
            "header": {
             "fill": {
              "color": "#C8D4E3"
             },
             "line": {
              "color": "white"
             }
            },
            "type": "table"
           }
          ]
         },
         "layout": {
          "annotationdefaults": {
           "arrowcolor": "#2a3f5f",
           "arrowhead": 0,
           "arrowwidth": 1
          },
          "autotypenumbers": "strict",
          "coloraxis": {
           "colorbar": {
            "outlinewidth": 0,
            "ticks": ""
           }
          },
          "colorscale": {
           "diverging": [
            [
             0,
             "#8e0152"
            ],
            [
             0.1,
             "#c51b7d"
            ],
            [
             0.2,
             "#de77ae"
            ],
            [
             0.3,
             "#f1b6da"
            ],
            [
             0.4,
             "#fde0ef"
            ],
            [
             0.5,
             "#f7f7f7"
            ],
            [
             0.6,
             "#e6f5d0"
            ],
            [
             0.7,
             "#b8e186"
            ],
            [
             0.8,
             "#7fbc41"
            ],
            [
             0.9,
             "#4d9221"
            ],
            [
             1,
             "#276419"
            ]
           ],
           "sequential": [
            [
             0,
             "#0d0887"
            ],
            [
             0.1111111111111111,
             "#46039f"
            ],
            [
             0.2222222222222222,
             "#7201a8"
            ],
            [
             0.3333333333333333,
             "#9c179e"
            ],
            [
             0.4444444444444444,
             "#bd3786"
            ],
            [
             0.5555555555555556,
             "#d8576b"
            ],
            [
             0.6666666666666666,
             "#ed7953"
            ],
            [
             0.7777777777777778,
             "#fb9f3a"
            ],
            [
             0.8888888888888888,
             "#fdca26"
            ],
            [
             1,
             "#f0f921"
            ]
           ],
           "sequentialminus": [
            [
             0,
             "#0d0887"
            ],
            [
             0.1111111111111111,
             "#46039f"
            ],
            [
             0.2222222222222222,
             "#7201a8"
            ],
            [
             0.3333333333333333,
             "#9c179e"
            ],
            [
             0.4444444444444444,
             "#bd3786"
            ],
            [
             0.5555555555555556,
             "#d8576b"
            ],
            [
             0.6666666666666666,
             "#ed7953"
            ],
            [
             0.7777777777777778,
             "#fb9f3a"
            ],
            [
             0.8888888888888888,
             "#fdca26"
            ],
            [
             1,
             "#f0f921"
            ]
           ]
          },
          "colorway": [
           "#636efa",
           "#EF553B",
           "#00cc96",
           "#ab63fa",
           "#FFA15A",
           "#19d3f3",
           "#FF6692",
           "#B6E880",
           "#FF97FF",
           "#FECB52"
          ],
          "font": {
           "color": "#2a3f5f"
          },
          "geo": {
           "bgcolor": "white",
           "lakecolor": "white",
           "landcolor": "#E5ECF6",
           "showlakes": true,
           "showland": true,
           "subunitcolor": "white"
          },
          "hoverlabel": {
           "align": "left"
          },
          "hovermode": "closest",
          "mapbox": {
           "style": "light"
          },
          "paper_bgcolor": "white",
          "plot_bgcolor": "#E5ECF6",
          "polar": {
           "angularaxis": {
            "gridcolor": "white",
            "linecolor": "white",
            "ticks": ""
           },
           "bgcolor": "#E5ECF6",
           "radialaxis": {
            "gridcolor": "white",
            "linecolor": "white",
            "ticks": ""
           }
          },
          "scene": {
           "xaxis": {
            "backgroundcolor": "#E5ECF6",
            "gridcolor": "white",
            "gridwidth": 2,
            "linecolor": "white",
            "showbackground": true,
            "ticks": "",
            "zerolinecolor": "white"
           },
           "yaxis": {
            "backgroundcolor": "#E5ECF6",
            "gridcolor": "white",
            "gridwidth": 2,
            "linecolor": "white",
            "showbackground": true,
            "ticks": "",
            "zerolinecolor": "white"
           },
           "zaxis": {
            "backgroundcolor": "#E5ECF6",
            "gridcolor": "white",
            "gridwidth": 2,
            "linecolor": "white",
            "showbackground": true,
            "ticks": "",
            "zerolinecolor": "white"
           }
          },
          "shapedefaults": {
           "line": {
            "color": "#2a3f5f"
           }
          },
          "ternary": {
           "aaxis": {
            "gridcolor": "white",
            "linecolor": "white",
            "ticks": ""
           },
           "baxis": {
            "gridcolor": "white",
            "linecolor": "white",
            "ticks": ""
           },
           "bgcolor": "#E5ECF6",
           "caxis": {
            "gridcolor": "white",
            "linecolor": "white",
            "ticks": ""
           }
          },
          "title": {
           "x": 0.05
          },
          "xaxis": {
           "automargin": true,
           "gridcolor": "white",
           "linecolor": "white",
           "ticks": "",
           "title": {
            "standoff": 15
           },
           "zerolinecolor": "white",
           "zerolinewidth": 2
          },
          "yaxis": {
           "automargin": true,
           "gridcolor": "white",
           "linecolor": "white",
           "ticks": "",
           "title": {
            "standoff": 15
           },
           "zerolinecolor": "white",
           "zerolinewidth": 2
          }
         }
        },
        "title": {
         "text": "Gaussian Clusters with Centroids"
        },
        "width": 1000,
        "xaxis": {
         "title": {
          "text": "PCA 1"
         }
        },
        "yaxis": {
         "title": {
          "text": "PCA 2"
         }
        }
       }
      }
     },
     "metadata": {},
     "output_type": "display_data"
    }
   ],
   "source": [
    "X = getX(df)\n",
    "pca_result, pca_2_1 = pca_embeddings(X)\n",
    "kmeans = KMeans(n_clusters=4, init = 'k-means++', n_init=10)\n",
    "kmeans.fit(X)\n",
    "centroids = kmeans.cluster_centers_\n",
    "centroids_pca = pca_2_1.transform(centroids)\n",
    "visualizing_results_cluster(pca_result, kmeans.labels_, centroids_pca)\n"
   ]
  }
 ],
 "metadata": {
  "kernelspec": {
   "display_name": "machinelearning",
   "language": "python",
   "name": "python3"
  },
  "language_info": {
   "codemirror_mode": {
    "name": "ipython",
    "version": 3
   },
   "file_extension": ".py",
   "mimetype": "text/x-python",
   "name": "python",
   "nbconvert_exporter": "python",
   "pygments_lexer": "ipython3",
   "version": "3.11.0"
  },
  "orig_nbformat": 4
 },
 "nbformat": 4,
 "nbformat_minor": 2
}
